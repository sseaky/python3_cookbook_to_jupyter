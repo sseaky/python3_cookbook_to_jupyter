{
  "cells": [
    {
      "cell_type": "markdown",
      "metadata": {},
      "source": [
        "# \u7b2c\u516d\u7ae0\uff1a\u6570\u636e\u7f16\u7801\u548c\u5904\u7406\n \u8fd9\u4e00\u7ae0\u4e3b\u8981\u8ba8\u8bba\u4f7f\u7528Python\u5904\u7406\u5404\u79cd\u4e0d\u540c\u65b9\u5f0f\u7f16\u7801\u7684\u6570\u636e\uff0c\u6bd4\u5982CSV\u6587\u4ef6\uff0cJSON\uff0cXML\u548c\u4e8c\u8fdb\u5236\u5305\u88c5\u8bb0\u5f55\u3002\n\u548c\u6570\u636e\u7ed3\u6784\u90a3\u4e00\u7ae0\u4e0d\u540c\u7684\u662f\uff0c\u8fd9\u7ae0\u4e0d\u4f1a\u8ba8\u8bba\u7279\u6b8a\u7684\u7b97\u6cd5\u95ee\u9898\uff0c\u800c\u662f\u5173\u6ce8\u4e8e\u600e\u6837\u83b7\u53d6\u548c\u5b58\u50a8\u8fd9\u4e9b\u683c\u5f0f\u7684\u6570\u636e\u3002"
      ]
    },
    {
      "cell_type": "markdown",
      "metadata": {},
      "source": [
        "## 6.1 \u8bfb\u5199CSV\u6570\u636e\n"
      ]
    },
    {
      "cell_type": "markdown",
      "metadata": {},
      "source": [
        "### \u95ee\u9898\n"
      ]
    },
    {
      "cell_type": "markdown",
      "metadata": {},
      "source": [
        "\u4f60\u60f3\u8bfb\u5199\u4e00\u4e2aCSV\u683c\u5f0f\u7684\u6587\u4ef6\u3002"
      ]
    },
    {
      "cell_type": "markdown",
      "metadata": {},
      "source": [
        "### \u89e3\u51b3\u65b9\u6848\n"
      ]
    },
    {
      "cell_type": "markdown",
      "metadata": {},
      "source": [
        "\u5bf9\u4e8e\u5927\u591a\u6570\u7684CSV\u683c\u5f0f\u7684\u6570\u636e\u8bfb\u5199\u95ee\u9898\uff0c\u90fd\u53ef\u4ee5\u4f7f\u7528 csv \u5e93\u3002\n\u4f8b\u5982\uff1a\u5047\u8bbe\u4f60\u5728\u4e00\u4e2a\u540d\u53ebstocks.csv\u6587\u4ef6\u4e2d\u6709\u4e00\u4e9b\u80a1\u7968\u5e02\u573a\u6570\u636e\uff0c\u5c31\u50cf\u8fd9\u6837\uff1a"
      ]
    },
    {
      "cell_type": "code",
      "execution_count": null,
      "metadata": {},
      "outputs": [],
      "source": [
        "S\ny\nm\nb\no\nl\n,\nP\nr\ni\nc\ne\n,\nD\na\nt\ne\n,\nT\ni\nm\ne\n,\nC\nh\na\nn\ng\ne\n,\nV\no\nl\nu\nm\ne\n\n\n\"\nA\nA\n\"\n,\n3\n9\n.\n4\n8\n,\n\"\n6\n/\n1\n1\n/\n2\n0\n0\n7\n\"\n,\n\"\n9\n:\n3\n6\na\nm\n\"\n,\n-\n0\n.\n1\n8\n,\n1\n8\n1\n8\n0\n0\n\n\n\"\nA\nI\nG\n\"\n,\n7\n1\n.\n3\n8\n,\n\"\n6\n/\n1\n1\n/\n2\n0\n0\n7\n\"\n,\n\"\n9\n:\n3\n6\na\nm\n\"\n,\n-\n0\n.\n1\n5\n,\n1\n9\n5\n5\n0\n0\n\n\n\"\nA\nX\nP\n\"\n,\n6\n2\n.\n5\n8\n,\n\"\n6\n/\n1\n1\n/\n2\n0\n0\n7\n\"\n,\n\"\n9\n:\n3\n6\na\nm\n\"\n,\n-\n0\n.\n4\n6\n,\n9\n3\n5\n0\n0\n0\n\n\n\"\nB\nA\n\"\n,\n9\n8\n.\n3\n1\n,\n\"\n6\n/\n1\n1\n/\n2\n0\n0\n7\n\"\n,\n\"\n9\n:\n3\n6\na\nm\n\"\n,\n+\n0\n.\n1\n2\n,\n1\n0\n4\n8\n0\n0\n\n\n\"\nC\n\"\n,\n5\n3\n.\n0\n8\n,\n\"\n6\n/\n1\n1\n/\n2\n0\n0\n7\n\"\n,\n\"\n9\n:\n3\n6\na\nm\n\"\n,\n-\n0\n.\n2\n5\n,\n3\n6\n0\n9\n0\n0\n\n\n\"\nC\nA\nT\n\"\n,\n7\n8\n.\n2\n9\n,\n\"\n6\n/\n1\n1\n/\n2\n0\n0\n7\n\"\n,\n\"\n9\n:\n3\n6\na\nm\n\"\n,\n-\n0\n.\n2\n3\n,\n2\n2\n5\n4\n0\n0\n\n"
      ]
    },
    {
      "cell_type": "markdown",
      "metadata": {},
      "source": [
        "\u4e0b\u9762\u5411\u4f60\u5c55\u793a\u5982\u4f55\u5c06\u8fd9\u4e9b\u6570\u636e\u8bfb\u53d6\u4e3a\u4e00\u4e2a\u5143\u7ec4\u7684\u5e8f\u5217\uff1a"
      ]
    },
    {
      "cell_type": "code",
      "execution_count": null,
      "metadata": {},
      "outputs": [],
      "source": [
        "i\nm\np\no\nr\nt\n \nc\ns\nv\n\n\nw\ni\nt\nh\n \no\np\ne\nn\n(\n'\ns\nt\no\nc\nk\ns\n.\nc\ns\nv\n'\n)\n \na\ns\n \nf\n:\n\n\n \n \n \n \nf\n_\nc\ns\nv\n \n=\n \nc\ns\nv\n.\nr\ne\na\nd\ne\nr\n(\nf\n)\n\n\n \n \n \n \nh\ne\na\nd\ne\nr\ns\n \n=\n \nn\ne\nx\nt\n(\nf\n_\nc\ns\nv\n)\n\n\n \n \n \n \nf\no\nr\n \nr\no\nw\n \ni\nn\n \nf\n_\nc\ns\nv\n:\n\n\n \n \n \n \n \n \n \n \n#\n \nP\nr\no\nc\ne\ns\ns\n \nr\no\nw\n\n\n \n \n \n \n \n \n \n \n.\n.\n.\n\n"
      ]
    },
    {
      "cell_type": "markdown",
      "metadata": {},
      "source": [
        "\u5728\u4e0a\u9762\u7684\u4ee3\u7801\u4e2d\uff0c row \u4f1a\u662f\u4e00\u4e2a\u5217\u8868\u3002\u56e0\u6b64\uff0c\u4e3a\u4e86\u8bbf\u95ee\u67d0\u4e2a\u5b57\u6bb5\uff0c\u4f60\u9700\u8981\u4f7f\u7528\u4e0b\u6807\uff0c\u5982 row[0] \u8bbf\u95eeSymbol\uff0c row[4] \u8bbf\u95eeChange\u3002"
      ]
    },
    {
      "cell_type": "markdown",
      "metadata": {},
      "source": [
        "\u7531\u4e8e\u8fd9\u79cd\u4e0b\u6807\u8bbf\u95ee\u901a\u5e38\u4f1a\u5f15\u8d77\u6df7\u6dc6\uff0c\u4f60\u53ef\u4ee5\u8003\u8651\u4f7f\u7528\u547d\u540d\u5143\u7ec4\u3002\u4f8b\u5982\uff1a"
      ]
    },
    {
      "cell_type": "code",
      "execution_count": null,
      "metadata": {},
      "outputs": [],
      "source": [
        "f\nr\no\nm\n \nc\no\nl\nl\ne\nc\nt\ni\no\nn\ns\n \ni\nm\np\no\nr\nt\n \nn\na\nm\ne\nd\nt\nu\np\nl\ne\n\n\nw\ni\nt\nh\n \no\np\ne\nn\n(\n'\ns\nt\no\nc\nk\n.\nc\ns\nv\n'\n)\n \na\ns\n \nf\n:\n\n\n \n \n \n \nf\n_\nc\ns\nv\n \n=\n \nc\ns\nv\n.\nr\ne\na\nd\ne\nr\n(\nf\n)\n\n\n \n \n \n \nh\ne\na\nd\ni\nn\ng\ns\n \n=\n \nn\ne\nx\nt\n(\nf\n_\nc\ns\nv\n)\n\n\n \n \n \n \nR\no\nw\n \n=\n \nn\na\nm\ne\nd\nt\nu\np\nl\ne\n(\n'\nR\no\nw\n'\n,\n \nh\ne\na\nd\ni\nn\ng\ns\n)\n\n\n \n \n \n \nf\no\nr\n \nr\n \ni\nn\n \nf\n_\nc\ns\nv\n:\n\n\n \n \n \n \n \n \n \n \nr\no\nw\n \n=\n \nR\no\nw\n(\n*\nr\n)\n\n\n \n \n \n \n \n \n \n \n#\n \nP\nr\no\nc\ne\ns\ns\n \nr\no\nw\n\n\n \n \n \n \n \n \n \n \n.\n.\n.\n\n"
      ]
    },
    {
      "cell_type": "markdown",
      "metadata": {},
      "source": [
        "\u5b83\u5141\u8bb8\u4f60\u4f7f\u7528\u5217\u540d\u5982 row.Symbol \u548c row.Change \u4ee3\u66ff\u4e0b\u6807\u8bbf\u95ee\u3002\n\u9700\u8981\u6ce8\u610f\u7684\u662f\u8fd9\u4e2a\u53ea\u6709\u5728\u5217\u540d\u662f\u5408\u6cd5\u7684Python\u6807\u8bc6\u7b26\u7684\u65f6\u5019\u624d\u751f\u6548\u3002\u5982\u679c\u4e0d\u662f\u7684\u8bdd\uff0c\n\u4f60\u53ef\u80fd\u9700\u8981\u4fee\u6539\u4e0b\u539f\u59cb\u7684\u5217\u540d(\u5982\u5c06\u975e\u6807\u8bc6\u7b26\u5b57\u7b26\u66ff\u6362\u6210\u4e0b\u5212\u7ebf\u4e4b\u7c7b\u7684)\u3002"
      ]
    },
    {
      "cell_type": "markdown",
      "metadata": {},
      "source": [
        "\u53e6\u5916\u4e00\u4e2a\u9009\u62e9\u5c31\u662f\u5c06\u6570\u636e\u8bfb\u53d6\u5230\u4e00\u4e2a\u5b57\u5178\u5e8f\u5217\u4e2d\u53bb\u3002\u53ef\u4ee5\u8fd9\u6837\u505a\uff1a"
      ]
    },
    {
      "cell_type": "code",
      "execution_count": null,
      "metadata": {},
      "outputs": [],
      "source": [
        "i\nm\np\no\nr\nt\n \nc\ns\nv\n\n\nw\ni\nt\nh\n \no\np\ne\nn\n(\n'\ns\nt\no\nc\nk\ns\n.\nc\ns\nv\n'\n)\n \na\ns\n \nf\n:\n\n\n \n \n \n \nf\n_\nc\ns\nv\n \n=\n \nc\ns\nv\n.\nD\ni\nc\nt\nR\ne\na\nd\ne\nr\n(\nf\n)\n\n\n \n \n \n \nf\no\nr\n \nr\no\nw\n \ni\nn\n \nf\n_\nc\ns\nv\n:\n\n\n \n \n \n \n \n \n \n \n#\n \np\nr\no\nc\ne\ns\ns\n \nr\no\nw\n\n\n \n \n \n \n \n \n \n \n.\n.\n.\n\n"
      ]
    },
    {
      "cell_type": "markdown",
      "metadata": {},
      "source": [
        "\u5728\u8fd9\u4e2a\u7248\u672c\u4e2d\uff0c\u4f60\u53ef\u4ee5\u4f7f\u7528\u5217\u540d\u53bb\u8bbf\u95ee\u6bcf\u4e00\u884c\u7684\u6570\u636e\u4e86\u3002\u6bd4\u5982\uff0crow['Symbol'] \u6216\u8005 row['Change']"
      ]
    },
    {
      "cell_type": "markdown",
      "metadata": {},
      "source": [
        "\u4e3a\u4e86\u5199\u5165CSV\u6570\u636e\uff0c\u4f60\u4ecd\u7136\u53ef\u4ee5\u4f7f\u7528csv\u6a21\u5757\uff0c\u4e0d\u8fc7\u8fd9\u65f6\u5019\u5148\u521b\u5efa\u4e00\u4e2a writer \u5bf9\u8c61\u3002\u4f8b\u5982:"
      ]
    },
    {
      "cell_type": "code",
      "execution_count": null,
      "metadata": {},
      "outputs": [],
      "source": [
        "h\ne\na\nd\ne\nr\ns\n \n=\n \n[\n'\nS\ny\nm\nb\no\nl\n'\n,\n'\nP\nr\ni\nc\ne\n'\n,\n'\nD\na\nt\ne\n'\n,\n'\nT\ni\nm\ne\n'\n,\n'\nC\nh\na\nn\ng\ne\n'\n,\n'\nV\no\nl\nu\nm\ne\n'\n]\n\n\nr\no\nw\ns\n \n=\n \n[\n(\n'\nA\nA\n'\n,\n \n3\n9\n.\n4\n8\n,\n \n'\n6\n/\n1\n1\n/\n2\n0\n0\n7\n'\n,\n \n'\n9\n:\n3\n6\na\nm\n'\n,\n \n-\n0\n.\n1\n8\n,\n \n1\n8\n1\n8\n0\n0\n)\n,\n\n\n \n \n \n \n \n \n \n \n \n(\n'\nA\nI\nG\n'\n,\n \n7\n1\n.\n3\n8\n,\n \n'\n6\n/\n1\n1\n/\n2\n0\n0\n7\n'\n,\n \n'\n9\n:\n3\n6\na\nm\n'\n,\n \n-\n0\n.\n1\n5\n,\n \n1\n9\n5\n5\n0\n0\n)\n,\n\n\n \n \n \n \n \n \n \n \n \n(\n'\nA\nX\nP\n'\n,\n \n6\n2\n.\n5\n8\n,\n \n'\n6\n/\n1\n1\n/\n2\n0\n0\n7\n'\n,\n \n'\n9\n:\n3\n6\na\nm\n'\n,\n \n-\n0\n.\n4\n6\n,\n \n9\n3\n5\n0\n0\n0\n)\n,\n\n\n \n \n \n \n \n \n \n]\n\n\n\n\nw\ni\nt\nh\n \no\np\ne\nn\n(\n'\ns\nt\no\nc\nk\ns\n.\nc\ns\nv\n'\n,\n'\nw\n'\n)\n \na\ns\n \nf\n:\n\n\n \n \n \n \nf\n_\nc\ns\nv\n \n=\n \nc\ns\nv\n.\nw\nr\ni\nt\ne\nr\n(\nf\n)\n\n\n \n \n \n \nf\n_\nc\ns\nv\n.\nw\nr\ni\nt\ne\nr\no\nw\n(\nh\ne\na\nd\ne\nr\ns\n)\n\n\n \n \n \n \nf\n_\nc\ns\nv\n.\nw\nr\ni\nt\ne\nr\no\nw\ns\n(\nr\no\nw\ns\n)\n\n"
      ]
    },
    {
      "cell_type": "markdown",
      "metadata": {},
      "source": [
        "\u5982\u679c\u4f60\u6709\u4e00\u4e2a\u5b57\u5178\u5e8f\u5217\u7684\u6570\u636e\uff0c\u53ef\u4ee5\u50cf\u8fd9\u6837\u505a\uff1a"
      ]
    },
    {
      "cell_type": "code",
      "execution_count": null,
      "metadata": {},
      "outputs": [],
      "source": [
        "h\ne\na\nd\ne\nr\ns\n \n=\n \n[\n'\nS\ny\nm\nb\no\nl\n'\n,\n \n'\nP\nr\ni\nc\ne\n'\n,\n \n'\nD\na\nt\ne\n'\n,\n \n'\nT\ni\nm\ne\n'\n,\n \n'\nC\nh\na\nn\ng\ne\n'\n,\n \n'\nV\no\nl\nu\nm\ne\n'\n]\n\n\nr\no\nw\ns\n \n=\n \n[\n{\n'\nS\ny\nm\nb\no\nl\n'\n:\n'\nA\nA\n'\n,\n \n'\nP\nr\ni\nc\ne\n'\n:\n3\n9\n.\n4\n8\n,\n \n'\nD\na\nt\ne\n'\n:\n'\n6\n/\n1\n1\n/\n2\n0\n0\n7\n'\n,\n\n\n \n \n \n \n \n \n \n \n'\nT\ni\nm\ne\n'\n:\n'\n9\n:\n3\n6\na\nm\n'\n,\n \n'\nC\nh\na\nn\ng\ne\n'\n:\n-\n0\n.\n1\n8\n,\n \n'\nV\no\nl\nu\nm\ne\n'\n:\n1\n8\n1\n8\n0\n0\n}\n,\n\n\n \n \n \n \n \n \n \n \n{\n'\nS\ny\nm\nb\no\nl\n'\n:\n'\nA\nI\nG\n'\n,\n \n'\nP\nr\ni\nc\ne\n'\n:\n \n7\n1\n.\n3\n8\n,\n \n'\nD\na\nt\ne\n'\n:\n'\n6\n/\n1\n1\n/\n2\n0\n0\n7\n'\n,\n\n\n \n \n \n \n \n \n \n \n'\nT\ni\nm\ne\n'\n:\n'\n9\n:\n3\n6\na\nm\n'\n,\n \n'\nC\nh\na\nn\ng\ne\n'\n:\n-\n0\n.\n1\n5\n,\n \n'\nV\no\nl\nu\nm\ne\n'\n:\n \n1\n9\n5\n5\n0\n0\n}\n,\n\n\n \n \n \n \n \n \n \n \n{\n'\nS\ny\nm\nb\no\nl\n'\n:\n'\nA\nX\nP\n'\n,\n \n'\nP\nr\ni\nc\ne\n'\n:\n \n6\n2\n.\n5\n8\n,\n \n'\nD\na\nt\ne\n'\n:\n'\n6\n/\n1\n1\n/\n2\n0\n0\n7\n'\n,\n\n\n \n \n \n \n \n \n \n \n'\nT\ni\nm\ne\n'\n:\n'\n9\n:\n3\n6\na\nm\n'\n,\n \n'\nC\nh\na\nn\ng\ne\n'\n:\n-\n0\n.\n4\n6\n,\n \n'\nV\no\nl\nu\nm\ne\n'\n:\n \n9\n3\n5\n0\n0\n0\n}\n,\n\n\n \n \n \n \n \n \n \n \n]\n\n\n\n\nw\ni\nt\nh\n \no\np\ne\nn\n(\n'\ns\nt\no\nc\nk\ns\n.\nc\ns\nv\n'\n,\n'\nw\n'\n)\n \na\ns\n \nf\n:\n\n\n \n \n \n \nf\n_\nc\ns\nv\n \n=\n \nc\ns\nv\n.\nD\ni\nc\nt\nW\nr\ni\nt\ne\nr\n(\nf\n,\n \nh\ne\na\nd\ne\nr\ns\n)\n\n\n \n \n \n \nf\n_\nc\ns\nv\n.\nw\nr\ni\nt\ne\nh\ne\na\nd\ne\nr\n(\n)\n\n\n \n \n \n \nf\n_\nc\ns\nv\n.\nw\nr\ni\nt\ne\nr\no\nw\ns\n(\nr\no\nw\ns\n)\n\n"
      ]
    },
    {
      "cell_type": "markdown",
      "metadata": {},
      "source": [
        "### \u8ba8\u8bba\n"
      ]
    },
    {
      "cell_type": "markdown",
      "metadata": {},
      "source": [
        "\u4f60\u5e94\u8be5\u603b\u662f\u4f18\u5148\u9009\u62e9csv\u6a21\u5757\u5206\u5272\u6216\u89e3\u6790CSV\u6570\u636e\u3002\u4f8b\u5982\uff0c\u4f60\u53ef\u80fd\u4f1a\u50cf\u7f16\u5199\u7c7b\u4f3c\u4e0b\u9762\u8fd9\u6837\u7684\u4ee3\u7801\uff1a"
      ]
    },
    {
      "cell_type": "code",
      "execution_count": null,
      "metadata": {},
      "outputs": [],
      "source": [
        "w\ni\nt\nh\n \no\np\ne\nn\n(\n'\ns\nt\no\nc\nk\ns\n.\nc\ns\nv\n'\n)\n \na\ns\n \nf\n:\n\n\nf\no\nr\n \nl\ni\nn\ne\n \ni\nn\n \nf\n:\n\n\n \n \n \n \nr\no\nw\n \n=\n \nl\ni\nn\ne\n.\ns\np\nl\ni\nt\n(\n'\n,\n'\n)\n\n\n \n \n \n \n#\n \np\nr\no\nc\ne\ns\ns\n \nr\no\nw\n\n\n \n \n \n \n.\n.\n.\n\n"
      ]
    },
    {
      "cell_type": "markdown",
      "metadata": {},
      "source": [
        "\u4f7f\u7528\u8fd9\u79cd\u65b9\u5f0f\u7684\u4e00\u4e2a\u7f3a\u70b9\u5c31\u662f\u4f60\u4ecd\u7136\u9700\u8981\u53bb\u5904\u7406\u4e00\u4e9b\u68d8\u624b\u7684\u7ec6\u8282\u95ee\u9898\u3002\n\u6bd4\u5982\uff0c\u5982\u679c\u67d0\u4e9b\u5b57\u6bb5\u503c\u88ab\u5f15\u53f7\u5305\u56f4\uff0c\u4f60\u4e0d\u5f97\u4e0d\u53bb\u9664\u8fd9\u4e9b\u5f15\u53f7\u3002\n\u53e6\u5916\uff0c\u5982\u679c\u4e00\u4e2a\u88ab\u5f15\u53f7\u5305\u56f4\u7684\u5b57\u6bb5\u78b0\u5de7\u542b\u6709\u4e00\u4e2a\u9017\u53f7\uff0c\u90a3\u4e48\u7a0b\u5e8f\u5c31\u4f1a\u56e0\u4e3a\u4ea7\u751f\u4e00\u4e2a\u9519\u8bef\u5927\u5c0f\u7684\u884c\u800c\u51fa\u9519\u3002"
      ]
    },
    {
      "cell_type": "markdown",
      "metadata": {},
      "source": [
        "\u9ed8\u8ba4\u60c5\u51b5\u4e0b\uff0ccsv \u5e93\u53ef\u8bc6\u522bMicrosoft Excel\u6240\u4f7f\u7528\u7684CSV\u7f16\u7801\u89c4\u5219\u3002\n\u8fd9\u6216\u8bb8\u4e5f\u662f\u6700\u5e38\u89c1\u7684\u5f62\u5f0f\uff0c\u5e76\u4e14\u4e5f\u4f1a\u7ed9\u4f60\u5e26\u6765\u6700\u597d\u7684\u517c\u5bb9\u6027\u3002\n\u7136\u800c\uff0c\u5982\u679c\u4f60\u67e5\u770bcsv\u7684\u6587\u6863\uff0c\u5c31\u4f1a\u53d1\u73b0\u6709\u5f88\u591a\u79cd\u65b9\u6cd5\u5c06\u5b83\u5e94\u7528\u5230\u5176\u4ed6\u7f16\u7801\u683c\u5f0f\u4e0a(\u5982\u4fee\u6539\u5206\u5272\u5b57\u7b26\u7b49)\u3002\n\u4f8b\u5982\uff0c\u5982\u679c\u4f60\u60f3\u8bfb\u53d6\u4ee5tab\u5206\u5272\u7684\u6570\u636e\uff0c\u53ef\u4ee5\u8fd9\u6837\u505a\uff1a"
      ]
    },
    {
      "cell_type": "code",
      "execution_count": null,
      "metadata": {},
      "outputs": [],
      "source": [
        "#\n \nE\nx\na\nm\np\nl\ne\n \no\nf\n \nr\ne\na\nd\ni\nn\ng\n \nt\na\nb\n-\ns\ne\np\na\nr\na\nt\ne\nd\n \nv\na\nl\nu\ne\ns\n\n\nw\ni\nt\nh\n \no\np\ne\nn\n(\n'\ns\nt\no\nc\nk\n.\nt\ns\nv\n'\n)\n \na\ns\n \nf\n:\n\n\n \n \n \n \nf\n_\nt\ns\nv\n \n=\n \nc\ns\nv\n.\nr\ne\na\nd\ne\nr\n(\nf\n,\n \nd\ne\nl\ni\nm\ni\nt\ne\nr\n=\n'\n\\\nt\n'\n)\n\n\n \n \n \n \nf\no\nr\n \nr\no\nw\n \ni\nn\n \nf\n_\nt\ns\nv\n:\n\n\n \n \n \n \n \n \n \n \n#\n \nP\nr\no\nc\ne\ns\ns\n \nr\no\nw\n\n\n \n \n \n \n \n \n \n \n.\n.\n.\n\n"
      ]
    },
    {
      "cell_type": "markdown",
      "metadata": {},
      "source": [
        "\u5982\u679c\u4f60\u6b63\u5728\u8bfb\u53d6CSV\u6570\u636e\u5e76\u5c06\u5b83\u4eec\u8f6c\u6362\u4e3a\u547d\u540d\u5143\u7ec4\uff0c\u9700\u8981\u6ce8\u610f\u5bf9\u5217\u540d\u8fdb\u884c\u5408\u6cd5\u6027\u8ba4\u8bc1\u3002\n\u4f8b\u5982\uff0c\u4e00\u4e2aCSV\u683c\u5f0f\u6587\u4ef6\u6709\u4e00\u4e2a\u5305\u542b\u975e\u6cd5\u6807\u8bc6\u7b26\u7684\u5217\u5934\u884c\uff0c\u7c7b\u4f3c\u4e0b\u9762\u8fd9\u6837\uff1a"
      ]
    },
    {
      "cell_type": "code",
      "execution_count": null,
      "metadata": {},
      "outputs": [],
      "source": [
        "S\nt\nr\ne\ne\nt\n\u00a0\nA\nd\nd\nr\ne\ns\ns\n,\nN\nu\nm\n-\nP\nr\ne\nm\ni\ns\ne\ns\n,\nL\na\nt\ni\nt\nu\nd\ne\n,\nL\no\nn\ng\ni\nt\nu\nd\ne\n \n5\n4\n1\n2\n\u00a0\nN\n\u00a0\nC\nL\nA\nR\nK\n,\n1\n0\n,\n4\n1\n.\n9\n8\n0\n2\n6\n2\n,\n-\n8\n7\n.\n6\n6\n8\n4\n5\n2\n\n"
      ]
    },
    {
      "cell_type": "markdown",
      "metadata": {},
      "source": [
        "\u8fd9\u6837\u6700\u7ec8\u4f1a\u5bfc\u81f4\u5728\u521b\u5efa\u4e00\u4e2a\u547d\u540d\u5143\u7ec4\u65f6\u4ea7\u751f\u4e00\u4e2a ValueError \u5f02\u5e38\u800c\u5931\u8d25\u3002\n\u4e3a\u4e86\u89e3\u51b3\u8fd9\u95ee\u9898\uff0c\u4f60\u53ef\u80fd\u4e0d\u5f97\u4e0d\u5148\u53bb\u4fee\u6b63\u5217\u6807\u9898\u3002\n\u4f8b\u5982\uff0c\u53ef\u4ee5\u50cf\u4e0b\u9762\u8fd9\u6837\u5728\u975e\u6cd5\u6807\u8bc6\u7b26\u4e0a\u4f7f\u7528\u4e00\u4e2a\u6b63\u5219\u8868\u8fbe\u5f0f\u66ff\u6362\uff1a"
      ]
    },
    {
      "cell_type": "code",
      "execution_count": null,
      "metadata": {},
      "outputs": [],
      "source": [
        "i\nm\np\no\nr\nt\n \nr\ne\n\n\nw\ni\nt\nh\n \no\np\ne\nn\n(\n'\ns\nt\no\nc\nk\n.\nc\ns\nv\n'\n)\n \na\ns\n \nf\n:\n\n\n \n \n \n \nf\n_\nc\ns\nv\n \n=\n \nc\ns\nv\n.\nr\ne\na\nd\ne\nr\n(\nf\n)\n\n\n \n \n \n \nh\ne\na\nd\ne\nr\ns\n \n=\n \n[\n \nr\ne\n.\ns\nu\nb\n(\n'\n[\n^\na\n-\nz\nA\n-\nZ\n_\n]\n'\n,\n \n'\n_\n'\n,\n \nh\n)\n \nf\no\nr\n \nh\n \ni\nn\n \nn\ne\nx\nt\n(\nf\n_\nc\ns\nv\n)\n \n]\n\n\n \n \n \n \nR\no\nw\n \n=\n \nn\na\nm\ne\nd\nt\nu\np\nl\ne\n(\n'\nR\no\nw\n'\n,\n \nh\ne\na\nd\ne\nr\ns\n)\n\n\n \n \n \n \nf\no\nr\n \nr\n \ni\nn\n \nf\n_\nc\ns\nv\n:\n\n\n \n \n \n \n \n \n \n \nr\no\nw\n \n=\n \nR\no\nw\n(\n*\nr\n)\n\n\n \n \n \n \n \n \n \n \n#\n \nP\nr\no\nc\ne\ns\ns\n \nr\no\nw\n\n\n \n \n \n \n \n \n \n \n.\n.\n.\n\n"
      ]
    },
    {
      "cell_type": "markdown",
      "metadata": {},
      "source": [
        "\u8fd8\u6709\u91cd\u8981\u7684\u4e00\u70b9\u9700\u8981\u5f3a\u8c03\u7684\u662f\uff0ccsv\u4ea7\u751f\u7684\u6570\u636e\u90fd\u662f\u5b57\u7b26\u4e32\u7c7b\u578b\u7684\uff0c\u5b83\u4e0d\u4f1a\u505a\u4efb\u4f55\u5176\u4ed6\u7c7b\u578b\u7684\u8f6c\u6362\u3002\n\u5982\u679c\u4f60\u9700\u8981\u505a\u8fd9\u6837\u7684\u7c7b\u578b\u8f6c\u6362\uff0c\u4f60\u5fc5\u987b\u81ea\u5df1\u624b\u52a8\u53bb\u5b9e\u73b0\u3002\n\u4e0b\u9762\u662f\u4e00\u4e2a\u5728CSV\u6570\u636e\u4e0a\u6267\u884c\u5176\u4ed6\u7c7b\u578b\u8f6c\u6362\u7684\u4f8b\u5b50\uff1a"
      ]
    },
    {
      "cell_type": "code",
      "execution_count": null,
      "metadata": {},
      "outputs": [],
      "source": [
        "c\no\nl\n_\nt\ny\np\ne\ns\n \n=\n \n[\ns\nt\nr\n,\n \nf\nl\no\na\nt\n,\n \ns\nt\nr\n,\n \ns\nt\nr\n,\n \nf\nl\no\na\nt\n,\n \ni\nn\nt\n]\n\n\nw\ni\nt\nh\n \no\np\ne\nn\n(\n'\ns\nt\no\nc\nk\ns\n.\nc\ns\nv\n'\n)\n \na\ns\n \nf\n:\n\n\n \n \n \n \nf\n_\nc\ns\nv\n \n=\n \nc\ns\nv\n.\nr\ne\na\nd\ne\nr\n(\nf\n)\n\n\n \n \n \n \nh\ne\na\nd\ne\nr\ns\n \n=\n \nn\ne\nx\nt\n(\nf\n_\nc\ns\nv\n)\n\n\n \n \n \n \nf\no\nr\n \nr\no\nw\n \ni\nn\n \nf\n_\nc\ns\nv\n:\n\n\n \n \n \n \n \n \n \n \n#\n \nA\np\np\nl\ny\n \nc\no\nn\nv\ne\nr\ns\ni\no\nn\ns\n \nt\no\n \nt\nh\ne\n \nr\no\nw\n \ni\nt\ne\nm\ns\n\n\n \n \n \n \n \n \n \n \nr\no\nw\n \n=\n \nt\nu\np\nl\ne\n(\nc\no\nn\nv\ne\nr\nt\n(\nv\na\nl\nu\ne\n)\n \nf\no\nr\n \nc\no\nn\nv\ne\nr\nt\n,\n \nv\na\nl\nu\ne\n \ni\nn\n \nz\ni\np\n(\nc\no\nl\n_\nt\ny\np\ne\ns\n,\n \nr\no\nw\n)\n)\n\n\n \n \n \n \n \n \n \n \n.\n.\n.\n\n"
      ]
    },
    {
      "cell_type": "markdown",
      "metadata": {},
      "source": [
        "\u53e6\u5916\uff0c\u4e0b\u9762\u662f\u4e00\u4e2a\u8f6c\u6362\u5b57\u5178\u4e2d\u7279\u5b9a\u5b57\u6bb5\u7684\u4f8b\u5b50\uff1a"
      ]
    },
    {
      "cell_type": "code",
      "execution_count": null,
      "metadata": {},
      "outputs": [],
      "source": [
        "p\nr\ni\nn\nt\n(\n'\nR\ne\na\nd\ni\nn\ng\n \na\ns\n \nd\ni\nc\nt\ns\n \nw\ni\nt\nh\n \nt\ny\np\ne\n \nc\no\nn\nv\ne\nr\ns\ni\no\nn\n'\n)\n\n\nf\ni\ne\nl\nd\n_\nt\ny\np\ne\ns\n \n=\n \n[\n \n(\n'\nP\nr\ni\nc\ne\n'\n,\n \nf\nl\no\na\nt\n)\n,\n\n\n \n \n \n \n \n \n \n \n \n \n \n \n \n \n \n \n(\n'\nC\nh\na\nn\ng\ne\n'\n,\n \nf\nl\no\na\nt\n)\n,\n\n\n \n \n \n \n \n \n \n \n \n \n \n \n \n \n \n \n(\n'\nV\no\nl\nu\nm\ne\n'\n,\n \ni\nn\nt\n)\n \n]\n\n\n\n\nw\ni\nt\nh\n \no\np\ne\nn\n(\n'\ns\nt\no\nc\nk\ns\n.\nc\ns\nv\n'\n)\n \na\ns\n \nf\n:\n\n\n \n \n \n \nf\no\nr\n \nr\no\nw\n \ni\nn\n \nc\ns\nv\n.\nD\ni\nc\nt\nR\ne\na\nd\ne\nr\n(\nf\n)\n:\n\n\n \n \n \n \n \n \n \n \nr\no\nw\n.\nu\np\nd\na\nt\ne\n(\n(\nk\ne\ny\n,\n \nc\no\nn\nv\ne\nr\ns\ni\no\nn\n(\nr\no\nw\n[\nk\ne\ny\n]\n)\n)\n\n\n \n \n \n \n \n \n \n \n \n \n \n \n \n \n \n \nf\no\nr\n \nk\ne\ny\n,\n \nc\no\nn\nv\ne\nr\ns\ni\no\nn\n \ni\nn\n \nf\ni\ne\nl\nd\n_\nt\ny\np\ne\ns\n)\n\n\n \n \n \n \n \n \n \n \np\nr\ni\nn\nt\n(\nr\no\nw\n)\n\n"
      ]
    },
    {
      "cell_type": "markdown",
      "metadata": {},
      "source": [
        "\u901a\u5e38\u6765\u8bb2\uff0c\u4f60\u53ef\u80fd\u5e76\u4e0d\u60f3\u8fc7\u591a\u53bb\u8003\u8651\u8fd9\u4e9b\u8f6c\u6362\u95ee\u9898\u3002\n\u5728\u5b9e\u9645\u60c5\u51b5\u4e2d\uff0cCSV\u6587\u4ef6\u90fd\u6216\u591a\u6216\u5c11\u6709\u4e9b\u7f3a\u5931\u7684\u6570\u636e\uff0c\u88ab\u7834\u574f\u7684\u6570\u636e\u4ee5\u53ca\u5176\u5b83\u4e00\u4e9b\u8ba9\u8f6c\u6362\u5931\u8d25\u7684\u95ee\u9898\u3002\n\u56e0\u6b64\uff0c\u9664\u975e\u4f60\u7684\u6570\u636e\u786e\u5b9e\u6709\u4fdd\u969c\u662f\u51c6\u786e\u65e0\u8bef\u7684\uff0c\u5426\u5219\u4f60\u5fc5\u987b\u8003\u8651\u8fd9\u4e9b\u95ee\u9898(\u4f60\u53ef\u80fd\u9700\u8981\u589e\u52a0\u5408\u9002\u7684\u9519\u8bef\u5904\u7406\u673a\u5236)\u3002"
      ]
    },
    {
      "cell_type": "markdown",
      "metadata": {},
      "source": [
        "\u6700\u540e\uff0c\u5982\u679c\u4f60\u8bfb\u53d6CSV\u6570\u636e\u7684\u76ee\u7684\u662f\u505a\u6570\u636e\u5206\u6790\u548c\u7edf\u8ba1\u7684\u8bdd\uff0c\n\u4f60\u53ef\u80fd\u9700\u8981\u770b\u4e00\u770b Pandas \u5305\u3002Pandas \u5305\u542b\u4e86\u4e00\u4e2a\u975e\u5e38\u65b9\u4fbf\u7684\u51fd\u6570\u53eb pandas.read_csv() \uff0c\n\u5b83\u53ef\u4ee5\u52a0\u8f7dCSV\u6570\u636e\u5230\u4e00\u4e2a DataFrame \u5bf9\u8c61\u4e2d\u53bb\u3002\n\u7136\u540e\u5229\u7528\u8fd9\u4e2a\u5bf9\u8c61\u4f60\u5c31\u53ef\u4ee5\u751f\u6210\u5404\u79cd\u5f62\u5f0f\u7684\u7edf\u8ba1\u3001\u8fc7\u6ee4\u6570\u636e\u4ee5\u53ca\u6267\u884c\u5176\u4ed6\u9ad8\u7ea7\u64cd\u4f5c\u4e86\u3002\n\u57286.13\u5c0f\u8282\u4e2d\u4f1a\u6709\u8fd9\u6837\u4e00\u4e2a\u4f8b\u5b50\u3002"
      ]
    },
    {
      "cell_type": "markdown",
      "metadata": {},
      "source": [
        "## 6.2 \u8bfb\u5199JSON\u6570\u636e\n"
      ]
    },
    {
      "cell_type": "markdown",
      "metadata": {},
      "source": [
        "### \u95ee\u9898\n"
      ]
    },
    {
      "cell_type": "markdown",
      "metadata": {},
      "source": [
        "\u4f60\u60f3\u8bfb\u5199JSON(JavaScript Object Notation)\u7f16\u7801\u683c\u5f0f\u7684\u6570\u636e\u3002"
      ]
    },
    {
      "cell_type": "markdown",
      "metadata": {},
      "source": [
        "### \u89e3\u51b3\u65b9\u6848\n"
      ]
    },
    {
      "cell_type": "markdown",
      "metadata": {},
      "source": [
        "json \u6a21\u5757\u63d0\u4f9b\u4e86\u4e00\u79cd\u5f88\u7b80\u5355\u7684\u65b9\u5f0f\u6765\u7f16\u7801\u548c\u89e3\u7801JSON\u6570\u636e\u3002\n\u5176\u4e2d\u4e24\u4e2a\u4e3b\u8981\u7684\u51fd\u6570\u662f json.dumps() \u548c json.loads() \uff0c\n\u8981\u6bd4\u5176\u4ed6\u5e8f\u5217\u5316\u51fd\u6570\u5e93\u5982pickle\u7684\u63a5\u53e3\u5c11\u5f97\u591a\u3002\n\u4e0b\u9762\u6f14\u793a\u5982\u4f55\u5c06\u4e00\u4e2aPython\u6570\u636e\u7ed3\u6784\u8f6c\u6362\u4e3aJSON\uff1a"
      ]
    },
    {
      "cell_type": "code",
      "execution_count": null,
      "metadata": {},
      "outputs": [],
      "source": [
        "i\nm\np\no\nr\nt\n \nj\ns\no\nn\n\n\n\n\nd\na\nt\na\n \n=\n \n{\n\n\n \n \n \n \n'\nn\na\nm\ne\n'\n \n:\n \n'\nA\nC\nM\nE\n'\n,\n\n\n \n \n \n \n'\ns\nh\na\nr\ne\ns\n'\n \n:\n \n1\n0\n0\n,\n\n\n \n \n \n \n'\np\nr\ni\nc\ne\n'\n \n:\n \n5\n4\n2\n.\n2\n3\n\n\n}\n\n\n\n\nj\ns\no\nn\n_\ns\nt\nr\n \n=\n \nj\ns\no\nn\n.\nd\nu\nm\np\ns\n(\nd\na\nt\na\n)\n\n"
      ]
    },
    {
      "cell_type": "markdown",
      "metadata": {},
      "source": [
        "\u4e0b\u9762\u6f14\u793a\u5982\u4f55\u5c06\u4e00\u4e2aJSON\u7f16\u7801\u7684\u5b57\u7b26\u4e32\u8f6c\u6362\u56de\u4e00\u4e2aPython\u6570\u636e\u7ed3\u6784\uff1a"
      ]
    },
    {
      "cell_type": "code",
      "execution_count": null,
      "metadata": {},
      "outputs": [],
      "source": [
        "d\na\nt\na\n \n=\n \nj\ns\no\nn\n.\nl\no\na\nd\ns\n(\nj\ns\no\nn\n_\ns\nt\nr\n)\n\n"
      ]
    },
    {
      "cell_type": "markdown",
      "metadata": {},
      "source": [
        "\u5982\u679c\u4f60\u8981\u5904\u7406\u7684\u662f\u6587\u4ef6\u800c\u4e0d\u662f\u5b57\u7b26\u4e32\uff0c\u4f60\u53ef\u4ee5\u4f7f\u7528 json.dump() \u548c json.load() \u6765\u7f16\u7801\u548c\u89e3\u7801JSON\u6570\u636e\u3002\u4f8b\u5982\uff1a"
      ]
    },
    {
      "cell_type": "code",
      "execution_count": null,
      "metadata": {},
      "outputs": [],
      "source": [
        "#\n \nW\nr\ni\nt\ni\nn\ng\n \nJ\nS\nO\nN\n \nd\na\nt\na\n\n\nw\ni\nt\nh\n \no\np\ne\nn\n(\n'\nd\na\nt\na\n.\nj\ns\no\nn\n'\n,\n \n'\nw\n'\n)\n \na\ns\n \nf\n:\n\n\n \n \n \n \nj\ns\no\nn\n.\nd\nu\nm\np\n(\nd\na\nt\na\n,\n \nf\n)\n\n\n\n\n#\n \nR\ne\na\nd\ni\nn\ng\n \nd\na\nt\na\n \nb\na\nc\nk\n\n\nw\ni\nt\nh\n \no\np\ne\nn\n(\n'\nd\na\nt\na\n.\nj\ns\no\nn\n'\n,\n \n'\nr\n'\n)\n \na\ns\n \nf\n:\n\n\n \n \n \n \nd\na\nt\na\n \n=\n \nj\ns\no\nn\n.\nl\no\na\nd\n(\nf\n)\n\n"
      ]
    },
    {
      "cell_type": "markdown",
      "metadata": {},
      "source": [
        "### \u8ba8\u8bba\n"
      ]
    },
    {
      "cell_type": "markdown",
      "metadata": {},
      "source": [
        "JSON\u7f16\u7801\u652f\u6301\u7684\u57fa\u672c\u6570\u636e\u7c7b\u578b\u4e3a None \uff0c bool \uff0c int \uff0c float \u548c str \uff0c\n\u4ee5\u53ca\u5305\u542b\u8fd9\u4e9b\u7c7b\u578b\u6570\u636e\u7684lists\uff0ctuples\u548cdictionaries\u3002\n\u5bf9\u4e8edictionaries\uff0ckeys\u9700\u8981\u662f\u5b57\u7b26\u4e32\u7c7b\u578b(\u5b57\u5178\u4e2d\u4efb\u4f55\u975e\u5b57\u7b26\u4e32\u7c7b\u578b\u7684key\u5728\u7f16\u7801\u65f6\u4f1a\u5148\u8f6c\u6362\u4e3a\u5b57\u7b26\u4e32)\u3002\n\u4e3a\u4e86\u9075\u5faaJSON\u89c4\u8303\uff0c\u4f60\u5e94\u8be5\u53ea\u7f16\u7801Python\u7684lists\u548cdictionaries\u3002\n\u800c\u4e14\uff0c\u5728web\u5e94\u7528\u7a0b\u5e8f\u4e2d\uff0c\u9876\u5c42\u5bf9\u8c61\u88ab\u7f16\u7801\u4e3a\u4e00\u4e2a\u5b57\u5178\u662f\u4e00\u4e2a\u6807\u51c6\u505a\u6cd5\u3002"
      ]
    },
    {
      "cell_type": "markdown",
      "metadata": {},
      "source": [
        "JSON\u7f16\u7801\u7684\u683c\u5f0f\u5bf9\u4e8ePython\u8bed\u6cd5\u800c\u5df2\u51e0\u4e4e\u662f\u5b8c\u5168\u4e00\u6837\u7684\uff0c\u9664\u4e86\u4e00\u4e9b\u5c0f\u7684\u5dee\u5f02\u4e4b\u5916\u3002\n\u6bd4\u5982\uff0cTrue\u4f1a\u88ab\u6620\u5c04\u4e3atrue\uff0cFalse\u88ab\u6620\u5c04\u4e3afalse\uff0c\u800cNone\u4f1a\u88ab\u6620\u5c04\u4e3anull\u3002\n\u4e0b\u9762\u662f\u4e00\u4e2a\u4f8b\u5b50\uff0c\u6f14\u793a\u4e86\u7f16\u7801\u540e\u7684\u5b57\u7b26\u4e32\u6548\u679c\uff1a"
      ]
    },
    {
      "cell_type": "code",
      "execution_count": null,
      "metadata": {},
      "outputs": [],
      "source": [
        "json.dumps(False)"
      ]
    },
    {
      "cell_type": "code",
      "execution_count": null,
      "metadata": {},
      "outputs": [],
      "source": [
        "d = {'a': True,\n    'b': 'Hello',\n    'c': None}\njson.dumps(d)"
      ]
    },
    {
      "cell_type": "markdown",
      "metadata": {},
      "source": [
        "\u5982\u679c\u4f60\u8bd5\u7740\u53bb\u68c0\u67e5JSON\u89e3\u7801\u540e\u7684\u6570\u636e\uff0c\u4f60\u901a\u5e38\u5f88\u96be\u901a\u8fc7\u7b80\u5355\u7684\u6253\u5370\u6765\u786e\u5b9a\u5b83\u7684\u7ed3\u6784\uff0c\n\u7279\u522b\u662f\u5f53\u6570\u636e\u7684\u5d4c\u5957\u7ed3\u6784\u5c42\u6b21\u5f88\u6df1\u6216\u8005\u5305\u542b\u5927\u91cf\u7684\u5b57\u6bb5\u65f6\u3002\n\u4e3a\u4e86\u89e3\u51b3\u8fd9\u4e2a\u95ee\u9898\uff0c\u53ef\u4ee5\u8003\u8651\u4f7f\u7528pprint\u6a21\u5757\u7684 pprint() \u51fd\u6570\u6765\u4ee3\u66ff\u666e\u901a\u7684 print() \u51fd\u6570\u3002\n\u5b83\u4f1a\u6309\u7167key\u7684\u5b57\u6bcd\u987a\u5e8f\u5e76\u4ee5\u4e00\u79cd\u66f4\u52a0\u7f8e\u89c2\u7684\u65b9\u5f0f\u8f93\u51fa\u3002\n\u4e0b\u9762\u662f\u4e00\u4e2a\u6f14\u793a\u5982\u4f55\u6f02\u4eae\u7684\u6253\u5370\u8f93\u51faTwitter\u4e0a\u641c\u7d22\u7ed3\u679c\u7684\u4f8b\u5b50\uff1a"
      ]
    },
    {
      "cell_type": "code",
      "execution_count": null,
      "metadata": {},
      "outputs": [],
      "source": [
        "from urllib.request import urlopen\nimport json\nu = urlopen('http://search.twitter.com/search.json?q=python&rpp=5')\nresp = json.loads(u.read().decode('utf-8'))\nfrom pprint import pprint\npprint(resp)"
      ]
    },
    {
      "cell_type": "markdown",
      "metadata": {},
      "source": [
        "\u4e00\u822c\u6765\u8bb2\uff0cJSON\u89e3\u7801\u4f1a\u6839\u636e\u63d0\u4f9b\u7684\u6570\u636e\u521b\u5efadicts\u6216lists\u3002\n\u5982\u679c\u4f60\u60f3\u8981\u521b\u5efa\u5176\u4ed6\u7c7b\u578b\u7684\u5bf9\u8c61\uff0c\u53ef\u4ee5\u7ed9 json.loads() \u4f20\u9012object_pairs_hook\u6216object_hook\u53c2\u6570\u3002\n\u4f8b\u5982\uff0c\u4e0b\u9762\u662f\u6f14\u793a\u5982\u4f55\u89e3\u7801JSON\u6570\u636e\u5e76\u5728\u4e00\u4e2aOrderedDict\u4e2d\u4fdd\u7559\u5176\u987a\u5e8f\u7684\u4f8b\u5b50\uff1a"
      ]
    },
    {
      "cell_type": "code",
      "execution_count": null,
      "metadata": {},
      "outputs": [],
      "source": [
        "s = '{\"name\": \"ACME\", \"shares\": 50, \"price\": 490.1}'\nfrom collections import OrderedDict\ndata = json.loads(s, object_pairs_hook=OrderedDict)\ndata"
      ]
    },
    {
      "cell_type": "markdown",
      "metadata": {},
      "source": [
        "\u4e0b\u9762\u662f\u5982\u4f55\u5c06\u4e00\u4e2aJSON\u5b57\u5178\u8f6c\u6362\u4e3a\u4e00\u4e2aPython\u5bf9\u8c61\u4f8b\u5b50\uff1a"
      ]
    },
    {
      "cell_type": "code",
      "execution_count": null,
      "metadata": {},
      "outputs": [],
      "source": [
        "class JSONObject:\n    def __init__(self, d):\n        self.__dict__ = d\ndata = json.loads(s, object_hook=JSONObject)\ndata.name"
      ]
    },
    {
      "cell_type": "code",
      "execution_count": null,
      "metadata": {},
      "outputs": [],
      "source": [
        "data.shares"
      ]
    },
    {
      "cell_type": "code",
      "execution_count": null,
      "metadata": {},
      "outputs": [],
      "source": [
        "data.price"
      ]
    },
    {
      "cell_type": "markdown",
      "metadata": {},
      "source": [
        "\u6700\u540e\u4e00\u4e2a\u4f8b\u5b50\u4e2d\uff0cJSON\u89e3\u7801\u540e\u7684\u5b57\u5178\u4f5c\u4e3a\u4e00\u4e2a\u5355\u4e2a\u53c2\u6570\u4f20\u9012\u7ed9 __init__() \u3002\n\u7136\u540e\uff0c\u4f60\u5c31\u53ef\u4ee5\u968f\u5fc3\u6240\u6b32\u7684\u4f7f\u7528\u5b83\u4e86\uff0c\u6bd4\u5982\u4f5c\u4e3a\u4e00\u4e2a\u5b9e\u4f8b\u5b57\u5178\u6765\u76f4\u63a5\u4f7f\u7528\u5b83\u3002"
      ]
    },
    {
      "cell_type": "markdown",
      "metadata": {},
      "source": [
        "\u5728\u7f16\u7801JSON\u7684\u65f6\u5019\uff0c\u8fd8\u6709\u4e00\u4e9b\u9009\u9879\u5f88\u6709\u7528\u3002\n\u5982\u679c\u4f60\u60f3\u83b7\u5f97\u6f02\u4eae\u7684\u683c\u5f0f\u5316\u5b57\u7b26\u4e32\u540e\u8f93\u51fa\uff0c\u53ef\u4ee5\u4f7f\u7528 json.dumps() \u7684indent\u53c2\u6570\u3002\n\u5b83\u4f1a\u4f7f\u5f97\u8f93\u51fa\u548cpprint()\u51fd\u6570\u6548\u679c\u7c7b\u4f3c\u3002\u6bd4\u5982\uff1a"
      ]
    },
    {
      "cell_type": "code",
      "execution_count": null,
      "metadata": {},
      "outputs": [],
      "source": [
        "print(json.dumps(data))"
      ]
    },
    {
      "cell_type": "code",
      "execution_count": null,
      "metadata": {},
      "outputs": [],
      "source": [
        "print(json.dumps(data, indent=4))"
      ]
    },
    {
      "cell_type": "markdown",
      "metadata": {},
      "source": [
        "\u5bf9\u8c61\u5b9e\u4f8b\u901a\u5e38\u5e76\u4e0d\u662fJSON\u53ef\u5e8f\u5217\u5316\u7684\u3002\u4f8b\u5982\uff1a"
      ]
    },
    {
      "cell_type": "code",
      "execution_count": null,
      "metadata": {},
      "outputs": [],
      "source": [
        "class Point:\n    def __init__(self, x, y):\n        self.x = x\n        self.y = y\np = Point(2, 3)\njson.dumps(p)"
      ]
    },
    {
      "cell_type": "markdown",
      "metadata": {},
      "source": [
        "\u5982\u679c\u4f60\u60f3\u5e8f\u5217\u5316\u5bf9\u8c61\u5b9e\u4f8b\uff0c\u4f60\u53ef\u4ee5\u63d0\u4f9b\u4e00\u4e2a\u51fd\u6570\uff0c\u5b83\u7684\u8f93\u5165\u662f\u4e00\u4e2a\u5b9e\u4f8b\uff0c\u8fd4\u56de\u4e00\u4e2a\u53ef\u5e8f\u5217\u5316\u7684\u5b57\u5178\u3002\u4f8b\u5982\uff1a"
      ]
    },
    {
      "cell_type": "code",
      "execution_count": null,
      "metadata": {},
      "outputs": [],
      "source": [
        "d\ne\nf\n \ns\ne\nr\ni\na\nl\ni\nz\ne\n_\ni\nn\ns\nt\na\nn\nc\ne\n(\no\nb\nj\n)\n:\n\n\n \n \n \n \nd\n \n=\n \n{\n \n'\n_\n_\nc\nl\na\ns\ns\nn\na\nm\ne\n_\n_\n'\n \n:\n \nt\ny\np\ne\n(\no\nb\nj\n)\n.\n_\n_\nn\na\nm\ne\n_\n_\n \n}\n\n\n \n \n \n \nd\n.\nu\np\nd\na\nt\ne\n(\nv\na\nr\ns\n(\no\nb\nj\n)\n)\n\n\n \n \n \n \nr\ne\nt\nu\nr\nn\n \nd\n\n"
      ]
    },
    {
      "cell_type": "markdown",
      "metadata": {},
      "source": [
        "\u5982\u679c\u4f60\u60f3\u53cd\u8fc7\u6765\u83b7\u53d6\u8fd9\u4e2a\u5b9e\u4f8b\uff0c\u53ef\u4ee5\u8fd9\u6837\u505a\uff1a"
      ]
    },
    {
      "cell_type": "code",
      "execution_count": null,
      "metadata": {},
      "outputs": [],
      "source": [
        "#\n \nD\ni\nc\nt\ni\no\nn\na\nr\ny\n \nm\na\np\np\ni\nn\ng\n \nn\na\nm\ne\ns\n \nt\no\n \nk\nn\no\nw\nn\n \nc\nl\na\ns\ns\ne\ns\n\n\nc\nl\na\ns\ns\ne\ns\n \n=\n \n{\n\n\n \n \n \n \n'\nP\no\ni\nn\nt\n'\n \n:\n \nP\no\ni\nn\nt\n\n\n}\n\n\n\n\nd\ne\nf\n \nu\nn\ns\ne\nr\ni\na\nl\ni\nz\ne\n_\no\nb\nj\ne\nc\nt\n(\nd\n)\n:\n\n\n \n \n \n \nc\nl\ns\nn\na\nm\ne\n \n=\n \nd\n.\np\no\np\n(\n'\n_\n_\nc\nl\na\ns\ns\nn\na\nm\ne\n_\n_\n'\n,\n \nN\no\nn\ne\n)\n\n\n \n \n \n \ni\nf\n \nc\nl\ns\nn\na\nm\ne\n:\n\n\n \n \n \n \n \n \n \n \nc\nl\ns\n \n=\n \nc\nl\na\ns\ns\ne\ns\n[\nc\nl\ns\nn\na\nm\ne\n]\n\n\n \n \n \n \n \n \n \n \no\nb\nj\n \n=\n \nc\nl\ns\n.\n_\n_\nn\ne\nw\n_\n_\n(\nc\nl\ns\n)\n \n#\n \nM\na\nk\ne\n \ni\nn\ns\nt\na\nn\nc\ne\n \nw\ni\nt\nh\no\nu\nt\n \nc\na\nl\nl\ni\nn\ng\n \n_\n_\ni\nn\ni\nt\n_\n_\n\n\n \n \n \n \n \n \n \n \nf\no\nr\n \nk\ne\ny\n,\n \nv\na\nl\nu\ne\n \ni\nn\n \nd\n.\ni\nt\ne\nm\ns\n(\n)\n:\n\n\n \n \n \n \n \n \n \n \n \n \n \n \ns\ne\nt\na\nt\nt\nr\n(\no\nb\nj\n,\n \nk\ne\ny\n,\n \nv\na\nl\nu\ne\n)\n\n\n \n \n \n \n \n \n \n \nr\ne\nt\nu\nr\nn\n \no\nb\nj\n\n\n \n \n \n \ne\nl\ns\ne\n:\n\n\n \n \n \n \n \n \n \n \nr\ne\nt\nu\nr\nn\n \nd\n\n"
      ]
    },
    {
      "cell_type": "markdown",
      "metadata": {},
      "source": [
        "\u4e0b\u9762\u662f\u5982\u4f55\u4f7f\u7528\u8fd9\u4e9b\u51fd\u6570\u7684\u4f8b\u5b50\uff1a"
      ]
    },
    {
      "cell_type": "code",
      "execution_count": null,
      "metadata": {},
      "outputs": [],
      "source": [
        "p = Point(2,3)\ns = json.dumps(p, default=serialize_instance)\ns"
      ]
    },
    {
      "cell_type": "code",
      "execution_count": null,
      "metadata": {},
      "outputs": [],
      "source": [
        "a = json.loads(s, object_hook=unserialize_object)\na"
      ]
    },
    {
      "cell_type": "code",
      "execution_count": null,
      "metadata": {},
      "outputs": [],
      "source": [
        "a.x"
      ]
    },
    {
      "cell_type": "code",
      "execution_count": null,
      "metadata": {},
      "outputs": [],
      "source": [
        "a.y"
      ]
    },
    {
      "cell_type": "markdown",
      "metadata": {},
      "source": [
        "json \u6a21\u5757\u8fd8\u6709\u5f88\u591a\u5176\u4ed6\u9009\u9879\u6765\u63a7\u5236\u66f4\u4f4e\u7ea7\u522b\u7684\u6570\u5b57\u3001\u7279\u6b8a\u503c\u5982NaN\u7b49\u7684\u89e3\u6790\u3002\n\u53ef\u4ee5\u53c2\u8003\u5b98\u65b9\u6587\u6863\u83b7\u53d6\u66f4\u591a\u7ec6\u8282\u3002"
      ]
    },
    {
      "cell_type": "markdown",
      "metadata": {},
      "source": [
        "## 6.3 \u89e3\u6790\u7b80\u5355\u7684XML\u6570\u636e\n"
      ]
    },
    {
      "cell_type": "markdown",
      "metadata": {},
      "source": [
        "### \u95ee\u9898\n"
      ]
    },
    {
      "cell_type": "markdown",
      "metadata": {},
      "source": [
        "\u4f60\u60f3\u4ece\u4e00\u4e2a\u7b80\u5355\u7684XML\u6587\u6863\u4e2d\u63d0\u53d6\u6570\u636e\u3002"
      ]
    },
    {
      "cell_type": "markdown",
      "metadata": {},
      "source": [
        "### \u89e3\u51b3\u65b9\u6848\n"
      ]
    },
    {
      "cell_type": "markdown",
      "metadata": {},
      "source": [
        "\u53ef\u4ee5\u4f7f\u7528 xml.etree.ElementTree \u6a21\u5757\u4ece\u7b80\u5355\u7684XML\u6587\u6863\u4e2d\u63d0\u53d6\u6570\u636e\u3002\n\u4e3a\u4e86\u6f14\u793a\uff0c\u5047\u8bbe\u4f60\u60f3\u89e3\u6790Planet Python\u4e0a\u7684RSS\u6e90\u3002\u4e0b\u9762\u662f\u76f8\u5e94\u7684\u4ee3\u7801\uff1a"
      ]
    },
    {
      "cell_type": "code",
      "execution_count": null,
      "metadata": {},
      "outputs": [],
      "source": [
        "f\nr\no\nm\n \nu\nr\nl\nl\ni\nb\n.\nr\ne\nq\nu\ne\ns\nt\n \ni\nm\np\no\nr\nt\n \nu\nr\nl\no\np\ne\nn\n\n\nf\nr\no\nm\n \nx\nm\nl\n.\ne\nt\nr\ne\ne\n.\nE\nl\ne\nm\ne\nn\nt\nT\nr\ne\ne\n \ni\nm\np\no\nr\nt\n \np\na\nr\ns\ne\n\n\n\n\n#\n \nD\no\nw\nn\nl\no\na\nd\n \nt\nh\ne\n \nR\nS\nS\n \nf\ne\ne\nd\n \na\nn\nd\n \np\na\nr\ns\ne\n \ni\nt\n\n\nu\n \n=\n \nu\nr\nl\no\np\ne\nn\n(\n'\nh\nt\nt\np\n:\n/\n/\np\nl\na\nn\ne\nt\n.\np\ny\nt\nh\no\nn\n.\no\nr\ng\n/\nr\ns\ns\n2\n0\n.\nx\nm\nl\n'\n)\n\n\nd\no\nc\n \n=\n \np\na\nr\ns\ne\n(\nu\n)\n\n\n\n\n#\n \nE\nx\nt\nr\na\nc\nt\n \na\nn\nd\n \no\nu\nt\np\nu\nt\n \nt\na\ng\ns\n \no\nf\n \ni\nn\nt\ne\nr\ne\ns\nt\n\n\nf\no\nr\n \ni\nt\ne\nm\n \ni\nn\n \nd\no\nc\n.\ni\nt\ne\nr\nf\ni\nn\nd\n(\n'\nc\nh\na\nn\nn\ne\nl\n/\ni\nt\ne\nm\n'\n)\n:\n\n\n \n \n \n \nt\ni\nt\nl\ne\n \n=\n \ni\nt\ne\nm\n.\nf\ni\nn\nd\nt\ne\nx\nt\n(\n'\nt\ni\nt\nl\ne\n'\n)\n\n\n \n \n \n \nd\na\nt\ne\n \n=\n \ni\nt\ne\nm\n.\nf\ni\nn\nd\nt\ne\nx\nt\n(\n'\np\nu\nb\nD\na\nt\ne\n'\n)\n\n\n \n \n \n \nl\ni\nn\nk\n \n=\n \ni\nt\ne\nm\n.\nf\ni\nn\nd\nt\ne\nx\nt\n(\n'\nl\ni\nn\nk\n'\n)\n\n\n\n\n \n \n \n \np\nr\ni\nn\nt\n(\nt\ni\nt\nl\ne\n)\n\n\n \n \n \n \np\nr\ni\nn\nt\n(\nd\na\nt\ne\n)\n\n\n \n \n \n \np\nr\ni\nn\nt\n(\nl\ni\nn\nk\n)\n\n\n \n \n \n \np\nr\ni\nn\nt\n(\n)\n\n"
      ]
    },
    {
      "cell_type": "markdown",
      "metadata": {},
      "source": [
        "\u8fd0\u884c\u4e0a\u9762\u7684\u4ee3\u7801\uff0c\u8f93\u51fa\u7ed3\u679c\u7c7b\u4f3c\u8fd9\u6837\uff1a"
      ]
    },
    {
      "cell_type": "code",
      "execution_count": null,
      "metadata": {},
      "outputs": [],
      "source": [
        "S\nt\ne\nv\ne\n \nH\no\nl\nd\ne\nn\n:\n \nP\ny\nt\nh\no\nn\n \nf\no\nr\n \nD\na\nt\na\n \nA\nn\na\nl\ny\ns\ni\ns\n\n\nM\no\nn\n,\n \n1\n9\n \nN\no\nv\n \n2\n0\n1\n2\n \n0\n2\n:\n1\n3\n:\n5\n1\n \n+\n0\n0\n0\n0\n\n\nh\nt\nt\np\n:\n/\n/\nh\no\nl\nd\ne\nn\nw\ne\nb\n.\nb\nl\no\ng\ns\np\no\nt\n.\nc\no\nm\n/\n2\n0\n1\n2\n/\n1\n1\n/\np\ny\nt\nh\no\nn\n-\nf\no\nr\n-\nd\na\nt\na\n-\na\nn\na\nl\ny\ns\ni\ns\n.\nh\nt\nm\nl\n\n\n\n\nV\na\ns\nu\nd\ne\nv\n \nR\na\nm\n:\n \nT\nh\ne\n \nP\ny\nt\nh\no\nn\n \nD\na\nt\na\n \nm\no\nd\ne\nl\n \n(\nf\no\nr\n \nv\n2\n \na\nn\nd\n \nv\n3\n)\n\n\nS\nu\nn\n,\n \n1\n8\n \nN\no\nv\n \n2\n0\n1\n2\n \n2\n2\n:\n0\n6\n:\n4\n7\n \n+\n0\n0\n0\n0\n\n\nh\nt\nt\np\n:\n/\n/\nj\nu\ng\na\nd\n2\n.\nb\nl\no\ng\ns\np\no\nt\n.\nc\no\nm\n/\n2\n0\n1\n2\n/\n1\n1\n/\nt\nh\ne\n-\np\ny\nt\nh\no\nn\n-\nd\na\nt\na\n-\nm\no\nd\ne\nl\n.\nh\nt\nm\nl\n\n\n\n\nP\ny\nt\nh\no\nn\n \nD\ni\na\nr\ny\n:\n \nB\ne\ne\nn\n \np\nl\na\ny\ni\nn\ng\n \na\nr\no\nu\nn\nd\n \nw\ni\nt\nh\n \nO\nb\nj\ne\nc\nt\n \nD\na\nt\na\nb\na\ns\ne\ns\n\n\nS\nu\nn\n,\n \n1\n8\n \nN\no\nv\n \n2\n0\n1\n2\n \n2\n0\n:\n4\n0\n:\n2\n9\n \n+\n0\n0\n0\n0\n\n\nh\nt\nt\np\n:\n/\n/\nw\nw\nw\n.\np\ny\nt\nh\no\nn\nd\ni\na\nr\ny\n.\nc\no\nm\n/\nb\nl\no\ng\n/\nN\no\nv\n.\n1\n8\n,\n2\n0\n1\n2\n/\nb\ne\ne\nn\n-\n.\n.\n.\n-\no\nb\nj\ne\nc\nt\n-\nd\na\nt\na\nb\na\ns\ne\ns\n.\nh\nt\nm\nl\n\n\n\n\nV\na\ns\nu\nd\ne\nv\n \nR\na\nm\n:\n \nW\na\nk\na\nr\ni\n,\n \nS\nc\ni\ne\nn\nt\ni\nf\ni\nc\n \nP\ny\nt\nh\no\nn\n \ni\nn\n \nt\nh\ne\n \nc\nl\no\nu\nd\n\n\nS\nu\nn\n,\n \n1\n8\n \nN\no\nv\n \n2\n0\n1\n2\n \n2\n0\n:\n1\n9\n:\n4\n1\n \n+\n0\n0\n0\n0\n\n\nh\nt\nt\np\n:\n/\n/\nj\nu\ng\na\nd\n2\n.\nb\nl\no\ng\ns\np\no\nt\n.\nc\no\nm\n/\n2\n0\n1\n2\n/\n1\n1\n/\nw\na\nk\na\nr\ni\n-\ns\nc\ni\ne\nn\nt\ni\nf\ni\nc\n-\np\ny\nt\nh\no\nn\n-\ni\nn\n-\nc\nl\no\nu\nd\n.\nh\nt\nm\nl\n\n\n\n\nJ\ne\ns\ns\ne\n \nJ\ni\nr\ny\nu\n \nD\na\nv\ni\ns\n:\n \nT\no\nr\no\n:\n \ns\ny\nn\nc\nh\nr\no\nn\ni\nz\na\nt\ni\no\nn\n \np\nr\ni\nm\ni\nt\ni\nv\ne\ns\n \nf\no\nr\n \nT\no\nr\nn\na\nd\no\n \nc\no\nr\no\nu\nt\ni\nn\ne\ns\n\n\nS\nu\nn\n,\n \n1\n8\n \nN\no\nv\n \n2\n0\n1\n2\n \n2\n0\n:\n1\n7\n:\n4\n9\n \n+\n0\n0\n0\n0\n\n\nh\nt\nt\np\n:\n/\n/\nf\ne\ne\nd\np\nr\no\nx\ny\n.\ng\no\no\ng\nl\ne\n.\nc\no\nm\n/\n~\nr\n/\nE\nm\np\nt\ny\ns\nq\nu\na\nr\ne\nP\ny\nt\nh\no\nn\n/\n~\n3\n/\n_\nD\nO\nZ\nT\n2\nK\nd\n0\nh\nQ\n/\n\n"
      ]
    },
    {
      "cell_type": "markdown",
      "metadata": {},
      "source": [
        "\u5f88\u663e\u7136\uff0c\u5982\u679c\u4f60\u60f3\u505a\u8fdb\u4e00\u6b65\u7684\u5904\u7406\uff0c\u4f60\u9700\u8981\u66ff\u6362 print() \u8bed\u53e5\u6765\u5b8c\u6210\u5176\u4ed6\u6709\u8da3\u7684\u4e8b\u3002"
      ]
    },
    {
      "cell_type": "markdown",
      "metadata": {},
      "source": [
        "### \u8ba8\u8bba\n"
      ]
    },
    {
      "cell_type": "markdown",
      "metadata": {},
      "source": [
        "\u5728\u5f88\u591a\u5e94\u7528\u7a0b\u5e8f\u4e2d\u5904\u7406XML\u7f16\u7801\u683c\u5f0f\u7684\u6570\u636e\u662f\u5f88\u5e38\u89c1\u7684\u3002\n\u4e0d\u4ec5\u56e0\u4e3aXML\u5728Internet\u4e0a\u9762\u5df2\u7ecf\u88ab\u5e7f\u6cdb\u5e94\u7528\u4e8e\u6570\u636e\u4ea4\u6362\uff0c\n\u540c\u65f6\u5b83\u4e5f\u662f\u4e00\u79cd\u5b58\u50a8\u5e94\u7528\u7a0b\u5e8f\u6570\u636e\u7684\u5e38\u7528\u683c\u5f0f(\u6bd4\u5982\u5b57\u5904\u7406\uff0c\u97f3\u4e50\u5e93\u7b49)\u3002\n\u63a5\u4e0b\u6765\u7684\u8ba8\u8bba\u4f1a\u5148\u5047\u5b9a\u8bfb\u8005\u5df2\u7ecf\u5bf9XML\u57fa\u7840\u6bd4\u8f83\u719f\u6089\u4e86\u3002"
      ]
    },
    {
      "cell_type": "markdown",
      "metadata": {},
      "source": [
        "\u5728\u5f88\u591a\u60c5\u51b5\u4e0b\uff0c\u5f53\u4f7f\u7528XML\u6765\u4ec5\u4ec5\u5b58\u50a8\u6570\u636e\u7684\u65f6\u5019\uff0c\u5bf9\u5e94\u7684\u6587\u6863\u7ed3\u6784\u975e\u5e38\u7d27\u51d1\u5e76\u4e14\u76f4\u89c2\u3002\n\u4f8b\u5982\uff0c\u4e0a\u9762\u4f8b\u5b50\u4e2d\u7684RSS\u8ba2\u9605\u6e90\u7c7b\u4f3c\u4e8e\u4e0b\u9762\u7684\u683c\u5f0f\uff1a"
      ]
    },
    {
      "cell_type": "code",
      "execution_count": null,
      "metadata": {},
      "outputs": [],
      "source": [
        "<\n?\nx\nm\nl\n \nv\ne\nr\ns\ni\no\nn\n=\n\"\n1\n.\n0\n\"\n?\n>\n\n\n<\nr\ns\ns\n \nv\ne\nr\ns\ni\no\nn\n=\n\"\n2\n.\n0\n\"\n \nx\nm\nl\nn\ns\n:\nd\nc\n=\n\"\nh\nt\nt\np\n:\n/\n/\np\nu\nr\nl\n.\no\nr\ng\n/\nd\nc\n/\ne\nl\ne\nm\ne\nn\nt\ns\n/\n1\n.\n1\n/\n\"\n>\n\n\n \n \n \n \n<\nc\nh\na\nn\nn\ne\nl\n>\n\n\n \n \n \n \n \n \n \n \n<\nt\ni\nt\nl\ne\n>\nP\nl\na\nn\ne\nt\n \nP\ny\nt\nh\no\nn\n<\n/\nt\ni\nt\nl\ne\n>\n\n\n \n \n \n \n \n \n \n \n<\nl\ni\nn\nk\n>\nh\nt\nt\np\n:\n/\n/\np\nl\na\nn\ne\nt\n.\np\ny\nt\nh\no\nn\n.\no\nr\ng\n/\n<\n/\nl\ni\nn\nk\n>\n\n\n \n \n \n \n \n \n \n \n<\nl\na\nn\ng\nu\na\ng\ne\n>\ne\nn\n<\n/\nl\na\nn\ng\nu\na\ng\ne\n>\n\n\n \n \n \n \n \n \n \n \n<\nd\ne\ns\nc\nr\ni\np\nt\ni\no\nn\n>\nP\nl\na\nn\ne\nt\n \nP\ny\nt\nh\no\nn\n \n-\n \nh\nt\nt\np\n:\n/\n/\np\nl\na\nn\ne\nt\n.\np\ny\nt\nh\no\nn\n.\no\nr\ng\n/\n<\n/\nd\ne\ns\nc\nr\ni\np\nt\ni\no\nn\n>\n\n\n \n \n \n \n \n \n \n \n<\ni\nt\ne\nm\n>\n\n\n \n \n \n \n \n \n \n \n \n \n \n \n<\nt\ni\nt\nl\ne\n>\nS\nt\ne\nv\ne\n \nH\no\nl\nd\ne\nn\n:\n \nP\ny\nt\nh\no\nn\n \nf\no\nr\n \nD\na\nt\na\n \nA\nn\na\nl\ny\ns\ni\ns\n<\n/\nt\ni\nt\nl\ne\n>\n\n\n \n \n \n \n \n \n \n \n \n \n \n \n<\ng\nu\ni\nd\n>\nh\nt\nt\np\n:\n/\n/\nh\no\nl\nd\ne\nn\nw\ne\nb\n.\nb\nl\no\ng\ns\np\no\nt\n.\nc\no\nm\n/\n.\n.\n.\n-\nd\na\nt\na\n-\na\nn\na\nl\ny\ns\ni\ns\n.\nh\nt\nm\nl\n<\n/\ng\nu\ni\nd\n>\n\n\n \n \n \n \n \n \n \n \n \n \n \n \n<\nl\ni\nn\nk\n>\nh\nt\nt\np\n:\n/\n/\nh\no\nl\nd\ne\nn\nw\ne\nb\n.\nb\nl\no\ng\ns\np\no\nt\n.\nc\no\nm\n/\n.\n.\n.\n-\nd\na\nt\na\n-\na\nn\na\nl\ny\ns\ni\ns\n.\nh\nt\nm\nl\n<\n/\nl\ni\nn\nk\n>\n\n\n \n \n \n \n \n \n \n \n \n \n \n \n<\nd\ne\ns\nc\nr\ni\np\nt\ni\no\nn\n>\n.\n.\n.\n<\n/\nd\ne\ns\nc\nr\ni\np\nt\ni\no\nn\n>\n\n\n \n \n \n \n \n \n \n \n \n \n \n \n<\np\nu\nb\nD\na\nt\ne\n>\nM\no\nn\n,\n \n1\n9\n \nN\no\nv\n \n2\n0\n1\n2\n \n0\n2\n:\n1\n3\n:\n5\n1\n \n+\n0\n0\n0\n0\n<\n/\np\nu\nb\nD\na\nt\ne\n>\n\n\n \n \n \n \n \n \n \n \n<\n/\ni\nt\ne\nm\n>\n\n\n \n \n \n \n \n \n \n \n<\ni\nt\ne\nm\n>\n\n\n \n \n \n \n \n \n \n \n \n \n \n \n<\nt\ni\nt\nl\ne\n>\nV\na\ns\nu\nd\ne\nv\n \nR\na\nm\n:\n \nT\nh\ne\n \nP\ny\nt\nh\no\nn\n \nD\na\nt\na\n \nm\no\nd\ne\nl\n \n(\nf\no\nr\n \nv\n2\n \na\nn\nd\n \nv\n3\n)\n<\n/\nt\ni\nt\nl\ne\n>\n\n\n \n \n \n \n \n \n \n \n \n \n \n \n<\ng\nu\ni\nd\n>\nh\nt\nt\np\n:\n/\n/\nj\nu\ng\na\nd\n2\n.\nb\nl\no\ng\ns\np\no\nt\n.\nc\no\nm\n/\n.\n.\n.\n-\nd\na\nt\na\n-\nm\no\nd\ne\nl\n.\nh\nt\nm\nl\n<\n/\ng\nu\ni\nd\n>\n\n\n \n \n \n \n \n \n \n \n \n \n \n \n<\nl\ni\nn\nk\n>\nh\nt\nt\np\n:\n/\n/\nj\nu\ng\na\nd\n2\n.\nb\nl\no\ng\ns\np\no\nt\n.\nc\no\nm\n/\n.\n.\n.\n-\nd\na\nt\na\n-\nm\no\nd\ne\nl\n.\nh\nt\nm\nl\n<\n/\nl\ni\nn\nk\n>\n\n\n \n \n \n \n \n \n \n \n \n \n \n \n<\nd\ne\ns\nc\nr\ni\np\nt\ni\no\nn\n>\n.\n.\n.\n<\n/\nd\ne\ns\nc\nr\ni\np\nt\ni\no\nn\n>\n\n\n \n \n \n \n \n \n \n \n \n \n \n \n<\np\nu\nb\nD\na\nt\ne\n>\nS\nu\nn\n,\n \n1\n8\n \nN\no\nv\n \n2\n0\n1\n2\n \n2\n2\n:\n0\n6\n:\n4\n7\n \n+\n0\n0\n0\n0\n<\n/\np\nu\nb\nD\na\nt\ne\n>\n\n\n \n \n \n \n \n \n \n \n<\n/\ni\nt\ne\nm\n>\n\n\n \n \n \n \n \n \n \n \n<\ni\nt\ne\nm\n>\n\n\n \n \n \n \n \n \n \n \n \n \n \n \n<\nt\ni\nt\nl\ne\n>\nP\ny\nt\nh\no\nn\n \nD\ni\na\nr\ny\n:\n \nB\ne\ne\nn\n \np\nl\na\ny\ni\nn\ng\n \na\nr\no\nu\nn\nd\n \nw\ni\nt\nh\n \nO\nb\nj\ne\nc\nt\n \nD\na\nt\na\nb\na\ns\ne\ns\n<\n/\nt\ni\nt\nl\ne\n>\n\n\n \n \n \n \n \n \n \n \n \n \n \n \n<\ng\nu\ni\nd\n>\nh\nt\nt\np\n:\n/\n/\nw\nw\nw\n.\np\ny\nt\nh\no\nn\nd\ni\na\nr\ny\n.\nc\no\nm\n/\n.\n.\n.\n-\no\nb\nj\ne\nc\nt\n-\nd\na\nt\na\nb\na\ns\ne\ns\n.\nh\nt\nm\nl\n<\n/\ng\nu\ni\nd\n>\n\n\n \n \n \n \n \n \n \n \n \n \n \n \n<\nl\ni\nn\nk\n>\nh\nt\nt\np\n:\n/\n/\nw\nw\nw\n.\np\ny\nt\nh\no\nn\nd\ni\na\nr\ny\n.\nc\no\nm\n/\n.\n.\n.\n-\no\nb\nj\ne\nc\nt\n-\nd\na\nt\na\nb\na\ns\ne\ns\n.\nh\nt\nm\nl\n<\n/\nl\ni\nn\nk\n>\n\n\n \n \n \n \n \n \n \n \n \n \n \n \n<\nd\ne\ns\nc\nr\ni\np\nt\ni\no\nn\n>\n.\n.\n.\n<\n/\nd\ne\ns\nc\nr\ni\np\nt\ni\no\nn\n>\n\n\n \n \n \n \n \n \n \n \n \n \n \n \n<\np\nu\nb\nD\na\nt\ne\n>\nS\nu\nn\n,\n \n1\n8\n \nN\no\nv\n \n2\n0\n1\n2\n \n2\n0\n:\n4\n0\n:\n2\n9\n \n+\n0\n0\n0\n0\n<\n/\np\nu\nb\nD\na\nt\ne\n>\n\n\n \n \n \n \n \n \n \n \n<\n/\ni\nt\ne\nm\n>\n\n\n \n \n \n \n \n \n \n \n.\n.\n.\n\n\n \n \n \n \n<\n/\nc\nh\na\nn\nn\ne\nl\n>\n\n\n<\n/\nr\ns\ns\n>\n\n"
      ]
    },
    {
      "cell_type": "markdown",
      "metadata": {},
      "source": [
        "xml.etree.ElementTree.parse() \u51fd\u6570\u89e3\u6790\u6574\u4e2aXML\u6587\u6863\u5e76\u5c06\u5176\u8f6c\u6362\u6210\u4e00\u4e2a\u6587\u6863\u5bf9\u8c61\u3002\n\u7136\u540e\uff0c\u4f60\u5c31\u80fd\u4f7f\u7528 find() \u3001iterfind() \u548c findtext() \u7b49\u65b9\u6cd5\u6765\u641c\u7d22\u7279\u5b9a\u7684XML\u5143\u7d20\u4e86\u3002\n\u8fd9\u4e9b\u51fd\u6570\u7684\u53c2\u6570\u5c31\u662f\u67d0\u4e2a\u6307\u5b9a\u7684\u6807\u7b7e\u540d\uff0c\u4f8b\u5982 channel/item \u6216 title \u3002"
      ]
    },
    {
      "cell_type": "markdown",
      "metadata": {},
      "source": [
        "\u6bcf\u6b21\u6307\u5b9a\u67d0\u4e2a\u6807\u7b7e\u65f6\uff0c\u4f60\u9700\u8981\u904d\u5386\u6574\u4e2a\u6587\u6863\u7ed3\u6784\u3002\u6bcf\u6b21\u641c\u7d22\u64cd\u4f5c\u4f1a\u4ece\u4e00\u4e2a\u8d77\u59cb\u5143\u7d20\u5f00\u59cb\u8fdb\u884c\u3002\n\u540c\u6837\uff0c\u6bcf\u6b21\u64cd\u4f5c\u6240\u6307\u5b9a\u7684\u6807\u7b7e\u540d\u4e5f\u662f\u8d77\u59cb\u5143\u7d20\u7684\u76f8\u5bf9\u8def\u5f84\u3002\n\u4f8b\u5982\uff0c\u6267\u884c doc.iterfind('channel/item') \u6765\u641c\u7d22\u6240\u6709\u5728 channel \u5143\u7d20\u4e0b\u9762\u7684 item \u5143\u7d20\u3002\ndoc \u4ee3\u8868\u6587\u6863\u7684\u6700\u9876\u5c42(\u4e5f\u5c31\u662f\u7b2c\u4e00\u7ea7\u7684 rss \u5143\u7d20)\u3002\n\u7136\u540e\u63a5\u4e0b\u6765\u7684\u8c03\u7528 item.findtext() \u4f1a\u4ece\u5df2\u627e\u5230\u7684 item \u5143\u7d20\u4f4d\u7f6e\u5f00\u59cb\u641c\u7d22\u3002"
      ]
    },
    {
      "cell_type": "markdown",
      "metadata": {},
      "source": [
        "ElementTree \u6a21\u5757\u4e2d\u7684\u6bcf\u4e2a\u5143\u7d20\u6709\u4e00\u4e9b\u91cd\u8981\u7684\u5c5e\u6027\u548c\u65b9\u6cd5\uff0c\u5728\u89e3\u6790\u7684\u65f6\u5019\u975e\u5e38\u6709\u7528\u3002\ntag \u5c5e\u6027\u5305\u542b\u4e86\u6807\u7b7e\u7684\u540d\u5b57\uff0ctext \u5c5e\u6027\u5305\u542b\u4e86\u5185\u90e8\u7684\u6587\u672c\uff0c\u800c get() \u65b9\u6cd5\u80fd\u83b7\u53d6\u5c5e\u6027\u503c\u3002\u4f8b\u5982\uff1a"
      ]
    },
    {
      "cell_type": "code",
      "execution_count": null,
      "metadata": {},
      "outputs": [],
      "source": [
        "doc"
      ]
    },
    {
      "cell_type": "code",
      "execution_count": null,
      "metadata": {},
      "outputs": [],
      "source": [
        "e = doc.find('channel/title')\ne"
      ]
    },
    {
      "cell_type": "code",
      "execution_count": null,
      "metadata": {},
      "outputs": [],
      "source": [
        "e.tag"
      ]
    },
    {
      "cell_type": "code",
      "execution_count": null,
      "metadata": {},
      "outputs": [],
      "source": [
        "e.text"
      ]
    },
    {
      "cell_type": "code",
      "execution_count": null,
      "metadata": {},
      "outputs": [],
      "source": [
        "e.get('some_attribute')"
      ]
    },
    {
      "cell_type": "markdown",
      "metadata": {},
      "source": [
        "\u6709\u4e00\u70b9\u8981\u5f3a\u8c03\u7684\u662f xml.etree.ElementTree \u5e76\u4e0d\u662fXML\u89e3\u6790\u7684\u552f\u4e00\u65b9\u6cd5\u3002\n\u5bf9\u4e8e\u66f4\u9ad8\u7ea7\u7684\u5e94\u7528\u7a0b\u5e8f\uff0c\u4f60\u9700\u8981\u8003\u8651\u4f7f\u7528 lxml \u3002\n\u5b83\u4f7f\u7528\u4e86\u548cElementTree\u540c\u6837\u7684\u7f16\u7a0b\u63a5\u53e3\uff0c\u56e0\u6b64\u4e0a\u9762\u7684\u4f8b\u5b50\u540c\u6837\u4e5f\u9002\u7528\u4e8elxml\u3002\n\u4f60\u53ea\u9700\u8981\u5c06\u521a\u5f00\u59cb\u7684import\u8bed\u53e5\u6362\u6210 from lxml.etree import parse \u5c31\u884c\u4e86\u3002\nlxml \u5b8c\u5168\u9075\u5faaXML\u6807\u51c6\uff0c\u5e76\u4e14\u901f\u5ea6\u4e5f\u975e\u5e38\u5feb\uff0c\u540c\u65f6\u8fd8\u652f\u6301\u9a8c\u8bc1\uff0cXSLT\uff0c\u548cXPath\u7b49\u7279\u6027\u3002"
      ]
    },
    {
      "cell_type": "markdown",
      "metadata": {},
      "source": [
        "## 6.4 \u589e\u91cf\u5f0f\u89e3\u6790\u5927\u578bXML\u6587\u4ef6\n"
      ]
    },
    {
      "cell_type": "markdown",
      "metadata": {},
      "source": [
        "### \u95ee\u9898\n"
      ]
    },
    {
      "cell_type": "markdown",
      "metadata": {},
      "source": [
        "\u4f60\u60f3\u4f7f\u7528\u5c3d\u53ef\u80fd\u5c11\u7684\u5185\u5b58\u4ece\u4e00\u4e2a\u8d85\u5927\u7684XML\u6587\u6863\u4e2d\u63d0\u53d6\u6570\u636e\u3002"
      ]
    },
    {
      "cell_type": "markdown",
      "metadata": {},
      "source": [
        "### \u89e3\u51b3\u65b9\u6848\n"
      ]
    },
    {
      "cell_type": "markdown",
      "metadata": {},
      "source": [
        "\u4efb\u4f55\u65f6\u5019\u53ea\u8981\u4f60\u9047\u5230\u589e\u91cf\u5f0f\u7684\u6570\u636e\u5904\u7406\u65f6\uff0c\u7b2c\u4e00\u65f6\u95f4\u5c31\u5e94\u8be5\u60f3\u5230\u8fed\u4ee3\u5668\u548c\u751f\u6210\u5668\u3002\n\u4e0b\u9762\u662f\u4e00\u4e2a\u5f88\u7b80\u5355\u7684\u51fd\u6570\uff0c\u53ea\u4f7f\u7528\u5f88\u5c11\u7684\u5185\u5b58\u5c31\u80fd\u589e\u91cf\u5f0f\u7684\u5904\u7406\u4e00\u4e2a\u5927\u578bXML\u6587\u4ef6\uff1a"
      ]
    },
    {
      "cell_type": "code",
      "execution_count": null,
      "metadata": {},
      "outputs": [],
      "source": [
        "f\nr\no\nm\n \nx\nm\nl\n.\ne\nt\nr\ne\ne\n.\nE\nl\ne\nm\ne\nn\nt\nT\nr\ne\ne\n \ni\nm\np\no\nr\nt\n \ni\nt\ne\nr\np\na\nr\ns\ne\n\n\n\n\nd\ne\nf\n \np\na\nr\ns\ne\n_\na\nn\nd\n_\nr\ne\nm\no\nv\ne\n(\nf\ni\nl\ne\nn\na\nm\ne\n,\n \np\na\nt\nh\n)\n:\n\n\n \n \n \n \np\na\nt\nh\n_\np\na\nr\nt\ns\n \n=\n \np\na\nt\nh\n.\ns\np\nl\ni\nt\n(\n'\n/\n'\n)\n\n\n \n \n \n \nd\no\nc\n \n=\n \ni\nt\ne\nr\np\na\nr\ns\ne\n(\nf\ni\nl\ne\nn\na\nm\ne\n,\n \n(\n'\ns\nt\na\nr\nt\n'\n,\n \n'\ne\nn\nd\n'\n)\n)\n\n\n \n \n \n \n#\n \nS\nk\ni\np\n \nt\nh\ne\n \nr\no\no\nt\n \ne\nl\ne\nm\ne\nn\nt\n\n\n \n \n \n \nn\ne\nx\nt\n(\nd\no\nc\n)\n\n\n\n\n \n \n \n \nt\na\ng\n_\ns\nt\na\nc\nk\n \n=\n \n[\n]\n\n\n \n \n \n \ne\nl\ne\nm\n_\ns\nt\na\nc\nk\n \n=\n \n[\n]\n\n\n \n \n \n \nf\no\nr\n \ne\nv\ne\nn\nt\n,\n \ne\nl\ne\nm\n \ni\nn\n \nd\no\nc\n:\n\n\n \n \n \n \n \n \n \n \ni\nf\n \ne\nv\ne\nn\nt\n \n=\n=\n \n'\ns\nt\na\nr\nt\n'\n:\n\n\n \n \n \n \n \n \n \n \n \n \n \n \nt\na\ng\n_\ns\nt\na\nc\nk\n.\na\np\np\ne\nn\nd\n(\ne\nl\ne\nm\n.\nt\na\ng\n)\n\n\n \n \n \n \n \n \n \n \n \n \n \n \ne\nl\ne\nm\n_\ns\nt\na\nc\nk\n.\na\np\np\ne\nn\nd\n(\ne\nl\ne\nm\n)\n\n\n \n \n \n \n \n \n \n \ne\nl\ni\nf\n \ne\nv\ne\nn\nt\n \n=\n=\n \n'\ne\nn\nd\n'\n:\n\n\n \n \n \n \n \n \n \n \n \n \n \n \ni\nf\n \nt\na\ng\n_\ns\nt\na\nc\nk\n \n=\n=\n \np\na\nt\nh\n_\np\na\nr\nt\ns\n:\n\n\n \n \n \n \n \n \n \n \n \n \n \n \n \n \n \n \ny\ni\ne\nl\nd\n \ne\nl\ne\nm\n\n\n \n \n \n \n \n \n \n \n \n \n \n \n \n \n \n \ne\nl\ne\nm\n_\ns\nt\na\nc\nk\n[\n-\n2\n]\n.\nr\ne\nm\no\nv\ne\n(\ne\nl\ne\nm\n)\n\n\n \n \n \n \n \n \n \n \n \n \n \n \nt\nr\ny\n:\n\n\n \n \n \n \n \n \n \n \n \n \n \n \n \n \n \n \nt\na\ng\n_\ns\nt\na\nc\nk\n.\np\no\np\n(\n)\n\n\n \n \n \n \n \n \n \n \n \n \n \n \n \n \n \n \ne\nl\ne\nm\n_\ns\nt\na\nc\nk\n.\np\no\np\n(\n)\n\n\n \n \n \n \n \n \n \n \n \n \n \n \ne\nx\nc\ne\np\nt\n \nI\nn\nd\ne\nx\nE\nr\nr\no\nr\n:\n\n\n \n \n \n \n \n \n \n \n \n \n \n \n \n \n \n \np\na\ns\ns\n\n"
      ]
    },
    {
      "cell_type": "markdown",
      "metadata": {},
      "source": [
        "\u4e3a\u4e86\u6d4b\u8bd5\u8fd9\u4e2a\u51fd\u6570\uff0c\u4f60\u9700\u8981\u5148\u6709\u4e00\u4e2a\u5927\u578b\u7684XML\u6587\u4ef6\u3002\n\u901a\u5e38\u4f60\u53ef\u4ee5\u5728\u653f\u5e9c\u7f51\u7ad9\u6216\u516c\u5171\u6570\u636e\u7f51\u7ad9\u4e0a\u627e\u5230\u8fd9\u6837\u7684\u6587\u4ef6\u3002\n\u4f8b\u5982\uff0c\u4f60\u53ef\u4ee5\u4e0b\u8f7dXML\u683c\u5f0f\u7684\u829d\u52a0\u54e5\u57ce\u5e02\u9053\u8def\u5751\u6d3c\u6570\u636e\u5e93\u3002\n\u5728\u5199\u8fd9\u672c\u4e66\u7684\u65f6\u5019\uff0c\u4e0b\u8f7d\u6587\u4ef6\u5df2\u7ecf\u5305\u542b\u8d85\u8fc7100,000\u884c\u6570\u636e\uff0c\u7f16\u7801\u683c\u5f0f\u7c7b\u4f3c\u4e8e\u4e0b\u9762\u8fd9\u6837\uff1a"
      ]
    },
    {
      "cell_type": "code",
      "execution_count": null,
      "metadata": {},
      "outputs": [],
      "source": [
        "<\nr\ne\ns\np\no\nn\ns\ne\n>\n\n\n \n \n \n \n<\nr\no\nw\n>\n\n\n \n \n \n \n \n \n \n \n<\nr\no\nw\n \n.\n.\n.\n>\n\n\n \n \n \n \n \n \n \n \n \n \n \n \n<\nc\nr\ne\na\nt\ni\no\nn\n_\nd\na\nt\ne\n>\n2\n0\n1\n2\n-\n1\n1\n-\n1\n8\nT\n0\n0\n:\n0\n0\n:\n0\n0\n<\n/\nc\nr\ne\na\nt\ni\no\nn\n_\nd\na\nt\ne\n>\n\n\n \n \n \n \n \n \n \n \n \n \n \n \n<\ns\nt\na\nt\nu\ns\n>\nC\no\nm\np\nl\ne\nt\ne\nd\n<\n/\ns\nt\na\nt\nu\ns\n>\n\n\n \n \n \n \n \n \n \n \n \n \n \n \n<\nc\no\nm\np\nl\ne\nt\ni\no\nn\n_\nd\na\nt\ne\n>\n2\n0\n1\n2\n-\n1\n1\n-\n1\n8\nT\n0\n0\n:\n0\n0\n:\n0\n0\n<\n/\nc\no\nm\np\nl\ne\nt\ni\no\nn\n_\nd\na\nt\ne\n>\n\n\n \n \n \n \n \n \n \n \n \n \n \n \n<\ns\ne\nr\nv\ni\nc\ne\n_\nr\ne\nq\nu\ne\ns\nt\n_\nn\nu\nm\nb\ne\nr\n>\n1\n2\n-\n0\n1\n9\n0\n6\n5\n4\n9\n<\n/\ns\ne\nr\nv\ni\nc\ne\n_\nr\ne\nq\nu\ne\ns\nt\n_\nn\nu\nm\nb\ne\nr\n>\n\n\n \n \n \n \n \n \n \n \n \n \n \n \n<\nt\ny\np\ne\n_\no\nf\n_\ns\ne\nr\nv\ni\nc\ne\n_\nr\ne\nq\nu\ne\ns\nt\n>\nP\no\nt\n \nH\no\nl\ne\n \ni\nn\n \nS\nt\nr\ne\ne\nt\n<\n/\nt\ny\np\ne\n_\no\nf\n_\ns\ne\nr\nv\ni\nc\ne\n_\nr\ne\nq\nu\ne\ns\nt\n>\n\n\n \n \n \n \n \n \n \n \n \n \n \n \n<\nc\nu\nr\nr\ne\nn\nt\n_\na\nc\nt\ni\nv\ni\nt\ny\n>\nF\ni\nn\na\nl\n \nO\nu\nt\nc\no\nm\ne\n<\n/\nc\nu\nr\nr\ne\nn\nt\n_\na\nc\nt\ni\nv\ni\nt\ny\n>\n\n\n \n \n \n \n \n \n \n \n \n \n \n \n<\nm\no\ns\nt\n_\nr\ne\nc\ne\nn\nt\n_\na\nc\nt\ni\no\nn\n>\nC\nD\nO\nT\n \nS\nt\nr\ne\ne\nt\n \nC\nu\nt\n \n.\n.\n.\n \nO\nu\nt\nc\no\nm\ne\n<\n/\nm\no\ns\nt\n_\nr\ne\nc\ne\nn\nt\n_\na\nc\nt\ni\no\nn\n>\n\n\n \n \n \n \n \n \n \n \n \n \n \n \n<\ns\nt\nr\ne\ne\nt\n_\na\nd\nd\nr\ne\ns\ns\n>\n4\n7\n1\n4\n \nS\n \nT\nA\nL\nM\nA\nN\n \nA\nV\nE\n<\n/\ns\nt\nr\ne\ne\nt\n_\na\nd\nd\nr\ne\ns\ns\n>\n\n\n \n \n \n \n \n \n \n \n \n \n \n \n<\nz\ni\np\n>\n6\n0\n6\n3\n2\n<\n/\nz\ni\np\n>\n\n\n \n \n \n \n \n \n \n \n \n \n \n \n<\nx\n_\nc\no\no\nr\nd\ni\nn\na\nt\ne\n>\n1\n1\n5\n9\n4\n9\n4\n.\n6\n8\n6\n1\n8\n8\n5\n6\n<\n/\nx\n_\nc\no\no\nr\nd\ni\nn\na\nt\ne\n>\n\n\n \n \n \n \n \n \n \n \n \n \n \n \n<\ny\n_\nc\no\no\nr\nd\ni\nn\na\nt\ne\n>\n1\n8\n7\n3\n3\n1\n3\n.\n8\n3\n5\n0\n3\n3\n8\n4\n<\n/\ny\n_\nc\no\no\nr\nd\ni\nn\na\nt\ne\n>\n\n\n \n \n \n \n \n \n \n \n \n \n \n \n<\nw\na\nr\nd\n>\n1\n4\n<\n/\nw\na\nr\nd\n>\n\n\n \n \n \n \n \n \n \n \n \n \n \n \n<\np\no\nl\ni\nc\ne\n_\nd\ni\ns\nt\nr\ni\nc\nt\n>\n9\n<\n/\np\no\nl\ni\nc\ne\n_\nd\ni\ns\nt\nr\ni\nc\nt\n>\n\n\n \n \n \n \n \n \n \n \n \n \n \n \n<\nc\no\nm\nm\nu\nn\ni\nt\ny\n_\na\nr\ne\na\n>\n5\n8\n<\n/\nc\no\nm\nm\nu\nn\ni\nt\ny\n_\na\nr\ne\na\n>\n\n\n \n \n \n \n \n \n \n \n \n \n \n \n<\nl\na\nt\ni\nt\nu\nd\ne\n>\n4\n1\n.\n8\n0\n8\n0\n9\n0\n2\n3\n2\n1\n2\n7\n8\n9\n6\n<\n/\nl\na\nt\ni\nt\nu\nd\ne\n>\n\n\n \n \n \n \n \n \n \n \n \n \n \n \n<\nl\no\nn\ng\ni\nt\nu\nd\ne\n>\n-\n8\n7\n.\n6\n9\n0\n5\n3\n6\n8\n4\n7\n1\n1\n3\n0\n5\n<\n/\nl\no\nn\ng\ni\nt\nu\nd\ne\n>\n\n\n \n \n \n \n \n \n \n \n \n \n \n \n<\nl\no\nc\na\nt\ni\no\nn\n \nl\na\nt\ni\nt\nu\nd\ne\n=\n\"\n4\n1\n.\n8\n0\n8\n0\n9\n0\n2\n3\n2\n1\n2\n7\n8\n9\n6\n\"\n\n\n \n \n \n \n \n \n \n \n \n \n \n \nl\no\nn\ng\ni\nt\nu\nd\ne\n=\n\"\n-\n8\n7\n.\n6\n9\n0\n5\n3\n6\n8\n4\n7\n1\n1\n3\n0\n5\n\"\n \n/\n>\n\n\n \n \n \n \n \n \n \n \n<\n/\nr\no\nw\n>\n\n\n \n \n \n \n \n \n \n \n<\nr\no\nw\n \n.\n.\n.\n>\n\n\n \n \n \n \n \n \n \n \n \n \n \n \n<\nc\nr\ne\na\nt\ni\no\nn\n_\nd\na\nt\ne\n>\n2\n0\n1\n2\n-\n1\n1\n-\n1\n8\nT\n0\n0\n:\n0\n0\n:\n0\n0\n<\n/\nc\nr\ne\na\nt\ni\no\nn\n_\nd\na\nt\ne\n>\n\n\n \n \n \n \n \n \n \n \n \n \n \n \n<\ns\nt\na\nt\nu\ns\n>\nC\no\nm\np\nl\ne\nt\ne\nd\n<\n/\ns\nt\na\nt\nu\ns\n>\n\n\n \n \n \n \n \n \n \n \n \n \n \n \n<\nc\no\nm\np\nl\ne\nt\ni\no\nn\n_\nd\na\nt\ne\n>\n2\n0\n1\n2\n-\n1\n1\n-\n1\n8\nT\n0\n0\n:\n0\n0\n:\n0\n0\n<\n/\nc\no\nm\np\nl\ne\nt\ni\no\nn\n_\nd\na\nt\ne\n>\n\n\n \n \n \n \n \n \n \n \n \n \n \n \n<\ns\ne\nr\nv\ni\nc\ne\n_\nr\ne\nq\nu\ne\ns\nt\n_\nn\nu\nm\nb\ne\nr\n>\n1\n2\n-\n0\n1\n9\n0\n6\n6\n9\n5\n<\n/\ns\ne\nr\nv\ni\nc\ne\n_\nr\ne\nq\nu\ne\ns\nt\n_\nn\nu\nm\nb\ne\nr\n>\n\n\n \n \n \n \n \n \n \n \n \n \n \n \n<\nt\ny\np\ne\n_\no\nf\n_\ns\ne\nr\nv\ni\nc\ne\n_\nr\ne\nq\nu\ne\ns\nt\n>\nP\no\nt\n \nH\no\nl\ne\n \ni\nn\n \nS\nt\nr\ne\ne\nt\n<\n/\nt\ny\np\ne\n_\no\nf\n_\ns\ne\nr\nv\ni\nc\ne\n_\nr\ne\nq\nu\ne\ns\nt\n>\n\n\n \n \n \n \n \n \n \n \n \n \n \n \n<\nc\nu\nr\nr\ne\nn\nt\n_\na\nc\nt\ni\nv\ni\nt\ny\n>\nF\ni\nn\na\nl\n \nO\nu\nt\nc\no\nm\ne\n<\n/\nc\nu\nr\nr\ne\nn\nt\n_\na\nc\nt\ni\nv\ni\nt\ny\n>\n\n\n \n \n \n \n \n \n \n \n \n \n \n \n<\nm\no\ns\nt\n_\nr\ne\nc\ne\nn\nt\n_\na\nc\nt\ni\no\nn\n>\nC\nD\nO\nT\n \nS\nt\nr\ne\ne\nt\n \nC\nu\nt\n \n.\n.\n.\n \nO\nu\nt\nc\no\nm\ne\n<\n/\nm\no\ns\nt\n_\nr\ne\nc\ne\nn\nt\n_\na\nc\nt\ni\no\nn\n>\n\n\n \n \n \n \n \n \n \n \n \n \n \n \n<\ns\nt\nr\ne\ne\nt\n_\na\nd\nd\nr\ne\ns\ns\n>\n3\n5\n1\n0\n \nW\n \nN\nO\nR\nT\nH\n \nA\nV\nE\n<\n/\ns\nt\nr\ne\ne\nt\n_\na\nd\nd\nr\ne\ns\ns\n>\n\n\n \n \n \n \n \n \n \n \n \n \n \n \n<\nz\ni\np\n>\n6\n0\n6\n4\n7\n<\n/\nz\ni\np\n>\n\n\n \n \n \n \n \n \n \n \n \n \n \n \n<\nx\n_\nc\no\no\nr\nd\ni\nn\na\nt\ne\n>\n1\n1\n5\n2\n7\n3\n2\n.\n1\n4\n1\n2\n7\n6\n9\n6\n<\n/\nx\n_\nc\no\no\nr\nd\ni\nn\na\nt\ne\n>\n\n\n \n \n \n \n \n \n \n \n \n \n \n \n<\ny\n_\nc\no\no\nr\nd\ni\nn\na\nt\ne\n>\n1\n9\n1\n0\n4\n0\n9\n.\n3\n8\n9\n7\n9\n0\n7\n5\n<\n/\ny\n_\nc\no\no\nr\nd\ni\nn\na\nt\ne\n>\n\n\n \n \n \n \n \n \n \n \n \n \n \n \n<\nw\na\nr\nd\n>\n2\n6\n<\n/\nw\na\nr\nd\n>\n\n\n \n \n \n \n \n \n \n \n \n \n \n \n<\np\no\nl\ni\nc\ne\n_\nd\ni\ns\nt\nr\ni\nc\nt\n>\n1\n4\n<\n/\np\no\nl\ni\nc\ne\n_\nd\ni\ns\nt\nr\ni\nc\nt\n>\n\n\n \n \n \n \n \n \n \n \n \n \n \n \n<\nc\no\nm\nm\nu\nn\ni\nt\ny\n_\na\nr\ne\na\n>\n2\n3\n<\n/\nc\no\nm\nm\nu\nn\ni\nt\ny\n_\na\nr\ne\na\n>\n\n\n \n \n \n \n \n \n \n \n \n \n \n \n<\nl\na\nt\ni\nt\nu\nd\ne\n>\n4\n1\n.\n9\n1\n0\n0\n2\n0\n8\n4\n2\n9\n2\n9\n4\n6\n<\n/\nl\na\nt\ni\nt\nu\nd\ne\n>\n\n\n \n \n \n \n \n \n \n \n \n \n \n \n<\nl\no\nn\ng\ni\nt\nu\nd\ne\n>\n-\n8\n7\n.\n7\n1\n4\n3\n5\n9\n5\n2\n3\n5\n3\n9\n6\n1\n<\n/\nl\no\nn\ng\ni\nt\nu\nd\ne\n>\n\n\n \n \n \n \n \n \n \n \n \n \n \n \n<\nl\no\nc\na\nt\ni\no\nn\n \nl\na\nt\ni\nt\nu\nd\ne\n=\n\"\n4\n1\n.\n9\n1\n0\n0\n2\n0\n8\n4\n2\n9\n2\n9\n4\n6\n\"\n\n\n \n \n \n \n \n \n \n \n \n \n \n \nl\no\nn\ng\ni\nt\nu\nd\ne\n=\n\"\n-\n8\n7\n.\n7\n1\n4\n3\n5\n9\n5\n2\n3\n5\n3\n9\n6\n1\n\"\n \n/\n>\n\n\n \n \n \n \n \n \n \n \n<\n/\nr\no\nw\n>\n\n\n \n \n \n \n<\n/\nr\no\nw\n>\n\n\n<\n/\nr\ne\ns\np\no\nn\ns\ne\n>\n\n"
      ]
    },
    {
      "cell_type": "markdown",
      "metadata": {},
      "source": [
        "\u5047\u8bbe\u4f60\u60f3\u5199\u4e00\u4e2a\u811a\u672c\u6765\u6309\u7167\u5751\u6d3c\u62a5\u544a\u6570\u91cf\u6392\u5217\u90ae\u7f16\u53f7\u7801\u3002\u4f60\u53ef\u4ee5\u50cf\u8fd9\u6837\u505a\uff1a"
      ]
    },
    {
      "cell_type": "code",
      "execution_count": null,
      "metadata": {},
      "outputs": [],
      "source": [
        "f\nr\no\nm\n \nx\nm\nl\n.\ne\nt\nr\ne\ne\n.\nE\nl\ne\nm\ne\nn\nt\nT\nr\ne\ne\n \ni\nm\np\no\nr\nt\n \np\na\nr\ns\ne\n\n\nf\nr\no\nm\n \nc\no\nl\nl\ne\nc\nt\ni\no\nn\ns\n \ni\nm\np\no\nr\nt\n \nC\no\nu\nn\nt\ne\nr\n\n\n\n\np\no\nt\nh\no\nl\ne\ns\n_\nb\ny\n_\nz\ni\np\n \n=\n \nC\no\nu\nn\nt\ne\nr\n(\n)\n\n\n\n\nd\no\nc\n \n=\n \np\na\nr\ns\ne\n(\n'\np\no\nt\nh\no\nl\ne\ns\n.\nx\nm\nl\n'\n)\n\n\nf\no\nr\n \np\no\nt\nh\no\nl\ne\n \ni\nn\n \nd\no\nc\n.\ni\nt\ne\nr\nf\ni\nn\nd\n(\n'\nr\no\nw\n/\nr\no\nw\n'\n)\n:\n\n\n \n \n \n \np\no\nt\nh\no\nl\ne\ns\n_\nb\ny\n_\nz\ni\np\n[\np\no\nt\nh\no\nl\ne\n.\nf\ni\nn\nd\nt\ne\nx\nt\n(\n'\nz\ni\np\n'\n)\n]\n \n+\n=\n \n1\n\n\nf\no\nr\n \nz\ni\np\nc\no\nd\ne\n,\n \nn\nu\nm\n \ni\nn\n \np\no\nt\nh\no\nl\ne\ns\n_\nb\ny\n_\nz\ni\np\n.\nm\no\ns\nt\n_\nc\no\nm\nm\no\nn\n(\n)\n:\n\n\n \n \n \n \np\nr\ni\nn\nt\n(\nz\ni\np\nc\no\nd\ne\n,\n \nn\nu\nm\n)\n\n"
      ]
    },
    {
      "cell_type": "markdown",
      "metadata": {},
      "source": [
        "\u8fd9\u4e2a\u811a\u672c\u552f\u4e00\u7684\u95ee\u9898\u662f\u5b83\u4f1a\u5148\u5c06\u6574\u4e2aXML\u6587\u4ef6\u52a0\u8f7d\u5230\u5185\u5b58\u4e2d\u7136\u540e\u89e3\u6790\u3002\n\u5728\u6211\u7684\u673a\u5668\u4e0a\uff0c\u4e3a\u4e86\u8fd0\u884c\u8fd9\u4e2a\u7a0b\u5e8f\u9700\u8981\u7528\u5230450MB\u5de6\u53f3\u7684\u5185\u5b58\u7a7a\u95f4\u3002\n\u5982\u679c\u4f7f\u7528\u5982\u4e0b\u4ee3\u7801\uff0c\u7a0b\u5e8f\u53ea\u9700\u8981\u4fee\u6539\u4e00\u70b9\u70b9\uff1a"
      ]
    },
    {
      "cell_type": "code",
      "execution_count": null,
      "metadata": {},
      "outputs": [],
      "source": [
        "f\nr\no\nm\n \nc\no\nl\nl\ne\nc\nt\ni\no\nn\ns\n \ni\nm\np\no\nr\nt\n \nC\no\nu\nn\nt\ne\nr\n\n\n\n\np\no\nt\nh\no\nl\ne\ns\n_\nb\ny\n_\nz\ni\np\n \n=\n \nC\no\nu\nn\nt\ne\nr\n(\n)\n\n\n\n\nd\na\nt\na\n \n=\n \np\na\nr\ns\ne\n_\na\nn\nd\n_\nr\ne\nm\no\nv\ne\n(\n'\np\no\nt\nh\no\nl\ne\ns\n.\nx\nm\nl\n'\n,\n \n'\nr\no\nw\n/\nr\no\nw\n'\n)\n\n\nf\no\nr\n \np\no\nt\nh\no\nl\ne\n \ni\nn\n \nd\na\nt\na\n:\n\n\n \n \n \n \np\no\nt\nh\no\nl\ne\ns\n_\nb\ny\n_\nz\ni\np\n[\np\no\nt\nh\no\nl\ne\n.\nf\ni\nn\nd\nt\ne\nx\nt\n(\n'\nz\ni\np\n'\n)\n]\n \n+\n=\n \n1\n\n\nf\no\nr\n \nz\ni\np\nc\no\nd\ne\n,\n \nn\nu\nm\n \ni\nn\n \np\no\nt\nh\no\nl\ne\ns\n_\nb\ny\n_\nz\ni\np\n.\nm\no\ns\nt\n_\nc\no\nm\nm\no\nn\n(\n)\n:\n\n\n \n \n \n \np\nr\ni\nn\nt\n(\nz\ni\np\nc\no\nd\ne\n,\n \nn\nu\nm\n)\n\n"
      ]
    },
    {
      "cell_type": "markdown",
      "metadata": {},
      "source": [
        "\u7ed3\u679c\u662f\uff1a\u8fd9\u4e2a\u7248\u672c\u7684\u4ee3\u7801\u8fd0\u884c\u65f6\u53ea\u9700\u89817MB\u7684\u5185\u5b58\u2013\u5927\u5927\u8282\u7ea6\u4e86\u5185\u5b58\u8d44\u6e90\u3002"
      ]
    },
    {
      "cell_type": "markdown",
      "metadata": {},
      "source": [
        "### \u8ba8\u8bba\n"
      ]
    },
    {
      "cell_type": "markdown",
      "metadata": {},
      "source": [
        "\u8fd9\u4e00\u8282\u7684\u6280\u672f\u4f1a\u4f9d\u8d56 ElementTree \u6a21\u5757\u4e2d\u7684\u4e24\u4e2a\u6838\u5fc3\u529f\u80fd\u3002\n\u7b2c\u4e00\uff0citerparse() \u65b9\u6cd5\u5141\u8bb8\u5bf9XML\u6587\u6863\u8fdb\u884c\u589e\u91cf\u64cd\u4f5c\u3002\n\u4f7f\u7528\u65f6\uff0c\u4f60\u9700\u8981\u63d0\u4f9b\u6587\u4ef6\u540d\u548c\u4e00\u4e2a\u5305\u542b\u4e0b\u9762\u4e00\u79cd\u6216\u591a\u79cd\u7c7b\u578b\u7684\u4e8b\u4ef6\u5217\u8868\uff1a\nstart , end, start-ns \u548c end-ns \u3002\n\u7531 iterparse() \u521b\u5efa\u7684\u8fed\u4ee3\u5668\u4f1a\u4ea7\u751f\u5f62\u5982 (event, elem) \u7684\u5143\u7ec4\uff0c\n\u5176\u4e2d event \u662f\u4e0a\u8ff0\u4e8b\u4ef6\u5217\u8868\u4e2d\u7684\u67d0\u4e00\u4e2a\uff0c\u800c elem \u662f\u76f8\u5e94\u7684XML\u5143\u7d20\u3002\u4f8b\u5982\uff1a"
      ]
    },
    {
      "cell_type": "code",
      "execution_count": null,
      "metadata": {},
      "outputs": [],
      "source": [
        "data = iterparse('potholes.xml',('start','end'))\nnext(data)"
      ]
    },
    {
      "cell_type": "code",
      "execution_count": null,
      "metadata": {},
      "outputs": [],
      "source": [
        "next(data)"
      ]
    },
    {
      "cell_type": "code",
      "execution_count": null,
      "metadata": {},
      "outputs": [],
      "source": [
        "next(data)"
      ]
    },
    {
      "cell_type": "code",
      "execution_count": null,
      "metadata": {},
      "outputs": [],
      "source": [
        "next(data)"
      ]
    },
    {
      "cell_type": "code",
      "execution_count": null,
      "metadata": {},
      "outputs": [],
      "source": [
        "next(data)"
      ]
    },
    {
      "cell_type": "code",
      "execution_count": null,
      "metadata": {},
      "outputs": [],
      "source": [
        "next(data)"
      ]
    },
    {
      "cell_type": "code",
      "execution_count": null,
      "metadata": {},
      "outputs": [],
      "source": [
        "next(data)"
      ]
    },
    {
      "cell_type": "markdown",
      "metadata": {},
      "source": [
        "start \u4e8b\u4ef6\u5728\u67d0\u4e2a\u5143\u7d20\u7b2c\u4e00\u6b21\u88ab\u521b\u5efa\u5e76\u4e14\u8fd8\u6ca1\u6709\u88ab\u63d2\u5165\u5176\u4ed6\u6570\u636e(\u5982\u5b50\u5143\u7d20)\u65f6\u88ab\u521b\u5efa\u3002\n\u800c end \u4e8b\u4ef6\u5728\u67d0\u4e2a\u5143\u7d20\u5df2\u7ecf\u5b8c\u6210\u65f6\u88ab\u521b\u5efa\u3002\n\u5c3d\u7ba1\u6ca1\u6709\u5728\u4f8b\u5b50\u4e2d\u6f14\u793a\uff0c start-ns \u548c end-ns \u4e8b\u4ef6\u88ab\u7528\u6765\u5904\u7406XML\u6587\u6863\u547d\u540d\u7a7a\u95f4\u7684\u58f0\u660e\u3002"
      ]
    },
    {
      "cell_type": "markdown",
      "metadata": {},
      "source": [
        "\u8fd9\u672c\u8282\u4f8b\u5b50\u4e2d\uff0c start \u548c end \u4e8b\u4ef6\u88ab\u7528\u6765\u7ba1\u7406\u5143\u7d20\u548c\u6807\u7b7e\u6808\u3002\n\u6808\u4ee3\u8868\u4e86\u6587\u6863\u88ab\u89e3\u6790\u65f6\u7684\u5c42\u6b21\u7ed3\u6784\uff0c\n\u8fd8\u88ab\u7528\u6765\u5224\u65ad\u67d0\u4e2a\u5143\u7d20\u662f\u5426\u5339\u914d\u4f20\u7ed9\u51fd\u6570 parse_and_remove() \u7684\u8def\u5f84\u3002\n\u5982\u679c\u5339\u914d\uff0c\u5c31\u5229\u7528 yield \u8bed\u53e5\u5411\u8c03\u7528\u8005\u8fd4\u56de\u8fd9\u4e2a\u5143\u7d20\u3002"
      ]
    },
    {
      "cell_type": "markdown",
      "metadata": {},
      "source": [
        "\u5728 yield \u4e4b\u540e\u7684\u4e0b\u9762\u8fd9\u4e2a\u8bed\u53e5\u624d\u662f\u4f7f\u5f97\u7a0b\u5e8f\u5360\u7528\u6781\u5c11\u5185\u5b58\u7684ElementTree\u7684\u6838\u5fc3\u7279\u6027\uff1a"
      ]
    },
    {
      "cell_type": "code",
      "execution_count": null,
      "metadata": {},
      "outputs": [],
      "source": [
        "e\nl\ne\nm\n_\ns\nt\na\nc\nk\n[\n-\n2\n]\n.\nr\ne\nm\no\nv\ne\n(\ne\nl\ne\nm\n)\n\n"
      ]
    },
    {
      "cell_type": "markdown",
      "metadata": {},
      "source": [
        "\u8fd9\u4e2a\u8bed\u53e5\u4f7f\u5f97\u4e4b\u524d\u7531 yield \u4ea7\u751f\u7684\u5143\u7d20\u4ece\u5b83\u7684\u7236\u8282\u70b9\u4e2d\u5220\u9664\u6389\u3002\n\u5047\u8bbe\u5df2\u7ecf\u6ca1\u6709\u5176\u5b83\u7684\u5730\u65b9\u5f15\u7528\u8fd9\u4e2a\u5143\u7d20\u4e86\uff0c\u90a3\u4e48\u8fd9\u4e2a\u5143\u7d20\u5c31\u88ab\u9500\u6bc1\u5e76\u56de\u6536\u5185\u5b58\u3002"
      ]
    },
    {
      "cell_type": "markdown",
      "metadata": {},
      "source": [
        "\u5bf9\u8282\u70b9\u7684\u8fed\u4ee3\u5f0f\u89e3\u6790\u548c\u5220\u9664\u7684\u6700\u7ec8\u6548\u679c\u5c31\u662f\u4e00\u4e2a\u5728\u6587\u6863\u4e0a\u9ad8\u6548\u7684\u589e\u91cf\u5f0f\u6e05\u626b\u8fc7\u7a0b\u3002\n\u6587\u6863\u6811\u7ed3\u6784\u4ece\u59cb\u81ea\u7ec8\u6ca1\u88ab\u5b8c\u6574\u7684\u521b\u5efa\u8fc7\u3002\u5c3d\u7ba1\u5982\u6b64\uff0c\u8fd8\u662f\u80fd\u901a\u8fc7\u4e0a\u8ff0\u7b80\u5355\u7684\u65b9\u5f0f\u6765\u5904\u7406\u8fd9\u4e2aXML\u6570\u636e\u3002"
      ]
    },
    {
      "cell_type": "markdown",
      "metadata": {},
      "source": [
        "\u8fd9\u79cd\u65b9\u6848\u7684\u4e3b\u8981\u7f3a\u9677\u5c31\u662f\u5b83\u7684\u8fd0\u884c\u6027\u80fd\u4e86\u3002\n\u6211\u81ea\u5df1\u6d4b\u8bd5\u7684\u7ed3\u679c\u662f\uff0c\u8bfb\u53d6\u6574\u4e2a\u6587\u6863\u5230\u5185\u5b58\u4e2d\u7684\u7248\u672c\u7684\u8fd0\u884c\u901f\u5ea6\u5dee\u4e0d\u591a\u662f\u589e\u91cf\u5f0f\u5904\u7406\u7248\u672c\u7684\u4e24\u500d\u5feb\u3002\n\u4f46\u662f\u5b83\u5374\u4f7f\u7528\u4e86\u8d85\u8fc7\u540e\u800560\u500d\u7684\u5185\u5b58\u3002\n\u56e0\u6b64\uff0c\u5982\u679c\u4f60\u66f4\u5173\u5fc3\u5185\u5b58\u4f7f\u7528\u91cf\u7684\u8bdd\uff0c\u90a3\u4e48\u589e\u91cf\u5f0f\u7684\u7248\u672c\u5b8c\u80dc\u3002"
      ]
    },
    {
      "cell_type": "markdown",
      "metadata": {},
      "source": [
        "## 6.5 \u5c06\u5b57\u5178\u8f6c\u6362\u4e3aXML\n"
      ]
    },
    {
      "cell_type": "markdown",
      "metadata": {},
      "source": [
        "### \u95ee\u9898\n"
      ]
    },
    {
      "cell_type": "markdown",
      "metadata": {},
      "source": [
        "\u4f60\u60f3\u4f7f\u7528\u4e00\u4e2aPython\u5b57\u5178\u5b58\u50a8\u6570\u636e\uff0c\u5e76\u5c06\u5b83\u8f6c\u6362\u6210XML\u683c\u5f0f\u3002"
      ]
    },
    {
      "cell_type": "markdown",
      "metadata": {},
      "source": [
        "### \u89e3\u51b3\u65b9\u6848\n"
      ]
    },
    {
      "cell_type": "markdown",
      "metadata": {},
      "source": [
        "\u5c3d\u7ba1 xml.etree.ElementTree \u5e93\u901a\u5e38\u7528\u6765\u505a\u89e3\u6790\u5de5\u4f5c\uff0c\u5176\u5b9e\u5b83\u4e5f\u53ef\u4ee5\u521b\u5efaXML\u6587\u6863\u3002\n\u4f8b\u5982\uff0c\u8003\u8651\u5982\u4e0b\u8fd9\u4e2a\u51fd\u6570\uff1a"
      ]
    },
    {
      "cell_type": "code",
      "execution_count": null,
      "metadata": {},
      "outputs": [],
      "source": [
        "f\nr\no\nm\n \nx\nm\nl\n.\ne\nt\nr\ne\ne\n.\nE\nl\ne\nm\ne\nn\nt\nT\nr\ne\ne\n \ni\nm\np\no\nr\nt\n \nE\nl\ne\nm\ne\nn\nt\n\n\n\n\nd\ne\nf\n \nd\ni\nc\nt\n_\nt\no\n_\nx\nm\nl\n(\nt\na\ng\n,\n \nd\n)\n:\n\n\n'\n'\n'\n\n\nT\nu\nr\nn\n \na\n \ns\ni\nm\np\nl\ne\n \nd\ni\nc\nt\n \no\nf\n \nk\ne\ny\n/\nv\na\nl\nu\ne\n \np\na\ni\nr\ns\n \ni\nn\nt\no\n \nX\nM\nL\n\n\n'\n'\n'\n\n\ne\nl\ne\nm\n \n=\n \nE\nl\ne\nm\ne\nn\nt\n(\nt\na\ng\n)\n\n\nf\no\nr\n \nk\ne\ny\n,\n \nv\na\nl\n \ni\nn\n \nd\n.\ni\nt\ne\nm\ns\n(\n)\n:\n\n\n \n \n \n \nc\nh\ni\nl\nd\n \n=\n \nE\nl\ne\nm\ne\nn\nt\n(\nk\ne\ny\n)\n\n\n \n \n \n \nc\nh\ni\nl\nd\n.\nt\ne\nx\nt\n \n=\n \ns\nt\nr\n(\nv\na\nl\n)\n\n\n \n \n \n \ne\nl\ne\nm\n.\na\np\np\ne\nn\nd\n(\nc\nh\ni\nl\nd\n)\n\n\nr\ne\nt\nu\nr\nn\n \ne\nl\ne\nm\n\n"
      ]
    },
    {
      "cell_type": "markdown",
      "metadata": {},
      "source": [
        "\u4e0b\u9762\u662f\u4e00\u4e2a\u4f7f\u7528\u4f8b\u5b50\uff1a"
      ]
    },
    {
      "cell_type": "code",
      "execution_count": null,
      "metadata": {},
      "outputs": [],
      "source": [
        "s = { 'name': 'GOOG', 'shares': 100, 'price':490.1 }\ne = dict_to_xml('stock', s)\ne"
      ]
    },
    {
      "cell_type": "markdown",
      "metadata": {},
      "source": [
        "\u8f6c\u6362\u7ed3\u679c\u662f\u4e00\u4e2a Element \u5b9e\u4f8b\u3002\u5bf9\u4e8eI/O\u64cd\u4f5c\uff0c\u4f7f\u7528 xml.etree.ElementTree \u4e2d\u7684 tostring()\n\u51fd\u6570\u5f88\u5bb9\u6613\u5c31\u80fd\u5c06\u5b83\u8f6c\u6362\u6210\u4e00\u4e2a\u5b57\u8282\u5b57\u7b26\u4e32\u3002\u4f8b\u5982\uff1a"
      ]
    },
    {
      "cell_type": "code",
      "execution_count": null,
      "metadata": {},
      "outputs": [],
      "source": [
        "from xml.etree.ElementTree import tostring\ntostring(e)"
      ]
    },
    {
      "cell_type": "markdown",
      "metadata": {},
      "source": [
        "\u5982\u679c\u4f60\u60f3\u7ed9\u67d0\u4e2a\u5143\u7d20\u6dfb\u52a0\u5c5e\u6027\u503c\uff0c\u53ef\u4ee5\u4f7f\u7528 set() \u65b9\u6cd5\uff1a"
      ]
    },
    {
      "cell_type": "code",
      "execution_count": null,
      "metadata": {},
      "outputs": [],
      "source": [
        "e.set('_id','1234')\ntostring(e)"
      ]
    },
    {
      "cell_type": "markdown",
      "metadata": {},
      "source": [
        "\u5982\u679c\u4f60\u8fd8\u60f3\u4fdd\u6301\u5143\u7d20\u7684\u987a\u5e8f\uff0c\u53ef\u4ee5\u8003\u8651\u6784\u9020\u4e00\u4e2a OrderedDict \u6765\u4ee3\u66ff\u4e00\u4e2a\u666e\u901a\u7684\u5b57\u5178\u3002\u8bf7\u53c2\u80031.7\u5c0f\u8282\u3002"
      ]
    },
    {
      "cell_type": "markdown",
      "metadata": {},
      "source": [
        "### \u8ba8\u8bba\n"
      ]
    },
    {
      "cell_type": "markdown",
      "metadata": {},
      "source": [
        "\u5f53\u521b\u5efaXML\u7684\u65f6\u5019\uff0c\u4f60\u88ab\u9650\u5236\u53ea\u80fd\u6784\u9020\u5b57\u7b26\u4e32\u7c7b\u578b\u7684\u503c\u3002\u4f8b\u5982\uff1a"
      ]
    },
    {
      "cell_type": "code",
      "execution_count": null,
      "metadata": {},
      "outputs": [],
      "source": [
        "d\ne\nf\n \nd\ni\nc\nt\n_\nt\no\n_\nx\nm\nl\n_\ns\nt\nr\n(\nt\na\ng\n,\n \nd\n)\n:\n\n\n \n \n \n \n'\n'\n'\n\n\n \n \n \n \nT\nu\nr\nn\n \na\n \ns\ni\nm\np\nl\ne\n \nd\ni\nc\nt\n \no\nf\n \nk\ne\ny\n/\nv\na\nl\nu\ne\n \np\na\ni\nr\ns\n \ni\nn\nt\no\n \nX\nM\nL\n\n\n \n \n \n \n'\n'\n'\n\n\n \n \n \n \np\na\nr\nt\ns\n \n=\n \n[\n'\n<\n{\n}\n>\n'\n.\nf\no\nr\nm\na\nt\n(\nt\na\ng\n)\n]\n\n\n \n \n \n \nf\no\nr\n \nk\ne\ny\n,\n \nv\na\nl\n \ni\nn\n \nd\n.\ni\nt\ne\nm\ns\n(\n)\n:\n\n\n \n \n \n \n \n \n \n \np\na\nr\nt\ns\n.\na\np\np\ne\nn\nd\n(\n'\n<\n{\n0\n}\n>\n{\n1\n}\n<\n/\n{\n0\n}\n>\n'\n.\nf\no\nr\nm\na\nt\n(\nk\ne\ny\n,\nv\na\nl\n)\n)\n\n\n \n \n \n \np\na\nr\nt\ns\n.\na\np\np\ne\nn\nd\n(\n'\n<\n/\n{\n}\n>\n'\n.\nf\no\nr\nm\na\nt\n(\nt\na\ng\n)\n)\n\n\n \n \n \n \nr\ne\nt\nu\nr\nn\n \n'\n'\n.\nj\no\ni\nn\n(\np\na\nr\nt\ns\n)\n\n"
      ]
    },
    {
      "cell_type": "markdown",
      "metadata": {},
      "source": [
        "\u95ee\u9898\u662f\u5982\u679c\u4f60\u624b\u52a8\u7684\u53bb\u6784\u9020\u7684\u65f6\u5019\u53ef\u80fd\u4f1a\u78b0\u5230\u4e00\u4e9b\u9ebb\u70e6\u3002\u4f8b\u5982\uff0c\u5f53\u5b57\u5178\u7684\u503c\u4e2d\u5305\u542b\u4e00\u4e9b\u7279\u6b8a\u5b57\u7b26\u7684\u65f6\u5019\u4f1a\u600e\u6837\u5462\uff1f"
      ]
    },
    {
      "cell_type": "code",
      "execution_count": null,
      "metadata": {},
      "outputs": [],
      "source": [
        "d = { 'name' : '<spam>' }"
      ]
    },
    {
      "cell_type": "code",
      "execution_count": null,
      "metadata": {},
      "outputs": [],
      "source": [
        "# String creation\ndict_to_xml_str('item',d)"
      ]
    },
    {
      "cell_type": "code",
      "execution_count": null,
      "metadata": {},
      "outputs": [],
      "source": [
        "# Proper XML creation\ne = dict_to_xml('item',d)\ntostring(e)"
      ]
    },
    {
      "cell_type": "markdown",
      "metadata": {},
      "source": [
        "\u6ce8\u610f\u5230\u7a0b\u5e8f\u7684\u540e\u9762\u90a3\u4e2a\u4f8b\u5b50\u4e2d\uff0c\u5b57\u7b26 \u2018<\u2019 \u548c \u2018>\u2019 \u88ab\u66ff\u6362\u6210\u4e86 &lt; \u548c &gt;"
      ]
    },
    {
      "cell_type": "markdown",
      "metadata": {},
      "source": [
        "\u4e0b\u9762\u4ec5\u4f9b\u53c2\u8003\uff0c\u5982\u679c\u4f60\u9700\u8981\u624b\u52a8\u53bb\u8f6c\u6362\u8fd9\u4e9b\u5b57\u7b26\uff0c\n\u53ef\u4ee5\u4f7f\u7528 xml.sax.saxutils \u4e2d\u7684 escape()  \u548c unescape() \u51fd\u6570\u3002\u4f8b\u5982\uff1a"
      ]
    },
    {
      "cell_type": "code",
      "execution_count": null,
      "metadata": {},
      "outputs": [],
      "source": [
        "from xml.sax.saxutils import escape, unescape\nescape('<spam>')"
      ]
    },
    {
      "cell_type": "code",
      "execution_count": null,
      "metadata": {},
      "outputs": [],
      "source": [
        "unescape(_)"
      ]
    },
    {
      "cell_type": "markdown",
      "metadata": {},
      "source": [
        "\u9664\u4e86\u80fd\u521b\u5efa\u6b63\u786e\u7684\u8f93\u51fa\u5916\uff0c\u8fd8\u6709\u53e6\u5916\u4e00\u4e2a\u539f\u56e0\u63a8\u8350\u4f60\u521b\u5efa Element \u5b9e\u4f8b\u800c\u4e0d\u662f\u5b57\u7b26\u4e32\uff0c\n\u90a3\u5c31\u662f\u4f7f\u7528\u5b57\u7b26\u4e32\u7ec4\u5408\u6784\u9020\u4e00\u4e2a\u66f4\u5927\u7684\u6587\u6863\u5e76\u4e0d\u662f\u90a3\u4e48\u5bb9\u6613\u3002\n\u800c Element \u5b9e\u4f8b\u53ef\u4ee5\u4e0d\u7528\u8003\u8651\u89e3\u6790XML\u6587\u672c\u7684\u60c5\u51b5\u4e0b\u901a\u8fc7\u591a\u79cd\u65b9\u5f0f\u88ab\u5904\u7406\u3002\n\u4e5f\u5c31\u662f\u8bf4\uff0c\u4f60\u53ef\u4ee5\u5728\u4e00\u4e2a\u9ad8\u7ea7\u6570\u636e\u7ed3\u6784\u4e0a\u5b8c\u6210\u4f60\u6240\u6709\u7684\u64cd\u4f5c\uff0c\u5e76\u5728\u6700\u540e\u4ee5\u5b57\u7b26\u4e32\u7684\u5f62\u5f0f\u5c06\u5176\u8f93\u51fa\u3002"
      ]
    },
    {
      "cell_type": "markdown",
      "metadata": {},
      "source": [
        "## 6.6 \u89e3\u6790\u548c\u4fee\u6539XML\n"
      ]
    },
    {
      "cell_type": "markdown",
      "metadata": {},
      "source": [
        "### \u95ee\u9898\n"
      ]
    },
    {
      "cell_type": "markdown",
      "metadata": {},
      "source": [
        "\u4f60\u60f3\u8bfb\u53d6\u4e00\u4e2aXML\u6587\u6863\uff0c\u5bf9\u5b83\u6700\u4e00\u4e9b\u4fee\u6539\uff0c\u7136\u540e\u5c06\u7ed3\u679c\u5199\u56deXML\u6587\u6863\u3002"
      ]
    },
    {
      "cell_type": "markdown",
      "metadata": {},
      "source": [
        "### \u89e3\u51b3\u65b9\u6848\n"
      ]
    },
    {
      "cell_type": "markdown",
      "metadata": {},
      "source": [
        "\u4f7f\u7528 xml.etree.ElementTree \u6a21\u5757\u53ef\u4ee5\u5f88\u5bb9\u6613\u7684\u5904\u7406\u8fd9\u4e9b\u4efb\u52a1\u3002\n\u7b2c\u4e00\u6b65\u662f\u4ee5\u901a\u5e38\u7684\u65b9\u5f0f\u6765\u89e3\u6790\u8fd9\u4e2a\u6587\u6863\u3002\u4f8b\u5982\uff0c\u5047\u8bbe\u4f60\u6709\u4e00\u4e2a\u540d\u4e3a pred.xml \u7684\u6587\u6863\uff0c\u7c7b\u4f3c\u4e0b\u9762\u8fd9\u6837\uff1a"
      ]
    },
    {
      "cell_type": "code",
      "execution_count": null,
      "metadata": {},
      "outputs": [],
      "source": [
        "<\n?\nx\nm\nl\n \nv\ne\nr\ns\ni\no\nn\n=\n\"\n1\n.\n0\n\"\n?\n>\n\n\n<\ns\nt\no\np\n>\n\n\n \n \n \n \n<\ni\nd\n>\n1\n4\n7\n9\n1\n<\n/\ni\nd\n>\n\n\n \n \n \n \n<\nn\nm\n>\nC\nl\na\nr\nk\n \n&\na\nm\np\n;\n \nB\na\nl\nm\no\nr\na\nl\n<\n/\nn\nm\n>\n\n\n \n \n \n \n<\ns\nr\ni\n>\n\n\n \n \n \n \n \n \n \n \n<\nr\nt\n>\n2\n2\n<\n/\nr\nt\n>\n\n\n \n \n \n \n \n \n \n \n<\nd\n>\nN\no\nr\nt\nh\n \nB\no\nu\nn\nd\n<\n/\nd\n>\n\n\n \n \n \n \n \n \n \n \n<\nd\nd\n>\nN\no\nr\nt\nh\n \nB\no\nu\nn\nd\n<\n/\nd\nd\n>\n\n\n \n \n \n \n<\n/\ns\nr\ni\n>\n\n\n \n \n \n \n<\nc\nr\n>\n2\n2\n<\n/\nc\nr\n>\n\n\n \n \n \n \n<\np\nr\ne\n>\n\n\n \n \n \n \n \n \n \n \n<\np\nt\n>\n5\n \nM\nI\nN\n<\n/\np\nt\n>\n\n\n \n \n \n \n \n \n \n \n<\nf\nd\n>\nH\no\nw\na\nr\nd\n<\n/\nf\nd\n>\n\n\n \n \n \n \n \n \n \n \n<\nv\n>\n1\n3\n7\n8\n<\n/\nv\n>\n\n\n \n \n \n \n \n \n \n \n<\nr\nn\n>\n2\n2\n<\n/\nr\nn\n>\n\n\n \n \n \n \n<\n/\np\nr\ne\n>\n\n\n \n \n \n \n<\np\nr\ne\n>\n\n\n \n \n \n \n \n \n \n \n<\np\nt\n>\n1\n5\n \nM\nI\nN\n<\n/\np\nt\n>\n\n\n \n \n \n \n \n \n \n \n<\nf\nd\n>\nH\no\nw\na\nr\nd\n<\n/\nf\nd\n>\n\n\n \n \n \n \n \n \n \n \n<\nv\n>\n1\n8\n6\n7\n<\n/\nv\n>\n\n\n \n \n \n \n \n \n \n \n<\nr\nn\n>\n2\n2\n<\n/\nr\nn\n>\n\n\n \n \n \n \n<\n/\np\nr\ne\n>\n\n\n<\n/\ns\nt\no\np\n>\n\n"
      ]
    },
    {
      "cell_type": "markdown",
      "metadata": {},
      "source": [
        "\u4e0b\u9762\u662f\u4e00\u4e2a\u5229\u7528 ElementTree \u6765\u8bfb\u53d6\u8fd9\u4e2a\u6587\u6863\u5e76\u5bf9\u5b83\u505a\u4e00\u4e9b\u4fee\u6539\u7684\u4f8b\u5b50\uff1a"
      ]
    },
    {
      "cell_type": "code",
      "execution_count": null,
      "metadata": {},
      "outputs": [],
      "source": [
        "from xml.etree.ElementTree import parse, Element\ndoc = parse('pred.xml')\nroot = doc.getroot()\nroot"
      ]
    },
    {
      "cell_type": "code",
      "execution_count": null,
      "metadata": {},
      "outputs": [],
      "source": [
        "# Remove a few elements\nroot.remove(root.find('sri'))\nroot.remove(root.find('cr'))\n# Insert a new element after <nm>...</nm>\nroot.getchildren().index(root.find('nm'))"
      ]
    },
    {
      "cell_type": "code",
      "execution_count": null,
      "metadata": {},
      "outputs": [],
      "source": [
        "e = Element('spam')\ne.text = 'This is a test'\nroot.insert(2, e)"
      ]
    },
    {
      "cell_type": "code",
      "execution_count": null,
      "metadata": {},
      "outputs": [],
      "source": [
        "# Write back to a file\ndoc.write('newpred.xml', xml_declaration=True)"
      ]
    },
    {
      "cell_type": "markdown",
      "metadata": {},
      "source": [
        "\u5904\u7406\u7ed3\u679c\u662f\u4e00\u4e2a\u50cf\u4e0b\u9762\u8fd9\u6837\u65b0\u7684XML\u6587\u4ef6\uff1a"
      ]
    },
    {
      "cell_type": "code",
      "execution_count": null,
      "metadata": {},
      "outputs": [],
      "source": [
        "<\n?\nx\nm\nl\n \nv\ne\nr\ns\ni\no\nn\n=\n'\n1\n.\n0\n'\n \ne\nn\nc\no\nd\ni\nn\ng\n=\n'\nu\ns\n-\na\ns\nc\ni\ni\n'\n?\n>\n\n\n<\ns\nt\no\np\n>\n\n\n \n \n \n \n<\ni\nd\n>\n1\n4\n7\n9\n1\n<\n/\ni\nd\n>\n\n\n \n \n \n \n<\nn\nm\n>\nC\nl\na\nr\nk\n \n&\na\nm\np\n;\n \nB\na\nl\nm\no\nr\na\nl\n<\n/\nn\nm\n>\n\n\n \n \n \n \n<\ns\np\na\nm\n>\nT\nh\ni\ns\n \ni\ns\n \na\n \nt\ne\ns\nt\n<\n/\ns\np\na\nm\n>\n\n\n \n \n \n \n<\np\nr\ne\n>\n\n\n \n \n \n \n \n \n \n \n<\np\nt\n>\n5\n \nM\nI\nN\n<\n/\np\nt\n>\n\n\n \n \n \n \n \n \n \n \n<\nf\nd\n>\nH\no\nw\na\nr\nd\n<\n/\nf\nd\n>\n\n\n \n \n \n \n \n \n \n \n<\nv\n>\n1\n3\n7\n8\n<\n/\nv\n>\n\n\n \n \n \n \n \n \n \n \n<\nr\nn\n>\n2\n2\n<\n/\nr\nn\n>\n\n\n \n \n \n \n<\n/\np\nr\ne\n>\n\n\n \n \n \n \n<\np\nr\ne\n>\n\n\n \n \n \n \n \n \n \n \n<\np\nt\n>\n1\n5\n \nM\nI\nN\n<\n/\np\nt\n>\n\n\n \n \n \n \n \n \n \n \n<\nf\nd\n>\nH\no\nw\na\nr\nd\n<\n/\nf\nd\n>\n\n\n \n \n \n \n \n \n \n \n<\nv\n>\n1\n8\n6\n7\n<\n/\nv\n>\n\n\n \n \n \n \n \n \n \n \n<\nr\nn\n>\n2\n2\n<\n/\nr\nn\n>\n\n\n \n \n \n \n<\n/\np\nr\ne\n>\n\n\n<\n/\ns\nt\no\np\n>\n\n"
      ]
    },
    {
      "cell_type": "markdown",
      "metadata": {},
      "source": [
        "### \u8ba8\u8bba\n"
      ]
    },
    {
      "cell_type": "markdown",
      "metadata": {},
      "source": [
        "\u4fee\u6539\u4e00\u4e2aXML\u6587\u6863\u7ed3\u6784\u662f\u5f88\u5bb9\u6613\u7684\uff0c\u4f46\u662f\u4f60\u5fc5\u987b\u7262\u8bb0\u7684\u662f\u6240\u6709\u7684\u4fee\u6539\u90fd\u662f\u9488\u5bf9\u7236\u8282\u70b9\u5143\u7d20\uff0c\n\u5c06\u5b83\u4f5c\u4e3a\u4e00\u4e2a\u5217\u8868\u6765\u5904\u7406\u3002\u4f8b\u5982\uff0c\u5982\u679c\u4f60\u5220\u9664\u67d0\u4e2a\u5143\u7d20\uff0c\u901a\u8fc7\u8c03\u7528\u7236\u8282\u70b9\u7684 remove() \u65b9\u6cd5\u4ece\u5b83\u7684\u76f4\u63a5\u7236\u8282\u70b9\u4e2d\u5220\u9664\u3002\n\u5982\u679c\u4f60\u63d2\u5165\u6216\u589e\u52a0\u65b0\u7684\u5143\u7d20\uff0c\u4f60\u540c\u6837\u4f7f\u7528\u7236\u8282\u70b9\u5143\u7d20\u7684 insert() \u548c append() \u65b9\u6cd5\u3002\n\u8fd8\u80fd\u5bf9\u5143\u7d20\u4f7f\u7528\u7d22\u5f15\u548c\u5207\u7247\u64cd\u4f5c\uff0c\u6bd4\u5982 element[i] \u6216 element[i:j]"
      ]
    },
    {
      "cell_type": "markdown",
      "metadata": {},
      "source": [
        "\u5982\u679c\u4f60\u9700\u8981\u521b\u5efa\u65b0\u7684\u5143\u7d20\uff0c\u53ef\u4ee5\u4f7f\u7528\u672c\u8282\u65b9\u6848\u4e2d\u6f14\u793a\u7684 Element \u7c7b\u3002\u6211\u4eec\u57286.5\u5c0f\u8282\u5df2\u7ecf\u8be6\u7ec6\u8ba8\u8bba\u8fc7\u4e86\u3002"
      ]
    },
    {
      "cell_type": "markdown",
      "metadata": {},
      "source": [
        "## 6.7 \u5229\u7528\u547d\u540d\u7a7a\u95f4\u89e3\u6790XML\u6587\u6863\n"
      ]
    },
    {
      "cell_type": "markdown",
      "metadata": {},
      "source": [
        "### \u95ee\u9898\n"
      ]
    },
    {
      "cell_type": "markdown",
      "metadata": {},
      "source": [
        "\u4f60\u60f3\u89e3\u6790\u67d0\u4e2aXML\u6587\u6863\uff0c\u6587\u6863\u4e2d\u4f7f\u7528\u4e86XML\u547d\u540d\u7a7a\u95f4\u3002"
      ]
    },
    {
      "cell_type": "markdown",
      "metadata": {},
      "source": [
        "### \u89e3\u51b3\u65b9\u6848\n"
      ]
    },
    {
      "cell_type": "markdown",
      "metadata": {},
      "source": [
        "\u8003\u8651\u4e0b\u9762\u8fd9\u4e2a\u4f7f\u7528\u4e86\u547d\u540d\u7a7a\u95f4\u7684\u6587\u6863\uff1a"
      ]
    },
    {
      "cell_type": "code",
      "execution_count": null,
      "metadata": {},
      "outputs": [],
      "source": [
        "<\n?\nx\nm\nl\n \nv\ne\nr\ns\ni\no\nn\n=\n\"\n1\n.\n0\n\"\n \ne\nn\nc\no\nd\ni\nn\ng\n=\n\"\nu\nt\nf\n-\n8\n\"\n?\n>\n\n\n<\nt\no\np\n>\n\n\n \n \n \n \n<\na\nu\nt\nh\no\nr\n>\nD\na\nv\ni\nd\n \nB\ne\na\nz\nl\ne\ny\n<\n/\na\nu\nt\nh\no\nr\n>\n\n\n \n \n \n \n<\nc\no\nn\nt\ne\nn\nt\n>\n\n\n \n \n \n \n \n \n \n \n<\nh\nt\nm\nl\n \nx\nm\nl\nn\ns\n=\n\"\nh\nt\nt\np\n:\n/\n/\nw\nw\nw\n.\nw\n3\n.\no\nr\ng\n/\n1\n9\n9\n9\n/\nx\nh\nt\nm\nl\n\"\n>\n\n\n \n \n \n \n \n \n \n \n \n \n \n \n<\nh\ne\na\nd\n>\n\n\n \n \n \n \n \n \n \n \n \n \n \n \n \n \n \n \n<\nt\ni\nt\nl\ne\n>\nH\ne\nl\nl\no\n \nW\no\nr\nl\nd\n<\n/\nt\ni\nt\nl\ne\n>\n\n\n \n \n \n \n \n \n \n \n \n \n \n \n<\n/\nh\ne\na\nd\n>\n\n\n \n \n \n \n \n \n \n \n \n \n \n \n<\nb\no\nd\ny\n>\n\n\n \n \n \n \n \n \n \n \n \n \n \n \n \n \n \n \n<\nh\n1\n>\nH\ne\nl\nl\no\n \nW\no\nr\nl\nd\n!\n<\n/\nh\n1\n>\n\n\n \n \n \n \n \n \n \n \n \n \n \n \n<\n/\nb\no\nd\ny\n>\n\n\n \n \n \n \n \n \n \n \n<\n/\nh\nt\nm\nl\n>\n\n\n \n \n \n \n<\n/\nc\no\nn\nt\ne\nn\nt\n>\n\n\n<\n/\nt\no\np\n>\n\n"
      ]
    },
    {
      "cell_type": "markdown",
      "metadata": {},
      "source": [
        "\u5982\u679c\u4f60\u89e3\u6790\u8fd9\u4e2a\u6587\u6863\u5e76\u6267\u884c\u666e\u901a\u7684\u67e5\u8be2\uff0c\u4f60\u4f1a\u53d1\u73b0\u8fd9\u4e2a\u5e76\u4e0d\u662f\u90a3\u4e48\u5bb9\u6613\uff0c\u56e0\u4e3a\u6240\u6709\u6b65\u9aa4\u90fd\u53d8\u5f97\u76f8\u5f53\u7684\u7e41\u7410\u3002"
      ]
    },
    {
      "cell_type": "code",
      "execution_count": null,
      "metadata": {},
      "outputs": [],
      "source": [
        "# Some queries that work\ndoc.findtext('author')"
      ]
    },
    {
      "cell_type": "code",
      "execution_count": null,
      "metadata": {},
      "outputs": [],
      "source": [
        "doc.find('content')"
      ]
    },
    {
      "cell_type": "code",
      "execution_count": null,
      "metadata": {},
      "outputs": [],
      "source": [
        "# A query involving a namespace (doesn't work)\ndoc.find('content/html')\n# Works if fully qualified\ndoc.find('content/{http://www.w3.org/1999/xhtml}html')"
      ]
    },
    {
      "cell_type": "code",
      "execution_count": null,
      "metadata": {},
      "outputs": [],
      "source": [
        "# Doesn't work\ndoc.findtext('content/{http://www.w3.org/1999/xhtml}html/head/title')\n# Fully qualified\ndoc.findtext('content/{http://www.w3.org/1999/xhtml}html/'\n'{http://www.w3.org/1999/xhtml}head/{http://www.w3.org/1999/xhtml}title')"
      ]
    },
    {
      "cell_type": "markdown",
      "metadata": {},
      "source": [
        "\u4f60\u53ef\u4ee5\u901a\u8fc7\u5c06\u547d\u540d\u7a7a\u95f4\u5904\u7406\u903b\u8f91\u5305\u88c5\u4e3a\u4e00\u4e2a\u5de5\u5177\u7c7b\u6765\u7b80\u5316\u8fd9\u4e2a\u8fc7\u7a0b\uff1a"
      ]
    },
    {
      "cell_type": "code",
      "execution_count": null,
      "metadata": {},
      "outputs": [],
      "source": [
        "c\nl\na\ns\ns\n \nX\nM\nL\nN\na\nm\ne\ns\np\na\nc\ne\ns\n:\n\n\n \n \n \n \nd\ne\nf\n \n_\n_\ni\nn\ni\nt\n_\n_\n(\ns\ne\nl\nf\n,\n \n*\n*\nk\nw\na\nr\ng\ns\n)\n:\n\n\n \n \n \n \n \n \n \n \ns\ne\nl\nf\n.\nn\na\nm\ne\ns\np\na\nc\ne\ns\n \n=\n \n{\n}\n\n\n \n \n \n \n \n \n \n \nf\no\nr\n \nn\na\nm\ne\n,\n \nu\nr\ni\n \ni\nn\n \nk\nw\na\nr\ng\ns\n.\ni\nt\ne\nm\ns\n(\n)\n:\n\n\n \n \n \n \n \n \n \n \n \n \n \n \ns\ne\nl\nf\n.\nr\ne\ng\ni\ns\nt\ne\nr\n(\nn\na\nm\ne\n,\n \nu\nr\ni\n)\n\n\n \n \n \n \nd\ne\nf\n \nr\ne\ng\ni\ns\nt\ne\nr\n(\ns\ne\nl\nf\n,\n \nn\na\nm\ne\n,\n \nu\nr\ni\n)\n:\n\n\n \n \n \n \n \n \n \n \ns\ne\nl\nf\n.\nn\na\nm\ne\ns\np\na\nc\ne\ns\n[\nn\na\nm\ne\n]\n \n=\n \n'\n{\n'\n+\nu\nr\ni\n+\n'\n}\n'\n\n\n \n \n \n \nd\ne\nf\n \n_\n_\nc\na\nl\nl\n_\n_\n(\ns\ne\nl\nf\n,\n \np\na\nt\nh\n)\n:\n\n\n \n \n \n \n \n \n \n \nr\ne\nt\nu\nr\nn\n \np\na\nt\nh\n.\nf\no\nr\nm\na\nt\n_\nm\na\np\n(\ns\ne\nl\nf\n.\nn\na\nm\ne\ns\np\na\nc\ne\ns\n)\n\n"
      ]
    },
    {
      "cell_type": "markdown",
      "metadata": {},
      "source": [
        "\u901a\u8fc7\u4e0b\u9762\u7684\u65b9\u5f0f\u4f7f\u7528\u8fd9\u4e2a\u7c7b\uff1a"
      ]
    },
    {
      "cell_type": "code",
      "execution_count": null,
      "metadata": {},
      "outputs": [],
      "source": [
        "ns = XMLNamespaces(html='http://www.w3.org/1999/xhtml')\ndoc.find(ns('content/{html}html'))"
      ]
    },
    {
      "cell_type": "code",
      "execution_count": null,
      "metadata": {},
      "outputs": [],
      "source": [
        "doc.findtext(ns('content/{html}html/{html}head/{html}title'))"
      ]
    },
    {
      "cell_type": "markdown",
      "metadata": {},
      "source": [
        "### \u8ba8\u8bba\n"
      ]
    },
    {
      "cell_type": "markdown",
      "metadata": {},
      "source": [
        "\u89e3\u6790\u542b\u6709\u547d\u540d\u7a7a\u95f4\u7684XML\u6587\u6863\u4f1a\u6bd4\u8f83\u7e41\u7410\u3002\n\u4e0a\u9762\u7684 XMLNamespaces \u4ec5\u4ec5\u662f\u5141\u8bb8\u4f60\u4f7f\u7528\u7f29\u7565\u540d\u4ee3\u66ff\u5b8c\u6574\u7684URI\u5c06\u5176\u53d8\u5f97\u7a0d\u5fae\u7b80\u6d01\u4e00\u70b9\u3002"
      ]
    },
    {
      "cell_type": "markdown",
      "metadata": {},
      "source": [
        "\u5f88\u4e0d\u5e78\u7684\u662f\uff0c\u5728\u57fa\u672c\u7684 ElementTree \u89e3\u6790\u4e2d\u6ca1\u6709\u4efb\u4f55\u9014\u5f84\u83b7\u53d6\u547d\u540d\u7a7a\u95f4\u7684\u4fe1\u606f\u3002\n\u4f46\u662f\uff0c\u5982\u679c\u4f60\u4f7f\u7528 iterparse() \u51fd\u6570\u7684\u8bdd\u5c31\u53ef\u4ee5\u83b7\u53d6\u66f4\u591a\u5173\u4e8e\u547d\u540d\u7a7a\u95f4\u5904\u7406\u8303\u56f4\u7684\u4fe1\u606f\u3002\u4f8b\u5982\uff1a"
      ]
    },
    {
      "cell_type": "code",
      "execution_count": null,
      "metadata": {},
      "outputs": [],
      "source": [
        "from xml.etree.ElementTree import iterparse\nfor evt, elem in iterparse('ns2.xml', ('end', 'start-ns', 'end-ns')):\nprint(evt, elem)"
      ]
    },
    {
      "cell_type": "code",
      "execution_count": null,
      "metadata": {},
      "outputs": [],
      "source": [
        "elem # This is the topmost element"
      ]
    },
    {
      "cell_type": "markdown",
      "metadata": {},
      "source": [
        "\u6700\u540e\u4e00\u70b9\uff0c\u5982\u679c\u4f60\u8981\u5904\u7406\u7684XML\u6587\u672c\u9664\u4e86\u8981\u4f7f\u7528\u5230\u5176\u4ed6\u9ad8\u7ea7XML\u7279\u6027\u5916\uff0c\u8fd8\u8981\u4f7f\u7528\u5230\u547d\u540d\u7a7a\u95f4\uff0c\n\u5efa\u8bae\u4f60\u6700\u597d\u662f\u4f7f\u7528 lxml \u51fd\u6570\u5e93\u6765\u4ee3\u66ff ElementTree \u3002\n\u4f8b\u5982\uff0clxml \u5bf9\u5229\u7528DTD\u9a8c\u8bc1\u6587\u6863\u3001\u66f4\u597d\u7684XPath\u652f\u6301\u548c\u4e00\u4e9b\u5176\u4ed6\u9ad8\u7ea7XML\u7279\u6027\u7b49\u90fd\u63d0\u4f9b\u4e86\u66f4\u597d\u7684\u652f\u6301\u3002\n\u8fd9\u4e00\u5c0f\u8282\u5176\u5b9e\u53ea\u662f\u6559\u4f60\u5982\u4f55\u8ba9XML\u89e3\u6790\u7a0d\u5fae\u7b80\u5355\u4e00\u70b9\u3002"
      ]
    },
    {
      "cell_type": "markdown",
      "metadata": {},
      "source": [
        "## 6.8 \u4e0e\u5173\u7cfb\u578b\u6570\u636e\u5e93\u7684\u4ea4\u4e92\n"
      ]
    },
    {
      "cell_type": "markdown",
      "metadata": {},
      "source": [
        "### \u95ee\u9898\n"
      ]
    },
    {
      "cell_type": "markdown",
      "metadata": {},
      "source": [
        "\u4f60\u60f3\u5728\u5173\u7cfb\u578b\u6570\u636e\u5e93\u4e2d\u67e5\u8be2\u3001\u589e\u52a0\u6216\u5220\u9664\u8bb0\u5f55\u3002"
      ]
    },
    {
      "cell_type": "markdown",
      "metadata": {},
      "source": [
        "### \u89e3\u51b3\u65b9\u6848\n"
      ]
    },
    {
      "cell_type": "markdown",
      "metadata": {},
      "source": [
        "Python\u4e2d\u8868\u793a\u591a\u884c\u6570\u636e\u7684\u6807\u51c6\u65b9\u5f0f\u662f\u4e00\u4e2a\u7531\u5143\u7ec4\u6784\u6210\u7684\u5e8f\u5217\u3002\u4f8b\u5982\uff1a"
      ]
    },
    {
      "cell_type": "code",
      "execution_count": null,
      "metadata": {},
      "outputs": [],
      "source": [
        "s\nt\no\nc\nk\ns\n \n=\n \n[\n\n\n \n \n \n \n(\n'\nG\nO\nO\nG\n'\n,\n \n1\n0\n0\n,\n \n4\n9\n0\n.\n1\n)\n,\n\n\n \n \n \n \n(\n'\nA\nA\nP\nL\n'\n,\n \n5\n0\n,\n \n5\n4\n5\n.\n7\n5\n)\n,\n\n\n \n \n \n \n(\n'\nF\nB\n'\n,\n \n1\n5\n0\n,\n \n7\n.\n4\n5\n)\n,\n\n\n \n \n \n \n(\n'\nH\nP\nQ\n'\n,\n \n7\n5\n,\n \n3\n3\n.\n2\n)\n,\n\n\n]\n\n"
      ]
    },
    {
      "cell_type": "markdown",
      "metadata": {},
      "source": [
        "\u4f9d\u636ePEP249\uff0c\u901a\u8fc7\u8fd9\u79cd\u5f62\u5f0f\u63d0\u4f9b\u6570\u636e\uff0c\n\u53ef\u4ee5\u5f88\u5bb9\u6613\u7684\u4f7f\u7528Python\u6807\u51c6\u6570\u636e\u5e93API\u548c\u5173\u7cfb\u578b\u6570\u636e\u5e93\u8fdb\u884c\u4ea4\u4e92\u3002\n\u6240\u6709\u6570\u636e\u5e93\u4e0a\u7684\u64cd\u4f5c\u90fd\u901a\u8fc7SQL\u67e5\u8be2\u8bed\u53e5\u6765\u5b8c\u6210\u3002\u6bcf\u4e00\u884c\u8f93\u5165\u8f93\u51fa\u6570\u636e\u7528\u4e00\u4e2a\u5143\u7ec4\u6765\u8868\u793a\u3002"
      ]
    },
    {
      "cell_type": "markdown",
      "metadata": {},
      "source": [
        "\u4e3a\u4e86\u6f14\u793a\u8bf4\u660e\uff0c\u4f60\u53ef\u4ee5\u4f7f\u7528Python\u6807\u51c6\u5e93\u4e2d\u7684 sqlite3 \u6a21\u5757\u3002\n\u5982\u679c\u4f60\u4f7f\u7528\u7684\u662f\u4e00\u4e2a\u4e0d\u540c\u7684\u6570\u636e\u5e93(\u6bd4\u5982MySql\u3001Postgresql\u6216\u8005ODBC)\uff0c\n\u8fd8\u5f97\u5b89\u88c5\u76f8\u5e94\u7684\u7b2c\u4e09\u65b9\u6a21\u5757\u6765\u63d0\u4f9b\u652f\u6301\u3002\n\u4e0d\u8fc7\u76f8\u5e94\u7684\u7f16\u7a0b\u63a5\u53e3\u51e0\u4e4e\u90fd\u662f\u4e00\u6837\u7684\uff0c\u9664\u4e86\u4e00\u70b9\u70b9\u7ec6\u5fae\u5dee\u522b\u5916\u3002"
      ]
    },
    {
      "cell_type": "markdown",
      "metadata": {},
      "source": [
        "\u7b2c\u4e00\u6b65\u662f\u8fde\u63a5\u5230\u6570\u636e\u5e93\u3002\u901a\u5e38\u4f60\u8981\u6267\u884c connect() \u51fd\u6570\uff0c\n\u7ed9\u5b83\u63d0\u4f9b\u4e00\u4e9b\u6570\u636e\u5e93\u540d\u3001\u4e3b\u673a\u3001\u7528\u6237\u540d\u3001\u5bc6\u7801\u548c\u5176\u4ed6\u5fc5\u8981\u7684\u4e00\u4e9b\u53c2\u6570\u3002\u4f8b\u5982\uff1a"
      ]
    },
    {
      "cell_type": "code",
      "execution_count": null,
      "metadata": {},
      "outputs": [],
      "source": [
        "import sqlite3\ndb = sqlite3.connect('database.db')"
      ]
    },
    {
      "cell_type": "markdown",
      "metadata": {},
      "source": [
        "\u4e3a\u4e86\u5904\u7406\u6570\u636e\uff0c\u4e0b\u4e00\u6b65\u4f60\u9700\u8981\u521b\u5efa\u4e00\u4e2a\u6e38\u6807\u3002\n\u4e00\u65e6\u4f60\u6709\u4e86\u6e38\u6807\uff0c\u90a3\u4e48\u4f60\u5c31\u53ef\u4ee5\u6267\u884cSQL\u67e5\u8be2\u8bed\u53e5\u4e86\u3002\u6bd4\u5982\uff1a"
      ]
    },
    {
      "cell_type": "code",
      "execution_count": null,
      "metadata": {},
      "outputs": [],
      "source": [
        "c = db.cursor()\nc.execute('create table portfolio (symbol text, shares integer, price real)')"
      ]
    },
    {
      "cell_type": "code",
      "execution_count": null,
      "metadata": {},
      "outputs": [],
      "source": [
        "db.commit()"
      ]
    },
    {
      "cell_type": "markdown",
      "metadata": {},
      "source": [
        "\u4e3a\u4e86\u5411\u6570\u636e\u5e93\u8868\u4e2d\u63d2\u5165\u591a\u6761\u8bb0\u5f55\uff0c\u4f7f\u7528\u7c7b\u4f3c\u4e0b\u9762\u8fd9\u6837\u7684\u8bed\u53e5\uff1a"
      ]
    },
    {
      "cell_type": "code",
      "execution_count": null,
      "metadata": {},
      "outputs": [],
      "source": [
        "c.executemany('insert into portfolio values (?,?,?)', stocks)"
      ]
    },
    {
      "cell_type": "code",
      "execution_count": null,
      "metadata": {},
      "outputs": [],
      "source": [
        "db.commit()"
      ]
    },
    {
      "cell_type": "markdown",
      "metadata": {},
      "source": [
        "\u4e3a\u4e86\u6267\u884c\u67d0\u4e2a\u67e5\u8be2\uff0c\u4f7f\u7528\u50cf\u4e0b\u9762\u8fd9\u6837\u7684\u8bed\u53e5\uff1a"
      ]
    },
    {
      "cell_type": "code",
      "execution_count": null,
      "metadata": {},
      "outputs": [],
      "source": [
        "for row in db.execute('select * from portfolio'):\n    print(row)"
      ]
    },
    {
      "cell_type": "markdown",
      "metadata": {},
      "source": [
        "\u5982\u679c\u4f60\u60f3\u63a5\u53d7\u7528\u6237\u8f93\u5165\u4f5c\u4e3a\u53c2\u6570\u6765\u6267\u884c\u67e5\u8be2\u64cd\u4f5c\uff0c\u5fc5\u987b\u786e\u4fdd\u4f60\u4f7f\u7528\u4e0b\u9762\u8fd9\u6837\u7684\u5360\u4f4d\u7b26``?``\u6765\u8fdb\u884c\u5f15\u7528\u53c2\u6570\uff1a"
      ]
    },
    {
      "cell_type": "code",
      "execution_count": null,
      "metadata": {},
      "outputs": [],
      "source": [
        "min_price = 100\nfor row in db.execute('select * from portfolio where price >= ?',"
      ]
    },
    {
      "cell_type": "code",
      "execution_count": null,
      "metadata": {},
      "outputs": [],
      "source": [
        "    print(row)"
      ]
    },
    {
      "cell_type": "markdown",
      "metadata": {},
      "source": [
        "### \u8ba8\u8bba\n"
      ]
    },
    {
      "cell_type": "markdown",
      "metadata": {},
      "source": [
        "\u5728\u6bd4\u8f83\u4f4e\u7684\u7ea7\u522b\u4e0a\u548c\u6570\u636e\u5e93\u4ea4\u4e92\u662f\u975e\u5e38\u7b80\u5355\u7684\u3002\n\u4f60\u53ea\u9700\u63d0\u4f9bSQL\u8bed\u53e5\u5e76\u8c03\u7528\u76f8\u5e94\u7684\u6a21\u5757\u5c31\u53ef\u4ee5\u66f4\u65b0\u6216\u63d0\u53d6\u6570\u636e\u4e86\u3002\n\u867d\u8bf4\u5982\u6b64\uff0c\u8fd8\u662f\u6709\u4e00\u4e9b\u6bd4\u8f83\u68d8\u624b\u7684\u7ec6\u8282\u95ee\u9898\u9700\u8981\u4f60\u9010\u4e2a\u5217\u51fa\u53bb\u89e3\u51b3\u3002"
      ]
    },
    {
      "cell_type": "markdown",
      "metadata": {},
      "source": [
        "\u4e00\u4e2a\u96be\u70b9\u662f\u6570\u636e\u5e93\u4e2d\u7684\u6570\u636e\u548cPython\u7c7b\u578b\u76f4\u63a5\u7684\u6620\u5c04\u3002\n\u5bf9\u4e8e\u65e5\u671f\u7c7b\u578b\uff0c\u901a\u5e38\u53ef\u4ee5\u4f7f\u7528 datetime \u6a21\u5757\u4e2d\u7684 datetime \u5b9e\u4f8b\uff0c\n\u6216\u8005\u53ef\u80fd\u662f time \u6a21\u5757\u4e2d\u7684\u7cfb\u7edf\u65f6\u95f4\u6233\u3002\n\u5bf9\u4e8e\u6570\u5b57\u7c7b\u578b\uff0c\u7279\u522b\u662f\u4f7f\u7528\u5230\u5c0f\u6570\u7684\u91d1\u878d\u6570\u636e\uff0c\u53ef\u4ee5\u7528 decimal \u6a21\u5757\u4e2d\u7684 Decimal \u5b9e\u4f8b\u6765\u8868\u793a\u3002\n\u4e0d\u5e78\u7684\u662f\uff0c\u5bf9\u4e8e\u4e0d\u540c\u7684\u6570\u636e\u5e93\u800c\u8a00\u5177\u4f53\u6620\u5c04\u89c4\u5219\u662f\u4e0d\u4e00\u6837\u7684\uff0c\u4f60\u5fc5\u987b\u53c2\u8003\u76f8\u5e94\u7684\u6587\u6863\u3002"
      ]
    },
    {
      "cell_type": "markdown",
      "metadata": {},
      "source": [
        "\u53e6\u5916\u4e00\u4e2a\u66f4\u52a0\u590d\u6742\u7684\u95ee\u9898\u5c31\u662fSQL\u8bed\u53e5\u5b57\u7b26\u4e32\u7684\u6784\u9020\u3002\n\u4f60\u5343\u4e07\u4e0d\u8981\u4f7f\u7528Python\u5b57\u7b26\u4e32\u683c\u5f0f\u5316\u64cd\u4f5c\u7b26(\u5982%)\u6216\u8005 .format() \u65b9\u6cd5\u6765\u521b\u5efa\u8fd9\u6837\u7684\u5b57\u7b26\u4e32\u3002\n\u5982\u679c\u4f20\u9012\u7ed9\u8fd9\u4e9b\u683c\u5f0f\u5316\u64cd\u4f5c\u7b26\u7684\u503c\u6765\u81ea\u4e8e\u7528\u6237\u7684\u8f93\u5165\uff0c\u90a3\u4e48\u4f60\u7684\u7a0b\u5e8f\u5c31\u5f88\u6709\u53ef\u80fd\u906d\u53d7SQL\u6ce8\u5165\u653b\u51fb(\u53c2\u8003 http://xkcd.com/327 )\u3002\n\u67e5\u8be2\u8bed\u53e5\u4e2d\u7684\u901a\u914d\u7b26 ? \u6307\u793a\u540e\u53f0\u6570\u636e\u5e93\u4f7f\u7528\u5b83\u81ea\u5df1\u7684\u5b57\u7b26\u4e32\u66ff\u6362\u673a\u5236\uff0c\u8fd9\u6837\u66f4\u52a0\u7684\u5b89\u5168\u3002"
      ]
    },
    {
      "cell_type": "markdown",
      "metadata": {},
      "source": [
        "\u4e0d\u5e78\u7684\u662f\uff0c\u4e0d\u540c\u7684\u6570\u636e\u5e93\u540e\u53f0\u5bf9\u4e8e\u901a\u914d\u7b26\u7684\u4f7f\u7528\u662f\u4e0d\u4e00\u6837\u7684\u3002\u5927\u90e8\u5206\u6a21\u5757\u4f7f\u7528 ? \u6216 %s \uff0c\n\u8fd8\u6709\u5176\u4ed6\u4e00\u4e9b\u4f7f\u7528\u4e86\u4e0d\u540c\u7684\u7b26\u53f7\uff0c\u6bd4\u5982:0\u6216:1\u6765\u6307\u793a\u53c2\u6570\u3002\n\u540c\u6837\u7684\uff0c\u4f60\u8fd8\u662f\u5f97\u53bb\u53c2\u8003\u4f60\u4f7f\u7528\u7684\u6570\u636e\u5e93\u6a21\u5757\u76f8\u5e94\u7684\u6587\u6863\u3002\n\u4e00\u4e2a\u6570\u636e\u5e93\u6a21\u5757\u7684 paramstyle \u5c5e\u6027\u5305\u542b\u4e86\u53c2\u6570\u5f15\u7528\u98ce\u683c\u7684\u4fe1\u606f\u3002"
      ]
    },
    {
      "cell_type": "markdown",
      "metadata": {},
      "source": [
        "\u5bf9\u4e8e\u7b80\u5355\u7684\u6570\u636e\u5e93\u6570\u636e\u7684\u8bfb\u5199\u95ee\u9898\uff0c\u4f7f\u7528\u6570\u636e\u5e93API\u901a\u5e38\u975e\u5e38\u7b80\u5355\u3002\n\u5982\u679c\u4f60\u8981\u5904\u7406\u66f4\u52a0\u590d\u6742\u7684\u95ee\u9898\uff0c\u5efa\u8bae\u4f60\u4f7f\u7528\u66f4\u52a0\u9ad8\u7ea7\u7684\u63a5\u53e3\uff0c\u6bd4\u5982\u4e00\u4e2a\u5bf9\u8c61\u5173\u7cfb\u6620\u5c04ORM\u6240\u63d0\u4f9b\u7684\u63a5\u53e3\u3002\n\u7c7b\u4f3c SQLAlchemy \u8fd9\u6837\u7684\u5e93\u5141\u8bb8\u4f60\u4f7f\u7528Python\u7c7b\u6765\u8868\u793a\u4e00\u4e2a\u6570\u636e\u5e93\u8868\uff0c\n\u5e76\u4e14\u80fd\u5728\u9690\u85cf\u5e95\u5c42SQL\u7684\u60c5\u51b5\u4e0b\u5b9e\u73b0\u5404\u79cd\u6570\u636e\u5e93\u7684\u64cd\u4f5c\u3002"
      ]
    },
    {
      "cell_type": "markdown",
      "metadata": {},
      "source": [
        "## 6.9 \u7f16\u7801\u548c\u89e3\u7801\u5341\u516d\u8fdb\u5236\u6570\n"
      ]
    },
    {
      "cell_type": "markdown",
      "metadata": {},
      "source": [
        "### \u95ee\u9898\n"
      ]
    },
    {
      "cell_type": "markdown",
      "metadata": {},
      "source": [
        "\u4f60\u60f3\u5c06\u4e00\u4e2a\u5341\u516d\u8fdb\u5236\u5b57\u7b26\u4e32\u89e3\u7801\u6210\u4e00\u4e2a\u5b57\u8282\u5b57\u7b26\u4e32\u6216\u8005\u5c06\u4e00\u4e2a\u5b57\u8282\u5b57\u7b26\u4e32\u7f16\u7801\u6210\u4e00\u4e2a\u5341\u516d\u8fdb\u5236\u5b57\u7b26\u4e32\u3002"
      ]
    },
    {
      "cell_type": "markdown",
      "metadata": {},
      "source": [
        "### \u89e3\u51b3\u65b9\u6848\n"
      ]
    },
    {
      "cell_type": "markdown",
      "metadata": {},
      "source": [
        "\u5982\u679c\u4f60\u53ea\u662f\u7b80\u5355\u7684\u89e3\u7801\u6216\u7f16\u7801\u4e00\u4e2a\u5341\u516d\u8fdb\u5236\u7684\u539f\u59cb\u5b57\u7b26\u4e32\uff0c\u53ef\u4ee5\u4f7f\u7528\u3000binascii \u6a21\u5757\u3002\u4f8b\u5982\uff1a"
      ]
    },
    {
      "cell_type": "code",
      "execution_count": null,
      "metadata": {},
      "outputs": [],
      "source": [
        "# Initial byte string\ns = b'hello'\n# Encode as hex\nimport binascii\nh = binascii.b2a_hex(s)\nh"
      ]
    },
    {
      "cell_type": "code",
      "execution_count": null,
      "metadata": {},
      "outputs": [],
      "source": [
        "# Decode back to bytes\nbinascii.a2b_hex(h)"
      ]
    },
    {
      "cell_type": "markdown",
      "metadata": {},
      "source": [
        "\u7c7b\u4f3c\u7684\u529f\u80fd\u540c\u6837\u53ef\u4ee5\u5728 base64 \u6a21\u5757\u4e2d\u627e\u5230\u3002\u4f8b\u5982\uff1a"
      ]
    },
    {
      "cell_type": "code",
      "execution_count": null,
      "metadata": {},
      "outputs": [],
      "source": [
        "import base64\nh = base64.b16encode(s)\nh"
      ]
    },
    {
      "cell_type": "code",
      "execution_count": null,
      "metadata": {},
      "outputs": [],
      "source": [
        "base64.b16decode(h)"
      ]
    },
    {
      "cell_type": "markdown",
      "metadata": {},
      "source": [
        "### \u8ba8\u8bba\n"
      ]
    },
    {
      "cell_type": "markdown",
      "metadata": {},
      "source": [
        "\u5927\u90e8\u5206\u60c5\u51b5\u4e0b\uff0c\u901a\u8fc7\u4f7f\u7528\u4e0a\u8ff0\u7684\u51fd\u6570\u6765\u8f6c\u6362\u5341\u516d\u8fdb\u5236\u662f\u5f88\u7b80\u5355\u7684\u3002\n\u4e0a\u9762\u4e24\u79cd\u6280\u672f\u7684\u4e3b\u8981\u4e0d\u540c\u5728\u4e8e\u5927\u5c0f\u5199\u7684\u5904\u7406\u3002\n\u51fd\u6570 base64.b16decode() \u548c base64.b16encode() \u53ea\u80fd\u64cd\u4f5c\u5927\u5199\u5f62\u5f0f\u7684\u5341\u516d\u8fdb\u5236\u5b57\u6bcd\uff0c\n\u800c binascii \u6a21\u5757\u4e2d\u7684\u51fd\u6570\u5927\u5c0f\u5199\u90fd\u80fd\u5904\u7406\u3002"
      ]
    },
    {
      "cell_type": "markdown",
      "metadata": {},
      "source": [
        "\u8fd8\u6709\u4e00\u70b9\u9700\u8981\u6ce8\u610f\u7684\u662f\u7f16\u7801\u51fd\u6570\u6240\u4ea7\u751f\u7684\u8f93\u51fa\u603b\u662f\u4e00\u4e2a\u5b57\u8282\u5b57\u7b26\u4e32\u3002\n\u5982\u679c\u60f3\u5f3a\u5236\u4ee5Unicode\u5f62\u5f0f\u8f93\u51fa\uff0c\u4f60\u9700\u8981\u589e\u52a0\u4e00\u4e2a\u989d\u5916\u7684\u754c\u9762\u6b65\u9aa4\u3002\u4f8b\u5982\uff1a"
      ]
    },
    {
      "cell_type": "code",
      "execution_count": null,
      "metadata": {},
      "outputs": [],
      "source": [
        "h = base64.b16encode(s)\nprint(h)"
      ]
    },
    {
      "cell_type": "code",
      "execution_count": null,
      "metadata": {},
      "outputs": [],
      "source": [
        "print(h.decode('ascii'))"
      ]
    },
    {
      "cell_type": "markdown",
      "metadata": {},
      "source": [
        "\u5728\u89e3\u7801\u5341\u516d\u8fdb\u5236\u6570\u65f6\uff0c\u51fd\u6570 b16decode() \u548c a2b_hex() \u53ef\u4ee5\u63a5\u53d7\u5b57\u8282\u6216unicode\u5b57\u7b26\u4e32\u3002\n\u4f46\u662f\uff0cunicode\u5b57\u7b26\u4e32\u5fc5\u987b\u4ec5\u4ec5\u53ea\u5305\u542bASCII\u7f16\u7801\u7684\u5341\u516d\u8fdb\u5236\u6570\u3002"
      ]
    },
    {
      "cell_type": "markdown",
      "metadata": {},
      "source": [
        "## 6.10 \u7f16\u7801\u89e3\u7801Base64\u6570\u636e\n"
      ]
    },
    {
      "cell_type": "markdown",
      "metadata": {},
      "source": [
        "### \u95ee\u9898\n"
      ]
    },
    {
      "cell_type": "markdown",
      "metadata": {},
      "source": [
        "\u4f60\u9700\u8981\u4f7f\u7528Base64\u683c\u5f0f\u89e3\u7801\u6216\u7f16\u7801\u4e8c\u8fdb\u5236\u6570\u636e\u3002"
      ]
    },
    {
      "cell_type": "markdown",
      "metadata": {},
      "source": [
        "### \u89e3\u51b3\u65b9\u6848\n"
      ]
    },
    {
      "cell_type": "markdown",
      "metadata": {},
      "source": [
        "base64 \u6a21\u5757\u4e2d\u6709\u4e24\u4e2a\u51fd\u6570 b64encode() and b64decode() \u53ef\u4ee5\u5e2e\u4f60\u89e3\u51b3\u8fd9\u4e2a\u95ee\u9898\u3002\u4f8b\u5982;"
      ]
    },
    {
      "cell_type": "code",
      "execution_count": null,
      "metadata": {},
      "outputs": [],
      "source": [
        "# Some byte data\ns = b'hello'\nimport base64"
      ]
    },
    {
      "cell_type": "code",
      "execution_count": null,
      "metadata": {},
      "outputs": [],
      "source": [
        "# Encode as Base64\na = base64.b64encode(s)\na"
      ]
    },
    {
      "cell_type": "code",
      "execution_count": null,
      "metadata": {},
      "outputs": [],
      "source": [
        "# Decode from Base64\nbase64.b64decode(a)"
      ]
    },
    {
      "cell_type": "markdown",
      "metadata": {},
      "source": [
        "### \u8ba8\u8bba\n"
      ]
    },
    {
      "cell_type": "markdown",
      "metadata": {},
      "source": [
        "Base64\u7f16\u7801\u4ec5\u4ec5\u7528\u4e8e\u9762\u5411\u5b57\u8282\u7684\u6570\u636e\u6bd4\u5982\u5b57\u8282\u5b57\u7b26\u4e32\u548c\u5b57\u8282\u6570\u7ec4\u3002\n\u6b64\u5916\uff0c\u7f16\u7801\u5904\u7406\u7684\u8f93\u51fa\u7ed3\u679c\u603b\u662f\u4e00\u4e2a\u5b57\u8282\u5b57\u7b26\u4e32\u3002\n\u5982\u679c\u4f60\u60f3\u6df7\u5408\u4f7f\u7528Base64\u7f16\u7801\u7684\u6570\u636e\u548cUnicode\u6587\u672c\uff0c\u4f60\u5fc5\u987b\u6dfb\u52a0\u4e00\u4e2a\u989d\u5916\u7684\u89e3\u7801\u6b65\u9aa4\u3002\u4f8b\u5982\uff1a"
      ]
    },
    {
      "cell_type": "code",
      "execution_count": null,
      "metadata": {},
      "outputs": [],
      "source": [
        "a = base64.b64encode(s).decode('ascii')\na"
      ]
    },
    {
      "cell_type": "markdown",
      "metadata": {},
      "source": [
        "\u5f53\u89e3\u7801Base64\u7684\u65f6\u5019\uff0c\u5b57\u8282\u5b57\u7b26\u4e32\u548cUnicode\u6587\u672c\u90fd\u53ef\u4ee5\u4f5c\u4e3a\u53c2\u6570\u3002\n\u4f46\u662f\uff0cUnicode\u5b57\u7b26\u4e32\u53ea\u80fd\u5305\u542bASCII\u5b57\u7b26\u3002"
      ]
    },
    {
      "cell_type": "markdown",
      "metadata": {},
      "source": [
        "## 6.11 \u8bfb\u5199\u4e8c\u8fdb\u5236\u6570\u7ec4\u6570\u636e\n"
      ]
    },
    {
      "cell_type": "markdown",
      "metadata": {},
      "source": [
        "### \u95ee\u9898\n"
      ]
    },
    {
      "cell_type": "markdown",
      "metadata": {},
      "source": [
        "\u4f60\u60f3\u8bfb\u5199\u4e00\u4e2a\u4e8c\u8fdb\u5236\u6570\u7ec4\u7684\u7ed3\u6784\u5316\u6570\u636e\u5230Python\u5143\u7ec4\u4e2d\u3002"
      ]
    },
    {
      "cell_type": "markdown",
      "metadata": {},
      "source": [
        "### \u89e3\u51b3\u65b9\u6848\n"
      ]
    },
    {
      "cell_type": "markdown",
      "metadata": {},
      "source": [
        "\u53ef\u4ee5\u4f7f\u7528 struct \u6a21\u5757\u5904\u7406\u4e8c\u8fdb\u5236\u6570\u636e\u3002\n\u4e0b\u9762\u662f\u4e00\u6bb5\u793a\u4f8b\u4ee3\u7801\u5c06\u4e00\u4e2aPython\u5143\u7ec4\u5217\u8868\u5199\u5165\u4e00\u4e2a\u4e8c\u8fdb\u5236\u6587\u4ef6\uff0c\u5e76\u4f7f\u7528 struct \u5c06\u6bcf\u4e2a\u5143\u7ec4\u7f16\u7801\u4e3a\u4e00\u4e2a\u7ed3\u6784\u4f53\u3002"
      ]
    },
    {
      "cell_type": "code",
      "execution_count": null,
      "metadata": {},
      "outputs": [],
      "source": [
        "f\nr\no\nm\n \ns\nt\nr\nu\nc\nt\n \ni\nm\np\no\nr\nt\n \nS\nt\nr\nu\nc\nt\n\n\nd\ne\nf\n \nw\nr\ni\nt\ne\n_\nr\ne\nc\no\nr\nd\ns\n(\nr\ne\nc\no\nr\nd\ns\n,\n \nf\no\nr\nm\na\nt\n,\n \nf\n)\n:\n\n\n \n \n \n \n'\n'\n'\n\n\n \n \n \n \nW\nr\ni\nt\ne\n \na\n \ns\ne\nq\nu\ne\nn\nc\ne\n \no\nf\n \nt\nu\np\nl\ne\ns\n \nt\no\n \na\n \nb\ni\nn\na\nr\ny\n \nf\ni\nl\ne\n \no\nf\n \ns\nt\nr\nu\nc\nt\nu\nr\ne\ns\n.\n\n\n \n \n \n \n'\n'\n'\n\n\n \n \n \n \nr\ne\nc\no\nr\nd\n_\ns\nt\nr\nu\nc\nt\n \n=\n \nS\nt\nr\nu\nc\nt\n(\nf\no\nr\nm\na\nt\n)\n\n\n \n \n \n \nf\no\nr\n \nr\n \ni\nn\n \nr\ne\nc\no\nr\nd\ns\n:\n\n\n \n \n \n \n \n \n \n \nf\n.\nw\nr\ni\nt\ne\n(\nr\ne\nc\no\nr\nd\n_\ns\nt\nr\nu\nc\nt\n.\np\na\nc\nk\n(\n*\nr\n)\n)\n\n\n\n\n#\n \nE\nx\na\nm\np\nl\ne\n\n\ni\nf\n \n_\n_\nn\na\nm\ne\n_\n_\n \n=\n=\n \n'\n_\n_\nm\na\ni\nn\n_\n_\n'\n:\n\n\n \n \n \n \nr\ne\nc\no\nr\nd\ns\n \n=\n \n[\n \n(\n1\n,\n \n2\n.\n3\n,\n \n4\n.\n5\n)\n,\n\n\n \n \n \n \n \n \n \n \n \n \n \n \n \n \n \n \n(\n6\n,\n \n7\n.\n8\n,\n \n9\n.\n0\n)\n,\n\n\n \n \n \n \n \n \n \n \n \n \n \n \n \n \n \n \n(\n1\n2\n,\n \n1\n3\n.\n4\n,\n \n5\n6\n.\n7\n)\n \n]\n\n\n \n \n \n \nw\ni\nt\nh\n \no\np\ne\nn\n(\n'\nd\na\nt\na\n.\nb\n'\n,\n \n'\nw\nb\n'\n)\n \na\ns\n \nf\n:\n\n\n \n \n \n \n \n \n \n \nw\nr\ni\nt\ne\n_\nr\ne\nc\no\nr\nd\ns\n(\nr\ne\nc\no\nr\nd\ns\n,\n \n'\n<\ni\nd\nd\n'\n,\n \nf\n)\n\n"
      ]
    },
    {
      "cell_type": "markdown",
      "metadata": {},
      "source": [
        "\u6709\u5f88\u591a\u79cd\u65b9\u6cd5\u6765\u8bfb\u53d6\u8fd9\u4e2a\u6587\u4ef6\u5e76\u8fd4\u56de\u4e00\u4e2a\u5143\u7ec4\u5217\u8868\u3002\n\u9996\u5148\uff0c\u5982\u679c\u4f60\u6253\u7b97\u4ee5\u5757\u7684\u5f62\u5f0f\u589e\u91cf\u8bfb\u53d6\u6587\u4ef6\uff0c\u4f60\u53ef\u4ee5\u8fd9\u6837\u505a\uff1a"
      ]
    },
    {
      "cell_type": "code",
      "execution_count": null,
      "metadata": {},
      "outputs": [],
      "source": [
        "f\nr\no\nm\n \ns\nt\nr\nu\nc\nt\n \ni\nm\np\no\nr\nt\n \nS\nt\nr\nu\nc\nt\n\n\n\n\nd\ne\nf\n \nr\ne\na\nd\n_\nr\ne\nc\no\nr\nd\ns\n(\nf\no\nr\nm\na\nt\n,\n \nf\n)\n:\n\n\n \n \n \n \nr\ne\nc\no\nr\nd\n_\ns\nt\nr\nu\nc\nt\n \n=\n \nS\nt\nr\nu\nc\nt\n(\nf\no\nr\nm\na\nt\n)\n\n\n \n \n \n \nc\nh\nu\nn\nk\ns\n \n=\n \ni\nt\ne\nr\n(\nl\na\nm\nb\nd\na\n:\n \nf\n.\nr\ne\na\nd\n(\nr\ne\nc\no\nr\nd\n_\ns\nt\nr\nu\nc\nt\n.\ns\ni\nz\ne\n)\n,\n \nb\n'\n'\n)\n\n\n \n \n \n \nr\ne\nt\nu\nr\nn\n \n(\nr\ne\nc\no\nr\nd\n_\ns\nt\nr\nu\nc\nt\n.\nu\nn\np\na\nc\nk\n(\nc\nh\nu\nn\nk\n)\n \nf\no\nr\n \nc\nh\nu\nn\nk\n \ni\nn\n \nc\nh\nu\nn\nk\ns\n)\n\n\n\n\n#\n \nE\nx\na\nm\np\nl\ne\n\n\ni\nf\n \n_\n_\nn\na\nm\ne\n_\n_\n \n=\n=\n \n'\n_\n_\nm\na\ni\nn\n_\n_\n'\n:\n\n\n \n \n \n \nw\ni\nt\nh\n \no\np\ne\nn\n(\n'\nd\na\nt\na\n.\nb\n'\n,\n'\nr\nb\n'\n)\n \na\ns\n \nf\n:\n\n\n \n \n \n \n \n \n \n \nf\no\nr\n \nr\ne\nc\n \ni\nn\n \nr\ne\na\nd\n_\nr\ne\nc\no\nr\nd\ns\n(\n'\n<\ni\nd\nd\n'\n,\n \nf\n)\n:\n\n\n \n \n \n \n \n \n \n \n \n \n \n \n#\n \nP\nr\no\nc\ne\ns\ns\n \nr\ne\nc\n\n\n \n \n \n \n \n \n \n \n \n \n \n \n.\n.\n.\n\n"
      ]
    },
    {
      "cell_type": "markdown",
      "metadata": {},
      "source": [
        "\u5982\u679c\u4f60\u60f3\u5c06\u6574\u4e2a\u6587\u4ef6\u4e00\u6b21\u6027\u8bfb\u53d6\u5230\u4e00\u4e2a\u5b57\u8282\u5b57\u7b26\u4e32\u4e2d\uff0c\u7136\u540e\u5728\u5206\u7247\u89e3\u6790\u3002\u90a3\u4e48\u4f60\u53ef\u4ee5\u8fd9\u6837\u505a\uff1a"
      ]
    },
    {
      "cell_type": "code",
      "execution_count": null,
      "metadata": {},
      "outputs": [],
      "source": [
        "f\nr\no\nm\n \ns\nt\nr\nu\nc\nt\n \ni\nm\np\no\nr\nt\n \nS\nt\nr\nu\nc\nt\n\n\n\n\nd\ne\nf\n \nu\nn\np\na\nc\nk\n_\nr\ne\nc\no\nr\nd\ns\n(\nf\no\nr\nm\na\nt\n,\n \nd\na\nt\na\n)\n:\n\n\n \n \n \n \nr\ne\nc\no\nr\nd\n_\ns\nt\nr\nu\nc\nt\n \n=\n \nS\nt\nr\nu\nc\nt\n(\nf\no\nr\nm\na\nt\n)\n\n\n \n \n \n \nr\ne\nt\nu\nr\nn\n \n(\nr\ne\nc\no\nr\nd\n_\ns\nt\nr\nu\nc\nt\n.\nu\nn\np\na\nc\nk\n_\nf\nr\no\nm\n(\nd\na\nt\na\n,\n \no\nf\nf\ns\ne\nt\n)\n\n\n \n \n \n \n \n \n \n \n \n \n \n \nf\no\nr\n \no\nf\nf\ns\ne\nt\n \ni\nn\n \nr\na\nn\ng\ne\n(\n0\n,\n \nl\ne\nn\n(\nd\na\nt\na\n)\n,\n \nr\ne\nc\no\nr\nd\n_\ns\nt\nr\nu\nc\nt\n.\ns\ni\nz\ne\n)\n)\n\n\n\n\n#\n \nE\nx\na\nm\np\nl\ne\n\n\ni\nf\n \n_\n_\nn\na\nm\ne\n_\n_\n \n=\n=\n \n'\n_\n_\nm\na\ni\nn\n_\n_\n'\n:\n\n\n \n \n \n \nw\ni\nt\nh\n \no\np\ne\nn\n(\n'\nd\na\nt\na\n.\nb\n'\n,\n \n'\nr\nb\n'\n)\n \na\ns\n \nf\n:\n\n\n \n \n \n \n \n \n \n \nd\na\nt\na\n \n=\n \nf\n.\nr\ne\na\nd\n(\n)\n\n\n \n \n \n \nf\no\nr\n \nr\ne\nc\n \ni\nn\n \nu\nn\np\na\nc\nk\n_\nr\ne\nc\no\nr\nd\ns\n(\n'\n<\ni\nd\nd\n'\n,\n \nd\na\nt\na\n)\n:\n\n\n \n \n \n \n \n \n \n \n#\n \nP\nr\no\nc\ne\ns\ns\n \nr\ne\nc\n\n\n \n \n \n \n \n \n \n \n.\n.\n.\n\n"
      ]
    },
    {
      "cell_type": "markdown",
      "metadata": {},
      "source": [
        "\u4e24\u79cd\u60c5\u51b5\u4e0b\u7684\u7ed3\u679c\u90fd\u662f\u4e00\u4e2a\u53ef\u8fd4\u56de\u7528\u6765\u521b\u5efa\u8be5\u6587\u4ef6\u7684\u539f\u59cb\u5143\u7ec4\u7684\u53ef\u8fed\u4ee3\u5bf9\u8c61\u3002"
      ]
    },
    {
      "cell_type": "markdown",
      "metadata": {},
      "source": [
        "### \u8ba8\u8bba\n"
      ]
    },
    {
      "cell_type": "markdown",
      "metadata": {},
      "source": [
        "\u5bf9\u4e8e\u9700\u8981\u7f16\u7801\u548c\u89e3\u7801\u4e8c\u8fdb\u5236\u6570\u636e\u7684\u7a0b\u5e8f\u800c\u8a00\uff0c\u901a\u5e38\u4f1a\u4f7f\u7528 struct \u6a21\u5757\u3002\n\u4e3a\u4e86\u58f0\u660e\u4e00\u4e2a\u65b0\u7684\u7ed3\u6784\u4f53\uff0c\u53ea\u9700\u8981\u50cf\u8fd9\u6837\u521b\u5efa\u4e00\u4e2a Struct \u5b9e\u4f8b\u5373\u53ef\uff1a"
      ]
    },
    {
      "cell_type": "code",
      "execution_count": null,
      "metadata": {},
      "outputs": [],
      "source": [
        "#\n \nL\ni\nt\nt\nl\ne\n \ne\nn\nd\ni\na\nn\n \n3\n2\n-\nb\ni\nt\n \ni\nn\nt\ne\ng\ne\nr\n,\n \nt\nw\no\n \nd\no\nu\nb\nl\ne\n \np\nr\ne\nc\ni\ns\ni\no\nn\n \nf\nl\no\na\nt\ns\n\n\nr\ne\nc\no\nr\nd\n_\ns\nt\nr\nu\nc\nt\n \n=\n \nS\nt\nr\nu\nc\nt\n(\n'\n<\ni\nd\nd\n'\n)\n\n"
      ]
    },
    {
      "cell_type": "markdown",
      "metadata": {},
      "source": [
        "\u7ed3\u6784\u4f53\u901a\u5e38\u4f1a\u4f7f\u7528\u4e00\u4e9b\u7ed3\u6784\u7801\u503ci, d, f\u7b49\n[\u53c2\u8003 Python\u6587\u6863 ]\u3002\n\u8fd9\u4e9b\u4ee3\u7801\u5206\u522b\u4ee3\u8868\u67d0\u4e2a\u7279\u5b9a\u7684\u4e8c\u8fdb\u5236\u6570\u636e\u7c7b\u578b\u598232\u4f4d\u6574\u6570\uff0c64\u4f4d\u6d6e\u70b9\u6570\uff0c32\u4f4d\u6d6e\u70b9\u6570\u7b49\u3002\n\u7b2c\u4e00\u4e2a\u5b57\u7b26 < \u6307\u5b9a\u4e86\u5b57\u8282\u987a\u5e8f\u3002\u5728\u8fd9\u4e2a\u4f8b\u5b50\u4e2d\uff0c\u5b83\u8868\u793a\u201d\u4f4e\u4f4d\u5728\u524d\u201d\u3002\n\u66f4\u6539\u8fd9\u4e2a\u5b57\u7b26\u4e3a > \u8868\u793a\u9ad8\u4f4d\u5728\u524d\uff0c\u6216\u8005\u662f ! \u8868\u793a\u7f51\u7edc\u5b57\u8282\u987a\u5e8f\u3002"
      ]
    },
    {
      "cell_type": "markdown",
      "metadata": {},
      "source": [
        "\u4ea7\u751f\u7684 Struct \u5b9e\u4f8b\u6709\u5f88\u591a\u5c5e\u6027\u548c\u65b9\u6cd5\u7528\u6765\u64cd\u4f5c\u76f8\u5e94\u7c7b\u578b\u7684\u7ed3\u6784\u3002\nsize \u5c5e\u6027\u5305\u542b\u4e86\u7ed3\u6784\u7684\u5b57\u8282\u6570\uff0c\u8fd9\u5728I/O\u64cd\u4f5c\u65f6\u975e\u5e38\u6709\u7528\u3002\npack() \u548c unpack() \u65b9\u6cd5\u88ab\u7528\u6765\u6253\u5305\u548c\u89e3\u5305\u6570\u636e\u3002\u6bd4\u5982\uff1a"
      ]
    },
    {
      "cell_type": "code",
      "execution_count": null,
      "metadata": {},
      "outputs": [],
      "source": [
        "from struct import Struct\nrecord_struct = Struct('<idd')\nrecord_struct.size"
      ]
    },
    {
      "cell_type": "code",
      "execution_count": null,
      "metadata": {},
      "outputs": [],
      "source": [
        "record_struct.pack(1, 2.0, 3.0)"
      ]
    },
    {
      "cell_type": "code",
      "execution_count": null,
      "metadata": {},
      "outputs": [],
      "source": [
        "record_struct.unpack(_)"
      ]
    },
    {
      "cell_type": "markdown",
      "metadata": {},
      "source": [
        "\u6709\u65f6\u5019\u4f60\u8fd8\u4f1a\u770b\u5230 pack() \u548c unpack() \u64cd\u4f5c\u4ee5\u6a21\u5757\u7ea7\u522b\u51fd\u6570\u88ab\u8c03\u7528\uff0c\u7c7b\u4f3c\u4e0b\u9762\u8fd9\u6837\uff1a"
      ]
    },
    {
      "cell_type": "code",
      "execution_count": null,
      "metadata": {},
      "outputs": [],
      "source": [
        "import struct\nstruct.pack('<idd', 1, 2.0, 3.0)"
      ]
    },
    {
      "cell_type": "code",
      "execution_count": null,
      "metadata": {},
      "outputs": [],
      "source": [
        "struct.unpack('<idd', _)"
      ]
    },
    {
      "cell_type": "markdown",
      "metadata": {},
      "source": [
        "\u8fd9\u6837\u53ef\u4ee5\u5de5\u4f5c\uff0c\u4f46\u662f\u611f\u89c9\u6ca1\u6709\u5b9e\u4f8b\u65b9\u6cd5\u90a3\u4e48\u4f18\u96c5\uff0c\u7279\u522b\u662f\u5728\u4f60\u4ee3\u7801\u4e2d\u540c\u6837\u7684\u7ed3\u6784\u51fa\u73b0\u5728\u591a\u4e2a\u5730\u65b9\u7684\u65f6\u5019\u3002\n\u901a\u8fc7\u521b\u5efa\u4e00\u4e2a Struct \u5b9e\u4f8b\uff0c\u683c\u5f0f\u4ee3\u7801\u53ea\u4f1a\u6307\u5b9a\u4e00\u6b21\u5e76\u4e14\u6240\u6709\u7684\u64cd\u4f5c\u88ab\u96c6\u4e2d\u5904\u7406\u3002\n\u8fd9\u6837\u4e00\u6765\u4ee3\u7801\u7ef4\u62a4\u5c31\u53d8\u5f97\u66f4\u52a0\u7b80\u5355\u4e86(\u56e0\u4e3a\u4f60\u53ea\u9700\u8981\u6539\u53d8\u4e00\u5904\u4ee3\u7801\u5373\u53ef)\u3002"
      ]
    },
    {
      "cell_type": "markdown",
      "metadata": {},
      "source": [
        "\u8bfb\u53d6\u4e8c\u8fdb\u5236\u7ed3\u6784\u7684\u4ee3\u7801\u8981\u7528\u5230\u4e00\u4e9b\u975e\u5e38\u6709\u8da3\u800c\u4f18\u7f8e\u7684\u7f16\u7a0b\u6280\u5de7\u3002\n\u5728\u51fd\u6570\u3000read_records \u4e2d\uff0citer() \u88ab\u7528\u6765\u521b\u5efa\u4e00\u4e2a\u8fd4\u56de\u56fa\u5b9a\u5927\u5c0f\u6570\u636e\u5757\u7684\u8fed\u4ee3\u5668\uff0c\u53c2\u80035.8\u5c0f\u8282\u3002\n\u8fd9\u4e2a\u8fed\u4ee3\u5668\u4f1a\u4e0d\u65ad\u7684\u8c03\u7528\u4e00\u4e2a\u7528\u6237\u63d0\u4f9b\u7684\u53ef\u8c03\u7528\u5bf9\u8c61(\u6bd4\u5982 lambda: f.read(record_struct.size) )\uff0c\n\u76f4\u5230\u5b83\u8fd4\u56de\u4e00\u4e2a\u7279\u6b8a\u7684\u503c(\u5982b\u2019\u2018)\uff0c\u8fd9\u65f6\u5019\u8fed\u4ee3\u505c\u6b62\u3002\u4f8b\u5982\uff1a"
      ]
    },
    {
      "cell_type": "code",
      "execution_count": null,
      "metadata": {},
      "outputs": [],
      "source": [
        "f = open('data.b', 'rb')\nchunks = iter(lambda: f.read(20), b'')\nchunks"
      ]
    },
    {
      "cell_type": "code",
      "execution_count": null,
      "metadata": {},
      "outputs": [],
      "source": [
        "for chk in chunks:\nprint(chk)"
      ]
    },
    {
      "cell_type": "markdown",
      "metadata": {},
      "source": [
        "\u5982\u4f60\u6240\u89c1\uff0c\u521b\u5efa\u4e00\u4e2a\u53ef\u8fed\u4ee3\u5bf9\u8c61\u7684\u4e00\u4e2a\u539f\u56e0\u662f\u5b83\u80fd\u5141\u8bb8\u4f7f\u7528\u4e00\u4e2a\u751f\u6210\u5668\u63a8\u5bfc\u6765\u521b\u5efa\u8bb0\u5f55\u3002\n\u5982\u679c\u4f60\u4e0d\u4f7f\u7528\u8fd9\u79cd\u6280\u672f\uff0c\u90a3\u4e48\u4ee3\u7801\u53ef\u80fd\u4f1a\u50cf\u4e0b\u9762\u8fd9\u6837\uff1a"
      ]
    },
    {
      "cell_type": "code",
      "execution_count": null,
      "metadata": {},
      "outputs": [],
      "source": [
        "d\ne\nf\n \nr\ne\na\nd\n_\nr\ne\nc\no\nr\nd\ns\n(\nf\no\nr\nm\na\nt\n,\n \nf\n)\n:\n\n\n \n \n \n \nr\ne\nc\no\nr\nd\n_\ns\nt\nr\nu\nc\nt\n \n=\n \nS\nt\nr\nu\nc\nt\n(\nf\no\nr\nm\na\nt\n)\n\n\n \n \n \n \nw\nh\ni\nl\ne\n \nT\nr\nu\ne\n:\n\n\n \n \n \n \n \n \n \n \nc\nh\nk\n \n=\n \nf\n.\nr\ne\na\nd\n(\nr\ne\nc\no\nr\nd\n_\ns\nt\nr\nu\nc\nt\n.\ns\ni\nz\ne\n)\n\n\n \n \n \n \n \n \n \n \ni\nf\n \nc\nh\nk\n \n=\n=\n \nb\n'\n'\n:\n\n\n \n \n \n \n \n \n \n \n \n \n \n \nb\nr\ne\na\nk\n\n\n \n \n \n \n \n \n \n \ny\ni\ne\nl\nd\n \nr\ne\nc\no\nr\nd\n_\ns\nt\nr\nu\nc\nt\n.\nu\nn\np\na\nc\nk\n(\nc\nh\nk\n)\n\n"
      ]
    },
    {
      "cell_type": "markdown",
      "metadata": {},
      "source": [
        "\u5728\u51fd\u6570 unpack_records() \u4e2d\u4f7f\u7528\u4e86\u53e6\u5916\u4e00\u79cd\u65b9\u6cd5 unpack_from() \u3002\nunpack_from() \u5bf9\u4e8e\u4ece\u4e00\u4e2a\u5927\u578b\u4e8c\u8fdb\u5236\u6570\u7ec4\u4e2d\u63d0\u53d6\u4e8c\u8fdb\u5236\u6570\u636e\u975e\u5e38\u6709\u7528\uff0c\n\u56e0\u4e3a\u5b83\u4e0d\u4f1a\u4ea7\u751f\u4efb\u4f55\u7684\u4e34\u65f6\u5bf9\u8c61\u6216\u8005\u8fdb\u884c\u5185\u5b58\u590d\u5236\u64cd\u4f5c\u3002\n\u4f60\u53ea\u9700\u8981\u7ed9\u5b83\u4e00\u4e2a\u5b57\u8282\u5b57\u7b26\u4e32(\u6216\u6570\u7ec4)\u548c\u4e00\u4e2a\u5b57\u8282\u504f\u79fb\u91cf\uff0c\u5b83\u4f1a\u4ece\u90a3\u4e2a\u4f4d\u7f6e\u5f00\u59cb\u76f4\u63a5\u89e3\u5305\u6570\u636e\u3002"
      ]
    },
    {
      "cell_type": "markdown",
      "metadata": {},
      "source": [
        "\u5982\u679c\u4f60\u4f7f\u7528 unpack() \u6765\u4ee3\u66ff unpack_from() \uff0c\n\u4f60\u9700\u8981\u4fee\u6539\u4ee3\u7801\u6765\u6784\u9020\u5927\u91cf\u7684\u5c0f\u7684\u5207\u7247\u4ee5\u53ca\u8fdb\u884c\u504f\u79fb\u91cf\u7684\u8ba1\u7b97\u3002\u6bd4\u5982\uff1a"
      ]
    },
    {
      "cell_type": "code",
      "execution_count": null,
      "metadata": {},
      "outputs": [],
      "source": [
        "d\ne\nf\n \nu\nn\np\na\nc\nk\n_\nr\ne\nc\no\nr\nd\ns\n(\nf\no\nr\nm\na\nt\n,\n \nd\na\nt\na\n)\n:\n\n\n \n \n \n \nr\ne\nc\no\nr\nd\n_\ns\nt\nr\nu\nc\nt\n \n=\n \nS\nt\nr\nu\nc\nt\n(\nf\no\nr\nm\na\nt\n)\n\n\n \n \n \n \nr\ne\nt\nu\nr\nn\n \n(\nr\ne\nc\no\nr\nd\n_\ns\nt\nr\nu\nc\nt\n.\nu\nn\np\na\nc\nk\n(\nd\na\nt\na\n[\no\nf\nf\ns\ne\nt\n:\no\nf\nf\ns\ne\nt\n \n+\n \nr\ne\nc\no\nr\nd\n_\ns\nt\nr\nu\nc\nt\n.\ns\ni\nz\ne\n]\n)\n\n\n \n \n \n \n \n \n \n \n \n \n \n \nf\no\nr\n \no\nf\nf\ns\ne\nt\n \ni\nn\n \nr\na\nn\ng\ne\n(\n0\n,\n \nl\ne\nn\n(\nd\na\nt\na\n)\n,\n \nr\ne\nc\no\nr\nd\n_\ns\nt\nr\nu\nc\nt\n.\ns\ni\nz\ne\n)\n)\n\n"
      ]
    },
    {
      "cell_type": "markdown",
      "metadata": {},
      "source": [
        "\u8fd9\u79cd\u65b9\u6848\u9664\u4e86\u4ee3\u7801\u770b\u4e0a\u53bb\u5f88\u590d\u6742\u5916\uff0c\u8fd8\u5f97\u505a\u5f88\u591a\u989d\u5916\u7684\u5de5\u4f5c\uff0c\u56e0\u4e3a\u5b83\u6267\u884c\u4e86\u5927\u91cf\u7684\u504f\u79fb\u91cf\u8ba1\u7b97\uff0c\n\u590d\u5236\u6570\u636e\u4ee5\u53ca\u6784\u9020\u5c0f\u7684\u5207\u7247\u5bf9\u8c61\u3002\n\u5982\u679c\u4f60\u51c6\u5907\u4ece\u8bfb\u53d6\u5230\u7684\u4e00\u4e2a\u5927\u578b\u5b57\u8282\u5b57\u7b26\u4e32\u4e2d\u89e3\u5305\u5927\u91cf\u7684\u7ed3\u6784\u4f53\u7684\u8bdd\uff0cunpack_from() \u4f1a\u8868\u73b0\u7684\u66f4\u51fa\u8272\u3002"
      ]
    },
    {
      "cell_type": "markdown",
      "metadata": {},
      "source": [
        "\u5728\u89e3\u5305\u7684\u65f6\u5019\uff0ccollections \u6a21\u5757\u4e2d\u7684\u547d\u540d\u5143\u7ec4\u5bf9\u8c61\u6216\u8bb8\u662f\u4f60\u60f3\u8981\u7528\u5230\u7684\u3002\n\u5b83\u53ef\u4ee5\u8ba9\u4f60\u7ed9\u8fd4\u56de\u5143\u7ec4\u8bbe\u7f6e\u5c5e\u6027\u540d\u79f0\u3002\u4f8b\u5982\uff1a"
      ]
    },
    {
      "cell_type": "code",
      "execution_count": null,
      "metadata": {},
      "outputs": [],
      "source": [
        "f\nr\no\nm\n \nc\no\nl\nl\ne\nc\nt\ni\no\nn\ns\n \ni\nm\np\no\nr\nt\n \nn\na\nm\ne\nd\nt\nu\np\nl\ne\n\n\n\n\nR\ne\nc\no\nr\nd\n \n=\n \nn\na\nm\ne\nd\nt\nu\np\nl\ne\n(\n'\nR\ne\nc\no\nr\nd\n'\n,\n \n[\n'\nk\ni\nn\nd\n'\n,\n'\nx\n'\n,\n'\ny\n'\n]\n)\n\n\n\n\nw\ni\nt\nh\n \no\np\ne\nn\n(\n'\nd\na\nt\na\n.\np\n'\n,\n \n'\nr\nb\n'\n)\n \na\ns\n \nf\n:\n\n\n \n \n \n \nr\ne\nc\no\nr\nd\ns\n \n=\n \n(\nR\ne\nc\no\nr\nd\n(\n*\nr\n)\n \nf\no\nr\n \nr\n \ni\nn\n \nr\ne\na\nd\n_\nr\ne\nc\no\nr\nd\ns\n(\n'\n<\ni\nd\nd\n'\n,\n \nf\n)\n)\n\n\n\n\nf\no\nr\n \nr\n \ni\nn\n \nr\ne\nc\no\nr\nd\ns\n:\n\n\n \n \n \n \np\nr\ni\nn\nt\n(\nr\n.\nk\ni\nn\nd\n,\n \nr\n.\nx\n,\n \nr\n.\ny\n)\n\n"
      ]
    },
    {
      "cell_type": "markdown",
      "metadata": {},
      "source": [
        "\u5982\u679c\u4f60\u7684\u7a0b\u5e8f\u9700\u8981\u5904\u7406\u5927\u91cf\u7684\u4e8c\u8fdb\u5236\u6570\u636e\uff0c\u4f60\u6700\u597d\u4f7f\u7528 numpy \u6a21\u5757\u3002\n\u4f8b\u5982\uff0c\u4f60\u53ef\u4ee5\u5c06\u4e00\u4e2a\u4e8c\u8fdb\u5236\u6570\u636e\u8bfb\u53d6\u5230\u4e00\u4e2a\u7ed3\u6784\u5316\u6570\u7ec4\u4e2d\u800c\u4e0d\u662f\u4e00\u4e2a\u5143\u7ec4\u5217\u8868\u4e2d\u3002\u5c31\u50cf\u4e0b\u9762\u8fd9\u6837\uff1a"
      ]
    },
    {
      "cell_type": "code",
      "execution_count": null,
      "metadata": {},
      "outputs": [],
      "source": [
        "import numpy as np\nf = open('data.b', 'rb')\nrecords = np.fromfile(f, dtype='<i,<d,<d')\nrecords"
      ]
    },
    {
      "cell_type": "code",
      "execution_count": null,
      "metadata": {},
      "outputs": [],
      "source": [
        "records[0]"
      ]
    },
    {
      "cell_type": "code",
      "execution_count": null,
      "metadata": {},
      "outputs": [],
      "source": [
        "records[1]"
      ]
    },
    {
      "cell_type": "markdown",
      "metadata": {},
      "source": [
        "\u6700\u540e\u63d0\u4e00\u70b9\uff0c\u5982\u679c\u4f60\u9700\u8981\u4ece\u5df2\u77e5\u7684\u6587\u4ef6\u683c\u5f0f(\u5982\u56fe\u7247\u683c\u5f0f\uff0c\u56fe\u5f62\u6587\u4ef6\uff0cHDF5\u7b49)\u4e2d\u8bfb\u53d6\u4e8c\u8fdb\u5236\u6570\u636e\u65f6\uff0c\n\u5148\u68c0\u67e5\u770b\u770bPython\u662f\u4e0d\u662f\u5df2\u7ecf\u63d0\u4f9b\u4e86\u73b0\u5b58\u7684\u6a21\u5757\u3002\u56e0\u4e3a\u4e0d\u5230\u4e07\u4e0d\u5f97\u5df2\u6ca1\u6709\u5fc5\u8981\u53bb\u91cd\u590d\u9020\u8f6e\u5b50\u3002"
      ]
    },
    {
      "cell_type": "markdown",
      "metadata": {},
      "source": [
        "## 6.12 \u8bfb\u53d6\u5d4c\u5957\u548c\u53ef\u53d8\u957f\u4e8c\u8fdb\u5236\u6570\u636e\n"
      ]
    },
    {
      "cell_type": "markdown",
      "metadata": {},
      "source": [
        "### \u95ee\u9898\n"
      ]
    },
    {
      "cell_type": "markdown",
      "metadata": {},
      "source": [
        "\u4f60\u9700\u8981\u8bfb\u53d6\u5305\u542b\u5d4c\u5957\u6216\u8005\u53ef\u53d8\u957f\u8bb0\u5f55\u96c6\u5408\u7684\u590d\u6742\u4e8c\u8fdb\u5236\u683c\u5f0f\u7684\u6570\u636e\u3002\u8fd9\u4e9b\u6570\u636e\u53ef\u80fd\u5305\u542b\u56fe\u7247\u3001\u89c6\u9891\u3001\u7535\u5b50\u5730\u56fe\u6587\u4ef6\u7b49\u3002"
      ]
    },
    {
      "cell_type": "markdown",
      "metadata": {},
      "source": [
        "### \u89e3\u51b3\u65b9\u6848\n"
      ]
    },
    {
      "cell_type": "markdown",
      "metadata": {},
      "source": [
        "struct \u6a21\u5757\u53ef\u88ab\u7528\u6765\u7f16\u7801/\u89e3\u7801\u51e0\u4e4e\u6240\u6709\u7c7b\u578b\u7684\u4e8c\u8fdb\u5236\u7684\u6570\u636e\u7ed3\u6784\u3002\u4e3a\u4e86\u89e3\u91ca\u6e05\u695a\u8fd9\u79cd\u6570\u636e\uff0c\u5047\u8bbe\u4f60\u7528\u4e0b\u9762\u7684Python\u6570\u636e\u7ed3\u6784\n\u6765\u8868\u793a\u4e00\u4e2a\u7ec4\u6210\u4e00\u7cfb\u5217\u591a\u8fb9\u5f62\u7684\u70b9\u7684\u96c6\u5408\uff1a"
      ]
    },
    {
      "cell_type": "code",
      "execution_count": null,
      "metadata": {},
      "outputs": [],
      "source": [
        "p\no\nl\ny\ns\n \n=\n \n[\n\n\n \n \n \n \n[\n \n(\n1\n.\n0\n,\n \n2\n.\n5\n)\n,\n \n(\n3\n.\n5\n,\n \n4\n.\n0\n)\n,\n \n(\n2\n.\n5\n,\n \n1\n.\n5\n)\n \n]\n,\n\n\n \n \n \n \n[\n \n(\n7\n.\n0\n,\n \n1\n.\n2\n)\n,\n \n(\n5\n.\n1\n,\n \n3\n.\n0\n)\n,\n \n(\n0\n.\n5\n,\n \n7\n.\n5\n)\n,\n \n(\n0\n.\n8\n,\n \n9\n.\n0\n)\n \n]\n,\n\n\n \n \n \n \n[\n \n(\n3\n.\n4\n,\n \n6\n.\n3\n)\n,\n \n(\n1\n.\n2\n,\n \n0\n.\n5\n)\n,\n \n(\n4\n.\n6\n,\n \n9\n.\n2\n)\n \n]\n,\n\n\n]\n\n"
      ]
    },
    {
      "cell_type": "markdown",
      "metadata": {},
      "source": [
        "\u73b0\u5728\u5047\u8bbe\u8fd9\u4e2a\u6570\u636e\u88ab\u7f16\u7801\u5230\u4e00\u4e2a\u4ee5\u4e0b\u5217\u5934\u90e8\u5f00\u59cb\u7684\u4e8c\u8fdb\u5236\u6587\u4ef6\u4e2d\u53bb\u4e86\uff1a"
      ]
    },
    {
      "cell_type": "code",
      "execution_count": null,
      "metadata": {},
      "outputs": [],
      "source": [
        "+\n-\n-\n-\n-\n-\n-\n+\n-\n-\n-\n-\n-\n-\n-\n-\n+\n-\n-\n-\n-\n-\n-\n-\n-\n-\n-\n-\n-\n-\n-\n-\n-\n-\n-\n-\n-\n-\n-\n-\n-\n-\n-\n-\n-\n-\n-\n-\n-\n-\n-\n-\n-\n+\n\n\n|\nB\ny\nt\ne\n \n \n|\n \nT\ny\np\ne\n \n \n \n|\n \n \nD\ne\ns\nc\nr\ni\np\nt\ni\no\nn\n \n \n \n \n \n \n \n \n \n \n \n \n \n \n \n \n \n \n \n \n \n \n \n|\n\n\n+\n=\n=\n=\n=\n=\n=\n+\n=\n=\n=\n=\n=\n=\n=\n=\n+\n=\n=\n=\n=\n=\n=\n=\n=\n=\n=\n=\n=\n=\n=\n=\n=\n=\n=\n=\n=\n=\n=\n=\n=\n=\n=\n=\n=\n=\n=\n=\n=\n=\n=\n=\n=\n+\n\n\n|\n0\n \n \n \n \n \n|\n \ni\nn\nt\n \n \n \n \n|\n \n \n\u6587\n\u4ef6\n\u4ee3\n\u7801\n\uff08\n0\nx\n1\n2\n3\n4\n\uff0c\n\u5c0f\n\u7aef\n\uff09\n \n \n \n \n \n \n \n \n \n \n|\n\n\n+\n-\n-\n-\n-\n-\n-\n+\n-\n-\n-\n-\n-\n-\n-\n-\n+\n-\n-\n-\n-\n-\n-\n-\n-\n-\n-\n-\n-\n-\n-\n-\n-\n-\n-\n-\n-\n-\n-\n-\n-\n-\n-\n-\n-\n-\n-\n-\n-\n-\n-\n-\n-\n+\n\n\n|\n4\n \n \n \n \n \n|\n \nd\no\nu\nb\nl\ne\n \n|\n \n \nx\n \n\u7684\n\u6700\n\u5c0f\n\u503c\n\uff08\n\u5c0f\n\u7aef\n\uff09\n \n \n \n \n \n \n \n \n \n \n \n \n \n \n \n \n|\n\n\n+\n-\n-\n-\n-\n-\n-\n+\n-\n-\n-\n-\n-\n-\n-\n-\n+\n-\n-\n-\n-\n-\n-\n-\n-\n-\n-\n-\n-\n-\n-\n-\n-\n-\n-\n-\n-\n-\n-\n-\n-\n-\n-\n-\n-\n-\n-\n-\n-\n-\n-\n-\n-\n+\n\n\n|\n1\n2\n \n \n \n \n|\n \nd\no\nu\nb\nl\ne\n \n|\n \n \ny\n \n\u7684\n\u6700\n\u5c0f\n\u503c\n\uff08\n\u5c0f\n\u7aef\n\uff09\n \n \n \n \n \n \n \n \n \n \n \n \n \n \n \n \n|\n\n\n+\n-\n-\n-\n-\n-\n-\n+\n-\n-\n-\n-\n-\n-\n-\n-\n+\n-\n-\n-\n-\n-\n-\n-\n-\n-\n-\n-\n-\n-\n-\n-\n-\n-\n-\n-\n-\n-\n-\n-\n-\n-\n-\n-\n-\n-\n-\n-\n-\n-\n-\n-\n-\n+\n\n\n|\n2\n0\n \n \n \n \n|\n \nd\no\nu\nb\nl\ne\n \n|\n \n \nx\n \n\u7684\n\u6700\n\u5927\n\u503c\n\uff08\n\u5c0f\n\u7aef\n\uff09\n \n \n \n \n \n \n \n \n \n \n \n \n \n \n \n \n|\n\n\n+\n-\n-\n-\n-\n-\n-\n+\n-\n-\n-\n-\n-\n-\n-\n-\n+\n-\n-\n-\n-\n-\n-\n-\n-\n-\n-\n-\n-\n-\n-\n-\n-\n-\n-\n-\n-\n-\n-\n-\n-\n-\n-\n-\n-\n-\n-\n-\n-\n-\n-\n-\n-\n+\n\n\n|\n2\n8\n \n \n \n \n|\n \nd\no\nu\nb\nl\ne\n \n|\n \n \ny\n \n\u7684\n\u6700\n\u5927\n\u503c\n\uff08\n\u5c0f\n\u7aef\n\uff09\n \n \n \n \n \n \n \n \n \n \n \n \n \n \n \n \n|\n\n\n+\n-\n-\n-\n-\n-\n-\n+\n-\n-\n-\n-\n-\n-\n-\n-\n+\n-\n-\n-\n-\n-\n-\n-\n-\n-\n-\n-\n-\n-\n-\n-\n-\n-\n-\n-\n-\n-\n-\n-\n-\n-\n-\n-\n-\n-\n-\n-\n-\n-\n-\n-\n-\n+\n\n\n|\n3\n6\n \n \n \n \n|\n \ni\nn\nt\n \n \n \n \n|\n \n \n\u4e09\n\u89d2\n\u5f62\n\u6570\n\u91cf\n\uff08\n\u5c0f\n\u7aef\n\uff09\n \n \n \n \n \n \n \n \n \n \n \n \n \n \n \n \n|\n\n\n+\n-\n-\n-\n-\n-\n-\n+\n-\n-\n-\n-\n-\n-\n-\n-\n+\n-\n-\n-\n-\n-\n-\n-\n-\n-\n-\n-\n-\n-\n-\n-\n-\n-\n-\n-\n-\n-\n-\n-\n-\n-\n-\n-\n-\n-\n-\n-\n-\n-\n-\n-\n-\n+\n\n"
      ]
    },
    {
      "cell_type": "markdown",
      "metadata": {},
      "source": [
        "\u7d27\u8ddf\u7740\u5934\u90e8\u662f\u4e00\u7cfb\u5217\u7684\u591a\u8fb9\u5f62\u8bb0\u5f55\uff0c\u7f16\u7801\u683c\u5f0f\u5982\u4e0b\uff1a"
      ]
    },
    {
      "cell_type": "code",
      "execution_count": null,
      "metadata": {},
      "outputs": [],
      "source": [
        "+\n-\n-\n-\n-\n-\n-\n+\n-\n-\n-\n-\n-\n-\n-\n-\n+\n-\n-\n-\n-\n-\n-\n-\n-\n-\n-\n-\n-\n-\n-\n-\n-\n-\n-\n-\n-\n-\n-\n-\n-\n-\n-\n-\n-\n-\n-\n-\n-\n-\n-\n-\n-\n-\n-\n-\n-\n-\n-\n-\n+\n\n\n|\nB\ny\nt\ne\n \n \n|\n \nT\ny\np\ne\n \n \n \n|\n \n \nD\ne\ns\nc\nr\ni\np\nt\ni\no\nn\n \n \n \n \n \n \n \n \n \n \n \n \n \n \n \n \n \n \n \n \n \n \n \n \n \n \n \n \n \n \n|\n\n\n+\n=\n=\n=\n=\n=\n=\n+\n=\n=\n=\n=\n=\n=\n=\n=\n+\n=\n=\n=\n=\n=\n=\n=\n=\n=\n=\n=\n=\n=\n=\n=\n=\n=\n=\n=\n=\n=\n=\n=\n=\n=\n=\n=\n=\n=\n=\n=\n=\n=\n=\n=\n=\n=\n=\n=\n=\n=\n=\n=\n+\n\n\n|\n0\n \n \n \n \n \n|\n \ni\nn\nt\n \n \n \n \n|\n \n \n\u8bb0\n\u5f55\n\u957f\n\u5ea6\n\uff08\nN\n\u5b57\n\u8282\n\uff09\n \n \n \n \n \n \n \n \n \n \n \n \n \n \n \n \n \n \n \n \n \n \n \n \n|\n\n\n+\n-\n-\n-\n-\n-\n-\n+\n-\n-\n-\n-\n-\n-\n-\n-\n+\n-\n-\n-\n-\n-\n-\n-\n-\n-\n-\n-\n-\n-\n-\n-\n-\n-\n-\n-\n-\n-\n-\n-\n-\n-\n-\n-\n-\n-\n-\n-\n-\n-\n-\n-\n-\n-\n-\n-\n-\n-\n-\n-\n+\n\n\n|\n4\n-\nN\n \n \n \n|\n \nP\no\ni\nn\nt\ns\n \n|\n \n \n(\nX\n,\nY\n)\n \n\u5750\n\u6807\n\uff0c\n\u4ee5\n\u6d6e\n\u70b9\n\u6570\n\u8868\n\u793a\n \n \n \n \n \n \n \n \n \n \n \n \n \n \n \n \n \n|\n\n\n+\n-\n-\n-\n-\n-\n-\n+\n-\n-\n-\n-\n-\n-\n-\n-\n+\n-\n-\n-\n-\n-\n-\n-\n-\n-\n-\n-\n-\n-\n-\n-\n-\n-\n-\n-\n-\n-\n-\n-\n-\n-\n-\n-\n-\n-\n-\n-\n-\n-\n-\n-\n-\n-\n-\n-\n-\n-\n-\n-\n+\n\n"
      ]
    },
    {
      "cell_type": "markdown",
      "metadata": {},
      "source": [
        "\u4e3a\u4e86\u5199\u8fd9\u6837\u7684\u6587\u4ef6\uff0c\u4f60\u53ef\u4ee5\u4f7f\u7528\u5982\u4e0b\u7684Python\u4ee3\u7801\uff1a"
      ]
    },
    {
      "cell_type": "code",
      "execution_count": null,
      "metadata": {},
      "outputs": [],
      "source": [
        "i\nm\np\no\nr\nt\n \ns\nt\nr\nu\nc\nt\n\n\ni\nm\np\no\nr\nt\n \ni\nt\ne\nr\nt\no\no\nl\ns\n\n\n\n\nd\ne\nf\n \nw\nr\ni\nt\ne\n_\np\no\nl\ny\ns\n(\nf\ni\nl\ne\nn\na\nm\ne\n,\n \np\no\nl\ny\ns\n)\n:\n\n\n \n \n \n \n#\n \nD\ne\nt\ne\nr\nm\ni\nn\ne\n \nb\no\nu\nn\nd\ni\nn\ng\n \nb\no\nx\n\n\n \n \n \n \nf\nl\na\nt\nt\ne\nn\ne\nd\n \n=\n \nl\ni\ns\nt\n(\ni\nt\ne\nr\nt\no\no\nl\ns\n.\nc\nh\na\ni\nn\n(\n*\np\no\nl\ny\ns\n)\n)\n\n\n \n \n \n \nm\ni\nn\n_\nx\n \n=\n \nm\ni\nn\n(\nx\n \nf\no\nr\n \nx\n,\n \ny\n \ni\nn\n \nf\nl\na\nt\nt\ne\nn\ne\nd\n)\n\n\n \n \n \n \nm\na\nx\n_\nx\n \n=\n \nm\na\nx\n(\nx\n \nf\no\nr\n \nx\n,\n \ny\n \ni\nn\n \nf\nl\na\nt\nt\ne\nn\ne\nd\n)\n\n\n \n \n \n \nm\ni\nn\n_\ny\n \n=\n \nm\ni\nn\n(\ny\n \nf\no\nr\n \nx\n,\n \ny\n \ni\nn\n \nf\nl\na\nt\nt\ne\nn\ne\nd\n)\n\n\n \n \n \n \nm\na\nx\n_\ny\n \n=\n \nm\na\nx\n(\ny\n \nf\no\nr\n \nx\n,\n \ny\n \ni\nn\n \nf\nl\na\nt\nt\ne\nn\ne\nd\n)\n\n\n \n \n \n \nw\ni\nt\nh\n \no\np\ne\nn\n(\nf\ni\nl\ne\nn\na\nm\ne\n,\n \n'\nw\nb\n'\n)\n \na\ns\n \nf\n:\n\n\n \n \n \n \n \n \n \n \nf\n.\nw\nr\ni\nt\ne\n(\ns\nt\nr\nu\nc\nt\n.\np\na\nc\nk\n(\n'\n<\ni\nd\nd\nd\nd\ni\n'\n,\n \n0\nx\n1\n2\n3\n4\n,\n\n\n \n \n \n \n \n \n \n \n \n \n \n \n \n \n \n \n \n \n \n \n \n \n \n \n \n \n \n \nm\ni\nn\n_\nx\n,\n \nm\ni\nn\n_\ny\n,\n\n\n \n \n \n \n \n \n \n \n \n \n \n \n \n \n \n \n \n \n \n \n \n \n \n \n \n \n \n \nm\na\nx\n_\nx\n,\n \nm\na\nx\n_\ny\n,\n\n\n \n \n \n \n \n \n \n \n \n \n \n \n \n \n \n \n \n \n \n \n \n \n \n \n \n \n \n \nl\ne\nn\n(\np\no\nl\ny\ns\n)\n)\n)\n\n\n \n \n \n \n \n \n \n \nf\no\nr\n \np\no\nl\ny\n \ni\nn\n \np\no\nl\ny\ns\n:\n\n\n \n \n \n \n \n \n \n \n \n \n \n \ns\ni\nz\ne\n \n=\n \nl\ne\nn\n(\np\no\nl\ny\n)\n \n*\n \ns\nt\nr\nu\nc\nt\n.\nc\na\nl\nc\ns\ni\nz\ne\n(\n'\n<\nd\nd\n'\n)\n\n\n \n \n \n \n \n \n \n \n \n \n \n \nf\n.\nw\nr\ni\nt\ne\n(\ns\nt\nr\nu\nc\nt\n.\np\na\nc\nk\n(\n'\n<\ni\n'\n,\n \ns\ni\nz\ne\n \n+\n \n4\n)\n)\n\n\n \n \n \n \n \n \n \n \n \n \n \n \nf\no\nr\n \np\nt\n \ni\nn\n \np\no\nl\ny\n:\n\n\n \n \n \n \n \n \n \n \n \n \n \n \n \n \n \n \nf\n.\nw\nr\ni\nt\ne\n(\ns\nt\nr\nu\nc\nt\n.\np\na\nc\nk\n(\n'\n<\nd\nd\n'\n,\n \n*\np\nt\n)\n)\n\n"
      ]
    },
    {
      "cell_type": "markdown",
      "metadata": {},
      "source": [
        "\u5c06\u6570\u636e\u8bfb\u53d6\u56de\u6765\u7684\u65f6\u5019\uff0c\u53ef\u4ee5\u5229\u7528\u51fd\u6570 struct.unpack() \uff0c\u4ee3\u7801\u5f88\u76f8\u4f3c\uff0c\u57fa\u672c\u5c31\u662f\u4e0a\u9762\u5199\u64cd\u4f5c\u7684\u9006\u5e8f\u3002\u5982\u4e0b\uff1a"
      ]
    },
    {
      "cell_type": "code",
      "execution_count": null,
      "metadata": {},
      "outputs": [],
      "source": [
        "d\ne\nf\n \nr\ne\na\nd\n_\np\no\nl\ny\ns\n(\nf\ni\nl\ne\nn\na\nm\ne\n)\n:\n\n\n \n \n \n \nw\ni\nt\nh\n \no\np\ne\nn\n(\nf\ni\nl\ne\nn\na\nm\ne\n,\n \n'\nr\nb\n'\n)\n \na\ns\n \nf\n:\n\n\n \n \n \n \n \n \n \n \n#\n \nR\ne\na\nd\n \nt\nh\ne\n \nh\ne\na\nd\ne\nr\n\n\n \n \n \n \n \n \n \n \nh\ne\na\nd\ne\nr\n \n=\n \nf\n.\nr\ne\na\nd\n(\n4\n0\n)\n\n\n \n \n \n \n \n \n \n \nf\ni\nl\ne\n_\nc\no\nd\ne\n,\n \nm\ni\nn\n_\nx\n,\n \nm\ni\nn\n_\ny\n,\n \nm\na\nx\n_\nx\n,\n \nm\na\nx\n_\ny\n,\n \nn\nu\nm\n_\np\no\nl\ny\ns\n \n=\n \n\\\n\n\n \n \n \n \n \n \n \n \n \n \n \n \ns\nt\nr\nu\nc\nt\n.\nu\nn\np\na\nc\nk\n(\n'\n<\ni\nd\nd\nd\nd\ni\n'\n,\n \nh\ne\na\nd\ne\nr\n)\n\n\n \n \n \n \n \n \n \n \np\no\nl\ny\ns\n \n=\n \n[\n]\n\n\n \n \n \n \n \n \n \n \nf\no\nr\n \nn\n \ni\nn\n \nr\na\nn\ng\ne\n(\nn\nu\nm\n_\np\no\nl\ny\ns\n)\n:\n\n\n \n \n \n \n \n \n \n \n \n \n \n \np\nb\ny\nt\ne\ns\n,\n \n=\n \ns\nt\nr\nu\nc\nt\n.\nu\nn\np\na\nc\nk\n(\n'\n<\ni\n'\n,\n \nf\n.\nr\ne\na\nd\n(\n4\n)\n)\n\n\n \n \n \n \n \n \n \n \n \n \n \n \np\no\nl\ny\n \n=\n \n[\n]\n\n\n \n \n \n \n \n \n \n \n \n \n \n \nf\no\nr\n \nm\n \ni\nn\n \nr\na\nn\ng\ne\n(\np\nb\ny\nt\ne\ns\n \n/\n/\n \n1\n6\n)\n:\n\n\n \n \n \n \n \n \n \n \n \n \n \n \n \n \n \n \np\nt\n \n=\n \ns\nt\nr\nu\nc\nt\n.\nu\nn\np\na\nc\nk\n(\n'\n<\nd\nd\n'\n,\n \nf\n.\nr\ne\na\nd\n(\n1\n6\n)\n)\n\n\n \n \n \n \n \n \n \n \n \n \n \n \n \n \n \n \np\no\nl\ny\n.\na\np\np\ne\nn\nd\n(\np\nt\n)\n\n\n \n \n \n \n \n \n \n \n \n \n \n \np\no\nl\ny\ns\n.\na\np\np\ne\nn\nd\n(\np\no\nl\ny\n)\n\n\n \n \n \n \nr\ne\nt\nu\nr\nn\n \np\no\nl\ny\ns\n\n"
      ]
    },
    {
      "cell_type": "markdown",
      "metadata": {},
      "source": [
        "\u5c3d\u7ba1\u8fd9\u4e2a\u4ee3\u7801\u53ef\u4ee5\u5de5\u4f5c\uff0c\u4f46\u662f\u91cc\u9762\u6df7\u6742\u4e86\u5f88\u591a\u8bfb\u53d6\u3001\u89e3\u5305\u6570\u636e\u7ed3\u6784\u548c\u5176\u4ed6\u7ec6\u8282\u7684\u4ee3\u7801\u3002\u5982\u679c\u7528\u8fd9\u6837\u7684\u4ee3\u7801\u6765\u5904\u7406\u771f\u5b9e\u7684\u6570\u636e\u6587\u4ef6\uff0c\n\u90a3\u672a\u514d\u4e5f\u592a\u7e41\u6742\u4e86\u70b9\u3002\u56e0\u6b64\u5f88\u663e\u7136\u5e94\u8be5\u6709\u53e6\u4e00\u79cd\u89e3\u51b3\u65b9\u6cd5\u53ef\u4ee5\u7b80\u5316\u8fd9\u4e9b\u6b65\u9aa4\uff0c\u8ba9\u7a0b\u5e8f\u5458\u53ea\u5173\u6ce8\u81ea\u6700\u91cd\u8981\u7684\u4e8b\u60c5\u3002"
      ]
    },
    {
      "cell_type": "markdown",
      "metadata": {},
      "source": [
        "\u5728\u672c\u5c0f\u8282\u63a5\u4e0b\u6765\u7684\u90e8\u5206\uff0c\u6211\u4f1a\u9010\u6b65\u6f14\u793a\u4e00\u4e2a\u66f4\u52a0\u4f18\u79c0\u7684\u89e3\u6790\u5b57\u8282\u6570\u636e\u7684\u65b9\u6848\u3002\n\u76ee\u6807\u662f\u53ef\u4ee5\u7ed9\u7a0b\u5e8f\u5458\u63d0\u4f9b\u4e00\u4e2a\u9ad8\u7ea7\u7684\u6587\u4ef6\u683c\u5f0f\u5316\u65b9\u6cd5\uff0c\u5e76\u7b80\u5316\u8bfb\u53d6\u548c\u89e3\u5305\u6570\u636e\u7684\u7ec6\u8282\u3002\u4f46\u662f\u6211\u8981\u5148\u63d0\u9192\u4f60\uff0c\n\u672c\u5c0f\u8282\u63a5\u4e0b\u6765\u7684\u90e8\u5206\u4ee3\u7801\u5e94\u8be5\u662f\u6574\u672c\u4e66\u4e2d\u6700\u590d\u6742\u6700\u9ad8\u7ea7\u7684\u4f8b\u5b50\uff0c\u4f7f\u7528\u4e86\u5927\u91cf\u7684\u9762\u5411\u5bf9\u8c61\u7f16\u7a0b\u548c\u5143\u7f16\u7a0b\u6280\u672f\u3002\n\u4e00\u5b9a\u8981\u4ed4\u7ec6\u7684\u9605\u8bfb\u6211\u4eec\u7684\u8ba8\u8bba\u90e8\u5206\uff0c\u53e6\u5916\u4e5f\u8981\u53c2\u8003\u4e0b\u5176\u4ed6\u7ae0\u8282\u5185\u5bb9\u3002"
      ]
    },
    {
      "cell_type": "markdown",
      "metadata": {},
      "source": [
        "\u9996\u5148\uff0c\u5f53\u8bfb\u53d6\u5b57\u8282\u6570\u636e\u7684\u65f6\u5019\uff0c\u901a\u5e38\u5728\u6587\u4ef6\u5f00\u59cb\u90e8\u5206\u4f1a\u5305\u542b\u6587\u4ef6\u5934\u548c\u5176\u4ed6\u7684\u6570\u636e\u7ed3\u6784\u3002\n\u5c3d\u7ba1struct\u6a21\u5757\u53ef\u4ee5\u89e3\u5305\u8fd9\u4e9b\u6570\u636e\u5230\u4e00\u4e2a\u5143\u7ec4\u4e2d\u53bb\uff0c\u53e6\u5916\u4e00\u79cd\u8868\u793a\u8fd9\u79cd\u4fe1\u606f\u7684\u65b9\u5f0f\u5c31\u662f\u4f7f\u7528\u4e00\u4e2a\u7c7b\u3002\n\u5c31\u50cf\u4e0b\u9762\u8fd9\u6837\uff1a"
      ]
    },
    {
      "cell_type": "code",
      "execution_count": null,
      "metadata": {},
      "outputs": [],
      "source": [
        "i\nm\np\no\nr\nt\n \ns\nt\nr\nu\nc\nt\n\n\n\n\nc\nl\na\ns\ns\n \nS\nt\nr\nu\nc\nt\nF\ni\ne\nl\nd\n:\n\n\n \n \n \n \n'\n'\n'\n\n\n \n \n \n \nD\ne\ns\nc\nr\ni\np\nt\no\nr\n \nr\ne\np\nr\ne\ns\ne\nn\nt\ni\nn\ng\n \na\n \ns\ni\nm\np\nl\ne\n \ns\nt\nr\nu\nc\nt\nu\nr\ne\n \nf\ni\ne\nl\nd\n\n\n \n \n \n \n'\n'\n'\n\n\n \n \n \n \nd\ne\nf\n \n_\n_\ni\nn\ni\nt\n_\n_\n(\ns\ne\nl\nf\n,\n \nf\no\nr\nm\na\nt\n,\n \no\nf\nf\ns\ne\nt\n)\n:\n\n\n \n \n \n \n \n \n \n \ns\ne\nl\nf\n.\nf\no\nr\nm\na\nt\n \n=\n \nf\no\nr\nm\na\nt\n\n\n \n \n \n \n \n \n \n \ns\ne\nl\nf\n.\no\nf\nf\ns\ne\nt\n \n=\n \no\nf\nf\ns\ne\nt\n\n\n \n \n \n \nd\ne\nf\n \n_\n_\ng\ne\nt\n_\n_\n(\ns\ne\nl\nf\n,\n \ni\nn\ns\nt\na\nn\nc\ne\n,\n \nc\nl\ns\n)\n:\n\n\n \n \n \n \n \n \n \n \ni\nf\n \ni\nn\ns\nt\na\nn\nc\ne\n \ni\ns\n \nN\no\nn\ne\n:\n\n\n \n \n \n \n \n \n \n \n \n \n \n \nr\ne\nt\nu\nr\nn\n \ns\ne\nl\nf\n\n\n \n \n \n \n \n \n \n \ne\nl\ns\ne\n:\n\n\n \n \n \n \n \n \n \n \n \n \n \n \nr\n \n=\n \ns\nt\nr\nu\nc\nt\n.\nu\nn\np\na\nc\nk\n_\nf\nr\no\nm\n(\ns\ne\nl\nf\n.\nf\no\nr\nm\na\nt\n,\n \ni\nn\ns\nt\na\nn\nc\ne\n.\n_\nb\nu\nf\nf\ne\nr\n,\n \ns\ne\nl\nf\n.\no\nf\nf\ns\ne\nt\n)\n\n\n \n \n \n \n \n \n \n \n \n \n \n \nr\ne\nt\nu\nr\nn\n \nr\n[\n0\n]\n \ni\nf\n \nl\ne\nn\n(\nr\n)\n \n=\n=\n \n1\n \ne\nl\ns\ne\n \nr\n\n\n\n\nc\nl\na\ns\ns\n \nS\nt\nr\nu\nc\nt\nu\nr\ne\n:\n\n\n \n \n \n \nd\ne\nf\n \n_\n_\ni\nn\ni\nt\n_\n_\n(\ns\ne\nl\nf\n,\n \nb\ny\nt\ne\nd\na\nt\na\n)\n:\n\n\n \n \n \n \n \n \n \n \ns\ne\nl\nf\n.\n_\nb\nu\nf\nf\ne\nr\n \n=\n \nm\ne\nm\no\nr\ny\nv\ni\ne\nw\n(\nb\ny\nt\ne\nd\na\nt\na\n)\n\n"
      ]
    },
    {
      "cell_type": "markdown",
      "metadata": {},
      "source": [
        "\u8fd9\u91cc\u6211\u4eec\u4f7f\u7528\u4e86\u4e00\u4e2a\u63cf\u8ff0\u5668\u6765\u8868\u793a\u6bcf\u4e2a\u7ed3\u6784\u5b57\u6bb5\uff0c\u6bcf\u4e2a\u63cf\u8ff0\u5668\u5305\u542b\u4e00\u4e2a\u7ed3\u6784\u517c\u5bb9\u683c\u5f0f\u7684\u4ee3\u7801\u4ee5\u53ca\u4e00\u4e2a\u5b57\u8282\u504f\u79fb\u91cf\uff0c\n\u5b58\u50a8\u5728\u5185\u90e8\u7684\u5185\u5b58\u7f13\u51b2\u4e2d\u3002\u5728 __get__() \u65b9\u6cd5\u4e2d\uff0cstruct.unpack_from()\n\u51fd\u6570\u88ab\u7528\u6765\u4ece\u7f13\u51b2\u4e2d\u89e3\u5305\u4e00\u4e2a\u503c\uff0c\u7701\u53bb\u4e86\u989d\u5916\u7684\u5206\u7247\u6216\u590d\u5236\u64cd\u4f5c\u6b65\u9aa4\u3002"
      ]
    },
    {
      "cell_type": "markdown",
      "metadata": {},
      "source": [
        "Structure \u7c7b\u5c31\u662f\u4e00\u4e2a\u57fa\u7840\u7c7b\uff0c\u63a5\u53d7\u5b57\u8282\u6570\u636e\u5e76\u5b58\u50a8\u5728\u5185\u90e8\u7684\u5185\u5b58\u7f13\u51b2\u4e2d\uff0c\u5e76\u88ab StructField \u63cf\u8ff0\u5668\u4f7f\u7528\u3002\n\u8fd9\u91cc\u4f7f\u7528\u4e86 memoryview() \uff0c\u6211\u4eec\u4f1a\u5728\u540e\u9762\u8be6\u7ec6\u8bb2\u89e3\u5b83\u662f\u7528\u6765\u5e72\u561b\u7684\u3002"
      ]
    },
    {
      "cell_type": "markdown",
      "metadata": {},
      "source": [
        "\u4f7f\u7528\u8fd9\u4e2a\u4ee3\u7801\uff0c\u4f60\u73b0\u5728\u5c31\u80fd\u5b9a\u4e49\u4e00\u4e2a\u9ad8\u5c42\u6b21\u7684\u7ed3\u6784\u5bf9\u8c61\u6765\u8868\u793a\u4e0a\u9762\u8868\u683c\u4fe1\u606f\u6240\u671f\u671b\u7684\u6587\u4ef6\u683c\u5f0f\u3002\u4f8b\u5982\uff1a"
      ]
    },
    {
      "cell_type": "code",
      "execution_count": null,
      "metadata": {},
      "outputs": [],
      "source": [
        "c\nl\na\ns\ns\n \nP\no\nl\ny\nH\ne\na\nd\ne\nr\n(\nS\nt\nr\nu\nc\nt\nu\nr\ne\n)\n:\n\n\n \n \n \n \nf\ni\nl\ne\n_\nc\no\nd\ne\n \n=\n \nS\nt\nr\nu\nc\nt\nF\ni\ne\nl\nd\n(\n'\n<\ni\n'\n,\n \n0\n)\n\n\n \n \n \n \nm\ni\nn\n_\nx\n \n=\n \nS\nt\nr\nu\nc\nt\nF\ni\ne\nl\nd\n(\n'\n<\nd\n'\n,\n \n4\n)\n\n\n \n \n \n \nm\ni\nn\n_\ny\n \n=\n \nS\nt\nr\nu\nc\nt\nF\ni\ne\nl\nd\n(\n'\n<\nd\n'\n,\n \n1\n2\n)\n\n\n \n \n \n \nm\na\nx\n_\nx\n \n=\n \nS\nt\nr\nu\nc\nt\nF\ni\ne\nl\nd\n(\n'\n<\nd\n'\n,\n \n2\n0\n)\n\n\n \n \n \n \nm\na\nx\n_\ny\n \n=\n \nS\nt\nr\nu\nc\nt\nF\ni\ne\nl\nd\n(\n'\n<\nd\n'\n,\n \n2\n8\n)\n\n\n \n \n \n \nn\nu\nm\n_\np\no\nl\ny\ns\n \n=\n \nS\nt\nr\nu\nc\nt\nF\ni\ne\nl\nd\n(\n'\n<\ni\n'\n,\n \n3\n6\n)\n\n"
      ]
    },
    {
      "cell_type": "markdown",
      "metadata": {},
      "source": [
        "\u4e0b\u9762\u7684\u4f8b\u5b50\u5229\u7528\u8fd9\u4e2a\u7c7b\u6765\u8bfb\u53d6\u4e4b\u524d\u6211\u4eec\u5199\u5165\u7684\u591a\u8fb9\u5f62\u6570\u636e\u7684\u5934\u90e8\u6570\u636e\uff1a"
      ]
    },
    {
      "cell_type": "code",
      "execution_count": null,
      "metadata": {},
      "outputs": [],
      "source": [
        "f = open('polys.bin', 'rb')\nphead = PolyHeader(f.read(40))\nphead.file_code == 0x1234"
      ]
    },
    {
      "cell_type": "code",
      "execution_count": null,
      "metadata": {},
      "outputs": [],
      "source": [
        "phead.min_x"
      ]
    },
    {
      "cell_type": "code",
      "execution_count": null,
      "metadata": {},
      "outputs": [],
      "source": [
        "phead.min_y"
      ]
    },
    {
      "cell_type": "code",
      "execution_count": null,
      "metadata": {},
      "outputs": [],
      "source": [
        "phead.max_x"
      ]
    },
    {
      "cell_type": "code",
      "execution_count": null,
      "metadata": {},
      "outputs": [],
      "source": [
        "phead.max_y"
      ]
    },
    {
      "cell_type": "code",
      "execution_count": null,
      "metadata": {},
      "outputs": [],
      "source": [
        "phead.num_polys"
      ]
    },
    {
      "cell_type": "markdown",
      "metadata": {},
      "source": [
        "\u8fd9\u4e2a\u5f88\u6709\u8da3\uff0c\u4e0d\u8fc7\u8fd9\u79cd\u65b9\u5f0f\u8fd8\u662f\u6709\u4e00\u4e9b\u70e6\u4eba\u7684\u5730\u65b9\u3002\u9996\u5148\uff0c\u5c3d\u7ba1\u4f60\u83b7\u5f97\u4e86\u4e00\u4e2a\u7c7b\u63a5\u53e3\u7684\u4fbf\u5229\uff0c\n\u4f46\u662f\u8fd9\u4e2a\u4ee3\u7801\u8fd8\u662f\u6709\u70b9\u81c3\u80bf\uff0c\u8fd8\u9700\u8981\u4f7f\u7528\u8005\u6307\u5b9a\u5f88\u591a\u5e95\u5c42\u7684\u7ec6\u8282(\u6bd4\u5982\u91cd\u590d\u4f7f\u7528 StructField \uff0c\u6307\u5b9a\u504f\u79fb\u91cf\u7b49)\u3002\n\u53e6\u5916\uff0c\u8fd4\u56de\u7684\u7ed3\u679c\u7c7b\u540c\u6837\u786e\u5b9e\u4e00\u4e9b\u4fbf\u5229\u7684\u65b9\u6cd5\u6765\u8ba1\u7b97\u7ed3\u6784\u7684\u603b\u6570\u3002"
      ]
    },
    {
      "cell_type": "markdown",
      "metadata": {},
      "source": [
        "\u4efb\u4f55\u65f6\u5019\u53ea\u8981\u4f60\u9047\u5230\u4e86\u50cf\u8fd9\u6837\u5197\u4f59\u7684\u7c7b\u5b9a\u4e49\uff0c\u4f60\u5e94\u8be5\u8003\u8651\u4e0b\u4f7f\u7528\u7c7b\u88c5\u9970\u5668\u6216\u5143\u7c7b\u3002\n\u5143\u7c7b\u6709\u4e00\u4e2a\u7279\u6027\u5c31\u662f\u5b83\u80fd\u591f\u88ab\u7528\u6765\u586b\u5145\u8bb8\u591a\u4f4e\u5c42\u7684\u5b9e\u73b0\u7ec6\u8282\uff0c\u4ece\u800c\u91ca\u653e\u4f7f\u7528\u8005\u7684\u8d1f\u62c5\u3002\n\u4e0b\u9762\u6211\u6765\u4e3e\u4e2a\u4f8b\u5b50\uff0c\u4f7f\u7528\u5143\u7c7b\u7a0d\u5fae\u6539\u9020\u4e0b\u6211\u4eec\u7684 Structure \u7c7b\uff1a"
      ]
    },
    {
      "cell_type": "code",
      "execution_count": null,
      "metadata": {},
      "outputs": [],
      "source": [
        "c\nl\na\ns\ns\n \nS\nt\nr\nu\nc\nt\nu\nr\ne\nM\ne\nt\na\n(\nt\ny\np\ne\n)\n:\n\n\n \n \n \n \n'\n'\n'\n\n\n \n \n \n \nM\ne\nt\na\nc\nl\na\ns\ns\n \nt\nh\na\nt\n \na\nu\nt\no\nm\na\nt\ni\nc\na\nl\nl\ny\n \nc\nr\ne\na\nt\ne\ns\n \nS\nt\nr\nu\nc\nt\nF\ni\ne\nl\nd\n \nd\ne\ns\nc\nr\ni\np\nt\no\nr\ns\n\n\n \n \n \n \n'\n'\n'\n\n\n \n \n \n \nd\ne\nf\n \n_\n_\ni\nn\ni\nt\n_\n_\n(\ns\ne\nl\nf\n,\n \nc\nl\ns\nn\na\nm\ne\n,\n \nb\na\ns\ne\ns\n,\n \nc\nl\ns\nd\ni\nc\nt\n)\n:\n\n\n \n \n \n \n \n \n \n \nf\ni\ne\nl\nd\ns\n \n=\n \ng\ne\nt\na\nt\nt\nr\n(\ns\ne\nl\nf\n,\n \n'\n_\nf\ni\ne\nl\nd\ns\n_\n'\n,\n \n[\n]\n)\n\n\n \n \n \n \n \n \n \n \nb\ny\nt\ne\n_\no\nr\nd\ne\nr\n \n=\n \n'\n'\n\n\n \n \n \n \n \n \n \n \no\nf\nf\ns\ne\nt\n \n=\n \n0\n\n\n \n \n \n \n \n \n \n \nf\no\nr\n \nf\no\nr\nm\na\nt\n,\n \nf\ni\ne\nl\nd\nn\na\nm\ne\n \ni\nn\n \nf\ni\ne\nl\nd\ns\n:\n\n\n \n \n \n \n \n \n \n \n \n \n \n \ni\nf\n \nf\no\nr\nm\na\nt\n.\ns\nt\na\nr\nt\ns\nw\ni\nt\nh\n(\n(\n'\n<\n'\n,\n'\n>\n'\n,\n'\n!\n'\n,\n'\n@\n'\n)\n)\n:\n\n\n \n \n \n \n \n \n \n \n \n \n \n \n \n \n \n \nb\ny\nt\ne\n_\no\nr\nd\ne\nr\n \n=\n \nf\no\nr\nm\na\nt\n[\n0\n]\n\n\n \n \n \n \n \n \n \n \n \n \n \n \n \n \n \n \nf\no\nr\nm\na\nt\n \n=\n \nf\no\nr\nm\na\nt\n[\n1\n:\n]\n\n\n \n \n \n \n \n \n \n \n \n \n \n \nf\no\nr\nm\na\nt\n \n=\n \nb\ny\nt\ne\n_\no\nr\nd\ne\nr\n \n+\n \nf\no\nr\nm\na\nt\n\n\n \n \n \n \n \n \n \n \n \n \n \n \ns\ne\nt\na\nt\nt\nr\n(\ns\ne\nl\nf\n,\n \nf\ni\ne\nl\nd\nn\na\nm\ne\n,\n \nS\nt\nr\nu\nc\nt\nF\ni\ne\nl\nd\n(\nf\no\nr\nm\na\nt\n,\n \no\nf\nf\ns\ne\nt\n)\n)\n\n\n \n \n \n \n \n \n \n \n \n \n \n \no\nf\nf\ns\ne\nt\n \n+\n=\n \ns\nt\nr\nu\nc\nt\n.\nc\na\nl\nc\ns\ni\nz\ne\n(\nf\no\nr\nm\na\nt\n)\n\n\n \n \n \n \n \n \n \n \ns\ne\nt\na\nt\nt\nr\n(\ns\ne\nl\nf\n,\n \n'\ns\nt\nr\nu\nc\nt\n_\ns\ni\nz\ne\n'\n,\n \no\nf\nf\ns\ne\nt\n)\n\n\n\n\nc\nl\na\ns\ns\n \nS\nt\nr\nu\nc\nt\nu\nr\ne\n(\nm\ne\nt\na\nc\nl\na\ns\ns\n=\nS\nt\nr\nu\nc\nt\nu\nr\ne\nM\ne\nt\na\n)\n:\n\n\n \n \n \n \nd\ne\nf\n \n_\n_\ni\nn\ni\nt\n_\n_\n(\ns\ne\nl\nf\n,\n \nb\ny\nt\ne\nd\na\nt\na\n)\n:\n\n\n \n \n \n \n \n \n \n \ns\ne\nl\nf\n.\n_\nb\nu\nf\nf\ne\nr\n \n=\n \nb\ny\nt\ne\nd\na\nt\na\n\n\n\n\n \n \n \n \n@\nc\nl\na\ns\ns\nm\ne\nt\nh\no\nd\n\n\n \n \n \n \nd\ne\nf\n \nf\nr\no\nm\n_\nf\ni\nl\ne\n(\nc\nl\ns\n,\n \nf\n)\n:\n\n\n \n \n \n \n \n \n \n \nr\ne\nt\nu\nr\nn\n \nc\nl\ns\n(\nf\n.\nr\ne\na\nd\n(\nc\nl\ns\n.\ns\nt\nr\nu\nc\nt\n_\ns\ni\nz\ne\n)\n)\n\n"
      ]
    },
    {
      "cell_type": "markdown",
      "metadata": {},
      "source": [
        "\u4f7f\u7528\u65b0\u7684 Structure \u7c7b\uff0c\u4f60\u53ef\u4ee5\u50cf\u4e0b\u9762\u8fd9\u6837\u5b9a\u4e49\u4e00\u4e2a\u7ed3\u6784\uff1a"
      ]
    },
    {
      "cell_type": "code",
      "execution_count": null,
      "metadata": {},
      "outputs": [],
      "source": [
        "c\nl\na\ns\ns\n \nP\no\nl\ny\nH\ne\na\nd\ne\nr\n(\nS\nt\nr\nu\nc\nt\nu\nr\ne\n)\n:\n\n\n \n \n \n \n_\nf\ni\ne\nl\nd\ns\n_\n \n=\n \n[\n\n\n \n \n \n \n \n \n \n \n(\n'\n<\ni\n'\n,\n \n'\nf\ni\nl\ne\n_\nc\no\nd\ne\n'\n)\n,\n\n\n \n \n \n \n \n \n \n \n(\n'\nd\n'\n,\n \n'\nm\ni\nn\n_\nx\n'\n)\n,\n\n\n \n \n \n \n \n \n \n \n(\n'\nd\n'\n,\n \n'\nm\ni\nn\n_\ny\n'\n)\n,\n\n\n \n \n \n \n \n \n \n \n(\n'\nd\n'\n,\n \n'\nm\na\nx\n_\nx\n'\n)\n,\n\n\n \n \n \n \n \n \n \n \n(\n'\nd\n'\n,\n \n'\nm\na\nx\n_\ny\n'\n)\n,\n\n\n \n \n \n \n \n \n \n \n(\n'\ni\n'\n,\n \n'\nn\nu\nm\n_\np\no\nl\ny\ns\n'\n)\n\n\n \n \n \n \n]\n\n"
      ]
    },
    {
      "cell_type": "markdown",
      "metadata": {},
      "source": [
        "\u6b63\u5982\u4f60\u6240\u89c1\uff0c\u8fd9\u6837\u5199\u5c31\u7b80\u5355\u591a\u4e86\u3002\u6211\u4eec\u6dfb\u52a0\u7684\u7c7b\u65b9\u6cd5 from_file()\n\u8ba9\u6211\u4eec\u5728\u4e0d\u9700\u8981\u77e5\u9053\u4efb\u4f55\u6570\u636e\u7684\u5927\u5c0f\u548c\u7ed3\u6784\u7684\u60c5\u51b5\u4e0b\u5c31\u80fd\u8f7b\u677e\u7684\u4ece\u6587\u4ef6\u4e2d\u8bfb\u53d6\u6570\u636e\u3002\u6bd4\u5982\uff1a"
      ]
    },
    {
      "cell_type": "code",
      "execution_count": null,
      "metadata": {},
      "outputs": [],
      "source": [
        "f = open('polys.bin', 'rb')\nphead = PolyHeader.from_file(f)\nphead.file_code == 0x1234"
      ]
    },
    {
      "cell_type": "code",
      "execution_count": null,
      "metadata": {},
      "outputs": [],
      "source": [
        "phead.min_x"
      ]
    },
    {
      "cell_type": "code",
      "execution_count": null,
      "metadata": {},
      "outputs": [],
      "source": [
        "phead.min_y"
      ]
    },
    {
      "cell_type": "code",
      "execution_count": null,
      "metadata": {},
      "outputs": [],
      "source": [
        "phead.max_x"
      ]
    },
    {
      "cell_type": "code",
      "execution_count": null,
      "metadata": {},
      "outputs": [],
      "source": [
        "phead.max_y"
      ]
    },
    {
      "cell_type": "code",
      "execution_count": null,
      "metadata": {},
      "outputs": [],
      "source": [
        "phead.num_polys"
      ]
    },
    {
      "cell_type": "markdown",
      "metadata": {},
      "source": [
        "\u4e00\u65e6\u4f60\u5f00\u59cb\u4f7f\u7528\u4e86\u5143\u7c7b\uff0c\u4f60\u5c31\u53ef\u4ee5\u8ba9\u5b83\u53d8\u5f97\u66f4\u52a0\u667a\u80fd\u3002\u4f8b\u5982\uff0c\u5047\u8bbe\u4f60\u8fd8\u60f3\u652f\u6301\u5d4c\u5957\u7684\u5b57\u8282\u7ed3\u6784\uff0c\n\u4e0b\u9762\u662f\u5bf9\u524d\u9762\u5143\u7c7b\u7684\u4e00\u4e2a\u5c0f\u7684\u6539\u8fdb\uff0c\u63d0\u4f9b\u4e86\u4e00\u4e2a\u65b0\u7684\u8f85\u52a9\u63cf\u8ff0\u5668\u6765\u8fbe\u5230\u60f3\u8981\u7684\u6548\u679c\uff1a"
      ]
    },
    {
      "cell_type": "code",
      "execution_count": null,
      "metadata": {},
      "outputs": [],
      "source": [
        "c\nl\na\ns\ns\n \nN\ne\ns\nt\ne\nd\nS\nt\nr\nu\nc\nt\n:\n\n\n \n \n \n \n'\n'\n'\n\n\n \n \n \n \nD\ne\ns\nc\nr\ni\np\nt\no\nr\n \nr\ne\np\nr\ne\ns\ne\nn\nt\ni\nn\ng\n \na\n \nn\ne\ns\nt\ne\nd\n \ns\nt\nr\nu\nc\nt\nu\nr\ne\n\n\n \n \n \n \n'\n'\n'\n\n\n \n \n \n \nd\ne\nf\n \n_\n_\ni\nn\ni\nt\n_\n_\n(\ns\ne\nl\nf\n,\n \nn\na\nm\ne\n,\n \ns\nt\nr\nu\nc\nt\n_\nt\ny\np\ne\n,\n \no\nf\nf\ns\ne\nt\n)\n:\n\n\n \n \n \n \n \n \n \n \ns\ne\nl\nf\n.\nn\na\nm\ne\n \n=\n \nn\na\nm\ne\n\n\n \n \n \n \n \n \n \n \ns\ne\nl\nf\n.\ns\nt\nr\nu\nc\nt\n_\nt\ny\np\ne\n \n=\n \ns\nt\nr\nu\nc\nt\n_\nt\ny\np\ne\n\n\n \n \n \n \n \n \n \n \ns\ne\nl\nf\n.\no\nf\nf\ns\ne\nt\n \n=\n \no\nf\nf\ns\ne\nt\n\n\n\n\n \n \n \n \nd\ne\nf\n \n_\n_\ng\ne\nt\n_\n_\n(\ns\ne\nl\nf\n,\n \ni\nn\ns\nt\na\nn\nc\ne\n,\n \nc\nl\ns\n)\n:\n\n\n \n \n \n \n \n \n \n \ni\nf\n \ni\nn\ns\nt\na\nn\nc\ne\n \ni\ns\n \nN\no\nn\ne\n:\n\n\n \n \n \n \n \n \n \n \n \n \n \n \nr\ne\nt\nu\nr\nn\n \ns\ne\nl\nf\n\n\n \n \n \n \n \n \n \n \ne\nl\ns\ne\n:\n\n\n \n \n \n \n \n \n \n \n \n \n \n \nd\na\nt\na\n \n=\n \ni\nn\ns\nt\na\nn\nc\ne\n.\n_\nb\nu\nf\nf\ne\nr\n[\ns\ne\nl\nf\n.\no\nf\nf\ns\ne\nt\n:\n\n\n \n \n \n \n \n \n \n \n \n \n \n \n \n \n \n \n \n \n \n \n \n \n \n \n \n \n \n \ns\ne\nl\nf\n.\no\nf\nf\ns\ne\nt\n+\ns\ne\nl\nf\n.\ns\nt\nr\nu\nc\nt\n_\nt\ny\np\ne\n.\ns\nt\nr\nu\nc\nt\n_\ns\ni\nz\ne\n]\n\n\n \n \n \n \n \n \n \n \n \n \n \n \nr\ne\ns\nu\nl\nt\n \n=\n \ns\ne\nl\nf\n.\ns\nt\nr\nu\nc\nt\n_\nt\ny\np\ne\n(\nd\na\nt\na\n)\n\n\n \n \n \n \n \n \n \n \n \n \n \n \n#\n \nS\na\nv\ne\n \nr\ne\ns\nu\nl\nt\ni\nn\ng\n \ns\nt\nr\nu\nc\nt\nu\nr\ne\n \nb\na\nc\nk\n \no\nn\n \ni\nn\ns\nt\na\nn\nc\ne\n \nt\no\n \na\nv\no\ni\nd\n\n\n \n \n \n \n \n \n \n \n \n \n \n \n#\n \nf\nu\nr\nt\nh\ne\nr\n \nr\ne\nc\no\nm\np\nu\nt\na\nt\ni\no\nn\n \no\nf\n \nt\nh\ni\ns\n \ns\nt\ne\np\n\n\n \n \n \n \n \n \n \n \n \n \n \n \ns\ne\nt\na\nt\nt\nr\n(\ni\nn\ns\nt\na\nn\nc\ne\n,\n \ns\ne\nl\nf\n.\nn\na\nm\ne\n,\n \nr\ne\ns\nu\nl\nt\n)\n\n\n \n \n \n \n \n \n \n \n \n \n \n \nr\ne\nt\nu\nr\nn\n \nr\ne\ns\nu\nl\nt\n\n\n\n\nc\nl\na\ns\ns\n \nS\nt\nr\nu\nc\nt\nu\nr\ne\nM\ne\nt\na\n(\nt\ny\np\ne\n)\n:\n\n\n \n \n \n \n'\n'\n'\n\n\n \n \n \n \nM\ne\nt\na\nc\nl\na\ns\ns\n \nt\nh\na\nt\n \na\nu\nt\no\nm\na\nt\ni\nc\na\nl\nl\ny\n \nc\nr\ne\na\nt\ne\ns\n \nS\nt\nr\nu\nc\nt\nF\ni\ne\nl\nd\n \nd\ne\ns\nc\nr\ni\np\nt\no\nr\ns\n\n\n \n \n \n \n'\n'\n'\n\n\n \n \n \n \nd\ne\nf\n \n_\n_\ni\nn\ni\nt\n_\n_\n(\ns\ne\nl\nf\n,\n \nc\nl\ns\nn\na\nm\ne\n,\n \nb\na\ns\ne\ns\n,\n \nc\nl\ns\nd\ni\nc\nt\n)\n:\n\n\n \n \n \n \n \n \n \n \nf\ni\ne\nl\nd\ns\n \n=\n \ng\ne\nt\na\nt\nt\nr\n(\ns\ne\nl\nf\n,\n \n'\n_\nf\ni\ne\nl\nd\ns\n_\n'\n,\n \n[\n]\n)\n\n\n \n \n \n \n \n \n \n \nb\ny\nt\ne\n_\no\nr\nd\ne\nr\n \n=\n \n'\n'\n\n\n \n \n \n \n \n \n \n \no\nf\nf\ns\ne\nt\n \n=\n \n0\n\n\n \n \n \n \n \n \n \n \nf\no\nr\n \nf\no\nr\nm\na\nt\n,\n \nf\ni\ne\nl\nd\nn\na\nm\ne\n \ni\nn\n \nf\ni\ne\nl\nd\ns\n:\n\n\n \n \n \n \n \n \n \n \n \n \n \n \ni\nf\n \ni\ns\ni\nn\ns\nt\na\nn\nc\ne\n(\nf\no\nr\nm\na\nt\n,\n \nS\nt\nr\nu\nc\nt\nu\nr\ne\nM\ne\nt\na\n)\n:\n\n\n \n \n \n \n \n \n \n \n \n \n \n \n \n \n \n \ns\ne\nt\na\nt\nt\nr\n(\ns\ne\nl\nf\n,\n \nf\ni\ne\nl\nd\nn\na\nm\ne\n,\n\n\n \n \n \n \n \n \n \n \n \n \n \n \n \n \n \n \n \n \n \n \n \n \n \n \nN\ne\ns\nt\ne\nd\nS\nt\nr\nu\nc\nt\n(\nf\ni\ne\nl\nd\nn\na\nm\ne\n,\n \nf\no\nr\nm\na\nt\n,\n \no\nf\nf\ns\ne\nt\n)\n)\n\n\n \n \n \n \n \n \n \n \n \n \n \n \n \n \n \n \no\nf\nf\ns\ne\nt\n \n+\n=\n \nf\no\nr\nm\na\nt\n.\ns\nt\nr\nu\nc\nt\n_\ns\ni\nz\ne\n\n\n \n \n \n \n \n \n \n \n \n \n \n \ne\nl\ns\ne\n:\n\n\n \n \n \n \n \n \n \n \n \n \n \n \n \n \n \n \ni\nf\n \nf\no\nr\nm\na\nt\n.\ns\nt\na\nr\nt\ns\nw\ni\nt\nh\n(\n(\n'\n<\n'\n,\n'\n>\n'\n,\n'\n!\n'\n,\n'\n@\n'\n)\n)\n:\n\n\n \n \n \n \n \n \n \n \n \n \n \n \n \n \n \n \n \n \n \n \nb\ny\nt\ne\n_\no\nr\nd\ne\nr\n \n=\n \nf\no\nr\nm\na\nt\n[\n0\n]\n\n\n \n \n \n \n \n \n \n \n \n \n \n \n \n \n \n \n \n \n \n \nf\no\nr\nm\na\nt\n \n=\n \nf\no\nr\nm\na\nt\n[\n1\n:\n]\n\n\n \n \n \n \n \n \n \n \n \n \n \n \n \n \n \n \nf\no\nr\nm\na\nt\n \n=\n \nb\ny\nt\ne\n_\no\nr\nd\ne\nr\n \n+\n \nf\no\nr\nm\na\nt\n\n\n \n \n \n \n \n \n \n \n \n \n \n \n \n \n \n \ns\ne\nt\na\nt\nt\nr\n(\ns\ne\nl\nf\n,\n \nf\ni\ne\nl\nd\nn\na\nm\ne\n,\n \nS\nt\nr\nu\nc\nt\nF\ni\ne\nl\nd\n(\nf\no\nr\nm\na\nt\n,\n \no\nf\nf\ns\ne\nt\n)\n)\n\n\n \n \n \n \n \n \n \n \n \n \n \n \n \n \n \n \no\nf\nf\ns\ne\nt\n \n+\n=\n \ns\nt\nr\nu\nc\nt\n.\nc\na\nl\nc\ns\ni\nz\ne\n(\nf\no\nr\nm\na\nt\n)\n\n\n \n \n \n \n \n \n \n \ns\ne\nt\na\nt\nt\nr\n(\ns\ne\nl\nf\n,\n \n'\ns\nt\nr\nu\nc\nt\n_\ns\ni\nz\ne\n'\n,\n \no\nf\nf\ns\ne\nt\n)\n\n"
      ]
    },
    {
      "cell_type": "markdown",
      "metadata": {},
      "source": [
        "\u5728\u8fd9\u6bb5\u4ee3\u7801\u4e2d\uff0cNestedStruct \u63cf\u8ff0\u5668\u88ab\u7528\u6765\u53e0\u52a0\u53e6\u5916\u4e00\u4e2a\u5b9a\u4e49\u5728\u67d0\u4e2a\u5185\u5b58\u533a\u57df\u4e0a\u7684\u7ed3\u6784\u3002\n\u5b83\u901a\u8fc7\u5c06\u539f\u59cb\u5185\u5b58\u7f13\u51b2\u8fdb\u884c\u5207\u7247\u64cd\u4f5c\u540e\u5b9e\u4f8b\u5316\u7ed9\u5b9a\u7684\u7ed3\u6784\u7c7b\u578b\u3002\u7531\u4e8e\u5e95\u5c42\u7684\u5185\u5b58\u7f13\u51b2\u533a\u662f\u901a\u8fc7\u4e00\u4e2a\u5185\u5b58\u89c6\u56fe\u521d\u59cb\u5316\u7684\uff0c\n\u6240\u4ee5\u8fd9\u79cd\u5207\u7247\u64cd\u4f5c\u4e0d\u4f1a\u5f15\u53d1\u4efb\u4f55\u7684\u989d\u5916\u7684\u5185\u5b58\u590d\u5236\u3002\u76f8\u53cd\uff0c\u5b83\u4ec5\u4ec5\u5c31\u662f\u4e4b\u524d\u7684\u5185\u5b58\u7684\u4e00\u4e2a\u53e0\u52a0\u800c\u5df2\u3002\n\u53e6\u5916\uff0c\u4e3a\u4e86\u9632\u6b62\u91cd\u590d\u5b9e\u4f8b\u5316\uff0c\u901a\u8fc7\u4f7f\u7528\u548c8.10\u5c0f\u8282\u540c\u6837\u7684\u6280\u672f\uff0c\u63cf\u8ff0\u5668\u4fdd\u5b58\u4e86\u8be5\u5b9e\u4f8b\u4e2d\u7684\u5185\u90e8\u7ed3\u6784\u5bf9\u8c61\u3002"
      ]
    },
    {
      "cell_type": "markdown",
      "metadata": {},
      "source": [
        "\u4f7f\u7528\u8fd9\u4e2a\u65b0\u7684\u4fee\u6b63\u7248\uff0c\u4f60\u5c31\u53ef\u4ee5\u50cf\u4e0b\u9762\u8fd9\u6837\u7f16\u5199\uff1a"
      ]
    },
    {
      "cell_type": "code",
      "execution_count": null,
      "metadata": {},
      "outputs": [],
      "source": [
        "c\nl\na\ns\ns\n \nP\no\ni\nn\nt\n(\nS\nt\nr\nu\nc\nt\nu\nr\ne\n)\n:\n\n\n \n \n \n \n_\nf\ni\ne\nl\nd\ns\n_\n \n=\n \n[\n\n\n \n \n \n \n \n \n \n \n(\n'\n<\nd\n'\n,\n \n'\nx\n'\n)\n,\n\n\n \n \n \n \n \n \n \n \n(\n'\nd\n'\n,\n \n'\ny\n'\n)\n\n\n \n \n \n \n]\n\n\n\n\nc\nl\na\ns\ns\n \nP\no\nl\ny\nH\ne\na\nd\ne\nr\n(\nS\nt\nr\nu\nc\nt\nu\nr\ne\n)\n:\n\n\n \n \n \n \n_\nf\ni\ne\nl\nd\ns\n_\n \n=\n \n[\n\n\n \n \n \n \n \n \n \n \n(\n'\n<\ni\n'\n,\n \n'\nf\ni\nl\ne\n_\nc\no\nd\ne\n'\n)\n,\n\n\n \n \n \n \n \n \n \n \n(\nP\no\ni\nn\nt\n,\n \n'\nm\ni\nn\n'\n)\n,\n \n#\n \nn\ne\ns\nt\ne\nd\n \ns\nt\nr\nu\nc\nt\n\n\n \n \n \n \n \n \n \n \n(\nP\no\ni\nn\nt\n,\n \n'\nm\na\nx\n'\n)\n,\n \n#\n \nn\ne\ns\nt\ne\nd\n \ns\nt\nr\nu\nc\nt\n\n\n \n \n \n \n \n \n \n \n(\n'\ni\n'\n,\n \n'\nn\nu\nm\n_\np\no\nl\ny\ns\n'\n)\n\n\n \n \n \n \n]\n\n"
      ]
    },
    {
      "cell_type": "markdown",
      "metadata": {},
      "source": [
        "\u4ee4\u4eba\u60ca\u8bb6\u7684\u662f\uff0c\u5b83\u4e5f\u80fd\u6309\u7167\u9884\u671f\u7684\u6b63\u5e38\u5de5\u4f5c\uff0c\u6211\u4eec\u5b9e\u9645\u64cd\u4f5c\u4e0b\uff1a"
      ]
    },
    {
      "cell_type": "code",
      "execution_count": null,
      "metadata": {},
      "outputs": [],
      "source": [
        "f = open('polys.bin', 'rb')\nphead = PolyHeader.from_file(f)\nphead.file_code == 0x1234"
      ]
    },
    {
      "cell_type": "code",
      "execution_count": null,
      "metadata": {},
      "outputs": [],
      "source": [
        "phead.min # Nested structure"
      ]
    },
    {
      "cell_type": "code",
      "execution_count": null,
      "metadata": {},
      "outputs": [],
      "source": [
        "phead.min.x"
      ]
    },
    {
      "cell_type": "code",
      "execution_count": null,
      "metadata": {},
      "outputs": [],
      "source": [
        "phead.min.y"
      ]
    },
    {
      "cell_type": "code",
      "execution_count": null,
      "metadata": {},
      "outputs": [],
      "source": [
        "phead.max.x"
      ]
    },
    {
      "cell_type": "code",
      "execution_count": null,
      "metadata": {},
      "outputs": [],
      "source": [
        "phead.max.y"
      ]
    },
    {
      "cell_type": "code",
      "execution_count": null,
      "metadata": {},
      "outputs": [],
      "source": [
        "phead.num_polys"
      ]
    },
    {
      "cell_type": "markdown",
      "metadata": {},
      "source": [
        "\u5230\u76ee\u524d\u4e3a\u6b62\uff0c\u4e00\u4e2a\u5904\u7406\u5b9a\u957f\u8bb0\u5f55\u7684\u6846\u67b6\u5df2\u7ecf\u5199\u597d\u4e86\u3002\u4f46\u662f\u5982\u679c\u7ec4\u4ef6\u8bb0\u5f55\u662f\u53d8\u957f\u7684\u5462\uff1f\n\u6bd4\u5982\uff0c\u591a\u8fb9\u5f62\u6587\u4ef6\u5305\u542b\u53d8\u957f\u7684\u90e8\u5206\u3002"
      ]
    },
    {
      "cell_type": "markdown",
      "metadata": {},
      "source": [
        "\u4e00\u79cd\u65b9\u6848\u662f\u5199\u4e00\u4e2a\u7c7b\u6765\u8868\u793a\u5b57\u8282\u6570\u636e\uff0c\u540c\u65f6\u5199\u4e00\u4e2a\u5de5\u5177\u51fd\u6570\u6765\u901a\u8fc7\u591a\u5c11\u65b9\u5f0f\u89e3\u6790\u5185\u5bb9\u3002\u8ddf6.11\u5c0f\u8282\u7684\u4ee3\u7801\u5f88\u7c7b\u4f3c\uff1a"
      ]
    },
    {
      "cell_type": "code",
      "execution_count": null,
      "metadata": {},
      "outputs": [],
      "source": [
        "c\nl\na\ns\ns\n \nS\ni\nz\ne\nd\nR\ne\nc\no\nr\nd\n:\n\n\n \n \n \n \nd\ne\nf\n \n_\n_\ni\nn\ni\nt\n_\n_\n(\ns\ne\nl\nf\n,\n \nb\ny\nt\ne\nd\na\nt\na\n)\n:\n\n\n \n \n \n \n \n \n \n \ns\ne\nl\nf\n.\n_\nb\nu\nf\nf\ne\nr\n \n=\n \nm\ne\nm\no\nr\ny\nv\ni\ne\nw\n(\nb\ny\nt\ne\nd\na\nt\na\n)\n\n\n\n\n \n \n \n \n@\nc\nl\na\ns\ns\nm\ne\nt\nh\no\nd\n\n\n \n \n \n \nd\ne\nf\n \nf\nr\no\nm\n_\nf\ni\nl\ne\n(\nc\nl\ns\n,\n \nf\n,\n \ns\ni\nz\ne\n_\nf\nm\nt\n,\n \ni\nn\nc\nl\nu\nd\ne\ns\n_\ns\ni\nz\ne\n=\nT\nr\nu\ne\n)\n:\n\n\n \n \n \n \n \n \n \n \ns\nz\n_\nn\nb\ny\nt\ne\ns\n \n=\n \ns\nt\nr\nu\nc\nt\n.\nc\na\nl\nc\ns\ni\nz\ne\n(\ns\ni\nz\ne\n_\nf\nm\nt\n)\n\n\n \n \n \n \n \n \n \n \ns\nz\n_\nb\ny\nt\ne\ns\n \n=\n \nf\n.\nr\ne\na\nd\n(\ns\nz\n_\nn\nb\ny\nt\ne\ns\n)\n\n\n \n \n \n \n \n \n \n \ns\nz\n,\n \n=\n \ns\nt\nr\nu\nc\nt\n.\nu\nn\np\na\nc\nk\n(\ns\ni\nz\ne\n_\nf\nm\nt\n,\n \ns\nz\n_\nb\ny\nt\ne\ns\n)\n\n\n \n \n \n \n \n \n \n \nb\nu\nf\n \n=\n \nf\n.\nr\ne\na\nd\n(\ns\nz\n \n-\n \ni\nn\nc\nl\nu\nd\ne\ns\n_\ns\ni\nz\ne\n \n*\n \ns\nz\n_\nn\nb\ny\nt\ne\ns\n)\n\n\n \n \n \n \n \n \n \n \nr\ne\nt\nu\nr\nn\n \nc\nl\ns\n(\nb\nu\nf\n)\n\n\n\n\n \n \n \n \nd\ne\nf\n \ni\nt\ne\nr\n_\na\ns\n(\ns\ne\nl\nf\n,\n \nc\no\nd\ne\n)\n:\n\n\n \n \n \n \n \n \n \n \ni\nf\n \ni\ns\ni\nn\ns\nt\na\nn\nc\ne\n(\nc\no\nd\ne\n,\n \ns\nt\nr\n)\n:\n\n\n \n \n \n \n \n \n \n \n \n \n \n \ns\n \n=\n \ns\nt\nr\nu\nc\nt\n.\nS\nt\nr\nu\nc\nt\n(\nc\no\nd\ne\n)\n\n\n \n \n \n \n \n \n \n \n \n \n \n \nf\no\nr\n \no\nf\nf\n \ni\nn\n \nr\na\nn\ng\ne\n(\n0\n,\n \nl\ne\nn\n(\ns\ne\nl\nf\n.\n_\nb\nu\nf\nf\ne\nr\n)\n,\n \ns\n.\ns\ni\nz\ne\n)\n:\n\n\n \n \n \n \n \n \n \n \n \n \n \n \n \n \n \n \ny\ni\ne\nl\nd\n \ns\n.\nu\nn\np\na\nc\nk\n_\nf\nr\no\nm\n(\ns\ne\nl\nf\n.\n_\nb\nu\nf\nf\ne\nr\n,\n \no\nf\nf\n)\n\n\n \n \n \n \n \n \n \n \ne\nl\ni\nf\n \ni\ns\ni\nn\ns\nt\na\nn\nc\ne\n(\nc\no\nd\ne\n,\n \nS\nt\nr\nu\nc\nt\nu\nr\ne\nM\ne\nt\na\n)\n:\n\n\n \n \n \n \n \n \n \n \n \n \n \n \ns\ni\nz\ne\n \n=\n \nc\no\nd\ne\n.\ns\nt\nr\nu\nc\nt\n_\ns\ni\nz\ne\n\n\n \n \n \n \n \n \n \n \n \n \n \n \nf\no\nr\n \no\nf\nf\n \ni\nn\n \nr\na\nn\ng\ne\n(\n0\n,\n \nl\ne\nn\n(\ns\ne\nl\nf\n.\n_\nb\nu\nf\nf\ne\nr\n)\n,\n \ns\ni\nz\ne\n)\n:\n\n\n \n \n \n \n \n \n \n \n \n \n \n \n \n \n \n \nd\na\nt\na\n \n=\n \ns\ne\nl\nf\n.\n_\nb\nu\nf\nf\ne\nr\n[\no\nf\nf\n:\no\nf\nf\n+\ns\ni\nz\ne\n]\n\n\n \n \n \n \n \n \n \n \n \n \n \n \n \n \n \n \ny\ni\ne\nl\nd\n \nc\no\nd\ne\n(\nd\na\nt\na\n)\n\n"
      ]
    },
    {
      "cell_type": "markdown",
      "metadata": {},
      "source": [
        "\u7c7b\u65b9\u6cd5 SizedRecord.from_file() \u662f\u4e00\u4e2a\u5de5\u5177\uff0c\u7528\u6765\u4ece\u4e00\u4e2a\u6587\u4ef6\u4e2d\u8bfb\u53d6\u5e26\u5927\u5c0f\u524d\u7f00\u7684\u6570\u636e\u5757\uff0c\n\u8fd9\u4e5f\u662f\u5f88\u591a\u6587\u4ef6\u683c\u5f0f\u5e38\u7528\u7684\u65b9\u5f0f\u3002\u4f5c\u4e3a\u8f93\u5165\uff0c\u5b83\u63a5\u53d7\u4e00\u4e2a\u5305\u542b\u5927\u5c0f\u7f16\u7801\u7684\u7ed3\u6784\u683c\u5f0f\u7f16\u7801\uff0c\u5e76\u4e14\u4e5f\u662f\u81ea\u5df1\u5f62\u5f0f\u3002\n\u53ef\u9009\u7684 includes_size \u53c2\u6570\u6307\u5b9a\u4e86\u5b57\u8282\u6570\u662f\u5426\u5305\u542b\u5934\u90e8\u5927\u5c0f\u3002\n\u4e0b\u9762\u662f\u4e00\u4e2a\u4f8b\u5b50\u6559\u4f60\u600e\u6837\u4f7f\u7528\u4ece\u591a\u8fb9\u5f62\u6587\u4ef6\u4e2d\u8bfb\u53d6\u5355\u72ec\u7684\u591a\u8fb9\u5f62\u6570\u636e\uff1a"
      ]
    },
    {
      "cell_type": "code",
      "execution_count": null,
      "metadata": {},
      "outputs": [],
      "source": [
        "f = open('polys.bin', 'rb')\nphead = PolyHeader.from_file(f)\nphead.num_polys"
      ]
    },
    {
      "cell_type": "code",
      "execution_count": null,
      "metadata": {},
      "outputs": [],
      "source": [
        "polydata = [ SizedRecord.from_file(f, '<i')\n            for n in range(phead.num_polys) ]\npolydata"
      ]
    },
    {
      "cell_type": "markdown",
      "metadata": {},
      "source": [
        "\u53ef\u4ee5\u770b\u51fa\uff0cSizedRecord \u5b9e\u4f8b\u7684\u5185\u5bb9\u8fd8\u6ca1\u6709\u88ab\u89e3\u6790\u51fa\u6765\u3002\n\u53ef\u4ee5\u4f7f\u7528 iter_as() \u65b9\u6cd5\u6765\u8fbe\u5230\u76ee\u7684\uff0c\u8fd9\u4e2a\u65b9\u6cd5\u63a5\u53d7\u4e00\u4e2a\u7ed3\u6784\u683c\u5f0f\u5316\u7f16\u7801\u6216\u8005\u662f Structure \u7c7b\u4f5c\u4e3a\u8f93\u5165\u3002\n\u8fd9\u6837\u5b50\u53ef\u4ee5\u5f88\u7075\u6d3b\u7684\u53bb\u89e3\u6790\u6570\u636e\uff0c\u4f8b\u5982\uff1a"
      ]
    },
    {
      "cell_type": "code",
      "execution_count": null,
      "metadata": {},
      "outputs": [],
      "source": [
        "for n, poly in enumerate(polydata):\n    print('Polygon', n)\n    for p in poly.iter_as('<dd'):\n        print(p)"
      ]
    },
    {
      "cell_type": "code",
      "execution_count": null,
      "metadata": {},
      "outputs": [],
      "source": [
        "for n, poly in enumerate(polydata):\n    print('Polygon', n)\n    for p in poly.iter_as(Point):\n        print(p.x, p.y)"
      ]
    },
    {
      "cell_type": "markdown",
      "metadata": {},
      "source": [
        "\u5c06\u6240\u6709\u8fd9\u4e9b\u7ed3\u5408\u8d77\u6765\uff0c\u4e0b\u9762\u662f\u4e00\u4e2a read_polys() \u51fd\u6570\u7684\u53e6\u5916\u4e00\u4e2a\u4fee\u6b63\u7248\uff1a"
      ]
    },
    {
      "cell_type": "code",
      "execution_count": null,
      "metadata": {},
      "outputs": [],
      "source": [
        "c\nl\na\ns\ns\n \nP\no\ni\nn\nt\n(\nS\nt\nr\nu\nc\nt\nu\nr\ne\n)\n:\n\n\n \n \n \n \n_\nf\ni\ne\nl\nd\ns\n_\n \n=\n \n[\n\n\n \n \n \n \n \n \n \n \n(\n'\n<\nd\n'\n,\n \n'\nx\n'\n)\n,\n\n\n \n \n \n \n \n \n \n \n(\n'\nd\n'\n,\n \n'\ny\n'\n)\n\n\n \n \n \n \n]\n\n\n\n\nc\nl\na\ns\ns\n \nP\no\nl\ny\nH\ne\na\nd\ne\nr\n(\nS\nt\nr\nu\nc\nt\nu\nr\ne\n)\n:\n\n\n \n \n \n \n_\nf\ni\ne\nl\nd\ns\n_\n \n=\n \n[\n\n\n \n \n \n \n \n \n \n \n(\n'\n<\ni\n'\n,\n \n'\nf\ni\nl\ne\n_\nc\no\nd\ne\n'\n)\n,\n\n\n \n \n \n \n \n \n \n \n(\nP\no\ni\nn\nt\n,\n \n'\nm\ni\nn\n'\n)\n,\n\n\n \n \n \n \n \n \n \n \n(\nP\no\ni\nn\nt\n,\n \n'\nm\na\nx\n'\n)\n,\n\n\n \n \n \n \n \n \n \n \n(\n'\ni\n'\n,\n \n'\nn\nu\nm\n_\np\no\nl\ny\ns\n'\n)\n\n\n \n \n \n \n]\n\n\n\n\nd\ne\nf\n \nr\ne\na\nd\n_\np\no\nl\ny\ns\n(\nf\ni\nl\ne\nn\na\nm\ne\n)\n:\n\n\n \n \n \n \np\no\nl\ny\ns\n \n=\n \n[\n]\n\n\n \n \n \n \nw\ni\nt\nh\n \no\np\ne\nn\n(\nf\ni\nl\ne\nn\na\nm\ne\n,\n \n'\nr\nb\n'\n)\n \na\ns\n \nf\n:\n\n\n \n \n \n \n \n \n \n \np\nh\ne\na\nd\n \n=\n \nP\no\nl\ny\nH\ne\na\nd\ne\nr\n.\nf\nr\no\nm\n_\nf\ni\nl\ne\n(\nf\n)\n\n\n \n \n \n \n \n \n \n \nf\no\nr\n \nn\n \ni\nn\n \nr\na\nn\ng\ne\n(\np\nh\ne\na\nd\n.\nn\nu\nm\n_\np\no\nl\ny\ns\n)\n:\n\n\n \n \n \n \n \n \n \n \n \n \n \n \nr\ne\nc\n \n=\n \nS\ni\nz\ne\nd\nR\ne\nc\no\nr\nd\n.\nf\nr\no\nm\n_\nf\ni\nl\ne\n(\nf\n,\n \n'\n<\ni\n'\n)\n\n\n \n \n \n \n \n \n \n \n \n \n \n \np\no\nl\ny\n \n=\n \n[\n \n(\np\n.\nx\n,\n \np\n.\ny\n)\n \nf\no\nr\n \np\n \ni\nn\n \nr\ne\nc\n.\ni\nt\ne\nr\n_\na\ns\n(\nP\no\ni\nn\nt\n)\n \n]\n\n\n \n \n \n \n \n \n \n \n \n \n \n \np\no\nl\ny\ns\n.\na\np\np\ne\nn\nd\n(\np\no\nl\ny\n)\n\n\n \n \n \n \nr\ne\nt\nu\nr\nn\n \np\no\nl\ny\ns\n\n"
      ]
    },
    {
      "cell_type": "markdown",
      "metadata": {},
      "source": [
        "### \u8ba8\u8bba\n"
      ]
    },
    {
      "cell_type": "markdown",
      "metadata": {},
      "source": [
        "\u8fd9\u4e00\u8282\u5411\u4f60\u5c55\u793a\u4e86\u8bb8\u591a\u9ad8\u7ea7\u7684\u7f16\u7a0b\u6280\u672f\uff0c\u5305\u62ec\u63cf\u8ff0\u5668\uff0c\u5ef6\u8fdf\u8ba1\u7b97\uff0c\u5143\u7c7b\uff0c\u7c7b\u53d8\u91cf\u548c\u5185\u5b58\u89c6\u56fe\u3002\n\u7136\u800c\uff0c\u5b83\u4eec\u90fd\u4e3a\u4e86\u540c\u4e00\u4e2a\u7279\u5b9a\u7684\u76ee\u6807\u670d\u52a1\u3002"
      ]
    },
    {
      "cell_type": "markdown",
      "metadata": {},
      "source": [
        "\u4e0a\u9762\u7684\u5b9e\u73b0\u7684\u4e00\u4e2a\u4e3b\u8981\u7279\u5f81\u662f\u5b83\u662f\u57fa\u4e8e\u61d2\u89e3\u5305\u7684\u601d\u60f3\u3002\u5f53\u4e00\u4e2a Structure \u5b9e\u4f8b\u88ab\u521b\u5efa\u65f6\uff0c\n__init__() \u4ec5\u4ec5\u53ea\u662f\u521b\u5efa\u4e00\u4e2a\u5b57\u8282\u6570\u636e\u7684\u5185\u5b58\u89c6\u56fe\uff0c\u6ca1\u6709\u505a\u5176\u4ed6\u4efb\u4f55\u4e8b\u3002\n\u7279\u522b\u7684\uff0c\u8fd9\u65f6\u5019\u5e76\u6ca1\u6709\u4efb\u4f55\u7684\u89e3\u5305\u6216\u8005\u5176\u4ed6\u4e0e\u7ed3\u6784\u76f8\u5173\u7684\u64cd\u4f5c\u53d1\u751f\u3002\n\u8fd9\u6837\u505a\u7684\u4e00\u4e2a\u52a8\u673a\u662f\u4f60\u53ef\u80fd\u4ec5\u4ec5\u53ea\u5bf9\u4e00\u4e2a\u5b57\u8282\u8bb0\u5f55\u7684\u67d0\u4e00\u5c0f\u90e8\u5206\u611f\u5174\u8da3\u3002\u6211\u4eec\u53ea\u9700\u8981\u89e3\u5305\u4f60\u9700\u8981\u8bbf\u95ee\u7684\u90e8\u5206\uff0c\u800c\u4e0d\u662f\u6574\u4e2a\u6587\u4ef6\u3002"
      ]
    },
    {
      "cell_type": "markdown",
      "metadata": {},
      "source": [
        "\u4e3a\u4e86\u5b9e\u73b0\u61d2\u89e3\u5305\u548c\u6253\u5305\uff0c\u9700\u8981\u4f7f\u7528 StructField \u63cf\u8ff0\u5668\u7c7b\u3002\n\u7528\u6237\u5728 _fields_ \u4e2d\u5217\u51fa\u6765\u7684\u6bcf\u4e2a\u5c5e\u6027\u90fd\u4f1a\u88ab\u8f6c\u5316\u6210\u4e00\u4e2a StructField \u63cf\u8ff0\u5668\uff0c\n\u5b83\u5c06\u76f8\u5173\u7ed3\u6784\u683c\u5f0f\u7801\u548c\u504f\u79fb\u503c\u4fdd\u5b58\u5230\u5b58\u50a8\u7f13\u5b58\u4e2d\u3002\u5143\u7c7b StructureMeta \u5728\u591a\u4e2a\u7ed3\u6784\u7c7b\u88ab\u5b9a\u4e49\u65f6\u81ea\u52a8\u521b\u5efa\u4e86\u8fd9\u4e9b\u63cf\u8ff0\u5668\u3002\n\u6211\u4eec\u4f7f\u7528\u5143\u7c7b\u7684\u4e00\u4e2a\u4e3b\u8981\u539f\u56e0\u662f\u5b83\u4f7f\u5f97\u7528\u6237\u975e\u5e38\u65b9\u4fbf\u7684\u901a\u8fc7\u4e00\u4e2a\u9ad8\u5c42\u63cf\u8ff0\u5c31\u80fd\u6307\u5b9a\u7ed3\u6784\u683c\u5f0f\uff0c\u800c\u65e0\u9700\u8003\u8651\u4f4e\u5c42\u7684\u7ec6\u8282\u95ee\u9898\u3002"
      ]
    },
    {
      "cell_type": "markdown",
      "metadata": {},
      "source": [
        "StructureMeta \u7684\u4e00\u4e2a\u5f88\u5fae\u5999\u7684\u5730\u65b9\u5c31\u662f\u5b83\u4f1a\u56fa\u5b9a\u5b57\u8282\u6570\u636e\u987a\u5e8f\u3002\n\u4e5f\u5c31\u662f\u8bf4\uff0c\u5982\u679c\u4efb\u610f\u7684\u5c5e\u6027\u6307\u5b9a\u4e86\u4e00\u4e2a\u5b57\u8282\u987a\u5e8f(<\u8868\u793a\u4f4e\u4f4d\u4f18\u5148 \u6216\u8005 >\u8868\u793a\u9ad8\u4f4d\u4f18\u5148)\uff0c\n\u90a3\u540e\u9762\u6240\u6709\u5b57\u6bb5\u7684\u987a\u5e8f\u90fd\u4ee5\u8fd9\u4e2a\u987a\u5e8f\u4e3a\u51c6\u3002\u8fd9\u4e48\u505a\u53ef\u4ee5\u5e2e\u52a9\u907f\u514d\u989d\u5916\u8f93\u5165\uff0c\u4f46\u662f\u5728\u5b9a\u4e49\u7684\u4e2d\u95f4\u6211\u4eec\u4ecd\u7136\u53ef\u80fd\u5207\u6362\u987a\u5e8f\u7684\u3002\n\u6bd4\u5982\uff0c\u4f60\u53ef\u80fd\u6709\u4e00\u4e9b\u6bd4\u8f83\u590d\u6742\u7684\u7ed3\u6784\uff0c\u5c31\u50cf\u4e0b\u9762\u8fd9\u6837\uff1a"
      ]
    },
    {
      "cell_type": "code",
      "execution_count": null,
      "metadata": {},
      "outputs": [],
      "source": [
        "c\nl\na\ns\ns\n \nS\nh\na\np\ne\nF\ni\nl\ne\n(\nS\nt\nr\nu\nc\nt\nu\nr\ne\n)\n:\n\n\n \n \n \n \n_\nf\ni\ne\nl\nd\ns\n_\n \n=\n \n[\n \n(\n'\n>\ni\n'\n,\n \n'\nf\ni\nl\ne\n_\nc\no\nd\ne\n'\n)\n,\n \n#\n \nB\ni\ng\n \ne\nn\nd\ni\na\nn\n\n\n \n \n \n \n \n \n \n \n(\n'\n2\n0\ns\n'\n,\n \n'\nu\nn\nu\ns\ne\nd\n'\n)\n,\n\n\n \n \n \n \n \n \n \n \n(\n'\ni\n'\n,\n \n'\nf\ni\nl\ne\n_\nl\ne\nn\ng\nt\nh\n'\n)\n,\n\n\n \n \n \n \n \n \n \n \n(\n'\n<\ni\n'\n,\n \n'\nv\ne\nr\ns\ni\no\nn\n'\n)\n,\n \n#\n \nL\ni\nt\nt\nl\ne\n \ne\nn\nd\ni\na\nn\n\n\n \n \n \n \n \n \n \n \n(\n'\ni\n'\n,\n \n'\ns\nh\na\np\ne\n_\nt\ny\np\ne\n'\n)\n,\n\n\n \n \n \n \n \n \n \n \n(\n'\nd\n'\n,\n \n'\nm\ni\nn\n_\nx\n'\n)\n,\n\n\n \n \n \n \n \n \n \n \n(\n'\nd\n'\n,\n \n'\nm\ni\nn\n_\ny\n'\n)\n,\n\n\n \n \n \n \n \n \n \n \n(\n'\nd\n'\n,\n \n'\nm\na\nx\n_\nx\n'\n)\n,\n\n\n \n \n \n \n \n \n \n \n(\n'\nd\n'\n,\n \n'\nm\na\nx\n_\ny\n'\n)\n,\n\n\n \n \n \n \n \n \n \n \n(\n'\nd\n'\n,\n \n'\nm\ni\nn\n_\nz\n'\n)\n,\n\n\n \n \n \n \n \n \n \n \n(\n'\nd\n'\n,\n \n'\nm\na\nx\n_\nz\n'\n)\n,\n\n\n \n \n \n \n \n \n \n \n(\n'\nd\n'\n,\n \n'\nm\ni\nn\n_\nm\n'\n)\n,\n\n\n \n \n \n \n \n \n \n \n(\n'\nd\n'\n,\n \n'\nm\na\nx\n_\nm\n'\n)\n \n]\n\n"
      ]
    },
    {
      "cell_type": "markdown",
      "metadata": {},
      "source": [
        "\u4e4b\u524d\u6211\u4eec\u63d0\u5230\u8fc7\uff0cmemoryview() \u7684\u4f7f\u7528\u53ef\u4ee5\u5e2e\u52a9\u6211\u4eec\u907f\u514d\u5185\u5b58\u7684\u590d\u5236\u3002\n\u5f53\u7ed3\u6784\u5b58\u5728\u5d4c\u5957\u7684\u65f6\u5019\uff0cmemoryviews \u53ef\u4ee5\u53e0\u52a0\u540c\u4e00\u5185\u5b58\u533a\u57df\u4e0a\u5b9a\u4e49\u7684\u673a\u6784\u7684\u4e0d\u540c\u90e8\u5206\u3002\n\u8fd9\u4e2a\u7279\u6027\u6bd4\u8f83\u5fae\u5999\uff0c\u4f46\u662f\u5b83\u5173\u6ce8\u7684\u662f\u5185\u5b58\u89c6\u56fe\u4e0e\u666e\u901a\u5b57\u8282\u6570\u7ec4\u7684\u5207\u7247\u64cd\u4f5c\u884c\u4e3a\u3002\n\u5982\u679c\u4f60\u5728\u4e00\u4e2a\u5b57\u8282\u5b57\u7b26\u4e32\u6216\u5b57\u8282\u6570\u7ec4\u4e0a\u6267\u884c\u5207\u7247\u64cd\u4f5c\uff0c\u4f60\u901a\u5e38\u4f1a\u5f97\u5230\u4e00\u4e2a\u6570\u636e\u7684\u62f7\u8d1d\u3002\n\u800c\u5185\u5b58\u89c6\u56fe\u5207\u7247\u4e0d\u662f\u8fd9\u6837\u7684\uff0c\u5b83\u4ec5\u4ec5\u662f\u5728\u5df2\u5b58\u5728\u7684\u5185\u5b58\u4e0a\u9762\u53e0\u52a0\u800c\u5df2\u3002\u56e0\u6b64\uff0c\u8fd9\u79cd\u65b9\u5f0f\u66f4\u52a0\u9ad8\u6548\u3002"
      ]
    },
    {
      "cell_type": "markdown",
      "metadata": {},
      "source": [
        "\u8fd8\u6709\u5f88\u591a\u76f8\u5173\u7684\u7ae0\u8282\u53ef\u4ee5\u5e2e\u52a9\u6211\u4eec\u6269\u5c55\u8fd9\u91cc\u8ba8\u8bba\u7684\u65b9\u6848\u3002\n\u53c2\u80038.13\u5c0f\u8282\u4f7f\u7528\u63cf\u8ff0\u5668\u6784\u5efa\u4e00\u4e2a\u7c7b\u578b\u7cfb\u7edf\u3002\n8.10\u5c0f\u8282\u6709\u66f4\u591a\u5173\u4e8e\u5ef6\u8fdf\u8ba1\u7b97\u5c5e\u6027\u503c\u7684\u8ba8\u8bba\uff0c\u5e76\u4e14\u8ddfNestedStruct\u63cf\u8ff0\u5668\u7684\u5b9e\u73b0\u4e5f\u6709\u5173\u3002\n9.19\u5c0f\u8282\u6709\u4e00\u4e2a\u4f7f\u7528\u5143\u7c7b\u6765\u521d\u59cb\u5316\u7c7b\u6210\u5458\u7684\u4f8b\u5b50\uff0c\u548c StructureMeta \u7c7b\u975e\u5e38\u76f8\u4f3c\u3002\nPython\u7684 ctypes \u6e90\u7801\u540c\u6837\u4e5f\u5f88\u6709\u8da3\uff0c\u5b83\u63d0\u4f9b\u4e86\u5bf9\u5b9a\u4e49\u6570\u636e\u7ed3\u6784\u3001\u6570\u636e\u7ed3\u6784\u5d4c\u5957\u8fd9\u4e9b\u76f8\u4f3c\u529f\u80fd\u7684\u652f\u6301\u3002"
      ]
    },
    {
      "cell_type": "markdown",
      "metadata": {},
      "source": [
        "## 6.13 \u6570\u636e\u7684\u7d2f\u52a0\u4e0e\u7edf\u8ba1\u64cd\u4f5c\n"
      ]
    },
    {
      "cell_type": "markdown",
      "metadata": {},
      "source": [
        "### \u95ee\u9898\n"
      ]
    },
    {
      "cell_type": "markdown",
      "metadata": {},
      "source": [
        "\u4f60\u9700\u8981\u5904\u7406\u4e00\u4e2a\u5f88\u5927\u7684\u6570\u636e\u96c6\u5e76\u9700\u8981\u8ba1\u7b97\u6570\u636e\u603b\u548c\u6216\u5176\u4ed6\u7edf\u8ba1\u91cf\u3002"
      ]
    },
    {
      "cell_type": "markdown",
      "metadata": {},
      "source": [
        "### \u89e3\u51b3\u65b9\u6848\n"
      ]
    },
    {
      "cell_type": "markdown",
      "metadata": {},
      "source": [
        "\u5bf9\u4e8e\u4efb\u4f55\u6d89\u53ca\u5230\u7edf\u8ba1\u3001\u65f6\u95f4\u5e8f\u5217\u4ee5\u53ca\u5176\u4ed6\u76f8\u5173\u6280\u672f\u7684\u6570\u636e\u5206\u6790\u95ee\u9898\uff0c\u90fd\u53ef\u4ee5\u8003\u8651\u4f7f\u7528 Pandas\u5e93 \u3002"
      ]
    },
    {
      "cell_type": "markdown",
      "metadata": {},
      "source": [
        "\u4e3a\u4e86\u8ba9\u4f60\u5148\u4f53\u9a8c\u4e0b\uff0c\u4e0b\u9762\u662f\u4e00\u4e2a\u4f7f\u7528Pandas\u6765\u5206\u6790\u829d\u52a0\u54e5\u57ce\u5e02\u7684\n\u8001\u9f20\u548c\u556e\u9f7f\u7c7b\u52a8\u7269\u6570\u636e\u5e93 \u7684\u4f8b\u5b50\u3002\n\u5728\u6211\u5199\u8fd9\u7bc7\u6587\u7ae0\u7684\u65f6\u5019\uff0c\u8fd9\u4e2a\u6570\u636e\u5e93\u662f\u4e00\u4e2a\u62e5\u6709\u5927\u698274,000\u884c\u6570\u636e\u7684CSV\u6587\u4ef6\u3002"
      ]
    },
    {
      "cell_type": "code",
      "execution_count": null,
      "metadata": {},
      "outputs": [],
      "source": [
        "import pandas"
      ]
    },
    {
      "cell_type": "code",
      "execution_count": null,
      "metadata": {},
      "outputs": [],
      "source": [
        "# Read a CSV file, skipping last line\nrats = pandas.read_csv('rats.csv', skip_footer=1)\nrats"
      ]
    },
    {
      "cell_type": "code",
      "execution_count": null,
      "metadata": {},
      "outputs": [],
      "source": [
        "# Investigate range of values for a certain field\nrats['Current Activity'].unique()"
      ]
    },
    {
      "cell_type": "code",
      "execution_count": null,
      "metadata": {},
      "outputs": [],
      "source": [
        "# Filter the data\ncrew_dispatched = rats[rats['Current Activity'] == 'Dispatch Crew']\nlen(crew_dispatched)"
      ]
    },
    {
      "cell_type": "code",
      "execution_count": null,
      "metadata": {},
      "outputs": [],
      "source": [
        "# Find 10 most rat-infested ZIP codes in Chicago\ncrew_dispatched['ZIP Code'].value_counts()[:10]"
      ]
    },
    {
      "cell_type": "code",
      "execution_count": null,
      "metadata": {},
      "outputs": [],
      "source": [
        "# Group by completion date\ndates = crew_dispatched.groupby('Completion Date')"
      ]
    },
    {
      "cell_type": "code",
      "execution_count": null,
      "metadata": {},
      "outputs": [],
      "source": [
        "len(dates)"
      ]
    },
    {
      "cell_type": "code",
      "execution_count": null,
      "metadata": {},
      "outputs": [],
      "source": [
        "# Determine counts on each day\ndate_counts = dates.size()\ndate_counts[0:10]"
      ]
    },
    {
      "cell_type": "code",
      "execution_count": null,
      "metadata": {},
      "outputs": [],
      "source": [
        "# Sort the counts\ndate_counts.sort()\ndate_counts[-10:]"
      ]
    },
    {
      "cell_type": "markdown",
      "metadata": {},
      "source": [
        "\u55ef\uff0c\u770b\u6837\u5b502011\u5e7410\u67087\u65e5\u5bf9\u8001\u9f20\u4eec\u6765\u8bf4\u662f\u4e2a\u5f88\u5fd9\u788c\u7684\u65e5\u5b50\u554a\uff01^_^"
      ]
    },
    {
      "cell_type": "markdown",
      "metadata": {},
      "source": [
        "### \u8ba8\u8bba\n"
      ]
    },
    {
      "cell_type": "markdown",
      "metadata": {},
      "source": [
        "Pandas\u662f\u4e00\u4e2a\u62e5\u6709\u5f88\u591a\u7279\u6027\u7684\u5927\u578b\u51fd\u6570\u5e93\uff0c\u6211\u5728\u8fd9\u91cc\u4e0d\u53ef\u80fd\u4ecb\u7ecd\u5b8c\u3002\n\u4f46\u662f\u53ea\u8981\u4f60\u9700\u8981\u53bb\u5206\u6790\u5927\u578b\u6570\u636e\u96c6\u5408\u3001\u5bf9\u6570\u636e\u5206\u7ec4\u3001\u8ba1\u7b97\u5404\u79cd\u7edf\u8ba1\u91cf\u6216\u5176\u4ed6\u7c7b\u4f3c\u4efb\u52a1\u7684\u8bdd\uff0c\u8fd9\u4e2a\u51fd\u6570\u5e93\u771f\u7684\u503c\u5f97\u4f60\u53bb\u770b\u4e00\u770b\u3002"
      ]
    }
  ],
  "metadata": {
    "kernelspec": {
      "display_name": "Python 3",
      "language": "python",
      "name": "python3"
    },
    "language_info": {
      "codemirror_mode": {
        "name": "ipython",
        "version": 3
      },
      "file_extension": ".py",
      "mimetype": "text/x-python",
      "name": "python",
      "nbconvert_exporter": "python",
      "pygments_lexer": "ipython3",
      "version": "3.7.1"
    },
    "toc": {
      "base_numbering": 1,
      "nav_menu": {},
      "number_sections": true,
      "sideBar": true,
      "skip_h1_title": true,
      "title_cell": "Table of Contents",
      "title_sidebar": "Contents",
      "toc_cell": false,
      "toc_position": {},
      "toc_section_display": true,
      "toc_window_display": true
    }
  },
  "nbformat": 4,
  "nbformat_minor": 2
}