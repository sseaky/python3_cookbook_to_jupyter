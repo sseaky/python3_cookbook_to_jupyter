{
  "cells": [
    {
      "cell_type": "markdown",
      "metadata": {},
      "source": [
        "# \u7b2c\u4e03\u7ae0\uff1a\u51fd\u6570\n \u4f7f\u7528 def \u8bed\u53e5\u5b9a\u4e49\u51fd\u6570\u662f\u6240\u6709\u7a0b\u5e8f\u7684\u57fa\u7840\u3002\n\u672c\u7ae0\u7684\u76ee\u6807\u662f\u8bb2\u89e3\u4e00\u4e9b\u66f4\u52a0\u9ad8\u7ea7\u548c\u4e0d\u5e38\u89c1\u7684\u51fd\u6570\u5b9a\u4e49\u4e0e\u4f7f\u7528\u6a21\u5f0f\u3002\n\u6d89\u53ca\u5230\u7684\u5185\u5bb9\u5305\u62ec\u9ed8\u8ba4\u53c2\u6570\u3001\u4efb\u610f\u6570\u91cf\u53c2\u6570\u3001\u5f3a\u5236\u5173\u952e\u5b57\u53c2\u6570\u3001\u6ce8\u89e3\u548c\u95ed\u5305\u3002\n\u53e6\u5916\uff0c\u4e00\u4e9b\u9ad8\u7ea7\u7684\u63a7\u5236\u6d41\u548c\u5229\u7528\u56de\u8c03\u51fd\u6570\u4f20\u9012\u6570\u636e\u7684\u6280\u672f\u5728\u8fd9\u91cc\u4e5f\u4f1a\u8bb2\u89e3\u5230\u3002"
      ]
    },
    {
      "cell_type": "markdown",
      "metadata": {},
      "source": [
        "## 7.1 \u53ef\u63a5\u53d7\u4efb\u610f\u6570\u91cf\u53c2\u6570\u7684\u51fd\u6570\n"
      ]
    },
    {
      "cell_type": "markdown",
      "metadata": {},
      "source": [
        "### \u95ee\u9898\n"
      ]
    },
    {
      "cell_type": "markdown",
      "metadata": {},
      "source": [
        "\u4f60\u60f3\u6784\u9020\u4e00\u4e2a\u53ef\u63a5\u53d7\u4efb\u610f\u6570\u91cf\u53c2\u6570\u7684\u51fd\u6570\u3002"
      ]
    },
    {
      "cell_type": "markdown",
      "metadata": {},
      "source": [
        "### \u89e3\u51b3\u65b9\u6848\n"
      ]
    },
    {
      "cell_type": "markdown",
      "metadata": {},
      "source": [
        "\u4e3a\u4e86\u80fd\u8ba9\u4e00\u4e2a\u51fd\u6570\u63a5\u53d7\u4efb\u610f\u6570\u91cf\u7684\u4f4d\u7f6e\u53c2\u6570\uff0c\u53ef\u4ee5\u4f7f\u7528\u4e00\u4e2a*\u53c2\u6570\u3002\u4f8b\u5982\uff1a"
      ]
    },
    {
      "cell_type": "code",
      "execution_count": null,
      "metadata": {},
      "outputs": [],
      "source": [
        "d\ne\nf\n \na\nv\ng\n(\nf\ni\nr\ns\nt\n,\n \n*\nr\ne\ns\nt\n)\n:\n\n\n \n \n \n \nr\ne\nt\nu\nr\nn\n \n(\nf\ni\nr\ns\nt\n \n+\n \ns\nu\nm\n(\nr\ne\ns\nt\n)\n)\n \n/\n \n(\n1\n \n+\n \nl\ne\nn\n(\nr\ne\ns\nt\n)\n)\n\n\n\n\n#\n \nS\na\nm\np\nl\ne\n \nu\ns\ne\n\n\na\nv\ng\n(\n1\n,\n \n2\n)\n \n#\n \n1\n.\n5\n\n\na\nv\ng\n(\n1\n,\n \n2\n,\n \n3\n,\n \n4\n)\n \n#\n \n2\n.\n5\n\n"
      ]
    },
    {
      "cell_type": "markdown",
      "metadata": {},
      "source": [
        "\u5728\u8fd9\u4e2a\u4f8b\u5b50\u4e2d\uff0crest\u662f\u7531\u6240\u6709\u5176\u4ed6\u4f4d\u7f6e\u53c2\u6570\u7ec4\u6210\u7684\u5143\u7ec4\u3002\u7136\u540e\u6211\u4eec\u5728\u4ee3\u7801\u4e2d\u628a\u5b83\u5f53\u6210\u4e86\u4e00\u4e2a\u5e8f\u5217\u6765\u8fdb\u884c\u540e\u7eed\u7684\u8ba1\u7b97\u3002"
      ]
    },
    {
      "cell_type": "markdown",
      "metadata": {},
      "source": [
        "\u4e3a\u4e86\u63a5\u53d7\u4efb\u610f\u6570\u91cf\u7684\u5173\u952e\u5b57\u53c2\u6570\uff0c\u4f7f\u7528\u4e00\u4e2a\u4ee5**\u5f00\u5934\u7684\u53c2\u6570\u3002\u6bd4\u5982\uff1a"
      ]
    },
    {
      "cell_type": "code",
      "execution_count": null,
      "metadata": {},
      "outputs": [],
      "source": [
        "i\nm\np\no\nr\nt\n \nh\nt\nm\nl\n\n\n\n\nd\ne\nf\n \nm\na\nk\ne\n_\ne\nl\ne\nm\ne\nn\nt\n(\nn\na\nm\ne\n,\n \nv\na\nl\nu\ne\n,\n \n*\n*\na\nt\nt\nr\ns\n)\n:\n\n\n \n \n \n \nk\ne\ny\nv\na\nl\ns\n \n=\n \n[\n'\n \n%\ns\n=\n\"\n%\ns\n\"\n'\n \n%\n \ni\nt\ne\nm\n \nf\no\nr\n \ni\nt\ne\nm\n \ni\nn\n \na\nt\nt\nr\ns\n.\ni\nt\ne\nm\ns\n(\n)\n]\n\n\n \n \n \n \na\nt\nt\nr\n_\ns\nt\nr\n \n=\n \n'\n'\n.\nj\no\ni\nn\n(\nk\ne\ny\nv\na\nl\ns\n)\n\n\n \n \n \n \ne\nl\ne\nm\ne\nn\nt\n \n=\n \n'\n<\n{\nn\na\nm\ne\n}\n{\na\nt\nt\nr\ns\n}\n>\n{\nv\na\nl\nu\ne\n}\n<\n/\n{\nn\na\nm\ne\n}\n>\n'\n.\nf\no\nr\nm\na\nt\n(\n\n\n \n \n \n \n \n \n \n \n \n \n \n \n \n \n \n \nn\na\nm\ne\n=\nn\na\nm\ne\n,\n\n\n \n \n \n \n \n \n \n \n \n \n \n \n \n \n \n \na\nt\nt\nr\ns\n=\na\nt\nt\nr\n_\ns\nt\nr\n,\n\n\n \n \n \n \n \n \n \n \n \n \n \n \n \n \n \n \nv\na\nl\nu\ne\n=\nh\nt\nm\nl\n.\ne\ns\nc\na\np\ne\n(\nv\na\nl\nu\ne\n)\n)\n\n\n \n \n \n \nr\ne\nt\nu\nr\nn\n \ne\nl\ne\nm\ne\nn\nt\n\n\n\n\n#\n \nE\nx\na\nm\np\nl\ne\n\n\n#\n \nC\nr\ne\na\nt\ne\ns\n \n'\n<\ni\nt\ne\nm\n \ns\ni\nz\ne\n=\n\"\nl\na\nr\ng\ne\n\"\n \nq\nu\na\nn\nt\ni\nt\ny\n=\n\"\n6\n\"\n>\nA\nl\nb\na\nt\nr\no\ns\ns\n<\n/\ni\nt\ne\nm\n>\n'\n\n\nm\na\nk\ne\n_\ne\nl\ne\nm\ne\nn\nt\n(\n'\ni\nt\ne\nm\n'\n,\n \n'\nA\nl\nb\na\nt\nr\no\ns\ns\n'\n,\n \ns\ni\nz\ne\n=\n'\nl\na\nr\ng\ne\n'\n,\n \nq\nu\na\nn\nt\ni\nt\ny\n=\n6\n)\n\n\n\n\n#\n \nC\nr\ne\na\nt\ne\ns\n \n'\n<\np\n>\n&\nl\nt\n;\ns\np\na\nm\n&\ng\nt\n;\n<\n/\np\n>\n'\n\n\nm\na\nk\ne\n_\ne\nl\ne\nm\ne\nn\nt\n(\n'\np\n'\n,\n \n'\n<\ns\np\na\nm\n>\n'\n)\n\n"
      ]
    },
    {
      "cell_type": "markdown",
      "metadata": {},
      "source": [
        "\u5728\u8fd9\u91cc\uff0cattrs\u662f\u4e00\u4e2a\u5305\u542b\u6240\u6709\u88ab\u4f20\u5165\u8fdb\u6765\u7684\u5173\u952e\u5b57\u53c2\u6570\u7684\u5b57\u5178\u3002"
      ]
    },
    {
      "cell_type": "markdown",
      "metadata": {},
      "source": [
        "\u5982\u679c\u4f60\u8fd8\u5e0c\u671b\u67d0\u4e2a\u51fd\u6570\u80fd\u540c\u65f6\u63a5\u53d7\u4efb\u610f\u6570\u91cf\u7684\u4f4d\u7f6e\u53c2\u6570\u548c\u5173\u952e\u5b57\u53c2\u6570\uff0c\u53ef\u4ee5\u540c\u65f6\u4f7f\u7528*\u548c**\u3002\u6bd4\u5982\uff1a"
      ]
    },
    {
      "cell_type": "code",
      "execution_count": null,
      "metadata": {},
      "outputs": [],
      "source": [
        "d\ne\nf\n \na\nn\ny\na\nr\ng\ns\n(\n*\na\nr\ng\ns\n,\n \n*\n*\nk\nw\na\nr\ng\ns\n)\n:\n\n\n \n \n \n \np\nr\ni\nn\nt\n(\na\nr\ng\ns\n)\n \n#\n \nA\n \nt\nu\np\nl\ne\n\n\n \n \n \n \np\nr\ni\nn\nt\n(\nk\nw\na\nr\ng\ns\n)\n \n#\n \nA\n \nd\ni\nc\nt\n\n"
      ]
    },
    {
      "cell_type": "markdown",
      "metadata": {},
      "source": [
        "\u4f7f\u7528\u8fd9\u4e2a\u51fd\u6570\u65f6\uff0c\u6240\u6709\u4f4d\u7f6e\u53c2\u6570\u4f1a\u88ab\u653e\u5230args\u5143\u7ec4\u4e2d\uff0c\u6240\u6709\u5173\u952e\u5b57\u53c2\u6570\u4f1a\u88ab\u653e\u5230\u5b57\u5178kwargs\u4e2d\u3002"
      ]
    },
    {
      "cell_type": "markdown",
      "metadata": {},
      "source": [
        "### \u8ba8\u8bba\n"
      ]
    },
    {
      "cell_type": "markdown",
      "metadata": {},
      "source": [
        "\u4e00\u4e2a*\u53c2\u6570\u53ea\u80fd\u51fa\u73b0\u5728\u51fd\u6570\u5b9a\u4e49\u4e2d\u6700\u540e\u4e00\u4e2a\u4f4d\u7f6e\u53c2\u6570\u540e\u9762\uff0c\u800c **\u53c2\u6570\u53ea\u80fd\u51fa\u73b0\u5728\u6700\u540e\u4e00\u4e2a\u53c2\u6570\u3002\n\u6709\u4e00\u70b9\u8981\u6ce8\u610f\u7684\u662f\uff0c\u5728*\u53c2\u6570\u540e\u9762\u4ecd\u7136\u53ef\u4ee5\u5b9a\u4e49\u5176\u4ed6\u53c2\u6570\u3002"
      ]
    },
    {
      "cell_type": "code",
      "execution_count": null,
      "metadata": {},
      "outputs": [],
      "source": [
        "d\ne\nf\n \na\n(\nx\n,\n \n*\na\nr\ng\ns\n,\n \ny\n)\n:\n\n\n \n \n \n \np\na\ns\ns\n\n\n\n\nd\ne\nf\n \nb\n(\nx\n,\n \n*\na\nr\ng\ns\n,\n \ny\n,\n \n*\n*\nk\nw\na\nr\ng\ns\n)\n:\n\n\n \n \n \n \np\na\ns\ns\n\n"
      ]
    },
    {
      "cell_type": "markdown",
      "metadata": {},
      "source": [
        "\u8fd9\u79cd\u53c2\u6570\u5c31\u662f\u6211\u4eec\u6240\u8bf4\u7684\u5f3a\u5236\u5173\u952e\u5b57\u53c2\u6570\uff0c\u5728\u540e\u97627.2\u5c0f\u8282\u8fd8\u4f1a\u8be6\u7ec6\u8bb2\u89e3\u5230\u3002"
      ]
    },
    {
      "cell_type": "markdown",
      "metadata": {},
      "source": [
        "## 7.2 \u53ea\u63a5\u53d7\u5173\u952e\u5b57\u53c2\u6570\u7684\u51fd\u6570\n"
      ]
    },
    {
      "cell_type": "markdown",
      "metadata": {},
      "source": [
        "### \u95ee\u9898\n"
      ]
    },
    {
      "cell_type": "markdown",
      "metadata": {},
      "source": [
        "\u4f60\u5e0c\u671b\u51fd\u6570\u7684\u67d0\u4e9b\u53c2\u6570\u5f3a\u5236\u4f7f\u7528\u5173\u952e\u5b57\u53c2\u6570\u4f20\u9012"
      ]
    },
    {
      "cell_type": "markdown",
      "metadata": {},
      "source": [
        "### \u89e3\u51b3\u65b9\u6848\n"
      ]
    },
    {
      "cell_type": "markdown",
      "metadata": {},
      "source": [
        "\u5c06\u5f3a\u5236\u5173\u952e\u5b57\u53c2\u6570\u653e\u5230\u67d0\u4e2a*\u53c2\u6570\u6216\u8005\u5355\u4e2a*\u540e\u9762\u5c31\u80fd\u8fbe\u5230\u8fd9\u79cd\u6548\u679c\u3002\u6bd4\u5982\uff1a"
      ]
    },
    {
      "cell_type": "code",
      "execution_count": null,
      "metadata": {},
      "outputs": [],
      "source": [
        "d\ne\nf\n \nr\ne\nc\nv\n(\nm\na\nx\ns\ni\nz\ne\n,\n \n*\n,\n \nb\nl\no\nc\nk\n)\n:\n\n\n \n \n \n \n'\nR\ne\nc\ne\ni\nv\ne\ns\n \na\n \nm\ne\ns\ns\na\ng\ne\n'\n\n\n \n \n \n \np\na\ns\ns\n\n\n\n\nr\ne\nc\nv\n(\n1\n0\n2\n4\n,\n \nT\nr\nu\ne\n)\n \n#\n \nT\ny\np\ne\nE\nr\nr\no\nr\n\n\nr\ne\nc\nv\n(\n1\n0\n2\n4\n,\n \nb\nl\no\nc\nk\n=\nT\nr\nu\ne\n)\n \n#\n \nO\nk\n\n"
      ]
    },
    {
      "cell_type": "markdown",
      "metadata": {},
      "source": [
        "\u5229\u7528\u8fd9\u79cd\u6280\u672f\uff0c\u6211\u4eec\u8fd8\u80fd\u5728\u63a5\u53d7\u4efb\u610f\u591a\u4e2a\u4f4d\u7f6e\u53c2\u6570\u7684\u51fd\u6570\u4e2d\u6307\u5b9a\u5173\u952e\u5b57\u53c2\u6570\u3002\u6bd4\u5982\uff1a"
      ]
    },
    {
      "cell_type": "code",
      "execution_count": null,
      "metadata": {},
      "outputs": [],
      "source": [
        "d\ne\nf\n \nm\ni\nn\ni\nm\nu\nm\n(\n*\nv\na\nl\nu\ne\ns\n,\n \nc\nl\ni\np\n=\nN\no\nn\ne\n)\n:\n\n\n \n \n \n \nm\n \n=\n \nm\ni\nn\n(\nv\na\nl\nu\ne\ns\n)\n\n\n \n \n \n \ni\nf\n \nc\nl\ni\np\n \ni\ns\n \nn\no\nt\n \nN\no\nn\ne\n:\n\n\n \n \n \n \n \n \n \n \nm\n \n=\n \nc\nl\ni\np\n \ni\nf\n \nc\nl\ni\np\n \n>\n \nm\n \ne\nl\ns\ne\n \nm\n\n\n \n \n \n \nr\ne\nt\nu\nr\nn\n \nm\n\n\n\n\nm\ni\nn\ni\nm\nu\nm\n(\n1\n,\n \n5\n,\n \n2\n,\n \n-\n5\n,\n \n1\n0\n)\n \n#\n \nR\ne\nt\nu\nr\nn\ns\n \n-\n5\n\n\nm\ni\nn\ni\nm\nu\nm\n(\n1\n,\n \n5\n,\n \n2\n,\n \n-\n5\n,\n \n1\n0\n,\n \nc\nl\ni\np\n=\n0\n)\n \n#\n \nR\ne\nt\nu\nr\nn\ns\n \n0\n\n"
      ]
    },
    {
      "cell_type": "markdown",
      "metadata": {},
      "source": [
        "### \u8ba8\u8bba\n"
      ]
    },
    {
      "cell_type": "markdown",
      "metadata": {},
      "source": [
        "\u5f88\u591a\u60c5\u51b5\u4e0b\uff0c\u4f7f\u7528\u5f3a\u5236\u5173\u952e\u5b57\u53c2\u6570\u4f1a\u6bd4\u4f7f\u7528\u4f4d\u7f6e\u53c2\u6570\u8868\u610f\u66f4\u52a0\u6e05\u6670\uff0c\u7a0b\u5e8f\u4e5f\u66f4\u52a0\u5177\u6709\u53ef\u8bfb\u6027\u3002\n\u4f8b\u5982\uff0c\u8003\u8651\u4e0b\u5982\u4e0b\u4e00\u4e2a\u51fd\u6570\u8c03\u7528\uff1a"
      ]
    },
    {
      "cell_type": "code",
      "execution_count": null,
      "metadata": {},
      "outputs": [],
      "source": [
        "m\ns\ng\n \n=\n \nr\ne\nc\nv\n(\n1\n0\n2\n4\n,\n \nF\na\nl\ns\ne\n)\n\n"
      ]
    },
    {
      "cell_type": "markdown",
      "metadata": {},
      "source": [
        "\u5982\u679c\u8c03\u7528\u8005\u5bf9recv\u51fd\u6570\u5e76\u4e0d\u662f\u5f88\u719f\u6089\uff0c\u90a3\u4ed6\u80af\u5b9a\u4e0d\u660e\u767d\u90a3\u4e2aFalse\u53c2\u6570\u5230\u5e95\u6765\u5e72\u561b\u7528\u7684\u3002\n\u4f46\u662f\uff0c\u5982\u679c\u4ee3\u7801\u53d8\u6210\u4e0b\u9762\u8fd9\u6837\u5b50\u7684\u8bdd\u5c31\u6e05\u695a\u591a\u4e86\uff1a"
      ]
    },
    {
      "cell_type": "code",
      "execution_count": null,
      "metadata": {},
      "outputs": [],
      "source": [
        "m\ns\ng\n \n=\n \nr\ne\nc\nv\n(\n1\n0\n2\n4\n,\n \nb\nl\no\nc\nk\n=\nF\na\nl\ns\ne\n)\n\n"
      ]
    },
    {
      "cell_type": "markdown",
      "metadata": {},
      "source": [
        "\u53e6\u5916\uff0c\u4f7f\u7528\u5f3a\u5236\u5173\u952e\u5b57\u53c2\u6570\u4e5f\u4f1a\u6bd4\u4f7f\u7528**kwargs\u53c2\u6570\u66f4\u597d\uff0c\u56e0\u4e3a\u5728\u4f7f\u7528\u51fd\u6570help\u7684\u65f6\u5019\u8f93\u51fa\u4e5f\u4f1a\u66f4\u5bb9\u6613\u7406\u89e3\uff1a"
      ]
    },
    {
      "cell_type": "code",
      "execution_count": null,
      "metadata": {},
      "outputs": [],
      "source": [
        "help(recv)"
      ]
    },
    {
      "cell_type": "markdown",
      "metadata": {},
      "source": [
        "\u5f3a\u5236\u5173\u952e\u5b57\u53c2\u6570\u5728\u4e00\u4e9b\u66f4\u9ad8\u7ea7\u573a\u5408\u540c\u6837\u4e5f\u5f88\u6709\u7528\u3002\n\u4f8b\u5982\uff0c\u5b83\u4eec\u53ef\u4ee5\u88ab\u7528\u6765\u5728\u4f7f\u7528*args\u548c**kwargs\u53c2\u6570\u4f5c\u4e3a\u8f93\u5165\u7684\u51fd\u6570\u4e2d\u63d2\u5165\u53c2\u6570\uff0c9.11\u5c0f\u8282\u6709\u4e00\u4e2a\u8fd9\u6837\u7684\u4f8b\u5b50\u3002"
      ]
    },
    {
      "cell_type": "markdown",
      "metadata": {},
      "source": [
        "## 7.3 \u7ed9\u51fd\u6570\u53c2\u6570\u589e\u52a0\u5143\u4fe1\u606f\n"
      ]
    },
    {
      "cell_type": "markdown",
      "metadata": {},
      "source": [
        "### \u95ee\u9898\n"
      ]
    },
    {
      "cell_type": "markdown",
      "metadata": {},
      "source": [
        "\u4f60\u5199\u597d\u4e86\u4e00\u4e2a\u51fd\u6570\uff0c\u7136\u540e\u60f3\u4e3a\u8fd9\u4e2a\u51fd\u6570\u7684\u53c2\u6570\u589e\u52a0\u4e00\u4e9b\u989d\u5916\u7684\u4fe1\u606f\uff0c\u8fd9\u6837\u7684\u8bdd\u5176\u4ed6\u4f7f\u7528\u8005\u5c31\u80fd\u6e05\u695a\u7684\u77e5\u9053\u8fd9\u4e2a\u51fd\u6570\u5e94\u8be5\u600e\u4e48\u4f7f\u7528\u3002"
      ]
    },
    {
      "cell_type": "markdown",
      "metadata": {},
      "source": [
        "### \u89e3\u51b3\u65b9\u6848\n"
      ]
    },
    {
      "cell_type": "markdown",
      "metadata": {},
      "source": [
        "\u4f7f\u7528\u51fd\u6570\u53c2\u6570\u6ce8\u89e3\u662f\u4e00\u4e2a\u5f88\u597d\u7684\u529e\u6cd5\uff0c\u5b83\u80fd\u63d0\u793a\u7a0b\u5e8f\u5458\u5e94\u8be5\u600e\u6837\u6b63\u786e\u4f7f\u7528\u8fd9\u4e2a\u51fd\u6570\u3002\n\u4f8b\u5982\uff0c\u4e0b\u9762\u6709\u4e00\u4e2a\u88ab\u6ce8\u89e3\u4e86\u7684\u51fd\u6570\uff1a"
      ]
    },
    {
      "cell_type": "code",
      "execution_count": null,
      "metadata": {},
      "outputs": [],
      "source": [
        "d\ne\nf\n \na\nd\nd\n(\nx\n:\ni\nn\nt\n,\n \ny\n:\ni\nn\nt\n)\n \n-\n>\n \ni\nn\nt\n:\n\n\n \n \n \n \nr\ne\nt\nu\nr\nn\n \nx\n \n+\n \ny\n\n"
      ]
    },
    {
      "cell_type": "markdown",
      "metadata": {},
      "source": [
        "python\u89e3\u91ca\u5668\u4e0d\u4f1a\u5bf9\u8fd9\u4e9b\u6ce8\u89e3\u6dfb\u52a0\u4efb\u4f55\u7684\u8bed\u4e49\u3002\u5b83\u4eec\u4e0d\u4f1a\u88ab\u7c7b\u578b\u68c0\u67e5\uff0c\u8fd0\u884c\u65f6\u8ddf\u6ca1\u6709\u52a0\u6ce8\u89e3\u4e4b\u524d\u7684\u6548\u679c\u4e5f\u6ca1\u6709\u4efb\u4f55\u5dee\u8ddd\u3002\n\u7136\u800c\uff0c\u5bf9\u4e8e\u90a3\u4e9b\u9605\u8bfb\u6e90\u7801\u7684\u4eba\u6765\u8bb2\u5c31\u5f88\u6709\u5e2e\u52a9\u5566\u3002\u7b2c\u4e09\u65b9\u5de5\u5177\u548c\u6846\u67b6\u53ef\u80fd\u4f1a\u5bf9\u8fd9\u4e9b\u6ce8\u89e3\u6dfb\u52a0\u8bed\u4e49\u3002\u540c\u65f6\u5b83\u4eec\u4e5f\u4f1a\u51fa\u73b0\u5728\u6587\u6863\u4e2d\u3002"
      ]
    },
    {
      "cell_type": "code",
      "execution_count": null,
      "metadata": {},
      "outputs": [],
      "source": [
        "help(add)"
      ]
    },
    {
      "cell_type": "markdown",
      "metadata": {},
      "source": [
        "\u5c3d\u7ba1\u4f60\u53ef\u4ee5\u4f7f\u7528\u4efb\u610f\u7c7b\u578b\u7684\u5bf9\u8c61\u7ed9\u51fd\u6570\u6dfb\u52a0\u6ce8\u89e3(\u4f8b\u5982\u6570\u5b57\uff0c\u5b57\u7b26\u4e32\uff0c\u5bf9\u8c61\u5b9e\u4f8b\u7b49\u7b49)\uff0c\u4e0d\u8fc7\u901a\u5e38\u6765\u8bb2\u4f7f\u7528\u7c7b\u6216\u8005\u5b57\u7b26\u4e32\u4f1a\u6bd4\u8f83\u597d\u70b9\u3002"
      ]
    },
    {
      "cell_type": "markdown",
      "metadata": {},
      "source": [
        "### \u8ba8\u8bba\n"
      ]
    },
    {
      "cell_type": "markdown",
      "metadata": {},
      "source": [
        "\u51fd\u6570\u6ce8\u89e3\u53ea\u5b58\u50a8\u5728\u51fd\u6570\u7684 __annotations__ \u5c5e\u6027\u4e2d\u3002\u4f8b\u5982\uff1a"
      ]
    },
    {
      "cell_type": "code",
      "execution_count": null,
      "metadata": {},
      "outputs": [],
      "source": [
        "add.__annotations__"
      ]
    },
    {
      "cell_type": "markdown",
      "metadata": {},
      "source": [
        "\u5c3d\u7ba1\u6ce8\u89e3\u7684\u4f7f\u7528\u65b9\u6cd5\u53ef\u80fd\u6709\u5f88\u591a\u79cd\uff0c\u4f46\u662f\u5b83\u4eec\u7684\u4e3b\u8981\u7528\u9014\u8fd8\u662f\u6587\u6863\u3002\n\u56e0\u4e3apython\u5e76\u6ca1\u6709\u7c7b\u578b\u58f0\u660e\uff0c\u901a\u5e38\u6765\u8bb2\u4ec5\u4ec5\u901a\u8fc7\u9605\u8bfb\u6e90\u7801\u5f88\u96be\u77e5\u9053\u5e94\u8be5\u4f20\u9012\u4ec0\u4e48\u6837\u7684\u53c2\u6570\u7ed9\u8fd9\u4e2a\u51fd\u6570\u3002\n\u8fd9\u65f6\u5019\u4f7f\u7528\u6ce8\u89e3\u5c31\u80fd\u7ed9\u7a0b\u5e8f\u5458\u66f4\u591a\u7684\u63d0\u793a\uff0c\u8ba9\u4ed6\u4eec\u53ef\u4ee5\u6b63\u786e\u7684\u4f7f\u7528\u51fd\u6570\u3002"
      ]
    },
    {
      "cell_type": "markdown",
      "metadata": {},
      "source": [
        "\u53c2\u80039.20\u5c0f\u8282\u7684\u4e00\u4e2a\u66f4\u52a0\u9ad8\u7ea7\u7684\u4f8b\u5b50\uff0c\u6f14\u793a\u4e86\u5982\u4f55\u5229\u7528\u6ce8\u89e3\u6765\u5b9e\u73b0\u591a\u5206\u6d3e(\u6bd4\u5982\u91cd\u8f7d\u51fd\u6570)\u3002"
      ]
    },
    {
      "cell_type": "markdown",
      "metadata": {},
      "source": [
        "## 7.4 \u8fd4\u56de\u591a\u4e2a\u503c\u7684\u51fd\u6570\n"
      ]
    },
    {
      "cell_type": "markdown",
      "metadata": {},
      "source": [
        "### \u95ee\u9898\n"
      ]
    },
    {
      "cell_type": "markdown",
      "metadata": {},
      "source": [
        "\u4f60\u5e0c\u671b\u6784\u9020\u4e00\u4e2a\u53ef\u4ee5\u8fd4\u56de\u591a\u4e2a\u503c\u7684\u51fd\u6570"
      ]
    },
    {
      "cell_type": "markdown",
      "metadata": {},
      "source": [
        "### \u89e3\u51b3\u65b9\u6848\n"
      ]
    },
    {
      "cell_type": "markdown",
      "metadata": {},
      "source": [
        "\u4e3a\u4e86\u80fd\u8fd4\u56de\u591a\u4e2a\u503c\uff0c\u51fd\u6570\u76f4\u63a5return\u4e00\u4e2a\u5143\u7ec4\u5c31\u884c\u4e86\u3002\u4f8b\u5982\uff1a"
      ]
    },
    {
      "cell_type": "code",
      "execution_count": null,
      "metadata": {},
      "outputs": [],
      "source": [
        "def myfun():\nreturn 1, 2, 3\na, b, c = myfun()\na"
      ]
    },
    {
      "cell_type": "code",
      "execution_count": null,
      "metadata": {},
      "outputs": [],
      "source": [
        "b"
      ]
    },
    {
      "cell_type": "code",
      "execution_count": null,
      "metadata": {},
      "outputs": [],
      "source": [
        "c"
      ]
    },
    {
      "cell_type": "markdown",
      "metadata": {},
      "source": [
        "### \u8ba8\u8bba\n"
      ]
    },
    {
      "cell_type": "markdown",
      "metadata": {},
      "source": [
        "\u5c3d\u7ba1myfun()\u770b\u4e0a\u53bb\u8fd4\u56de\u4e86\u591a\u4e2a\u503c\uff0c\u5b9e\u9645\u4e0a\u662f\u5148\u521b\u5efa\u4e86\u4e00\u4e2a\u5143\u7ec4\u7136\u540e\u8fd4\u56de\u7684\u3002\n\u8fd9\u4e2a\u8bed\u6cd5\u770b\u4e0a\u53bb\u6bd4\u8f83\u5947\u602a\uff0c\u5b9e\u9645\u4e0a\u6211\u4eec\u4f7f\u7528\u7684\u662f\u9017\u53f7\u6765\u751f\u6210\u4e00\u4e2a\u5143\u7ec4\uff0c\u800c\u4e0d\u662f\u7528\u62ec\u53f7\u3002\u6bd4\u5982\u4e0b\u9762\u7684\uff1a"
      ]
    },
    {
      "cell_type": "code",
      "execution_count": null,
      "metadata": {},
      "outputs": [],
      "source": [
        "a = (1, 2) # With parentheses\na"
      ]
    },
    {
      "cell_type": "code",
      "execution_count": null,
      "metadata": {},
      "outputs": [],
      "source": [
        "b = 1, 2 # Without parentheses\nb"
      ]
    },
    {
      "cell_type": "markdown",
      "metadata": {},
      "source": [
        "\u5f53\u6211\u4eec\u8c03\u7528\u8fd4\u56de\u4e00\u4e2a\u5143\u7ec4\u7684\u51fd\u6570\u7684\u65f6\u5019 \uff0c\u901a\u5e38\u6211\u4eec\u4f1a\u5c06\u7ed3\u679c\u8d4b\u503c\u7ed9\u591a\u4e2a\u53d8\u91cf\uff0c\u5c31\u50cf\u4e0a\u9762\u7684\u90a3\u6837\u3002\n\u5176\u5b9e\u8fd9\u5c31\u662f1.1\u5c0f\u8282\u4e2d\u6211\u4eec\u6240\u8bf4\u7684\u5143\u7ec4\u89e3\u5305\u3002\u8fd4\u56de\u7ed3\u679c\u4e5f\u53ef\u4ee5\u8d4b\u503c\u7ed9\u5355\u4e2a\u53d8\u91cf\uff0c\n\u8fd9\u65f6\u5019\u8fd9\u4e2a\u53d8\u91cf\u503c\u5c31\u662f\u51fd\u6570\u8fd4\u56de\u7684\u90a3\u4e2a\u5143\u7ec4\u672c\u8eab\u4e86\uff1a"
      ]
    },
    {
      "cell_type": "code",
      "execution_count": null,
      "metadata": {},
      "outputs": [],
      "source": [
        "x = myfun()\nx"
      ]
    },
    {
      "cell_type": "markdown",
      "metadata": {},
      "source": [
        "## 7.5 \u5b9a\u4e49\u6709\u9ed8\u8ba4\u53c2\u6570\u7684\u51fd\u6570\n"
      ]
    },
    {
      "cell_type": "markdown",
      "metadata": {},
      "source": [
        "### \u95ee\u9898\n"
      ]
    },
    {
      "cell_type": "markdown",
      "metadata": {},
      "source": [
        "\u4f60\u60f3\u5b9a\u4e49\u4e00\u4e2a\u51fd\u6570\u6216\u8005\u65b9\u6cd5\uff0c\u5b83\u7684\u4e00\u4e2a\u6216\u591a\u4e2a\u53c2\u6570\u662f\u53ef\u9009\u7684\u5e76\u4e14\u6709\u4e00\u4e2a\u9ed8\u8ba4\u503c\u3002"
      ]
    },
    {
      "cell_type": "markdown",
      "metadata": {},
      "source": [
        "### \u89e3\u51b3\u65b9\u6848\n"
      ]
    },
    {
      "cell_type": "markdown",
      "metadata": {},
      "source": [
        "\u5b9a\u4e49\u4e00\u4e2a\u6709\u53ef\u9009\u53c2\u6570\u7684\u51fd\u6570\u662f\u975e\u5e38\u7b80\u5355\u7684\uff0c\u76f4\u63a5\u5728\u51fd\u6570\u5b9a\u4e49\u4e2d\u7ed9\u53c2\u6570\u6307\u5b9a\u4e00\u4e2a\u9ed8\u8ba4\u503c\uff0c\u5e76\u653e\u5230\u53c2\u6570\u5217\u8868\u6700\u540e\u5c31\u884c\u4e86\u3002\u4f8b\u5982\uff1a"
      ]
    },
    {
      "cell_type": "code",
      "execution_count": null,
      "metadata": {},
      "outputs": [],
      "source": [
        "d\ne\nf\n \ns\np\na\nm\n(\na\n,\n \nb\n=\n4\n2\n)\n:\n\n\n \n \n \n \np\nr\ni\nn\nt\n(\na\n,\n \nb\n)\n\n\n\n\ns\np\na\nm\n(\n1\n)\n \n#\n \nO\nk\n.\n \na\n=\n1\n,\n \nb\n=\n4\n2\n\n\ns\np\na\nm\n(\n1\n,\n \n2\n)\n \n#\n \nO\nk\n.\n \na\n=\n1\n,\n \nb\n=\n2\n\n"
      ]
    },
    {
      "cell_type": "markdown",
      "metadata": {},
      "source": [
        "\u5982\u679c\u9ed8\u8ba4\u53c2\u6570\u662f\u4e00\u4e2a\u53ef\u4fee\u6539\u7684\u5bb9\u5668\u6bd4\u5982\u4e00\u4e2a\u5217\u8868\u3001\u96c6\u5408\u6216\u8005\u5b57\u5178\uff0c\u53ef\u4ee5\u4f7f\u7528None\u4f5c\u4e3a\u9ed8\u8ba4\u503c\uff0c\u5c31\u50cf\u4e0b\u9762\u8fd9\u6837\uff1a"
      ]
    },
    {
      "cell_type": "code",
      "execution_count": null,
      "metadata": {},
      "outputs": [],
      "source": [
        "#\n \nU\ns\ni\nn\ng\n \na\n \nl\ni\ns\nt\n \na\ns\n \na\n \nd\ne\nf\na\nu\nl\nt\n \nv\na\nl\nu\ne\n\n\nd\ne\nf\n \ns\np\na\nm\n(\na\n,\n \nb\n=\nN\no\nn\ne\n)\n:\n\n\n \n \n \n \ni\nf\n \nb\n \ni\ns\n \nN\no\nn\ne\n:\n\n\n \n \n \n \n \n \n \n \nb\n \n=\n \n[\n]\n\n\n \n \n \n \n.\n.\n.\n\n"
      ]
    },
    {
      "cell_type": "markdown",
      "metadata": {},
      "source": [
        "\u5982\u679c\u4f60\u5e76\u4e0d\u60f3\u63d0\u4f9b\u4e00\u4e2a\u9ed8\u8ba4\u503c\uff0c\u800c\u662f\u60f3\u4ec5\u4ec5\u6d4b\u8bd5\u4e0b\u67d0\u4e2a\u9ed8\u8ba4\u53c2\u6570\u662f\u4e0d\u662f\u6709\u4f20\u9012\u8fdb\u6765\uff0c\u53ef\u4ee5\u50cf\u4e0b\u9762\u8fd9\u6837\u5199\uff1a"
      ]
    },
    {
      "cell_type": "code",
      "execution_count": null,
      "metadata": {},
      "outputs": [],
      "source": [
        "_\nn\no\n_\nv\na\nl\nu\ne\n \n=\n \no\nb\nj\ne\nc\nt\n(\n)\n\n\n\n\nd\ne\nf\n \ns\np\na\nm\n(\na\n,\n \nb\n=\n_\nn\no\n_\nv\na\nl\nu\ne\n)\n:\n\n\n \n \n \n \ni\nf\n \nb\n \ni\ns\n \n_\nn\no\n_\nv\na\nl\nu\ne\n:\n\n\n \n \n \n \n \n \n \n \np\nr\ni\nn\nt\n(\n'\nN\no\n \nb\n \nv\na\nl\nu\ne\n \ns\nu\np\np\nl\ni\ne\nd\n'\n)\n\n\n \n \n \n \n.\n.\n.\n\n"
      ]
    },
    {
      "cell_type": "markdown",
      "metadata": {},
      "source": [
        "\u6211\u4eec\u6d4b\u8bd5\u4e0b\u8fd9\u4e2a\u51fd\u6570\uff1a"
      ]
    },
    {
      "cell_type": "code",
      "execution_count": null,
      "metadata": {},
      "outputs": [],
      "source": [
        "spam(1)"
      ]
    },
    {
      "cell_type": "code",
      "execution_count": null,
      "metadata": {},
      "outputs": [],
      "source": [
        "spam(1, 2) # b = 2\nspam(1, None) # b = None"
      ]
    },
    {
      "cell_type": "markdown",
      "metadata": {},
      "source": [
        "\u4ed4\u7ec6\u89c2\u5bdf\u53ef\u4ee5\u53d1\u73b0\u5230\u4f20\u9012\u4e00\u4e2aNone\u503c\u548c\u4e0d\u4f20\u503c\u4e24\u79cd\u60c5\u51b5\u662f\u6709\u5dee\u522b\u7684\u3002"
      ]
    },
    {
      "cell_type": "markdown",
      "metadata": {},
      "source": [
        "### \u8ba8\u8bba\n"
      ]
    },
    {
      "cell_type": "markdown",
      "metadata": {},
      "source": [
        "\u5b9a\u4e49\u5e26\u9ed8\u8ba4\u503c\u53c2\u6570\u7684\u51fd\u6570\u662f\u5f88\u7b80\u5355\u7684\uff0c\u4f46\u7edd\u4e0d\u4ec5\u4ec5\u53ea\u662f\u8fd9\u4e2a\uff0c\u8fd8\u6709\u4e00\u4e9b\u4e1c\u897f\u5728\u8fd9\u91cc\u4e5f\u6df1\u5165\u8ba8\u8bba\u4e0b\u3002"
      ]
    },
    {
      "cell_type": "markdown",
      "metadata": {},
      "source": [
        "\u9996\u5148\uff0c\u9ed8\u8ba4\u53c2\u6570\u7684\u503c\u4ec5\u4ec5\u5728\u51fd\u6570\u5b9a\u4e49\u7684\u65f6\u5019\u8d4b\u503c\u4e00\u6b21\u3002\u8bd5\u7740\u8fd0\u884c\u4e0b\u9762\u8fd9\u4e2a\u4f8b\u5b50\uff1a"
      ]
    },
    {
      "cell_type": "code",
      "execution_count": null,
      "metadata": {},
      "outputs": [],
      "source": [
        "x = 42\ndef spam(a, b=x):\n    print(a, b)\nspam(1)"
      ]
    },
    {
      "cell_type": "code",
      "execution_count": null,
      "metadata": {},
      "outputs": [],
      "source": [
        "x = 23 # Has no effect\nspam(1)"
      ]
    },
    {
      "cell_type": "markdown",
      "metadata": {},
      "source": [
        "\u6ce8\u610f\u5230\u5f53\u6211\u4eec\u6539\u53d8x\u7684\u503c\u7684\u65f6\u5019\u5bf9\u9ed8\u8ba4\u53c2\u6570\u503c\u5e76\u6ca1\u6709\u5f71\u54cd\uff0c\u8fd9\u662f\u56e0\u4e3a\u5728\u51fd\u6570\u5b9a\u4e49\u7684\u65f6\u5019\u5c31\u5df2\u7ecf\u786e\u5b9a\u4e86\u5b83\u7684\u9ed8\u8ba4\u503c\u4e86\u3002"
      ]
    },
    {
      "cell_type": "markdown",
      "metadata": {},
      "source": [
        "\u5176\u6b21\uff0c\u9ed8\u8ba4\u53c2\u6570\u7684\u503c\u5e94\u8be5\u662f\u4e0d\u53ef\u53d8\u7684\u5bf9\u8c61\uff0c\u6bd4\u5982None\u3001True\u3001False\u3001\u6570\u5b57\u6216\u5b57\u7b26\u4e32\u3002\n\u7279\u522b\u7684\uff0c\u5343\u4e07\u4e0d\u8981\u50cf\u4e0b\u9762\u8fd9\u6837\u5199\u4ee3\u7801\uff1a"
      ]
    },
    {
      "cell_type": "code",
      "execution_count": null,
      "metadata": {},
      "outputs": [],
      "source": [
        "d\ne\nf\n \ns\np\na\nm\n(\na\n,\n \nb\n=\n[\n]\n)\n:\n \n#\n \nN\nO\n!\n\n\n \n \n \n \n.\n.\n.\n\n"
      ]
    },
    {
      "cell_type": "markdown",
      "metadata": {},
      "source": [
        "\u5982\u679c\u4f60\u8fd9\u4e48\u505a\u4e86\uff0c\u5f53\u9ed8\u8ba4\u503c\u5728\u5176\u4ed6\u5730\u65b9\u88ab\u4fee\u6539\u540e\u4f60\u5c06\u4f1a\u9047\u5230\u5404\u79cd\u9ebb\u70e6\u3002\u8fd9\u4e9b\u4fee\u6539\u4f1a\u5f71\u54cd\u5230\u4e0b\u6b21\u8c03\u7528\u8fd9\u4e2a\u51fd\u6570\u65f6\u7684\u9ed8\u8ba4\u503c\u3002\u6bd4\u5982\uff1a"
      ]
    },
    {
      "cell_type": "code",
      "execution_count": null,
      "metadata": {},
      "outputs": [],
      "source": [
        "def spam(a, b=[]):\n    print(b)\n    return b\nx = spam(1)\nx"
      ]
    },
    {
      "cell_type": "code",
      "execution_count": null,
      "metadata": {},
      "outputs": [],
      "source": [
        "x.append(99)\nx.append('Yow!')\nx"
      ]
    },
    {
      "cell_type": "code",
      "execution_count": null,
      "metadata": {},
      "outputs": [],
      "source": [
        "spam(1) # Modified list gets returned!"
      ]
    },
    {
      "cell_type": "markdown",
      "metadata": {},
      "source": [
        "\u8fd9\u79cd\u7ed3\u679c\u5e94\u8be5\u4e0d\u662f\u4f60\u60f3\u8981\u7684\u3002\u4e3a\u4e86\u907f\u514d\u8fd9\u79cd\u60c5\u51b5\u7684\u53d1\u751f\uff0c\u6700\u597d\u662f\u5c06\u9ed8\u8ba4\u503c\u8bbe\u4e3aNone\uff0c\n\u7136\u540e\u5728\u51fd\u6570\u91cc\u9762\u68c0\u67e5\u5b83\uff0c\u524d\u9762\u7684\u4f8b\u5b50\u5c31\u662f\u8fd9\u6837\u505a\u7684\u3002"
      ]
    },
    {
      "cell_type": "markdown",
      "metadata": {},
      "source": [
        "\u5728\u6d4b\u8bd5None\u503c\u65f6\u4f7f\u7528 is \u64cd\u4f5c\u7b26\u662f\u5f88\u91cd\u8981\u7684\uff0c\u4e5f\u662f\u8fd9\u79cd\u65b9\u6848\u7684\u5173\u952e\u70b9\u3002\n\u6709\u65f6\u5019\u5927\u5bb6\u4f1a\u72af\u4e0b\u4e0b\u9762\u8fd9\u6837\u7684\u9519\u8bef\uff1a"
      ]
    },
    {
      "cell_type": "code",
      "execution_count": null,
      "metadata": {},
      "outputs": [],
      "source": [
        "d\ne\nf\n \ns\np\na\nm\n(\na\n,\n \nb\n=\nN\no\nn\ne\n)\n:\n\n\n \n \n \n \ni\nf\n \nn\no\nt\n \nb\n:\n \n#\n \nN\nO\n!\n \nU\ns\ne\n \n'\nb\n \ni\ns\n \nN\no\nn\ne\n'\n \ni\nn\ns\nt\ne\na\nd\n\n\n \n \n \n \n \n \n \n \nb\n \n=\n \n[\n]\n\n\n \n \n \n \n.\n.\n.\n\n"
      ]
    },
    {
      "cell_type": "markdown",
      "metadata": {},
      "source": [
        "\u8fd9\u4e48\u5199\u7684\u95ee\u9898\u5728\u4e8e\u5c3d\u7ba1None\u503c\u786e\u5b9e\u662f\u88ab\u5f53\u6210False\uff0c\n\u4f46\u662f\u8fd8\u6709\u5176\u4ed6\u7684\u5bf9\u8c61(\u6bd4\u5982\u957f\u5ea6\u4e3a0\u7684\u5b57\u7b26\u4e32\u3001\u5217\u8868\u3001\u5143\u7ec4\u3001\u5b57\u5178\u7b49)\u90fd\u4f1a\u88ab\u5f53\u505aFalse\u3002\n\u56e0\u6b64\uff0c\u4e0a\u9762\u7684\u4ee3\u7801\u4f1a\u8bef\u5c06\u4e00\u4e9b\u5176\u4ed6\u8f93\u5165\u4e5f\u5f53\u6210\u662f\u6ca1\u6709\u8f93\u5165\u3002\u6bd4\u5982\uff1a"
      ]
    },
    {
      "cell_type": "code",
      "execution_count": null,
      "metadata": {},
      "outputs": [],
      "source": [
        "spam(1) # OK\nx = []\nspam(1, x) # Silent error. x value overwritten by default\nspam(1, 0) # Silent error. 0 ignored\nspam(1, '') # Silent error. '' ignored"
      ]
    },
    {
      "cell_type": "markdown",
      "metadata": {},
      "source": [
        "\u6700\u540e\u4e00\u4e2a\u95ee\u9898\u6bd4\u8f83\u5fae\u5999\uff0c\u90a3\u5c31\u662f\u4e00\u4e2a\u51fd\u6570\u9700\u8981\u6d4b\u8bd5\u67d0\u4e2a\u53ef\u9009\u53c2\u6570\u662f\u5426\u88ab\u4f7f\u7528\u8005\u4f20\u9012\u8fdb\u6765\u3002\n\u8fd9\u65f6\u5019\u9700\u8981\u5c0f\u5fc3\u7684\u662f\u4f60\u4e0d\u80fd\u7528\u67d0\u4e2a\u9ed8\u8ba4\u503c\u6bd4\u5982None\u3001\n0\u6216\u8005False\u503c\u6765\u6d4b\u8bd5\u7528\u6237\u63d0\u4f9b\u7684\u503c(\u56e0\u4e3a\u8fd9\u4e9b\u503c\u90fd\u662f\u5408\u6cd5\u7684\u503c\uff0c\u662f\u53ef\u80fd\u88ab\u7528\u6237\u4f20\u9012\u8fdb\u6765\u7684)\u3002\n\u56e0\u6b64\uff0c\u4f60\u9700\u8981\u5176\u4ed6\u7684\u89e3\u51b3\u65b9\u6848\u4e86\u3002"
      ]
    },
    {
      "cell_type": "markdown",
      "metadata": {},
      "source": [
        "\u4e3a\u4e86\u89e3\u51b3\u8fd9\u4e2a\u95ee\u9898\uff0c\u4f60\u53ef\u4ee5\u521b\u5efa\u4e00\u4e2a\u72ec\u4e00\u65e0\u4e8c\u7684\u79c1\u6709\u5bf9\u8c61\u5b9e\u4f8b\uff0c\u5c31\u50cf\u4e0a\u9762\u7684_no_value\u53d8\u91cf\u90a3\u6837\u3002\n\u5728\u51fd\u6570\u91cc\u9762\uff0c\u4f60\u53ef\u4ee5\u901a\u8fc7\u68c0\u67e5\u88ab\u4f20\u9012\u53c2\u6570\u503c\u8ddf\u8fd9\u4e2a\u5b9e\u4f8b\u662f\u5426\u4e00\u6837\u6765\u5224\u65ad\u3002\n\u8fd9\u91cc\u7684\u601d\u8def\u662f\u7528\u6237\u4e0d\u53ef\u80fd\u53bb\u4f20\u9012\u8fd9\u4e2a_no_value\u5b9e\u4f8b\u4f5c\u4e3a\u8f93\u5165\u3002\n\u56e0\u6b64\uff0c\u8fd9\u91cc\u901a\u8fc7\u68c0\u67e5\u8fd9\u4e2a\u503c\u5c31\u80fd\u786e\u5b9a\u67d0\u4e2a\u53c2\u6570\u662f\u5426\u88ab\u4f20\u9012\u8fdb\u6765\u4e86\u3002"
      ]
    },
    {
      "cell_type": "markdown",
      "metadata": {},
      "source": [
        "\u8fd9\u91cc\u5bf9 object() \u7684\u4f7f\u7528\u770b\u4e0a\u53bb\u6709\u70b9\u4e0d\u592a\u5e38\u89c1\u3002object \u662fpython\u4e2d\u6240\u6709\u7c7b\u7684\u57fa\u7c7b\u3002\n\u4f60\u53ef\u4ee5\u521b\u5efa object \u7c7b\u7684\u5b9e\u4f8b\uff0c\u4f46\u662f\u8fd9\u4e9b\u5b9e\u4f8b\u6ca1\u4ec0\u4e48\u5b9e\u9645\u7528\u5904\uff0c\u56e0\u4e3a\u5b83\u5e76\u6ca1\u6709\u4efb\u4f55\u6709\u7528\u7684\u65b9\u6cd5\uff0c\n\u4e5f\u6ca1\u6709\u4efb\u4f55\u5b9e\u4f8b\u6570\u636e(\u56e0\u4e3a\u5b83\u6ca1\u6709\u4efb\u4f55\u7684\u5b9e\u4f8b\u5b57\u5178\uff0c\u4f60\u751a\u81f3\u90fd\u4e0d\u80fd\u8bbe\u7f6e\u4efb\u4f55\u5c5e\u6027\u503c)\u3002\n\u4f60\u552f\u4e00\u80fd\u505a\u7684\u5c31\u662f\u6d4b\u8bd5\u540c\u4e00\u6027\u3002\u8fd9\u4e2a\u521a\u597d\u7b26\u5408\u6211\u7684\u8981\u6c42\uff0c\u56e0\u4e3a\u6211\u5728\u51fd\u6570\u4e2d\u5c31\u53ea\u662f\u9700\u8981\u4e00\u4e2a\u540c\u4e00\u6027\u7684\u6d4b\u8bd5\u800c\u5df2\u3002"
      ]
    },
    {
      "cell_type": "markdown",
      "metadata": {},
      "source": [
        "## 7.6 \u5b9a\u4e49\u533f\u540d\u6216\u5185\u8054\u51fd\u6570\n"
      ]
    },
    {
      "cell_type": "markdown",
      "metadata": {},
      "source": [
        "### \u95ee\u9898\n"
      ]
    },
    {
      "cell_type": "markdown",
      "metadata": {},
      "source": [
        "\u4f60\u60f3\u4e3a sort() \u64cd\u4f5c\u521b\u5efa\u4e00\u4e2a\u5f88\u77ed\u7684\u56de\u8c03\u51fd\u6570\uff0c\u4f46\u53c8\u4e0d\u60f3\u7528 def \u53bb\u5199\u4e00\u4e2a\u5355\u884c\u51fd\u6570\uff0c\n\u800c\u662f\u5e0c\u671b\u901a\u8fc7\u67d0\u4e2a\u5feb\u6377\u65b9\u5f0f\u4ee5\u5185\u8054\u65b9\u5f0f\u6765\u521b\u5efa\u8fd9\u4e2a\u51fd\u6570\u3002"
      ]
    },
    {
      "cell_type": "markdown",
      "metadata": {},
      "source": [
        "### \u89e3\u51b3\u65b9\u6848\n"
      ]
    },
    {
      "cell_type": "markdown",
      "metadata": {},
      "source": [
        "\u5f53\u4e00\u4e9b\u51fd\u6570\u5f88\u7b80\u5355\uff0c\u4ec5\u4ec5\u53ea\u662f\u8ba1\u7b97\u4e00\u4e2a\u8868\u8fbe\u5f0f\u7684\u503c\u7684\u65f6\u5019\uff0c\u5c31\u53ef\u4ee5\u4f7f\u7528lambda\u8868\u8fbe\u5f0f\u6765\u4ee3\u66ff\u4e86\u3002\u6bd4\u5982\uff1a"
      ]
    },
    {
      "cell_type": "code",
      "execution_count": null,
      "metadata": {},
      "outputs": [],
      "source": [
        "add = lambda x, y: x + y\nadd(2,3)"
      ]
    },
    {
      "cell_type": "code",
      "execution_count": null,
      "metadata": {},
      "outputs": [],
      "source": [
        "add('hello', 'world')"
      ]
    },
    {
      "cell_type": "markdown",
      "metadata": {},
      "source": [
        "\u8fd9\u91cc\u4f7f\u7528\u7684lambda\u8868\u8fbe\u5f0f\u8ddf\u4e0b\u9762\u7684\u6548\u679c\u662f\u4e00\u6837\u7684\uff1a"
      ]
    },
    {
      "cell_type": "code",
      "execution_count": null,
      "metadata": {},
      "outputs": [],
      "source": [
        "def add(x, y):\n    return x + y\nadd(2,3)"
      ]
    },
    {
      "cell_type": "markdown",
      "metadata": {},
      "source": [
        "lambda\u8868\u8fbe\u5f0f\u5178\u578b\u7684\u4f7f\u7528\u573a\u666f\u662f\u6392\u5e8f\u6216\u6570\u636ereduce\u7b49\uff1a"
      ]
    },
    {
      "cell_type": "code",
      "execution_count": null,
      "metadata": {},
      "outputs": [],
      "source": [
        "names = ['David Beazley', 'Brian Jones',\n        'Raymond Hettinger', 'Ned Batchelder']\nsorted(names, key=lambda name: name.split()[-1].lower())"
      ]
    },
    {
      "cell_type": "markdown",
      "metadata": {},
      "source": [
        "### \u8ba8\u8bba\n"
      ]
    },
    {
      "cell_type": "markdown",
      "metadata": {},
      "source": [
        "\u5c3d\u7ba1lambda\u8868\u8fbe\u5f0f\u5141\u8bb8\u4f60\u5b9a\u4e49\u7b80\u5355\u51fd\u6570\uff0c\u4f46\u662f\u5b83\u7684\u4f7f\u7528\u662f\u6709\u9650\u5236\u7684\u3002\n\u4f60\u53ea\u80fd\u6307\u5b9a\u5355\u4e2a\u8868\u8fbe\u5f0f\uff0c\u5b83\u7684\u503c\u5c31\u662f\u6700\u540e\u7684\u8fd4\u56de\u503c\u3002\u4e5f\u5c31\u662f\u8bf4\u4e0d\u80fd\u5305\u542b\u5176\u4ed6\u7684\u8bed\u8a00\u7279\u6027\u4e86\uff0c\n\u5305\u62ec\u591a\u4e2a\u8bed\u53e5\u3001\u6761\u4ef6\u8868\u8fbe\u5f0f\u3001\u8fed\u4ee3\u4ee5\u53ca\u5f02\u5e38\u5904\u7406\u7b49\u7b49\u3002"
      ]
    },
    {
      "cell_type": "markdown",
      "metadata": {},
      "source": [
        "\u4f60\u53ef\u4ee5\u4e0d\u4f7f\u7528lambda\u8868\u8fbe\u5f0f\u5c31\u80fd\u7f16\u5199\u5927\u90e8\u5206python\u4ee3\u7801\u3002\n\u4f46\u662f\uff0c\u5f53\u6709\u4eba\u7f16\u5199\u5927\u91cf\u8ba1\u7b97\u8868\u8fbe\u5f0f\u503c\u7684\u77ed\u5c0f\u51fd\u6570\u6216\u8005\u9700\u8981\u7528\u6237\u63d0\u4f9b\u56de\u8c03\u51fd\u6570\u7684\u7a0b\u5e8f\u7684\u65f6\u5019\uff0c\n\u4f60\u5c31\u4f1a\u770b\u5230lambda\u8868\u8fbe\u5f0f\u7684\u8eab\u5f71\u4e86\u3002"
      ]
    },
    {
      "cell_type": "markdown",
      "metadata": {},
      "source": [
        "## 7.7 \u533f\u540d\u51fd\u6570\u6355\u83b7\u53d8\u91cf\u503c\n"
      ]
    },
    {
      "cell_type": "markdown",
      "metadata": {},
      "source": [
        "### \u95ee\u9898\n"
      ]
    },
    {
      "cell_type": "markdown",
      "metadata": {},
      "source": [
        "\u4f60\u7528lambda\u5b9a\u4e49\u4e86\u4e00\u4e2a\u533f\u540d\u51fd\u6570\uff0c\u5e76\u60f3\u5728\u5b9a\u4e49\u65f6\u6355\u83b7\u5230\u67d0\u4e9b\u53d8\u91cf\u7684\u503c\u3002"
      ]
    },
    {
      "cell_type": "markdown",
      "metadata": {},
      "source": [
        "### \u89e3\u51b3\u65b9\u6848\n"
      ]
    },
    {
      "cell_type": "markdown",
      "metadata": {},
      "source": [
        "\u5148\u770b\u4e0b\u4e0b\u9762\u4ee3\u7801\u7684\u6548\u679c\uff1a"
      ]
    },
    {
      "cell_type": "code",
      "execution_count": null,
      "metadata": {},
      "outputs": [],
      "source": [
        "x = 10\na = lambda y: x + y\nx = 20\nb = lambda y: x + y"
      ]
    },
    {
      "cell_type": "markdown",
      "metadata": {},
      "source": [
        "\u73b0\u5728\u6211\u95ee\u4f60\uff0ca(10)\u548cb(10)\u8fd4\u56de\u7684\u7ed3\u679c\u662f\u4ec0\u4e48\uff1f\u5982\u679c\u4f60\u8ba4\u4e3a\u7ed3\u679c\u662f20\u548c30\uff0c\u90a3\u4e48\u4f60\u5c31\u9519\u4e86\uff1a"
      ]
    },
    {
      "cell_type": "code",
      "execution_count": null,
      "metadata": {},
      "outputs": [],
      "source": [
        "a(10)"
      ]
    },
    {
      "cell_type": "code",
      "execution_count": null,
      "metadata": {},
      "outputs": [],
      "source": [
        "b(10)"
      ]
    },
    {
      "cell_type": "markdown",
      "metadata": {},
      "source": [
        "\u8fd9\u5176\u4e2d\u7684\u5965\u5999\u5728\u4e8elambda\u8868\u8fbe\u5f0f\u4e2d\u7684x\u662f\u4e00\u4e2a\u81ea\u7531\u53d8\u91cf\uff0c\n\u5728\u8fd0\u884c\u65f6\u7ed1\u5b9a\u503c\uff0c\u800c\u4e0d\u662f\u5b9a\u4e49\u65f6\u5c31\u7ed1\u5b9a\uff0c\u8fd9\u8ddf\u51fd\u6570\u7684\u9ed8\u8ba4\u503c\u53c2\u6570\u5b9a\u4e49\u662f\u4e0d\u540c\u7684\u3002\n\u56e0\u6b64\uff0c\u5728\u8c03\u7528\u8fd9\u4e2alambda\u8868\u8fbe\u5f0f\u7684\u65f6\u5019\uff0cx\u7684\u503c\u662f\u6267\u884c\u65f6\u7684\u503c\u3002\u4f8b\u5982\uff1a"
      ]
    },
    {
      "cell_type": "code",
      "execution_count": null,
      "metadata": {},
      "outputs": [],
      "source": [
        "x = 15\na(10)"
      ]
    },
    {
      "cell_type": "code",
      "execution_count": null,
      "metadata": {},
      "outputs": [],
      "source": [
        "x = 3\na(10)"
      ]
    },
    {
      "cell_type": "markdown",
      "metadata": {},
      "source": [
        "\u5982\u679c\u4f60\u60f3\u8ba9\u67d0\u4e2a\u533f\u540d\u51fd\u6570\u5728\u5b9a\u4e49\u65f6\u5c31\u6355\u83b7\u5230\u503c\uff0c\u53ef\u4ee5\u5c06\u90a3\u4e2a\u53c2\u6570\u503c\u5b9a\u4e49\u6210\u9ed8\u8ba4\u53c2\u6570\u5373\u53ef\uff0c\u5c31\u50cf\u4e0b\u9762\u8fd9\u6837\uff1a"
      ]
    },
    {
      "cell_type": "code",
      "execution_count": null,
      "metadata": {},
      "outputs": [],
      "source": [
        "x = 10\na = lambda y, x=x: x + y\nx = 20\nb = lambda y, x=x: x + y\na(10)"
      ]
    },
    {
      "cell_type": "code",
      "execution_count": null,
      "metadata": {},
      "outputs": [],
      "source": [
        "b(10)"
      ]
    },
    {
      "cell_type": "markdown",
      "metadata": {},
      "source": [
        "### \u8ba8\u8bba\n"
      ]
    },
    {
      "cell_type": "markdown",
      "metadata": {},
      "source": [
        "\u5728\u8fd9\u91cc\u5217\u51fa\u6765\u7684\u95ee\u9898\u662f\u65b0\u624b\u5f88\u5bb9\u6613\u72af\u7684\u9519\u8bef\uff0c\u6709\u4e9b\u65b0\u624b\u53ef\u80fd\u4f1a\u4e0d\u6070\u5f53\u7684\u4f7f\u7528lambda\u8868\u8fbe\u5f0f\u3002\n\u6bd4\u5982\uff0c\u901a\u8fc7\u5728\u4e00\u4e2a\u5faa\u73af\u6216\u5217\u8868\u63a8\u5bfc\u4e2d\u521b\u5efa\u4e00\u4e2alambda\u8868\u8fbe\u5f0f\u5217\u8868\uff0c\u5e76\u671f\u671b\u51fd\u6570\u80fd\u5728\u5b9a\u4e49\u65f6\u5c31\u8bb0\u4f4f\u6bcf\u6b21\u7684\u8fed\u4ee3\u503c\u3002\u4f8b\u5982\uff1a"
      ]
    },
    {
      "cell_type": "code",
      "execution_count": null,
      "metadata": {},
      "outputs": [],
      "source": [
        "funcs = [lambda x: x+n for n in range(5)]\nfor f in funcs:\nprint(f(0))"
      ]
    },
    {
      "cell_type": "markdown",
      "metadata": {},
      "source": [
        "\u4f46\u662f\u5b9e\u9645\u6548\u679c\u662f\u8fd0\u884c\u662fn\u7684\u503c\u4e3a\u8fed\u4ee3\u7684\u6700\u540e\u4e00\u4e2a\u503c\u3002\u73b0\u5728\u6211\u4eec\u7528\u53e6\u4e00\u79cd\u65b9\u5f0f\u4fee\u6539\u4e00\u4e0b\uff1a"
      ]
    },
    {
      "cell_type": "code",
      "execution_count": null,
      "metadata": {},
      "outputs": [],
      "source": [
        "funcs = [lambda x, n=n: x+n for n in range(5)]\nfor f in funcs:\nprint(f(0))"
      ]
    },
    {
      "cell_type": "markdown",
      "metadata": {},
      "source": [
        "\u901a\u8fc7\u4f7f\u7528\u51fd\u6570\u9ed8\u8ba4\u503c\u53c2\u6570\u5f62\u5f0f\uff0clambda\u51fd\u6570\u5728\u5b9a\u4e49\u65f6\u5c31\u80fd\u7ed1\u5b9a\u5230\u503c\u3002"
      ]
    },
    {
      "cell_type": "markdown",
      "metadata": {},
      "source": [
        "## 7.8 \u51cf\u5c11\u53ef\u8c03\u7528\u5bf9\u8c61\u7684\u53c2\u6570\u4e2a\u6570\n"
      ]
    },
    {
      "cell_type": "markdown",
      "metadata": {},
      "source": [
        "### \u95ee\u9898\n"
      ]
    },
    {
      "cell_type": "markdown",
      "metadata": {},
      "source": [
        "\u4f60\u6709\u4e00\u4e2a\u88ab\u5176\u4ed6python\u4ee3\u7801\u4f7f\u7528\u7684callable\u5bf9\u8c61\uff0c\u53ef\u80fd\u662f\u4e00\u4e2a\u56de\u8c03\u51fd\u6570\u6216\u8005\u662f\u4e00\u4e2a\u5904\u7406\u5668\uff0c\n\u4f46\u662f\u5b83\u7684\u53c2\u6570\u592a\u591a\u4e86\uff0c\u5bfc\u81f4\u8c03\u7528\u65f6\u51fa\u9519\u3002"
      ]
    },
    {
      "cell_type": "markdown",
      "metadata": {},
      "source": [
        "### \u89e3\u51b3\u65b9\u6848\n"
      ]
    },
    {
      "cell_type": "markdown",
      "metadata": {},
      "source": [
        "\u5982\u679c\u9700\u8981\u51cf\u5c11\u67d0\u4e2a\u51fd\u6570\u7684\u53c2\u6570\u4e2a\u6570\uff0c\u4f60\u53ef\u4ee5\u4f7f\u7528 functools.partial() \u3002\npartial() \u51fd\u6570\u5141\u8bb8\u4f60\u7ed9\u4e00\u4e2a\u6216\u591a\u4e2a\u53c2\u6570\u8bbe\u7f6e\u56fa\u5b9a\u7684\u503c\uff0c\u51cf\u5c11\u63a5\u4e0b\u6765\u88ab\u8c03\u7528\u65f6\u7684\u53c2\u6570\u4e2a\u6570\u3002\n\u4e3a\u4e86\u6f14\u793a\u6e05\u695a\uff0c\u5047\u8bbe\u4f60\u6709\u4e0b\u9762\u8fd9\u6837\u7684\u51fd\u6570\uff1a"
      ]
    },
    {
      "cell_type": "code",
      "execution_count": null,
      "metadata": {},
      "outputs": [],
      "source": [
        "d\ne\nf\n \ns\np\na\nm\n(\na\n,\n \nb\n,\n \nc\n,\n \nd\n)\n:\n\n\n \n \n \n \np\nr\ni\nn\nt\n(\na\n,\n \nb\n,\n \nc\n,\n \nd\n)\n\n"
      ]
    },
    {
      "cell_type": "markdown",
      "metadata": {},
      "source": [
        "\u73b0\u5728\u6211\u4eec\u4f7f\u7528 partial() \u51fd\u6570\u6765\u56fa\u5b9a\u67d0\u4e9b\u53c2\u6570\u503c\uff1a"
      ]
    },
    {
      "cell_type": "code",
      "execution_count": null,
      "metadata": {},
      "outputs": [],
      "source": [
        "from functools import partial\ns1 = partial(spam, 1) # a = 1\ns1(2, 3, 4)"
      ]
    },
    {
      "cell_type": "code",
      "execution_count": null,
      "metadata": {},
      "outputs": [],
      "source": [
        "s1(4, 5, 6)"
      ]
    },
    {
      "cell_type": "code",
      "execution_count": null,
      "metadata": {},
      "outputs": [],
      "source": [
        "s2 = partial(spam, d=42) # d = 42\ns2(1, 2, 3)"
      ]
    },
    {
      "cell_type": "code",
      "execution_count": null,
      "metadata": {},
      "outputs": [],
      "source": [
        "s2(4, 5, 5)"
      ]
    },
    {
      "cell_type": "code",
      "execution_count": null,
      "metadata": {},
      "outputs": [],
      "source": [
        "s3 = partial(spam, 1, 2, d=42) # a = 1, b = 2, d = 42\ns3(3)"
      ]
    },
    {
      "cell_type": "code",
      "execution_count": null,
      "metadata": {},
      "outputs": [],
      "source": [
        "s3(4)"
      ]
    },
    {
      "cell_type": "code",
      "execution_count": null,
      "metadata": {},
      "outputs": [],
      "source": [
        "s3(5)"
      ]
    },
    {
      "cell_type": "markdown",
      "metadata": {},
      "source": [
        "\u53ef\u4ee5\u770b\u51fa partial() \u56fa\u5b9a\u67d0\u4e9b\u53c2\u6570\u5e76\u8fd4\u56de\u4e00\u4e2a\u65b0\u7684callable\u5bf9\u8c61\u3002\u8fd9\u4e2a\u65b0\u7684callable\u63a5\u53d7\u672a\u8d4b\u503c\u7684\u53c2\u6570\uff0c\n\u7136\u540e\u8ddf\u4e4b\u524d\u5df2\u7ecf\u8d4b\u503c\u8fc7\u7684\u53c2\u6570\u5408\u5e76\u8d77\u6765\uff0c\u6700\u540e\u5c06\u6240\u6709\u53c2\u6570\u4f20\u9012\u7ed9\u539f\u59cb\u51fd\u6570\u3002"
      ]
    },
    {
      "cell_type": "markdown",
      "metadata": {},
      "source": [
        "### \u8ba8\u8bba\n"
      ]
    },
    {
      "cell_type": "markdown",
      "metadata": {},
      "source": [
        "\u672c\u8282\u8981\u89e3\u51b3\u7684\u95ee\u9898\u662f\u8ba9\u539f\u672c\u4e0d\u517c\u5bb9\u7684\u4ee3\u7801\u53ef\u4ee5\u4e00\u8d77\u5de5\u4f5c\u3002\u4e0b\u9762\u6211\u4f1a\u5217\u4e3e\u4e00\u7cfb\u5217\u7684\u4f8b\u5b50\u3002"
      ]
    },
    {
      "cell_type": "markdown",
      "metadata": {},
      "source": [
        "\u7b2c\u4e00\u4e2a\u4f8b\u5b50\u662f\uff0c\u5047\u8bbe\u4f60\u6709\u4e00\u4e2a\u70b9\u7684\u5217\u8868\u6765\u8868\u793a(x,y)\u5750\u6807\u5143\u7ec4\u3002\n\u4f60\u53ef\u4ee5\u4f7f\u7528\u4e0b\u9762\u7684\u51fd\u6570\u6765\u8ba1\u7b97\u4e24\u70b9\u4e4b\u95f4\u7684\u8ddd\u79bb\uff1a"
      ]
    },
    {
      "cell_type": "code",
      "execution_count": null,
      "metadata": {},
      "outputs": [],
      "source": [
        "p\no\ni\nn\nt\ns\n \n=\n \n[\n \n(\n1\n,\n \n2\n)\n,\n \n(\n3\n,\n \n4\n)\n,\n \n(\n5\n,\n \n6\n)\n,\n \n(\n7\n,\n \n8\n)\n \n]\n\n\n\n\ni\nm\np\no\nr\nt\n \nm\na\nt\nh\n\n\nd\ne\nf\n \nd\ni\ns\nt\na\nn\nc\ne\n(\np\n1\n,\n \np\n2\n)\n:\n\n\n \n \n \n \nx\n1\n,\n \ny\n1\n \n=\n \np\n1\n\n\n \n \n \n \nx\n2\n,\n \ny\n2\n \n=\n \np\n2\n\n\n \n \n \n \nr\ne\nt\nu\nr\nn\n \nm\na\nt\nh\n.\nh\ny\np\no\nt\n(\nx\n2\n \n-\n \nx\n1\n,\n \ny\n2\n \n-\n \ny\n1\n)\n\n"
      ]
    },
    {
      "cell_type": "markdown",
      "metadata": {},
      "source": [
        "\u73b0\u5728\u5047\u8bbe\u4f60\u60f3\u4ee5\u67d0\u4e2a\u70b9\u4e3a\u57fa\u70b9\uff0c\u6839\u636e\u70b9\u548c\u57fa\u70b9\u4e4b\u95f4\u7684\u8ddd\u79bb\u6765\u6392\u5e8f\u6240\u6709\u7684\u8fd9\u4e9b\u70b9\u3002\n\u5217\u8868\u7684 sort() \u65b9\u6cd5\u63a5\u53d7\u4e00\u4e2a\u5173\u952e\u5b57\u53c2\u6570\u6765\u81ea\u5b9a\u4e49\u6392\u5e8f\u903b\u8f91\uff0c\n\u4f46\u662f\u5b83\u53ea\u80fd\u63a5\u53d7\u4e00\u4e2a\u5355\u4e2a\u53c2\u6570\u7684\u51fd\u6570(distance()\u5f88\u660e\u663e\u662f\u4e0d\u7b26\u5408\u6761\u4ef6\u7684)\u3002\n\u73b0\u5728\u6211\u4eec\u53ef\u4ee5\u901a\u8fc7\u4f7f\u7528 partial() \u6765\u89e3\u51b3\u8fd9\u4e2a\u95ee\u9898\uff1a"
      ]
    },
    {
      "cell_type": "code",
      "execution_count": null,
      "metadata": {},
      "outputs": [],
      "source": [
        "pt = (4, 3)\npoints.sort(key=partial(distance,pt))\npoints"
      ]
    },
    {
      "cell_type": "markdown",
      "metadata": {},
      "source": [
        "\u66f4\u8fdb\u4e00\u6b65\uff0cpartial() \u901a\u5e38\u88ab\u7528\u6765\u5fae\u8c03\u5176\u4ed6\u5e93\u51fd\u6570\u6240\u4f7f\u7528\u7684\u56de\u8c03\u51fd\u6570\u7684\u53c2\u6570\u3002\n\u4f8b\u5982\uff0c\u4e0b\u9762\u662f\u4e00\u6bb5\u4ee3\u7801\uff0c\u4f7f\u7528 multiprocessing \u6765\u5f02\u6b65\u8ba1\u7b97\u4e00\u4e2a\u7ed3\u679c\u503c\uff0c\n\u7136\u540e\u8fd9\u4e2a\u503c\u88ab\u4f20\u9012\u7ed9\u4e00\u4e2a\u63a5\u53d7\u4e00\u4e2aresult\u503c\u548c\u4e00\u4e2a\u53ef\u9009logging\u53c2\u6570\u7684\u56de\u8c03\u51fd\u6570\uff1a"
      ]
    },
    {
      "cell_type": "code",
      "execution_count": null,
      "metadata": {},
      "outputs": [],
      "source": [
        "d\ne\nf\n \no\nu\nt\np\nu\nt\n_\nr\ne\ns\nu\nl\nt\n(\nr\ne\ns\nu\nl\nt\n,\n \nl\no\ng\n=\nN\no\nn\ne\n)\n:\n\n\n \n \n \n \ni\nf\n \nl\no\ng\n \ni\ns\n \nn\no\nt\n \nN\no\nn\ne\n:\n\n\n \n \n \n \n \n \n \n \nl\no\ng\n.\nd\ne\nb\nu\ng\n(\n'\nG\no\nt\n:\n \n%\nr\n'\n,\n \nr\ne\ns\nu\nl\nt\n)\n\n\n\n\n#\n \nA\n \ns\na\nm\np\nl\ne\n \nf\nu\nn\nc\nt\ni\no\nn\n\n\nd\ne\nf\n \na\nd\nd\n(\nx\n,\n \ny\n)\n:\n\n\n \n \n \n \nr\ne\nt\nu\nr\nn\n \nx\n \n+\n \ny\n\n\n\n\ni\nf\n \n_\n_\nn\na\nm\ne\n_\n_\n \n=\n=\n \n'\n_\n_\nm\na\ni\nn\n_\n_\n'\n:\n\n\n \n \n \n \ni\nm\np\no\nr\nt\n \nl\no\ng\ng\ni\nn\ng\n\n\n \n \n \n \nf\nr\no\nm\n \nm\nu\nl\nt\ni\np\nr\no\nc\ne\ns\ns\ni\nn\ng\n \ni\nm\np\no\nr\nt\n \nP\no\no\nl\n\n\n \n \n \n \nf\nr\no\nm\n \nf\nu\nn\nc\nt\no\no\nl\ns\n \ni\nm\np\no\nr\nt\n \np\na\nr\nt\ni\na\nl\n\n\n\n\n \n \n \n \nl\no\ng\ng\ni\nn\ng\n.\nb\na\ns\ni\nc\nC\no\nn\nf\ni\ng\n(\nl\ne\nv\ne\nl\n=\nl\no\ng\ng\ni\nn\ng\n.\nD\nE\nB\nU\nG\n)\n\n\n \n \n \n \nl\no\ng\n \n=\n \nl\no\ng\ng\ni\nn\ng\n.\ng\ne\nt\nL\no\ng\ng\ne\nr\n(\n'\nt\ne\ns\nt\n'\n)\n\n\n\n\n \n \n \n \np\n \n=\n \nP\no\no\nl\n(\n)\n\n\n \n \n \n \np\n.\na\np\np\nl\ny\n_\na\ns\ny\nn\nc\n(\na\nd\nd\n,\n \n(\n3\n,\n \n4\n)\n,\n \nc\na\nl\nl\nb\na\nc\nk\n=\np\na\nr\nt\ni\na\nl\n(\no\nu\nt\np\nu\nt\n_\nr\ne\ns\nu\nl\nt\n,\n \nl\no\ng\n=\nl\no\ng\n)\n)\n\n\n \n \n \n \np\n.\nc\nl\no\ns\ne\n(\n)\n\n\n \n \n \n \np\n.\nj\no\ni\nn\n(\n)\n\n"
      ]
    },
    {
      "cell_type": "markdown",
      "metadata": {},
      "source": [
        "\u5f53\u7ed9 apply_async() \u63d0\u4f9b\u56de\u8c03\u51fd\u6570\u65f6\uff0c\u901a\u8fc7\u4f7f\u7528 partial() \u4f20\u9012\u989d\u5916\u7684 logging \u53c2\u6570\u3002\n\u800c multiprocessing \u5bf9\u8fd9\u4e9b\u4e00\u65e0\u6240\u77e5\u2014\u2014\u5b83\u4ec5\u4ec5\u53ea\u662f\u4f7f\u7528\u5355\u4e2a\u503c\u6765\u8c03\u7528\u56de\u8c03\u51fd\u6570\u3002"
      ]
    },
    {
      "cell_type": "markdown",
      "metadata": {},
      "source": [
        "\u4f5c\u4e3a\u4e00\u4e2a\u7c7b\u4f3c\u7684\u4f8b\u5b50\uff0c\u8003\u8651\u4e0b\u7f16\u5199\u7f51\u7edc\u670d\u52a1\u5668\u7684\u95ee\u9898\uff0csocketserver \u6a21\u5757\u8ba9\u5b83\u53d8\u5f97\u5f88\u5bb9\u6613\u3002\n\u4e0b\u9762\u662f\u4e2a\u7b80\u5355\u7684echo\u670d\u52a1\u5668\uff1a"
      ]
    },
    {
      "cell_type": "code",
      "execution_count": null,
      "metadata": {},
      "outputs": [],
      "source": [
        "f\nr\no\nm\n \ns\no\nc\nk\ne\nt\ns\ne\nr\nv\ne\nr\n \ni\nm\np\no\nr\nt\n \nS\nt\nr\ne\na\nm\nR\ne\nq\nu\ne\ns\nt\nH\na\nn\nd\nl\ne\nr\n,\n \nT\nC\nP\nS\ne\nr\nv\ne\nr\n\n\n\n\nc\nl\na\ns\ns\n \nE\nc\nh\no\nH\na\nn\nd\nl\ne\nr\n(\nS\nt\nr\ne\na\nm\nR\ne\nq\nu\ne\ns\nt\nH\na\nn\nd\nl\ne\nr\n)\n:\n\n\n \n \n \n \nd\ne\nf\n \nh\na\nn\nd\nl\ne\n(\ns\ne\nl\nf\n)\n:\n\n\n \n \n \n \n \n \n \n \nf\no\nr\n \nl\ni\nn\ne\n \ni\nn\n \ns\ne\nl\nf\n.\nr\nf\ni\nl\ne\n:\n\n\n \n \n \n \n \n \n \n \n \n \n \n \ns\ne\nl\nf\n.\nw\nf\ni\nl\ne\n.\nw\nr\ni\nt\ne\n(\nb\n'\nG\nO\nT\n:\n'\n \n+\n \nl\ni\nn\ne\n)\n\n\n\n\ns\ne\nr\nv\n \n=\n \nT\nC\nP\nS\ne\nr\nv\ne\nr\n(\n(\n'\n'\n,\n \n1\n5\n0\n0\n0\n)\n,\n \nE\nc\nh\no\nH\na\nn\nd\nl\ne\nr\n)\n\n\ns\ne\nr\nv\n.\ns\ne\nr\nv\ne\n_\nf\no\nr\ne\nv\ne\nr\n(\n)\n\n"
      ]
    },
    {
      "cell_type": "markdown",
      "metadata": {},
      "source": [
        "\u4e0d\u8fc7\uff0c\u5047\u8bbe\u4f60\u60f3\u7ed9EchoHandler\u589e\u52a0\u4e00\u4e2a\u53ef\u4ee5\u63a5\u53d7\u5176\u4ed6\u914d\u7f6e\u9009\u9879\u7684 __init__ \u65b9\u6cd5\u3002\u6bd4\u5982\uff1a"
      ]
    },
    {
      "cell_type": "code",
      "execution_count": null,
      "metadata": {},
      "outputs": [],
      "source": [
        "c\nl\na\ns\ns\n \nE\nc\nh\no\nH\na\nn\nd\nl\ne\nr\n(\nS\nt\nr\ne\na\nm\nR\ne\nq\nu\ne\ns\nt\nH\na\nn\nd\nl\ne\nr\n)\n:\n\n\n \n \n \n \n#\n \na\nc\nk\n \ni\ns\n \na\nd\nd\ne\nd\n \nk\ne\ny\nw\no\nr\nd\n-\no\nn\nl\ny\n \na\nr\ng\nu\nm\ne\nn\nt\n.\n \n*\na\nr\ng\ns\n,\n \n*\n*\nk\nw\na\nr\ng\ns\n \na\nr\ne\n\n\n \n \n \n \n#\n \na\nn\ny\n \nn\no\nr\nm\na\nl\n \np\na\nr\na\nm\ne\nt\ne\nr\ns\n \ns\nu\np\np\nl\ni\ne\nd\n \n(\nw\nh\ni\nc\nh\n \na\nr\ne\n \np\na\ns\ns\ne\nd\n \no\nn\n)\n\n\n \n \n \n \nd\ne\nf\n \n_\n_\ni\nn\ni\nt\n_\n_\n(\ns\ne\nl\nf\n,\n \n*\na\nr\ng\ns\n,\n \na\nc\nk\n,\n \n*\n*\nk\nw\na\nr\ng\ns\n)\n:\n\n\n \n \n \n \n \n \n \n \ns\ne\nl\nf\n.\na\nc\nk\n \n=\n \na\nc\nk\n\n\n \n \n \n \n \n \n \n \ns\nu\np\ne\nr\n(\n)\n.\n_\n_\ni\nn\ni\nt\n_\n_\n(\n*\na\nr\ng\ns\n,\n \n*\n*\nk\nw\na\nr\ng\ns\n)\n\n\n\n\n \n \n \n \nd\ne\nf\n \nh\na\nn\nd\nl\ne\n(\ns\ne\nl\nf\n)\n:\n\n\n \n \n \n \n \n \n \n \nf\no\nr\n \nl\ni\nn\ne\n \ni\nn\n \ns\ne\nl\nf\n.\nr\nf\ni\nl\ne\n:\n\n\n \n \n \n \n \n \n \n \n \n \n \n \ns\ne\nl\nf\n.\nw\nf\ni\nl\ne\n.\nw\nr\ni\nt\ne\n(\ns\ne\nl\nf\n.\na\nc\nk\n \n+\n \nl\ni\nn\ne\n)\n\n"
      ]
    },
    {
      "cell_type": "markdown",
      "metadata": {},
      "source": [
        "\u8fd9\u4e48\u4fee\u6539\u540e\uff0c\u6211\u4eec\u5c31\u4e0d\u9700\u8981\u663e\u5f0f\u5730\u5728TCPServer\u7c7b\u4e2d\u6dfb\u52a0\u524d\u7f00\u4e86\u3002\n\u4f46\u662f\u4f60\u518d\u6b21\u8fd0\u884c\u7a0b\u5e8f\u540e\u4f1a\u62a5\u7c7b\u4f3c\u4e0b\u9762\u7684\u9519\u8bef\uff1a"
      ]
    },
    {
      "cell_type": "code",
      "execution_count": null,
      "metadata": {},
      "outputs": [],
      "source": [
        "E\nx\nc\ne\np\nt\ni\no\nn\n \nh\na\np\np\ne\nn\ne\nd\n \nd\nu\nr\ni\nn\ng\n \np\nr\no\nc\ne\ns\ns\ni\nn\ng\n \no\nf\n \nr\ne\nq\nu\ne\ns\nt\n \nf\nr\no\nm\n \n(\n'\n1\n2\n7\n.\n0\n.\n0\n.\n1\n'\n,\n \n5\n9\n8\n3\n4\n)\n\n\nT\nr\na\nc\ne\nb\na\nc\nk\n \n(\nm\no\ns\nt\n \nr\ne\nc\ne\nn\nt\n \nc\na\nl\nl\n \nl\na\ns\nt\n)\n:\n\n\n.\n.\n.\n\n\nT\ny\np\ne\nE\nr\nr\no\nr\n:\n \n_\n_\ni\nn\ni\nt\n_\n_\n(\n)\n \nm\ni\ns\ns\ni\nn\ng\n \n1\n \nr\ne\nq\nu\ni\nr\ne\nd\n \nk\ne\ny\nw\no\nr\nd\n-\no\nn\nl\ny\n \na\nr\ng\nu\nm\ne\nn\nt\n:\n \n'\na\nc\nk\n'\n\n"
      ]
    },
    {
      "cell_type": "markdown",
      "metadata": {},
      "source": [
        "\u521d\u770b\u8d77\u6765\u597d\u50cf\u5f88\u96be\u4fee\u6b63\u8fd9\u4e2a\u9519\u8bef\uff0c\u9664\u4e86\u4fee\u6539 socketserver \u6a21\u5757\u6e90\u4ee3\u7801\u6216\u8005\u4f7f\u7528\u67d0\u4e9b\u5947\u602a\u7684\u65b9\u6cd5\u4e4b\u5916\u3002\n\u4f46\u662f\uff0c\u5982\u679c\u4f7f\u7528 partial() \u5c31\u80fd\u5f88\u8f7b\u677e\u7684\u89e3\u51b3\u2014\u2014\u7ed9\u5b83\u4f20\u9012 ack \u53c2\u6570\u7684\u503c\u6765\u521d\u59cb\u5316\u5373\u53ef\uff0c\u5982\u4e0b\uff1a"
      ]
    },
    {
      "cell_type": "code",
      "execution_count": null,
      "metadata": {},
      "outputs": [],
      "source": [
        "f\nr\no\nm\n \nf\nu\nn\nc\nt\no\no\nl\ns\n \ni\nm\np\no\nr\nt\n \np\na\nr\nt\ni\na\nl\n\n\ns\ne\nr\nv\n \n=\n \nT\nC\nP\nS\ne\nr\nv\ne\nr\n(\n(\n'\n'\n,\n \n1\n5\n0\n0\n0\n)\n,\n \np\na\nr\nt\ni\na\nl\n(\nE\nc\nh\no\nH\na\nn\nd\nl\ne\nr\n,\n \na\nc\nk\n=\nb\n'\nR\nE\nC\nE\nI\nV\nE\nD\n:\n'\n)\n)\n\n\ns\ne\nr\nv\n.\ns\ne\nr\nv\ne\n_\nf\no\nr\ne\nv\ne\nr\n(\n)\n\n"
      ]
    },
    {
      "cell_type": "markdown",
      "metadata": {},
      "source": [
        "\u5728\u8fd9\u4e2a\u4f8b\u5b50\u4e2d\uff0c__init__() \u65b9\u6cd5\u4e2d\u7684ack\u53c2\u6570\u58f0\u660e\u65b9\u5f0f\u770b\u4e0a\u53bb\u5f88\u6709\u8da3\uff0c\u5176\u5b9e\u5c31\u662f\u58f0\u660eack\u4e3a\u4e00\u4e2a\u5f3a\u5236\u5173\u952e\u5b57\u53c2\u6570\u3002\n\u5173\u4e8e\u5f3a\u5236\u5173\u952e\u5b57\u53c2\u6570\u95ee\u9898\u6211\u4eec\u57287.2\u5c0f\u8282\u6211\u4eec\u5df2\u7ecf\u8ba8\u8bba\u8fc7\u4e86\uff0c\u8bfb\u8005\u53ef\u4ee5\u518d\u53bb\u56de\u987e\u4e00\u4e0b\u3002"
      ]
    },
    {
      "cell_type": "markdown",
      "metadata": {},
      "source": [
        "\u5f88\u591a\u65f6\u5019 partial() \u80fd\u5b9e\u73b0\u7684\u6548\u679c\uff0clambda\u8868\u8fbe\u5f0f\u4e5f\u80fd\u5b9e\u73b0\u3002\u6bd4\u5982\uff0c\u4e4b\u524d\u7684\u51e0\u4e2a\u4f8b\u5b50\u53ef\u4ee5\u4f7f\u7528\u4e0b\u9762\u8fd9\u6837\u7684\u8868\u8fbe\u5f0f\uff1a"
      ]
    },
    {
      "cell_type": "code",
      "execution_count": null,
      "metadata": {},
      "outputs": [],
      "source": [
        "p\no\ni\nn\nt\ns\n.\ns\no\nr\nt\n(\nk\ne\ny\n=\nl\na\nm\nb\nd\na\n \np\n:\n \nd\ni\ns\nt\na\nn\nc\ne\n(\np\nt\n,\n \np\n)\n)\n\n\np\n.\na\np\np\nl\ny\n_\na\ns\ny\nn\nc\n(\na\nd\nd\n,\n \n(\n3\n,\n \n4\n)\n,\n \nc\na\nl\nl\nb\na\nc\nk\n=\nl\na\nm\nb\nd\na\n \nr\ne\ns\nu\nl\nt\n:\n \no\nu\nt\np\nu\nt\n_\nr\ne\ns\nu\nl\nt\n(\nr\ne\ns\nu\nl\nt\n,\nl\no\ng\n)\n)\n\n\ns\ne\nr\nv\n \n=\n \nT\nC\nP\nS\ne\nr\nv\ne\nr\n(\n(\n'\n'\n,\n \n1\n5\n0\n0\n0\n)\n,\n\n\n \n \n \n \n \n \n \n \nl\na\nm\nb\nd\na\n \n*\na\nr\ng\ns\n,\n \n*\n*\nk\nw\na\nr\ng\ns\n:\n \nE\nc\nh\no\nH\na\nn\nd\nl\ne\nr\n(\n*\na\nr\ng\ns\n,\n \na\nc\nk\n=\nb\n'\nR\nE\nC\nE\nI\nV\nE\nD\n:\n'\n,\n \n*\n*\nk\nw\na\nr\ng\ns\n)\n)\n\n"
      ]
    },
    {
      "cell_type": "markdown",
      "metadata": {},
      "source": [
        "\u8fd9\u6837\u5199\u4e5f\u80fd\u5b9e\u73b0\u540c\u6837\u7684\u6548\u679c\uff0c\u4e0d\u8fc7\u76f8\u6bd4\u800c\u5df2\u4f1a\u663e\u5f97\u6bd4\u8f83\u81c3\u80bf\uff0c\u5bf9\u4e8e\u9605\u8bfb\u4ee3\u7801\u7684\u4eba\u6765\u8bb2\u4e5f\u66f4\u52a0\u96be\u61c2\u3002\n\u8fd9\u65f6\u5019\u4f7f\u7528 partial() \u53ef\u4ee5\u66f4\u52a0\u76f4\u89c2\u7684\u8868\u8fbe\u4f60\u7684\u610f\u56fe(\u7ed9\u67d0\u4e9b\u53c2\u6570\u9884\u5148\u8d4b\u503c)\u3002"
      ]
    },
    {
      "cell_type": "markdown",
      "metadata": {},
      "source": [
        "## 7.9 \u5c06\u5355\u65b9\u6cd5\u7684\u7c7b\u8f6c\u6362\u4e3a\u51fd\u6570\n"
      ]
    },
    {
      "cell_type": "markdown",
      "metadata": {},
      "source": [
        "### \u95ee\u9898\n"
      ]
    },
    {
      "cell_type": "markdown",
      "metadata": {},
      "source": [
        "\u4f60\u6709\u4e00\u4e2a\u9664 __init__() \u65b9\u6cd5\u5916\u53ea\u5b9a\u4e49\u4e86\u4e00\u4e2a\u65b9\u6cd5\u7684\u7c7b\u3002\u4e3a\u4e86\u7b80\u5316\u4ee3\u7801\uff0c\u4f60\u60f3\u5c06\u5b83\u8f6c\u6362\u6210\u4e00\u4e2a\u51fd\u6570\u3002"
      ]
    },
    {
      "cell_type": "markdown",
      "metadata": {},
      "source": [
        "### \u89e3\u51b3\u65b9\u6848\n"
      ]
    },
    {
      "cell_type": "markdown",
      "metadata": {},
      "source": [
        "\u5927\u591a\u6570\u60c5\u51b5\u4e0b\uff0c\u53ef\u4ee5\u4f7f\u7528\u95ed\u5305\u6765\u5c06\u5355\u4e2a\u65b9\u6cd5\u7684\u7c7b\u8f6c\u6362\u6210\u51fd\u6570\u3002\n\u4e3e\u4e2a\u4f8b\u5b50\uff0c\u4e0b\u9762\u793a\u4f8b\u4e2d\u7684\u7c7b\u5141\u8bb8\u4f7f\u7528\u8005\u6839\u636e\u67d0\u4e2a\u6a21\u677f\u65b9\u6848\u6765\u83b7\u53d6\u5230URL\u94fe\u63a5\u5730\u5740\u3002"
      ]
    },
    {
      "cell_type": "code",
      "execution_count": null,
      "metadata": {},
      "outputs": [],
      "source": [
        "f\nr\no\nm\n \nu\nr\nl\nl\ni\nb\n.\nr\ne\nq\nu\ne\ns\nt\n \ni\nm\np\no\nr\nt\n \nu\nr\nl\no\np\ne\nn\n\n\n\n\nc\nl\na\ns\ns\n \nU\nr\nl\nT\ne\nm\np\nl\na\nt\ne\n:\n\n\n \n \n \n \nd\ne\nf\n \n_\n_\ni\nn\ni\nt\n_\n_\n(\ns\ne\nl\nf\n,\n \nt\ne\nm\np\nl\na\nt\ne\n)\n:\n\n\n \n \n \n \n \n \n \n \ns\ne\nl\nf\n.\nt\ne\nm\np\nl\na\nt\ne\n \n=\n \nt\ne\nm\np\nl\na\nt\ne\n\n\n\n\n \n \n \n \nd\ne\nf\n \no\np\ne\nn\n(\ns\ne\nl\nf\n,\n \n*\n*\nk\nw\na\nr\ng\ns\n)\n:\n\n\n \n \n \n \n \n \n \n \nr\ne\nt\nu\nr\nn\n \nu\nr\nl\no\np\ne\nn\n(\ns\ne\nl\nf\n.\nt\ne\nm\np\nl\na\nt\ne\n.\nf\no\nr\nm\na\nt\n_\nm\na\np\n(\nk\nw\na\nr\ng\ns\n)\n)\n\n\n\n\n#\n \nE\nx\na\nm\np\nl\ne\n \nu\ns\ne\n.\n \nD\no\nw\nn\nl\no\na\nd\n \ns\nt\no\nc\nk\n \nd\na\nt\na\n \nf\nr\no\nm\n \ny\na\nh\no\no\n\n\ny\na\nh\no\no\n \n=\n \nU\nr\nl\nT\ne\nm\np\nl\na\nt\ne\n(\n'\nh\nt\nt\np\n:\n/\n/\nf\ni\nn\na\nn\nc\ne\n.\ny\na\nh\no\no\n.\nc\no\nm\n/\nd\n/\nq\nu\no\nt\ne\ns\n.\nc\ns\nv\n?\ns\n=\n{\nn\na\nm\ne\ns\n}\n&\nf\n=\n{\nf\ni\ne\nl\nd\ns\n}\n'\n)\n\n\nf\no\nr\n \nl\ni\nn\ne\n \ni\nn\n \ny\na\nh\no\no\n.\no\np\ne\nn\n(\nn\na\nm\ne\ns\n=\n'\nI\nB\nM\n,\nA\nA\nP\nL\n,\nF\nB\n'\n,\n \nf\ni\ne\nl\nd\ns\n=\n'\ns\nl\n1\nc\n1\nv\n'\n)\n:\n\n\n \n \n \n \np\nr\ni\nn\nt\n(\nl\ni\nn\ne\n.\nd\ne\nc\no\nd\ne\n(\n'\nu\nt\nf\n-\n8\n'\n)\n)\n\n"
      ]
    },
    {
      "cell_type": "markdown",
      "metadata": {},
      "source": [
        "\u8fd9\u4e2a\u7c7b\u53ef\u4ee5\u88ab\u4e00\u4e2a\u66f4\u7b80\u5355\u7684\u51fd\u6570\u6765\u4ee3\u66ff\uff1a"
      ]
    },
    {
      "cell_type": "code",
      "execution_count": null,
      "metadata": {},
      "outputs": [],
      "source": [
        "d\ne\nf\n \nu\nr\nl\nt\ne\nm\np\nl\na\nt\ne\n(\nt\ne\nm\np\nl\na\nt\ne\n)\n:\n\n\n \n \n \n \nd\ne\nf\n \no\np\ne\nn\ne\nr\n(\n*\n*\nk\nw\na\nr\ng\ns\n)\n:\n\n\n \n \n \n \n \n \n \n \nr\ne\nt\nu\nr\nn\n \nu\nr\nl\no\np\ne\nn\n(\nt\ne\nm\np\nl\na\nt\ne\n.\nf\no\nr\nm\na\nt\n_\nm\na\np\n(\nk\nw\na\nr\ng\ns\n)\n)\n\n\n \n \n \n \nr\ne\nt\nu\nr\nn\n \no\np\ne\nn\ne\nr\n\n\n\n\n#\n \nE\nx\na\nm\np\nl\ne\n \nu\ns\ne\n\n\ny\na\nh\no\no\n \n=\n \nu\nr\nl\nt\ne\nm\np\nl\na\nt\ne\n(\n'\nh\nt\nt\np\n:\n/\n/\nf\ni\nn\na\nn\nc\ne\n.\ny\na\nh\no\no\n.\nc\no\nm\n/\nd\n/\nq\nu\no\nt\ne\ns\n.\nc\ns\nv\n?\ns\n=\n{\nn\na\nm\ne\ns\n}\n&\nf\n=\n{\nf\ni\ne\nl\nd\ns\n}\n'\n)\n\n\nf\no\nr\n \nl\ni\nn\ne\n \ni\nn\n \ny\na\nh\no\no\n(\nn\na\nm\ne\ns\n=\n'\nI\nB\nM\n,\nA\nA\nP\nL\n,\nF\nB\n'\n,\n \nf\ni\ne\nl\nd\ns\n=\n'\ns\nl\n1\nc\n1\nv\n'\n)\n:\n\n\n \n \n \n \np\nr\ni\nn\nt\n(\nl\ni\nn\ne\n.\nd\ne\nc\no\nd\ne\n(\n'\nu\nt\nf\n-\n8\n'\n)\n)\n\n"
      ]
    },
    {
      "cell_type": "markdown",
      "metadata": {},
      "source": [
        "### \u8ba8\u8bba\n"
      ]
    },
    {
      "cell_type": "markdown",
      "metadata": {},
      "source": [
        "\u5927\u90e8\u5206\u60c5\u51b5\u4e0b\uff0c\u4f60\u62e5\u6709\u4e00\u4e2a\u5355\u65b9\u6cd5\u7c7b\u7684\u539f\u56e0\u662f\u9700\u8981\u5b58\u50a8\u67d0\u4e9b\u989d\u5916\u7684\u72b6\u6001\u6765\u7ed9\u65b9\u6cd5\u4f7f\u7528\u3002\n\u6bd4\u5982\uff0c\u5b9a\u4e49UrlTemplate\u7c7b\u7684\u552f\u4e00\u76ee\u7684\u5c31\u662f\u5148\u5728\u67d0\u4e2a\u5730\u65b9\u5b58\u50a8\u6a21\u677f\u503c\uff0c\u4ee5\u4fbf\u5c06\u6765\u53ef\u4ee5\u5728open()\u65b9\u6cd5\u4e2d\u4f7f\u7528\u3002"
      ]
    },
    {
      "cell_type": "markdown",
      "metadata": {},
      "source": [
        "\u4f7f\u7528\u4e00\u4e2a\u5185\u90e8\u51fd\u6570\u6216\u8005\u95ed\u5305\u7684\u65b9\u6848\u901a\u5e38\u4f1a\u66f4\u4f18\u96c5\u4e00\u4e9b\u3002\u7b80\u5355\u6765\u8bb2\uff0c\u4e00\u4e2a\u95ed\u5305\u5c31\u662f\u4e00\u4e2a\u51fd\u6570\uff0c\n\u53ea\u4e0d\u8fc7\u5728\u51fd\u6570\u5185\u90e8\u5e26\u4e0a\u4e86\u4e00\u4e2a\u989d\u5916\u7684\u53d8\u91cf\u73af\u5883\u3002\u95ed\u5305\u5173\u952e\u7279\u70b9\u5c31\u662f\u5b83\u4f1a\u8bb0\u4f4f\u81ea\u5df1\u88ab\u5b9a\u4e49\u65f6\u7684\u73af\u5883\u3002\n\u56e0\u6b64\uff0c\u5728\u6211\u4eec\u7684\u89e3\u51b3\u65b9\u6848\u4e2d\uff0copener() \u51fd\u6570\u8bb0\u4f4f\u4e86 template \u53c2\u6570\u7684\u503c\uff0c\u5e76\u5728\u63a5\u4e0b\u6765\u7684\u8c03\u7528\u4e2d\u4f7f\u7528\u5b83\u3002"
      ]
    },
    {
      "cell_type": "markdown",
      "metadata": {},
      "source": [
        "\u4efb\u4f55\u65f6\u5019\u53ea\u8981\u4f60\u78b0\u5230\u9700\u8981\u7ed9\u67d0\u4e2a\u51fd\u6570\u589e\u52a0\u989d\u5916\u7684\u72b6\u6001\u4fe1\u606f\u7684\u95ee\u9898\uff0c\u90fd\u53ef\u4ee5\u8003\u8651\u4f7f\u7528\u95ed\u5305\u3002\n\u76f8\u6bd4\u5c06\u4f60\u7684\u51fd\u6570\u8f6c\u6362\u6210\u4e00\u4e2a\u7c7b\u800c\u8a00\uff0c\u95ed\u5305\u901a\u5e38\u662f\u4e00\u79cd\u66f4\u52a0\u7b80\u6d01\u548c\u4f18\u96c5\u7684\u65b9\u6848\u3002"
      ]
    },
    {
      "cell_type": "markdown",
      "metadata": {},
      "source": [
        "## 7.10 \u5e26\u989d\u5916\u72b6\u6001\u4fe1\u606f\u7684\u56de\u8c03\u51fd\u6570\n"
      ]
    },
    {
      "cell_type": "markdown",
      "metadata": {},
      "source": [
        "### \u95ee\u9898\n"
      ]
    },
    {
      "cell_type": "markdown",
      "metadata": {},
      "source": [
        "\u4f60\u7684\u4ee3\u7801\u4e2d\u9700\u8981\u4f9d\u8d56\u5230\u56de\u8c03\u51fd\u6570\u7684\u4f7f\u7528(\u6bd4\u5982\u4e8b\u4ef6\u5904\u7406\u5668\u3001\u7b49\u5f85\u540e\u53f0\u4efb\u52a1\u5b8c\u6210\u540e\u7684\u56de\u8c03\u7b49)\uff0c\n\u5e76\u4e14\u4f60\u8fd8\u9700\u8981\u8ba9\u56de\u8c03\u51fd\u6570\u62e5\u6709\u989d\u5916\u7684\u72b6\u6001\u503c\uff0c\u4ee5\u4fbf\u5728\u5b83\u7684\u5185\u90e8\u4f7f\u7528\u5230\u3002"
      ]
    },
    {
      "cell_type": "markdown",
      "metadata": {},
      "source": [
        "### \u89e3\u51b3\u65b9\u6848\n"
      ]
    },
    {
      "cell_type": "markdown",
      "metadata": {},
      "source": [
        "\u8fd9\u4e00\u5c0f\u8282\u4e3b\u8981\u8ba8\u8bba\u7684\u662f\u90a3\u4e9b\u51fa\u73b0\u5728\u5f88\u591a\u51fd\u6570\u5e93\u548c\u6846\u67b6\u4e2d\u7684\u56de\u8c03\u51fd\u6570\u7684\u4f7f\u7528\u2014\u2014\u7279\u522b\u662f\u8ddf\u5f02\u6b65\u5904\u7406\u6709\u5173\u7684\u3002\n\u4e3a\u4e86\u6f14\u793a\u4e0e\u6d4b\u8bd5\uff0c\u6211\u4eec\u5148\u5b9a\u4e49\u5982\u4e0b\u4e00\u4e2a\u9700\u8981\u8c03\u7528\u56de\u8c03\u51fd\u6570\u7684\u51fd\u6570\uff1a"
      ]
    },
    {
      "cell_type": "code",
      "execution_count": null,
      "metadata": {},
      "outputs": [],
      "source": [
        "d\ne\nf\n \na\np\np\nl\ny\n_\na\ns\ny\nn\nc\n(\nf\nu\nn\nc\n,\n \na\nr\ng\ns\n,\n \n*\n,\n \nc\na\nl\nl\nb\na\nc\nk\n)\n:\n\n\n \n \n \n \n#\n \nC\no\nm\np\nu\nt\ne\n \nt\nh\ne\n \nr\ne\ns\nu\nl\nt\n\n\n \n \n \n \nr\ne\ns\nu\nl\nt\n \n=\n \nf\nu\nn\nc\n(\n*\na\nr\ng\ns\n)\n\n\n\n\n \n \n \n \n#\n \nI\nn\nv\no\nk\ne\n \nt\nh\ne\n \nc\na\nl\nl\nb\na\nc\nk\n \nw\ni\nt\nh\n \nt\nh\ne\n \nr\ne\ns\nu\nl\nt\n\n\n \n \n \n \nc\na\nl\nl\nb\na\nc\nk\n(\nr\ne\ns\nu\nl\nt\n)\n\n"
      ]
    },
    {
      "cell_type": "markdown",
      "metadata": {},
      "source": [
        "\u5b9e\u9645\u4e0a\uff0c\u8fd9\u6bb5\u4ee3\u7801\u53ef\u4ee5\u505a\u4efb\u4f55\u66f4\u9ad8\u7ea7\u7684\u5904\u7406\uff0c\u5305\u62ec\u7ebf\u7a0b\u3001\u8fdb\u7a0b\u548c\u5b9a\u65f6\u5668\uff0c\u4f46\u662f\u8fd9\u4e9b\u90fd\u4e0d\u662f\u6211\u4eec\u8981\u5173\u5fc3\u7684\u3002\n\u6211\u4eec\u4ec5\u4ec5\u53ea\u9700\u8981\u5173\u6ce8\u56de\u8c03\u51fd\u6570\u7684\u8c03\u7528\u3002\u4e0b\u9762\u662f\u4e00\u4e2a\u6f14\u793a\u600e\u6837\u4f7f\u7528\u4e0a\u8ff0\u4ee3\u7801\u7684\u4f8b\u5b50\uff1a"
      ]
    },
    {
      "cell_type": "code",
      "execution_count": null,
      "metadata": {},
      "outputs": [],
      "source": [
        "def print_result(result):\n    print('Got:', result)\ndef add(x, y):\n    return x + y\napply_async(add, (2, 3), callback=print_result)"
      ]
    },
    {
      "cell_type": "code",
      "execution_count": null,
      "metadata": {},
      "outputs": [],
      "source": [
        "apply_async(add, ('hello', 'world'), callback=print_result)"
      ]
    },
    {
      "cell_type": "markdown",
      "metadata": {},
      "source": [
        "\u6ce8\u610f\u5230 print_result() \u51fd\u6570\u4ec5\u4ec5\u53ea\u63a5\u53d7\u4e00\u4e2a\u53c2\u6570 result \u3002\u4e0d\u80fd\u518d\u4f20\u5165\u5176\u4ed6\u4fe1\u606f\u3002\n\u800c\u5f53\u4f60\u60f3\u8ba9\u56de\u8c03\u51fd\u6570\u8bbf\u95ee\u5176\u4ed6\u53d8\u91cf\u6216\u8005\u7279\u5b9a\u73af\u5883\u7684\u53d8\u91cf\u503c\u7684\u65f6\u5019\u5c31\u4f1a\u9047\u5230\u9ebb\u70e6\u3002"
      ]
    },
    {
      "cell_type": "markdown",
      "metadata": {},
      "source": [
        "\u4e3a\u4e86\u8ba9\u56de\u8c03\u51fd\u6570\u8bbf\u95ee\u5916\u90e8\u4fe1\u606f\uff0c\u4e00\u79cd\u65b9\u6cd5\u662f\u4f7f\u7528\u4e00\u4e2a\u7ed1\u5b9a\u65b9\u6cd5\u6765\u4ee3\u66ff\u4e00\u4e2a\u7b80\u5355\u51fd\u6570\u3002\n\u6bd4\u5982\uff0c\u4e0b\u9762\u8fd9\u4e2a\u7c7b\u4f1a\u4fdd\u5b58\u4e00\u4e2a\u5185\u90e8\u5e8f\u5217\u53f7\uff0c\u6bcf\u6b21\u63a5\u6536\u5230\u4e00\u4e2a result \u7684\u65f6\u5019\u5e8f\u5217\u53f7\u52a01\uff1a"
      ]
    },
    {
      "cell_type": "code",
      "execution_count": null,
      "metadata": {},
      "outputs": [],
      "source": [
        "c\nl\na\ns\ns\n \nR\ne\ns\nu\nl\nt\nH\na\nn\nd\nl\ne\nr\n:\n\n\n\n\n \n \n \n \nd\ne\nf\n \n_\n_\ni\nn\ni\nt\n_\n_\n(\ns\ne\nl\nf\n)\n:\n\n\n \n \n \n \n \n \n \n \ns\ne\nl\nf\n.\ns\ne\nq\nu\ne\nn\nc\ne\n \n=\n \n0\n\n\n\n\n \n \n \n \nd\ne\nf\n \nh\na\nn\nd\nl\ne\nr\n(\ns\ne\nl\nf\n,\n \nr\ne\ns\nu\nl\nt\n)\n:\n\n\n \n \n \n \n \n \n \n \ns\ne\nl\nf\n.\ns\ne\nq\nu\ne\nn\nc\ne\n \n+\n=\n \n1\n\n\n \n \n \n \n \n \n \n \np\nr\ni\nn\nt\n(\n'\n[\n{\n}\n]\n \nG\no\nt\n:\n \n{\n}\n'\n.\nf\no\nr\nm\na\nt\n(\ns\ne\nl\nf\n.\ns\ne\nq\nu\ne\nn\nc\ne\n,\n \nr\ne\ns\nu\nl\nt\n)\n)\n\n"
      ]
    },
    {
      "cell_type": "markdown",
      "metadata": {},
      "source": [
        "\u4f7f\u7528\u8fd9\u4e2a\u7c7b\u7684\u65f6\u5019\uff0c\u4f60\u5148\u521b\u5efa\u4e00\u4e2a\u7c7b\u7684\u5b9e\u4f8b\uff0c\u7136\u540e\u7528\u5b83\u7684 handler() \u7ed1\u5b9a\u65b9\u6cd5\u6765\u505a\u4e3a\u56de\u8c03\u51fd\u6570\uff1a"
      ]
    },
    {
      "cell_type": "code",
      "execution_count": null,
      "metadata": {},
      "outputs": [],
      "source": [
        "r = ResultHandler()\napply_async(add, (2, 3), callback=r.handler)"
      ]
    },
    {
      "cell_type": "code",
      "execution_count": null,
      "metadata": {},
      "outputs": [],
      "source": [
        "apply_async(add, ('hello', 'world'), callback=r.handler)"
      ]
    },
    {
      "cell_type": "markdown",
      "metadata": {},
      "source": [
        "\u7b2c\u4e8c\u79cd\u65b9\u5f0f\uff0c\u4f5c\u4e3a\u7c7b\u7684\u66ff\u4ee3\uff0c\u53ef\u4ee5\u4f7f\u7528\u4e00\u4e2a\u95ed\u5305\u6355\u83b7\u72b6\u6001\u503c\uff0c\u4f8b\u5982\uff1a"
      ]
    },
    {
      "cell_type": "code",
      "execution_count": null,
      "metadata": {},
      "outputs": [],
      "source": [
        "d\ne\nf\n \nm\na\nk\ne\n_\nh\na\nn\nd\nl\ne\nr\n(\n)\n:\n\n\n \n \n \n \ns\ne\nq\nu\ne\nn\nc\ne\n \n=\n \n0\n\n\n \n \n \n \nd\ne\nf\n \nh\na\nn\nd\nl\ne\nr\n(\nr\ne\ns\nu\nl\nt\n)\n:\n\n\n \n \n \n \n \n \n \n \nn\no\nn\nl\no\nc\na\nl\n \ns\ne\nq\nu\ne\nn\nc\ne\n\n\n \n \n \n \n \n \n \n \ns\ne\nq\nu\ne\nn\nc\ne\n \n+\n=\n \n1\n\n\n \n \n \n \n \n \n \n \np\nr\ni\nn\nt\n(\n'\n[\n{\n}\n]\n \nG\no\nt\n:\n \n{\n}\n'\n.\nf\no\nr\nm\na\nt\n(\ns\ne\nq\nu\ne\nn\nc\ne\n,\n \nr\ne\ns\nu\nl\nt\n)\n)\n\n\n \n \n \n \nr\ne\nt\nu\nr\nn\n \nh\na\nn\nd\nl\ne\nr\n\n"
      ]
    },
    {
      "cell_type": "markdown",
      "metadata": {},
      "source": [
        "\u4e0b\u9762\u662f\u4f7f\u7528\u95ed\u5305\u65b9\u5f0f\u7684\u4e00\u4e2a\u4f8b\u5b50\uff1a"
      ]
    },
    {
      "cell_type": "code",
      "execution_count": null,
      "metadata": {},
      "outputs": [],
      "source": [
        "handler = make_handler()\napply_async(add, (2, 3), callback=handler)"
      ]
    },
    {
      "cell_type": "code",
      "execution_count": null,
      "metadata": {},
      "outputs": [],
      "source": [
        "apply_async(add, ('hello', 'world'), callback=handler)"
      ]
    },
    {
      "cell_type": "markdown",
      "metadata": {},
      "source": [
        "\u8fd8\u6709\u53e6\u5916\u4e00\u4e2a\u66f4\u9ad8\u7ea7\u7684\u65b9\u6cd5\uff0c\u53ef\u4ee5\u4f7f\u7528\u534f\u7a0b\u6765\u5b8c\u6210\u540c\u6837\u7684\u4e8b\u60c5\uff1a"
      ]
    },
    {
      "cell_type": "code",
      "execution_count": null,
      "metadata": {},
      "outputs": [],
      "source": [
        "d\ne\nf\n \nm\na\nk\ne\n_\nh\na\nn\nd\nl\ne\nr\n(\n)\n:\n\n\n \n \n \n \ns\ne\nq\nu\ne\nn\nc\ne\n \n=\n \n0\n\n\n \n \n \n \nw\nh\ni\nl\ne\n \nT\nr\nu\ne\n:\n\n\n \n \n \n \n \n \n \n \nr\ne\ns\nu\nl\nt\n \n=\n \ny\ni\ne\nl\nd\n\n\n \n \n \n \n \n \n \n \ns\ne\nq\nu\ne\nn\nc\ne\n \n+\n=\n \n1\n\n\n \n \n \n \n \n \n \n \np\nr\ni\nn\nt\n(\n'\n[\n{\n}\n]\n \nG\no\nt\n:\n \n{\n}\n'\n.\nf\no\nr\nm\na\nt\n(\ns\ne\nq\nu\ne\nn\nc\ne\n,\n \nr\ne\ns\nu\nl\nt\n)\n)\n\n"
      ]
    },
    {
      "cell_type": "markdown",
      "metadata": {},
      "source": [
        "\u5bf9\u4e8e\u534f\u7a0b\uff0c\u4f60\u9700\u8981\u4f7f\u7528\u5b83\u7684 send() \u65b9\u6cd5\u4f5c\u4e3a\u56de\u8c03\u51fd\u6570\uff0c\u5982\u4e0b\u6240\u793a\uff1a"
      ]
    },
    {
      "cell_type": "code",
      "execution_count": null,
      "metadata": {},
      "outputs": [],
      "source": [
        "handler = make_handler()\nnext(handler) # Advance to the yield\napply_async(add, (2, 3), callback=handler.send)"
      ]
    },
    {
      "cell_type": "code",
      "execution_count": null,
      "metadata": {},
      "outputs": [],
      "source": [
        "apply_async(add, ('hello', 'world'), callback=handler.send)"
      ]
    },
    {
      "cell_type": "markdown",
      "metadata": {},
      "source": [
        "### \u8ba8\u8bba\n"
      ]
    },
    {
      "cell_type": "markdown",
      "metadata": {},
      "source": [
        "\u57fa\u4e8e\u56de\u8c03\u51fd\u6570\u7684\u8f6f\u4ef6\u901a\u5e38\u90fd\u6709\u53ef\u80fd\u53d8\u5f97\u975e\u5e38\u590d\u6742\u3002\u4e00\u90e8\u5206\u539f\u56e0\u662f\u56de\u8c03\u51fd\u6570\u901a\u5e38\u4f1a\u8ddf\u8bf7\u6c42\u6267\u884c\u4ee3\u7801\u65ad\u5f00\u3002\n\u56e0\u6b64\uff0c\u8bf7\u6c42\u6267\u884c\u548c\u5904\u7406\u7ed3\u679c\u4e4b\u95f4\u7684\u6267\u884c\u73af\u5883\u5b9e\u9645\u4e0a\u5df2\u7ecf\u4e22\u5931\u4e86\u3002\u5982\u679c\u4f60\u60f3\u8ba9\u56de\u8c03\u51fd\u6570\u8fde\u7eed\u6267\u884c\u591a\u6b65\u64cd\u4f5c\uff0c\n\u90a3\u4f60\u5c31\u5fc5\u987b\u53bb\u89e3\u51b3\u5982\u4f55\u4fdd\u5b58\u548c\u6062\u590d\u76f8\u5173\u7684\u72b6\u6001\u4fe1\u606f\u4e86\u3002"
      ]
    },
    {
      "cell_type": "markdown",
      "metadata": {},
      "source": [
        "\u81f3\u5c11\u6709\u4e24\u79cd\u4e3b\u8981\u65b9\u5f0f\u6765\u6355\u83b7\u548c\u4fdd\u5b58\u72b6\u6001\u4fe1\u606f\uff0c\u4f60\u53ef\u4ee5\u5728\u4e00\u4e2a\u5bf9\u8c61\u5b9e\u4f8b(\u901a\u8fc7\u4e00\u4e2a\u7ed1\u5b9a\u65b9\u6cd5)\u6216\u8005\u5728\u4e00\u4e2a\u95ed\u5305\u4e2d\u4fdd\u5b58\u5b83\u3002\n\u4e24\u79cd\u65b9\u5f0f\u76f8\u6bd4\uff0c\u95ed\u5305\u6216\u8bb8\u662f\u66f4\u52a0\u8f7b\u91cf\u7ea7\u548c\u81ea\u7136\u4e00\u70b9\uff0c\u56e0\u4e3a\u5b83\u4eec\u53ef\u4ee5\u5f88\u7b80\u5355\u7684\u901a\u8fc7\u51fd\u6570\u6765\u6784\u9020\u3002\n\u5b83\u4eec\u8fd8\u80fd\u81ea\u52a8\u6355\u83b7\u6240\u6709\u88ab\u4f7f\u7528\u5230\u7684\u53d8\u91cf\u3002\u56e0\u6b64\uff0c\u4f60\u65e0\u9700\u53bb\u62c5\u5fc3\u5982\u4f55\u53bb\u5b58\u50a8\u989d\u5916\u7684\u72b6\u6001\u4fe1\u606f(\u4ee3\u7801\u4e2d\u81ea\u52a8\u5224\u5b9a)\u3002"
      ]
    },
    {
      "cell_type": "markdown",
      "metadata": {},
      "source": [
        "\u5982\u679c\u4f7f\u7528\u95ed\u5305\uff0c\u4f60\u9700\u8981\u6ce8\u610f\u5bf9\u90a3\u4e9b\u53ef\u4fee\u6539\u53d8\u91cf\u7684\u64cd\u4f5c\u3002\u5728\u4e0a\u9762\u7684\u65b9\u6848\u4e2d\uff0c\nnonlocal \u58f0\u660e\u8bed\u53e5\u7528\u6765\u6307\u793a\u63a5\u4e0b\u6765\u7684\u53d8\u91cf\u4f1a\u5728\u56de\u8c03\u51fd\u6570\u4e2d\u88ab\u4fee\u6539\u3002\u5982\u679c\u6ca1\u6709\u8fd9\u4e2a\u58f0\u660e\uff0c\u4ee3\u7801\u4f1a\u62a5\u9519\u3002"
      ]
    },
    {
      "cell_type": "markdown",
      "metadata": {},
      "source": [
        "\u800c\u4f7f\u7528\u4e00\u4e2a\u534f\u7a0b\u6765\u4f5c\u4e3a\u4e00\u4e2a\u56de\u8c03\u51fd\u6570\u5c31\u66f4\u6709\u8da3\u4e86\uff0c\u5b83\u8ddf\u95ed\u5305\u65b9\u6cd5\u5bc6\u5207\u76f8\u5173\u3002\n\u67d0\u79cd\u610f\u4e49\u4e0a\u6765\u8bb2\uff0c\u5b83\u663e\u5f97\u66f4\u52a0\u7b80\u6d01\uff0c\u56e0\u4e3a\u603b\u5171\u5c31\u4e00\u4e2a\u51fd\u6570\u800c\u5df2\u3002\n\u5e76\u4e14\uff0c\u4f60\u53ef\u4ee5\u5f88\u81ea\u7531\u7684\u4fee\u6539\u53d8\u91cf\u800c\u65e0\u9700\u53bb\u4f7f\u7528 nonlocal \u58f0\u660e\u3002\n\u8fd9\u79cd\u65b9\u5f0f\u552f\u4e00\u7f3a\u70b9\u5c31\u662f\u76f8\u5bf9\u4e8e\u5176\u4ed6Python\u6280\u672f\u800c\u8a00\u6216\u8bb8\u6bd4\u8f83\u96be\u4ee5\u7406\u89e3\u3002\n\u53e6\u5916\u8fd8\u6709\u4e00\u4e9b\u6bd4\u8f83\u96be\u61c2\u7684\u90e8\u5206\uff0c\u6bd4\u5982\u4f7f\u7528\u4e4b\u524d\u9700\u8981\u8c03\u7528 next() \uff0c\u5b9e\u9645\u4f7f\u7528\u65f6\u8fd9\u4e2a\u6b65\u9aa4\u5f88\u5bb9\u6613\u88ab\u5fd8\u8bb0\u3002\n\u5c3d\u7ba1\u5982\u6b64\uff0c\u534f\u7a0b\u8fd8\u6709\u5176\u4ed6\u7528\u5904\uff0c\u6bd4\u5982\u4f5c\u4e3a\u4e00\u4e2a\u5185\u8054\u56de\u8c03\u51fd\u6570\u7684\u5b9a\u4e49(\u4e0b\u4e00\u8282\u4f1a\u8bb2\u5230)\u3002"
      ]
    },
    {
      "cell_type": "markdown",
      "metadata": {},
      "source": [
        "\u5982\u679c\u4f60\u4ec5\u4ec5\u53ea\u9700\u8981\u7ed9\u56de\u8c03\u51fd\u6570\u4f20\u9012\u989d\u5916\u7684\u503c\u7684\u8bdd\uff0c\u8fd8\u6709\u4e00\u79cd\u4f7f\u7528 partial() \u7684\u65b9\u5f0f\u4e5f\u5f88\u6709\u7528\u3002\n\u5728\u6ca1\u6709\u4f7f\u7528 partial() \u7684\u65f6\u5019\uff0c\u4f60\u53ef\u80fd\u7ecf\u5e38\u770b\u5230\u4e0b\u9762\u8fd9\u79cd\u4f7f\u7528lambda\u8868\u8fbe\u5f0f\u7684\u590d\u6742\u4ee3\u7801\uff1a"
      ]
    },
    {
      "cell_type": "code",
      "execution_count": null,
      "metadata": {},
      "outputs": [],
      "source": [
        "apply_async(add, (2, 3), callback=lambda r: handler(r, seq))"
      ]
    },
    {
      "cell_type": "markdown",
      "metadata": {},
      "source": [
        "\u53ef\u4ee5\u53c2\u80037.8\u5c0f\u8282\u7684\u51e0\u4e2a\u793a\u4f8b\uff0c\u6559\u4f60\u5982\u4f55\u4f7f\u7528 partial() \u6765\u66f4\u6539\u53c2\u6570\u7b7e\u540d\u6765\u7b80\u5316\u4e0a\u8ff0\u4ee3\u7801\u3002"
      ]
    },
    {
      "cell_type": "markdown",
      "metadata": {},
      "source": [
        "## 7.11 \u5185\u8054\u56de\u8c03\u51fd\u6570\n"
      ]
    },
    {
      "cell_type": "markdown",
      "metadata": {},
      "source": [
        "### \u95ee\u9898\n"
      ]
    },
    {
      "cell_type": "markdown",
      "metadata": {},
      "source": [
        "\u5f53\u4f60\u7f16\u5199\u4f7f\u7528\u56de\u8c03\u51fd\u6570\u7684\u4ee3\u7801\u7684\u65f6\u5019\uff0c\u62c5\u5fc3\u5f88\u591a\u5c0f\u51fd\u6570\u7684\u6269\u5f20\u53ef\u80fd\u4f1a\u5f04\u4e71\u7a0b\u5e8f\u63a7\u5236\u6d41\u3002\n\u4f60\u5e0c\u671b\u627e\u5230\u67d0\u4e2a\u65b9\u6cd5\u6765\u8ba9\u4ee3\u7801\u770b\u4e0a\u53bb\u66f4\u50cf\u662f\u4e00\u4e2a\u666e\u901a\u7684\u6267\u884c\u5e8f\u5217\u3002"
      ]
    },
    {
      "cell_type": "markdown",
      "metadata": {},
      "source": [
        "### \u89e3\u51b3\u65b9\u6848\n"
      ]
    },
    {
      "cell_type": "markdown",
      "metadata": {},
      "source": [
        "\u901a\u8fc7\u4f7f\u7528\u751f\u6210\u5668\u548c\u534f\u7a0b\u53ef\u4ee5\u4f7f\u5f97\u56de\u8c03\u51fd\u6570\u5185\u8054\u5728\u67d0\u4e2a\u51fd\u6570\u4e2d\u3002\n\u4e3a\u4e86\u6f14\u793a\u8bf4\u660e\uff0c\u5047\u8bbe\u4f60\u6709\u5982\u4e0b\u6240\u793a\u7684\u4e00\u4e2a\u6267\u884c\u67d0\u79cd\u8ba1\u7b97\u4efb\u52a1\u7136\u540e\u8c03\u7528\u4e00\u4e2a\u56de\u8c03\u51fd\u6570\u7684\u51fd\u6570(\u53c2\u80037.10\u5c0f\u8282)\uff1a"
      ]
    },
    {
      "cell_type": "code",
      "execution_count": null,
      "metadata": {},
      "outputs": [],
      "source": [
        "d\ne\nf\n \na\np\np\nl\ny\n_\na\ns\ny\nn\nc\n(\nf\nu\nn\nc\n,\n \na\nr\ng\ns\n,\n \n*\n,\n \nc\na\nl\nl\nb\na\nc\nk\n)\n:\n\n\n \n \n \n \n#\n \nC\no\nm\np\nu\nt\ne\n \nt\nh\ne\n \nr\ne\ns\nu\nl\nt\n\n\n \n \n \n \nr\ne\ns\nu\nl\nt\n \n=\n \nf\nu\nn\nc\n(\n*\na\nr\ng\ns\n)\n\n\n\n\n \n \n \n \n#\n \nI\nn\nv\no\nk\ne\n \nt\nh\ne\n \nc\na\nl\nl\nb\na\nc\nk\n \nw\ni\nt\nh\n \nt\nh\ne\n \nr\ne\ns\nu\nl\nt\n\n\n \n \n \n \nc\na\nl\nl\nb\na\nc\nk\n(\nr\ne\ns\nu\nl\nt\n)\n\n"
      ]
    },
    {
      "cell_type": "markdown",
      "metadata": {},
      "source": [
        "\u63a5\u4e0b\u6765\u8ba9\u6211\u4eec\u770b\u4e00\u4e0b\u4e0b\u9762\u7684\u4ee3\u7801\uff0c\u5b83\u5305\u542b\u4e86\u4e00\u4e2a Async \u7c7b\u548c\u4e00\u4e2a inlined_async \u88c5\u9970\u5668\uff1a"
      ]
    },
    {
      "cell_type": "code",
      "execution_count": null,
      "metadata": {},
      "outputs": [],
      "source": [
        "f\nr\no\nm\n \nq\nu\ne\nu\ne\n \ni\nm\np\no\nr\nt\n \nQ\nu\ne\nu\ne\n\n\nf\nr\no\nm\n \nf\nu\nn\nc\nt\no\no\nl\ns\n \ni\nm\np\no\nr\nt\n \nw\nr\na\np\ns\n\n\n\n\nc\nl\na\ns\ns\n \nA\ns\ny\nn\nc\n:\n\n\n \n \n \n \nd\ne\nf\n \n_\n_\ni\nn\ni\nt\n_\n_\n(\ns\ne\nl\nf\n,\n \nf\nu\nn\nc\n,\n \na\nr\ng\ns\n)\n:\n\n\n \n \n \n \n \n \n \n \ns\ne\nl\nf\n.\nf\nu\nn\nc\n \n=\n \nf\nu\nn\nc\n\n\n \n \n \n \n \n \n \n \ns\ne\nl\nf\n.\na\nr\ng\ns\n \n=\n \na\nr\ng\ns\n\n\n\n\nd\ne\nf\n \ni\nn\nl\ni\nn\ne\nd\n_\na\ns\ny\nn\nc\n(\nf\nu\nn\nc\n)\n:\n\n\n \n \n \n \n@\nw\nr\na\np\ns\n(\nf\nu\nn\nc\n)\n\n\n \n \n \n \nd\ne\nf\n \nw\nr\na\np\np\ne\nr\n(\n*\na\nr\ng\ns\n)\n:\n\n\n \n \n \n \n \n \n \n \nf\n \n=\n \nf\nu\nn\nc\n(\n*\na\nr\ng\ns\n)\n\n\n \n \n \n \n \n \n \n \nr\ne\ns\nu\nl\nt\n_\nq\nu\ne\nu\ne\n \n=\n \nQ\nu\ne\nu\ne\n(\n)\n\n\n \n \n \n \n \n \n \n \nr\ne\ns\nu\nl\nt\n_\nq\nu\ne\nu\ne\n.\np\nu\nt\n(\nN\no\nn\ne\n)\n\n\n \n \n \n \n \n \n \n \nw\nh\ni\nl\ne\n \nT\nr\nu\ne\n:\n\n\n \n \n \n \n \n \n \n \n \n \n \n \nr\ne\ns\nu\nl\nt\n \n=\n \nr\ne\ns\nu\nl\nt\n_\nq\nu\ne\nu\ne\n.\ng\ne\nt\n(\n)\n\n\n \n \n \n \n \n \n \n \n \n \n \n \nt\nr\ny\n:\n\n\n \n \n \n \n \n \n \n \n \n \n \n \n \n \n \n \na\n \n=\n \nf\n.\ns\ne\nn\nd\n(\nr\ne\ns\nu\nl\nt\n)\n\n\n \n \n \n \n \n \n \n \n \n \n \n \n \n \n \n \na\np\np\nl\ny\n_\na\ns\ny\nn\nc\n(\na\n.\nf\nu\nn\nc\n,\n \na\n.\na\nr\ng\ns\n,\n \nc\na\nl\nl\nb\na\nc\nk\n=\nr\ne\ns\nu\nl\nt\n_\nq\nu\ne\nu\ne\n.\np\nu\nt\n)\n\n\n \n \n \n \n \n \n \n \n \n \n \n \ne\nx\nc\ne\np\nt\n \nS\nt\no\np\nI\nt\ne\nr\na\nt\ni\no\nn\n:\n\n\n \n \n \n \n \n \n \n \n \n \n \n \n \n \n \n \nb\nr\ne\na\nk\n\n\n \n \n \n \nr\ne\nt\nu\nr\nn\n \nw\nr\na\np\np\ne\nr\n\n"
      ]
    },
    {
      "cell_type": "markdown",
      "metadata": {},
      "source": [
        "\u8fd9\u4e24\u4e2a\u4ee3\u7801\u7247\u6bb5\u5141\u8bb8\u4f60\u4f7f\u7528 yield \u8bed\u53e5\u5185\u8054\u56de\u8c03\u6b65\u9aa4\u3002\u6bd4\u5982\uff1a"
      ]
    },
    {
      "cell_type": "code",
      "execution_count": null,
      "metadata": {},
      "outputs": [],
      "source": [
        "d\ne\nf\n \na\nd\nd\n(\nx\n,\n \ny\n)\n:\n\n\n \n \n \n \nr\ne\nt\nu\nr\nn\n \nx\n \n+\n \ny\n\n\n\n\n@\ni\nn\nl\ni\nn\ne\nd\n_\na\ns\ny\nn\nc\n\n\nd\ne\nf\n \nt\ne\ns\nt\n(\n)\n:\n\n\n \n \n \n \nr\n \n=\n \ny\ni\ne\nl\nd\n \nA\ns\ny\nn\nc\n(\na\nd\nd\n,\n \n(\n2\n,\n \n3\n)\n)\n\n\n \n \n \n \np\nr\ni\nn\nt\n(\nr\n)\n\n\n \n \n \n \nr\n \n=\n \ny\ni\ne\nl\nd\n \nA\ns\ny\nn\nc\n(\na\nd\nd\n,\n \n(\n'\nh\ne\nl\nl\no\n'\n,\n \n'\nw\no\nr\nl\nd\n'\n)\n)\n\n\n \n \n \n \np\nr\ni\nn\nt\n(\nr\n)\n\n\n \n \n \n \nf\no\nr\n \nn\n \ni\nn\n \nr\na\nn\ng\ne\n(\n1\n0\n)\n:\n\n\n \n \n \n \n \n \n \n \nr\n \n=\n \ny\ni\ne\nl\nd\n \nA\ns\ny\nn\nc\n(\na\nd\nd\n,\n \n(\nn\n,\n \nn\n)\n)\n\n\n \n \n \n \n \n \n \n \np\nr\ni\nn\nt\n(\nr\n)\n\n\n \n \n \n \np\nr\ni\nn\nt\n(\n'\nG\no\no\nd\nb\ny\ne\n'\n)\n\n"
      ]
    },
    {
      "cell_type": "markdown",
      "metadata": {},
      "source": [
        "\u5982\u679c\u4f60\u8c03\u7528 test() \uff0c\u4f60\u4f1a\u5f97\u5230\u7c7b\u4f3c\u5982\u4e0b\u7684\u8f93\u51fa\uff1a"
      ]
    },
    {
      "cell_type": "code",
      "execution_count": null,
      "metadata": {},
      "outputs": [],
      "source": [
        "5\n\n\nh\ne\nl\nl\no\nw\no\nr\nl\nd\n\n\n0\n\n\n2\n\n\n4\n\n\n6\n\n\n8\n\n\n1\n0\n\n\n1\n2\n\n\n1\n4\n\n\n1\n6\n\n\n1\n8\n\n\nG\no\no\nd\nb\ny\ne\n\n"
      ]
    },
    {
      "cell_type": "markdown",
      "metadata": {},
      "source": [
        "\u4f60\u4f1a\u53d1\u73b0\uff0c\u9664\u4e86\u90a3\u4e2a\u7279\u522b\u7684\u88c5\u9970\u5668\u548c yield \u8bed\u53e5\u5916\uff0c\u5176\u4ed6\u5730\u65b9\u5e76\u6ca1\u6709\u51fa\u73b0\u4efb\u4f55\u7684\u56de\u8c03\u51fd\u6570(\u5176\u5b9e\u662f\u5728\u540e\u53f0\u5b9a\u4e49\u7684)\u3002"
      ]
    },
    {
      "cell_type": "markdown",
      "metadata": {},
      "source": [
        "### \u8ba8\u8bba\n"
      ]
    },
    {
      "cell_type": "markdown",
      "metadata": {},
      "source": [
        "\u672c\u5c0f\u8282\u4f1a\u5b9e\u5b9e\u5728\u5728\u7684\u6d4b\u8bd5\u4f60\u5173\u4e8e\u56de\u8c03\u51fd\u6570\u3001\u751f\u6210\u5668\u548c\u63a7\u5236\u6d41\u7684\u77e5\u8bc6\u3002"
      ]
    },
    {
      "cell_type": "markdown",
      "metadata": {},
      "source": [
        "\u9996\u5148\uff0c\u5728\u9700\u8981\u4f7f\u7528\u5230\u56de\u8c03\u7684\u4ee3\u7801\u4e2d\uff0c\u5173\u952e\u70b9\u5728\u4e8e\u5f53\u524d\u8ba1\u7b97\u5de5\u4f5c\u4f1a\u6302\u8d77\u5e76\u5728\u5c06\u6765\u7684\u67d0\u4e2a\u65f6\u5019\u91cd\u542f(\u6bd4\u5982\u5f02\u6b65\u6267\u884c)\u3002\n\u5f53\u8ba1\u7b97\u91cd\u542f\u65f6\uff0c\u56de\u8c03\u51fd\u6570\u88ab\u8c03\u7528\u6765\u7ee7\u7eed\u5904\u7406\u7ed3\u679c\u3002apply_async() \u51fd\u6570\u6f14\u793a\u4e86\u6267\u884c\u56de\u8c03\u7684\u5b9e\u9645\u903b\u8f91\uff0c\n\u5c3d\u7ba1\u5b9e\u9645\u60c5\u51b5\u4e2d\u5b83\u53ef\u80fd\u4f1a\u66f4\u52a0\u590d\u6742(\u5305\u62ec\u7ebf\u7a0b\u3001\u8fdb\u7a0b\u3001\u4e8b\u4ef6\u5904\u7406\u5668\u7b49\u7b49)\u3002"
      ]
    },
    {
      "cell_type": "markdown",
      "metadata": {},
      "source": [
        "\u8ba1\u7b97\u7684\u6682\u505c\u4e0e\u91cd\u542f\u601d\u8def\u8ddf\u751f\u6210\u5668\u51fd\u6570\u7684\u6267\u884c\u6a21\u578b\u4e0d\u8c0b\u800c\u5408\u3002\n\u5177\u4f53\u6765\u8bb2\uff0cyield \u64cd\u4f5c\u4f1a\u4f7f\u4e00\u4e2a\u751f\u6210\u5668\u51fd\u6570\u4ea7\u751f\u4e00\u4e2a\u503c\u5e76\u6682\u505c\u3002\n\u63a5\u4e0b\u6765\u8c03\u7528\u751f\u6210\u5668\u7684 __next__() \u6216 send() \u65b9\u6cd5\u53c8\u4f1a\u8ba9\u5b83\u4ece\u6682\u505c\u5904\u7ee7\u7eed\u6267\u884c\u3002"
      ]
    },
    {
      "cell_type": "markdown",
      "metadata": {},
      "source": [
        "\u6839\u636e\u8fd9\u4e2a\u601d\u8def\uff0c\u8fd9\u4e00\u5c0f\u8282\u7684\u6838\u5fc3\u5c31\u5728 inline_async() \u88c5\u9970\u5668\u51fd\u6570\u4e2d\u4e86\u3002\n\u5173\u952e\u70b9\u5c31\u662f\uff0c\u88c5\u9970\u5668\u4f1a\u9010\u6b65\u904d\u5386\u751f\u6210\u5668\u51fd\u6570\u7684\u6240\u6709 yield \u8bed\u53e5\uff0c\u6bcf\u4e00\u6b21\u4e00\u4e2a\u3002\n\u4e3a\u4e86\u8fd9\u6837\u505a\uff0c\u521a\u5f00\u59cb\u7684\u65f6\u5019\u521b\u5efa\u4e86\u4e00\u4e2a result \u961f\u5217\u5e76\u5411\u91cc\u9762\u653e\u5165\u4e00\u4e2a None \u503c\u3002\n\u7136\u540e\u5f00\u59cb\u4e00\u4e2a\u5faa\u73af\u64cd\u4f5c\uff0c\u4ece\u961f\u5217\u4e2d\u53d6\u51fa\u7ed3\u679c\u503c\u5e76\u53d1\u9001\u7ed9\u751f\u6210\u5668\uff0c\u5b83\u4f1a\u6301\u7eed\u5230\u4e0b\u4e00\u4e2a yield \u8bed\u53e5\uff0c\n\u5728\u8fd9\u91cc\u4e00\u4e2a Async \u7684\u5b9e\u4f8b\u88ab\u63a5\u53d7\u5230\u3002\u7136\u540e\u5faa\u73af\u5f00\u59cb\u68c0\u67e5\u51fd\u6570\u548c\u53c2\u6570\uff0c\u5e76\u5f00\u59cb\u8fdb\u884c\u5f02\u6b65\u8ba1\u7b97 apply_async() \u3002\n\u7136\u800c\uff0c\u8fd9\u4e2a\u8ba1\u7b97\u6709\u4e2a\u6700\u8be1\u5f02\u90e8\u5206\u662f\u5b83\u5e76\u6ca1\u6709\u4f7f\u7528\u4e00\u4e2a\u666e\u901a\u7684\u56de\u8c03\u51fd\u6570\uff0c\u800c\u662f\u7528\u961f\u5217\u7684 put() \u65b9\u6cd5\u6765\u56de\u8c03\u3002"
      ]
    },
    {
      "cell_type": "markdown",
      "metadata": {},
      "source": [
        "\u8fd9\u65f6\u5019\uff0c\u662f\u65f6\u5019\u8be6\u7ec6\u89e3\u91ca\u4e0b\u5230\u5e95\u53d1\u751f\u4e86\u4ec0\u4e48\u4e86\u3002\u4e3b\u5faa\u73af\u7acb\u5373\u8fd4\u56de\u9876\u90e8\u5e76\u5728\u961f\u5217\u4e0a\u6267\u884c get() \u64cd\u4f5c\u3002\n\u5982\u679c\u6570\u636e\u5b58\u5728\uff0c\u5b83\u4e00\u5b9a\u662f put() \u56de\u8c03\u5b58\u653e\u7684\u7ed3\u679c\u3002\u5982\u679c\u6ca1\u6709\u6570\u636e\uff0c\u90a3\u4e48\u5148\u6682\u505c\u64cd\u4f5c\u5e76\u7b49\u5f85\u7ed3\u679c\u7684\u5230\u6765\u3002\n\u8fd9\u4e2a\u5177\u4f53\u600e\u6837\u5b9e\u73b0\u662f\u7531 apply_async() \u51fd\u6570\u6765\u51b3\u5b9a\u7684\u3002\n\u5982\u679c\u4f60\u4e0d\u76f8\u4fe1\u4f1a\u6709\u8fd9\u4e48\u795e\u5947\u7684\u4e8b\u60c5\uff0c\u4f60\u53ef\u4ee5\u4f7f\u7528 multiprocessing \u5e93\u6765\u8bd5\u4e00\u4e0b\uff0c\n\u5728\u5355\u72ec\u7684\u8fdb\u7a0b\u4e2d\u6267\u884c\u5f02\u6b65\u8ba1\u7b97\u64cd\u4f5c\uff0c\u5982\u4e0b\u6240\u793a\uff1a"
      ]
    },
    {
      "cell_type": "code",
      "execution_count": null,
      "metadata": {},
      "outputs": [],
      "source": [
        "i\nf\n \n_\n_\nn\na\nm\ne\n_\n_\n \n=\n=\n \n'\n_\n_\nm\na\ni\nn\n_\n_\n'\n:\n\n\n \n \n \n \ni\nm\np\no\nr\nt\n \nm\nu\nl\nt\ni\np\nr\no\nc\ne\ns\ns\ni\nn\ng\n\n\n \n \n \n \np\no\no\nl\n \n=\n \nm\nu\nl\nt\ni\np\nr\no\nc\ne\ns\ns\ni\nn\ng\n.\nP\no\no\nl\n(\n)\n\n\n \n \n \n \na\np\np\nl\ny\n_\na\ns\ny\nn\nc\n \n=\n \np\no\no\nl\n.\na\np\np\nl\ny\n_\na\ns\ny\nn\nc\n\n\n\n\n \n \n \n \n#\n \nR\nu\nn\n \nt\nh\ne\n \nt\ne\ns\nt\n \nf\nu\nn\nc\nt\ni\no\nn\n\n\n \n \n \n \nt\ne\ns\nt\n(\n)\n\n"
      ]
    },
    {
      "cell_type": "markdown",
      "metadata": {},
      "source": [
        "\u5b9e\u9645\u4e0a\u4f60\u4f1a\u53d1\u73b0\u8fd9\u4e2a\u771f\u7684\u5c31\u662f\u8fd9\u6837\u7684\uff0c\u4f46\u662f\u8981\u89e3\u91ca\u6e05\u695a\u5177\u4f53\u7684\u63a7\u5236\u6d41\u5f97\u9700\u8981\u70b9\u65f6\u95f4\u4e86\u3002"
      ]
    },
    {
      "cell_type": "markdown",
      "metadata": {},
      "source": [
        "\u5c06\u590d\u6742\u7684\u63a7\u5236\u6d41\u9690\u85cf\u5230\u751f\u6210\u5668\u51fd\u6570\u80cc\u540e\u7684\u4f8b\u5b50\u5728\u6807\u51c6\u5e93\u548c\u7b2c\u4e09\u65b9\u5305\u4e2d\u90fd\u80fd\u770b\u5230\u3002\n\u6bd4\u5982\uff0c\u5728 contextlib \u4e2d\u7684 @contextmanager \u88c5\u9970\u5668\u4f7f\u7528\u4e86\u4e00\u4e2a\u4ee4\u4eba\u8d39\u89e3\u7684\u6280\u5de7\uff0c\n\u901a\u8fc7\u4e00\u4e2a yield \u8bed\u53e5\u5c06\u8fdb\u5165\u548c\u79bb\u5f00\u4e0a\u4e0b\u6587\u7ba1\u7406\u5668\u7c98\u5408\u5728\u4e00\u8d77\u3002\n\u53e6\u5916\u975e\u5e38\u6d41\u884c\u7684 Twisted \u5305\u4e2d\u4e5f\u5305\u542b\u4e86\u975e\u5e38\u7c7b\u4f3c\u7684\u5185\u8054\u56de\u8c03\u3002"
      ]
    },
    {
      "cell_type": "markdown",
      "metadata": {},
      "source": [
        "## 7.12 \u8bbf\u95ee\u95ed\u5305\u4e2d\u5b9a\u4e49\u7684\u53d8\u91cf\n"
      ]
    },
    {
      "cell_type": "markdown",
      "metadata": {},
      "source": [
        "### \u95ee\u9898\n"
      ]
    },
    {
      "cell_type": "markdown",
      "metadata": {},
      "source": [
        "\u4f60\u60f3\u8981\u6269\u5c55\u51fd\u6570\u4e2d\u7684\u67d0\u4e2a\u95ed\u5305\uff0c\u5141\u8bb8\u5b83\u80fd\u8bbf\u95ee\u548c\u4fee\u6539\u51fd\u6570\u7684\u5185\u90e8\u53d8\u91cf\u3002"
      ]
    },
    {
      "cell_type": "markdown",
      "metadata": {},
      "source": [
        "### \u89e3\u51b3\u65b9\u6848\n"
      ]
    },
    {
      "cell_type": "markdown",
      "metadata": {},
      "source": [
        "\u901a\u5e38\u6765\u8bb2\uff0c\u95ed\u5305\u7684\u5185\u90e8\u53d8\u91cf\u5bf9\u4e8e\u5916\u754c\u6765\u8bb2\u662f\u5b8c\u5168\u9690\u85cf\u7684\u3002\n\u4f46\u662f\uff0c\u4f60\u53ef\u4ee5\u901a\u8fc7\u7f16\u5199\u8bbf\u95ee\u51fd\u6570\u5e76\u5c06\u5176\u4f5c\u4e3a\u51fd\u6570\u5c5e\u6027\u7ed1\u5b9a\u5230\u95ed\u5305\u4e0a\u6765\u5b9e\u73b0\u8fd9\u4e2a\u76ee\u7684\u3002\u4f8b\u5982\uff1a"
      ]
    },
    {
      "cell_type": "code",
      "execution_count": null,
      "metadata": {},
      "outputs": [],
      "source": [
        "d\ne\nf\n \ns\na\nm\np\nl\ne\n(\n)\n:\n\n\n \n \n \n \nn\n \n=\n \n0\n\n\n \n \n \n \n#\n \nC\nl\no\ns\nu\nr\ne\n \nf\nu\nn\nc\nt\ni\no\nn\n\n\n \n \n \n \nd\ne\nf\n \nf\nu\nn\nc\n(\n)\n:\n\n\n \n \n \n \n \n \n \n \np\nr\ni\nn\nt\n(\n'\nn\n=\n'\n,\n \nn\n)\n\n\n\n\n \n \n \n \n#\n \nA\nc\nc\ne\ns\ns\no\nr\n \nm\ne\nt\nh\no\nd\ns\n \nf\no\nr\n \nn\n\n\n \n \n \n \nd\ne\nf\n \ng\ne\nt\n_\nn\n(\n)\n:\n\n\n \n \n \n \n \n \n \n \nr\ne\nt\nu\nr\nn\n \nn\n\n\n\n\n \n \n \n \nd\ne\nf\n \ns\ne\nt\n_\nn\n(\nv\na\nl\nu\ne\n)\n:\n\n\n \n \n \n \n \n \n \n \nn\no\nn\nl\no\nc\na\nl\n \nn\n\n\n \n \n \n \n \n \n \n \nn\n \n=\n \nv\na\nl\nu\ne\n\n\n\n\n \n \n \n \n#\n \nA\nt\nt\na\nc\nh\n \na\ns\n \nf\nu\nn\nc\nt\ni\no\nn\n \na\nt\nt\nr\ni\nb\nu\nt\ne\ns\n\n\n \n \n \n \nf\nu\nn\nc\n.\ng\ne\nt\n_\nn\n \n=\n \ng\ne\nt\n_\nn\n\n\n \n \n \n \nf\nu\nn\nc\n.\ns\ne\nt\n_\nn\n \n=\n \ns\ne\nt\n_\nn\n\n\n \n \n \n \nr\ne\nt\nu\nr\nn\n \nf\nu\nn\nc\n\n"
      ]
    },
    {
      "cell_type": "markdown",
      "metadata": {},
      "source": [
        "\u4e0b\u9762\u662f\u4f7f\u7528\u7684\u4f8b\u5b50:"
      ]
    },
    {
      "cell_type": "code",
      "execution_count": null,
      "metadata": {},
      "outputs": [],
      "source": [
        "f = sample()\nf()"
      ]
    },
    {
      "cell_type": "code",
      "execution_count": null,
      "metadata": {},
      "outputs": [],
      "source": [
        "f.set_n(10)\nf()"
      ]
    },
    {
      "cell_type": "code",
      "execution_count": null,
      "metadata": {},
      "outputs": [],
      "source": [
        "f.get_n()"
      ]
    },
    {
      "cell_type": "markdown",
      "metadata": {},
      "source": [
        "### \u8ba8\u8bba\n"
      ]
    },
    {
      "cell_type": "markdown",
      "metadata": {},
      "source": [
        "\u4e3a\u4e86\u8bf4\u660e\u6e05\u695a\u5b83\u5982\u4f55\u5de5\u4f5c\u7684\uff0c\u6709\u4e24\u70b9\u9700\u8981\u89e3\u91ca\u4e00\u4e0b\u3002\u9996\u5148\uff0cnonlocal \u58f0\u660e\u53ef\u4ee5\u8ba9\u6211\u4eec\u7f16\u5199\u51fd\u6570\u6765\u4fee\u6539\u5185\u90e8\u53d8\u91cf\u7684\u503c\u3002\n\u5176\u6b21\uff0c\u51fd\u6570\u5c5e\u6027\u5141\u8bb8\u6211\u4eec\u7528\u4e00\u79cd\u5f88\u7b80\u5355\u7684\u65b9\u5f0f\u5c06\u8bbf\u95ee\u65b9\u6cd5\u7ed1\u5b9a\u5230\u95ed\u5305\u51fd\u6570\u4e0a\uff0c\u8fd9\u4e2a\u8ddf\u5b9e\u4f8b\u65b9\u6cd5\u5f88\u50cf(\u5c3d\u7ba1\u5e76\u6ca1\u6709\u5b9a\u4e49\u4efb\u4f55\u7c7b)\u3002"
      ]
    },
    {
      "cell_type": "markdown",
      "metadata": {},
      "source": [
        "\u8fd8\u53ef\u4ee5\u8fdb\u4e00\u6b65\u7684\u6269\u5c55\uff0c\u8ba9\u95ed\u5305\u6a21\u62df\u7c7b\u7684\u5b9e\u4f8b\u3002\u4f60\u8981\u505a\u7684\u4ec5\u4ec5\u662f\u590d\u5236\u4e0a\u9762\u7684\u5185\u90e8\u51fd\u6570\u5230\u4e00\u4e2a\u5b57\u5178\u5b9e\u4f8b\u4e2d\u5e76\u8fd4\u56de\u5b83\u5373\u53ef\u3002\u4f8b\u5982\uff1a"
      ]
    },
    {
      "cell_type": "code",
      "execution_count": null,
      "metadata": {},
      "outputs": [],
      "source": [
        "i\nm\np\no\nr\nt\n \ns\ny\ns\n\n\nc\nl\na\ns\ns\n \nC\nl\no\ns\nu\nr\ne\nI\nn\ns\nt\na\nn\nc\ne\n:\n\n\n \n \n \n \nd\ne\nf\n \n_\n_\ni\nn\ni\nt\n_\n_\n(\ns\ne\nl\nf\n,\n \nl\no\nc\na\nl\ns\n=\nN\no\nn\ne\n)\n:\n\n\n \n \n \n \n \n \n \n \ni\nf\n \nl\no\nc\na\nl\ns\n \ni\ns\n \nN\no\nn\ne\n:\n\n\n \n \n \n \n \n \n \n \n \n \n \n \nl\no\nc\na\nl\ns\n \n=\n \ns\ny\ns\n.\n_\ng\ne\nt\nf\nr\na\nm\ne\n(\n1\n)\n.\nf\n_\nl\no\nc\na\nl\ns\n\n\n\n\n \n \n \n \n \n \n \n \n#\n \nU\np\nd\na\nt\ne\n \ni\nn\ns\nt\na\nn\nc\ne\n \nd\ni\nc\nt\ni\no\nn\na\nr\ny\n \nw\ni\nt\nh\n \nc\na\nl\nl\na\nb\nl\ne\ns\n\n\n \n \n \n \n \n \n \n \ns\ne\nl\nf\n.\n_\n_\nd\ni\nc\nt\n_\n_\n.\nu\np\nd\na\nt\ne\n(\n(\nk\ne\ny\n,\nv\na\nl\nu\ne\n)\n \nf\no\nr\n \nk\ne\ny\n,\n \nv\na\nl\nu\ne\n \ni\nn\n \nl\no\nc\na\nl\ns\n.\ni\nt\ne\nm\ns\n(\n)\n\n\n \n \n \n \n \n \n \n \n \n \n \n \n \n \n \n \n \n \n \n \n \n \n \n \n \n \n \n \ni\nf\n \nc\na\nl\nl\na\nb\nl\ne\n(\nv\na\nl\nu\ne\n)\n \n)\n\n\n \n \n \n \n#\n \nR\ne\nd\ni\nr\ne\nc\nt\n \ns\np\ne\nc\ni\na\nl\n \nm\ne\nt\nh\no\nd\ns\n\n\n \n \n \n \nd\ne\nf\n \n_\n_\nl\ne\nn\n_\n_\n(\ns\ne\nl\nf\n)\n:\n\n\n \n \n \n \n \n \n \n \nr\ne\nt\nu\nr\nn\n \ns\ne\nl\nf\n.\n_\n_\nd\ni\nc\nt\n_\n_\n[\n'\n_\n_\nl\ne\nn\n_\n_\n'\n]\n(\n)\n\n\n\n\n#\n \nE\nx\na\nm\np\nl\ne\n \nu\ns\ne\n\n\nd\ne\nf\n \nS\nt\na\nc\nk\n(\n)\n:\n\n\n \n \n \n \ni\nt\ne\nm\ns\n \n=\n \n[\n]\n\n\n \n \n \n \nd\ne\nf\n \np\nu\ns\nh\n(\ni\nt\ne\nm\n)\n:\n\n\n \n \n \n \n \n \n \n \ni\nt\ne\nm\ns\n.\na\np\np\ne\nn\nd\n(\ni\nt\ne\nm\n)\n\n\n\n\n \n \n \n \nd\ne\nf\n \np\no\np\n(\n)\n:\n\n\n \n \n \n \n \n \n \n \nr\ne\nt\nu\nr\nn\n \ni\nt\ne\nm\ns\n.\np\no\np\n(\n)\n\n\n\n\n \n \n \n \nd\ne\nf\n \n_\n_\nl\ne\nn\n_\n_\n(\n)\n:\n\n\n \n \n \n \n \n \n \n \nr\ne\nt\nu\nr\nn\n \nl\ne\nn\n(\ni\nt\ne\nm\ns\n)\n\n\n\n\n \n \n \n \nr\ne\nt\nu\nr\nn\n \nC\nl\no\ns\nu\nr\ne\nI\nn\ns\nt\na\nn\nc\ne\n(\n)\n\n"
      ]
    },
    {
      "cell_type": "markdown",
      "metadata": {},
      "source": [
        "\u4e0b\u9762\u662f\u4e00\u4e2a\u4ea4\u4e92\u5f0f\u4f1a\u8bdd\u6765\u6f14\u793a\u5b83\u662f\u5982\u4f55\u5de5\u4f5c\u7684\uff1a"
      ]
    },
    {
      "cell_type": "code",
      "execution_count": null,
      "metadata": {},
      "outputs": [],
      "source": [
        "s = Stack()\ns"
      ]
    },
    {
      "cell_type": "code",
      "execution_count": null,
      "metadata": {},
      "outputs": [],
      "source": [
        "s.push(10)\ns.push(20)\ns.push('Hello')\nlen(s)"
      ]
    },
    {
      "cell_type": "code",
      "execution_count": null,
      "metadata": {},
      "outputs": [],
      "source": [
        "s.pop()"
      ]
    },
    {
      "cell_type": "code",
      "execution_count": null,
      "metadata": {},
      "outputs": [],
      "source": [
        "s.pop()"
      ]
    },
    {
      "cell_type": "code",
      "execution_count": null,
      "metadata": {},
      "outputs": [],
      "source": [
        "s.pop()"
      ]
    },
    {
      "cell_type": "markdown",
      "metadata": {},
      "source": [
        "\u6709\u8da3\u7684\u662f\uff0c\u8fd9\u4e2a\u4ee3\u7801\u8fd0\u884c\u8d77\u6765\u4f1a\u6bd4\u4e00\u4e2a\u666e\u901a\u7684\u7c7b\u5b9a\u4e49\u8981\u5feb\u5f88\u591a\u3002\u4f60\u53ef\u80fd\u4f1a\u50cf\u4e0b\u9762\u8fd9\u6837\u6d4b\u8bd5\u5b83\u8ddf\u4e00\u4e2a\u7c7b\u7684\u6027\u80fd\u5bf9\u6bd4\uff1a"
      ]
    },
    {
      "cell_type": "code",
      "execution_count": null,
      "metadata": {},
      "outputs": [],
      "source": [
        "c\nl\na\ns\ns\n \nS\nt\na\nc\nk\n2\n:\n\n\n \n \n \n \nd\ne\nf\n \n_\n_\ni\nn\ni\nt\n_\n_\n(\ns\ne\nl\nf\n)\n:\n\n\n \n \n \n \n \n \n \n \ns\ne\nl\nf\n.\ni\nt\ne\nm\ns\n \n=\n \n[\n]\n\n\n\n\n \n \n \n \nd\ne\nf\n \np\nu\ns\nh\n(\ns\ne\nl\nf\n,\n \ni\nt\ne\nm\n)\n:\n\n\n \n \n \n \n \n \n \n \ns\ne\nl\nf\n.\ni\nt\ne\nm\ns\n.\na\np\np\ne\nn\nd\n(\ni\nt\ne\nm\n)\n\n\n\n\n \n \n \n \nd\ne\nf\n \np\no\np\n(\ns\ne\nl\nf\n)\n:\n\n\n \n \n \n \n \n \n \n \nr\ne\nt\nu\nr\nn\n \ns\ne\nl\nf\n.\ni\nt\ne\nm\ns\n.\np\no\np\n(\n)\n\n\n\n\n \n \n \n \nd\ne\nf\n \n_\n_\nl\ne\nn\n_\n_\n(\ns\ne\nl\nf\n)\n:\n\n\n \n \n \n \n \n \n \n \nr\ne\nt\nu\nr\nn\n \nl\ne\nn\n(\ns\ne\nl\nf\n.\ni\nt\ne\nm\ns\n)\n\n"
      ]
    },
    {
      "cell_type": "markdown",
      "metadata": {},
      "source": [
        "\u5982\u679c\u8fd9\u6837\u505a\uff0c\u4f60\u4f1a\u5f97\u5230\u7c7b\u4f3c\u5982\u4e0b\u7684\u7ed3\u679c\uff1a"
      ]
    },
    {
      "cell_type": "code",
      "execution_count": null,
      "metadata": {},
      "outputs": [],
      "source": [
        "from timeit import timeit\n# Test involving closures\ns = Stack()\ntimeit('s.push(1);s.pop()', 'from __main__ import s')"
      ]
    },
    {
      "cell_type": "code",
      "execution_count": null,
      "metadata": {},
      "outputs": [],
      "source": [
        "# Test involving a class\ns = Stack2()\ntimeit('s.push(1);s.pop()', 'from __main__ import s')"
      ]
    },
    {
      "cell_type": "markdown",
      "metadata": {},
      "source": [
        "\u7ed3\u679c\u663e\u793a\uff0c\u95ed\u5305\u7684\u65b9\u6848\u8fd0\u884c\u8d77\u6765\u8981\u5feb\u5927\u69828%\uff0c\u5927\u90e8\u5206\u539f\u56e0\u662f\u56e0\u4e3a\u5bf9\u5b9e\u4f8b\u53d8\u91cf\u7684\u7b80\u5316\u8bbf\u95ee\uff0c\n\u95ed\u5305\u66f4\u5feb\u662f\u56e0\u4e3a\u4e0d\u4f1a\u6d89\u53ca\u5230\u989d\u5916\u7684self\u53d8\u91cf\u3002"
      ]
    },
    {
      "cell_type": "markdown",
      "metadata": {},
      "source": [
        "Raymond Hettinger\u5bf9\u4e8e\u8fd9\u4e2a\u95ee\u9898\u8bbe\u8ba1\u51fa\u4e86\u66f4\u52a0\u96be\u4ee5\u7406\u89e3\u7684\u6539\u8fdb\u65b9\u6848\u3002\u4e0d\u8fc7\uff0c\u4f60\u5f97\u8003\u8651\u4e0b\u662f\u5426\u771f\u7684\u9700\u8981\u5728\u4f60\u4ee3\u7801\u4e2d\u8fd9\u6837\u505a\uff0c\n\u800c\u4e14\u5b83\u53ea\u662f\u771f\u5b9e\u7c7b\u7684\u4e00\u4e2a\u5947\u602a\u7684\u66ff\u6362\u800c\u5df2\uff0c\u4f8b\u5982\uff0c\u7c7b\u7684\u4e3b\u8981\u7279\u6027\u5982\u7ee7\u627f\u3001\u5c5e\u6027\u3001\u63cf\u8ff0\u5668\u6216\u7c7b\u65b9\u6cd5\u90fd\u662f\u4e0d\u80fd\u7528\u7684\u3002\n\u5e76\u4e14\u4f60\u8981\u505a\u4e00\u4e9b\u5176\u4ed6\u7684\u5de5\u4f5c\u624d\u80fd\u8ba9\u4e00\u4e9b\u7279\u6b8a\u65b9\u6cd5\u751f\u6548(\u6bd4\u5982\u4e0a\u9762 ClosureInstance \u4e2d\u91cd\u5199\u8fc7\u7684 __len__() \u5b9e\u73b0\u3002)"
      ]
    },
    {
      "cell_type": "markdown",
      "metadata": {},
      "source": [
        "\u6700\u540e\uff0c\u4f60\u53ef\u80fd\u8fd8\u4f1a\u8ba9\u5176\u4ed6\u9605\u8bfb\u4f60\u4ee3\u7801\u7684\u4eba\u611f\u5230\u7591\u60d1\uff0c\u4e3a\u4ec0\u4e48\u5b83\u770b\u8d77\u6765\u4e0d\u50cf\u4e00\u4e2a\u666e\u901a\u7684\u7c7b\u5b9a\u4e49\u5462\uff1f\n(\u5f53\u7136\uff0c\u4ed6\u4eec\u4e5f\u60f3\u77e5\u9053\u4e3a\u4ec0\u4e48\u5b83\u8fd0\u884c\u8d77\u6765\u4f1a\u66f4\u5feb)\u3002\u5c3d\u7ba1\u5982\u6b64\uff0c\u8fd9\u5bf9\u4e8e\u600e\u6837\u8bbf\u95ee\u95ed\u5305\u7684\u5185\u90e8\u53d8\u91cf\u4e5f\u4e0d\u5931\u4e3a\u4e00\u4e2a\u6709\u8da3\u7684\u4f8b\u5b50\u3002"
      ]
    },
    {
      "cell_type": "markdown",
      "metadata": {},
      "source": [
        "\u603b\u4f53\u4e0a\u8bb2\uff0c\u5728\u914d\u7f6e\u7684\u65f6\u5019\u7ed9\u95ed\u5305\u6dfb\u52a0\u65b9\u6cd5\u4f1a\u6709\u66f4\u591a\u7684\u5b9e\u7528\u529f\u80fd\uff0c\n\u6bd4\u5982\u4f60\u9700\u8981\u91cd\u7f6e\u5185\u90e8\u72b6\u6001\u3001\u5237\u65b0\u7f13\u51b2\u533a\u3001\u6e05\u9664\u7f13\u5b58\u6216\u5176\u4ed6\u7684\u53cd\u9988\u673a\u5236\u7684\u65f6\u5019\u3002"
      ]
    }
  ],
  "metadata": {
    "kernelspec": {
      "display_name": "Python 3",
      "language": "python",
      "name": "python3"
    },
    "language_info": {
      "codemirror_mode": {
        "name": "ipython",
        "version": 3
      },
      "file_extension": ".py",
      "mimetype": "text/x-python",
      "name": "python",
      "nbconvert_exporter": "python",
      "pygments_lexer": "ipython3",
      "version": "3.7.1"
    },
    "toc": {
      "base_numbering": 1,
      "nav_menu": {},
      "number_sections": true,
      "sideBar": true,
      "skip_h1_title": true,
      "title_cell": "Table of Contents",
      "title_sidebar": "Contents",
      "toc_cell": false,
      "toc_position": {},
      "toc_section_display": true,
      "toc_window_display": true
    }
  },
  "nbformat": 4,
  "nbformat_minor": 2
}