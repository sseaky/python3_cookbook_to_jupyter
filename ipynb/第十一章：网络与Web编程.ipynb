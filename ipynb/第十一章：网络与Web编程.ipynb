{
  "cells": [
    {
      "cell_type": "markdown",
      "metadata": {},
      "source": [
        "# \u7b2c\u5341\u4e00\u7ae0\uff1a\u7f51\u7edc\u4e0eWeb\u7f16\u7a0b\n \u672c\u7ae0\u662f\u5173\u4e8e\u5728\u7f51\u7edc\u5e94\u7528\u548c\u5206\u5e03\u5f0f\u5e94\u7528\u4e2d\u4f7f\u7528\u7684\u5404\u79cd\u4e3b\u9898\u3002\u4e3b\u9898\u5212\u5206\u4e3a\u4f7f\u7528Python\u7f16\u5199\u5ba2\u6237\u7aef\u7a0b\u5e8f\u6765\u8bbf\u95ee\u5df2\u6709\u7684\u670d\u52a1\uff0c\u4ee5\u53ca\u4f7f\u7528Python\u5b9e\u73b0\u7f51\u7edc\u670d\u52a1\u7aef\u7a0b\u5e8f\u3002\u4e5f\u7ed9\u51fa\u4e86\u4e00\u4e9b\u5e38\u89c1\u7684\u6280\u672f\uff0c\u7528\u4e8e\u7f16\u5199\u6d89\u53ca\u534f\u540c\u6216\u901a\u4fe1\u7684\u7684\u4ee3\u7801\u3002"
      ]
    },
    {
      "cell_type": "markdown",
      "metadata": {},
      "source": [
        "## 11.1 \u4f5c\u4e3a\u5ba2\u6237\u7aef\u4e0eHTTP\u670d\u52a1\u4ea4\u4e92\n"
      ]
    },
    {
      "cell_type": "markdown",
      "metadata": {},
      "source": [
        "### \u95ee\u9898\n"
      ]
    },
    {
      "cell_type": "markdown",
      "metadata": {},
      "source": [
        "\u4f60\u9700\u8981\u901a\u8fc7HTTP\u534f\u8bae\u4ee5\u5ba2\u6237\u7aef\u7684\u65b9\u5f0f\u8bbf\u95ee\u591a\u79cd\u670d\u52a1\u3002\u4f8b\u5982\uff0c\u4e0b\u8f7d\u6570\u636e\u6216\u8005\u4e0e\u57fa\u4e8eREST\u7684API\u8fdb\u884c\u4ea4\u4e92\u3002"
      ]
    },
    {
      "cell_type": "markdown",
      "metadata": {},
      "source": [
        "### \u89e3\u51b3\u65b9\u6848\n"
      ]
    },
    {
      "cell_type": "markdown",
      "metadata": {},
      "source": [
        "\u5bf9\u4e8e\u7b80\u5355\u7684\u4e8b\u60c5\u6765\u8bf4\uff0c\u901a\u5e38\u4f7f\u7528 urllib.request \u6a21\u5757\u5c31\u591f\u4e86\u3002\u4f8b\u5982\uff0c\u53d1\u9001\u4e00\u4e2a\u7b80\u5355\u7684HTTP GET\u8bf7\u6c42\u5230\u8fdc\u7a0b\u7684\u670d\u52a1\u4e0a\uff0c\u53ef\u4ee5\u8fd9\u6837\u505a\uff1a"
      ]
    },
    {
      "cell_type": "code",
      "execution_count": null,
      "metadata": {},
      "outputs": [],
      "source": [
        "f\nr\no\nm\n \nu\nr\nl\nl\ni\nb\n \ni\nm\np\no\nr\nt\n \nr\ne\nq\nu\ne\ns\nt\n,\n \np\na\nr\ns\ne\n\n\n\n\n#\n \nB\na\ns\ne\n \nU\nR\nL\n \nb\ne\ni\nn\ng\n \na\nc\nc\ne\ns\ns\ne\nd\n\n\nu\nr\nl\n \n=\n \n'\nh\nt\nt\np\n:\n/\n/\nh\nt\nt\np\nb\ni\nn\n.\no\nr\ng\n/\ng\ne\nt\n'\n\n\n\n\n#\n \nD\ni\nc\nt\ni\no\nn\na\nr\ny\n \no\nf\n \nq\nu\ne\nr\ny\n \np\na\nr\na\nm\ne\nt\ne\nr\ns\n \n(\ni\nf\n \na\nn\ny\n)\n\n\np\na\nr\nm\ns\n \n=\n \n{\n\n\n \n \n \n'\nn\na\nm\ne\n1\n'\n \n:\n \n'\nv\na\nl\nu\ne\n1\n'\n,\n\n\n \n \n \n'\nn\na\nm\ne\n2\n'\n \n:\n \n'\nv\na\nl\nu\ne\n2\n'\n\n\n}\n\n\n\n\n#\n \nE\nn\nc\no\nd\ne\n \nt\nh\ne\n \nq\nu\ne\nr\ny\n \ns\nt\nr\ni\nn\ng\n\n\nq\nu\ne\nr\ny\ns\nt\nr\ni\nn\ng\n \n=\n \np\na\nr\ns\ne\n.\nu\nr\nl\ne\nn\nc\no\nd\ne\n(\np\na\nr\nm\ns\n)\n\n\n\n\n#\n \nM\na\nk\ne\n \na\n \nG\nE\nT\n \nr\ne\nq\nu\ne\ns\nt\n \na\nn\nd\n \nr\ne\na\nd\n \nt\nh\ne\n \nr\ne\ns\np\no\nn\ns\ne\n\n\nu\n \n=\n \nr\ne\nq\nu\ne\ns\nt\n.\nu\nr\nl\no\np\ne\nn\n(\nu\nr\nl\n+\n'\n?\n'\n \n+\n \nq\nu\ne\nr\ny\ns\nt\nr\ni\nn\ng\n)\n\n\nr\ne\ns\np\n \n=\n \nu\n.\nr\ne\na\nd\n(\n)\n\n"
      ]
    },
    {
      "cell_type": "markdown",
      "metadata": {},
      "source": [
        "\u5982\u679c\u4f60\u9700\u8981\u4f7f\u7528POST\u65b9\u6cd5\u5728\u8bf7\u6c42\u4e3b\u4f53\u4e2d\u53d1\u9001\u67e5\u8be2\u53c2\u6570\uff0c\u53ef\u4ee5\u5c06\u53c2\u6570\u7f16\u7801\u540e\u4f5c\u4e3a\u53ef\u9009\u53c2\u6570\u63d0\u4f9b\u7ed9 urlopen() \u51fd\u6570\uff0c\u5c31\u50cf\u8fd9\u6837\uff1a"
      ]
    },
    {
      "cell_type": "code",
      "execution_count": null,
      "metadata": {},
      "outputs": [],
      "source": [
        "f\nr\no\nm\n \nu\nr\nl\nl\ni\nb\n \ni\nm\np\no\nr\nt\n \nr\ne\nq\nu\ne\ns\nt\n,\n \np\na\nr\ns\ne\n\n\n\n\n#\n \nB\na\ns\ne\n \nU\nR\nL\n \nb\ne\ni\nn\ng\n \na\nc\nc\ne\ns\ns\ne\nd\n\n\nu\nr\nl\n \n=\n \n'\nh\nt\nt\np\n:\n/\n/\nh\nt\nt\np\nb\ni\nn\n.\no\nr\ng\n/\np\no\ns\nt\n'\n\n\n\n\n#\n \nD\ni\nc\nt\ni\no\nn\na\nr\ny\n \no\nf\n \nq\nu\ne\nr\ny\n \np\na\nr\na\nm\ne\nt\ne\nr\ns\n \n(\ni\nf\n \na\nn\ny\n)\n\n\np\na\nr\nm\ns\n \n=\n \n{\n\n\n \n \n \n'\nn\na\nm\ne\n1\n'\n \n:\n \n'\nv\na\nl\nu\ne\n1\n'\n,\n\n\n \n \n \n'\nn\na\nm\ne\n2\n'\n \n:\n \n'\nv\na\nl\nu\ne\n2\n'\n\n\n}\n\n\n\n\n#\n \nE\nn\nc\no\nd\ne\n \nt\nh\ne\n \nq\nu\ne\nr\ny\n \ns\nt\nr\ni\nn\ng\n\n\nq\nu\ne\nr\ny\ns\nt\nr\ni\nn\ng\n \n=\n \np\na\nr\ns\ne\n.\nu\nr\nl\ne\nn\nc\no\nd\ne\n(\np\na\nr\nm\ns\n)\n\n\n\n\n#\n \nM\na\nk\ne\n \na\n \nP\nO\nS\nT\n \nr\ne\nq\nu\ne\ns\nt\n \na\nn\nd\n \nr\ne\na\nd\n \nt\nh\ne\n \nr\ne\ns\np\no\nn\ns\ne\n\n\nu\n \n=\n \nr\ne\nq\nu\ne\ns\nt\n.\nu\nr\nl\no\np\ne\nn\n(\nu\nr\nl\n,\n \nq\nu\ne\nr\ny\ns\nt\nr\ni\nn\ng\n.\ne\nn\nc\no\nd\ne\n(\n'\na\ns\nc\ni\ni\n'\n)\n)\n\n\nr\ne\ns\np\n \n=\n \nu\n.\nr\ne\na\nd\n(\n)\n\n"
      ]
    },
    {
      "cell_type": "markdown",
      "metadata": {},
      "source": [
        "\u5982\u679c\u4f60\u9700\u8981\u5728\u53d1\u51fa\u7684\u8bf7\u6c42\u4e2d\u63d0\u4f9b\u4e00\u4e9b\u81ea\u5b9a\u4e49\u7684HTTP\u5934\uff0c\u4f8b\u5982\u4fee\u6539 user-agent \u5b57\u6bb5,\u53ef\u4ee5\u521b\u5efa\u4e00\u4e2a\u5305\u542b\u5b57\u6bb5\u503c\u7684\u5b57\u5178\uff0c\u5e76\u521b\u5efa\u4e00\u4e2aRequest\u5b9e\u4f8b\u7136\u540e\u5c06\u5176\u4f20\u7ed9 urlopen() \uff0c\u5982\u4e0b\uff1a"
      ]
    },
    {
      "cell_type": "code",
      "execution_count": null,
      "metadata": {},
      "outputs": [],
      "source": [
        "f\nr\no\nm\n \nu\nr\nl\nl\ni\nb\n \ni\nm\np\no\nr\nt\n \nr\ne\nq\nu\ne\ns\nt\n,\n \np\na\nr\ns\ne\n\n\n.\n.\n.\n\n\n\n\n#\n \nE\nx\nt\nr\na\n \nh\ne\na\nd\ne\nr\ns\n\n\nh\ne\na\nd\ne\nr\ns\n \n=\n \n{\n\n\n \n \n \n \n'\nU\ns\ne\nr\n-\na\ng\ne\nn\nt\n'\n \n:\n \n'\nn\no\nn\ne\n/\no\nf\ny\no\nu\nr\nb\nu\ns\ni\nn\ne\ns\ns\n'\n,\n\n\n \n \n \n \n'\nS\np\na\nm\n'\n \n:\n \n'\nE\ng\ng\ns\n'\n\n\n}\n\n\n\n\nr\ne\nq\n \n=\n \nr\ne\nq\nu\ne\ns\nt\n.\nR\ne\nq\nu\ne\ns\nt\n(\nu\nr\nl\n,\n \nq\nu\ne\nr\ny\ns\nt\nr\ni\nn\ng\n.\ne\nn\nc\no\nd\ne\n(\n'\na\ns\nc\ni\ni\n'\n)\n,\n \nh\ne\na\nd\ne\nr\ns\n=\nh\ne\na\nd\ne\nr\ns\n)\n\n\n\n\n#\n \nM\na\nk\ne\n \na\n \nr\ne\nq\nu\ne\ns\nt\n \na\nn\nd\n \nr\ne\na\nd\n \nt\nh\ne\n \nr\ne\ns\np\no\nn\ns\ne\n\n\nu\n \n=\n \nr\ne\nq\nu\ne\ns\nt\n.\nu\nr\nl\no\np\ne\nn\n(\nr\ne\nq\n)\n\n\nr\ne\ns\np\n \n=\n \nu\n.\nr\ne\na\nd\n(\n)\n\n"
      ]
    },
    {
      "cell_type": "markdown",
      "metadata": {},
      "source": [
        "\u5982\u679c\u9700\u8981\u4ea4\u4e92\u7684\u670d\u52a1\u6bd4\u4e0a\u9762\u7684\u4f8b\u5b50\u90fd\u8981\u590d\u6742\uff0c\u4e5f\u8bb8\u5e94\u8be5\u53bb\u770b\u770b requests \u5e93\uff08https://pypi.python.org/pypi/requests\uff09\u3002\u4f8b\u5982\uff0c\u4e0b\u9762\u8fd9\u4e2a\u793a\u4f8b\u91c7\u7528requests\u5e93\u91cd\u65b0\u5b9e\u73b0\u4e86\u4e0a\u9762\u7684\u64cd\u4f5c\uff1a"
      ]
    },
    {
      "cell_type": "code",
      "execution_count": null,
      "metadata": {},
      "outputs": [],
      "source": [
        "i\nm\np\no\nr\nt\n \nr\ne\nq\nu\ne\ns\nt\ns\n\n\n\n\n#\n \nB\na\ns\ne\n \nU\nR\nL\n \nb\ne\ni\nn\ng\n \na\nc\nc\ne\ns\ns\ne\nd\n\n\nu\nr\nl\n \n=\n \n'\nh\nt\nt\np\n:\n/\n/\nh\nt\nt\np\nb\ni\nn\n.\no\nr\ng\n/\np\no\ns\nt\n'\n\n\n\n\n#\n \nD\ni\nc\nt\ni\no\nn\na\nr\ny\n \no\nf\n \nq\nu\ne\nr\ny\n \np\na\nr\na\nm\ne\nt\ne\nr\ns\n \n(\ni\nf\n \na\nn\ny\n)\n\n\np\na\nr\nm\ns\n \n=\n \n{\n\n\n \n \n \n'\nn\na\nm\ne\n1\n'\n \n:\n \n'\nv\na\nl\nu\ne\n1\n'\n,\n\n\n \n \n \n'\nn\na\nm\ne\n2\n'\n \n:\n \n'\nv\na\nl\nu\ne\n2\n'\n\n\n}\n\n\n\n\n#\n \nE\nx\nt\nr\na\n \nh\ne\na\nd\ne\nr\ns\n\n\nh\ne\na\nd\ne\nr\ns\n \n=\n \n{\n\n\n \n \n \n \n'\nU\ns\ne\nr\n-\na\ng\ne\nn\nt\n'\n \n:\n \n'\nn\no\nn\ne\n/\no\nf\ny\no\nu\nr\nb\nu\ns\ni\nn\ne\ns\ns\n'\n,\n\n\n \n \n \n \n'\nS\np\na\nm\n'\n \n:\n \n'\nE\ng\ng\ns\n'\n\n\n}\n\n\n\n\nr\ne\ns\np\n \n=\n \nr\ne\nq\nu\ne\ns\nt\ns\n.\np\no\ns\nt\n(\nu\nr\nl\n,\n \nd\na\nt\na\n=\np\na\nr\nm\ns\n,\n \nh\ne\na\nd\ne\nr\ns\n=\nh\ne\na\nd\ne\nr\ns\n)\n\n\n\n\n#\n \nD\ne\nc\no\nd\ne\nd\n \nt\ne\nx\nt\n \nr\ne\nt\nu\nr\nn\ne\nd\n \nb\ny\n \nt\nh\ne\n \nr\ne\nq\nu\ne\ns\nt\n\n\nt\ne\nx\nt\n \n=\n \nr\ne\ns\np\n.\nt\ne\nx\nt\n\n"
      ]
    },
    {
      "cell_type": "markdown",
      "metadata": {},
      "source": [
        "\u5173\u4e8erequests\u5e93\uff0c\u4e00\u4e2a\u503c\u5f97\u4e00\u63d0\u7684\u7279\u6027\u5c31\u662f\u5b83\u80fd\u4ee5\u591a\u79cd\u65b9\u5f0f\u4ece\u8bf7\u6c42\u4e2d\u8fd4\u56de\u54cd\u5e94\u7ed3\u679c\u7684\u5185\u5bb9\u3002\u4ece\u4e0a\u9762\u7684\u4ee3\u7801\u6765\u770b\uff0c resp.text \u5e26\u7ed9\u6211\u4eec\u7684\u662f\u4ee5Unicode\u89e3\u7801\u7684\u54cd\u5e94\u6587\u672c\u3002\u4f46\u662f\uff0c\u5982\u679c\u53bb\u8bbf\u95ee resp.content \uff0c\u5c31\u4f1a\u5f97\u5230\u539f\u59cb\u7684\u4e8c\u8fdb\u5236\u6570\u636e\u3002\u53e6\u4e00\u65b9\u9762\uff0c\u5982\u679c\u8bbf\u95ee resp.json \uff0c\u90a3\u4e48\u5c31\u4f1a\u5f97\u5230JSON\u683c\u5f0f\u7684\u54cd\u5e94\u5185\u5bb9\u3002"
      ]
    },
    {
      "cell_type": "markdown",
      "metadata": {},
      "source": [
        "\u4e0b\u9762\u8fd9\u4e2a\u793a\u4f8b\u5229\u7528 requests \u5e93\u53d1\u8d77\u4e00\u4e2aHEAD\u8bf7\u6c42\uff0c\u5e76\u4ece\u54cd\u5e94\u4e2d\u63d0\u53d6\u51fa\u4e00\u4e9bHTTP\u5934\u6570\u636e\u7684\u5b57\u6bb5\uff1a"
      ]
    },
    {
      "cell_type": "code",
      "execution_count": null,
      "metadata": {},
      "outputs": [],
      "source": [
        "i\nm\np\no\nr\nt\n \nr\ne\nq\nu\ne\ns\nt\ns\n\n\n\n\nr\ne\ns\np\n \n=\n \nr\ne\nq\nu\ne\ns\nt\ns\n.\nh\ne\na\nd\n(\n'\nh\nt\nt\np\n:\n/\n/\nw\nw\nw\n.\np\ny\nt\nh\no\nn\n.\no\nr\ng\n/\ni\nn\nd\ne\nx\n.\nh\nt\nm\nl\n'\n)\n\n\n\n\ns\nt\na\nt\nu\ns\n \n=\n \nr\ne\ns\np\n.\ns\nt\na\nt\nu\ns\n_\nc\no\nd\ne\n\n\nl\na\ns\nt\n_\nm\no\nd\ni\nf\ni\ne\nd\n \n=\n \nr\ne\ns\np\n.\nh\ne\na\nd\ne\nr\ns\n[\n'\nl\na\ns\nt\n-\nm\no\nd\ni\nf\ni\ne\nd\n'\n]\n\n\nc\no\nn\nt\ne\nn\nt\n_\nt\ny\np\ne\n \n=\n \nr\ne\ns\np\n.\nh\ne\na\nd\ne\nr\ns\n[\n'\nc\no\nn\nt\ne\nn\nt\n-\nt\ny\np\ne\n'\n]\n\n\nc\no\nn\nt\ne\nn\nt\n_\nl\ne\nn\ng\nt\nh\n \n=\n \nr\ne\ns\np\n.\nh\ne\na\nd\ne\nr\ns\n[\n'\nc\no\nn\nt\ne\nn\nt\n-\nl\ne\nn\ng\nt\nh\n'\n]\n\n"
      ]
    },
    {
      "cell_type": "markdown",
      "metadata": {},
      "source": [
        "\u4e0b\u9762\u662f\u4e00\u4e2a\u5229\u7528requests\u901a\u8fc7\u57fa\u672c\u8ba4\u8bc1\u767b\u5f55Pypi\u7684\u4f8b\u5b50\uff1a"
      ]
    },
    {
      "cell_type": "code",
      "execution_count": null,
      "metadata": {},
      "outputs": [],
      "source": [
        "i\nm\np\no\nr\nt\n \nr\ne\nq\nu\ne\ns\nt\ns\n\n\n\n\nr\ne\ns\np\n \n=\n \nr\ne\nq\nu\ne\ns\nt\ns\n.\ng\ne\nt\n(\n'\nh\nt\nt\np\n:\n/\n/\np\ny\np\ni\n.\np\ny\nt\nh\no\nn\n.\no\nr\ng\n/\np\ny\np\ni\n?\n:\na\nc\nt\ni\no\nn\n=\nl\no\ng\ni\nn\n'\n,\n\n\n \n \n \n \n \n \n \n \n \n \n \n \n \n \n \n \n \n \n \n \na\nu\nt\nh\n=\n(\n'\nu\ns\ne\nr\n'\n,\n'\np\na\ns\ns\nw\no\nr\nd\n'\n)\n)\n\n"
      ]
    },
    {
      "cell_type": "markdown",
      "metadata": {},
      "source": [
        "\u4e0b\u9762\u662f\u4e00\u4e2a\u5229\u7528requests\u5c06HTTP cookies\u4ece\u4e00\u4e2a\u8bf7\u6c42\u4f20\u9012\u5230\u53e6\u4e00\u4e2a\u7684\u4f8b\u5b50\uff1a"
      ]
    },
    {
      "cell_type": "code",
      "execution_count": null,
      "metadata": {},
      "outputs": [],
      "source": [
        "i\nm\np\no\nr\nt\n \nr\ne\nq\nu\ne\ns\nt\ns\n\n\n\n\n#\n \nF\ni\nr\ns\nt\n \nr\ne\nq\nu\ne\ns\nt\n\n\nr\ne\ns\np\n1\n \n=\n \nr\ne\nq\nu\ne\ns\nt\ns\n.\ng\ne\nt\n(\nu\nr\nl\n)\n\n\n.\n.\n.\n\n\n\n\n#\n \nS\ne\nc\no\nn\nd\n \nr\ne\nq\nu\ne\ns\nt\ns\n \nw\ni\nt\nh\n \nc\no\no\nk\ni\ne\ns\n \nr\ne\nc\ne\ni\nv\ne\nd\n \no\nn\n \nf\ni\nr\ns\nt\n \nr\ne\nq\nu\ne\ns\nt\ns\n\n\nr\ne\ns\np\n2\n \n=\n \nr\ne\nq\nu\ne\ns\nt\ns\n.\ng\ne\nt\n(\nu\nr\nl\n,\n \nc\no\no\nk\ni\ne\ns\n=\nr\ne\ns\np\n1\n.\nc\no\no\nk\ni\ne\ns\n)\n\n"
      ]
    },
    {
      "cell_type": "markdown",
      "metadata": {},
      "source": [
        "\u6700\u540e\u4f46\u5e76\u975e\u6700\u4e0d\u91cd\u8981\u7684\u4e00\u4e2a\u4f8b\u5b50\u662f\u7528requests\u4e0a\u4f20\u5185\u5bb9\uff1a"
      ]
    },
    {
      "cell_type": "code",
      "execution_count": null,
      "metadata": {},
      "outputs": [],
      "source": [
        "i\nm\np\no\nr\nt\n \nr\ne\nq\nu\ne\ns\nt\ns\n\n\nu\nr\nl\n \n=\n \n'\nh\nt\nt\np\n:\n/\n/\nh\nt\nt\np\nb\ni\nn\n.\no\nr\ng\n/\np\no\ns\nt\n'\n\n\nf\ni\nl\ne\ns\n \n=\n \n{\n \n'\nf\ni\nl\ne\n'\n:\n \n(\n'\nd\na\nt\na\n.\nc\ns\nv\n'\n,\n \no\np\ne\nn\n(\n'\nd\na\nt\na\n.\nc\ns\nv\n'\n,\n \n'\nr\nb\n'\n)\n)\n \n}\n\n\n\n\nr\n \n=\n \nr\ne\nq\nu\ne\ns\nt\ns\n.\np\no\ns\nt\n(\nu\nr\nl\n,\n \nf\ni\nl\ne\ns\n=\nf\ni\nl\ne\ns\n)\n\n"
      ]
    },
    {
      "cell_type": "markdown",
      "metadata": {},
      "source": [
        "### \u8ba8\u8bba\n"
      ]
    },
    {
      "cell_type": "markdown",
      "metadata": {},
      "source": [
        "\u5bf9\u4e8e\u771f\u7684\u5f88\u7b80\u5355HTTP\u5ba2\u6237\u7aef\u4ee3\u7801\uff0c\u7528\u5185\u7f6e\u7684 urllib \u6a21\u5757\u901a\u5e38\u5c31\u8db3\u591f\u4e86\u3002\u4f46\u662f\uff0c\u5982\u679c\u4f60\u8981\u505a\u7684\u4e0d\u4ec5\u4ec5\u53ea\u662f\u7b80\u5355\u7684GET\u6216POST\u8bf7\u6c42\uff0c\u90a3\u5c31\u771f\u7684\u4e0d\u80fd\u518d\u4f9d\u8d56\u5b83\u7684\u529f\u80fd\u4e86\u3002\u8fd9\u65f6\u5019\u5c31\u662f\u7b2c\u4e09\u65b9\u6a21\u5757\u6bd4\u5982 requests \u5927\u663e\u8eab\u624b\u7684\u65f6\u5019\u4e86\u3002"
      ]
    },
    {
      "cell_type": "markdown",
      "metadata": {},
      "source": [
        "\u4f8b\u5982\uff0c\u5982\u679c\u4f60\u51b3\u5b9a\u575a\u6301\u4f7f\u7528\u6807\u51c6\u7684\u7a0b\u5e8f\u5e93\u800c\u4e0d\u8003\u8651\u50cf requests \u8fd9\u6837\u7684\u7b2c\u4e09\u65b9\u5e93\uff0c\u90a3\u4e48\u4e5f\u8bb8\u5c31\u4e0d\u5f97\u4e0d\u4f7f\u7528\u5e95\u5c42\u7684 http.client \u6a21\u5757\u6765\u5b9e\u73b0\u81ea\u5df1\u7684\u4ee3\u7801\u3002\u6bd4\u65b9\u8bf4\uff0c\u4e0b\u9762\u7684\u4ee3\u7801\u5c55\u793a\u4e86\u5982\u4f55\u6267\u884c\u4e00\u4e2aHEAD\u8bf7\u6c42\uff1a"
      ]
    },
    {
      "cell_type": "code",
      "execution_count": null,
      "metadata": {},
      "outputs": [],
      "source": [
        "f\nr\no\nm\n \nh\nt\nt\np\n.\nc\nl\ni\ne\nn\nt\n \ni\nm\np\no\nr\nt\n \nH\nT\nT\nP\nC\no\nn\nn\ne\nc\nt\ni\no\nn\n\n\nf\nr\no\nm\n \nu\nr\nl\nl\ni\nb\n \ni\nm\np\no\nr\nt\n \np\na\nr\ns\ne\n\n\n\n\nc\n \n=\n \nH\nT\nT\nP\nC\no\nn\nn\ne\nc\nt\ni\no\nn\n(\n'\nw\nw\nw\n.\np\ny\nt\nh\no\nn\n.\no\nr\ng\n'\n,\n \n8\n0\n)\n\n\nc\n.\nr\ne\nq\nu\ne\ns\nt\n(\n'\nH\nE\nA\nD\n'\n,\n \n'\n/\ni\nn\nd\ne\nx\n.\nh\nt\nm\nl\n'\n)\n\n\nr\ne\ns\np\n \n=\n \nc\n.\ng\ne\nt\nr\ne\ns\np\no\nn\ns\ne\n(\n)\n\n\n\n\np\nr\ni\nn\nt\n(\n'\nS\nt\na\nt\nu\ns\n'\n,\n \nr\ne\ns\np\n.\ns\nt\na\nt\nu\ns\n)\n\n\nf\no\nr\n \nn\na\nm\ne\n,\n \nv\na\nl\nu\ne\n \ni\nn\n \nr\ne\ns\np\n.\ng\ne\nt\nh\ne\na\nd\ne\nr\ns\n(\n)\n:\n\n\n \n \n \n \np\nr\ni\nn\nt\n(\nn\na\nm\ne\n,\n \nv\na\nl\nu\ne\n)\n\n"
      ]
    },
    {
      "cell_type": "markdown",
      "metadata": {},
      "source": [
        "\u540c\u6837\u5730\uff0c\u5982\u679c\u5fc5\u987b\u7f16\u5199\u6d89\u53ca\u4ee3\u7406\u3001\u8ba4\u8bc1\u3001cookies\u4ee5\u53ca\u5176\u4ed6\u4e00\u4e9b\u7ec6\u8282\u65b9\u9762\u7684\u4ee3\u7801\uff0c\u90a3\u4e48\u4f7f\u7528 urllib \u5c31\u663e\u5f97\u7279\u522b\u522b\u626d\u548c\u5570\u55e6\u3002\u6bd4\u65b9\u8bf4\uff0c\u4e0b\u9762\u8fd9\u4e2a\u793a\u4f8b\u5b9e\u73b0\u5728Python\u5305\u7d22\u5f15\u4e0a\u7684\u8ba4\u8bc1\uff1a"
      ]
    },
    {
      "cell_type": "code",
      "execution_count": null,
      "metadata": {},
      "outputs": [],
      "source": [
        "i\nm\np\no\nr\nt\n \nu\nr\nl\nl\ni\nb\n.\nr\ne\nq\nu\ne\ns\nt\n\n\n\n\na\nu\nt\nh\n \n=\n \nu\nr\nl\nl\ni\nb\n.\nr\ne\nq\nu\ne\ns\nt\n.\nH\nT\nT\nP\nB\na\ns\ni\nc\nA\nu\nt\nh\nH\na\nn\nd\nl\ne\nr\n(\n)\n\n\na\nu\nt\nh\n.\na\nd\nd\n_\np\na\ns\ns\nw\no\nr\nd\n(\n'\np\ny\np\ni\n'\n,\n'\nh\nt\nt\np\n:\n/\n/\np\ny\np\ni\n.\np\ny\nt\nh\no\nn\n.\no\nr\ng\n'\n,\n'\nu\ns\ne\nr\nn\na\nm\ne\n'\n,\n'\np\na\ns\ns\nw\no\nr\nd\n'\n)\n\n\no\np\ne\nn\ne\nr\n \n=\n \nu\nr\nl\nl\ni\nb\n.\nr\ne\nq\nu\ne\ns\nt\n.\nb\nu\ni\nl\nd\n_\no\np\ne\nn\ne\nr\n(\na\nu\nt\nh\n)\n\n\n\n\nr\n \n=\n \nu\nr\nl\nl\ni\nb\n.\nr\ne\nq\nu\ne\ns\nt\n.\nR\ne\nq\nu\ne\ns\nt\n(\n'\nh\nt\nt\np\n:\n/\n/\np\ny\np\ni\n.\np\ny\nt\nh\no\nn\n.\no\nr\ng\n/\np\ny\np\ni\n?\n:\na\nc\nt\ni\no\nn\n=\nl\no\ng\ni\nn\n'\n)\n\n\nu\n \n=\n \no\np\ne\nn\ne\nr\n.\no\np\ne\nn\n(\nr\n)\n\n\nr\ne\ns\np\n \n=\n \nu\n.\nr\ne\na\nd\n(\n)\n\n\n\n\n#\n \nF\nr\no\nm\n \nh\ne\nr\ne\n.\n \nY\no\nu\n \nc\na\nn\n \na\nc\nc\ne\ns\ns\n \nm\no\nr\ne\n \np\na\ng\ne\ns\n \nu\ns\ni\nn\ng\n \no\np\ne\nn\ne\nr\n\n\n.\n.\n.\n\n"
      ]
    },
    {
      "cell_type": "markdown",
      "metadata": {},
      "source": [
        "\u5766\u767d\u8bf4\uff0c\u6240\u6709\u7684\u8fd9\u4e9b\u64cd\u4f5c\u5728 requests \u5e93\u4e2d\u90fd\u53d8\u5f97\u7b80\u5355\u7684\u591a\u3002"
      ]
    },
    {
      "cell_type": "markdown",
      "metadata": {},
      "source": [
        "\u5728\u5f00\u53d1\u8fc7\u7a0b\u4e2d\u6d4b\u8bd5HTTP\u5ba2\u6237\u7aef\u4ee3\u7801\u5e38\u5e38\u662f\u5f88\u4ee4\u4eba\u6cae\u4e27\u7684\uff0c\u56e0\u4e3a\u6240\u6709\u68d8\u624b\u7684\u7ec6\u8282\u95ee\u9898\u90fd\u9700\u8981\u8003\u8651\uff08\u4f8b\u5982cookies\u3001\u8ba4\u8bc1\u3001HTTP\u5934\u3001\u7f16\u7801\u65b9\u5f0f\u7b49\uff09\u3002\u8981\u5b8c\u6210\u8fd9\u4e9b\u4efb\u52a1\uff0c\u8003\u8651\u4f7f\u7528httpbin\u670d\u52a1\uff08http://httpbin.org\uff09\u3002\u8fd9\u4e2a\u7ad9\u70b9\u4f1a\u63a5\u6536\u53d1\u51fa\u7684\u8bf7\u6c42\uff0c\u7136\u540e\u4ee5JSON\u7684\u5f62\u5f0f\u5c06\u76f8\u5e94\u4fe1\u606f\u56de\u4f20\u56de\u6765\u3002\u4e0b\u9762\u662f\u4e00\u4e2a\u4ea4\u4e92\u5f0f\u7684\u4f8b\u5b50\uff1a"
      ]
    },
    {
      "cell_type": "code",
      "execution_count": null,
      "metadata": {},
      "outputs": [],
      "source": [
        "import requests\nr = requests.get('http://httpbin.org/get?name=Dave&n=37',\n    headers = { 'User-agent': 'goaway/1.0' })\nresp = r.json\nresp['headers']"
      ]
    },
    {
      "cell_type": "code",
      "execution_count": null,
      "metadata": {},
      "outputs": [],
      "source": [
        "resp['args']"
      ]
    },
    {
      "cell_type": "markdown",
      "metadata": {},
      "source": [
        "\u5728\u8981\u540c\u4e00\u4e2a\u771f\u6b63\u7684\u7ad9\u70b9\u8fdb\u884c\u4ea4\u4e92\u524d\uff0c\u5148\u5728 httpbin.org \u8fd9\u6837\u7684\u7f51\u7ad9\u4e0a\u505a\u5b9e\u9a8c\u5e38\u5e38\u662f\u53ef\u53d6\u7684\u529e\u6cd5\u3002\u5c24\u5176\u662f\u5f53\u6211\u4eec\u9762\u5bf93\u6b21\u767b\u5f55\u5931\u8d25\u5c31\u4f1a\u5173\u95ed\u8d26\u6237\u8fd9\u6837\u7684\u98ce\u9669\u65f6\u5c24\u4e3a\u6709\u7528\uff08\u4e0d\u8981\u5c1d\u8bd5\u81ea\u5df1\u7f16\u5199HTTP\u8ba4\u8bc1\u5ba2\u6237\u7aef\u6765\u767b\u5f55\u4f60\u7684\u94f6\u884c\u8d26\u6237\uff09\u3002"
      ]
    },
    {
      "cell_type": "markdown",
      "metadata": {},
      "source": [
        "\u5c3d\u7ba1\u672c\u8282\u6ca1\u6709\u6d89\u53ca\uff0c request \u5e93\u8fd8\u5bf9\u8bb8\u591a\u9ad8\u7ea7\u7684HTTP\u5ba2\u6237\u7aef\u534f\u8bae\u63d0\u4f9b\u4e86\u652f\u6301\uff0c\u6bd4\u5982OAuth\u3002 requests \u6a21\u5757\u7684\u6587\u6863\uff08http://docs.python-requests.org)\u8d28\u91cf\u5f88\u9ad8\uff08\u5766\u767d\u8bf4\u6bd4\u5728\u8fd9\u77ed\u77ed\u7684\u4e00\u8282\u7684\u7bc7\u5e45\u4e2d\u6240\u63d0\u4f9b\u7684\u4efb\u4f55\u4fe1\u606f\u90fd\u597d\uff09\uff0c\u53ef\u4ee5\u53c2\u8003\u6587\u6863\u4ee5\u83b7\u5f97\u66f4\u591a\u5730\u4fe1\u606f\u3002"
      ]
    },
    {
      "cell_type": "markdown",
      "metadata": {},
      "source": [
        "## 11.2 \u521b\u5efaTCP\u670d\u52a1\u5668\n"
      ]
    },
    {
      "cell_type": "markdown",
      "metadata": {},
      "source": [
        "### \u95ee\u9898\n"
      ]
    },
    {
      "cell_type": "markdown",
      "metadata": {},
      "source": [
        "\u4f60\u60f3\u5b9e\u73b0\u4e00\u4e2a\u670d\u52a1\u5668\uff0c\u901a\u8fc7TCP\u534f\u8bae\u548c\u5ba2\u6237\u7aef\u901a\u4fe1\u3002"
      ]
    },
    {
      "cell_type": "markdown",
      "metadata": {},
      "source": [
        "### \u89e3\u51b3\u65b9\u6848\n"
      ]
    },
    {
      "cell_type": "markdown",
      "metadata": {},
      "source": [
        "\u521b\u5efa\u4e00\u4e2aTCP\u670d\u52a1\u5668\u7684\u4e00\u4e2a\u7b80\u5355\u65b9\u6cd5\u662f\u4f7f\u7528 socketserver \u5e93\u3002\u4f8b\u5982\uff0c\u4e0b\u9762\u662f\u4e00\u4e2a\u7b80\u5355\u7684\u5e94\u7b54\u670d\u52a1\u5668\uff1a"
      ]
    },
    {
      "cell_type": "code",
      "execution_count": null,
      "metadata": {},
      "outputs": [],
      "source": [
        "f\nr\no\nm\n \ns\no\nc\nk\ne\nt\ns\ne\nr\nv\ne\nr\n \ni\nm\np\no\nr\nt\n \nB\na\ns\ne\nR\ne\nq\nu\ne\ns\nt\nH\na\nn\nd\nl\ne\nr\n,\n \nT\nC\nP\nS\ne\nr\nv\ne\nr\n\n\n\n\nc\nl\na\ns\ns\n \nE\nc\nh\no\nH\na\nn\nd\nl\ne\nr\n(\nB\na\ns\ne\nR\ne\nq\nu\ne\ns\nt\nH\na\nn\nd\nl\ne\nr\n)\n:\n\n\n \n \n \n \nd\ne\nf\n \nh\na\nn\nd\nl\ne\n(\ns\ne\nl\nf\n)\n:\n\n\n \n \n \n \n \n \n \n \np\nr\ni\nn\nt\n(\n'\nG\no\nt\n \nc\no\nn\nn\ne\nc\nt\ni\no\nn\n \nf\nr\no\nm\n'\n,\n \ns\ne\nl\nf\n.\nc\nl\ni\ne\nn\nt\n_\na\nd\nd\nr\ne\ns\ns\n)\n\n\n \n \n \n \n \n \n \n \nw\nh\ni\nl\ne\n \nT\nr\nu\ne\n:\n\n\n\n\n \n \n \n \n \n \n \n \n \n \n \n \nm\ns\ng\n \n=\n \ns\ne\nl\nf\n.\nr\ne\nq\nu\ne\ns\nt\n.\nr\ne\nc\nv\n(\n8\n1\n9\n2\n)\n\n\n \n \n \n \n \n \n \n \n \n \n \n \ni\nf\n \nn\no\nt\n \nm\ns\ng\n:\n\n\n \n \n \n \n \n \n \n \n \n \n \n \n \n \n \n \nb\nr\ne\na\nk\n\n\n \n \n \n \n \n \n \n \n \n \n \n \ns\ne\nl\nf\n.\nr\ne\nq\nu\ne\ns\nt\n.\ns\ne\nn\nd\n(\nm\ns\ng\n)\n\n\n\n\ni\nf\n \n_\n_\nn\na\nm\ne\n_\n_\n \n=\n=\n \n'\n_\n_\nm\na\ni\nn\n_\n_\n'\n:\n\n\n \n \n \n \ns\ne\nr\nv\n \n=\n \nT\nC\nP\nS\ne\nr\nv\ne\nr\n(\n(\n'\n'\n,\n \n2\n0\n0\n0\n0\n)\n,\n \nE\nc\nh\no\nH\na\nn\nd\nl\ne\nr\n)\n\n\n \n \n \n \ns\ne\nr\nv\n.\ns\ne\nr\nv\ne\n_\nf\no\nr\ne\nv\ne\nr\n(\n)\n\n"
      ]
    },
    {
      "cell_type": "markdown",
      "metadata": {},
      "source": [
        "\u5728\u8fd9\u6bb5\u4ee3\u7801\u4e2d\uff0c\u4f60\u5b9a\u4e49\u4e86\u4e00\u4e2a\u7279\u6b8a\u7684\u5904\u7406\u7c7b\uff0c\u5b9e\u73b0\u4e86\u4e00\u4e2a handle() \u65b9\u6cd5\uff0c\u7528\u6765\u4e3a\u5ba2\u6237\u7aef\u8fde\u63a5\u670d\u52a1\u3002\nrequest \u5c5e\u6027\u662f\u5ba2\u6237\u7aefsocket\uff0cclient_address \u6709\u5ba2\u6237\u7aef\u5730\u5740\u3002\n\u4e3a\u4e86\u6d4b\u8bd5\u8fd9\u4e2a\u670d\u52a1\u5668\uff0c\u8fd0\u884c\u5b83\u5e76\u6253\u5f00\u53e6\u5916\u4e00\u4e2aPython\u8fdb\u7a0b\u8fde\u63a5\u8fd9\u4e2a\u670d\u52a1\u5668\uff1a"
      ]
    },
    {
      "cell_type": "code",
      "execution_count": null,
      "metadata": {},
      "outputs": [],
      "source": [
        "from socket import socket, AF_INET, SOCK_STREAM\ns = socket(AF_INET, SOCK_STREAM)\ns.connect(('localhost', 20000))\ns.send(b'Hello')"
      ]
    },
    {
      "cell_type": "code",
      "execution_count": null,
      "metadata": {},
      "outputs": [],
      "source": [
        "s.recv(8192)"
      ]
    },
    {
      "cell_type": "markdown",
      "metadata": {},
      "source": [
        "\u5f88\u591a\u65f6\u5019\uff0c\u53ef\u4ee5\u5f88\u5bb9\u6613\u7684\u5b9a\u4e49\u4e00\u4e2a\u4e0d\u540c\u7684\u5904\u7406\u5668\u3002\u4e0b\u9762\u662f\u4e00\u4e2a\u4f7f\u7528 StreamRequestHandler\n\u57fa\u7c7b\u5c06\u4e00\u4e2a\u7c7b\u6587\u4ef6\u63a5\u53e3\u653e\u7f6e\u5728\u5e95\u5c42socket\u4e0a\u7684\u4f8b\u5b50\uff1a"
      ]
    },
    {
      "cell_type": "code",
      "execution_count": null,
      "metadata": {},
      "outputs": [],
      "source": [
        "f\nr\no\nm\n \ns\no\nc\nk\ne\nt\ns\ne\nr\nv\ne\nr\n \ni\nm\np\no\nr\nt\n \nS\nt\nr\ne\na\nm\nR\ne\nq\nu\ne\ns\nt\nH\na\nn\nd\nl\ne\nr\n,\n \nT\nC\nP\nS\ne\nr\nv\ne\nr\n\n\n\n\nc\nl\na\ns\ns\n \nE\nc\nh\no\nH\na\nn\nd\nl\ne\nr\n(\nS\nt\nr\ne\na\nm\nR\ne\nq\nu\ne\ns\nt\nH\na\nn\nd\nl\ne\nr\n)\n:\n\n\n \n \n \n \nd\ne\nf\n \nh\na\nn\nd\nl\ne\n(\ns\ne\nl\nf\n)\n:\n\n\n \n \n \n \n \n \n \n \np\nr\ni\nn\nt\n(\n'\nG\no\nt\n \nc\no\nn\nn\ne\nc\nt\ni\no\nn\n \nf\nr\no\nm\n'\n,\n \ns\ne\nl\nf\n.\nc\nl\ni\ne\nn\nt\n_\na\nd\nd\nr\ne\ns\ns\n)\n\n\n \n \n \n \n \n \n \n \n#\n \ns\ne\nl\nf\n.\nr\nf\ni\nl\ne\n \ni\ns\n \na\n \nf\ni\nl\ne\n-\nl\ni\nk\ne\n \no\nb\nj\ne\nc\nt\n \nf\no\nr\n \nr\ne\na\nd\ni\nn\ng\n\n\n \n \n \n \n \n \n \n \nf\no\nr\n \nl\ni\nn\ne\n \ni\nn\n \ns\ne\nl\nf\n.\nr\nf\ni\nl\ne\n:\n\n\n \n \n \n \n \n \n \n \n \n \n \n \n#\n \ns\ne\nl\nf\n.\nw\nf\ni\nl\ne\n \ni\ns\n \na\n \nf\ni\nl\ne\n-\nl\ni\nk\ne\n \no\nb\nj\ne\nc\nt\n \nf\no\nr\n \nw\nr\ni\nt\ni\nn\ng\n\n\n \n \n \n \n \n \n \n \n \n \n \n \ns\ne\nl\nf\n.\nw\nf\ni\nl\ne\n.\nw\nr\ni\nt\ne\n(\nl\ni\nn\ne\n)\n\n\n\n\ni\nf\n \n_\n_\nn\na\nm\ne\n_\n_\n \n=\n=\n \n'\n_\n_\nm\na\ni\nn\n_\n_\n'\n:\n\n\n \n \n \n \ns\ne\nr\nv\n \n=\n \nT\nC\nP\nS\ne\nr\nv\ne\nr\n(\n(\n'\n'\n,\n \n2\n0\n0\n0\n0\n)\n,\n \nE\nc\nh\no\nH\na\nn\nd\nl\ne\nr\n)\n\n\n \n \n \n \ns\ne\nr\nv\n.\ns\ne\nr\nv\ne\n_\nf\no\nr\ne\nv\ne\nr\n(\n)\n\n"
      ]
    },
    {
      "cell_type": "markdown",
      "metadata": {},
      "source": [
        "### \u8ba8\u8bba\n"
      ]
    },
    {
      "cell_type": "markdown",
      "metadata": {},
      "source": [
        "socketserver \u53ef\u4ee5\u8ba9\u6211\u4eec\u5f88\u5bb9\u6613\u7684\u521b\u5efa\u7b80\u5355\u7684TCP\u670d\u52a1\u5668\u3002\n\u4f46\u662f\uff0c\u4f60\u9700\u8981\u6ce8\u610f\u7684\u662f\uff0c\u9ed8\u8ba4\u60c5\u51b5\u4e0b\u8fd9\u79cd\u670d\u52a1\u5668\u662f\u5355\u7ebf\u7a0b\u7684\uff0c\u4e00\u6b21\u53ea\u80fd\u4e3a\u4e00\u4e2a\u5ba2\u6237\u7aef\u8fde\u63a5\u670d\u52a1\u3002\n\u5982\u679c\u4f60\u60f3\u5904\u7406\u591a\u4e2a\u5ba2\u6237\u7aef\uff0c\u53ef\u4ee5\u521d\u59cb\u5316\u4e00\u4e2a ForkingTCPServer \u6216\u8005\u662f ThreadingTCPServer \u5bf9\u8c61\u3002\u4f8b\u5982\uff1a"
      ]
    },
    {
      "cell_type": "code",
      "execution_count": null,
      "metadata": {},
      "outputs": [],
      "source": [
        "f\nr\no\nm\n \ns\no\nc\nk\ne\nt\ns\ne\nr\nv\ne\nr\n \ni\nm\np\no\nr\nt\n \nT\nh\nr\ne\na\nd\ni\nn\ng\nT\nC\nP\nS\ne\nr\nv\ne\nr\n\n\n\n\n\n\ni\nf\n \n_\n_\nn\na\nm\ne\n_\n_\n \n=\n=\n \n'\n_\n_\nm\na\ni\nn\n_\n_\n'\n:\n\n\n \n \n \n \ns\ne\nr\nv\n \n=\n \nT\nh\nr\ne\na\nd\ni\nn\ng\nT\nC\nP\nS\ne\nr\nv\ne\nr\n(\n(\n'\n'\n,\n \n2\n0\n0\n0\n0\n)\n,\n \nE\nc\nh\no\nH\na\nn\nd\nl\ne\nr\n)\n\n\n \n \n \n \ns\ne\nr\nv\n.\ns\ne\nr\nv\ne\n_\nf\no\nr\ne\nv\ne\nr\n(\n)\n\n"
      ]
    },
    {
      "cell_type": "markdown",
      "metadata": {},
      "source": [
        "\u4f7f\u7528fork\u6216\u7ebf\u7a0b\u670d\u52a1\u5668\u6709\u4e2a\u6f5c\u5728\u95ee\u9898\u5c31\u662f\u5b83\u4eec\u4f1a\u4e3a\u6bcf\u4e2a\u5ba2\u6237\u7aef\u8fde\u63a5\u521b\u5efa\u4e00\u4e2a\u65b0\u7684\u8fdb\u7a0b\u6216\u7ebf\u7a0b\u3002\n\u7531\u4e8e\u5ba2\u6237\u7aef\u8fde\u63a5\u6570\u662f\u6ca1\u6709\u9650\u5236\u7684\uff0c\u56e0\u6b64\u4e00\u4e2a\u6076\u610f\u7684\u9ed1\u5ba2\u53ef\u4ee5\u540c\u65f6\u53d1\u9001\u5927\u91cf\u7684\u8fde\u63a5\u8ba9\u4f60\u7684\u670d\u52a1\u5668\u5954\u6e83\u3002"
      ]
    },
    {
      "cell_type": "markdown",
      "metadata": {},
      "source": [
        "\u5982\u679c\u4f60\u62c5\u5fc3\u8fd9\u4e2a\u95ee\u9898\uff0c\u4f60\u53ef\u4ee5\u521b\u5efa\u4e00\u4e2a\u9884\u5148\u5206\u914d\u5927\u5c0f\u7684\u5de5\u4f5c\u7ebf\u7a0b\u6c60\u6216\u8fdb\u7a0b\u6c60\u3002\n\u4f60\u5148\u521b\u5efa\u4e00\u4e2a\u666e\u901a\u7684\u975e\u7ebf\u7a0b\u670d\u52a1\u5668\uff0c\u7136\u540e\u5728\u4e00\u4e2a\u7ebf\u7a0b\u6c60\u4e2d\u4f7f\u7528 serve_forever() \u65b9\u6cd5\u6765\u542f\u52a8\u5b83\u4eec\u3002"
      ]
    },
    {
      "cell_type": "code",
      "execution_count": null,
      "metadata": {},
      "outputs": [],
      "source": [
        "i\nf\n \n_\n_\nn\na\nm\ne\n_\n_\n \n=\n=\n \n'\n_\n_\nm\na\ni\nn\n_\n_\n'\n:\n\n\n \n \n \n \nf\nr\no\nm\n \nt\nh\nr\ne\na\nd\ni\nn\ng\n \ni\nm\np\no\nr\nt\n \nT\nh\nr\ne\na\nd\n\n\n \n \n \n \nN\nW\nO\nR\nK\nE\nR\nS\n \n=\n \n1\n6\n\n\n \n \n \n \ns\ne\nr\nv\n \n=\n \nT\nC\nP\nS\ne\nr\nv\ne\nr\n(\n(\n'\n'\n,\n \n2\n0\n0\n0\n0\n)\n,\n \nE\nc\nh\no\nH\na\nn\nd\nl\ne\nr\n)\n\n\n \n \n \n \nf\no\nr\n \nn\n \ni\nn\n \nr\na\nn\ng\ne\n(\nN\nW\nO\nR\nK\nE\nR\nS\n)\n:\n\n\n \n \n \n \n \n \n \n \nt\n \n=\n \nT\nh\nr\ne\na\nd\n(\nt\na\nr\ng\ne\nt\n=\ns\ne\nr\nv\n.\ns\ne\nr\nv\ne\n_\nf\no\nr\ne\nv\ne\nr\n)\n\n\n \n \n \n \n \n \n \n \nt\n.\nd\na\ne\nm\no\nn\n \n=\n \nT\nr\nu\ne\n\n\n \n \n \n \n \n \n \n \nt\n.\ns\nt\na\nr\nt\n(\n)\n\n\n \n \n \n \ns\ne\nr\nv\n.\ns\ne\nr\nv\ne\n_\nf\no\nr\ne\nv\ne\nr\n(\n)\n\n"
      ]
    },
    {
      "cell_type": "markdown",
      "metadata": {},
      "source": [
        "\u4e00\u822c\u6765\u8bb2\uff0c\u4e00\u4e2a TCPServer \u5728\u5b9e\u4f8b\u5316\u7684\u65f6\u5019\u4f1a\u7ed1\u5b9a\u5e76\u6fc0\u6d3b\u76f8\u5e94\u7684 socket \u3002\n\u4e0d\u8fc7\uff0c\u6709\u65f6\u5019\u4f60\u60f3\u901a\u8fc7\u8bbe\u7f6e\u67d0\u4e9b\u9009\u9879\u53bb\u8c03\u6574\u5e95\u4e0b\u7684 socket` \uff0c\u53ef\u4ee5\u8bbe\u7f6e\u53c2\u6570 bind_and_activate=False \u3002\u5982\u4e0b\uff1a"
      ]
    },
    {
      "cell_type": "code",
      "execution_count": null,
      "metadata": {},
      "outputs": [],
      "source": [
        "i\nf\n \n_\n_\nn\na\nm\ne\n_\n_\n \n=\n=\n \n'\n_\n_\nm\na\ni\nn\n_\n_\n'\n:\n\n\n \n \n \n \ns\ne\nr\nv\n \n=\n \nT\nC\nP\nS\ne\nr\nv\ne\nr\n(\n(\n'\n'\n,\n \n2\n0\n0\n0\n0\n)\n,\n \nE\nc\nh\no\nH\na\nn\nd\nl\ne\nr\n,\n \nb\ni\nn\nd\n_\na\nn\nd\n_\na\nc\nt\ni\nv\na\nt\ne\n=\nF\na\nl\ns\ne\n)\n\n\n \n \n \n \n#\n \nS\ne\nt\n \nu\np\n \nv\na\nr\ni\no\nu\ns\n \ns\no\nc\nk\ne\nt\n \no\np\nt\ni\no\nn\ns\n\n\n \n \n \n \ns\ne\nr\nv\n.\ns\no\nc\nk\ne\nt\n.\ns\ne\nt\ns\no\nc\nk\no\np\nt\n(\ns\no\nc\nk\ne\nt\n.\nS\nO\nL\n_\nS\nO\nC\nK\nE\nT\n,\n \ns\no\nc\nk\ne\nt\n.\nS\nO\n_\nR\nE\nU\nS\nE\nA\nD\nD\nR\n,\n \nT\nr\nu\ne\n)\n\n\n \n \n \n \n#\n \nB\ni\nn\nd\n \na\nn\nd\n \na\nc\nt\ni\nv\na\nt\ne\n\n\n \n \n \n \ns\ne\nr\nv\n.\ns\ne\nr\nv\ne\nr\n_\nb\ni\nn\nd\n(\n)\n\n\n \n \n \n \ns\ne\nr\nv\n.\ns\ne\nr\nv\ne\nr\n_\na\nc\nt\ni\nv\na\nt\ne\n(\n)\n\n\n \n \n \n \ns\ne\nr\nv\n.\ns\ne\nr\nv\ne\n_\nf\no\nr\ne\nv\ne\nr\n(\n)\n\n"
      ]
    },
    {
      "cell_type": "markdown",
      "metadata": {},
      "source": [
        "\u4e0a\u9762\u7684 socket \u9009\u9879\u662f\u4e00\u4e2a\u975e\u5e38\u666e\u904d\u7684\u914d\u7f6e\u9879\uff0c\u5b83\u5141\u8bb8\u670d\u52a1\u5668\u91cd\u65b0\u7ed1\u5b9a\u4e00\u4e2a\u4e4b\u524d\u4f7f\u7528\u8fc7\u7684\u7aef\u53e3\u53f7\u3002\n\u7531\u4e8e\u8981\u88ab\u7ecf\u5e38\u4f7f\u7528\u5230\uff0c\u5b83\u88ab\u653e\u7f6e\u5230\u7c7b\u53d8\u91cf\u4e2d\uff0c\u53ef\u4ee5\u76f4\u63a5\u5728 TCPServer \u4e0a\u9762\u8bbe\u7f6e\u3002\n\u5728\u5b9e\u4f8b\u5316\u670d\u52a1\u5668\u7684\u65f6\u5019\u53bb\u8bbe\u7f6e\u5b83\u7684\u503c\uff0c\u5982\u4e0b\u6240\u793a\uff1a"
      ]
    },
    {
      "cell_type": "code",
      "execution_count": null,
      "metadata": {},
      "outputs": [],
      "source": [
        "i\nf\n \n_\n_\nn\na\nm\ne\n_\n_\n \n=\n=\n \n'\n_\n_\nm\na\ni\nn\n_\n_\n'\n:\n\n\n \n \n \n \nT\nC\nP\nS\ne\nr\nv\ne\nr\n.\na\nl\nl\no\nw\n_\nr\ne\nu\ns\ne\n_\na\nd\nd\nr\ne\ns\ns\n \n=\n \nT\nr\nu\ne\n\n\n \n \n \n \ns\ne\nr\nv\n \n=\n \nT\nC\nP\nS\ne\nr\nv\ne\nr\n(\n(\n'\n'\n,\n \n2\n0\n0\n0\n0\n)\n,\n \nE\nc\nh\no\nH\na\nn\nd\nl\ne\nr\n)\n\n\n \n \n \n \ns\ne\nr\nv\n.\ns\ne\nr\nv\ne\n_\nf\no\nr\ne\nv\ne\nr\n(\n)\n\n"
      ]
    },
    {
      "cell_type": "markdown",
      "metadata": {},
      "source": [
        "\u5728\u4e0a\u9762\u793a\u4f8b\u4e2d\uff0c\u6211\u4eec\u6f14\u793a\u4e86\u4e24\u79cd\u4e0d\u540c\u7684\u5904\u7406\u5668\u57fa\u7c7b\uff08 BaseRequestHandler \u548c StreamRequestHandler \uff09\u3002\nStreamRequestHandler \u66f4\u52a0\u7075\u6d3b\u70b9\uff0c\u80fd\u901a\u8fc7\u8bbe\u7f6e\u5176\u4ed6\u7684\u7c7b\u53d8\u91cf\u6765\u652f\u6301\u4e00\u4e9b\u65b0\u7684\u7279\u6027\u3002\u6bd4\u5982\uff1a"
      ]
    },
    {
      "cell_type": "code",
      "execution_count": null,
      "metadata": {},
      "outputs": [],
      "source": [
        "i\nm\np\no\nr\nt\n \ns\no\nc\nk\ne\nt\n\n\n\n\nc\nl\na\ns\ns\n \nE\nc\nh\no\nH\na\nn\nd\nl\ne\nr\n(\nS\nt\nr\ne\na\nm\nR\ne\nq\nu\ne\ns\nt\nH\na\nn\nd\nl\ne\nr\n)\n:\n\n\n \n \n \n \n#\n \nO\np\nt\ni\no\nn\na\nl\n \ns\ne\nt\nt\ni\nn\ng\ns\n \n(\nd\ne\nf\na\nu\nl\nt\ns\n \ns\nh\no\nw\nn\n)\n\n\n \n \n \n \nt\ni\nm\ne\no\nu\nt\n \n=\n \n5\n \n \n \n \n \n \n \n \n \n \n \n \n \n \n \n \n \n \n \n \n \n \n#\n \nT\ni\nm\ne\no\nu\nt\n \no\nn\n \na\nl\nl\n \ns\no\nc\nk\ne\nt\n \no\np\ne\nr\na\nt\ni\no\nn\ns\n\n\n \n \n \n \nr\nb\nu\nf\ns\ni\nz\ne\n \n=\n \n-\n1\n \n \n \n \n \n \n \n \n \n \n \n \n \n \n \n \n \n \n \n \n#\n \nR\ne\na\nd\n \nb\nu\nf\nf\ne\nr\n \ns\ni\nz\ne\n\n\n \n \n \n \nw\nb\nu\nf\ns\ni\nz\ne\n \n=\n \n0\n \n \n \n \n \n \n \n \n \n \n \n \n \n \n \n \n \n \n \n \n \n#\n \nW\nr\ni\nt\ne\n \nb\nu\nf\nf\ne\nr\n \ns\ni\nz\ne\n\n\n \n \n \n \nd\ni\ns\na\nb\nl\ne\n_\nn\na\ng\nl\ne\n_\na\nl\ng\no\nr\ni\nt\nh\nm\n \n=\n \nF\na\nl\ns\ne\n \n \n#\n \nS\ne\nt\ns\n \nT\nC\nP\n_\nN\nO\nD\nE\nL\nA\nY\n \ns\no\nc\nk\ne\nt\n \no\np\nt\ni\no\nn\n\n\n \n \n \n \nd\ne\nf\n \nh\na\nn\nd\nl\ne\n(\ns\ne\nl\nf\n)\n:\n\n\n \n \n \n \n \n \n \n \np\nr\ni\nn\nt\n(\n'\nG\no\nt\n \nc\no\nn\nn\ne\nc\nt\ni\no\nn\n \nf\nr\no\nm\n'\n,\n \ns\ne\nl\nf\n.\nc\nl\ni\ne\nn\nt\n_\na\nd\nd\nr\ne\ns\ns\n)\n\n\n \n \n \n \n \n \n \n \nt\nr\ny\n:\n\n\n \n \n \n \n \n \n \n \n \n \n \n \nf\no\nr\n \nl\ni\nn\ne\n \ni\nn\n \ns\ne\nl\nf\n.\nr\nf\ni\nl\ne\n:\n\n\n \n \n \n \n \n \n \n \n \n \n \n \n \n \n \n \n#\n \ns\ne\nl\nf\n.\nw\nf\ni\nl\ne\n \ni\ns\n \na\n \nf\ni\nl\ne\n-\nl\ni\nk\ne\n \no\nb\nj\ne\nc\nt\n \nf\no\nr\n \nw\nr\ni\nt\ni\nn\ng\n\n\n \n \n \n \n \n \n \n \n \n \n \n \n \n \n \n \ns\ne\nl\nf\n.\nw\nf\ni\nl\ne\n.\nw\nr\ni\nt\ne\n(\nl\ni\nn\ne\n)\n\n\n \n \n \n \n \n \n \n \ne\nx\nc\ne\np\nt\n \ns\no\nc\nk\ne\nt\n.\nt\ni\nm\ne\no\nu\nt\n:\n\n\n \n \n \n \n \n \n \n \n \n \n \n \np\nr\ni\nn\nt\n(\n'\nT\ni\nm\ne\nd\n \no\nu\nt\n!\n'\n)\n\n"
      ]
    },
    {
      "cell_type": "markdown",
      "metadata": {},
      "source": [
        "\u6700\u540e\uff0c\u8fd8\u9700\u8981\u6ce8\u610f\u7684\u662f\u5de8\u5927\u90e8\u5206Python\u7684\u9ad8\u5c42\u7f51\u7edc\u6a21\u5757\uff08\u6bd4\u5982HTTP\u3001XML-RPC\u7b49\uff09\u90fd\u662f\u5efa\u7acb\u5728 socketserver \u529f\u80fd\u4e4b\u4e0a\u3002\n\u4e5f\u5c31\u662f\u8bf4\uff0c\u76f4\u63a5\u4f7f\u7528 socket \u5e93\u6765\u5b9e\u73b0\u670d\u52a1\u5668\u4e5f\u5e76\u4e0d\u662f\u5f88\u96be\u3002\n\u4e0b\u9762\u662f\u4e00\u4e2a\u4f7f\u7528 socket \u76f4\u63a5\u7f16\u7a0b\u5b9e\u73b0\u7684\u4e00\u4e2a\u670d\u52a1\u5668\u7b80\u5355\u4f8b\u5b50\uff1a"
      ]
    },
    {
      "cell_type": "code",
      "execution_count": null,
      "metadata": {},
      "outputs": [],
      "source": [
        "f\nr\no\nm\n \ns\no\nc\nk\ne\nt\n \ni\nm\np\no\nr\nt\n \ns\no\nc\nk\ne\nt\n,\n \nA\nF\n_\nI\nN\nE\nT\n,\n \nS\nO\nC\nK\n_\nS\nT\nR\nE\nA\nM\n\n\n\n\nd\ne\nf\n \ne\nc\nh\no\n_\nh\na\nn\nd\nl\ne\nr\n(\na\nd\nd\nr\ne\ns\ns\n,\n \nc\nl\ni\ne\nn\nt\n_\ns\no\nc\nk\n)\n:\n\n\n \n \n \n \np\nr\ni\nn\nt\n(\n'\nG\no\nt\n \nc\no\nn\nn\ne\nc\nt\ni\no\nn\n \nf\nr\no\nm\n \n{\n}\n'\n.\nf\no\nr\nm\na\nt\n(\na\nd\nd\nr\ne\ns\ns\n)\n)\n\n\n \n \n \n \nw\nh\ni\nl\ne\n \nT\nr\nu\ne\n:\n\n\n \n \n \n \n \n \n \n \nm\ns\ng\n \n=\n \nc\nl\ni\ne\nn\nt\n_\ns\no\nc\nk\n.\nr\ne\nc\nv\n(\n8\n1\n9\n2\n)\n\n\n \n \n \n \n \n \n \n \ni\nf\n \nn\no\nt\n \nm\ns\ng\n:\n\n\n \n \n \n \n \n \n \n \n \n \n \n \nb\nr\ne\na\nk\n\n\n \n \n \n \n \n \n \n \nc\nl\ni\ne\nn\nt\n_\ns\no\nc\nk\n.\ns\ne\nn\nd\na\nl\nl\n(\nm\ns\ng\n)\n\n\n \n \n \n \nc\nl\ni\ne\nn\nt\n_\ns\no\nc\nk\n.\nc\nl\no\ns\ne\n(\n)\n\n\n\n\nd\ne\nf\n \ne\nc\nh\no\n_\ns\ne\nr\nv\ne\nr\n(\na\nd\nd\nr\ne\ns\ns\n,\n \nb\na\nc\nk\nl\no\ng\n=\n5\n)\n:\n\n\n \n \n \n \ns\no\nc\nk\n \n=\n \ns\no\nc\nk\ne\nt\n(\nA\nF\n_\nI\nN\nE\nT\n,\n \nS\nO\nC\nK\n_\nS\nT\nR\nE\nA\nM\n)\n\n\n \n \n \n \ns\no\nc\nk\n.\nb\ni\nn\nd\n(\na\nd\nd\nr\ne\ns\ns\n)\n\n\n \n \n \n \ns\no\nc\nk\n.\nl\ni\ns\nt\ne\nn\n(\nb\na\nc\nk\nl\no\ng\n)\n\n\n \n \n \n \nw\nh\ni\nl\ne\n \nT\nr\nu\ne\n:\n\n\n \n \n \n \n \n \n \n \nc\nl\ni\ne\nn\nt\n_\ns\no\nc\nk\n,\n \nc\nl\ni\ne\nn\nt\n_\na\nd\nd\nr\n \n=\n \ns\no\nc\nk\n.\na\nc\nc\ne\np\nt\n(\n)\n\n\n \n \n \n \n \n \n \n \ne\nc\nh\no\n_\nh\na\nn\nd\nl\ne\nr\n(\nc\nl\ni\ne\nn\nt\n_\na\nd\nd\nr\n,\n \nc\nl\ni\ne\nn\nt\n_\ns\no\nc\nk\n)\n\n\n\n\ni\nf\n \n_\n_\nn\na\nm\ne\n_\n_\n \n=\n=\n \n'\n_\n_\nm\na\ni\nn\n_\n_\n'\n:\n\n\n \n \n \n \ne\nc\nh\no\n_\ns\ne\nr\nv\ne\nr\n(\n(\n'\n'\n,\n \n2\n0\n0\n0\n0\n)\n)\n\n"
      ]
    },
    {
      "cell_type": "markdown",
      "metadata": {},
      "source": [
        "## 11.3 \u521b\u5efaUDP\u670d\u52a1\u5668\n"
      ]
    },
    {
      "cell_type": "markdown",
      "metadata": {},
      "source": [
        "### \u95ee\u9898\n"
      ]
    },
    {
      "cell_type": "markdown",
      "metadata": {},
      "source": [
        "\u4f60\u60f3\u5b9e\u73b0\u4e00\u4e2a\u57fa\u4e8eUDP\u534f\u8bae\u7684\u670d\u52a1\u5668\u6765\u4e0e\u5ba2\u6237\u7aef\u901a\u4fe1\u3002"
      ]
    },
    {
      "cell_type": "markdown",
      "metadata": {},
      "source": [
        "### \u89e3\u51b3\u65b9\u6848\n"
      ]
    },
    {
      "cell_type": "markdown",
      "metadata": {},
      "source": [
        "\u8ddfTCP\u4e00\u6837\uff0cUDP\u670d\u52a1\u5668\u4e5f\u53ef\u4ee5\u901a\u8fc7\u4f7f\u7528 socketserver \u5e93\u5f88\u5bb9\u6613\u7684\u88ab\u521b\u5efa\u3002\n\u4f8b\u5982\uff0c\u4e0b\u9762\u662f\u4e00\u4e2a\u7b80\u5355\u7684\u65f6\u95f4\u670d\u52a1\u5668\uff1a"
      ]
    },
    {
      "cell_type": "code",
      "execution_count": null,
      "metadata": {},
      "outputs": [],
      "source": [
        "f\nr\no\nm\n \ns\no\nc\nk\ne\nt\ns\ne\nr\nv\ne\nr\n \ni\nm\np\no\nr\nt\n \nB\na\ns\ne\nR\ne\nq\nu\ne\ns\nt\nH\na\nn\nd\nl\ne\nr\n,\n \nU\nD\nP\nS\ne\nr\nv\ne\nr\n\n\ni\nm\np\no\nr\nt\n \nt\ni\nm\ne\n\n\n\n\nc\nl\na\ns\ns\n \nT\ni\nm\ne\nH\na\nn\nd\nl\ne\nr\n(\nB\na\ns\ne\nR\ne\nq\nu\ne\ns\nt\nH\na\nn\nd\nl\ne\nr\n)\n:\n\n\n \n \n \n \nd\ne\nf\n \nh\na\nn\nd\nl\ne\n(\ns\ne\nl\nf\n)\n:\n\n\n \n \n \n \n \n \n \n \np\nr\ni\nn\nt\n(\n'\nG\no\nt\n \nc\no\nn\nn\ne\nc\nt\ni\no\nn\n \nf\nr\no\nm\n'\n,\n \ns\ne\nl\nf\n.\nc\nl\ni\ne\nn\nt\n_\na\nd\nd\nr\ne\ns\ns\n)\n\n\n \n \n \n \n \n \n \n \n#\n \nG\ne\nt\n \nm\ne\ns\ns\na\ng\ne\n \na\nn\nd\n \nc\nl\ni\ne\nn\nt\n \ns\no\nc\nk\ne\nt\n\n\n \n \n \n \n \n \n \n \nm\ns\ng\n,\n \ns\no\nc\nk\n \n=\n \ns\ne\nl\nf\n.\nr\ne\nq\nu\ne\ns\nt\n\n\n \n \n \n \n \n \n \n \nr\ne\ns\np\n \n=\n \nt\ni\nm\ne\n.\nc\nt\ni\nm\ne\n(\n)\n\n\n \n \n \n \n \n \n \n \ns\no\nc\nk\n.\ns\ne\nn\nd\nt\no\n(\nr\ne\ns\np\n.\ne\nn\nc\no\nd\ne\n(\n'\na\ns\nc\ni\ni\n'\n)\n,\n \ns\ne\nl\nf\n.\nc\nl\ni\ne\nn\nt\n_\na\nd\nd\nr\ne\ns\ns\n)\n\n\n\n\ni\nf\n \n_\n_\nn\na\nm\ne\n_\n_\n \n=\n=\n \n'\n_\n_\nm\na\ni\nn\n_\n_\n'\n:\n\n\n \n \n \n \ns\ne\nr\nv\n \n=\n \nU\nD\nP\nS\ne\nr\nv\ne\nr\n(\n(\n'\n'\n,\n \n2\n0\n0\n0\n0\n)\n,\n \nT\ni\nm\ne\nH\na\nn\nd\nl\ne\nr\n)\n\n\n \n \n \n \ns\ne\nr\nv\n.\ns\ne\nr\nv\ne\n_\nf\no\nr\ne\nv\ne\nr\n(\n)\n\n"
      ]
    },
    {
      "cell_type": "markdown",
      "metadata": {},
      "source": [
        "\u8ddf\u4e4b\u524d\u4e00\u6837\uff0c\u4f60\u5148\u5b9a\u4e49\u4e00\u4e2a\u5b9e\u73b0 handle() \u7279\u6b8a\u65b9\u6cd5\u7684\u7c7b\uff0c\u4e3a\u5ba2\u6237\u7aef\u8fde\u63a5\u670d\u52a1\u3002\n\u8fd9\u4e2a\u7c7b\u7684 request \u5c5e\u6027\u662f\u4e00\u4e2a\u5305\u542b\u4e86\u6570\u636e\u62a5\u548c\u5e95\u5c42socket\u5bf9\u8c61\u7684\u5143\u7ec4\u3002client_address \u5305\u542b\u4e86\u5ba2\u6237\u7aef\u5730\u5740\u3002"
      ]
    },
    {
      "cell_type": "markdown",
      "metadata": {},
      "source": [
        "\u6211\u4eec\u6765\u6d4b\u8bd5\u4e0b\u8fd9\u4e2a\u670d\u52a1\u5668\uff0c\u9996\u5148\u8fd0\u884c\u5b83\uff0c\u7136\u540e\u6253\u5f00\u53e6\u5916\u4e00\u4e2aPython\u8fdb\u7a0b\u5411\u670d\u52a1\u5668\u53d1\u9001\u6d88\u606f\uff1a"
      ]
    },
    {
      "cell_type": "code",
      "execution_count": null,
      "metadata": {},
      "outputs": [],
      "source": [
        "from socket import socket, AF_INET, SOCK_DGRAM\ns = socket(AF_INET, SOCK_DGRAM)\ns.sendto(b'', ('localhost', 20000))"
      ]
    },
    {
      "cell_type": "code",
      "execution_count": null,
      "metadata": {},
      "outputs": [],
      "source": [
        "s.recvfrom(8192)"
      ]
    },
    {
      "cell_type": "markdown",
      "metadata": {},
      "source": [
        "### \u8ba8\u8bba\n"
      ]
    },
    {
      "cell_type": "markdown",
      "metadata": {},
      "source": [
        "\u4e00\u4e2a\u5178\u578b\u7684UDP\u670d\u52a1\u5668\u63a5\u6536\u5230\u8fbe\u7684\u6570\u636e\u62a5(\u6d88\u606f)\u548c\u5ba2\u6237\u7aef\u5730\u5740\u3002\u5982\u679c\u670d\u52a1\u5668\u9700\u8981\u505a\u5e94\u7b54\uff0c\n\u5b83\u8981\u7ed9\u5ba2\u6237\u7aef\u56de\u53d1\u4e00\u4e2a\u6570\u636e\u62a5\u3002\u5bf9\u4e8e\u6570\u636e\u62a5\u7684\u4f20\u9001\uff0c\n\u4f60\u5e94\u8be5\u4f7f\u7528socket\u7684 sendto() \u548c recvfrom() \u65b9\u6cd5\u3002\n\u5c3d\u7ba1\u4f20\u7edf\u7684 send() \u548c recv() \u4e5f\u53ef\u4ee5\u8fbe\u5230\u540c\u6837\u7684\u6548\u679c\uff0c\n\u4f46\u662f\u524d\u9762\u7684\u4e24\u4e2a\u65b9\u6cd5\u5bf9\u4e8eUDP\u8fde\u63a5\u800c\u8a00\u66f4\u666e\u904d\u3002"
      ]
    },
    {
      "cell_type": "markdown",
      "metadata": {},
      "source": [
        "\u7531\u4e8e\u6ca1\u6709\u5e95\u5c42\u7684\u8fde\u63a5\uff0cUPD\u670d\u52a1\u5668\u76f8\u5bf9\u4e8eTCP\u670d\u52a1\u5668\u6765\u8bb2\u5b9e\u73b0\u8d77\u6765\u66f4\u52a0\u7b80\u5355\u3002\n\u4e0d\u8fc7\uff0cUDP\u5929\u751f\u662f\u4e0d\u53ef\u9760\u7684\uff08\u56e0\u4e3a\u901a\u4fe1\u6ca1\u6709\u5efa\u7acb\u8fde\u63a5\uff0c\u6d88\u606f\u53ef\u80fd\u4e22\u5931\uff09\u3002\n\u56e0\u6b64\u9700\u8981\u7531\u4f60\u81ea\u5df1\u6765\u51b3\u5b9a\u8be5\u600e\u6837\u5904\u7406\u4e22\u5931\u6d88\u606f\u7684\u60c5\u51b5\u3002\u8fd9\u4e2a\u5df2\u7ecf\u4e0d\u5728\u672c\u4e66\u8ba8\u8bba\u8303\u56f4\u5185\u4e86\uff0c\n\u4e0d\u8fc7\u901a\u5e38\u6765\u8bf4\uff0c\u5982\u679c\u53ef\u9760\u6027\u5bf9\u4e8e\u4f60\u7a0b\u5e8f\u5f88\u91cd\u8981\uff0c\u4f60\u9700\u8981\u501f\u52a9\u4e8e\u5e8f\u5217\u53f7\u3001\u91cd\u8bd5\u3001\u8d85\u65f6\u4ee5\u53ca\u4e00\u4e9b\u5176\u4ed6\u65b9\u6cd5\u6765\u4fdd\u8bc1\u3002\nUDP\u901a\u5e38\u88ab\u7528\u5728\u90a3\u4e9b\u5bf9\u4e8e\u53ef\u9760\u4f20\u8f93\u8981\u6c42\u4e0d\u662f\u5f88\u9ad8\u7684\u573a\u5408\u3002\u4f8b\u5982\uff0c\u5728\u5b9e\u65f6\u5e94\u7528\u5982\u591a\u5a92\u4f53\u6d41\u4ee5\u53ca\u6e38\u620f\u9886\u57df\uff0c\n\u65e0\u9700\u8fd4\u56de\u6062\u590d\u4e22\u5931\u7684\u6570\u636e\u5305\uff08\u7a0b\u5e8f\u53ea\u9700\u7b80\u5355\u7684\u5ffd\u7565\u5b83\u5e76\u7ee7\u7eed\u5411\u524d\u8fd0\u884c\uff09\u3002"
      ]
    },
    {
      "cell_type": "markdown",
      "metadata": {},
      "source": [
        "UDPServer \u7c7b\u662f\u5355\u7ebf\u7a0b\u7684\uff0c\u4e5f\u5c31\u662f\u8bf4\u4e00\u6b21\u53ea\u80fd\u4e3a\u4e00\u4e2a\u5ba2\u6237\u7aef\u8fde\u63a5\u670d\u52a1\u3002\n\u5b9e\u9645\u4f7f\u7528\u4e2d\uff0c\u8fd9\u4e2a\u65e0\u8bba\u662f\u5bf9\u4e8eUDP\u8fd8\u662fTCP\u90fd\u4e0d\u662f\u4ec0\u4e48\u5927\u95ee\u9898\u3002\n\u5982\u679c\u4f60\u60f3\u8981\u5e76\u53d1\u64cd\u4f5c\uff0c\u53ef\u4ee5\u5b9e\u4f8b\u5316\u4e00\u4e2a ForkingUDPServer \u6216 ThreadingUDPServer \u5bf9\u8c61\uff1a"
      ]
    },
    {
      "cell_type": "code",
      "execution_count": null,
      "metadata": {},
      "outputs": [],
      "source": [
        "f\nr\no\nm\n \ns\no\nc\nk\ne\nt\ns\ne\nr\nv\ne\nr\n \ni\nm\np\no\nr\nt\n \nT\nh\nr\ne\na\nd\ni\nn\ng\nU\nD\nP\nS\ne\nr\nv\ne\nr\n\n\n\n\n \n \n \ni\nf\n \n_\n_\nn\na\nm\ne\n_\n_\n \n=\n=\n \n'\n_\n_\nm\na\ni\nn\n_\n_\n'\n:\n\n\n \n \n \n \ns\ne\nr\nv\n \n=\n \nT\nh\nr\ne\na\nd\ni\nn\ng\nU\nD\nP\nS\ne\nr\nv\ne\nr\n(\n(\n'\n'\n,\n2\n0\n0\n0\n0\n)\n,\n \nT\ni\nm\ne\nH\na\nn\nd\nl\ne\nr\n)\n\n\n \n \n \n \ns\ne\nr\nv\n.\ns\ne\nr\nv\ne\n_\nf\no\nr\ne\nv\ne\nr\n(\n)\n\n"
      ]
    },
    {
      "cell_type": "markdown",
      "metadata": {},
      "source": [
        "\u76f4\u63a5\u4f7f\u7528 socket \u6765\u5b9e\u73b0\u4e00\u4e2aUDP\u670d\u52a1\u5668\u4e5f\u4e0d\u96be\uff0c\u4e0b\u9762\u662f\u4e00\u4e2a\u4f8b\u5b50\uff1a"
      ]
    },
    {
      "cell_type": "code",
      "execution_count": null,
      "metadata": {},
      "outputs": [],
      "source": [
        "f\nr\no\nm\n \ns\no\nc\nk\ne\nt\n \ni\nm\np\no\nr\nt\n \ns\no\nc\nk\ne\nt\n,\n \nA\nF\n_\nI\nN\nE\nT\n,\n \nS\nO\nC\nK\n_\nD\nG\nR\nA\nM\n\n\ni\nm\np\no\nr\nt\n \nt\ni\nm\ne\n\n\n\n\nd\ne\nf\n \nt\ni\nm\ne\n_\ns\ne\nr\nv\ne\nr\n(\na\nd\nd\nr\ne\ns\ns\n)\n:\n\n\n \n \n \n \ns\no\nc\nk\n \n=\n \ns\no\nc\nk\ne\nt\n(\nA\nF\n_\nI\nN\nE\nT\n,\n \nS\nO\nC\nK\n_\nD\nG\nR\nA\nM\n)\n\n\n \n \n \n \ns\no\nc\nk\n.\nb\ni\nn\nd\n(\na\nd\nd\nr\ne\ns\ns\n)\n\n\n \n \n \n \nw\nh\ni\nl\ne\n \nT\nr\nu\ne\n:\n\n\n \n \n \n \n \n \n \n \nm\ns\ng\n,\n \na\nd\nd\nr\n \n=\n \ns\no\nc\nk\n.\nr\ne\nc\nv\nf\nr\no\nm\n(\n8\n1\n9\n2\n)\n\n\n \n \n \n \n \n \n \n \np\nr\ni\nn\nt\n(\n'\nG\no\nt\n \nm\ne\ns\ns\na\ng\ne\n \nf\nr\no\nm\n'\n,\n \na\nd\nd\nr\n)\n\n\n \n \n \n \n \n \n \n \nr\ne\ns\np\n \n=\n \nt\ni\nm\ne\n.\nc\nt\ni\nm\ne\n(\n)\n\n\n \n \n \n \n \n \n \n \ns\no\nc\nk\n.\ns\ne\nn\nd\nt\no\n(\nr\ne\ns\np\n.\ne\nn\nc\no\nd\ne\n(\n'\na\ns\nc\ni\ni\n'\n)\n,\n \na\nd\nd\nr\n)\n\n\n\n\ni\nf\n \n_\n_\nn\na\nm\ne\n_\n_\n \n=\n=\n \n'\n_\n_\nm\na\ni\nn\n_\n_\n'\n:\n\n\n \n \n \n \nt\ni\nm\ne\n_\ns\ne\nr\nv\ne\nr\n(\n(\n'\n'\n,\n \n2\n0\n0\n0\n0\n)\n)\n\n"
      ]
    },
    {
      "cell_type": "markdown",
      "metadata": {},
      "source": [
        "## 11.4 \u901a\u8fc7CIDR\u5730\u5740\u751f\u6210\u5bf9\u5e94\u7684IP\u5730\u5740\u96c6\n"
      ]
    },
    {
      "cell_type": "markdown",
      "metadata": {},
      "source": [
        "### \u95ee\u9898\n"
      ]
    },
    {
      "cell_type": "markdown",
      "metadata": {},
      "source": [
        "\u4f60\u6709\u4e00\u4e2aCIDR\u7f51\u7edc\u5730\u5740\u6bd4\u5982\u201c123.45.67.89/27\u201d\uff0c\u4f60\u60f3\u5c06\u5176\u8f6c\u6362\u6210\u5b83\u6240\u4ee3\u8868\u7684\u6240\u6709IP\n\uff08\u6bd4\u5982\uff0c\u201c123.45.67.64\u201d, \u201c123.45.67.65\u201d, \u2026, \u201c123.45.67.95\u201d)\uff09"
      ]
    },
    {
      "cell_type": "markdown",
      "metadata": {},
      "source": [
        "### \u89e3\u51b3\u65b9\u6848\n"
      ]
    },
    {
      "cell_type": "markdown",
      "metadata": {},
      "source": [
        "\u53ef\u4ee5\u4f7f\u7528 ipaddress \u6a21\u5757\u5f88\u5bb9\u6613\u7684\u5b9e\u73b0\u8fd9\u6837\u7684\u8ba1\u7b97\u3002\u4f8b\u5982\uff1a"
      ]
    },
    {
      "cell_type": "code",
      "execution_count": null,
      "metadata": {},
      "outputs": [],
      "source": [
        "import ipaddress\nnet = ipaddress.ip_network('123.45.67.64/27')\nnet"
      ]
    },
    {
      "cell_type": "code",
      "execution_count": null,
      "metadata": {},
      "outputs": [],
      "source": [
        "for a in net:\n    print(a)"
      ]
    },
    {
      "cell_type": "code",
      "execution_count": null,
      "metadata": {},
      "outputs": [],
      "source": [
        "net6 = ipaddress.ip_network('12:3456:78:90ab:cd:ef01:23:30/125')\nnet6"
      ]
    },
    {
      "cell_type": "code",
      "execution_count": null,
      "metadata": {},
      "outputs": [],
      "source": [
        "for a in net6:\n    print(a)"
      ]
    },
    {
      "cell_type": "markdown",
      "metadata": {},
      "source": [
        "Network \u4e5f\u5141\u8bb8\u50cf\u6570\u7ec4\u4e00\u6837\u7684\u7d22\u5f15\u53d6\u503c\uff0c\u4f8b\u5982\uff1a"
      ]
    },
    {
      "cell_type": "code",
      "execution_count": null,
      "metadata": {},
      "outputs": [],
      "source": [
        "net.num_addresses"
      ]
    },
    {
      "cell_type": "code",
      "execution_count": null,
      "metadata": {},
      "outputs": [],
      "source": [
        "net[0]"
      ]
    },
    {
      "cell_type": "code",
      "execution_count": null,
      "metadata": {},
      "outputs": [],
      "source": [
        "net[1]"
      ]
    },
    {
      "cell_type": "code",
      "execution_count": null,
      "metadata": {},
      "outputs": [],
      "source": [
        "net[-1]"
      ]
    },
    {
      "cell_type": "code",
      "execution_count": null,
      "metadata": {},
      "outputs": [],
      "source": [
        "net[-2]"
      ]
    },
    {
      "cell_type": "markdown",
      "metadata": {},
      "source": [
        "\u53e6\u5916\uff0c\u4f60\u8fd8\u53ef\u4ee5\u6267\u884c\u7f51\u7edc\u6210\u5458\u68c0\u67e5\u4e4b\u7c7b\u7684\u64cd\u4f5c\uff1a"
      ]
    },
    {
      "cell_type": "code",
      "execution_count": null,
      "metadata": {},
      "outputs": [],
      "source": [
        "a = ipaddress.ip_address('123.45.67.69')\na in net"
      ]
    },
    {
      "cell_type": "code",
      "execution_count": null,
      "metadata": {},
      "outputs": [],
      "source": [
        "b = ipaddress.ip_address('123.45.67.123')\nb in net"
      ]
    },
    {
      "cell_type": "markdown",
      "metadata": {},
      "source": [
        "\u4e00\u4e2aIP\u5730\u5740\u548c\u7f51\u7edc\u5730\u5740\u80fd\u901a\u8fc7\u4e00\u4e2aIP\u63a5\u53e3\u6765\u6307\u5b9a\uff0c\u4f8b\u5982\uff1a"
      ]
    },
    {
      "cell_type": "code",
      "execution_count": null,
      "metadata": {},
      "outputs": [],
      "source": [
        "inet = ipaddress.ip_interface('123.45.67.73/27')\ninet.network"
      ]
    },
    {
      "cell_type": "code",
      "execution_count": null,
      "metadata": {},
      "outputs": [],
      "source": [
        "inet.ip"
      ]
    },
    {
      "cell_type": "markdown",
      "metadata": {},
      "source": [
        "### \u8ba8\u8bba\n"
      ]
    },
    {
      "cell_type": "markdown",
      "metadata": {},
      "source": [
        "ipaddress \u6a21\u5757\u6709\u5f88\u591a\u7c7b\u53ef\u4ee5\u8868\u793aIP\u5730\u5740\u3001\u7f51\u7edc\u548c\u63a5\u53e3\u3002\n\u5f53\u4f60\u9700\u8981\u64cd\u4f5c\u7f51\u7edc\u5730\u5740\uff08\u6bd4\u5982\u89e3\u6790\u3001\u6253\u5370\u3001\u9a8c\u8bc1\u7b49\uff09\u7684\u65f6\u5019\u4f1a\u5f88\u6709\u7528\u3002"
      ]
    },
    {
      "cell_type": "markdown",
      "metadata": {},
      "source": [
        "\u8981\u6ce8\u610f\u7684\u662f\uff0cipaddress \u6a21\u5757\u8ddf\u5176\u4ed6\u4e00\u4e9b\u548c\u7f51\u7edc\u76f8\u5173\u7684\u6a21\u5757\u6bd4\u5982 socket \u5e93\u4ea4\u96c6\u5f88\u5c11\u3002\n\u6240\u4ee5\uff0c\u4f60\u4e0d\u80fd\u4f7f\u7528 IPv4Address \u7684\u5b9e\u4f8b\u6765\u4ee3\u66ff\u4e00\u4e2a\u5730\u5740\u5b57\u7b26\u4e32\uff0c\u4f60\u9996\u5148\u5f97\u663e\u5f0f\u7684\u4f7f\u7528 str() \u8f6c\u6362\u5b83\u3002\u4f8b\u5982\uff1a"
      ]
    },
    {
      "cell_type": "code",
      "execution_count": null,
      "metadata": {},
      "outputs": [],
      "source": [
        "a = ipaddress.ip_address('127.0.0.1')\nfrom socket import socket, AF_INET, SOCK_STREAM\ns = socket(AF_INET, SOCK_STREAM)\ns.connect((a, 8080))"
      ]
    },
    {
      "cell_type": "code",
      "execution_count": null,
      "metadata": {},
      "outputs": [],
      "source": [
        "s.connect((str(a), 8080))"
      ]
    },
    {
      "cell_type": "markdown",
      "metadata": {},
      "source": [
        "\u66f4\u591a\u76f8\u5173\u5185\u5bb9\uff0c\u8bf7\u53c2\u8003 An Introduction to the ipaddress Module"
      ]
    },
    {
      "cell_type": "markdown",
      "metadata": {},
      "source": [
        "## 11.5 \u521b\u5efa\u4e00\u4e2a\u7b80\u5355\u7684REST\u63a5\u53e3\n"
      ]
    },
    {
      "cell_type": "markdown",
      "metadata": {},
      "source": [
        "### \u95ee\u9898\n"
      ]
    },
    {
      "cell_type": "markdown",
      "metadata": {},
      "source": [
        "\u4f60\u60f3\u4f7f\u7528\u4e00\u4e2a\u7b80\u5355\u7684REST\u63a5\u53e3\u901a\u8fc7\u7f51\u7edc\u8fdc\u7a0b\u63a7\u5236\u6216\u8bbf\u95ee\u4f60\u7684\u5e94\u7528\u7a0b\u5e8f\uff0c\u4f46\u662f\u4f60\u53c8\u4e0d\u60f3\u81ea\u5df1\u53bb\u5b89\u88c5\u4e00\u4e2a\u5b8c\u6574\u7684web\u6846\u67b6\u3002"
      ]
    },
    {
      "cell_type": "markdown",
      "metadata": {},
      "source": [
        "### \u89e3\u51b3\u65b9\u6848\n"
      ]
    },
    {
      "cell_type": "markdown",
      "metadata": {},
      "source": [
        "\u6784\u5efa\u4e00\u4e2aREST\u98ce\u683c\u7684\u63a5\u53e3\u6700\u7b80\u5355\u7684\u65b9\u6cd5\u662f\u521b\u5efa\u4e00\u4e2a\u57fa\u4e8eWSGI\u6807\u51c6\uff08PEP 3333\uff09\u7684\u5f88\u5c0f\u7684\u5e93\uff0c\u4e0b\u9762\u662f\u4e00\u4e2a\u4f8b\u5b50\uff1a"
      ]
    },
    {
      "cell_type": "code",
      "execution_count": null,
      "metadata": {},
      "outputs": [],
      "source": [
        "#\n \nr\ne\ns\nt\ny\n.\np\ny\n\n\n\n\ni\nm\np\no\nr\nt\n \nc\ng\ni\n\n\n\n\nd\ne\nf\n \nn\no\nt\nf\no\nu\nn\nd\n_\n4\n0\n4\n(\ne\nn\nv\ni\nr\no\nn\n,\n \ns\nt\na\nr\nt\n_\nr\ne\ns\np\no\nn\ns\ne\n)\n:\n\n\n \n \n \n \ns\nt\na\nr\nt\n_\nr\ne\ns\np\no\nn\ns\ne\n(\n'\n4\n0\n4\n \nN\no\nt\n \nF\no\nu\nn\nd\n'\n,\n \n[\n \n(\n'\nC\no\nn\nt\ne\nn\nt\n-\nt\ny\np\ne\n'\n,\n \n'\nt\ne\nx\nt\n/\np\nl\na\ni\nn\n'\n)\n \n]\n)\n\n\n \n \n \n \nr\ne\nt\nu\nr\nn\n \n[\nb\n'\nN\no\nt\n \nF\no\nu\nn\nd\n'\n]\n\n\n\n\nc\nl\na\ns\ns\n \nP\na\nt\nh\nD\ni\ns\np\na\nt\nc\nh\ne\nr\n:\n\n\n \n \n \n \nd\ne\nf\n \n_\n_\ni\nn\ni\nt\n_\n_\n(\ns\ne\nl\nf\n)\n:\n\n\n \n \n \n \n \n \n \n \ns\ne\nl\nf\n.\np\na\nt\nh\nm\na\np\n \n=\n \n{\n \n}\n\n\n\n\n \n \n \n \nd\ne\nf\n \n_\n_\nc\na\nl\nl\n_\n_\n(\ns\ne\nl\nf\n,\n \ne\nn\nv\ni\nr\no\nn\n,\n \ns\nt\na\nr\nt\n_\nr\ne\ns\np\no\nn\ns\ne\n)\n:\n\n\n \n \n \n \n \n \n \n \np\na\nt\nh\n \n=\n \ne\nn\nv\ni\nr\no\nn\n[\n'\nP\nA\nT\nH\n_\nI\nN\nF\nO\n'\n]\n\n\n \n \n \n \n \n \n \n \np\na\nr\na\nm\ns\n \n=\n \nc\ng\ni\n.\nF\ni\ne\nl\nd\nS\nt\no\nr\na\ng\ne\n(\ne\nn\nv\ni\nr\no\nn\n[\n'\nw\ns\ng\ni\n.\ni\nn\np\nu\nt\n'\n]\n,\n\n\n \n \n \n \n \n \n \n \n \n \n \n \n \n \n \n \n \n \n \n \n \n \n \n \n \n \n \n \n \n \n \n \n \n \ne\nn\nv\ni\nr\no\nn\n=\ne\nn\nv\ni\nr\no\nn\n)\n\n\n \n \n \n \n \n \n \n \nm\ne\nt\nh\no\nd\n \n=\n \ne\nn\nv\ni\nr\no\nn\n[\n'\nR\nE\nQ\nU\nE\nS\nT\n_\nM\nE\nT\nH\nO\nD\n'\n]\n.\nl\no\nw\ne\nr\n(\n)\n\n\n \n \n \n \n \n \n \n \ne\nn\nv\ni\nr\no\nn\n[\n'\np\na\nr\na\nm\ns\n'\n]\n \n=\n \n{\n \nk\ne\ny\n:\n \np\na\nr\na\nm\ns\n.\ng\ne\nt\nv\na\nl\nu\ne\n(\nk\ne\ny\n)\n \nf\no\nr\n \nk\ne\ny\n \ni\nn\n \np\na\nr\na\nm\ns\n \n}\n\n\n \n \n \n \n \n \n \n \nh\na\nn\nd\nl\ne\nr\n \n=\n \ns\ne\nl\nf\n.\np\na\nt\nh\nm\na\np\n.\ng\ne\nt\n(\n(\nm\ne\nt\nh\no\nd\n,\np\na\nt\nh\n)\n,\n \nn\no\nt\nf\no\nu\nn\nd\n_\n4\n0\n4\n)\n\n\n \n \n \n \n \n \n \n \nr\ne\nt\nu\nr\nn\n \nh\na\nn\nd\nl\ne\nr\n(\ne\nn\nv\ni\nr\no\nn\n,\n \ns\nt\na\nr\nt\n_\nr\ne\ns\np\no\nn\ns\ne\n)\n\n\n\n\n \n \n \n \nd\ne\nf\n \nr\ne\ng\ni\ns\nt\ne\nr\n(\ns\ne\nl\nf\n,\n \nm\ne\nt\nh\no\nd\n,\n \np\na\nt\nh\n,\n \nf\nu\nn\nc\nt\ni\no\nn\n)\n:\n\n\n \n \n \n \n \n \n \n \ns\ne\nl\nf\n.\np\na\nt\nh\nm\na\np\n[\nm\ne\nt\nh\no\nd\n.\nl\no\nw\ne\nr\n(\n)\n,\n \np\na\nt\nh\n]\n \n=\n \nf\nu\nn\nc\nt\ni\no\nn\n\n\n \n \n \n \n \n \n \n \nr\ne\nt\nu\nr\nn\n \nf\nu\nn\nc\nt\ni\no\nn\n\n"
      ]
    },
    {
      "cell_type": "markdown",
      "metadata": {},
      "source": [
        "\u4e3a\u4e86\u4f7f\u7528\u8fd9\u4e2a\u8c03\u5ea6\u5668\uff0c\u4f60\u53ea\u9700\u8981\u7f16\u5199\u4e0d\u540c\u7684\u5904\u7406\u5668\uff0c\u5c31\u50cf\u4e0b\u9762\u8fd9\u6837\uff1a"
      ]
    },
    {
      "cell_type": "code",
      "execution_count": null,
      "metadata": {},
      "outputs": [],
      "source": [
        "i\nm\np\no\nr\nt\n \nt\ni\nm\ne\n\n\n\n\n_\nh\ne\nl\nl\no\n_\nr\ne\ns\np\n \n=\n \n'\n'\n'\n\\\n\n\n<\nh\nt\nm\nl\n>\n\n\n \n \n<\nh\ne\na\nd\n>\n\n\n \n \n \n \n \n<\nt\ni\nt\nl\ne\n>\nH\ne\nl\nl\no\n \n{\nn\na\nm\ne\n}\n<\n/\nt\ni\nt\nl\ne\n>\n\n\n \n \n \n<\n/\nh\ne\na\nd\n>\n\n\n \n \n \n<\nb\no\nd\ny\n>\n\n\n \n \n \n \n \n<\nh\n1\n>\nH\ne\nl\nl\no\n \n{\nn\na\nm\ne\n}\n!\n<\n/\nh\n1\n>\n\n\n \n \n \n<\n/\nb\no\nd\ny\n>\n\n\n<\n/\nh\nt\nm\nl\n>\n'\n'\n'\n\n\n\n\nd\ne\nf\n \nh\ne\nl\nl\no\n_\nw\no\nr\nl\nd\n(\ne\nn\nv\ni\nr\no\nn\n,\n \ns\nt\na\nr\nt\n_\nr\ne\ns\np\no\nn\ns\ne\n)\n:\n\n\n \n \n \n \ns\nt\na\nr\nt\n_\nr\ne\ns\np\no\nn\ns\ne\n(\n'\n2\n0\n0\n \nO\nK\n'\n,\n \n[\n \n(\n'\nC\no\nn\nt\ne\nn\nt\n-\nt\ny\np\ne\n'\n,\n'\nt\ne\nx\nt\n/\nh\nt\nm\nl\n'\n)\n]\n)\n\n\n \n \n \n \np\na\nr\na\nm\ns\n \n=\n \ne\nn\nv\ni\nr\no\nn\n[\n'\np\na\nr\na\nm\ns\n'\n]\n\n\n \n \n \n \nr\ne\ns\np\n \n=\n \n_\nh\ne\nl\nl\no\n_\nr\ne\ns\np\n.\nf\no\nr\nm\na\nt\n(\nn\na\nm\ne\n=\np\na\nr\na\nm\ns\n.\ng\ne\nt\n(\n'\nn\na\nm\ne\n'\n)\n)\n\n\n \n \n \n \ny\ni\ne\nl\nd\n \nr\ne\ns\np\n.\ne\nn\nc\no\nd\ne\n(\n'\nu\nt\nf\n-\n8\n'\n)\n\n\n\n\n_\nl\no\nc\na\nl\nt\ni\nm\ne\n_\nr\ne\ns\np\n \n=\n \n'\n'\n'\n\\\n\n\n<\n?\nx\nm\nl\n \nv\ne\nr\ns\ni\no\nn\n=\n\"\n1\n.\n0\n\"\n?\n>\n\n\n<\nt\ni\nm\ne\n>\n\n\n \n \n<\ny\ne\na\nr\n>\n{\nt\n.\nt\nm\n_\ny\ne\na\nr\n}\n<\n/\ny\ne\na\nr\n>\n\n\n \n \n<\nm\no\nn\nt\nh\n>\n{\nt\n.\nt\nm\n_\nm\no\nn\n}\n<\n/\nm\no\nn\nt\nh\n>\n\n\n \n \n<\nd\na\ny\n>\n{\nt\n.\nt\nm\n_\nm\nd\na\ny\n}\n<\n/\nd\na\ny\n>\n\n\n \n \n<\nh\no\nu\nr\n>\n{\nt\n.\nt\nm\n_\nh\no\nu\nr\n}\n<\n/\nh\no\nu\nr\n>\n\n\n \n \n<\nm\ni\nn\nu\nt\ne\n>\n{\nt\n.\nt\nm\n_\nm\ni\nn\n}\n<\n/\nm\ni\nn\nu\nt\ne\n>\n\n\n \n \n<\ns\ne\nc\no\nn\nd\n>\n{\nt\n.\nt\nm\n_\ns\ne\nc\n}\n<\n/\ns\ne\nc\no\nn\nd\n>\n\n\n<\n/\nt\ni\nm\ne\n>\n'\n'\n'\n\n\n\n\nd\ne\nf\n \nl\no\nc\na\nl\nt\ni\nm\ne\n(\ne\nn\nv\ni\nr\no\nn\n,\n \ns\nt\na\nr\nt\n_\nr\ne\ns\np\no\nn\ns\ne\n)\n:\n\n\n \n \n \n \ns\nt\na\nr\nt\n_\nr\ne\ns\np\no\nn\ns\ne\n(\n'\n2\n0\n0\n \nO\nK\n'\n,\n \n[\n \n(\n'\nC\no\nn\nt\ne\nn\nt\n-\nt\ny\np\ne\n'\n,\n \n'\na\np\np\nl\ni\nc\na\nt\ni\no\nn\n/\nx\nm\nl\n'\n)\n \n]\n)\n\n\n \n \n \n \nr\ne\ns\np\n \n=\n \n_\nl\no\nc\na\nl\nt\ni\nm\ne\n_\nr\ne\ns\np\n.\nf\no\nr\nm\na\nt\n(\nt\n=\nt\ni\nm\ne\n.\nl\no\nc\na\nl\nt\ni\nm\ne\n(\n)\n)\n\n\n \n \n \n \ny\ni\ne\nl\nd\n \nr\ne\ns\np\n.\ne\nn\nc\no\nd\ne\n(\n'\nu\nt\nf\n-\n8\n'\n)\n\n\n\n\ni\nf\n \n_\n_\nn\na\nm\ne\n_\n_\n \n=\n=\n \n'\n_\n_\nm\na\ni\nn\n_\n_\n'\n:\n\n\n \n \n \n \nf\nr\no\nm\n \nr\ne\ns\nt\ny\n \ni\nm\np\no\nr\nt\n \nP\na\nt\nh\nD\ni\ns\np\na\nt\nc\nh\ne\nr\n\n\n \n \n \n \nf\nr\no\nm\n \nw\ns\ng\ni\nr\ne\nf\n.\ns\ni\nm\np\nl\ne\n_\ns\ne\nr\nv\ne\nr\n \ni\nm\np\no\nr\nt\n \nm\na\nk\ne\n_\ns\ne\nr\nv\ne\nr\n\n\n\n\n \n \n \n \n#\n \nC\nr\ne\na\nt\ne\n \nt\nh\ne\n \nd\ni\ns\np\na\nt\nc\nh\ne\nr\n \na\nn\nd\n \nr\ne\ng\ni\ns\nt\ne\nr\n \nf\nu\nn\nc\nt\ni\no\nn\ns\n\n\n \n \n \n \nd\ni\ns\np\na\nt\nc\nh\ne\nr\n \n=\n \nP\na\nt\nh\nD\ni\ns\np\na\nt\nc\nh\ne\nr\n(\n)\n\n\n \n \n \n \nd\ni\ns\np\na\nt\nc\nh\ne\nr\n.\nr\ne\ng\ni\ns\nt\ne\nr\n(\n'\nG\nE\nT\n'\n,\n \n'\n/\nh\ne\nl\nl\no\n'\n,\n \nh\ne\nl\nl\no\n_\nw\no\nr\nl\nd\n)\n\n\n \n \n \n \nd\ni\ns\np\na\nt\nc\nh\ne\nr\n.\nr\ne\ng\ni\ns\nt\ne\nr\n(\n'\nG\nE\nT\n'\n,\n \n'\n/\nl\no\nc\na\nl\nt\ni\nm\ne\n'\n,\n \nl\no\nc\na\nl\nt\ni\nm\ne\n)\n\n\n\n\n \n \n \n \n#\n \nL\na\nu\nn\nc\nh\n \na\n \nb\na\ns\ni\nc\n \ns\ne\nr\nv\ne\nr\n\n\n \n \n \n \nh\nt\nt\np\nd\n \n=\n \nm\na\nk\ne\n_\ns\ne\nr\nv\ne\nr\n(\n'\n'\n,\n \n8\n0\n8\n0\n,\n \nd\ni\ns\np\na\nt\nc\nh\ne\nr\n)\n\n\n \n \n \n \np\nr\ni\nn\nt\n(\n'\nS\ne\nr\nv\ni\nn\ng\n \no\nn\n \np\no\nr\nt\n \n8\n0\n8\n0\n.\n.\n.\n'\n)\n\n\n \n \n \n \nh\nt\nt\np\nd\n.\ns\ne\nr\nv\ne\n_\nf\no\nr\ne\nv\ne\nr\n(\n)\n\n"
      ]
    },
    {
      "cell_type": "markdown",
      "metadata": {},
      "source": [
        "\u8981\u6d4b\u8bd5\u4e0b\u8fd9\u4e2a\u670d\u52a1\u5668\uff0c\u4f60\u53ef\u4ee5\u4f7f\u7528\u4e00\u4e2a\u6d4f\u89c8\u5668\u6216 urllib \u548c\u5b83\u4ea4\u4e92\u3002\u4f8b\u5982\uff1a"
      ]
    },
    {
      "cell_type": "code",
      "execution_count": null,
      "metadata": {},
      "outputs": [],
      "source": [
        "u = urlopen('http://localhost:8080/hello?name=Guido')\nprint(u.read().decode('utf-8'))"
      ]
    },
    {
      "cell_type": "code",
      "execution_count": null,
      "metadata": {},
      "outputs": [],
      "source": [
        "u = urlopen('http://localhost:8080/localtime')\nprint(u.read().decode('utf-8'))"
      ]
    },
    {
      "cell_type": "markdown",
      "metadata": {},
      "source": [
        "### \u8ba8\u8bba\n"
      ]
    },
    {
      "cell_type": "markdown",
      "metadata": {},
      "source": [
        "\u5728\u7f16\u5199REST\u63a5\u53e3\u65f6\uff0c\u901a\u5e38\u90fd\u662f\u670d\u52a1\u4e8e\u666e\u901a\u7684HTTP\u8bf7\u6c42\u3002\u4f46\u662f\u8ddf\u90a3\u4e9b\u529f\u80fd\u5b8c\u6574\u7684\u7f51\u7ad9\u76f8\u6bd4\uff0c\u4f60\u901a\u5e38\u53ea\u9700\u8981\u5904\u7406\u6570\u636e\u3002\n\u8fd9\u4e9b\u6570\u636e\u4ee5\u5404\u79cd\u6807\u51c6\u683c\u5f0f\u7f16\u7801\uff0c\u6bd4\u5982XML\u3001JSON\u6216CSV\u3002\n\u5c3d\u7ba1\u7a0b\u5e8f\u770b\u4e0a\u53bb\u5f88\u7b80\u5355\uff0c\u4f46\u662f\u4ee5\u8fd9\u79cd\u65b9\u5f0f\u63d0\u4f9b\u7684API\u5bf9\u4e8e\u5f88\u591a\u5e94\u7528\u7a0b\u5e8f\u6765\u8bb2\u662f\u975e\u5e38\u6709\u7528\u7684\u3002"
      ]
    },
    {
      "cell_type": "markdown",
      "metadata": {},
      "source": [
        "\u4f8b\u5982\uff0c\u957f\u671f\u8fd0\u884c\u7684\u7a0b\u5e8f\u53ef\u80fd\u4f1a\u4f7f\u7528\u4e00\u4e2aREST API\u6765\u5b9e\u73b0\u76d1\u63a7\u6216\u8bca\u65ad\u3002\n\u5927\u6570\u636e\u5e94\u7528\u7a0b\u5e8f\u53ef\u4ee5\u4f7f\u7528REST\u6765\u6784\u5efa\u4e00\u4e2a\u6570\u636e\u67e5\u8be2\u6216\u63d0\u53d6\u7cfb\u7edf\u3002\nREST\u8fd8\u80fd\u7528\u6765\u63a7\u5236\u786c\u4ef6\u8bbe\u5907\u6bd4\u5982\u673a\u5668\u4eba\u3001\u4f20\u611f\u5668\u3001\u5de5\u5382\u6216\u706f\u6ce1\u3002\n\u66f4\u91cd\u8981\u7684\u662f\uff0cREST API\u5df2\u7ecf\u88ab\u5927\u91cf\u5ba2\u6237\u7aef\u7f16\u7a0b\u73af\u5883\u6240\u652f\u6301\uff0c\u6bd4\u5982Javascript, Android, iOS\u7b49\u3002\n\u56e0\u6b64\uff0c\u5229\u7528\u8fd9\u79cd\u63a5\u53e3\u53ef\u4ee5\u8ba9\u4f60\u5f00\u53d1\u51fa\u66f4\u52a0\u590d\u6742\u7684\u5e94\u7528\u7a0b\u5e8f\u3002"
      ]
    },
    {
      "cell_type": "markdown",
      "metadata": {},
      "source": [
        "\u4e3a\u4e86\u5b9e\u73b0\u4e00\u4e2a\u7b80\u5355\u7684REST\u63a5\u53e3\uff0c\u4f60\u53ea\u9700\u8ba9\u4f60\u7684\u7a0b\u5e8f\u4ee3\u7801\u6ee1\u8db3Python\u7684WSGI\u6807\u51c6\u5373\u53ef\u3002\nWSGI\u88ab\u6807\u51c6\u5e93\u652f\u6301\uff0c\u540c\u65f6\u4e5f\u88ab\u7edd\u5927\u90e8\u5206\u7b2c\u4e09\u65b9web\u6846\u67b6\u652f\u6301\u3002\n\u56e0\u6b64\uff0c\u5982\u679c\u4f60\u7684\u4ee3\u7801\u9075\u5faa\u8fd9\u4e2a\u6807\u51c6\uff0c\u5728\u540e\u9762\u7684\u4f7f\u7528\u8fc7\u7a0b\u4e2d\u5c31\u4f1a\u66f4\u52a0\u7684\u7075\u6d3b\uff01"
      ]
    },
    {
      "cell_type": "markdown",
      "metadata": {},
      "source": [
        "\u5728WSGI\u4e2d\uff0c\u4f60\u53ef\u4ee5\u50cf\u4e0b\u9762\u8fd9\u6837\u7ea6\u5b9a\u7684\u65b9\u5f0f\u4ee5\u4e00\u4e2a\u53ef\u8c03\u7528\u5bf9\u8c61\u5f62\u5f0f\u6765\u5b9e\u73b0\u4f60\u7684\u7a0b\u5e8f\u3002"
      ]
    },
    {
      "cell_type": "code",
      "execution_count": null,
      "metadata": {},
      "outputs": [],
      "source": [
        "i\nm\np\no\nr\nt\n \nc\ng\ni\n\n\n\n\nd\ne\nf\n \nw\ns\ng\ni\n_\na\np\np\n(\ne\nn\nv\ni\nr\no\nn\n,\n \ns\nt\na\nr\nt\n_\nr\ne\ns\np\no\nn\ns\ne\n)\n:\n\n\n \n \n \n \np\na\ns\ns\n\n"
      ]
    },
    {
      "cell_type": "markdown",
      "metadata": {},
      "source": [
        "environ \u5c5e\u6027\u662f\u4e00\u4e2a\u5b57\u5178\uff0c\u5305\u542b\u4e86\u4eceweb\u670d\u52a1\u5668\u5982Apache[\u53c2\u8003Internet RFC 3875]\u63d0\u4f9b\u7684CGI\u63a5\u53e3\u4e2d\u83b7\u53d6\u7684\u503c\u3002\n\u8981\u5c06\u8fd9\u4e9b\u4e0d\u540c\u7684\u503c\u63d0\u53d6\u51fa\u6765\uff0c\u4f60\u53ef\u4ee5\u50cf\u8fd9\u4e48\u8fd9\u6837\u5199\uff1a"
      ]
    },
    {
      "cell_type": "code",
      "execution_count": null,
      "metadata": {},
      "outputs": [],
      "source": [
        "d\ne\nf\n \nw\ns\ng\ni\n_\na\np\np\n(\ne\nn\nv\ni\nr\no\nn\n,\n \ns\nt\na\nr\nt\n_\nr\ne\ns\np\no\nn\ns\ne\n)\n:\n\n\n \n \n \n \nm\ne\nt\nh\no\nd\n \n=\n \ne\nn\nv\ni\nr\no\nn\n[\n'\nR\nE\nQ\nU\nE\nS\nT\n_\nM\nE\nT\nH\nO\nD\n'\n]\n\n\n \n \n \n \np\na\nt\nh\n \n=\n \ne\nn\nv\ni\nr\no\nn\n[\n'\nP\nA\nT\nH\n_\nI\nN\nF\nO\n'\n]\n\n\n \n \n \n \n#\n \nP\na\nr\ns\ne\n \nt\nh\ne\n \nq\nu\ne\nr\ny\n \np\na\nr\na\nm\ne\nt\ne\nr\ns\n\n\n \n \n \n \np\na\nr\na\nm\ns\n \n=\n \nc\ng\ni\n.\nF\ni\ne\nl\nd\nS\nt\no\nr\na\ng\ne\n(\ne\nn\nv\ni\nr\no\nn\n[\n'\nw\ns\ng\ni\n.\ni\nn\np\nu\nt\n'\n]\n,\n \ne\nn\nv\ni\nr\no\nn\n=\ne\nn\nv\ni\nr\no\nn\n)\n\n"
      ]
    },
    {
      "cell_type": "markdown",
      "metadata": {},
      "source": [
        "\u6211\u4eec\u5c55\u793a\u4e86\u4e00\u4e9b\u5e38\u89c1\u7684\u503c\u3002environ['REQUEST_METHOD'] \u4ee3\u8868\u8bf7\u6c42\u7c7b\u578b\u5982GET\u3001POST\u3001HEAD\u7b49\u3002\nenviron['PATH_INFO'] \u8868\u793a\u88ab\u8bf7\u6c42\u8d44\u6e90\u7684\u8def\u5f84\u3002\n\u8c03\u7528 cgi.FieldStorage() \u53ef\u4ee5\u4ece\u8bf7\u6c42\u4e2d\u63d0\u53d6\u67e5\u8be2\u53c2\u6570\u5e76\u5c06\u5b83\u4eec\u653e\u5165\u4e00\u4e2a\u7c7b\u5b57\u5178\u5bf9\u8c61\u4e2d\u4ee5\u4fbf\u540e\u9762\u4f7f\u7528\u3002"
      ]
    },
    {
      "cell_type": "markdown",
      "metadata": {},
      "source": [
        "start_response \u53c2\u6570\u662f\u4e00\u4e2a\u4e3a\u4e86\u521d\u59cb\u5316\u4e00\u4e2a\u8bf7\u6c42\u5bf9\u8c61\u800c\u5fc5\u987b\u88ab\u8c03\u7528\u7684\u51fd\u6570\u3002\n\u7b2c\u4e00\u4e2a\u53c2\u6570\u662f\u8fd4\u56de\u7684HTTP\u72b6\u6001\u503c\uff0c\u7b2c\u4e8c\u4e2a\u53c2\u6570\u662f\u4e00\u4e2a(\u540d,\u503c)\u5143\u7ec4\u5217\u8868\uff0c\u7528\u6765\u6784\u5efa\u8fd4\u56de\u7684HTTP\u5934\u3002\u4f8b\u5982\uff1a"
      ]
    },
    {
      "cell_type": "code",
      "execution_count": null,
      "metadata": {},
      "outputs": [],
      "source": [
        "d\ne\nf\n \nw\ns\ng\ni\n_\na\np\np\n(\ne\nn\nv\ni\nr\no\nn\n,\n \ns\nt\na\nr\nt\n_\nr\ne\ns\np\no\nn\ns\ne\n)\n:\n\n\n \n \n \n \np\na\ns\ns\n\n\n \n \n \n \ns\nt\na\nr\nt\n_\nr\ne\ns\np\no\nn\ns\ne\n(\n'\n2\n0\n0\n \nO\nK\n'\n,\n \n[\n(\n'\nC\no\nn\nt\ne\nn\nt\n-\nt\ny\np\ne\n'\n,\n \n'\nt\ne\nx\nt\n/\np\nl\na\ni\nn\n'\n)\n]\n)\n\n"
      ]
    },
    {
      "cell_type": "markdown",
      "metadata": {},
      "source": [
        "\u4e3a\u4e86\u8fd4\u56de\u6570\u636e\uff0c\u4e00\u4e2aWSGI\u7a0b\u5e8f\u5fc5\u987b\u8fd4\u56de\u4e00\u4e2a\u5b57\u8282\u5b57\u7b26\u4e32\u5e8f\u5217\u3002\u53ef\u4ee5\u50cf\u4e0b\u9762\u8fd9\u6837\u4f7f\u7528\u4e00\u4e2a\u5217\u8868\u6765\u5b8c\u6210\uff1a"
      ]
    },
    {
      "cell_type": "code",
      "execution_count": null,
      "metadata": {},
      "outputs": [],
      "source": [
        "d\ne\nf\n \nw\ns\ng\ni\n_\na\np\np\n(\ne\nn\nv\ni\nr\no\nn\n,\n \ns\nt\na\nr\nt\n_\nr\ne\ns\np\no\nn\ns\ne\n)\n:\n\n\n \n \n \n \np\na\ns\ns\n\n\n \n \n \n \ns\nt\na\nr\nt\n_\nr\ne\ns\np\no\nn\ns\ne\n(\n'\n2\n0\n0\n \nO\nK\n'\n,\n \n[\n(\n'\nC\no\nn\nt\ne\nn\nt\n-\nt\ny\np\ne\n'\n,\n \n'\nt\ne\nx\nt\n/\np\nl\na\ni\nn\n'\n)\n]\n)\n\n\n \n \n \n \nr\ne\ns\np\n \n=\n \n[\n]\n\n\n \n \n \n \nr\ne\ns\np\n.\na\np\np\ne\nn\nd\n(\nb\n'\nH\ne\nl\nl\no\n \nW\no\nr\nl\nd\n\\\nn\n'\n)\n\n\n \n \n \n \nr\ne\ns\np\n.\na\np\np\ne\nn\nd\n(\nb\n'\nG\no\no\nd\nb\ny\ne\n!\n\\\nn\n'\n)\n\n\n \n \n \n \nr\ne\nt\nu\nr\nn\n \nr\ne\ns\np\n\n"
      ]
    },
    {
      "cell_type": "markdown",
      "metadata": {},
      "source": [
        "\u6216\u8005\uff0c\u4f60\u8fd8\u53ef\u4ee5\u4f7f\u7528 yield \uff1a"
      ]
    },
    {
      "cell_type": "code",
      "execution_count": null,
      "metadata": {},
      "outputs": [],
      "source": [
        "d\ne\nf\n \nw\ns\ng\ni\n_\na\np\np\n(\ne\nn\nv\ni\nr\no\nn\n,\n \ns\nt\na\nr\nt\n_\nr\ne\ns\np\no\nn\ns\ne\n)\n:\n\n\n \n \n \n \np\na\ns\ns\n\n\n \n \n \n \ns\nt\na\nr\nt\n_\nr\ne\ns\np\no\nn\ns\ne\n(\n'\n2\n0\n0\n \nO\nK\n'\n,\n \n[\n(\n'\nC\no\nn\nt\ne\nn\nt\n-\nt\ny\np\ne\n'\n,\n \n'\nt\ne\nx\nt\n/\np\nl\na\ni\nn\n'\n)\n]\n)\n\n\n \n \n \n \ny\ni\ne\nl\nd\n \nb\n'\nH\ne\nl\nl\no\n \nW\no\nr\nl\nd\n\\\nn\n'\n\n\n \n \n \n \ny\ni\ne\nl\nd\n \nb\n'\nG\no\no\nd\nb\ny\ne\n!\n\\\nn\n'\n\n"
      ]
    },
    {
      "cell_type": "markdown",
      "metadata": {},
      "source": [
        "\u8fd9\u91cc\u8981\u5f3a\u8c03\u7684\u4e00\u70b9\u662f\u6700\u540e\u8fd4\u56de\u7684\u5fc5\u987b\u662f\u5b57\u8282\u5b57\u7b26\u4e32\u3002\u5982\u679c\u8fd4\u56de\u7ed3\u679c\u5305\u542b\u6587\u672c\u5b57\u7b26\u4e32\uff0c\u5fc5\u987b\u5148\u5c06\u5176\u7f16\u7801\u6210\u5b57\u8282\u3002\n\u5f53\u7136\uff0c\u5e76\u6ca1\u6709\u8981\u6c42\u4f60\u8fd4\u56de\u7684\u4e00\u5b9a\u662f\u6587\u672c\uff0c\u4f60\u53ef\u4ee5\u5f88\u8f7b\u677e\u7684\u7f16\u5199\u4e00\u4e2a\u751f\u6210\u56fe\u7247\u7684\u7a0b\u5e8f\u3002"
      ]
    },
    {
      "cell_type": "markdown",
      "metadata": {},
      "source": [
        "\u5c3d\u7ba1WSGI\u7a0b\u5e8f\u901a\u5e38\u88ab\u5b9a\u4e49\u6210\u4e00\u4e2a\u51fd\u6570\uff0c\u4e0d\u8fc7\u4f60\u4e5f\u53ef\u4ee5\u4f7f\u7528\u7c7b\u5b9e\u4f8b\u6765\u5b9e\u73b0\uff0c\u53ea\u8981\u5b83\u5b9e\u73b0\u4e86\u5408\u9002\u7684 __call__() \u65b9\u6cd5\u3002\u4f8b\u5982\uff1a"
      ]
    },
    {
      "cell_type": "code",
      "execution_count": null,
      "metadata": {},
      "outputs": [],
      "source": [
        "c\nl\na\ns\ns\n \nW\nS\nG\nI\nA\np\np\nl\ni\nc\na\nt\ni\no\nn\n:\n\n\n \n \n \n \nd\ne\nf\n \n_\n_\ni\nn\ni\nt\n_\n_\n(\ns\ne\nl\nf\n)\n:\n\n\n \n \n \n \n \n \n \n \n.\n.\n.\n\n\n \n \n \n \nd\ne\nf\n \n_\n_\nc\na\nl\nl\n_\n_\n(\ns\ne\nl\nf\n,\n \ne\nn\nv\ni\nr\no\nn\n,\n \ns\nt\na\nr\nt\n_\nr\ne\ns\np\no\nn\ns\ne\n)\n\n\n \n \n \n \n \n \n \n.\n.\n.\n\n"
      ]
    },
    {
      "cell_type": "markdown",
      "metadata": {},
      "source": [
        "\u6211\u4eec\u5df2\u7ecf\u5728\u4e0a\u9762\u4f7f\u7528\u8fd9\u79cd\u6280\u672f\u521b\u5efa PathDispatcher \u7c7b\u3002\n\u8fd9\u4e2a\u5206\u53d1\u5668\u4ec5\u4ec5\u53ea\u662f\u7ba1\u7406\u4e00\u4e2a\u5b57\u5178\uff0c\u5c06(\u65b9\u6cd5,\u8def\u5f84)\u5bf9\u6620\u5c04\u5230\u5904\u7406\u5668\u51fd\u6570\u4e0a\u9762\u3002\n\u5f53\u4e00\u4e2a\u8bf7\u6c42\u5230\u6765\u65f6\uff0c\u5b83\u7684\u65b9\u6cd5\u548c\u8def\u5f84\u88ab\u63d0\u53d6\u51fa\u6765\uff0c\u7136\u540e\u88ab\u5206\u53d1\u5230\u5bf9\u5e94\u7684\u5904\u7406\u5668\u4e0a\u9762\u53bb\u3002\n\u53e6\u5916\uff0c\u4efb\u4f55\u67e5\u8be2\u53d8\u91cf\u4f1a\u88ab\u89e3\u6790\u540e\u653e\u5230\u4e00\u4e2a\u5b57\u5178\u4e2d\uff0c\u4ee5 environ['params'] \u5f62\u5f0f\u5b58\u50a8\u3002\n\u540e\u9762\u8fd9\u4e2a\u6b65\u9aa4\u592a\u5e38\u89c1\uff0c\u6240\u4ee5\u5efa\u8bae\u4f60\u5728\u5206\u53d1\u5668\u91cc\u9762\u5b8c\u6210\uff0c\u8fd9\u6837\u53ef\u4ee5\u7701\u6389\u5f88\u591a\u91cd\u590d\u4ee3\u7801\u3002\n\u4f7f\u7528\u5206\u53d1\u5668\u7684\u65f6\u5019\uff0c\u4f60\u53ea\u9700\u7b80\u5355\u7684\u521b\u5efa\u4e00\u4e2a\u5b9e\u4f8b\uff0c\u7136\u540e\u901a\u8fc7\u5b83\u6ce8\u518c\u5404\u79cdWSGI\u5f62\u5f0f\u7684\u51fd\u6570\u3002\n\u7f16\u5199\u8fd9\u4e9b\u51fd\u6570\u5e94\u8be5\u8d85\u7ea7\u7b80\u5355\u4e86\uff0c\u53ea\u8981\u4f60\u9075\u5faa start_response() \u51fd\u6570\u7684\u7f16\u5199\u89c4\u5219\uff0c\u5e76\u4e14\u6700\u540e\u8fd4\u56de\u5b57\u8282\u5b57\u7b26\u4e32\u5373\u53ef\u3002"
      ]
    },
    {
      "cell_type": "markdown",
      "metadata": {},
      "source": [
        "\u5f53\u7f16\u5199\u8fd9\u79cd\u51fd\u6570\u7684\u65f6\u5019\u8fd8\u9700\u6ce8\u610f\u7684\u4e00\u70b9\u5c31\u662f\u5bf9\u4e8e\u5b57\u7b26\u4e32\u6a21\u677f\u7684\u4f7f\u7528\u3002\n\u6ca1\u4eba\u613f\u610f\u5199\u90a3\u79cd\u5230\u5904\u6df7\u5408\u7740 print() \u51fd\u6570 \u3001XML\u548c\u5927\u91cf\u683c\u5f0f\u5316\u64cd\u4f5c\u7684\u4ee3\u7801\u3002\n\u6211\u4eec\u4e0a\u9762\u4f7f\u7528\u4e86\u4e09\u5f15\u53f7\u5305\u542b\u7684\u9884\u5148\u5b9a\u4e49\u597d\u7684\u5b57\u7b26\u4e32\u6a21\u677f\u3002\n\u8fd9\u79cd\u65b9\u5f0f\u7684\u53ef\u4ee5\u8ba9\u6211\u4eec\u5f88\u5bb9\u6613\u7684\u5728\u4ee5\u540e\u4fee\u6539\u8f93\u51fa\u683c\u5f0f(\u53ea\u9700\u8981\u4fee\u6539\u6a21\u677f\u672c\u8eab\uff0c\u800c\u4e0d\u7528\u52a8\u4efb\u4f55\u4f7f\u7528\u5b83\u7684\u5730\u65b9)\u3002"
      ]
    },
    {
      "cell_type": "markdown",
      "metadata": {},
      "source": [
        "\u6700\u540e\uff0c\u4f7f\u7528WSGI\u8fd8\u6709\u4e00\u4e2a\u5f88\u91cd\u8981\u7684\u90e8\u5206\u5c31\u662f\u6ca1\u6709\u4ec0\u4e48\u5730\u65b9\u662f\u9488\u5bf9\u7279\u5b9aweb\u670d\u52a1\u5668\u7684\u3002\n\u56e0\u4e3a\u6807\u51c6\u5bf9\u4e8e\u670d\u52a1\u5668\u548c\u6846\u67b6\u662f\u4e2d\u7acb\u7684\uff0c\u4f60\u53ef\u4ee5\u5c06\u4f60\u7684\u7a0b\u5e8f\u653e\u5165\u4efb\u4f55\u7c7b\u578b\u670d\u52a1\u5668\u4e2d\u3002\n\u6211\u4eec\u4f7f\u7528\u4e0b\u9762\u7684\u4ee3\u7801\u6d4b\u8bd5\u6d4b\u8bd5\u672c\u8282\u4ee3\u7801\uff1a"
      ]
    },
    {
      "cell_type": "code",
      "execution_count": null,
      "metadata": {},
      "outputs": [],
      "source": [
        "i\nf\n \n_\n_\nn\na\nm\ne\n_\n_\n \n=\n=\n \n'\n_\n_\nm\na\ni\nn\n_\n_\n'\n:\n\n\n \n \n \n \nf\nr\no\nm\n \nw\ns\ng\ni\nr\ne\nf\n.\ns\ni\nm\np\nl\ne\n_\ns\ne\nr\nv\ne\nr\n \ni\nm\np\no\nr\nt\n \nm\na\nk\ne\n_\ns\ne\nr\nv\ne\nr\n\n\n\n\n \n \n \n \n#\n \nC\nr\ne\na\nt\ne\n \nt\nh\ne\n \nd\ni\ns\np\na\nt\nc\nh\ne\nr\n \na\nn\nd\n \nr\ne\ng\ni\ns\nt\ne\nr\n \nf\nu\nn\nc\nt\ni\no\nn\ns\n\n\n \n \n \n \nd\ni\ns\np\na\nt\nc\nh\ne\nr\n \n=\n \nP\na\nt\nh\nD\ni\ns\np\na\nt\nc\nh\ne\nr\n(\n)\n\n\n \n \n \n \np\na\ns\ns\n\n\n\n\n \n \n \n \n#\n \nL\na\nu\nn\nc\nh\n \na\n \nb\na\ns\ni\nc\n \ns\ne\nr\nv\ne\nr\n\n\n \n \n \n \nh\nt\nt\np\nd\n \n=\n \nm\na\nk\ne\n_\ns\ne\nr\nv\ne\nr\n(\n'\n'\n,\n \n8\n0\n8\n0\n,\n \nd\ni\ns\np\na\nt\nc\nh\ne\nr\n)\n\n\n \n \n \n \np\nr\ni\nn\nt\n(\n'\nS\ne\nr\nv\ni\nn\ng\n \no\nn\n \np\no\nr\nt\n \n8\n0\n8\n0\n.\n.\n.\n'\n)\n\n\n \n \n \n \nh\nt\nt\np\nd\n.\ns\ne\nr\nv\ne\n_\nf\no\nr\ne\nv\ne\nr\n(\n)\n\n"
      ]
    },
    {
      "cell_type": "markdown",
      "metadata": {},
      "source": [
        "\u4e0a\u9762\u4ee3\u7801\u521b\u5efa\u4e86\u4e00\u4e2a\u7b80\u5355\u7684\u670d\u52a1\u5668\uff0c\u7136\u540e\u4f60\u5c31\u53ef\u4ee5\u6765\u6d4b\u8bd5\u4e0b\u4f60\u7684\u5b9e\u73b0\u662f\u5426\u80fd\u6b63\u5e38\u5de5\u4f5c\u3002\n\u6700\u540e\uff0c\u5f53\u4f60\u51c6\u5907\u8fdb\u4e00\u6b65\u6269\u5c55\u4f60\u7684\u7a0b\u5e8f\u7684\u65f6\u5019\uff0c\u4f60\u53ef\u4ee5\u4fee\u6539\u8fd9\u4e2a\u4ee3\u7801\uff0c\u8ba9\u5b83\u53ef\u4ee5\u4e3a\u7279\u5b9a\u670d\u52a1\u5668\u5de5\u4f5c\u3002"
      ]
    },
    {
      "cell_type": "markdown",
      "metadata": {},
      "source": [
        "WSGI\u672c\u8eab\u662f\u4e00\u4e2a\u5f88\u5c0f\u7684\u6807\u51c6\u3002\u56e0\u6b64\u5b83\u5e76\u6ca1\u6709\u63d0\u4f9b\u4e00\u4e9b\u9ad8\u7ea7\u7684\u7279\u6027\u6bd4\u5982\u8ba4\u8bc1\u3001cookies\u3001\u91cd\u5b9a\u5411\u7b49\u3002\n\u8fd9\u4e9b\u4f60\u81ea\u5df1\u5b9e\u73b0\u8d77\u6765\u4e5f\u4e0d\u96be\u3002\u4e0d\u8fc7\u5982\u679c\u4f60\u60f3\u8981\u66f4\u591a\u7684\u652f\u6301\uff0c\u53ef\u4ee5\u8003\u8651\u7b2c\u4e09\u65b9\u5e93\uff0c\u6bd4\u5982 WebOb \u6216\u8005 Paste"
      ]
    },
    {
      "cell_type": "markdown",
      "metadata": {},
      "source": [
        "## 11.6 \u901a\u8fc7XML-RPC\u5b9e\u73b0\u7b80\u5355\u7684\u8fdc\u7a0b\u8c03\u7528\n"
      ]
    },
    {
      "cell_type": "markdown",
      "metadata": {},
      "source": [
        "### \u95ee\u9898\n"
      ]
    },
    {
      "cell_type": "markdown",
      "metadata": {},
      "source": [
        "\u4f60\u60f3\u627e\u5230\u4e00\u4e2a\u7b80\u5355\u7684\u65b9\u5f0f\u53bb\u6267\u884c\u8fd0\u884c\u5728\u8fdc\u7a0b\u673a\u5668\u4e0a\u9762\u7684Python\u7a0b\u5e8f\u4e2d\u7684\u51fd\u6570\u6216\u65b9\u6cd5\u3002"
      ]
    },
    {
      "cell_type": "markdown",
      "metadata": {},
      "source": [
        "### \u89e3\u51b3\u65b9\u6848\n"
      ]
    },
    {
      "cell_type": "markdown",
      "metadata": {},
      "source": [
        "\u5b9e\u73b0\u4e00\u4e2a\u8fdc\u7a0b\u65b9\u6cd5\u8c03\u7528\u7684\u6700\u7b80\u5355\u65b9\u5f0f\u662f\u4f7f\u7528XML-RPC\u3002\u4e0b\u9762\u6211\u4eec\u6f14\u793a\u4e00\u4e0b\u4e00\u4e2a\u5b9e\u73b0\u4e86\u952e-\u503c\u5b58\u50a8\u529f\u80fd\u7684\u7b80\u5355\u670d\u52a1\u5668\uff1a"
      ]
    },
    {
      "cell_type": "code",
      "execution_count": null,
      "metadata": {},
      "outputs": [],
      "source": [
        "f\nr\no\nm\n \nx\nm\nl\nr\np\nc\n.\ns\ne\nr\nv\ne\nr\n \ni\nm\np\no\nr\nt\n \nS\ni\nm\np\nl\ne\nX\nM\nL\nR\nP\nC\nS\ne\nr\nv\ne\nr\n\n\n\n\nc\nl\na\ns\ns\n \nK\ne\ny\nV\na\nl\nu\ne\nS\ne\nr\nv\ne\nr\n:\n\n\n \n \n \n \n_\nr\np\nc\n_\nm\ne\nt\nh\no\nd\ns\n_\n \n=\n \n[\n'\ng\ne\nt\n'\n,\n \n'\ns\ne\nt\n'\n,\n \n'\nd\ne\nl\ne\nt\ne\n'\n,\n \n'\ne\nx\ni\ns\nt\ns\n'\n,\n \n'\nk\ne\ny\ns\n'\n]\n\n\n \n \n \n \nd\ne\nf\n \n_\n_\ni\nn\ni\nt\n_\n_\n(\ns\ne\nl\nf\n,\n \na\nd\nd\nr\ne\ns\ns\n)\n:\n\n\n \n \n \n \n \n \n \n \ns\ne\nl\nf\n.\n_\nd\na\nt\na\n \n=\n \n{\n}\n\n\n \n \n \n \n \n \n \n \ns\ne\nl\nf\n.\n_\ns\ne\nr\nv\n \n=\n \nS\ni\nm\np\nl\ne\nX\nM\nL\nR\nP\nC\nS\ne\nr\nv\ne\nr\n(\na\nd\nd\nr\ne\ns\ns\n,\n \na\nl\nl\no\nw\n_\nn\no\nn\ne\n=\nT\nr\nu\ne\n)\n\n\n \n \n \n \n \n \n \n \nf\no\nr\n \nn\na\nm\ne\n \ni\nn\n \ns\ne\nl\nf\n.\n_\nr\np\nc\n_\nm\ne\nt\nh\no\nd\ns\n_\n:\n\n\n \n \n \n \n \n \n \n \n \n \n \n \ns\ne\nl\nf\n.\n_\ns\ne\nr\nv\n.\nr\ne\ng\ni\ns\nt\ne\nr\n_\nf\nu\nn\nc\nt\ni\no\nn\n(\ng\ne\nt\na\nt\nt\nr\n(\ns\ne\nl\nf\n,\n \nn\na\nm\ne\n)\n)\n\n\n\n\n \n \n \n \nd\ne\nf\n \ng\ne\nt\n(\ns\ne\nl\nf\n,\n \nn\na\nm\ne\n)\n:\n\n\n \n \n \n \n \n \n \n \nr\ne\nt\nu\nr\nn\n \ns\ne\nl\nf\n.\n_\nd\na\nt\na\n[\nn\na\nm\ne\n]\n\n\n\n\n \n \n \n \nd\ne\nf\n \ns\ne\nt\n(\ns\ne\nl\nf\n,\n \nn\na\nm\ne\n,\n \nv\na\nl\nu\ne\n)\n:\n\n\n \n \n \n \n \n \n \n \ns\ne\nl\nf\n.\n_\nd\na\nt\na\n[\nn\na\nm\ne\n]\n \n=\n \nv\na\nl\nu\ne\n\n\n\n\n \n \n \n \nd\ne\nf\n \nd\ne\nl\ne\nt\ne\n(\ns\ne\nl\nf\n,\n \nn\na\nm\ne\n)\n:\n\n\n \n \n \n \n \n \n \n \nd\ne\nl\n \ns\ne\nl\nf\n.\n_\nd\na\nt\na\n[\nn\na\nm\ne\n]\n\n\n\n\n \n \n \n \nd\ne\nf\n \ne\nx\ni\ns\nt\ns\n(\ns\ne\nl\nf\n,\n \nn\na\nm\ne\n)\n:\n\n\n \n \n \n \n \n \n \n \nr\ne\nt\nu\nr\nn\n \nn\na\nm\ne\n \ni\nn\n \ns\ne\nl\nf\n.\n_\nd\na\nt\na\n\n\n\n\n \n \n \n \nd\ne\nf\n \nk\ne\ny\ns\n(\ns\ne\nl\nf\n)\n:\n\n\n \n \n \n \n \n \n \n \nr\ne\nt\nu\nr\nn\n \nl\ni\ns\nt\n(\ns\ne\nl\nf\n.\n_\nd\na\nt\na\n)\n\n\n\n\n \n \n \n \nd\ne\nf\n \ns\ne\nr\nv\ne\n_\nf\no\nr\ne\nv\ne\nr\n(\ns\ne\nl\nf\n)\n:\n\n\n \n \n \n \n \n \n \n \ns\ne\nl\nf\n.\n_\ns\ne\nr\nv\n.\ns\ne\nr\nv\ne\n_\nf\no\nr\ne\nv\ne\nr\n(\n)\n\n\n\n\n#\n \nE\nx\na\nm\np\nl\ne\n\n\ni\nf\n \n_\n_\nn\na\nm\ne\n_\n_\n \n=\n=\n \n'\n_\n_\nm\na\ni\nn\n_\n_\n'\n:\n\n\n \n \n \n \nk\nv\ns\ne\nr\nv\n \n=\n \nK\ne\ny\nV\na\nl\nu\ne\nS\ne\nr\nv\ne\nr\n(\n(\n'\n'\n,\n \n1\n5\n0\n0\n0\n)\n)\n\n\n \n \n \n \nk\nv\ns\ne\nr\nv\n.\ns\ne\nr\nv\ne\n_\nf\no\nr\ne\nv\ne\nr\n(\n)\n\n"
      ]
    },
    {
      "cell_type": "markdown",
      "metadata": {},
      "source": [
        "\u4e0b\u9762\u6211\u4eec\u4ece\u4e00\u4e2a\u5ba2\u6237\u7aef\u673a\u5668\u4e0a\u9762\u6765\u8bbf\u95ee\u670d\u52a1\u5668\uff1a"
      ]
    },
    {
      "cell_type": "code",
      "execution_count": null,
      "metadata": {},
      "outputs": [],
      "source": [
        "from xmlrpc.client import ServerProxy\ns = ServerProxy('http://localhost:15000', allow_none=True)\ns.set('foo', 'bar')\ns.set('spam', [1, 2, 3])\ns.keys()"
      ]
    },
    {
      "cell_type": "code",
      "execution_count": null,
      "metadata": {},
      "outputs": [],
      "source": [
        "s.get('foo')"
      ]
    },
    {
      "cell_type": "code",
      "execution_count": null,
      "metadata": {},
      "outputs": [],
      "source": [
        "s.get('spam')"
      ]
    },
    {
      "cell_type": "code",
      "execution_count": null,
      "metadata": {},
      "outputs": [],
      "source": [
        "s.delete('spam')\ns.exists('spam')"
      ]
    },
    {
      "cell_type": "markdown",
      "metadata": {},
      "source": [
        "### \u8ba8\u8bba\n"
      ]
    },
    {
      "cell_type": "markdown",
      "metadata": {},
      "source": [
        "XML-RPC \u53ef\u4ee5\u8ba9\u6211\u4eec\u5f88\u5bb9\u6613\u7684\u6784\u9020\u4e00\u4e2a\u7b80\u5355\u7684\u8fdc\u7a0b\u8c03\u7528\u670d\u52a1\u3002\u4f60\u6240\u9700\u8981\u505a\u7684\u4ec5\u4ec5\u662f\u521b\u5efa\u4e00\u4e2a\u670d\u52a1\u5668\u5b9e\u4f8b\uff0c\n\u901a\u8fc7\u5b83\u7684\u65b9\u6cd5 register_function() \u6765\u6ce8\u518c\u51fd\u6570\uff0c\u7136\u540e\u4f7f\u7528\u65b9\u6cd5 serve_forever() \u542f\u52a8\u5b83\u3002\n\u5728\u4e0a\u9762\u6211\u4eec\u5c06\u8fd9\u4e9b\u6b65\u9aa4\u653e\u5728\u4e00\u8d77\u5199\u5230\u4e00\u4e2a\u7c7b\u4e2d\uff0c\u4e0d\u591f\u8fd9\u5e76\u4e0d\u662f\u5fc5\u987b\u7684\u3002\u6bd4\u5982\u4f60\u8fd8\u53ef\u4ee5\u50cf\u4e0b\u9762\u8fd9\u6837\u521b\u5efa\u4e00\u4e2a\u670d\u52a1\u5668\uff1a"
      ]
    },
    {
      "cell_type": "code",
      "execution_count": null,
      "metadata": {},
      "outputs": [],
      "source": [
        "f\nr\no\nm\n \nx\nm\nl\nr\np\nc\n.\ns\ne\nr\nv\ne\nr\n \ni\nm\np\no\nr\nt\n \nS\ni\nm\np\nl\ne\nX\nM\nL\nR\nP\nC\nS\ne\nr\nv\ne\nr\n\n\nd\ne\nf\n \na\nd\nd\n(\nx\n,\ny\n)\n:\n\n\n \n \n \n \nr\ne\nt\nu\nr\nn\n \nx\n+\ny\n\n\n\n\ns\ne\nr\nv\n \n=\n \nS\ni\nm\np\nl\ne\nX\nM\nL\nR\nP\nC\nS\ne\nr\nv\ne\nr\n(\n(\n'\n'\n,\n \n1\n5\n0\n0\n0\n)\n)\n\n\ns\ne\nr\nv\n.\nr\ne\ng\ni\ns\nt\ne\nr\n_\nf\nu\nn\nc\nt\ni\no\nn\n(\na\nd\nd\n)\n\n\ns\ne\nr\nv\n.\ns\ne\nr\nv\ne\n_\nf\no\nr\ne\nv\ne\nr\n(\n)\n\n"
      ]
    },
    {
      "cell_type": "markdown",
      "metadata": {},
      "source": [
        "XML-RPC\u66b4\u9732\u51fa\u6765\u7684\u51fd\u6570\u53ea\u80fd\u9002\u7528\u4e8e\u90e8\u5206\u6570\u636e\u7c7b\u578b\uff0c\u6bd4\u5982\u5b57\u7b26\u4e32\u3001\u6574\u5f62\u3001\u5217\u8868\u548c\u5b57\u5178\u3002\n\u5bf9\u4e8e\u5176\u4ed6\u7c7b\u578b\u5c31\u5f97\u9700\u8981\u505a\u4e9b\u989d\u5916\u7684\u529f\u8bfe\u4e86\u3002\n\u4f8b\u5982\uff0c\u5982\u679c\u4f60\u60f3\u901a\u8fc7 XML-RPC \u4f20\u9012\u4e00\u4e2a\u5bf9\u8c61\u5b9e\u4f8b\uff0c\u5b9e\u9645\u4e0a\u53ea\u6709\u4ed6\u7684\u5b9e\u4f8b\u5b57\u5178\u88ab\u5904\u7406\uff1a"
      ]
    },
    {
      "cell_type": "code",
      "execution_count": null,
      "metadata": {},
      "outputs": [],
      "source": [
        "class Point:\n    def __init__(self, x, y):\n            self.x = x\n            self.y = y\np = Point(2, 3)\ns.set('foo', p)\ns.get('foo')"
      ]
    },
    {
      "cell_type": "markdown",
      "metadata": {},
      "source": [
        "\u7c7b\u4f3c\u7684\uff0c\u5bf9\u4e8e\u4e8c\u8fdb\u5236\u6570\u636e\u7684\u5904\u7406\u4e5f\u8ddf\u4f60\u60f3\u8c61\u7684\u4e0d\u592a\u4e00\u6837\uff1a"
      ]
    },
    {
      "cell_type": "code",
      "execution_count": null,
      "metadata": {},
      "outputs": [],
      "source": [
        "s.set('foo', b'Hello World')\ns.get('foo')"
      ]
    },
    {
      "cell_type": "code",
      "execution_count": null,
      "metadata": {},
      "outputs": [],
      "source": [
        "_.data"
      ]
    },
    {
      "cell_type": "markdown",
      "metadata": {},
      "source": [
        "\u4e00\u822c\u6765\u8bb2\uff0c\u4f60\u4e0d\u5e94\u8be5\u5c06 XML-RPC \u670d\u52a1\u4ee5\u516c\u5171API\u7684\u65b9\u5f0f\u66b4\u9732\u51fa\u6765\u3002\n\u5bf9\u4e8e\u8fd9\u79cd\u60c5\u51b5\uff0c\u901a\u5e38\u5206\u5e03\u5f0f\u5e94\u7528\u7a0b\u5e8f\u4f1a\u662f\u4e00\u4e2a\u66f4\u597d\u7684\u9009\u62e9\u3002"
      ]
    },
    {
      "cell_type": "markdown",
      "metadata": {},
      "source": [
        "XML-RPC\u7684\u4e00\u4e2a\u7f3a\u70b9\u662f\u5b83\u7684\u6027\u80fd\u3002SimpleXMLRPCServer \u7684\u5b9e\u73b0\u662f\u5355\u7ebf\u7a0b\u7684\uff0c\n\u6240\u4ee5\u5b83\u4e0d\u9002\u5408\u4e8e\u5927\u578b\u7a0b\u5e8f\uff0c\u5c3d\u7ba1\u6211\u4eec\u572811.2\u5c0f\u8282\u4e2d\u6f14\u793a\u8fc7\u5b83\u662f\u53ef\u4ee5\u901a\u8fc7\u591a\u7ebf\u7a0b\u6765\u6267\u884c\u7684\u3002\n\u53e6\u5916\uff0c\u7531\u4e8e XML-RPC \u5c06\u6240\u6709\u6570\u636e\u90fd\u5e8f\u5217\u5316\u4e3aXML\u683c\u5f0f\uff0c\u6240\u4ee5\u5b83\u4f1a\u6bd4\u5176\u4ed6\u7684\u65b9\u5f0f\u8fd0\u884c\u7684\u6162\u4e00\u4e9b\u3002\n\u4f46\u662f\u5b83\u4e5f\u6709\u4f18\u70b9\uff0c\u8fd9\u79cd\u65b9\u5f0f\u7684\u7f16\u7801\u53ef\u4ee5\u88ab\u7edd\u5927\u90e8\u5206\u5176\u4ed6\u7f16\u7a0b\u8bed\u8a00\u652f\u6301\u3002\n\u901a\u8fc7\u4f7f\u7528\u8fd9\u79cd\u65b9\u5f0f\uff0c\u5176\u4ed6\u8bed\u8a00\u7684\u5ba2\u6237\u7aef\u7a0b\u5e8f\u90fd\u80fd\u8bbf\u95ee\u4f60\u7684\u670d\u52a1\u3002"
      ]
    },
    {
      "cell_type": "markdown",
      "metadata": {},
      "source": [
        "\u867d\u7136XML-RPC\u6709\u5f88\u591a\u7f3a\u70b9\uff0c\u4f46\u662f\u5982\u679c\u4f60\u9700\u8981\u5feb\u901f\u6784\u5efa\u4e00\u4e2a\u7b80\u5355\u8fdc\u7a0b\u8fc7\u7a0b\u8c03\u7528\u7cfb\u7edf\u7684\u8bdd\uff0c\u5b83\u4ecd\u7136\u503c\u5f97\u53bb\u5b66\u4e60\u7684\u3002\n\u6709\u65f6\u5019\uff0c\u7b80\u5355\u7684\u65b9\u6848\u5c31\u5df2\u7ecf\u8db3\u591f\u4e86\u3002"
      ]
    },
    {
      "cell_type": "markdown",
      "metadata": {},
      "source": [
        "## 11.7 \u5728\u4e0d\u540c\u7684Python\u89e3\u91ca\u5668\u4e4b\u95f4\u4ea4\u4e92\n"
      ]
    },
    {
      "cell_type": "markdown",
      "metadata": {},
      "source": [
        "### \u95ee\u9898\n"
      ]
    },
    {
      "cell_type": "markdown",
      "metadata": {},
      "source": [
        "\u4f60\u5728\u4e0d\u540c\u7684\u673a\u5668\u4e0a\u9762\u8fd0\u884c\u7740\u591a\u4e2aPython\u89e3\u91ca\u5668\u5b9e\u4f8b\uff0c\u5e76\u5e0c\u671b\u80fd\u591f\u5728\u8fd9\u4e9b\u89e3\u91ca\u5668\u4e4b\u95f4\u901a\u8fc7\u6d88\u606f\u6765\u4ea4\u6362\u6570\u636e\u3002"
      ]
    },
    {
      "cell_type": "markdown",
      "metadata": {},
      "source": [
        "### \u89e3\u51b3\u65b9\u6848\n"
      ]
    },
    {
      "cell_type": "markdown",
      "metadata": {},
      "source": [
        "\u901a\u8fc7\u4f7f\u7528 multiprocessing.connection \u6a21\u5757\u53ef\u4ee5\u5f88\u5bb9\u6613\u7684\u5b9e\u73b0\u89e3\u91ca\u5668\u4e4b\u95f4\u7684\u901a\u4fe1\u3002\n\u4e0b\u9762\u662f\u4e00\u4e2a\u7b80\u5355\u7684\u5e94\u7b54\u670d\u52a1\u5668\u4f8b\u5b50\uff1a"
      ]
    },
    {
      "cell_type": "code",
      "execution_count": null,
      "metadata": {},
      "outputs": [],
      "source": [
        "f\nr\no\nm\n \nm\nu\nl\nt\ni\np\nr\no\nc\ne\ns\ns\ni\nn\ng\n.\nc\no\nn\nn\ne\nc\nt\ni\no\nn\n \ni\nm\np\no\nr\nt\n \nL\ni\ns\nt\ne\nn\ne\nr\n\n\ni\nm\np\no\nr\nt\n \nt\nr\na\nc\ne\nb\na\nc\nk\n\n\n\n\nd\ne\nf\n \ne\nc\nh\no\n_\nc\nl\ni\ne\nn\nt\n(\nc\no\nn\nn\n)\n:\n\n\n \n \n \n \nt\nr\ny\n:\n\n\n \n \n \n \n \n \n \n \nw\nh\ni\nl\ne\n \nT\nr\nu\ne\n:\n\n\n \n \n \n \n \n \n \n \n \n \n \n \nm\ns\ng\n \n=\n \nc\no\nn\nn\n.\nr\ne\nc\nv\n(\n)\n\n\n \n \n \n \n \n \n \n \n \n \n \n \nc\no\nn\nn\n.\ns\ne\nn\nd\n(\nm\ns\ng\n)\n\n\n \n \n \n \ne\nx\nc\ne\np\nt\n \nE\nO\nF\nE\nr\nr\no\nr\n:\n\n\n \n \n \n \n \n \n \n \np\nr\ni\nn\nt\n(\n'\nC\no\nn\nn\ne\nc\nt\ni\no\nn\n \nc\nl\no\ns\ne\nd\n'\n)\n\n\n\n\nd\ne\nf\n \ne\nc\nh\no\n_\ns\ne\nr\nv\ne\nr\n(\na\nd\nd\nr\ne\ns\ns\n,\n \na\nu\nt\nh\nk\ne\ny\n)\n:\n\n\n \n \n \n \ns\ne\nr\nv\n \n=\n \nL\ni\ns\nt\ne\nn\ne\nr\n(\na\nd\nd\nr\ne\ns\ns\n,\n \na\nu\nt\nh\nk\ne\ny\n=\na\nu\nt\nh\nk\ne\ny\n)\n\n\n \n \n \n \nw\nh\ni\nl\ne\n \nT\nr\nu\ne\n:\n\n\n \n \n \n \n \n \n \n \nt\nr\ny\n:\n\n\n \n \n \n \n \n \n \n \n \n \n \n \nc\nl\ni\ne\nn\nt\n \n=\n \ns\ne\nr\nv\n.\na\nc\nc\ne\np\nt\n(\n)\n\n\n\n\n \n \n \n \n \n \n \n \n \n \n \n \ne\nc\nh\no\n_\nc\nl\ni\ne\nn\nt\n(\nc\nl\ni\ne\nn\nt\n)\n\n\n \n \n \n \n \n \n \n \ne\nx\nc\ne\np\nt\n \nE\nx\nc\ne\np\nt\ni\no\nn\n:\n\n\n \n \n \n \n \n \n \n \n \n \n \n \nt\nr\na\nc\ne\nb\na\nc\nk\n.\np\nr\ni\nn\nt\n_\ne\nx\nc\n(\n)\n\n\n\n\ne\nc\nh\no\n_\ns\ne\nr\nv\ne\nr\n(\n(\n'\n'\n,\n \n2\n5\n0\n0\n0\n)\n,\n \na\nu\nt\nh\nk\ne\ny\n=\nb\n'\np\ne\ne\nk\na\nb\no\no\n'\n)\n\n"
      ]
    },
    {
      "cell_type": "markdown",
      "metadata": {},
      "source": [
        "\u7136\u540e\u5ba2\u6237\u7aef\u8fde\u63a5\u670d\u52a1\u5668\u5e76\u53d1\u9001\u6d88\u606f\u7684\u7b80\u5355\u793a\u4f8b\uff1a"
      ]
    },
    {
      "cell_type": "code",
      "execution_count": null,
      "metadata": {},
      "outputs": [],
      "source": [
        "from multiprocessing.connection import Client\nc = Client(('localhost', 25000), authkey=b'peekaboo')\nc.send('hello')\nc.recv()"
      ]
    },
    {
      "cell_type": "code",
      "execution_count": null,
      "metadata": {},
      "outputs": [],
      "source": [
        "c.send(42)\nc.recv()"
      ]
    },
    {
      "cell_type": "code",
      "execution_count": null,
      "metadata": {},
      "outputs": [],
      "source": [
        "c.send([1, 2, 3, 4, 5])\nc.recv()"
      ]
    },
    {
      "cell_type": "markdown",
      "metadata": {},
      "source": [
        "\u8ddf\u5e95\u5c42socket\u4e0d\u540c\u7684\u662f\uff0c\u6bcf\u4e2a\u6d88\u606f\u4f1a\u5b8c\u6574\u4fdd\u5b58\uff08\u6bcf\u4e00\u4e2a\u901a\u8fc7send()\u53d1\u9001\u7684\u5bf9\u8c61\u80fd\u901a\u8fc7recv()\u6765\u5b8c\u6574\u63a5\u53d7\uff09\u3002\n\u53e6\u5916\uff0c\u6240\u6709\u5bf9\u8c61\u4f1a\u901a\u8fc7pickle\u5e8f\u5217\u5316\u3002\u56e0\u6b64\uff0c\u4efb\u4f55\u517c\u5bb9pickle\u7684\u5bf9\u8c61\u90fd\u80fd\u5728\u6b64\u8fde\u63a5\u4e0a\u9762\u88ab\u53d1\u9001\u548c\u63a5\u53d7\u3002"
      ]
    },
    {
      "cell_type": "markdown",
      "metadata": {},
      "source": [
        "### \u8ba8\u8bba\n"
      ]
    },
    {
      "cell_type": "markdown",
      "metadata": {},
      "source": [
        "\u76ee\u524d\u6709\u5f88\u591a\u7528\u6765\u5b9e\u73b0\u5404\u79cd\u6d88\u606f\u4f20\u8f93\u7684\u5305\u548c\u51fd\u6570\u5e93\uff0c\u6bd4\u5982ZeroMQ\u3001Celery\u7b49\u3002\n\u4f60\u8fd8\u6709\u53e6\u5916\u4e00\u79cd\u9009\u62e9\u5c31\u662f\u81ea\u5df1\u5728\u5e95\u5c42socket\u57fa\u7840\u4e4b\u4e0a\u6765\u5b9e\u73b0\u4e00\u4e2a\u6d88\u606f\u4f20\u8f93\u5c42\u3002\n\u4f46\u662f\u4f60\u60f3\u8981\u7b80\u5355\u4e00\u70b9\u7684\u65b9\u6848\uff0c\u90a3\u4e48\u8fd9\u65f6\u5019 multiprocessing.connection \u5c31\u6d3e\u4e0a\u7528\u573a\u4e86\u3002\n\u4ec5\u4ec5\u4f7f\u7528\u4e00\u4e9b\u7b80\u5355\u7684\u8bed\u53e5\u5373\u53ef\u5b9e\u73b0\u591a\u4e2a\u89e3\u91ca\u5668\u4e4b\u95f4\u7684\u6d88\u606f\u901a\u4fe1\u3002"
      ]
    },
    {
      "cell_type": "markdown",
      "metadata": {},
      "source": [
        "\u5982\u679c\u4f60\u7684\u89e3\u91ca\u5668\u8fd0\u884c\u5728\u540c\u4e00\u53f0\u673a\u5668\u4e0a\u9762\uff0c\u90a3\u4e48\u4f60\u53ef\u4ee5\u4f7f\u7528\u53e6\u5916\u7684\u901a\u4fe1\u673a\u5236\uff0c\u6bd4\u5982Unix\u57df\u5957\u63a5\u5b57\u6216\u8005\u662fWindows\u547d\u540d\u7ba1\u9053\u3002\n\u8981\u60f3\u4f7f\u7528UNIX\u57df\u5957\u63a5\u5b57\u6765\u521b\u5efa\u4e00\u4e2a\u8fde\u63a5\uff0c\u53ea\u9700\u7b80\u5355\u7684\u5c06\u5730\u5740\u6539\u5199\u4e00\u4e2a\u6587\u4ef6\u540d\u5373\u53ef\uff1a"
      ]
    },
    {
      "cell_type": "code",
      "execution_count": null,
      "metadata": {},
      "outputs": [],
      "source": [
        "s\n \n=\n \nL\ni\ns\nt\ne\nn\ne\nr\n(\n'\n/\nt\nm\np\n/\nm\ny\nc\no\nn\nn\n'\n,\n \na\nu\nt\nh\nk\ne\ny\n=\nb\n'\np\ne\ne\nk\na\nb\no\no\n'\n)\n\n"
      ]
    },
    {
      "cell_type": "markdown",
      "metadata": {},
      "source": [
        "\u8981\u60f3\u4f7f\u7528Windows\u547d\u540d\u7ba1\u9053\u6765\u521b\u5efa\u8fde\u63a5\uff0c\u53ea\u9700\u50cf\u4e0b\u9762\u8fd9\u6837\u4f7f\u7528\u4e00\u4e2a\u6587\u4ef6\u540d\uff1a"
      ]
    },
    {
      "cell_type": "code",
      "execution_count": null,
      "metadata": {},
      "outputs": [],
      "source": [
        "s\n \n=\n \nL\ni\ns\nt\ne\nn\ne\nr\n(\nr\n'\n\\\n\\\n.\n\\\np\ni\np\ne\n\\\nm\ny\nc\no\nn\nn\n'\n,\n \na\nu\nt\nh\nk\ne\ny\n=\nb\n'\np\ne\ne\nk\na\nb\no\no\n'\n)\n\n"
      ]
    },
    {
      "cell_type": "markdown",
      "metadata": {},
      "source": [
        "\u4e00\u4e2a\u901a\u7528\u51c6\u5219\u662f\uff0c\u4f60\u4e0d\u8981\u4f7f\u7528 multiprocessing \u6765\u5b9e\u73b0\u4e00\u4e2a\u5bf9\u5916\u7684\u516c\u5171\u670d\u52a1\u3002\nClient() \u548c Listener() \u4e2d\u7684 authkey \u53c2\u6570\u7528\u6765\u8ba4\u8bc1\u53d1\u8d77\u8fde\u63a5\u7684\u7ec8\u7aef\u7528\u6237\u3002\n\u5982\u679c\u5bc6\u94a5\u4e0d\u5bf9\u4f1a\u4ea7\u751f\u4e00\u4e2a\u5f02\u5e38\u3002\u6b64\u5916\uff0c\u8be5\u6a21\u5757\u6700\u9002\u5408\u7528\u6765\u5efa\u7acb\u957f\u8fde\u63a5\uff08\u800c\u4e0d\u662f\u5927\u91cf\u7684\u77ed\u8fde\u63a5\uff09\uff0c\n\u4f8b\u5982\uff0c\u4e24\u4e2a\u89e3\u91ca\u5668\u4e4b\u95f4\u542f\u52a8\u540e\u5c31\u5f00\u59cb\u5efa\u7acb\u8fde\u63a5\u5e76\u5728\u5904\u7406\u67d0\u4e2a\u95ee\u9898\u8fc7\u7a0b\u4e2d\u4f1a\u4e00\u76f4\u4fdd\u6301\u8fde\u63a5\u72b6\u6001\u3002"
      ]
    },
    {
      "cell_type": "markdown",
      "metadata": {},
      "source": [
        "\u5982\u679c\u4f60\u9700\u8981\u5bf9\u5e95\u5c42\u8fde\u63a5\u505a\u66f4\u591a\u7684\u63a7\u5236\uff0c\u6bd4\u5982\u9700\u8981\u652f\u6301\u8d85\u65f6\u3001\u975e\u963b\u585eI/O\u6216\u5176\u4ed6\u7c7b\u4f3c\u7684\u7279\u6027\uff0c\n\u4f60\u6700\u597d\u4f7f\u7528\u53e6\u5916\u7684\u5e93\u6216\u8005\u662f\u5728\u9ad8\u5c42socket\u4e0a\u6765\u5b9e\u73b0\u8fd9\u4e9b\u7279\u6027\u3002"
      ]
    },
    {
      "cell_type": "markdown",
      "metadata": {},
      "source": [
        "## 11.8 \u5b9e\u73b0\u8fdc\u7a0b\u65b9\u6cd5\u8c03\u7528\n"
      ]
    },
    {
      "cell_type": "markdown",
      "metadata": {},
      "source": [
        "### \u95ee\u9898\n"
      ]
    },
    {
      "cell_type": "markdown",
      "metadata": {},
      "source": [
        "\u4f60\u60f3\u5728\u4e00\u4e2a\u6d88\u606f\u4f20\u8f93\u5c42\u5982 sockets \u3001multiprocessing connections \u6216 ZeroMQ\n\u7684\u57fa\u7840\u4e4b\u4e0a\u5b9e\u73b0\u4e00\u4e2a\u7b80\u5355\u7684\u8fdc\u7a0b\u8fc7\u7a0b\u8c03\u7528\uff08RPC\uff09\u3002"
      ]
    },
    {
      "cell_type": "markdown",
      "metadata": {},
      "source": [
        "### \u89e3\u51b3\u65b9\u6848\n"
      ]
    },
    {
      "cell_type": "markdown",
      "metadata": {},
      "source": [
        "\u5c06\u51fd\u6570\u8bf7\u6c42\u3001\u53c2\u6570\u548c\u8fd4\u56de\u503c\u4f7f\u7528pickle\u7f16\u7801\u540e\uff0c\u5728\u4e0d\u540c\u7684\u89e3\u91ca\u5668\u76f4\u63a5\u4f20\u9001pickle\u5b57\u8282\u5b57\u7b26\u4e32\uff0c\u53ef\u4ee5\u5f88\u5bb9\u6613\u7684\u5b9e\u73b0RPC\u3002\n\u4e0b\u9762\u662f\u4e00\u4e2a\u7b80\u5355\u7684PRC\u5904\u7406\u5668\uff0c\u53ef\u4ee5\u88ab\u6574\u5408\u5230\u4e00\u4e2a\u670d\u52a1\u5668\u4e2d\u53bb\uff1a"
      ]
    },
    {
      "cell_type": "code",
      "execution_count": null,
      "metadata": {},
      "outputs": [],
      "source": [
        "#\n \nr\np\nc\ns\ne\nr\nv\ne\nr\n.\np\ny\n\n\n\n\ni\nm\np\no\nr\nt\n \np\ni\nc\nk\nl\ne\n\n\nc\nl\na\ns\ns\n \nR\nP\nC\nH\na\nn\nd\nl\ne\nr\n:\n\n\n \n \n \n \nd\ne\nf\n \n_\n_\ni\nn\ni\nt\n_\n_\n(\ns\ne\nl\nf\n)\n:\n\n\n \n \n \n \n \n \n \n \ns\ne\nl\nf\n.\n_\nf\nu\nn\nc\nt\ni\no\nn\ns\n \n=\n \n{\n \n}\n\n\n\n\n \n \n \n \nd\ne\nf\n \nr\ne\ng\ni\ns\nt\ne\nr\n_\nf\nu\nn\nc\nt\ni\no\nn\n(\ns\ne\nl\nf\n,\n \nf\nu\nn\nc\n)\n:\n\n\n \n \n \n \n \n \n \n \ns\ne\nl\nf\n.\n_\nf\nu\nn\nc\nt\ni\no\nn\ns\n[\nf\nu\nn\nc\n.\n_\n_\nn\na\nm\ne\n_\n_\n]\n \n=\n \nf\nu\nn\nc\n\n\n\n\n \n \n \n \nd\ne\nf\n \nh\na\nn\nd\nl\ne\n_\nc\no\nn\nn\ne\nc\nt\ni\no\nn\n(\ns\ne\nl\nf\n,\n \nc\no\nn\nn\ne\nc\nt\ni\no\nn\n)\n:\n\n\n \n \n \n \n \n \n \n \nt\nr\ny\n:\n\n\n \n \n \n \n \n \n \n \n \n \n \n \nw\nh\ni\nl\ne\n \nT\nr\nu\ne\n:\n\n\n \n \n \n \n \n \n \n \n \n \n \n \n \n \n \n \n#\n \nR\ne\nc\ne\ni\nv\ne\n \na\n \nm\ne\ns\ns\na\ng\ne\n\n\n \n \n \n \n \n \n \n \n \n \n \n \n \n \n \n \nf\nu\nn\nc\n_\nn\na\nm\ne\n,\n \na\nr\ng\ns\n,\n \nk\nw\na\nr\ng\ns\n \n=\n \np\ni\nc\nk\nl\ne\n.\nl\no\na\nd\ns\n(\nc\no\nn\nn\ne\nc\nt\ni\no\nn\n.\nr\ne\nc\nv\n(\n)\n)\n\n\n \n \n \n \n \n \n \n \n \n \n \n \n \n \n \n \n#\n \nR\nu\nn\n \nt\nh\ne\n \nR\nP\nC\n \na\nn\nd\n \ns\ne\nn\nd\n \na\n \nr\ne\ns\np\no\nn\ns\ne\n\n\n \n \n \n \n \n \n \n \n \n \n \n \n \n \n \n \nt\nr\ny\n:\n\n\n \n \n \n \n \n \n \n \n \n \n \n \n \n \n \n \n \n \n \n \nr\n \n=\n \ns\ne\nl\nf\n.\n_\nf\nu\nn\nc\nt\ni\no\nn\ns\n[\nf\nu\nn\nc\n_\nn\na\nm\ne\n]\n(\n*\na\nr\ng\ns\n,\n*\n*\nk\nw\na\nr\ng\ns\n)\n\n\n \n \n \n \n \n \n \n \n \n \n \n \n \n \n \n \n \n \n \n \nc\no\nn\nn\ne\nc\nt\ni\no\nn\n.\ns\ne\nn\nd\n(\np\ni\nc\nk\nl\ne\n.\nd\nu\nm\np\ns\n(\nr\n)\n)\n\n\n \n \n \n \n \n \n \n \n \n \n \n \n \n \n \n \ne\nx\nc\ne\np\nt\n \nE\nx\nc\ne\np\nt\ni\no\nn\n \na\ns\n \ne\n:\n\n\n \n \n \n \n \n \n \n \n \n \n \n \n \n \n \n \n \n \n \n \nc\no\nn\nn\ne\nc\nt\ni\no\nn\n.\ns\ne\nn\nd\n(\np\ni\nc\nk\nl\ne\n.\nd\nu\nm\np\ns\n(\ne\n)\n)\n\n\n \n \n \n \n \n \n \n \ne\nx\nc\ne\np\nt\n \nE\nO\nF\nE\nr\nr\no\nr\n:\n\n\n \n \n \n \n \n \n \n \n \n \n \n \n \np\na\ns\ns\n\n"
      ]
    },
    {
      "cell_type": "markdown",
      "metadata": {},
      "source": [
        "\u8981\u4f7f\u7528\u8fd9\u4e2a\u5904\u7406\u5668\uff0c\u4f60\u9700\u8981\u5c06\u5b83\u52a0\u5165\u5230\u4e00\u4e2a\u6d88\u606f\u670d\u52a1\u5668\u4e2d\u3002\u4f60\u6709\u5f88\u591a\u79cd\u9009\u62e9\uff0c\n\u4f46\u662f\u4f7f\u7528 multiprocessing \u5e93\u662f\u6700\u7b80\u5355\u7684\u3002\u4e0b\u9762\u662f\u4e00\u4e2aRPC\u670d\u52a1\u5668\u4f8b\u5b50\uff1a"
      ]
    },
    {
      "cell_type": "code",
      "execution_count": null,
      "metadata": {},
      "outputs": [],
      "source": [
        "f\nr\no\nm\n \nm\nu\nl\nt\ni\np\nr\no\nc\ne\ns\ns\ni\nn\ng\n.\nc\no\nn\nn\ne\nc\nt\ni\no\nn\n \ni\nm\np\no\nr\nt\n \nL\ni\ns\nt\ne\nn\ne\nr\n\n\nf\nr\no\nm\n \nt\nh\nr\ne\na\nd\ni\nn\ng\n \ni\nm\np\no\nr\nt\n \nT\nh\nr\ne\na\nd\n\n\n\n\nd\ne\nf\n \nr\np\nc\n_\ns\ne\nr\nv\ne\nr\n(\nh\na\nn\nd\nl\ne\nr\n,\n \na\nd\nd\nr\ne\ns\ns\n,\n \na\nu\nt\nh\nk\ne\ny\n)\n:\n\n\n \n \n \n \ns\no\nc\nk\n \n=\n \nL\ni\ns\nt\ne\nn\ne\nr\n(\na\nd\nd\nr\ne\ns\ns\n,\n \na\nu\nt\nh\nk\ne\ny\n=\na\nu\nt\nh\nk\ne\ny\n)\n\n\n \n \n \n \nw\nh\ni\nl\ne\n \nT\nr\nu\ne\n:\n\n\n \n \n \n \n \n \n \n \nc\nl\ni\ne\nn\nt\n \n=\n \ns\no\nc\nk\n.\na\nc\nc\ne\np\nt\n(\n)\n\n\n \n \n \n \n \n \n \n \nt\n \n=\n \nT\nh\nr\ne\na\nd\n(\nt\na\nr\ng\ne\nt\n=\nh\na\nn\nd\nl\ne\nr\n.\nh\na\nn\nd\nl\ne\n_\nc\no\nn\nn\ne\nc\nt\ni\no\nn\n,\n \na\nr\ng\ns\n=\n(\nc\nl\ni\ne\nn\nt\n,\n)\n)\n\n\n \n \n \n \n \n \n \n \nt\n.\nd\na\ne\nm\no\nn\n \n=\n \nT\nr\nu\ne\n\n\n \n \n \n \n \n \n \n \nt\n.\ns\nt\na\nr\nt\n(\n)\n\n\n\n\n#\n \nS\no\nm\ne\n \nr\ne\nm\no\nt\ne\n \nf\nu\nn\nc\nt\ni\no\nn\ns\n\n\nd\ne\nf\n \na\nd\nd\n(\nx\n,\n \ny\n)\n:\n\n\n \n \n \n \nr\ne\nt\nu\nr\nn\n \nx\n \n+\n \ny\n\n\n\n\nd\ne\nf\n \ns\nu\nb\n(\nx\n,\n \ny\n)\n:\n\n\n \n \n \n \nr\ne\nt\nu\nr\nn\n \nx\n \n-\n \ny\n\n\n\n\n#\n \nR\ne\ng\ni\ns\nt\ne\nr\n \nw\ni\nt\nh\n \na\n \nh\na\nn\nd\nl\ne\nr\n\n\nh\na\nn\nd\nl\ne\nr\n \n=\n \nR\nP\nC\nH\na\nn\nd\nl\ne\nr\n(\n)\n\n\nh\na\nn\nd\nl\ne\nr\n.\nr\ne\ng\ni\ns\nt\ne\nr\n_\nf\nu\nn\nc\nt\ni\no\nn\n(\na\nd\nd\n)\n\n\nh\na\nn\nd\nl\ne\nr\n.\nr\ne\ng\ni\ns\nt\ne\nr\n_\nf\nu\nn\nc\nt\ni\no\nn\n(\ns\nu\nb\n)\n\n\n\n\n#\n \nR\nu\nn\n \nt\nh\ne\n \ns\ne\nr\nv\ne\nr\n\n\nr\np\nc\n_\ns\ne\nr\nv\ne\nr\n(\nh\na\nn\nd\nl\ne\nr\n,\n \n(\n'\nl\no\nc\na\nl\nh\no\ns\nt\n'\n,\n \n1\n7\n0\n0\n0\n)\n,\n \na\nu\nt\nh\nk\ne\ny\n=\nb\n'\np\ne\ne\nk\na\nb\no\no\n'\n)\n\n"
      ]
    },
    {
      "cell_type": "markdown",
      "metadata": {},
      "source": [
        "\u4e3a\u4e86\u4ece\u4e00\u4e2a\u8fdc\u7a0b\u5ba2\u6237\u7aef\u8bbf\u95ee\u670d\u52a1\u5668\uff0c\u4f60\u9700\u8981\u521b\u5efa\u4e00\u4e2a\u5bf9\u5e94\u7684\u7528\u6765\u4f20\u9001\u8bf7\u6c42\u7684RPC\u4ee3\u7406\u7c7b\u3002\u4f8b\u5982"
      ]
    },
    {
      "cell_type": "code",
      "execution_count": null,
      "metadata": {},
      "outputs": [],
      "source": [
        "i\nm\np\no\nr\nt\n \np\ni\nc\nk\nl\ne\n\n\n\n\nc\nl\na\ns\ns\n \nR\nP\nC\nP\nr\no\nx\ny\n:\n\n\n \n \n \n \nd\ne\nf\n \n_\n_\ni\nn\ni\nt\n_\n_\n(\ns\ne\nl\nf\n,\n \nc\no\nn\nn\ne\nc\nt\ni\no\nn\n)\n:\n\n\n \n \n \n \n \n \n \n \ns\ne\nl\nf\n.\n_\nc\no\nn\nn\ne\nc\nt\ni\no\nn\n \n=\n \nc\no\nn\nn\ne\nc\nt\ni\no\nn\n\n\n \n \n \n \nd\ne\nf\n \n_\n_\ng\ne\nt\na\nt\nt\nr\n_\n_\n(\ns\ne\nl\nf\n,\n \nn\na\nm\ne\n)\n:\n\n\n \n \n \n \n \n \n \n \nd\ne\nf\n \nd\no\n_\nr\np\nc\n(\n*\na\nr\ng\ns\n,\n \n*\n*\nk\nw\na\nr\ng\ns\n)\n:\n\n\n \n \n \n \n \n \n \n \n \n \n \n \ns\ne\nl\nf\n.\n_\nc\no\nn\nn\ne\nc\nt\ni\no\nn\n.\ns\ne\nn\nd\n(\np\ni\nc\nk\nl\ne\n.\nd\nu\nm\np\ns\n(\n(\nn\na\nm\ne\n,\n \na\nr\ng\ns\n,\n \nk\nw\na\nr\ng\ns\n)\n)\n)\n\n\n \n \n \n \n \n \n \n \n \n \n \n \nr\ne\ns\nu\nl\nt\n \n=\n \np\ni\nc\nk\nl\ne\n.\nl\no\na\nd\ns\n(\ns\ne\nl\nf\n.\n_\nc\no\nn\nn\ne\nc\nt\ni\no\nn\n.\nr\ne\nc\nv\n(\n)\n)\n\n\n \n \n \n \n \n \n \n \n \n \n \n \ni\nf\n \ni\ns\ni\nn\ns\nt\na\nn\nc\ne\n(\nr\ne\ns\nu\nl\nt\n,\n \nE\nx\nc\ne\np\nt\ni\no\nn\n)\n:\n\n\n \n \n \n \n \n \n \n \n \n \n \n \n \n \n \n \nr\na\ni\ns\ne\n \nr\ne\ns\nu\nl\nt\n\n\n \n \n \n \n \n \n \n \n \n \n \n \nr\ne\nt\nu\nr\nn\n \nr\ne\ns\nu\nl\nt\n\n\n \n \n \n \n \n \n \n \nr\ne\nt\nu\nr\nn\n \nd\no\n_\nr\np\nc\n\n"
      ]
    },
    {
      "cell_type": "markdown",
      "metadata": {},
      "source": [
        "\u8981\u4f7f\u7528\u8fd9\u4e2a\u4ee3\u7406\u7c7b\uff0c\u4f60\u9700\u8981\u5c06\u5176\u5305\u88c5\u5230\u4e00\u4e2a\u670d\u52a1\u5668\u7684\u8fde\u63a5\u4e0a\u9762\uff0c\u4f8b\u5982\uff1a"
      ]
    },
    {
      "cell_type": "code",
      "execution_count": null,
      "metadata": {},
      "outputs": [],
      "source": [
        "from multiprocessing.connection import Client\nc = Client(('localhost', 17000), authkey=b'peekaboo')\nproxy = RPCProxy(c)\nproxy.add(2, 3)"
      ]
    },
    {
      "cell_type": "code",
      "execution_count": null,
      "metadata": {},
      "outputs": [],
      "source": [
        "proxy.sub(2, 3)"
      ]
    },
    {
      "cell_type": "code",
      "execution_count": null,
      "metadata": {},
      "outputs": [],
      "source": [
        "proxy.sub([1, 2], 4)"
      ]
    },
    {
      "cell_type": "markdown",
      "metadata": {},
      "source": [
        "\u8981\u6ce8\u610f\u7684\u662f\u5f88\u591a\u6d88\u606f\u5c42\uff08\u6bd4\u5982 multiprocessing \uff09\u5df2\u7ecf\u4f7f\u7528pickle\u5e8f\u5217\u5316\u4e86\u6570\u636e\u3002\n\u5982\u679c\u662f\u8fd9\u6837\u7684\u8bdd\uff0c\u5bf9 pickle.dumps() \u548c pickle.loads() \u7684\u8c03\u7528\u8981\u53bb\u6389\u3002"
      ]
    },
    {
      "cell_type": "markdown",
      "metadata": {},
      "source": [
        "### \u8ba8\u8bba\n"
      ]
    },
    {
      "cell_type": "markdown",
      "metadata": {},
      "source": [
        "RPCHandler \u548c RPCProxy \u7684\u57fa\u672c\u601d\u8def\u662f\u5f88\u6bd4\u8f83\u7b80\u5355\u7684\u3002\n\u5982\u679c\u4e00\u4e2a\u5ba2\u6237\u7aef\u60f3\u8981\u8c03\u7528\u4e00\u4e2a\u8fdc\u7a0b\u51fd\u6570\uff0c\u6bd4\u5982 foo(1, 2, z=3)\n,\u4ee3\u7406\u7c7b\u521b\u5efa\u4e00\u4e2a\u5305\u542b\u4e86\u51fd\u6570\u540d\u548c\u53c2\u6570\u7684\u5143\u7ec4 ('foo', (1, 2), {'z': 3}) \u3002\n\u8fd9\u4e2a\u5143\u7ec4\u88abpickle\u5e8f\u5217\u5316\u540e\u901a\u8fc7\u7f51\u7edc\u8fde\u63a5\u53d1\u751f\u51fa\u53bb\u3002\n\u8fd9\u4e00\u6b65\u5728 RPCProxy \u7684 __getattr__() \u65b9\u6cd5\u8fd4\u56de\u7684 do_rpc() \u95ed\u5305\u4e2d\u5b8c\u6210\u3002\n\u670d\u52a1\u5668\u63a5\u6536\u540e\u901a\u8fc7pickle\u53cd\u5e8f\u5217\u5316\u6d88\u606f\uff0c\u67e5\u627e\u51fd\u6570\u540d\u770b\u770b\u662f\u5426\u5df2\u7ecf\u6ce8\u518c\u8fc7\uff0c\u7136\u540e\u6267\u884c\u76f8\u5e94\u7684\u51fd\u6570\u3002\n\u6267\u884c\u7ed3\u679c(\u6216\u5f02\u5e38)\u88abpickle\u5e8f\u5217\u5316\u540e\u8fd4\u56de\u53d1\u9001\u7ed9\u5ba2\u6237\u7aef\u3002\u6211\u4eec\u7684\u5b9e\u4f8b\u9700\u8981\u4f9d\u8d56 multiprocessing \u8fdb\u884c\u901a\u4fe1\u3002\n\u4e0d\u8fc7\uff0c\u8fd9\u79cd\u65b9\u5f0f\u53ef\u4ee5\u9002\u7528\u4e8e\u5176\u4ed6\u4efb\u4f55\u6d88\u606f\u7cfb\u7edf\u3002\u4f8b\u5982\uff0c\u5982\u679c\u4f60\u60f3\u5728ZeroMQ\u4e4b\u4e0a\u5b9e\u4e60RPC\uff0c\n\u4ec5\u4ec5\u53ea\u9700\u8981\u5c06\u8fde\u63a5\u5bf9\u8c61\u6362\u6210\u5408\u9002\u7684ZeroMQ\u7684socket\u5bf9\u8c61\u5373\u53ef\u3002"
      ]
    },
    {
      "cell_type": "markdown",
      "metadata": {},
      "source": [
        "\u7531\u4e8e\u5e95\u5c42\u9700\u8981\u4f9d\u8d56pickle\uff0c\u90a3\u4e48\u5b89\u5168\u95ee\u9898\u5c31\u9700\u8981\u8003\u8651\u4e86\n\uff08\u56e0\u4e3a\u4e00\u4e2a\u806a\u660e\u7684\u9ed1\u5ba2\u53ef\u4ee5\u521b\u5efa\u7279\u5b9a\u7684\u6d88\u606f\uff0c\u80fd\u591f\u8ba9\u4efb\u610f\u51fd\u6570\u901a\u8fc7pickle\u53cd\u5e8f\u5217\u5316\u540e\u88ab\u6267\u884c\uff09\u3002\n\u56e0\u6b64\u4f60\u6c38\u8fdc\u4e0d\u8981\u5141\u8bb8\u6765\u81ea\u4e0d\u4fe1\u4efb\u6216\u672a\u8ba4\u8bc1\u7684\u5ba2\u6237\u7aef\u7684RPC\u3002\u7279\u522b\u662f\u4f60\u7edd\u5bf9\u4e0d\u8981\u5141\u8bb8\u6765\u81eaInternet\u7684\u4efb\u610f\u673a\u5668\u7684\u8bbf\u95ee\uff0c\n\u8fd9\u79cd\u53ea\u80fd\u5728\u5185\u90e8\u88ab\u4f7f\u7528\uff0c\u4f4d\u4e8e\u9632\u706b\u5899\u540e\u9762\u5e76\u4e14\u4e0d\u8981\u5bf9\u5916\u66b4\u9732\u3002"
      ]
    },
    {
      "cell_type": "markdown",
      "metadata": {},
      "source": [
        "\u4f5c\u4e3apickle\u7684\u66ff\u4ee3\uff0c\u4f60\u4e5f\u8bb8\u53ef\u4ee5\u8003\u8651\u4f7f\u7528JSON\u3001XML\u6216\u4e00\u4e9b\u5176\u4ed6\u7684\u7f16\u7801\u683c\u5f0f\u6765\u5e8f\u5217\u5316\u6d88\u606f\u3002\n\u4f8b\u5982\uff0c\u672c\u673a\u5b9e\u4f8b\u53ef\u4ee5\u5f88\u5bb9\u6613\u7684\u6539\u5199\u6210JSON\u7f16\u7801\u65b9\u6848\u3002\u8fd8\u9700\u8981\u5c06 pickle.loads() \u548c  pickle.dumps()\n\u66ff\u6362\u6210 json.loads() \u548c json.dumps() \u5373\u53ef\uff1a"
      ]
    },
    {
      "cell_type": "code",
      "execution_count": null,
      "metadata": {},
      "outputs": [],
      "source": [
        "#\n \nj\ns\no\nn\nr\np\nc\ns\ne\nr\nv\ne\nr\n.\np\ny\n\n\ni\nm\np\no\nr\nt\n \nj\ns\no\nn\n\n\n\n\nc\nl\na\ns\ns\n \nR\nP\nC\nH\na\nn\nd\nl\ne\nr\n:\n\n\n \n \n \n \nd\ne\nf\n \n_\n_\ni\nn\ni\nt\n_\n_\n(\ns\ne\nl\nf\n)\n:\n\n\n \n \n \n \n \n \n \n \ns\ne\nl\nf\n.\n_\nf\nu\nn\nc\nt\ni\no\nn\ns\n \n=\n \n{\n \n}\n\n\n\n\n \n \n \n \nd\ne\nf\n \nr\ne\ng\ni\ns\nt\ne\nr\n_\nf\nu\nn\nc\nt\ni\no\nn\n(\ns\ne\nl\nf\n,\n \nf\nu\nn\nc\n)\n:\n\n\n \n \n \n \n \n \n \n \ns\ne\nl\nf\n.\n_\nf\nu\nn\nc\nt\ni\no\nn\ns\n[\nf\nu\nn\nc\n.\n_\n_\nn\na\nm\ne\n_\n_\n]\n \n=\n \nf\nu\nn\nc\n\n\n\n\n \n \n \n \nd\ne\nf\n \nh\na\nn\nd\nl\ne\n_\nc\no\nn\nn\ne\nc\nt\ni\no\nn\n(\ns\ne\nl\nf\n,\n \nc\no\nn\nn\ne\nc\nt\ni\no\nn\n)\n:\n\n\n \n \n \n \n \n \n \n \nt\nr\ny\n:\n\n\n \n \n \n \n \n \n \n \n \n \n \n \nw\nh\ni\nl\ne\n \nT\nr\nu\ne\n:\n\n\n \n \n \n \n \n \n \n \n \n \n \n \n \n \n \n \n#\n \nR\ne\nc\ne\ni\nv\ne\n \na\n \nm\ne\ns\ns\na\ng\ne\n\n\n \n \n \n \n \n \n \n \n \n \n \n \n \n \n \n \nf\nu\nn\nc\n_\nn\na\nm\ne\n,\n \na\nr\ng\ns\n,\n \nk\nw\na\nr\ng\ns\n \n=\n \nj\ns\no\nn\n.\nl\no\na\nd\ns\n(\nc\no\nn\nn\ne\nc\nt\ni\no\nn\n.\nr\ne\nc\nv\n(\n)\n)\n\n\n \n \n \n \n \n \n \n \n \n \n \n \n \n \n \n \n#\n \nR\nu\nn\n \nt\nh\ne\n \nR\nP\nC\n \na\nn\nd\n \ns\ne\nn\nd\n \na\n \nr\ne\ns\np\no\nn\ns\ne\n\n\n \n \n \n \n \n \n \n \n \n \n \n \n \n \n \n \nt\nr\ny\n:\n\n\n \n \n \n \n \n \n \n \n \n \n \n \n \n \n \n \n \n \n \n \nr\n \n=\n \ns\ne\nl\nf\n.\n_\nf\nu\nn\nc\nt\ni\no\nn\ns\n[\nf\nu\nn\nc\n_\nn\na\nm\ne\n]\n(\n*\na\nr\ng\ns\n,\n*\n*\nk\nw\na\nr\ng\ns\n)\n\n\n \n \n \n \n \n \n \n \n \n \n \n \n \n \n \n \n \n \n \n \nc\no\nn\nn\ne\nc\nt\ni\no\nn\n.\ns\ne\nn\nd\n(\nj\ns\no\nn\n.\nd\nu\nm\np\ns\n(\nr\n)\n)\n\n\n \n \n \n \n \n \n \n \n \n \n \n \n \n \n \n \ne\nx\nc\ne\np\nt\n \nE\nx\nc\ne\np\nt\ni\no\nn\n \na\ns\n \ne\n:\n\n\n \n \n \n \n \n \n \n \n \n \n \n \n \n \n \n \n \n \n \n \nc\no\nn\nn\ne\nc\nt\ni\no\nn\n.\ns\ne\nn\nd\n(\nj\ns\no\nn\n.\nd\nu\nm\np\ns\n(\ns\nt\nr\n(\ne\n)\n)\n)\n\n\n \n \n \n \n \n \n \n \ne\nx\nc\ne\np\nt\n \nE\nO\nF\nE\nr\nr\no\nr\n:\n\n\n \n \n \n \n \n \n \n \n \n \n \n \n \np\na\ns\ns\n\n\n\n\n#\n \nj\ns\no\nn\nr\np\nc\nc\nl\ni\ne\nn\nt\n.\np\ny\n\n\ni\nm\np\no\nr\nt\n \nj\ns\no\nn\n\n\n\n\nc\nl\na\ns\ns\n \nR\nP\nC\nP\nr\no\nx\ny\n:\n\n\n \n \n \n \nd\ne\nf\n \n_\n_\ni\nn\ni\nt\n_\n_\n(\ns\ne\nl\nf\n,\n \nc\no\nn\nn\ne\nc\nt\ni\no\nn\n)\n:\n\n\n \n \n \n \n \n \n \n \ns\ne\nl\nf\n.\n_\nc\no\nn\nn\ne\nc\nt\ni\no\nn\n \n=\n \nc\no\nn\nn\ne\nc\nt\ni\no\nn\n\n\n \n \n \n \nd\ne\nf\n \n_\n_\ng\ne\nt\na\nt\nt\nr\n_\n_\n(\ns\ne\nl\nf\n,\n \nn\na\nm\ne\n)\n:\n\n\n \n \n \n \n \n \n \n \nd\ne\nf\n \nd\no\n_\nr\np\nc\n(\n*\na\nr\ng\ns\n,\n \n*\n*\nk\nw\na\nr\ng\ns\n)\n:\n\n\n \n \n \n \n \n \n \n \n \n \n \n \ns\ne\nl\nf\n.\n_\nc\no\nn\nn\ne\nc\nt\ni\no\nn\n.\ns\ne\nn\nd\n(\nj\ns\no\nn\n.\nd\nu\nm\np\ns\n(\n(\nn\na\nm\ne\n,\n \na\nr\ng\ns\n,\n \nk\nw\na\nr\ng\ns\n)\n)\n)\n\n\n \n \n \n \n \n \n \n \n \n \n \n \nr\ne\ns\nu\nl\nt\n \n=\n \nj\ns\no\nn\n.\nl\no\na\nd\ns\n(\ns\ne\nl\nf\n.\n_\nc\no\nn\nn\ne\nc\nt\ni\no\nn\n.\nr\ne\nc\nv\n(\n)\n)\n\n\n \n \n \n \n \n \n \n \n \n \n \n \nr\ne\nt\nu\nr\nn\n \nr\ne\ns\nu\nl\nt\n\n\n \n \n \n \n \n \n \n \nr\ne\nt\nu\nr\nn\n \nd\no\n_\nr\np\nc\n\n"
      ]
    },
    {
      "cell_type": "markdown",
      "metadata": {},
      "source": [
        "\u5b9e\u73b0RPC\u7684\u4e00\u4e2a\u6bd4\u8f83\u590d\u6742\u7684\u95ee\u9898\u662f\u5982\u4f55\u53bb\u5904\u7406\u5f02\u5e38\u3002\u81f3\u5c11\uff0c\u5f53\u65b9\u6cd5\u4ea7\u751f\u5f02\u5e38\u65f6\u670d\u52a1\u5668\u4e0d\u5e94\u8be5\u5954\u6e83\u3002\n\u56e0\u6b64\uff0c\u8fd4\u56de\u7ed9\u5ba2\u6237\u7aef\u7684\u5f02\u5e38\u6240\u4ee3\u8868\u7684\u542b\u4e49\u5c31\u8981\u597d\u597d\u8bbe\u8ba1\u4e86\u3002\n\u5982\u679c\u4f60\u4f7f\u7528pickle\uff0c\u5f02\u5e38\u5bf9\u8c61\u5b9e\u4f8b\u5728\u5ba2\u6237\u7aef\u80fd\u88ab\u53cd\u5e8f\u5217\u5316\u5e76\u629b\u51fa\u3002\u5982\u679c\u4f60\u4f7f\u7528\u5176\u4ed6\u7684\u534f\u8bae\uff0c\u90a3\u5f97\u60f3\u60f3\u53e6\u5916\u7684\u65b9\u6cd5\u4e86\u3002\n\u4e0d\u8fc7\u81f3\u5c11\uff0c\u4f60\u5e94\u8be5\u5728\u54cd\u5e94\u4e2d\u8fd4\u56de\u5f02\u5e38\u5b57\u7b26\u4e32\u3002\u6211\u4eec\u5728JSON\u7684\u4f8b\u5b50\u4e2d\u5c31\u662f\u4f7f\u7528\u7684\u8fd9\u79cd\u65b9\u5f0f\u3002"
      ]
    },
    {
      "cell_type": "markdown",
      "metadata": {},
      "source": [
        "\u5bf9\u4e8e\u5176\u4ed6\u7684RPC\u5b9e\u73b0\u4f8b\u5b50\uff0c\u6211\u63a8\u8350\u4f60\u770b\u770b\u5728XML-RPC\u4e2d\u4f7f\u7528\u7684 SimpleXMLRPCServer \u548c ServerProxy \u7684\u5b9e\u73b0\uff0c\n\u4e5f\u5c31\u662f11.6\u5c0f\u8282\u4e2d\u7684\u5185\u5bb9\u3002"
      ]
    },
    {
      "cell_type": "markdown",
      "metadata": {},
      "source": [
        "## 11.9 \u7b80\u5355\u7684\u5ba2\u6237\u7aef\u8ba4\u8bc1\n"
      ]
    },
    {
      "cell_type": "markdown",
      "metadata": {},
      "source": [
        "### \u95ee\u9898\n"
      ]
    },
    {
      "cell_type": "markdown",
      "metadata": {},
      "source": [
        "\u4f60\u60f3\u5728\u5206\u5e03\u5f0f\u7cfb\u7edf\u4e2d\u5b9e\u73b0\u4e00\u4e2a\u7b80\u5355\u7684\u5ba2\u6237\u7aef\u8fde\u63a5\u8ba4\u8bc1\u529f\u80fd\uff0c\u53c8\u4e0d\u60f3\u50cfSSL\u90a3\u6837\u7684\u590d\u6742\u3002"
      ]
    },
    {
      "cell_type": "markdown",
      "metadata": {},
      "source": [
        "### \u89e3\u51b3\u65b9\u6848\n"
      ]
    },
    {
      "cell_type": "markdown",
      "metadata": {},
      "source": [
        "\u53ef\u4ee5\u5229\u7528 hmac \u6a21\u5757\u5b9e\u73b0\u4e00\u4e2a\u8fde\u63a5\u63e1\u624b\uff0c\u4ece\u800c\u5b9e\u73b0\u4e00\u4e2a\u7b80\u5355\u800c\u9ad8\u6548\u7684\u8ba4\u8bc1\u8fc7\u7a0b\u3002\u4e0b\u9762\u662f\u4ee3\u7801\u793a\u4f8b\uff1a"
      ]
    },
    {
      "cell_type": "code",
      "execution_count": null,
      "metadata": {},
      "outputs": [],
      "source": [
        "i\nm\np\no\nr\nt\n \nh\nm\na\nc\n\n\ni\nm\np\no\nr\nt\n \no\ns\n\n\n\n\nd\ne\nf\n \nc\nl\ni\ne\nn\nt\n_\na\nu\nt\nh\ne\nn\nt\ni\nc\na\nt\ne\n(\nc\no\nn\nn\ne\nc\nt\ni\no\nn\n,\n \ns\ne\nc\nr\ne\nt\n_\nk\ne\ny\n)\n:\n\n\n \n \n \n \n'\n'\n'\n\n\n \n \n \n \nA\nu\nt\nh\ne\nn\nt\ni\nc\na\nt\ne\n \nc\nl\ni\ne\nn\nt\n \nt\no\n \na\n \nr\ne\nm\no\nt\ne\n \ns\ne\nr\nv\ni\nc\ne\n.\n\n\n \n \n \n \nc\no\nn\nn\ne\nc\nt\ni\no\nn\n \nr\ne\np\nr\ne\ns\ne\nn\nt\ns\n \na\n \nn\ne\nt\nw\no\nr\nk\n \nc\no\nn\nn\ne\nc\nt\ni\no\nn\n.\n\n\n \n \n \n \ns\ne\nc\nr\ne\nt\n_\nk\ne\ny\n \ni\ns\n \na\n \nk\ne\ny\n \nk\nn\no\nw\nn\n \no\nn\nl\ny\n \nt\no\n \nb\no\nt\nh\n \nc\nl\ni\ne\nn\nt\n/\ns\ne\nr\nv\ne\nr\n.\n\n\n \n \n \n \n'\n'\n'\n\n\n \n \n \n \nm\ne\ns\ns\na\ng\ne\n \n=\n \nc\no\nn\nn\ne\nc\nt\ni\no\nn\n.\nr\ne\nc\nv\n(\n3\n2\n)\n\n\n \n \n \n \nh\na\ns\nh\n \n=\n \nh\nm\na\nc\n.\nn\ne\nw\n(\ns\ne\nc\nr\ne\nt\n_\nk\ne\ny\n,\n \nm\ne\ns\ns\na\ng\ne\n)\n\n\n \n \n \n \nd\ni\ng\ne\ns\nt\n \n=\n \nh\na\ns\nh\n.\nd\ni\ng\ne\ns\nt\n(\n)\n\n\n \n \n \n \nc\no\nn\nn\ne\nc\nt\ni\no\nn\n.\ns\ne\nn\nd\n(\nd\ni\ng\ne\ns\nt\n)\n\n\n\n\nd\ne\nf\n \ns\ne\nr\nv\ne\nr\n_\na\nu\nt\nh\ne\nn\nt\ni\nc\na\nt\ne\n(\nc\no\nn\nn\ne\nc\nt\ni\no\nn\n,\n \ns\ne\nc\nr\ne\nt\n_\nk\ne\ny\n)\n:\n\n\n \n \n \n \n'\n'\n'\n\n\n \n \n \n \nR\ne\nq\nu\ne\ns\nt\n \nc\nl\ni\ne\nn\nt\n \na\nu\nt\nh\ne\nn\nt\ni\nc\na\nt\ni\no\nn\n.\n\n\n \n \n \n \n'\n'\n'\n\n\n \n \n \n \nm\ne\ns\ns\na\ng\ne\n \n=\n \no\ns\n.\nu\nr\na\nn\nd\no\nm\n(\n3\n2\n)\n\n\n \n \n \n \nc\no\nn\nn\ne\nc\nt\ni\no\nn\n.\ns\ne\nn\nd\n(\nm\ne\ns\ns\na\ng\ne\n)\n\n\n \n \n \n \nh\na\ns\nh\n \n=\n \nh\nm\na\nc\n.\nn\ne\nw\n(\ns\ne\nc\nr\ne\nt\n_\nk\ne\ny\n,\n \nm\ne\ns\ns\na\ng\ne\n)\n\n\n \n \n \n \nd\ni\ng\ne\ns\nt\n \n=\n \nh\na\ns\nh\n.\nd\ni\ng\ne\ns\nt\n(\n)\n\n\n \n \n \n \nr\ne\ns\np\no\nn\ns\ne\n \n=\n \nc\no\nn\nn\ne\nc\nt\ni\no\nn\n.\nr\ne\nc\nv\n(\nl\ne\nn\n(\nd\ni\ng\ne\ns\nt\n)\n)\n\n\n \n \n \n \nr\ne\nt\nu\nr\nn\n \nh\nm\na\nc\n.\nc\no\nm\np\na\nr\ne\n_\nd\ni\ng\ne\ns\nt\n(\nd\ni\ng\ne\ns\nt\n,\nr\ne\ns\np\no\nn\ns\ne\n)\n\n"
      ]
    },
    {
      "cell_type": "markdown",
      "metadata": {},
      "source": [
        "\u57fa\u672c\u539f\u7406\u662f\u5f53\u8fde\u63a5\u5efa\u7acb\u540e\uff0c\u670d\u52a1\u5668\u7ed9\u5ba2\u6237\u7aef\u53d1\u9001\u4e00\u4e2a\u968f\u673a\u7684\u5b57\u8282\u6d88\u606f\uff08\u8fd9\u91cc\u4f8b\u5b50\u4e2d\u4f7f\u7528\u4e86 os.urandom() \u8fd4\u56de\u503c\uff09\u3002\n\u5ba2\u6237\u7aef\u548c\u670d\u52a1\u5668\u540c\u65f6\u5229\u7528hmac\u548c\u4e00\u4e2a\u53ea\u6709\u53cc\u65b9\u77e5\u9053\u7684\u5bc6\u94a5\u6765\u8ba1\u7b97\u51fa\u4e00\u4e2a\u52a0\u5bc6\u54c8\u5e0c\u503c\u3002\u7136\u540e\u5ba2\u6237\u7aef\u5c06\u5b83\u8ba1\u7b97\u51fa\u7684\u6458\u8981\u53d1\u9001\u7ed9\u670d\u52a1\u5668\uff0c\n\u670d\u52a1\u5668\u901a\u8fc7\u6bd4\u8f83\u8fd9\u4e2a\u503c\u548c\u81ea\u5df1\u8ba1\u7b97\u7684\u662f\u5426\u4e00\u81f4\u6765\u51b3\u5b9a\u63a5\u53d7\u6216\u62d2\u7edd\u8fde\u63a5\u3002\u6458\u8981\u7684\u6bd4\u8f83\u9700\u8981\u4f7f\u7528 hmac.compare_digest() \u51fd\u6570\u3002\n\u4f7f\u7528\u8fd9\u4e2a\u51fd\u6570\u53ef\u4ee5\u907f\u514d\u906d\u5230\u65f6\u95f4\u5206\u6790\u653b\u51fb\uff0c\u4e0d\u8981\u7528\u7b80\u5355\u7684\u6bd4\u8f83\u64cd\u4f5c\u7b26\uff08==\uff09\u3002\n\u4e3a\u4e86\u4f7f\u7528\u8fd9\u4e9b\u51fd\u6570\uff0c\u4f60\u9700\u8981\u5c06\u5b83\u96c6\u6210\u5230\u5df2\u6709\u7684\u7f51\u7edc\u6216\u6d88\u606f\u4ee3\u7801\u4e2d\u3002\u4f8b\u5982\uff0c\u5bf9\u4e8esockets\uff0c\u670d\u52a1\u5668\u4ee3\u7801\u5e94\u8be5\u7c7b\u4f3c\u4e0b\u9762\uff1a"
      ]
    },
    {
      "cell_type": "code",
      "execution_count": null,
      "metadata": {},
      "outputs": [],
      "source": [
        "f\nr\no\nm\n \ns\no\nc\nk\ne\nt\n \ni\nm\np\no\nr\nt\n \ns\no\nc\nk\ne\nt\n,\n \nA\nF\n_\nI\nN\nE\nT\n,\n \nS\nO\nC\nK\n_\nS\nT\nR\nE\nA\nM\n\n\n\n\ns\ne\nc\nr\ne\nt\n_\nk\ne\ny\n \n=\n \nb\n'\np\ne\ne\nk\na\nb\no\no\n'\n\n\nd\ne\nf\n \ne\nc\nh\no\n_\nh\na\nn\nd\nl\ne\nr\n(\nc\nl\ni\ne\nn\nt\n_\ns\no\nc\nk\n)\n:\n\n\n \n \n \n \ni\nf\n \nn\no\nt\n \ns\ne\nr\nv\ne\nr\n_\na\nu\nt\nh\ne\nn\nt\ni\nc\na\nt\ne\n(\nc\nl\ni\ne\nn\nt\n_\ns\no\nc\nk\n,\n \ns\ne\nc\nr\ne\nt\n_\nk\ne\ny\n)\n:\n\n\n \n \n \n \n \n \n \n \nc\nl\ni\ne\nn\nt\n_\ns\no\nc\nk\n.\nc\nl\no\ns\ne\n(\n)\n\n\n \n \n \n \n \n \n \n \nr\ne\nt\nu\nr\nn\n\n\n \n \n \n \nw\nh\ni\nl\ne\n \nT\nr\nu\ne\n:\n\n\n\n\n \n \n \n \n \n \n \n \nm\ns\ng\n \n=\n \nc\nl\ni\ne\nn\nt\n_\ns\no\nc\nk\n.\nr\ne\nc\nv\n(\n8\n1\n9\n2\n)\n\n\n \n \n \n \n \n \n \n \ni\nf\n \nn\no\nt\n \nm\ns\ng\n:\n\n\n \n \n \n \n \n \n \n \n \n \n \n \nb\nr\ne\na\nk\n\n\n \n \n \n \n \n \n \n \nc\nl\ni\ne\nn\nt\n_\ns\no\nc\nk\n.\ns\ne\nn\nd\na\nl\nl\n(\nm\ns\ng\n)\n\n\n\n\nd\ne\nf\n \ne\nc\nh\no\n_\ns\ne\nr\nv\ne\nr\n(\na\nd\nd\nr\ne\ns\ns\n)\n:\n\n\n \n \n \n \ns\n \n=\n \ns\no\nc\nk\ne\nt\n(\nA\nF\n_\nI\nN\nE\nT\n,\n \nS\nO\nC\nK\n_\nS\nT\nR\nE\nA\nM\n)\n\n\n \n \n \n \ns\n.\nb\ni\nn\nd\n(\na\nd\nd\nr\ne\ns\ns\n)\n\n\n \n \n \n \ns\n.\nl\ni\ns\nt\ne\nn\n(\n5\n)\n\n\n \n \n \n \nw\nh\ni\nl\ne\n \nT\nr\nu\ne\n:\n\n\n \n \n \n \n \n \n \n \nc\n,\na\n \n=\n \ns\n.\na\nc\nc\ne\np\nt\n(\n)\n\n\n \n \n \n \n \n \n \n \ne\nc\nh\no\n_\nh\na\nn\nd\nl\ne\nr\n(\nc\n)\n\n\n\n\ne\nc\nh\no\n_\ns\ne\nr\nv\ne\nr\n(\n(\n'\n'\n,\n \n1\n8\n0\n0\n0\n)\n)\n\n\n\n\nW\ni\nt\nh\ni\nn\n \na\n \nc\nl\ni\ne\nn\nt\n,\n \ny\no\nu\n \nw\no\nu\nl\nd\n \nd\no\n \nt\nh\ni\ns\n:\n\n\n\n\nf\nr\no\nm\n \ns\no\nc\nk\ne\nt\n \ni\nm\np\no\nr\nt\n \ns\no\nc\nk\ne\nt\n,\n \nA\nF\n_\nI\nN\nE\nT\n,\n \nS\nO\nC\nK\n_\nS\nT\nR\nE\nA\nM\n\n\n\n\ns\ne\nc\nr\ne\nt\n_\nk\ne\ny\n \n=\n \nb\n'\np\ne\ne\nk\na\nb\no\no\n'\n\n\n\n\ns\n \n=\n \ns\no\nc\nk\ne\nt\n(\nA\nF\n_\nI\nN\nE\nT\n,\n \nS\nO\nC\nK\n_\nS\nT\nR\nE\nA\nM\n)\n\n\ns\n.\nc\no\nn\nn\ne\nc\nt\n(\n(\n'\nl\no\nc\na\nl\nh\no\ns\nt\n'\n,\n \n1\n8\n0\n0\n0\n)\n)\n\n\nc\nl\ni\ne\nn\nt\n_\na\nu\nt\nh\ne\nn\nt\ni\nc\na\nt\ne\n(\ns\n,\n \ns\ne\nc\nr\ne\nt\n_\nk\ne\ny\n)\n\n\ns\n.\ns\ne\nn\nd\n(\nb\n'\nH\ne\nl\nl\no\n \nW\no\nr\nl\nd\n'\n)\n\n\nr\ne\ns\np\n \n=\n \ns\n.\nr\ne\nc\nv\n(\n1\n0\n2\n4\n)\n\n"
      ]
    },
    {
      "cell_type": "markdown",
      "metadata": {},
      "source": [
        "### \u8ba8\u8bba\n"
      ]
    },
    {
      "cell_type": "markdown",
      "metadata": {},
      "source": [
        "hmac \u8ba4\u8bc1\u7684\u4e00\u4e2a\u5e38\u89c1\u4f7f\u7528\u573a\u666f\u662f\u5185\u90e8\u6d88\u606f\u901a\u4fe1\u7cfb\u7edf\u548c\u8fdb\u7a0b\u95f4\u901a\u4fe1\u3002\n\u4f8b\u5982\uff0c\u5982\u679c\u4f60\u7f16\u5199\u7684\u7cfb\u7edf\u6d89\u53ca\u5230\u4e00\u4e2a\u96c6\u7fa4\u4e2d\u591a\u4e2a\u5904\u7406\u5668\u4e4b\u95f4\u7684\u901a\u4fe1\uff0c\n\u4f60\u53ef\u4ee5\u4f7f\u7528\u672c\u8282\u65b9\u6848\u6765\u786e\u4fdd\u53ea\u6709\u88ab\u5141\u8bb8\u7684\u8fdb\u7a0b\u4e4b\u95f4\u624d\u80fd\u5f7c\u6b64\u901a\u4fe1\u3002\n\u4e8b\u5b9e\u4e0a\uff0c\u57fa\u4e8e hmac \u7684\u8ba4\u8bc1\u88ab multiprocessing \u6a21\u5757\u4f7f\u7528\u6765\u5b9e\u73b0\u5b50\u8fdb\u7a0b\u76f4\u63a5\u7684\u901a\u4fe1\u3002"
      ]
    },
    {
      "cell_type": "markdown",
      "metadata": {},
      "source": [
        "\u8fd8\u6709\u4e00\u70b9\u9700\u8981\u5f3a\u8c03\u7684\u662f\u8fde\u63a5\u8ba4\u8bc1\u548c\u52a0\u5bc6\u662f\u4e24\u7801\u4e8b\u3002\n\u8ba4\u8bc1\u6210\u529f\u4e4b\u540e\u7684\u901a\u4fe1\u6d88\u606f\u662f\u4ee5\u660e\u6587\u5f62\u5f0f\u53d1\u9001\u7684\uff0c\u4efb\u4f55\u4eba\u53ea\u8981\u60f3\u76d1\u542c\u8fd9\u4e2a\u8fde\u63a5\u7ebf\u8def\u90fd\u80fd\u770b\u5230\u6d88\u606f\uff08\u5c3d\u7ba1\u53cc\u65b9\u7684\u5bc6\u94a5\u4e0d\u4f1a\u88ab\u4f20\u8f93\uff09\u3002"
      ]
    },
    {
      "cell_type": "markdown",
      "metadata": {},
      "source": [
        "hmac\u8ba4\u8bc1\u7b97\u6cd5\u57fa\u4e8e\u54c8\u5e0c\u51fd\u6570\u5982MD5\u548cSHA-1\uff0c\u5173\u4e8e\u8fd9\u4e2a\u5728IETF RFC 2104\u4e2d\u6709\u8be6\u7ec6\u4ecb\u7ecd\u3002"
      ]
    },
    {
      "cell_type": "markdown",
      "metadata": {},
      "source": [
        "## 11.10 \u5728\u7f51\u7edc\u670d\u52a1\u4e2d\u52a0\u5165SSL\n"
      ]
    },
    {
      "cell_type": "markdown",
      "metadata": {},
      "source": [
        "### \u95ee\u9898\n"
      ]
    },
    {
      "cell_type": "markdown",
      "metadata": {},
      "source": [
        "\u4f60\u60f3\u5b9e\u73b0\u4e00\u4e2a\u57fa\u4e8esockets\u7684\u7f51\u7edc\u670d\u52a1\uff0c\u5ba2\u6237\u7aef\u548c\u670d\u52a1\u5668\u901a\u8fc7SSL\u534f\u8bae\u8ba4\u8bc1\u5e76\u52a0\u5bc6\u4f20\u8f93\u7684\u6570\u636e\u3002"
      ]
    },
    {
      "cell_type": "markdown",
      "metadata": {},
      "source": [
        "### \u89e3\u51b3\u65b9\u6848\n"
      ]
    },
    {
      "cell_type": "markdown",
      "metadata": {},
      "source": [
        "ssl \u6a21\u5757\u80fd\u4e3a\u5e95\u5c42socket\u8fde\u63a5\u6dfb\u52a0SSL\u7684\u652f\u6301\u3002\nssl.wrap_socket() \u51fd\u6570\u63a5\u53d7\u4e00\u4e2a\u5df2\u5b58\u5728\u7684socket\u4f5c\u4e3a\u53c2\u6570\u5e76\u4f7f\u7528SSL\u5c42\u6765\u5305\u88c5\u5b83\u3002\n\u4f8b\u5982\uff0c\u4e0b\u9762\u662f\u4e00\u4e2a\u7b80\u5355\u7684\u5e94\u7b54\u670d\u52a1\u5668\uff0c\u80fd\u5728\u670d\u52a1\u5668\u7aef\u4e3a\u6240\u6709\u5ba2\u6237\u7aef\u8fde\u63a5\u505a\u8ba4\u8bc1\u3002"
      ]
    },
    {
      "cell_type": "code",
      "execution_count": null,
      "metadata": {},
      "outputs": [],
      "source": [
        "f\nr\no\nm\n \ns\no\nc\nk\ne\nt\n \ni\nm\np\no\nr\nt\n \ns\no\nc\nk\ne\nt\n,\n \nA\nF\n_\nI\nN\nE\nT\n,\n \nS\nO\nC\nK\n_\nS\nT\nR\nE\nA\nM\n\n\ni\nm\np\no\nr\nt\n \ns\ns\nl\n\n\n\n\nK\nE\nY\nF\nI\nL\nE\n \n=\n \n'\ns\ne\nr\nv\ne\nr\n_\nk\ne\ny\n.\np\ne\nm\n'\n \n \n \n#\n \nP\nr\ni\nv\na\nt\ne\n \nk\ne\ny\n \no\nf\n \nt\nh\ne\n \ns\ne\nr\nv\ne\nr\n\n\nC\nE\nR\nT\nF\nI\nL\nE\n \n=\n \n'\ns\ne\nr\nv\ne\nr\n_\nc\ne\nr\nt\n.\np\ne\nm\n'\n \n#\n \nS\ne\nr\nv\ne\nr\n \nc\ne\nr\nt\ni\nf\ni\nc\na\nt\ne\n \n(\ng\ni\nv\ne\nn\n \nt\no\n \nc\nl\ni\ne\nn\nt\n)\n\n\n\n\nd\ne\nf\n \ne\nc\nh\no\n_\nc\nl\ni\ne\nn\nt\n(\ns\n)\n:\n\n\n \n \n \n \nw\nh\ni\nl\ne\n \nT\nr\nu\ne\n:\n\n\n \n \n \n \n \n \n \n \nd\na\nt\na\n \n=\n \ns\n.\nr\ne\nc\nv\n(\n8\n1\n9\n2\n)\n\n\n \n \n \n \n \n \n \n \ni\nf\n \nd\na\nt\na\n \n=\n=\n \nb\n'\n'\n:\n\n\n \n \n \n \n \n \n \n \n \n \n \n \nb\nr\ne\na\nk\n\n\n \n \n \n \n \n \n \n \ns\n.\ns\ne\nn\nd\n(\nd\na\nt\na\n)\n\n\n \n \n \n \ns\n.\nc\nl\no\ns\ne\n(\n)\n\n\n \n \n \n \np\nr\ni\nn\nt\n(\n'\nC\no\nn\nn\ne\nc\nt\ni\no\nn\n \nc\nl\no\ns\ne\nd\n'\n)\n\n\n\n\nd\ne\nf\n \ne\nc\nh\no\n_\ns\ne\nr\nv\ne\nr\n(\na\nd\nd\nr\ne\ns\ns\n)\n:\n\n\n \n \n \n \ns\n \n=\n \ns\no\nc\nk\ne\nt\n(\nA\nF\n_\nI\nN\nE\nT\n,\n \nS\nO\nC\nK\n_\nS\nT\nR\nE\nA\nM\n)\n\n\n \n \n \n \ns\n.\nb\ni\nn\nd\n(\na\nd\nd\nr\ne\ns\ns\n)\n\n\n \n \n \n \ns\n.\nl\ni\ns\nt\ne\nn\n(\n1\n)\n\n\n\n\n \n \n \n \n#\n \nW\nr\na\np\n \nw\ni\nt\nh\n \na\nn\n \nS\nS\nL\n \nl\na\ny\ne\nr\n \nr\ne\nq\nu\ni\nr\ni\nn\ng\n \nc\nl\ni\ne\nn\nt\n \nc\ne\nr\nt\ns\n\n\n \n \n \n \ns\n_\ns\ns\nl\n \n=\n \ns\ns\nl\n.\nw\nr\na\np\n_\ns\no\nc\nk\ne\nt\n(\ns\n,\n\n\n \n \n \n \n \n \n \n \n \n \n \n \n \n \n \n \n \n \n \n \n \n \n \n \n \n \n \n \nk\ne\ny\nf\ni\nl\ne\n=\nK\nE\nY\nF\nI\nL\nE\n,\n\n\n \n \n \n \n \n \n \n \n \n \n \n \n \n \n \n \n \n \n \n \n \n \n \n \n \n \n \n \nc\ne\nr\nt\nf\ni\nl\ne\n=\nC\nE\nR\nT\nF\nI\nL\nE\n,\n\n\n \n \n \n \n \n \n \n \n \n \n \n \n \n \n \n \n \n \n \n \n \n \n \n \n \n \n \n \ns\ne\nr\nv\ne\nr\n_\ns\ni\nd\ne\n=\nT\nr\nu\ne\n\n\n \n \n \n \n \n \n \n \n \n \n \n \n \n \n \n \n \n \n \n \n \n \n \n \n \n \n \n \n)\n\n\n \n \n \n \n#\n \nW\na\ni\nt\n \nf\no\nr\n \nc\no\nn\nn\ne\nc\nt\ni\no\nn\ns\n\n\n \n \n \n \nw\nh\ni\nl\ne\n \nT\nr\nu\ne\n:\n\n\n \n \n \n \n \n \n \n \nt\nr\ny\n:\n\n\n \n \n \n \n \n \n \n \n \n \n \n \nc\n,\na\n \n=\n \ns\n_\ns\ns\nl\n.\na\nc\nc\ne\np\nt\n(\n)\n\n\n \n \n \n \n \n \n \n \n \n \n \n \np\nr\ni\nn\nt\n(\n'\nG\no\nt\n \nc\no\nn\nn\ne\nc\nt\ni\no\nn\n'\n,\n \nc\n,\n \na\n)\n\n\n \n \n \n \n \n \n \n \n \n \n \n \ne\nc\nh\no\n_\nc\nl\ni\ne\nn\nt\n(\nc\n)\n\n\n \n \n \n \n \n \n \n \ne\nx\nc\ne\np\nt\n \nE\nx\nc\ne\np\nt\ni\no\nn\n \na\ns\n \ne\n:\n\n\n \n \n \n \n \n \n \n \n \n \n \n \np\nr\ni\nn\nt\n(\n'\n{\n}\n:\n \n{\n}\n'\n.\nf\no\nr\nm\na\nt\n(\ne\n.\n_\n_\nc\nl\na\ns\ns\n_\n_\n.\n_\n_\nn\na\nm\ne\n_\n_\n,\n \ne\n)\n)\n\n\n\n\ne\nc\nh\no\n_\ns\ne\nr\nv\ne\nr\n(\n(\n'\n'\n,\n \n2\n0\n0\n0\n0\n)\n)\n\n"
      ]
    },
    {
      "cell_type": "markdown",
      "metadata": {},
      "source": [
        "\u4e0b\u9762\u6211\u4eec\u6f14\u793a\u4e00\u4e2a\u5ba2\u6237\u7aef\u8fde\u63a5\u670d\u52a1\u5668\u7684\u4ea4\u4e92\u4f8b\u5b50\u3002\u5ba2\u6237\u7aef\u4f1a\u8bf7\u6c42\u670d\u52a1\u5668\u6765\u8ba4\u8bc1\u5e76\u786e\u8ba4\u8fde\u63a5\uff1a"
      ]
    },
    {
      "cell_type": "code",
      "execution_count": null,
      "metadata": {},
      "outputs": [],
      "source": [
        "from socket import socket, AF_INET, SOCK_STREAM\nimport ssl\ns = socket(AF_INET, SOCK_STREAM)\ns_ssl = ssl.wrap_socket(s,"
      ]
    },
    {
      "cell_type": "code",
      "execution_count": null,
      "metadata": {},
      "outputs": [],
      "source": [
        "s_ssl.connect(('localhost', 20000))\ns_ssl.send(b'Hello World?')"
      ]
    },
    {
      "cell_type": "code",
      "execution_count": null,
      "metadata": {},
      "outputs": [],
      "source": [
        "s_ssl.recv(8192)"
      ]
    },
    {
      "cell_type": "markdown",
      "metadata": {},
      "source": [
        "\u8fd9\u79cd\u76f4\u63a5\u5904\u7406\u5e95\u5c42socket\u65b9\u5f0f\u6709\u4e2a\u95ee\u9898\u5c31\u662f\u5b83\u4e0d\u80fd\u5f88\u597d\u7684\u8ddf\u6807\u51c6\u5e93\u4e2d\u5df2\u5b58\u5728\u7684\u7f51\u7edc\u670d\u52a1\u517c\u5bb9\u3002\n\u4f8b\u5982\uff0c\u7edd\u5927\u90e8\u5206\u670d\u52a1\u5668\u4ee3\u7801\uff08HTTP\u3001XML-RPC\u7b49\uff09\u5b9e\u9645\u4e0a\u662f\u57fa\u4e8e socketserver \u5e93\u7684\u3002\n\u5ba2\u6237\u7aef\u4ee3\u7801\u5728\u4e00\u4e2a\u8f83\u9ad8\u5c42\u4e0a\u5b9e\u73b0\u3002\u6211\u4eec\u9700\u8981\u53e6\u5916\u4e00\u79cd\u7a0d\u5fae\u4e0d\u540c\u7684\u65b9\u5f0f\u6765\u5c06SSL\u6dfb\u52a0\u5230\u5df2\u5b58\u5728\u7684\u670d\u52a1\u4e2d\uff1a"
      ]
    },
    {
      "cell_type": "markdown",
      "metadata": {},
      "source": [
        "\u9996\u5148\uff0c\u5bf9\u4e8e\u670d\u52a1\u5668\u800c\u8a00\uff0c\u53ef\u4ee5\u901a\u8fc7\u50cf\u4e0b\u9762\u8fd9\u6837\u4f7f\u7528\u4e00\u4e2amixin\u7c7b\u6765\u6dfb\u52a0SSL\uff1a"
      ]
    },
    {
      "cell_type": "code",
      "execution_count": null,
      "metadata": {},
      "outputs": [],
      "source": [
        "i\nm\np\no\nr\nt\n \ns\ns\nl\n\n\n\n\nc\nl\na\ns\ns\n \nS\nS\nL\nM\ni\nx\ni\nn\n:\n\n\n \n \n \n \n'\n'\n'\n\n\n \n \n \n \nM\ni\nx\ni\nn\n \nc\nl\na\ns\ns\n \nt\nh\na\nt\n \na\nd\nd\ns\n \ns\nu\np\np\no\nr\nt\n \nf\no\nr\n \nS\nS\nL\n \nt\no\n \ne\nx\ni\ns\nt\ni\nn\ng\n \ns\ne\nr\nv\ne\nr\ns\n \nb\na\ns\ne\nd\n\n\n \n \n \n \no\nn\n \nt\nh\ne\n \ns\no\nc\nk\ne\nt\ns\ne\nr\nv\ne\nr\n \nm\no\nd\nu\nl\ne\n.\n\n\n \n \n \n \n'\n'\n'\n\n\n \n \n \n \nd\ne\nf\n \n_\n_\ni\nn\ni\nt\n_\n_\n(\ns\ne\nl\nf\n,\n \n*\na\nr\ng\ns\n,\n\n\n \n \n \n \n \n \n \n \n \n \n \n \n \n \n \n \n \nk\ne\ny\nf\ni\nl\ne\n=\nN\no\nn\ne\n,\n \nc\ne\nr\nt\nf\ni\nl\ne\n=\nN\no\nn\ne\n,\n \nc\na\n_\nc\ne\nr\nt\ns\n=\nN\no\nn\ne\n,\n\n\n \n \n \n \n \n \n \n \n \n \n \n \n \n \n \n \n \nc\ne\nr\nt\n_\nr\ne\nq\ns\n=\ns\ns\nl\n.\nC\nE\nR\nT\n_\nN\nO\nN\nE\n,\n\n\n \n \n \n \n \n \n \n \n \n \n \n \n \n \n \n \n \n*\n*\nk\nw\na\nr\ng\ns\n)\n:\n\n\n \n \n \n \n \n \n \n \ns\ne\nl\nf\n.\n_\nk\ne\ny\nf\ni\nl\ne\n \n=\n \nk\ne\ny\nf\ni\nl\ne\n\n\n \n \n \n \n \n \n \n \ns\ne\nl\nf\n.\n_\nc\ne\nr\nt\nf\ni\nl\ne\n \n=\n \nc\ne\nr\nt\nf\ni\nl\ne\n\n\n \n \n \n \n \n \n \n \ns\ne\nl\nf\n.\n_\nc\na\n_\nc\ne\nr\nt\ns\n \n=\n \nc\na\n_\nc\ne\nr\nt\ns\n\n\n \n \n \n \n \n \n \n \ns\ne\nl\nf\n.\n_\nc\ne\nr\nt\n_\nr\ne\nq\ns\n \n=\n \nc\ne\nr\nt\n_\nr\ne\nq\ns\n\n\n \n \n \n \n \n \n \n \ns\nu\np\ne\nr\n(\n)\n.\n_\n_\ni\nn\ni\nt\n_\n_\n(\n*\na\nr\ng\ns\n,\n \n*\n*\nk\nw\na\nr\ng\ns\n)\n\n\n\n\n \n \n \n \nd\ne\nf\n \ng\ne\nt\n_\nr\ne\nq\nu\ne\ns\nt\n(\ns\ne\nl\nf\n)\n:\n\n\n \n \n \n \n \n \n \n \nc\nl\ni\ne\nn\nt\n,\n \na\nd\nd\nr\n \n=\n \ns\nu\np\ne\nr\n(\n)\n.\ng\ne\nt\n_\nr\ne\nq\nu\ne\ns\nt\n(\n)\n\n\n \n \n \n \n \n \n \n \nc\nl\ni\ne\nn\nt\n_\ns\ns\nl\n \n=\n \ns\ns\nl\n.\nw\nr\na\np\n_\ns\no\nc\nk\ne\nt\n(\nc\nl\ni\ne\nn\nt\n,\n\n\n \n \n \n \n \n \n \n \n \n \n \n \n \n \n \n \n \n \n \n \n \n \n \n \n \n \n \n \n \n \n \n \n \n \n \n \n \nk\ne\ny\nf\ni\nl\ne\n \n=\n \ns\ne\nl\nf\n.\n_\nk\ne\ny\nf\ni\nl\ne\n,\n\n\n \n \n \n \n \n \n \n \n \n \n \n \n \n \n \n \n \n \n \n \n \n \n \n \n \n \n \n \n \n \n \n \n \n \n \n \n \nc\ne\nr\nt\nf\ni\nl\ne\n \n=\n \ns\ne\nl\nf\n.\n_\nc\ne\nr\nt\nf\ni\nl\ne\n,\n\n\n \n \n \n \n \n \n \n \n \n \n \n \n \n \n \n \n \n \n \n \n \n \n \n \n \n \n \n \n \n \n \n \n \n \n \n \n \nc\na\n_\nc\ne\nr\nt\ns\n \n=\n \ns\ne\nl\nf\n.\n_\nc\na\n_\nc\ne\nr\nt\ns\n,\n\n\n \n \n \n \n \n \n \n \n \n \n \n \n \n \n \n \n \n \n \n \n \n \n \n \n \n \n \n \n \n \n \n \n \n \n \n \n \nc\ne\nr\nt\n_\nr\ne\nq\ns\n \n=\n \ns\ne\nl\nf\n.\n_\nc\ne\nr\nt\n_\nr\ne\nq\ns\n,\n\n\n \n \n \n \n \n \n \n \n \n \n \n \n \n \n \n \n \n \n \n \n \n \n \n \n \n \n \n \n \n \n \n \n \n \n \n \n \ns\ne\nr\nv\ne\nr\n_\ns\ni\nd\ne\n \n=\n \nT\nr\nu\ne\n)\n\n\n \n \n \n \n \n \n \n \nr\ne\nt\nu\nr\nn\n \nc\nl\ni\ne\nn\nt\n_\ns\ns\nl\n,\n \na\nd\nd\nr\n\n"
      ]
    },
    {
      "cell_type": "markdown",
      "metadata": {},
      "source": [
        "\u4e3a\u4e86\u4f7f\u7528\u8fd9\u4e2amixin\u7c7b\uff0c\u4f60\u53ef\u4ee5\u5c06\u5b83\u8ddf\u5176\u4ed6\u670d\u52a1\u5668\u7c7b\u6df7\u5408\u3002\u4f8b\u5982\uff0c\u4e0b\u9762\u662f\u5b9a\u4e49\u4e00\u4e2a\u57fa\u4e8eSSL\u7684XML-RPC\u670d\u52a1\u5668\u4f8b\u5b50\uff1a"
      ]
    },
    {
      "cell_type": "code",
      "execution_count": null,
      "metadata": {},
      "outputs": [],
      "source": [
        "#\n \nX\nM\nL\n-\nR\nP\nC\n \ns\ne\nr\nv\ne\nr\n \nw\ni\nt\nh\n \nS\nS\nL\n\n\n\n\nf\nr\no\nm\n \nx\nm\nl\nr\np\nc\n.\ns\ne\nr\nv\ne\nr\n \ni\nm\np\no\nr\nt\n \nS\ni\nm\np\nl\ne\nX\nM\nL\nR\nP\nC\nS\ne\nr\nv\ne\nr\n\n\n\n\nc\nl\na\ns\ns\n \nS\nS\nL\nS\ni\nm\np\nl\ne\nX\nM\nL\nR\nP\nC\nS\ne\nr\nv\ne\nr\n(\nS\nS\nL\nM\ni\nx\ni\nn\n,\n \nS\ni\nm\np\nl\ne\nX\nM\nL\nR\nP\nC\nS\ne\nr\nv\ne\nr\n)\n:\n\n\n \n \n \n \np\na\ns\ns\n\n\n\n\nH\ne\nr\ne\n'\ns\n \nt\nh\ne\n \nX\nM\nL\n-\nR\nP\nC\n \ns\ne\nr\nv\ne\nr\n \nf\nr\no\nm\n \nR\ne\nc\ni\np\ne\n \n1\n1\n.\n6\n \nm\no\nd\ni\nf\ni\ne\nd\n \no\nn\nl\ny\n \ns\nl\ni\ng\nh\nt\nl\ny\n \nt\no\n \nu\ns\ne\n \nS\nS\nL\n:\n\n\n\n\ni\nm\np\no\nr\nt\n \ns\ns\nl\n\n\nf\nr\no\nm\n \nx\nm\nl\nr\np\nc\n.\ns\ne\nr\nv\ne\nr\n \ni\nm\np\no\nr\nt\n \nS\ni\nm\np\nl\ne\nX\nM\nL\nR\nP\nC\nS\ne\nr\nv\ne\nr\n\n\nf\nr\no\nm\n \ns\ns\nl\nm\ni\nx\ni\nn\n \ni\nm\np\no\nr\nt\n \nS\nS\nL\nM\ni\nx\ni\nn\n\n\n\n\nc\nl\na\ns\ns\n \nS\nS\nL\nS\ni\nm\np\nl\ne\nX\nM\nL\nR\nP\nC\nS\ne\nr\nv\ne\nr\n(\nS\nS\nL\nM\ni\nx\ni\nn\n,\n \nS\ni\nm\np\nl\ne\nX\nM\nL\nR\nP\nC\nS\ne\nr\nv\ne\nr\n)\n:\n\n\n \n \n \n \np\na\ns\ns\n\n\n\n\nc\nl\na\ns\ns\n \nK\ne\ny\nV\na\nl\nu\ne\nS\ne\nr\nv\ne\nr\n:\n\n\n \n \n \n \n_\nr\np\nc\n_\nm\ne\nt\nh\no\nd\ns\n_\n \n=\n \n[\n'\ng\ne\nt\n'\n,\n \n'\ns\ne\nt\n'\n,\n \n'\nd\ne\nl\ne\nt\ne\n'\n,\n \n'\ne\nx\ni\ns\nt\ns\n'\n,\n \n'\nk\ne\ny\ns\n'\n]\n\n\n \n \n \n \nd\ne\nf\n \n_\n_\ni\nn\ni\nt\n_\n_\n(\ns\ne\nl\nf\n,\n \n*\na\nr\ng\ns\n,\n \n*\n*\nk\nw\na\nr\ng\ns\n)\n:\n\n\n \n \n \n \n \n \n \n \ns\ne\nl\nf\n.\n_\nd\na\nt\na\n \n=\n \n{\n}\n\n\n \n \n \n \n \n \n \n \ns\ne\nl\nf\n.\n_\ns\ne\nr\nv\n \n=\n \nS\nS\nL\nS\ni\nm\np\nl\ne\nX\nM\nL\nR\nP\nC\nS\ne\nr\nv\ne\nr\n(\n*\na\nr\ng\ns\n,\n \na\nl\nl\no\nw\n_\nn\no\nn\ne\n=\nT\nr\nu\ne\n,\n \n*\n*\nk\nw\na\nr\ng\ns\n)\n\n\n \n \n \n \n \n \n \n \nf\no\nr\n \nn\na\nm\ne\n \ni\nn\n \ns\ne\nl\nf\n.\n_\nr\np\nc\n_\nm\ne\nt\nh\no\nd\ns\n_\n:\n\n\n \n \n \n \n \n \n \n \n \n \n \n \ns\ne\nl\nf\n.\n_\ns\ne\nr\nv\n.\nr\ne\ng\ni\ns\nt\ne\nr\n_\nf\nu\nn\nc\nt\ni\no\nn\n(\ng\ne\nt\na\nt\nt\nr\n(\ns\ne\nl\nf\n,\n \nn\na\nm\ne\n)\n)\n\n\n\n\n \n \n \n \nd\ne\nf\n \ng\ne\nt\n(\ns\ne\nl\nf\n,\n \nn\na\nm\ne\n)\n:\n\n\n \n \n \n \n \n \n \n \nr\ne\nt\nu\nr\nn\n \ns\ne\nl\nf\n.\n_\nd\na\nt\na\n[\nn\na\nm\ne\n]\n\n\n\n\n \n \n \n \nd\ne\nf\n \ns\ne\nt\n(\ns\ne\nl\nf\n,\n \nn\na\nm\ne\n,\n \nv\na\nl\nu\ne\n)\n:\n\n\n \n \n \n \n \n \n \n \ns\ne\nl\nf\n.\n_\nd\na\nt\na\n[\nn\na\nm\ne\n]\n \n=\n \nv\na\nl\nu\ne\n\n\n\n\n \n \n \n \nd\ne\nf\n \nd\ne\nl\ne\nt\ne\n(\ns\ne\nl\nf\n,\n \nn\na\nm\ne\n)\n:\n\n\n \n \n \n \n \n \n \n \nd\ne\nl\n \ns\ne\nl\nf\n.\n_\nd\na\nt\na\n[\nn\na\nm\ne\n]\n\n\n\n\n \n \n \n \nd\ne\nf\n \ne\nx\ni\ns\nt\ns\n(\ns\ne\nl\nf\n,\n \nn\na\nm\ne\n)\n:\n\n\n \n \n \n \n \n \n \n \nr\ne\nt\nu\nr\nn\n \nn\na\nm\ne\n \ni\nn\n \ns\ne\nl\nf\n.\n_\nd\na\nt\na\n\n\n\n\n \n \n \n \nd\ne\nf\n \nk\ne\ny\ns\n(\ns\ne\nl\nf\n)\n:\n\n\n \n \n \n \n \n \n \n \nr\ne\nt\nu\nr\nn\n \nl\ni\ns\nt\n(\ns\ne\nl\nf\n.\n_\nd\na\nt\na\n)\n\n\n\n\n \n \n \n \nd\ne\nf\n \ns\ne\nr\nv\ne\n_\nf\no\nr\ne\nv\ne\nr\n(\ns\ne\nl\nf\n)\n:\n\n\n \n \n \n \n \n \n \n \ns\ne\nl\nf\n.\n_\ns\ne\nr\nv\n.\ns\ne\nr\nv\ne\n_\nf\no\nr\ne\nv\ne\nr\n(\n)\n\n\n\n\ni\nf\n \n_\n_\nn\na\nm\ne\n_\n_\n \n=\n=\n \n'\n_\n_\nm\na\ni\nn\n_\n_\n'\n:\n\n\n \n \n \n \nK\nE\nY\nF\nI\nL\nE\n=\n'\ns\ne\nr\nv\ne\nr\n_\nk\ne\ny\n.\np\ne\nm\n'\n \n \n \n \n#\n \nP\nr\ni\nv\na\nt\ne\n \nk\ne\ny\n \no\nf\n \nt\nh\ne\n \ns\ne\nr\nv\ne\nr\n\n\n \n \n \n \nC\nE\nR\nT\nF\nI\nL\nE\n=\n'\ns\ne\nr\nv\ne\nr\n_\nc\ne\nr\nt\n.\np\ne\nm\n'\n \n \n#\n \nS\ne\nr\nv\ne\nr\n \nc\ne\nr\nt\ni\nf\ni\nc\na\nt\ne\n\n\n \n \n \n \nk\nv\ns\ne\nr\nv\n \n=\n \nK\ne\ny\nV\na\nl\nu\ne\nS\ne\nr\nv\ne\nr\n(\n(\n'\n'\n,\n \n1\n5\n0\n0\n0\n)\n,\n\n\n \n \n \n \n \n \n \n \n \n \n \n \n \n \n \n \n \n \n \n \n \n \n \n \n \n \n \n \nk\ne\ny\nf\ni\nl\ne\n=\nK\nE\nY\nF\nI\nL\nE\n,\n\n\n \n \n \n \n \n \n \n \n \n \n \n \n \n \n \n \n \n \n \n \n \n \n \n \n \n \n \n \nc\ne\nr\nt\nf\ni\nl\ne\n=\nC\nE\nR\nT\nF\nI\nL\nE\n)\n\n\n \n \n \n \nk\nv\ns\ne\nr\nv\n.\ns\ne\nr\nv\ne\n_\nf\no\nr\ne\nv\ne\nr\n(\n)\n\n"
      ]
    },
    {
      "cell_type": "markdown",
      "metadata": {},
      "source": [
        "\u4f7f\u7528\u8fd9\u4e2a\u670d\u52a1\u5668\u65f6\uff0c\u4f60\u53ef\u4ee5\u4f7f\u7528\u666e\u901a\u7684 xmlrpc.client \u6a21\u5757\u6765\u8fde\u63a5\u5b83\u3002\n\u53ea\u9700\u8981\u5728URL\u4e2d\u6307\u5b9a https: \u5373\u53ef\uff0c\u4f8b\u5982\uff1a"
      ]
    },
    {
      "cell_type": "code",
      "execution_count": null,
      "metadata": {},
      "outputs": [],
      "source": [
        "from xmlrpc.client import ServerProxy\ns = ServerProxy('https://localhost:15000', allow_none=True)\ns.set('foo','bar')\ns.set('spam', [1, 2, 3])\ns.keys()"
      ]
    },
    {
      "cell_type": "code",
      "execution_count": null,
      "metadata": {},
      "outputs": [],
      "source": [
        "s.get('foo')"
      ]
    },
    {
      "cell_type": "code",
      "execution_count": null,
      "metadata": {},
      "outputs": [],
      "source": [
        "s.get('spam')"
      ]
    },
    {
      "cell_type": "code",
      "execution_count": null,
      "metadata": {},
      "outputs": [],
      "source": [
        "s.delete('spam')\ns.exists('spam')"
      ]
    },
    {
      "cell_type": "markdown",
      "metadata": {},
      "source": [
        "\u5bf9\u4e8eSSL\u5ba2\u6237\u7aef\u6765\u8bb2\u4e00\u4e2a\u6bd4\u8f83\u590d\u6742\u7684\u95ee\u9898\u662f\u5982\u4f55\u786e\u8ba4\u670d\u52a1\u5668\u8bc1\u4e66\u6216\u4e3a\u670d\u52a1\u5668\u63d0\u4f9b\u5ba2\u6237\u7aef\u8ba4\u8bc1\uff08\u6bd4\u5982\u5ba2\u6237\u7aef\u8bc1\u4e66\uff09\u3002\n\u4e0d\u5e78\u7684\u662f\uff0c\u6682\u65f6\u8fd8\u6ca1\u6709\u4e00\u4e2a\u6807\u51c6\u65b9\u6cd5\u6765\u89e3\u51b3\u8fd9\u4e2a\u95ee\u9898\uff0c\u9700\u8981\u81ea\u5df1\u53bb\u7814\u7a76\u3002\n\u4e0d\u8fc7\uff0c\u4e0b\u9762\u7ed9\u51fa\u4e00\u4e2a\u4f8b\u5b50\uff0c\u7528\u6765\u5efa\u7acb\u4e00\u4e2a\u5b89\u5168\u7684XML-RPC\u8fde\u63a5\u6765\u786e\u8ba4\u670d\u52a1\u5668\u8bc1\u4e66\uff1a"
      ]
    },
    {
      "cell_type": "code",
      "execution_count": null,
      "metadata": {},
      "outputs": [],
      "source": [
        "f\nr\no\nm\n \nx\nm\nl\nr\np\nc\n.\nc\nl\ni\ne\nn\nt\n \ni\nm\np\no\nr\nt\n \nS\na\nf\ne\nT\nr\na\nn\ns\np\no\nr\nt\n,\n \nS\ne\nr\nv\ne\nr\nP\nr\no\nx\ny\n\n\ni\nm\np\no\nr\nt\n \ns\ns\nl\n\n\n\n\nc\nl\na\ns\ns\n \nV\ne\nr\ni\nf\ny\nC\ne\nr\nt\nS\na\nf\ne\nT\nr\na\nn\ns\np\no\nr\nt\n(\nS\na\nf\ne\nT\nr\na\nn\ns\np\no\nr\nt\n)\n:\n\n\n \n \n \n \nd\ne\nf\n \n_\n_\ni\nn\ni\nt\n_\n_\n(\ns\ne\nl\nf\n,\n \nc\na\nf\ni\nl\ne\n,\n \nc\ne\nr\nt\nf\ni\nl\ne\n=\nN\no\nn\ne\n,\n \nk\ne\ny\nf\ni\nl\ne\n=\nN\no\nn\ne\n)\n:\n\n\n \n \n \n \n \n \n \n \nS\na\nf\ne\nT\nr\na\nn\ns\np\no\nr\nt\n.\n_\n_\ni\nn\ni\nt\n_\n_\n(\ns\ne\nl\nf\n)\n\n\n \n \n \n \n \n \n \n \ns\ne\nl\nf\n.\n_\ns\ns\nl\n_\nc\no\nn\nt\ne\nx\nt\n \n=\n \ns\ns\nl\n.\nS\nS\nL\nC\no\nn\nt\ne\nx\nt\n(\ns\ns\nl\n.\nP\nR\nO\nT\nO\nC\nO\nL\n_\nT\nL\nS\nv\n1\n)\n\n\n \n \n \n \n \n \n \n \ns\ne\nl\nf\n.\n_\ns\ns\nl\n_\nc\no\nn\nt\ne\nx\nt\n.\nl\no\na\nd\n_\nv\ne\nr\ni\nf\ny\n_\nl\no\nc\na\nt\ni\no\nn\ns\n(\nc\na\nf\ni\nl\ne\n)\n\n\n \n \n \n \n \n \n \n \ni\nf\n \nc\ne\nr\nt\nf\ni\nl\ne\n:\n\n\n \n \n \n \n \n \n \n \n \n \n \n \ns\ne\nl\nf\n.\n_\ns\ns\nl\n_\nc\no\nn\nt\ne\nx\nt\n.\nl\no\na\nd\n_\nc\ne\nr\nt\n_\nc\nh\na\ni\nn\n(\nc\ne\nr\nt\nf\ni\nl\ne\n,\n \nk\ne\ny\nf\ni\nl\ne\n)\n\n\n \n \n \n \n \n \n \n \ns\ne\nl\nf\n.\n_\ns\ns\nl\n_\nc\no\nn\nt\ne\nx\nt\n.\nv\ne\nr\ni\nf\ny\n_\nm\no\nd\ne\n \n=\n \ns\ns\nl\n.\nC\nE\nR\nT\n_\nR\nE\nQ\nU\nI\nR\nE\nD\n\n\n\n\n \n \n \n \nd\ne\nf\n \nm\na\nk\ne\n_\nc\no\nn\nn\ne\nc\nt\ni\no\nn\n(\ns\ne\nl\nf\n,\n \nh\no\ns\nt\n)\n:\n\n\n \n \n \n \n \n \n \n \n#\n \nI\nt\ne\nm\ns\n \ni\nn\n \nt\nh\ne\n \np\na\ns\ns\ne\nd\n \nd\ni\nc\nt\ni\no\nn\na\nr\ny\n \na\nr\ne\n \np\na\ns\ns\ne\nd\n \na\ns\n \nk\ne\ny\nw\no\nr\nd\n\n\n \n \n \n \n \n \n \n \n#\n \na\nr\ng\nu\nm\ne\nn\nt\ns\n \nt\no\n \nt\nh\ne\n \nh\nt\nt\np\n.\nc\nl\ni\ne\nn\nt\n.\nH\nT\nT\nP\nS\nC\no\nn\nn\ne\nc\nt\ni\no\nn\n(\n)\n \nc\no\nn\ns\nt\nr\nu\nc\nt\no\nr\n.\n\n\n \n \n \n \n \n \n \n \n#\n \nT\nh\ne\n \nc\no\nn\nt\ne\nx\nt\n \na\nr\ng\nu\nm\ne\nn\nt\n \na\nl\nl\no\nw\ns\n \na\nn\n \ns\ns\nl\n.\nS\nS\nL\nC\no\nn\nt\ne\nx\nt\n \ni\nn\ns\nt\na\nn\nc\ne\n \nt\no\n\n\n \n \n \n \n \n \n \n \n#\n \nb\ne\n \np\na\ns\ns\ne\nd\n \nw\ni\nt\nh\n \ni\nn\nf\no\nr\nm\na\nt\ni\no\nn\n \na\nb\no\nu\nt\n \nt\nh\ne\n \nS\nS\nL\n \nc\no\nn\nf\ni\ng\nu\nr\na\nt\ni\no\nn\n\n\n \n \n \n \n \n \n \n \ns\n \n=\n \ns\nu\np\ne\nr\n(\n)\n.\nm\na\nk\ne\n_\nc\no\nn\nn\ne\nc\nt\ni\no\nn\n(\n(\nh\no\ns\nt\n,\n \n{\n'\nc\no\nn\nt\ne\nx\nt\n'\n:\n \ns\ne\nl\nf\n.\n_\ns\ns\nl\n_\nc\no\nn\nt\ne\nx\nt\n}\n)\n)\n\n\n\n\n \n \n \n \n \n \n \n \nr\ne\nt\nu\nr\nn\n \ns\n\n\n\n\n#\n \nC\nr\ne\na\nt\ne\n \nt\nh\ne\n \nc\nl\ni\ne\nn\nt\n \np\nr\no\nx\ny\n\n\ns\n \n=\n \nS\ne\nr\nv\ne\nr\nP\nr\no\nx\ny\n(\n'\nh\nt\nt\np\ns\n:\n/\n/\nl\no\nc\na\nl\nh\no\ns\nt\n:\n1\n5\n0\n0\n0\n'\n,\n\n\n \n \n \n \n \n \n \n \n \n \n \n \n \n \n \n \nt\nr\na\nn\ns\np\no\nr\nt\n=\nV\ne\nr\ni\nf\ny\nC\ne\nr\nt\nS\na\nf\ne\nT\nr\na\nn\ns\np\no\nr\nt\n(\n'\ns\ne\nr\nv\ne\nr\n_\nc\ne\nr\nt\n.\np\ne\nm\n'\n)\n,\n\n\n \n \n \n \n \n \n \n \n \n \n \n \n \n \n \n \na\nl\nl\no\nw\n_\nn\no\nn\ne\n=\nT\nr\nu\ne\n)\n\n"
      ]
    },
    {
      "cell_type": "markdown",
      "metadata": {},
      "source": [
        "\u670d\u52a1\u5668\u5c06\u8bc1\u4e66\u53d1\u9001\u7ed9\u5ba2\u6237\u7aef\uff0c\u5ba2\u6237\u7aef\u6765\u786e\u8ba4\u5b83\u7684\u5408\u6cd5\u6027\u3002\u8fd9\u79cd\u786e\u8ba4\u53ef\u4ee5\u662f\u76f8\u4e92\u7684\u3002\n\u5982\u679c\u670d\u52a1\u5668\u60f3\u8981\u786e\u8ba4\u5ba2\u6237\u7aef\uff0c\u53ef\u4ee5\u5c06\u670d\u52a1\u5668\u542f\u52a8\u4ee3\u7801\u4fee\u6539\u5982\u4e0b\uff1a"
      ]
    },
    {
      "cell_type": "code",
      "execution_count": null,
      "metadata": {},
      "outputs": [],
      "source": [
        "i\nf\n \n_\n_\nn\na\nm\ne\n_\n_\n \n=\n=\n \n'\n_\n_\nm\na\ni\nn\n_\n_\n'\n:\n\n\n \n \n \n \nK\nE\nY\nF\nI\nL\nE\n=\n'\ns\ne\nr\nv\ne\nr\n_\nk\ne\ny\n.\np\ne\nm\n'\n \n \n \n#\n \nP\nr\ni\nv\na\nt\ne\n \nk\ne\ny\n \no\nf\n \nt\nh\ne\n \ns\ne\nr\nv\ne\nr\n\n\n \n \n \n \nC\nE\nR\nT\nF\nI\nL\nE\n=\n'\ns\ne\nr\nv\ne\nr\n_\nc\ne\nr\nt\n.\np\ne\nm\n'\n \n#\n \nS\ne\nr\nv\ne\nr\n \nc\ne\nr\nt\ni\nf\ni\nc\na\nt\ne\n\n\n \n \n \n \nC\nA\n_\nC\nE\nR\nT\nS\n=\n'\nc\nl\ni\ne\nn\nt\n_\nc\ne\nr\nt\n.\np\ne\nm\n'\n \n#\n \nC\ne\nr\nt\ni\nf\ni\nc\na\nt\ne\ns\n \no\nf\n \na\nc\nc\ne\np\nt\ne\nd\n \nc\nl\ni\ne\nn\nt\ns\n\n\n\n\n \n \n \n \nk\nv\ns\ne\nr\nv\n \n=\n \nK\ne\ny\nV\na\nl\nu\ne\nS\ne\nr\nv\ne\nr\n(\n(\n'\n'\n,\n \n1\n5\n0\n0\n0\n)\n,\n\n\n \n \n \n \n \n \n \n \n \n \n \n \n \n \n \n \n \n \n \n \n \n \n \n \n \n \n \n \nk\ne\ny\nf\ni\nl\ne\n=\nK\nE\nY\nF\nI\nL\nE\n,\n\n\n \n \n \n \n \n \n \n \n \n \n \n \n \n \n \n \n \n \n \n \n \n \n \n \n \n \n \n \nc\ne\nr\nt\nf\ni\nl\ne\n=\nC\nE\nR\nT\nF\nI\nL\nE\n,\n\n\n \n \n \n \n \n \n \n \n \n \n \n \n \n \n \n \n \n \n \n \n \n \n \n \n \n \n \n \nc\na\n_\nc\ne\nr\nt\ns\n=\nC\nA\n_\nC\nE\nR\nT\nS\n,\n\n\n \n \n \n \n \n \n \n \n \n \n \n \n \n \n \n \n \n \n \n \n \n \n \n \n \n \n \n \nc\ne\nr\nt\n_\nr\ne\nq\ns\n=\ns\ns\nl\n.\nC\nE\nR\nT\n_\nR\nE\nQ\nU\nI\nR\nE\nD\n,\n\n\n \n \n \n \n \n \n \n \n \n \n \n \n \n \n \n \n \n \n \n \n \n \n \n \n \n \n \n \n)\n\n\n \n \n \n \nk\nv\ns\ne\nr\nv\n.\ns\ne\nr\nv\ne\n_\nf\no\nr\ne\nv\ne\nr\n(\n)\n\n"
      ]
    },
    {
      "cell_type": "markdown",
      "metadata": {},
      "source": [
        "\u4e3a\u4e86\u8ba9XML-RPC\u5ba2\u6237\u7aef\u53d1\u9001\u8bc1\u4e66\uff0c\u4fee\u6539 ServerProxy \u7684\u521d\u59cb\u5316\u4ee3\u7801\u5982\u4e0b\uff1a"
      ]
    },
    {
      "cell_type": "code",
      "execution_count": null,
      "metadata": {},
      "outputs": [],
      "source": [
        "#\n \nC\nr\ne\na\nt\ne\n \nt\nh\ne\n \nc\nl\ni\ne\nn\nt\n \np\nr\no\nx\ny\n\n\ns\n \n=\n \nS\ne\nr\nv\ne\nr\nP\nr\no\nx\ny\n(\n'\nh\nt\nt\np\ns\n:\n/\n/\nl\no\nc\na\nl\nh\no\ns\nt\n:\n1\n5\n0\n0\n0\n'\n,\n\n\n \n \n \n \n \n \n \n \n \n \n \n \n \n \n \n \nt\nr\na\nn\ns\np\no\nr\nt\n=\nV\ne\nr\ni\nf\ny\nC\ne\nr\nt\nS\na\nf\ne\nT\nr\na\nn\ns\np\no\nr\nt\n(\n'\ns\ne\nr\nv\ne\nr\n_\nc\ne\nr\nt\n.\np\ne\nm\n'\n,\n\n\n \n \n \n \n \n \n \n \n \n \n \n \n \n \n \n \n \n \n \n \n \n \n \n \n \n \n \n \n \n \n \n \n \n \n \n \n \n \n \n \n \n \n \n \n \n \n \n \n \n \n'\nc\nl\ni\ne\nn\nt\n_\nc\ne\nr\nt\n.\np\ne\nm\n'\n,\n\n\n \n \n \n \n \n \n \n \n \n \n \n \n \n \n \n \n \n \n \n \n \n \n \n \n \n \n \n \n \n \n \n \n \n \n \n \n \n \n \n \n \n \n \n \n \n \n \n \n \n \n'\nc\nl\ni\ne\nn\nt\n_\nk\ne\ny\n.\np\ne\nm\n'\n)\n,\n\n\n \n \n \n \n \n \n \n \n \n \n \n \n \n \n \n \na\nl\nl\no\nw\n_\nn\no\nn\ne\n=\nT\nr\nu\ne\n)\n\n"
      ]
    },
    {
      "cell_type": "markdown",
      "metadata": {},
      "source": [
        "### \u8ba8\u8bba\n"
      ]
    },
    {
      "cell_type": "markdown",
      "metadata": {},
      "source": [
        "\u8bd5\u7740\u53bb\u8fd0\u884c\u672c\u8282\u7684\u4ee3\u7801\u80fd\u6d4b\u8bd5\u4f60\u7684\u7cfb\u7edf\u914d\u7f6e\u80fd\u529b\u548c\u7406\u89e3SSL\u3002\n\u53ef\u80fd\u6700\u5927\u7684\u6311\u6218\u662f\u5982\u4f55\u4e00\u6b65\u6b65\u7684\u83b7\u53d6\u521d\u59cb\u914d\u7f6ekey\u3001\u8bc1\u4e66\u548c\u5176\u4ed6\u6240\u9700\u4f9d\u8d56\u3002"
      ]
    },
    {
      "cell_type": "markdown",
      "metadata": {},
      "source": [
        "\u6211\u89e3\u91ca\u4e0b\u5230\u5e95\u9700\u8981\u5565\uff0c\u6bcf\u4e00\u4e2aSSL\u8fde\u63a5\u7ec8\u7aef\u4e00\u822c\u90fd\u4f1a\u6709\u4e00\u4e2a\u79c1\u94a5\u548c\u4e00\u4e2a\u7b7e\u540d\u8bc1\u4e66\u6587\u4ef6\u3002\n\u8fd9\u4e2a\u8bc1\u4e66\u5305\u542b\u4e86\u516c\u94a5\u5e76\u5728\u6bcf\u4e00\u6b21\u8fde\u63a5\u7684\u65f6\u5019\u90fd\u4f1a\u53d1\u9001\u7ed9\u5bf9\u65b9\u3002\n\u5bf9\u4e8e\u516c\u5171\u670d\u52a1\u5668\uff0c\u5b83\u4eec\u7684\u8bc1\u4e66\u901a\u5e38\u662f\u88ab\u6743\u5a01\u8bc1\u4e66\u673a\u6784\u6bd4\u5982Verisign\u3001Equifax\u6216\u5176\u4ed6\u7c7b\u4f3c\u673a\u6784\uff08\u9700\u8981\u4ed8\u8d39\u7684\uff09\u7b7e\u540d\u8fc7\u7684\u3002\n\u4e3a\u4e86\u786e\u8ba4\u670d\u52a1\u5668\u7b7e\u540d\uff0c\u5ba2\u6237\u7aef\u56de\u4fdd\u5b58\u4e00\u4efd\u5305\u542b\u4e86\u4fe1\u4efb\u6388\u6743\u673a\u6784\u7684\u8bc1\u4e66\u5217\u8868\u6587\u4ef6\u3002\n\u4f8b\u5982\uff0cweb\u6d4f\u89c8\u5668\u4fdd\u5b58\u4e86\u4e3b\u8981\u7684\u8ba4\u8bc1\u673a\u6784\u7684\u8bc1\u4e66\uff0c\u5e76\u4f7f\u7528\u5b83\u6765\u4e3a\u6bcf\u4e00\u4e2aHTTPS\u8fde\u63a5\u786e\u8ba4\u8bc1\u4e66\u7684\u5408\u6cd5\u6027\u3002\n\u5bf9\u672c\u5c0f\u8282\u793a\u4f8b\u800c\u8a00\uff0c\u53ea\u662f\u4e3a\u4e86\u6d4b\u8bd5\uff0c\u6211\u4eec\u53ef\u4ee5\u521b\u5efa\u81ea\u7b7e\u540d\u7684\u8bc1\u4e66\uff0c\u4e0b\u9762\u662f\u4e3b\u8981\u6b65\u9aa4\uff1a"
      ]
    },
    {
      "cell_type": "markdown",
      "metadata": {},
      "source": [
        "Generating a 1024 bit RSA private key\n\u2026\u2026\u2026\u2026\u2026\u2026\u2026\u2026\u2026\u2026\u2026\u2026\u2026\u2026++++++\n\u2026++++++"
      ]
    },
    {
      "cell_type": "markdown",
      "metadata": {},
      "source": [
        "writing new private key to \u2018server_key.pem\u2019"
      ]
    },
    {
      "cell_type": "markdown",
      "metadata": {},
      "source": [
        "You are about to be asked to enter information that will be incorporated\ninto your certificate request.\nWhat you are about to enter is what is called a Distinguished Name or a DN.\nThere are quite a few fields but you can leave some blank\nFor some fields there will be a default value,\nIf you enter \u2018.\u2019, the field will be left blank."
      ]
    },
    {
      "cell_type": "markdown",
      "metadata": {},
      "source": [
        "Country Name (2 letter code) [AU]:US\nState or Province Name (full name) [Some-State]:Illinois\nLocality Name (eg, city) []:Chicago\nOrganization Name (eg, company) [Internet Widgits Pty Ltd]:Dabeaz, LLC\nOrganizational Unit Name (eg, section) []:\nCommon Name (eg, YOUR name) []:localhost\nEmail Address []:\nbash %"
      ]
    },
    {
      "cell_type": "markdown",
      "metadata": {},
      "source": [
        "\u5728\u521b\u5efa\u8bc1\u4e66\u7684\u65f6\u5019\uff0c\u5404\u4e2a\u503c\u7684\u8bbe\u5b9a\u53ef\u4ee5\u662f\u4efb\u610f\u7684\uff0c\u4f46\u662f\u201dCommon Name\u201c\u7684\u503c\u901a\u5e38\u8981\u5305\u542b\u670d\u52a1\u5668\u7684DNS\u4e3b\u673a\u540d\u3002\n\u5982\u679c\u4f60\u53ea\u662f\u5728\u672c\u673a\u6d4b\u8bd5\uff0c\u90a3\u4e48\u5c31\u4f7f\u7528\u201dlocalhost\u201c\uff0c\u5426\u5219\u4f7f\u7528\u670d\u52a1\u5668\u7684\u57df\u540d\u3002"
      ]
    },
    {
      "cell_type": "markdown",
      "metadata": {},
      "source": [
        "\u670d\u52a1\u5668\u8bc1\u4e66\u6587\u4ef6server_cert.pem\u5185\u5bb9\u7c7b\u4f3c\u4e0b\u9762\u8fd9\u6837\uff1a"
      ]
    },
    {
      "cell_type": "markdown",
      "metadata": {},
      "source": [
        "\u2014\u2013BEGIN CERTIFICATE\u2014\u2013\nMIIC+DCCAmGgAwIBAgIJAPMd+vi45js3MA0GCSqGSIb3DQEBBQUAMFwxCzAJBgNV\nBAYTAlVTMREwDwYDVQQIEwhJbGxpbm9pczEQMA4GA1UEBxMHQ2hpY2FnbzEUMBIG\nA1UEChMLRGFiZWF6LCBMTEMxEjAQBgNVBAMTCWxvY2FsaG9zdDAeFw0xMzAxMTEx\nODQyMjdaFw0xNDAxMTExODQyMjdaMFwxCzAJBgNVBAYTAlVTMREwDwYDVQQIEwhJ\nbGxpbm9pczEQMA4GA1UEBxMHQ2hpY2FnbzEUMBIGA1UEChMLRGFiZWF6LCBMTEMx\nEjAQBgNVBAMTCWxvY2FsaG9zdDCBnzANBgkqhkiG9w0BAQEFAAOBjQAwgYkCgYEA\nmawjS6BMgChfn/VDXBWs+TrGuo3+6pG1JfLIucUK2N2WAu47rpy9XWS5/1WxBSCE\n2lDoLwbT79alFkyRsIGutlUhtaBRNDgyMd4NjYeLEX/q8krMdi+OONp8dM+DubyU"
      ]
    },
    {
      "cell_type": "markdown",
      "metadata": {},
      "source": [
        "O5OnkTRwGVFJwi+dPmL48i8re68i0o0rioQnCbG2YD8CAwEAAaOBwTCBvjAdBgNV\nHQ4EFgQUrtoLHHgXiDZTr26NMmgKJLJLFtIwgY4GA1UdIwSBhjCBg4AUrtoLHHgX\niDZTr26NMmgKJLJLFtKhYKReMFwxCzAJBgNVBAYTAlVTMREwDwYDVQQIEwhJbGxp\nbm9pczEQMA4GA1UEBxMHQ2hpY2FnbzEUMBIGA1UEChMLRGFiZWF6LCBMTEMxEjAQ\nBgNVBAMTCWxvY2FsaG9zdIIJAPMd+vi45js3MAwGA1UdEwQFMAMBAf8wDQYJKoZI\nhvcNAQEFBQADgYEAFci+dqvMG4xF8UTnbGVvZJPIzJDRee6Nbt6AHQo9pOdAIMAu\nWsGCplSOaDNdKKzl+b2UT2Zp3AIW4Qd51bouSNnR4M/gnr9ZD1ZctFd3jS+C5XRp\nD3vvcW5lAnCCC80P6rXy7d7hTeFu5EYKtRGXNvVNd/06NALGDflrrOwxF3Y=\n\u2014\u2013END CERTIFICATE\u2014\u2013"
      ]
    },
    {
      "cell_type": "markdown",
      "metadata": {},
      "source": [
        "\u5728\u670d\u52a1\u5668\u7aef\u4ee3\u7801\u4e2d\uff0c\u79c1\u94a5\u548c\u8bc1\u4e66\u6587\u4ef6\u4f1a\u88ab\u4f20\u7ed9SSL\u76f8\u5173\u7684\u5305\u88c5\u51fd\u6570\u3002\u8bc1\u4e66\u6765\u81ea\u4e8e\u5ba2\u6237\u7aef\uff0c\n\u79c1\u94a5\u5e94\u8be5\u5728\u4fdd\u5b58\u5728\u670d\u52a1\u5668\u4e2d\uff0c\u5e76\u52a0\u4ee5\u5b89\u5168\u4fdd\u62a4\u3002"
      ]
    },
    {
      "cell_type": "markdown",
      "metadata": {},
      "source": [
        "\u5728\u5ba2\u6237\u7aef\u4ee3\u7801\u4e2d\uff0c\u9700\u8981\u4fdd\u5b58\u4e00\u4e2a\u5408\u6cd5\u8bc1\u4e66\u6388\u6743\u6587\u4ef6\u6765\u786e\u8ba4\u670d\u52a1\u5668\u8bc1\u4e66\u3002\n\u5982\u679c\u4f60\u6ca1\u6709\u8fd9\u4e2a\u6587\u4ef6\uff0c\u4f60\u53ef\u4ee5\u5728\u5ba2\u6237\u7aef\u590d\u5236\u4e00\u4efd\u670d\u52a1\u5668\u7684\u8bc1\u4e66\u5e76\u4f7f\u7528\u5b83\u6765\u786e\u8ba4\u3002\n\u8fde\u63a5\u5efa\u7acb\u540e\uff0c\u670d\u52a1\u5668\u4f1a\u63d0\u4f9b\u5b83\u7684\u8bc1\u4e66\uff0c\u7136\u540e\u4f60\u5c31\u80fd\u4f7f\u7528\u5df2\u7ecf\u4fdd\u5b58\u7684\u8bc1\u4e66\u6765\u786e\u8ba4\u5b83\u662f\u5426\u6b63\u786e\u3002"
      ]
    },
    {
      "cell_type": "markdown",
      "metadata": {},
      "source": [
        "\u670d\u52a1\u5668\u4e5f\u80fd\u9009\u62e9\u662f\u5426\u8981\u786e\u8ba4\u5ba2\u6237\u7aef\u7684\u8eab\u4efd\u3002\u5982\u679c\u8981\u8fd9\u6837\u505a\u7684\u8bdd\uff0c\u5ba2\u6237\u7aef\u9700\u8981\u6709\u81ea\u5df1\u7684\u79c1\u94a5\u548c\u8ba4\u8bc1\u6587\u4ef6\u3002\n\u670d\u52a1\u5668\u4e5f\u9700\u8981\u4fdd\u5b58\u4e00\u4e2a\u88ab\u4fe1\u4efb\u8bc1\u4e66\u6388\u6743\u6587\u4ef6\u6765\u786e\u8ba4\u5ba2\u6237\u7aef\u8bc1\u4e66\u3002"
      ]
    },
    {
      "cell_type": "markdown",
      "metadata": {},
      "source": [
        "\u5982\u679c\u4f60\u8981\u5728\u771f\u5b9e\u73af\u5883\u4e2d\u4e3a\u4f60\u7684\u7f51\u7edc\u670d\u52a1\u52a0\u4e0aSSL\u7684\u652f\u6301\uff0c\u8fd9\u5c0f\u8282\u53ea\u662f\u4e00\u4e2a\u5165\u95e8\u4ecb\u7ecd\u800c\u5df2\u3002\n\u4f60\u8fd8\u5e94\u8be5\u53c2\u8003\u5176\u4ed6\u7684\u6587\u6863\uff0c\u505a\u597d\u82b1\u8d39\u4e0d\u5c11\u65f6\u95f4\u6765\u6d4b\u8bd5\u5b83\u6b63\u5e38\u5de5\u4f5c\u7684\u51c6\u5907\u3002\u53cd\u6b63\uff0c\u5c31\u662f\u5f97\u6162\u6162\u6298\u817e\u5427~ ^_^"
      ]
    },
    {
      "cell_type": "markdown",
      "metadata": {},
      "source": [
        "## 11.11 \u8fdb\u7a0b\u95f4\u4f20\u9012Socket\u6587\u4ef6\u63cf\u8ff0\u7b26\n"
      ]
    },
    {
      "cell_type": "markdown",
      "metadata": {},
      "source": [
        "### \u95ee\u9898\n"
      ]
    },
    {
      "cell_type": "markdown",
      "metadata": {},
      "source": [
        "\u4f60\u6709\u591a\u4e2aPython\u89e3\u91ca\u5668\u8fdb\u7a0b\u5728\u540c\u65f6\u8fd0\u884c\uff0c\u4f60\u60f3\u5c06\u67d0\u4e2a\u6253\u5f00\u7684\u6587\u4ef6\u63cf\u8ff0\u7b26\u4ece\u4e00\u4e2a\u89e3\u91ca\u5668\u4f20\u9012\u7ed9\u53e6\u5916\u4e00\u4e2a\u3002\n\u6bd4\u5982\uff0c\u5047\u8bbe\u6709\u4e2a\u670d\u52a1\u5668\u8fdb\u7a0b\u76f8\u5e94\u8fde\u63a5\u8bf7\u6c42\uff0c\u4f46\u662f\u5b9e\u9645\u7684\u76f8\u5e94\u903b\u8f91\u662f\u5728\u53e6\u4e00\u4e2a\u89e3\u91ca\u5668\u4e2d\u6267\u884c\u7684\u3002"
      ]
    },
    {
      "cell_type": "markdown",
      "metadata": {},
      "source": [
        "### \u89e3\u51b3\u65b9\u6848\n"
      ]
    },
    {
      "cell_type": "markdown",
      "metadata": {},
      "source": [
        "\u4e3a\u4e86\u5728\u591a\u4e2a\u8fdb\u7a0b\u4e2d\u4f20\u9012\u6587\u4ef6\u63cf\u8ff0\u7b26\uff0c\u4f60\u9996\u5148\u9700\u8981\u5c06\u5b83\u4eec\u8fde\u63a5\u5230\u4e00\u8d77\u3002\u5728Unix\u673a\u5668\u4e0a\uff0c\u4f60\u53ef\u80fd\u9700\u8981\u4f7f\u7528Unix\u57df\u5957\u63a5\u5b57\uff0c\n\u800c\u5728windows\u4e0a\u9762\u4f60\u9700\u8981\u4f7f\u7528\u547d\u540d\u7ba1\u9053\u3002\u4e0d\u8fc7\u4f60\u65e0\u9700\u771f\u7684\u9700\u8981\u53bb\u64cd\u4f5c\u8fd9\u4e9b\u5e95\u5c42\uff0c\n\u901a\u5e38\u4f7f\u7528 multiprocessing \u6a21\u5757\u6765\u521b\u5efa\u8fd9\u6837\u7684\u8fde\u63a5\u4f1a\u66f4\u5bb9\u6613\u4e00\u4e9b\u3002"
      ]
    },
    {
      "cell_type": "markdown",
      "metadata": {},
      "source": [
        "\u4e00\u65e6\u4e00\u4e2a\u8fde\u63a5\u88ab\u521b\u5efa\uff0c\u4f60\u53ef\u4ee5\u4f7f\u7528 multiprocessing.reduction \u4e2d\u7684\nsend_handle() \u548c recv_handle() \u51fd\u6570\u5728\u4e0d\u540c\u7684\u5904\u7406\u5668\u76f4\u63a5\u4f20\u9012\u6587\u4ef6\u63cf\u8ff0\u7b26\u3002\n\u4e0b\u9762\u7684\u4f8b\u5b50\u6f14\u793a\u4e86\u6700\u57fa\u672c\u7684\u7528\u6cd5\uff1a"
      ]
    },
    {
      "cell_type": "code",
      "execution_count": null,
      "metadata": {},
      "outputs": [],
      "source": [
        "i\nm\np\no\nr\nt\n \nm\nu\nl\nt\ni\np\nr\no\nc\ne\ns\ns\ni\nn\ng\n\n\nf\nr\no\nm\n \nm\nu\nl\nt\ni\np\nr\no\nc\ne\ns\ns\ni\nn\ng\n.\nr\ne\nd\nu\nc\nt\ni\no\nn\n \ni\nm\np\no\nr\nt\n \nr\ne\nc\nv\n_\nh\na\nn\nd\nl\ne\n,\n \ns\ne\nn\nd\n_\nh\na\nn\nd\nl\ne\n\n\ni\nm\np\no\nr\nt\n \ns\no\nc\nk\ne\nt\n\n\n\n\nd\ne\nf\n \nw\no\nr\nk\ne\nr\n(\ni\nn\n_\np\n,\n \no\nu\nt\n_\np\n)\n:\n\n\n \n \n \n \no\nu\nt\n_\np\n.\nc\nl\no\ns\ne\n(\n)\n\n\n \n \n \n \nw\nh\ni\nl\ne\n \nT\nr\nu\ne\n:\n\n\n \n \n \n \n \n \n \n \nf\nd\n \n=\n \nr\ne\nc\nv\n_\nh\na\nn\nd\nl\ne\n(\ni\nn\n_\np\n)\n\n\n \n \n \n \n \n \n \n \np\nr\ni\nn\nt\n(\n'\nC\nH\nI\nL\nD\n:\n \nG\nO\nT\n \nF\nD\n'\n,\n \nf\nd\n)\n\n\n \n \n \n \n \n \n \n \nw\ni\nt\nh\n \ns\no\nc\nk\ne\nt\n.\ns\no\nc\nk\ne\nt\n(\ns\no\nc\nk\ne\nt\n.\nA\nF\n_\nI\nN\nE\nT\n,\n \ns\no\nc\nk\ne\nt\n.\nS\nO\nC\nK\n_\nS\nT\nR\nE\nA\nM\n,\n \nf\ni\nl\ne\nn\no\n=\nf\nd\n)\n \na\ns\n \ns\n:\n\n\n \n \n \n \n \n \n \n \n \n \n \n \nw\nh\ni\nl\ne\n \nT\nr\nu\ne\n:\n\n\n \n \n \n \n \n \n \n \n \n \n \n \n \n \n \n \nm\ns\ng\n \n=\n \ns\n.\nr\ne\nc\nv\n(\n1\n0\n2\n4\n)\n\n\n \n \n \n \n \n \n \n \n \n \n \n \n \n \n \n \ni\nf\n \nn\no\nt\n \nm\ns\ng\n:\n\n\n \n \n \n \n \n \n \n \n \n \n \n \n \n \n \n \n \n \n \n \nb\nr\ne\na\nk\n\n\n \n \n \n \n \n \n \n \n \n \n \n \n \n \n \n \np\nr\ni\nn\nt\n(\n'\nC\nH\nI\nL\nD\n:\n \nR\nE\nC\nV\n \n{\n!\nr\n}\n'\n.\nf\no\nr\nm\na\nt\n(\nm\ns\ng\n)\n)\n\n\n \n \n \n \n \n \n \n \n \n \n \n \n \n \n \n \ns\n.\ns\ne\nn\nd\n(\nm\ns\ng\n)\n\n\n\n\nd\ne\nf\n \ns\ne\nr\nv\ne\nr\n(\na\nd\nd\nr\ne\ns\ns\n,\n \ni\nn\n_\np\n,\n \no\nu\nt\n_\np\n,\n \nw\no\nr\nk\ne\nr\n_\np\ni\nd\n)\n:\n\n\n \n \n \n \ni\nn\n_\np\n.\nc\nl\no\ns\ne\n(\n)\n\n\n \n \n \n \ns\n \n=\n \ns\no\nc\nk\ne\nt\n.\ns\no\nc\nk\ne\nt\n(\ns\no\nc\nk\ne\nt\n.\nA\nF\n_\nI\nN\nE\nT\n,\n \ns\no\nc\nk\ne\nt\n.\nS\nO\nC\nK\n_\nS\nT\nR\nE\nA\nM\n)\n\n\n \n \n \n \ns\n.\ns\ne\nt\ns\no\nc\nk\no\np\nt\n(\ns\no\nc\nk\ne\nt\n.\nS\nO\nL\n_\nS\nO\nC\nK\nE\nT\n,\n \ns\no\nc\nk\ne\nt\n.\nS\nO\n_\nR\nE\nU\nS\nE\nA\nD\nD\nR\n,\n \nT\nr\nu\ne\n)\n\n\n \n \n \n \ns\n.\nb\ni\nn\nd\n(\na\nd\nd\nr\ne\ns\ns\n)\n\n\n \n \n \n \ns\n.\nl\ni\ns\nt\ne\nn\n(\n1\n)\n\n\n \n \n \n \nw\nh\ni\nl\ne\n \nT\nr\nu\ne\n:\n\n\n \n \n \n \n \n \n \n \nc\nl\ni\ne\nn\nt\n,\n \na\nd\nd\nr\n \n=\n \ns\n.\na\nc\nc\ne\np\nt\n(\n)\n\n\n \n \n \n \n \n \n \n \np\nr\ni\nn\nt\n(\n'\nS\nE\nR\nV\nE\nR\n:\n \nG\no\nt\n \nc\no\nn\nn\ne\nc\nt\ni\no\nn\n \nf\nr\no\nm\n'\n,\n \na\nd\nd\nr\n)\n\n\n \n \n \n \n \n \n \n \ns\ne\nn\nd\n_\nh\na\nn\nd\nl\ne\n(\no\nu\nt\n_\np\n,\n \nc\nl\ni\ne\nn\nt\n.\nf\ni\nl\ne\nn\no\n(\n)\n,\n \nw\no\nr\nk\ne\nr\n_\np\ni\nd\n)\n\n\n \n \n \n \n \n \n \n \nc\nl\ni\ne\nn\nt\n.\nc\nl\no\ns\ne\n(\n)\n\n\n\n\ni\nf\n \n_\n_\nn\na\nm\ne\n_\n_\n \n=\n=\n \n'\n_\n_\nm\na\ni\nn\n_\n_\n'\n:\n\n\n \n \n \n \nc\n1\n,\n \nc\n2\n \n=\n \nm\nu\nl\nt\ni\np\nr\no\nc\ne\ns\ns\ni\nn\ng\n.\nP\ni\np\ne\n(\n)\n\n\n \n \n \n \nw\no\nr\nk\ne\nr\n_\np\n \n=\n \nm\nu\nl\nt\ni\np\nr\no\nc\ne\ns\ns\ni\nn\ng\n.\nP\nr\no\nc\ne\ns\ns\n(\nt\na\nr\ng\ne\nt\n=\nw\no\nr\nk\ne\nr\n,\n \na\nr\ng\ns\n=\n(\nc\n1\n,\nc\n2\n)\n)\n\n\n \n \n \n \nw\no\nr\nk\ne\nr\n_\np\n.\ns\nt\na\nr\nt\n(\n)\n\n\n\n\n \n \n \n \ns\ne\nr\nv\ne\nr\n_\np\n \n=\n \nm\nu\nl\nt\ni\np\nr\no\nc\ne\ns\ns\ni\nn\ng\n.\nP\nr\no\nc\ne\ns\ns\n(\nt\na\nr\ng\ne\nt\n=\ns\ne\nr\nv\ne\nr\n,\n\n\n \n \n \n \n \n \n \n \n \n \n \n \n \n \n \n \n \n \na\nr\ng\ns\n=\n(\n(\n'\n'\n,\n \n1\n5\n0\n0\n0\n)\n,\n \nc\n1\n,\n \nc\n2\n,\n \nw\no\nr\nk\ne\nr\n_\np\n.\np\ni\nd\n)\n)\n\n\n \n \n \n \ns\ne\nr\nv\ne\nr\n_\np\n.\ns\nt\na\nr\nt\n(\n)\n\n\n\n\n \n \n \n \nc\n1\n.\nc\nl\no\ns\ne\n(\n)\n\n\n \n \n \n \nc\n2\n.\nc\nl\no\ns\ne\n(\n)\n\n"
      ]
    },
    {
      "cell_type": "markdown",
      "metadata": {},
      "source": [
        "\u5728\u8fd9\u4e2a\u4f8b\u5b50\u4e2d\uff0c\u4e24\u4e2a\u8fdb\u7a0b\u88ab\u521b\u5efa\u5e76\u901a\u8fc7\u4e00\u4e2a multiprocessing \u7ba1\u9053\u8fde\u63a5\u8d77\u6765\u3002\n\u670d\u52a1\u5668\u8fdb\u7a0b\u6253\u5f00\u4e00\u4e2asocket\u5e76\u7b49\u5f85\u5ba2\u6237\u7aef\u8fde\u63a5\u8bf7\u6c42\u3002\n\u5de5\u4f5c\u8fdb\u7a0b\u4ec5\u4ec5\u4f7f\u7528 recv_handle() \u5728\u7ba1\u9053\u4e0a\u9762\u7b49\u5f85\u63a5\u6536\u4e00\u4e2a\u6587\u4ef6\u63cf\u8ff0\u7b26\u3002\n\u5f53\u670d\u52a1\u5668\u63a5\u6536\u5230\u4e00\u4e2a\u8fde\u63a5\uff0c\u5b83\u5c06\u4ea7\u751f\u7684socket\u6587\u4ef6\u63cf\u8ff0\u7b26\u901a\u8fc7 send_handle() \u4f20\u9012\u7ed9\u5de5\u4f5c\u8fdb\u7a0b\u3002\n\u5de5\u4f5c\u8fdb\u7a0b\u63a5\u6536\u5230socket\u540e\u5411\u5ba2\u6237\u7aef\u56de\u5e94\u6570\u636e\uff0c\u7136\u540e\u6b64\u6b21\u8fde\u63a5\u5173\u95ed\u3002"
      ]
    },
    {
      "cell_type": "markdown",
      "metadata": {},
      "source": [
        "\u5982\u679c\u4f60\u4f7f\u7528Telnet\u6216\u7c7b\u4f3c\u5de5\u5177\u8fde\u63a5\u5230\u670d\u52a1\u5668\uff0c\u4e0b\u9762\u662f\u4e00\u4e2a\u6f14\u793a\u4f8b\u5b50\uff1a"
      ]
    },
    {
      "cell_type": "markdown",
      "metadata": {},
      "source": [
        "\u6b64\u4f8b\u6700\u91cd\u8981\u7684\u90e8\u5206\u662f\u670d\u52a1\u5668\u63a5\u6536\u5230\u7684\u5ba2\u6237\u7aefsocket\u5b9e\u9645\u4e0a\u88ab\u53e6\u5916\u4e00\u4e2a\u4e0d\u540c\u7684\u8fdb\u7a0b\u5904\u7406\u3002\n\u670d\u52a1\u5668\u4ec5\u4ec5\u53ea\u662f\u5c06\u5176\u8f6c\u624b\u5e76\u5173\u95ed\u6b64\u8fde\u63a5\uff0c\u7136\u540e\u7b49\u5f85\u4e0b\u4e00\u4e2a\u8fde\u63a5\u3002"
      ]
    },
    {
      "cell_type": "markdown",
      "metadata": {},
      "source": [
        "### \u8ba8\u8bba\n"
      ]
    },
    {
      "cell_type": "markdown",
      "metadata": {},
      "source": [
        "\u5bf9\u4e8e\u5927\u90e8\u5206\u7a0b\u5e8f\u5458\u6765\u8bb2\u5728\u4e0d\u540c\u8fdb\u7a0b\u4e4b\u95f4\u4f20\u9012\u6587\u4ef6\u63cf\u8ff0\u7b26\u597d\u50cf\u6ca1\u4ec0\u4e48\u5fc5\u8981\u3002\n\u4f46\u662f\uff0c\u6709\u65f6\u5019\u5b83\u662f\u6784\u5efa\u4e00\u4e2a\u53ef\u6269\u5c55\u7cfb\u7edf\u7684\u5f88\u6709\u7528\u7684\u5de5\u5177\u3002\u4f8b\u5982\uff0c\u5728\u4e00\u4e2a\u591a\u6838\u673a\u5668\u4e0a\u9762\uff0c\n\u4f60\u53ef\u4ee5\u6709\u591a\u4e2aPython\u89e3\u91ca\u5668\u5b9e\u4f8b\uff0c\u5c06\u6587\u4ef6\u63cf\u8ff0\u7b26\u4f20\u9012\u7ed9\u5176\u5b83\u89e3\u91ca\u5668\u6765\u5b9e\u73b0\u8d1f\u8f7d\u5747\u8861\u3002"
      ]
    },
    {
      "cell_type": "markdown",
      "metadata": {},
      "source": [
        "send_handle() \u548c recv_handle() \u51fd\u6570\u53ea\u80fd\u591f\u7528\u4e8e multiprocessing \u8fde\u63a5\u3002\n\u4f7f\u7528\u5b83\u4eec\u6765\u4ee3\u66ff\u7ba1\u9053\u7684\u4f7f\u7528\uff08\u53c2\u800311.7\u8282\uff09\uff0c\u53ea\u8981\u4f60\u4f7f\u7528\u7684\u662fUnix\u57df\u5957\u63a5\u5b57\u6216Windows\u7ba1\u9053\u3002\n\u4f8b\u5982\uff0c\u4f60\u53ef\u4ee5\u8ba9\u670d\u52a1\u5668\u548c\u5de5\u4f5c\u8005\u5404\u81ea\u4ee5\u5355\u72ec\u7684\u7a0b\u5e8f\u6765\u542f\u52a8\u3002\u4e0b\u9762\u662f\u670d\u52a1\u5668\u7684\u5b9e\u73b0\u4f8b\u5b50\uff1a"
      ]
    },
    {
      "cell_type": "code",
      "execution_count": null,
      "metadata": {},
      "outputs": [],
      "source": [
        "#\n \ns\ne\nr\nv\ne\nr\nm\np\n.\np\ny\n\n\nf\nr\no\nm\n \nm\nu\nl\nt\ni\np\nr\no\nc\ne\ns\ns\ni\nn\ng\n.\nc\no\nn\nn\ne\nc\nt\ni\no\nn\n \ni\nm\np\no\nr\nt\n \nL\ni\ns\nt\ne\nn\ne\nr\n\n\nf\nr\no\nm\n \nm\nu\nl\nt\ni\np\nr\no\nc\ne\ns\ns\ni\nn\ng\n.\nr\ne\nd\nu\nc\nt\ni\no\nn\n \ni\nm\np\no\nr\nt\n \ns\ne\nn\nd\n_\nh\na\nn\nd\nl\ne\n\n\ni\nm\np\no\nr\nt\n \ns\no\nc\nk\ne\nt\n\n\n\n\nd\ne\nf\n \ns\ne\nr\nv\ne\nr\n(\nw\no\nr\nk\n_\na\nd\nd\nr\ne\ns\ns\n,\n \np\no\nr\nt\n)\n:\n\n\n \n \n \n \n#\n \nW\na\ni\nt\n \nf\no\nr\n \nt\nh\ne\n \nw\no\nr\nk\ne\nr\n \nt\no\n \nc\no\nn\nn\ne\nc\nt\n\n\n \n \n \n \nw\no\nr\nk\n_\ns\ne\nr\nv\n \n=\n \nL\ni\ns\nt\ne\nn\ne\nr\n(\nw\no\nr\nk\n_\na\nd\nd\nr\ne\ns\ns\n,\n \na\nu\nt\nh\nk\ne\ny\n=\nb\n'\np\ne\ne\nk\na\nb\no\no\n'\n)\n\n\n \n \n \n \nw\no\nr\nk\ne\nr\n \n=\n \nw\no\nr\nk\n_\ns\ne\nr\nv\n.\na\nc\nc\ne\np\nt\n(\n)\n\n\n \n \n \n \nw\no\nr\nk\ne\nr\n_\np\ni\nd\n \n=\n \nw\no\nr\nk\ne\nr\n.\nr\ne\nc\nv\n(\n)\n\n\n\n\n \n \n \n \n#\n \nN\no\nw\n \nr\nu\nn\n \na\n \nT\nC\nP\n/\nI\nP\n \ns\ne\nr\nv\ne\nr\n \na\nn\nd\n \ns\ne\nn\nd\n \nc\nl\ni\ne\nn\nt\ns\n \nt\no\n \nw\no\nr\nk\ne\nr\n\n\n \n \n \n \ns\n \n=\n \ns\no\nc\nk\ne\nt\n.\ns\no\nc\nk\ne\nt\n(\ns\no\nc\nk\ne\nt\n.\nA\nF\n_\nI\nN\nE\nT\n,\n \ns\no\nc\nk\ne\nt\n.\nS\nO\nC\nK\n_\nS\nT\nR\nE\nA\nM\n)\n\n\n \n \n \n \ns\n.\ns\ne\nt\ns\no\nc\nk\no\np\nt\n(\ns\no\nc\nk\ne\nt\n.\nS\nO\nL\n_\nS\nO\nC\nK\nE\nT\n,\n \ns\no\nc\nk\ne\nt\n.\nS\nO\n_\nR\nE\nU\nS\nE\nA\nD\nD\nR\n,\n \nT\nr\nu\ne\n)\n\n\n \n \n \n \ns\n.\nb\ni\nn\nd\n(\n(\n'\n'\n,\n \np\no\nr\nt\n)\n)\n\n\n \n \n \n \ns\n.\nl\ni\ns\nt\ne\nn\n(\n1\n)\n\n\n \n \n \n \nw\nh\ni\nl\ne\n \nT\nr\nu\ne\n:\n\n\n \n \n \n \n \n \n \n \nc\nl\ni\ne\nn\nt\n,\n \na\nd\nd\nr\n \n=\n \ns\n.\na\nc\nc\ne\np\nt\n(\n)\n\n\n \n \n \n \n \n \n \n \np\nr\ni\nn\nt\n(\n'\nS\nE\nR\nV\nE\nR\n:\n \nG\no\nt\n \nc\no\nn\nn\ne\nc\nt\ni\no\nn\n \nf\nr\no\nm\n'\n,\n \na\nd\nd\nr\n)\n\n\n\n\n \n \n \n \n \n \n \n \ns\ne\nn\nd\n_\nh\na\nn\nd\nl\ne\n(\nw\no\nr\nk\ne\nr\n,\n \nc\nl\ni\ne\nn\nt\n.\nf\ni\nl\ne\nn\no\n(\n)\n,\n \nw\no\nr\nk\ne\nr\n_\np\ni\nd\n)\n\n\n \n \n \n \n \n \n \n \nc\nl\ni\ne\nn\nt\n.\nc\nl\no\ns\ne\n(\n)\n\n\n\n\ni\nf\n \n_\n_\nn\na\nm\ne\n_\n_\n \n=\n=\n \n'\n_\n_\nm\na\ni\nn\n_\n_\n'\n:\n\n\n \n \n \n \ni\nm\np\no\nr\nt\n \ns\ny\ns\n\n\n \n \n \n \ni\nf\n \nl\ne\nn\n(\ns\ny\ns\n.\na\nr\ng\nv\n)\n \n!\n=\n \n3\n:\n\n\n \n \n \n \n \n \n \n \np\nr\ni\nn\nt\n(\n'\nU\ns\na\ng\ne\n:\n \ns\ne\nr\nv\ne\nr\n.\np\ny\n \ns\ne\nr\nv\ne\nr\n_\na\nd\nd\nr\ne\ns\ns\n \np\no\nr\nt\n'\n,\n \nf\ni\nl\ne\n=\ns\ny\ns\n.\ns\nt\nd\ne\nr\nr\n)\n\n\n \n \n \n \n \n \n \n \nr\na\ni\ns\ne\n \nS\ny\ns\nt\ne\nm\nE\nx\ni\nt\n(\n1\n)\n\n\n\n\n \n \n \n \ns\ne\nr\nv\ne\nr\n(\ns\ny\ns\n.\na\nr\ng\nv\n[\n1\n]\n,\n \ni\nn\nt\n(\ns\ny\ns\n.\na\nr\ng\nv\n[\n2\n]\n)\n)\n\n"
      ]
    },
    {
      "cell_type": "markdown",
      "metadata": {},
      "source": [
        "\u8fd0\u884c\u8fd9\u4e2a\u670d\u52a1\u5668\uff0c\u53ea\u9700\u8981\u6267\u884c python3 servermp.py /tmp/servconn 15000 \uff0c\u4e0b\u9762\u662f\u76f8\u5e94\u7684\u5de5\u4f5c\u8005\u4ee3\u7801\uff1a"
      ]
    },
    {
      "cell_type": "code",
      "execution_count": null,
      "metadata": {},
      "outputs": [],
      "source": [
        "#\n \nw\no\nr\nk\ne\nr\nm\np\n.\np\ny\n\n\n\n\nf\nr\no\nm\n \nm\nu\nl\nt\ni\np\nr\no\nc\ne\ns\ns\ni\nn\ng\n.\nc\no\nn\nn\ne\nc\nt\ni\no\nn\n \ni\nm\np\no\nr\nt\n \nC\nl\ni\ne\nn\nt\n\n\nf\nr\no\nm\n \nm\nu\nl\nt\ni\np\nr\no\nc\ne\ns\ns\ni\nn\ng\n.\nr\ne\nd\nu\nc\nt\ni\no\nn\n \ni\nm\np\no\nr\nt\n \nr\ne\nc\nv\n_\nh\na\nn\nd\nl\ne\n\n\ni\nm\np\no\nr\nt\n \no\ns\n\n\nf\nr\no\nm\n \ns\no\nc\nk\ne\nt\n \ni\nm\np\no\nr\nt\n \ns\no\nc\nk\ne\nt\n,\n \nA\nF\n_\nI\nN\nE\nT\n,\n \nS\nO\nC\nK\n_\nS\nT\nR\nE\nA\nM\n\n\n\n\nd\ne\nf\n \nw\no\nr\nk\ne\nr\n(\ns\ne\nr\nv\ne\nr\n_\na\nd\nd\nr\ne\ns\ns\n)\n:\n\n\n \n \n \n \ns\ne\nr\nv\n \n=\n \nC\nl\ni\ne\nn\nt\n(\ns\ne\nr\nv\ne\nr\n_\na\nd\nd\nr\ne\ns\ns\n,\n \na\nu\nt\nh\nk\ne\ny\n=\nb\n'\np\ne\ne\nk\na\nb\no\no\n'\n)\n\n\n \n \n \n \ns\ne\nr\nv\n.\ns\ne\nn\nd\n(\no\ns\n.\ng\ne\nt\np\ni\nd\n(\n)\n)\n\n\n \n \n \n \nw\nh\ni\nl\ne\n \nT\nr\nu\ne\n:\n\n\n \n \n \n \n \n \n \n \nf\nd\n \n=\n \nr\ne\nc\nv\n_\nh\na\nn\nd\nl\ne\n(\ns\ne\nr\nv\n)\n\n\n \n \n \n \n \n \n \n \np\nr\ni\nn\nt\n(\n'\nW\nO\nR\nK\nE\nR\n:\n \nG\nO\nT\n \nF\nD\n'\n,\n \nf\nd\n)\n\n\n \n \n \n \n \n \n \n \nw\ni\nt\nh\n \ns\no\nc\nk\ne\nt\n(\nA\nF\n_\nI\nN\nE\nT\n,\n \nS\nO\nC\nK\n_\nS\nT\nR\nE\nA\nM\n,\n \nf\ni\nl\ne\nn\no\n=\nf\nd\n)\n \na\ns\n \nc\nl\ni\ne\nn\nt\n:\n\n\n \n \n \n \n \n \n \n \n \n \n \n \nw\nh\ni\nl\ne\n \nT\nr\nu\ne\n:\n\n\n \n \n \n \n \n \n \n \n \n \n \n \n \n \n \n \nm\ns\ng\n \n=\n \nc\nl\ni\ne\nn\nt\n.\nr\ne\nc\nv\n(\n1\n0\n2\n4\n)\n\n\n \n \n \n \n \n \n \n \n \n \n \n \n \n \n \n \ni\nf\n \nn\no\nt\n \nm\ns\ng\n:\n\n\n \n \n \n \n \n \n \n \n \n \n \n \n \n \n \n \n \n \n \n \nb\nr\ne\na\nk\n\n\n \n \n \n \n \n \n \n \n \n \n \n \n \n \n \n \np\nr\ni\nn\nt\n(\n'\nW\nO\nR\nK\nE\nR\n:\n \nR\nE\nC\nV\n \n{\n!\nr\n}\n'\n.\nf\no\nr\nm\na\nt\n(\nm\ns\ng\n)\n)\n\n\n \n \n \n \n \n \n \n \n \n \n \n \n \n \n \n \nc\nl\ni\ne\nn\nt\n.\ns\ne\nn\nd\n(\nm\ns\ng\n)\n\n\n\n\ni\nf\n \n_\n_\nn\na\nm\ne\n_\n_\n \n=\n=\n \n'\n_\n_\nm\na\ni\nn\n_\n_\n'\n:\n\n\n \n \n \n \ni\nm\np\no\nr\nt\n \ns\ny\ns\n\n\n \n \n \n \ni\nf\n \nl\ne\nn\n(\ns\ny\ns\n.\na\nr\ng\nv\n)\n \n!\n=\n \n2\n:\n\n\n \n \n \n \n \n \n \n \np\nr\ni\nn\nt\n(\n'\nU\ns\na\ng\ne\n:\n \nw\no\nr\nk\ne\nr\n.\np\ny\n \ns\ne\nr\nv\ne\nr\n_\na\nd\nd\nr\ne\ns\ns\n'\n,\n \nf\ni\nl\ne\n=\ns\ny\ns\n.\ns\nt\nd\ne\nr\nr\n)\n\n\n \n \n \n \n \n \n \n \nr\na\ni\ns\ne\n \nS\ny\ns\nt\ne\nm\nE\nx\ni\nt\n(\n1\n)\n\n\n\n\n \n \n \n \nw\no\nr\nk\ne\nr\n(\ns\ny\ns\n.\na\nr\ng\nv\n[\n1\n]\n)\n\n"
      ]
    },
    {
      "cell_type": "markdown",
      "metadata": {},
      "source": [
        "\u8981\u8fd0\u884c\u5de5\u4f5c\u8005\uff0c\u6267\u884c\u6267\u884c\u547d\u4ee4 python3 workermp.py /tmp/servconn .\n\u6548\u679c\u8ddf\u4f7f\u7528Pipe()\u4f8b\u5b50\u662f\u5b8c\u5168\u4e00\u6837\u7684\u3002\n\u6587\u4ef6\u63cf\u8ff0\u7b26\u7684\u4f20\u9012\u4f1a\u6d89\u53ca\u5230UNIX\u57df\u5957\u63a5\u5b57\u7684\u521b\u5efa\u548c\u5957\u63a5\u5b57\u7684 sendmsg() \u65b9\u6cd5\u3002\n\u4e0d\u8fc7\u8fd9\u79cd\u6280\u672f\u5e76\u4e0d\u5e38\u89c1\uff0c\u4e0b\u9762\u662f\u4f7f\u7528\u5957\u63a5\u5b57\u6765\u4f20\u9012\u63cf\u8ff0\u7b26\u7684\u53e6\u5916\u4e00\u79cd\u5b9e\u73b0\uff1a"
      ]
    },
    {
      "cell_type": "code",
      "execution_count": null,
      "metadata": {},
      "outputs": [],
      "source": [
        "#\n \ns\ne\nr\nv\ne\nr\n.\np\ny\n\n\ni\nm\np\no\nr\nt\n \ns\no\nc\nk\ne\nt\n\n\n\n\ni\nm\np\no\nr\nt\n \ns\nt\nr\nu\nc\nt\n\n\n\n\nd\ne\nf\n \ns\ne\nn\nd\n_\nf\nd\n(\ns\no\nc\nk\n,\n \nf\nd\n)\n:\n\n\n \n \n \n \n'\n'\n'\n\n\n \n \n \n \nS\ne\nn\nd\n \na\n \ns\ni\nn\ng\nl\ne\n \nf\ni\nl\ne\n \nd\ne\ns\nc\nr\ni\np\nt\no\nr\n.\n\n\n \n \n \n \n'\n'\n'\n\n\n \n \n \n \ns\no\nc\nk\n.\ns\ne\nn\nd\nm\ns\ng\n(\n[\nb\n'\nx\n'\n]\n,\n\n\n \n \n \n \n \n \n \n \n \n \n \n \n \n \n \n \n \n[\n(\ns\no\nc\nk\ne\nt\n.\nS\nO\nL\n_\nS\nO\nC\nK\nE\nT\n,\n \ns\no\nc\nk\ne\nt\n.\nS\nC\nM\n_\nR\nI\nG\nH\nT\nS\n,\n \ns\nt\nr\nu\nc\nt\n.\np\na\nc\nk\n(\n'\ni\n'\n,\n \nf\nd\n)\n)\n]\n)\n\n\n \n \n \n \na\nc\nk\n \n=\n \ns\no\nc\nk\n.\nr\ne\nc\nv\n(\n2\n)\n\n\n \n \n \n \na\ns\ns\ne\nr\nt\n \na\nc\nk\n \n=\n=\n \nb\n'\nO\nK\n'\n\n\n\n\nd\ne\nf\n \ns\ne\nr\nv\ne\nr\n(\nw\no\nr\nk\n_\na\nd\nd\nr\ne\ns\ns\n,\n \np\no\nr\nt\n)\n:\n\n\n \n \n \n \n#\n \nW\na\ni\nt\n \nf\no\nr\n \nt\nh\ne\n \nw\no\nr\nk\ne\nr\n \nt\no\n \nc\no\nn\nn\ne\nc\nt\n\n\n \n \n \n \nw\no\nr\nk\n_\ns\ne\nr\nv\n \n=\n \ns\no\nc\nk\ne\nt\n.\ns\no\nc\nk\ne\nt\n(\ns\no\nc\nk\ne\nt\n.\nA\nF\n_\nU\nN\nI\nX\n,\n \ns\no\nc\nk\ne\nt\n.\nS\nO\nC\nK\n_\nS\nT\nR\nE\nA\nM\n)\n\n\n \n \n \n \nw\no\nr\nk\n_\ns\ne\nr\nv\n.\nb\ni\nn\nd\n(\nw\no\nr\nk\n_\na\nd\nd\nr\ne\ns\ns\n)\n\n\n \n \n \n \nw\no\nr\nk\n_\ns\ne\nr\nv\n.\nl\ni\ns\nt\ne\nn\n(\n1\n)\n\n\n \n \n \n \nw\no\nr\nk\ne\nr\n,\n \na\nd\nd\nr\n \n=\n \nw\no\nr\nk\n_\ns\ne\nr\nv\n.\na\nc\nc\ne\np\nt\n(\n)\n\n\n\n\n \n \n \n \n#\n \nN\no\nw\n \nr\nu\nn\n \na\n \nT\nC\nP\n/\nI\nP\n \ns\ne\nr\nv\ne\nr\n \na\nn\nd\n \ns\ne\nn\nd\n \nc\nl\ni\ne\nn\nt\ns\n \nt\no\n \nw\no\nr\nk\ne\nr\n\n\n \n \n \n \ns\n \n=\n \ns\no\nc\nk\ne\nt\n.\ns\no\nc\nk\ne\nt\n(\ns\no\nc\nk\ne\nt\n.\nA\nF\n_\nI\nN\nE\nT\n,\n \ns\no\nc\nk\ne\nt\n.\nS\nO\nC\nK\n_\nS\nT\nR\nE\nA\nM\n)\n\n\n \n \n \n \ns\n.\ns\ne\nt\ns\no\nc\nk\no\np\nt\n(\ns\no\nc\nk\ne\nt\n.\nS\nO\nL\n_\nS\nO\nC\nK\nE\nT\n,\n \ns\no\nc\nk\ne\nt\n.\nS\nO\n_\nR\nE\nU\nS\nE\nA\nD\nD\nR\n,\n \nT\nr\nu\ne\n)\n\n\n \n \n \n \ns\n.\nb\ni\nn\nd\n(\n(\n'\n'\n,\np\no\nr\nt\n)\n)\n\n\n \n \n \n \ns\n.\nl\ni\ns\nt\ne\nn\n(\n1\n)\n\n\n \n \n \n \nw\nh\ni\nl\ne\n \nT\nr\nu\ne\n:\n\n\n \n \n \n \n \n \n \n \nc\nl\ni\ne\nn\nt\n,\n \na\nd\nd\nr\n \n=\n \ns\n.\na\nc\nc\ne\np\nt\n(\n)\n\n\n \n \n \n \n \n \n \n \np\nr\ni\nn\nt\n(\n'\nS\nE\nR\nV\nE\nR\n:\n \nG\no\nt\n \nc\no\nn\nn\ne\nc\nt\ni\no\nn\n \nf\nr\no\nm\n'\n,\n \na\nd\nd\nr\n)\n\n\n \n \n \n \n \n \n \n \ns\ne\nn\nd\n_\nf\nd\n(\nw\no\nr\nk\ne\nr\n,\n \nc\nl\ni\ne\nn\nt\n.\nf\ni\nl\ne\nn\no\n(\n)\n)\n\n\n \n \n \n \n \n \n \n \nc\nl\ni\ne\nn\nt\n.\nc\nl\no\ns\ne\n(\n)\n\n\n\n\ni\nf\n \n_\n_\nn\na\nm\ne\n_\n_\n \n=\n=\n \n'\n_\n_\nm\na\ni\nn\n_\n_\n'\n:\n\n\n \n \n \n \ni\nm\np\no\nr\nt\n \ns\ny\ns\n\n\n \n \n \n \ni\nf\n \nl\ne\nn\n(\ns\ny\ns\n.\na\nr\ng\nv\n)\n \n!\n=\n \n3\n:\n\n\n \n \n \n \n \n \n \n \np\nr\ni\nn\nt\n(\n'\nU\ns\na\ng\ne\n:\n \ns\ne\nr\nv\ne\nr\n.\np\ny\n \ns\ne\nr\nv\ne\nr\n_\na\nd\nd\nr\ne\ns\ns\n \np\no\nr\nt\n'\n,\n \nf\ni\nl\ne\n=\ns\ny\ns\n.\ns\nt\nd\ne\nr\nr\n)\n\n\n \n \n \n \n \n \n \n \nr\na\ni\ns\ne\n \nS\ny\ns\nt\ne\nm\nE\nx\ni\nt\n(\n1\n)\n\n\n\n\n \n \n \n \ns\ne\nr\nv\ne\nr\n(\ns\ny\ns\n.\na\nr\ng\nv\n[\n1\n]\n,\n \ni\nn\nt\n(\ns\ny\ns\n.\na\nr\ng\nv\n[\n2\n]\n)\n)\n\n"
      ]
    },
    {
      "cell_type": "markdown",
      "metadata": {},
      "source": [
        "\u4e0b\u9762\u662f\u4f7f\u7528\u5957\u63a5\u5b57\u7684\u5de5\u4f5c\u8005\u5b9e\u73b0\uff1a"
      ]
    },
    {
      "cell_type": "code",
      "execution_count": null,
      "metadata": {},
      "outputs": [],
      "source": [
        "#\n \nw\no\nr\nk\ne\nr\n.\np\ny\n\n\ni\nm\np\no\nr\nt\n \ns\no\nc\nk\ne\nt\n\n\ni\nm\np\no\nr\nt\n \ns\nt\nr\nu\nc\nt\n\n\n\n\nd\ne\nf\n \nr\ne\nc\nv\n_\nf\nd\n(\ns\no\nc\nk\n)\n:\n\n\n \n \n \n \n'\n'\n'\n\n\n \n \n \n \nR\ne\nc\ne\ni\nv\ne\n \na\n \ns\ni\nn\ng\nl\ne\n \nf\ni\nl\ne\n \nd\ne\ns\nc\nr\ni\np\nt\no\nr\n\n\n \n \n \n \n'\n'\n'\n\n\n \n \n \n \nm\ns\ng\n,\n \na\nn\nc\nd\na\nt\na\n,\n \nf\nl\na\ng\ns\n,\n \na\nd\nd\nr\n \n=\n \ns\no\nc\nk\n.\nr\ne\nc\nv\nm\ns\ng\n(\n1\n,\n\n\n \n \n \n \n \n \n \n \n \n \n \n \n \n \n \n \n \n \n \n \n \n \n \n \n \n \n \n \n \n \n \n \n \n \n \n \n \ns\no\nc\nk\ne\nt\n.\nC\nM\nS\nG\n_\nL\nE\nN\n(\ns\nt\nr\nu\nc\nt\n.\nc\na\nl\nc\ns\ni\nz\ne\n(\n'\ni\n'\n)\n)\n)\n\n\n\n\n \n \n \n \nc\nm\ns\ng\n_\nl\ne\nv\ne\nl\n,\n \nc\nm\ns\ng\n_\nt\ny\np\ne\n,\n \nc\nm\ns\ng\n_\nd\na\nt\na\n \n=\n \na\nn\nc\nd\na\nt\na\n[\n0\n]\n\n\n \n \n \n \na\ns\ns\ne\nr\nt\n \nc\nm\ns\ng\n_\nl\ne\nv\ne\nl\n \n=\n=\n \ns\no\nc\nk\ne\nt\n.\nS\nO\nL\n_\nS\nO\nC\nK\nE\nT\n \na\nn\nd\n \nc\nm\ns\ng\n_\nt\ny\np\ne\n \n=\n=\n \ns\no\nc\nk\ne\nt\n.\nS\nC\nM\n_\nR\nI\nG\nH\nT\nS\n\n\n \n \n \n \ns\no\nc\nk\n.\ns\ne\nn\nd\na\nl\nl\n(\nb\n'\nO\nK\n'\n)\n\n\n\n\n \n \n \n \nr\ne\nt\nu\nr\nn\n \ns\nt\nr\nu\nc\nt\n.\nu\nn\np\na\nc\nk\n(\n'\ni\n'\n,\n \nc\nm\ns\ng\n_\nd\na\nt\na\n)\n[\n0\n]\n\n\n\n\nd\ne\nf\n \nw\no\nr\nk\ne\nr\n(\ns\ne\nr\nv\ne\nr\n_\na\nd\nd\nr\ne\ns\ns\n)\n:\n\n\n \n \n \n \ns\ne\nr\nv\n \n=\n \ns\no\nc\nk\ne\nt\n.\ns\no\nc\nk\ne\nt\n(\ns\no\nc\nk\ne\nt\n.\nA\nF\n_\nU\nN\nI\nX\n,\n \ns\no\nc\nk\ne\nt\n.\nS\nO\nC\nK\n_\nS\nT\nR\nE\nA\nM\n)\n\n\n \n \n \n \ns\ne\nr\nv\n.\nc\no\nn\nn\ne\nc\nt\n(\ns\ne\nr\nv\ne\nr\n_\na\nd\nd\nr\ne\ns\ns\n)\n\n\n \n \n \n \nw\nh\ni\nl\ne\n \nT\nr\nu\ne\n:\n\n\n \n \n \n \n \n \n \n \nf\nd\n \n=\n \nr\ne\nc\nv\n_\nf\nd\n(\ns\ne\nr\nv\n)\n\n\n \n \n \n \n \n \n \n \np\nr\ni\nn\nt\n(\n'\nW\nO\nR\nK\nE\nR\n:\n \nG\nO\nT\n \nF\nD\n'\n,\n \nf\nd\n)\n\n\n \n \n \n \n \n \n \n \nw\ni\nt\nh\n \ns\no\nc\nk\ne\nt\n.\ns\no\nc\nk\ne\nt\n(\ns\no\nc\nk\ne\nt\n.\nA\nF\n_\nI\nN\nE\nT\n,\n \ns\no\nc\nk\ne\nt\n.\nS\nO\nC\nK\n_\nS\nT\nR\nE\nA\nM\n,\n \nf\ni\nl\ne\nn\no\n=\nf\nd\n)\n \na\ns\n \nc\nl\ni\ne\nn\nt\n:\n\n\n \n \n \n \n \n \n \n \n \n \n \n \nw\nh\ni\nl\ne\n \nT\nr\nu\ne\n:\n\n\n \n \n \n \n \n \n \n \n \n \n \n \n \n \n \n \nm\ns\ng\n \n=\n \nc\nl\ni\ne\nn\nt\n.\nr\ne\nc\nv\n(\n1\n0\n2\n4\n)\n\n\n \n \n \n \n \n \n \n \n \n \n \n \n \n \n \n \ni\nf\n \nn\no\nt\n \nm\ns\ng\n:\n\n\n \n \n \n \n \n \n \n \n \n \n \n \n \n \n \n \n \n \n \n \nb\nr\ne\na\nk\n\n\n \n \n \n \n \n \n \n \n \n \n \n \n \n \n \n \np\nr\ni\nn\nt\n(\n'\nW\nO\nR\nK\nE\nR\n:\n \nR\nE\nC\nV\n \n{\n!\nr\n}\n'\n.\nf\no\nr\nm\na\nt\n(\nm\ns\ng\n)\n)\n\n\n \n \n \n \n \n \n \n \n \n \n \n \n \n \n \n \nc\nl\ni\ne\nn\nt\n.\ns\ne\nn\nd\n(\nm\ns\ng\n)\n\n\n\n\ni\nf\n \n_\n_\nn\na\nm\ne\n_\n_\n \n=\n=\n \n'\n_\n_\nm\na\ni\nn\n_\n_\n'\n:\n\n\n \n \n \n \ni\nm\np\no\nr\nt\n \ns\ny\ns\n\n\n \n \n \n \ni\nf\n \nl\ne\nn\n(\ns\ny\ns\n.\na\nr\ng\nv\n)\n \n!\n=\n \n2\n:\n\n\n \n \n \n \n \n \n \n \np\nr\ni\nn\nt\n(\n'\nU\ns\na\ng\ne\n:\n \nw\no\nr\nk\ne\nr\n.\np\ny\n \ns\ne\nr\nv\ne\nr\n_\na\nd\nd\nr\ne\ns\ns\n'\n,\n \nf\ni\nl\ne\n=\ns\ny\ns\n.\ns\nt\nd\ne\nr\nr\n)\n\n\n \n \n \n \n \n \n \n \nr\na\ni\ns\ne\n \nS\ny\ns\nt\ne\nm\nE\nx\ni\nt\n(\n1\n)\n\n\n\n\n \n \n \n \nw\no\nr\nk\ne\nr\n(\ns\ny\ns\n.\na\nr\ng\nv\n[\n1\n]\n)\n\n"
      ]
    },
    {
      "cell_type": "markdown",
      "metadata": {},
      "source": [
        "\u5982\u679c\u4f60\u60f3\u5728\u4f60\u7684\u7a0b\u5e8f\u4e2d\u4f20\u9012\u6587\u4ef6\u63cf\u8ff0\u7b26\uff0c\u5efa\u8bae\u4f60\u53c2\u9605\u5176\u4ed6\u4e00\u4e9b\u66f4\u52a0\u9ad8\u7ea7\u7684\u6587\u6863\uff0c\n\u6bd4\u5982 Unix Network Programming by W. Richard Stevens\u00a0 (Prentice\u00a0 Hall,\u00a0 1990) .\n\u5728Windows\u4e0a\u4f20\u9012\u6587\u4ef6\u63cf\u8ff0\u7b26\u8ddfUnix\u662f\u4e0d\u4e00\u6837\u7684\uff0c\u5efa\u8bae\u4f60\u7814\u7a76\u4e0b multiprocessing.reduction \u4e2d\u7684\u6e90\u4ee3\u7801\u770b\u770b\u5176\u5de5\u4f5c\u539f\u7406\u3002"
      ]
    },
    {
      "cell_type": "markdown",
      "metadata": {},
      "source": [
        "## 11.12 \u7406\u89e3\u4e8b\u4ef6\u9a71\u52a8\u7684IO\n"
      ]
    },
    {
      "cell_type": "markdown",
      "metadata": {},
      "source": [
        "### \u95ee\u9898\n"
      ]
    },
    {
      "cell_type": "markdown",
      "metadata": {},
      "source": [
        "\u4f60\u5e94\u8be5\u5df2\u7ecf\u542c\u8fc7\u57fa\u4e8e\u4e8b\u4ef6\u9a71\u52a8\u6216\u5f02\u6b65I/O\u7684\u5305\uff0c\u4f46\u662f\u4f60\u8fd8\u4e0d\u80fd\u5b8c\u5168\u7406\u89e3\u5b83\u7684\u5e95\u5c42\u5230\u5e95\u662f\u600e\u6837\u5de5\u4f5c\u7684\uff0c\n\u6216\u8005\u662f\u5982\u679c\u4f7f\u7528\u5b83\u7684\u8bdd\u4f1a\u5bf9\u4f60\u7684\u7a0b\u5e8f\u4ea7\u751f\u4ec0\u4e48\u5f71\u54cd\u3002"
      ]
    },
    {
      "cell_type": "markdown",
      "metadata": {},
      "source": [
        "### \u89e3\u51b3\u65b9\u6848\n"
      ]
    },
    {
      "cell_type": "markdown",
      "metadata": {},
      "source": [
        "\u4e8b\u4ef6\u9a71\u52a8I/O\u672c\u8d28\u4e0a\u6765\u8bb2\u5c31\u662f\u5c06\u57fa\u672cI/O\u64cd\u4f5c\uff08\u6bd4\u5982\u8bfb\u548c\u5199\uff09\u8f6c\u5316\u4e3a\u4f60\u7a0b\u5e8f\u9700\u8981\u5904\u7406\u7684\u4e8b\u4ef6\u3002\n\u4f8b\u5982\uff0c\u5f53\u6570\u636e\u5728\u67d0\u4e2asocket\u4e0a\u88ab\u63a5\u53d7\u540e\uff0c\u5b83\u4f1a\u8f6c\u6362\u6210\u4e00\u4e2a receive \u4e8b\u4ef6\uff0c\u7136\u540e\u88ab\u4f60\u5b9a\u4e49\u7684\u56de\u8c03\u65b9\u6cd5\u6216\u51fd\u6570\u6765\u5904\u7406\u3002\n\u4f5c\u4e3a\u4e00\u4e2a\u53ef\u80fd\u7684\u8d77\u59cb\u70b9\uff0c\u4e00\u4e2a\u4e8b\u4ef6\u9a71\u52a8\u7684\u6846\u67b6\u53ef\u80fd\u4f1a\u4ee5\u4e00\u4e2a\u5b9e\u73b0\u4e86\u4e00\u7cfb\u5217\u57fa\u672c\u4e8b\u4ef6\u5904\u7406\u5668\u65b9\u6cd5\u7684\u57fa\u7c7b\u5f00\u59cb\uff1a"
      ]
    },
    {
      "cell_type": "code",
      "execution_count": null,
      "metadata": {},
      "outputs": [],
      "source": [
        "c\nl\na\ns\ns\n \nE\nv\ne\nn\nt\nH\na\nn\nd\nl\ne\nr\n:\n\n\n \n \n \n \nd\ne\nf\n \nf\ni\nl\ne\nn\no\n(\ns\ne\nl\nf\n)\n:\n\n\n \n \n \n \n \n \n \n \n'\nR\ne\nt\nu\nr\nn\n \nt\nh\ne\n \na\ns\ns\no\nc\ni\na\nt\ne\nd\n \nf\ni\nl\ne\n \nd\ne\ns\nc\nr\ni\np\nt\no\nr\n'\n\n\n \n \n \n \n \n \n \n \nr\na\ni\ns\ne\n \nN\no\nt\nI\nm\np\nl\ne\nm\ne\nn\nt\ne\nd\n(\n'\nm\nu\ns\nt\n \ni\nm\np\nl\ne\nm\ne\nn\nt\n'\n)\n\n\n\n\n \n \n \n \nd\ne\nf\n \nw\na\nn\nt\ns\n_\nt\no\n_\nr\ne\nc\ne\ni\nv\ne\n(\ns\ne\nl\nf\n)\n:\n\n\n \n \n \n \n \n \n \n \n'\nR\ne\nt\nu\nr\nn\n \nT\nr\nu\ne\n \ni\nf\n \nr\ne\nc\ne\ni\nv\ni\nn\ng\n \ni\ns\n \na\nl\nl\no\nw\ne\nd\n'\n\n\n \n \n \n \n \n \n \n \nr\ne\nt\nu\nr\nn\n \nF\na\nl\ns\ne\n\n\n\n\n \n \n \n \nd\ne\nf\n \nh\na\nn\nd\nl\ne\n_\nr\ne\nc\ne\ni\nv\ne\n(\ns\ne\nl\nf\n)\n:\n\n\n \n \n \n \n \n \n \n \n'\nP\ne\nr\nf\no\nr\nm\n \nt\nh\ne\n \nr\ne\nc\ne\ni\nv\ne\n \no\np\ne\nr\na\nt\ni\no\nn\n'\n\n\n \n \n \n \n \n \n \n \np\na\ns\ns\n\n\n\n\n \n \n \n \nd\ne\nf\n \nw\na\nn\nt\ns\n_\nt\no\n_\ns\ne\nn\nd\n(\ns\ne\nl\nf\n)\n:\n\n\n \n \n \n \n \n \n \n \n'\nR\ne\nt\nu\nr\nn\n \nT\nr\nu\ne\n \ni\nf\n \ns\ne\nn\nd\ni\nn\ng\n \ni\ns\n \nr\ne\nq\nu\ne\ns\nt\ne\nd\n'\n\n\n \n \n \n \n \n \n \n \nr\ne\nt\nu\nr\nn\n \nF\na\nl\ns\ne\n\n\n\n\n \n \n \n \nd\ne\nf\n \nh\na\nn\nd\nl\ne\n_\ns\ne\nn\nd\n(\ns\ne\nl\nf\n)\n:\n\n\n \n \n \n \n \n \n \n \n'\nS\ne\nn\nd\n \no\nu\nt\ng\no\ni\nn\ng\n \nd\na\nt\na\n'\n\n\n \n \n \n \n \n \n \n \np\na\ns\ns\n\n"
      ]
    },
    {
      "cell_type": "markdown",
      "metadata": {},
      "source": [
        "\u8fd9\u4e2a\u7c7b\u7684\u5b9e\u4f8b\u4f5c\u4e3a\u63d2\u4ef6\u88ab\u653e\u5165\u7c7b\u4f3c\u4e0b\u9762\u8fd9\u6837\u7684\u4e8b\u4ef6\u5faa\u73af\u4e2d\uff1a"
      ]
    },
    {
      "cell_type": "code",
      "execution_count": null,
      "metadata": {},
      "outputs": [],
      "source": [
        "i\nm\np\no\nr\nt\n \ns\ne\nl\ne\nc\nt\n\n\n\n\nd\ne\nf\n \ne\nv\ne\nn\nt\n_\nl\no\no\np\n(\nh\na\nn\nd\nl\ne\nr\ns\n)\n:\n\n\n \n \n \n \nw\nh\ni\nl\ne\n \nT\nr\nu\ne\n:\n\n\n \n \n \n \n \n \n \n \nw\na\nn\nt\ns\n_\nr\ne\nc\nv\n \n=\n \n[\nh\n \nf\no\nr\n \nh\n \ni\nn\n \nh\na\nn\nd\nl\ne\nr\ns\n \ni\nf\n \nh\n.\nw\na\nn\nt\ns\n_\nt\no\n_\nr\ne\nc\ne\ni\nv\ne\n(\n)\n]\n\n\n \n \n \n \n \n \n \n \nw\na\nn\nt\ns\n_\ns\ne\nn\nd\n \n=\n \n[\nh\n \nf\no\nr\n \nh\n \ni\nn\n \nh\na\nn\nd\nl\ne\nr\ns\n \ni\nf\n \nh\n.\nw\na\nn\nt\ns\n_\nt\no\n_\ns\ne\nn\nd\n(\n)\n]\n\n\n \n \n \n \n \n \n \n \nc\na\nn\n_\nr\ne\nc\nv\n,\n \nc\na\nn\n_\ns\ne\nn\nd\n,\n \n_\n \n=\n \ns\ne\nl\ne\nc\nt\n.\ns\ne\nl\ne\nc\nt\n(\nw\na\nn\nt\ns\n_\nr\ne\nc\nv\n,\n \nw\na\nn\nt\ns\n_\ns\ne\nn\nd\n,\n \n[\n]\n)\n\n\n \n \n \n \n \n \n \n \nf\no\nr\n \nh\n \ni\nn\n \nc\na\nn\n_\nr\ne\nc\nv\n:\n\n\n \n \n \n \n \n \n \n \n \n \n \n \nh\n.\nh\na\nn\nd\nl\ne\n_\nr\ne\nc\ne\ni\nv\ne\n(\n)\n\n\n \n \n \n \n \n \n \n \nf\no\nr\n \nh\n \ni\nn\n \nc\na\nn\n_\ns\ne\nn\nd\n:\n\n\n \n \n \n \n \n \n \n \n \n \n \n \nh\n.\nh\na\nn\nd\nl\ne\n_\ns\ne\nn\nd\n(\n)\n\n"
      ]
    },
    {
      "cell_type": "markdown",
      "metadata": {},
      "source": [
        "\u4e8b\u4ef6\u5faa\u73af\u7684\u5173\u952e\u90e8\u5206\u662f select() \u8c03\u7528\uff0c\u5b83\u4f1a\u4e0d\u65ad\u8f6e\u8be2\u6587\u4ef6\u63cf\u8ff0\u7b26\u4ece\u800c\u6fc0\u6d3b\u5b83\u3002\n\u5728\u8c03\u7528 select() \u4e4b\u524d\uff0c\u4e8b\u4ef6\u5faa\u73af\u4f1a\u8be2\u95ee\u6240\u6709\u7684\u5904\u7406\u5668\u6765\u51b3\u5b9a\u54ea\u4e00\u4e2a\u60f3\u63a5\u53d7\u6216\u53d1\u751f\u3002\n\u7136\u540e\u5b83\u5c06\u7ed3\u679c\u5217\u8868\u63d0\u4f9b\u7ed9 select() \u3002\u7136\u540e select() \u8fd4\u56de\u51c6\u5907\u63a5\u53d7\u6216\u53d1\u9001\u7684\u5bf9\u8c61\u7ec4\u6210\u7684\u5217\u8868\u3002\n\u7136\u540e\u76f8\u5e94\u7684 handle_receive() \u6216 handle_send() \u65b9\u6cd5\u88ab\u89e6\u53d1\u3002"
      ]
    },
    {
      "cell_type": "markdown",
      "metadata": {},
      "source": [
        "\u7f16\u5199\u5e94\u7528\u7a0b\u5e8f\u7684\u65f6\u5019\uff0cEventHandler \u7684\u5b9e\u4f8b\u4f1a\u88ab\u521b\u5efa\u3002\u4f8b\u5982\uff0c\u4e0b\u9762\u662f\u4e24\u4e2a\u7b80\u5355\u7684\u57fa\u4e8eUDP\u7f51\u7edc\u670d\u52a1\u7684\u5904\u7406\u5668\u4f8b\u5b50\uff1a"
      ]
    },
    {
      "cell_type": "code",
      "execution_count": null,
      "metadata": {},
      "outputs": [],
      "source": [
        "i\nm\np\no\nr\nt\n \ns\no\nc\nk\ne\nt\n\n\ni\nm\np\no\nr\nt\n \nt\ni\nm\ne\n\n\n\n\nc\nl\na\ns\ns\n \nU\nD\nP\nS\ne\nr\nv\ne\nr\n(\nE\nv\ne\nn\nt\nH\na\nn\nd\nl\ne\nr\n)\n:\n\n\n \n \n \n \nd\ne\nf\n \n_\n_\ni\nn\ni\nt\n_\n_\n(\ns\ne\nl\nf\n,\n \na\nd\nd\nr\ne\ns\ns\n)\n:\n\n\n \n \n \n \n \n \n \n \ns\ne\nl\nf\n.\ns\no\nc\nk\n \n=\n \ns\no\nc\nk\ne\nt\n.\ns\no\nc\nk\ne\nt\n(\ns\no\nc\nk\ne\nt\n.\nA\nF\n_\nI\nN\nE\nT\n,\n \ns\no\nc\nk\ne\nt\n.\nS\nO\nC\nK\n_\nD\nG\nR\nA\nM\n)\n\n\n \n \n \n \n \n \n \n \ns\ne\nl\nf\n.\ns\no\nc\nk\n.\nb\ni\nn\nd\n(\na\nd\nd\nr\ne\ns\ns\n)\n\n\n\n\n \n \n \n \nd\ne\nf\n \nf\ni\nl\ne\nn\no\n(\ns\ne\nl\nf\n)\n:\n\n\n \n \n \n \n \n \n \n \nr\ne\nt\nu\nr\nn\n \ns\ne\nl\nf\n.\ns\no\nc\nk\n.\nf\ni\nl\ne\nn\no\n(\n)\n\n\n\n\n \n \n \n \nd\ne\nf\n \nw\na\nn\nt\ns\n_\nt\no\n_\nr\ne\nc\ne\ni\nv\ne\n(\ns\ne\nl\nf\n)\n:\n\n\n \n \n \n \n \n \n \n \nr\ne\nt\nu\nr\nn\n \nT\nr\nu\ne\n\n\n\n\nc\nl\na\ns\ns\n \nU\nD\nP\nT\ni\nm\ne\nS\ne\nr\nv\ne\nr\n(\nU\nD\nP\nS\ne\nr\nv\ne\nr\n)\n:\n\n\n \n \n \n \nd\ne\nf\n \nh\na\nn\nd\nl\ne\n_\nr\ne\nc\ne\ni\nv\ne\n(\ns\ne\nl\nf\n)\n:\n\n\n \n \n \n \n \n \n \n \nm\ns\ng\n,\n \na\nd\nd\nr\n \n=\n \ns\ne\nl\nf\n.\ns\no\nc\nk\n.\nr\ne\nc\nv\nf\nr\no\nm\n(\n1\n)\n\n\n \n \n \n \n \n \n \n \ns\ne\nl\nf\n.\ns\no\nc\nk\n.\ns\ne\nn\nd\nt\no\n(\nt\ni\nm\ne\n.\nc\nt\ni\nm\ne\n(\n)\n.\ne\nn\nc\no\nd\ne\n(\n'\na\ns\nc\ni\ni\n'\n)\n,\n \na\nd\nd\nr\n)\n\n\n\n\nc\nl\na\ns\ns\n \nU\nD\nP\nE\nc\nh\no\nS\ne\nr\nv\ne\nr\n(\nU\nD\nP\nS\ne\nr\nv\ne\nr\n)\n:\n\n\n \n \n \n \nd\ne\nf\n \nh\na\nn\nd\nl\ne\n_\nr\ne\nc\ne\ni\nv\ne\n(\ns\ne\nl\nf\n)\n:\n\n\n \n \n \n \n \n \n \n \nm\ns\ng\n,\n \na\nd\nd\nr\n \n=\n \ns\ne\nl\nf\n.\ns\no\nc\nk\n.\nr\ne\nc\nv\nf\nr\no\nm\n(\n8\n1\n9\n2\n)\n\n\n \n \n \n \n \n \n \n \ns\ne\nl\nf\n.\ns\no\nc\nk\n.\ns\ne\nn\nd\nt\no\n(\nm\ns\ng\n,\n \na\nd\nd\nr\n)\n\n\n\n\ni\nf\n \n_\n_\nn\na\nm\ne\n_\n_\n \n=\n=\n \n'\n_\n_\nm\na\ni\nn\n_\n_\n'\n:\n\n\n \n \n \n \nh\na\nn\nd\nl\ne\nr\ns\n \n=\n \n[\n \nU\nD\nP\nT\ni\nm\ne\nS\ne\nr\nv\ne\nr\n(\n(\n'\n'\n,\n1\n4\n0\n0\n0\n)\n)\n,\n \nU\nD\nP\nE\nc\nh\no\nS\ne\nr\nv\ne\nr\n(\n(\n'\n'\n,\n1\n5\n0\n0\n0\n)\n)\n \n \n]\n\n\n \n \n \n \ne\nv\ne\nn\nt\n_\nl\no\no\np\n(\nh\na\nn\nd\nl\ne\nr\ns\n)\n\n"
      ]
    },
    {
      "cell_type": "markdown",
      "metadata": {},
      "source": [
        "\u6d4b\u8bd5\u8fd9\u6bb5\u4ee3\u7801\uff0c\u8bd5\u7740\u4ece\u53e6\u5916\u4e00\u4e2aPython\u89e3\u91ca\u5668\u8fde\u63a5\u5b83\uff1a"
      ]
    },
    {
      "cell_type": "code",
      "execution_count": null,
      "metadata": {},
      "outputs": [],
      "source": [
        "from socket import *\ns = socket(AF_INET, SOCK_DGRAM)\ns.sendto(b'',('localhost',14000))"
      ]
    },
    {
      "cell_type": "code",
      "execution_count": null,
      "metadata": {},
      "outputs": [],
      "source": [
        "s.recvfrom(128)"
      ]
    },
    {
      "cell_type": "code",
      "execution_count": null,
      "metadata": {},
      "outputs": [],
      "source": [
        "s.sendto(b'Hello',('localhost',15000))"
      ]
    },
    {
      "cell_type": "code",
      "execution_count": null,
      "metadata": {},
      "outputs": [],
      "source": [
        "s.recvfrom(128)"
      ]
    },
    {
      "cell_type": "markdown",
      "metadata": {},
      "source": [
        "\u5b9e\u73b0\u4e00\u4e2aTCP\u670d\u52a1\u5668\u4f1a\u66f4\u52a0\u590d\u6742\u4e00\u70b9\uff0c\u56e0\u4e3a\u6bcf\u4e00\u4e2a\u5ba2\u6237\u7aef\u90fd\u8981\u521d\u59cb\u5316\u4e00\u4e2a\u65b0\u7684\u5904\u7406\u5668\u5bf9\u8c61\u3002\n\u4e0b\u9762\u662f\u4e00\u4e2aTCP\u5e94\u7b54\u5ba2\u6237\u7aef\u4f8b\u5b50\uff1a"
      ]
    },
    {
      "cell_type": "code",
      "execution_count": null,
      "metadata": {},
      "outputs": [],
      "source": [
        "c\nl\na\ns\ns\n \nT\nC\nP\nS\ne\nr\nv\ne\nr\n(\nE\nv\ne\nn\nt\nH\na\nn\nd\nl\ne\nr\n)\n:\n\n\n \n \n \n \nd\ne\nf\n \n_\n_\ni\nn\ni\nt\n_\n_\n(\ns\ne\nl\nf\n,\n \na\nd\nd\nr\ne\ns\ns\n,\n \nc\nl\ni\ne\nn\nt\n_\nh\na\nn\nd\nl\ne\nr\n,\n \nh\na\nn\nd\nl\ne\nr\n_\nl\ni\ns\nt\n)\n:\n\n\n \n \n \n \n \n \n \n \ns\ne\nl\nf\n.\ns\no\nc\nk\n \n=\n \ns\no\nc\nk\ne\nt\n.\ns\no\nc\nk\ne\nt\n(\ns\no\nc\nk\ne\nt\n.\nA\nF\n_\nI\nN\nE\nT\n,\n \ns\no\nc\nk\ne\nt\n.\nS\nO\nC\nK\n_\nS\nT\nR\nE\nA\nM\n)\n\n\n \n \n \n \n \n \n \n \ns\ne\nl\nf\n.\ns\no\nc\nk\n.\ns\ne\nt\ns\no\nc\nk\no\np\nt\n(\ns\no\nc\nk\ne\nt\n.\nS\nO\nL\n_\nS\nO\nC\nK\nE\nT\n,\n \ns\no\nc\nk\ne\nt\n.\nS\nO\n_\nR\nE\nU\nS\nE\nA\nD\nD\nR\n,\n \nT\nr\nu\ne\n)\n\n\n \n \n \n \n \n \n \n \ns\ne\nl\nf\n.\ns\no\nc\nk\n.\nb\ni\nn\nd\n(\na\nd\nd\nr\ne\ns\ns\n)\n\n\n \n \n \n \n \n \n \n \ns\ne\nl\nf\n.\ns\no\nc\nk\n.\nl\ni\ns\nt\ne\nn\n(\n1\n)\n\n\n \n \n \n \n \n \n \n \ns\ne\nl\nf\n.\nc\nl\ni\ne\nn\nt\n_\nh\na\nn\nd\nl\ne\nr\n \n=\n \nc\nl\ni\ne\nn\nt\n_\nh\na\nn\nd\nl\ne\nr\n\n\n \n \n \n \n \n \n \n \ns\ne\nl\nf\n.\nh\na\nn\nd\nl\ne\nr\n_\nl\ni\ns\nt\n \n=\n \nh\na\nn\nd\nl\ne\nr\n_\nl\ni\ns\nt\n\n\n\n\n \n \n \n \nd\ne\nf\n \nf\ni\nl\ne\nn\no\n(\ns\ne\nl\nf\n)\n:\n\n\n \n \n \n \n \n \n \n \nr\ne\nt\nu\nr\nn\n \ns\ne\nl\nf\n.\ns\no\nc\nk\n.\nf\ni\nl\ne\nn\no\n(\n)\n\n\n\n\n \n \n \n \nd\ne\nf\n \nw\na\nn\nt\ns\n_\nt\no\n_\nr\ne\nc\ne\ni\nv\ne\n(\ns\ne\nl\nf\n)\n:\n\n\n \n \n \n \n \n \n \n \nr\ne\nt\nu\nr\nn\n \nT\nr\nu\ne\n\n\n\n\n \n \n \n \nd\ne\nf\n \nh\na\nn\nd\nl\ne\n_\nr\ne\nc\ne\ni\nv\ne\n(\ns\ne\nl\nf\n)\n:\n\n\n \n \n \n \n \n \n \n \nc\nl\ni\ne\nn\nt\n,\n \na\nd\nd\nr\n \n=\n \ns\ne\nl\nf\n.\ns\no\nc\nk\n.\na\nc\nc\ne\np\nt\n(\n)\n\n\n \n \n \n \n \n \n \n \n#\n \nA\nd\nd\n \nt\nh\ne\n \nc\nl\ni\ne\nn\nt\n \nt\no\n \nt\nh\ne\n \ne\nv\ne\nn\nt\n \nl\no\no\np\n'\ns\n \nh\na\nn\nd\nl\ne\nr\n \nl\ni\ns\nt\n\n\n \n \n \n \n \n \n \n \ns\ne\nl\nf\n.\nh\na\nn\nd\nl\ne\nr\n_\nl\ni\ns\nt\n.\na\np\np\ne\nn\nd\n(\ns\ne\nl\nf\n.\nc\nl\ni\ne\nn\nt\n_\nh\na\nn\nd\nl\ne\nr\n(\nc\nl\ni\ne\nn\nt\n,\n \ns\ne\nl\nf\n.\nh\na\nn\nd\nl\ne\nr\n_\nl\ni\ns\nt\n)\n)\n\n\n\n\nc\nl\na\ns\ns\n \nT\nC\nP\nC\nl\ni\ne\nn\nt\n(\nE\nv\ne\nn\nt\nH\na\nn\nd\nl\ne\nr\n)\n:\n\n\n \n \n \n \nd\ne\nf\n \n_\n_\ni\nn\ni\nt\n_\n_\n(\ns\ne\nl\nf\n,\n \ns\no\nc\nk\n,\n \nh\na\nn\nd\nl\ne\nr\n_\nl\ni\ns\nt\n)\n:\n\n\n \n \n \n \n \n \n \n \ns\ne\nl\nf\n.\ns\no\nc\nk\n \n=\n \ns\no\nc\nk\n\n\n \n \n \n \n \n \n \n \ns\ne\nl\nf\n.\nh\na\nn\nd\nl\ne\nr\n_\nl\ni\ns\nt\n \n=\n \nh\na\nn\nd\nl\ne\nr\n_\nl\ni\ns\nt\n\n\n \n \n \n \n \n \n \n \ns\ne\nl\nf\n.\no\nu\nt\ng\no\ni\nn\ng\n \n=\n \nb\ny\nt\ne\na\nr\nr\na\ny\n(\n)\n\n\n\n\n \n \n \n \nd\ne\nf\n \nf\ni\nl\ne\nn\no\n(\ns\ne\nl\nf\n)\n:\n\n\n \n \n \n \n \n \n \n \nr\ne\nt\nu\nr\nn\n \ns\ne\nl\nf\n.\ns\no\nc\nk\n.\nf\ni\nl\ne\nn\no\n(\n)\n\n\n\n\n \n \n \n \nd\ne\nf\n \nc\nl\no\ns\ne\n(\ns\ne\nl\nf\n)\n:\n\n\n \n \n \n \n \n \n \n \ns\ne\nl\nf\n.\ns\no\nc\nk\n.\nc\nl\no\ns\ne\n(\n)\n\n\n \n \n \n \n \n \n \n \n#\n \nR\ne\nm\no\nv\ne\n \nm\ny\ns\ne\nl\nf\n \nf\nr\no\nm\n \nt\nh\ne\n \ne\nv\ne\nn\nt\n \nl\no\no\np\n'\ns\n \nh\na\nn\nd\nl\ne\nr\n \nl\ni\ns\nt\n\n\n \n \n \n \n \n \n \n \ns\ne\nl\nf\n.\nh\na\nn\nd\nl\ne\nr\n_\nl\ni\ns\nt\n.\nr\ne\nm\no\nv\ne\n(\ns\ne\nl\nf\n)\n\n\n\n\n \n \n \n \nd\ne\nf\n \nw\na\nn\nt\ns\n_\nt\no\n_\ns\ne\nn\nd\n(\ns\ne\nl\nf\n)\n:\n\n\n \n \n \n \n \n \n \n \nr\ne\nt\nu\nr\nn\n \nT\nr\nu\ne\n \ni\nf\n \ns\ne\nl\nf\n.\no\nu\nt\ng\no\ni\nn\ng\n \ne\nl\ns\ne\n \nF\na\nl\ns\ne\n\n\n\n\n \n \n \n \nd\ne\nf\n \nh\na\nn\nd\nl\ne\n_\ns\ne\nn\nd\n(\ns\ne\nl\nf\n)\n:\n\n\n \n \n \n \n \n \n \n \nn\ns\ne\nn\nt\n \n=\n \ns\ne\nl\nf\n.\ns\no\nc\nk\n.\ns\ne\nn\nd\n(\ns\ne\nl\nf\n.\no\nu\nt\ng\no\ni\nn\ng\n)\n\n\n \n \n \n \n \n \n \n \ns\ne\nl\nf\n.\no\nu\nt\ng\no\ni\nn\ng\n \n=\n \ns\ne\nl\nf\n.\no\nu\nt\ng\no\ni\nn\ng\n[\nn\ns\ne\nn\nt\n:\n]\n\n\n\n\nc\nl\na\ns\ns\n \nT\nC\nP\nE\nc\nh\no\nC\nl\ni\ne\nn\nt\n(\nT\nC\nP\nC\nl\ni\ne\nn\nt\n)\n:\n\n\n \n \n \n \nd\ne\nf\n \nw\na\nn\nt\ns\n_\nt\no\n_\nr\ne\nc\ne\ni\nv\ne\n(\ns\ne\nl\nf\n)\n:\n\n\n \n \n \n \n \n \n \n \nr\ne\nt\nu\nr\nn\n \nT\nr\nu\ne\n\n\n\n\n \n \n \n \nd\ne\nf\n \nh\na\nn\nd\nl\ne\n_\nr\ne\nc\ne\ni\nv\ne\n(\ns\ne\nl\nf\n)\n:\n\n\n \n \n \n \n \n \n \n \nd\na\nt\na\n \n=\n \ns\ne\nl\nf\n.\ns\no\nc\nk\n.\nr\ne\nc\nv\n(\n8\n1\n9\n2\n)\n\n\n \n \n \n \n \n \n \n \ni\nf\n \nn\no\nt\n \nd\na\nt\na\n:\n\n\n \n \n \n \n \n \n \n \n \n \n \n \ns\ne\nl\nf\n.\nc\nl\no\ns\ne\n(\n)\n\n\n \n \n \n \n \n \n \n \ne\nl\ns\ne\n:\n\n\n \n \n \n \n \n \n \n \n \n \n \n \ns\ne\nl\nf\n.\no\nu\nt\ng\no\ni\nn\ng\n.\ne\nx\nt\ne\nn\nd\n(\nd\na\nt\na\n)\n\n\n\n\ni\nf\n \n_\n_\nn\na\nm\ne\n_\n_\n \n=\n=\n \n'\n_\n_\nm\na\ni\nn\n_\n_\n'\n:\n\n\n \n \n \nh\na\nn\nd\nl\ne\nr\ns\n \n=\n \n[\n]\n\n\n \n \n \nh\na\nn\nd\nl\ne\nr\ns\n.\na\np\np\ne\nn\nd\n(\nT\nC\nP\nS\ne\nr\nv\ne\nr\n(\n(\n'\n'\n,\n1\n6\n0\n0\n0\n)\n,\n \nT\nC\nP\nE\nc\nh\no\nC\nl\ni\ne\nn\nt\n,\n \nh\na\nn\nd\nl\ne\nr\ns\n)\n)\n\n\n \n \n \ne\nv\ne\nn\nt\n_\nl\no\no\np\n(\nh\na\nn\nd\nl\ne\nr\ns\n)\n\n"
      ]
    },
    {
      "cell_type": "markdown",
      "metadata": {},
      "source": [
        "TCP\u4f8b\u5b50\u7684\u5173\u952e\u70b9\u662f\u4ece\u5904\u7406\u5668\u4e2d\u5217\u8868\u589e\u52a0\u548c\u5220\u9664\u5ba2\u6237\u7aef\u7684\u64cd\u4f5c\u3002\n\u5bf9\u6bcf\u4e00\u4e2a\u8fde\u63a5\uff0c\u4e00\u4e2a\u65b0\u7684\u5904\u7406\u5668\u88ab\u521b\u5efa\u5e76\u52a0\u5230\u5217\u8868\u4e2d\u3002\u5f53\u8fde\u63a5\u88ab\u5173\u95ed\u540e\uff0c\u6bcf\u4e2a\u5ba2\u6237\u7aef\u8d1f\u8d23\u5c06\u5176\u4ece\u5217\u8868\u4e2d\u5220\u9664\u3002\n\u5982\u679c\u4f60\u8fd0\u884c\u7a0b\u5e8f\u5e76\u8bd5\u7740\u7528Telnet\u6216\u7c7b\u4f3c\u5de5\u5177\u8fde\u63a5\uff0c\u5b83\u4f1a\u5c06\u4f60\u53d1\u9001\u7684\u6d88\u606f\u56de\u663e\u7ed9\u4f60\u3002\u5e76\u4e14\u5b83\u80fd\u5f88\u8f7b\u677e\u7684\u5904\u7406\u591a\u5ba2\u6237\u7aef\u8fde\u63a5\u3002"
      ]
    },
    {
      "cell_type": "markdown",
      "metadata": {},
      "source": [
        "### \u8ba8\u8bba\n"
      ]
    },
    {
      "cell_type": "markdown",
      "metadata": {},
      "source": [
        "\u5b9e\u9645\u4e0a\u6240\u6709\u7684\u4e8b\u4ef6\u9a71\u52a8\u6846\u67b6\u539f\u7406\u8ddf\u4e0a\u9762\u7684\u4f8b\u5b50\u76f8\u5dee\u65e0\u51e0\u3002\u5b9e\u9645\u7684\u5b9e\u73b0\u7ec6\u8282\u548c\u8f6f\u4ef6\u67b6\u6784\u53ef\u80fd\u4e0d\u4e00\u6837\uff0c\n\u4f46\u662f\u5728\u6700\u6838\u5fc3\u7684\u90e8\u5206\uff0c\u90fd\u4f1a\u6709\u4e00\u4e2a\u8f6e\u8be2\u7684\u5faa\u73af\u6765\u68c0\u67e5\u6d3b\u52a8socket\uff0c\u5e76\u6267\u884c\u54cd\u5e94\u64cd\u4f5c\u3002"
      ]
    },
    {
      "cell_type": "markdown",
      "metadata": {},
      "source": [
        "\u4e8b\u4ef6\u9a71\u52a8I/O\u7684\u4e00\u4e2a\u53ef\u80fd\u597d\u5904\u662f\u5b83\u80fd\u5904\u7406\u975e\u5e38\u5927\u7684\u5e76\u53d1\u8fde\u63a5\uff0c\u800c\u4e0d\u9700\u8981\u4f7f\u7528\u591a\u7ebf\u7a0b\u6216\u591a\u8fdb\u7a0b\u3002\n\u4e5f\u5c31\u662f\u8bf4\uff0cselect() \u8c03\u7528\uff08\u6216\u5176\u4ed6\u7b49\u6548\u7684\uff09\u80fd\u76d1\u542c\u5927\u91cf\u7684socket\u5e76\u54cd\u5e94\u5b83\u4eec\u4e2d\u4efb\u4f55\u4e00\u4e2a\u4ea7\u751f\u4e8b\u4ef6\u7684\u3002\n\u5728\u5faa\u73af\u4e2d\u4e00\u6b21\u5904\u7406\u4e00\u4e2a\u4e8b\u4ef6\uff0c\u5e76\u4e0d\u9700\u8981\u5176\u4ed6\u7684\u5e76\u53d1\u673a\u5236\u3002"
      ]
    },
    {
      "cell_type": "markdown",
      "metadata": {},
      "source": [
        "\u4e8b\u4ef6\u9a71\u52a8I/O\u7684\u7f3a\u70b9\u662f\u6ca1\u6709\u771f\u6b63\u7684\u540c\u6b65\u673a\u5236\u3002\n\u5982\u679c\u4efb\u4f55\u4e8b\u4ef6\u5904\u7406\u5668\u65b9\u6cd5\u963b\u585e\u6216\u6267\u884c\u4e00\u4e2a\u8017\u65f6\u8ba1\u7b97\uff0c\u5b83\u4f1a\u963b\u585e\u6240\u6709\u7684\u5904\u7406\u8fdb\u7a0b\u3002\n\u8c03\u7528\u90a3\u4e9b\u5e76\u4e0d\u662f\u4e8b\u4ef6\u9a71\u52a8\u98ce\u683c\u7684\u5e93\u51fd\u6570\u4e5f\u4f1a\u6709\u95ee\u9898\uff0c\u540c\u6837\u8981\u662f\u67d0\u4e9b\u5e93\u51fd\u6570\u8c03\u7528\u4f1a\u963b\u585e\uff0c\u90a3\u4e48\u4e5f\u4f1a\u5bfc\u81f4\u6574\u4e2a\u4e8b\u4ef6\u5faa\u73af\u505c\u6b62\u3002"
      ]
    },
    {
      "cell_type": "markdown",
      "metadata": {},
      "source": [
        "\u5bf9\u4e8e\u963b\u585e\u6216\u8017\u65f6\u8ba1\u7b97\u7684\u95ee\u9898\u53ef\u4ee5\u901a\u8fc7\u5c06\u4e8b\u4ef6\u53d1\u9001\u4e2a\u5176\u4ed6\u5355\u72ec\u7684\u73b0\u573a\u6216\u8fdb\u7a0b\u6765\u5904\u7406\u3002\n\u4e0d\u8fc7\uff0c\u5728\u4e8b\u4ef6\u5faa\u73af\u4e2d\u5f15\u5165\u591a\u7ebf\u7a0b\u548c\u591a\u8fdb\u7a0b\u662f\u6bd4\u8f83\u68d8\u624b\u7684\uff0c\n\u4e0b\u9762\u7684\u4f8b\u5b50\u6f14\u793a\u4e86\u5982\u4f55\u4f7f\u7528 concurrent.futures \u6a21\u5757\u6765\u5b9e\u73b0\uff1a"
      ]
    },
    {
      "cell_type": "code",
      "execution_count": null,
      "metadata": {},
      "outputs": [],
      "source": [
        "f\nr\no\nm\n \nc\no\nn\nc\nu\nr\nr\ne\nn\nt\n.\nf\nu\nt\nu\nr\ne\ns\n \ni\nm\np\no\nr\nt\n \nT\nh\nr\ne\na\nd\nP\no\no\nl\nE\nx\ne\nc\nu\nt\no\nr\n\n\ni\nm\np\no\nr\nt\n \no\ns\n\n\n\n\nc\nl\na\ns\ns\n \nT\nh\nr\ne\na\nd\nP\no\no\nl\nH\na\nn\nd\nl\ne\nr\n(\nE\nv\ne\nn\nt\nH\na\nn\nd\nl\ne\nr\n)\n:\n\n\n \n \n \n \nd\ne\nf\n \n_\n_\ni\nn\ni\nt\n_\n_\n(\ns\ne\nl\nf\n,\n \nn\nw\no\nr\nk\ne\nr\ns\n)\n:\n\n\n \n \n \n \n \n \n \n \ni\nf\n \no\ns\n.\nn\na\nm\ne\n \n=\n=\n \n'\np\no\ns\ni\nx\n'\n:\n\n\n \n \n \n \n \n \n \n \n \n \n \n \ns\ne\nl\nf\n.\ns\ni\ng\nn\na\nl\n_\nd\no\nn\ne\n_\ns\no\nc\nk\n,\n \ns\ne\nl\nf\n.\nd\no\nn\ne\n_\ns\no\nc\nk\n \n=\n \ns\no\nc\nk\ne\nt\n.\ns\no\nc\nk\ne\nt\np\na\ni\nr\n(\n)\n\n\n \n \n \n \n \n \n \n \ne\nl\ns\ne\n:\n\n\n \n \n \n \n \n \n \n \n \n \n \n \ns\ne\nr\nv\ne\nr\n \n=\n \ns\no\nc\nk\ne\nt\n.\ns\no\nc\nk\ne\nt\n(\ns\no\nc\nk\ne\nt\n.\nA\nF\n_\nI\nN\nE\nT\n,\n \ns\no\nc\nk\ne\nt\n.\nS\nO\nC\nK\n_\nS\nT\nR\nE\nA\nM\n)\n\n\n \n \n \n \n \n \n \n \n \n \n \n \ns\ne\nr\nv\ne\nr\n.\nb\ni\nn\nd\n(\n(\n'\n1\n2\n7\n.\n0\n.\n0\n.\n1\n'\n,\n \n0\n)\n)\n\n\n \n \n \n \n \n \n \n \n \n \n \n \ns\ne\nr\nv\ne\nr\n.\nl\ni\ns\nt\ne\nn\n(\n1\n)\n\n\n \n \n \n \n \n \n \n \n \n \n \n \ns\ne\nl\nf\n.\ns\ni\ng\nn\na\nl\n_\nd\no\nn\ne\n_\ns\no\nc\nk\n \n=\n \ns\no\nc\nk\ne\nt\n.\ns\no\nc\nk\ne\nt\n(\ns\no\nc\nk\ne\nt\n.\nA\nF\n_\nI\nN\nE\nT\n,\n\n\n \n \n \n \n \n \n \n \n \n \n \n \n \n \n \n \n \n \n \n \n \n \n \n \n \n \n \n \n \n \n \n \n \n \n \n \n \n \n \n \n \n \n \n \n \n \n \n \n \n \ns\no\nc\nk\ne\nt\n.\nS\nO\nC\nK\n_\nS\nT\nR\nE\nA\nM\n)\n\n\n \n \n \n \n \n \n \n \n \n \n \n \ns\ne\nl\nf\n.\ns\ni\ng\nn\na\nl\n_\nd\no\nn\ne\n_\ns\no\nc\nk\n.\nc\no\nn\nn\ne\nc\nt\n(\ns\ne\nr\nv\ne\nr\n.\ng\ne\nt\ns\no\nc\nk\nn\na\nm\ne\n(\n)\n)\n\n\n \n \n \n \n \n \n \n \n \n \n \n \ns\ne\nl\nf\n.\nd\no\nn\ne\n_\ns\no\nc\nk\n,\n \n_\n \n=\n \ns\ne\nr\nv\ne\nr\n.\na\nc\nc\ne\np\nt\n(\n)\n\n\n \n \n \n \n \n \n \n \n \n \n \n \ns\ne\nr\nv\ne\nr\n.\nc\nl\no\ns\ne\n(\n)\n\n\n\n\n \n \n \n \n \n \n \n \ns\ne\nl\nf\n.\np\ne\nn\nd\ni\nn\ng\n \n=\n \n[\n]\n\n\n \n \n \n \n \n \n \n \ns\ne\nl\nf\n.\np\no\no\nl\n \n=\n \nT\nh\nr\ne\na\nd\nP\no\no\nl\nE\nx\ne\nc\nu\nt\no\nr\n(\nn\nw\no\nr\nk\ne\nr\ns\n)\n\n\n\n\n \n \n \n \nd\ne\nf\n \nf\ni\nl\ne\nn\no\n(\ns\ne\nl\nf\n)\n:\n\n\n \n \n \n \n \n \n \n \nr\ne\nt\nu\nr\nn\n \ns\ne\nl\nf\n.\nd\no\nn\ne\n_\ns\no\nc\nk\n.\nf\ni\nl\ne\nn\no\n(\n)\n\n\n\n\n \n \n \n \n#\n \nC\na\nl\nl\nb\na\nc\nk\n \nt\nh\na\nt\n \ne\nx\ne\nc\nu\nt\ne\ns\n \nw\nh\ne\nn\n \nt\nh\ne\n \nt\nh\nr\ne\na\nd\n \ni\ns\n \nd\no\nn\ne\n\n\n \n \n \n \nd\ne\nf\n \n_\nc\no\nm\np\nl\ne\nt\ne\n(\ns\ne\nl\nf\n,\n \nc\na\nl\nl\nb\na\nc\nk\n,\n \nr\n)\n:\n\n\n\n\n \n \n \n \n \n \n \n \ns\ne\nl\nf\n.\np\ne\nn\nd\ni\nn\ng\n.\na\np\np\ne\nn\nd\n(\n(\nc\na\nl\nl\nb\na\nc\nk\n,\n \nr\n.\nr\ne\ns\nu\nl\nt\n(\n)\n)\n)\n\n\n \n \n \n \n \n \n \n \ns\ne\nl\nf\n.\ns\ni\ng\nn\na\nl\n_\nd\no\nn\ne\n_\ns\no\nc\nk\n.\ns\ne\nn\nd\n(\nb\n'\nx\n'\n)\n\n\n\n\n \n \n \n \n#\n \nR\nu\nn\n \na\n \nf\nu\nn\nc\nt\ni\no\nn\n \ni\nn\n \na\n \nt\nh\nr\ne\na\nd\n \np\no\no\nl\n\n\n \n \n \n \nd\ne\nf\n \nr\nu\nn\n(\ns\ne\nl\nf\n,\n \nf\nu\nn\nc\n,\n \na\nr\ng\ns\n=\n(\n)\n,\n \nk\nw\na\nr\ng\ns\n=\n{\n}\n,\n*\n,\nc\na\nl\nl\nb\na\nc\nk\n)\n:\n\n\n \n \n \n \n \n \n \n \nr\n \n=\n \ns\ne\nl\nf\n.\np\no\no\nl\n.\ns\nu\nb\nm\ni\nt\n(\nf\nu\nn\nc\n,\n \n*\na\nr\ng\ns\n,\n \n*\n*\nk\nw\na\nr\ng\ns\n)\n\n\n \n \n \n \n \n \n \n \nr\n.\na\nd\nd\n_\nd\no\nn\ne\n_\nc\na\nl\nl\nb\na\nc\nk\n(\nl\na\nm\nb\nd\na\n \nr\n:\n \ns\ne\nl\nf\n.\n_\nc\no\nm\np\nl\ne\nt\ne\n(\nc\na\nl\nl\nb\na\nc\nk\n,\n \nr\n)\n)\n\n\n\n\n \n \n \n \nd\ne\nf\n \nw\na\nn\nt\ns\n_\nt\no\n_\nr\ne\nc\ne\ni\nv\ne\n(\ns\ne\nl\nf\n)\n:\n\n\n \n \n \n \n \n \n \n \nr\ne\nt\nu\nr\nn\n \nT\nr\nu\ne\n\n\n\n\n \n \n \n \n#\n \nR\nu\nn\n \nc\na\nl\nl\nb\na\nc\nk\n \nf\nu\nn\nc\nt\ni\no\nn\ns\n \no\nf\n \nc\no\nm\np\nl\ne\nt\ne\nd\n \nw\no\nr\nk\n\n\n \n \n \n \nd\ne\nf\n \nh\na\nn\nd\nl\ne\n_\nr\ne\nc\ne\ni\nv\ne\n(\ns\ne\nl\nf\n)\n:\n\n\n \n \n \n \n \n \n \n \n#\n \nI\nn\nv\no\nk\ne\n \na\nl\nl\n \np\ne\nn\nd\ni\nn\ng\n \nc\na\nl\nl\nb\na\nc\nk\n \nf\nu\nn\nc\nt\ni\no\nn\ns\n\n\n \n \n \n \n \n \n \n \nf\no\nr\n \nc\na\nl\nl\nb\na\nc\nk\n,\n \nr\ne\ns\nu\nl\nt\n \ni\nn\n \ns\ne\nl\nf\n.\np\ne\nn\nd\ni\nn\ng\n:\n\n\n \n \n \n \n \n \n \n \n \n \n \n \nc\na\nl\nl\nb\na\nc\nk\n(\nr\ne\ns\nu\nl\nt\n)\n\n\n \n \n \n \n \n \n \n \n \n \n \n \ns\ne\nl\nf\n.\nd\no\nn\ne\n_\ns\no\nc\nk\n.\nr\ne\nc\nv\n(\n1\n)\n\n\n \n \n \n \n \n \n \n \ns\ne\nl\nf\n.\np\ne\nn\nd\ni\nn\ng\n \n=\n \n[\n]\n\n"
      ]
    },
    {
      "cell_type": "markdown",
      "metadata": {},
      "source": [
        "\u5728\u4ee3\u7801\u4e2d\uff0crun() \u65b9\u6cd5\u88ab\u7528\u6765\u5c06\u5de5\u4f5c\u63d0\u4ea4\u7ed9\u56de\u8c03\u51fd\u6570\u6c60\uff0c\u5904\u7406\u5b8c\u6210\u540e\u88ab\u6fc0\u53d1\u3002\n\u5b9e\u9645\u5de5\u4f5c\u88ab\u63d0\u4ea4\u7ed9 ThreadPoolExecutor \u5b9e\u4f8b\u3002\n\u4e0d\u8fc7\u4e00\u4e2a\u96be\u70b9\u662f\u534f\u8c03\u8ba1\u7b97\u7ed3\u679c\u548c\u4e8b\u4ef6\u5faa\u73af\uff0c\u4e3a\u4e86\u89e3\u51b3\u5b83\uff0c\u6211\u4eec\u521b\u5efa\u4e86\u4e00\u5bf9socket\u5e76\u5c06\u5176\u4f5c\u4e3a\u67d0\u79cd\u4fe1\u53f7\u91cf\u673a\u5236\u6765\u4f7f\u7528\u3002\n\u5f53\u7ebf\u7a0b\u6c60\u5b8c\u6210\u5de5\u4f5c\u540e\uff0c\u5b83\u4f1a\u6267\u884c\u7c7b\u4e2d\u7684 _complete() \u65b9\u6cd5\u3002\n\u8fd9\u4e2a\u65b9\u6cd5\u518d\u67d0\u4e2asocket\u4e0a\u5199\u5165\u5b57\u8282\u4e4b\u524d\u4f1a\u8bb2\u6302\u8d77\u7684\u56de\u8c03\u51fd\u6570\u548c\u7ed3\u679c\u653e\u5165\u961f\u5217\u4e2d\u3002\nfileno() \u65b9\u6cd5\u8fd4\u56de\u53e6\u5916\u7684\u90a3\u4e2asocket\u3002\n\u56e0\u6b64\uff0c\u8fd9\u4e2a\u5b57\u8282\u88ab\u5199\u5165\u65f6\uff0c\u5b83\u4f1a\u901a\u77e5\u4e8b\u4ef6\u5faa\u73af\uff0c\n\u7136\u540e handle_receive() \u65b9\u6cd5\u88ab\u6fc0\u6d3b\u5e76\u4e3a\u6240\u6709\u4e4b\u524d\u63d0\u4ea4\u7684\u5de5\u4f5c\u6267\u884c\u56de\u8c03\u51fd\u6570\u3002\n\u5766\u767d\u8bb2\uff0c\u8bf4\u4e86\u8fd9\u4e48\u591a\u8fde\u6211\u81ea\u5df1\u90fd\u6655\u4e86\u3002\n\u4e0b\u9762\u662f\u4e00\u4e2a\u7b80\u5355\u7684\u670d\u52a1\u5668\uff0c\u6f14\u793a\u4e86\u5982\u4f55\u4f7f\u7528\u7ebf\u7a0b\u6c60\u6765\u5b9e\u73b0\u8017\u65f6\u7684\u8ba1\u7b97\uff1a"
      ]
    },
    {
      "cell_type": "code",
      "execution_count": null,
      "metadata": {},
      "outputs": [],
      "source": [
        "#\n \nA\n \nr\ne\na\nl\nl\ny\n \nb\na\nd\n \nF\ni\nb\no\nn\na\nc\nc\ni\n \ni\nm\np\nl\ne\nm\ne\nn\nt\na\nt\ni\no\nn\n\n\nd\ne\nf\n \nf\ni\nb\n(\nn\n)\n:\n\n\n \n \n \n \ni\nf\n \nn\n \n<\n \n2\n:\n\n\n \n \n \n \n \n \n \n \nr\ne\nt\nu\nr\nn\n \n1\n\n\n \n \n \n \ne\nl\ns\ne\n:\n\n\n \n \n \n \n \n \n \n \nr\ne\nt\nu\nr\nn\n \nf\ni\nb\n(\nn\n \n-\n \n1\n)\n \n+\n \nf\ni\nb\n(\nn\n \n-\n \n2\n)\n\n\n\n\nc\nl\na\ns\ns\n \nU\nD\nP\nF\ni\nb\nS\ne\nr\nv\ne\nr\n(\nU\nD\nP\nS\ne\nr\nv\ne\nr\n)\n:\n\n\n \n \n \n \nd\ne\nf\n \nh\na\nn\nd\nl\ne\n_\nr\ne\nc\ne\ni\nv\ne\n(\ns\ne\nl\nf\n)\n:\n\n\n \n \n \n \n \n \n \n \nm\ns\ng\n,\n \na\nd\nd\nr\n \n=\n \ns\ne\nl\nf\n.\ns\no\nc\nk\n.\nr\ne\nc\nv\nf\nr\no\nm\n(\n1\n2\n8\n)\n\n\n \n \n \n \n \n \n \n \nn\n \n=\n \ni\nn\nt\n(\nm\ns\ng\n)\n\n\n \n \n \n \n \n \n \n \np\no\no\nl\n.\nr\nu\nn\n(\nf\ni\nb\n,\n \n(\nn\n,\n)\n,\n \nc\na\nl\nl\nb\na\nc\nk\n=\nl\na\nm\nb\nd\na\n \nr\n:\n \ns\ne\nl\nf\n.\nr\ne\ns\np\no\nn\nd\n(\nr\n,\n \na\nd\nd\nr\n)\n)\n\n\n\n\n \n \n \n \nd\ne\nf\n \nr\ne\ns\np\no\nn\nd\n(\ns\ne\nl\nf\n,\n \nr\ne\ns\nu\nl\nt\n,\n \na\nd\nd\nr\n)\n:\n\n\n \n \n \n \n \n \n \n \ns\ne\nl\nf\n.\ns\no\nc\nk\n.\ns\ne\nn\nd\nt\no\n(\ns\nt\nr\n(\nr\ne\ns\nu\nl\nt\n)\n.\ne\nn\nc\no\nd\ne\n(\n'\na\ns\nc\ni\ni\n'\n)\n,\n \na\nd\nd\nr\n)\n\n\n\n\ni\nf\n \n_\n_\nn\na\nm\ne\n_\n_\n \n=\n=\n \n'\n_\n_\nm\na\ni\nn\n_\n_\n'\n:\n\n\n \n \n \n \np\no\no\nl\n \n=\n \nT\nh\nr\ne\na\nd\nP\no\no\nl\nH\na\nn\nd\nl\ne\nr\n(\n1\n6\n)\n\n\n \n \n \n \nh\na\nn\nd\nl\ne\nr\ns\n \n=\n \n[\n \np\no\no\nl\n,\n \nU\nD\nP\nF\ni\nb\nS\ne\nr\nv\ne\nr\n(\n(\n'\n'\n,\n1\n6\n0\n0\n0\n)\n)\n]\n\n\n \n \n \n \ne\nv\ne\nn\nt\n_\nl\no\no\np\n(\nh\na\nn\nd\nl\ne\nr\ns\n)\n\n"
      ]
    },
    {
      "cell_type": "markdown",
      "metadata": {},
      "source": [
        "\u8fd0\u884c\u8fd9\u4e2a\u670d\u52a1\u5668\uff0c\u7136\u540e\u8bd5\u7740\u7528\u5176\u5b83Python\u7a0b\u5e8f\u6765\u6d4b\u8bd5\u5b83\uff1a"
      ]
    },
    {
      "cell_type": "code",
      "execution_count": null,
      "metadata": {},
      "outputs": [],
      "source": [
        "f\nr\no\nm\n \ns\no\nc\nk\ne\nt\n \ni\nm\np\no\nr\nt\n \n*\n\n\ns\no\nc\nk\n \n=\n \ns\no\nc\nk\ne\nt\n(\nA\nF\n_\nI\nN\nE\nT\n,\n \nS\nO\nC\nK\n_\nD\nG\nR\nA\nM\n)\n\n\nf\no\nr\n \nx\n \ni\nn\n \nr\na\nn\ng\ne\n(\n4\n0\n)\n:\n\n\n \n \n \n \ns\no\nc\nk\n.\ns\ne\nn\nd\nt\no\n(\ns\nt\nr\n(\nx\n)\n.\ne\nn\nc\no\nd\ne\n(\n'\na\ns\nc\ni\ni\n'\n)\n,\n \n(\n'\nl\no\nc\na\nl\nh\no\ns\nt\n'\n,\n \n1\n6\n0\n0\n0\n)\n)\n\n\n \n \n \n \nr\ne\ns\np\n \n=\n \ns\no\nc\nk\n.\nr\ne\nc\nv\nf\nr\no\nm\n(\n8\n1\n9\n2\n)\n\n\n \n \n \n \np\nr\ni\nn\nt\n(\nr\ne\ns\np\n[\n0\n]\n)\n\n"
      ]
    },
    {
      "cell_type": "markdown",
      "metadata": {},
      "source": [
        "\u4f60\u5e94\u8be5\u80fd\u5728\u4e0d\u540c\u7a97\u53e3\u4e2d\u91cd\u590d\u7684\u6267\u884c\u8fd9\u4e2a\u7a0b\u5e8f\uff0c\u5e76\u4e14\u4e0d\u4f1a\u5f71\u54cd\u5230\u5176\u4ed6\u7a0b\u5e8f\uff0c\u5c3d\u7ba1\u5f53\u6570\u5b57\u4fbf\u8d8a\u6765\u8d8a\u5927\u65f6\u5019\u5b83\u4f1a\u53d8\u5f97\u8d8a\u6765\u8d8a\u6162\u3002"
      ]
    },
    {
      "cell_type": "markdown",
      "metadata": {},
      "source": [
        "\u5df2\u7ecf\u9605\u8bfb\u5b8c\u4e86\u8fd9\u4e00\u5c0f\u8282\uff0c\u90a3\u4e48\u4f60\u5e94\u8be5\u4f7f\u7528\u8fd9\u91cc\u7684\u4ee3\u7801\u5417\uff1f\u4e5f\u8bb8\u4e0d\u4f1a\u3002\u4f60\u5e94\u8be5\u9009\u62e9\u4e00\u4e2a\u53ef\u4ee5\u5b8c\u6210\u540c\u6837\u4efb\u52a1\u7684\u9ad8\u7ea7\u6846\u67b6\u3002\n\u4e0d\u8fc7\uff0c\u5982\u679c\u4f60\u7406\u89e3\u4e86\u57fa\u672c\u539f\u7406\uff0c\u4f60\u5c31\u80fd\u7406\u89e3\u8fd9\u4e9b\u6846\u67b6\u6240\u4f7f\u7528\u7684\u6838\u5fc3\u6280\u672f\u3002\n\u4f5c\u4e3a\u5bf9\u56de\u8c03\u51fd\u6570\u7f16\u7a0b\u7684\u66ff\u4ee3\uff0c\u4e8b\u4ef6\u9a71\u52a8\u7f16\u7801\u6709\u65f6\u5019\u4f1a\u4f7f\u7528\u5230\u534f\u7a0b\uff0c\u53c2\u800312.12\u5c0f\u8282\u7684\u4e00\u4e2a\u4f8b\u5b50\u3002"
      ]
    },
    {
      "cell_type": "markdown",
      "metadata": {},
      "source": [
        "## 11.13 \u53d1\u9001\u4e0e\u63a5\u6536\u5927\u578b\u6570\u7ec4\n"
      ]
    },
    {
      "cell_type": "markdown",
      "metadata": {},
      "source": [
        "### \u95ee\u9898\n"
      ]
    },
    {
      "cell_type": "markdown",
      "metadata": {},
      "source": [
        "\u4f60\u8981\u901a\u8fc7\u7f51\u7edc\u8fde\u63a5\u53d1\u9001\u548c\u63a5\u53d7\u8fde\u7eed\u6570\u636e\u7684\u5927\u578b\u6570\u7ec4\uff0c\u5e76\u5c3d\u91cf\u51cf\u5c11\u6570\u636e\u7684\u590d\u5236\u64cd\u4f5c\u3002"
      ]
    },
    {
      "cell_type": "markdown",
      "metadata": {},
      "source": [
        "### \u89e3\u51b3\u65b9\u6848\n"
      ]
    },
    {
      "cell_type": "markdown",
      "metadata": {},
      "source": [
        "\u4e0b\u9762\u7684\u51fd\u6570\u5229\u7528 memoryviews \u6765\u53d1\u9001\u548c\u63a5\u53d7\u5927\u6570\u7ec4\uff1a"
      ]
    },
    {
      "cell_type": "code",
      "execution_count": null,
      "metadata": {},
      "outputs": [],
      "source": [
        "#\n \nz\ne\nr\no\nc\no\np\ny\n.\np\ny\n\n\n\n\nd\ne\nf\n \ns\ne\nn\nd\n_\nf\nr\no\nm\n(\na\nr\nr\n,\n \nd\ne\ns\nt\n)\n:\n\n\n \n \n \n \nv\ni\ne\nw\n \n=\n \nm\ne\nm\no\nr\ny\nv\ni\ne\nw\n(\na\nr\nr\n)\n.\nc\na\ns\nt\n(\n'\nB\n'\n)\n\n\n \n \n \n \nw\nh\ni\nl\ne\n \nl\ne\nn\n(\nv\ni\ne\nw\n)\n:\n\n\n \n \n \n \n \n \n \n \nn\ns\ne\nn\nt\n \n=\n \nd\ne\ns\nt\n.\ns\ne\nn\nd\n(\nv\ni\ne\nw\n)\n\n\n \n \n \n \n \n \n \n \nv\ni\ne\nw\n \n=\n \nv\ni\ne\nw\n[\nn\ns\ne\nn\nt\n:\n]\n\n\n\n\nd\ne\nf\n \nr\ne\nc\nv\n_\ni\nn\nt\no\n(\na\nr\nr\n,\n \ns\no\nu\nr\nc\ne\n)\n:\n\n\n \n \n \n \nv\ni\ne\nw\n \n=\n \nm\ne\nm\no\nr\ny\nv\ni\ne\nw\n(\na\nr\nr\n)\n.\nc\na\ns\nt\n(\n'\nB\n'\n)\n\n\n \n \n \n \nw\nh\ni\nl\ne\n \nl\ne\nn\n(\nv\ni\ne\nw\n)\n:\n\n\n \n \n \n \n \n \n \n \nn\nr\ne\nc\nv\n \n=\n \ns\no\nu\nr\nc\ne\n.\nr\ne\nc\nv\n_\ni\nn\nt\no\n(\nv\ni\ne\nw\n)\n\n\n \n \n \n \n \n \n \n \nv\ni\ne\nw\n \n=\n \nv\ni\ne\nw\n[\nn\nr\ne\nc\nv\n:\n]\n\n"
      ]
    },
    {
      "cell_type": "markdown",
      "metadata": {},
      "source": [
        "\u4e3a\u4e86\u6d4b\u8bd5\u7a0b\u5e8f\uff0c\u9996\u5148\u521b\u5efa\u4e00\u4e2a\u901a\u8fc7socket\u8fde\u63a5\u7684\u670d\u52a1\u5668\u548c\u5ba2\u6237\u7aef\u7a0b\u5e8f\uff1a"
      ]
    },
    {
      "cell_type": "code",
      "execution_count": null,
      "metadata": {},
      "outputs": [],
      "source": [
        "from socket import *\ns = socket(AF_INET, SOCK_STREAM)\ns.bind(('', 25000))\ns.listen(1)\nc,a = s.accept()"
      ]
    },
    {
      "cell_type": "markdown",
      "metadata": {},
      "source": [
        "\u5728\u5ba2\u6237\u7aef\uff08\u53e6\u5916\u4e00\u4e2a\u89e3\u91ca\u5668\u4e2d\uff09\uff1a"
      ]
    },
    {
      "cell_type": "code",
      "execution_count": null,
      "metadata": {},
      "outputs": [],
      "source": [
        "from socket import *\nc = socket(AF_INET, SOCK_STREAM)\nc.connect(('localhost', 25000))"
      ]
    },
    {
      "cell_type": "markdown",
      "metadata": {},
      "source": [
        "\u672c\u8282\u7684\u76ee\u6807\u662f\u4f60\u80fd\u901a\u8fc7\u8fde\u63a5\u4f20\u8f93\u4e00\u4e2a\u8d85\u5927\u6570\u7ec4\u3002\u8fd9\u79cd\u60c5\u51b5\u7684\u8bdd\uff0c\u53ef\u4ee5\u901a\u8fc7 array \u6a21\u5757\u6216 numpy \u6a21\u5757\u6765\u521b\u5efa\u6570\u7ec4\uff1a"
      ]
    },
    {
      "cell_type": "code",
      "execution_count": null,
      "metadata": {},
      "outputs": [],
      "source": [
        "import numpy\na = numpy.arange(0.0, 50000000.0)\nsend_from(a, c)"
      ]
    },
    {
      "cell_type": "code",
      "execution_count": null,
      "metadata": {},
      "outputs": [],
      "source": [
        "import numpy\na = numpy.zeros(shape=50000000, dtype=float)\na[0:10]"
      ]
    },
    {
      "cell_type": "code",
      "execution_count": null,
      "metadata": {},
      "outputs": [],
      "source": [
        "recv_into(a, c)\na[0:10]"
      ]
    },
    {
      "cell_type": "markdown",
      "metadata": {},
      "source": [
        "### \u8ba8\u8bba\n"
      ]
    },
    {
      "cell_type": "markdown",
      "metadata": {},
      "source": [
        "\u5728\u6570\u636e\u5bc6\u96c6\u578b\u5206\u5e03\u5f0f\u8ba1\u7b97\u548c\u5e73\u884c\u8ba1\u7b97\u7a0b\u5e8f\u4e2d\uff0c\u81ea\u5df1\u5199\u7a0b\u5e8f\u6765\u5b9e\u73b0\u53d1\u9001/\u63a5\u53d7\u5927\u91cf\u6570\u636e\u5e76\u4e0d\u5e38\u89c1\u3002\n\u4e0d\u8fc7\uff0c\u8981\u662f\u4f60\u786e\u5b9e\u60f3\u8fd9\u6837\u505a\uff0c\u4f60\u53ef\u80fd\u9700\u8981\u5c06\u4f60\u7684\u6570\u636e\u8f6c\u6362\u6210\u539f\u59cb\u5b57\u8282\uff0c\u4ee5\u4fbf\u7ed9\u4f4e\u5c42\u7684\u7f51\u7edc\u51fd\u6570\u4f7f\u7528\u3002\n\u4f60\u53ef\u80fd\u8fd8\u9700\u8981\u5c06\u6570\u636e\u5207\u5272\u6210\u591a\u4e2a\u5757\uff0c\u56e0\u4e3a\u5927\u90e8\u5206\u548c\u7f51\u7edc\u76f8\u5173\u7684\u51fd\u6570\u5e76\u4e0d\u80fd\u4e00\u6b21\u6027\u53d1\u9001\u6216\u63a5\u53d7\u8d85\u5927\u6570\u636e\u5757\u3002"
      ]
    },
    {
      "cell_type": "markdown",
      "metadata": {},
      "source": [
        "\u4e00\u79cd\u65b9\u6cd5\u662f\u4f7f\u7528\u67d0\u79cd\u673a\u5236\u5e8f\u5217\u5316\u6570\u636e\u2014\u2014\u53ef\u80fd\u5c06\u5176\u8f6c\u6362\u6210\u4e00\u4e2a\u5b57\u8282\u5b57\u7b26\u4e32\u3002\n\u4e0d\u8fc7\uff0c\u8fd9\u6837\u6700\u7ec8\u4f1a\u521b\u5efa\u6570\u636e\u7684\u4e00\u4e2a\u590d\u5236\u3002\n\u5c31\u7b97\u4f60\u53ea\u662f\u96f6\u788e\u7684\u505a\u8fd9\u4e9b\uff0c\u4f60\u7684\u4ee3\u7801\u6700\u7ec8\u8fd8\u662f\u4f1a\u6709\u5927\u91cf\u7684\u5c0f\u578b\u590d\u5236\u64cd\u4f5c\u3002"
      ]
    },
    {
      "cell_type": "markdown",
      "metadata": {},
      "source": [
        "\u672c\u8282\u901a\u8fc7\u4f7f\u7528\u5185\u5b58\u89c6\u56fe\u5c55\u793a\u4e86\u4e00\u4e9b\u9b54\u6cd5\u64cd\u4f5c\u3002\n\u672c\u8d28\u4e0a\uff0c\u4e00\u4e2a\u5185\u5b58\u89c6\u56fe\u5c31\u662f\u4e00\u4e2a\u5df2\u5b58\u5728\u6570\u7ec4\u7684\u8986\u76d6\u5c42\u3002\u4e0d\u4ec5\u4ec5\u662f\u90a3\u6837\uff0c\n\u5185\u5b58\u89c6\u56fe\u8fd8\u80fd\u4ee5\u4e0d\u540c\u7684\u65b9\u5f0f\u8f6c\u6362\u6210\u4e0d\u540c\u7c7b\u578b\u6765\u8868\u73b0\u6570\u636e\u3002\n\u8fd9\u4e2a\u5c31\u662f\u4e0b\u9762\u8fd9\u4e2a\u8bed\u53e5\u7684\u76ee\u7684\uff1a"
      ]
    },
    {
      "cell_type": "code",
      "execution_count": null,
      "metadata": {},
      "outputs": [],
      "source": [
        "v\ni\ne\nw\n \n=\n \nm\ne\nm\no\nr\ny\nv\ni\ne\nw\n(\na\nr\nr\n)\n.\nc\na\ns\nt\n(\n'\nB\n'\n)\n\n"
      ]
    },
    {
      "cell_type": "markdown",
      "metadata": {},
      "source": [
        "\u5b83\u63a5\u53d7\u4e00\u4e2a\u6570\u7ec4 arr\u5e76\u5c06\u5176\u8f6c\u6362\u4e3a\u4e00\u4e2a\u65e0\u7b26\u53f7\u5b57\u8282\u7684\u5185\u5b58\u89c6\u56fe\u3002\u8fd9\u4e2a\u89c6\u56fe\u80fd\u88ab\u4f20\u9012\u7ed9socket\u76f8\u5173\u51fd\u6570\uff0c\n\u6bd4\u5982 socket.send() \u6216 send.recv_into() \u3002\n\u5728\u5185\u90e8\uff0c\u8fd9\u4e9b\u65b9\u6cd5\u80fd\u591f\u76f4\u63a5\u64cd\u4f5c\u8fd9\u4e2a\u5185\u5b58\u533a\u57df\u3002\u4f8b\u5982\uff0csock.send() \u76f4\u63a5\u4ece\u5185\u5b58\u4e2d\u53d1\u751f\u6570\u636e\u800c\u4e0d\u9700\u8981\u590d\u5236\u3002\nsend.recv_into() \u4f7f\u7528\u8fd9\u4e2a\u5185\u5b58\u533a\u57df\u4f5c\u4e3a\u63a5\u53d7\u64cd\u4f5c\u7684\u8f93\u5165\u7f13\u51b2\u533a\u3002"
      ]
    },
    {
      "cell_type": "markdown",
      "metadata": {},
      "source": [
        "\u5269\u4e0b\u7684\u4e00\u4e2a\u96be\u70b9\u5c31\u662fsocket\u51fd\u6570\u53ef\u80fd\u53ea\u64cd\u4f5c\u90e8\u5206\u6570\u636e\u3002\n\u901a\u5e38\u6765\u8bb2\uff0c\u6211\u4eec\u5f97\u4f7f\u7528\u5f88\u591a\u4e0d\u540c\u7684 send() \u548c recv_into() \u6765\u4f20\u8f93\u6574\u4e2a\u6570\u7ec4\u3002\n\u4e0d\u7528\u62c5\u5fc3\uff0c\u6bcf\u6b21\u64cd\u4f5c\u540e\uff0c\u89c6\u56fe\u4f1a\u901a\u8fc7\u53d1\u9001\u6216\u63a5\u53d7\u5b57\u8282\u6570\u91cf\u88ab\u5207\u5272\u6210\u65b0\u7684\u89c6\u56fe\u3002\n\u65b0\u7684\u89c6\u56fe\u540c\u6837\u4e5f\u662f\u5185\u5b58\u8986\u76d6\u5c42\u3002\u56e0\u6b64\uff0c\u8fd8\u662f\u6ca1\u6709\u4efb\u4f55\u7684\u590d\u5236\u64cd\u4f5c\u3002"
      ]
    },
    {
      "cell_type": "markdown",
      "metadata": {},
      "source": [
        "\u8fd9\u91cc\u6709\u4e2a\u95ee\u9898\u5c31\u662f\u63a5\u53d7\u8005\u5fc5\u987b\u4e8b\u5148\u77e5\u9053\u6709\u591a\u5c11\u6570\u636e\u8981\u88ab\u53d1\u9001\uff0c\n\u4ee5\u4fbf\u5b83\u80fd\u9884\u5206\u914d\u4e00\u4e2a\u6570\u7ec4\u6216\u8005\u786e\u4fdd\u5b83\u80fd\u5c06\u63a5\u53d7\u7684\u6570\u636e\u653e\u5165\u4e00\u4e2a\u5df2\u7ecf\u5b58\u5728\u7684\u6570\u7ec4\u4e2d\u3002\n\u5982\u679c\u6ca1\u529e\u6cd5\u77e5\u9053\u7684\u8bdd\uff0c\u53d1\u9001\u8005\u5c31\u5f97\u5148\u5c06\u6570\u636e\u5927\u5c0f\u53d1\u9001\u8fc7\u6765\uff0c\u7136\u540e\u518d\u53d1\u9001\u5b9e\u9645\u7684\u6570\u7ec4\u6570\u636e\u3002"
      ]
    }
  ],
  "metadata": {
    "kernelspec": {
      "display_name": "Python 3",
      "language": "python",
      "name": "python3"
    },
    "language_info": {
      "codemirror_mode": {
        "name": "ipython",
        "version": 3
      },
      "file_extension": ".py",
      "mimetype": "text/x-python",
      "name": "python",
      "nbconvert_exporter": "python",
      "pygments_lexer": "ipython3",
      "version": "3.7.1"
    },
    "toc": {
      "base_numbering": 1,
      "nav_menu": {},
      "number_sections": true,
      "sideBar": true,
      "skip_h1_title": true,
      "title_cell": "Table of Contents",
      "title_sidebar": "Contents",
      "toc_cell": false,
      "toc_position": {},
      "toc_section_display": true,
      "toc_window_display": true
    }
  },
  "nbformat": 4,
  "nbformat_minor": 2
}