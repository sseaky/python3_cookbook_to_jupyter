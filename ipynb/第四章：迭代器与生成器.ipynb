{
  "cells": [
    {
      "cell_type": "markdown",
      "metadata": {},
      "source": [
        "# \u7b2c\u56db\u7ae0\uff1a\u8fed\u4ee3\u5668\u4e0e\u751f\u6210\u5668\n \u8fed\u4ee3\u662fPython\u6700\u5f3a\u5927\u7684\u529f\u80fd\u4e4b\u4e00\u3002\u521d\u770b\u8d77\u6765\uff0c\u4f60\u53ef\u80fd\u4f1a\u7b80\u5355\u7684\u8ba4\u4e3a\u8fed\u4ee3\u53ea\u4e0d\u8fc7\u662f\u5904\u7406\u5e8f\u5217\u4e2d\u5143\u7d20\u7684\u4e00\u79cd\u65b9\u6cd5\u3002\n\u7136\u800c\uff0c\u7edd\u975e\u4ec5\u4ec5\u5c31\u662f\u5982\u6b64\uff0c\u8fd8\u6709\u5f88\u591a\u4f60\u53ef\u80fd\u4e0d\u77e5\u9053\u7684\uff0c\n\u6bd4\u5982\u521b\u5efa\u4f60\u81ea\u5df1\u7684\u8fed\u4ee3\u5668\u5bf9\u8c61\uff0c\u5728itertools\u6a21\u5757\u4e2d\u4f7f\u7528\u6709\u7528\u7684\u8fed\u4ee3\u6a21\u5f0f\uff0c\u6784\u9020\u751f\u6210\u5668\u51fd\u6570\u7b49\u7b49\u3002\n\u8fd9\u4e00\u7ae0\u76ee\u7684\u5c31\u662f\u5411\u4f60\u5c55\u793a\u8ddf\u8fed\u4ee3\u6709\u5173\u7684\u5404\u79cd\u5e38\u89c1\u95ee\u9898\u3002"
      ]
    },
    {
      "cell_type": "markdown",
      "metadata": {},
      "source": [
        "## 4.1 \u624b\u52a8\u904d\u5386\u8fed\u4ee3\u5668\n"
      ]
    },
    {
      "cell_type": "markdown",
      "metadata": {},
      "source": [
        "### \u95ee\u9898\n"
      ]
    },
    {
      "cell_type": "markdown",
      "metadata": {},
      "source": [
        "\u4f60\u60f3\u904d\u5386\u4e00\u4e2a\u53ef\u8fed\u4ee3\u5bf9\u8c61\u4e2d\u7684\u6240\u6709\u5143\u7d20\uff0c\u4f46\u662f\u5374\u4e0d\u60f3\u4f7f\u7528for\u5faa\u73af\u3002"
      ]
    },
    {
      "cell_type": "markdown",
      "metadata": {},
      "source": [
        "### \u89e3\u51b3\u65b9\u6848\n"
      ]
    },
    {
      "cell_type": "markdown",
      "metadata": {},
      "source": [
        "\u4e3a\u4e86\u624b\u52a8\u7684\u904d\u5386\u53ef\u8fed\u4ee3\u5bf9\u8c61\uff0c\u4f7f\u7528 next() \u51fd\u6570\u5e76\u5728\u4ee3\u7801\u4e2d\u6355\u83b7 StopIteration \u5f02\u5e38\u3002\n\u6bd4\u5982\uff0c\u4e0b\u9762\u7684\u4f8b\u5b50\u624b\u52a8\u8bfb\u53d6\u4e00\u4e2a\u6587\u4ef6\u4e2d\u7684\u6240\u6709\u884c\uff1a"
      ]
    },
    {
      "cell_type": "code",
      "execution_count": null,
      "metadata": {},
      "outputs": [],
      "source": [
        "d\ne\nf\n \nm\na\nn\nu\na\nl\n_\ni\nt\ne\nr\n(\n)\n:\n\n\n \n \n \n \nw\ni\nt\nh\n \no\np\ne\nn\n(\n'\n/\ne\nt\nc\n/\np\na\ns\ns\nw\nd\n'\n)\n \na\ns\n \nf\n:\n\n\n \n \n \n \n \n \n \n \nt\nr\ny\n:\n\n\n \n \n \n \n \n \n \n \n \n \n \n \nw\nh\ni\nl\ne\n \nT\nr\nu\ne\n:\n\n\n \n \n \n \n \n \n \n \n \n \n \n \n \n \n \n \nl\ni\nn\ne\n \n=\n \nn\ne\nx\nt\n(\nf\n)\n\n\n \n \n \n \n \n \n \n \n \n \n \n \n \n \n \n \np\nr\ni\nn\nt\n(\nl\ni\nn\ne\n,\n \ne\nn\nd\n=\n'\n'\n)\n\n\n \n \n \n \n \n \n \n \ne\nx\nc\ne\np\nt\n \nS\nt\no\np\nI\nt\ne\nr\na\nt\ni\no\nn\n:\n\n\n \n \n \n \n \n \n \n \n \n \n \n \np\na\ns\ns\n\n"
      ]
    },
    {
      "cell_type": "markdown",
      "metadata": {},
      "source": [
        "\u901a\u5e38\u6765\u8bb2\uff0c StopIteration \u7528\u6765\u6307\u793a\u8fed\u4ee3\u7684\u7ed3\u5c3e\u3002\n\u7136\u800c\uff0c\u5982\u679c\u4f60\u624b\u52a8\u4f7f\u7528\u4e0a\u9762\u6f14\u793a\u7684 next() \u51fd\u6570\u7684\u8bdd\uff0c\u4f60\u8fd8\u53ef\u4ee5\u901a\u8fc7\u8fd4\u56de\u4e00\u4e2a\u6307\u5b9a\u503c\u6765\u6807\u8bb0\u7ed3\u5c3e\uff0c\u6bd4\u5982 None \u3002\n\u4e0b\u9762\u662f\u793a\u4f8b\uff1a"
      ]
    },
    {
      "cell_type": "code",
      "execution_count": null,
      "metadata": {},
      "outputs": [],
      "source": [
        "w\ni\nt\nh\n \no\np\ne\nn\n(\n'\n/\ne\nt\nc\n/\np\na\ns\ns\nw\nd\n'\n)\n \na\ns\n \nf\n:\n\n\n \n \n \n \nw\nh\ni\nl\ne\n \nT\nr\nu\ne\n:\n\n\n \n \n \n \n \n \n \n \nl\ni\nn\ne\n \n=\n \nn\ne\nx\nt\n(\nf\n,\n \nN\no\nn\ne\n)\n\n\n \n \n \n \n \n \n \n \ni\nf\n \nl\ni\nn\ne\n \ni\ns\n \nN\no\nn\ne\n:\n\n\n \n \n \n \n \n \n \n \n \n \n \n \nb\nr\ne\na\nk\n\n\n \n \n \n \n \n \n \n \np\nr\ni\nn\nt\n(\nl\ni\nn\ne\n,\n \ne\nn\nd\n=\n'\n'\n)\n\n"
      ]
    },
    {
      "cell_type": "markdown",
      "metadata": {},
      "source": [
        "### \u8ba8\u8bba\n"
      ]
    },
    {
      "cell_type": "markdown",
      "metadata": {},
      "source": [
        "\u5927\u591a\u6570\u60c5\u51b5\u4e0b\uff0c\u6211\u4eec\u4f1a\u4f7f\u7528 for \u5faa\u73af\u8bed\u53e5\u7528\u6765\u904d\u5386\u4e00\u4e2a\u53ef\u8fed\u4ee3\u5bf9\u8c61\u3002\n\u4f46\u662f\uff0c\u5076\u5c14\u4e5f\u9700\u8981\u5bf9\u8fed\u4ee3\u505a\u66f4\u52a0\u7cbe\u786e\u7684\u63a7\u5236\uff0c\u8fd9\u65f6\u5019\u4e86\u89e3\u5e95\u5c42\u8fed\u4ee3\u673a\u5236\u5c31\u663e\u5f97\u5c24\u4e3a\u91cd\u8981\u4e86\u3002"
      ]
    },
    {
      "cell_type": "markdown",
      "metadata": {},
      "source": [
        "\u4e0b\u9762\u7684\u4ea4\u4e92\u793a\u4f8b\u5411\u6211\u4eec\u6f14\u793a\u4e86\u8fed\u4ee3\u671f\u95f4\u6240\u53d1\u751f\u7684\u57fa\u672c\u7ec6\u8282\uff1a"
      ]
    },
    {
      "cell_type": "code",
      "execution_count": null,
      "metadata": {},
      "outputs": [],
      "source": [
        "items = [1, 2, 3]\n# Get the iterator\nit = iter(items) # Invokes items.__iter__()\n# Run the iterator\nnext(it) # Invokes it.__next__()"
      ]
    },
    {
      "cell_type": "code",
      "execution_count": null,
      "metadata": {},
      "outputs": [],
      "source": [
        "next(it)"
      ]
    },
    {
      "cell_type": "code",
      "execution_count": null,
      "metadata": {},
      "outputs": [],
      "source": [
        "next(it)"
      ]
    },
    {
      "cell_type": "code",
      "execution_count": null,
      "metadata": {},
      "outputs": [],
      "source": [
        "next(it)"
      ]
    },
    {
      "cell_type": "markdown",
      "metadata": {},
      "source": [
        "\u672c\u7ae0\u63a5\u4e0b\u6765\u51e0\u5c0f\u8282\u4f1a\u66f4\u6df1\u5165\u7684\u8bb2\u89e3\u8fed\u4ee3\u76f8\u5173\u6280\u672f\uff0c\u524d\u63d0\u662f\u4f60\u5148\u8981\u7406\u89e3\u57fa\u672c\u7684\u8fed\u4ee3\u534f\u8bae\u673a\u5236\u3002\n\u6240\u4ee5\u786e\u4fdd\u4f60\u5df2\u7ecf\u628a\u8fd9\u7ae0\u7684\u5185\u5bb9\u7262\u7262\u8bb0\u5728\u5fc3\u4e2d\u3002"
      ]
    },
    {
      "cell_type": "markdown",
      "metadata": {},
      "source": [
        "## 4.2 \u4ee3\u7406\u8fed\u4ee3\n"
      ]
    },
    {
      "cell_type": "markdown",
      "metadata": {},
      "source": [
        "### \u95ee\u9898\n"
      ]
    },
    {
      "cell_type": "markdown",
      "metadata": {},
      "source": [
        "\u4f60\u6784\u5efa\u4e86\u4e00\u4e2a\u81ea\u5b9a\u4e49\u5bb9\u5668\u5bf9\u8c61\uff0c\u91cc\u9762\u5305\u542b\u6709\u5217\u8868\u3001\u5143\u7ec4\u6216\u5176\u4ed6\u53ef\u8fed\u4ee3\u5bf9\u8c61\u3002\n\u4f60\u60f3\u76f4\u63a5\u5728\u4f60\u7684\u8fd9\u4e2a\u65b0\u5bb9\u5668\u5bf9\u8c61\u4e0a\u6267\u884c\u8fed\u4ee3\u64cd\u4f5c\u3002"
      ]
    },
    {
      "cell_type": "markdown",
      "metadata": {},
      "source": [
        "### \u89e3\u51b3\u65b9\u6848\n"
      ]
    },
    {
      "cell_type": "markdown",
      "metadata": {},
      "source": [
        "\u5b9e\u9645\u4e0a\u4f60\u53ea\u9700\u8981\u5b9a\u4e49\u4e00\u4e2a __iter__() \u65b9\u6cd5\uff0c\u5c06\u8fed\u4ee3\u64cd\u4f5c\u4ee3\u7406\u5230\u5bb9\u5668\u5185\u90e8\u7684\u5bf9\u8c61\u4e0a\u53bb\u3002\u6bd4\u5982\uff1a"
      ]
    },
    {
      "cell_type": "code",
      "execution_count": null,
      "metadata": {},
      "outputs": [],
      "source": [
        "c\nl\na\ns\ns\n \nN\no\nd\ne\n:\n\n\n \n \n \n \nd\ne\nf\n \n_\n_\ni\nn\ni\nt\n_\n_\n(\ns\ne\nl\nf\n,\n \nv\na\nl\nu\ne\n)\n:\n\n\n \n \n \n \n \n \n \n \ns\ne\nl\nf\n.\n_\nv\na\nl\nu\ne\n \n=\n \nv\na\nl\nu\ne\n\n\n \n \n \n \n \n \n \n \ns\ne\nl\nf\n.\n_\nc\nh\ni\nl\nd\nr\ne\nn\n \n=\n \n[\n]\n\n\n\n\n \n \n \n \nd\ne\nf\n \n_\n_\nr\ne\np\nr\n_\n_\n(\ns\ne\nl\nf\n)\n:\n\n\n \n \n \n \n \n \n \n \nr\ne\nt\nu\nr\nn\n \n'\nN\no\nd\ne\n(\n{\n!\nr\n}\n)\n'\n.\nf\no\nr\nm\na\nt\n(\ns\ne\nl\nf\n.\n_\nv\na\nl\nu\ne\n)\n\n\n\n\n \n \n \n \nd\ne\nf\n \na\nd\nd\n_\nc\nh\ni\nl\nd\n(\ns\ne\nl\nf\n,\n \nn\no\nd\ne\n)\n:\n\n\n \n \n \n \n \n \n \n \ns\ne\nl\nf\n.\n_\nc\nh\ni\nl\nd\nr\ne\nn\n.\na\np\np\ne\nn\nd\n(\nn\no\nd\ne\n)\n\n\n\n\n \n \n \n \nd\ne\nf\n \n_\n_\ni\nt\ne\nr\n_\n_\n(\ns\ne\nl\nf\n)\n:\n\n\n \n \n \n \n \n \n \n \nr\ne\nt\nu\nr\nn\n \ni\nt\ne\nr\n(\ns\ne\nl\nf\n.\n_\nc\nh\ni\nl\nd\nr\ne\nn\n)\n\n\n\n\n#\n \nE\nx\na\nm\np\nl\ne\n\n\ni\nf\n \n_\n_\nn\na\nm\ne\n_\n_\n \n=\n=\n \n'\n_\n_\nm\na\ni\nn\n_\n_\n'\n:\n\n\n \n \n \n \nr\no\no\nt\n \n=\n \nN\no\nd\ne\n(\n0\n)\n\n\n \n \n \n \nc\nh\ni\nl\nd\n1\n \n=\n \nN\no\nd\ne\n(\n1\n)\n\n\n \n \n \n \nc\nh\ni\nl\nd\n2\n \n=\n \nN\no\nd\ne\n(\n2\n)\n\n\n \n \n \n \nr\no\no\nt\n.\na\nd\nd\n_\nc\nh\ni\nl\nd\n(\nc\nh\ni\nl\nd\n1\n)\n\n\n \n \n \n \nr\no\no\nt\n.\na\nd\nd\n_\nc\nh\ni\nl\nd\n(\nc\nh\ni\nl\nd\n2\n)\n\n\n \n \n \n \n#\n \nO\nu\nt\np\nu\nt\ns\n \nN\no\nd\ne\n(\n1\n)\n,\n \nN\no\nd\ne\n(\n2\n)\n\n\n \n \n \n \nf\no\nr\n \nc\nh\n \ni\nn\n \nr\no\no\nt\n:\n\n\n \n \n \n \n \n \n \n \np\nr\ni\nn\nt\n(\nc\nh\n)\n\n"
      ]
    },
    {
      "cell_type": "markdown",
      "metadata": {},
      "source": [
        "\u5728\u4e0a\u9762\u4ee3\u7801\u4e2d\uff0c __iter__() \u65b9\u6cd5\u53ea\u662f\u7b80\u5355\u7684\u5c06\u8fed\u4ee3\u8bf7\u6c42\u4f20\u9012\u7ed9\u5185\u90e8\u7684 _children \u5c5e\u6027\u3002"
      ]
    },
    {
      "cell_type": "markdown",
      "metadata": {},
      "source": [
        "### \u8ba8\u8bba\n"
      ]
    },
    {
      "cell_type": "markdown",
      "metadata": {},
      "source": [
        "Python\u7684\u8fed\u4ee3\u5668\u534f\u8bae\u9700\u8981 __iter__() \u65b9\u6cd5\u8fd4\u56de\u4e00\u4e2a\u5b9e\u73b0\u4e86 __next__() \u65b9\u6cd5\u7684\u8fed\u4ee3\u5668\u5bf9\u8c61\u3002\n\u5982\u679c\u4f60\u53ea\u662f\u8fed\u4ee3\u904d\u5386\u5176\u4ed6\u5bb9\u5668\u7684\u5185\u5bb9\uff0c\u4f60\u65e0\u987b\u62c5\u5fc3\u5e95\u5c42\u662f\u600e\u6837\u5b9e\u73b0\u7684\u3002\u4f60\u6240\u8981\u505a\u7684\u53ea\u662f\u4f20\u9012\u8fed\u4ee3\u8bf7\u6c42\u65e2\u53ef\u3002"
      ]
    },
    {
      "cell_type": "markdown",
      "metadata": {},
      "source": [
        "\u8fd9\u91cc\u7684 iter() \u51fd\u6570\u7684\u4f7f\u7528\u7b80\u5316\u4e86\u4ee3\u7801\uff0c\niter(s) \u53ea\u662f\u7b80\u5355\u7684\u901a\u8fc7\u8c03\u7528 s.__iter__() \u65b9\u6cd5\u6765\u8fd4\u56de\u5bf9\u5e94\u7684\u8fed\u4ee3\u5668\u5bf9\u8c61\uff0c\n\u5c31\u8ddf len(s) \u4f1a\u8c03\u7528 s.__len__() \u539f\u7406\u662f\u4e00\u6837\u7684\u3002"
      ]
    },
    {
      "cell_type": "markdown",
      "metadata": {},
      "source": [
        "## 4.3 \u4f7f\u7528\u751f\u6210\u5668\u521b\u5efa\u65b0\u7684\u8fed\u4ee3\u6a21\u5f0f\n"
      ]
    },
    {
      "cell_type": "markdown",
      "metadata": {},
      "source": [
        "### \u95ee\u9898\n"
      ]
    },
    {
      "cell_type": "markdown",
      "metadata": {},
      "source": [
        "\u4f60\u60f3\u5b9e\u73b0\u4e00\u4e2a\u81ea\u5b9a\u4e49\u8fed\u4ee3\u6a21\u5f0f\uff0c\u8ddf\u666e\u901a\u7684\u5185\u7f6e\u51fd\u6570\u6bd4\u5982 range() , reversed() \u4e0d\u4e00\u6837\u3002"
      ]
    },
    {
      "cell_type": "markdown",
      "metadata": {},
      "source": [
        "### \u89e3\u51b3\u65b9\u6848\n"
      ]
    },
    {
      "cell_type": "markdown",
      "metadata": {},
      "source": [
        "\u5982\u679c\u4f60\u60f3\u5b9e\u73b0\u4e00\u79cd\u65b0\u7684\u8fed\u4ee3\u6a21\u5f0f\uff0c\u4f7f\u7528\u4e00\u4e2a\u751f\u6210\u5668\u51fd\u6570\u6765\u5b9a\u4e49\u5b83\u3002\n\u4e0b\u9762\u662f\u4e00\u4e2a\u751f\u4ea7\u67d0\u4e2a\u8303\u56f4\u5185\u6d6e\u70b9\u6570\u7684\u751f\u6210\u5668\uff1a"
      ]
    },
    {
      "cell_type": "code",
      "execution_count": null,
      "metadata": {},
      "outputs": [],
      "source": [
        "d\ne\nf\n \nf\nr\na\nn\ng\ne\n(\ns\nt\na\nr\nt\n,\n \ns\nt\no\np\n,\n \ni\nn\nc\nr\ne\nm\ne\nn\nt\n)\n:\n\n\n \n \n \n \nx\n \n=\n \ns\nt\na\nr\nt\n\n\n \n \n \n \nw\nh\ni\nl\ne\n \nx\n \n<\n \ns\nt\no\np\n:\n\n\n \n \n \n \n \n \n \n \ny\ni\ne\nl\nd\n \nx\n\n\n \n \n \n \n \n \n \n \nx\n \n+\n=\n \ni\nn\nc\nr\ne\nm\ne\nn\nt\n\n"
      ]
    },
    {
      "cell_type": "markdown",
      "metadata": {},
      "source": [
        "\u4e3a\u4e86\u4f7f\u7528\u8fd9\u4e2a\u51fd\u6570\uff0c\n\u4f60\u53ef\u4ee5\u7528for\u5faa\u73af\u8fed\u4ee3\u5b83\u6216\u8005\u4f7f\u7528\u5176\u4ed6\u63a5\u53d7\u4e00\u4e2a\u53ef\u8fed\u4ee3\u5bf9\u8c61\u7684\u51fd\u6570(\u6bd4\u5982 sum() , list() \u7b49)\u3002\u793a\u4f8b\u5982\u4e0b\uff1a"
      ]
    },
    {
      "cell_type": "code",
      "execution_count": null,
      "metadata": {},
      "outputs": [],
      "source": [
        "for n in frange(0, 4, 0.5):\n    print(n)"
      ]
    },
    {
      "cell_type": "code",
      "execution_count": null,
      "metadata": {},
      "outputs": [],
      "source": [
        "list(frange(0, 1, 0.125))"
      ]
    },
    {
      "cell_type": "markdown",
      "metadata": {},
      "source": [
        "### \u8ba8\u8bba\n"
      ]
    },
    {
      "cell_type": "markdown",
      "metadata": {},
      "source": [
        "\u4e00\u4e2a\u51fd\u6570\u4e2d\u9700\u8981\u6709\u4e00\u4e2a yield \u8bed\u53e5\u5373\u53ef\u5c06\u5176\u8f6c\u6362\u4e3a\u4e00\u4e2a\u751f\u6210\u5668\u3002\n\u8ddf\u666e\u901a\u51fd\u6570\u4e0d\u540c\u7684\u662f\uff0c\u751f\u6210\u5668\u53ea\u80fd\u7528\u4e8e\u8fed\u4ee3\u64cd\u4f5c\u3002\n\u4e0b\u9762\u662f\u4e00\u4e2a\u5b9e\u9a8c\uff0c\u5411\u4f60\u5c55\u793a\u8fd9\u6837\u7684\u51fd\u6570\u5e95\u5c42\u5de5\u4f5c\u673a\u5236\uff1a"
      ]
    },
    {
      "cell_type": "code",
      "execution_count": null,
      "metadata": {},
      "outputs": [],
      "source": [
        "def countdown(n):\n    print('Starting to count from', n)\n    while n > 0:\n        yield n\n        n -= 1\n    print('Done!')"
      ]
    },
    {
      "cell_type": "code",
      "execution_count": null,
      "metadata": {},
      "outputs": [],
      "source": [
        "# Create the generator, notice no output appears\nc = countdown(3)\nc"
      ]
    },
    {
      "cell_type": "code",
      "execution_count": null,
      "metadata": {},
      "outputs": [],
      "source": [
        "# Run to first yield and emit a value\nnext(c)"
      ]
    },
    {
      "cell_type": "code",
      "execution_count": null,
      "metadata": {},
      "outputs": [],
      "source": [
        "# Run to the next yield\nnext(c)"
      ]
    },
    {
      "cell_type": "code",
      "execution_count": null,
      "metadata": {},
      "outputs": [],
      "source": [
        "# Run to next yield\nnext(c)"
      ]
    },
    {
      "cell_type": "code",
      "execution_count": null,
      "metadata": {},
      "outputs": [],
      "source": [
        "# Run to next yield (iteration stops)\nnext(c)"
      ]
    },
    {
      "cell_type": "markdown",
      "metadata": {},
      "source": [
        "\u4e00\u4e2a\u751f\u6210\u5668\u51fd\u6570\u4e3b\u8981\u7279\u5f81\u662f\u5b83\u53ea\u4f1a\u56de\u5e94\u5728\u8fed\u4ee3\u4e2d\u4f7f\u7528\u5230\u7684 next \u64cd\u4f5c\u3002\n\u4e00\u65e6\u751f\u6210\u5668\u51fd\u6570\u8fd4\u56de\u9000\u51fa\uff0c\u8fed\u4ee3\u7ec8\u6b62\u3002\u6211\u4eec\u5728\u8fed\u4ee3\u4e2d\u901a\u5e38\u4f7f\u7528\u7684for\u8bed\u53e5\u4f1a\u81ea\u52a8\u5904\u7406\u8fd9\u4e9b\u7ec6\u8282\uff0c\u6240\u4ee5\u4f60\u65e0\u9700\u62c5\u5fc3\u3002"
      ]
    },
    {
      "cell_type": "markdown",
      "metadata": {},
      "source": [
        "## 4.4 \u5b9e\u73b0\u8fed\u4ee3\u5668\u534f\u8bae\n"
      ]
    },
    {
      "cell_type": "markdown",
      "metadata": {},
      "source": [
        "### \u95ee\u9898\n"
      ]
    },
    {
      "cell_type": "markdown",
      "metadata": {},
      "source": [
        "\u4f60\u60f3\u6784\u5efa\u4e00\u4e2a\u80fd\u652f\u6301\u8fed\u4ee3\u64cd\u4f5c\u7684\u81ea\u5b9a\u4e49\u5bf9\u8c61\uff0c\u5e76\u5e0c\u671b\u627e\u5230\u4e00\u4e2a\u80fd\u5b9e\u73b0\u8fed\u4ee3\u534f\u8bae\u7684\u7b80\u5355\u65b9\u6cd5\u3002"
      ]
    },
    {
      "cell_type": "markdown",
      "metadata": {},
      "source": [
        "### \u89e3\u51b3\u65b9\u6848\n"
      ]
    },
    {
      "cell_type": "markdown",
      "metadata": {},
      "source": [
        "\u76ee\u524d\u4e3a\u6b62\uff0c\u5728\u4e00\u4e2a\u5bf9\u8c61\u4e0a\u5b9e\u73b0\u8fed\u4ee3\u6700\u7b80\u5355\u7684\u65b9\u5f0f\u662f\u4f7f\u7528\u4e00\u4e2a\u751f\u6210\u5668\u51fd\u6570\u3002\n\u57284.2\u5c0f\u8282\u4e2d\uff0c\u4f7f\u7528Node\u7c7b\u6765\u8868\u793a\u6811\u5f62\u6570\u636e\u7ed3\u6784\u3002\u4f60\u53ef\u80fd\u60f3\u5b9e\u73b0\u4e00\u4e2a\u4ee5\u6df1\u5ea6\u4f18\u5148\u65b9\u5f0f\u904d\u5386\u6811\u5f62\u8282\u70b9\u7684\u751f\u6210\u5668\u3002\n\u4e0b\u9762\u662f\u4ee3\u7801\u793a\u4f8b\uff1a"
      ]
    },
    {
      "cell_type": "code",
      "execution_count": null,
      "metadata": {},
      "outputs": [],
      "source": [
        "c\nl\na\ns\ns\n \nN\no\nd\ne\n:\n\n\n \n \n \n \nd\ne\nf\n \n_\n_\ni\nn\ni\nt\n_\n_\n(\ns\ne\nl\nf\n,\n \nv\na\nl\nu\ne\n)\n:\n\n\n \n \n \n \n \n \n \n \ns\ne\nl\nf\n.\n_\nv\na\nl\nu\ne\n \n=\n \nv\na\nl\nu\ne\n\n\n \n \n \n \n \n \n \n \ns\ne\nl\nf\n.\n_\nc\nh\ni\nl\nd\nr\ne\nn\n \n=\n \n[\n]\n\n\n\n\n \n \n \n \nd\ne\nf\n \n_\n_\nr\ne\np\nr\n_\n_\n(\ns\ne\nl\nf\n)\n:\n\n\n \n \n \n \n \n \n \n \nr\ne\nt\nu\nr\nn\n \n'\nN\no\nd\ne\n(\n{\n!\nr\n}\n)\n'\n.\nf\no\nr\nm\na\nt\n(\ns\ne\nl\nf\n.\n_\nv\na\nl\nu\ne\n)\n\n\n\n\n \n \n \n \nd\ne\nf\n \na\nd\nd\n_\nc\nh\ni\nl\nd\n(\ns\ne\nl\nf\n,\n \nn\no\nd\ne\n)\n:\n\n\n \n \n \n \n \n \n \n \ns\ne\nl\nf\n.\n_\nc\nh\ni\nl\nd\nr\ne\nn\n.\na\np\np\ne\nn\nd\n(\nn\no\nd\ne\n)\n\n\n\n\n \n \n \n \nd\ne\nf\n \n_\n_\ni\nt\ne\nr\n_\n_\n(\ns\ne\nl\nf\n)\n:\n\n\n \n \n \n \n \n \n \n \nr\ne\nt\nu\nr\nn\n \ni\nt\ne\nr\n(\ns\ne\nl\nf\n.\n_\nc\nh\ni\nl\nd\nr\ne\nn\n)\n\n\n\n\n \n \n \n \nd\ne\nf\n \nd\ne\np\nt\nh\n_\nf\ni\nr\ns\nt\n(\ns\ne\nl\nf\n)\n:\n\n\n \n \n \n \n \n \n \n \ny\ni\ne\nl\nd\n \ns\ne\nl\nf\n\n\n \n \n \n \n \n \n \n \nf\no\nr\n \nc\n \ni\nn\n \ns\ne\nl\nf\n:\n\n\n \n \n \n \n \n \n \n \n \n \n \n \ny\ni\ne\nl\nd\n \nf\nr\no\nm\n \nc\n.\nd\ne\np\nt\nh\n_\nf\ni\nr\ns\nt\n(\n)\n\n\n\n\n#\n \nE\nx\na\nm\np\nl\ne\n\n\ni\nf\n \n_\n_\nn\na\nm\ne\n_\n_\n \n=\n=\n \n'\n_\n_\nm\na\ni\nn\n_\n_\n'\n:\n\n\n \n \n \n \nr\no\no\nt\n \n=\n \nN\no\nd\ne\n(\n0\n)\n\n\n \n \n \n \nc\nh\ni\nl\nd\n1\n \n=\n \nN\no\nd\ne\n(\n1\n)\n\n\n \n \n \n \nc\nh\ni\nl\nd\n2\n \n=\n \nN\no\nd\ne\n(\n2\n)\n\n\n \n \n \n \nr\no\no\nt\n.\na\nd\nd\n_\nc\nh\ni\nl\nd\n(\nc\nh\ni\nl\nd\n1\n)\n\n\n \n \n \n \nr\no\no\nt\n.\na\nd\nd\n_\nc\nh\ni\nl\nd\n(\nc\nh\ni\nl\nd\n2\n)\n\n\n \n \n \n \nc\nh\ni\nl\nd\n1\n.\na\nd\nd\n_\nc\nh\ni\nl\nd\n(\nN\no\nd\ne\n(\n3\n)\n)\n\n\n \n \n \n \nc\nh\ni\nl\nd\n1\n.\na\nd\nd\n_\nc\nh\ni\nl\nd\n(\nN\no\nd\ne\n(\n4\n)\n)\n\n\n \n \n \n \nc\nh\ni\nl\nd\n2\n.\na\nd\nd\n_\nc\nh\ni\nl\nd\n(\nN\no\nd\ne\n(\n5\n)\n)\n\n\n\n\n \n \n \n \nf\no\nr\n \nc\nh\n \ni\nn\n \nr\no\no\nt\n.\nd\ne\np\nt\nh\n_\nf\ni\nr\ns\nt\n(\n)\n:\n\n\n \n \n \n \n \n \n \n \np\nr\ni\nn\nt\n(\nc\nh\n)\n\n\n \n \n \n \n#\n \nO\nu\nt\np\nu\nt\ns\n \nN\no\nd\ne\n(\n0\n)\n,\n \nN\no\nd\ne\n(\n1\n)\n,\n \nN\no\nd\ne\n(\n3\n)\n,\n \nN\no\nd\ne\n(\n4\n)\n,\n \nN\no\nd\ne\n(\n2\n)\n,\n \nN\no\nd\ne\n(\n5\n)\n\n"
      ]
    },
    {
      "cell_type": "markdown",
      "metadata": {},
      "source": [
        "\u5728\u8fd9\u6bb5\u4ee3\u7801\u4e2d\uff0cdepth_first() \u65b9\u6cd5\u7b80\u5355\u76f4\u89c2\u3002\n\u5b83\u9996\u5148\u8fd4\u56de\u81ea\u5df1\u672c\u8eab\u5e76\u8fed\u4ee3\u6bcf\u4e00\u4e2a\u5b50\u8282\u70b9\u5e76\n\u901a\u8fc7\u8c03\u7528\u5b50\u8282\u70b9\u7684 depth_first() \u65b9\u6cd5(\u4f7f\u7528 yield from \u8bed\u53e5)\u8fd4\u56de\u5bf9\u5e94\u5143\u7d20\u3002"
      ]
    },
    {
      "cell_type": "markdown",
      "metadata": {},
      "source": [
        "### \u8ba8\u8bba\n"
      ]
    },
    {
      "cell_type": "markdown",
      "metadata": {},
      "source": [
        "Python\u7684\u8fed\u4ee3\u534f\u8bae\u8981\u6c42\u4e00\u4e2a __iter__() \u65b9\u6cd5\u8fd4\u56de\u4e00\u4e2a\u7279\u6b8a\u7684\u8fed\u4ee3\u5668\u5bf9\u8c61\uff0c\n\u8fd9\u4e2a\u8fed\u4ee3\u5668\u5bf9\u8c61\u5b9e\u73b0\u4e86 __next__() \u65b9\u6cd5\u5e76\u901a\u8fc7 StopIteration \u5f02\u5e38\u6807\u8bc6\u8fed\u4ee3\u7684\u5b8c\u6210\u3002\n\u4f46\u662f\uff0c\u5b9e\u73b0\u8fd9\u4e9b\u901a\u5e38\u4f1a\u6bd4\u8f83\u7e41\u7410\u3002\n\u4e0b\u9762\u6211\u4eec\u6f14\u793a\u4e0b\u8fd9\u79cd\u65b9\u5f0f\uff0c\u5982\u4f55\u4f7f\u7528\u4e00\u4e2a\u5173\u8054\u8fed\u4ee3\u5668\u7c7b\u91cd\u65b0\u5b9e\u73b0 depth_first() \u65b9\u6cd5\uff1a"
      ]
    },
    {
      "cell_type": "code",
      "execution_count": null,
      "metadata": {},
      "outputs": [],
      "source": [
        "c\nl\na\ns\ns\n \nN\no\nd\ne\n2\n:\n\n\n \n \n \n \nd\ne\nf\n \n_\n_\ni\nn\ni\nt\n_\n_\n(\ns\ne\nl\nf\n,\n \nv\na\nl\nu\ne\n)\n:\n\n\n \n \n \n \n \n \n \n \ns\ne\nl\nf\n.\n_\nv\na\nl\nu\ne\n \n=\n \nv\na\nl\nu\ne\n\n\n \n \n \n \n \n \n \n \ns\ne\nl\nf\n.\n_\nc\nh\ni\nl\nd\nr\ne\nn\n \n=\n \n[\n]\n\n\n\n\n \n \n \n \nd\ne\nf\n \n_\n_\nr\ne\np\nr\n_\n_\n(\ns\ne\nl\nf\n)\n:\n\n\n \n \n \n \n \n \n \n \nr\ne\nt\nu\nr\nn\n \n'\nN\no\nd\ne\n(\n{\n!\nr\n}\n)\n'\n.\nf\no\nr\nm\na\nt\n(\ns\ne\nl\nf\n.\n_\nv\na\nl\nu\ne\n)\n\n\n\n\n \n \n \n \nd\ne\nf\n \na\nd\nd\n_\nc\nh\ni\nl\nd\n(\ns\ne\nl\nf\n,\n \nn\no\nd\ne\n)\n:\n\n\n \n \n \n \n \n \n \n \ns\ne\nl\nf\n.\n_\nc\nh\ni\nl\nd\nr\ne\nn\n.\na\np\np\ne\nn\nd\n(\nn\no\nd\ne\n)\n\n\n\n\n \n \n \n \nd\ne\nf\n \n_\n_\ni\nt\ne\nr\n_\n_\n(\ns\ne\nl\nf\n)\n:\n\n\n \n \n \n \n \n \n \n \nr\ne\nt\nu\nr\nn\n \ni\nt\ne\nr\n(\ns\ne\nl\nf\n.\n_\nc\nh\ni\nl\nd\nr\ne\nn\n)\n\n\n\n\n \n \n \n \nd\ne\nf\n \nd\ne\np\nt\nh\n_\nf\ni\nr\ns\nt\n(\ns\ne\nl\nf\n)\n:\n\n\n \n \n \n \n \n \n \n \nr\ne\nt\nu\nr\nn\n \nD\ne\np\nt\nh\nF\ni\nr\ns\nt\nI\nt\ne\nr\na\nt\no\nr\n(\ns\ne\nl\nf\n)\n\n\n\n\n\n\nc\nl\na\ns\ns\n \nD\ne\np\nt\nh\nF\ni\nr\ns\nt\nI\nt\ne\nr\na\nt\no\nr\n(\no\nb\nj\ne\nc\nt\n)\n:\n\n\n \n \n \n \n'\n'\n'\n\n\n \n \n \n \nD\ne\np\nt\nh\n-\nf\ni\nr\ns\nt\n \nt\nr\na\nv\ne\nr\ns\na\nl\n\n\n \n \n \n \n'\n'\n'\n\n\n\n\n \n \n \n \nd\ne\nf\n \n_\n_\ni\nn\ni\nt\n_\n_\n(\ns\ne\nl\nf\n,\n \ns\nt\na\nr\nt\n_\nn\no\nd\ne\n)\n:\n\n\n \n \n \n \n \n \n \n \ns\ne\nl\nf\n.\n_\nn\no\nd\ne\n \n=\n \ns\nt\na\nr\nt\n_\nn\no\nd\ne\n\n\n \n \n \n \n \n \n \n \ns\ne\nl\nf\n.\n_\nc\nh\ni\nl\nd\nr\ne\nn\n_\ni\nt\ne\nr\n \n=\n \nN\no\nn\ne\n\n\n \n \n \n \n \n \n \n \ns\ne\nl\nf\n.\n_\nc\nh\ni\nl\nd\n_\ni\nt\ne\nr\n \n=\n \nN\no\nn\ne\n\n\n\n\n \n \n \n \nd\ne\nf\n \n_\n_\ni\nt\ne\nr\n_\n_\n(\ns\ne\nl\nf\n)\n:\n\n\n \n \n \n \n \n \n \n \nr\ne\nt\nu\nr\nn\n \ns\ne\nl\nf\n\n\n\n\n \n \n \n \nd\ne\nf\n \n_\n_\nn\ne\nx\nt\n_\n_\n(\ns\ne\nl\nf\n)\n:\n\n\n \n \n \n \n \n \n \n \n#\n \nR\ne\nt\nu\nr\nn\n \nm\ny\ns\ne\nl\nf\n \ni\nf\n \nj\nu\ns\nt\n \ns\nt\na\nr\nt\ne\nd\n;\n \nc\nr\ne\na\nt\ne\n \na\nn\n \ni\nt\ne\nr\na\nt\no\nr\n \nf\no\nr\n \nc\nh\ni\nl\nd\nr\ne\nn\n\n\n \n \n \n \n \n \n \n \ni\nf\n \ns\ne\nl\nf\n.\n_\nc\nh\ni\nl\nd\nr\ne\nn\n_\ni\nt\ne\nr\n \ni\ns\n \nN\no\nn\ne\n:\n\n\n \n \n \n \n \n \n \n \n \n \n \n \ns\ne\nl\nf\n.\n_\nc\nh\ni\nl\nd\nr\ne\nn\n_\ni\nt\ne\nr\n \n=\n \ni\nt\ne\nr\n(\ns\ne\nl\nf\n.\n_\nn\no\nd\ne\n)\n\n\n \n \n \n \n \n \n \n \n \n \n \n \nr\ne\nt\nu\nr\nn\n \ns\ne\nl\nf\n.\n_\nn\no\nd\ne\n\n\n \n \n \n \n \n \n \n \n#\n \nI\nf\n \np\nr\no\nc\ne\ns\ns\ni\nn\ng\n \na\n \nc\nh\ni\nl\nd\n,\n \nr\ne\nt\nu\nr\nn\n \ni\nt\ns\n \nn\ne\nx\nt\n \ni\nt\ne\nm\n\n\n \n \n \n \n \n \n \n \ne\nl\ni\nf\n \ns\ne\nl\nf\n.\n_\nc\nh\ni\nl\nd\n_\ni\nt\ne\nr\n:\n\n\n \n \n \n \n \n \n \n \n \n \n \n \nt\nr\ny\n:\n\n\n \n \n \n \n \n \n \n \n \n \n \n \n \n \n \n \nn\ne\nx\nt\nc\nh\ni\nl\nd\n \n=\n \nn\ne\nx\nt\n(\ns\ne\nl\nf\n.\n_\nc\nh\ni\nl\nd\n_\ni\nt\ne\nr\n)\n\n\n \n \n \n \n \n \n \n \n \n \n \n \n \n \n \n \nr\ne\nt\nu\nr\nn\n \nn\ne\nx\nt\nc\nh\ni\nl\nd\n\n\n \n \n \n \n \n \n \n \n \n \n \n \ne\nx\nc\ne\np\nt\n \nS\nt\no\np\nI\nt\ne\nr\na\nt\ni\no\nn\n:\n\n\n \n \n \n \n \n \n \n \n \n \n \n \n \n \n \n \ns\ne\nl\nf\n.\n_\nc\nh\ni\nl\nd\n_\ni\nt\ne\nr\n \n=\n \nN\no\nn\ne\n\n\n \n \n \n \n \n \n \n \n \n \n \n \n \n \n \n \nr\ne\nt\nu\nr\nn\n \nn\ne\nx\nt\n(\ns\ne\nl\nf\n)\n\n\n \n \n \n \n \n \n \n \n#\n \nA\nd\nv\na\nn\nc\ne\n \nt\no\n \nt\nh\ne\n \nn\ne\nx\nt\n \nc\nh\ni\nl\nd\n \na\nn\nd\n \ns\nt\na\nr\nt\n \ni\nt\ns\n \ni\nt\ne\nr\na\nt\ni\no\nn\n\n\n \n \n \n \n \n \n \n \ne\nl\ns\ne\n:\n\n\n \n \n \n \n \n \n \n \n \n \n \n \ns\ne\nl\nf\n.\n_\nc\nh\ni\nl\nd\n_\ni\nt\ne\nr\n \n=\n \nn\ne\nx\nt\n(\ns\ne\nl\nf\n.\n_\nc\nh\ni\nl\nd\nr\ne\nn\n_\ni\nt\ne\nr\n)\n.\nd\ne\np\nt\nh\n_\nf\ni\nr\ns\nt\n(\n)\n\n\n \n \n \n \n \n \n \n \n \n \n \n \nr\ne\nt\nu\nr\nn\n \nn\ne\nx\nt\n(\ns\ne\nl\nf\n)\n\n"
      ]
    },
    {
      "cell_type": "markdown",
      "metadata": {},
      "source": [
        "DepthFirstIterator \u7c7b\u548c\u4e0a\u9762\u4f7f\u7528\u751f\u6210\u5668\u7684\u7248\u672c\u5de5\u4f5c\u539f\u7406\u7c7b\u4f3c\uff0c\n\u4f46\u662f\u5b83\u5199\u8d77\u6765\u5f88\u7e41\u7410\uff0c\u56e0\u4e3a\u8fed\u4ee3\u5668\u5fc5\u987b\u5728\u8fed\u4ee3\u5904\u7406\u8fc7\u7a0b\u4e2d\u7ef4\u62a4\u5927\u91cf\u7684\u72b6\u6001\u4fe1\u606f\u3002\n\u5766\u767d\u6765\u8bb2\uff0c\u6ca1\u4eba\u613f\u610f\u5199\u8fd9\u4e48\u6666\u6da9\u7684\u4ee3\u7801\u3002\u5c06\u4f60\u7684\u8fed\u4ee3\u5668\u5b9a\u4e49\u4e3a\u4e00\u4e2a\u751f\u6210\u5668\u540e\u4e00\u5207\u8fce\u5203\u800c\u89e3\u3002"
      ]
    },
    {
      "cell_type": "markdown",
      "metadata": {},
      "source": [
        "## 4.5 \u53cd\u5411\u8fed\u4ee3\n"
      ]
    },
    {
      "cell_type": "markdown",
      "metadata": {},
      "source": [
        "### \u95ee\u9898\n"
      ]
    },
    {
      "cell_type": "markdown",
      "metadata": {},
      "source": [
        "\u4f60\u60f3\u53cd\u65b9\u5411\u8fed\u4ee3\u4e00\u4e2a\u5e8f\u5217"
      ]
    },
    {
      "cell_type": "markdown",
      "metadata": {},
      "source": [
        "### \u89e3\u51b3\u65b9\u6848\n"
      ]
    },
    {
      "cell_type": "markdown",
      "metadata": {},
      "source": [
        "\u4f7f\u7528\u5185\u7f6e\u7684 reversed() \u51fd\u6570\uff0c\u6bd4\u5982\uff1a"
      ]
    },
    {
      "cell_type": "code",
      "execution_count": null,
      "metadata": {},
      "outputs": [],
      "source": [
        "a = [1, 2, 3, 4]\nfor x in reversed(a):\n    print(x)"
      ]
    },
    {
      "cell_type": "markdown",
      "metadata": {},
      "source": [
        "\u53cd\u5411\u8fed\u4ee3\u4ec5\u4ec5\u5f53\u5bf9\u8c61\u7684\u5927\u5c0f\u53ef\u9884\u5148\u786e\u5b9a\u6216\u8005\u5bf9\u8c61\u5b9e\u73b0\u4e86 __reversed__() \u7684\u7279\u6b8a\u65b9\u6cd5\u65f6\u624d\u80fd\u751f\u6548\u3002\n\u5982\u679c\u4e24\u8005\u90fd\u4e0d\u7b26\u5408\uff0c\u90a3\u4f60\u5fc5\u987b\u5148\u5c06\u5bf9\u8c61\u8f6c\u6362\u4e3a\u4e00\u4e2a\u5217\u8868\u624d\u884c\uff0c\u6bd4\u5982\uff1a"
      ]
    },
    {
      "cell_type": "code",
      "execution_count": null,
      "metadata": {},
      "outputs": [],
      "source": [
        "#\n \nP\nr\ni\nn\nt\n \na\n \nf\ni\nl\ne\n \nb\na\nc\nk\nw\na\nr\nd\ns\n\n\nf\n \n=\n \no\np\ne\nn\n(\n'\ns\no\nm\ne\nf\ni\nl\ne\n'\n)\n\n\nf\no\nr\n \nl\ni\nn\ne\n \ni\nn\n \nr\ne\nv\ne\nr\ns\ne\nd\n(\nl\ni\ns\nt\n(\nf\n)\n)\n:\n\n\n \n \n \n \np\nr\ni\nn\nt\n(\nl\ni\nn\ne\n,\n \ne\nn\nd\n=\n'\n'\n)\n\n"
      ]
    },
    {
      "cell_type": "markdown",
      "metadata": {},
      "source": [
        "\u8981\u6ce8\u610f\u7684\u662f\u5982\u679c\u53ef\u8fed\u4ee3\u5bf9\u8c61\u5143\u7d20\u5f88\u591a\u7684\u8bdd\uff0c\u5c06\u5176\u9884\u5148\u8f6c\u6362\u4e3a\u4e00\u4e2a\u5217\u8868\u8981\u6d88\u8017\u5927\u91cf\u7684\u5185\u5b58\u3002"
      ]
    },
    {
      "cell_type": "markdown",
      "metadata": {},
      "source": [
        "### \u8ba8\u8bba\n"
      ]
    },
    {
      "cell_type": "markdown",
      "metadata": {},
      "source": [
        "\u5f88\u591a\u7a0b\u5e8f\u5458\u5e76\u4e0d\u77e5\u9053\u53ef\u4ee5\u901a\u8fc7\u5728\u81ea\u5b9a\u4e49\u7c7b\u4e0a\u5b9e\u73b0 __reversed__() \u65b9\u6cd5\u6765\u5b9e\u73b0\u53cd\u5411\u8fed\u4ee3\u3002\u6bd4\u5982\uff1a"
      ]
    },
    {
      "cell_type": "code",
      "execution_count": null,
      "metadata": {},
      "outputs": [],
      "source": [
        "c\nl\na\ns\ns\n \nC\no\nu\nn\nt\nd\no\nw\nn\n:\n\n\n \n \n \n \nd\ne\nf\n \n_\n_\ni\nn\ni\nt\n_\n_\n(\ns\ne\nl\nf\n,\n \ns\nt\na\nr\nt\n)\n:\n\n\n \n \n \n \n \n \n \n \ns\ne\nl\nf\n.\ns\nt\na\nr\nt\n \n=\n \ns\nt\na\nr\nt\n\n\n\n\n \n \n \n \n#\n \nF\no\nr\nw\na\nr\nd\n \ni\nt\ne\nr\na\nt\no\nr\n\n\n \n \n \n \nd\ne\nf\n \n_\n_\ni\nt\ne\nr\n_\n_\n(\ns\ne\nl\nf\n)\n:\n\n\n \n \n \n \n \n \n \n \nn\n \n=\n \ns\ne\nl\nf\n.\ns\nt\na\nr\nt\n\n\n \n \n \n \n \n \n \n \nw\nh\ni\nl\ne\n \nn\n \n>\n \n0\n:\n\n\n \n \n \n \n \n \n \n \n \n \n \n \ny\ni\ne\nl\nd\n \nn\n\n\n \n \n \n \n \n \n \n \n \n \n \n \nn\n \n-\n=\n \n1\n\n\n\n\n \n \n \n \n#\n \nR\ne\nv\ne\nr\ns\ne\n \ni\nt\ne\nr\na\nt\no\nr\n\n\n \n \n \n \nd\ne\nf\n \n_\n_\nr\ne\nv\ne\nr\ns\ne\nd\n_\n_\n(\ns\ne\nl\nf\n)\n:\n\n\n \n \n \n \n \n \n \n \nn\n \n=\n \n1\n\n\n \n \n \n \n \n \n \n \nw\nh\ni\nl\ne\n \nn\n \n<\n=\n \ns\ne\nl\nf\n.\ns\nt\na\nr\nt\n:\n\n\n \n \n \n \n \n \n \n \n \n \n \n \ny\ni\ne\nl\nd\n \nn\n\n\n \n \n \n \n \n \n \n \n \n \n \n \nn\n \n+\n=\n \n1\n\n\n\n\nf\no\nr\n \nr\nr\n \ni\nn\n \nr\ne\nv\ne\nr\ns\ne\nd\n(\nC\no\nu\nn\nt\nd\no\nw\nn\n(\n3\n0\n)\n)\n:\n\n\n \n \n \n \np\nr\ni\nn\nt\n(\nr\nr\n)\n\n\nf\no\nr\n \nr\nr\n \ni\nn\n \nC\no\nu\nn\nt\nd\no\nw\nn\n(\n3\n0\n)\n:\n\n\n \n \n \n \np\nr\ni\nn\nt\n(\nr\nr\n)\n\n"
      ]
    },
    {
      "cell_type": "markdown",
      "metadata": {},
      "source": [
        "\u5b9a\u4e49\u4e00\u4e2a\u53cd\u5411\u8fed\u4ee3\u5668\u53ef\u4ee5\u4f7f\u5f97\u4ee3\u7801\u975e\u5e38\u7684\u9ad8\u6548\uff0c\n\u56e0\u4e3a\u5b83\u4e0d\u518d\u9700\u8981\u5c06\u6570\u636e\u586b\u5145\u5230\u4e00\u4e2a\u5217\u8868\u4e2d\u7136\u540e\u518d\u53bb\u53cd\u5411\u8fed\u4ee3\u8fd9\u4e2a\u5217\u8868\u3002"
      ]
    },
    {
      "cell_type": "markdown",
      "metadata": {},
      "source": [
        "## 4.6 \u5e26\u6709\u5916\u90e8\u72b6\u6001\u7684\u751f\u6210\u5668\u51fd\u6570\n"
      ]
    },
    {
      "cell_type": "markdown",
      "metadata": {},
      "source": [
        "### \u95ee\u9898\n"
      ]
    },
    {
      "cell_type": "markdown",
      "metadata": {},
      "source": [
        "\u4f60\u60f3\u5b9a\u4e49\u4e00\u4e2a\u751f\u6210\u5668\u51fd\u6570\uff0c\u4f46\u662f\u5b83\u4f1a\u8c03\u7528\u67d0\u4e2a\u4f60\u60f3\u66b4\u9732\u7ed9\u7528\u6237\u4f7f\u7528\u7684\u5916\u90e8\u72b6\u6001\u503c\u3002"
      ]
    },
    {
      "cell_type": "markdown",
      "metadata": {},
      "source": [
        "### \u89e3\u51b3\u65b9\u6848\n"
      ]
    },
    {
      "cell_type": "markdown",
      "metadata": {},
      "source": [
        "\u5982\u679c\u4f60\u60f3\u8ba9\u4f60\u7684\u751f\u6210\u5668\u66b4\u9732\u5916\u90e8\u72b6\u6001\u7ed9\u7528\u6237\uff0c\n\u522b\u5fd8\u4e86\u4f60\u53ef\u4ee5\u7b80\u5355\u7684\u5c06\u5b83\u5b9e\u73b0\u4e3a\u4e00\u4e2a\u7c7b\uff0c\u7136\u540e\u628a\u751f\u6210\u5668\u51fd\u6570\u653e\u5230 __iter__() \u65b9\u6cd5\u4e2d\u8fc7\u53bb\u3002\u6bd4\u5982\uff1a"
      ]
    },
    {
      "cell_type": "code",
      "execution_count": null,
      "metadata": {},
      "outputs": [],
      "source": [
        "f\nr\no\nm\n \nc\no\nl\nl\ne\nc\nt\ni\no\nn\ns\n \ni\nm\np\no\nr\nt\n \nd\ne\nq\nu\ne\n\n\n\n\nc\nl\na\ns\ns\n \nl\ni\nn\ne\nh\ni\ns\nt\no\nr\ny\n:\n\n\n \n \n \n \nd\ne\nf\n \n_\n_\ni\nn\ni\nt\n_\n_\n(\ns\ne\nl\nf\n,\n \nl\ni\nn\ne\ns\n,\n \nh\ni\ns\nt\nl\ne\nn\n=\n3\n)\n:\n\n\n \n \n \n \n \n \n \n \ns\ne\nl\nf\n.\nl\ni\nn\ne\ns\n \n=\n \nl\ni\nn\ne\ns\n\n\n \n \n \n \n \n \n \n \ns\ne\nl\nf\n.\nh\ni\ns\nt\no\nr\ny\n \n=\n \nd\ne\nq\nu\ne\n(\nm\na\nx\nl\ne\nn\n=\nh\ni\ns\nt\nl\ne\nn\n)\n\n\n\n\n \n \n \n \nd\ne\nf\n \n_\n_\ni\nt\ne\nr\n_\n_\n(\ns\ne\nl\nf\n)\n:\n\n\n \n \n \n \n \n \n \n \nf\no\nr\n \nl\ni\nn\ne\nn\no\n,\n \nl\ni\nn\ne\n \ni\nn\n \ne\nn\nu\nm\ne\nr\na\nt\ne\n(\ns\ne\nl\nf\n.\nl\ni\nn\ne\ns\n,\n \n1\n)\n:\n\n\n \n \n \n \n \n \n \n \n \n \n \n \ns\ne\nl\nf\n.\nh\ni\ns\nt\no\nr\ny\n.\na\np\np\ne\nn\nd\n(\n(\nl\ni\nn\ne\nn\no\n,\n \nl\ni\nn\ne\n)\n)\n\n\n \n \n \n \n \n \n \n \n \n \n \n \ny\ni\ne\nl\nd\n \nl\ni\nn\ne\n\n\n\n\n \n \n \n \nd\ne\nf\n \nc\nl\ne\na\nr\n(\ns\ne\nl\nf\n)\n:\n\n\n \n \n \n \n \n \n \n \ns\ne\nl\nf\n.\nh\ni\ns\nt\no\nr\ny\n.\nc\nl\ne\na\nr\n(\n)\n\n"
      ]
    },
    {
      "cell_type": "markdown",
      "metadata": {},
      "source": [
        "\u4e3a\u4e86\u4f7f\u7528\u8fd9\u4e2a\u7c7b\uff0c\u4f60\u53ef\u4ee5\u5c06\u5b83\u5f53\u505a\u662f\u4e00\u4e2a\u666e\u901a\u7684\u751f\u6210\u5668\u51fd\u6570\u3002\n\u7136\u800c\uff0c\u7531\u4e8e\u53ef\u4ee5\u521b\u5efa\u4e00\u4e2a\u5b9e\u4f8b\u5bf9\u8c61\uff0c\u4e8e\u662f\u4f60\u53ef\u4ee5\u8bbf\u95ee\u5185\u90e8\u5c5e\u6027\u503c\uff0c\n\u6bd4\u5982 history \u5c5e\u6027\u6216\u8005\u662f clear() \u65b9\u6cd5\u3002\u4ee3\u7801\u793a\u4f8b\u5982\u4e0b\uff1a"
      ]
    },
    {
      "cell_type": "code",
      "execution_count": null,
      "metadata": {},
      "outputs": [],
      "source": [
        "w\ni\nt\nh\n \no\np\ne\nn\n(\n'\ns\no\nm\ne\nf\ni\nl\ne\n.\nt\nx\nt\n'\n)\n \na\ns\n \nf\n:\n\n\n \n \n \n \nl\ni\nn\ne\ns\n \n=\n \nl\ni\nn\ne\nh\ni\ns\nt\no\nr\ny\n(\nf\n)\n\n\n \n \n \n \nf\no\nr\n \nl\ni\nn\ne\n \ni\nn\n \nl\ni\nn\ne\ns\n:\n\n\n \n \n \n \n \n \n \n \ni\nf\n \n'\np\ny\nt\nh\no\nn\n'\n \ni\nn\n \nl\ni\nn\ne\n:\n\n\n \n \n \n \n \n \n \n \n \n \n \n \nf\no\nr\n \nl\ni\nn\ne\nn\no\n,\n \nh\nl\ni\nn\ne\n \ni\nn\n \nl\ni\nn\ne\ns\n.\nh\ni\ns\nt\no\nr\ny\n:\n\n\n \n \n \n \n \n \n \n \n \n \n \n \n \n \n \n \np\nr\ni\nn\nt\n(\n'\n{\n}\n:\n{\n}\n'\n.\nf\no\nr\nm\na\nt\n(\nl\ni\nn\ne\nn\no\n,\n \nh\nl\ni\nn\ne\n)\n,\n \ne\nn\nd\n=\n'\n'\n)\n\n"
      ]
    },
    {
      "cell_type": "markdown",
      "metadata": {},
      "source": [
        "### \u8ba8\u8bba\n"
      ]
    },
    {
      "cell_type": "markdown",
      "metadata": {},
      "source": [
        "\u5173\u4e8e\u751f\u6210\u5668\uff0c\u5f88\u5bb9\u6613\u6389\u8fdb\u51fd\u6570\u65e0\u6240\u4e0d\u80fd\u7684\u9677\u9631\u3002\n\u5982\u679c\u751f\u6210\u5668\u51fd\u6570\u9700\u8981\u8ddf\u4f60\u7684\u7a0b\u5e8f\u5176\u4ed6\u90e8\u5206\u6253\u4ea4\u9053\u7684\u8bdd(\u6bd4\u5982\u66b4\u9732\u5c5e\u6027\u503c\uff0c\u5141\u8bb8\u901a\u8fc7\u65b9\u6cd5\u8c03\u7528\u6765\u63a7\u5236\u7b49\u7b49)\uff0c\n\u53ef\u80fd\u4f1a\u5bfc\u81f4\u4f60\u7684\u4ee3\u7801\u5f02\u5e38\u7684\u590d\u6742\u3002\n\u5982\u679c\u662f\u8fd9\u79cd\u60c5\u51b5\u7684\u8bdd\uff0c\u53ef\u4ee5\u8003\u8651\u4f7f\u7528\u4e0a\u9762\u4ecb\u7ecd\u7684\u5b9a\u4e49\u7c7b\u7684\u65b9\u5f0f\u3002\n\u5728 __iter__() \u65b9\u6cd5\u4e2d\u5b9a\u4e49\u4f60\u7684\u751f\u6210\u5668\u4e0d\u4f1a\u6539\u53d8\u4f60\u4efb\u4f55\u7684\u7b97\u6cd5\u903b\u8f91\u3002\n\u7531\u4e8e\u5b83\u662f\u7c7b\u7684\u4e00\u90e8\u5206\uff0c\u6240\u4ee5\u5141\u8bb8\u4f60\u5b9a\u4e49\u5404\u79cd\u5c5e\u6027\u548c\u65b9\u6cd5\u6765\u4f9b\u7528\u6237\u4f7f\u7528\u3002"
      ]
    },
    {
      "cell_type": "markdown",
      "metadata": {},
      "source": [
        "\u4e00\u4e2a\u9700\u8981\u6ce8\u610f\u7684\u5c0f\u5730\u65b9\u662f\uff0c\u5982\u679c\u4f60\u5728\u8fed\u4ee3\u64cd\u4f5c\u65f6\u4e0d\u4f7f\u7528for\u5faa\u73af\u8bed\u53e5\uff0c\u90a3\u4e48\u4f60\u5f97\u5148\u8c03\u7528 iter() \u51fd\u6570\u3002\u6bd4\u5982\uff1a"
      ]
    },
    {
      "cell_type": "code",
      "execution_count": null,
      "metadata": {},
      "outputs": [],
      "source": [
        "f = open('somefile.txt')\nlines = linehistory(f)\nnext(lines)"
      ]
    },
    {
      "cell_type": "code",
      "execution_count": null,
      "metadata": {},
      "outputs": [],
      "source": [
        "# Call iter() first, then start iterating\nit = iter(lines)\nnext(it)"
      ]
    },
    {
      "cell_type": "code",
      "execution_count": null,
      "metadata": {},
      "outputs": [],
      "source": [
        "next(it)"
      ]
    },
    {
      "cell_type": "markdown",
      "metadata": {},
      "source": [
        "## 4.7 \u8fed\u4ee3\u5668\u5207\u7247\n"
      ]
    },
    {
      "cell_type": "markdown",
      "metadata": {},
      "source": [
        "### \u95ee\u9898\n"
      ]
    },
    {
      "cell_type": "markdown",
      "metadata": {},
      "source": [
        "\u4f60\u60f3\u5f97\u5230\u4e00\u4e2a\u7531\u8fed\u4ee3\u5668\u751f\u6210\u7684\u5207\u7247\u5bf9\u8c61\uff0c\u4f46\u662f\u6807\u51c6\u5207\u7247\u64cd\u4f5c\u5e76\u4e0d\u80fd\u505a\u5230\u3002"
      ]
    },
    {
      "cell_type": "markdown",
      "metadata": {},
      "source": [
        "### \u89e3\u51b3\u65b9\u6848\n"
      ]
    },
    {
      "cell_type": "markdown",
      "metadata": {},
      "source": [
        "\u51fd\u6570 itertools.islice() \u6b63\u597d\u9002\u7528\u4e8e\u5728\u8fed\u4ee3\u5668\u548c\u751f\u6210\u5668\u4e0a\u505a\u5207\u7247\u64cd\u4f5c\u3002\u6bd4\u5982\uff1a"
      ]
    },
    {
      "cell_type": "code",
      "execution_count": null,
      "metadata": {},
      "outputs": [],
      "source": [
        "def count(n):\n    while True:\n        yield n\n        n += 1\nc = count(0)\nc[10:20]"
      ]
    },
    {
      "cell_type": "code",
      "execution_count": null,
      "metadata": {},
      "outputs": [],
      "source": [
        "# Now using islice()\nimport itertools\nfor x in itertools.islice(c, 10, 20):\n    print(x)"
      ]
    },
    {
      "cell_type": "markdown",
      "metadata": {},
      "source": [
        "### \u8ba8\u8bba\n"
      ]
    },
    {
      "cell_type": "markdown",
      "metadata": {},
      "source": [
        "\u8fed\u4ee3\u5668\u548c\u751f\u6210\u5668\u4e0d\u80fd\u4f7f\u7528\u6807\u51c6\u7684\u5207\u7247\u64cd\u4f5c\uff0c\u56e0\u4e3a\u5b83\u4eec\u7684\u957f\u5ea6\u4e8b\u5148\u6211\u4eec\u5e76\u4e0d\u77e5\u9053(\u5e76\u4e14\u4e5f\u6ca1\u6709\u5b9e\u73b0\u7d22\u5f15)\u3002\n\u51fd\u6570 islice() \u8fd4\u56de\u4e00\u4e2a\u53ef\u4ee5\u751f\u6210\u6307\u5b9a\u5143\u7d20\u7684\u8fed\u4ee3\u5668\uff0c\u5b83\u901a\u8fc7\u904d\u5386\u5e76\u4e22\u5f03\u76f4\u5230\u5207\u7247\u5f00\u59cb\u7d22\u5f15\u4f4d\u7f6e\u7684\u6240\u6709\u5143\u7d20\u3002\n\u7136\u540e\u624d\u5f00\u59cb\u4e00\u4e2a\u4e2a\u7684\u8fd4\u56de\u5143\u7d20\uff0c\u5e76\u76f4\u5230\u5207\u7247\u7ed3\u675f\u7d22\u5f15\u4f4d\u7f6e\u3002"
      ]
    },
    {
      "cell_type": "markdown",
      "metadata": {},
      "source": [
        "\u8fd9\u91cc\u8981\u7740\u91cd\u5f3a\u8c03\u7684\u4e00\u70b9\u662f islice() \u4f1a\u6d88\u8017\u6389\u4f20\u5165\u7684\u8fed\u4ee3\u5668\u4e2d\u7684\u6570\u636e\u3002\n\u5fc5\u987b\u8003\u8651\u5230\u8fed\u4ee3\u5668\u662f\u4e0d\u53ef\u9006\u7684\u8fd9\u4e2a\u4e8b\u5b9e\u3002\n\u6240\u4ee5\u5982\u679c\u4f60\u9700\u8981\u4e4b\u540e\u518d\u6b21\u8bbf\u95ee\u8fd9\u4e2a\u8fed\u4ee3\u5668\u7684\u8bdd\uff0c\u90a3\u4f60\u5c31\u5f97\u5148\u5c06\u5b83\u91cc\u9762\u7684\u6570\u636e\u653e\u5165\u4e00\u4e2a\u5217\u8868\u4e2d\u3002"
      ]
    },
    {
      "cell_type": "markdown",
      "metadata": {},
      "source": [
        "## 4.8 \u8df3\u8fc7\u53ef\u8fed\u4ee3\u5bf9\u8c61\u7684\u5f00\u59cb\u90e8\u5206\n"
      ]
    },
    {
      "cell_type": "markdown",
      "metadata": {},
      "source": [
        "### \u95ee\u9898\n"
      ]
    },
    {
      "cell_type": "markdown",
      "metadata": {},
      "source": [
        "\u4f60\u60f3\u904d\u5386\u4e00\u4e2a\u53ef\u8fed\u4ee3\u5bf9\u8c61\uff0c\u4f46\u662f\u5b83\u5f00\u59cb\u7684\u67d0\u4e9b\u5143\u7d20\u4f60\u5e76\u4e0d\u611f\u5174\u8da3\uff0c\u60f3\u8df3\u8fc7\u5b83\u4eec\u3002"
      ]
    },
    {
      "cell_type": "markdown",
      "metadata": {},
      "source": [
        "### \u89e3\u51b3\u65b9\u6848\n"
      ]
    },
    {
      "cell_type": "markdown",
      "metadata": {},
      "source": [
        "itertools \u6a21\u5757\u4e2d\u6709\u4e00\u4e9b\u51fd\u6570\u53ef\u4ee5\u5b8c\u6210\u8fd9\u4e2a\u4efb\u52a1\u3002\n\u9996\u5148\u4ecb\u7ecd\u7684\u662f itertools.dropwhile() \u51fd\u6570\u3002\u4f7f\u7528\u65f6\uff0c\u4f60\u7ed9\u5b83\u4f20\u9012\u4e00\u4e2a\u51fd\u6570\u5bf9\u8c61\u548c\u4e00\u4e2a\u53ef\u8fed\u4ee3\u5bf9\u8c61\u3002\n\u5b83\u4f1a\u8fd4\u56de\u4e00\u4e2a\u8fed\u4ee3\u5668\u5bf9\u8c61\uff0c\u4e22\u5f03\u539f\u6709\u5e8f\u5217\u4e2d\u76f4\u5230\u51fd\u6570\u8fd4\u56deFlase\u4e4b\u524d\u7684\u6240\u6709\u5143\u7d20\uff0c\u7136\u540e\u8fd4\u56de\u540e\u9762\u6240\u6709\u5143\u7d20\u3002"
      ]
    },
    {
      "cell_type": "markdown",
      "metadata": {},
      "source": [
        "\u4e3a\u4e86\u6f14\u793a\uff0c\u5047\u5b9a\u4f60\u5728\u8bfb\u53d6\u4e00\u4e2a\u5f00\u59cb\u90e8\u5206\u662f\u51e0\u884c\u6ce8\u91ca\u7684\u6e90\u6587\u4ef6\u3002\u6bd4\u5982\uff1a"
      ]
    },
    {
      "cell_type": "code",
      "execution_count": null,
      "metadata": {},
      "outputs": [],
      "source": [
        "with open('/etc/passwd') as f:\nfor line in f:\n    print(line, end='')"
      ]
    },
    {
      "cell_type": "markdown",
      "metadata": {},
      "source": [
        "\u5982\u679c\u4f60\u60f3\u8df3\u8fc7\u5f00\u59cb\u90e8\u5206\u7684\u6ce8\u91ca\u884c\u7684\u8bdd\uff0c\u53ef\u4ee5\u8fd9\u6837\u505a\uff1a"
      ]
    },
    {
      "cell_type": "code",
      "execution_count": null,
      "metadata": {},
      "outputs": [],
      "source": [
        "from itertools import dropwhile\nwith open('/etc/passwd') as f:\n    for line in dropwhile(lambda line: line.startswith('#'), f):\n        print(line, end='')"
      ]
    },
    {
      "cell_type": "markdown",
      "metadata": {},
      "source": [
        "\u8fd9\u4e2a\u4f8b\u5b50\u662f\u57fa\u4e8e\u6839\u636e\u67d0\u4e2a\u6d4b\u8bd5\u51fd\u6570\u8df3\u8fc7\u5f00\u59cb\u7684\u5143\u7d20\u3002\n\u5982\u679c\u4f60\u5df2\u7ecf\u660e\u786e\u77e5\u9053\u4e86\u8981\u8df3\u8fc7\u7684\u5143\u7d20\u7684\u4e2a\u6570\u7684\u8bdd\uff0c\u90a3\u4e48\u53ef\u4ee5\u4f7f\u7528 itertools.islice() \u6765\u4ee3\u66ff\u3002\u6bd4\u5982\uff1a"
      ]
    },
    {
      "cell_type": "code",
      "execution_count": null,
      "metadata": {},
      "outputs": [],
      "source": [
        "from itertools import islice\nitems = ['a', 'b', 'c', 1, 4, 10, 15]\nfor x in islice(items, 3, None):\n    print(x)"
      ]
    },
    {
      "cell_type": "markdown",
      "metadata": {},
      "source": [
        "\u5728\u8fd9\u4e2a\u4f8b\u5b50\u4e2d\uff0c islice() \u51fd\u6570\u6700\u540e\u90a3\u4e2a None \u53c2\u6570\u6307\u5b9a\u4e86\u4f60\u8981\u83b7\u53d6\u4ece\u7b2c3\u4e2a\u5230\u6700\u540e\u7684\u6240\u6709\u5143\u7d20\uff0c\n\u5982\u679c None \u548c3\u7684\u4f4d\u7f6e\u5bf9\u8c03\uff0c\u610f\u601d\u5c31\u662f\u4ec5\u4ec5\u83b7\u53d6\u524d\u4e09\u4e2a\u5143\u7d20\u6070\u6070\u76f8\u53cd\uff0c\n(\u8fd9\u4e2a\u8ddf\u5207\u7247\u7684\u76f8\u53cd\u64cd\u4f5c [3:] \u548c [:3] \u539f\u7406\u662f\u4e00\u6837\u7684)\u3002"
      ]
    },
    {
      "cell_type": "markdown",
      "metadata": {},
      "source": [
        "### \u8ba8\u8bba\n"
      ]
    },
    {
      "cell_type": "markdown",
      "metadata": {},
      "source": [
        "\u51fd\u6570 dropwhile() \u548c islice() \u5176\u5b9e\u5c31\u662f\u4e24\u4e2a\u5e2e\u52a9\u51fd\u6570\uff0c\u4e3a\u7684\u5c31\u662f\u907f\u514d\u5199\u51fa\u4e0b\u9762\u8fd9\u79cd\u5197\u4f59\u4ee3\u7801\uff1a"
      ]
    },
    {
      "cell_type": "code",
      "execution_count": null,
      "metadata": {},
      "outputs": [],
      "source": [
        "w\ni\nt\nh\n \no\np\ne\nn\n(\n'\n/\ne\nt\nc\n/\np\na\ns\ns\nw\nd\n'\n)\n \na\ns\n \nf\n:\n\n\n \n \n \n \n#\n \nS\nk\ni\np\n \no\nv\ne\nr\n \ni\nn\ni\nt\ni\na\nl\n \nc\no\nm\nm\ne\nn\nt\ns\n\n\n \n \n \n \nw\nh\ni\nl\ne\n \nT\nr\nu\ne\n:\n\n\n \n \n \n \n \n \n \n \nl\ni\nn\ne\n \n=\n \nn\ne\nx\nt\n(\nf\n,\n \n'\n'\n)\n\n\n \n \n \n \n \n \n \n \ni\nf\n \nn\no\nt\n \nl\ni\nn\ne\n.\ns\nt\na\nr\nt\ns\nw\ni\nt\nh\n(\n'\n#\n'\n)\n:\n\n\n \n \n \n \n \n \n \n \n \n \n \n \nb\nr\ne\na\nk\n\n\n\n\n \n \n \n \n#\n \nP\nr\no\nc\ne\ns\ns\n \nr\ne\nm\na\ni\nn\ni\nn\ng\n \nl\ni\nn\ne\ns\n\n\n \n \n \n \nw\nh\ni\nl\ne\n \nl\ni\nn\ne\n:\n\n\n \n \n \n \n \n \n \n \n#\n \nR\ne\np\nl\na\nc\ne\n \nw\ni\nt\nh\n \nu\ns\ne\nf\nu\nl\n \np\nr\no\nc\ne\ns\ns\ni\nn\ng\n\n\n \n \n \n \n \n \n \n \np\nr\ni\nn\nt\n(\nl\ni\nn\ne\n,\n \ne\nn\nd\n=\n'\n'\n)\n\n\n \n \n \n \n \n \n \n \nl\ni\nn\ne\n \n=\n \nn\ne\nx\nt\n(\nf\n,\n \nN\no\nn\ne\n)\n\n"
      ]
    },
    {
      "cell_type": "markdown",
      "metadata": {},
      "source": [
        "\u8df3\u8fc7\u4e00\u4e2a\u53ef\u8fed\u4ee3\u5bf9\u8c61\u7684\u5f00\u59cb\u90e8\u5206\u8ddf\u901a\u5e38\u7684\u8fc7\u6ee4\u662f\u4e0d\u540c\u7684\u3002\n\u6bd4\u5982\uff0c\u4e0a\u8ff0\u4ee3\u7801\u7684\u7b2c\u4e00\u4e2a\u90e8\u5206\u53ef\u80fd\u4f1a\u8fd9\u6837\u91cd\u5199\uff1a"
      ]
    },
    {
      "cell_type": "code",
      "execution_count": null,
      "metadata": {},
      "outputs": [],
      "source": [
        "w\ni\nt\nh\n \no\np\ne\nn\n(\n'\n/\ne\nt\nc\n/\np\na\ns\ns\nw\nd\n'\n)\n \na\ns\n \nf\n:\n\n\n \n \n \n \nl\ni\nn\ne\ns\n \n=\n \n(\nl\ni\nn\ne\n \nf\no\nr\n \nl\ni\nn\ne\n \ni\nn\n \nf\n \ni\nf\n \nn\no\nt\n \nl\ni\nn\ne\n.\ns\nt\na\nr\nt\ns\nw\ni\nt\nh\n(\n'\n#\n'\n)\n)\n\n\n \n \n \n \nf\no\nr\n \nl\ni\nn\ne\n \ni\nn\n \nl\ni\nn\ne\ns\n:\n\n\n \n \n \n \n \n \n \n \np\nr\ni\nn\nt\n(\nl\ni\nn\ne\n,\n \ne\nn\nd\n=\n'\n'\n)\n\n"
      ]
    },
    {
      "cell_type": "markdown",
      "metadata": {},
      "source": [
        "\u8fd9\u6837\u5199\u786e\u5b9e\u53ef\u4ee5\u8df3\u8fc7\u5f00\u59cb\u90e8\u5206\u7684\u6ce8\u91ca\u884c\uff0c\u4f46\u662f\u540c\u6837\u4e5f\u4f1a\u8df3\u8fc7\u6587\u4ef6\u4e2d\u5176\u4ed6\u6240\u6709\u7684\u6ce8\u91ca\u884c\u3002\n\u6362\u53e5\u8bdd\u8bb2\uff0c\u6211\u4eec\u7684\u89e3\u51b3\u65b9\u6848\u662f\u4ec5\u4ec5\u8df3\u8fc7\u5f00\u59cb\u90e8\u5206\u6ee1\u8db3\u6d4b\u8bd5\u6761\u4ef6\u7684\u884c\uff0c\u5728\u90a3\u4ee5\u540e\uff0c\u6240\u6709\u7684\u5143\u7d20\u4e0d\u518d\u8fdb\u884c\u6d4b\u8bd5\u548c\u8fc7\u6ee4\u4e86\u3002"
      ]
    },
    {
      "cell_type": "markdown",
      "metadata": {},
      "source": [
        "\u6700\u540e\u9700\u8981\u7740\u91cd\u5f3a\u8c03\u7684\u4e00\u70b9\u662f\uff0c\u672c\u8282\u7684\u65b9\u6848\u9002\u7528\u4e8e\u6240\u6709\u53ef\u8fed\u4ee3\u5bf9\u8c61\uff0c\u5305\u62ec\u90a3\u4e9b\u4e8b\u5148\u4e0d\u80fd\u786e\u5b9a\u5927\u5c0f\u7684\uff0c\n\u6bd4\u5982\u751f\u6210\u5668\uff0c\u6587\u4ef6\u53ca\u5176\u7c7b\u4f3c\u7684\u5bf9\u8c61\u3002"
      ]
    },
    {
      "cell_type": "markdown",
      "metadata": {},
      "source": [
        "## 4.9 \u6392\u5217\u7ec4\u5408\u7684\u8fed\u4ee3\n"
      ]
    },
    {
      "cell_type": "markdown",
      "metadata": {},
      "source": [
        "### \u95ee\u9898\n"
      ]
    },
    {
      "cell_type": "markdown",
      "metadata": {},
      "source": [
        "\u4f60\u60f3\u8fed\u4ee3\u904d\u5386\u4e00\u4e2a\u96c6\u5408\u4e2d\u5143\u7d20\u7684\u6240\u6709\u53ef\u80fd\u7684\u6392\u5217\u6216\u7ec4\u5408"
      ]
    },
    {
      "cell_type": "markdown",
      "metadata": {},
      "source": [
        "### \u89e3\u51b3\u65b9\u6848\n"
      ]
    },
    {
      "cell_type": "markdown",
      "metadata": {},
      "source": [
        "itertools\u6a21\u5757\u63d0\u4f9b\u4e86\u4e09\u4e2a\u51fd\u6570\u6765\u89e3\u51b3\u8fd9\u7c7b\u95ee\u9898\u3002\n\u5176\u4e2d\u4e00\u4e2a\u662f itertools.permutations() \uff0c\n\u5b83\u63a5\u53d7\u4e00\u4e2a\u96c6\u5408\u5e76\u4ea7\u751f\u4e00\u4e2a\u5143\u7ec4\u5e8f\u5217\uff0c\u6bcf\u4e2a\u5143\u7ec4\u7531\u96c6\u5408\u4e2d\u6240\u6709\u5143\u7d20\u7684\u4e00\u4e2a\u53ef\u80fd\u6392\u5217\u7ec4\u6210\u3002\n\u4e5f\u5c31\u662f\u8bf4\u901a\u8fc7\u6253\u4e71\u96c6\u5408\u4e2d\u5143\u7d20\u6392\u5217\u987a\u5e8f\u751f\u6210\u4e00\u4e2a\u5143\u7ec4\uff0c\u6bd4\u5982\uff1a"
      ]
    },
    {
      "cell_type": "code",
      "execution_count": null,
      "metadata": {},
      "outputs": [],
      "source": [
        "items = ['a', 'b', 'c']\nfrom itertools import permutations\nfor p in permutations(items):\n    print(p)"
      ]
    },
    {
      "cell_type": "markdown",
      "metadata": {},
      "source": [
        "\u5982\u679c\u4f60\u60f3\u5f97\u5230\u6307\u5b9a\u957f\u5ea6\u7684\u6240\u6709\u6392\u5217\uff0c\u4f60\u53ef\u4ee5\u4f20\u9012\u4e00\u4e2a\u53ef\u9009\u7684\u957f\u5ea6\u53c2\u6570\u3002\u5c31\u50cf\u8fd9\u6837\uff1a"
      ]
    },
    {
      "cell_type": "code",
      "execution_count": null,
      "metadata": {},
      "outputs": [],
      "source": [
        "for p in permutations(items, 2):\n    print(p)"
      ]
    },
    {
      "cell_type": "markdown",
      "metadata": {},
      "source": [
        "\u4f7f\u7528 itertools.combinations() \u53ef\u5f97\u5230\u8f93\u5165\u96c6\u5408\u4e2d\u5143\u7d20\u7684\u6240\u6709\u7684\u7ec4\u5408\u3002\u6bd4\u5982\uff1a"
      ]
    },
    {
      "cell_type": "code",
      "execution_count": null,
      "metadata": {},
      "outputs": [],
      "source": [
        "from itertools import combinations\nfor c in combinations(items, 3):\n    print(c)"
      ]
    },
    {
      "cell_type": "code",
      "execution_count": null,
      "metadata": {},
      "outputs": [],
      "source": [
        "for c in combinations(items, 2):\n    print(c)"
      ]
    },
    {
      "cell_type": "code",
      "execution_count": null,
      "metadata": {},
      "outputs": [],
      "source": [
        "for c in combinations(items, 1):\n    print(c)"
      ]
    },
    {
      "cell_type": "markdown",
      "metadata": {},
      "source": [
        "\u5bf9\u4e8e combinations() \u6765\u8bb2\uff0c\u5143\u7d20\u7684\u987a\u5e8f\u5df2\u7ecf\u4e0d\u91cd\u8981\u4e86\u3002\n\u4e5f\u5c31\u662f\u8bf4\uff0c\u7ec4\u5408 ('a', 'b') \u8ddf ('b', 'a') \u5176\u5b9e\u662f\u4e00\u6837\u7684(\u6700\u7ec8\u53ea\u4f1a\u8f93\u51fa\u5176\u4e2d\u4e00\u4e2a)\u3002"
      ]
    },
    {
      "cell_type": "markdown",
      "metadata": {},
      "source": [
        "\u5728\u8ba1\u7b97\u7ec4\u5408\u7684\u65f6\u5019\uff0c\u4e00\u65e6\u5143\u7d20\u88ab\u9009\u53d6\u5c31\u4f1a\u4ece\u5019\u9009\u4e2d\u5254\u9664\u6389(\u6bd4\u5982\u5982\u679c\u5143\u7d20\u2019a\u2019\u5df2\u7ecf\u88ab\u9009\u53d6\u4e86\uff0c\u90a3\u4e48\u63a5\u4e0b\u6765\u5c31\u4e0d\u4f1a\u518d\u8003\u8651\u5b83\u4e86)\u3002\n\u800c\u51fd\u6570 itertools.combinations_with_replacement() \u5141\u8bb8\u540c\u4e00\u4e2a\u5143\u7d20\u88ab\u9009\u62e9\u591a\u6b21\uff0c\u6bd4\u5982\uff1a"
      ]
    },
    {
      "cell_type": "code",
      "execution_count": null,
      "metadata": {},
      "outputs": [],
      "source": [
        "for c in combinations_with_replacement(items, 3):\n    print(c)"
      ]
    },
    {
      "cell_type": "markdown",
      "metadata": {},
      "source": [
        "### \u8ba8\u8bba\n"
      ]
    },
    {
      "cell_type": "markdown",
      "metadata": {},
      "source": [
        "\u8fd9\u4e00\u5c0f\u8282\u6211\u4eec\u5411\u4f60\u5c55\u793a\u7684\u4ec5\u4ec5\u662f itertools \u6a21\u5757\u7684\u4e00\u90e8\u5206\u529f\u80fd\u3002\n\u5c3d\u7ba1\u4f60\u4e5f\u53ef\u4ee5\u81ea\u5df1\u624b\u52a8\u5b9e\u73b0\u6392\u5217\u7ec4\u5408\u7b97\u6cd5\uff0c\u4f46\u662f\u8fd9\u6837\u505a\u5f97\u8981\u82b1\u70b9\u8111\u529b\u3002\n\u5f53\u6211\u4eec\u78b0\u5230\u770b\u4e0a\u53bb\u6709\u4e9b\u590d\u6742\u7684\u8fed\u4ee3\u95ee\u9898\u65f6\uff0c\u6700\u597d\u53ef\u4ee5\u5148\u53bb\u770b\u770bitertools\u6a21\u5757\u3002\n\u5982\u679c\u8fd9\u4e2a\u95ee\u9898\u5f88\u666e\u904d\uff0c\u90a3\u4e48\u5f88\u6709\u53ef\u80fd\u4f1a\u5728\u91cc\u9762\u627e\u5230\u89e3\u51b3\u65b9\u6848\uff01"
      ]
    },
    {
      "cell_type": "markdown",
      "metadata": {},
      "source": [
        "## 4.10 \u5e8f\u5217\u4e0a\u7d22\u5f15\u503c\u8fed\u4ee3\n"
      ]
    },
    {
      "cell_type": "markdown",
      "metadata": {},
      "source": [
        "### \u95ee\u9898\n"
      ]
    },
    {
      "cell_type": "markdown",
      "metadata": {},
      "source": [
        "\u4f60\u60f3\u5728\u8fed\u4ee3\u4e00\u4e2a\u5e8f\u5217\u7684\u540c\u65f6\u8ddf\u8e2a\u6b63\u5728\u88ab\u5904\u7406\u7684\u5143\u7d20\u7d22\u5f15\u3002"
      ]
    },
    {
      "cell_type": "markdown",
      "metadata": {},
      "source": [
        "### \u89e3\u51b3\u65b9\u6848\n"
      ]
    },
    {
      "cell_type": "markdown",
      "metadata": {},
      "source": [
        "\u5185\u7f6e\u7684 enumerate() \u51fd\u6570\u53ef\u4ee5\u5f88\u597d\u7684\u89e3\u51b3\u8fd9\u4e2a\u95ee\u9898\uff1a"
      ]
    },
    {
      "cell_type": "code",
      "execution_count": null,
      "metadata": {},
      "outputs": [],
      "source": [
        "my_list = ['a', 'b', 'c']\nfor idx, val in enumerate(my_list):\n    print(idx, val)"
      ]
    },
    {
      "cell_type": "markdown",
      "metadata": {},
      "source": [
        "\u4e3a\u4e86\u6309\u4f20\u7edf\u884c\u53f7\u8f93\u51fa(\u884c\u53f7\u4ece1\u5f00\u59cb)\uff0c\u4f60\u53ef\u4ee5\u4f20\u9012\u4e00\u4e2a\u5f00\u59cb\u53c2\u6570\uff1a"
      ]
    },
    {
      "cell_type": "code",
      "execution_count": null,
      "metadata": {},
      "outputs": [],
      "source": [
        "my_list = ['a', 'b', 'c']\nfor idx, val in enumerate(my_list, 1):\n    print(idx, val)"
      ]
    },
    {
      "cell_type": "markdown",
      "metadata": {},
      "source": [
        "\u8fd9\u79cd\u60c5\u51b5\u5728\u4f60\u904d\u5386\u6587\u4ef6\u65f6\u60f3\u5728\u9519\u8bef\u6d88\u606f\u4e2d\u4f7f\u7528\u884c\u53f7\u5b9a\u4f4d\u65f6\u5019\u975e\u5e38\u6709\u7528\uff1a"
      ]
    },
    {
      "cell_type": "code",
      "execution_count": null,
      "metadata": {},
      "outputs": [],
      "source": [
        "d\ne\nf\n \np\na\nr\ns\ne\n_\nd\na\nt\na\n(\nf\ni\nl\ne\nn\na\nm\ne\n)\n:\n\n\n \n \n \n \nw\ni\nt\nh\n \no\np\ne\nn\n(\nf\ni\nl\ne\nn\na\nm\ne\n,\n \n'\nr\nt\n'\n)\n \na\ns\n \nf\n:\n\n\n \n \n \n \n \n \n \n \nf\no\nr\n \nl\ni\nn\ne\nn\no\n,\n \nl\ni\nn\ne\n \ni\nn\n \ne\nn\nu\nm\ne\nr\na\nt\ne\n(\nf\n,\n \n1\n)\n:\n\n\n \n \n \n \n \n \n \n \n \n \n \n \nf\ni\ne\nl\nd\ns\n \n=\n \nl\ni\nn\ne\n.\ns\np\nl\ni\nt\n(\n)\n\n\n \n \n \n \n \n \n \n \n \n \n \n \nt\nr\ny\n:\n\n\n \n \n \n \n \n \n \n \n \n \n \n \n \n \n \n \nc\no\nu\nn\nt\n \n=\n \ni\nn\nt\n(\nf\ni\ne\nl\nd\ns\n[\n1\n]\n)\n\n\n \n \n \n \n \n \n \n \n \n \n \n \n \n \n \n \n.\n.\n.\n\n\n \n \n \n \n \n \n \n \n \n \n \n \ne\nx\nc\ne\np\nt\n \nV\na\nl\nu\ne\nE\nr\nr\no\nr\n \na\ns\n \ne\n:\n\n\n \n \n \n \n \n \n \n \n \n \n \n \n \n \n \n \np\nr\ni\nn\nt\n(\n'\nL\ni\nn\ne\n \n{\n}\n:\n \nP\na\nr\ns\ne\n \ne\nr\nr\no\nr\n:\n \n{\n}\n'\n.\nf\no\nr\nm\na\nt\n(\nl\ni\nn\ne\nn\no\n,\n \ne\n)\n)\n\n"
      ]
    },
    {
      "cell_type": "markdown",
      "metadata": {},
      "source": [
        "enumerate() \u5bf9\u4e8e\u8ddf\u8e2a\u67d0\u4e9b\u503c\u5728\u5217\u8868\u4e2d\u51fa\u73b0\u7684\u4f4d\u7f6e\u662f\u5f88\u6709\u7528\u7684\u3002\n\u6240\u4ee5\uff0c\u5982\u679c\u4f60\u60f3\u5c06\u4e00\u4e2a\u6587\u4ef6\u4e2d\u51fa\u73b0\u7684\u5355\u8bcd\u6620\u5c04\u5230\u5b83\u51fa\u73b0\u7684\u884c\u53f7\u4e0a\u53bb\uff0c\u53ef\u4ee5\u5f88\u5bb9\u6613\u7684\u5229\u7528 enumerate() \u6765\u5b8c\u6210\uff1a"
      ]
    },
    {
      "cell_type": "code",
      "execution_count": null,
      "metadata": {},
      "outputs": [],
      "source": [
        "w\no\nr\nd\n_\ns\nu\nm\nm\na\nr\ny\n \n=\n \nd\ne\nf\na\nu\nl\nt\nd\ni\nc\nt\n(\nl\ni\ns\nt\n)\n\n\n\n\nw\ni\nt\nh\n \no\np\ne\nn\n(\n'\nm\ny\nf\ni\nl\ne\n.\nt\nx\nt\n'\n,\n \n'\nr\n'\n)\n \na\ns\n \nf\n:\n\n\n \n \n \n \nl\ni\nn\ne\ns\n \n=\n \nf\n.\nr\ne\na\nd\nl\ni\nn\ne\ns\n(\n)\n\n\n\n\nf\no\nr\n \ni\nd\nx\n,\n \nl\ni\nn\ne\n \ni\nn\n \ne\nn\nu\nm\ne\nr\na\nt\ne\n(\nl\ni\nn\ne\ns\n)\n:\n\n\n \n \n \n \n#\n \nC\nr\ne\na\nt\ne\n \na\n \nl\ni\ns\nt\n \no\nf\n \nw\no\nr\nd\ns\n \ni\nn\n \nc\nu\nr\nr\ne\nn\nt\n \nl\ni\nn\ne\n\n\n \n \n \n \nw\no\nr\nd\ns\n \n=\n \n[\nw\n.\ns\nt\nr\ni\np\n(\n)\n.\nl\no\nw\ne\nr\n(\n)\n \nf\no\nr\n \nw\n \ni\nn\n \nl\ni\nn\ne\n.\ns\np\nl\ni\nt\n(\n)\n]\n\n\n \n \n \n \nf\no\nr\n \nw\no\nr\nd\n \ni\nn\n \nw\no\nr\nd\ns\n:\n\n\n \n \n \n \n \n \n \n \nw\no\nr\nd\n_\ns\nu\nm\nm\na\nr\ny\n[\nw\no\nr\nd\n]\n.\na\np\np\ne\nn\nd\n(\ni\nd\nx\n)\n\n"
      ]
    },
    {
      "cell_type": "markdown",
      "metadata": {},
      "source": [
        "\u5982\u679c\u4f60\u5904\u7406\u5b8c\u6587\u4ef6\u540e\u6253\u5370 word_summary \uff0c\u4f1a\u53d1\u73b0\u5b83\u662f\u4e00\u4e2a\u5b57\u5178(\u51c6\u786e\u6765\u8bb2\u662f\u4e00\u4e2a defaultdict )\uff0c\n\u5bf9\u4e8e\u6bcf\u4e2a\u5355\u8bcd\u6709\u4e00\u4e2a key \uff0c\u6bcf\u4e2a key \u5bf9\u5e94\u7684\u503c\u662f\u4e00\u4e2a\u7531\u8fd9\u4e2a\u5355\u8bcd\u51fa\u73b0\u7684\u884c\u53f7\u7ec4\u6210\u7684\u5217\u8868\u3002\n\u5982\u679c\u67d0\u4e2a\u5355\u8bcd\u5728\u4e00\u884c\u4e2d\u51fa\u73b0\u8fc7\u4e24\u6b21\uff0c\u90a3\u4e48\u8fd9\u4e2a\u884c\u53f7\u4e5f\u4f1a\u51fa\u73b0\u4e24\u6b21\uff0c\n\u540c\u65f6\u4e5f\u53ef\u4ee5\u4f5c\u4e3a\u6587\u672c\u7684\u4e00\u4e2a\u7b80\u5355\u7edf\u8ba1\u3002"
      ]
    },
    {
      "cell_type": "markdown",
      "metadata": {},
      "source": [
        "### \u8ba8\u8bba\n"
      ]
    },
    {
      "cell_type": "markdown",
      "metadata": {},
      "source": [
        "\u5f53\u4f60\u60f3\u989d\u5916\u5b9a\u4e49\u4e00\u4e2a\u8ba1\u6570\u53d8\u91cf\u7684\u65f6\u5019\uff0c\u4f7f\u7528 enumerate() \u51fd\u6570\u4f1a\u66f4\u52a0\u7b80\u5355\u3002\u4f60\u53ef\u80fd\u4f1a\u50cf\u4e0b\u9762\u8fd9\u6837\u5199\u4ee3\u7801\uff1a"
      ]
    },
    {
      "cell_type": "code",
      "execution_count": null,
      "metadata": {},
      "outputs": [],
      "source": [
        "l\ni\nn\ne\nn\no\n \n=\n \n1\n\n\nf\no\nr\n \nl\ni\nn\ne\n \ni\nn\n \nf\n:\n\n\n \n \n \n \n#\n \nP\nr\no\nc\ne\ns\ns\n \nl\ni\nn\ne\n\n\n \n \n \n \n.\n.\n.\n\n\n \n \n \n \nl\ni\nn\ne\nn\no\n \n+\n=\n \n1\n\n"
      ]
    },
    {
      "cell_type": "markdown",
      "metadata": {},
      "source": [
        "\u4f46\u662f\u5982\u679c\u4f7f\u7528 enumerate() \u51fd\u6570\u6765\u4ee3\u66ff\u5c31\u663e\u5f97\u66f4\u52a0\u4f18\u96c5\u4e86\uff1a"
      ]
    },
    {
      "cell_type": "code",
      "execution_count": null,
      "metadata": {},
      "outputs": [],
      "source": [
        "f\no\nr\n \nl\ni\nn\ne\nn\no\n,\n \nl\ni\nn\ne\n \ni\nn\n \ne\nn\nu\nm\ne\nr\na\nt\ne\n(\nf\n)\n:\n\n\n \n \n \n \n#\n \nP\nr\no\nc\ne\ns\ns\n \nl\ni\nn\ne\n\n\n \n \n \n \n.\n.\n.\n\n"
      ]
    },
    {
      "cell_type": "markdown",
      "metadata": {},
      "source": [
        "enumerate() \u51fd\u6570\u8fd4\u56de\u7684\u662f\u4e00\u4e2a enumerate \u5bf9\u8c61\u5b9e\u4f8b\uff0c\n\u5b83\u662f\u4e00\u4e2a\u8fed\u4ee3\u5668\uff0c\u8fd4\u56de\u8fde\u7eed\u7684\u5305\u542b\u4e00\u4e2a\u8ba1\u6570\u548c\u4e00\u4e2a\u503c\u7684\u5143\u7ec4\uff0c\n\u5143\u7ec4\u4e2d\u7684\u503c\u901a\u8fc7\u5728\u4f20\u5165\u5e8f\u5217\u4e0a\u8c03\u7528 next() \u8fd4\u56de\u3002"
      ]
    },
    {
      "cell_type": "markdown",
      "metadata": {},
      "source": [
        "\u8fd8\u6709\u4e00\u70b9\u53ef\u80fd\u5e76\u4e0d\u5f88\u91cd\u8981\uff0c\u4f46\u662f\u4e5f\u503c\u5f97\u6ce8\u610f\uff0c\n\u6709\u65f6\u5019\u5f53\u4f60\u5728\u4e00\u4e2a\u5df2\u7ecf\u89e3\u538b\u540e\u7684\u5143\u7ec4\u5e8f\u5217\u4e0a\u4f7f\u7528 enumerate() \u51fd\u6570\u65f6\u5f88\u5bb9\u6613\u8c03\u5165\u9677\u9631\u3002\n\u4f60\u5f97\u50cf\u4e0b\u9762\u6b63\u786e\u7684\u65b9\u5f0f\u8fd9\u6837\u5199\uff1a"
      ]
    },
    {
      "cell_type": "code",
      "execution_count": null,
      "metadata": {},
      "outputs": [],
      "source": [
        "d\na\nt\na\n \n=\n \n[\n \n(\n1\n,\n \n2\n)\n,\n \n(\n3\n,\n \n4\n)\n,\n \n(\n5\n,\n \n6\n)\n,\n \n(\n7\n,\n \n8\n)\n \n]\n\n\n\n\n#\n \nC\no\nr\nr\ne\nc\nt\n!\n\n\nf\no\nr\n \nn\n,\n \n(\nx\n,\n \ny\n)\n \ni\nn\n \ne\nn\nu\nm\ne\nr\na\nt\ne\n(\nd\na\nt\na\n)\n:\n\n\n \n \n \n \n.\n.\n.\n\n\n#\n \nE\nr\nr\no\nr\n!\n\n\nf\no\nr\n \nn\n,\n \nx\n,\n \ny\n \ni\nn\n \ne\nn\nu\nm\ne\nr\na\nt\ne\n(\nd\na\nt\na\n)\n:\n\n\n \n \n \n \n.\n.\n.\n\n"
      ]
    },
    {
      "cell_type": "markdown",
      "metadata": {},
      "source": [
        "## 4.11 \u540c\u65f6\u8fed\u4ee3\u591a\u4e2a\u5e8f\u5217\n"
      ]
    },
    {
      "cell_type": "markdown",
      "metadata": {},
      "source": [
        "### \u95ee\u9898\n"
      ]
    },
    {
      "cell_type": "markdown",
      "metadata": {},
      "source": [
        "\u4f60\u60f3\u540c\u65f6\u8fed\u4ee3\u591a\u4e2a\u5e8f\u5217\uff0c\u6bcf\u6b21\u5206\u522b\u4ece\u4e00\u4e2a\u5e8f\u5217\u4e2d\u53d6\u4e00\u4e2a\u5143\u7d20\u3002"
      ]
    },
    {
      "cell_type": "markdown",
      "metadata": {},
      "source": [
        "### \u89e3\u51b3\u65b9\u6848\n"
      ]
    },
    {
      "cell_type": "markdown",
      "metadata": {},
      "source": [
        "\u4e3a\u4e86\u540c\u65f6\u8fed\u4ee3\u591a\u4e2a\u5e8f\u5217\uff0c\u4f7f\u7528 zip() \u51fd\u6570\u3002\u6bd4\u5982\uff1a"
      ]
    },
    {
      "cell_type": "code",
      "execution_count": null,
      "metadata": {},
      "outputs": [],
      "source": [
        "xpts = [1, 5, 4, 2, 10, 7]\nypts = [101, 78, 37, 15, 62, 99]\nfor x, y in zip(xpts, ypts):\n    print(x,y)"
      ]
    },
    {
      "cell_type": "markdown",
      "metadata": {},
      "source": [
        "zip(a, b) \u4f1a\u751f\u6210\u4e00\u4e2a\u53ef\u8fd4\u56de\u5143\u7ec4 (x, y) \u7684\u8fed\u4ee3\u5668\uff0c\u5176\u4e2dx\u6765\u81eaa\uff0cy\u6765\u81eab\u3002\n\u4e00\u65e6\u5176\u4e2d\u67d0\u4e2a\u5e8f\u5217\u5230\u5e95\u7ed3\u5c3e\uff0c\u8fed\u4ee3\u5ba3\u544a\u7ed3\u675f\u3002\n\u56e0\u6b64\u8fed\u4ee3\u957f\u5ea6\u8ddf\u53c2\u6570\u4e2d\u6700\u77ed\u5e8f\u5217\u957f\u5ea6\u4e00\u81f4\u3002"
      ]
    },
    {
      "cell_type": "code",
      "execution_count": null,
      "metadata": {},
      "outputs": [],
      "source": [
        "a = [1, 2, 3]\nb = ['w', 'x', 'y', 'z']\nfor i in zip(a,b):\n    print(i)"
      ]
    },
    {
      "cell_type": "markdown",
      "metadata": {},
      "source": [
        "\u5982\u679c\u8fd9\u4e2a\u4e0d\u662f\u4f60\u60f3\u8981\u7684\u6548\u679c\uff0c\u90a3\u4e48\u8fd8\u53ef\u4ee5\u4f7f\u7528 itertools.zip_longest() \u51fd\u6570\u6765\u4ee3\u66ff\u3002\u6bd4\u5982\uff1a"
      ]
    },
    {
      "cell_type": "code",
      "execution_count": null,
      "metadata": {},
      "outputs": [],
      "source": [
        "from itertools import zip_longest\nfor i in zip_longest(a,b):\n    print(i)"
      ]
    },
    {
      "cell_type": "code",
      "execution_count": null,
      "metadata": {},
      "outputs": [],
      "source": [
        "for i in zip_longest(a, b, fillvalue=0):\n    print(i)"
      ]
    },
    {
      "cell_type": "markdown",
      "metadata": {},
      "source": [
        "### \u8ba8\u8bba\n"
      ]
    },
    {
      "cell_type": "markdown",
      "metadata": {},
      "source": [
        "\u5f53\u4f60\u60f3\u6210\u5bf9\u5904\u7406\u6570\u636e\u7684\u65f6\u5019 zip() \u51fd\u6570\u662f\u5f88\u6709\u7528\u7684\u3002\n\u6bd4\u5982\uff0c\u5047\u8bbe\u4f60\u5934\u5217\u8868\u548c\u4e00\u4e2a\u503c\u5217\u8868\uff0c\u5c31\u50cf\u4e0b\u9762\u8fd9\u6837\uff1a"
      ]
    },
    {
      "cell_type": "code",
      "execution_count": null,
      "metadata": {},
      "outputs": [],
      "source": [
        "h\ne\na\nd\ne\nr\ns\n \n=\n \n[\n'\nn\na\nm\ne\n'\n,\n \n'\ns\nh\na\nr\ne\ns\n'\n,\n \n'\np\nr\ni\nc\ne\n'\n]\n\n\nv\na\nl\nu\ne\ns\n \n=\n \n[\n'\nA\nC\nM\nE\n'\n,\n \n1\n0\n0\n,\n \n4\n9\n0\n.\n1\n]\n\n"
      ]
    },
    {
      "cell_type": "markdown",
      "metadata": {},
      "source": [
        "\u4f7f\u7528zip()\u53ef\u4ee5\u8ba9\u4f60\u5c06\u5b83\u4eec\u6253\u5305\u5e76\u751f\u6210\u4e00\u4e2a\u5b57\u5178\uff1a"
      ]
    },
    {
      "cell_type": "code",
      "execution_count": null,
      "metadata": {},
      "outputs": [],
      "source": [
        "s\n \n=\n \nd\ni\nc\nt\n(\nz\ni\np\n(\nh\ne\na\nd\ne\nr\ns\n,\nv\na\nl\nu\ne\ns\n)\n)\n\n"
      ]
    },
    {
      "cell_type": "markdown",
      "metadata": {},
      "source": [
        "\u6216\u8005\u4f60\u4e5f\u53ef\u4ee5\u50cf\u4e0b\u9762\u8fd9\u6837\u4ea7\u751f\u8f93\u51fa\uff1a"
      ]
    },
    {
      "cell_type": "code",
      "execution_count": null,
      "metadata": {},
      "outputs": [],
      "source": [
        "f\no\nr\n \nn\na\nm\ne\n,\n \nv\na\nl\n \ni\nn\n \nz\ni\np\n(\nh\ne\na\nd\ne\nr\ns\n,\n \nv\na\nl\nu\ne\ns\n)\n:\n\n\n \n \n \n \np\nr\ni\nn\nt\n(\nn\na\nm\ne\n,\n \n'\n=\n'\n,\n \nv\na\nl\n)\n\n"
      ]
    },
    {
      "cell_type": "markdown",
      "metadata": {},
      "source": [
        "\u867d\u7136\u4e0d\u5e38\u89c1\uff0c\u4f46\u662f zip() \u53ef\u4ee5\u63a5\u53d7\u591a\u4e8e\u4e24\u4e2a\u7684\u5e8f\u5217\u7684\u53c2\u6570\u3002\n\u8fd9\u65f6\u5019\u6240\u751f\u6210\u7684\u7ed3\u679c\u5143\u7ec4\u4e2d\u5143\u7d20\u4e2a\u6570\u8ddf\u8f93\u5165\u5e8f\u5217\u4e2a\u6570\u4e00\u6837\u3002\u6bd4\u5982;"
      ]
    },
    {
      "cell_type": "code",
      "execution_count": null,
      "metadata": {},
      "outputs": [],
      "source": [
        "a = [1, 2, 3]\nb = [10, 11, 12]\nc = ['x','y','z']\nfor i in zip(a, b, c):\n    print(i)"
      ]
    },
    {
      "cell_type": "markdown",
      "metadata": {},
      "source": [
        "\u6700\u540e\u5f3a\u8c03\u4e00\u70b9\u5c31\u662f\uff0c zip() \u4f1a\u521b\u5efa\u4e00\u4e2a\u8fed\u4ee3\u5668\u6765\u4f5c\u4e3a\u7ed3\u679c\u8fd4\u56de\u3002\n\u5982\u679c\u4f60\u9700\u8981\u5c06\u7ed3\u5bf9\u7684\u503c\u5b58\u50a8\u5728\u5217\u8868\u4e2d\uff0c\u8981\u4f7f\u7528 list() \u51fd\u6570\u3002\u6bd4\u5982\uff1a"
      ]
    },
    {
      "cell_type": "code",
      "execution_count": null,
      "metadata": {},
      "outputs": [],
      "source": [
        "zip(a, b)"
      ]
    },
    {
      "cell_type": "code",
      "execution_count": null,
      "metadata": {},
      "outputs": [],
      "source": [
        "list(zip(a, b))"
      ]
    },
    {
      "cell_type": "markdown",
      "metadata": {},
      "source": [
        "## 4.12 \u4e0d\u540c\u96c6\u5408\u4e0a\u5143\u7d20\u7684\u8fed\u4ee3\n"
      ]
    },
    {
      "cell_type": "markdown",
      "metadata": {},
      "source": [
        "### \u95ee\u9898\n"
      ]
    },
    {
      "cell_type": "markdown",
      "metadata": {},
      "source": [
        "\u4f60\u60f3\u5728\u591a\u4e2a\u5bf9\u8c61\u6267\u884c\u76f8\u540c\u7684\u64cd\u4f5c\uff0c\u4f46\u662f\u8fd9\u4e9b\u5bf9\u8c61\u5728\u4e0d\u540c\u7684\u5bb9\u5668\u4e2d\uff0c\u4f60\u5e0c\u671b\u4ee3\u7801\u5728\u4e0d\u5931\u53ef\u8bfb\u6027\u7684\u60c5\u51b5\u4e0b\u907f\u514d\u5199\u91cd\u590d\u7684\u5faa\u73af\u3002"
      ]
    },
    {
      "cell_type": "markdown",
      "metadata": {},
      "source": [
        "### \u89e3\u51b3\u65b9\u6848\n"
      ]
    },
    {
      "cell_type": "markdown",
      "metadata": {},
      "source": [
        "itertools.chain() \u65b9\u6cd5\u53ef\u4ee5\u7528\u6765\u7b80\u5316\u8fd9\u4e2a\u4efb\u52a1\u3002\n\u5b83\u63a5\u53d7\u4e00\u4e2a\u53ef\u8fed\u4ee3\u5bf9\u8c61\u5217\u8868\u4f5c\u4e3a\u8f93\u5165\uff0c\u5e76\u8fd4\u56de\u4e00\u4e2a\u8fed\u4ee3\u5668\uff0c\u6709\u6548\u7684\u5c4f\u853d\u6389\u5728\u591a\u4e2a\u5bb9\u5668\u4e2d\u8fed\u4ee3\u7ec6\u8282\u3002\n\u4e3a\u4e86\u6f14\u793a\u6e05\u695a\uff0c\u8003\u8651\u4e0b\u9762\u8fd9\u4e2a\u4f8b\u5b50\uff1a"
      ]
    },
    {
      "cell_type": "code",
      "execution_count": null,
      "metadata": {},
      "outputs": [],
      "source": [
        "from itertools import chain\na = [1, 2, 3, 4]\nb = ['x', 'y', 'z']\nfor x in chain(a, b):\nprint(x)"
      ]
    },
    {
      "cell_type": "markdown",
      "metadata": {},
      "source": [
        "\u4f7f\u7528 chain() \u7684\u4e00\u4e2a\u5e38\u89c1\u573a\u666f\u662f\u5f53\u4f60\u60f3\u5bf9\u4e0d\u540c\u7684\u96c6\u5408\u4e2d\u6240\u6709\u5143\u7d20\u6267\u884c\u67d0\u4e9b\u64cd\u4f5c\u7684\u65f6\u5019\u3002\u6bd4\u5982\uff1a"
      ]
    },
    {
      "cell_type": "code",
      "execution_count": null,
      "metadata": {},
      "outputs": [],
      "source": [
        "#\n \nV\na\nr\ni\no\nu\ns\n \nw\no\nr\nk\ni\nn\ng\n \ns\ne\nt\ns\n \no\nf\n \ni\nt\ne\nm\ns\n\n\na\nc\nt\ni\nv\ne\n_\ni\nt\ne\nm\ns\n \n=\n \ns\ne\nt\n(\n)\n\n\ni\nn\na\nc\nt\ni\nv\ne\n_\ni\nt\ne\nm\ns\n \n=\n \ns\ne\nt\n(\n)\n\n\n\n\n#\n \nI\nt\ne\nr\na\nt\ne\n \no\nv\ne\nr\n \na\nl\nl\n \ni\nt\ne\nm\ns\n\n\nf\no\nr\n \ni\nt\ne\nm\n \ni\nn\n \nc\nh\na\ni\nn\n(\na\nc\nt\ni\nv\ne\n_\ni\nt\ne\nm\ns\n,\n \ni\nn\na\nc\nt\ni\nv\ne\n_\ni\nt\ne\nm\ns\n)\n:\n\n\n \n \n \n \n#\n \nP\nr\no\nc\ne\ns\ns\n \ni\nt\ne\nm\n\n"
      ]
    },
    {
      "cell_type": "markdown",
      "metadata": {},
      "source": [
        "\u8fd9\u79cd\u89e3\u51b3\u65b9\u6848\u8981\u6bd4\u50cf\u4e0b\u9762\u8fd9\u6837\u4f7f\u7528\u4e24\u4e2a\u5355\u72ec\u7684\u5faa\u73af\u66f4\u52a0\u4f18\u96c5\uff0c"
      ]
    },
    {
      "cell_type": "code",
      "execution_count": null,
      "metadata": {},
      "outputs": [],
      "source": [
        "f\no\nr\n \ni\nt\ne\nm\n \ni\nn\n \na\nc\nt\ni\nv\ne\n_\ni\nt\ne\nm\ns\n:\n\n\n \n \n \n \n#\n \nP\nr\no\nc\ne\ns\ns\n \ni\nt\ne\nm\n\n\n \n \n \n \n.\n.\n.\n\n\n\n\nf\no\nr\n \ni\nt\ne\nm\n \ni\nn\n \ni\nn\na\nc\nt\ni\nv\ne\n_\ni\nt\ne\nm\ns\n:\n\n\n \n \n \n \n#\n \nP\nr\no\nc\ne\ns\ns\n \ni\nt\ne\nm\n\n\n \n \n \n \n.\n.\n.\n\n"
      ]
    },
    {
      "cell_type": "markdown",
      "metadata": {},
      "source": [
        "### \u8ba8\u8bba\n"
      ]
    },
    {
      "cell_type": "markdown",
      "metadata": {},
      "source": [
        "itertools.chain() \u63a5\u53d7\u4e00\u4e2a\u6216\u591a\u4e2a\u53ef\u8fed\u4ee3\u5bf9\u8c61\u4f5c\u4e3a\u8f93\u5165\u53c2\u6570\u3002\n\u7136\u540e\u521b\u5efa\u4e00\u4e2a\u8fed\u4ee3\u5668\uff0c\u4f9d\u6b21\u8fde\u7eed\u7684\u8fd4\u56de\u6bcf\u4e2a\u53ef\u8fed\u4ee3\u5bf9\u8c61\u4e2d\u7684\u5143\u7d20\u3002\n\u8fd9\u79cd\u65b9\u5f0f\u8981\u6bd4\u5148\u5c06\u5e8f\u5217\u5408\u5e76\u518d\u8fed\u4ee3\u8981\u9ad8\u6548\u7684\u591a\u3002\u6bd4\u5982\uff1a"
      ]
    },
    {
      "cell_type": "code",
      "execution_count": null,
      "metadata": {},
      "outputs": [],
      "source": [
        "#\n \nI\nn\ne\nf\nf\ni\nc\ne\nn\nt\n\n\nf\no\nr\n \nx\n \ni\nn\n \na\n \n+\n \nb\n:\n\n\n \n \n \n \n.\n.\n.\n\n\n\n\n#\n \nB\ne\nt\nt\ne\nr\n\n\nf\no\nr\n \nx\n \ni\nn\n \nc\nh\na\ni\nn\n(\na\n,\n \nb\n)\n:\n\n\n \n \n \n \n.\n.\n.\n\n"
      ]
    },
    {
      "cell_type": "markdown",
      "metadata": {},
      "source": [
        "\u7b2c\u4e00\u79cd\u65b9\u6848\u4e2d\uff0c a + b \u64cd\u4f5c\u4f1a\u521b\u5efa\u4e00\u4e2a\u5168\u65b0\u7684\u5e8f\u5217\u5e76\u8981\u6c42a\u548cb\u7684\u7c7b\u578b\u4e00\u81f4\u3002\nchian() \u4e0d\u4f1a\u6709\u8fd9\u4e00\u6b65\uff0c\u6240\u4ee5\u5982\u679c\u8f93\u5165\u5e8f\u5217\u975e\u5e38\u5927\u7684\u65f6\u5019\u4f1a\u5f88\u7701\u5185\u5b58\u3002\n\u5e76\u4e14\u5f53\u53ef\u8fed\u4ee3\u5bf9\u8c61\u7c7b\u578b\u4e0d\u4e00\u6837\u7684\u65f6\u5019 chain() \u540c\u6837\u53ef\u4ee5\u5f88\u597d\u7684\u5de5\u4f5c\u3002"
      ]
    },
    {
      "cell_type": "markdown",
      "metadata": {},
      "source": [
        "## 4.13 \u521b\u5efa\u6570\u636e\u5904\u7406\u7ba1\u9053\n"
      ]
    },
    {
      "cell_type": "markdown",
      "metadata": {},
      "source": [
        "### \u95ee\u9898\n"
      ]
    },
    {
      "cell_type": "markdown",
      "metadata": {},
      "source": [
        "\u4f60\u60f3\u4ee5\u6570\u636e\u7ba1\u9053(\u7c7b\u4f3cUnix\u7ba1\u9053)\u7684\u65b9\u5f0f\u8fed\u4ee3\u5904\u7406\u6570\u636e\u3002\n\u6bd4\u5982\uff0c\u4f60\u6709\u4e2a\u5927\u91cf\u7684\u6570\u636e\u9700\u8981\u5904\u7406\uff0c\u4f46\u662f\u4e0d\u80fd\u5c06\u5b83\u4eec\u4e00\u6b21\u6027\u653e\u5165\u5185\u5b58\u4e2d\u3002"
      ]
    },
    {
      "cell_type": "markdown",
      "metadata": {},
      "source": [
        "### \u89e3\u51b3\u65b9\u6848\n"
      ]
    },
    {
      "cell_type": "markdown",
      "metadata": {},
      "source": [
        "\u751f\u6210\u5668\u51fd\u6570\u662f\u4e00\u4e2a\u5b9e\u73b0\u7ba1\u9053\u673a\u5236\u7684\u597d\u529e\u6cd5\u3002\n\u4e3a\u4e86\u6f14\u793a\uff0c\u5047\u5b9a\u4f60\u8981\u5904\u7406\u4e00\u4e2a\u975e\u5e38\u5927\u7684\u65e5\u5fd7\u6587\u4ef6\u76ee\u5f55\uff1a"
      ]
    },
    {
      "cell_type": "code",
      "execution_count": null,
      "metadata": {},
      "outputs": [],
      "source": [
        "f\no\no\n/\n\n\n \n \n \n \na\nc\nc\ne\ns\ns\n-\nl\no\ng\n-\n0\n1\n2\n0\n0\n7\n.\ng\nz\n\n\n \n \n \n \na\nc\nc\ne\ns\ns\n-\nl\no\ng\n-\n0\n2\n2\n0\n0\n7\n.\ng\nz\n\n\n \n \n \n \na\nc\nc\ne\ns\ns\n-\nl\no\ng\n-\n0\n3\n2\n0\n0\n7\n.\ng\nz\n\n\n \n \n \n \n.\n.\n.\n\n\n \n \n \n \na\nc\nc\ne\ns\ns\n-\nl\no\ng\n-\n0\n1\n2\n0\n0\n8\n\n\nb\na\nr\n/\n\n\n \n \n \n \na\nc\nc\ne\ns\ns\n-\nl\no\ng\n-\n0\n9\n2\n0\n0\n7\n.\nb\nz\n2\n\n\n \n \n \n \n.\n.\n.\n\n\n \n \n \n \na\nc\nc\ne\ns\ns\n-\nl\no\ng\n-\n0\n2\n2\n0\n0\n8\n\n"
      ]
    },
    {
      "cell_type": "markdown",
      "metadata": {},
      "source": [
        "\u5047\u8bbe\u6bcf\u4e2a\u65e5\u5fd7\u6587\u4ef6\u5305\u542b\u8fd9\u6837\u7684\u6570\u636e\uff1a"
      ]
    },
    {
      "cell_type": "code",
      "execution_count": null,
      "metadata": {},
      "outputs": [],
      "source": [
        "1\n2\n4\n.\n1\n1\n5\n.\n6\n.\n1\n2\n \n-\n \n-\n \n[\n1\n0\n/\nJ\nu\nl\n/\n2\n0\n1\n2\n:\n0\n0\n:\n1\n8\n:\n5\n0\n \n-\n0\n5\n0\n0\n]\n \n\"\nG\nE\nT\n \n/\nr\no\nb\no\nt\ns\n.\nt\nx\nt\n \n.\n.\n.\n\"\n \n2\n0\n0\n \n7\n1\n\n\n2\n1\n0\n.\n2\n1\n2\n.\n2\n0\n9\n.\n6\n7\n \n-\n \n-\n \n[\n1\n0\n/\nJ\nu\nl\n/\n2\n0\n1\n2\n:\n0\n0\n:\n1\n8\n:\n5\n1\n \n-\n0\n5\n0\n0\n]\n \n\"\nG\nE\nT\n \n/\np\nl\ny\n/\n \n.\n.\n.\n\"\n \n2\n0\n0\n \n1\n1\n8\n7\n5\n\n\n2\n1\n0\n.\n2\n1\n2\n.\n2\n0\n9\n.\n6\n7\n \n-\n \n-\n \n[\n1\n0\n/\nJ\nu\nl\n/\n2\n0\n1\n2\n:\n0\n0\n:\n1\n8\n:\n5\n1\n \n-\n0\n5\n0\n0\n]\n \n\"\nG\nE\nT\n \n/\nf\na\nv\ni\nc\no\nn\n.\ni\nc\no\n \n.\n.\n.\n\"\n \n4\n0\n4\n \n3\n6\n9\n\n\n6\n1\n.\n1\n3\n5\n.\n2\n1\n6\n.\n1\n0\n5\n \n-\n \n-\n \n[\n1\n0\n/\nJ\nu\nl\n/\n2\n0\n1\n2\n:\n0\n0\n:\n2\n0\n:\n0\n4\n \n-\n0\n5\n0\n0\n]\n \n\"\nG\nE\nT\n \n/\nb\nl\no\ng\n/\na\nt\no\nm\n.\nx\nm\nl\n \n.\n.\n.\n\"\n \n3\n0\n4\n \n-\n\n\n.\n.\n.\n\n"
      ]
    },
    {
      "cell_type": "markdown",
      "metadata": {},
      "source": [
        "\u4e3a\u4e86\u5904\u7406\u8fd9\u4e9b\u6587\u4ef6\uff0c\u4f60\u53ef\u4ee5\u5b9a\u4e49\u4e00\u4e2a\u7531\u591a\u4e2a\u6267\u884c\u7279\u5b9a\u4efb\u52a1\u72ec\u7acb\u4efb\u52a1\u7684\u7b80\u5355\u751f\u6210\u5668\u51fd\u6570\u7ec4\u6210\u7684\u5bb9\u5668\u3002\u5c31\u50cf\u8fd9\u6837\uff1a"
      ]
    },
    {
      "cell_type": "code",
      "execution_count": null,
      "metadata": {},
      "outputs": [],
      "source": [
        "i\nm\np\no\nr\nt\n \no\ns\n\n\ni\nm\np\no\nr\nt\n \nf\nn\nm\na\nt\nc\nh\n\n\ni\nm\np\no\nr\nt\n \ng\nz\ni\np\n\n\ni\nm\np\no\nr\nt\n \nb\nz\n2\n\n\ni\nm\np\no\nr\nt\n \nr\ne\n\n\n\n\nd\ne\nf\n \ng\ne\nn\n_\nf\ni\nn\nd\n(\nf\ni\nl\ne\np\na\nt\n,\n \nt\no\np\n)\n:\n\n\n \n \n \n \n'\n'\n'\n\n\n \n \n \n \nF\ni\nn\nd\n \na\nl\nl\n \nf\ni\nl\ne\nn\na\nm\ne\ns\n \ni\nn\n \na\n \nd\ni\nr\ne\nc\nt\no\nr\ny\n \nt\nr\ne\ne\n \nt\nh\na\nt\n \nm\na\nt\nc\nh\n \na\n \ns\nh\ne\nl\nl\n \nw\ni\nl\nd\nc\na\nr\nd\n \np\na\nt\nt\ne\nr\nn\n\n\n \n \n \n \n'\n'\n'\n\n\n \n \n \n \nf\no\nr\n \np\na\nt\nh\n,\n \nd\ni\nr\nl\ni\ns\nt\n,\n \nf\ni\nl\ne\nl\ni\ns\nt\n \ni\nn\n \no\ns\n.\nw\na\nl\nk\n(\nt\no\np\n)\n:\n\n\n \n \n \n \n \n \n \n \nf\no\nr\n \nn\na\nm\ne\n \ni\nn\n \nf\nn\nm\na\nt\nc\nh\n.\nf\ni\nl\nt\ne\nr\n(\nf\ni\nl\ne\nl\ni\ns\nt\n,\n \nf\ni\nl\ne\np\na\nt\n)\n:\n\n\n \n \n \n \n \n \n \n \n \n \n \n \ny\ni\ne\nl\nd\n \no\ns\n.\np\na\nt\nh\n.\nj\no\ni\nn\n(\np\na\nt\nh\n,\nn\na\nm\ne\n)\n\n\n\n\nd\ne\nf\n \ng\ne\nn\n_\no\np\ne\nn\ne\nr\n(\nf\ni\nl\ne\nn\na\nm\ne\ns\n)\n:\n\n\n \n \n \n \n'\n'\n'\n\n\n \n \n \n \nO\np\ne\nn\n \na\n \ns\ne\nq\nu\ne\nn\nc\ne\n \no\nf\n \nf\ni\nl\ne\nn\na\nm\ne\ns\n \no\nn\ne\n \na\nt\n \na\n \nt\ni\nm\ne\n \np\nr\no\nd\nu\nc\ni\nn\ng\n \na\n \nf\ni\nl\ne\n \no\nb\nj\ne\nc\nt\n.\n\n\n \n \n \n \nT\nh\ne\n \nf\ni\nl\ne\n \ni\ns\n \nc\nl\no\ns\ne\nd\n \ni\nm\nm\ne\nd\ni\na\nt\ne\nl\ny\n \nw\nh\ne\nn\n \np\nr\no\nc\ne\ne\nd\ni\nn\ng\n \nt\no\n \nt\nh\ne\n \nn\ne\nx\nt\n \ni\nt\ne\nr\na\nt\ni\no\nn\n.\n\n\n \n \n \n \n'\n'\n'\n\n\n \n \n \n \nf\no\nr\n \nf\ni\nl\ne\nn\na\nm\ne\n \ni\nn\n \nf\ni\nl\ne\nn\na\nm\ne\ns\n:\n\n\n \n \n \n \n \n \n \n \ni\nf\n \nf\ni\nl\ne\nn\na\nm\ne\n.\ne\nn\nd\ns\nw\ni\nt\nh\n(\n'\n.\ng\nz\n'\n)\n:\n\n\n \n \n \n \n \n \n \n \n \n \n \n \nf\n \n=\n \ng\nz\ni\np\n.\no\np\ne\nn\n(\nf\ni\nl\ne\nn\na\nm\ne\n,\n \n'\nr\nt\n'\n)\n\n\n \n \n \n \n \n \n \n \ne\nl\ni\nf\n \nf\ni\nl\ne\nn\na\nm\ne\n.\ne\nn\nd\ns\nw\ni\nt\nh\n(\n'\n.\nb\nz\n2\n'\n)\n:\n\n\n \n \n \n \n \n \n \n \n \n \n \n \nf\n \n=\n \nb\nz\n2\n.\no\np\ne\nn\n(\nf\ni\nl\ne\nn\na\nm\ne\n,\n \n'\nr\nt\n'\n)\n\n\n \n \n \n \n \n \n \n \ne\nl\ns\ne\n:\n\n\n \n \n \n \n \n \n \n \n \n \n \n \nf\n \n=\n \no\np\ne\nn\n(\nf\ni\nl\ne\nn\na\nm\ne\n,\n \n'\nr\nt\n'\n)\n\n\n \n \n \n \n \n \n \n \ny\ni\ne\nl\nd\n \nf\n\n\n \n \n \n \n \n \n \n \nf\n.\nc\nl\no\ns\ne\n(\n)\n\n\n\n\nd\ne\nf\n \ng\ne\nn\n_\nc\no\nn\nc\na\nt\ne\nn\na\nt\ne\n(\ni\nt\ne\nr\na\nt\no\nr\ns\n)\n:\n\n\n \n \n \n \n'\n'\n'\n\n\n \n \n \n \nC\nh\na\ni\nn\n \na\n \ns\ne\nq\nu\ne\nn\nc\ne\n \no\nf\n \ni\nt\ne\nr\na\nt\no\nr\ns\n \nt\no\ng\ne\nt\nh\ne\nr\n \ni\nn\nt\no\n \na\n \ns\ni\nn\ng\nl\ne\n \ns\ne\nq\nu\ne\nn\nc\ne\n.\n\n\n \n \n \n \n'\n'\n'\n\n\n \n \n \n \nf\no\nr\n \ni\nt\n \ni\nn\n \ni\nt\ne\nr\na\nt\no\nr\ns\n:\n\n\n \n \n \n \n \n \n \n \ny\ni\ne\nl\nd\n \nf\nr\no\nm\n \ni\nt\n\n\n\n\nd\ne\nf\n \ng\ne\nn\n_\ng\nr\ne\np\n(\np\na\nt\nt\ne\nr\nn\n,\n \nl\ni\nn\ne\ns\n)\n:\n\n\n \n \n \n \n'\n'\n'\n\n\n \n \n \n \nL\no\no\nk\n \nf\no\nr\n \na\n \nr\ne\ng\ne\nx\n \np\na\nt\nt\ne\nr\nn\n \ni\nn\n \na\n \ns\ne\nq\nu\ne\nn\nc\ne\n \no\nf\n \nl\ni\nn\ne\ns\n\n\n \n \n \n \n'\n'\n'\n\n\n \n \n \n \np\na\nt\n \n=\n \nr\ne\n.\nc\no\nm\np\ni\nl\ne\n(\np\na\nt\nt\ne\nr\nn\n)\n\n\n \n \n \n \nf\no\nr\n \nl\ni\nn\ne\n \ni\nn\n \nl\ni\nn\ne\ns\n:\n\n\n \n \n \n \n \n \n \n \ni\nf\n \np\na\nt\n.\ns\ne\na\nr\nc\nh\n(\nl\ni\nn\ne\n)\n:\n\n\n \n \n \n \n \n \n \n \n \n \n \n \ny\ni\ne\nl\nd\n \nl\ni\nn\ne\n\n"
      ]
    },
    {
      "cell_type": "markdown",
      "metadata": {},
      "source": [
        "\u73b0\u5728\u4f60\u53ef\u4ee5\u5f88\u5bb9\u6613\u7684\u5c06\u8fd9\u4e9b\u51fd\u6570\u8fde\u8d77\u6765\u521b\u5efa\u4e00\u4e2a\u5904\u7406\u7ba1\u9053\u3002\n\u6bd4\u5982\uff0c\u4e3a\u4e86\u67e5\u627e\u5305\u542b\u5355\u8bcdpython\u7684\u6240\u6709\u65e5\u5fd7\u884c\uff0c\u4f60\u53ef\u4ee5\u8fd9\u6837\u505a\uff1a"
      ]
    },
    {
      "cell_type": "code",
      "execution_count": null,
      "metadata": {},
      "outputs": [],
      "source": [
        "l\no\ng\nn\na\nm\ne\ns\n \n=\n \ng\ne\nn\n_\nf\ni\nn\nd\n(\n'\na\nc\nc\ne\ns\ns\n-\nl\no\ng\n*\n'\n,\n \n'\nw\nw\nw\n'\n)\n\n\nf\ni\nl\ne\ns\n \n=\n \ng\ne\nn\n_\no\np\ne\nn\ne\nr\n(\nl\no\ng\nn\na\nm\ne\ns\n)\n\n\nl\ni\nn\ne\ns\n \n=\n \ng\ne\nn\n_\nc\no\nn\nc\na\nt\ne\nn\na\nt\ne\n(\nf\ni\nl\ne\ns\n)\n\n\np\ny\nl\ni\nn\ne\ns\n \n=\n \ng\ne\nn\n_\ng\nr\ne\np\n(\n'\n(\n?\ni\n)\np\ny\nt\nh\no\nn\n'\n,\n \nl\ni\nn\ne\ns\n)\n\n\nf\no\nr\n \nl\ni\nn\ne\n \ni\nn\n \np\ny\nl\ni\nn\ne\ns\n:\n\n\n \n \n \n \np\nr\ni\nn\nt\n(\nl\ni\nn\ne\n)\n\n"
      ]
    },
    {
      "cell_type": "markdown",
      "metadata": {},
      "source": [
        "\u5982\u679c\u5c06\u6765\u7684\u65f6\u5019\u4f60\u60f3\u6269\u5c55\u7ba1\u9053\uff0c\u4f60\u751a\u81f3\u53ef\u4ee5\u5728\u751f\u6210\u5668\u8868\u8fbe\u5f0f\u4e2d\u5305\u88c5\u6570\u636e\u3002\n\u6bd4\u5982\uff0c\u4e0b\u9762\u8fd9\u4e2a\u7248\u672c\u8ba1\u7b97\u51fa\u4f20\u8f93\u7684\u5b57\u8282\u6570\u5e76\u8ba1\u7b97\u5176\u603b\u548c\u3002"
      ]
    },
    {
      "cell_type": "code",
      "execution_count": null,
      "metadata": {},
      "outputs": [],
      "source": [
        "l\no\ng\nn\na\nm\ne\ns\n \n=\n \ng\ne\nn\n_\nf\ni\nn\nd\n(\n'\na\nc\nc\ne\ns\ns\n-\nl\no\ng\n*\n'\n,\n \n'\nw\nw\nw\n'\n)\n\n\nf\ni\nl\ne\ns\n \n=\n \ng\ne\nn\n_\no\np\ne\nn\ne\nr\n(\nl\no\ng\nn\na\nm\ne\ns\n)\n\n\nl\ni\nn\ne\ns\n \n=\n \ng\ne\nn\n_\nc\no\nn\nc\na\nt\ne\nn\na\nt\ne\n(\nf\ni\nl\ne\ns\n)\n\n\np\ny\nl\ni\nn\ne\ns\n \n=\n \ng\ne\nn\n_\ng\nr\ne\np\n(\n'\n(\n?\ni\n)\np\ny\nt\nh\no\nn\n'\n,\n \nl\ni\nn\ne\ns\n)\n\n\nb\ny\nt\ne\nc\no\nl\nu\nm\nn\n \n=\n \n(\nl\ni\nn\ne\n.\nr\ns\np\nl\ni\nt\n(\nN\no\nn\ne\n,\n1\n)\n[\n1\n]\n \nf\no\nr\n \nl\ni\nn\ne\n \ni\nn\n \np\ny\nl\ni\nn\ne\ns\n)\n\n\nb\ny\nt\ne\ns\n \n=\n \n(\ni\nn\nt\n(\nx\n)\n \nf\no\nr\n \nx\n \ni\nn\n \nb\ny\nt\ne\nc\no\nl\nu\nm\nn\n \ni\nf\n \nx\n \n!\n=\n \n'\n-\n'\n)\n\n\np\nr\ni\nn\nt\n(\n'\nT\no\nt\na\nl\n'\n,\n \ns\nu\nm\n(\nb\ny\nt\ne\ns\n)\n)\n\n"
      ]
    },
    {
      "cell_type": "markdown",
      "metadata": {},
      "source": [
        "### \u8ba8\u8bba\n"
      ]
    },
    {
      "cell_type": "markdown",
      "metadata": {},
      "source": [
        "\u4ee5\u7ba1\u9053\u65b9\u5f0f\u5904\u7406\u6570\u636e\u53ef\u4ee5\u7528\u6765\u89e3\u51b3\u5404\u7c7b\u5176\u4ed6\u95ee\u9898\uff0c\u5305\u62ec\u89e3\u6790\uff0c\u8bfb\u53d6\u5b9e\u65f6\u6570\u636e\uff0c\u5b9a\u65f6\u8f6e\u8be2\u7b49\u3002"
      ]
    },
    {
      "cell_type": "markdown",
      "metadata": {},
      "source": [
        "\u4e3a\u4e86\u7406\u89e3\u4e0a\u8ff0\u4ee3\u7801\uff0c\u91cd\u70b9\u662f\u8981\u660e\u767d yield \u8bed\u53e5\u4f5c\u4e3a\u6570\u636e\u7684\u751f\u4ea7\u8005\u800c for \u5faa\u73af\u8bed\u53e5\u4f5c\u4e3a\u6570\u636e\u7684\u6d88\u8d39\u8005\u3002\n\u5f53\u8fd9\u4e9b\u751f\u6210\u5668\u88ab\u8fde\u5728\u4e00\u8d77\u540e\uff0c\u6bcf\u4e2a yield \u4f1a\u5c06\u4e00\u4e2a\u5355\u72ec\u7684\u6570\u636e\u5143\u7d20\u4f20\u9012\u7ed9\u8fed\u4ee3\u5904\u7406\u7ba1\u9053\u7684\u4e0b\u4e00\u9636\u6bb5\u3002\n\u5728\u4f8b\u5b50\u6700\u540e\u90e8\u5206\uff0c sum() \u51fd\u6570\u662f\u6700\u7ec8\u7684\u7a0b\u5e8f\u9a71\u52a8\u8005\uff0c\u6bcf\u6b21\u4ece\u751f\u6210\u5668\u7ba1\u9053\u4e2d\u63d0\u53d6\u51fa\u4e00\u4e2a\u5143\u7d20\u3002"
      ]
    },
    {
      "cell_type": "markdown",
      "metadata": {},
      "source": [
        "\u8fd9\u79cd\u65b9\u5f0f\u4e00\u4e2a\u975e\u5e38\u597d\u7684\u7279\u70b9\u662f\u6bcf\u4e2a\u751f\u6210\u5668\u51fd\u6570\u5f88\u5c0f\u5e76\u4e14\u90fd\u662f\u72ec\u7acb\u7684\u3002\u8fd9\u6837\u7684\u8bdd\u5c31\u5f88\u5bb9\u6613\u7f16\u5199\u548c\u7ef4\u62a4\u5b83\u4eec\u4e86\u3002\n\u5f88\u591a\u65f6\u5019\uff0c\u8fd9\u4e9b\u51fd\u6570\u5982\u679c\u6bd4\u8f83\u901a\u7528\u7684\u8bdd\u53ef\u4ee5\u5728\u5176\u4ed6\u573a\u666f\u91cd\u590d\u4f7f\u7528\u3002\n\u5e76\u4e14\u6700\u7ec8\u5c06\u8fd9\u4e9b\u7ec4\u4ef6\u7ec4\u5408\u8d77\u6765\u7684\u4ee3\u7801\u770b\u4e0a\u53bb\u975e\u5e38\u7b80\u5355\uff0c\u4e5f\u5f88\u5bb9\u6613\u7406\u89e3\u3002"
      ]
    },
    {
      "cell_type": "markdown",
      "metadata": {},
      "source": [
        "\u4f7f\u7528\u8fd9\u79cd\u65b9\u5f0f\u7684\u5185\u5b58\u6548\u7387\u4e5f\u4e0d\u5f97\u4e0d\u63d0\u3002\u4e0a\u8ff0\u4ee3\u7801\u5373\u4fbf\u662f\u5728\u4e00\u4e2a\u8d85\u5927\u578b\u6587\u4ef6\u76ee\u5f55\u4e2d\u4e5f\u80fd\u5de5\u4f5c\u7684\u5f88\u597d\u3002\n\u4e8b\u5b9e\u4e0a\uff0c\u7531\u4e8e\u4f7f\u7528\u4e86\u8fed\u4ee3\u65b9\u5f0f\u5904\u7406\uff0c\u4ee3\u7801\u8fd0\u884c\u8fc7\u7a0b\u4e2d\u53ea\u9700\u8981\u5f88\u5c0f\u5f88\u5c0f\u7684\u5185\u5b58\u3002"
      ]
    },
    {
      "cell_type": "markdown",
      "metadata": {},
      "source": [
        "\u5728\u8c03\u7528 gen_concatenate() \u51fd\u6570\u7684\u65f6\u5019\u4f60\u53ef\u80fd\u4f1a\u6709\u4e9b\u4e0d\u592a\u660e\u767d\u3002\n\u8fd9\u4e2a\u51fd\u6570\u7684\u76ee\u7684\u662f\u5c06\u8f93\u5165\u5e8f\u5217\u62fc\u63a5\u6210\u4e00\u4e2a\u5f88\u957f\u7684\u884c\u5e8f\u5217\u3002\nitertools.chain() \u51fd\u6570\u540c\u6837\u6709\u7c7b\u4f3c\u7684\u529f\u80fd\uff0c\u4f46\u662f\u5b83\u9700\u8981\u5c06\u6240\u6709\u53ef\u8fed\u4ee3\u5bf9\u8c61\u6700\u4e3a\u53c2\u6570\u4f20\u5165\u3002\n\u5728\u4e0a\u9762\u8fd9\u4e2a\u4f8b\u5b50\u4e2d\uff0c\u4f60\u53ef\u80fd\u4f1a\u5199\u7c7b\u4f3c\u8fd9\u6837\u7684\u8bed\u53e5 lines = itertools.chain(*files) \uff0c\n\u8fd9\u5c06\u5bfc\u81f4 gen_opener() \u751f\u6210\u5668\u88ab\u63d0\u524d\u5168\u90e8\u6d88\u8d39\u6389\u3002\n\u4f46\u7531\u4e8e gen_opener() \u751f\u6210\u5668\u6bcf\u6b21\u751f\u6210\u4e00\u4e2a\u6253\u5f00\u8fc7\u7684\u6587\u4ef6\uff0c\n\u7b49\u5230\u4e0b\u4e00\u4e2a\u8fed\u4ee3\u6b65\u9aa4\u65f6\u6587\u4ef6\u5c31\u5173\u95ed\u4e86\uff0c\u56e0\u6b64 chain() \u5728\u8fd9\u91cc\u4e0d\u80fd\u8fd9\u6837\u4f7f\u7528\u3002\n\u4e0a\u9762\u7684\u65b9\u6848\u53ef\u4ee5\u907f\u514d\u8fd9\u79cd\u60c5\u51b5\u3002"
      ]
    },
    {
      "cell_type": "markdown",
      "metadata": {},
      "source": [
        "gen_concatenate() \u51fd\u6570\u4e2d\u51fa\u73b0\u8fc7 yield from \u8bed\u53e5\uff0c\u5b83\u5c06 yield \u64cd\u4f5c\u4ee3\u7406\u5230\u7236\u751f\u6210\u5668\u4e0a\u53bb\u3002\n\u8bed\u53e5 yield from it \u7b80\u5355\u7684\u8fd4\u56de\u751f\u6210\u5668 it \u6240\u4ea7\u751f\u7684\u6240\u6709\u503c\u3002\n\u5173\u4e8e\u8fd9\u4e2a\u6211\u4eec\u57284.14\u5c0f\u8282\u4f1a\u6709\u66f4\u8fdb\u4e00\u6b65\u7684\u63cf\u8ff0\u3002"
      ]
    },
    {
      "cell_type": "markdown",
      "metadata": {},
      "source": [
        "\u6700\u540e\u8fd8\u6709\u4e00\u70b9\u9700\u8981\u6ce8\u610f\u7684\u662f\uff0c\u7ba1\u9053\u65b9\u5f0f\u5e76\u4e0d\u662f\u4e07\u80fd\u7684\u3002\n\u6709\u65f6\u5019\u4f60\u60f3\u7acb\u5373\u5904\u7406\u6240\u6709\u6570\u636e\u3002\n\u7136\u800c\uff0c\u5373\u4fbf\u662f\u8fd9\u79cd\u60c5\u51b5\uff0c\u4f7f\u7528\u751f\u6210\u5668\u7ba1\u9053\u4e5f\u53ef\u4ee5\u5c06\u8fd9\u7c7b\u95ee\u9898\u4ece\u903b\u8f91\u4e0a\u53d8\u4e3a\u5de5\u4f5c\u6d41\u7684\u5904\u7406\u65b9\u5f0f\u3002"
      ]
    },
    {
      "cell_type": "markdown",
      "metadata": {},
      "source": [
        "David Beazley \u5728\u4ed6\u7684\nGenerator Tricks for Systems Programmers\n\u6559\u7a0b\u4e2d\u5bf9\u4e8e\u8fd9\u79cd\u6280\u672f\u6709\u975e\u5e38\u6df1\u5165\u7684\u8bb2\u89e3\u3002\u53ef\u4ee5\u53c2\u8003\u8fd9\u4e2a\u6559\u7a0b\u83b7\u53d6\u66f4\u591a\u7684\u4fe1\u606f\u3002"
      ]
    },
    {
      "cell_type": "markdown",
      "metadata": {},
      "source": [
        "## 4.14 \u5c55\u5f00\u5d4c\u5957\u7684\u5e8f\u5217\n"
      ]
    },
    {
      "cell_type": "markdown",
      "metadata": {},
      "source": [
        "### \u95ee\u9898\n"
      ]
    },
    {
      "cell_type": "markdown",
      "metadata": {},
      "source": [
        "\u4f60\u60f3\u5c06\u4e00\u4e2a\u591a\u5c42\u5d4c\u5957\u7684\u5e8f\u5217\u5c55\u5f00\u6210\u4e00\u4e2a\u5355\u5c42\u5217\u8868"
      ]
    },
    {
      "cell_type": "markdown",
      "metadata": {},
      "source": [
        "### \u89e3\u51b3\u65b9\u6848\n"
      ]
    },
    {
      "cell_type": "markdown",
      "metadata": {},
      "source": [
        "\u53ef\u4ee5\u5199\u4e00\u4e2a\u5305\u542b yield from \u8bed\u53e5\u7684\u9012\u5f52\u751f\u6210\u5668\u6765\u8f7b\u677e\u89e3\u51b3\u8fd9\u4e2a\u95ee\u9898\u3002\u6bd4\u5982\uff1a"
      ]
    },
    {
      "cell_type": "code",
      "execution_count": null,
      "metadata": {},
      "outputs": [],
      "source": [
        "f\nr\no\nm\n \nc\no\nl\nl\ne\nc\nt\ni\no\nn\ns\n \ni\nm\np\no\nr\nt\n \nI\nt\ne\nr\na\nb\nl\ne\n\n\n\n\nd\ne\nf\n \nf\nl\na\nt\nt\ne\nn\n(\ni\nt\ne\nm\ns\n,\n \ni\ng\nn\no\nr\ne\n_\nt\ny\np\ne\ns\n=\n(\ns\nt\nr\n,\n \nb\ny\nt\ne\ns\n)\n)\n:\n\n\n \n \n \n \nf\no\nr\n \nx\n \ni\nn\n \ni\nt\ne\nm\ns\n:\n\n\n \n \n \n \n \n \n \n \ni\nf\n \ni\ns\ni\nn\ns\nt\na\nn\nc\ne\n(\nx\n,\n \nI\nt\ne\nr\na\nb\nl\ne\n)\n \na\nn\nd\n \nn\no\nt\n \ni\ns\ni\nn\ns\nt\na\nn\nc\ne\n(\nx\n,\n \ni\ng\nn\no\nr\ne\n_\nt\ny\np\ne\ns\n)\n:\n\n\n \n \n \n \n \n \n \n \n \n \n \n \ny\ni\ne\nl\nd\n \nf\nr\no\nm\n \nf\nl\na\nt\nt\ne\nn\n(\nx\n)\n\n\n \n \n \n \n \n \n \n \ne\nl\ns\ne\n:\n\n\n \n \n \n \n \n \n \n \n \n \n \n \ny\ni\ne\nl\nd\n \nx\n\n\n\n\ni\nt\ne\nm\ns\n \n=\n \n[\n1\n,\n \n2\n,\n \n[\n3\n,\n \n4\n,\n \n[\n5\n,\n \n6\n]\n,\n \n7\n]\n,\n \n8\n]\n\n\n#\n \nP\nr\no\nd\nu\nc\ne\ns\n \n1\n \n2\n \n3\n \n4\n \n5\n \n6\n \n7\n \n8\n\n\nf\no\nr\n \nx\n \ni\nn\n \nf\nl\na\nt\nt\ne\nn\n(\ni\nt\ne\nm\ns\n)\n:\n\n\n \n \n \n \np\nr\ni\nn\nt\n(\nx\n)\n\n"
      ]
    },
    {
      "cell_type": "markdown",
      "metadata": {},
      "source": [
        "\u5728\u4e0a\u9762\u4ee3\u7801\u4e2d\uff0c isinstance(x, Iterable) \u68c0\u67e5\u67d0\u4e2a\u5143\u7d20\u662f\u5426\u662f\u53ef\u8fed\u4ee3\u7684\u3002\n\u5982\u679c\u662f\u7684\u8bdd\uff0c yield from \u5c31\u4f1a\u8fd4\u56de\u6240\u6709\u5b50\u4f8b\u7a0b\u7684\u503c\u3002\u6700\u7ec8\u8fd4\u56de\u7ed3\u679c\u5c31\u662f\u4e00\u4e2a\u6ca1\u6709\u5d4c\u5957\u7684\u7b80\u5355\u5e8f\u5217\u4e86\u3002"
      ]
    },
    {
      "cell_type": "markdown",
      "metadata": {},
      "source": [
        "\u989d\u5916\u7684\u53c2\u6570 ignore_types \u548c\u68c0\u6d4b\u8bed\u53e5 isinstance(x, ignore_types)\n\u7528\u6765\u5c06\u5b57\u7b26\u4e32\u548c\u5b57\u8282\u6392\u9664\u5728\u53ef\u8fed\u4ee3\u5bf9\u8c61\u5916\uff0c\u9632\u6b62\u5c06\u5b83\u4eec\u518d\u5c55\u5f00\u6210\u5355\u4e2a\u7684\u5b57\u7b26\u3002\n\u8fd9\u6837\u7684\u8bdd\u5b57\u7b26\u4e32\u6570\u7ec4\u5c31\u80fd\u6700\u7ec8\u8fd4\u56de\u6211\u4eec\u6240\u671f\u671b\u7684\u7ed3\u679c\u4e86\u3002\u6bd4\u5982\uff1a"
      ]
    },
    {
      "cell_type": "code",
      "execution_count": null,
      "metadata": {},
      "outputs": [],
      "source": [
        "items = ['Dave', 'Paula', ['Thomas', 'Lewis']]\nfor x in flatten(items):\n    print(x)"
      ]
    },
    {
      "cell_type": "markdown",
      "metadata": {},
      "source": [
        "### \u8ba8\u8bba\n"
      ]
    },
    {
      "cell_type": "markdown",
      "metadata": {},
      "source": [
        "\u8bed\u53e5 yield from \u5728\u4f60\u60f3\u5728\u751f\u6210\u5668\u4e2d\u8c03\u7528\u5176\u4ed6\u751f\u6210\u5668\u4f5c\u4e3a\u5b50\u4f8b\u7a0b\u7684\u65f6\u5019\u975e\u5e38\u6709\u7528\u3002\n\u5982\u679c\u4f60\u4e0d\u4f7f\u7528\u5b83\u7684\u8bdd\uff0c\u90a3\u4e48\u5c31\u5fc5\u987b\u5199\u989d\u5916\u7684 for \u5faa\u73af\u4e86\u3002\u6bd4\u5982\uff1a"
      ]
    },
    {
      "cell_type": "code",
      "execution_count": null,
      "metadata": {},
      "outputs": [],
      "source": [
        "d\ne\nf\n \nf\nl\na\nt\nt\ne\nn\n(\ni\nt\ne\nm\ns\n,\n \ni\ng\nn\no\nr\ne\n_\nt\ny\np\ne\ns\n=\n(\ns\nt\nr\n,\n \nb\ny\nt\ne\ns\n)\n)\n:\n\n\n \n \n \n \nf\no\nr\n \nx\n \ni\nn\n \ni\nt\ne\nm\ns\n:\n\n\n \n \n \n \n \n \n \n \ni\nf\n \ni\ns\ni\nn\ns\nt\na\nn\nc\ne\n(\nx\n,\n \nI\nt\ne\nr\na\nb\nl\ne\n)\n \na\nn\nd\n \nn\no\nt\n \ni\ns\ni\nn\ns\nt\na\nn\nc\ne\n(\nx\n,\n \ni\ng\nn\no\nr\ne\n_\nt\ny\np\ne\ns\n)\n:\n\n\n \n \n \n \n \n \n \n \n \n \n \n \nf\no\nr\n \ni\n \ni\nn\n \nf\nl\na\nt\nt\ne\nn\n(\nx\n)\n:\n\n\n \n \n \n \n \n \n \n \n \n \n \n \n \n \n \n \ny\ni\ne\nl\nd\n \ni\n\n\n \n \n \n \n \n \n \n \ne\nl\ns\ne\n:\n\n\n \n \n \n \n \n \n \n \n \n \n \n \ny\ni\ne\nl\nd\n \nx\n\n"
      ]
    },
    {
      "cell_type": "markdown",
      "metadata": {},
      "source": [
        "\u5c3d\u7ba1\u53ea\u6539\u4e86\u4e00\u70b9\u70b9\uff0c\u4f46\u662f yield from \u8bed\u53e5\u770b\u4e0a\u53bb\u611f\u89c9\u66f4\u597d\uff0c\u5e76\u4e14\u4e5f\u4f7f\u5f97\u4ee3\u7801\u66f4\u7b80\u6d01\u6e05\u723d\u3002"
      ]
    },
    {
      "cell_type": "markdown",
      "metadata": {},
      "source": [
        "\u4e4b\u524d\u63d0\u5230\u7684\u5bf9\u4e8e\u5b57\u7b26\u4e32\u548c\u5b57\u8282\u7684\u989d\u5916\u68c0\u67e5\u662f\u4e3a\u4e86\u9632\u6b62\u5c06\u5b83\u4eec\u518d\u5c55\u5f00\u6210\u5355\u4e2a\u5b57\u7b26\u3002\n\u5982\u679c\u8fd8\u6709\u5176\u4ed6\u4f60\u4e0d\u60f3\u5c55\u5f00\u7684\u7c7b\u578b\uff0c\u4fee\u6539\u53c2\u6570 ignore_types \u5373\u53ef\u3002"
      ]
    },
    {
      "cell_type": "markdown",
      "metadata": {},
      "source": [
        "\u6700\u540e\u8981\u6ce8\u610f\u7684\u4e00\u70b9\u662f\uff0c yield from \u5728\u6d89\u53ca\u5230\u57fa\u4e8e\u534f\u7a0b\u548c\u751f\u6210\u5668\u7684\u5e76\u53d1\u7f16\u7a0b\u4e2d\u626e\u6f14\u7740\u66f4\u52a0\u91cd\u8981\u7684\u89d2\u8272\u3002\n\u53ef\u4ee5\u53c2\u800312.12\u5c0f\u8282\u67e5\u770b\u53e6\u5916\u4e00\u4e2a\u4f8b\u5b50\u3002"
      ]
    },
    {
      "cell_type": "markdown",
      "metadata": {},
      "source": [
        "## 4.15 \u987a\u5e8f\u8fed\u4ee3\u5408\u5e76\u540e\u7684\u6392\u5e8f\u8fed\u4ee3\u5bf9\u8c61\n"
      ]
    },
    {
      "cell_type": "markdown",
      "metadata": {},
      "source": [
        "### \u95ee\u9898\n"
      ]
    },
    {
      "cell_type": "markdown",
      "metadata": {},
      "source": [
        "\u4f60\u6709\u4e00\u7cfb\u5217\u6392\u5e8f\u5e8f\u5217\uff0c\u60f3\u5c06\u5b83\u4eec\u5408\u5e76\u540e\u5f97\u5230\u4e00\u4e2a\u6392\u5e8f\u5e8f\u5217\u5e76\u5728\u4e0a\u9762\u8fed\u4ee3\u904d\u5386\u3002"
      ]
    },
    {
      "cell_type": "markdown",
      "metadata": {},
      "source": [
        "### \u89e3\u51b3\u65b9\u6848\n"
      ]
    },
    {
      "cell_type": "markdown",
      "metadata": {},
      "source": [
        "heapq.merge() \u51fd\u6570\u53ef\u4ee5\u5e2e\u4f60\u89e3\u51b3\u8fd9\u4e2a\u95ee\u9898\u3002\u6bd4\u5982\uff1a"
      ]
    },
    {
      "cell_type": "code",
      "execution_count": null,
      "metadata": {},
      "outputs": [],
      "source": [
        "import heapq\na = [1, 4, 7, 10]\nb = [2, 5, 6, 11]\nfor c in heapq.merge(a, b):\n    print(c)"
      ]
    },
    {
      "cell_type": "markdown",
      "metadata": {},
      "source": [
        "### \u8ba8\u8bba\n"
      ]
    },
    {
      "cell_type": "markdown",
      "metadata": {},
      "source": [
        "heapq.merge \u53ef\u8fed\u4ee3\u7279\u6027\u610f\u5473\u7740\u5b83\u4e0d\u4f1a\u7acb\u9a6c\u8bfb\u53d6\u6240\u6709\u5e8f\u5217\u3002\n\u8fd9\u5c31\u610f\u5473\u7740\u4f60\u53ef\u4ee5\u5728\u975e\u5e38\u957f\u7684\u5e8f\u5217\u4e2d\u4f7f\u7528\u5b83\uff0c\u800c\u4e0d\u4f1a\u6709\u592a\u5927\u7684\u5f00\u9500\u3002\n\u6bd4\u5982\uff0c\u4e0b\u9762\u662f\u4e00\u4e2a\u4f8b\u5b50\u6765\u6f14\u793a\u5982\u4f55\u5408\u5e76\u4e24\u4e2a\u6392\u5e8f\u6587\u4ef6\uff1a"
      ]
    },
    {
      "cell_type": "code",
      "execution_count": null,
      "metadata": {},
      "outputs": [],
      "source": [
        "w\ni\nt\nh\n \no\np\ne\nn\n(\n'\ns\no\nr\nt\ne\nd\n_\nf\ni\nl\ne\n_\n1\n'\n,\n \n'\nr\nt\n'\n)\n \na\ns\n \nf\ni\nl\ne\n1\n,\n \n\\\n\n\n \n \n \n \no\np\ne\nn\n(\n'\ns\no\nr\nt\ne\nd\n_\nf\ni\nl\ne\n_\n2\n'\n,\n \n'\nr\nt\n'\n)\n \na\ns\n \nf\ni\nl\ne\n2\n,\n \n\\\n\n\n \n \n \n \no\np\ne\nn\n(\n'\nm\ne\nr\ng\ne\nd\n_\nf\ni\nl\ne\n'\n,\n \n'\nw\nt\n'\n)\n \na\ns\n \no\nu\nt\nf\n:\n\n\n\n\n \n \n \n \nf\no\nr\n \nl\ni\nn\ne\n \ni\nn\n \nh\ne\na\np\nq\n.\nm\ne\nr\ng\ne\n(\nf\ni\nl\ne\n1\n,\n \nf\ni\nl\ne\n2\n)\n:\n\n\n \n \n \n \n \n \n \n \no\nu\nt\nf\n.\nw\nr\ni\nt\ne\n(\nl\ni\nn\ne\n)\n\n"
      ]
    },
    {
      "cell_type": "markdown",
      "metadata": {},
      "source": [
        "\u6709\u4e00\u70b9\u8981\u5f3a\u8c03\u7684\u662f heapq.merge() \u9700\u8981\u6240\u6709\u8f93\u5165\u5e8f\u5217\u5fc5\u987b\u662f\u6392\u8fc7\u5e8f\u7684\u3002\n\u7279\u522b\u7684\uff0c\u5b83\u5e76\u4e0d\u4f1a\u9884\u5148\u8bfb\u53d6\u6240\u6709\u6570\u636e\u5230\u5806\u6808\u4e2d\u6216\u8005\u9884\u5148\u6392\u5e8f\uff0c\u4e5f\u4e0d\u4f1a\u5bf9\u8f93\u5165\u505a\u4efb\u4f55\u7684\u6392\u5e8f\u68c0\u6d4b\u3002\n\u5b83\u4ec5\u4ec5\u662f\u68c0\u67e5\u6240\u6709\u5e8f\u5217\u7684\u5f00\u59cb\u90e8\u5206\u5e76\u8fd4\u56de\u6700\u5c0f\u7684\u90a3\u4e2a\uff0c\u8fd9\u4e2a\u8fc7\u7a0b\u4e00\u76f4\u4f1a\u6301\u7eed\u76f4\u5230\u6240\u6709\u8f93\u5165\u5e8f\u5217\u4e2d\u7684\u5143\u7d20\u90fd\u88ab\u904d\u5386\u5b8c\u3002"
      ]
    },
    {
      "cell_type": "markdown",
      "metadata": {},
      "source": [
        "## 4.16 \u8fed\u4ee3\u5668\u4ee3\u66ffwhile\u65e0\u9650\u5faa\u73af\n"
      ]
    },
    {
      "cell_type": "markdown",
      "metadata": {},
      "source": [
        "### \u95ee\u9898\n"
      ]
    },
    {
      "cell_type": "markdown",
      "metadata": {},
      "source": [
        "\u4f60\u5728\u4ee3\u7801\u4e2d\u4f7f\u7528 while \u5faa\u73af\u6765\u8fed\u4ee3\u5904\u7406\u6570\u636e\uff0c\u56e0\u4e3a\u5b83\u9700\u8981\u8c03\u7528\u67d0\u4e2a\u51fd\u6570\u6216\u8005\u548c\u4e00\u822c\u8fed\u4ee3\u6a21\u5f0f\u4e0d\u540c\u7684\u6d4b\u8bd5\u6761\u4ef6\u3002\n\u80fd\u4e0d\u80fd\u7528\u8fed\u4ee3\u5668\u6765\u91cd\u5199\u8fd9\u4e2a\u5faa\u73af\u5462\uff1f"
      ]
    },
    {
      "cell_type": "markdown",
      "metadata": {},
      "source": [
        "### \u89e3\u51b3\u65b9\u6848\n"
      ]
    },
    {
      "cell_type": "markdown",
      "metadata": {},
      "source": [
        "\u4e00\u4e2a\u5e38\u89c1\u7684IO\u64cd\u4f5c\u7a0b\u5e8f\u53ef\u80fd\u4f1a\u60f3\u4e0b\u9762\u8fd9\u6837\uff1a"
      ]
    },
    {
      "cell_type": "code",
      "execution_count": null,
      "metadata": {},
      "outputs": [],
      "source": [
        "C\nH\nU\nN\nK\nS\nI\nZ\nE\n \n=\n \n8\n1\n9\n2\n\n\n\n\nd\ne\nf\n \nr\ne\na\nd\ne\nr\n(\ns\n)\n:\n\n\n \n \n \n \nw\nh\ni\nl\ne\n \nT\nr\nu\ne\n:\n\n\n \n \n \n \n \n \n \n \nd\na\nt\na\n \n=\n \ns\n.\nr\ne\nc\nv\n(\nC\nH\nU\nN\nK\nS\nI\nZ\nE\n)\n\n\n \n \n \n \n \n \n \n \ni\nf\n \nd\na\nt\na\n \n=\n=\n \nb\n'\n'\n:\n\n\n \n \n \n \n \n \n \n \n \n \n \n \nb\nr\ne\na\nk\n\n\n \n \n \n \n \n \n \n \np\nr\no\nc\ne\ns\ns\n_\nd\na\nt\na\n(\nd\na\nt\na\n)\n\n"
      ]
    },
    {
      "cell_type": "markdown",
      "metadata": {},
      "source": [
        "\u8fd9\u79cd\u4ee3\u7801\u901a\u5e38\u53ef\u4ee5\u4f7f\u7528 iter() \u6765\u4ee3\u66ff\uff0c\u5982\u4e0b\u6240\u793a\uff1a"
      ]
    },
    {
      "cell_type": "code",
      "execution_count": null,
      "metadata": {},
      "outputs": [],
      "source": [
        "d\ne\nf\n \nr\ne\na\nd\ne\nr\n2\n(\ns\n)\n:\n\n\n \n \n \n \nf\no\nr\n \nc\nh\nu\nn\nk\n \ni\nn\n \ni\nt\ne\nr\n(\nl\na\nm\nb\nd\na\n:\n \ns\n.\nr\ne\nc\nv\n(\nC\nH\nU\nN\nK\nS\nI\nZ\nE\n)\n,\n \nb\n'\n'\n)\n:\n\n\n \n \n \n \n \n \n \n \np\na\ns\ns\n\n\n \n \n \n \n \n \n \n \n#\n \np\nr\no\nc\ne\ns\ns\n_\nd\na\nt\na\n(\nd\na\nt\na\n)\n\n"
      ]
    },
    {
      "cell_type": "markdown",
      "metadata": {},
      "source": [
        "\u5982\u679c\u4f60\u6000\u7591\u5b83\u5230\u5e95\u80fd\u4e0d\u80fd\u6b63\u5e38\u5de5\u4f5c\uff0c\u53ef\u4ee5\u8bd5\u9a8c\u4e0b\u4e00\u4e2a\u7b80\u5355\u7684\u4f8b\u5b50\u3002\u6bd4\u5982\uff1a"
      ]
    },
    {
      "cell_type": "code",
      "execution_count": null,
      "metadata": {},
      "outputs": [],
      "source": [
        "import sys\nf = open('/etc/passwd')\nfor chunk in iter(lambda: f.read(10), ''):\n    n = sys.stdout.write(chunk)"
      ]
    },
    {
      "cell_type": "markdown",
      "metadata": {},
      "source": [
        "### \u8ba8\u8bba\n"
      ]
    },
    {
      "cell_type": "markdown",
      "metadata": {},
      "source": [
        "iter \u51fd\u6570\u4e00\u4e2a\u9c9c\u4e3a\u4eba\u77e5\u7684\u7279\u6027\u662f\u5b83\u63a5\u53d7\u4e00\u4e2a\u53ef\u9009\u7684 callable \u5bf9\u8c61\u548c\u4e00\u4e2a\u6807\u8bb0(\u7ed3\u5c3e)\u503c\u4f5c\u4e3a\u8f93\u5165\u53c2\u6570\u3002\n\u5f53\u4ee5\u8fd9\u79cd\u65b9\u5f0f\u4f7f\u7528\u7684\u65f6\u5019\uff0c\u5b83\u4f1a\u521b\u5efa\u4e00\u4e2a\u8fed\u4ee3\u5668\uff0c \u8fd9\u4e2a\u8fed\u4ee3\u5668\u4f1a\u4e0d\u65ad\u8c03\u7528 callable \u5bf9\u8c61\u76f4\u5230\u8fd4\u56de\u503c\u548c\u6807\u8bb0\u503c\u76f8\u7b49\u4e3a\u6b62\u3002"
      ]
    },
    {
      "cell_type": "markdown",
      "metadata": {},
      "source": [
        "\u8fd9\u79cd\u7279\u6b8a\u7684\u65b9\u6cd5\u5bf9\u4e8e\u4e00\u4e9b\u7279\u5b9a\u7684\u4f1a\u88ab\u91cd\u590d\u8c03\u7528\u7684\u51fd\u6570\u5f88\u6709\u6548\u679c\uff0c\u6bd4\u5982\u6d89\u53ca\u5230I/O\u8c03\u7528\u7684\u51fd\u6570\u3002\n\u4e3e\u4f8b\u6765\u8bb2\uff0c\u5982\u679c\u4f60\u60f3\u4ece\u5957\u63a5\u5b57\u6216\u6587\u4ef6\u4e2d\u4ee5\u6570\u636e\u5757\u7684\u65b9\u5f0f\u8bfb\u53d6\u6570\u636e\uff0c\u901a\u5e38\u4f60\u5f97\u8981\u4e0d\u65ad\u91cd\u590d\u7684\u6267\u884c read() \u6216 recv() \uff0c\n\u5e76\u5728\u540e\u9762\u7d27\u8ddf\u4e00\u4e2a\u6587\u4ef6\u7ed3\u5c3e\u6d4b\u8bd5\u6765\u51b3\u5b9a\u662f\u5426\u7ec8\u6b62\u3002\u8fd9\u8282\u4e2d\u7684\u65b9\u6848\u4f7f\u7528\u4e00\u4e2a\u7b80\u5355\u7684 iter() \u8c03\u7528\u5c31\u53ef\u4ee5\u5c06\u4e24\u8005\u7ed3\u5408\u8d77\u6765\u4e86\u3002\n\u5176\u4e2d lambda \u51fd\u6570\u53c2\u6570\u662f\u4e3a\u4e86\u521b\u5efa\u4e00\u4e2a\u65e0\u53c2\u7684 callable \u5bf9\u8c61\uff0c\u5e76\u4e3a recv \u6216 read() \u65b9\u6cd5\u63d0\u4f9b\u4e86 size \u53c2\u6570\u3002"
      ]
    }
  ],
  "metadata": {
    "kernelspec": {
      "display_name": "Python 3",
      "language": "python",
      "name": "python3"
    },
    "language_info": {
      "codemirror_mode": {
        "name": "ipython",
        "version": 3
      },
      "file_extension": ".py",
      "mimetype": "text/x-python",
      "name": "python",
      "nbconvert_exporter": "python",
      "pygments_lexer": "ipython3",
      "version": "3.7.1"
    },
    "toc": {
      "base_numbering": 1,
      "nav_menu": {},
      "number_sections": true,
      "sideBar": true,
      "skip_h1_title": true,
      "title_cell": "Table of Contents",
      "title_sidebar": "Contents",
      "toc_cell": false,
      "toc_position": {},
      "toc_section_display": true,
      "toc_window_display": true
    }
  },
  "nbformat": 4,
  "nbformat_minor": 2
}