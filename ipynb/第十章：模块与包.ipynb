{
  "cells": [
    {
      "cell_type": "markdown",
      "metadata": {},
      "source": [
        "# \u7b2c\u5341\u7ae0\uff1a\u6a21\u5757\u4e0e\u5305\n \u6a21\u5757\u4e0e\u5305\u662f\u4efb\u4f55\u5927\u578b\u7a0b\u5e8f\u7684\u6838\u5fc3\uff0c\u5c31\u8fdePython\u5b89\u88c5\u7a0b\u5e8f\u672c\u8eab\u4e5f\u662f\u4e00\u4e2a\u5305\u3002\u672c\u7ae0\u91cd\u70b9\u6d89\u53ca\u6709\u5173\u6a21\u5757\u548c\u5305\u7684\u5e38\u7528\u7f16\u7a0b\u6280\u672f\uff0c\u4f8b\u5982\u5982\u4f55\u7ec4\u7ec7\u5305\u3001\u628a\u5927\u578b\u6a21\u5757\u5206\u5272\u6210\u591a\u4e2a\u6587\u4ef6\u3001\u521b\u5efa\u547d\u540d\u7a7a\u95f4\u5305\u3002\u540c\u65f6\uff0c\u4e5f\u7ed9\u51fa\u4e86\u8ba9\u4f60\u81ea\u5b9a\u4e49\u5bfc\u5165\u8bed\u53e5\u7684\u79d8\u7c4d\u3002"
      ]
    },
    {
      "cell_type": "markdown",
      "metadata": {},
      "source": [
        "## 10.1 \u6784\u5efa\u4e00\u4e2a\u6a21\u5757\u7684\u5c42\u7ea7\u5305\n"
      ]
    },
    {
      "cell_type": "markdown",
      "metadata": {},
      "source": [
        "### \u95ee\u9898\n"
      ]
    },
    {
      "cell_type": "markdown",
      "metadata": {},
      "source": [
        "\u4f60\u60f3\u5c06\u4f60\u7684\u4ee3\u7801\u7ec4\u7ec7\u6210\u7531\u5f88\u591a\u5206\u5c42\u6a21\u5757\u6784\u6210\u7684\u5305\u3002"
      ]
    },
    {
      "cell_type": "markdown",
      "metadata": {},
      "source": [
        "### \u89e3\u51b3\u65b9\u6848\n"
      ]
    },
    {
      "cell_type": "markdown",
      "metadata": {},
      "source": [
        "\u5c01\u88c5\u6210\u5305\u662f\u5f88\u7b80\u5355\u7684\u3002\u5728\u6587\u4ef6\u7cfb\u7edf\u4e0a\u7ec4\u7ec7\u4f60\u7684\u4ee3\u7801\uff0c\u5e76\u786e\u4fdd\u6bcf\u4e2a\u76ee\u5f55\u90fd\u5b9a\u4e49\u4e86\u4e00\u4e2a__init__.py\u6587\u4ef6\u3002\n\u4f8b\u5982\uff1a"
      ]
    },
    {
      "cell_type": "code",
      "execution_count": null,
      "metadata": {},
      "outputs": [],
      "source": [
        "g\nr\na\np\nh\ni\nc\ns\n/\n\n\n \n \n \n \n_\n_\ni\nn\ni\nt\n_\n_\n.\np\ny\n\n\n \n \n \n \np\nr\ni\nm\ni\nt\ni\nv\ne\n/\n\n\n \n \n \n \n \n \n \n \n_\n_\ni\nn\ni\nt\n_\n_\n.\np\ny\n\n\n \n \n \n \n \n \n \n \nl\ni\nn\ne\n.\np\ny\n\n\n \n \n \n \n \n \n \n \nf\ni\nl\nl\n.\np\ny\n\n\n \n \n \n \n \n \n \n \nt\ne\nx\nt\n.\np\ny\n\n\n \n \n \n \nf\no\nr\nm\na\nt\ns\n/\n\n\n \n \n \n \n \n \n \n \n_\n_\ni\nn\ni\nt\n_\n_\n.\np\ny\n\n\n \n \n \n \n \n \n \n \np\nn\ng\n.\np\ny\n\n\n \n \n \n \n \n \n \n \nj\np\ng\n.\np\ny\n\n"
      ]
    },
    {
      "cell_type": "markdown",
      "metadata": {},
      "source": [
        "\u4e00\u65e6\u4f60\u505a\u5230\u4e86\u8fd9\u4e00\u70b9\uff0c\u4f60\u5e94\u8be5\u80fd\u591f\u6267\u884c\u5404\u79cdimport\u8bed\u53e5\uff0c\u5982\u4e0b\uff1a"
      ]
    },
    {
      "cell_type": "code",
      "execution_count": null,
      "metadata": {},
      "outputs": [],
      "source": [
        "i\nm\np\no\nr\nt\n \ng\nr\na\np\nh\ni\nc\ns\n.\np\nr\ni\nm\ni\nt\ni\nv\ne\n.\nl\ni\nn\ne\n\n\nf\nr\no\nm\n \ng\nr\na\np\nh\ni\nc\ns\n.\np\nr\ni\nm\ni\nt\ni\nv\ne\n \ni\nm\np\no\nr\nt\n \nl\ni\nn\ne\n\n\ni\nm\np\no\nr\nt\n \ng\nr\na\np\nh\ni\nc\ns\n.\nf\no\nr\nm\na\nt\ns\n.\nj\np\ng\n \na\ns\n \nj\np\ng\n\n"
      ]
    },
    {
      "cell_type": "markdown",
      "metadata": {},
      "source": [
        "### \u8ba8\u8bba\n"
      ]
    },
    {
      "cell_type": "markdown",
      "metadata": {},
      "source": [
        "\u5b9a\u4e49\u6a21\u5757\u7684\u5c42\u6b21\u7ed3\u6784\u5c31\u50cf\u5728\u6587\u4ef6\u7cfb\u7edf\u4e0a\u5efa\u7acb\u76ee\u5f55\u7ed3\u6784\u4e00\u6837\u5bb9\u6613\u3002\n\u6587\u4ef6__init__.py\u7684\u76ee\u7684\u662f\u8981\u5305\u542b\u4e0d\u540c\u8fd0\u884c\u7ea7\u522b\u7684\u5305\u7684\u53ef\u9009\u7684\u521d\u59cb\u5316\u4ee3\u7801\u3002\n\u4e3e\u4e2a\u4f8b\u5b50\uff0c\u5982\u679c\u4f60\u6267\u884c\u4e86\u8bed\u53e5import graphics\uff0c \u6587\u4ef6graphics/__init__.py\u5c06\u88ab\u5bfc\u5165,\u5efa\u7acbgraphics\u547d\u540d\u7a7a\u95f4\u7684\u5185\u5bb9\u3002\u50cfimport graphics.format.jpg\u8fd9\u6837\u5bfc\u5165\uff0c\u6587\u4ef6graphics/__init__.py\u548c\u6587\u4ef6graphics/formats/__init__.py\u5c06\u5728\u6587\u4ef6graphics/formats/jpg.py\u5bfc\u5165\u4e4b\u524d\u5bfc\u5165\u3002"
      ]
    },
    {
      "cell_type": "markdown",
      "metadata": {},
      "source": [
        "\u7edd\u5927\u90e8\u5206\u65f6\u5019\u8ba9__init__.py\u7a7a\u7740\u5c31\u597d\u3002\u4f46\u662f\u6709\u4e9b\u60c5\u51b5\u4e0b\u53ef\u80fd\u5305\u542b\u4ee3\u7801\u3002\n\u4e3e\u4e2a\u4f8b\u5b50\uff0c__init__.py\u80fd\u591f\u7528\u6765\u81ea\u52a8\u52a0\u8f7d\u5b50\u6a21\u5757:"
      ]
    },
    {
      "cell_type": "code",
      "execution_count": null,
      "metadata": {},
      "outputs": [],
      "source": [
        "#\n \ng\nr\na\np\nh\ni\nc\ns\n/\nf\no\nr\nm\na\nt\ns\n/\n_\n_\ni\nn\ni\nt\n_\n_\n.\np\ny\n\n\nf\nr\no\nm\n \n.\n \ni\nm\np\no\nr\nt\n \nj\np\ng\n\n\nf\nr\no\nm\n \n.\n \ni\nm\np\no\nr\nt\n \np\nn\ng\n\n"
      ]
    },
    {
      "cell_type": "markdown",
      "metadata": {},
      "source": [
        "\u50cf\u8fd9\u6837\u4e00\u4e2a\u6587\u4ef6,\u7528\u6237\u53ef\u4ee5\u4ec5\u4ec5\u901a\u8fc7import grahpics.formats\u6765\u4ee3\u66ffimport graphics.formats.jpg\u4ee5\u53caimport graphics.formats.png\u3002"
      ]
    },
    {
      "cell_type": "markdown",
      "metadata": {},
      "source": [
        "__init__.py\u7684\u5176\u4ed6\u5e38\u7528\u7528\u6cd5\u5305\u62ec\u5c06\u591a\u4e2a\u6587\u4ef6\u5408\u5e76\u5230\u4e00\u4e2a\u903b\u8f91\u547d\u540d\u7a7a\u95f4\uff0c\u8fd9\u5c06\u572810.4\u5c0f\u8282\u8ba8\u8bba\u3002"
      ]
    },
    {
      "cell_type": "markdown",
      "metadata": {},
      "source": [
        "\u654f\u9510\u7684\u7a0b\u5e8f\u5458\u4f1a\u53d1\u73b0\uff0c\u5373\u4f7f\u6ca1\u6709__init__.py\u6587\u4ef6\u5b58\u5728\uff0cpython\u4ecd\u7136\u4f1a\u5bfc\u5165\u5305\u3002\u5982\u679c\u4f60\u6ca1\u6709\u5b9a\u4e49__init__.py\u65f6\uff0c\u5b9e\u9645\u4e0a\u521b\u5efa\u4e86\u4e00\u4e2a\u6240\u8c13\u7684\u201c\u547d\u540d\u7a7a\u95f4\u5305\u201d\uff0c\u8fd9\u5c06\u572810.5\u5c0f\u8282\u8ba8\u8bba\u3002\u4e07\u7269\u5e73\u7b49\uff0c\u5982\u679c\u4f60\u7740\u624b\u521b\u5efa\u4e00\u4e2a\u65b0\u7684\u5305\u7684\u8bdd\uff0c\u5305\u542b\u4e00\u4e2a__init__.py\u6587\u4ef6\u5427\u3002"
      ]
    },
    {
      "cell_type": "markdown",
      "metadata": {},
      "source": [
        "## 10.2 \u63a7\u5236\u6a21\u5757\u88ab\u5168\u90e8\u5bfc\u5165\u7684\u5185\u5bb9\n"
      ]
    },
    {
      "cell_type": "markdown",
      "metadata": {},
      "source": [
        "### \u95ee\u9898\n"
      ]
    },
    {
      "cell_type": "markdown",
      "metadata": {},
      "source": [
        "\u5f53\u4f7f\u7528\u2019from module import *\u2019 \u8bed\u53e5\u65f6\uff0c\u5e0c\u671b\u5bf9\u4ece\u6a21\u5757\u6216\u5305\u5bfc\u51fa\u7684\u7b26\u53f7\u8fdb\u884c\u7cbe\u786e\u63a7\u5236\u3002"
      ]
    },
    {
      "cell_type": "markdown",
      "metadata": {},
      "source": [
        "### \u89e3\u51b3\u65b9\u6848\n"
      ]
    },
    {
      "cell_type": "markdown",
      "metadata": {},
      "source": [
        "\u5728\u4f60\u7684\u6a21\u5757\u4e2d\u5b9a\u4e49\u4e00\u4e2a\u53d8\u91cf __all__ \u6765\u660e\u786e\u5730\u5217\u51fa\u9700\u8981\u5bfc\u51fa\u7684\u5185\u5bb9\u3002"
      ]
    },
    {
      "cell_type": "markdown",
      "metadata": {},
      "source": [
        "\u4e3e\u4e2a\u4f8b\u5b50:"
      ]
    },
    {
      "cell_type": "code",
      "execution_count": null,
      "metadata": {},
      "outputs": [],
      "source": [
        "#\n \ns\no\nm\ne\nm\no\nd\nu\nl\ne\n.\np\ny\n\n\nd\ne\nf\n \ns\np\na\nm\n(\n)\n:\n\n\n \n \n \n \np\na\ns\ns\n\n\n\n\nd\ne\nf\n \ng\nr\no\nk\n(\n)\n:\n\n\n \n \n \n \np\na\ns\ns\n\n\n\n\nb\nl\na\nh\n \n=\n \n4\n2\n\n\n#\n \nO\nn\nl\ny\n \ne\nx\np\no\nr\nt\n \n'\ns\np\na\nm\n'\n \na\nn\nd\n \n'\ng\nr\no\nk\n'\n\n\n_\n_\na\nl\nl\n_\n_\n \n=\n \n[\n'\ns\np\na\nm\n'\n,\n \n'\ng\nr\no\nk\n'\n]\n\n"
      ]
    },
    {
      "cell_type": "markdown",
      "metadata": {},
      "source": [
        "### \u8ba8\u8bba\n"
      ]
    },
    {
      "cell_type": "markdown",
      "metadata": {},
      "source": [
        "\u5c3d\u7ba1\u5f3a\u70c8\u53cd\u5bf9\u4f7f\u7528 \u2018from module import *\u2019, \u4f46\u662f\u5728\u5b9a\u4e49\u4e86\u5927\u91cf\u53d8\u91cf\u540d\u7684\u6a21\u5757\u4e2d\u9891\u7e41\u4f7f\u7528\u3002\n\u5982\u679c\u4f60\u4e0d\u505a\u4efb\u4f55\u4e8b, \u8fd9\u6837\u7684\u5bfc\u5165\u5c06\u4f1a\u5bfc\u5165\u6240\u6709\u4e0d\u4ee5\u4e0b\u5212\u7ebf\u5f00\u5934\u7684\u3002\n\u53e6\u4e00\u65b9\u9762,\u5982\u679c\u5b9a\u4e49\u4e86 __all__ , \u90a3\u4e48\u53ea\u6709\u88ab\u5217\u4e3e\u51fa\u7684\u4e1c\u897f\u4f1a\u88ab\u5bfc\u51fa\u3002"
      ]
    },
    {
      "cell_type": "markdown",
      "metadata": {},
      "source": [
        "\u5982\u679c\u4f60\u5c06 __all__ \u5b9a\u4e49\u6210\u4e00\u4e2a\u7a7a\u5217\u8868, \u6ca1\u6709\u4e1c\u897f\u5c06\u88ab\u5bfc\u5165\u3002\n\u5982\u679c __all__ \u5305\u542b\u672a\u5b9a\u4e49\u7684\u540d\u5b57, \u5728\u5bfc\u5165\u65f6\u5f15\u8d77AttributeError\u3002"
      ]
    },
    {
      "cell_type": "markdown",
      "metadata": {},
      "source": [
        "## 10.3 \u4f7f\u7528\u76f8\u5bf9\u8def\u5f84\u540d\u5bfc\u5165\u5305\u4e2d\u5b50\u6a21\u5757\n"
      ]
    },
    {
      "cell_type": "markdown",
      "metadata": {},
      "source": [
        "### \u95ee\u9898\n"
      ]
    },
    {
      "cell_type": "markdown",
      "metadata": {},
      "source": [
        "\u5c06\u4ee3\u7801\u7ec4\u7ec7\u6210\u5305,\u60f3\u7528import\u8bed\u53e5\u4ece\u53e6\u4e00\u4e2a\u5305\u540d\u6ca1\u6709\u786c\u7f16\u7801\u8fc7\u7684\u5305\u4e2d\u5bfc\u5165\u5b50\u6a21\u5757\u3002"
      ]
    },
    {
      "cell_type": "markdown",
      "metadata": {},
      "source": [
        "### \u89e3\u51b3\u65b9\u6848\n"
      ]
    },
    {
      "cell_type": "markdown",
      "metadata": {},
      "source": [
        "\u4f7f\u7528\u5305\u7684\u76f8\u5bf9\u5bfc\u5165\uff0c\u4f7f\u4e00\u4e2a\u6a21\u5757\u5bfc\u5165\u540c\u4e00\u4e2a\u5305\u7684\u53e6\u4e00\u4e2a\u6a21\u5757\n\u4e3e\u4e2a\u4f8b\u5b50\uff0c\u5047\u8bbe\u5728\u4f60\u7684\u6587\u4ef6\u7cfb\u7edf\u4e0a\u6709mypackage\u5305\uff0c\u7ec4\u7ec7\u5982\u4e0b\uff1a"
      ]
    },
    {
      "cell_type": "code",
      "execution_count": null,
      "metadata": {},
      "outputs": [],
      "source": [
        "m\ny\np\na\nc\nk\na\ng\ne\n/\n\n\n \n \n \n \n_\n_\ni\nn\ni\nt\n_\n_\n.\np\ny\n\n\n \n \n \n \nA\n/\n\n\n \n \n \n \n \n \n \n \n_\n_\ni\nn\ni\nt\n_\n_\n.\np\ny\n\n\n \n \n \n \n \n \n \n \ns\np\na\nm\n.\np\ny\n\n\n \n \n \n \n \n \n \n \ng\nr\no\nk\n.\np\ny\n\n\n \n \n \n \nB\n/\n\n\n \n \n \n \n \n \n \n \n_\n_\ni\nn\ni\nt\n_\n_\n.\np\ny\n\n\n \n \n \n \n \n \n \n \nb\na\nr\n.\np\ny\n\n"
      ]
    },
    {
      "cell_type": "markdown",
      "metadata": {},
      "source": [
        "\u5982\u679c\u6a21\u5757mypackage.A.spam\u8981\u5bfc\u5165\u540c\u76ee\u5f55\u4e0b\u7684\u6a21\u5757grok\uff0c\u5b83\u5e94\u8be5\u5305\u62ec\u7684import\u8bed\u53e5\u5982\u4e0b\uff1a"
      ]
    },
    {
      "cell_type": "code",
      "execution_count": null,
      "metadata": {},
      "outputs": [],
      "source": [
        "#\n \nm\ny\np\na\nc\nk\na\ng\ne\n/\nA\n/\ns\np\na\nm\n.\np\ny\n\n\nf\nr\no\nm\n \n.\n \ni\nm\np\no\nr\nt\n \ng\nr\no\nk\n\n"
      ]
    },
    {
      "cell_type": "markdown",
      "metadata": {},
      "source": [
        "\u5982\u679c\u6a21\u5757mypackage.A.spam\u8981\u5bfc\u5165\u4e0d\u540c\u76ee\u5f55\u4e0b\u7684\u6a21\u5757B.bar\uff0c\u5b83\u5e94\u8be5\u4f7f\u7528\u7684import\u8bed\u53e5\u5982\u4e0b\uff1a"
      ]
    },
    {
      "cell_type": "code",
      "execution_count": null,
      "metadata": {},
      "outputs": [],
      "source": [
        "#\n \nm\ny\np\na\nc\nk\na\ng\ne\n/\nA\n/\ns\np\na\nm\n.\np\ny\n\n\nf\nr\no\nm\n \n.\n.\nB\n \ni\nm\np\no\nr\nt\n \nb\na\nr\n\n"
      ]
    },
    {
      "cell_type": "markdown",
      "metadata": {},
      "source": [
        "\u4e24\u4e2aimport\u8bed\u53e5\u90fd\u6ca1\u5305\u542b\u9876\u5c42\u5305\u540d\uff0c\u800c\u662f\u4f7f\u7528\u4e86spam.py\u7684\u76f8\u5bf9\u8def\u5f84\u3002"
      ]
    },
    {
      "cell_type": "markdown",
      "metadata": {},
      "source": [
        "### \u8ba8\u8bba\n"
      ]
    },
    {
      "cell_type": "markdown",
      "metadata": {},
      "source": [
        "\u5728\u5305\u5185\uff0c\u65e2\u53ef\u4ee5\u4f7f\u7528\u76f8\u5bf9\u8def\u5f84\u4e5f\u53ef\u4ee5\u4f7f\u7528\u7edd\u5bf9\u8def\u5f84\u6765\u5bfc\u5165\u3002\n\u4e3e\u4e2a\u4f8b\u5b50\uff1a"
      ]
    },
    {
      "cell_type": "code",
      "execution_count": null,
      "metadata": {},
      "outputs": [],
      "source": [
        "#\n \nm\ny\np\na\nc\nk\na\ng\ne\n/\nA\n/\ns\np\na\nm\n.\np\ny\n\n\nf\nr\no\nm\n \nm\ny\np\na\nc\nk\na\ng\ne\n.\nA\n \ni\nm\np\no\nr\nt\n \ng\nr\no\nk\n \n#\n \nO\nK\n\n\nf\nr\no\nm\n \n.\n \ni\nm\np\no\nr\nt\n \ng\nr\no\nk\n \n#\n \nO\nK\n\n\ni\nm\np\no\nr\nt\n \ng\nr\no\nk\n \n#\n \nE\nr\nr\no\nr\n \n(\nn\no\nt\n \nf\no\nu\nn\nd\n)\n\n"
      ]
    },
    {
      "cell_type": "markdown",
      "metadata": {},
      "source": [
        "\u50cfmypackage.A\u8fd9\u6837\u4f7f\u7528\u7edd\u5bf9\u8def\u5f84\u540d\u7684\u4e0d\u5229\u4e4b\u5904\u662f\u8fd9\u5c06\u9876\u5c42\u5305\u540d\u786c\u7f16\u7801\u5230\u4f60\u7684\u6e90\u7801\u4e2d\u3002\u5982\u679c\u4f60\u60f3\u91cd\u65b0\u7ec4\u7ec7\u5b83\uff0c\u4f60\u7684\u4ee3\u7801\u5c06\u66f4\u8106\uff0c\u5f88\u96be\u5de5\u4f5c\u3002 \u4e3e\u4e2a\u4f8b\u5b50\uff0c\u5982\u679c\u4f60\u6539\u53d8\u4e86\u5305\u540d\uff0c\u4f60\u5c31\u5fc5\u987b\u68c0\u67e5\u6240\u6709\u6587\u4ef6\u6765\u4fee\u6b63\u6e90\u7801\u3002 \u540c\u6837\uff0c\u786c\u7f16\u7801\u7684\u540d\u79f0\u4f1a\u4f7f\u79fb\u52a8\u4ee3\u7801\u53d8\u5f97\u56f0\u96be\u3002\u4e3e\u4e2a\u4f8b\u5b50\uff0c\u4e5f\u8bb8\u6709\u4eba\u60f3\u5b89\u88c5\u4e24\u4e2a\u4e0d\u540c\u7248\u672c\u7684\u8f6f\u4ef6\u5305\uff0c\u53ea\u901a\u8fc7\u540d\u79f0\u533a\u5206\u5b83\u4eec\u3002 \u5982\u679c\u4f7f\u7528\u76f8\u5bf9\u5bfc\u5165\uff0c\u90a3\u4e00\u5207\u90fdok\uff0c\u7136\u800c\u4f7f\u7528\u7edd\u5bf9\u8def\u5f84\u540d\u5f88\u53ef\u80fd\u4f1a\u51fa\u95ee\u9898\u3002"
      ]
    },
    {
      "cell_type": "markdown",
      "metadata": {},
      "source": [
        "import\u8bed\u53e5\u7684 . \u548c .. \u770b\u8d77\u6765\u5f88\u6ed1\u7a3d, \u4f46\u5b83\u6307\u5b9a\u76ee\u5f55\u540d.\u4e3a\u5f53\u524d\u76ee\u5f55\uff0c..B\u4e3a\u76ee\u5f55../B\u3002\u8fd9\u79cd\u8bed\u6cd5\u53ea\u9002\u7528\u4e8eimport\u3002\n\u4e3e\u4e2a\u4f8b\u5b50\uff1a"
      ]
    },
    {
      "cell_type": "code",
      "execution_count": null,
      "metadata": {},
      "outputs": [],
      "source": [
        "f\nr\no\nm\n \n.\n \ni\nm\np\no\nr\nt\n \ng\nr\no\nk\n \n#\n \nO\nK\n\n\ni\nm\np\no\nr\nt\n \n.\ng\nr\no\nk\n \n#\n \nE\nR\nR\nO\nR\n\n"
      ]
    },
    {
      "cell_type": "markdown",
      "metadata": {},
      "source": [
        "\u5c3d\u7ba1\u4f7f\u7528\u76f8\u5bf9\u5bfc\u5165\u770b\u8d77\u6765\u50cf\u662f\u6d4f\u89c8\u6587\u4ef6\u7cfb\u7edf\uff0c\u4f46\u662f\u4e0d\u80fd\u5230\u5b9a\u4e49\u5305\u7684\u76ee\u5f55\u4e4b\u5916\u3002\u4e5f\u5c31\u662f\u8bf4\uff0c\u4f7f\u7528\u70b9\u7684\u8fd9\u79cd\u6a21\u5f0f\u4ece\u4e0d\u662f\u5305\u7684\u76ee\u5f55\u4e2d\u5bfc\u5165\u5c06\u4f1a\u5f15\u53d1\u9519\u8bef\u3002"
      ]
    },
    {
      "cell_type": "markdown",
      "metadata": {},
      "source": [
        "\u6700\u540e\uff0c\u76f8\u5bf9\u5bfc\u5165\u53ea\u9002\u7528\u4e8e\u5728\u5408\u9002\u7684\u5305\u4e2d\u7684\u6a21\u5757\u3002\u5c24\u5176\u662f\u5728\u9876\u5c42\u7684\u811a\u672c\u7684\u7b80\u5355\u6a21\u5757\u4e2d\uff0c\u5b83\u4eec\u5c06\u4e0d\u8d77\u4f5c\u7528\u3002\u5982\u679c\u5305\u7684\u90e8\u5206\u88ab\u4f5c\u4e3a\u811a\u672c\u76f4\u63a5\u6267\u884c\uff0c\u90a3\u5b83\u4eec\u5c06\u4e0d\u8d77\u4f5c\u7528\n\u4f8b\u5982\uff1a"
      ]
    },
    {
      "cell_type": "code",
      "execution_count": null,
      "metadata": {},
      "outputs": [],
      "source": [
        "%\n \np\ny\nt\nh\no\nn\n3\n \nm\ny\np\na\nc\nk\na\ng\ne\n/\nA\n/\ns\np\na\nm\n.\np\ny\n \n#\n \nR\ne\nl\na\nt\ni\nv\ne\n \ni\nm\np\no\nr\nt\ns\n \nf\na\ni\nl\n\n"
      ]
    },
    {
      "cell_type": "markdown",
      "metadata": {},
      "source": [
        "\u53e6\u4e00\u65b9\u9762\uff0c\u5982\u679c\u4f60\u4f7f\u7528Python\u7684-m\u9009\u9879\u6765\u6267\u884c\u5148\u524d\u7684\u811a\u672c\uff0c\u76f8\u5bf9\u5bfc\u5165\u5c06\u4f1a\u6b63\u786e\u8fd0\u884c\u3002\n\u4f8b\u5982\uff1a"
      ]
    },
    {
      "cell_type": "code",
      "execution_count": null,
      "metadata": {},
      "outputs": [],
      "source": [
        "%\n \np\ny\nt\nh\no\nn\n3\n \n-\nm\n \nm\ny\np\na\nc\nk\na\ng\ne\n.\nA\n.\ns\np\na\nm\n \n#\n \nR\ne\nl\na\nt\ni\nv\ne\n \ni\nm\np\no\nr\nt\ns\n \nw\no\nr\nk\n\n"
      ]
    },
    {
      "cell_type": "markdown",
      "metadata": {},
      "source": [
        "\u66f4\u591a\u7684\u5305\u7684\u76f8\u5bf9\u5bfc\u5165\u7684\u80cc\u666f\u77e5\u8bc6,\u8bf7\u770b PEP 328 ."
      ]
    },
    {
      "cell_type": "markdown",
      "metadata": {},
      "source": [
        "## 10.4 \u5c06\u6a21\u5757\u5206\u5272\u6210\u591a\u4e2a\u6587\u4ef6\n"
      ]
    },
    {
      "cell_type": "markdown",
      "metadata": {},
      "source": [
        "### \u95ee\u9898\n"
      ]
    },
    {
      "cell_type": "markdown",
      "metadata": {},
      "source": [
        "\u4f60\u60f3\u5c06\u4e00\u4e2a\u6a21\u5757\u5206\u5272\u6210\u591a\u4e2a\u6587\u4ef6\u3002\u4f46\u662f\u4f60\u4e0d\u60f3\u5c06\u5206\u79bb\u7684\u6587\u4ef6\u7edf\u4e00\u6210\u4e00\u4e2a\u903b\u8f91\u6a21\u5757\u65f6\u4f7f\u5df2\u6709\u7684\u4ee3\u7801\u906d\u5230\u7834\u574f\u3002"
      ]
    },
    {
      "cell_type": "markdown",
      "metadata": {},
      "source": [
        "### \u89e3\u51b3\u65b9\u6848\n"
      ]
    },
    {
      "cell_type": "markdown",
      "metadata": {},
      "source": [
        "\u7a0b\u5e8f\u6a21\u5757\u53ef\u4ee5\u901a\u8fc7\u53d8\u6210\u5305\u6765\u5206\u5272\u6210\u591a\u4e2a\u72ec\u7acb\u7684\u6587\u4ef6\u3002\u8003\u8651\u4e0b\u4e0b\u9762\u7b80\u5355\u7684\u6a21\u5757\uff1a"
      ]
    },
    {
      "cell_type": "code",
      "execution_count": null,
      "metadata": {},
      "outputs": [],
      "source": [
        "#\n \nm\ny\nm\no\nd\nu\nl\ne\n.\np\ny\n\n\nc\nl\na\ns\ns\n \nA\n:\n\n\n \n \n \n \nd\ne\nf\n \ns\np\na\nm\n(\ns\ne\nl\nf\n)\n:\n\n\n \n \n \n \n \n \n \n \np\nr\ni\nn\nt\n(\n'\nA\n.\ns\np\na\nm\n'\n)\n\n\n\n\nc\nl\na\ns\ns\n \nB\n(\nA\n)\n:\n\n\n \n \n \n \nd\ne\nf\n \nb\na\nr\n(\ns\ne\nl\nf\n)\n:\n\n\n \n \n \n \n \n \n \n \np\nr\ni\nn\nt\n(\n'\nB\n.\nb\na\nr\n'\n)\n\n"
      ]
    },
    {
      "cell_type": "markdown",
      "metadata": {},
      "source": [
        "\u5047\u8bbe\u4f60\u60f3mymodule.py\u5206\u4e3a\u4e24\u4e2a\u6587\u4ef6\uff0c\u6bcf\u4e2a\u5b9a\u4e49\u7684\u4e00\u4e2a\u7c7b\u3002\u8981\u505a\u5230\u8fd9\u4e00\u70b9\uff0c\u9996\u5148\u7528mymodule\u76ee\u5f55\u6765\u66ff\u6362\u6587\u4ef6mymodule.py\u3002\n\u8fd9\u8fd9\u4e2a\u76ee\u5f55\u4e0b\uff0c\u521b\u5efa\u4ee5\u4e0b\u6587\u4ef6\uff1a"
      ]
    },
    {
      "cell_type": "code",
      "execution_count": null,
      "metadata": {},
      "outputs": [],
      "source": [
        "m\ny\nm\no\nd\nu\nl\ne\n/\n\n\n \n \n \n \n_\n_\ni\nn\ni\nt\n_\n_\n.\np\ny\n\n\n \n \n \n \na\n.\np\ny\n\n\n \n \n \n \nb\n.\np\ny\n\n"
      ]
    },
    {
      "cell_type": "markdown",
      "metadata": {},
      "source": [
        "\u5728a.py\u6587\u4ef6\u4e2d\u63d2\u5165\u4ee5\u4e0b\u4ee3\u7801\uff1a"
      ]
    },
    {
      "cell_type": "code",
      "execution_count": null,
      "metadata": {},
      "outputs": [],
      "source": [
        "#\n \na\n.\np\ny\n\n\nc\nl\na\ns\ns\n \nA\n:\n\n\n \n \n \n \nd\ne\nf\n \ns\np\na\nm\n(\ns\ne\nl\nf\n)\n:\n\n\n \n \n \n \n \n \n \n \np\nr\ni\nn\nt\n(\n'\nA\n.\ns\np\na\nm\n'\n)\n\n"
      ]
    },
    {
      "cell_type": "markdown",
      "metadata": {},
      "source": [
        "\u5728b.py\u6587\u4ef6\u4e2d\u63d2\u5165\u4ee5\u4e0b\u4ee3\u7801\uff1a"
      ]
    },
    {
      "cell_type": "code",
      "execution_count": null,
      "metadata": {},
      "outputs": [],
      "source": [
        "#\n \nb\n.\np\ny\n\n\nf\nr\no\nm\n \n.\na\n \ni\nm\np\no\nr\nt\n \nA\n\n\nc\nl\na\ns\ns\n \nB\n(\nA\n)\n:\n\n\n \n \n \n \nd\ne\nf\n \nb\na\nr\n(\ns\ne\nl\nf\n)\n:\n\n\n \n \n \n \n \n \n \n \np\nr\ni\nn\nt\n(\n'\nB\n.\nb\na\nr\n'\n)\n\n"
      ]
    },
    {
      "cell_type": "markdown",
      "metadata": {},
      "source": [
        "\u6700\u540e\uff0c\u5728 __init__.py \u4e2d\uff0c\u5c062\u4e2a\u6587\u4ef6\u7c98\u5408\u5728\u4e00\u8d77\uff1a"
      ]
    },
    {
      "cell_type": "code",
      "execution_count": null,
      "metadata": {},
      "outputs": [],
      "source": [
        "#\n \n_\n_\ni\nn\ni\nt\n_\n_\n.\np\ny\n\n\nf\nr\no\nm\n \n.\na\n \ni\nm\np\no\nr\nt\n \nA\n\n\nf\nr\no\nm\n \n.\nb\n \ni\nm\np\no\nr\nt\n \nB\n\n"
      ]
    },
    {
      "cell_type": "markdown",
      "metadata": {},
      "source": [
        "\u5982\u679c\u6309\u7167\u8fd9\u4e9b\u6b65\u9aa4\uff0c\u6240\u4ea7\u751f\u7684\u5305MyModule\u5c06\u4f5c\u4e3a\u4e00\u4e2a\u5355\u4e00\u7684\u903b\u8f91\u6a21\u5757\uff1a"
      ]
    },
    {
      "cell_type": "code",
      "execution_count": null,
      "metadata": {},
      "outputs": [],
      "source": [
        "import mymodule\na = mymodule.A()\na.spam()"
      ]
    },
    {
      "cell_type": "code",
      "execution_count": null,
      "metadata": {},
      "outputs": [],
      "source": [
        "b = mymodule.B()\nb.bar()"
      ]
    },
    {
      "cell_type": "markdown",
      "metadata": {},
      "source": [
        "### \u8ba8\u8bba\n"
      ]
    },
    {
      "cell_type": "markdown",
      "metadata": {},
      "source": [
        "\u5728\u8fd9\u4e2a\u7ae0\u8282\u4e2d\u7684\u4e3b\u8981\u95ee\u9898\u662f\u4e00\u4e2a\u8bbe\u8ba1\u95ee\u9898\uff0c\u4e0d\u7ba1\u4f60\u662f\u5426\u5e0c\u671b\u7528\u6237\u4f7f\u7528\u5f88\u591a\u5c0f\u6a21\u5757\u6216\u53ea\u662f\u4e00\u4e2a\u6a21\u5757\u3002\u4e3e\u4e2a\u4f8b\u5b50\uff0c\u5728\u4e00\u4e2a\u5927\u578b\u7684\u4ee3\u7801\u5e93\u4e2d\uff0c\u4f60\u53ef\u4ee5\u5c06\u8fd9\u4e00\u5207\u90fd\u5206\u5272\u6210\u72ec\u7acb\u7684\u6587\u4ef6\uff0c\u8ba9\u7528\u6237\u4f7f\u7528\u5927\u91cf\u7684import\u8bed\u53e5\uff0c\u5c31\u50cf\u8fd9\u6837\uff1a"
      ]
    },
    {
      "cell_type": "code",
      "execution_count": null,
      "metadata": {},
      "outputs": [],
      "source": [
        "f\nr\no\nm\n \nm\ny\nm\no\nd\nu\nl\ne\n.\na\n \ni\nm\np\no\nr\nt\n \nA\n\n\nf\nr\no\nm\n \nm\ny\nm\no\nd\nu\nl\ne\n.\nb\n \ni\nm\np\no\nr\nt\n \nB\n\n\n.\n.\n.\n\n"
      ]
    },
    {
      "cell_type": "markdown",
      "metadata": {},
      "source": [
        "\u8fd9\u6837\u80fd\u5de5\u4f5c\uff0c\u4f46\u8fd9\u8ba9\u7528\u6237\u627f\u53d7\u66f4\u591a\u7684\u8d1f\u62c5\uff0c\u7528\u6237\u8981\u77e5\u9053\u4e0d\u540c\u7684\u90e8\u5206\u4f4d\u4e8e\u4f55\u5904\u3002\u901a\u5e38\u60c5\u51b5\u4e0b\uff0c\u5c06\u8fd9\u4e9b\u7edf\u4e00\u8d77\u6765\uff0c\u4f7f\u7528\u4e00\u6761import\u5c06\u66f4\u52a0\u5bb9\u6613\uff0c\u5c31\u50cf\u8fd9\u6837\uff1a"
      ]
    },
    {
      "cell_type": "code",
      "execution_count": null,
      "metadata": {},
      "outputs": [],
      "source": [
        "f\nr\no\nm\n \nm\ny\nm\no\nd\nu\nl\ne\n \ni\nm\np\no\nr\nt\n \nA\n,\n \nB\n\n"
      ]
    },
    {
      "cell_type": "markdown",
      "metadata": {},
      "source": [
        "\u5bf9\u540e\u8005\u800c\u8a00\uff0c\u8ba9mymodule\u6210\u4e3a\u4e00\u4e2a\u5927\u7684\u6e90\u6587\u4ef6\u662f\u6700\u5e38\u89c1\u7684\u3002\u4f46\u662f\uff0c\u8fd9\u4e00\u7ae0\u8282\u5c55\u793a\u4e86\u5982\u4f55\u5408\u5e76\u591a\u4e2a\u6587\u4ef6\u5408\u5e76\u6210\u4e00\u4e2a\u5355\u4e00\u7684\u903b\u8f91\u547d\u540d\u7a7a\u95f4\u3002\n\u8fd9\u6837\u505a\u7684\u5173\u952e\u662f\u521b\u5efa\u4e00\u4e2a\u5305\u76ee\u5f55\uff0c\u4f7f\u7528 __init__.py \u6587\u4ef6\u6765\u5c06\u6bcf\u90e8\u5206\u7c98\u5408\u5728\u4e00\u8d77\u3002"
      ]
    },
    {
      "cell_type": "markdown",
      "metadata": {},
      "source": [
        "\u5f53\u4e00\u4e2a\u6a21\u5757\u88ab\u5206\u5272\uff0c\u4f60\u9700\u8981\u7279\u522b\u6ce8\u610f\u4ea4\u53c9\u5f15\u7528\u7684\u6587\u4ef6\u540d\u3002\u4e3e\u4e2a\u4f8b\u5b50\uff0c\u5728\u8fd9\u4e00\u7ae0\u8282\u4e2d\uff0cB\u7c7b\u9700\u8981\u8bbf\u95eeA\u7c7b\u4f5c\u4e3a\u57fa\u7c7b\u3002\u7528\u5305\u7684\u76f8\u5bf9\u5bfc\u5165 from .a import A \u6765\u83b7\u53d6\u3002"
      ]
    },
    {
      "cell_type": "markdown",
      "metadata": {},
      "source": [
        "\u6574\u4e2a\u7ae0\u8282\u90fd\u4f7f\u7528\u5305\u7684\u76f8\u5bf9\u5bfc\u5165\u6765\u907f\u514d\u5c06\u9876\u5c42\u6a21\u5757\u540d\u786c\u7f16\u7801\u5230\u6e90\u4ee3\u7801\u4e2d\u3002\u8fd9\u4f7f\u5f97\u91cd\u547d\u540d\u6a21\u5757\u6216\u8005\u5c06\u5b83\u79fb\u52a8\u5230\u522b\u7684\u4f4d\u7f6e\u66f4\u5bb9\u6613\u3002\uff08\u89c110.3\u5c0f\u8282\uff09"
      ]
    },
    {
      "cell_type": "markdown",
      "metadata": {},
      "source": [
        "\u4f5c\u4e3a\u8fd9\u4e00\u7ae0\u8282\u7684\u5ef6\u4f38\uff0c\u5c06\u4ecb\u7ecd\u5ef6\u8fdf\u5bfc\u5165\u3002\u5982\u56fe\u6240\u793a\uff0c__init__.py\u6587\u4ef6\u4e00\u6b21\u5bfc\u5165\u6240\u6709\u5fc5\u9700\u7684\u7ec4\u4ef6\u7684\u3002\u4f46\u662f\u5bf9\u4e8e\u4e00\u4e2a\u5f88\u5927\u7684\u6a21\u5757\uff0c\u53ef\u80fd\u4f60\u53ea\u60f3\u7ec4\u4ef6\u5728\u9700\u8981\u65f6\u88ab\u52a0\u8f7d\u3002\n\u8981\u505a\u5230\u8fd9\u4e00\u70b9\uff0c__init__.py\u6709\u7ec6\u5fae\u7684\u53d8\u5316\uff1a"
      ]
    },
    {
      "cell_type": "code",
      "execution_count": null,
      "metadata": {},
      "outputs": [],
      "source": [
        "#\n \n_\n_\ni\nn\ni\nt\n_\n_\n.\np\ny\n\n\nd\ne\nf\n \nA\n(\n)\n:\n\n\n \n \n \n \nf\nr\no\nm\n \n.\na\n \ni\nm\np\no\nr\nt\n \nA\n\n\n \n \n \n \nr\ne\nt\nu\nr\nn\n \nA\n(\n)\n\n\n\n\nd\ne\nf\n \nB\n(\n)\n:\n\n\n \n \n \n \nf\nr\no\nm\n \n.\nb\n \ni\nm\np\no\nr\nt\n \nB\n\n\n \n \n \n \nr\ne\nt\nu\nr\nn\n \nB\n(\n)\n\n"
      ]
    },
    {
      "cell_type": "markdown",
      "metadata": {},
      "source": [
        "\u5728\u8fd9\u4e2a\u7248\u672c\u4e2d\uff0c\u7c7bA\u548c\u7c7bB\u88ab\u66ff\u6362\u4e3a\u5728\u7b2c\u4e00\u6b21\u8bbf\u95ee\u65f6\u52a0\u8f7d\u6240\u9700\u7684\u7c7b\u7684\u51fd\u6570\u3002\u5bf9\u4e8e\u7528\u6237\uff0c\u8fd9\u770b\u8d77\u6765\u4e0d\u4f1a\u6709\u592a\u5927\u7684\u4e0d\u540c\u3002\n\u4f8b\u5982\uff1a"
      ]
    },
    {
      "cell_type": "code",
      "execution_count": null,
      "metadata": {},
      "outputs": [],
      "source": [
        "import mymodule\na = mymodule.A()\na.spam()"
      ]
    },
    {
      "cell_type": "markdown",
      "metadata": {},
      "source": [
        "\u5ef6\u8fdf\u52a0\u8f7d\u7684\u4e3b\u8981\u7f3a\u70b9\u662f\u7ee7\u627f\u548c\u7c7b\u578b\u68c0\u67e5\u53ef\u80fd\u4f1a\u4e2d\u65ad\u3002\u4f60\u53ef\u80fd\u4f1a\u7a0d\u5fae\u6539\u53d8\u4f60\u7684\u4ee3\u7801\uff0c\u4f8b\u5982:"
      ]
    },
    {
      "cell_type": "code",
      "execution_count": null,
      "metadata": {},
      "outputs": [],
      "source": [
        "i\nf\n \ni\ns\ni\nn\ns\nt\na\nn\nc\ne\n(\nx\n,\n \nm\ny\nm\no\nd\nu\nl\ne\n.\nA\n)\n:\n \n#\n \nE\nr\nr\no\nr\n\n\n.\n.\n.\n\n\n\n\ni\nf\n \ni\ns\ni\nn\ns\nt\na\nn\nc\ne\n(\nx\n,\n \nm\ny\nm\no\nd\nu\nl\ne\n.\na\n.\nA\n)\n:\n \n#\n \nO\nk\n\n\n.\n.\n.\n\n"
      ]
    },
    {
      "cell_type": "markdown",
      "metadata": {},
      "source": [
        "\u5ef6\u8fdf\u52a0\u8f7d\u7684\u771f\u5b9e\u4f8b\u5b50, \u89c1\u6807\u51c6\u5e93 multiprocessing/__init__.py \u7684\u6e90\u7801."
      ]
    },
    {
      "cell_type": "markdown",
      "metadata": {},
      "source": [
        "## 10.5 \u5229\u7528\u547d\u540d\u7a7a\u95f4\u5bfc\u5165\u76ee\u5f55\u5206\u6563\u7684\u4ee3\u7801\n"
      ]
    },
    {
      "cell_type": "markdown",
      "metadata": {},
      "source": [
        "### \u95ee\u9898\n"
      ]
    },
    {
      "cell_type": "markdown",
      "metadata": {},
      "source": [
        "\u4f60\u53ef\u80fd\u6709\u5927\u91cf\u7684\u4ee3\u7801\uff0c\u7531\u4e0d\u540c\u7684\u4eba\u6765\u5206\u6563\u5730\u7ef4\u62a4\u3002\u6bcf\u4e2a\u90e8\u5206\u88ab\u7ec4\u7ec7\u4e3a\u6587\u4ef6\u76ee\u5f55\uff0c\u5982\u4e00\u4e2a\u5305\u3002\u7136\u800c\uff0c\u4f60\u5e0c\u671b\u80fd\u7528\u5171\u540c\u7684\u5305\u524d\u7f00\u5c06\u6240\u6709\u7ec4\u4ef6\u8fde\u63a5\u8d77\u6765\uff0c\u4e0d\u662f\u5c06\u6bcf\u4e00\u4e2a\u90e8\u5206\u4f5c\u4e3a\u72ec\u7acb\u7684\u5305\u6765\u5b89\u88c5\u3002"
      ]
    },
    {
      "cell_type": "markdown",
      "metadata": {},
      "source": [
        "### \u89e3\u51b3\u65b9\u6848\n"
      ]
    },
    {
      "cell_type": "markdown",
      "metadata": {},
      "source": [
        "\u4ece\u672c\u8d28\u4e0a\u8bb2\uff0c\u4f60\u8981\u5b9a\u4e49\u4e00\u4e2a\u9876\u7ea7Python\u5305\uff0c\u4f5c\u4e3a\u4e00\u4e2a\u5927\u96c6\u5408\u5206\u5f00\u7ef4\u62a4\u5b50\u5305\u7684\u547d\u540d\u7a7a\u95f4\u3002\u8fd9\u4e2a\u95ee\u9898\u7ecf\u5e38\u51fa\u73b0\u5728\u5927\u7684\u5e94\u7528\u6846\u67b6\u4e2d\uff0c\u6846\u67b6\u5f00\u53d1\u8005\u5e0c\u671b\u9f13\u52b1\u7528\u6237\u53d1\u5e03\u63d2\u4ef6\u6216\u9644\u52a0\u5305\u3002"
      ]
    },
    {
      "cell_type": "markdown",
      "metadata": {},
      "source": [
        "\u5728\u7edf\u4e00\u4e0d\u540c\u7684\u76ee\u5f55\u91cc\u7edf\u4e00\u76f8\u540c\u7684\u547d\u540d\u7a7a\u95f4\uff0c\u4f46\u662f\u8981\u5220\u53bb\u7528\u6765\u5c06\u7ec4\u4ef6\u8054\u5408\u8d77\u6765\u7684__init__.py\u6587\u4ef6\u3002\u5047\u8bbe\u4f60\u6709Python\u4ee3\u7801\u7684\u4e24\u4e2a\u4e0d\u540c\u7684\u76ee\u5f55\u5982\u4e0b\uff1a"
      ]
    },
    {
      "cell_type": "code",
      "execution_count": null,
      "metadata": {},
      "outputs": [],
      "source": [
        "f\no\no\n-\np\na\nc\nk\na\ng\ne\n/\n\n\n \n \n \n \ns\np\na\nm\n/\n\n\n \n \n \n \n \n \n \n \nb\nl\na\nh\n.\np\ny\n\n\n\n\nb\na\nr\n-\np\na\nc\nk\na\ng\ne\n/\n\n\n \n \n \n \ns\np\na\nm\n/\n\n\n \n \n \n \n \n \n \n \ng\nr\no\nk\n.\np\ny\n\n"
      ]
    },
    {
      "cell_type": "markdown",
      "metadata": {},
      "source": [
        "\u5728\u8fd92\u4e2a\u76ee\u5f55\u91cc\uff0c\u90fd\u6709\u7740\u5171\u540c\u7684\u547d\u540d\u7a7a\u95f4spam\u3002\u5728\u4efb\u4f55\u4e00\u4e2a\u76ee\u5f55\u91cc\u90fd\u6ca1\u6709__init__.py\u6587\u4ef6\u3002"
      ]
    },
    {
      "cell_type": "markdown",
      "metadata": {},
      "source": [
        "\u8ba9\u6211\u4eec\u770b\u770b\uff0c\u5982\u679c\u5c06foo-package\u548cbar-package\u90fd\u52a0\u5230python\u6a21\u5757\u8def\u5f84\u5e76\u5c1d\u8bd5\u5bfc\u5165\u4f1a\u53d1\u751f\u4ec0\u4e48"
      ]
    },
    {
      "cell_type": "code",
      "execution_count": null,
      "metadata": {},
      "outputs": [],
      "source": [
        "import sys\nsys.path.extend(['foo-package', 'bar-package'])\nimport spam.blah\nimport spam.grok"
      ]
    },
    {
      "cell_type": "markdown",
      "metadata": {},
      "source": [
        "\u4e24\u4e2a\u4e0d\u540c\u7684\u5305\u76ee\u5f55\u88ab\u5408\u5e76\u5230\u4e00\u8d77\uff0c\u4f60\u53ef\u4ee5\u5bfc\u5165spam.blah\u548cspam.grok\uff0c\u5e76\u4e14\u5b83\u4eec\u80fd\u591f\u5de5\u4f5c\u3002"
      ]
    },
    {
      "cell_type": "markdown",
      "metadata": {},
      "source": [
        "### \u8ba8\u8bba\n"
      ]
    },
    {
      "cell_type": "markdown",
      "metadata": {},
      "source": [
        "\u5728\u8fd9\u91cc\u5de5\u4f5c\u7684\u673a\u5236\u88ab\u79f0\u4e3a\u201c\u5305\u547d\u540d\u7a7a\u95f4\u201d\u7684\u4e00\u4e2a\u7279\u5f81\u3002\u4ece\u672c\u8d28\u4e0a\u8bb2\uff0c\u5305\u547d\u540d\u7a7a\u95f4\u662f\u4e00\u79cd\u7279\u6b8a\u7684\u5c01\u88c5\u8bbe\u8ba1\uff0c\u4e3a\u5408\u5e76\u4e0d\u540c\u7684\u76ee\u5f55\u7684\u4ee3\u7801\u5230\u4e00\u4e2a\u5171\u540c\u7684\u547d\u540d\u7a7a\u95f4\u3002\u5bf9\u4e8e\u5927\u7684\u6846\u67b6\uff0c\u8fd9\u53ef\u80fd\u662f\u6709\u7528\u7684\uff0c\u56e0\u4e3a\u5b83\u5141\u8bb8\u4e00\u4e2a\u6846\u67b6\u7684\u90e8\u5206\u88ab\u5355\u72ec\u5730\u5b89\u88c5\u4e0b\u8f7d\u3002\u5b83\u4e5f\u4f7f\u4eba\u4eec\u80fd\u591f\u8f7b\u677e\u5730\u4e3a\u8fd9\u6837\u7684\u6846\u67b6\u7f16\u5199\u7b2c\u4e09\u65b9\u9644\u52a0\u7ec4\u4ef6\u548c\u5176\u4ed6\u6269\u5c55\u3002"
      ]
    },
    {
      "cell_type": "markdown",
      "metadata": {},
      "source": [
        "\u5305\u547d\u540d\u7a7a\u95f4\u7684\u5173\u952e\u662f\u786e\u4fdd\u9876\u7ea7\u76ee\u5f55\u4e2d\u6ca1\u6709__init__.py\u6587\u4ef6\u6765\u4f5c\u4e3a\u5171\u540c\u7684\u547d\u540d\u7a7a\u95f4\u3002\u7f3a\u5931__init__.py\u6587\u4ef6\u4f7f\u5f97\u5728\u5bfc\u5165\u5305\u7684\u65f6\u5019\u4f1a\u53d1\u751f\u6709\u8da3\u7684\u4e8b\u60c5\uff1a\u8fd9\u5e76\u6ca1\u6709\u4ea7\u751f\u9519\u8bef\uff0c\u89e3\u91ca\u5668\u521b\u5efa\u4e86\u4e00\u4e2a\u7531\u6240\u6709\u5305\u542b\u5339\u914d\u5305\u540d\u7684\u76ee\u5f55\u7ec4\u6210\u7684\u5217\u8868\u3002\u7279\u6b8a\u7684\u5305\u547d\u540d\u7a7a\u95f4\u6a21\u5757\u88ab\u521b\u5efa\uff0c\u53ea\u8bfb\u7684\u76ee\u5f55\u5217\u8868\u526f\u672c\u88ab\u5b58\u50a8\u5728\u5176__path__\u53d8\u91cf\u4e2d\u3002\n\u4e3e\u4e2a\u4f8b\u5b50\uff1a"
      ]
    },
    {
      "cell_type": "code",
      "execution_count": null,
      "metadata": {},
      "outputs": [],
      "source": [
        "import spam\nspam.__path__"
      ]
    },
    {
      "cell_type": "markdown",
      "metadata": {},
      "source": [
        "\u5728\u5b9a\u4f4d\u5305\u7684\u5b50\u7ec4\u4ef6\u65f6\uff0c\u76ee\u5f55__path__\u5c06\u88ab\u7528\u5230(\u4f8b\u5982, \u5f53\u5bfc\u5165spam.grok\u6216\u8005spam.blah\u7684\u65f6\u5019)."
      ]
    },
    {
      "cell_type": "markdown",
      "metadata": {},
      "source": [
        "\u5305\u547d\u540d\u7a7a\u95f4\u7684\u4e00\u4e2a\u91cd\u8981\u7279\u70b9\u662f\u4efb\u4f55\u4eba\u90fd\u53ef\u4ee5\u7528\u81ea\u5df1\u7684\u4ee3\u7801\u6765\u6269\u5c55\u547d\u540d\u7a7a\u95f4\u3002\u4e3e\u4e2a\u4f8b\u5b50\uff0c\u5047\u8bbe\u4f60\u81ea\u5df1\u7684\u4ee3\u7801\u76ee\u5f55\u50cf\u8fd9\u6837\uff1a"
      ]
    },
    {
      "cell_type": "code",
      "execution_count": null,
      "metadata": {},
      "outputs": [],
      "source": [
        "m\ny\n-\np\na\nc\nk\na\ng\ne\n/\n\n\n \n \n \n \ns\np\na\nm\n/\n\n\n \n \n \n \n \n \n \n \nc\nu\ns\nt\no\nm\n.\np\ny\n\n"
      ]
    },
    {
      "cell_type": "markdown",
      "metadata": {},
      "source": [
        "\u5982\u679c\u4f60\u5c06\u4f60\u7684\u4ee3\u7801\u76ee\u5f55\u548c\u5176\u4ed6\u5305\u4e00\u8d77\u6dfb\u52a0\u5230sys.path\uff0c\u8fd9\u5c06\u65e0\u7f1d\u5730\u5408\u5e76\u5230\u522b\u7684spam\u5305\u76ee\u5f55\u4e2d\uff1a"
      ]
    },
    {
      "cell_type": "code",
      "execution_count": null,
      "metadata": {},
      "outputs": [],
      "source": [
        "import spam.custom\nimport spam.grok\nimport spam.blah"
      ]
    },
    {
      "cell_type": "markdown",
      "metadata": {},
      "source": [
        "\u4e00\u4e2a\u5305\u662f\u5426\u88ab\u4f5c\u4e3a\u4e00\u4e2a\u5305\u547d\u540d\u7a7a\u95f4\u7684\u4e3b\u8981\u65b9\u6cd5\u662f\u68c0\u67e5\u5176__file__\u5c5e\u6027\u3002\u5982\u679c\u6ca1\u6709\uff0c\u90a3\u5305\u662f\u4e2a\u547d\u540d\u7a7a\u95f4\u3002\u8fd9\u4e5f\u53ef\u4ee5\u7531\u5176\u5b57\u7b26\u8868\u73b0\u5f62\u5f0f\u4e2d\u7684\u201cnamespace\u201d\u8fd9\u4e2a\u8bcd\u4f53\u73b0\u51fa\u6765\u3002"
      ]
    },
    {
      "cell_type": "code",
      "execution_count": null,
      "metadata": {},
      "outputs": [],
      "source": [
        "spam.__file__"
      ]
    },
    {
      "cell_type": "code",
      "execution_count": null,
      "metadata": {},
      "outputs": [],
      "source": [
        "spam"
      ]
    },
    {
      "cell_type": "markdown",
      "metadata": {},
      "source": [
        "\u66f4\u591a\u7684\u5305\u547d\u540d\u7a7a\u95f4\u4fe1\u606f\u53ef\u4ee5\u67e5\u770b\nPEP 420."
      ]
    },
    {
      "cell_type": "markdown",
      "metadata": {},
      "source": [
        "## 10.6 \u91cd\u65b0\u52a0\u8f7d\u6a21\u5757\n"
      ]
    },
    {
      "cell_type": "markdown",
      "metadata": {},
      "source": [
        "### \u95ee\u9898\n"
      ]
    },
    {
      "cell_type": "markdown",
      "metadata": {},
      "source": [
        "\u4f60\u60f3\u91cd\u65b0\u52a0\u8f7d\u5df2\u7ecf\u52a0\u8f7d\u7684\u6a21\u5757\uff0c\u56e0\u4e3a\u4f60\u5bf9\u5176\u6e90\u7801\u8fdb\u884c\u4e86\u4fee\u6539\u3002"
      ]
    },
    {
      "cell_type": "markdown",
      "metadata": {},
      "source": [
        "### \u89e3\u51b3\u65b9\u6848\n"
      ]
    },
    {
      "cell_type": "markdown",
      "metadata": {},
      "source": [
        "\u4f7f\u7528imp.reload()\u6765\u91cd\u65b0\u52a0\u8f7d\u5148\u524d\u52a0\u8f7d\u7684\u6a21\u5757\u3002\u4e3e\u4e2a\u4f8b\u5b50\uff1a"
      ]
    },
    {
      "cell_type": "code",
      "execution_count": null,
      "metadata": {},
      "outputs": [],
      "source": [
        "import spam\nimport imp\nimp.reload(spam)"
      ]
    },
    {
      "cell_type": "markdown",
      "metadata": {},
      "source": [
        "### \u8ba8\u8bba\n"
      ]
    },
    {
      "cell_type": "markdown",
      "metadata": {},
      "source": [
        "\u91cd\u65b0\u52a0\u8f7d\u6a21\u5757\u5728\u5f00\u53d1\u548c\u8c03\u8bd5\u8fc7\u7a0b\u4e2d\u5e38\u5e38\u5f88\u6709\u7528\u3002\u4f46\u5728\u751f\u4ea7\u73af\u5883\u4e2d\u7684\u4ee3\u7801\u4f7f\u7528\u4f1a\u4e0d\u5b89\u5168\uff0c\u56e0\u4e3a\u5b83\u5e76\u4e0d\u603b\u662f\u50cf\u60a8\u671f\u671b\u7684\u90a3\u6837\u5de5\u4f5c\u3002"
      ]
    },
    {
      "cell_type": "markdown",
      "metadata": {},
      "source": [
        "reload()\u64e6\u9664\u4e86\u6a21\u5757\u5e95\u5c42\u5b57\u5178\u7684\u5185\u5bb9\uff0c\u5e76\u901a\u8fc7\u91cd\u65b0\u6267\u884c\u6a21\u5757\u7684\u6e90\u4ee3\u7801\u6765\u5237\u65b0\u5b83\u3002\u6a21\u5757\u5bf9\u8c61\u672c\u8eab\u7684\u8eab\u4efd\u4fdd\u6301\u4e0d\u53d8\u3002\u56e0\u6b64\uff0c\u8be5\u64cd\u4f5c\u5728\u7a0b\u5e8f\u4e2d\u6240\u6709\u5df2\u7ecf\u88ab\u5bfc\u5165\u4e86\u7684\u5730\u65b9\u66f4\u65b0\u4e86\u6a21\u5757\u3002"
      ]
    },
    {
      "cell_type": "markdown",
      "metadata": {},
      "source": [
        "\u5c3d\u7ba1\u5982\u6b64\uff0creload()\u6ca1\u6709\u66f4\u65b0\u50cf\u201dfrom module import name\u201d\u8fd9\u6837\u4f7f\u7528import\u8bed\u53e5\u5bfc\u5165\u7684\u5b9a\u4e49\u3002\u4e3e\u4e2a\u4f8b\u5b50\uff1a"
      ]
    },
    {
      "cell_type": "code",
      "execution_count": null,
      "metadata": {},
      "outputs": [],
      "source": [
        "#\n \ns\np\na\nm\n.\np\ny\n\n\nd\ne\nf\n \nb\na\nr\n(\n)\n:\n\n\n \n \n \n \np\nr\ni\nn\nt\n(\n'\nb\na\nr\n'\n)\n\n\n\n\nd\ne\nf\n \ng\nr\no\nk\n(\n)\n:\n\n\n \n \n \n \np\nr\ni\nn\nt\n(\n'\ng\nr\no\nk\n'\n)\n\n"
      ]
    },
    {
      "cell_type": "markdown",
      "metadata": {},
      "source": [
        "\u73b0\u5728\u542f\u52a8\u4ea4\u4e92\u5f0f\u4f1a\u8bdd\uff1a"
      ]
    },
    {
      "cell_type": "code",
      "execution_count": null,
      "metadata": {},
      "outputs": [],
      "source": [
        "import spam\nfrom spam import grok\nspam.bar()"
      ]
    },
    {
      "cell_type": "code",
      "execution_count": null,
      "metadata": {},
      "outputs": [],
      "source": [
        "grok()"
      ]
    },
    {
      "cell_type": "markdown",
      "metadata": {},
      "source": [
        "\u4e0d\u9000\u51faPython\u4fee\u6539spam.py\u7684\u6e90\u7801\uff0c\u5c06grok()\u51fd\u6570\u6539\u6210\u8fd9\u6837\uff1a"
      ]
    },
    {
      "cell_type": "code",
      "execution_count": null,
      "metadata": {},
      "outputs": [],
      "source": [
        "d\ne\nf\n \ng\nr\no\nk\n(\n)\n:\n\n\n \n \n \n \np\nr\ni\nn\nt\n(\n'\nN\ne\nw\n \ng\nr\no\nk\n'\n)\n\n"
      ]
    },
    {
      "cell_type": "markdown",
      "metadata": {},
      "source": [
        "\u73b0\u5728\u56de\u5230\u4ea4\u4e92\u5f0f\u4f1a\u8bdd\uff0c\u91cd\u65b0\u52a0\u8f7d\u6a21\u5757\uff0c\u5c1d\u8bd5\u4e0b\u8fd9\u4e2a\u5b9e\u9a8c\uff1a"
      ]
    },
    {
      "cell_type": "code",
      "execution_count": null,
      "metadata": {},
      "outputs": [],
      "source": [
        "import imp\nimp.reload(spam)"
      ]
    },
    {
      "cell_type": "code",
      "execution_count": null,
      "metadata": {},
      "outputs": [],
      "source": [
        "spam.bar()"
      ]
    },
    {
      "cell_type": "code",
      "execution_count": null,
      "metadata": {},
      "outputs": [],
      "source": [
        "grok() # Notice old output"
      ]
    },
    {
      "cell_type": "code",
      "execution_count": null,
      "metadata": {},
      "outputs": [],
      "source": [
        "spam.grok() # Notice new output"
      ]
    },
    {
      "cell_type": "markdown",
      "metadata": {},
      "source": [
        "\u5728\u8fd9\u4e2a\u4f8b\u5b50\u4e2d\uff0c\u4f60\u770b\u5230\u67092\u4e2a\u7248\u672c\u7684grok()\u51fd\u6570\u88ab\u52a0\u8f7d\u3002\u901a\u5e38\u6765\u8bf4\uff0c\u8fd9\u4e0d\u662f\u4f60\u60f3\u8981\u7684\uff0c\u800c\u662f\u4ee4\u4eba\u5934\u75bc\u7684\u4e8b\u3002"
      ]
    },
    {
      "cell_type": "markdown",
      "metadata": {},
      "source": [
        "\u56e0\u6b64\uff0c\u5728\u751f\u4ea7\u73af\u5883\u4e2d\u53ef\u80fd\u9700\u8981\u907f\u514d\u91cd\u65b0\u52a0\u8f7d\u6a21\u5757\u3002\u5728\u4ea4\u4e92\u73af\u5883\u4e0b\u8c03\u8bd5\uff0c\u89e3\u91ca\u7a0b\u5e8f\u5e76\u8bd5\u56fe\u5f04\u61c2\u5b83\u3002"
      ]
    },
    {
      "cell_type": "markdown",
      "metadata": {},
      "source": [
        "## 10.7 \u8fd0\u884c\u76ee\u5f55\u6216\u538b\u7f29\u6587\u4ef6\n"
      ]
    },
    {
      "cell_type": "markdown",
      "metadata": {},
      "source": [
        "### \u95ee\u9898\n"
      ]
    },
    {
      "cell_type": "markdown",
      "metadata": {},
      "source": [
        "\u60a8\u6709\u4e00\u4e2a\u5df2\u6210\u957f\u4e3a\u5305\u542b\u591a\u4e2a\u6587\u4ef6\u7684\u5e94\u7528\uff0c\u5b83\u5df2\u8fdc\u4e0d\u518d\u662f\u4e00\u4e2a\u7b80\u5355\u7684\u811a\u672c\uff0c\u4f60\u60f3\u5411\u7528\u6237\u63d0\u4f9b\u4e00\u4e9b\u7b80\u5355\u7684\u65b9\u6cd5\u8fd0\u884c\u8fd9\u4e2a\u7a0b\u5e8f\u3002"
      ]
    },
    {
      "cell_type": "markdown",
      "metadata": {},
      "source": [
        "### \u89e3\u51b3\u65b9\u6848\n"
      ]
    },
    {
      "cell_type": "markdown",
      "metadata": {},
      "source": [
        "\u5982\u679c\u4f60\u7684\u5e94\u7528\u7a0b\u5e8f\u5df2\u7ecf\u6709\u591a\u4e2a\u6587\u4ef6\uff0c\u4f60\u53ef\u4ee5\u628a\u4f60\u7684\u5e94\u7528\u7a0b\u5e8f\u653e\u8fdb\u5b83\u81ea\u5df1\u7684\u76ee\u5f55\u5e76\u6dfb\u52a0\u4e00\u4e2a__main__.py\u6587\u4ef6\u3002 \u4e3e\u4e2a\u4f8b\u5b50\uff0c\u4f60\u53ef\u4ee5\u50cf\u8fd9\u6837\u521b\u5efa\u76ee\u5f55\uff1a"
      ]
    },
    {
      "cell_type": "code",
      "execution_count": null,
      "metadata": {},
      "outputs": [],
      "source": [
        "m\ny\na\np\np\nl\ni\nc\na\nt\ni\no\nn\n/\n\n\n \n \n \n \ns\np\na\nm\n.\np\ny\n\n\n \n \n \n \nb\na\nr\n.\np\ny\n\n\n \n \n \n \ng\nr\no\nk\n.\np\ny\n\n\n \n \n \n \n_\n_\nm\na\ni\nn\n_\n_\n.\np\ny\n\n"
      ]
    },
    {
      "cell_type": "markdown",
      "metadata": {},
      "source": [
        "\u5982\u679c__main__.py\u5b58\u5728\uff0c\u4f60\u53ef\u4ee5\u7b80\u5355\u5730\u5728\u9876\u7ea7\u76ee\u5f55\u8fd0\u884cPython\u89e3\u91ca\u5668\uff1a"
      ]
    },
    {
      "cell_type": "code",
      "execution_count": null,
      "metadata": {},
      "outputs": [],
      "source": [
        "b\na\ns\nh\n \n%\n \np\ny\nt\nh\no\nn\n3\n \nm\ny\na\np\np\nl\ni\nc\na\nt\ni\no\nn\n\n"
      ]
    },
    {
      "cell_type": "markdown",
      "metadata": {},
      "source": [
        "\u89e3\u91ca\u5668\u5c06\u6267\u884c__main__.py\u6587\u4ef6\u4f5c\u4e3a\u4e3b\u7a0b\u5e8f\u3002"
      ]
    },
    {
      "cell_type": "markdown",
      "metadata": {},
      "source": [
        "\u5982\u679c\u4f60\u5c06\u4f60\u7684\u4ee3\u7801\u6253\u5305\u6210zip\u6587\u4ef6\uff0c\u8fd9\u79cd\u6280\u672f\u540c\u6837\u4e5f\u9002\u7528\uff0c\u4e3e\u4e2a\u4f8b\u5b50\uff1a"
      ]
    },
    {
      "cell_type": "code",
      "execution_count": null,
      "metadata": {},
      "outputs": [],
      "source": [
        "b\na\ns\nh\n \n%\n \nl\ns\n\n\ns\np\na\nm\n.\np\ny\n \nb\na\nr\n.\np\ny\n \ng\nr\no\nk\n.\np\ny\n \n_\n_\nm\na\ni\nn\n_\n_\n.\np\ny\n\n\nb\na\ns\nh\n \n%\n \nz\ni\np\n \n-\nr\n \nm\ny\na\np\np\n.\nz\ni\np\n \n*\n.\np\ny\n\n\nb\na\ns\nh\n \n%\n \np\ny\nt\nh\no\nn\n3\n \nm\ny\na\np\np\n.\nz\ni\np\n\n\n.\n.\n.\n \no\nu\nt\np\nu\nt\n \nf\nr\no\nm\n \n_\n_\nm\na\ni\nn\n_\n_\n.\np\ny\n \n.\n.\n.\n\n"
      ]
    },
    {
      "cell_type": "markdown",
      "metadata": {},
      "source": [
        "### \u8ba8\u8bba\n"
      ]
    },
    {
      "cell_type": "markdown",
      "metadata": {},
      "source": [
        "\u521b\u5efa\u4e00\u4e2a\u76ee\u5f55\u6216zip\u6587\u4ef6\u5e76\u6dfb\u52a0__main__.py\u6587\u4ef6\u6765\u5c06\u4e00\u4e2a\u66f4\u5927\u7684Python\u5e94\u7528\u6253\u5305\u662f\u53ef\u884c\u7684\u3002\u8fd9\u548c\u4f5c\u4e3a\u6807\u51c6\u5e93\u88ab\u5b89\u88c5\u5230Python\u5e93\u7684\u4ee3\u7801\u5305\u662f\u6709\u4e00\u70b9\u533a\u522b\u7684\u3002\u76f8\u53cd\uff0c\u8fd9\u53ea\u662f\u8ba9\u522b\u4eba\u6267\u884c\u7684\u4ee3\u7801\u5305\u3002"
      ]
    },
    {
      "cell_type": "markdown",
      "metadata": {},
      "source": [
        "\u7531\u4e8e\u76ee\u5f55\u548czip\u6587\u4ef6\u4e0e\u6b63\u5e38\u6587\u4ef6\u6709\u4e00\u70b9\u4e0d\u540c\uff0c\u4f60\u53ef\u80fd\u8fd8\u9700\u8981\u589e\u52a0\u4e00\u4e2ashell\u811a\u672c\uff0c\u4f7f\u6267\u884c\u66f4\u52a0\u5bb9\u6613\u3002\u4f8b\u5982\uff0c\u5982\u679c\u4ee3\u7801\u6587\u4ef6\u540d\u4e3amyapp.zip\uff0c\u4f60\u53ef\u4ee5\u521b\u5efa\u8fd9\u6837\u4e00\u4e2a\u9876\u7ea7\u811a\u672c\uff1a"
      ]
    },
    {
      "cell_type": "code",
      "execution_count": null,
      "metadata": {},
      "outputs": [],
      "source": [
        "#\n!\n/\nu\ns\nr\n/\nb\ni\nn\n/\ne\nn\nv\n \np\ny\nt\nh\no\nn\n3\n \n/\nu\ns\nr\n/\nl\no\nc\na\nl\n/\nb\ni\nn\n/\nm\ny\na\np\np\n.\nz\ni\np\n\n"
      ]
    },
    {
      "cell_type": "markdown",
      "metadata": {},
      "source": [
        "## 10.8 \u8bfb\u53d6\u4f4d\u4e8e\u5305\u4e2d\u7684\u6570\u636e\u6587\u4ef6\n"
      ]
    },
    {
      "cell_type": "markdown",
      "metadata": {},
      "source": [
        "### \u95ee\u9898\n"
      ]
    },
    {
      "cell_type": "markdown",
      "metadata": {},
      "source": [
        "\u4f60\u7684\u5305\u4e2d\u5305\u542b\u4ee3\u7801\u9700\u8981\u53bb\u8bfb\u53d6\u7684\u6570\u636e\u6587\u4ef6\u3002\u4f60\u9700\u8981\u5c3d\u53ef\u80fd\u5730\u7528\u6700\u4fbf\u6377\u7684\u65b9\u5f0f\u6765\u505a\u8fd9\u4ef6\u4e8b\u3002"
      ]
    },
    {
      "cell_type": "markdown",
      "metadata": {},
      "source": [
        "### \u89e3\u51b3\u65b9\u6848\n"
      ]
    },
    {
      "cell_type": "markdown",
      "metadata": {},
      "source": [
        "\u5047\u8bbe\u4f60\u7684\u5305\u4e2d\u7684\u6587\u4ef6\u7ec4\u7ec7\u6210\u5982\u4e0b\uff1a"
      ]
    },
    {
      "cell_type": "code",
      "execution_count": null,
      "metadata": {},
      "outputs": [],
      "source": [
        "m\ny\np\na\nc\nk\na\ng\ne\n/\n\n\n \n \n \n \n_\n_\ni\nn\ni\nt\n_\n_\n.\np\ny\n\n\n \n \n \n \ns\no\nm\ne\nd\na\nt\na\n.\nd\na\nt\n\n\n \n \n \n \ns\np\na\nm\n.\np\ny\n\n"
      ]
    },
    {
      "cell_type": "markdown",
      "metadata": {},
      "source": [
        "\u73b0\u5728\u5047\u8bbespam.py\u6587\u4ef6\u9700\u8981\u8bfb\u53d6somedata.dat\u6587\u4ef6\u4e2d\u7684\u5185\u5bb9\u3002\u4f60\u53ef\u4ee5\u7528\u4ee5\u4e0b\u4ee3\u7801\u6765\u5b8c\u6210\uff1a"
      ]
    },
    {
      "cell_type": "code",
      "execution_count": null,
      "metadata": {},
      "outputs": [],
      "source": [
        "#\n \ns\np\na\nm\n.\np\ny\n\n\ni\nm\np\no\nr\nt\n \np\nk\ng\nu\nt\ni\nl\n\n\nd\na\nt\na\n \n=\n \np\nk\ng\nu\nt\ni\nl\n.\ng\ne\nt\n_\nd\na\nt\na\n(\n_\n_\np\na\nc\nk\na\ng\ne\n_\n_\n,\n \n'\ns\no\nm\ne\nd\na\nt\na\n.\nd\na\nt\n'\n)\n\n"
      ]
    },
    {
      "cell_type": "markdown",
      "metadata": {},
      "source": [
        "\u7531\u6b64\u4ea7\u751f\u7684\u53d8\u91cf\u662f\u5305\u542b\u8be5\u6587\u4ef6\u7684\u539f\u59cb\u5185\u5bb9\u7684\u5b57\u8282\u5b57\u7b26\u4e32\u3002"
      ]
    },
    {
      "cell_type": "markdown",
      "metadata": {},
      "source": [
        "### \u8ba8\u8bba\n"
      ]
    },
    {
      "cell_type": "markdown",
      "metadata": {},
      "source": [
        "\u8981\u8bfb\u53d6\u6570\u636e\u6587\u4ef6\uff0c\u4f60\u53ef\u80fd\u4f1a\u503e\u5411\u4e8e\u7f16\u5199\u4f7f\u7528\u5185\u7f6e\u7684I/ O\u529f\u80fd\u7684\u4ee3\u7801\uff0c\u5982open()\u3002\u4f46\u662f\u8fd9\u79cd\u65b9\u6cd5\u4e5f\u6709\u4e00\u4e9b\u95ee\u9898\u3002"
      ]
    },
    {
      "cell_type": "markdown",
      "metadata": {},
      "source": [
        "\u9996\u5148\uff0c\u4e00\u4e2a\u5305\u5bf9\u89e3\u91ca\u5668\u7684\u5f53\u524d\u5de5\u4f5c\u76ee\u5f55\u51e0\u4e4e\u6ca1\u6709\u63a7\u5236\u6743\u3002\u56e0\u6b64\uff0c\u7f16\u7a0b\u65f6\u4efb\u4f55I/O\u64cd\u4f5c\u90fd\u5fc5\u987b\u4f7f\u7528\u7edd\u5bf9\u6587\u4ef6\u540d\u3002\u7531\u4e8e\u6bcf\u4e2a\u6a21\u5757\u5305\u542b\u6709\u5b8c\u6574\u8def\u5f84\u7684__file__\u53d8\u91cf\uff0c\u8fd9\u5f04\u6e05\u695a\u5b83\u7684\u8def\u5f84\u4e0d\u662f\u4e0d\u53ef\u80fd\uff0c\u4f46\u5b83\u5f88\u51cc\u4e71\u3002"
      ]
    },
    {
      "cell_type": "markdown",
      "metadata": {},
      "source": [
        "\u7b2c\u4e8c\uff0c\u5305\u901a\u5e38\u5b89\u88c5\u4f5c\u4e3a.zip\u6216.egg\u6587\u4ef6\uff0c\u8fd9\u4e9b\u6587\u4ef6\u5e76\u4e0d\u50cf\u5728\u6587\u4ef6\u7cfb\u7edf\u4e0a\u7684\u4e00\u4e2a\u666e\u901a\u76ee\u5f55\u91cc\u90a3\u6837\u88ab\u4fdd\u5b58\u3002\u56e0\u6b64\uff0c\u4f60\u8bd5\u56fe\u7528open()\u5bf9\u4e00\u4e2a\u5305\u542b\u6570\u636e\u6587\u4ef6\u7684\u5f52\u6863\u6587\u4ef6\u8fdb\u884c\u64cd\u4f5c\uff0c\u5b83\u6839\u672c\u4e0d\u4f1a\u5de5\u4f5c\u3002"
      ]
    },
    {
      "cell_type": "markdown",
      "metadata": {},
      "source": [
        "pkgutil.get_data()\u51fd\u6570\u662f\u4e00\u4e2a\u8bfb\u53d6\u6570\u636e\u6587\u4ef6\u7684\u9ad8\u7ea7\u5de5\u5177\uff0c\u4e0d\u7528\u7ba1\u5305\u662f\u5982\u4f55\u5b89\u88c5\u4ee5\u53ca\u5b89\u88c5\u5728\u54ea\u3002\u5b83\u53ea\u662f\u5de5\u4f5c\u5e76\u5c06\u6587\u4ef6\u5185\u5bb9\u4ee5\u5b57\u8282\u5b57\u7b26\u4e32\u8fd4\u56de\u7ed9\u4f60"
      ]
    },
    {
      "cell_type": "markdown",
      "metadata": {},
      "source": [
        "get_data()\u7684\u7b2c\u4e00\u4e2a\u53c2\u6570\u662f\u5305\u542b\u5305\u540d\u7684\u5b57\u7b26\u4e32\u3002\u4f60\u53ef\u4ee5\u76f4\u63a5\u4f7f\u7528\u5305\u540d\uff0c\u4e5f\u53ef\u4ee5\u4f7f\u7528\u7279\u6b8a\u7684\u53d8\u91cf\uff0c\u6bd4\u5982__package__\u3002\u7b2c\u4e8c\u4e2a\u53c2\u6570\u662f\u5305\u5185\u6587\u4ef6\u7684\u76f8\u5bf9\u540d\u79f0\u3002\u5982\u679c\u6709\u5fc5\u8981\uff0c\u53ef\u4ee5\u4f7f\u7528\u6807\u51c6\u7684Unix\u547d\u540d\u89c4\u8303\u5230\u4e0d\u540c\u7684\u76ee\u5f55\uff0c\u53ea\u8981\u6700\u540e\u7684\u76ee\u5f55\u4ecd\u7136\u4f4d\u4e8e\u5305\u4e2d\u3002"
      ]
    },
    {
      "cell_type": "markdown",
      "metadata": {},
      "source": [
        "## 10.9 \u5c06\u6587\u4ef6\u5939\u52a0\u5165\u5230sys.path\n"
      ]
    },
    {
      "cell_type": "markdown",
      "metadata": {},
      "source": [
        "### \u95ee\u9898\n"
      ]
    },
    {
      "cell_type": "markdown",
      "metadata": {},
      "source": [
        "\u4f60\u65e0\u6cd5\u5bfc\u5165\u4f60\u7684Python\u4ee3\u7801\u56e0\u4e3a\u5b83\u6240\u5728\u7684\u76ee\u5f55\u4e0d\u5728sys.path\u91cc\u3002\u4f60\u60f3\u5c06\u6dfb\u52a0\u65b0\u76ee\u5f55\u5230Python\u8def\u5f84\uff0c\u4f46\u662f\u4e0d\u60f3\u786c\u94fe\u63a5\u5230\u4f60\u7684\u4ee3\u7801\u3002"
      ]
    },
    {
      "cell_type": "markdown",
      "metadata": {},
      "source": [
        "### \u89e3\u51b3\u65b9\u6848\n"
      ]
    },
    {
      "cell_type": "markdown",
      "metadata": {},
      "source": [
        "\u6709\u4e24\u79cd\u5e38\u7528\u7684\u65b9\u5f0f\u5c06\u65b0\u76ee\u5f55\u6dfb\u52a0\u5230sys.path\u3002\u7b2c\u4e00\u79cd\uff0c\u4f60\u53ef\u4ee5\u4f7f\u7528PYTHONPATH\u73af\u5883\u53d8\u91cf\u6765\u6dfb\u52a0\u3002\u4f8b\u5982\uff1a"
      ]
    },
    {
      "cell_type": "code",
      "execution_count": null,
      "metadata": {},
      "outputs": [],
      "source": [
        "import sys\nsys.path"
      ]
    },
    {
      "cell_type": "markdown",
      "metadata": {},
      "source": [
        "\u5728\u81ea\u5b9a\u4e49\u5e94\u7528\u7a0b\u5e8f\u4e2d\uff0c\u8fd9\u6837\u7684\u73af\u5883\u53d8\u91cf\u53ef\u5728\u7a0b\u5e8f\u542f\u52a8\u65f6\u8bbe\u7f6e\u6216\u901a\u8fc7shell\u811a\u672c\u3002"
      ]
    },
    {
      "cell_type": "markdown",
      "metadata": {},
      "source": [
        "\u7b2c\u4e8c\u79cd\u65b9\u6cd5\u662f\u521b\u5efa\u4e00\u4e2a.pth\u6587\u4ef6\uff0c\u5c06\u76ee\u5f55\u5217\u4e3e\u51fa\u6765\uff0c\u50cf\u8fd9\u6837\uff1a"
      ]
    },
    {
      "cell_type": "code",
      "execution_count": null,
      "metadata": {},
      "outputs": [],
      "source": [
        "#\n \nm\ny\na\np\np\nl\ni\nc\na\nt\ni\no\nn\n.\np\nt\nh\n\n\n/\ns\no\nm\ne\n/\nd\ni\nr\n\n\n/\no\nt\nh\ne\nr\n/\nd\ni\nr\n\n"
      ]
    },
    {
      "cell_type": "markdown",
      "metadata": {},
      "source": [
        "\u8fd9\u4e2a.pth\u6587\u4ef6\u9700\u8981\u653e\u5728\u67d0\u4e2aPython\u7684site-packages\u76ee\u5f55\uff0c\u901a\u5e38\u4f4d\u4e8e/usr/local/lib/python3.3/site-packages \u6216\u8005 ~/.local/lib/python3.3/sitepackages\u3002\u5f53\u89e3\u91ca\u5668\u542f\u52a8\u65f6\uff0c.pth\u6587\u4ef6\u91cc\u5217\u4e3e\u51fa\u6765\u7684\u5b58\u5728\u4e8e\u6587\u4ef6\u7cfb\u7edf\u7684\u76ee\u5f55\u5c06\u88ab\u6dfb\u52a0\u5230sys.path\u3002\u5b89\u88c5\u4e00\u4e2a.pth\u6587\u4ef6\u53ef\u80fd\u9700\u8981\u7ba1\u7406\u5458\u6743\u9650\uff0c\u5982\u679c\u5b83\u88ab\u6dfb\u52a0\u5230\u7cfb\u7edf\u7ea7\u7684Python\u89e3\u91ca\u5668\u3002"
      ]
    },
    {
      "cell_type": "markdown",
      "metadata": {},
      "source": [
        "### \u8ba8\u8bba\n"
      ]
    },
    {
      "cell_type": "markdown",
      "metadata": {},
      "source": [
        "\u6bd4\u8d77\u8d39\u529b\u5730\u627e\u6587\u4ef6\uff0c\u4f60\u53ef\u80fd\u4f1a\u503e\u5411\u4e8e\u5199\u4e00\u4e2a\u4ee3\u7801\u624b\u52a8\u8c03\u8282sys.path\u7684\u503c\u3002\u4f8b\u5982:"
      ]
    },
    {
      "cell_type": "code",
      "execution_count": null,
      "metadata": {},
      "outputs": [],
      "source": [
        "i\nm\np\no\nr\nt\n \ns\ny\ns\n\n\ns\ny\ns\n.\np\na\nt\nh\n.\ni\nn\ns\ne\nr\nt\n(\n0\n,\n \n'\n/\ns\no\nm\ne\n/\nd\ni\nr\n'\n)\n\n\ns\ny\ns\n.\np\na\nt\nh\n.\ni\nn\ns\ne\nr\nt\n(\n0\n,\n \n'\n/\no\nt\nh\ne\nr\n/\nd\ni\nr\n'\n)\n\n"
      ]
    },
    {
      "cell_type": "markdown",
      "metadata": {},
      "source": [
        "\u867d\u7136\u8fd9\u80fd\u201c\u5de5\u4f5c\u201d\uff0c\u4f46\u662f\u5728\u5b9e\u8df5\u4e2d\u6781\u4e3a\u8106\u5f31\uff0c\u5e94\u5c3d\u91cf\u907f\u514d\u4f7f\u7528\u3002\u8fd9\u79cd\u65b9\u6cd5\u7684\u95ee\u9898\u662f\uff0c\u5b83\u5c06\u76ee\u5f55\u540d\u786c\u7f16\u7801\u5230\u4e86\u4f60\u7684\u6e90\u4ee3\u7801\u3002\u5982\u679c\u4f60\u7684\u4ee3\u7801\u88ab\u79fb\u5230\u4e00\u4e2a\u65b0\u7684\u4f4d\u7f6e\uff0c\u8fd9\u4f1a\u5bfc\u81f4\u7ef4\u62a4\u95ee\u9898\u3002\u66f4\u597d\u7684\u505a\u6cd5\u662f\u5728\u4e0d\u4fee\u6539\u6e90\u4ee3\u7801\u7684\u60c5\u51b5\u4e0b\uff0c\u5c06path\u914d\u7f6e\u5230\u5176\u4ed6\u5730\u65b9\u3002\u5982\u679c\u60a8\u4f7f\u7528\u6a21\u5757\u7ea7\u7684\u53d8\u91cf\u6765\u7cbe\u5fc3\u6784\u9020\u4e00\u4e2a\u9002\u5f53\u7684\u7edd\u5bf9\u8def\u5f84\uff0c\u6709\u65f6\u4f60\u53ef\u4ee5\u89e3\u51b3\u786c\u7f16\u7801\u76ee\u5f55\u7684\u95ee\u9898\uff0c\u6bd4\u5982__file__\u3002\u4e3e\u4e2a\u4f8b\u5b50\uff1a"
      ]
    },
    {
      "cell_type": "code",
      "execution_count": null,
      "metadata": {},
      "outputs": [],
      "source": [
        "i\nm\np\no\nr\nt\n \ns\ny\ns\n\n\nf\nr\no\nm\n \no\ns\n.\np\na\nt\nh\n \ni\nm\np\no\nr\nt\n \na\nb\ns\np\na\nt\nh\n,\n \nj\no\ni\nn\n,\n \nd\ni\nr\nn\na\nm\ne\n\n\ns\ny\ns\n.\np\na\nt\nh\n.\ni\nn\ns\ne\nr\nt\n(\n0\n,\n \nj\no\ni\nn\n(\na\nb\ns\np\na\nt\nh\n(\nd\ni\nr\nn\na\nm\ne\n(\n_\n_\nf\ni\nl\ne\n_\n_\n)\n)\n,\n \n'\ns\nr\nc\n'\n)\n)\n\n"
      ]
    },
    {
      "cell_type": "markdown",
      "metadata": {},
      "source": [
        "\u8fd9\u5c06src\u76ee\u5f55\u6dfb\u52a0\u5230path\u91cc\uff0c\u548c\u6267\u884c\u63d2\u5165\u6b65\u9aa4\u7684\u4ee3\u7801\u5728\u540c\u4e00\u4e2a\u76ee\u5f55\u91cc\u3002"
      ]
    },
    {
      "cell_type": "markdown",
      "metadata": {},
      "source": [
        "site-packages\u76ee\u5f55\u662f\u7b2c\u4e09\u65b9\u5305\u548c\u6a21\u5757\u5b89\u88c5\u7684\u76ee\u5f55\u3002\u5982\u679c\u4f60\u624b\u52a8\u5b89\u88c5\u4f60\u7684\u4ee3\u7801\uff0c\u5b83\u5c06\u88ab\u5b89\u88c5\u5230site-packages\u76ee\u5f55\u3002\u867d\u7136\u7528\u4e8e\u914d\u7f6epath\u7684.pth\u6587\u4ef6\u5fc5\u987b\u653e\u7f6e\u5728site-packages\u91cc\uff0c\u4f46\u5b83\u914d\u7f6e\u7684\u8def\u5f84\u53ef\u4ee5\u662f\u7cfb\u7edf\u4e0a\u4efb\u4f55\u4f60\u5e0c\u671b\u7684\u76ee\u5f55\u3002\u56e0\u6b64\uff0c\u4f60\u53ef\u4ee5\u628a\u4f60\u7684\u4ee3\u7801\u653e\u5728\u4e00\u7cfb\u5217\u4e0d\u540c\u7684\u76ee\u5f55\uff0c\u53ea\u8981\u90a3\u4e9b\u76ee\u5f55\u5305\u542b\u5728.pth\u6587\u4ef6\u91cc\u3002"
      ]
    },
    {
      "cell_type": "markdown",
      "metadata": {},
      "source": [
        "## 10.10 \u901a\u8fc7\u5b57\u7b26\u4e32\u540d\u5bfc\u5165\u6a21\u5757\n"
      ]
    },
    {
      "cell_type": "markdown",
      "metadata": {},
      "source": [
        "### \u95ee\u9898\n"
      ]
    },
    {
      "cell_type": "markdown",
      "metadata": {},
      "source": [
        "\u4f60\u60f3\u5bfc\u5165\u4e00\u4e2a\u6a21\u5757\uff0c\u4f46\u662f\u6a21\u5757\u7684\u540d\u5b57\u5728\u5b57\u7b26\u4e32\u91cc\u3002\u4f60\u60f3\u5bf9\u5b57\u7b26\u4e32\u8c03\u7528\u5bfc\u5165\u547d\u4ee4\u3002"
      ]
    },
    {
      "cell_type": "markdown",
      "metadata": {},
      "source": [
        "### \u89e3\u51b3\u65b9\u6848\n"
      ]
    },
    {
      "cell_type": "markdown",
      "metadata": {},
      "source": [
        "\u4f7f\u7528importlib.import_module()\u51fd\u6570\u6765\u624b\u52a8\u5bfc\u5165\u540d\u5b57\u4e3a\u5b57\u7b26\u4e32\u7ed9\u51fa\u7684\u4e00\u4e2a\u6a21\u5757\u6216\u8005\u5305\u7684\u4e00\u90e8\u5206\u3002\u4e3e\u4e2a\u4f8b\u5b50\uff1a"
      ]
    },
    {
      "cell_type": "code",
      "execution_count": null,
      "metadata": {},
      "outputs": [],
      "source": [
        "import importlib\nmath = importlib.import_module('math')\nmath.sin(2)"
      ]
    },
    {
      "cell_type": "code",
      "execution_count": null,
      "metadata": {},
      "outputs": [],
      "source": [
        "mod = importlib.import_module('urllib.request')\nu = mod.urlopen('http://www.python.org')"
      ]
    },
    {
      "cell_type": "markdown",
      "metadata": {},
      "source": [
        "import_module\u53ea\u662f\u7b80\u5355\u5730\u6267\u884c\u548cimport\u76f8\u540c\u7684\u6b65\u9aa4\uff0c\u4f46\u662f\u8fd4\u56de\u751f\u6210\u7684\u6a21\u5757\u5bf9\u8c61\u3002\u4f60\u53ea\u9700\u8981\u5c06\u5176\u5b58\u50a8\u5728\u4e00\u4e2a\u53d8\u91cf\uff0c\u7136\u540e\u50cf\u6b63\u5e38\u7684\u6a21\u5757\u4e00\u6837\u4f7f\u7528\u3002"
      ]
    },
    {
      "cell_type": "markdown",
      "metadata": {},
      "source": [
        "\u5982\u679c\u4f60\u6b63\u5728\u4f7f\u7528\u7684\u5305\uff0cimport_module()\u4e5f\u53ef\u7528\u4e8e\u76f8\u5bf9\u5bfc\u5165\u3002\u4f46\u662f\uff0c\u4f60\u9700\u8981\u7ed9\u5b83\u4e00\u4e2a\u989d\u5916\u7684\u53c2\u6570\u3002\u4f8b\u5982\uff1a"
      ]
    },
    {
      "cell_type": "code",
      "execution_count": null,
      "metadata": {},
      "outputs": [],
      "source": [
        "i\nm\np\no\nr\nt\n \ni\nm\np\no\nr\nt\nl\ni\nb\n\n\n#\n \nS\na\nm\ne\n \na\ns\n \n'\nf\nr\no\nm\n \n.\n \ni\nm\np\no\nr\nt\n \nb\n'\n\n\nb\n \n=\n \ni\nm\np\no\nr\nt\nl\ni\nb\n.\ni\nm\np\no\nr\nt\n_\nm\no\nd\nu\nl\ne\n(\n'\n.\nb\n'\n,\n \n_\n_\np\na\nc\nk\na\ng\ne\n_\n_\n)\n\n"
      ]
    },
    {
      "cell_type": "markdown",
      "metadata": {},
      "source": [
        "### \u8ba8\u8bba\n"
      ]
    },
    {
      "cell_type": "markdown",
      "metadata": {},
      "source": [
        "\u4f7f\u7528import_module()\u624b\u52a8\u5bfc\u5165\u6a21\u5757\u7684\u95ee\u9898\u901a\u5e38\u51fa\u73b0\u5728\u4ee5\u67d0\u79cd\u65b9\u5f0f\u7f16\u5199\u4fee\u6539\u6216\u8986\u76d6\u6a21\u5757\u7684\u4ee3\u7801\u65f6\u5019\u3002\u4f8b\u5982\uff0c\u4e5f\u8bb8\u4f60\u6b63\u5728\u6267\u884c\u67d0\u79cd\u81ea\u5b9a\u4e49\u5bfc\u5165\u673a\u5236\uff0c\u9700\u8981\u901a\u8fc7\u540d\u79f0\u6765\u52a0\u8f7d\u4e00\u4e2a\u6a21\u5757\uff0c\u901a\u8fc7\u8865\u4e01\u52a0\u8f7d\u4ee3\u7801\u3002"
      ]
    },
    {
      "cell_type": "markdown",
      "metadata": {},
      "source": [
        "\u5728\u65e7\u7684\u4ee3\u7801\uff0c\u6709\u65f6\u4f60\u4f1a\u770b\u5230\u7528\u4e8e\u5bfc\u5165\u7684\u5185\u5efa\u51fd\u6570__import__()\u3002\u5c3d\u7ba1\u5b83\u80fd\u5de5\u4f5c\uff0c\u4f46\u662fimportlib.import_module() \u901a\u5e38\u66f4\u5bb9\u6613\u4f7f\u7528\u3002"
      ]
    },
    {
      "cell_type": "markdown",
      "metadata": {},
      "source": [
        "\u81ea\u5b9a\u4e49\u5bfc\u5165\u8fc7\u7a0b\u7684\u9ad8\u7ea7\u5b9e\u4f8b\u89c110.11\u5c0f\u8282"
      ]
    },
    {
      "cell_type": "markdown",
      "metadata": {},
      "source": [
        "## 10.11 \u901a\u8fc7\u94a9\u5b50\u8fdc\u7a0b\u52a0\u8f7d\u6a21\u5757\n"
      ]
    },
    {
      "cell_type": "markdown",
      "metadata": {},
      "source": [
        "### \u95ee\u9898\n"
      ]
    },
    {
      "cell_type": "markdown",
      "metadata": {},
      "source": [
        "\u4f60\u60f3\u81ea\u5b9a\u4e49Python\u7684import\u8bed\u53e5\uff0c\u4f7f\u5f97\u5b83\u80fd\u4ece\u8fdc\u7a0b\u673a\u5668\u4e0a\u9762\u900f\u660e\u7684\u52a0\u8f7d\u6a21\u5757\u3002"
      ]
    },
    {
      "cell_type": "markdown",
      "metadata": {},
      "source": [
        "### \u89e3\u51b3\u65b9\u6848\n"
      ]
    },
    {
      "cell_type": "markdown",
      "metadata": {},
      "source": [
        "\u9996\u5148\u8981\u63d0\u51fa\u6765\u7684\u662f\u5b89\u5168\u95ee\u9898\u3002\u672c\u8282\u8ba8\u8bba\u7684\u601d\u60f3\u5982\u679c\u6ca1\u6709\u4e00\u4e9b\u989d\u5916\u7684\u5b89\u5168\u548c\u8ba4\u77e5\u673a\u5236\u7684\u8bdd\u4f1a\u5f88\u7cdf\u7cd5\u3002\n\u4e5f\u5c31\u662f\u8bf4\uff0c\u6211\u4eec\u7684\u4e3b\u8981\u76ee\u7684\u662f\u6df1\u5165\u5206\u6790Python\u7684import\u8bed\u53e5\u673a\u5236\u3002\n\u5982\u679c\u4f60\u7406\u89e3\u4e86\u672c\u8282\u5185\u90e8\u539f\u7406\uff0c\u4f60\u5c31\u80fd\u591f\u4e3a\u5176\u4ed6\u4efb\u4f55\u76ee\u7684\u800c\u81ea\u5b9a\u4e49import\u3002\n\u6709\u4e86\u8fd9\u4e9b\uff0c\u8ba9\u6211\u4eec\u7ee7\u7eed\u5411\u524d\u8d70\u3002"
      ]
    },
    {
      "cell_type": "markdown",
      "metadata": {},
      "source": [
        "\u672c\u8282\u6838\u5fc3\u662f\u8bbe\u8ba1\u5bfc\u5165\u8bed\u53e5\u7684\u6269\u5c55\u529f\u80fd\u3002\u6709\u5f88\u591a\u79cd\u65b9\u6cd5\u53ef\u4ee5\u505a\u8fd9\u4e2a\uff0c\n\u4e0d\u8fc7\u4e3a\u4e86\u6f14\u793a\u7684\u65b9\u4fbf\uff0c\u6211\u4eec\u5f00\u59cb\u5148\u6784\u9020\u4e0b\u9762\u8fd9\u4e2aPython\u4ee3\u7801\u7ed3\u6784\uff1a"
      ]
    },
    {
      "cell_type": "code",
      "execution_count": null,
      "metadata": {},
      "outputs": [],
      "source": [
        "t\ne\ns\nt\nc\no\nd\ne\n/\n\n\n \n \n \n \ns\np\na\nm\n.\np\ny\n\n\n \n \n \n \nf\ni\nb\n.\np\ny\n\n\n \n \n \n \ng\nr\no\nk\n/\n\n\n \n \n \n \n \n \n \n \n_\n_\ni\nn\ni\nt\n_\n_\n.\np\ny\n\n\n \n \n \n \n \n \n \n \nb\nl\na\nh\n.\np\ny\n\n"
      ]
    },
    {
      "cell_type": "markdown",
      "metadata": {},
      "source": [
        "\u8fd9\u4e9b\u6587\u4ef6\u7684\u5185\u5bb9\u5e76\u4e0d\u91cd\u8981\uff0c\u4e0d\u8fc7\u6211\u4eec\u5728\u6bcf\u4e2a\u6587\u4ef6\u4e2d\u653e\u5165\u4e86\u5c11\u91cf\u7684\u7b80\u5355\u8bed\u53e5\u548c\u51fd\u6570\uff0c\n\u8fd9\u6837\u4f60\u53ef\u4ee5\u6d4b\u8bd5\u5b83\u4eec\u5e76\u67e5\u770b\u5f53\u5b83\u4eec\u88ab\u5bfc\u5165\u65f6\u7684\u8f93\u51fa\u3002\u4f8b\u5982\uff1a"
      ]
    },
    {
      "cell_type": "code",
      "execution_count": null,
      "metadata": {},
      "outputs": [],
      "source": [
        "#\n \ns\np\na\nm\n.\np\ny\n\n\np\nr\ni\nn\nt\n(\n\"\nI\n'\nm\n \ns\np\na\nm\n\"\n)\n\n\n\n\nd\ne\nf\n \nh\ne\nl\nl\no\n(\nn\na\nm\ne\n)\n:\n\n\n \n \n \n \np\nr\ni\nn\nt\n(\n'\nH\ne\nl\nl\no\n \n%\ns\n'\n \n%\n \nn\na\nm\ne\n)\n\n\n\n\n#\n \nf\ni\nb\n.\np\ny\n\n\np\nr\ni\nn\nt\n(\n\"\nI\n'\nm\n \nf\ni\nb\n\"\n)\n\n\n\n\nd\ne\nf\n \nf\ni\nb\n(\nn\n)\n:\n\n\n \n \n \n \ni\nf\n \nn\n \n<\n \n2\n:\n\n\n \n \n \n \n \n \n \n \nr\ne\nt\nu\nr\nn\n \n1\n\n\n \n \n \n \ne\nl\ns\ne\n:\n\n\n \n \n \n \n \n \n \n \nr\ne\nt\nu\nr\nn\n \nf\ni\nb\n(\nn\n-\n1\n)\n \n+\n \nf\ni\nb\n(\nn\n-\n2\n)\n\n\n\n\n#\n \ng\nr\no\nk\n/\n_\n_\ni\nn\ni\nt\n_\n_\n.\np\ny\n\n\np\nr\ni\nn\nt\n(\n\"\nI\n'\nm\n \ng\nr\no\nk\n.\n_\n_\ni\nn\ni\nt\n_\n_\n\"\n)\n\n\n\n\n#\n \ng\nr\no\nk\n/\nb\nl\na\nh\n.\np\ny\n\n\np\nr\ni\nn\nt\n(\n\"\nI\n'\nm\n \ng\nr\no\nk\n.\nb\nl\na\nh\n\"\n)\n\n"
      ]
    },
    {
      "cell_type": "markdown",
      "metadata": {},
      "source": [
        "\u8fd9\u91cc\u7684\u76ee\u7684\u662f\u5141\u8bb8\u8fd9\u4e9b\u6587\u4ef6\u4f5c\u4e3a\u6a21\u5757\u88ab\u8fdc\u7a0b\u8bbf\u95ee\u3002\n\u4e5f\u8bb8\u6700\u7b80\u5355\u7684\u65b9\u5f0f\u5c31\u662f\u5c06\u5b83\u4eec\u53d1\u5e03\u5230\u4e00\u4e2aweb\u670d\u52a1\u5668\u4e0a\u9762\u3002\u5728testcode\u76ee\u5f55\u4e2d\u50cf\u4e0b\u9762\u8fd9\u6837\u8fd0\u884cPython\uff1a"
      ]
    },
    {
      "cell_type": "code",
      "execution_count": null,
      "metadata": {},
      "outputs": [],
      "source": [
        "b\na\ns\nh\n \n%\n \nc\nd\n \nt\ne\ns\nt\nc\no\nd\ne\n\n\nb\na\ns\nh\n \n%\n \np\ny\nt\nh\no\nn\n3\n \n-\nm\n \nh\nt\nt\np\n.\ns\ne\nr\nv\ne\nr\n \n1\n5\n0\n0\n0\n\n\nS\ne\nr\nv\ni\nn\ng\n \nH\nT\nT\nP\n \no\nn\n \n0\n.\n0\n.\n0\n.\n0\n \np\no\nr\nt\n \n1\n5\n0\n0\n0\n \n.\n.\n.\n\n"
      ]
    },
    {
      "cell_type": "markdown",
      "metadata": {},
      "source": [
        "\u670d\u52a1\u5668\u8fd0\u884c\u8d77\u6765\u540e\u518d\u542f\u52a8\u4e00\u4e2a\u5355\u72ec\u7684Python\u89e3\u91ca\u5668\u3002\n\u786e\u4fdd\u4f60\u53ef\u4ee5\u4f7f\u7528 urllib \u8bbf\u95ee\u5230\u8fdc\u7a0b\u6587\u4ef6\u3002\u4f8b\u5982\uff1a"
      ]
    },
    {
      "cell_type": "code",
      "execution_count": null,
      "metadata": {},
      "outputs": [],
      "source": [
        "from urllib.request import urlopen\nu = urlopen('http://localhost:15000/fib.py')\ndata = u.read().decode('utf-8')\nprint(data)"
      ]
    },
    {
      "cell_type": "markdown",
      "metadata": {},
      "source": [
        "\u4ece\u8fd9\u4e2a\u670d\u52a1\u5668\u52a0\u8f7d\u6e90\u4ee3\u7801\u662f\u63a5\u4e0b\u6765\u672c\u8282\u7684\u57fa\u7840\u3002\n\u4e3a\u4e86\u66ff\u4ee3\u624b\u52a8\u7684\u901a\u8fc7 urlopen() \u6765\u6536\u96c6\u6e90\u6587\u4ef6\uff0c\n\u6211\u4eec\u901a\u8fc7\u81ea\u5b9a\u4e49import\u8bed\u53e5\u6765\u5728\u540e\u53f0\u81ea\u52a8\u5e2e\u6211\u4eec\u505a\u5230\u3002"
      ]
    },
    {
      "cell_type": "markdown",
      "metadata": {},
      "source": [
        "\u52a0\u8f7d\u8fdc\u7a0b\u6a21\u5757\u7684\u7b2c\u4e00\u79cd\u65b9\u6cd5\u662f\u521b\u5efa\u4e00\u4e2a\u663e\u5f0f\u7684\u52a0\u8f7d\u51fd\u6570\u6765\u5b8c\u6210\u5b83\u3002\u4f8b\u5982\uff1a"
      ]
    },
    {
      "cell_type": "code",
      "execution_count": null,
      "metadata": {},
      "outputs": [],
      "source": [
        "i\nm\np\no\nr\nt\n \ni\nm\np\n\n\ni\nm\np\no\nr\nt\n \nu\nr\nl\nl\ni\nb\n.\nr\ne\nq\nu\ne\ns\nt\n\n\ni\nm\np\no\nr\nt\n \ns\ny\ns\n\n\n\n\nd\ne\nf\n \nl\no\na\nd\n_\nm\no\nd\nu\nl\ne\n(\nu\nr\nl\n)\n:\n\n\n \n \n \n \nu\n \n=\n \nu\nr\nl\nl\ni\nb\n.\nr\ne\nq\nu\ne\ns\nt\n.\nu\nr\nl\no\np\ne\nn\n(\nu\nr\nl\n)\n\n\n \n \n \n \ns\no\nu\nr\nc\ne\n \n=\n \nu\n.\nr\ne\na\nd\n(\n)\n.\nd\ne\nc\no\nd\ne\n(\n'\nu\nt\nf\n-\n8\n'\n)\n\n\n \n \n \n \nm\no\nd\n \n=\n \ns\ny\ns\n.\nm\no\nd\nu\nl\ne\ns\n.\ns\ne\nt\nd\ne\nf\na\nu\nl\nt\n(\nu\nr\nl\n,\n \ni\nm\np\n.\nn\ne\nw\n_\nm\no\nd\nu\nl\ne\n(\nu\nr\nl\n)\n)\n\n\n \n \n \n \nc\no\nd\ne\n \n=\n \nc\no\nm\np\ni\nl\ne\n(\ns\no\nu\nr\nc\ne\n,\n \nu\nr\nl\n,\n \n'\ne\nx\ne\nc\n'\n)\n\n\n \n \n \n \nm\no\nd\n.\n_\n_\nf\ni\nl\ne\n_\n_\n \n=\n \nu\nr\nl\n\n\n \n \n \n \nm\no\nd\n.\n_\n_\np\na\nc\nk\na\ng\ne\n_\n_\n \n=\n \n'\n'\n\n\n \n \n \n \ne\nx\ne\nc\n(\nc\no\nd\ne\n,\n \nm\no\nd\n.\n_\n_\nd\ni\nc\nt\n_\n_\n)\n\n\n \n \n \n \nr\ne\nt\nu\nr\nn\n \nm\no\nd\n\n"
      ]
    },
    {
      "cell_type": "markdown",
      "metadata": {},
      "source": [
        "\u8fd9\u4e2a\u51fd\u6570\u4f1a\u4e0b\u8f7d\u6e90\u4ee3\u7801\uff0c\u5e76\u4f7f\u7528 compile() \u5c06\u5176\u7f16\u8bd1\u5230\u4e00\u4e2a\u4ee3\u7801\u5bf9\u8c61\u4e2d\uff0c\n\u7136\u540e\u5728\u4e00\u4e2a\u65b0\u521b\u5efa\u7684\u6a21\u5757\u5bf9\u8c61\u7684\u5b57\u5178\u4e2d\u6765\u6267\u884c\u5b83\u3002\u4e0b\u9762\u662f\u4f7f\u7528\u8fd9\u4e2a\u51fd\u6570\u7684\u65b9\u5f0f\uff1a"
      ]
    },
    {
      "cell_type": "code",
      "execution_count": null,
      "metadata": {},
      "outputs": [],
      "source": [
        "fib = load_module('http://localhost:15000/fib.py')"
      ]
    },
    {
      "cell_type": "code",
      "execution_count": null,
      "metadata": {},
      "outputs": [],
      "source": [
        "fib.fib(10)"
      ]
    },
    {
      "cell_type": "code",
      "execution_count": null,
      "metadata": {},
      "outputs": [],
      "source": [
        "spam = load_module('http://localhost:15000/spam.py')"
      ]
    },
    {
      "cell_type": "code",
      "execution_count": null,
      "metadata": {},
      "outputs": [],
      "source": [
        "spam.hello('Guido')"
      ]
    },
    {
      "cell_type": "code",
      "execution_count": null,
      "metadata": {},
      "outputs": [],
      "source": [
        "fib"
      ]
    },
    {
      "cell_type": "code",
      "execution_count": null,
      "metadata": {},
      "outputs": [],
      "source": [
        "spam"
      ]
    },
    {
      "cell_type": "markdown",
      "metadata": {},
      "source": [
        "\u6b63\u5982\u4f60\u6240\u89c1\uff0c\u5bf9\u4e8e\u7b80\u5355\u7684\u6a21\u5757\u8fd9\u4e2a\u662f\u884c\u5f97\u901a\u7684\u3002\n\u4e0d\u8fc7\u5b83\u5e76\u6ca1\u6709\u5d4c\u5165\u5230\u901a\u5e38\u7684import\u8bed\u53e5\u4e2d\uff0c\u5982\u679c\u8981\u652f\u6301\u66f4\u9ad8\u7ea7\u7684\u7ed3\u6784\u6bd4\u5982\u5305\u5c31\u9700\u8981\u66f4\u591a\u7684\u5de5\u4f5c\u4e86\u3002"
      ]
    },
    {
      "cell_type": "markdown",
      "metadata": {},
      "source": [
        "\u4e00\u4e2a\u66f4\u9177\u7684\u505a\u6cd5\u662f\u521b\u5efa\u4e00\u4e2a\u81ea\u5b9a\u4e49\u5bfc\u5165\u5668\u3002\u7b2c\u4e00\u79cd\u65b9\u6cd5\u662f\u521b\u5efa\u4e00\u4e2a\u5143\u8def\u5f84\u5bfc\u5165\u5668\u3002\u5982\u4e0b\uff1a"
      ]
    },
    {
      "cell_type": "code",
      "execution_count": null,
      "metadata": {},
      "outputs": [],
      "source": [
        "#\n \nu\nr\nl\ni\nm\np\no\nr\nt\n.\np\ny\n\n\ni\nm\np\no\nr\nt\n \ns\ny\ns\n\n\ni\nm\np\no\nr\nt\n \ni\nm\np\no\nr\nt\nl\ni\nb\n.\na\nb\nc\n\n\ni\nm\np\no\nr\nt\n \ni\nm\np\n\n\nf\nr\no\nm\n \nu\nr\nl\nl\ni\nb\n.\nr\ne\nq\nu\ne\ns\nt\n \ni\nm\np\no\nr\nt\n \nu\nr\nl\no\np\ne\nn\n\n\nf\nr\no\nm\n \nu\nr\nl\nl\ni\nb\n.\ne\nr\nr\no\nr\n \ni\nm\np\no\nr\nt\n \nH\nT\nT\nP\nE\nr\nr\no\nr\n,\n \nU\nR\nL\nE\nr\nr\no\nr\n\n\nf\nr\no\nm\n \nh\nt\nm\nl\n.\np\na\nr\ns\ne\nr\n \ni\nm\np\no\nr\nt\n \nH\nT\nM\nL\nP\na\nr\ns\ne\nr\n\n\n\n\n#\n \nD\ne\nb\nu\ng\ng\ni\nn\ng\n\n\ni\nm\np\no\nr\nt\n \nl\no\ng\ng\ni\nn\ng\n\n\nl\no\ng\n \n=\n \nl\no\ng\ng\ni\nn\ng\n.\ng\ne\nt\nL\no\ng\ng\ne\nr\n(\n_\n_\nn\na\nm\ne\n_\n_\n)\n\n\n\n\n#\n \nG\ne\nt\n \nl\ni\nn\nk\ns\n \nf\nr\no\nm\n \na\n \ng\ni\nv\ne\nn\n \nU\nR\nL\n\n\nd\ne\nf\n \n_\ng\ne\nt\n_\nl\ni\nn\nk\ns\n(\nu\nr\nl\n)\n:\n\n\n \n \n \n \nc\nl\na\ns\ns\n \nL\ni\nn\nk\nP\na\nr\ns\ne\nr\n(\nH\nT\nM\nL\nP\na\nr\ns\ne\nr\n)\n:\n\n\n \n \n \n \n \n \n \n \nd\ne\nf\n \nh\na\nn\nd\nl\ne\n_\ns\nt\na\nr\nt\nt\na\ng\n(\ns\ne\nl\nf\n,\n \nt\na\ng\n,\n \na\nt\nt\nr\ns\n)\n:\n\n\n \n \n \n \n \n \n \n \n \n \n \n \ni\nf\n \nt\na\ng\n \n=\n=\n \n'\na\n'\n:\n\n\n \n \n \n \n \n \n \n \n \n \n \n \n \n \n \n \na\nt\nt\nr\ns\n \n=\n \nd\ni\nc\nt\n(\na\nt\nt\nr\ns\n)\n\n\n \n \n \n \n \n \n \n \n \n \n \n \n \n \n \n \nl\ni\nn\nk\ns\n.\na\nd\nd\n(\na\nt\nt\nr\ns\n.\ng\ne\nt\n(\n'\nh\nr\ne\nf\n'\n)\n.\nr\ns\nt\nr\ni\np\n(\n'\n/\n'\n)\n)\n\n\n \n \n \n \nl\ni\nn\nk\ns\n \n=\n \ns\ne\nt\n(\n)\n\n\n \n \n \n \nt\nr\ny\n:\n\n\n \n \n \n \n \n \n \n \nl\no\ng\n.\nd\ne\nb\nu\ng\n(\n'\nG\ne\nt\nt\ni\nn\ng\n \nl\ni\nn\nk\ns\n \nf\nr\no\nm\n \n%\ns\n'\n \n%\n \nu\nr\nl\n)\n\n\n \n \n \n \n \n \n \n \nu\n \n=\n \nu\nr\nl\no\np\ne\nn\n(\nu\nr\nl\n)\n\n\n \n \n \n \n \n \n \n \np\na\nr\ns\ne\nr\n \n=\n \nL\ni\nn\nk\nP\na\nr\ns\ne\nr\n(\n)\n\n\n \n \n \n \n \n \n \n \np\na\nr\ns\ne\nr\n.\nf\ne\ne\nd\n(\nu\n.\nr\ne\na\nd\n(\n)\n.\nd\ne\nc\no\nd\ne\n(\n'\nu\nt\nf\n-\n8\n'\n)\n)\n\n\n \n \n \n \ne\nx\nc\ne\np\nt\n \nE\nx\nc\ne\np\nt\ni\no\nn\n \na\ns\n \ne\n:\n\n\n \n \n \n \n \n \n \n \nl\no\ng\n.\nd\ne\nb\nu\ng\n(\n'\nC\no\nu\nl\nd\n \nn\no\nt\n \ng\ne\nt\n \nl\ni\nn\nk\ns\n.\n \n%\ns\n'\n,\n \ne\n)\n\n\n \n \n \n \nl\no\ng\n.\nd\ne\nb\nu\ng\n(\n'\nl\ni\nn\nk\ns\n:\n \n%\nr\n'\n,\n \nl\ni\nn\nk\ns\n)\n\n\n \n \n \n \nr\ne\nt\nu\nr\nn\n \nl\ni\nn\nk\ns\n\n\n\n\nc\nl\na\ns\ns\n \nU\nr\nl\nM\ne\nt\na\nF\ni\nn\nd\ne\nr\n(\ni\nm\np\no\nr\nt\nl\ni\nb\n.\na\nb\nc\n.\nM\ne\nt\na\nP\na\nt\nh\nF\ni\nn\nd\ne\nr\n)\n:\n\n\n \n \n \n \nd\ne\nf\n \n_\n_\ni\nn\ni\nt\n_\n_\n(\ns\ne\nl\nf\n,\n \nb\na\ns\ne\nu\nr\nl\n)\n:\n\n\n \n \n \n \n \n \n \n \ns\ne\nl\nf\n.\n_\nb\na\ns\ne\nu\nr\nl\n \n=\n \nb\na\ns\ne\nu\nr\nl\n\n\n \n \n \n \n \n \n \n \ns\ne\nl\nf\n.\n_\nl\ni\nn\nk\ns\n \n=\n \n{\n \n}\n\n\n \n \n \n \n \n \n \n \ns\ne\nl\nf\n.\n_\nl\no\na\nd\ne\nr\ns\n \n=\n \n{\n \nb\na\ns\ne\nu\nr\nl\n \n:\n \nU\nr\nl\nM\no\nd\nu\nl\ne\nL\no\na\nd\ne\nr\n(\nb\na\ns\ne\nu\nr\nl\n)\n \n}\n\n\n\n\n \n \n \n \nd\ne\nf\n \nf\ni\nn\nd\n_\nm\no\nd\nu\nl\ne\n(\ns\ne\nl\nf\n,\n \nf\nu\nl\nl\nn\na\nm\ne\n,\n \np\na\nt\nh\n=\nN\no\nn\ne\n)\n:\n\n\n \n \n \n \n \n \n \n \nl\no\ng\n.\nd\ne\nb\nu\ng\n(\n'\nf\ni\nn\nd\n_\nm\no\nd\nu\nl\ne\n:\n \nf\nu\nl\nl\nn\na\nm\ne\n=\n%\nr\n,\n \np\na\nt\nh\n=\n%\nr\n'\n,\n \nf\nu\nl\nl\nn\na\nm\ne\n,\n \np\na\nt\nh\n)\n\n\n \n \n \n \n \n \n \n \ni\nf\n \np\na\nt\nh\n \ni\ns\n \nN\no\nn\ne\n:\n\n\n \n \n \n \n \n \n \n \n \n \n \n \nb\na\ns\ne\nu\nr\nl\n \n=\n \ns\ne\nl\nf\n.\n_\nb\na\ns\ne\nu\nr\nl\n\n\n \n \n \n \n \n \n \n \ne\nl\ns\ne\n:\n\n\n \n \n \n \n \n \n \n \n \n \n \n \ni\nf\n \nn\no\nt\n \np\na\nt\nh\n[\n0\n]\n.\ns\nt\na\nr\nt\ns\nw\ni\nt\nh\n(\ns\ne\nl\nf\n.\n_\nb\na\ns\ne\nu\nr\nl\n)\n:\n\n\n \n \n \n \n \n \n \n \n \n \n \n \n \n \n \n \nr\ne\nt\nu\nr\nn\n \nN\no\nn\ne\n\n\n \n \n \n \n \n \n \n \n \n \n \n \nb\na\ns\ne\nu\nr\nl\n \n=\n \np\na\nt\nh\n[\n0\n]\n\n\n \n \n \n \n \n \n \n \np\na\nr\nt\ns\n \n=\n \nf\nu\nl\nl\nn\na\nm\ne\n.\ns\np\nl\ni\nt\n(\n'\n.\n'\n)\n\n\n \n \n \n \n \n \n \n \nb\na\ns\ne\nn\na\nm\ne\n \n=\n \np\na\nr\nt\ns\n[\n-\n1\n]\n\n\n \n \n \n \n \n \n \n \nl\no\ng\n.\nd\ne\nb\nu\ng\n(\n'\nf\ni\nn\nd\n_\nm\no\nd\nu\nl\ne\n:\n \nb\na\ns\ne\nu\nr\nl\n=\n%\nr\n,\n \nb\na\ns\ne\nn\na\nm\ne\n=\n%\nr\n'\n,\n \nb\na\ns\ne\nu\nr\nl\n,\n \nb\na\ns\ne\nn\na\nm\ne\n)\n\n\n\n\n \n \n \n \n \n \n \n \n#\n \nC\nh\ne\nc\nk\n \nl\ni\nn\nk\n \nc\na\nc\nh\ne\n\n\n \n \n \n \n \n \n \n \ni\nf\n \nb\na\ns\ne\nn\na\nm\ne\n \nn\no\nt\n \ni\nn\n \ns\ne\nl\nf\n.\n_\nl\ni\nn\nk\ns\n:\n\n\n \n \n \n \n \n \n \n \n \n \n \n \ns\ne\nl\nf\n.\n_\nl\ni\nn\nk\ns\n[\nb\na\ns\ne\nu\nr\nl\n]\n \n=\n \n_\ng\ne\nt\n_\nl\ni\nn\nk\ns\n(\nb\na\ns\ne\nu\nr\nl\n)\n\n\n\n\n \n \n \n \n \n \n \n \n#\n \nC\nh\ne\nc\nk\n \ni\nf\n \ni\nt\n'\ns\n \na\n \np\na\nc\nk\na\ng\ne\n\n\n \n \n \n \n \n \n \n \ni\nf\n \nb\na\ns\ne\nn\na\nm\ne\n \ni\nn\n \ns\ne\nl\nf\n.\n_\nl\ni\nn\nk\ns\n[\nb\na\ns\ne\nu\nr\nl\n]\n:\n\n\n \n \n \n \n \n \n \n \n \n \n \n \nl\no\ng\n.\nd\ne\nb\nu\ng\n(\n'\nf\ni\nn\nd\n_\nm\no\nd\nu\nl\ne\n:\n \nt\nr\ny\ni\nn\ng\n \np\na\nc\nk\na\ng\ne\n \n%\nr\n'\n,\n \nf\nu\nl\nl\nn\na\nm\ne\n)\n\n\n \n \n \n \n \n \n \n \n \n \n \n \nf\nu\nl\nl\nu\nr\nl\n \n=\n \ns\ne\nl\nf\n.\n_\nb\na\ns\ne\nu\nr\nl\n \n+\n \n'\n/\n'\n \n+\n \nb\na\ns\ne\nn\na\nm\ne\n\n\n \n \n \n \n \n \n \n \n \n \n \n \n#\n \nA\nt\nt\ne\nm\np\nt\n \nt\no\n \nl\no\na\nd\n \nt\nh\ne\n \np\na\nc\nk\na\ng\ne\n \n(\nw\nh\ni\nc\nh\n \na\nc\nc\ne\ns\ns\ne\ns\n \n_\n_\ni\nn\ni\nt\n_\n_\n.\np\ny\n)\n\n\n \n \n \n \n \n \n \n \n \n \n \n \nl\no\na\nd\ne\nr\n \n=\n \nU\nr\nl\nP\na\nc\nk\na\ng\ne\nL\no\na\nd\ne\nr\n(\nf\nu\nl\nl\nu\nr\nl\n)\n\n\n \n \n \n \n \n \n \n \n \n \n \n \nt\nr\ny\n:\n\n\n \n \n \n \n \n \n \n \n \n \n \n \n \n \n \n \nl\no\na\nd\ne\nr\n.\nl\no\na\nd\n_\nm\no\nd\nu\nl\ne\n(\nf\nu\nl\nl\nn\na\nm\ne\n)\n\n\n \n \n \n \n \n \n \n \n \n \n \n \n \n \n \n \ns\ne\nl\nf\n.\n_\nl\ni\nn\nk\ns\n[\nf\nu\nl\nl\nu\nr\nl\n]\n \n=\n \n_\ng\ne\nt\n_\nl\ni\nn\nk\ns\n(\nf\nu\nl\nl\nu\nr\nl\n)\n\n\n \n \n \n \n \n \n \n \n \n \n \n \n \n \n \n \ns\ne\nl\nf\n.\n_\nl\no\na\nd\ne\nr\ns\n[\nf\nu\nl\nl\nu\nr\nl\n]\n \n=\n \nU\nr\nl\nM\no\nd\nu\nl\ne\nL\no\na\nd\ne\nr\n(\nf\nu\nl\nl\nu\nr\nl\n)\n\n\n \n \n \n \n \n \n \n \n \n \n \n \n \n \n \n \nl\no\ng\n.\nd\ne\nb\nu\ng\n(\n'\nf\ni\nn\nd\n_\nm\no\nd\nu\nl\ne\n:\n \np\na\nc\nk\na\ng\ne\n \n%\nr\n \nl\no\na\nd\ne\nd\n'\n,\n \nf\nu\nl\nl\nn\na\nm\ne\n)\n\n\n \n \n \n \n \n \n \n \n \n \n \n \ne\nx\nc\ne\np\nt\n \nI\nm\np\no\nr\nt\nE\nr\nr\no\nr\n \na\ns\n \ne\n:\n\n\n \n \n \n \n \n \n \n \n \n \n \n \n \n \n \n \nl\no\ng\n.\nd\ne\nb\nu\ng\n(\n'\nf\ni\nn\nd\n_\nm\no\nd\nu\nl\ne\n:\n \np\na\nc\nk\na\ng\ne\n \nf\na\ni\nl\ne\nd\n.\n \n%\ns\n'\n,\n \ne\n)\n\n\n \n \n \n \n \n \n \n \n \n \n \n \n \n \n \n \nl\no\na\nd\ne\nr\n \n=\n \nN\no\nn\ne\n\n\n \n \n \n \n \n \n \n \n \n \n \n \nr\ne\nt\nu\nr\nn\n \nl\no\na\nd\ne\nr\n\n\n \n \n \n \n \n \n \n \n#\n \nA\n \nn\no\nr\nm\na\nl\n \nm\no\nd\nu\nl\ne\n\n\n \n \n \n \n \n \n \n \nf\ni\nl\ne\nn\na\nm\ne\n \n=\n \nb\na\ns\ne\nn\na\nm\ne\n \n+\n \n'\n.\np\ny\n'\n\n\n \n \n \n \n \n \n \n \ni\nf\n \nf\ni\nl\ne\nn\na\nm\ne\n \ni\nn\n \ns\ne\nl\nf\n.\n_\nl\ni\nn\nk\ns\n[\nb\na\ns\ne\nu\nr\nl\n]\n:\n\n\n \n \n \n \n \n \n \n \n \n \n \n \nl\no\ng\n.\nd\ne\nb\nu\ng\n(\n'\nf\ni\nn\nd\n_\nm\no\nd\nu\nl\ne\n:\n \nm\no\nd\nu\nl\ne\n \n%\nr\n \nf\no\nu\nn\nd\n'\n,\n \nf\nu\nl\nl\nn\na\nm\ne\n)\n\n\n \n \n \n \n \n \n \n \n \n \n \n \nr\ne\nt\nu\nr\nn\n \ns\ne\nl\nf\n.\n_\nl\no\na\nd\ne\nr\ns\n[\nb\na\ns\ne\nu\nr\nl\n]\n\n\n \n \n \n \n \n \n \n \ne\nl\ns\ne\n:\n\n\n \n \n \n \n \n \n \n \n \n \n \n \nl\no\ng\n.\nd\ne\nb\nu\ng\n(\n'\nf\ni\nn\nd\n_\nm\no\nd\nu\nl\ne\n:\n \nm\no\nd\nu\nl\ne\n \n%\nr\n \nn\no\nt\n \nf\no\nu\nn\nd\n'\n,\n \nf\nu\nl\nl\nn\na\nm\ne\n)\n\n\n \n \n \n \n \n \n \n \n \n \n \n \nr\ne\nt\nu\nr\nn\n \nN\no\nn\ne\n\n\n\n\n \n \n \n \nd\ne\nf\n \ni\nn\nv\na\nl\ni\nd\na\nt\ne\n_\nc\na\nc\nh\ne\ns\n(\ns\ne\nl\nf\n)\n:\n\n\n \n \n \n \n \n \n \n \nl\no\ng\n.\nd\ne\nb\nu\ng\n(\n'\ni\nn\nv\na\nl\ni\nd\na\nt\ni\nn\ng\n \nl\ni\nn\nk\n \nc\na\nc\nh\ne\n'\n)\n\n\n \n \n \n \n \n \n \n \ns\ne\nl\nf\n.\n_\nl\ni\nn\nk\ns\n.\nc\nl\ne\na\nr\n(\n)\n\n\n\n\n#\n \nM\no\nd\nu\nl\ne\n \nL\no\na\nd\ne\nr\n \nf\no\nr\n \na\n \nU\nR\nL\n\n\nc\nl\na\ns\ns\n \nU\nr\nl\nM\no\nd\nu\nl\ne\nL\no\na\nd\ne\nr\n(\ni\nm\np\no\nr\nt\nl\ni\nb\n.\na\nb\nc\n.\nS\no\nu\nr\nc\ne\nL\no\na\nd\ne\nr\n)\n:\n\n\n \n \n \n \nd\ne\nf\n \n_\n_\ni\nn\ni\nt\n_\n_\n(\ns\ne\nl\nf\n,\n \nb\na\ns\ne\nu\nr\nl\n)\n:\n\n\n \n \n \n \n \n \n \n \ns\ne\nl\nf\n.\n_\nb\na\ns\ne\nu\nr\nl\n \n=\n \nb\na\ns\ne\nu\nr\nl\n\n\n \n \n \n \n \n \n \n \ns\ne\nl\nf\n.\n_\ns\no\nu\nr\nc\ne\n_\nc\na\nc\nh\ne\n \n=\n \n{\n}\n\n\n\n\n \n \n \n \nd\ne\nf\n \nm\no\nd\nu\nl\ne\n_\nr\ne\np\nr\n(\ns\ne\nl\nf\n,\n \nm\no\nd\nu\nl\ne\n)\n:\n\n\n \n \n \n \n \n \n \n \nr\ne\nt\nu\nr\nn\n \n'\n<\nu\nr\nl\nm\no\nd\nu\nl\ne\n \n%\nr\n \nf\nr\no\nm\n \n%\nr\n>\n'\n \n%\n \n(\nm\no\nd\nu\nl\ne\n.\n_\n_\nn\na\nm\ne\n_\n_\n,\n \nm\no\nd\nu\nl\ne\n.\n_\n_\nf\ni\nl\ne\n_\n_\n)\n\n\n\n\n \n \n \n \n#\n \nR\ne\nq\nu\ni\nr\ne\nd\n \nm\ne\nt\nh\no\nd\n\n\n \n \n \n \nd\ne\nf\n \nl\no\na\nd\n_\nm\no\nd\nu\nl\ne\n(\ns\ne\nl\nf\n,\n \nf\nu\nl\nl\nn\na\nm\ne\n)\n:\n\n\n \n \n \n \n \n \n \n \nc\no\nd\ne\n \n=\n \ns\ne\nl\nf\n.\ng\ne\nt\n_\nc\no\nd\ne\n(\nf\nu\nl\nl\nn\na\nm\ne\n)\n\n\n \n \n \n \n \n \n \n \nm\no\nd\n \n=\n \ns\ny\ns\n.\nm\no\nd\nu\nl\ne\ns\n.\ns\ne\nt\nd\ne\nf\na\nu\nl\nt\n(\nf\nu\nl\nl\nn\na\nm\ne\n,\n \ni\nm\np\n.\nn\ne\nw\n_\nm\no\nd\nu\nl\ne\n(\nf\nu\nl\nl\nn\na\nm\ne\n)\n)\n\n\n \n \n \n \n \n \n \n \nm\no\nd\n.\n_\n_\nf\ni\nl\ne\n_\n_\n \n=\n \ns\ne\nl\nf\n.\ng\ne\nt\n_\nf\ni\nl\ne\nn\na\nm\ne\n(\nf\nu\nl\nl\nn\na\nm\ne\n)\n\n\n \n \n \n \n \n \n \n \nm\no\nd\n.\n_\n_\nl\no\na\nd\ne\nr\n_\n_\n \n=\n \ns\ne\nl\nf\n\n\n \n \n \n \n \n \n \n \nm\no\nd\n.\n_\n_\np\na\nc\nk\na\ng\ne\n_\n_\n \n=\n \nf\nu\nl\nl\nn\na\nm\ne\n.\nr\np\na\nr\nt\ni\nt\ni\no\nn\n(\n'\n.\n'\n)\n[\n0\n]\n\n\n \n \n \n \n \n \n \n \ne\nx\ne\nc\n(\nc\no\nd\ne\n,\n \nm\no\nd\n.\n_\n_\nd\ni\nc\nt\n_\n_\n)\n\n\n \n \n \n \n \n \n \n \nr\ne\nt\nu\nr\nn\n \nm\no\nd\n\n\n\n\n \n \n \n \n#\n \nO\np\nt\ni\no\nn\na\nl\n \ne\nx\nt\ne\nn\ns\ni\no\nn\ns\n\n\n \n \n \n \nd\ne\nf\n \ng\ne\nt\n_\nc\no\nd\ne\n(\ns\ne\nl\nf\n,\n \nf\nu\nl\nl\nn\na\nm\ne\n)\n:\n\n\n \n \n \n \n \n \n \n \ns\nr\nc\n \n=\n \ns\ne\nl\nf\n.\ng\ne\nt\n_\ns\no\nu\nr\nc\ne\n(\nf\nu\nl\nl\nn\na\nm\ne\n)\n\n\n \n \n \n \n \n \n \n \nr\ne\nt\nu\nr\nn\n \nc\no\nm\np\ni\nl\ne\n(\ns\nr\nc\n,\n \ns\ne\nl\nf\n.\ng\ne\nt\n_\nf\ni\nl\ne\nn\na\nm\ne\n(\nf\nu\nl\nl\nn\na\nm\ne\n)\n,\n \n'\ne\nx\ne\nc\n'\n)\n\n\n\n\n \n \n \n \nd\ne\nf\n \ng\ne\nt\n_\nd\na\nt\na\n(\ns\ne\nl\nf\n,\n \np\na\nt\nh\n)\n:\n\n\n \n \n \n \n \n \n \n \np\na\ns\ns\n\n\n\n\n \n \n \n \nd\ne\nf\n \ng\ne\nt\n_\nf\ni\nl\ne\nn\na\nm\ne\n(\ns\ne\nl\nf\n,\n \nf\nu\nl\nl\nn\na\nm\ne\n)\n:\n\n\n \n \n \n \n \n \n \n \nr\ne\nt\nu\nr\nn\n \ns\ne\nl\nf\n.\n_\nb\na\ns\ne\nu\nr\nl\n \n+\n \n'\n/\n'\n \n+\n \nf\nu\nl\nl\nn\na\nm\ne\n.\ns\np\nl\ni\nt\n(\n'\n.\n'\n)\n[\n-\n1\n]\n \n+\n \n'\n.\np\ny\n'\n\n\n\n\n \n \n \n \nd\ne\nf\n \ng\ne\nt\n_\ns\no\nu\nr\nc\ne\n(\ns\ne\nl\nf\n,\n \nf\nu\nl\nl\nn\na\nm\ne\n)\n:\n\n\n \n \n \n \n \n \n \n \nf\ni\nl\ne\nn\na\nm\ne\n \n=\n \ns\ne\nl\nf\n.\ng\ne\nt\n_\nf\ni\nl\ne\nn\na\nm\ne\n(\nf\nu\nl\nl\nn\na\nm\ne\n)\n\n\n \n \n \n \n \n \n \n \nl\no\ng\n.\nd\ne\nb\nu\ng\n(\n'\nl\no\na\nd\ne\nr\n:\n \nr\ne\na\nd\ni\nn\ng\n \n%\nr\n'\n,\n \nf\ni\nl\ne\nn\na\nm\ne\n)\n\n\n \n \n \n \n \n \n \n \ni\nf\n \nf\ni\nl\ne\nn\na\nm\ne\n \ni\nn\n \ns\ne\nl\nf\n.\n_\ns\no\nu\nr\nc\ne\n_\nc\na\nc\nh\ne\n:\n\n\n \n \n \n \n \n \n \n \n \n \n \n \nl\no\ng\n.\nd\ne\nb\nu\ng\n(\n'\nl\no\na\nd\ne\nr\n:\n \nc\na\nc\nh\ne\nd\n \n%\nr\n'\n,\n \nf\ni\nl\ne\nn\na\nm\ne\n)\n\n\n \n \n \n \n \n \n \n \n \n \n \n \nr\ne\nt\nu\nr\nn\n \ns\ne\nl\nf\n.\n_\ns\no\nu\nr\nc\ne\n_\nc\na\nc\nh\ne\n[\nf\ni\nl\ne\nn\na\nm\ne\n]\n\n\n \n \n \n \n \n \n \n \nt\nr\ny\n:\n\n\n \n \n \n \n \n \n \n \n \n \n \n \nu\n \n=\n \nu\nr\nl\no\np\ne\nn\n(\nf\ni\nl\ne\nn\na\nm\ne\n)\n\n\n \n \n \n \n \n \n \n \n \n \n \n \ns\no\nu\nr\nc\ne\n \n=\n \nu\n.\nr\ne\na\nd\n(\n)\n.\nd\ne\nc\no\nd\ne\n(\n'\nu\nt\nf\n-\n8\n'\n)\n\n\n \n \n \n \n \n \n \n \n \n \n \n \nl\no\ng\n.\nd\ne\nb\nu\ng\n(\n'\nl\no\na\nd\ne\nr\n:\n \n%\nr\n \nl\no\na\nd\ne\nd\n'\n,\n \nf\ni\nl\ne\nn\na\nm\ne\n)\n\n\n \n \n \n \n \n \n \n \n \n \n \n \ns\ne\nl\nf\n.\n_\ns\no\nu\nr\nc\ne\n_\nc\na\nc\nh\ne\n[\nf\ni\nl\ne\nn\na\nm\ne\n]\n \n=\n \ns\no\nu\nr\nc\ne\n\n\n \n \n \n \n \n \n \n \n \n \n \n \nr\ne\nt\nu\nr\nn\n \ns\no\nu\nr\nc\ne\n\n\n \n \n \n \n \n \n \n \ne\nx\nc\ne\np\nt\n \n(\nH\nT\nT\nP\nE\nr\nr\no\nr\n,\n \nU\nR\nL\nE\nr\nr\no\nr\n)\n \na\ns\n \ne\n:\n\n\n \n \n \n \n \n \n \n \n \n \n \n \nl\no\ng\n.\nd\ne\nb\nu\ng\n(\n'\nl\no\na\nd\ne\nr\n:\n \n%\nr\n \nf\na\ni\nl\ne\nd\n.\n \n%\ns\n'\n,\n \nf\ni\nl\ne\nn\na\nm\ne\n,\n \ne\n)\n\n\n \n \n \n \n \n \n \n \n \n \n \n \nr\na\ni\ns\ne\n \nI\nm\np\no\nr\nt\nE\nr\nr\no\nr\n(\n\"\nC\na\nn\n'\nt\n \nl\no\na\nd\n \n%\ns\n\"\n \n%\n \nf\ni\nl\ne\nn\na\nm\ne\n)\n\n\n\n\n \n \n \n \nd\ne\nf\n \ni\ns\n_\np\na\nc\nk\na\ng\ne\n(\ns\ne\nl\nf\n,\n \nf\nu\nl\nl\nn\na\nm\ne\n)\n:\n\n\n \n \n \n \n \n \n \n \nr\ne\nt\nu\nr\nn\n \nF\na\nl\ns\ne\n\n\n\n\n#\n \nP\na\nc\nk\na\ng\ne\n \nl\no\na\nd\ne\nr\n \nf\no\nr\n \na\n \nU\nR\nL\n\n\nc\nl\na\ns\ns\n \nU\nr\nl\nP\na\nc\nk\na\ng\ne\nL\no\na\nd\ne\nr\n(\nU\nr\nl\nM\no\nd\nu\nl\ne\nL\no\na\nd\ne\nr\n)\n:\n\n\n \n \n \n \nd\ne\nf\n \nl\no\na\nd\n_\nm\no\nd\nu\nl\ne\n(\ns\ne\nl\nf\n,\n \nf\nu\nl\nl\nn\na\nm\ne\n)\n:\n\n\n \n \n \n \n \n \n \n \nm\no\nd\n \n=\n \ns\nu\np\ne\nr\n(\n)\n.\nl\no\na\nd\n_\nm\no\nd\nu\nl\ne\n(\nf\nu\nl\nl\nn\na\nm\ne\n)\n\n\n \n \n \n \n \n \n \n \nm\no\nd\n.\n_\n_\np\na\nt\nh\n_\n_\n \n=\n \n[\n \ns\ne\nl\nf\n.\n_\nb\na\ns\ne\nu\nr\nl\n \n]\n\n\n \n \n \n \n \n \n \n \nm\no\nd\n.\n_\n_\np\na\nc\nk\na\ng\ne\n_\n_\n \n=\n \nf\nu\nl\nl\nn\na\nm\ne\n\n\n\n\n \n \n \n \nd\ne\nf\n \ng\ne\nt\n_\nf\ni\nl\ne\nn\na\nm\ne\n(\ns\ne\nl\nf\n,\n \nf\nu\nl\nl\nn\na\nm\ne\n)\n:\n\n\n \n \n \n \n \n \n \n \nr\ne\nt\nu\nr\nn\n \ns\ne\nl\nf\n.\n_\nb\na\ns\ne\nu\nr\nl\n \n+\n \n'\n/\n'\n \n+\n \n'\n_\n_\ni\nn\ni\nt\n_\n_\n.\np\ny\n'\n\n\n\n\n \n \n \n \nd\ne\nf\n \ni\ns\n_\np\na\nc\nk\na\ng\ne\n(\ns\ne\nl\nf\n,\n \nf\nu\nl\nl\nn\na\nm\ne\n)\n:\n\n\n \n \n \n \n \n \n \n \nr\ne\nt\nu\nr\nn\n \nT\nr\nu\ne\n\n\n\n\n#\n \nU\nt\ni\nl\ni\nt\ny\n \nf\nu\nn\nc\nt\ni\no\nn\ns\n \nf\no\nr\n \ni\nn\ns\nt\na\nl\nl\ni\nn\ng\n/\nu\nn\ni\nn\ns\nt\na\nl\nl\ni\nn\ng\n \nt\nh\ne\n \nl\no\na\nd\ne\nr\n\n\n_\ni\nn\ns\nt\na\nl\nl\ne\nd\n_\nm\ne\nt\na\n_\nc\na\nc\nh\ne\n \n=\n \n{\n \n}\n\n\nd\ne\nf\n \ni\nn\ns\nt\na\nl\nl\n_\nm\ne\nt\na\n(\na\nd\nd\nr\ne\ns\ns\n)\n:\n\n\n \n \n \n \ni\nf\n \na\nd\nd\nr\ne\ns\ns\n \nn\no\nt\n \ni\nn\n \n_\ni\nn\ns\nt\na\nl\nl\ne\nd\n_\nm\ne\nt\na\n_\nc\na\nc\nh\ne\n:\n\n\n \n \n \n \n \n \n \n \nf\ni\nn\nd\ne\nr\n \n=\n \nU\nr\nl\nM\ne\nt\na\nF\ni\nn\nd\ne\nr\n(\na\nd\nd\nr\ne\ns\ns\n)\n\n\n \n \n \n \n \n \n \n \n_\ni\nn\ns\nt\na\nl\nl\ne\nd\n_\nm\ne\nt\na\n_\nc\na\nc\nh\ne\n[\na\nd\nd\nr\ne\ns\ns\n]\n \n=\n \nf\ni\nn\nd\ne\nr\n\n\n \n \n \n \n \n \n \n \ns\ny\ns\n.\nm\ne\nt\na\n_\np\na\nt\nh\n.\na\np\np\ne\nn\nd\n(\nf\ni\nn\nd\ne\nr\n)\n\n\n \n \n \n \n \n \n \n \nl\no\ng\n.\nd\ne\nb\nu\ng\n(\n'\n%\nr\n \ni\nn\ns\nt\na\nl\nl\ne\nd\n \no\nn\n \ns\ny\ns\n.\nm\ne\nt\na\n_\np\na\nt\nh\n'\n,\n \nf\ni\nn\nd\ne\nr\n)\n\n\n\n\nd\ne\nf\n \nr\ne\nm\no\nv\ne\n_\nm\ne\nt\na\n(\na\nd\nd\nr\ne\ns\ns\n)\n:\n\n\n \n \n \n \ni\nf\n \na\nd\nd\nr\ne\ns\ns\n \ni\nn\n \n_\ni\nn\ns\nt\na\nl\nl\ne\nd\n_\nm\ne\nt\na\n_\nc\na\nc\nh\ne\n:\n\n\n \n \n \n \n \n \n \n \nf\ni\nn\nd\ne\nr\n \n=\n \n_\ni\nn\ns\nt\na\nl\nl\ne\nd\n_\nm\ne\nt\na\n_\nc\na\nc\nh\ne\n.\np\no\np\n(\na\nd\nd\nr\ne\ns\ns\n)\n\n\n \n \n \n \n \n \n \n \ns\ny\ns\n.\nm\ne\nt\na\n_\np\na\nt\nh\n.\nr\ne\nm\no\nv\ne\n(\nf\ni\nn\nd\ne\nr\n)\n\n\n \n \n \n \n \n \n \n \nl\no\ng\n.\nd\ne\nb\nu\ng\n(\n'\n%\nr\n \nr\ne\nm\no\nv\ne\nd\n \nf\nr\no\nm\n \ns\ny\ns\n.\nm\ne\nt\na\n_\np\na\nt\nh\n'\n,\n \nf\ni\nn\nd\ne\nr\n)\n\n"
      ]
    },
    {
      "cell_type": "markdown",
      "metadata": {},
      "source": [
        "\u4e0b\u9762\u662f\u4e00\u4e2a\u4ea4\u4e92\u4f1a\u8bdd\uff0c\u6f14\u793a\u4e86\u5982\u4f55\u4f7f\u7528\u524d\u9762\u7684\u4ee3\u7801\uff1a"
      ]
    },
    {
      "cell_type": "code",
      "execution_count": null,
      "metadata": {},
      "outputs": [],
      "source": [
        "# importing currently fails\nimport fib"
      ]
    },
    {
      "cell_type": "code",
      "execution_count": null,
      "metadata": {},
      "outputs": [],
      "source": [
        "# Load the importer and retry (it works)\nimport urlimport\nurlimport.install_meta('http://localhost:15000')\nimport fib"
      ]
    },
    {
      "cell_type": "code",
      "execution_count": null,
      "metadata": {},
      "outputs": [],
      "source": [
        "import spam"
      ]
    },
    {
      "cell_type": "code",
      "execution_count": null,
      "metadata": {},
      "outputs": [],
      "source": [
        "import grok.blah"
      ]
    },
    {
      "cell_type": "code",
      "execution_count": null,
      "metadata": {},
      "outputs": [],
      "source": [
        "grok.blah.__file__"
      ]
    },
    {
      "cell_type": "markdown",
      "metadata": {},
      "source": [
        "\u8fd9\u4e2a\u7279\u6b8a\u7684\u65b9\u6848\u4f1a\u5b89\u88c5\u4e00\u4e2a\u7279\u522b\u7684\u67e5\u627e\u5668 UrlMetaFinder \u5b9e\u4f8b\uff0c\n\u4f5c\u4e3a sys.meta_path \u4e2d\u6700\u540e\u7684\u5b9e\u4f53\u3002\n\u5f53\u6a21\u5757\u88ab\u5bfc\u5165\u65f6\uff0c\u4f1a\u4f9d\u636e sys.meta_path \u4e2d\u7684\u67e5\u627e\u5668\u5b9a\u4f4d\u6a21\u5757\u3002\n\u5728\u8fd9\u4e2a\u4f8b\u5b50\u4e2d\uff0cUrlMetaFinder \u5b9e\u4f8b\u662f\u6700\u540e\u4e00\u4e2a\u67e5\u627e\u5668\u65b9\u6848\uff0c\n\u5f53\u6a21\u5757\u5728\u4efb\u4f55\u4e00\u4e2a\u666e\u901a\u5730\u65b9\u90fd\u627e\u4e0d\u5230\u7684\u65f6\u5019\u5c31\u89e6\u53d1\u5b83\u3002"
      ]
    },
    {
      "cell_type": "markdown",
      "metadata": {},
      "source": [
        "\u4f5c\u4e3a\u5e38\u89c1\u7684\u5b9e\u73b0\u65b9\u6848\uff0cUrlMetaFinder \u7c7b\u5305\u88c5\u5728\u4e00\u4e2a\u7528\u6237\u6307\u5b9a\u7684URL\u4e0a\u3002\n\u5728\u5185\u90e8\uff0c\u67e5\u627e\u5668\u901a\u8fc7\u6293\u53d6\u6307\u5b9aURL\u7684\u5185\u5bb9\u6784\u5efa\u5408\u6cd5\u7684\u94fe\u63a5\u96c6\u5408\u3002\n\u5bfc\u5165\u7684\u65f6\u5019\uff0c\u6a21\u5757\u540d\u4f1a\u8ddf\u5df2\u6709\u7684\u94fe\u63a5\u4f5c\u5bf9\u6bd4\u3002\u5982\u679c\u627e\u5230\u4e86\u4e00\u4e2a\u5339\u914d\u7684\uff0c\n\u4e00\u4e2a\u5355\u72ec\u7684 UrlModuleLoader \u7c7b\u88ab\u7528\u6765\u4ece\u8fdc\u7a0b\u673a\u5668\u4e0a\u52a0\u8f7d\u6e90\u4ee3\u7801\u5e76\u521b\u5efa\u6700\u7ec8\u7684\u6a21\u5757\u5bf9\u8c61\u3002\n\u8fd9\u91cc\u7f13\u5b58\u94fe\u63a5\u7684\u4e00\u4e2a\u539f\u56e0\u662f\u907f\u514d\u4e0d\u5fc5\u8981\u7684HTTP\u8bf7\u6c42\u91cd\u590d\u5bfc\u5165\u3002"
      ]
    },
    {
      "cell_type": "markdown",
      "metadata": {},
      "source": [
        "\u81ea\u5b9a\u4e49\u5bfc\u5165\u7684\u7b2c\u4e8c\u79cd\u65b9\u6cd5\u662f\u7f16\u5199\u4e00\u4e2a\u94a9\u5b50\u76f4\u63a5\u5d4c\u5165\u5230 sys.path \u53d8\u91cf\u4e2d\u53bb\uff0c\n\u8bc6\u522b\u67d0\u4e9b\u76ee\u5f55\u547d\u540d\u6a21\u5f0f\u3002\n\u5728 urlimport.py \u4e2d\u6dfb\u52a0\u5982\u4e0b\u7684\u7c7b\u548c\u652f\u6301\u51fd\u6570\uff1a"
      ]
    },
    {
      "cell_type": "code",
      "execution_count": null,
      "metadata": {},
      "outputs": [],
      "source": [
        "#\n \nu\nr\nl\ni\nm\np\no\nr\nt\n.\np\ny\n\n\n#\n \n.\n.\n.\n \ni\nn\nc\nl\nu\nd\ne\n \np\nr\ne\nv\ni\no\nu\ns\n \nc\no\nd\ne\n \na\nb\no\nv\ne\n \n.\n.\n.\n\n\n#\n \nP\na\nt\nh\n \nf\ni\nn\nd\ne\nr\n \nc\nl\na\ns\ns\n \nf\no\nr\n \na\n \nU\nR\nL\n\n\nc\nl\na\ns\ns\n \nU\nr\nl\nP\na\nt\nh\nF\ni\nn\nd\ne\nr\n(\ni\nm\np\no\nr\nt\nl\ni\nb\n.\na\nb\nc\n.\nP\na\nt\nh\nE\nn\nt\nr\ny\nF\ni\nn\nd\ne\nr\n)\n:\n\n\n \n \n \n \nd\ne\nf\n \n_\n_\ni\nn\ni\nt\n_\n_\n(\ns\ne\nl\nf\n,\n \nb\na\ns\ne\nu\nr\nl\n)\n:\n\n\n \n \n \n \n \n \n \n \ns\ne\nl\nf\n.\n_\nl\ni\nn\nk\ns\n \n=\n \nN\no\nn\ne\n\n\n \n \n \n \n \n \n \n \ns\ne\nl\nf\n.\n_\nl\no\na\nd\ne\nr\n \n=\n \nU\nr\nl\nM\no\nd\nu\nl\ne\nL\no\na\nd\ne\nr\n(\nb\na\ns\ne\nu\nr\nl\n)\n\n\n \n \n \n \n \n \n \n \ns\ne\nl\nf\n.\n_\nb\na\ns\ne\nu\nr\nl\n \n=\n \nb\na\ns\ne\nu\nr\nl\n\n\n\n\n \n \n \n \nd\ne\nf\n \nf\ni\nn\nd\n_\nl\no\na\nd\ne\nr\n(\ns\ne\nl\nf\n,\n \nf\nu\nl\nl\nn\na\nm\ne\n)\n:\n\n\n \n \n \n \n \n \n \n \nl\no\ng\n.\nd\ne\nb\nu\ng\n(\n'\nf\ni\nn\nd\n_\nl\no\na\nd\ne\nr\n:\n \n%\nr\n'\n,\n \nf\nu\nl\nl\nn\na\nm\ne\n)\n\n\n \n \n \n \n \n \n \n \np\na\nr\nt\ns\n \n=\n \nf\nu\nl\nl\nn\na\nm\ne\n.\ns\np\nl\ni\nt\n(\n'\n.\n'\n)\n\n\n \n \n \n \n \n \n \n \nb\na\ns\ne\nn\na\nm\ne\n \n=\n \np\na\nr\nt\ns\n[\n-\n1\n]\n\n\n \n \n \n \n \n \n \n \n#\n \nC\nh\ne\nc\nk\n \nl\ni\nn\nk\n \nc\na\nc\nh\ne\n\n\n \n \n \n \n \n \n \n \ni\nf\n \ns\ne\nl\nf\n.\n_\nl\ni\nn\nk\ns\n \ni\ns\n \nN\no\nn\ne\n:\n\n\n \n \n \n \n \n \n \n \n \n \n \n \ns\ne\nl\nf\n.\n_\nl\ni\nn\nk\ns\n \n=\n \n[\n]\n \n#\n \nS\ne\ne\n \nd\ni\ns\nc\nu\ns\ns\ni\no\nn\n\n\n \n \n \n \n \n \n \n \n \n \n \n \ns\ne\nl\nf\n.\n_\nl\ni\nn\nk\ns\n \n=\n \n_\ng\ne\nt\n_\nl\ni\nn\nk\ns\n(\ns\ne\nl\nf\n.\n_\nb\na\ns\ne\nu\nr\nl\n)\n\n\n\n\n \n \n \n \n \n \n \n \n#\n \nC\nh\ne\nc\nk\n \ni\nf\n \ni\nt\n'\ns\n \na\n \np\na\nc\nk\na\ng\ne\n\n\n \n \n \n \n \n \n \n \ni\nf\n \nb\na\ns\ne\nn\na\nm\ne\n \ni\nn\n \ns\ne\nl\nf\n.\n_\nl\ni\nn\nk\ns\n:\n\n\n \n \n \n \n \n \n \n \n \n \n \n \nl\no\ng\n.\nd\ne\nb\nu\ng\n(\n'\nf\ni\nn\nd\n_\nl\no\na\nd\ne\nr\n:\n \nt\nr\ny\ni\nn\ng\n \np\na\nc\nk\na\ng\ne\n \n%\nr\n'\n,\n \nf\nu\nl\nl\nn\na\nm\ne\n)\n\n\n \n \n \n \n \n \n \n \n \n \n \n \nf\nu\nl\nl\nu\nr\nl\n \n=\n \ns\ne\nl\nf\n.\n_\nb\na\ns\ne\nu\nr\nl\n \n+\n \n'\n/\n'\n \n+\n \nb\na\ns\ne\nn\na\nm\ne\n\n\n \n \n \n \n \n \n \n \n \n \n \n \n#\n \nA\nt\nt\ne\nm\np\nt\n \nt\no\n \nl\no\na\nd\n \nt\nh\ne\n \np\na\nc\nk\na\ng\ne\n \n(\nw\nh\ni\nc\nh\n \na\nc\nc\ne\ns\ns\ne\ns\n \n_\n_\ni\nn\ni\nt\n_\n_\n.\np\ny\n)\n\n\n \n \n \n \n \n \n \n \n \n \n \n \nl\no\na\nd\ne\nr\n \n=\n \nU\nr\nl\nP\na\nc\nk\na\ng\ne\nL\no\na\nd\ne\nr\n(\nf\nu\nl\nl\nu\nr\nl\n)\n\n\n \n \n \n \n \n \n \n \n \n \n \n \nt\nr\ny\n:\n\n\n \n \n \n \n \n \n \n \n \n \n \n \n \n \n \n \nl\no\na\nd\ne\nr\n.\nl\no\na\nd\n_\nm\no\nd\nu\nl\ne\n(\nf\nu\nl\nl\nn\na\nm\ne\n)\n\n\n \n \n \n \n \n \n \n \n \n \n \n \n \n \n \n \nl\no\ng\n.\nd\ne\nb\nu\ng\n(\n'\nf\ni\nn\nd\n_\nl\no\na\nd\ne\nr\n:\n \np\na\nc\nk\na\ng\ne\n \n%\nr\n \nl\no\na\nd\ne\nd\n'\n,\n \nf\nu\nl\nl\nn\na\nm\ne\n)\n\n\n \n \n \n \n \n \n \n \n \n \n \n \ne\nx\nc\ne\np\nt\n \nI\nm\np\no\nr\nt\nE\nr\nr\no\nr\n \na\ns\n \ne\n:\n\n\n \n \n \n \n \n \n \n \n \n \n \n \n \n \n \n \nl\no\ng\n.\nd\ne\nb\nu\ng\n(\n'\nf\ni\nn\nd\n_\nl\no\na\nd\ne\nr\n:\n \n%\nr\n \ni\ns\n \na\n \nn\na\nm\ne\ns\np\na\nc\ne\n \np\na\nc\nk\na\ng\ne\n'\n,\n \nf\nu\nl\nl\nn\na\nm\ne\n)\n\n\n \n \n \n \n \n \n \n \n \n \n \n \n \n \n \n \nl\no\na\nd\ne\nr\n \n=\n \nN\no\nn\ne\n\n\n \n \n \n \n \n \n \n \n \n \n \n \nr\ne\nt\nu\nr\nn\n \n(\nl\no\na\nd\ne\nr\n,\n \n[\nf\nu\nl\nl\nu\nr\nl\n]\n)\n\n\n\n\n \n \n \n \n \n \n \n \n#\n \nA\n \nn\no\nr\nm\na\nl\n \nm\no\nd\nu\nl\ne\n\n\n \n \n \n \n \n \n \n \nf\ni\nl\ne\nn\na\nm\ne\n \n=\n \nb\na\ns\ne\nn\na\nm\ne\n \n+\n \n'\n.\np\ny\n'\n\n\n \n \n \n \n \n \n \n \ni\nf\n \nf\ni\nl\ne\nn\na\nm\ne\n \ni\nn\n \ns\ne\nl\nf\n.\n_\nl\ni\nn\nk\ns\n:\n\n\n \n \n \n \n \n \n \n \n \n \n \n \nl\no\ng\n.\nd\ne\nb\nu\ng\n(\n'\nf\ni\nn\nd\n_\nl\no\na\nd\ne\nr\n:\n \nm\no\nd\nu\nl\ne\n \n%\nr\n \nf\no\nu\nn\nd\n'\n,\n \nf\nu\nl\nl\nn\na\nm\ne\n)\n\n\n \n \n \n \n \n \n \n \n \n \n \n \nr\ne\nt\nu\nr\nn\n \n(\ns\ne\nl\nf\n.\n_\nl\no\na\nd\ne\nr\n,\n \n[\n]\n)\n\n\n \n \n \n \n \n \n \n \ne\nl\ns\ne\n:\n\n\n \n \n \n \n \n \n \n \n \n \n \n \nl\no\ng\n.\nd\ne\nb\nu\ng\n(\n'\nf\ni\nn\nd\n_\nl\no\na\nd\ne\nr\n:\n \nm\no\nd\nu\nl\ne\n \n%\nr\n \nn\no\nt\n \nf\no\nu\nn\nd\n'\n,\n \nf\nu\nl\nl\nn\na\nm\ne\n)\n\n\n \n \n \n \n \n \n \n \n \n \n \n \nr\ne\nt\nu\nr\nn\n \n(\nN\no\nn\ne\n,\n \n[\n]\n)\n\n\n\n\n \n \n \n \nd\ne\nf\n \ni\nn\nv\na\nl\ni\nd\na\nt\ne\n_\nc\na\nc\nh\ne\ns\n(\ns\ne\nl\nf\n)\n:\n\n\n \n \n \n \n \n \n \n \nl\no\ng\n.\nd\ne\nb\nu\ng\n(\n'\ni\nn\nv\na\nl\ni\nd\na\nt\ni\nn\ng\n \nl\ni\nn\nk\n \nc\na\nc\nh\ne\n'\n)\n\n\n \n \n \n \n \n \n \n \ns\ne\nl\nf\n.\n_\nl\ni\nn\nk\ns\n \n=\n \nN\no\nn\ne\n\n\n\n\n#\n \nC\nh\ne\nc\nk\n \np\na\nt\nh\n \nt\no\n \ns\ne\ne\n \ni\nf\n \ni\nt\n \nl\no\no\nk\ns\n \nl\ni\nk\ne\n \na\n \nU\nR\nL\n\n\n_\nu\nr\nl\n_\np\na\nt\nh\n_\nc\na\nc\nh\ne\n \n=\n \n{\n}\n\n\nd\ne\nf\n \nh\na\nn\nd\nl\ne\n_\nu\nr\nl\n(\np\na\nt\nh\n)\n:\n\n\n \n \n \n \ni\nf\n \np\na\nt\nh\n.\ns\nt\na\nr\nt\ns\nw\ni\nt\nh\n(\n(\n'\nh\nt\nt\np\n:\n/\n/\n'\n,\n \n'\nh\nt\nt\np\ns\n:\n/\n/\n'\n)\n)\n:\n\n\n \n \n \n \n \n \n \n \nl\no\ng\n.\nd\ne\nb\nu\ng\n(\n'\nH\na\nn\nd\nl\ne\n \np\na\nt\nh\n?\n \n%\ns\n.\n \n[\nY\ne\ns\n]\n'\n,\n \np\na\nt\nh\n)\n\n\n \n \n \n \n \n \n \n \ni\nf\n \np\na\nt\nh\n \ni\nn\n \n_\nu\nr\nl\n_\np\na\nt\nh\n_\nc\na\nc\nh\ne\n:\n\n\n \n \n \n \n \n \n \n \n \n \n \n \nf\ni\nn\nd\ne\nr\n \n=\n \n_\nu\nr\nl\n_\np\na\nt\nh\n_\nc\na\nc\nh\ne\n[\np\na\nt\nh\n]\n\n\n \n \n \n \n \n \n \n \ne\nl\ns\ne\n:\n\n\n \n \n \n \n \n \n \n \n \n \n \n \nf\ni\nn\nd\ne\nr\n \n=\n \nU\nr\nl\nP\na\nt\nh\nF\ni\nn\nd\ne\nr\n(\np\na\nt\nh\n)\n\n\n \n \n \n \n \n \n \n \n \n \n \n \n_\nu\nr\nl\n_\np\na\nt\nh\n_\nc\na\nc\nh\ne\n[\np\na\nt\nh\n]\n \n=\n \nf\ni\nn\nd\ne\nr\n\n\n \n \n \n \n \n \n \n \nr\ne\nt\nu\nr\nn\n \nf\ni\nn\nd\ne\nr\n\n\n \n \n \n \ne\nl\ns\ne\n:\n\n\n \n \n \n \n \n \n \n \nl\no\ng\n.\nd\ne\nb\nu\ng\n(\n'\nH\na\nn\nd\nl\ne\n \np\na\nt\nh\n?\n \n%\ns\n.\n \n[\nN\no\n]\n'\n,\n \np\na\nt\nh\n)\n\n\n\n\nd\ne\nf\n \ni\nn\ns\nt\na\nl\nl\n_\np\na\nt\nh\n_\nh\no\no\nk\n(\n)\n:\n\n\n \n \n \n \ns\ny\ns\n.\np\na\nt\nh\n_\nh\no\no\nk\ns\n.\na\np\np\ne\nn\nd\n(\nh\na\nn\nd\nl\ne\n_\nu\nr\nl\n)\n\n\n \n \n \n \ns\ny\ns\n.\np\na\nt\nh\n_\ni\nm\np\no\nr\nt\ne\nr\n_\nc\na\nc\nh\ne\n.\nc\nl\ne\na\nr\n(\n)\n\n\n \n \n \n \nl\no\ng\n.\nd\ne\nb\nu\ng\n(\n'\nI\nn\ns\nt\na\nl\nl\ni\nn\ng\n \nh\na\nn\nd\nl\ne\n_\nu\nr\nl\n'\n)\n\n\n\n\nd\ne\nf\n \nr\ne\nm\no\nv\ne\n_\np\na\nt\nh\n_\nh\no\no\nk\n(\n)\n:\n\n\n \n \n \n \ns\ny\ns\n.\np\na\nt\nh\n_\nh\no\no\nk\ns\n.\nr\ne\nm\no\nv\ne\n(\nh\na\nn\nd\nl\ne\n_\nu\nr\nl\n)\n\n\n \n \n \n \ns\ny\ns\n.\np\na\nt\nh\n_\ni\nm\np\no\nr\nt\ne\nr\n_\nc\na\nc\nh\ne\n.\nc\nl\ne\na\nr\n(\n)\n\n\n \n \n \n \nl\no\ng\n.\nd\ne\nb\nu\ng\n(\n'\nR\ne\nm\no\nv\ni\nn\ng\n \nh\na\nn\nd\nl\ne\n_\nu\nr\nl\n'\n)\n\n"
      ]
    },
    {
      "cell_type": "markdown",
      "metadata": {},
      "source": [
        "\u8981\u4f7f\u7528\u8fd9\u4e2a\u8def\u5f84\u67e5\u627e\u5668\uff0c\u4f60\u53ea\u9700\u8981\u5728 sys.path \u4e2d\u52a0\u5165URL\u94fe\u63a5\u3002\u4f8b\u5982\uff1a"
      ]
    },
    {
      "cell_type": "code",
      "execution_count": null,
      "metadata": {},
      "outputs": [],
      "source": [
        "# Initial import fails\nimport fib"
      ]
    },
    {
      "cell_type": "code",
      "execution_count": null,
      "metadata": {},
      "outputs": [],
      "source": [
        "# Install the path hook\nimport urlimport\nurlimport.install_path_hook()"
      ]
    },
    {
      "cell_type": "code",
      "execution_count": null,
      "metadata": {},
      "outputs": [],
      "source": [
        "# Imports still fail (not on path)\nimport fib"
      ]
    },
    {
      "cell_type": "code",
      "execution_count": null,
      "metadata": {},
      "outputs": [],
      "source": [
        "# Add an entry to sys.path and watch it work\nimport sys\nsys.path.append('http://localhost:15000')\nimport fib"
      ]
    },
    {
      "cell_type": "code",
      "execution_count": null,
      "metadata": {},
      "outputs": [],
      "source": [
        "import grok.blah"
      ]
    },
    {
      "cell_type": "code",
      "execution_count": null,
      "metadata": {},
      "outputs": [],
      "source": [
        "grok.blah.__file__"
      ]
    },
    {
      "cell_type": "markdown",
      "metadata": {},
      "source": [
        "\u5173\u952e\u70b9\u5c31\u662f handle_url() \u51fd\u6570\uff0c\u5b83\u88ab\u6dfb\u52a0\u5230\u4e86 sys.path_hooks \u53d8\u91cf\u4e2d\u3002\n\u5f53 sys.path \u7684\u5b9e\u4f53\u88ab\u5904\u7406\u65f6\uff0c\u4f1a\u8c03\u7528 sys.path_hooks \u4e2d\u7684\u51fd\u6570\u3002\n\u5982\u679c\u4efb\u4f55\u4e00\u4e2a\u51fd\u6570\u8fd4\u56de\u4e86\u4e00\u4e2a\u67e5\u627e\u5668\u5bf9\u8c61\uff0c\u90a3\u4e48\u8fd9\u4e2a\u5bf9\u8c61\u5c31\u88ab\u7528\u6765\u4e3a sys.path \u5b9e\u4f53\u52a0\u8f7d\u6a21\u5757\u3002"
      ]
    },
    {
      "cell_type": "markdown",
      "metadata": {},
      "source": [
        "\u8fdc\u7a0b\u6a21\u5757\u52a0\u8f7d\u8ddf\u5176\u4ed6\u7684\u52a0\u8f7d\u4f7f\u7528\u65b9\u6cd5\u51e0\u4e4e\u662f\u4e00\u6837\u7684\u3002\u4f8b\u5982\uff1a"
      ]
    },
    {
      "cell_type": "code",
      "execution_count": null,
      "metadata": {},
      "outputs": [],
      "source": [
        "fib"
      ]
    },
    {
      "cell_type": "code",
      "execution_count": null,
      "metadata": {},
      "outputs": [],
      "source": [
        "fib.__name__"
      ]
    },
    {
      "cell_type": "code",
      "execution_count": null,
      "metadata": {},
      "outputs": [],
      "source": [
        "fib.__file__"
      ]
    },
    {
      "cell_type": "code",
      "execution_count": null,
      "metadata": {},
      "outputs": [],
      "source": [
        "import inspect\nprint(inspect.getsource(fib))"
      ]
    },
    {
      "cell_type": "markdown",
      "metadata": {},
      "source": [
        "### \u8ba8\u8bba\n"
      ]
    },
    {
      "cell_type": "markdown",
      "metadata": {},
      "source": [
        "\u5728\u8be6\u7ec6\u8ba8\u8bba\u4e4b\u524d\uff0c\u6709\u70b9\u8981\u5f3a\u8c03\u7684\u662f\uff0cPython\u7684\u6a21\u5757\u3001\u5305\u548c\u5bfc\u5165\u673a\u5236\u662f\u6574\u4e2a\u8bed\u8a00\u4e2d\u6700\u590d\u6742\u7684\u90e8\u5206\uff0c\n\u5373\u4f7f\u7ecf\u9a8c\u4e30\u5bcc\u7684Python\u7a0b\u5e8f\u5458\u4e5f\u5f88\u5c11\u80fd\u7cbe\u901a\u5b83\u4eec\u3002\n\u6211\u5728\u8fd9\u91cc\u63a8\u8350\u4e00\u4e9b\u503c\u7684\u53bb\u8bfb\u7684\u6587\u6863\u548c\u4e66\u7c4d\uff0c\u5305\u62ec\nimportlib module\n\u548c PEP 302.\n\u6587\u6863\u5185\u5bb9\u5728\u8fd9\u91cc\u4e0d\u4f1a\u88ab\u91cd\u590d\u63d0\u5230\uff0c\u4e0d\u8fc7\u6211\u5728\u8fd9\u91cc\u4f1a\u8ba8\u8bba\u4e00\u4e9b\u6700\u91cd\u8981\u7684\u90e8\u5206\u3002"
      ]
    },
    {
      "cell_type": "markdown",
      "metadata": {},
      "source": [
        "\u9996\u5148\uff0c\u5982\u679c\u4f60\u60f3\u521b\u5efa\u4e00\u4e2a\u65b0\u7684\u6a21\u5757\u5bf9\u8c61\uff0c\u4f7f\u7528 imp.new_module() \u51fd\u6570\uff1a"
      ]
    },
    {
      "cell_type": "code",
      "execution_count": null,
      "metadata": {},
      "outputs": [],
      "source": [
        "import imp\nm = imp.new_module('spam')\nm"
      ]
    },
    {
      "cell_type": "code",
      "execution_count": null,
      "metadata": {},
      "outputs": [],
      "source": [
        "m.__name__"
      ]
    },
    {
      "cell_type": "markdown",
      "metadata": {},
      "source": [
        "\u6a21\u5757\u5bf9\u8c61\u901a\u5e38\u6709\u4e00\u4e9b\u671f\u671b\u5c5e\u6027\uff0c\u5305\u62ec __file__ \uff08\u8fd0\u884c\u6a21\u5757\u52a0\u8f7d\u8bed\u53e5\u7684\u6587\u4ef6\u540d\uff09\n\u548c __package__ (\u5305\u540d)\u3002"
      ]
    },
    {
      "cell_type": "markdown",
      "metadata": {},
      "source": [
        "\u5176\u6b21\uff0c\u6a21\u5757\u4f1a\u88ab\u89e3\u91ca\u5668\u7f13\u5b58\u8d77\u6765\u3002\u6a21\u5757\u7f13\u5b58\u53ef\u4ee5\u5728\u5b57\u5178 sys.modules \u4e2d\u88ab\u627e\u5230\u3002\n\u56e0\u4e3a\u6709\u4e86\u8fd9\u4e2a\u7f13\u5b58\u673a\u5236\uff0c\u901a\u5e38\u53ef\u4ee5\u5c06\u7f13\u5b58\u548c\u6a21\u5757\u7684\u521b\u5efa\u901a\u8fc7\u4e00\u4e2a\u6b65\u9aa4\u5b8c\u6210\uff1a"
      ]
    },
    {
      "cell_type": "code",
      "execution_count": null,
      "metadata": {},
      "outputs": [],
      "source": [
        "import sys\nimport imp\nm = sys.modules.setdefault('spam', imp.new_module('spam'))\nm"
      ]
    },
    {
      "cell_type": "markdown",
      "metadata": {},
      "source": [
        "\u5982\u679c\u7ed9\u5b9a\u6a21\u5757\u5df2\u7ecf\u5b58\u5728\u90a3\u4e48\u5c31\u4f1a\u76f4\u63a5\u83b7\u5f97\u5df2\u7ecf\u88ab\u521b\u5efa\u8fc7\u7684\u6a21\u5757\uff0c\u4f8b\u5982\uff1a"
      ]
    },
    {
      "cell_type": "code",
      "execution_count": null,
      "metadata": {},
      "outputs": [],
      "source": [
        "import math\nm = sys.modules.setdefault('math', imp.new_module('math'))\nm"
      ]
    },
    {
      "cell_type": "code",
      "execution_count": null,
      "metadata": {},
      "outputs": [],
      "source": [
        "m.sin(2)"
      ]
    },
    {
      "cell_type": "code",
      "execution_count": null,
      "metadata": {},
      "outputs": [],
      "source": [
        "m.cos(2)"
      ]
    },
    {
      "cell_type": "markdown",
      "metadata": {},
      "source": [
        "\u7531\u4e8e\u521b\u5efa\u6a21\u5757\u5f88\u7b80\u5355\uff0c\u5f88\u5bb9\u6613\u7f16\u5199\u7b80\u5355\u51fd\u6570\u6bd4\u5982\u7b2c\u4e00\u90e8\u5206\u7684 load_module() \u51fd\u6570\u3002\n\u8fd9\u4e2a\u65b9\u6848\u7684\u4e00\u4e2a\u7f3a\u70b9\u662f\u5f88\u96be\u5904\u7406\u590d\u6742\u60c5\u51b5\u6bd4\u5982\u5305\u7684\u5bfc\u5165\u3002\n\u4e3a\u4e86\u5904\u7406\u4e00\u4e2a\u5305\uff0c\u4f60\u8981\u91cd\u65b0\u5b9e\u73b0\u666e\u901aimport\u8bed\u53e5\u7684\u5e95\u5c42\u903b\u8f91\uff08\u6bd4\u5982\u68c0\u67e5\u76ee\u5f55\uff0c\u67e5\u627e__init__.py\u6587\u4ef6\uff0c\n\u6267\u884c\u90a3\u4e9b\u6587\u4ef6\uff0c\u8bbe\u7f6e\u8def\u5f84\u7b49\uff09\u3002\u8fd9\u4e2a\u590d\u6742\u6027\u5c31\u662f\u4e3a\u4ec0\u4e48\u6700\u597d\u76f4\u63a5\u6269\u5c55import\u8bed\u53e5\u800c\u4e0d\u662f\u81ea\u5b9a\u4e49\u51fd\u6570\u7684\u4e00\u4e2a\u539f\u56e0\u3002"
      ]
    },
    {
      "cell_type": "markdown",
      "metadata": {},
      "source": [
        "\u6269\u5c55import\u8bed\u53e5\u5f88\u7b80\u5355\uff0c\u4f46\u662f\u4f1a\u6709\u5f88\u591a\u79fb\u52a8\u64cd\u4f5c\u3002\n\u6700\u9ad8\u5c42\u4e0a\uff0c\u5bfc\u5165\u64cd\u4f5c\u88ab\u4e00\u4e2a\u4f4d\u4e8esys.meta_path\u5217\u8868\u4e2d\u7684\u201c\u5143\u8def\u5f84\u201d\u67e5\u627e\u5668\u5904\u7406\u3002\n\u5982\u679c\u4f60\u8f93\u51fa\u5b83\u7684\u503c\uff0c\u4f1a\u770b\u5230\u4e0b\u9762\u8fd9\u6837\uff1a"
      ]
    },
    {
      "cell_type": "code",
      "execution_count": null,
      "metadata": {},
      "outputs": [],
      "source": [
        "from pprint import pprint\npprint(sys.meta_path)"
      ]
    },
    {
      "cell_type": "markdown",
      "metadata": {},
      "source": [
        "\u5f53\u6267\u884c\u4e00\u4e2a\u8bed\u53e5\u6bd4\u5982 import fib \u65f6\uff0c\u89e3\u91ca\u5668\u4f1a\u904d\u5386sys.mata_path\u4e2d\u7684\u67e5\u627e\u5668\u5bf9\u8c61\uff0c\n\u8c03\u7528\u5b83\u4eec\u7684 find_module() \u65b9\u6cd5\u5b9a\u4f4d\u6b63\u786e\u7684\u6a21\u5757\u52a0\u8f7d\u5668\u3002\n\u53ef\u4ee5\u901a\u8fc7\u5b9e\u9a8c\u6765\u770b\u770b\uff1a"
      ]
    },
    {
      "cell_type": "code",
      "execution_count": null,
      "metadata": {},
      "outputs": [],
      "source": [
        "class Finder:\n    def find_module(self, fullname, path):\n        print('Looking for', fullname, path)\n        return None\nimport sys\nsys.meta_path.insert(0, Finder()) # Insert as first entry\nimport math"
      ]
    },
    {
      "cell_type": "code",
      "execution_count": null,
      "metadata": {},
      "outputs": [],
      "source": [
        "import types"
      ]
    },
    {
      "cell_type": "code",
      "execution_count": null,
      "metadata": {},
      "outputs": [],
      "source": [
        "import threading"
      ]
    },
    {
      "cell_type": "markdown",
      "metadata": {},
      "source": [
        "\u6ce8\u610f\u770b find_module() \u65b9\u6cd5\u662f\u600e\u6837\u5728\u6bcf\u4e00\u4e2a\u5bfc\u5165\u5c31\u88ab\u89e6\u53d1\u7684\u3002\n\u8fd9\u4e2a\u65b9\u6cd5\u4e2d\u7684path\u53c2\u6570\u7684\u4f5c\u7528\u662f\u5904\u7406\u5305\u3002\n\u591a\u4e2a\u5305\u88ab\u5bfc\u5165\uff0c\u5c31\u662f\u4e00\u4e2a\u53ef\u5728\u5305\u7684 __path__ \u5c5e\u6027\u4e2d\u627e\u5230\u7684\u8def\u5f84\u5217\u8868\u3002\n\u8981\u627e\u5230\u5305\u7684\u5b50\u7ec4\u4ef6\u5c31\u8981\u68c0\u67e5\u8fd9\u4e9b\u8def\u5f84\u3002\n\u6bd4\u5982\u6ce8\u610f\u5bf9\u4e8e xml.etree \u548c xml.etree.ElementTree \u7684\u8def\u5f84\u914d\u7f6e\uff1a"
      ]
    },
    {
      "cell_type": "code",
      "execution_count": null,
      "metadata": {},
      "outputs": [],
      "source": [
        "import xml.etree.ElementTree"
      ]
    },
    {
      "cell_type": "markdown",
      "metadata": {},
      "source": [
        "\u5728 sys.meta_path \u4e0a\u67e5\u627e\u5668\u7684\u4f4d\u7f6e\u5f88\u91cd\u8981\uff0c\u5c06\u5b83\u4ece\u961f\u5934\u79fb\u5230\u961f\u5c3e\uff0c\u7136\u540e\u518d\u8bd5\u8bd5\u5bfc\u5165\u770b\uff1a"
      ]
    },
    {
      "cell_type": "code",
      "execution_count": null,
      "metadata": {},
      "outputs": [],
      "source": [
        "del sys.meta_path[0]\nsys.meta_path.append(Finder())\nimport urllib.request\nimport datetime"
      ]
    },
    {
      "cell_type": "markdown",
      "metadata": {},
      "source": [
        "\u73b0\u5728\u4f60\u770b\u4e0d\u5230\u4efb\u4f55\u8f93\u51fa\u4e86\uff0c\u56e0\u4e3a\u5bfc\u5165\u88absys.meta_path\u4e2d\u7684\u5176\u4ed6\u5b9e\u4f53\u5904\u7406\u3002\n\u8fd9\u65f6\u5019\uff0c\u4f60\u53ea\u6709\u5728\u5bfc\u5165\u4e0d\u5b58\u5728\u6a21\u5757\u7684\u65f6\u5019\u624d\u80fd\u770b\u5230\u5b83\u88ab\u89e6\u53d1\uff1a"
      ]
    },
    {
      "cell_type": "code",
      "execution_count": null,
      "metadata": {},
      "outputs": [],
      "source": [
        "import fib"
      ]
    },
    {
      "cell_type": "code",
      "execution_count": null,
      "metadata": {},
      "outputs": [],
      "source": [
        "import xml.superfast"
      ]
    },
    {
      "cell_type": "markdown",
      "metadata": {},
      "source": [
        "\u4f60\u4e4b\u524d\u5b89\u88c5\u8fc7\u4e00\u4e2a\u6355\u83b7\u672a\u77e5\u6a21\u5757\u7684\u67e5\u627e\u5668\uff0c\u8fd9\u4e2a\u662f UrlMetaFinder \u7c7b\u7684\u5173\u952e\u3002\n\u4e00\u4e2a UrlMetaFinder \u5b9e\u4f8b\u88ab\u6dfb\u52a0\u5230 sys.meta_path \u7684\u672b\u5c3e\uff0c\u4f5c\u4e3a\u6700\u540e\u4e00\u4e2a\u67e5\u627e\u5668\u65b9\u6848\u3002\n\u5982\u679c\u88ab\u8bf7\u6c42\u7684\u6a21\u5757\u540d\u4e0d\u80fd\u5b9a\u4f4d\uff0c\u5c31\u4f1a\u88ab\u8fd9\u4e2a\u67e5\u627e\u5668\u5904\u7406\u6389\u3002\n\u5904\u7406\u5305\u7684\u65f6\u5019\u9700\u8981\u6ce8\u610f\uff0c\u5728path\u53c2\u6570\u4e2d\u6307\u5b9a\u7684\u503c\u9700\u8981\u88ab\u68c0\u67e5\uff0c\u770b\u5b83\u662f\u5426\u4ee5\u67e5\u627e\u5668\u4e2d\u6ce8\u518c\u7684URL\u5f00\u5934\u3002\n\u5982\u679c\u4e0d\u662f\uff0c\u8be5\u5b50\u6a21\u5757\u5fc5\u987b\u5f52\u5c5e\u4e8e\u5176\u4ed6\u67e5\u627e\u5668\u5e76\u88ab\u5ffd\u7565\u6389\u3002"
      ]
    },
    {
      "cell_type": "markdown",
      "metadata": {},
      "source": [
        "\u5bf9\u4e8e\u5305\u7684\u5176\u4ed6\u5904\u7406\u53ef\u5728 UrlPackageLoader \u7c7b\u4e2d\u88ab\u627e\u5230\u3002\n\u8fd9\u4e2a\u7c7b\u4e0d\u4f1a\u5bfc\u5165\u5305\u540d\uff0c\u800c\u662f\u53bb\u52a0\u8f7d\u5bf9\u5e94\u7684 __init__.py \u6587\u4ef6\u3002\n\u5b83\u4e5f\u4f1a\u8bbe\u7f6e\u6a21\u5757\u7684 __path__ \u5c5e\u6027\uff0c\u8fd9\u4e00\u6b65\u5f88\u91cd\u8981\uff0c\n\u56e0\u4e3a\u5728\u52a0\u8f7d\u5305\u7684\u5b50\u6a21\u5757\u65f6\u8fd9\u4e2a\u503c\u4f1a\u88ab\u4f20\u7ed9\u540e\u9762\u7684 find_module() \u8c03\u7528\u3002\n\u57fa\u4e8e\u8def\u5f84\u7684\u5bfc\u5165\u94a9\u5b50\u662f\u8fd9\u4e9b\u601d\u60f3\u7684\u4e00\u4e2a\u6269\u5c55\uff0c\u4f46\u662f\u91c7\u7528\u4e86\u53e6\u5916\u7684\u65b9\u6cd5\u3002\n\u6211\u4eec\u90fd\u77e5\u9053\uff0csys.path \u662f\u4e00\u4e2aPython\u67e5\u627e\u6a21\u5757\u7684\u76ee\u5f55\u5217\u8868\uff0c\u4f8b\u5982\uff1a"
      ]
    },
    {
      "cell_type": "code",
      "execution_count": null,
      "metadata": {},
      "outputs": [],
      "source": [
        "from pprint import pprint\nimport sys\npprint(sys.path)"
      ]
    },
    {
      "cell_type": "markdown",
      "metadata": {},
      "source": [
        "\u5728 sys.path \u4e2d\u7684\u6bcf\u4e00\u4e2a\u5b9e\u4f53\u90fd\u4f1a\u88ab\u989d\u5916\u7684\u7ed1\u5b9a\u5230\u4e00\u4e2a\u67e5\u627e\u5668\u5bf9\u8c61\u4e0a\u3002\n\u4f60\u53ef\u4ee5\u901a\u8fc7\u67e5\u770b sys.path_importer_cache \u53bb\u770b\u4e0b\u8fd9\u4e9b\u67e5\u627e\u5668\uff1a"
      ]
    },
    {
      "cell_type": "code",
      "execution_count": null,
      "metadata": {},
      "outputs": [],
      "source": [
        "pprint(sys.path_importer_cache)"
      ]
    },
    {
      "cell_type": "markdown",
      "metadata": {},
      "source": [
        "sys.path_importer_cache \u6bd4 sys.path \u4f1a\u66f4\u5927\u70b9\uff0c\n\u56e0\u4e3a\u5b83\u4f1a\u4e3a\u6240\u6709\u88ab\u52a0\u8f7d\u4ee3\u7801\u7684\u76ee\u5f55\u8bb0\u5f55\u5b83\u4eec\u7684\u67e5\u627e\u5668\u3002\n\u8fd9\u5305\u62ec\u5305\u7684\u5b50\u76ee\u5f55\uff0c\u8fd9\u4e9b\u901a\u5e38\u5728 sys.path \u4e2d\u662f\u4e0d\u5b58\u5728\u7684\u3002"
      ]
    },
    {
      "cell_type": "markdown",
      "metadata": {},
      "source": [
        "\u8981\u6267\u884c import fib \uff0c\u4f1a\u987a\u5e8f\u68c0\u67e5 sys.path \u4e2d\u7684\u76ee\u5f55\u3002\n\u5bf9\u4e8e\u6bcf\u4e2a\u76ee\u5f55\uff0c\u540d\u79f0\u201cfib\u201d\u4f1a\u88ab\u4f20\u7ed9\u76f8\u5e94\u7684 sys.path_importer_cache \u4e2d\u7684\u67e5\u627e\u5668\u3002\n\u8fd9\u4e2a\u53ef\u4ee5\u8ba9\u4f60\u521b\u5efa\u81ea\u5df1\u7684\u67e5\u627e\u5668\u5e76\u5728\u7f13\u5b58\u4e2d\u653e\u5165\u4e00\u4e2a\u5b9e\u4f53\u3002\u8bd5\u8bd5\u8fd9\u4e2a\uff1a"
      ]
    },
    {
      "cell_type": "code",
      "execution_count": null,
      "metadata": {},
      "outputs": [],
      "source": [
        "class Finder:\ndef find_loader(self, name):\n    print('Looking for', name)\n    return (None, [])\nimport sys\n# Add a \"debug\" entry to the importer cache\nsys.path_importer_cache['debug'] = Finder()\n# Add a \"debug\" directory to sys.path\nsys.path.insert(0, 'debug')\nimport threading"
      ]
    },
    {
      "cell_type": "markdown",
      "metadata": {},
      "source": [
        "\u5728\u8fd9\u91cc\uff0c\u4f60\u53ef\u4ee5\u4e3a\u540d\u5b57\u201cdebug\u201d\u521b\u5efa\u4e00\u4e2a\u65b0\u7684\u7f13\u5b58\u5b9e\u4f53\u5e76\u5c06\u5b83\u8bbe\u7f6e\u6210 sys.path \u4e0a\u7684\u7b2c\u4e00\u4e2a\u3002\n\u5728\u6240\u6709\u63a5\u4e0b\u6765\u7684\u5bfc\u5165\u4e2d\uff0c\u4f60\u4f1a\u770b\u5230\u4f60\u7684\u67e5\u627e\u5668\u88ab\u89e6\u53d1\u4e86\u3002\n\u4e0d\u8fc7\uff0c\u7531\u4e8e\u5b83\u8fd4\u56de (None, [])\uff0c\u90a3\u4e48\u5904\u7406\u8fdb\u7a0b\u4f1a\u7ee7\u7eed\u5904\u7406\u4e0b\u4e00\u4e2a\u5b9e\u4f53\u3002"
      ]
    },
    {
      "cell_type": "markdown",
      "metadata": {},
      "source": [
        "sys.path_importer_cache \u7684\u4f7f\u7528\u88ab\u4e00\u4e2a\u5b58\u50a8\u5728 sys.path_hooks \u4e2d\u7684\u51fd\u6570\u5217\u8868\u63a7\u5236\u3002\n\u8bd5\u8bd5\u4e0b\u9762\u7684\u4f8b\u5b50\uff0c\u5b83\u4f1a\u6e05\u9664\u7f13\u5b58\u5e76\u7ed9 sys.path_hooks \u6dfb\u52a0\u4e00\u4e2a\u65b0\u7684\u8def\u5f84\u68c0\u67e5\u51fd\u6570"
      ]
    },
    {
      "cell_type": "code",
      "execution_count": null,
      "metadata": {},
      "outputs": [],
      "source": [
        "sys.path_importer_cache.clear()\ndef check_path(path):\n    print('Checking', path)\n    raise ImportError()\nsys.path_hooks.insert(0, check_path)\nimport fib"
      ]
    },
    {
      "cell_type": "markdown",
      "metadata": {},
      "source": [
        "\u6b63\u5982\u4f60\u6240\u89c1\uff0ccheck_path() \u51fd\u6570\u88ab\u6bcf\u4e2a sys.path \u4e2d\u7684\u5b9e\u4f53\u8c03\u7528\u3002\n\u4e0d\u987e\uff0c\u7531\u4e8e\u629b\u51fa\u4e86 ImportError \u5f02\u5e38\uff0c\n\u5565\u90fd\u4e0d\u4f1a\u53d1\u751f\u4e86\uff08\u4ec5\u4ec5\u5c06\u68c0\u67e5\u8f6c\u79fb\u5230sys.path_hooks\u7684\u4e0b\u4e00\u4e2a\u51fd\u6570\uff09\u3002"
      ]
    },
    {
      "cell_type": "markdown",
      "metadata": {},
      "source": [
        "\u77e5\u9053\u4e86\u600e\u6837sys.path\u662f\u600e\u6837\u88ab\u5904\u7406\u7684\uff0c\u4f60\u5c31\u80fd\u6784\u5efa\u4e00\u4e2a\u81ea\u5b9a\u4e49\u8def\u5f84\u68c0\u67e5\u51fd\u6570\u6765\u67e5\u627e\u6587\u4ef6\u540d\uff0c\u4e0d\u7136URL\u3002\u4f8b\u5982\uff1a"
      ]
    },
    {
      "cell_type": "code",
      "execution_count": null,
      "metadata": {},
      "outputs": [],
      "source": [
        "def check_url(path):\n    if path.startswith('http://'):\n        return Finder()\n    else:\n        raise ImportError()\nsys.path.append('http://localhost:15000')\nsys.path_hooks[0] = check_url\nimport fib"
      ]
    },
    {
      "cell_type": "code",
      "execution_count": null,
      "metadata": {},
      "outputs": [],
      "source": [
        "# Notice installation of Finder in sys.path_importer_cache\nsys.path_importer_cache['http://localhost:15000']"
      ]
    },
    {
      "cell_type": "markdown",
      "metadata": {},
      "source": [
        "\u8fd9\u5c31\u662f\u672c\u8282\u6700\u540e\u90e8\u5206\u7684\u5173\u952e\u70b9\u3002\u4e8b\u5b9e\u4e0a\uff0c\u4e00\u4e2a\u7528\u6765\u5728sys.path\u4e2d\u67e5\u627eURL\u7684\u81ea\u5b9a\u4e49\u8def\u5f84\u68c0\u67e5\u51fd\u6570\u5df2\u7ecf\u6784\u5efa\u5b8c\u6bd5\u3002\n\u5f53\u5b83\u4eec\u88ab\u78b0\u5230\u7684\u65f6\u5019\uff0c\u4e00\u4e2a\u65b0\u7684 UrlPathFinder \u5b9e\u4f8b\u88ab\u521b\u5efa\u5e76\u88ab\u653e\u5165 sys.path_importer_cache.\n\u4e4b\u540e\uff0c\u6240\u6709\u9700\u8981\u68c0\u67e5 sys.path \u7684\u5bfc\u5165\u8bed\u53e5\u90fd\u4f1a\u4f7f\u7528\u4f60\u7684\u81ea\u5b9a\u4e49\u67e5\u627e\u5668\u3002"
      ]
    },
    {
      "cell_type": "markdown",
      "metadata": {},
      "source": [
        "\u57fa\u4e8e\u8def\u5f84\u5bfc\u5165\u7684\u5305\u5904\u7406\u7a0d\u5fae\u6709\u70b9\u590d\u6742\uff0c\u5e76\u4e14\u8ddf find_loader() \u65b9\u6cd5\u8fd4\u56de\u503c\u6709\u5173\u3002\n\u5bf9\u4e8e\u7b80\u5355\u6a21\u5757\uff0cfind_loader() \u8fd4\u56de\u4e00\u4e2a\u5143\u7ec4(loader, None)\uff0c\n\u5176\u4e2d\u7684loader\u662f\u4e00\u4e2a\u7528\u4e8e\u5bfc\u5165\u6a21\u5757\u7684\u52a0\u8f7d\u5668\u5b9e\u4f8b\u3002"
      ]
    },
    {
      "cell_type": "markdown",
      "metadata": {},
      "source": [
        "\u5bf9\u4e8e\u4e00\u4e2a\u666e\u901a\u7684\u5305\uff0cfind_loader() \u8fd4\u56de\u4e00\u4e2a\u5143\u7ec4(loader, path)\uff0c\n\u5176\u4e2d\u7684loader\u662f\u4e00\u4e2a\u7528\u4e8e\u5bfc\u5165\u5305\uff08\u5e76\u6267\u884c__init__.py\uff09\u7684\u52a0\u8f7d\u5668\u5b9e\u4f8b\uff0c\npath\u662f\u4e00\u4e2a\u4f1a\u521d\u59cb\u5316\u5305\u7684 __path__ \u5c5e\u6027\u7684\u76ee\u5f55\u5217\u8868\u3002\n\u4f8b\u5982\uff0c\u5982\u679c\u57fa\u7840URL\u662f http://localhost:15000 \u5e76\u4e14\u4e00\u4e2a\u7528\u6237\u6267\u884c import grok ,\n\u90a3\u4e48 find_loader() \u8fd4\u56de\u7684path\u5c31\u4f1a\u662f [ \u2018http://localhost:15000/grok\u2019 ]"
      ]
    },
    {
      "cell_type": "markdown",
      "metadata": {},
      "source": [
        "find_loader() \u8fd8\u8981\u80fd\u5904\u7406\u4e00\u4e2a\u547d\u540d\u7a7a\u95f4\u5305\u3002\n\u4e00\u4e2a\u547d\u540d\u7a7a\u95f4\u5305\u4e2d\u6709\u4e00\u4e2a\u5408\u6cd5\u7684\u5305\u76ee\u5f55\u540d\uff0c\u4f46\u662f\u4e0d\u5b58\u5728__init__.py\u6587\u4ef6\u3002\n\u8fd9\u6837\u7684\u8bdd\uff0cfind_loader() \u5fc5\u987b\u8fd4\u56de\u4e00\u4e2a\u5143\u7ec4(None, path)\uff0c\npath\u662f\u4e00\u4e2a\u76ee\u5f55\u5217\u8868\uff0c\u7531\u5b83\u6765\u6784\u5efa\u5305\u7684\u5b9a\u4e49\u6709__init__.py\u6587\u4ef6\u7684__path__\u5c5e\u6027\u3002\n\u5bf9\u4e8e\u8fd9\u79cd\u60c5\u51b5\uff0c\u5bfc\u5165\u673a\u5236\u4f1a\u7ee7\u7eed\u524d\u884c\u53bb\u68c0\u67e5sys.path\u4e2d\u7684\u76ee\u5f55\u3002\n\u5982\u679c\u627e\u5230\u4e86\u547d\u540d\u7a7a\u95f4\u5305\uff0c\u6240\u6709\u7684\u7ed3\u679c\u8def\u5f84\u88ab\u52a0\u5230\u4e00\u8d77\u6765\u6784\u5efa\u6700\u7ec8\u7684\u547d\u540d\u7a7a\u95f4\u5305\u3002\n\u5173\u4e8e\u547d\u540d\u7a7a\u95f4\u5305\u7684\u66f4\u591a\u4fe1\u606f\u8bf7\u53c2\u800310.5\u5c0f\u8282\u3002"
      ]
    },
    {
      "cell_type": "markdown",
      "metadata": {},
      "source": [
        "\u6240\u6709\u7684\u5305\u90fd\u5305\u542b\u4e86\u4e00\u4e2a\u5185\u90e8\u8def\u5f84\u8bbe\u7f6e\uff0c\u53ef\u4ee5\u5728__path__\u5c5e\u6027\u4e2d\u770b\u5230\uff0c\u4f8b\u5982\uff1a"
      ]
    },
    {
      "cell_type": "code",
      "execution_count": null,
      "metadata": {},
      "outputs": [],
      "source": [
        "import xml.etree.ElementTree\nxml.__path__"
      ]
    },
    {
      "cell_type": "code",
      "execution_count": null,
      "metadata": {},
      "outputs": [],
      "source": [
        "xml.etree.__path__"
      ]
    },
    {
      "cell_type": "markdown",
      "metadata": {},
      "source": [
        "\u4e4b\u524d\u63d0\u5230\uff0c__path__\u7684\u8bbe\u7f6e\u662f\u901a\u8fc7 find_loader() \u65b9\u6cd5\u8fd4\u56de\u503c\u63a7\u5236\u7684\u3002\n\u4e0d\u8fc7\uff0c__path__\u63a5\u4e0b\u6765\u4e5f\u88absys.path_hooks\u4e2d\u7684\u51fd\u6570\u5904\u7406\u3002\n\u56e0\u6b64\uff0c\u4f46\u5305\u7684\u5b50\u7ec4\u4ef6\u88ab\u52a0\u8f7d\u540e\uff0c\u4f4d\u4e8e__path__\u4e2d\u7684\u5b9e\u4f53\u4f1a\u88ab handle_url() \u51fd\u6570\u68c0\u67e5\u3002\n\u8fd9\u4f1a\u5bfc\u81f4\u65b0\u7684 UrlPathFinder \u5b9e\u4f8b\u88ab\u521b\u5efa\u5e76\u4e14\u88ab\u52a0\u5165\u5230 sys.path_importer_cache \u4e2d\u3002"
      ]
    },
    {
      "cell_type": "markdown",
      "metadata": {},
      "source": [
        "\u8fd8\u6709\u4e2a\u96be\u70b9\u5c31\u662f handle_url() \u51fd\u6570\u4ee5\u53ca\u5b83\u8ddf\u5185\u90e8\u4f7f\u7528\u7684 _get_links() \u51fd\u6570\u4e4b\u95f4\u7684\u4ea4\u4e92\u3002\n\u5982\u679c\u4f60\u7684\u67e5\u627e\u5668\u5b9e\u73b0\u9700\u8981\u4f7f\u7528\u5230\u5176\u4ed6\u6a21\u5757\uff08\u6bd4\u5982urllib.request\uff09\uff0c\n\u6709\u53ef\u80fd\u8fd9\u4e9b\u6a21\u5757\u4f1a\u5728\u67e5\u627e\u5668\u64cd\u4f5c\u671f\u95f4\u8fdb\u884c\u66f4\u591a\u7684\u5bfc\u5165\u3002\n\u5b83\u53ef\u4ee5\u5bfc\u81f4 handle_url() \u548c\u5176\u4ed6\u67e5\u627e\u5668\u90e8\u5206\u9677\u5165\u4e00\u79cd\u9012\u5f52\u5faa\u73af\u72b6\u6001\u3002\n\u4e3a\u4e86\u89e3\u91ca\u8fd9\u79cd\u53ef\u80fd\u6027\uff0c\u5b9e\u73b0\u4e2d\u6709\u4e00\u4e2a\u88ab\u521b\u5efa\u7684\u67e5\u627e\u5668\u7f13\u5b58\uff08\u6bcf\u4e00\u4e2aURL\u4e00\u4e2a\uff09\u3002\n\u5b83\u53ef\u4ee5\u907f\u514d\u521b\u5efa\u91cd\u590d\u67e5\u627e\u5668\u7684\u95ee\u9898\u3002\n\u53e6\u5916\uff0c\u4e0b\u9762\u7684\u4ee3\u7801\u7247\u6bb5\u53ef\u4ee5\u786e\u4fdd\u67e5\u627e\u5668\u4e0d\u4f1a\u5728\u521d\u59cb\u5316\u94fe\u63a5\u96c6\u5408\u7684\u65f6\u5019\u54cd\u5e94\u4efb\u4f55\u5bfc\u5165\u8bf7\u6c42\uff1a"
      ]
    },
    {
      "cell_type": "code",
      "execution_count": null,
      "metadata": {},
      "outputs": [],
      "source": [
        "#\n \nC\nh\ne\nc\nk\n \nl\ni\nn\nk\n \nc\na\nc\nh\ne\n\n\ni\nf\n \ns\ne\nl\nf\n.\n_\nl\ni\nn\nk\ns\n \ni\ns\n \nN\no\nn\ne\n:\n\n\n \n \n \n \ns\ne\nl\nf\n.\n_\nl\ni\nn\nk\ns\n \n=\n \n[\n]\n \n#\n \nS\ne\ne\n \nd\ni\ns\nc\nu\ns\ns\ni\no\nn\n\n\n \n \n \n \ns\ne\nl\nf\n.\n_\nl\ni\nn\nk\ns\n \n=\n \n_\ng\ne\nt\n_\nl\ni\nn\nk\ns\n(\ns\ne\nl\nf\n.\n_\nb\na\ns\ne\nu\nr\nl\n)\n\n"
      ]
    },
    {
      "cell_type": "markdown",
      "metadata": {},
      "source": [
        "\u6700\u540e\uff0c\u67e5\u627e\u5668\u7684 invalidate_caches() \u65b9\u6cd5\u662f\u4e00\u4e2a\u5de5\u5177\u65b9\u6cd5\uff0c\u7528\u6765\u6e05\u7406\u5185\u90e8\u7f13\u5b58\u3002\n\u8fd9\u4e2a\u65b9\u6cd5\u518d\u7528\u6237\u8c03\u7528 importlib.invalidate_caches() \u7684\u65f6\u5019\u88ab\u89e6\u53d1\u3002\n\u5982\u679c\u4f60\u60f3\u8ba9URL\u5bfc\u5165\u8005\u91cd\u65b0\u8bfb\u53d6\u94fe\u63a5\u5217\u8868\u7684\u8bdd\u53ef\u4ee5\u4f7f\u7528\u5b83\u3002"
      ]
    },
    {
      "cell_type": "markdown",
      "metadata": {},
      "source": [
        "\u5bf9\u6bd4\u4e0b\u4e24\u79cd\u65b9\u6848\uff08\u4fee\u6539sys.meta_path\u6216\u4f7f\u7528\u4e00\u4e2a\u8def\u5f84\u94a9\u5b50\uff09\u3002\n\u4f7f\u7528sys.meta_path\u7684\u5bfc\u5165\u8005\u53ef\u4ee5\u6309\u7167\u81ea\u5df1\u7684\u9700\u8981\u81ea\u7531\u5904\u7406\u6a21\u5757\u3002\n\u4f8b\u5982\uff0c\u5b83\u4eec\u53ef\u4ee5\u4ece\u6570\u636e\u5e93\u4e2d\u5bfc\u5165\u6216\u4ee5\u4e0d\u540c\u4e8e\u4e00\u822c\u6a21\u5757/\u5305\u5904\u7406\u65b9\u5f0f\u5bfc\u5165\u3002\n\u8fd9\u79cd\u81ea\u7531\u540c\u6837\u610f\u5473\u7740\u5bfc\u5165\u8005\u9700\u8981\u81ea\u5df1\u8fdb\u884c\u5185\u90e8\u7684\u4e00\u4e9b\u7ba1\u7406\u3002\n\u53e6\u5916\uff0c\u57fa\u4e8e\u8def\u5f84\u7684\u94a9\u5b50\u53ea\u662f\u9002\u7528\u4e8e\u5bf9sys.path\u7684\u5904\u7406\u3002\n\u901a\u8fc7\u8fd9\u79cd\u6269\u5c55\u52a0\u8f7d\u7684\u6a21\u5757\u8ddf\u666e\u901a\u65b9\u5f0f\u52a0\u8f7d\u7684\u7279\u6027\u662f\u4e00\u6837\u7684\u3002"
      ]
    },
    {
      "cell_type": "markdown",
      "metadata": {},
      "source": [
        "\u5982\u679c\u5230\u73b0\u5728\u4e3a\u6b62\u4f60\u8fd8\u662f\u4e0d\u662f\u5f88\u660e\u767d\uff0c\u90a3\u4e48\u53ef\u4ee5\u901a\u8fc7\u589e\u52a0\u4e00\u4e9b\u65e5\u5fd7\u6253\u5370\u6765\u6d4b\u8bd5\u4e0b\u672c\u8282\u3002\u50cf\u4e0b\u9762\u8fd9\u6837\uff1a"
      ]
    },
    {
      "cell_type": "code",
      "execution_count": null,
      "metadata": {},
      "outputs": [],
      "source": [
        "import logging\nlogging.basicConfig(level=logging.DEBUG)\nimport urlimport\nurlimport.install_path_hook()"
      ]
    },
    {
      "cell_type": "code",
      "execution_count": null,
      "metadata": {},
      "outputs": [],
      "source": [
        "import fib"
      ]
    },
    {
      "cell_type": "code",
      "execution_count": null,
      "metadata": {},
      "outputs": [],
      "source": [
        "import sys\nsys.path.append('http://localhost:15000')\nimport fib"
      ]
    },
    {
      "cell_type": "markdown",
      "metadata": {},
      "source": [
        "\u6700\u540e\uff0c\u5efa\u8bae\u4f60\u82b1\u70b9\u65f6\u95f4\u770b\u770b PEP 302\n\u4ee5\u53caimportlib\u7684\u6587\u6863\u3002"
      ]
    },
    {
      "cell_type": "markdown",
      "metadata": {},
      "source": [
        "## 10.12 \u5bfc\u5165\u6a21\u5757\u7684\u540c\u65f6\u4fee\u6539\u6a21\u5757\n"
      ]
    },
    {
      "cell_type": "markdown",
      "metadata": {},
      "source": [
        "### \u95ee\u9898\n"
      ]
    },
    {
      "cell_type": "markdown",
      "metadata": {},
      "source": [
        "\u4f60\u60f3\u7ed9\u67d0\u4e2a\u5df2\u5b58\u5728\u6a21\u5757\u4e2d\u7684\u51fd\u6570\u6dfb\u52a0\u88c5\u9970\u5668\u3002\n\u4e0d\u8fc7\uff0c\u524d\u63d0\u662f\u8fd9\u4e2a\u6a21\u5757\u5df2\u7ecf\u88ab\u5bfc\u5165\u5e76\u4e14\u88ab\u4f7f\u7528\u8fc7\u3002"
      ]
    },
    {
      "cell_type": "markdown",
      "metadata": {},
      "source": [
        "### \u89e3\u51b3\u65b9\u6848\n"
      ]
    },
    {
      "cell_type": "markdown",
      "metadata": {},
      "source": [
        "\u8fd9\u91cc\u95ee\u9898\u7684\u672c\u8d28\u5c31\u662f\u4f60\u60f3\u5728\u6a21\u5757\u88ab\u52a0\u8f7d\u65f6\u6267\u884c\u67d0\u4e2a\u52a8\u4f5c\u3002\n\u53ef\u80fd\u662f\u4f60\u60f3\u5728\u4e00\u4e2a\u6a21\u5757\u88ab\u52a0\u8f7d\u65f6\u89e6\u53d1\u67d0\u4e2a\u56de\u8c03\u51fd\u6570\u6765\u901a\u77e5\u4f60\u3002"
      ]
    },
    {
      "cell_type": "markdown",
      "metadata": {},
      "source": [
        "\u8fd9\u4e2a\u95ee\u9898\u53ef\u4ee5\u4f7f\u752810.11\u5c0f\u8282\u4e2d\u540c\u6837\u7684\u5bfc\u5165\u94a9\u5b50\u673a\u5236\u6765\u5b9e\u73b0\u3002\u4e0b\u9762\u662f\u4e00\u4e2a\u53ef\u80fd\u7684\u65b9\u6848\uff1a"
      ]
    },
    {
      "cell_type": "code",
      "execution_count": null,
      "metadata": {},
      "outputs": [],
      "source": [
        "#\n \np\no\ns\nt\ni\nm\np\no\nr\nt\n.\np\ny\n\n\ni\nm\np\no\nr\nt\n \ni\nm\np\no\nr\nt\nl\ni\nb\n\n\ni\nm\np\no\nr\nt\n \ns\ny\ns\n\n\nf\nr\no\nm\n \nc\no\nl\nl\ne\nc\nt\ni\no\nn\ns\n \ni\nm\np\no\nr\nt\n \nd\ne\nf\na\nu\nl\nt\nd\ni\nc\nt\n\n\n\n\n_\np\no\ns\nt\n_\ni\nm\np\no\nr\nt\n_\nh\no\no\nk\ns\n \n=\n \nd\ne\nf\na\nu\nl\nt\nd\ni\nc\nt\n(\nl\ni\ns\nt\n)\n\n\n\n\nc\nl\na\ns\ns\n \nP\no\ns\nt\nI\nm\np\no\nr\nt\nF\ni\nn\nd\ne\nr\n:\n\n\n \n \n \n \nd\ne\nf\n \n_\n_\ni\nn\ni\nt\n_\n_\n(\ns\ne\nl\nf\n)\n:\n\n\n \n \n \n \n \n \n \n \ns\ne\nl\nf\n.\n_\ns\nk\ni\np\n \n=\n \ns\ne\nt\n(\n)\n\n\n\n\n \n \n \n \nd\ne\nf\n \nf\ni\nn\nd\n_\nm\no\nd\nu\nl\ne\n(\ns\ne\nl\nf\n,\n \nf\nu\nl\nl\nn\na\nm\ne\n,\n \np\na\nt\nh\n=\nN\no\nn\ne\n)\n:\n\n\n \n \n \n \n \n \n \n \ni\nf\n \nf\nu\nl\nl\nn\na\nm\ne\n \ni\nn\n \ns\ne\nl\nf\n.\n_\ns\nk\ni\np\n:\n\n\n \n \n \n \n \n \n \n \n \n \n \n \nr\ne\nt\nu\nr\nn\n \nN\no\nn\ne\n\n\n \n \n \n \n \n \n \n \ns\ne\nl\nf\n.\n_\ns\nk\ni\np\n.\na\nd\nd\n(\nf\nu\nl\nl\nn\na\nm\ne\n)\n\n\n \n \n \n \n \n \n \n \nr\ne\nt\nu\nr\nn\n \nP\no\ns\nt\nI\nm\np\no\nr\nt\nL\no\na\nd\ne\nr\n(\ns\ne\nl\nf\n)\n\n\n\n\nc\nl\na\ns\ns\n \nP\no\ns\nt\nI\nm\np\no\nr\nt\nL\no\na\nd\ne\nr\n:\n\n\n \n \n \n \nd\ne\nf\n \n_\n_\ni\nn\ni\nt\n_\n_\n(\ns\ne\nl\nf\n,\n \nf\ni\nn\nd\ne\nr\n)\n:\n\n\n \n \n \n \n \n \n \n \ns\ne\nl\nf\n.\n_\nf\ni\nn\nd\ne\nr\n \n=\n \nf\ni\nn\nd\ne\nr\n\n\n\n\n \n \n \n \nd\ne\nf\n \nl\no\na\nd\n_\nm\no\nd\nu\nl\ne\n(\ns\ne\nl\nf\n,\n \nf\nu\nl\nl\nn\na\nm\ne\n)\n:\n\n\n \n \n \n \n \n \n \n \ni\nm\np\no\nr\nt\nl\ni\nb\n.\ni\nm\np\no\nr\nt\n_\nm\no\nd\nu\nl\ne\n(\nf\nu\nl\nl\nn\na\nm\ne\n)\n\n\n \n \n \n \n \n \n \n \nm\no\nd\nu\nl\ne\n \n=\n \ns\ny\ns\n.\nm\no\nd\nu\nl\ne\ns\n[\nf\nu\nl\nl\nn\na\nm\ne\n]\n\n\n \n \n \n \n \n \n \n \nf\no\nr\n \nf\nu\nn\nc\n \ni\nn\n \n_\np\no\ns\nt\n_\ni\nm\np\no\nr\nt\n_\nh\no\no\nk\ns\n[\nf\nu\nl\nl\nn\na\nm\ne\n]\n:\n\n\n \n \n \n \n \n \n \n \n \n \n \n \nf\nu\nn\nc\n(\nm\no\nd\nu\nl\ne\n)\n\n\n \n \n \n \n \n \n \n \ns\ne\nl\nf\n.\n_\nf\ni\nn\nd\ne\nr\n.\n_\ns\nk\ni\np\n.\nr\ne\nm\no\nv\ne\n(\nf\nu\nl\nl\nn\na\nm\ne\n)\n\n\n \n \n \n \n \n \n \n \nr\ne\nt\nu\nr\nn\n \nm\no\nd\nu\nl\ne\n\n\n\n\nd\ne\nf\n \nw\nh\ne\nn\n_\ni\nm\np\no\nr\nt\ne\nd\n(\nf\nu\nl\nl\nn\na\nm\ne\n)\n:\n\n\n \n \n \n \nd\ne\nf\n \nd\ne\nc\no\nr\na\nt\ne\n(\nf\nu\nn\nc\n)\n:\n\n\n \n \n \n \n \n \n \n \ni\nf\n \nf\nu\nl\nl\nn\na\nm\ne\n \ni\nn\n \ns\ny\ns\n.\nm\no\nd\nu\nl\ne\ns\n:\n\n\n \n \n \n \n \n \n \n \n \n \n \n \nf\nu\nn\nc\n(\ns\ny\ns\n.\nm\no\nd\nu\nl\ne\ns\n[\nf\nu\nl\nl\nn\na\nm\ne\n]\n)\n\n\n \n \n \n \n \n \n \n \ne\nl\ns\ne\n:\n\n\n \n \n \n \n \n \n \n \n \n \n \n \n_\np\no\ns\nt\n_\ni\nm\np\no\nr\nt\n_\nh\no\no\nk\ns\n[\nf\nu\nl\nl\nn\na\nm\ne\n]\n.\na\np\np\ne\nn\nd\n(\nf\nu\nn\nc\n)\n\n\n \n \n \n \n \n \n \n \nr\ne\nt\nu\nr\nn\n \nf\nu\nn\nc\n\n\n \n \n \n \nr\ne\nt\nu\nr\nn\n \nd\ne\nc\no\nr\na\nt\ne\n\n\n\n\ns\ny\ns\n.\nm\ne\nt\na\n_\np\na\nt\nh\n.\ni\nn\ns\ne\nr\nt\n(\n0\n,\n \nP\no\ns\nt\nI\nm\np\no\nr\nt\nF\ni\nn\nd\ne\nr\n(\n)\n)\n\n"
      ]
    },
    {
      "cell_type": "markdown",
      "metadata": {},
      "source": [
        "\u8fd9\u6837\uff0c\u4f60\u5c31\u53ef\u4ee5\u4f7f\u7528 when_imported() \u88c5\u9970\u5668\u4e86\uff0c\u4f8b\u5982\uff1a"
      ]
    },
    {
      "cell_type": "code",
      "execution_count": null,
      "metadata": {},
      "outputs": [],
      "source": [
        "from postimport import when_imported\n@when_imported('threading')\ndef warn_threads(mod):\n    print('Threads? Are you crazy?')\nimport threading"
      ]
    },
    {
      "cell_type": "markdown",
      "metadata": {},
      "source": [
        "\u4f5c\u4e3a\u4e00\u4e2a\u66f4\u5b9e\u9645\u7684\u4f8b\u5b50\uff0c\u4f60\u53ef\u80fd\u60f3\u5728\u5df2\u5b58\u5728\u7684\u5b9a\u4e49\u4e0a\u9762\u6dfb\u52a0\u88c5\u9970\u5668\uff0c\u5982\u4e0b\u6240\u793a\uff1a"
      ]
    },
    {
      "cell_type": "code",
      "execution_count": null,
      "metadata": {},
      "outputs": [],
      "source": [
        "f\nr\no\nm\n \nf\nu\nn\nc\nt\no\no\nl\ns\n \ni\nm\np\no\nr\nt\n \nw\nr\na\np\ns\n\n\nf\nr\no\nm\n \np\no\ns\nt\ni\nm\np\no\nr\nt\n \ni\nm\np\no\nr\nt\n \nw\nh\ne\nn\n_\ni\nm\np\no\nr\nt\ne\nd\n\n\n\n\nd\ne\nf\n \nl\no\ng\ng\ne\nd\n(\nf\nu\nn\nc\n)\n:\n\n\n \n \n \n \n@\nw\nr\na\np\ns\n(\nf\nu\nn\nc\n)\n\n\n \n \n \n \nd\ne\nf\n \nw\nr\na\np\np\ne\nr\n(\n*\na\nr\ng\ns\n,\n \n*\n*\nk\nw\na\nr\ng\ns\n)\n:\n\n\n \n \n \n \n \n \n \n \np\nr\ni\nn\nt\n(\n'\nC\na\nl\nl\ni\nn\ng\n'\n,\n \nf\nu\nn\nc\n.\n_\n_\nn\na\nm\ne\n_\n_\n,\n \na\nr\ng\ns\n,\n \nk\nw\na\nr\ng\ns\n)\n\n\n \n \n \n \n \n \n \n \nr\ne\nt\nu\nr\nn\n \nf\nu\nn\nc\n(\n*\na\nr\ng\ns\n,\n \n*\n*\nk\nw\na\nr\ng\ns\n)\n\n\n \n \n \n \nr\ne\nt\nu\nr\nn\n \nw\nr\na\np\np\ne\nr\n\n\n\n\n#\n \nE\nx\na\nm\np\nl\ne\n\n\n@\nw\nh\ne\nn\n_\ni\nm\np\no\nr\nt\ne\nd\n(\n'\nm\na\nt\nh\n'\n)\n\n\nd\ne\nf\n \na\nd\nd\n_\nl\no\ng\ng\ni\nn\ng\n(\nm\no\nd\n)\n:\n\n\n \n \n \n \nm\no\nd\n.\nc\no\ns\n \n=\n \nl\no\ng\ng\ne\nd\n(\nm\no\nd\n.\nc\no\ns\n)\n\n\n \n \n \n \nm\no\nd\n.\ns\ni\nn\n \n=\n \nl\no\ng\ng\ne\nd\n(\nm\no\nd\n.\ns\ni\nn\n)\n\n"
      ]
    },
    {
      "cell_type": "markdown",
      "metadata": {},
      "source": [
        "### \u8ba8\u8bba\n"
      ]
    },
    {
      "cell_type": "markdown",
      "metadata": {},
      "source": [
        "\u672c\u8282\u6280\u672f\u4f9d\u8d56\u4e8e10.11\u5c0f\u8282\u4e2d\u8bb2\u8ff0\u8fc7\u7684\u5bfc\u5165\u94a9\u5b50\uff0c\u5e76\u7a0d\u4f5c\u4fee\u6539\u3002"
      ]
    },
    {
      "cell_type": "markdown",
      "metadata": {},
      "source": [
        "@when_imported \u88c5\u9970\u5668\u7684\u4f5c\u7528\u662f\u6ce8\u518c\u5728\u5bfc\u5165\u65f6\u88ab\u6fc0\u6d3b\u7684\u5904\u7406\u5668\u51fd\u6570\u3002\n\u8be5\u88c5\u9970\u5668\u68c0\u67e5sys.modules\u6765\u67e5\u770b\u6a21\u5757\u662f\u5426\u771f\u7684\u5df2\u7ecf\u88ab\u52a0\u8f7d\u4e86\u3002\n\u5982\u679c\u662f\u7684\u8bdd\uff0c\u8be5\u5904\u7406\u5668\u88ab\u7acb\u5373\u8c03\u7528\u3002\u4e0d\u7136\uff0c\u5904\u7406\u5668\u88ab\u6dfb\u52a0\u5230 _post_import_hooks \u5b57\u5178\u4e2d\u7684\u4e00\u4e2a\u5217\u8868\u4e2d\u53bb\u3002\n_post_import_hooks \u7684\u4f5c\u7528\u5c31\u662f\u6536\u96c6\u6240\u6709\u7684\u4e3a\u6bcf\u4e2a\u6a21\u5757\u6ce8\u518c\u7684\u5904\u7406\u5668\u5bf9\u8c61\u3002\n\u4e00\u4e2a\u6a21\u5757\u53ef\u4ee5\u6ce8\u518c\u591a\u4e2a\u5904\u7406\u5668\u3002"
      ]
    },
    {
      "cell_type": "markdown",
      "metadata": {},
      "source": [
        "\u8981\u8ba9\u6a21\u5757\u5bfc\u5165\u540e\u89e6\u53d1\u6dfb\u52a0\u7684\u52a8\u4f5c\uff0cPostImportFinder \u7c7b\u88ab\u8bbe\u7f6e\u4e3asys.meta_path\u7b2c\u4e00\u4e2a\u5143\u7d20\u3002\n\u5b83\u4f1a\u6355\u83b7\u6240\u6709\u6a21\u5757\u5bfc\u5165\u64cd\u4f5c\u3002"
      ]
    },
    {
      "cell_type": "markdown",
      "metadata": {},
      "source": [
        "\u672c\u8282\u4e2d\u7684 PostImportFinder \u7684\u4f5c\u7528\u5e76\u4e0d\u662f\u52a0\u8f7d\u6a21\u5757\uff0c\u800c\u662f\u81ea\u5e26\u5bfc\u5165\u5b8c\u6210\u540e\u89e6\u53d1\u76f8\u5e94\u7684\u52a8\u4f5c\u3002\n\u5b9e\u9645\u7684\u5bfc\u5165\u88ab\u59d4\u6d3e\u7ed9\u4f4d\u4e8esys.meta_path\u4e2d\u7684\u5176\u4ed6\u67e5\u627e\u5668\u3002\nPostImportLoader \u7c7b\u4e2d\u7684 imp.import_module() \u51fd\u6570\u88ab\u9012\u5f52\u7684\u8c03\u7528\u3002\n\u4e3a\u4e86\u907f\u514d\u9677\u5165\u65e0\u7ebf\u5faa\u73af\uff0cPostImportFinder \u4fdd\u6301\u4e86\u4e00\u4e2a\u6240\u6709\u88ab\u52a0\u8f7d\u8fc7\u7684\u6a21\u5757\u96c6\u5408\u3002\n\u5982\u679c\u4e00\u4e2a\u6a21\u5757\u540d\u5b58\u5728\u5c31\u4f1a\u76f4\u63a5\u88ab\u5ffd\u7565\u6389\u3002"
      ]
    },
    {
      "cell_type": "markdown",
      "metadata": {},
      "source": [
        "\u5f53\u4e00\u4e2a\u6a21\u5757\u88ab imp.import_module() \u52a0\u8f7d\u540e\uff0c\n\u6240\u6709\u5728_post_import_hooks\u88ab\u6ce8\u518c\u7684\u5904\u7406\u5668\u88ab\u8c03\u7528\uff0c\u4f7f\u7528\u65b0\u52a0\u8f7d\u6a21\u5757\u4f5c\u4e3a\u4e00\u4e2a\u53c2\u6570\u3002"
      ]
    },
    {
      "cell_type": "markdown",
      "metadata": {},
      "source": [
        "\u6709\u4e00\u70b9\u9700\u8981\u6ce8\u610f\u7684\u662f\u672c\u673a\u4e0d\u9002\u7528\u4e8e\u90a3\u4e9b\u901a\u8fc7 imp.reload() \u88ab\u663e\u5f0f\u52a0\u8f7d\u7684\u6a21\u5757\u3002\n\u4e5f\u5c31\u662f\u8bf4\uff0c\u5982\u679c\u4f60\u52a0\u8f7d\u4e00\u4e2a\u4e4b\u524d\u5df2\u88ab\u52a0\u8f7d\u8fc7\u7684\u6a21\u5757\uff0c\u90a3\u4e48\u5bfc\u5165\u5904\u7406\u5668\u5c06\u4e0d\u4f1a\u518d\u88ab\u89e6\u53d1\u3002\n\u53e6\u5916\uff0c\u8981\u662f\u4f60\u4ecesys.modules\u4e2d\u5220\u9664\u6a21\u5757\u7136\u540e\u518d\u91cd\u65b0\u5bfc\u5165\uff0c\u5904\u7406\u5668\u53c8\u4f1a\u518d\u4e00\u6b21\u89e6\u53d1\u3002"
      ]
    },
    {
      "cell_type": "markdown",
      "metadata": {},
      "source": [
        "\u66f4\u591a\u5173\u4e8e\u5bfc\u5165\u540e\u94a9\u5b50\u4fe1\u606f\u8bf7\u53c2\u8003 PEP 369."
      ]
    },
    {
      "cell_type": "markdown",
      "metadata": {},
      "source": [
        "## 10.13 \u5b89\u88c5\u79c1\u6709\u7684\u5305\n"
      ]
    },
    {
      "cell_type": "markdown",
      "metadata": {},
      "source": [
        "### \u95ee\u9898\n"
      ]
    },
    {
      "cell_type": "markdown",
      "metadata": {},
      "source": [
        "\u4f60\u60f3\u8981\u5b89\u88c5\u4e00\u4e2a\u7b2c\u4e09\u65b9\u5305\uff0c\u4f46\u662f\u6ca1\u6709\u6743\u9650\u5c06\u5b83\u5b89\u88c5\u5230\u7cfb\u7edfPython\u5e93\u4e2d\u53bb\u3002\n\u6216\u8005\uff0c\u4f60\u53ef\u80fd\u60f3\u8981\u5b89\u88c5\u4e00\u4e2a\u4f9b\u81ea\u5df1\u4f7f\u7528\u7684\u5305\uff0c\u800c\u4e0d\u662f\u7cfb\u7edf\u4e0a\u9762\u6240\u6709\u7528\u6237\u3002"
      ]
    },
    {
      "cell_type": "markdown",
      "metadata": {},
      "source": [
        "### \u89e3\u51b3\u65b9\u6848\n"
      ]
    },
    {
      "cell_type": "markdown",
      "metadata": {},
      "source": [
        "Python\u6709\u4e00\u4e2a\u7528\u6237\u5b89\u88c5\u76ee\u5f55\uff0c\u901a\u5e38\u7c7b\u4f3c\u201d~/.local/lib/python3.3/site-packages\u201d\u3002\n\u8981\u5f3a\u5236\u5728\u8fd9\u4e2a\u76ee\u5f55\u4e2d\u5b89\u88c5\u5305\uff0c\u53ef\u4f7f\u7528\u5b89\u88c5\u9009\u9879\u201c\u2013user\u201d\u3002\u4f8b\u5982\uff1a"
      ]
    },
    {
      "cell_type": "code",
      "execution_count": null,
      "metadata": {},
      "outputs": [],
      "source": [
        "p\ny\nt\nh\no\nn\n3\n \ns\ne\nt\nu\np\n.\np\ny\n \ni\nn\ns\nt\na\nl\nl\n \n-\n-\nu\ns\ne\nr\n\n"
      ]
    },
    {
      "cell_type": "markdown",
      "metadata": {},
      "source": [
        "\u6216\u8005"
      ]
    },
    {
      "cell_type": "code",
      "execution_count": null,
      "metadata": {},
      "outputs": [],
      "source": [
        "p\ni\np\n \ni\nn\ns\nt\na\nl\nl\n \n-\n-\nu\ns\ne\nr\n \np\na\nc\nk\na\ng\ne\nn\na\nm\ne\n\n"
      ]
    },
    {
      "cell_type": "markdown",
      "metadata": {},
      "source": [
        "\u5728sys.path\u4e2d\u7528\u6237\u7684\u201csite-packages\u201d\u76ee\u5f55\u4f4d\u4e8e\u7cfb\u7edf\u7684\u201csite-packages\u201d\u76ee\u5f55\u4e4b\u524d\u3002\n\u56e0\u6b64\uff0c\u4f60\u5b89\u88c5\u5728\u91cc\u9762\u7684\u5305\u5c31\u6bd4\u7cfb\u7edf\u5df2\u5b89\u88c5\u7684\u5305\u4f18\u5148\u7ea7\u9ad8\n\uff08\u5c3d\u7ba1\u5e76\u4e0d\u603b\u662f\u8fd9\u6837\uff0c\u8981\u53d6\u51b3\u4e8e\u7b2c\u4e09\u65b9\u5305\u7ba1\u7406\u5668\uff0c\u6bd4\u5982distribute\u6216pip\uff09\u3002"
      ]
    },
    {
      "cell_type": "markdown",
      "metadata": {},
      "source": [
        "### \u8ba8\u8bba\n"
      ]
    },
    {
      "cell_type": "markdown",
      "metadata": {},
      "source": [
        "\u901a\u5e38\u5305\u4f1a\u88ab\u5b89\u88c5\u5230\u7cfb\u7edf\u7684site-packages\u76ee\u5f55\u4e2d\u53bb\uff0c\u8def\u5f84\u7c7b\u4f3c\u201c/usr/local/lib/python3.3/site-packages\u201d\u3002\n\u4e0d\u8fc7\uff0c\u8fd9\u6837\u505a\u9700\u8981\u6709\u7ba1\u7406\u5458\u6743\u9650\u5e76\u4e14\u4f7f\u7528sudo\u547d\u4ee4\u3002\n\u5c31\u7b97\u4f60\u6709\u8fd9\u6837\u7684\u6743\u9650\u53bb\u6267\u884c\u547d\u4ee4\uff0c\u4f7f\u7528sudo\u53bb\u5b89\u88c5\u4e00\u4e2a\u65b0\u7684\uff0c\u53ef\u80fd\u6ca1\u6709\u88ab\u9a8c\u8bc1\u8fc7\u7684\u5305\u6709\u65f6\u5019\u4e5f\u4e0d\u5b89\u5168\u3002"
      ]
    },
    {
      "cell_type": "markdown",
      "metadata": {},
      "source": [
        "\u5b89\u88c5\u5305\u5230\u7528\u6237\u76ee\u5f55\u4e2d\u901a\u5e38\u662f\u4e00\u4e2a\u6709\u6548\u7684\u65b9\u6848\uff0c\u5b83\u5141\u8bb8\u4f60\u521b\u5efa\u4e00\u4e2a\u81ea\u5b9a\u4e49\u5b89\u88c5\u3002"
      ]
    },
    {
      "cell_type": "markdown",
      "metadata": {},
      "source": [
        "\u53e6\u5916\uff0c\u4f60\u8fd8\u53ef\u4ee5\u521b\u5efa\u4e00\u4e2a\u865a\u62df\u73af\u5883\uff0c\u8fd9\u4e2a\u6211\u4eec\u5728\u4e0b\u4e00\u8282\u4f1a\u8bb2\u5230\u3002"
      ]
    },
    {
      "cell_type": "markdown",
      "metadata": {},
      "source": [
        "## 10.14 \u521b\u5efa\u65b0\u7684Python\u73af\u5883\n"
      ]
    },
    {
      "cell_type": "markdown",
      "metadata": {},
      "source": [
        "### \u95ee\u9898\n"
      ]
    },
    {
      "cell_type": "markdown",
      "metadata": {},
      "source": [
        "\u4f60\u60f3\u521b\u5efa\u4e00\u4e2a\u65b0\u7684Python\u73af\u5883\uff0c\u7528\u6765\u5b89\u88c5\u6a21\u5757\u548c\u5305\u3002\n\u4e0d\u8fc7\uff0c\u4f60\u4e0d\u60f3\u5b89\u88c5\u4e00\u4e2a\u65b0\u7684Python\u514b\u9686\uff0c\u4e5f\u4e0d\u60f3\u5bf9\u7cfb\u7edfPython\u73af\u5883\u4ea7\u751f\u5f71\u54cd\u3002"
      ]
    },
    {
      "cell_type": "markdown",
      "metadata": {},
      "source": [
        "### \u89e3\u51b3\u65b9\u6848\n"
      ]
    },
    {
      "cell_type": "markdown",
      "metadata": {},
      "source": [
        "\u4f60\u53ef\u4ee5\u4f7f\u7528 pyvenv \u547d\u4ee4\u521b\u5efa\u4e00\u4e2a\u65b0\u7684\u201c\u865a\u62df\u201d\u73af\u5883\u3002\n\u8fd9\u4e2a\u547d\u4ee4\u88ab\u5b89\u88c5\u5728Python\u89e3\u91ca\u5668\u540c\u4e00\u76ee\u5f55\uff0c\u6216Windows\u4e0a\u9762\u7684Scripts\u76ee\u5f55\u4e2d\u3002\u4e0b\u9762\u662f\u4e00\u4e2a\u4f8b\u5b50\uff1a"
      ]
    },
    {
      "cell_type": "code",
      "execution_count": null,
      "metadata": {},
      "outputs": [],
      "source": [
        "b\na\ns\nh\n \n%\n \np\ny\nv\ne\nn\nv\n \nS\np\na\nm\n\n\nb\na\ns\nh\n \n%\n\n"
      ]
    },
    {
      "cell_type": "markdown",
      "metadata": {},
      "source": [
        "\u4f20\u7ed9 pyvenv \u547d\u4ee4\u7684\u540d\u5b57\u662f\u5c06\u8981\u88ab\u521b\u5efa\u7684\u76ee\u5f55\u540d\u3002\u5f53\u88ab\u521b\u5efa\u540e\uff0cSpan\u76ee\u5f55\u50cf\u4e0b\u9762\u8fd9\u6837\uff1a"
      ]
    },
    {
      "cell_type": "code",
      "execution_count": null,
      "metadata": {},
      "outputs": [],
      "source": [
        "b\na\ns\nh\n \n%\n \nc\nd\n \nS\np\na\nm\n\n\nb\na\ns\nh\n \n%\n \nl\ns\n\n\nb\ni\nn\n \ni\nn\nc\nl\nu\nd\ne\n \nl\ni\nb\n \np\ny\nv\ne\nn\nv\n.\nc\nf\ng\n\n\nb\na\ns\nh\n \n%\n\n"
      ]
    },
    {
      "cell_type": "markdown",
      "metadata": {},
      "source": [
        "\u5728bin\u76ee\u5f55\u4e2d\uff0c\u4f60\u4f1a\u627e\u5230\u4e00\u4e2a\u53ef\u4ee5\u4f7f\u7528\u7684Python\u89e3\u91ca\u5668\uff1a"
      ]
    },
    {
      "cell_type": "code",
      "execution_count": null,
      "metadata": {},
      "outputs": [],
      "source": [
        "from pprint import pprint\nimport sys\npprint(sys.path)"
      ]
    },
    {
      "cell_type": "markdown",
      "metadata": {},
      "source": [
        "\u8fd9\u4e2a\u89e3\u91ca\u5668\u7684\u7279\u70b9\u5c31\u662f\u4ed6\u7684site-packages\u76ee\u5f55\u88ab\u8bbe\u7f6e\u4e3a\u65b0\u521b\u5efa\u7684\u73af\u5883\u3002\n\u5982\u679c\u4f60\u8981\u5b89\u88c5\u7b2c\u4e09\u65b9\u5305\uff0c\u5b83\u4eec\u4f1a\u88ab\u5b89\u88c5\u5728\u90a3\u91cc\uff0c\u800c\u4e0d\u662f\u901a\u5e38\u7cfb\u7edf\u7684site-packages\u76ee\u5f55\u3002"
      ]
    },
    {
      "cell_type": "markdown",
      "metadata": {},
      "source": [
        "### \u8ba8\u8bba\n"
      ]
    },
    {
      "cell_type": "markdown",
      "metadata": {},
      "source": [
        "\u521b\u5efa\u865a\u62df\u73af\u5883\u901a\u5e38\u662f\u4e3a\u4e86\u5b89\u88c5\u548c\u7ba1\u7406\u7b2c\u4e09\u65b9\u5305\u3002\n\u6b63\u5982\u4f60\u5728\u4f8b\u5b50\u4e2d\u770b\u5230\u7684\u90a3\u6837\uff0csys.path \u53d8\u91cf\u5305\u542b\u6765\u81ea\u4e8e\u7cfb\u7edfPython\u7684\u76ee\u5f55\uff0c\n\u800c site-packages\u76ee\u5f55\u5df2\u7ecf\u88ab\u91cd\u5b9a\u4f4d\u5230\u4e00\u4e2a\u65b0\u7684\u76ee\u5f55\u3002"
      ]
    },
    {
      "cell_type": "markdown",
      "metadata": {},
      "source": [
        "\u6709\u4e86\u4e00\u4e2a\u65b0\u7684\u865a\u62df\u73af\u5883\uff0c\u4e0b\u4e00\u6b65\u5c31\u662f\u5b89\u88c5\u4e00\u4e2a\u5305\u7ba1\u7406\u5668\uff0c\u6bd4\u5982distribute\u6216pip\u3002\n\u4f46\u5b89\u88c5\u8fd9\u6837\u7684\u5de5\u5177\u548c\u5305\u7684\u65f6\u5019\uff0c\u4f60\u9700\u8981\u786e\u4fdd\u4f60\u4f7f\u7528\u7684\u662f\u865a\u62df\u73af\u5883\u7684\u89e3\u91ca\u5668\u3002\n\u5b83\u4f1a\u5c06\u5305\u5b89\u88c5\u5230\u65b0\u521b\u5efa\u7684site-packages\u76ee\u5f55\u4e2d\u53bb\u3002"
      ]
    },
    {
      "cell_type": "markdown",
      "metadata": {},
      "source": [
        "\u5c3d\u7ba1\u4e00\u4e2a\u865a\u62df\u73af\u5883\u770b\u4e0a\u53bb\u662fPython\u5b89\u88c5\u7684\u4e00\u4e2a\u590d\u5236\uff0c\n\u4e0d\u8fc7\u5b83\u5b9e\u9645\u4e0a\u53ea\u5305\u542b\u4e86\u5c11\u91cf\u51e0\u4e2a\u6587\u4ef6\u548c\u4e00\u4e9b\u7b26\u53f7\u94fe\u63a5\u3002\n\u6240\u6709\u6807\u51c6\u5e93\u51fd\u6587\u4ef6\u548c\u53ef\u6267\u884c\u89e3\u91ca\u5668\u90fd\u6765\u81ea\u539f\u6765\u7684Python\u5b89\u88c5\u3002\n\u56e0\u6b64\uff0c\u521b\u5efa\u8fd9\u6837\u7684\u73af\u5883\u662f\u5f88\u5bb9\u6613\u7684\uff0c\u5e76\u4e14\u51e0\u4e4e\u4e0d\u4f1a\u6d88\u8017\u673a\u5668\u8d44\u6e90\u3002"
      ]
    },
    {
      "cell_type": "markdown",
      "metadata": {},
      "source": [
        "\u9ed8\u8ba4\u60c5\u51b5\u4e0b\uff0c\u865a\u62df\u73af\u5883\u662f\u7a7a\u7684\uff0c\u4e0d\u5305\u542b\u4efb\u4f55\u989d\u5916\u7684\u7b2c\u4e09\u65b9\u5e93\u3002\u5982\u679c\u4f60\u60f3\u5c06\u4e00\u4e2a\u5df2\u7ecf\u5b89\u88c5\u7684\u5305\u4f5c\u4e3a\u865a\u62df\u73af\u5883\u7684\u4e00\u90e8\u5206\uff0c\n\u53ef\u4ee5\u4f7f\u7528\u201c\u2013system-site-packages\u201d\u9009\u9879\u6765\u521b\u5efa\u865a\u62df\u73af\u5883\uff0c\u4f8b\u5982\uff1a"
      ]
    },
    {
      "cell_type": "code",
      "execution_count": null,
      "metadata": {},
      "outputs": [],
      "source": [
        "b\na\ns\nh\n \n%\n \np\ny\nv\ne\nn\nv\n \n-\n-\ns\ny\ns\nt\ne\nm\n-\ns\ni\nt\ne\n-\np\na\nc\nk\na\ng\ne\ns\n \nS\np\na\nm\n\n\nb\na\ns\nh\n \n%\n\n"
      ]
    },
    {
      "cell_type": "markdown",
      "metadata": {},
      "source": [
        "\u8ddf\u591a\u5173\u4e8e pyvenv \u548c\u865a\u62df\u73af\u5883\u7684\u4fe1\u606f\u53ef\u4ee5\u53c2\u8003\nPEP 405."
      ]
    },
    {
      "cell_type": "markdown",
      "metadata": {},
      "source": [
        "## 10.15 \u5206\u53d1\u5305\n"
      ]
    },
    {
      "cell_type": "markdown",
      "metadata": {},
      "source": [
        "### \u95ee\u9898\n"
      ]
    },
    {
      "cell_type": "markdown",
      "metadata": {},
      "source": [
        "\u4f60\u5df2\u7ecf\u7f16\u5199\u4e86\u4e00\u4e2a\u6709\u7528\u7684\u5e93\uff0c\u60f3\u5c06\u5b83\u5206\u4eab\u7ed9\u5176\u4ed6\u4eba\u3002"
      ]
    },
    {
      "cell_type": "markdown",
      "metadata": {},
      "source": [
        "### \u89e3\u51b3\u65b9\u6848\n"
      ]
    },
    {
      "cell_type": "markdown",
      "metadata": {},
      "source": [
        "\u5982\u679c\u4f60\u60f3\u5206\u53d1\u4f60\u7684\u4ee3\u7801\uff0c\u7b2c\u4e00\u4ef6\u4e8b\u5c31\u662f\u7ed9\u5b83\u4e00\u4e2a\u552f\u4e00\u7684\u540d\u5b57\uff0c\u5e76\u4e14\u6e05\u7406\u5b83\u7684\u76ee\u5f55\u7ed3\u6784\u3002\n\u4f8b\u5982\uff0c\u4e00\u4e2a\u5178\u578b\u7684\u51fd\u6570\u5e93\u5305\u4f1a\u7c7b\u4f3c\u4e0b\u9762\u8fd9\u6837\uff1a"
      ]
    },
    {
      "cell_type": "code",
      "execution_count": null,
      "metadata": {},
      "outputs": [],
      "source": [
        "p\nr\no\nj\ne\nc\nt\nn\na\nm\ne\n/\n\n\n \n \n \n \nR\nE\nA\nD\nM\nE\n.\nt\nx\nt\n\n\n \n \n \n \nD\no\nc\n/\n\n\n \n \n \n \n \n \n \n \nd\no\nc\nu\nm\ne\nn\nt\na\nt\ni\no\nn\n.\nt\nx\nt\n\n\n \n \n \n \np\nr\no\nj\ne\nc\nt\nn\na\nm\ne\n/\n\n\n \n \n \n \n \n \n \n \n_\n_\ni\nn\ni\nt\n_\n_\n.\np\ny\n\n\n \n \n \n \n \n \n \n \nf\no\no\n.\np\ny\n\n\n \n \n \n \n \n \n \n \nb\na\nr\n.\np\ny\n\n\n \n \n \n \n \n \n \n \nu\nt\ni\nl\ns\n/\n\n\n \n \n \n \n \n \n \n \n \n \n \n \n_\n_\ni\nn\ni\nt\n_\n_\n.\np\ny\n\n\n \n \n \n \n \n \n \n \n \n \n \n \ns\np\na\nm\n.\np\ny\n\n\n \n \n \n \n \n \n \n \n \n \n \n \ng\nr\no\nk\n.\np\ny\n\n\n \n \n \n \ne\nx\na\nm\np\nl\ne\ns\n/\n\n\n \n \n \n \n \n \n \n \nh\ne\nl\nl\no\nw\no\nr\nl\nd\n.\np\ny\n\n\n \n \n \n \n \n \n \n \n.\n.\n.\n\n"
      ]
    },
    {
      "cell_type": "markdown",
      "metadata": {},
      "source": [
        "\u8981\u8ba9\u4f60\u7684\u5305\u53ef\u4ee5\u53d1\u5e03\u51fa\u53bb\uff0c\u9996\u5148\u4f60\u8981\u7f16\u5199\u4e00\u4e2a setup.py \uff0c\u7c7b\u4f3c\u4e0b\u9762\u8fd9\u6837\uff1a"
      ]
    },
    {
      "cell_type": "code",
      "execution_count": null,
      "metadata": {},
      "outputs": [],
      "source": [
        "#\n \ns\ne\nt\nu\np\n.\np\ny\n\n\nf\nr\no\nm\n \nd\ni\ns\nt\nu\nt\ni\nl\ns\n.\nc\no\nr\ne\n \ni\nm\np\no\nr\nt\n \ns\ne\nt\nu\np\n\n\n\n\ns\ne\nt\nu\np\n(\nn\na\nm\ne\n=\n'\np\nr\no\nj\ne\nc\nt\nn\na\nm\ne\n'\n,\n\n\n \n \n \n \nv\ne\nr\ns\ni\no\nn\n=\n'\n1\n.\n0\n'\n,\n\n\n \n \n \n \na\nu\nt\nh\no\nr\n=\n'\nY\no\nu\nr\n \nN\na\nm\ne\n'\n,\n\n\n \n \n \n \na\nu\nt\nh\no\nr\n_\ne\nm\na\ni\nl\n=\n'\ny\no\nu\n@\ny\no\nu\nr\na\nd\nd\nr\ne\ns\ns\n.\nc\no\nm\n'\n,\n\n\n \n \n \n \nu\nr\nl\n=\n'\nh\nt\nt\np\n:\n/\n/\nw\nw\nw\n.\ny\no\nu\n.\nc\no\nm\n/\np\nr\no\nj\ne\nc\nt\nn\na\nm\ne\n'\n,\n\n\n \n \n \n \np\na\nc\nk\na\ng\ne\ns\n=\n[\n'\np\nr\no\nj\ne\nc\nt\nn\na\nm\ne\n'\n,\n \n'\np\nr\no\nj\ne\nc\nt\nn\na\nm\ne\n.\nu\nt\ni\nl\ns\n'\n]\n,\n\n\n)\n\n"
      ]
    },
    {
      "cell_type": "markdown",
      "metadata": {},
      "source": [
        "\u4e0b\u4e00\u6b65\uff0c\u5c31\u662f\u521b\u5efa\u4e00\u4e2a MANIFEST.in \u6587\u4ef6\uff0c\u5217\u51fa\u6240\u6709\u5728\u4f60\u7684\u5305\u4e2d\u9700\u8981\u5305\u542b\u8fdb\u6765\u7684\u975e\u6e90\u7801\u6587\u4ef6\uff1a"
      ]
    },
    {
      "cell_type": "code",
      "execution_count": null,
      "metadata": {},
      "outputs": [],
      "source": [
        "#\n \nM\nA\nN\nI\nF\nE\nS\nT\n.\ni\nn\n\n\ni\nn\nc\nl\nu\nd\ne\n \n*\n.\nt\nx\nt\n\n\nr\ne\nc\nu\nr\ns\ni\nv\ne\n-\ni\nn\nc\nl\nu\nd\ne\n \ne\nx\na\nm\np\nl\ne\ns\n \n*\n\n\nr\ne\nc\nu\nr\ns\ni\nv\ne\n-\ni\nn\nc\nl\nu\nd\ne\n \nD\no\nc\n \n*\n\n"
      ]
    },
    {
      "cell_type": "markdown",
      "metadata": {},
      "source": [
        "\u786e\u4fdd setup.py \u548c MANIFEST.in \u6587\u4ef6\u653e\u5728\u4f60\u7684\u5305\u7684\u6700\u9876\u7ea7\u76ee\u5f55\u4e2d\u3002\n\u4e00\u65e6\u4f60\u5df2\u7ecf\u505a\u4e86\u8fd9\u4e9b\uff0c\u4f60\u5c31\u53ef\u4ee5\u50cf\u4e0b\u9762\u8fd9\u6837\u6267\u884c\u547d\u4ee4\u6765\u521b\u5efa\u4e00\u4e2a\u6e90\u7801\u5206\u53d1\u5305\u4e86\uff1a"
      ]
    },
    {
      "cell_type": "code",
      "execution_count": null,
      "metadata": {},
      "outputs": [],
      "source": [
        "%\n \nb\na\ns\nh\n \np\ny\nt\nh\no\nn\n3\n \ns\ne\nt\nu\np\n.\np\ny\n \ns\nd\ni\ns\nt\n\n"
      ]
    },
    {
      "cell_type": "markdown",
      "metadata": {},
      "source": [
        "\u5b83\u4f1a\u521b\u5efa\u4e00\u4e2a\u6587\u4ef6\u6bd4\u5982\u201dprojectname-1.0.zip\u201d \u6216 \u201cprojectname-1.0.tar.gz\u201d,\n\u5177\u4f53\u4f9d\u8d56\u4e8e\u4f60\u7684\u7cfb\u7edf\u5e73\u53f0\u3002\u5982\u679c\u4e00\u5207\u6b63\u5e38\uff0c\n\u8fd9\u4e2a\u6587\u4ef6\u5c31\u53ef\u4ee5\u53d1\u9001\u7ed9\u522b\u4eba\u4f7f\u7528\u6216\u8005\u4e0a\u4f20\u81f3 Python Package Index."
      ]
    },
    {
      "cell_type": "markdown",
      "metadata": {},
      "source": [
        "### \u8ba8\u8bba\n"
      ]
    },
    {
      "cell_type": "markdown",
      "metadata": {},
      "source": [
        "\u5bf9\u4e8e\u7eafPython\u4ee3\u7801\uff0c\u7f16\u5199\u4e00\u4e2a\u666e\u901a\u7684 setup.py \u6587\u4ef6\u901a\u5e38\u5f88\u7b80\u5355\u3002\n\u4e00\u4e2a\u53ef\u80fd\u7684\u95ee\u9898\u662f\u4f60\u5fc5\u987b\u624b\u52a8\u5217\u51fa\u6240\u6709\u6784\u6210\u5305\u6e90\u7801\u7684\u5b50\u76ee\u5f55\u3002\n\u4e00\u4e2a\u5e38\u89c1\u9519\u8bef\u5c31\u662f\u4ec5\u4ec5\u53ea\u5217\u51fa\u4e00\u4e2a\u5305\u7684\u6700\u9876\u7ea7\u76ee\u5f55\uff0c\u5fd8\u8bb0\u4e86\u5305\u542b\u5305\u7684\u5b50\u7ec4\u4ef6\u3002\n\u8fd9\u4e5f\u662f\u4e3a\u4ec0\u4e48\u5728 setup.py \u4e2d\u5bf9\u4e8e\u5305\u7684\u8bf4\u660e\u5305\u542b\u4e86\u5217\u8868\npackages=['projectname', 'projectname.utils']"
      ]
    },
    {
      "cell_type": "markdown",
      "metadata": {},
      "source": [
        "\u5927\u90e8\u5206Python\u7a0b\u5e8f\u5458\u90fd\u77e5\u9053\uff0c\u6709\u5f88\u591a\u7b2c\u4e09\u65b9\u5305\u7ba1\u7406\u5668\u4f9b\u9009\u62e9\uff0c\u5305\u62ecsetuptools\u3001distribute\u7b49\u7b49\u3002\n\u6709\u4e9b\u662f\u4e3a\u4e86\u66ff\u4ee3\u6807\u51c6\u5e93\u4e2d\u7684distutils\u3002\u6ce8\u610f\u5982\u679c\u4f60\u4f9d\u8d56\u8fd9\u4e9b\u5305\uff0c\n\u7528\u6237\u53ef\u80fd\u4e0d\u80fd\u5b89\u88c5\u4f60\u7684\u8f6f\u4ef6\uff0c\u9664\u975e\u4ed6\u4eec\u5df2\u7ecf\u4e8b\u5148\u5b89\u88c5\u8fc7\u6240\u9700\u8981\u7684\u5305\u7ba1\u7406\u5668\u3002\n\u6b63\u56e0\u5982\u6b64\uff0c\u4f60\u66f4\u5e94\u8be5\u65f6\u523b\u8bb0\u4f4f\u8d8a\u7b80\u5355\u8d8a\u597d\u7684\u9053\u7406\u3002\n\u6700\u597d\u8ba9\u4f60\u7684\u4ee3\u7801\u4f7f\u7528\u6807\u51c6\u7684Python 3\u5b89\u88c5\u3002\n\u5982\u679c\u5176\u4ed6\u5305\u4e5f\u9700\u8981\u7684\u8bdd\uff0c\u53ef\u4ee5\u901a\u8fc7\u4e00\u4e2a\u53ef\u9009\u9879\u6765\u652f\u6301\u3002"
      ]
    },
    {
      "cell_type": "markdown",
      "metadata": {},
      "source": [
        "\u5bf9\u4e8e\u6d89\u53ca\u5230C\u6269\u5c55\u7684\u4ee3\u7801\u6253\u5305\u4e0e\u5206\u53d1\u5c31\u66f4\u590d\u6742\u70b9\u4e86\u3002\n\u7b2c15\u7ae0\u5bf9\u5173\u4e8eC\u6269\u5c55\u7684\u8fd9\u65b9\u9762\u77e5\u8bc6\u6709\u4e00\u4e9b\u8be6\u7ec6\u8bb2\u89e3\uff0c\u7279\u522b\u662f\u572815.2\u5c0f\u8282\u4e2d\u3002"
      ]
    }
  ],
  "metadata": {
    "kernelspec": {
      "display_name": "Python 3",
      "language": "python",
      "name": "python3"
    },
    "language_info": {
      "codemirror_mode": {
        "name": "ipython",
        "version": 3
      },
      "file_extension": ".py",
      "mimetype": "text/x-python",
      "name": "python",
      "nbconvert_exporter": "python",
      "pygments_lexer": "ipython3",
      "version": "3.7.1"
    },
    "toc": {
      "base_numbering": 1,
      "nav_menu": {},
      "number_sections": true,
      "sideBar": true,
      "skip_h1_title": true,
      "title_cell": "Table of Contents",
      "title_sidebar": "Contents",
      "toc_cell": false,
      "toc_position": {},
      "toc_section_display": true,
      "toc_window_display": true
    }
  },
  "nbformat": 4,
  "nbformat_minor": 2
}