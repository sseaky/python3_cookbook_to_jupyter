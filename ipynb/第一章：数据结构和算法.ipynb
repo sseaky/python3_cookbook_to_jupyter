{
  "cells": [
    {
      "cell_type": "markdown",
      "metadata": {},
      "source": [
        "# \u7b2c\u4e00\u7ae0\uff1a\u6570\u636e\u7ed3\u6784\u548c\u7b97\u6cd5\n Python \u63d0\u4f9b\u4e86\u5927\u91cf\u7684\u5185\u7f6e\u6570\u636e\u7ed3\u6784\uff0c\u5305\u62ec\u5217\u8868\uff0c\u96c6\u5408\u4ee5\u53ca\u5b57\u5178\u3002\u5927\u591a\u6570\u60c5\u51b5\u4e0b\u4f7f\u7528\u8fd9\u4e9b\u6570\u636e\u7ed3\u6784\u662f\u5f88\u7b80\u5355\u7684\u3002\n\u4f46\u662f\uff0c\u6211\u4eec\u4e5f\u4f1a\u7ecf\u5e38\u78b0\u5230\u5230\u8bf8\u5982\u67e5\u8be2\uff0c\u6392\u5e8f\u548c\u8fc7\u6ee4\u7b49\u7b49\u8fd9\u4e9b\u666e\u904d\u5b58\u5728\u7684\u95ee\u9898\u3002\n\u56e0\u6b64\uff0c\u8fd9\u4e00\u7ae0\u7684\u76ee\u7684\u5c31\u662f\u8ba8\u8bba\u8fd9\u4e9b\u6bd4\u8f83\u5e38\u89c1\u7684\u95ee\u9898\u548c\u7b97\u6cd5\u3002\n\u53e6\u5916\uff0c\u6211\u4eec\u4e5f\u4f1a\u7ed9\u51fa\u5728\u96c6\u5408\u6a21\u5757 collections \u5f53\u4e2d\u64cd\u4f5c\u8fd9\u4e9b\u6570\u636e\u7ed3\u6784\u7684\u65b9\u6cd5\u3002"
      ]
    },
    {
      "cell_type": "markdown",
      "metadata": {},
      "source": [
        "## 1.1 \u89e3\u538b\u5e8f\u5217\u8d4b\u503c\u7ed9\u591a\u4e2a\u53d8\u91cf\n"
      ]
    },
    {
      "cell_type": "markdown",
      "metadata": {},
      "source": [
        "### \u95ee\u9898\n"
      ]
    },
    {
      "cell_type": "markdown",
      "metadata": {},
      "source": [
        "\u73b0\u5728\u6709\u4e00\u4e2a\u5305\u542b N \u4e2a\u5143\u7d20\u7684\u5143\u7ec4\u6216\u8005\u662f\u5e8f\u5217\uff0c\u600e\u6837\u5c06\u5b83\u91cc\u9762\u7684\u503c\u89e3\u538b\u540e\u540c\u65f6\u8d4b\u503c\u7ed9 N \u4e2a\u53d8\u91cf\uff1f"
      ]
    },
    {
      "cell_type": "markdown",
      "metadata": {},
      "source": [
        "### \u89e3\u51b3\u65b9\u6848\n"
      ]
    },
    {
      "cell_type": "markdown",
      "metadata": {},
      "source": [
        "\u4efb\u4f55\u7684\u5e8f\u5217\uff08\u6216\u8005\u662f\u53ef\u8fed\u4ee3\u5bf9\u8c61\uff09\u53ef\u4ee5\u901a\u8fc7\u4e00\u4e2a\u7b80\u5355\u7684\u8d4b\u503c\u8bed\u53e5\u89e3\u538b\u5e76\u8d4b\u503c\u7ed9\u591a\u4e2a\u53d8\u91cf\u3002\n\u552f\u4e00\u7684\u524d\u63d0\u5c31\u662f\u53d8\u91cf\u7684\u6570\u91cf\u5fc5\u987b\u8ddf\u5e8f\u5217\u5143\u7d20\u7684\u6570\u91cf\u662f\u4e00\u6837\u7684\u3002"
      ]
    },
    {
      "cell_type": "markdown",
      "metadata": {},
      "source": [
        "\u4ee3\u7801\u793a\u4f8b\uff1a"
      ]
    },
    {
      "cell_type": "code",
      "execution_count": null,
      "metadata": {},
      "outputs": [],
      "source": [
        "p = (4, 5)\nx, y = p\nx"
      ]
    },
    {
      "cell_type": "code",
      "execution_count": null,
      "metadata": {},
      "outputs": [],
      "source": [
        "y"
      ]
    },
    {
      "cell_type": "code",
      "execution_count": null,
      "metadata": {},
      "outputs": [],
      "source": [
        "data = [ 'ACME', 50, 91.1, (2012, 12, 21) ]\nname, shares, price, date = data\nname"
      ]
    },
    {
      "cell_type": "code",
      "execution_count": null,
      "metadata": {},
      "outputs": [],
      "source": [
        "date"
      ]
    },
    {
      "cell_type": "code",
      "execution_count": null,
      "metadata": {},
      "outputs": [],
      "source": [
        "name, shares, price, (year, mon, day) = data\nname"
      ]
    },
    {
      "cell_type": "code",
      "execution_count": null,
      "metadata": {},
      "outputs": [],
      "source": [
        "year"
      ]
    },
    {
      "cell_type": "code",
      "execution_count": null,
      "metadata": {},
      "outputs": [],
      "source": [
        "mon"
      ]
    },
    {
      "cell_type": "code",
      "execution_count": null,
      "metadata": {},
      "outputs": [],
      "source": [
        "day"
      ]
    },
    {
      "cell_type": "markdown",
      "metadata": {},
      "source": [
        "\u5982\u679c\u53d8\u91cf\u4e2a\u6570\u548c\u5e8f\u5217\u5143\u7d20\u7684\u4e2a\u6570\u4e0d\u5339\u914d\uff0c\u4f1a\u4ea7\u751f\u4e00\u4e2a\u5f02\u5e38\u3002"
      ]
    },
    {
      "cell_type": "markdown",
      "metadata": {},
      "source": [
        "\u4ee3\u7801\u793a\u4f8b\uff1a"
      ]
    },
    {
      "cell_type": "code",
      "execution_count": null,
      "metadata": {},
      "outputs": [],
      "source": [
        "p = (4, 5)\nx, y, z = p"
      ]
    },
    {
      "cell_type": "markdown",
      "metadata": {},
      "source": [
        "### \u8ba8\u8bba\n"
      ]
    },
    {
      "cell_type": "markdown",
      "metadata": {},
      "source": [
        "\u5b9e\u9645\u4e0a\uff0c\u8fd9\u79cd\u89e3\u538b\u8d4b\u503c\u53ef\u4ee5\u7528\u5728\u4efb\u4f55\u53ef\u8fed\u4ee3\u5bf9\u8c61\u4e0a\u9762\uff0c\u800c\u4e0d\u4ec5\u4ec5\u662f\u5217\u8868\u6216\u8005\u5143\u7ec4\u3002\n\u5305\u62ec\u5b57\u7b26\u4e32\uff0c\u6587\u4ef6\u5bf9\u8c61\uff0c\u8fed\u4ee3\u5668\u548c\u751f\u6210\u5668\u3002"
      ]
    },
    {
      "cell_type": "markdown",
      "metadata": {},
      "source": [
        "\u4ee3\u7801\u793a\u4f8b\uff1a"
      ]
    },
    {
      "cell_type": "code",
      "execution_count": null,
      "metadata": {},
      "outputs": [],
      "source": [
        "s = 'Hello'\na, b, c, d, e = s\na"
      ]
    },
    {
      "cell_type": "code",
      "execution_count": null,
      "metadata": {},
      "outputs": [],
      "source": [
        "b"
      ]
    },
    {
      "cell_type": "code",
      "execution_count": null,
      "metadata": {},
      "outputs": [],
      "source": [
        "e"
      ]
    },
    {
      "cell_type": "markdown",
      "metadata": {},
      "source": [
        "\u6709\u65f6\u5019\uff0c\u4f60\u53ef\u80fd\u53ea\u60f3\u89e3\u538b\u4e00\u90e8\u5206\uff0c\u4e22\u5f03\u5176\u4ed6\u7684\u503c\u3002\u5bf9\u4e8e\u8fd9\u79cd\u60c5\u51b5 Python \u5e76\u6ca1\u6709\u63d0\u4f9b\u7279\u6b8a\u7684\u8bed\u6cd5\u3002\n\u4f46\u662f\u4f60\u53ef\u4ee5\u4f7f\u7528\u4efb\u610f\u53d8\u91cf\u540d\u53bb\u5360\u4f4d\uff0c\u5230\u65f6\u5019\u4e22\u6389\u8fd9\u4e9b\u53d8\u91cf\u5c31\u884c\u4e86\u3002"
      ]
    },
    {
      "cell_type": "markdown",
      "metadata": {},
      "source": [
        "\u4ee3\u7801\u793a\u4f8b\uff1a"
      ]
    },
    {
      "cell_type": "code",
      "execution_count": null,
      "metadata": {},
      "outputs": [],
      "source": [
        "data = [ 'ACME', 50, 91.1, (2012, 12, 21) ]\n_, shares, price, _ = data\nshares"
      ]
    },
    {
      "cell_type": "code",
      "execution_count": null,
      "metadata": {},
      "outputs": [],
      "source": [
        "price"
      ]
    },
    {
      "cell_type": "markdown",
      "metadata": {},
      "source": [
        "\u4f60\u5fc5\u987b\u4fdd\u8bc1\u4f60\u9009\u7528\u7684\u90a3\u4e9b\u5360\u4f4d\u53d8\u91cf\u540d\u5728\u5176\u4ed6\u5730\u65b9\u6ca1\u88ab\u4f7f\u7528\u5230\u3002"
      ]
    },
    {
      "cell_type": "markdown",
      "metadata": {},
      "source": [
        "## 1.2 \u89e3\u538b\u53ef\u8fed\u4ee3\u5bf9\u8c61\u8d4b\u503c\u7ed9\u591a\u4e2a\u53d8\u91cf\n"
      ]
    },
    {
      "cell_type": "markdown",
      "metadata": {},
      "source": [
        "### \u95ee\u9898\n"
      ]
    },
    {
      "cell_type": "markdown",
      "metadata": {},
      "source": [
        "\u5982\u679c\u4e00\u4e2a\u53ef\u8fed\u4ee3\u5bf9\u8c61\u7684\u5143\u7d20\u4e2a\u6570\u8d85\u8fc7\u53d8\u91cf\u4e2a\u6570\u65f6\uff0c\u4f1a\u629b\u51fa\u4e00\u4e2a ValueError \u3002\n\u90a3\u4e48\u600e\u6837\u624d\u80fd\u4ece\u8fd9\u4e2a\u53ef\u8fed\u4ee3\u5bf9\u8c61\u4e2d\u89e3\u538b\u51fa N \u4e2a\u5143\u7d20\u51fa\u6765\uff1f"
      ]
    },
    {
      "cell_type": "markdown",
      "metadata": {},
      "source": [
        "### \u89e3\u51b3\u65b9\u6848\n"
      ]
    },
    {
      "cell_type": "markdown",
      "metadata": {},
      "source": [
        "Python \u7684\u661f\u53f7\u8868\u8fbe\u5f0f\u53ef\u4ee5\u7528\u6765\u89e3\u51b3\u8fd9\u4e2a\u95ee\u9898\u3002\u6bd4\u5982\uff0c\u4f60\u5728\u5b66\u4e60\u4e00\u95e8\u8bfe\u7a0b\uff0c\u5728\u5b66\u671f\u672b\u7684\u65f6\u5019\uff0c\n\u4f60\u60f3\u7edf\u8ba1\u4e0b\u5bb6\u5ead\u4f5c\u4e1a\u7684\u5e73\u5747\u6210\u7ee9\uff0c\u4f46\u662f\u6392\u9664\u6389\u7b2c\u4e00\u4e2a\u548c\u6700\u540e\u4e00\u4e2a\u5206\u6570\u3002\u5982\u679c\u53ea\u6709\u56db\u4e2a\u5206\u6570\uff0c\u4f60\u53ef\u80fd\u5c31\u76f4\u63a5\u53bb\u7b80\u5355\u7684\u624b\u52a8\u8d4b\u503c\uff0c\n\u4f46\u5982\u679c\u6709 24 \u4e2a\u5462\uff1f\u8fd9\u65f6\u5019\u661f\u53f7\u8868\u8fbe\u5f0f\u5c31\u6d3e\u4e0a\u7528\u573a\u4e86\uff1a"
      ]
    },
    {
      "cell_type": "code",
      "execution_count": null,
      "metadata": {},
      "outputs": [],
      "source": [
        "d\ne\nf\n \nd\nr\no\np\n_\nf\ni\nr\ns\nt\n_\nl\na\ns\nt\n(\ng\nr\na\nd\ne\ns\n)\n:\n\n\n \n \n \n \nf\ni\nr\ns\nt\n,\n \n*\nm\ni\nd\nd\nl\ne\n,\n \nl\na\ns\nt\n \n=\n \ng\nr\na\nd\ne\ns\n\n\n \n \n \n \nr\ne\nt\nu\nr\nn\n \na\nv\ng\n(\nm\ni\nd\nd\nl\ne\n)\n\n"
      ]
    },
    {
      "cell_type": "markdown",
      "metadata": {},
      "source": [
        "\u53e6\u5916\u4e00\u79cd\u60c5\u51b5\uff0c\u5047\u8bbe\u4f60\u73b0\u5728\u6709\u4e00\u4e9b\u7528\u6237\u7684\u8bb0\u5f55\u5217\u8868\uff0c\u6bcf\u6761\u8bb0\u5f55\u5305\u542b\u4e00\u4e2a\u540d\u5b57\u3001\u90ae\u4ef6\uff0c\u63a5\u7740\u5c31\u662f\u4e0d\u786e\u5b9a\u6570\u91cf\u7684\u7535\u8bdd\u53f7\u7801\u3002\n\u4f60\u53ef\u4ee5\u50cf\u4e0b\u9762\u8fd9\u6837\u5206\u89e3\u8fd9\u4e9b\u8bb0\u5f55\uff1a"
      ]
    },
    {
      "cell_type": "code",
      "execution_count": null,
      "metadata": {},
      "outputs": [],
      "source": [
        "record = ('Dave', 'dave@example.com', '773-555-1212', '847-555-1212')\nname, email, *phone_numbers = record\nname"
      ]
    },
    {
      "cell_type": "code",
      "execution_count": null,
      "metadata": {},
      "outputs": [],
      "source": [
        "email"
      ]
    },
    {
      "cell_type": "code",
      "execution_count": null,
      "metadata": {},
      "outputs": [],
      "source": [
        "phone_numbers"
      ]
    },
    {
      "cell_type": "markdown",
      "metadata": {},
      "source": [
        "\u503c\u5f97\u6ce8\u610f\u7684\u662f\u4e0a\u9762\u89e3\u538b\u51fa\u7684 phone_numbers \u53d8\u91cf\u6c38\u8fdc\u90fd\u662f\u5217\u8868\u7c7b\u578b\uff0c\u4e0d\u7ba1\u89e3\u538b\u7684\u7535\u8bdd\u53f7\u7801\u6570\u91cf\u662f\u591a\u5c11\uff08\u5305\u62ec 0 \u4e2a\uff09\u3002\n\u6240\u4ee5\uff0c\u4efb\u4f55\u4f7f\u7528\u5230 phone_numbers \u53d8\u91cf\u7684\u4ee3\u7801\u5c31\u4e0d\u9700\u8981\u505a\u591a\u4f59\u7684\u7c7b\u578b\u68c0\u67e5\u53bb\u786e\u8ba4\u5b83\u662f\u5426\u662f\u5217\u8868\u7c7b\u578b\u4e86\u3002"
      ]
    },
    {
      "cell_type": "markdown",
      "metadata": {},
      "source": [
        "\u661f\u53f7\u8868\u8fbe\u5f0f\u4e5f\u80fd\u7528\u5728\u5217\u8868\u7684\u5f00\u59cb\u90e8\u5206\u3002\u6bd4\u5982\uff0c\u4f60\u6709\u4e00\u4e2a\u516c\u53f8\u524d 8 \u4e2a\u6708\u9500\u552e\u6570\u636e\u7684\u5e8f\u5217\uff0c\n\u4f46\u662f\u4f60\u60f3\u770b\u4e0b\u6700\u8fd1\u4e00\u4e2a\u6708\u6570\u636e\u548c\u524d\u9762 7 \u4e2a\u6708\u7684\u5e73\u5747\u503c\u7684\u5bf9\u6bd4\u3002\u4f60\u53ef\u4ee5\u8fd9\u6837\u505a\uff1a"
      ]
    },
    {
      "cell_type": "code",
      "execution_count": null,
      "metadata": {},
      "outputs": [],
      "source": [
        "*\nt\nr\na\ni\nl\ni\nn\ng\n_\nq\nt\nr\ns\n,\n \nc\nu\nr\nr\ne\nn\nt\n_\nq\nt\nr\n \n=\n \ns\na\nl\ne\ns\n_\nr\ne\nc\no\nr\nd\n\n\nt\nr\na\ni\nl\ni\nn\ng\n_\na\nv\ng\n \n=\n \ns\nu\nm\n(\nt\nr\na\ni\nl\ni\nn\ng\n_\nq\nt\nr\ns\n)\n \n/\n \nl\ne\nn\n(\nt\nr\na\ni\nl\ni\nn\ng\n_\nq\nt\nr\ns\n)\n\n\nr\ne\nt\nu\nr\nn\n \na\nv\ng\n_\nc\no\nm\np\na\nr\ni\ns\no\nn\n(\nt\nr\na\ni\nl\ni\nn\ng\n_\na\nv\ng\n,\n \nc\nu\nr\nr\ne\nn\nt\n_\nq\nt\nr\n)\n\n"
      ]
    },
    {
      "cell_type": "markdown",
      "metadata": {},
      "source": [
        "\u4e0b\u9762\u662f\u5728 Python \u89e3\u91ca\u5668\u4e2d\u6267\u884c\u7684\u7ed3\u679c\uff1a"
      ]
    },
    {
      "cell_type": "code",
      "execution_count": null,
      "metadata": {},
      "outputs": [],
      "source": [
        "*trailing, current = [10, 8, 7, 1, 9, 5, 10, 3]\ntrailing"
      ]
    },
    {
      "cell_type": "code",
      "execution_count": null,
      "metadata": {},
      "outputs": [],
      "source": [
        "current"
      ]
    },
    {
      "cell_type": "markdown",
      "metadata": {},
      "source": [
        "### \u8ba8\u8bba\n"
      ]
    },
    {
      "cell_type": "markdown",
      "metadata": {},
      "source": [
        "\u6269\u5c55\u7684\u8fed\u4ee3\u89e3\u538b\u8bed\u6cd5\u662f\u4e13\u95e8\u4e3a\u89e3\u538b\u4e0d\u786e\u5b9a\u4e2a\u6570\u6216\u4efb\u610f\u4e2a\u6570\u5143\u7d20\u7684\u53ef\u8fed\u4ee3\u5bf9\u8c61\u800c\u8bbe\u8ba1\u7684\u3002\n\u901a\u5e38\uff0c\u8fd9\u4e9b\u53ef\u8fed\u4ee3\u5bf9\u8c61\u7684\u5143\u7d20\u7ed3\u6784\u6709\u786e\u5b9a\u7684\u89c4\u5219\uff08\u6bd4\u5982\u7b2c 1 \u4e2a\u5143\u7d20\u540e\u9762\u90fd\u662f\u7535\u8bdd\u53f7\u7801\uff09\uff0c\n\u661f\u53f7\u8868\u8fbe\u5f0f\u8ba9\u5f00\u53d1\u4eba\u5458\u53ef\u4ee5\u5f88\u5bb9\u6613\u7684\u5229\u7528\u8fd9\u4e9b\u89c4\u5219\u6765\u89e3\u538b\u51fa\u5143\u7d20\u6765\u3002\n\u800c\u4e0d\u662f\u901a\u8fc7\u4e00\u4e9b\u6bd4\u8f83\u590d\u6742\u7684\u624b\u6bb5\u53bb\u83b7\u53d6\u8fd9\u4e9b\u5173\u8054\u7684\u5143\u7d20\u503c\u3002"
      ]
    },
    {
      "cell_type": "markdown",
      "metadata": {},
      "source": [
        "\u503c\u5f97\u6ce8\u610f\u7684\u662f\uff0c\u661f\u53f7\u8868\u8fbe\u5f0f\u5728\u8fed\u4ee3\u5143\u7d20\u4e3a\u53ef\u53d8\u957f\u5143\u7ec4\u7684\u5e8f\u5217\u65f6\u662f\u5f88\u6709\u7528\u7684\u3002\n\u6bd4\u5982\uff0c\u4e0b\u9762\u662f\u4e00\u4e2a\u5e26\u6709\u6807\u7b7e\u7684\u5143\u7ec4\u5e8f\u5217\uff1a"
      ]
    },
    {
      "cell_type": "code",
      "execution_count": null,
      "metadata": {},
      "outputs": [],
      "source": [
        "r\ne\nc\no\nr\nd\ns\n \n=\n \n[\n\n\n \n \n \n \n(\n'\nf\no\no\n'\n,\n \n1\n,\n \n2\n)\n,\n\n\n \n \n \n \n(\n'\nb\na\nr\n'\n,\n \n'\nh\ne\nl\nl\no\n'\n)\n,\n\n\n \n \n \n \n(\n'\nf\no\no\n'\n,\n \n3\n,\n \n4\n)\n,\n\n\n]\n\n\n\n\nd\ne\nf\n \nd\no\n_\nf\no\no\n(\nx\n,\n \ny\n)\n:\n\n\n \n \n \n \np\nr\ni\nn\nt\n(\n'\nf\no\no\n'\n,\n \nx\n,\n \ny\n)\n\n\n\n\nd\ne\nf\n \nd\no\n_\nb\na\nr\n(\ns\n)\n:\n\n\n \n \n \n \np\nr\ni\nn\nt\n(\n'\nb\na\nr\n'\n,\n \ns\n)\n\n\n\n\nf\no\nr\n \nt\na\ng\n,\n \n*\na\nr\ng\ns\n \ni\nn\n \nr\ne\nc\no\nr\nd\ns\n:\n\n\n \n \n \n \ni\nf\n \nt\na\ng\n \n=\n=\n \n'\nf\no\no\n'\n:\n\n\n \n \n \n \n \n \n \n \nd\no\n_\nf\no\no\n(\n*\na\nr\ng\ns\n)\n\n\n \n \n \n \ne\nl\ni\nf\n \nt\na\ng\n \n=\n=\n \n'\nb\na\nr\n'\n:\n\n\n \n \n \n \n \n \n \n \nd\no\n_\nb\na\nr\n(\n*\na\nr\ng\ns\n)\n\n"
      ]
    },
    {
      "cell_type": "markdown",
      "metadata": {},
      "source": [
        "\u661f\u53f7\u89e3\u538b\u8bed\u6cd5\u5728\u5b57\u7b26\u4e32\u64cd\u4f5c\u7684\u65f6\u5019\u4e5f\u4f1a\u5f88\u6709\u7528\uff0c\u6bd4\u5982\u5b57\u7b26\u4e32\u7684\u5206\u5272\u3002"
      ]
    },
    {
      "cell_type": "markdown",
      "metadata": {},
      "source": [
        "\u4ee3\u7801\u793a\u4f8b\uff1a"
      ]
    },
    {
      "cell_type": "code",
      "execution_count": null,
      "metadata": {},
      "outputs": [],
      "source": [
        "line = 'nobody:*:-2:-2:Unprivileged User:/var/empty:/usr/bin/false'\nuname, *fields, homedir, sh = line.split(':')\nuname"
      ]
    },
    {
      "cell_type": "code",
      "execution_count": null,
      "metadata": {},
      "outputs": [],
      "source": [
        "homedir"
      ]
    },
    {
      "cell_type": "code",
      "execution_count": null,
      "metadata": {},
      "outputs": [],
      "source": [
        "sh"
      ]
    },
    {
      "cell_type": "markdown",
      "metadata": {},
      "source": [
        "\u6709\u65f6\u5019\uff0c\u4f60\u60f3\u89e3\u538b\u4e00\u4e9b\u5143\u7d20\u540e\u4e22\u5f03\u5b83\u4eec\uff0c\u4f60\u4e0d\u80fd\u7b80\u5355\u5c31\u4f7f\u7528 * \uff0c\n\u4f46\u662f\u4f60\u53ef\u4ee5\u4f7f\u7528\u4e00\u4e2a\u666e\u901a\u7684\u5e9f\u5f03\u540d\u79f0\uff0c\u6bd4\u5982 _ \u6216\u8005 ign \uff08ignore\uff09\u3002"
      ]
    },
    {
      "cell_type": "markdown",
      "metadata": {},
      "source": [
        "\u4ee3\u7801\u793a\u4f8b\uff1a"
      ]
    },
    {
      "cell_type": "code",
      "execution_count": null,
      "metadata": {},
      "outputs": [],
      "source": [
        "record = ('ACME', 50, 123.45, (12, 18, 2012))\nname, *_, (*_, year) = record\nname"
      ]
    },
    {
      "cell_type": "code",
      "execution_count": null,
      "metadata": {},
      "outputs": [],
      "source": [
        "year"
      ]
    },
    {
      "cell_type": "markdown",
      "metadata": {},
      "source": [
        "\u5728\u5f88\u591a\u51fd\u6570\u5f0f\u8bed\u8a00\u4e2d\uff0c\u661f\u53f7\u89e3\u538b\u8bed\u6cd5\u8ddf\u5217\u8868\u5904\u7406\u6709\u8bb8\u591a\u76f8\u4f3c\u4e4b\u5904\u3002\u6bd4\u5982\uff0c\u5982\u679c\u4f60\u6709\u4e00\u4e2a\u5217\u8868\uff0c\n\u4f60\u53ef\u4ee5\u5f88\u5bb9\u6613\u7684\u5c06\u5b83\u5206\u5272\u6210\u524d\u540e\u4e24\u90e8\u5206\uff1a"
      ]
    },
    {
      "cell_type": "code",
      "execution_count": null,
      "metadata": {},
      "outputs": [],
      "source": [
        "items = [1, 10, 7, 4, 5, 9]\nhead, *tail = items\nhead"
      ]
    },
    {
      "cell_type": "code",
      "execution_count": null,
      "metadata": {},
      "outputs": [],
      "source": [
        "tail"
      ]
    },
    {
      "cell_type": "markdown",
      "metadata": {},
      "source": [
        "\u5982\u679c\u4f60\u591f\u806a\u660e\u7684\u8bdd\uff0c\u8fd8\u80fd\u7528\u8fd9\u79cd\u5206\u5272\u8bed\u6cd5\u53bb\u5de7\u5999\u7684\u5b9e\u73b0\u9012\u5f52\u7b97\u6cd5\u3002\u6bd4\u5982\uff1a"
      ]
    },
    {
      "cell_type": "code",
      "execution_count": null,
      "metadata": {},
      "outputs": [],
      "source": [
        "def sum(items):\n    head, *tail = items\n    return head + sum(tail) if tail else head\nsum(items)"
      ]
    },
    {
      "cell_type": "markdown",
      "metadata": {},
      "source": [
        "\u7136\u540e\uff0c\u7531\u4e8e\u8bed\u8a00\u5c42\u9762\u7684\u9650\u5236\uff0c\u9012\u5f52\u5e76\u4e0d\u662f Python \u64c5\u957f\u7684\u3002\n\u56e0\u6b64\uff0c\u6700\u540e\u90a3\u4e2a\u9012\u5f52\u6f14\u793a\u4ec5\u4ec5\u662f\u4e2a\u597d\u5947\u7684\u63a2\u7d22\u7f62\u4e86\uff0c\u5bf9\u8fd9\u4e2a\u4e0d\u8981\u592a\u8ba4\u771f\u4e86\u3002"
      ]
    },
    {
      "cell_type": "markdown",
      "metadata": {},
      "source": [
        "## 1.3 \u4fdd\u7559\u6700\u540e N \u4e2a\u5143\u7d20\n"
      ]
    },
    {
      "cell_type": "markdown",
      "metadata": {},
      "source": [
        "### \u95ee\u9898\n"
      ]
    },
    {
      "cell_type": "markdown",
      "metadata": {},
      "source": [
        "\u5728\u8fed\u4ee3\u64cd\u4f5c\u6216\u8005\u5176\u4ed6\u64cd\u4f5c\u7684\u65f6\u5019\uff0c\u600e\u6837\u53ea\u4fdd\u7559\u6700\u540e\u6709\u9650\u51e0\u4e2a\u5143\u7d20\u7684\u5386\u53f2\u8bb0\u5f55\uff1f"
      ]
    },
    {
      "cell_type": "markdown",
      "metadata": {},
      "source": [
        "### \u89e3\u51b3\u65b9\u6848\n"
      ]
    },
    {
      "cell_type": "markdown",
      "metadata": {},
      "source": [
        "\u4fdd\u7559\u6709\u9650\u5386\u53f2\u8bb0\u5f55\u6b63\u662f collections.deque \u5927\u663e\u8eab\u624b\u7684\u65f6\u5019\u3002\u6bd4\u5982\uff0c\u4e0b\u9762\u7684\u4ee3\u7801\u5728\u591a\u884c\u4e0a\u9762\u505a\u7b80\u5355\u7684\u6587\u672c\u5339\u914d\uff0c\n\u5e76\u8fd4\u56de\u5339\u914d\u6240\u5728\u884c\u7684\u6700\u540eN\u884c\uff1a"
      ]
    },
    {
      "cell_type": "code",
      "execution_count": null,
      "metadata": {},
      "outputs": [],
      "source": [
        "f\nr\no\nm\n \nc\no\nl\nl\ne\nc\nt\ni\no\nn\ns\n \ni\nm\np\no\nr\nt\n \nd\ne\nq\nu\ne\n\n\n\n\n\n\nd\ne\nf\n \ns\ne\na\nr\nc\nh\n(\nl\ni\nn\ne\ns\n,\n \np\na\nt\nt\ne\nr\nn\n,\n \nh\ni\ns\nt\no\nr\ny\n=\n5\n)\n:\n\n\n \n \n \n \np\nr\ne\nv\ni\no\nu\ns\n_\nl\ni\nn\ne\ns\n \n=\n \nd\ne\nq\nu\ne\n(\nm\na\nx\nl\ne\nn\n=\nh\ni\ns\nt\no\nr\ny\n)\n\n\n \n \n \n \nf\no\nr\n \nl\ni\nn\ne\n \ni\nn\n \nl\ni\nn\ne\ns\n:\n\n\n \n \n \n \n \n \n \n \ni\nf\n \np\na\nt\nt\ne\nr\nn\n \ni\nn\n \nl\ni\nn\ne\n:\n\n\n \n \n \n \n \n \n \n \n \n \n \n \ny\ni\ne\nl\nd\n \nl\ni\nn\ne\n,\n \np\nr\ne\nv\ni\no\nu\ns\n_\nl\ni\nn\ne\ns\n\n\n \n \n \n \n \n \n \n \np\nr\ne\nv\ni\no\nu\ns\n_\nl\ni\nn\ne\ns\n.\na\np\np\ne\nn\nd\n(\nl\ni\nn\ne\n)\n\n\n\n\n#\n \nE\nx\na\nm\np\nl\ne\n \nu\ns\ne\n \no\nn\n \na\n \nf\ni\nl\ne\n\n\ni\nf\n \n_\n_\nn\na\nm\ne\n_\n_\n \n=\n=\n \n'\n_\n_\nm\na\ni\nn\n_\n_\n'\n:\n\n\n \n \n \n \nw\ni\nt\nh\n \no\np\ne\nn\n(\nr\n'\n.\n.\n/\n.\n.\n/\nc\no\no\nk\nb\no\no\nk\n/\ns\no\nm\ne\nf\ni\nl\ne\n.\nt\nx\nt\n'\n)\n \na\ns\n \nf\n:\n\n\n \n \n \n \n \n \n \n \nf\no\nr\n \nl\ni\nn\ne\n,\n \np\nr\ne\nv\nl\ni\nn\ne\ns\n \ni\nn\n \ns\ne\na\nr\nc\nh\n(\nf\n,\n \n'\np\ny\nt\nh\no\nn\n'\n,\n \n5\n)\n:\n\n\n \n \n \n \n \n \n \n \n \n \n \n \nf\no\nr\n \np\nl\ni\nn\ne\n \ni\nn\n \np\nr\ne\nv\nl\ni\nn\ne\ns\n:\n\n\n \n \n \n \n \n \n \n \n \n \n \n \n \n \n \n \np\nr\ni\nn\nt\n(\np\nl\ni\nn\ne\n,\n \ne\nn\nd\n=\n'\n'\n)\n\n\n \n \n \n \n \n \n \n \n \n \n \n \np\nr\ni\nn\nt\n(\nl\ni\nn\ne\n,\n \ne\nn\nd\n=\n'\n'\n)\n\n\n \n \n \n \n \n \n \n \n \n \n \n \np\nr\ni\nn\nt\n(\n'\n-\n'\n \n*\n \n2\n0\n)\n\n"
      ]
    },
    {
      "cell_type": "markdown",
      "metadata": {},
      "source": [
        "### \u8ba8\u8bba\n"
      ]
    },
    {
      "cell_type": "markdown",
      "metadata": {},
      "source": [
        "\u6211\u4eec\u5728\u5199\u67e5\u8be2\u5143\u7d20\u7684\u4ee3\u7801\u65f6\uff0c\u901a\u5e38\u4f1a\u4f7f\u7528\u5305\u542b yield \u8868\u8fbe\u5f0f\u7684\u751f\u6210\u5668\u51fd\u6570\uff0c\u4e5f\u5c31\u662f\u6211\u4eec\u4e0a\u9762\u793a\u4f8b\u4ee3\u7801\u4e2d\u7684\u90a3\u6837\u3002\n\u8fd9\u6837\u53ef\u4ee5\u5c06\u641c\u7d22\u8fc7\u7a0b\u4ee3\u7801\u548c\u4f7f\u7528\u641c\u7d22\u7ed3\u679c\u4ee3\u7801\u89e3\u8026\u3002\u5982\u679c\u4f60\u8fd8\u4e0d\u6e05\u695a\u4ec0\u4e48\u662f\u751f\u6210\u5668\uff0c\u8bf7\u53c2\u770b 4.3 \u8282\u3002"
      ]
    },
    {
      "cell_type": "markdown",
      "metadata": {},
      "source": [
        "\u4f7f\u7528 deque(maxlen=N) \u6784\u9020\u51fd\u6570\u4f1a\u65b0\u5efa\u4e00\u4e2a\u56fa\u5b9a\u5927\u5c0f\u7684\u961f\u5217\u3002\u5f53\u65b0\u7684\u5143\u7d20\u52a0\u5165\u5e76\u4e14\u8fd9\u4e2a\u961f\u5217\u5df2\u6ee1\u7684\u65f6\u5019\uff0c\n\u6700\u8001\u7684\u5143\u7d20\u4f1a\u81ea\u52a8\u88ab\u79fb\u9664\u6389\u3002"
      ]
    },
    {
      "cell_type": "markdown",
      "metadata": {},
      "source": [
        "\u4ee3\u7801\u793a\u4f8b\uff1a"
      ]
    },
    {
      "cell_type": "code",
      "execution_count": null,
      "metadata": {},
      "outputs": [],
      "source": [
        "q = deque(maxlen=3)\nq.append(1)\nq.append(2)\nq.append(3)\nq"
      ]
    },
    {
      "cell_type": "code",
      "execution_count": null,
      "metadata": {},
      "outputs": [],
      "source": [
        "q.append(4)\nq"
      ]
    },
    {
      "cell_type": "code",
      "execution_count": null,
      "metadata": {},
      "outputs": [],
      "source": [
        "q.append(5)\nq"
      ]
    },
    {
      "cell_type": "markdown",
      "metadata": {},
      "source": [
        "\u5c3d\u7ba1\u4f60\u4e5f\u53ef\u4ee5\u624b\u52a8\u5728\u4e00\u4e2a\u5217\u8868\u4e0a\u5b9e\u73b0\u8fd9\u4e00\u7684\u64cd\u4f5c\uff08\u6bd4\u5982\u589e\u52a0\u3001\u5220\u9664\u7b49\u7b49\uff09\u3002\u4f46\u662f\u8fd9\u91cc\u7684\u961f\u5217\u65b9\u6848\u4f1a\u66f4\u52a0\u4f18\u96c5\u5e76\u4e14\u8fd0\u884c\u5f97\u66f4\u5feb\u4e9b\u3002"
      ]
    },
    {
      "cell_type": "markdown",
      "metadata": {},
      "source": [
        "\u66f4\u4e00\u822c\u7684\uff0c deque \u7c7b\u53ef\u4ee5\u88ab\u7528\u5728\u4efb\u4f55\u4f60\u53ea\u9700\u8981\u4e00\u4e2a\u7b80\u5355\u961f\u5217\u6570\u636e\u7ed3\u6784\u7684\u573a\u5408\u3002\n\u5982\u679c\u4f60\u4e0d\u8bbe\u7f6e\u6700\u5927\u961f\u5217\u5927\u5c0f\uff0c\u90a3\u4e48\u5c31\u4f1a\u5f97\u5230\u4e00\u4e2a\u65e0\u9650\u5927\u5c0f\u961f\u5217\uff0c\u4f60\u53ef\u4ee5\u5728\u961f\u5217\u7684\u4e24\u7aef\u6267\u884c\u6dfb\u52a0\u548c\u5f39\u51fa\u5143\u7d20\u7684\u64cd\u4f5c\u3002"
      ]
    },
    {
      "cell_type": "markdown",
      "metadata": {},
      "source": [
        "\u4ee3\u7801\u793a\u4f8b\uff1a"
      ]
    },
    {
      "cell_type": "code",
      "execution_count": null,
      "metadata": {},
      "outputs": [],
      "source": [
        "q = deque()\nq.append(1)\nq.append(2)\nq.append(3)\nq"
      ]
    },
    {
      "cell_type": "code",
      "execution_count": null,
      "metadata": {},
      "outputs": [],
      "source": [
        "q.appendleft(4)\nq"
      ]
    },
    {
      "cell_type": "code",
      "execution_count": null,
      "metadata": {},
      "outputs": [],
      "source": [
        "q.pop()"
      ]
    },
    {
      "cell_type": "code",
      "execution_count": null,
      "metadata": {},
      "outputs": [],
      "source": [
        "q"
      ]
    },
    {
      "cell_type": "code",
      "execution_count": null,
      "metadata": {},
      "outputs": [],
      "source": [
        "q.popleft()"
      ]
    },
    {
      "cell_type": "markdown",
      "metadata": {},
      "source": [
        "\u5728\u961f\u5217\u4e24\u7aef\u63d2\u5165\u6216\u5220\u9664\u5143\u7d20\u65f6\u95f4\u590d\u6742\u5ea6\u90fd\u662f O(1) \uff0c\u533a\u522b\u4e8e\u5217\u8868\uff0c\u5728\u5217\u8868\u7684\u5f00\u5934\u63d2\u5165\u6216\u5220\u9664\u5143\u7d20\u7684\u65f6\u95f4\u590d\u6742\u5ea6\u4e3a O(N) \u3002"
      ]
    },
    {
      "cell_type": "markdown",
      "metadata": {},
      "source": [
        "## 1.4 \u67e5\u627e\u6700\u5927\u6216\u6700\u5c0f\u7684 N \u4e2a\u5143\u7d20\n"
      ]
    },
    {
      "cell_type": "markdown",
      "metadata": {},
      "source": [
        "### \u95ee\u9898\n"
      ]
    },
    {
      "cell_type": "markdown",
      "metadata": {},
      "source": [
        "\u600e\u6837\u4ece\u4e00\u4e2a\u96c6\u5408\u4e2d\u83b7\u5f97\u6700\u5927\u6216\u8005\u6700\u5c0f\u7684 N \u4e2a\u5143\u7d20\u5217\u8868\uff1f"
      ]
    },
    {
      "cell_type": "markdown",
      "metadata": {},
      "source": [
        "### \u89e3\u51b3\u65b9\u6848\n"
      ]
    },
    {
      "cell_type": "markdown",
      "metadata": {},
      "source": [
        "heapq \u6a21\u5757\u6709\u4e24\u4e2a\u51fd\u6570\uff1anlargest() \u548c nsmallest() \u53ef\u4ee5\u5b8c\u7f8e\u89e3\u51b3\u8fd9\u4e2a\u95ee\u9898\u3002"
      ]
    },
    {
      "cell_type": "code",
      "execution_count": null,
      "metadata": {},
      "outputs": [],
      "source": [
        "i\nm\np\no\nr\nt\n \nh\ne\na\np\nq\n\n\nn\nu\nm\ns\n \n=\n \n[\n1\n,\n \n8\n,\n \n2\n,\n \n2\n3\n,\n \n7\n,\n \n-\n4\n,\n \n1\n8\n,\n \n2\n3\n,\n \n4\n2\n,\n \n3\n7\n,\n \n2\n]\n\n\np\nr\ni\nn\nt\n(\nh\ne\na\np\nq\n.\nn\nl\na\nr\ng\ne\ns\nt\n(\n3\n,\n \nn\nu\nm\ns\n)\n)\n \n#\n \nP\nr\ni\nn\nt\ns\n \n[\n4\n2\n,\n \n3\n7\n,\n \n2\n3\n]\n\n\np\nr\ni\nn\nt\n(\nh\ne\na\np\nq\n.\nn\ns\nm\na\nl\nl\ne\ns\nt\n(\n3\n,\n \nn\nu\nm\ns\n)\n)\n \n#\n \nP\nr\ni\nn\nt\ns\n \n[\n-\n4\n,\n \n1\n,\n \n2\n]\n\n"
      ]
    },
    {
      "cell_type": "markdown",
      "metadata": {},
      "source": [
        "\u4e24\u4e2a\u51fd\u6570\u90fd\u80fd\u63a5\u53d7\u4e00\u4e2a\u5173\u952e\u5b57\u53c2\u6570\uff0c\u7528\u4e8e\u66f4\u590d\u6742\u7684\u6570\u636e\u7ed3\u6784\u4e2d\uff1a"
      ]
    },
    {
      "cell_type": "code",
      "execution_count": null,
      "metadata": {},
      "outputs": [],
      "source": [
        "p\no\nr\nt\nf\no\nl\ni\no\n \n=\n \n[\n\n\n \n \n \n \n{\n'\nn\na\nm\ne\n'\n:\n \n'\nI\nB\nM\n'\n,\n \n'\ns\nh\na\nr\ne\ns\n'\n:\n \n1\n0\n0\n,\n \n'\np\nr\ni\nc\ne\n'\n:\n \n9\n1\n.\n1\n}\n,\n\n\n \n \n \n \n{\n'\nn\na\nm\ne\n'\n:\n \n'\nA\nA\nP\nL\n'\n,\n \n'\ns\nh\na\nr\ne\ns\n'\n:\n \n5\n0\n,\n \n'\np\nr\ni\nc\ne\n'\n:\n \n5\n4\n3\n.\n2\n2\n}\n,\n\n\n \n \n \n \n{\n'\nn\na\nm\ne\n'\n:\n \n'\nF\nB\n'\n,\n \n'\ns\nh\na\nr\ne\ns\n'\n:\n \n2\n0\n0\n,\n \n'\np\nr\ni\nc\ne\n'\n:\n \n2\n1\n.\n0\n9\n}\n,\n\n\n \n \n \n \n{\n'\nn\na\nm\ne\n'\n:\n \n'\nH\nP\nQ\n'\n,\n \n'\ns\nh\na\nr\ne\ns\n'\n:\n \n3\n5\n,\n \n'\np\nr\ni\nc\ne\n'\n:\n \n3\n1\n.\n7\n5\n}\n,\n\n\n \n \n \n \n{\n'\nn\na\nm\ne\n'\n:\n \n'\nY\nH\nO\nO\n'\n,\n \n'\ns\nh\na\nr\ne\ns\n'\n:\n \n4\n5\n,\n \n'\np\nr\ni\nc\ne\n'\n:\n \n1\n6\n.\n3\n5\n}\n,\n\n\n \n \n \n \n{\n'\nn\na\nm\ne\n'\n:\n \n'\nA\nC\nM\nE\n'\n,\n \n'\ns\nh\na\nr\ne\ns\n'\n:\n \n7\n5\n,\n \n'\np\nr\ni\nc\ne\n'\n:\n \n1\n1\n5\n.\n6\n5\n}\n\n\n]\n\n\nc\nh\ne\na\np\n \n=\n \nh\ne\na\np\nq\n.\nn\ns\nm\na\nl\nl\ne\ns\nt\n(\n3\n,\n \np\no\nr\nt\nf\no\nl\ni\no\n,\n \nk\ne\ny\n=\nl\na\nm\nb\nd\na\n \ns\n:\n \ns\n[\n'\np\nr\ni\nc\ne\n'\n]\n)\n\n\ne\nx\np\ne\nn\ns\ni\nv\ne\n \n=\n \nh\ne\na\np\nq\n.\nn\nl\na\nr\ng\ne\ns\nt\n(\n3\n,\n \np\no\nr\nt\nf\no\nl\ni\no\n,\n \nk\ne\ny\n=\nl\na\nm\nb\nd\na\n \ns\n:\n \ns\n[\n'\np\nr\ni\nc\ne\n'\n]\n)\n\n"
      ]
    },
    {
      "cell_type": "markdown",
      "metadata": {},
      "source": [
        "\u8bd1\u8005\u6ce8\uff1a\u4e0a\u9762\u4ee3\u7801\u5728\u5bf9\u6bcf\u4e2a\u5143\u7d20\u8fdb\u884c\u5bf9\u6bd4\u7684\u65f6\u5019\uff0c\u4f1a\u4ee5 price \u7684\u503c\u8fdb\u884c\u6bd4\u8f83\u3002"
      ]
    },
    {
      "cell_type": "markdown",
      "metadata": {},
      "source": [
        "### \u8ba8\u8bba\n"
      ]
    },
    {
      "cell_type": "markdown",
      "metadata": {},
      "source": [
        "\u5982\u679c\u4f60\u60f3\u5728\u4e00\u4e2a\u96c6\u5408\u4e2d\u67e5\u627e\u6700\u5c0f\u6216\u6700\u5927\u7684 N \u4e2a\u5143\u7d20\uff0c\u5e76\u4e14 N \u5c0f\u4e8e\u96c6\u5408\u5143\u7d20\u6570\u91cf\uff0c\u90a3\u4e48\u8fd9\u4e9b\u51fd\u6570\u63d0\u4f9b\u4e86\u5f88\u597d\u7684\u6027\u80fd\u3002\n\u56e0\u4e3a\u5728\u5e95\u5c42\u5b9e\u73b0\u91cc\u9762\uff0c\u9996\u5148\u4f1a\u5148\u5c06\u96c6\u5408\u6570\u636e\u8fdb\u884c\u5806\u6392\u5e8f\u540e\u653e\u5165\u4e00\u4e2a\u5217\u8868\u4e2d\uff1a"
      ]
    },
    {
      "cell_type": "code",
      "execution_count": null,
      "metadata": {},
      "outputs": [],
      "source": [
        "nums = [1, 8, 2, 23, 7, -4, 18, 23, 42, 37, 2]\nimport heapq\nheap = list(nums)\nheapq.heapify(heap)\nheap"
      ]
    },
    {
      "cell_type": "markdown",
      "metadata": {},
      "source": [
        "\u5806\u6570\u636e\u7ed3\u6784\u6700\u91cd\u8981\u7684\u7279\u5f81\u662f heap[0] \u6c38\u8fdc\u662f\u6700\u5c0f\u7684\u5143\u7d20\u3002\u5e76\u4e14\u5269\u4f59\u7684\u5143\u7d20\u53ef\u4ee5\u5f88\u5bb9\u6613\u7684\u901a\u8fc7\u8c03\u7528 heapq.heappop() \u65b9\u6cd5\u5f97\u5230\uff0c\n\u8be5\u65b9\u6cd5\u4f1a\u5148\u5c06\u7b2c\u4e00\u4e2a\u5143\u7d20\u5f39\u51fa\u6765\uff0c\u7136\u540e\u7528\u4e0b\u4e00\u4e2a\u6700\u5c0f\u7684\u5143\u7d20\u6765\u53d6\u4ee3\u88ab\u5f39\u51fa\u5143\u7d20\uff08\u8fd9\u79cd\u64cd\u4f5c\u65f6\u95f4\u590d\u6742\u5ea6\u4ec5\u4ec5\u662f O(log N)\uff0cN \u662f\u5806\u5927\u5c0f\uff09\u3002\n\u6bd4\u5982\uff0c\u5982\u679c\u60f3\u8981\u67e5\u627e\u6700\u5c0f\u7684 3 \u4e2a\u5143\u7d20\uff0c\u4f60\u53ef\u4ee5\u8fd9\u6837\u505a\uff1a"
      ]
    },
    {
      "cell_type": "code",
      "execution_count": null,
      "metadata": {},
      "outputs": [],
      "source": [
        "heapq.heappop(heap)"
      ]
    },
    {
      "cell_type": "code",
      "execution_count": null,
      "metadata": {},
      "outputs": [],
      "source": [
        "heapq.heappop(heap)"
      ]
    },
    {
      "cell_type": "code",
      "execution_count": null,
      "metadata": {},
      "outputs": [],
      "source": [
        "heapq.heappop(heap)"
      ]
    },
    {
      "cell_type": "markdown",
      "metadata": {},
      "source": [
        "\u5f53\u8981\u67e5\u627e\u7684\u5143\u7d20\u4e2a\u6570\u76f8\u5bf9\u6bd4\u8f83\u5c0f\u7684\u65f6\u5019\uff0c\u51fd\u6570 nlargest() \u548c nsmallest() \u662f\u5f88\u5408\u9002\u7684\u3002\n\u5982\u679c\u4f60\u4ec5\u4ec5\u60f3\u67e5\u627e\u552f\u4e00\u7684\u6700\u5c0f\u6216\u6700\u5927\uff08N=1\uff09\u7684\u5143\u7d20\u7684\u8bdd\uff0c\u90a3\u4e48\u4f7f\u7528 min() \u548c max() \u51fd\u6570\u4f1a\u66f4\u5feb\u4e9b\u3002\n\u7c7b\u4f3c\u7684\uff0c\u5982\u679c N \u7684\u5927\u5c0f\u548c\u96c6\u5408\u5927\u5c0f\u63a5\u8fd1\u7684\u65f6\u5019\uff0c\u901a\u5e38\u5148\u6392\u5e8f\u8fd9\u4e2a\u96c6\u5408\u7136\u540e\u518d\u4f7f\u7528\u5207\u7247\u64cd\u4f5c\u4f1a\u66f4\u5feb\u70b9\n\uff08 sorted(items)[:N] \u6216\u8005\u662f sorted(items)[-N:] \uff09\u3002\n\u9700\u8981\u5728\u6b63\u786e\u573a\u5408\u4f7f\u7528\u51fd\u6570 nlargest() \u548c nsmallest() \u624d\u80fd\u53d1\u6325\u5b83\u4eec\u7684\u4f18\u52bf\n\uff08\u5982\u679c N \u5feb\u63a5\u8fd1\u96c6\u5408\u5927\u5c0f\u4e86\uff0c\u90a3\u4e48\u4f7f\u7528\u6392\u5e8f\u64cd\u4f5c\u4f1a\u66f4\u597d\u4e9b\uff09\u3002"
      ]
    },
    {
      "cell_type": "markdown",
      "metadata": {},
      "source": [
        "\u5c3d\u7ba1\u4f60\u6ca1\u6709\u5fc5\u8981\u4e00\u5b9a\u4f7f\u7528\u8fd9\u91cc\u7684\u65b9\u6cd5\uff0c\u4f46\u662f\u5806\u6570\u636e\u7ed3\u6784\u7684\u5b9e\u73b0\u662f\u4e00\u4e2a\u5f88\u6709\u8da3\u5e76\u4e14\u503c\u5f97\u4f60\u6df1\u5165\u5b66\u4e60\u7684\u4e1c\u897f\u3002\n\u57fa\u672c\u4e0a\u53ea\u8981\u662f\u6570\u636e\u7ed3\u6784\u548c\u7b97\u6cd5\u4e66\u7c4d\u91cc\u9762\u90fd\u4f1a\u6709\u63d0\u53ca\u5230\u3002\nheapq \u6a21\u5757\u7684\u5b98\u65b9\u6587\u6863\u91cc\u9762\u4e5f\u8be6\u7ec6\u7684\u4ecb\u7ecd\u4e86\u5806\u6570\u636e\u7ed3\u6784\u5e95\u5c42\u7684\u5b9e\u73b0\u7ec6\u8282\u3002"
      ]
    },
    {
      "cell_type": "markdown",
      "metadata": {},
      "source": [
        "## 1.5 \u5b9e\u73b0\u4e00\u4e2a\u4f18\u5148\u7ea7\u961f\u5217\n"
      ]
    },
    {
      "cell_type": "markdown",
      "metadata": {},
      "source": [
        "### \u95ee\u9898\n"
      ]
    },
    {
      "cell_type": "markdown",
      "metadata": {},
      "source": [
        "\u600e\u6837\u5b9e\u73b0\u4e00\u4e2a\u6309\u4f18\u5148\u7ea7\u6392\u5e8f\u7684\u961f\u5217\uff1f \u5e76\u4e14\u5728\u8fd9\u4e2a\u961f\u5217\u4e0a\u9762\u6bcf\u6b21 pop \u64cd\u4f5c\u603b\u662f\u8fd4\u56de\u4f18\u5148\u7ea7\u6700\u9ad8\u7684\u90a3\u4e2a\u5143\u7d20"
      ]
    },
    {
      "cell_type": "markdown",
      "metadata": {},
      "source": [
        "### \u89e3\u51b3\u65b9\u6848\n"
      ]
    },
    {
      "cell_type": "markdown",
      "metadata": {},
      "source": [
        "\u4e0b\u9762\u7684\u7c7b\u5229\u7528 heapq \u6a21\u5757\u5b9e\u73b0\u4e86\u4e00\u4e2a\u7b80\u5355\u7684\u4f18\u5148\u7ea7\u961f\u5217\uff1a"
      ]
    },
    {
      "cell_type": "code",
      "execution_count": null,
      "metadata": {},
      "outputs": [],
      "source": [
        "i\nm\np\no\nr\nt\n \nh\ne\na\np\nq\n\n\n\n\nc\nl\na\ns\ns\n \nP\nr\ni\no\nr\ni\nt\ny\nQ\nu\ne\nu\ne\n:\n\n\n \n \n \n \nd\ne\nf\n \n_\n_\ni\nn\ni\nt\n_\n_\n(\ns\ne\nl\nf\n)\n:\n\n\n \n \n \n \n \n \n \n \ns\ne\nl\nf\n.\n_\nq\nu\ne\nu\ne\n \n=\n \n[\n]\n\n\n \n \n \n \n \n \n \n \ns\ne\nl\nf\n.\n_\ni\nn\nd\ne\nx\n \n=\n \n0\n\n\n\n\n \n \n \n \nd\ne\nf\n \np\nu\ns\nh\n(\ns\ne\nl\nf\n,\n \ni\nt\ne\nm\n,\n \np\nr\ni\no\nr\ni\nt\ny\n)\n:\n\n\n \n \n \n \n \n \n \n \nh\ne\na\np\nq\n.\nh\ne\na\np\np\nu\ns\nh\n(\ns\ne\nl\nf\n.\n_\nq\nu\ne\nu\ne\n,\n \n(\n-\np\nr\ni\no\nr\ni\nt\ny\n,\n \ns\ne\nl\nf\n.\n_\ni\nn\nd\ne\nx\n,\n \ni\nt\ne\nm\n)\n)\n\n\n \n \n \n \n \n \n \n \ns\ne\nl\nf\n.\n_\ni\nn\nd\ne\nx\n \n+\n=\n \n1\n\n\n\n\n \n \n \n \nd\ne\nf\n \np\no\np\n(\ns\ne\nl\nf\n)\n:\n\n\n \n \n \n \n \n \n \n \nr\ne\nt\nu\nr\nn\n \nh\ne\na\np\nq\n.\nh\ne\na\np\np\no\np\n(\ns\ne\nl\nf\n.\n_\nq\nu\ne\nu\ne\n)\n[\n-\n1\n]\n\n"
      ]
    },
    {
      "cell_type": "markdown",
      "metadata": {},
      "source": [
        "\u4e0b\u9762\u662f\u5b83\u7684\u4f7f\u7528\u65b9\u5f0f\uff1a"
      ]
    },
    {
      "cell_type": "code",
      "execution_count": null,
      "metadata": {},
      "outputs": [],
      "source": [
        "class Item:\n    def __init__(self, name):\n        self.name = name\n    def __repr__(self):\n        return 'Item({!r})'.format(self.name)\nq = PriorityQueue()\nq.push(Item('foo'), 1)\nq.push(Item('bar'), 5)\nq.push(Item('spam'), 4)\nq.push(Item('grok'), 1)\nq.pop()"
      ]
    },
    {
      "cell_type": "code",
      "execution_count": null,
      "metadata": {},
      "outputs": [],
      "source": [
        "q.pop()"
      ]
    },
    {
      "cell_type": "code",
      "execution_count": null,
      "metadata": {},
      "outputs": [],
      "source": [
        "q.pop()"
      ]
    },
    {
      "cell_type": "code",
      "execution_count": null,
      "metadata": {},
      "outputs": [],
      "source": [
        "q.pop()"
      ]
    },
    {
      "cell_type": "markdown",
      "metadata": {},
      "source": [
        "\u4ed4\u7ec6\u89c2\u5bdf\u53ef\u4ee5\u53d1\u73b0\uff0c\u7b2c\u4e00\u4e2a pop() \u64cd\u4f5c\u8fd4\u56de\u4f18\u5148\u7ea7\u6700\u9ad8\u7684\u5143\u7d20\u3002\n\u53e6\u5916\u6ce8\u610f\u5230\u5982\u679c\u4e24\u4e2a\u6709\u7740\u76f8\u540c\u4f18\u5148\u7ea7\u7684\u5143\u7d20\uff08 foo \u548c grok \uff09\uff0cpop \u64cd\u4f5c\u6309\u7167\u5b83\u4eec\u88ab\u63d2\u5165\u5230\u961f\u5217\u7684\u987a\u5e8f\u8fd4\u56de\u7684\u3002"
      ]
    },
    {
      "cell_type": "markdown",
      "metadata": {},
      "source": [
        "### \u8ba8\u8bba\n"
      ]
    },
    {
      "cell_type": "markdown",
      "metadata": {},
      "source": [
        "\u8fd9\u4e00\u5c0f\u8282\u6211\u4eec\u4e3b\u8981\u5173\u6ce8 heapq \u6a21\u5757\u7684\u4f7f\u7528\u3002\n\u51fd\u6570 heapq.heappush() \u548c heapq.heappop() \u5206\u522b\u5728\u961f\u5217 _queue \u4e0a\u63d2\u5165\u548c\u5220\u9664\u7b2c\u4e00\u4e2a\u5143\u7d20\uff0c\n\u5e76\u4e14\u961f\u5217 _queue \u4fdd\u8bc1\u7b2c\u4e00\u4e2a\u5143\u7d20\u62e5\u6709\u6700\u9ad8\u4f18\u5148\u7ea7\uff08 1.4 \u8282\u5df2\u7ecf\u8ba8\u8bba\u8fc7\u8fd9\u4e2a\u95ee\u9898\uff09\u3002\nheappop() \u51fd\u6570\u603b\u662f\u8fd4\u56de\u201d\u6700\u5c0f\u7684\u201d\u7684\u5143\u7d20\uff0c\u8fd9\u5c31\u662f\u4fdd\u8bc1\u961f\u5217pop\u64cd\u4f5c\u8fd4\u56de\u6b63\u786e\u5143\u7d20\u7684\u5173\u952e\u3002\n\u53e6\u5916\uff0c\u7531\u4e8e push \u548c pop \u64cd\u4f5c\u65f6\u95f4\u590d\u6742\u5ea6\u4e3a O(log N)\uff0c\u5176\u4e2d N \u662f\u5806\u7684\u5927\u5c0f\uff0c\u56e0\u6b64\u5c31\u7b97\u662f N \u5f88\u5927\u7684\u65f6\u5019\u5b83\u4eec\u8fd0\u884c\u901f\u5ea6\u4e5f\u4f9d\u65e7\u5f88\u5feb\u3002"
      ]
    },
    {
      "cell_type": "markdown",
      "metadata": {},
      "source": [
        "\u5728\u4e0a\u9762\u4ee3\u7801\u4e2d\uff0c\u961f\u5217\u5305\u542b\u4e86\u4e00\u4e2a (-priority, index, item) \u7684\u5143\u7ec4\u3002\n\u4f18\u5148\u7ea7\u4e3a\u8d1f\u6570\u7684\u76ee\u7684\u662f\u4f7f\u5f97\u5143\u7d20\u6309\u7167\u4f18\u5148\u7ea7\u4ece\u9ad8\u5230\u4f4e\u6392\u5e8f\u3002\n\u8fd9\u4e2a\u8ddf\u666e\u901a\u7684\u6309\u4f18\u5148\u7ea7\u4ece\u4f4e\u5230\u9ad8\u6392\u5e8f\u7684\u5806\u6392\u5e8f\u6070\u5de7\u76f8\u53cd\u3002"
      ]
    },
    {
      "cell_type": "markdown",
      "metadata": {},
      "source": [
        "index \u53d8\u91cf\u7684\u4f5c\u7528\u662f\u4fdd\u8bc1\u540c\u7b49\u4f18\u5148\u7ea7\u5143\u7d20\u7684\u6b63\u786e\u6392\u5e8f\u3002\n\u901a\u8fc7\u4fdd\u5b58\u4e00\u4e2a\u4e0d\u65ad\u589e\u52a0\u7684 index \u4e0b\u6807\u53d8\u91cf\uff0c\u53ef\u4ee5\u786e\u4fdd\u5143\u7d20\u6309\u7167\u5b83\u4eec\u63d2\u5165\u7684\u987a\u5e8f\u6392\u5e8f\u3002\n\u800c\u4e14\uff0c index \u53d8\u91cf\u4e5f\u5728\u76f8\u540c\u4f18\u5148\u7ea7\u5143\u7d20\u6bd4\u8f83\u7684\u65f6\u5019\u8d77\u5230\u91cd\u8981\u4f5c\u7528\u3002"
      ]
    },
    {
      "cell_type": "markdown",
      "metadata": {},
      "source": [
        "\u4e3a\u4e86\u9610\u660e\u8fd9\u4e9b\uff0c\u5148\u5047\u5b9a Item \u5b9e\u4f8b\u662f\u4e0d\u652f\u6301\u6392\u5e8f\u7684\uff1a"
      ]
    },
    {
      "cell_type": "code",
      "execution_count": null,
      "metadata": {},
      "outputs": [],
      "source": [
        "a = Item('foo')\nb = Item('bar')\na < b"
      ]
    },
    {
      "cell_type": "markdown",
      "metadata": {},
      "source": [
        "\u5982\u679c\u4f60\u4f7f\u7528\u5143\u7ec4 (priority, item) \uff0c\u53ea\u8981\u4e24\u4e2a\u5143\u7d20\u7684\u4f18\u5148\u7ea7\u4e0d\u540c\u5c31\u80fd\u6bd4\u8f83\u3002\n\u4f46\u662f\u5982\u679c\u4e24\u4e2a\u5143\u7d20\u4f18\u5148\u7ea7\u4e00\u6837\u7684\u8bdd\uff0c\u90a3\u4e48\u6bd4\u8f83\u64cd\u4f5c\u5c31\u4f1a\u8ddf\u4e4b\u524d\u4e00\u6837\u51fa\u9519\uff1a"
      ]
    },
    {
      "cell_type": "code",
      "execution_count": null,
      "metadata": {},
      "outputs": [],
      "source": [
        "a = (1, Item('foo'))\nb = (5, Item('bar'))\na < b"
      ]
    },
    {
      "cell_type": "code",
      "execution_count": null,
      "metadata": {},
      "outputs": [],
      "source": [
        "c = (1, Item('grok'))\na < c"
      ]
    },
    {
      "cell_type": "markdown",
      "metadata": {},
      "source": [
        "\u901a\u8fc7\u5f15\u5165\u53e6\u5916\u7684 index \u53d8\u91cf\u7ec4\u6210\u4e09\u5143\u7ec4 (priority, index, item) \uff0c\u5c31\u80fd\u5f88\u597d\u7684\u907f\u514d\u4e0a\u9762\u7684\u9519\u8bef\uff0c\n\u56e0\u4e3a\u4e0d\u53ef\u80fd\u6709\u4e24\u4e2a\u5143\u7d20\u6709\u76f8\u540c\u7684 index \u503c\u3002Python \u5728\u505a\u5143\u7ec4\u6bd4\u8f83\u65f6\u5019\uff0c\u5982\u679c\u524d\u9762\u7684\u6bd4\u8f83\u5df2\u7ecf\u53ef\u4ee5\u786e\u5b9a\u7ed3\u679c\u4e86\uff0c\n\u540e\u9762\u7684\u6bd4\u8f83\u64cd\u4f5c\u5c31\u4e0d\u4f1a\u53d1\u751f\u4e86\uff1a"
      ]
    },
    {
      "cell_type": "code",
      "execution_count": null,
      "metadata": {},
      "outputs": [],
      "source": [
        "a = (1, 0, Item('foo'))\nb = (5, 1, Item('bar'))\nc = (1, 2, Item('grok'))\na < b"
      ]
    },
    {
      "cell_type": "code",
      "execution_count": null,
      "metadata": {},
      "outputs": [],
      "source": [
        "a < c"
      ]
    },
    {
      "cell_type": "markdown",
      "metadata": {},
      "source": [
        "\u5982\u679c\u4f60\u60f3\u5728\u591a\u4e2a\u7ebf\u7a0b\u4e2d\u4f7f\u7528\u540c\u4e00\u4e2a\u961f\u5217\uff0c\u90a3\u4e48\u4f60\u9700\u8981\u589e\u52a0\u9002\u5f53\u7684\u9501\u548c\u4fe1\u53f7\u91cf\u673a\u5236\u3002\n\u53ef\u4ee5\u67e5\u770b 12.3 \u5c0f\u8282\u7684\u4f8b\u5b50\u6f14\u793a\u662f\u600e\u6837\u505a\u7684\u3002"
      ]
    },
    {
      "cell_type": "markdown",
      "metadata": {},
      "source": [
        "heapq \u6a21\u5757\u7684\u5b98\u65b9\u6587\u6863\u6709\u66f4\u8be6\u7ec6\u7684\u4f8b\u5b50\u7a0b\u5e8f\u4ee5\u53ca\u5bf9\u4e8e\u5806\u7406\u8bba\u53ca\u5176\u5b9e\u73b0\u7684\u8be6\u7ec6\u8bf4\u660e\u3002"
      ]
    },
    {
      "cell_type": "markdown",
      "metadata": {},
      "source": [
        "## 1.6 \u5b57\u5178\u4e2d\u7684\u952e\u6620\u5c04\u591a\u4e2a\u503c\n"
      ]
    },
    {
      "cell_type": "markdown",
      "metadata": {},
      "source": [
        "### \u95ee\u9898\n"
      ]
    },
    {
      "cell_type": "markdown",
      "metadata": {},
      "source": [
        "\u600e\u6837\u5b9e\u73b0\u4e00\u4e2a\u952e\u5bf9\u5e94\u591a\u4e2a\u503c\u7684\u5b57\u5178\uff08\u4e5f\u53eb multidict\uff09\uff1f"
      ]
    },
    {
      "cell_type": "markdown",
      "metadata": {},
      "source": [
        "### \u89e3\u51b3\u65b9\u6848\n"
      ]
    },
    {
      "cell_type": "markdown",
      "metadata": {},
      "source": [
        "\u4e00\u4e2a\u5b57\u5178\u5c31\u662f\u4e00\u4e2a\u952e\u5bf9\u5e94\u4e00\u4e2a\u5355\u503c\u7684\u6620\u5c04\u3002\u5982\u679c\u4f60\u60f3\u8981\u4e00\u4e2a\u952e\u6620\u5c04\u591a\u4e2a\u503c\uff0c\u90a3\u4e48\u4f60\u5c31\u9700\u8981\u5c06\u8fd9\u591a\u4e2a\u503c\u653e\u5230\u53e6\u5916\u7684\u5bb9\u5668\u4e2d\uff0c\n\u6bd4\u5982\u5217\u8868\u6216\u8005\u96c6\u5408\u91cc\u9762\u3002\u6bd4\u5982\uff0c\u4f60\u53ef\u4ee5\u50cf\u4e0b\u9762\u8fd9\u6837\u6784\u9020\u8fd9\u6837\u7684\u5b57\u5178\uff1a"
      ]
    },
    {
      "cell_type": "code",
      "execution_count": null,
      "metadata": {},
      "outputs": [],
      "source": [
        "d\n \n=\n \n{\n\n\n \n \n \n \n'\na\n'\n \n:\n \n[\n1\n,\n \n2\n,\n \n3\n]\n,\n\n\n \n \n \n \n'\nb\n'\n \n:\n \n[\n4\n,\n \n5\n]\n\n\n}\n\n\ne\n \n=\n \n{\n\n\n \n \n \n \n'\na\n'\n \n:\n \n{\n1\n,\n \n2\n,\n \n3\n}\n,\n\n\n \n \n \n \n'\nb\n'\n \n:\n \n{\n4\n,\n \n5\n}\n\n\n}\n\n"
      ]
    },
    {
      "cell_type": "markdown",
      "metadata": {},
      "source": [
        "\u9009\u62e9\u4f7f\u7528\u5217\u8868\u8fd8\u662f\u96c6\u5408\u53d6\u51b3\u4e8e\u4f60\u7684\u5b9e\u9645\u9700\u6c42\u3002\u5982\u679c\u4f60\u60f3\u4fdd\u6301\u5143\u7d20\u7684\u63d2\u5165\u987a\u5e8f\u5c31\u5e94\u8be5\u4f7f\u7528\u5217\u8868\uff0c\n\u5982\u679c\u60f3\u53bb\u6389\u91cd\u590d\u5143\u7d20\u5c31\u4f7f\u7528\u96c6\u5408\uff08\u5e76\u4e14\u4e0d\u5173\u5fc3\u5143\u7d20\u7684\u987a\u5e8f\u95ee\u9898\uff09\u3002"
      ]
    },
    {
      "cell_type": "markdown",
      "metadata": {},
      "source": [
        "\u4f60\u53ef\u4ee5\u5f88\u65b9\u4fbf\u7684\u4f7f\u7528 collections \u6a21\u5757\u4e2d\u7684 defaultdict \u6765\u6784\u9020\u8fd9\u6837\u7684\u5b57\u5178\u3002\ndefaultdict \u7684\u4e00\u4e2a\u7279\u5f81\u662f\u5b83\u4f1a\u81ea\u52a8\u521d\u59cb\u5316\u6bcf\u4e2a key \u521a\u5f00\u59cb\u5bf9\u5e94\u7684\u503c\uff0c\u6240\u4ee5\u4f60\u53ea\u9700\u8981\u5173\u6ce8\u6dfb\u52a0\u5143\u7d20\u64cd\u4f5c\u4e86\u3002\u6bd4\u5982\uff1a"
      ]
    },
    {
      "cell_type": "code",
      "execution_count": null,
      "metadata": {},
      "outputs": [],
      "source": [
        "f\nr\no\nm\n \nc\no\nl\nl\ne\nc\nt\ni\no\nn\ns\n \ni\nm\np\no\nr\nt\n \nd\ne\nf\na\nu\nl\nt\nd\ni\nc\nt\n\n\n\n\nd\n \n=\n \nd\ne\nf\na\nu\nl\nt\nd\ni\nc\nt\n(\nl\ni\ns\nt\n)\n\n\nd\n[\n'\na\n'\n]\n.\na\np\np\ne\nn\nd\n(\n1\n)\n\n\nd\n[\n'\na\n'\n]\n.\na\np\np\ne\nn\nd\n(\n2\n)\n\n\nd\n[\n'\nb\n'\n]\n.\na\np\np\ne\nn\nd\n(\n4\n)\n\n\n\n\nd\n \n=\n \nd\ne\nf\na\nu\nl\nt\nd\ni\nc\nt\n(\ns\ne\nt\n)\n\n\nd\n[\n'\na\n'\n]\n.\na\nd\nd\n(\n1\n)\n\n\nd\n[\n'\na\n'\n]\n.\na\nd\nd\n(\n2\n)\n\n\nd\n[\n'\nb\n'\n]\n.\na\nd\nd\n(\n4\n)\n\n"
      ]
    },
    {
      "cell_type": "markdown",
      "metadata": {},
      "source": [
        "\u9700\u8981\u6ce8\u610f\u7684\u662f\uff0c defaultdict \u4f1a\u81ea\u52a8\u4e3a\u5c06\u8981\u8bbf\u95ee\u7684\u952e\uff08\u5c31\u7b97\u76ee\u524d\u5b57\u5178\u4e2d\u5e76\u4e0d\u5b58\u5728\u8fd9\u6837\u7684\u952e\uff09\u521b\u5efa\u6620\u5c04\u5b9e\u4f53\u3002\n\u5982\u679c\u4f60\u5e76\u4e0d\u9700\u8981\u8fd9\u6837\u7684\u7279\u6027\uff0c\u4f60\u53ef\u4ee5\u5728\u4e00\u4e2a\u666e\u901a\u7684\u5b57\u5178\u4e0a\u4f7f\u7528 setdefault() \u65b9\u6cd5\u6765\u4ee3\u66ff\u3002\u6bd4\u5982\uff1a"
      ]
    },
    {
      "cell_type": "code",
      "execution_count": null,
      "metadata": {},
      "outputs": [],
      "source": [
        "d\n \n=\n \n{\n}\n \n#\n \n\u4e00\n\u4e2a\n\u666e\n\u901a\n\u7684\n\u5b57\n\u5178\n\n\nd\n.\ns\ne\nt\nd\ne\nf\na\nu\nl\nt\n(\n'\na\n'\n,\n \n[\n]\n)\n.\na\np\np\ne\nn\nd\n(\n1\n)\n\n\nd\n.\ns\ne\nt\nd\ne\nf\na\nu\nl\nt\n(\n'\na\n'\n,\n \n[\n]\n)\n.\na\np\np\ne\nn\nd\n(\n2\n)\n\n\nd\n.\ns\ne\nt\nd\ne\nf\na\nu\nl\nt\n(\n'\nb\n'\n,\n \n[\n]\n)\n.\na\np\np\ne\nn\nd\n(\n4\n)\n\n"
      ]
    },
    {
      "cell_type": "markdown",
      "metadata": {},
      "source": [
        "\u4f46\u662f\u5f88\u591a\u7a0b\u5e8f\u5458\u89c9\u5f97 setdefault() \u7528\u8d77\u6765\u6709\u70b9\u522b\u626d\u3002\u56e0\u4e3a\u6bcf\u6b21\u8c03\u7528\u90fd\u5f97\u521b\u5efa\u4e00\u4e2a\u65b0\u7684\u521d\u59cb\u503c\u7684\u5b9e\u4f8b\uff08\u4f8b\u5b50\u7a0b\u5e8f\u4e2d\u7684\u7a7a\u5217\u8868 [] \uff09\u3002"
      ]
    },
    {
      "cell_type": "markdown",
      "metadata": {},
      "source": [
        "### \u8ba8\u8bba\n"
      ]
    },
    {
      "cell_type": "markdown",
      "metadata": {},
      "source": [
        "\u4e00\u822c\u6765\u8bb2\uff0c\u521b\u5efa\u4e00\u4e2a\u591a\u503c\u6620\u5c04\u5b57\u5178\u662f\u5f88\u7b80\u5355\u7684\u3002\u4f46\u662f\uff0c\u5982\u679c\u4f60\u9009\u62e9\u81ea\u5df1\u5b9e\u73b0\u7684\u8bdd\uff0c\u90a3\u4e48\u5bf9\u4e8e\u503c\u7684\u521d\u59cb\u5316\u53ef\u80fd\u4f1a\u6709\u70b9\u9ebb\u70e6\uff0c\n\u4f60\u53ef\u80fd\u4f1a\u50cf\u4e0b\u9762\u8fd9\u6837\u6765\u5b9e\u73b0\uff1a"
      ]
    },
    {
      "cell_type": "code",
      "execution_count": null,
      "metadata": {},
      "outputs": [],
      "source": [
        "d\n \n=\n \n{\n}\n\n\nf\no\nr\n \nk\ne\ny\n,\n \nv\na\nl\nu\ne\n \ni\nn\n \np\na\ni\nr\ns\n:\n\n\n \n \n \n \ni\nf\n \nk\ne\ny\n \nn\no\nt\n \ni\nn\n \nd\n:\n\n\n \n \n \n \n \n \n \n \nd\n[\nk\ne\ny\n]\n \n=\n \n[\n]\n\n\n \n \n \n \nd\n[\nk\ne\ny\n]\n.\na\np\np\ne\nn\nd\n(\nv\na\nl\nu\ne\n)\n\n"
      ]
    },
    {
      "cell_type": "markdown",
      "metadata": {},
      "source": [
        "\u5982\u679c\u4f7f\u7528 defaultdict \u7684\u8bdd\u4ee3\u7801\u5c31\u66f4\u52a0\u7b80\u6d01\u4e86\uff1a"
      ]
    },
    {
      "cell_type": "code",
      "execution_count": null,
      "metadata": {},
      "outputs": [],
      "source": [
        "d\n \n=\n \nd\ne\nf\na\nu\nl\nt\nd\ni\nc\nt\n(\nl\ni\ns\nt\n)\n\n\nf\no\nr\n \nk\ne\ny\n,\n \nv\na\nl\nu\ne\n \ni\nn\n \np\na\ni\nr\ns\n:\n\n\n \n \n \n \nd\n[\nk\ne\ny\n]\n.\na\np\np\ne\nn\nd\n(\nv\na\nl\nu\ne\n)\n\n"
      ]
    },
    {
      "cell_type": "markdown",
      "metadata": {},
      "source": [
        "\u8fd9\u4e00\u5c0f\u8282\u6240\u8ba8\u8bba\u7684\u95ee\u9898\u8ddf\u6570\u636e\u5904\u7406\u4e2d\u7684\u8bb0\u5f55\u5f52\u7c7b\u95ee\u9898\u6709\u5927\u7684\u5173\u8054\u3002\u53ef\u4ee5\u53c2\u8003 1.15 \u5c0f\u8282\u7684\u4f8b\u5b50\u3002"
      ]
    },
    {
      "cell_type": "markdown",
      "metadata": {},
      "source": [
        "## 1.7 \u5b57\u5178\u6392\u5e8f\n"
      ]
    },
    {
      "cell_type": "markdown",
      "metadata": {},
      "source": [
        "### \u95ee\u9898\n"
      ]
    },
    {
      "cell_type": "markdown",
      "metadata": {},
      "source": [
        "\u4f60\u60f3\u521b\u5efa\u4e00\u4e2a\u5b57\u5178\uff0c\u5e76\u4e14\u5728\u8fed\u4ee3\u6216\u5e8f\u5217\u5316\u8fd9\u4e2a\u5b57\u5178\u7684\u65f6\u5019\u80fd\u591f\u63a7\u5236\u5143\u7d20\u7684\u987a\u5e8f\u3002"
      ]
    },
    {
      "cell_type": "markdown",
      "metadata": {},
      "source": [
        "### \u89e3\u51b3\u65b9\u6848\n"
      ]
    },
    {
      "cell_type": "markdown",
      "metadata": {},
      "source": [
        "\u4e3a\u4e86\u80fd\u63a7\u5236\u4e00\u4e2a\u5b57\u5178\u4e2d\u5143\u7d20\u7684\u987a\u5e8f\uff0c\u4f60\u53ef\u4ee5\u4f7f\u7528 collections \u6a21\u5757\u4e2d\u7684 OrderedDict \u7c7b\u3002\n\u5728\u8fed\u4ee3\u64cd\u4f5c\u7684\u65f6\u5019\u5b83\u4f1a\u4fdd\u6301\u5143\u7d20\u88ab\u63d2\u5165\u65f6\u7684\u987a\u5e8f\uff0c\u793a\u4f8b\u5982\u4e0b\uff1a"
      ]
    },
    {
      "cell_type": "code",
      "execution_count": null,
      "metadata": {},
      "outputs": [],
      "source": [
        "f\nr\no\nm\n \nc\no\nl\nl\ne\nc\nt\ni\no\nn\ns\n \ni\nm\np\no\nr\nt\n \nO\nr\nd\ne\nr\ne\nd\nD\ni\nc\nt\n\n\n\n\nd\n \n=\n \nO\nr\nd\ne\nr\ne\nd\nD\ni\nc\nt\n(\n)\n\n\nd\n[\n'\nf\no\no\n'\n]\n \n=\n \n1\n\n\nd\n[\n'\nb\na\nr\n'\n]\n \n=\n \n2\n\n\nd\n[\n'\ns\np\na\nm\n'\n]\n \n=\n \n3\n\n\nd\n[\n'\ng\nr\no\nk\n'\n]\n \n=\n \n4\n\n\n#\n \nO\nu\nt\np\nu\nt\ns\n \n\"\nf\no\no\n \n1\n\"\n,\n \n\"\nb\na\nr\n \n2\n\"\n,\n \n\"\ns\np\na\nm\n \n3\n\"\n,\n \n\"\ng\nr\no\nk\n \n4\n\"\n\n\nf\no\nr\n \nk\ne\ny\n \ni\nn\n \nd\n:\n\n\n \n \n \n \np\nr\ni\nn\nt\n(\nk\ne\ny\n,\n \nd\n[\nk\ne\ny\n]\n)\n\n"
      ]
    },
    {
      "cell_type": "markdown",
      "metadata": {},
      "source": [
        "\u5f53\u4f60\u60f3\u8981\u6784\u5efa\u4e00\u4e2a\u5c06\u6765\u9700\u8981\u5e8f\u5217\u5316\u6216\u7f16\u7801\u6210\u5176\u4ed6\u683c\u5f0f\u7684\u6620\u5c04\u7684\u65f6\u5019\uff0c OrderedDict \u662f\u975e\u5e38\u6709\u7528\u7684\u3002\n\u6bd4\u5982\uff0c\u4f60\u60f3\u7cbe\u786e\u63a7\u5236\u4ee5 JSON \u7f16\u7801\u540e\u5b57\u6bb5\u7684\u987a\u5e8f\uff0c\u4f60\u53ef\u4ee5\u5148\u4f7f\u7528 OrderedDict \u6765\u6784\u5efa\u8fd9\u6837\u7684\u6570\u636e\uff1a"
      ]
    },
    {
      "cell_type": "code",
      "execution_count": null,
      "metadata": {},
      "outputs": [],
      "source": [
        "import json\njson.dumps(d)"
      ]
    },
    {
      "cell_type": "markdown",
      "metadata": {},
      "source": [
        "### \u8ba8\u8bba\n"
      ]
    },
    {
      "cell_type": "markdown",
      "metadata": {},
      "source": [
        "OrderedDict \u5185\u90e8\u7ef4\u62a4\u7740\u4e00\u4e2a\u6839\u636e\u952e\u63d2\u5165\u987a\u5e8f\u6392\u5e8f\u7684\u53cc\u5411\u94fe\u8868\u3002\u6bcf\u6b21\u5f53\u4e00\u4e2a\u65b0\u7684\u5143\u7d20\u63d2\u5165\u8fdb\u6765\u7684\u65f6\u5019\uff0c\n\u5b83\u4f1a\u88ab\u653e\u5230\u94fe\u8868\u7684\u5c3e\u90e8\u3002\u5bf9\u4e8e\u4e00\u4e2a\u5df2\u7ecf\u5b58\u5728\u7684\u952e\u7684\u91cd\u590d\u8d4b\u503c\u4e0d\u4f1a\u6539\u53d8\u952e\u7684\u987a\u5e8f\u3002"
      ]
    },
    {
      "cell_type": "markdown",
      "metadata": {},
      "source": [
        "\u9700\u8981\u6ce8\u610f\u7684\u662f\uff0c\u4e00\u4e2a OrderedDict \u7684\u5927\u5c0f\u662f\u4e00\u4e2a\u666e\u901a\u5b57\u5178\u7684\u4e24\u500d\uff0c\u56e0\u4e3a\u5b83\u5185\u90e8\u7ef4\u62a4\u7740\u53e6\u5916\u4e00\u4e2a\u94fe\u8868\u3002\n\u6240\u4ee5\u5982\u679c\u4f60\u8981\u6784\u5efa\u4e00\u4e2a\u9700\u8981\u5927\u91cf OrderedDict \u5b9e\u4f8b\u7684\u6570\u636e\u7ed3\u6784\u7684\u65f6\u5019\uff08\u6bd4\u5982\u8bfb\u53d6 100,000 \u884c CSV \u6570\u636e\u5230\u4e00\u4e2a OrderedDict \u5217\u8868\u4e2d\u53bb\uff09\uff0c\n\u90a3\u4e48\u4f60\u5c31\u5f97\u4ed4\u7ec6\u6743\u8861\u4e00\u4e0b\u662f\u5426\u4f7f\u7528 OrderedDict \u5e26\u6765\u7684\u597d\u5904\u8981\u5927\u8fc7\u989d\u5916\u5185\u5b58\u6d88\u8017\u7684\u5f71\u54cd\u3002"
      ]
    },
    {
      "cell_type": "markdown",
      "metadata": {},
      "source": [
        "## 1.8 \u5b57\u5178\u7684\u8fd0\u7b97\n"
      ]
    },
    {
      "cell_type": "markdown",
      "metadata": {},
      "source": [
        "### \u95ee\u9898\n"
      ]
    },
    {
      "cell_type": "markdown",
      "metadata": {},
      "source": [
        "\u600e\u6837\u5728\u6570\u636e\u5b57\u5178\u4e2d\u6267\u884c\u4e00\u4e9b\u8ba1\u7b97\u64cd\u4f5c\uff08\u6bd4\u5982\u6c42\u6700\u5c0f\u503c\u3001\u6700\u5927\u503c\u3001\u6392\u5e8f\u7b49\u7b49\uff09\uff1f"
      ]
    },
    {
      "cell_type": "markdown",
      "metadata": {},
      "source": [
        "### \u89e3\u51b3\u65b9\u6848\n"
      ]
    },
    {
      "cell_type": "markdown",
      "metadata": {},
      "source": [
        "\u8003\u8651\u4e0b\u9762\u7684\u80a1\u7968\u540d\u548c\u4ef7\u683c\u6620\u5c04\u5b57\u5178\uff1a"
      ]
    },
    {
      "cell_type": "code",
      "execution_count": null,
      "metadata": {},
      "outputs": [],
      "source": [
        "p\nr\ni\nc\ne\ns\n \n=\n \n{\n\n\n \n \n \n \n'\nA\nC\nM\nE\n'\n:\n \n4\n5\n.\n2\n3\n,\n\n\n \n \n \n \n'\nA\nA\nP\nL\n'\n:\n \n6\n1\n2\n.\n7\n8\n,\n\n\n \n \n \n \n'\nI\nB\nM\n'\n:\n \n2\n0\n5\n.\n5\n5\n,\n\n\n \n \n \n \n'\nH\nP\nQ\n'\n:\n \n3\n7\n.\n2\n0\n,\n\n\n \n \n \n \n'\nF\nB\n'\n:\n \n1\n0\n.\n7\n5\n\n\n}\n\n"
      ]
    },
    {
      "cell_type": "markdown",
      "metadata": {},
      "source": [
        "\u4e3a\u4e86\u5bf9\u5b57\u5178\u503c\u6267\u884c\u8ba1\u7b97\u64cd\u4f5c\uff0c\u901a\u5e38\u9700\u8981\u4f7f\u7528 zip() \u51fd\u6570\u5148\u5c06\u952e\u548c\u503c\u53cd\u8f6c\u8fc7\u6765\u3002\n\u6bd4\u5982\uff0c\u4e0b\u9762\u662f\u67e5\u627e\u6700\u5c0f\u548c\u6700\u5927\u80a1\u7968\u4ef7\u683c\u548c\u80a1\u7968\u503c\u7684\u4ee3\u7801\uff1a"
      ]
    },
    {
      "cell_type": "code",
      "execution_count": null,
      "metadata": {},
      "outputs": [],
      "source": [
        "m\ni\nn\n_\np\nr\ni\nc\ne\n \n=\n \nm\ni\nn\n(\nz\ni\np\n(\np\nr\ni\nc\ne\ns\n.\nv\na\nl\nu\ne\ns\n(\n)\n,\n \np\nr\ni\nc\ne\ns\n.\nk\ne\ny\ns\n(\n)\n)\n)\n\n\n#\n \nm\ni\nn\n_\np\nr\ni\nc\ne\n \ni\ns\n \n(\n1\n0\n.\n7\n5\n,\n \n'\nF\nB\n'\n)\n\n\nm\na\nx\n_\np\nr\ni\nc\ne\n \n=\n \nm\na\nx\n(\nz\ni\np\n(\np\nr\ni\nc\ne\ns\n.\nv\na\nl\nu\ne\ns\n(\n)\n,\n \np\nr\ni\nc\ne\ns\n.\nk\ne\ny\ns\n(\n)\n)\n)\n\n\n#\n \nm\na\nx\n_\np\nr\ni\nc\ne\n \ni\ns\n \n(\n6\n1\n2\n.\n7\n8\n,\n \n'\nA\nA\nP\nL\n'\n)\n\n"
      ]
    },
    {
      "cell_type": "markdown",
      "metadata": {},
      "source": [
        "\u7c7b\u4f3c\u7684\uff0c\u53ef\u4ee5\u4f7f\u7528 zip() \u548c sorted() \u51fd\u6570\u6765\u6392\u5217\u5b57\u5178\u6570\u636e\uff1a"
      ]
    },
    {
      "cell_type": "code",
      "execution_count": null,
      "metadata": {},
      "outputs": [],
      "source": [
        "p\nr\ni\nc\ne\ns\n_\ns\no\nr\nt\ne\nd\n \n=\n \ns\no\nr\nt\ne\nd\n(\nz\ni\np\n(\np\nr\ni\nc\ne\ns\n.\nv\na\nl\nu\ne\ns\n(\n)\n,\n \np\nr\ni\nc\ne\ns\n.\nk\ne\ny\ns\n(\n)\n)\n)\n\n\n#\n \np\nr\ni\nc\ne\ns\n_\ns\no\nr\nt\ne\nd\n \ni\ns\n \n[\n(\n1\n0\n.\n7\n5\n,\n \n'\nF\nB\n'\n)\n,\n \n(\n3\n7\n.\n2\n,\n \n'\nH\nP\nQ\n'\n)\n,\n\n\n#\n \n \n \n \n \n \n \n \n \n \n \n \n \n \n \n \n \n \n \n(\n4\n5\n.\n2\n3\n,\n \n'\nA\nC\nM\nE\n'\n)\n,\n \n(\n2\n0\n5\n.\n5\n5\n,\n \n'\nI\nB\nM\n'\n)\n,\n\n\n#\n \n \n \n \n \n \n \n \n \n \n \n \n \n \n \n \n \n \n \n(\n6\n1\n2\n.\n7\n8\n,\n \n'\nA\nA\nP\nL\n'\n)\n]\n\n"
      ]
    },
    {
      "cell_type": "markdown",
      "metadata": {},
      "source": [
        "\u6267\u884c\u8fd9\u4e9b\u8ba1\u7b97\u7684\u65f6\u5019\uff0c\u9700\u8981\u6ce8\u610f\u7684\u662f zip() \u51fd\u6570\u521b\u5efa\u7684\u662f\u4e00\u4e2a\u53ea\u80fd\u8bbf\u95ee\u4e00\u6b21\u7684\u8fed\u4ee3\u5668\u3002\n\u6bd4\u5982\uff0c\u4e0b\u9762\u7684\u4ee3\u7801\u5c31\u4f1a\u4ea7\u751f\u9519\u8bef\uff1a"
      ]
    },
    {
      "cell_type": "code",
      "execution_count": null,
      "metadata": {},
      "outputs": [],
      "source": [
        "p\nr\ni\nc\ne\ns\n_\na\nn\nd\n_\nn\na\nm\ne\ns\n \n=\n \nz\ni\np\n(\np\nr\ni\nc\ne\ns\n.\nv\na\nl\nu\ne\ns\n(\n)\n,\n \np\nr\ni\nc\ne\ns\n.\nk\ne\ny\ns\n(\n)\n)\n\n\np\nr\ni\nn\nt\n(\nm\ni\nn\n(\np\nr\ni\nc\ne\ns\n_\na\nn\nd\n_\nn\na\nm\ne\ns\n)\n)\n \n#\n \nO\nK\n\n\np\nr\ni\nn\nt\n(\nm\na\nx\n(\np\nr\ni\nc\ne\ns\n_\na\nn\nd\n_\nn\na\nm\ne\ns\n)\n)\n \n#\n \nV\na\nl\nu\ne\nE\nr\nr\no\nr\n:\n \nm\na\nx\n(\n)\n \na\nr\ng\n \ni\ns\n \na\nn\n \ne\nm\np\nt\ny\n \ns\ne\nq\nu\ne\nn\nc\ne\n\n"
      ]
    },
    {
      "cell_type": "markdown",
      "metadata": {},
      "source": [
        "### \u8ba8\u8bba\n"
      ]
    },
    {
      "cell_type": "markdown",
      "metadata": {},
      "source": [
        "\u5982\u679c\u4f60\u5728\u4e00\u4e2a\u5b57\u5178\u4e0a\u6267\u884c\u666e\u901a\u7684\u6570\u5b66\u8fd0\u7b97\uff0c\u4f60\u4f1a\u53d1\u73b0\u5b83\u4eec\u4ec5\u4ec5\u4f5c\u7528\u4e8e\u952e\uff0c\u800c\u4e0d\u662f\u503c\u3002\u6bd4\u5982\uff1a"
      ]
    },
    {
      "cell_type": "code",
      "execution_count": null,
      "metadata": {},
      "outputs": [],
      "source": [
        "m\ni\nn\n(\np\nr\ni\nc\ne\ns\n)\n \n#\n \nR\ne\nt\nu\nr\nn\ns\n \n'\nA\nA\nP\nL\n'\n\n\nm\na\nx\n(\np\nr\ni\nc\ne\ns\n)\n \n#\n \nR\ne\nt\nu\nr\nn\ns\n \n'\nI\nB\nM\n'\n\n"
      ]
    },
    {
      "cell_type": "markdown",
      "metadata": {},
      "source": [
        "\u8fd9\u4e2a\u7ed3\u679c\u5e76\u4e0d\u662f\u4f60\u60f3\u8981\u7684\uff0c\u56e0\u4e3a\u4f60\u60f3\u8981\u5728\u5b57\u5178\u7684\u503c\u96c6\u5408\u4e0a\u6267\u884c\u8fd9\u4e9b\u8ba1\u7b97\u3002\n\u6216\u8bb8\u4f60\u4f1a\u5c1d\u8bd5\u7740\u4f7f\u7528\u5b57\u5178\u7684 values() \u65b9\u6cd5\u6765\u89e3\u51b3\u8fd9\u4e2a\u95ee\u9898\uff1a"
      ]
    },
    {
      "cell_type": "code",
      "execution_count": null,
      "metadata": {},
      "outputs": [],
      "source": [
        "m\ni\nn\n(\np\nr\ni\nc\ne\ns\n.\nv\na\nl\nu\ne\ns\n(\n)\n)\n \n#\n \nR\ne\nt\nu\nr\nn\ns\n \n1\n0\n.\n7\n5\n\n\nm\na\nx\n(\np\nr\ni\nc\ne\ns\n.\nv\na\nl\nu\ne\ns\n(\n)\n)\n \n#\n \nR\ne\nt\nu\nr\nn\ns\n \n6\n1\n2\n.\n7\n8\n\n"
      ]
    },
    {
      "cell_type": "markdown",
      "metadata": {},
      "source": [
        "\u4e0d\u5e78\u7684\u662f\uff0c\u901a\u5e38\u8fd9\u4e2a\u7ed3\u679c\u540c\u6837\u4e5f\u4e0d\u662f\u4f60\u60f3\u8981\u7684\u3002\n\u4f60\u53ef\u80fd\u8fd8\u60f3\u8981\u77e5\u9053\u5bf9\u5e94\u7684\u952e\u7684\u4fe1\u606f\uff08\u6bd4\u5982\u90a3\u79cd\u80a1\u7968\u4ef7\u683c\u662f\u6700\u4f4e\u7684\uff1f\uff09\u3002"
      ]
    },
    {
      "cell_type": "markdown",
      "metadata": {},
      "source": [
        "\u4f60\u53ef\u4ee5\u5728 min() \u548c max() \u51fd\u6570\u4e2d\u63d0\u4f9b key \u51fd\u6570\u53c2\u6570\u6765\u83b7\u53d6\u6700\u5c0f\u503c\u6216\u6700\u5927\u503c\u5bf9\u5e94\u7684\u952e\u7684\u4fe1\u606f\u3002\u6bd4\u5982\uff1a"
      ]
    },
    {
      "cell_type": "code",
      "execution_count": null,
      "metadata": {},
      "outputs": [],
      "source": [
        "m\ni\nn\n(\np\nr\ni\nc\ne\ns\n,\n \nk\ne\ny\n=\nl\na\nm\nb\nd\na\n \nk\n:\n \np\nr\ni\nc\ne\ns\n[\nk\n]\n)\n \n#\n \nR\ne\nt\nu\nr\nn\ns\n \n'\nF\nB\n'\n\n\nm\na\nx\n(\np\nr\ni\nc\ne\ns\n,\n \nk\ne\ny\n=\nl\na\nm\nb\nd\na\n \nk\n:\n \np\nr\ni\nc\ne\ns\n[\nk\n]\n)\n \n#\n \nR\ne\nt\nu\nr\nn\ns\n \n'\nA\nA\nP\nL\n'\n\n"
      ]
    },
    {
      "cell_type": "markdown",
      "metadata": {},
      "source": [
        "\u4f46\u662f\uff0c\u5982\u679c\u8fd8\u60f3\u8981\u5f97\u5230\u6700\u5c0f\u503c\uff0c\u4f60\u53c8\u5f97\u6267\u884c\u4e00\u6b21\u67e5\u627e\u64cd\u4f5c\u3002\u6bd4\u5982\uff1a"
      ]
    },
    {
      "cell_type": "code",
      "execution_count": null,
      "metadata": {},
      "outputs": [],
      "source": [
        "m\ni\nn\n_\nv\na\nl\nu\ne\n \n=\n \np\nr\ni\nc\ne\ns\n[\nm\ni\nn\n(\np\nr\ni\nc\ne\ns\n,\n \nk\ne\ny\n=\nl\na\nm\nb\nd\na\n \nk\n:\n \np\nr\ni\nc\ne\ns\n[\nk\n]\n)\n]\n\n"
      ]
    },
    {
      "cell_type": "markdown",
      "metadata": {},
      "source": [
        "\u524d\u9762\u7684 zip() \u51fd\u6570\u65b9\u6848\u901a\u8fc7\u5c06\u5b57\u5178\u201d\u53cd\u8f6c\u201d\u4e3a (\u503c\uff0c\u952e) \u5143\u7ec4\u5e8f\u5217\u6765\u89e3\u51b3\u4e86\u4e0a\u8ff0\u95ee\u9898\u3002\n\u5f53\u6bd4\u8f83\u4e24\u4e2a\u5143\u7ec4\u7684\u65f6\u5019\uff0c\u503c\u4f1a\u5148\u8fdb\u884c\u6bd4\u8f83\uff0c\u7136\u540e\u624d\u662f\u952e\u3002\n\u8fd9\u6837\u7684\u8bdd\u4f60\u5c31\u80fd\u901a\u8fc7\u4e00\u6761\u7b80\u5355\u7684\u8bed\u53e5\u5c31\u80fd\u5f88\u8f7b\u677e\u7684\u5b9e\u73b0\u5728\u5b57\u5178\u4e0a\u7684\u6c42\u6700\u503c\u548c\u6392\u5e8f\u64cd\u4f5c\u4e86\u3002"
      ]
    },
    {
      "cell_type": "markdown",
      "metadata": {},
      "source": [
        "\u9700\u8981\u6ce8\u610f\u7684\u662f\u5728\u8ba1\u7b97\u64cd\u4f5c\u4e2d\u4f7f\u7528\u5230\u4e86 (\u503c\uff0c\u952e) \u5bf9\u3002\u5f53\u591a\u4e2a\u5b9e\u4f53\u62e5\u6709\u76f8\u540c\u7684\u503c\u7684\u65f6\u5019\uff0c\u952e\u4f1a\u51b3\u5b9a\u8fd4\u56de\u7ed3\u679c\u3002\n\u6bd4\u5982\uff0c\u5728\u6267\u884c min() \u548c max() \u64cd\u4f5c\u7684\u65f6\u5019\uff0c\u5982\u679c\u6070\u5de7\u6700\u5c0f\u6216\u6700\u5927\u503c\u6709\u91cd\u590d\u7684\uff0c\u90a3\u4e48\u62e5\u6709\u6700\u5c0f\u6216\u6700\u5927\u952e\u7684\u5b9e\u4f53\u4f1a\u8fd4\u56de\uff1a"
      ]
    },
    {
      "cell_type": "code",
      "execution_count": null,
      "metadata": {},
      "outputs": [],
      "source": [
        "prices = { 'AAA' : 45.23, 'ZZZ': 45.23 }\nmin(zip(prices.values(), prices.keys()))"
      ]
    },
    {
      "cell_type": "code",
      "execution_count": null,
      "metadata": {},
      "outputs": [],
      "source": [
        "max(zip(prices.values(), prices.keys()))"
      ]
    },
    {
      "cell_type": "markdown",
      "metadata": {},
      "source": [
        "## 1.9 \u67e5\u627e\u4e24\u5b57\u5178\u7684\u76f8\u540c\u70b9\n"
      ]
    },
    {
      "cell_type": "markdown",
      "metadata": {},
      "source": [
        "### \u95ee\u9898\n"
      ]
    },
    {
      "cell_type": "markdown",
      "metadata": {},
      "source": [
        "\u600e\u6837\u5728\u4e24\u4e2a\u5b57\u5178\u4e2d\u5bfb\u5bfb\u627e\u76f8\u540c\u70b9\uff08\u6bd4\u5982\u76f8\u540c\u7684\u952e\u3001\u76f8\u540c\u7684\u503c\u7b49\u7b49\uff09\uff1f"
      ]
    },
    {
      "cell_type": "markdown",
      "metadata": {},
      "source": [
        "### \u89e3\u51b3\u65b9\u6848\n"
      ]
    },
    {
      "cell_type": "markdown",
      "metadata": {},
      "source": [
        "\u8003\u8651\u4e0b\u9762\u4e24\u4e2a\u5b57\u5178\uff1a"
      ]
    },
    {
      "cell_type": "code",
      "execution_count": null,
      "metadata": {},
      "outputs": [],
      "source": [
        "a\n \n=\n \n{\n\n\n \n \n \n \n'\nx\n'\n \n:\n \n1\n,\n\n\n \n \n \n \n'\ny\n'\n \n:\n \n2\n,\n\n\n \n \n \n \n'\nz\n'\n \n:\n \n3\n\n\n}\n\n\n\n\nb\n \n=\n \n{\n\n\n \n \n \n \n'\nw\n'\n \n:\n \n1\n0\n,\n\n\n \n \n \n \n'\nx\n'\n \n:\n \n1\n1\n,\n\n\n \n \n \n \n'\ny\n'\n \n:\n \n2\n\n\n}\n\n"
      ]
    },
    {
      "cell_type": "markdown",
      "metadata": {},
      "source": [
        "\u4e3a\u4e86\u5bfb\u627e\u4e24\u4e2a\u5b57\u5178\u7684\u76f8\u540c\u70b9\uff0c\u53ef\u4ee5\u7b80\u5355\u7684\u5728\u4e24\u5b57\u5178\u7684 keys() \u6216\u8005 items() \u65b9\u6cd5\u8fd4\u56de\u7ed3\u679c\u4e0a\u6267\u884c\u96c6\u5408\u64cd\u4f5c\u3002\u6bd4\u5982\uff1a"
      ]
    },
    {
      "cell_type": "code",
      "execution_count": null,
      "metadata": {},
      "outputs": [],
      "source": [
        "#\n \nF\ni\nn\nd\n \nk\ne\ny\ns\n \ni\nn\n \nc\no\nm\nm\no\nn\n\n\na\n.\nk\ne\ny\ns\n(\n)\n \n&\n \nb\n.\nk\ne\ny\ns\n(\n)\n \n#\n \n{\n \n'\nx\n'\n,\n \n'\ny\n'\n \n}\n\n\n#\n \nF\ni\nn\nd\n \nk\ne\ny\ns\n \ni\nn\n \na\n \nt\nh\na\nt\n \na\nr\ne\n \nn\no\nt\n \ni\nn\n \nb\n\n\na\n.\nk\ne\ny\ns\n(\n)\n \n-\n \nb\n.\nk\ne\ny\ns\n(\n)\n \n#\n \n{\n \n'\nz\n'\n \n}\n\n\n#\n \nF\ni\nn\nd\n \n(\nk\ne\ny\n,\nv\na\nl\nu\ne\n)\n \np\na\ni\nr\ns\n \ni\nn\n \nc\no\nm\nm\no\nn\n\n\na\n.\ni\nt\ne\nm\ns\n(\n)\n \n&\n \nb\n.\ni\nt\ne\nm\ns\n(\n)\n \n#\n \n{\n \n(\n'\ny\n'\n,\n \n2\n)\n \n}\n\n"
      ]
    },
    {
      "cell_type": "markdown",
      "metadata": {},
      "source": [
        "\u8fd9\u4e9b\u64cd\u4f5c\u4e5f\u53ef\u4ee5\u7528\u4e8e\u4fee\u6539\u6216\u8005\u8fc7\u6ee4\u5b57\u5178\u5143\u7d20\u3002\n\u6bd4\u5982\uff0c\u5047\u5982\u4f60\u60f3\u4ee5\u73b0\u6709\u5b57\u5178\u6784\u9020\u4e00\u4e2a\u6392\u9664\u51e0\u4e2a\u6307\u5b9a\u952e\u7684\u65b0\u5b57\u5178\u3002\n\u4e0b\u9762\u5229\u7528\u5b57\u5178\u63a8\u5bfc\u6765\u5b9e\u73b0\u8fd9\u6837\u7684\u9700\u6c42\uff1a"
      ]
    },
    {
      "cell_type": "code",
      "execution_count": null,
      "metadata": {},
      "outputs": [],
      "source": [
        "#\n \nM\na\nk\ne\n \na\n \nn\ne\nw\n \nd\ni\nc\nt\ni\no\nn\na\nr\ny\n \nw\ni\nt\nh\n \nc\ne\nr\nt\na\ni\nn\n \nk\ne\ny\ns\n \nr\ne\nm\no\nv\ne\nd\n\n\nc\n \n=\n \n{\nk\ne\ny\n:\na\n[\nk\ne\ny\n]\n \nf\no\nr\n \nk\ne\ny\n \ni\nn\n \na\n.\nk\ne\ny\ns\n(\n)\n \n-\n \n{\n'\nz\n'\n,\n \n'\nw\n'\n}\n}\n\n\n#\n \nc\n \ni\ns\n \n{\n'\nx\n'\n:\n \n1\n,\n \n'\ny\n'\n:\n \n2\n}\n\n"
      ]
    },
    {
      "cell_type": "markdown",
      "metadata": {},
      "source": [
        "### \u8ba8\u8bba\n"
      ]
    },
    {
      "cell_type": "markdown",
      "metadata": {},
      "source": [
        "\u4e00\u4e2a\u5b57\u5178\u5c31\u662f\u4e00\u4e2a\u952e\u96c6\u5408\u4e0e\u503c\u96c6\u5408\u7684\u6620\u5c04\u5173\u7cfb\u3002\n\u5b57\u5178\u7684 keys() \u65b9\u6cd5\u8fd4\u56de\u4e00\u4e2a\u5c55\u73b0\u952e\u96c6\u5408\u7684\u952e\u89c6\u56fe\u5bf9\u8c61\u3002\n\u952e\u89c6\u56fe\u7684\u4e00\u4e2a\u5f88\u5c11\u88ab\u4e86\u89e3\u7684\u7279\u6027\u5c31\u662f\u5b83\u4eec\u4e5f\u652f\u6301\u96c6\u5408\u64cd\u4f5c\uff0c\u6bd4\u5982\u96c6\u5408\u5e76\u3001\u4ea4\u3001\u5dee\u8fd0\u7b97\u3002\n\u6240\u4ee5\uff0c\u5982\u679c\u4f60\u60f3\u5bf9\u96c6\u5408\u7684\u952e\u6267\u884c\u4e00\u4e9b\u666e\u901a\u7684\u96c6\u5408\u64cd\u4f5c\uff0c\u53ef\u4ee5\u76f4\u63a5\u4f7f\u7528\u952e\u89c6\u56fe\u5bf9\u8c61\u800c\u4e0d\u7528\u5148\u5c06\u5b83\u4eec\u8f6c\u6362\u6210\u4e00\u4e2a set\u3002"
      ]
    },
    {
      "cell_type": "markdown",
      "metadata": {},
      "source": [
        "\u5b57\u5178\u7684 items() \u65b9\u6cd5\u8fd4\u56de\u4e00\u4e2a\u5305\u542b (\u952e\uff0c\u503c) \u5bf9\u7684\u5143\u7d20\u89c6\u56fe\u5bf9\u8c61\u3002\n\u8fd9\u4e2a\u5bf9\u8c61\u540c\u6837\u4e5f\u652f\u6301\u96c6\u5408\u64cd\u4f5c\uff0c\u5e76\u4e14\u53ef\u4ee5\u88ab\u7528\u6765\u67e5\u627e\u4e24\u4e2a\u5b57\u5178\u6709\u54ea\u4e9b\u76f8\u540c\u7684\u952e\u503c\u5bf9\u3002"
      ]
    },
    {
      "cell_type": "markdown",
      "metadata": {},
      "source": [
        "\u5c3d\u7ba1\u5b57\u5178\u7684 values() \u65b9\u6cd5\u4e5f\u662f\u7c7b\u4f3c\uff0c\u4f46\u662f\u5b83\u5e76\u4e0d\u652f\u6301\u8fd9\u91cc\u4ecb\u7ecd\u7684\u96c6\u5408\u64cd\u4f5c\u3002\n\u67d0\u79cd\u7a0b\u5ea6\u4e0a\u662f\u56e0\u4e3a\u503c\u89c6\u56fe\u4e0d\u80fd\u4fdd\u8bc1\u6240\u6709\u7684\u503c\u4e92\u4e0d\u76f8\u540c\uff0c\u8fd9\u6837\u4f1a\u5bfc\u81f4\u67d0\u4e9b\u96c6\u5408\u64cd\u4f5c\u4f1a\u51fa\u73b0\u95ee\u9898\u3002\n\u4e0d\u8fc7\uff0c\u5982\u679c\u4f60\u786c\u8981\u5728\u503c\u4e0a\u9762\u6267\u884c\u8fd9\u4e9b\u96c6\u5408\u64cd\u4f5c\u7684\u8bdd\uff0c\u4f60\u53ef\u4ee5\u5148\u5c06\u503c\u96c6\u5408\u8f6c\u6362\u6210 set\uff0c\u7136\u540e\u518d\u6267\u884c\u96c6\u5408\u8fd0\u7b97\u5c31\u884c\u4e86\u3002"
      ]
    },
    {
      "cell_type": "markdown",
      "metadata": {},
      "source": [
        "## 1.10 \u5220\u9664\u5e8f\u5217\u76f8\u540c\u5143\u7d20\u5e76\u4fdd\u6301\u987a\u5e8f\n"
      ]
    },
    {
      "cell_type": "markdown",
      "metadata": {},
      "source": [
        "### \u95ee\u9898\n"
      ]
    },
    {
      "cell_type": "markdown",
      "metadata": {},
      "source": [
        "\u600e\u6837\u5728\u4e00\u4e2a\u5e8f\u5217\u4e0a\u9762\u4fdd\u6301\u5143\u7d20\u987a\u5e8f\u7684\u540c\u65f6\u6d88\u9664\u91cd\u590d\u7684\u503c\uff1f"
      ]
    },
    {
      "cell_type": "markdown",
      "metadata": {},
      "source": [
        "### \u89e3\u51b3\u65b9\u6848\n"
      ]
    },
    {
      "cell_type": "markdown",
      "metadata": {},
      "source": [
        "\u5982\u679c\u5e8f\u5217\u4e0a\u7684\u503c\u90fd\u662f hashable \u7c7b\u578b\uff0c\u90a3\u4e48\u53ef\u4ee5\u5f88\u7b80\u5355\u7684\u5229\u7528\u96c6\u5408\u6216\u8005\u751f\u6210\u5668\u6765\u89e3\u51b3\u8fd9\u4e2a\u95ee\u9898\u3002\u6bd4\u5982\uff1a"
      ]
    },
    {
      "cell_type": "code",
      "execution_count": null,
      "metadata": {},
      "outputs": [],
      "source": [
        "d\ne\nf\n \nd\ne\nd\nu\np\ne\n(\ni\nt\ne\nm\ns\n)\n:\n\n\n \n \n \n \ns\ne\ne\nn\n \n=\n \ns\ne\nt\n(\n)\n\n\n \n \n \n \nf\no\nr\n \ni\nt\ne\nm\n \ni\nn\n \ni\nt\ne\nm\ns\n:\n\n\n \n \n \n \n \n \n \n \ni\nf\n \ni\nt\ne\nm\n \nn\no\nt\n \ni\nn\n \ns\ne\ne\nn\n:\n\n\n \n \n \n \n \n \n \n \n \n \n \n \ny\ni\ne\nl\nd\n \ni\nt\ne\nm\n\n\n \n \n \n \n \n \n \n \n \n \n \n \ns\ne\ne\nn\n.\na\nd\nd\n(\ni\nt\ne\nm\n)\n\n"
      ]
    },
    {
      "cell_type": "markdown",
      "metadata": {},
      "source": [
        "\u4e0b\u9762\u662f\u4f7f\u7528\u4e0a\u8ff0\u51fd\u6570\u7684\u4f8b\u5b50\uff1a"
      ]
    },
    {
      "cell_type": "code",
      "execution_count": null,
      "metadata": {},
      "outputs": [],
      "source": [
        "a = [1, 5, 2, 1, 9, 1, 5, 10]\nlist(dedupe(a))"
      ]
    },
    {
      "cell_type": "markdown",
      "metadata": {},
      "source": [
        "\u8fd9\u4e2a\u65b9\u6cd5\u4ec5\u4ec5\u5728\u5e8f\u5217\u4e2d\u5143\u7d20\u4e3a hashable \u7684\u65f6\u5019\u624d\u7ba1\u7528\u3002\n\u5982\u679c\u4f60\u60f3\u6d88\u9664\u5143\u7d20\u4e0d\u53ef\u54c8\u5e0c\uff08\u6bd4\u5982 dict \u7c7b\u578b\uff09\u7684\u5e8f\u5217\u4e2d\u91cd\u590d\u5143\u7d20\u7684\u8bdd\uff0c\u4f60\u9700\u8981\u5c06\u4e0a\u8ff0\u4ee3\u7801\u7a0d\u5fae\u6539\u53d8\u4e00\u4e0b\uff0c\u5c31\u50cf\u8fd9\u6837\uff1a"
      ]
    },
    {
      "cell_type": "code",
      "execution_count": null,
      "metadata": {},
      "outputs": [],
      "source": [
        "d\ne\nf\n \nd\ne\nd\nu\np\ne\n(\ni\nt\ne\nm\ns\n,\n \nk\ne\ny\n=\nN\no\nn\ne\n)\n:\n\n\n \n \n \n \ns\ne\ne\nn\n \n=\n \ns\ne\nt\n(\n)\n\n\n \n \n \n \nf\no\nr\n \ni\nt\ne\nm\n \ni\nn\n \ni\nt\ne\nm\ns\n:\n\n\n \n \n \n \n \n \n \n \nv\na\nl\n \n=\n \ni\nt\ne\nm\n \ni\nf\n \nk\ne\ny\n \ni\ns\n \nN\no\nn\ne\n \ne\nl\ns\ne\n \nk\ne\ny\n(\ni\nt\ne\nm\n)\n\n\n \n \n \n \n \n \n \n \ni\nf\n \nv\na\nl\n \nn\no\nt\n \ni\nn\n \ns\ne\ne\nn\n:\n\n\n \n \n \n \n \n \n \n \n \n \n \n \ny\ni\ne\nl\nd\n \ni\nt\ne\nm\n\n\n \n \n \n \n \n \n \n \n \n \n \n \ns\ne\ne\nn\n.\na\nd\nd\n(\nv\na\nl\n)\n\n"
      ]
    },
    {
      "cell_type": "markdown",
      "metadata": {},
      "source": [
        "\u8fd9\u91cc\u7684key\u53c2\u6570\u6307\u5b9a\u4e86\u4e00\u4e2a\u51fd\u6570\uff0c\u5c06\u5e8f\u5217\u5143\u7d20\u8f6c\u6362\u6210 hashable \u7c7b\u578b\u3002\u4e0b\u9762\u662f\u5b83\u7684\u7528\u6cd5\u793a\u4f8b\uff1a"
      ]
    },
    {
      "cell_type": "code",
      "execution_count": null,
      "metadata": {},
      "outputs": [],
      "source": [
        "a = [ {'x':1, 'y':2}, {'x':1, 'y':3}, {'x':1, 'y':2}, {'x':2, 'y':4}]\nlist(dedupe(a, key=lambda d: (d['x'],d['y'])))"
      ]
    },
    {
      "cell_type": "code",
      "execution_count": null,
      "metadata": {},
      "outputs": [],
      "source": [
        "list(dedupe(a, key=lambda d: d['x']))"
      ]
    },
    {
      "cell_type": "markdown",
      "metadata": {},
      "source": [
        "\u5982\u679c\u4f60\u60f3\u57fa\u4e8e\u5355\u4e2a\u5b57\u6bb5\u3001\u5c5e\u6027\u6216\u8005\u67d0\u4e2a\u66f4\u5927\u7684\u6570\u636e\u7ed3\u6784\u6765\u6d88\u9664\u91cd\u590d\u5143\u7d20\uff0c\u7b2c\u4e8c\u79cd\u65b9\u6848\u540c\u6837\u53ef\u4ee5\u80dc\u4efb\u3002"
      ]
    },
    {
      "cell_type": "markdown",
      "metadata": {},
      "source": [
        "### \u8ba8\u8bba\n"
      ]
    },
    {
      "cell_type": "markdown",
      "metadata": {},
      "source": [
        "\u5982\u679c\u4f60\u4ec5\u4ec5\u5c31\u662f\u60f3\u6d88\u9664\u91cd\u590d\u5143\u7d20\uff0c\u901a\u5e38\u53ef\u4ee5\u7b80\u5355\u7684\u6784\u9020\u4e00\u4e2a\u96c6\u5408\u3002\u6bd4\u5982\uff1a"
      ]
    },
    {
      "cell_type": "code",
      "execution_count": null,
      "metadata": {},
      "outputs": [],
      "source": [
        "a"
      ]
    },
    {
      "cell_type": "code",
      "execution_count": null,
      "metadata": {},
      "outputs": [],
      "source": [
        "set(a)"
      ]
    },
    {
      "cell_type": "markdown",
      "metadata": {},
      "source": [
        "\u7136\u800c\uff0c\u8fd9\u79cd\u65b9\u6cd5\u4e0d\u80fd\u7ef4\u62a4\u5143\u7d20\u7684\u987a\u5e8f\uff0c\u751f\u6210\u7684\u7ed3\u679c\u4e2d\u7684\u5143\u7d20\u4f4d\u7f6e\u88ab\u6253\u4e71\u3002\u800c\u4e0a\u9762\u7684\u65b9\u6cd5\u53ef\u4ee5\u907f\u514d\u8fd9\u79cd\u60c5\u51b5\u3002"
      ]
    },
    {
      "cell_type": "markdown",
      "metadata": {},
      "source": [
        "\u5728\u672c\u8282\u4e2d\u6211\u4eec\u4f7f\u7528\u4e86\u751f\u6210\u5668\u51fd\u6570\u8ba9\u6211\u4eec\u7684\u51fd\u6570\u66f4\u52a0\u901a\u7528\uff0c\u4e0d\u4ec5\u4ec5\u662f\u5c40\u9650\u4e8e\u5217\u8868\u5904\u7406\u3002\n\u6bd4\u5982\uff0c\u5982\u679c\u5982\u679c\u4f60\u60f3\u8bfb\u53d6\u4e00\u4e2a\u6587\u4ef6\uff0c\u6d88\u9664\u91cd\u590d\u884c\uff0c\u4f60\u53ef\u4ee5\u5f88\u5bb9\u6613\u50cf\u8fd9\u6837\u505a\uff1a"
      ]
    },
    {
      "cell_type": "code",
      "execution_count": null,
      "metadata": {},
      "outputs": [],
      "source": [
        "w\ni\nt\nh\n \no\np\ne\nn\n(\ns\no\nm\ne\nf\ni\nl\ne\n,\n'\nr\n'\n)\n \na\ns\n \nf\n:\n\n\nf\no\nr\n \nl\ni\nn\ne\n \ni\nn\n \nd\ne\nd\nu\np\ne\n(\nf\n)\n:\n\n\n \n \n \n \n.\n.\n.\n\n"
      ]
    },
    {
      "cell_type": "markdown",
      "metadata": {},
      "source": [
        "\u4e0a\u8ff0key\u51fd\u6570\u53c2\u6570\u6a21\u4eff\u4e86 sorted() , min() \u548c max() \u7b49\u5185\u7f6e\u51fd\u6570\u7684\u76f8\u4f3c\u529f\u80fd\u3002\n\u53ef\u4ee5\u53c2\u8003 1.8 \u548c 1.13 \u5c0f\u8282\u4e86\u89e3\u66f4\u591a\u3002"
      ]
    },
    {
      "cell_type": "markdown",
      "metadata": {},
      "source": [
        "## 1.11 \u547d\u540d\u5207\u7247\n"
      ]
    },
    {
      "cell_type": "markdown",
      "metadata": {},
      "source": [
        "### \u95ee\u9898\n"
      ]
    },
    {
      "cell_type": "markdown",
      "metadata": {},
      "source": [
        "\u5982\u679c\u4f60\u7684\u7a0b\u5e8f\u5305\u542b\u4e86\u5927\u91cf\u65e0\u6cd5\u76f4\u89c6\u7684\u786c\u7f16\u7801\u5207\u7247\uff0c\u5e76\u4e14\u4f60\u60f3\u6e05\u7406\u4e00\u4e0b\u4ee3\u7801\u3002"
      ]
    },
    {
      "cell_type": "markdown",
      "metadata": {},
      "source": [
        "### \u89e3\u51b3\u65b9\u6848\n"
      ]
    },
    {
      "cell_type": "markdown",
      "metadata": {},
      "source": [
        "\u5047\u5b9a\u4f60\u8981\u4ece\u4e00\u4e2a\u8bb0\u5f55\uff08\u6bd4\u5982\u6587\u4ef6\u6216\u5176\u4ed6\u7c7b\u4f3c\u683c\u5f0f\uff09\u4e2d\u7684\u67d0\u4e9b\u56fa\u5b9a\u4f4d\u7f6e\u63d0\u53d6\u5b57\u6bb5\uff1a"
      ]
    },
    {
      "cell_type": "code",
      "execution_count": null,
      "metadata": {},
      "outputs": [],
      "source": [
        "#\n#\n#\n#\n#\n#\n \n \n \n \n0\n1\n2\n3\n4\n5\n6\n7\n8\n9\n0\n1\n2\n3\n4\n5\n6\n7\n8\n9\n0\n1\n2\n3\n4\n5\n6\n7\n8\n9\n0\n1\n2\n3\n4\n5\n6\n7\n8\n9\n0\n1\n2\n3\n4\n5\n6\n7\n8\n9\n0\n1\n2\n3\n4\n5\n6\n7\n8\n9\n0\n'\n\n\nr\ne\nc\no\nr\nd\n \n=\n \n'\n.\n.\n.\n.\n.\n.\n.\n.\n.\n.\n.\n.\n.\n.\n.\n.\n.\n.\n.\n.\n1\n0\n0\n \n.\n.\n.\n.\n.\n.\n.\n5\n1\n3\n.\n2\n5\n \n.\n.\n.\n.\n.\n.\n.\n.\n.\n.\n'\n\n\nc\no\ns\nt\n \n=\n \ni\nn\nt\n(\nr\ne\nc\no\nr\nd\n[\n2\n0\n:\n2\n3\n]\n)\n \n*\n \nf\nl\no\na\nt\n(\nr\ne\nc\no\nr\nd\n[\n3\n1\n:\n3\n7\n]\n)\n\n"
      ]
    },
    {
      "cell_type": "markdown",
      "metadata": {},
      "source": [
        "\u4e0e\u5176\u90a3\u6837\u5199\uff0c\u4e3a\u4ec0\u4e48\u4e0d\u60f3\u8fd9\u6837\u547d\u540d\u5207\u7247\u5462\uff1a"
      ]
    },
    {
      "cell_type": "code",
      "execution_count": null,
      "metadata": {},
      "outputs": [],
      "source": [
        "S\nH\nA\nR\nE\nS\n \n=\n \ns\nl\ni\nc\ne\n(\n2\n0\n,\n \n2\n3\n)\n\n\nP\nR\nI\nC\nE\n \n=\n \ns\nl\ni\nc\ne\n(\n3\n1\n,\n \n3\n7\n)\n\n\nc\no\ns\nt\n \n=\n \ni\nn\nt\n(\nr\ne\nc\no\nr\nd\n[\nS\nH\nA\nR\nE\nS\n]\n)\n \n*\n \nf\nl\no\na\nt\n(\nr\ne\nc\no\nr\nd\n[\nP\nR\nI\nC\nE\n]\n)\n\n"
      ]
    },
    {
      "cell_type": "markdown",
      "metadata": {},
      "source": [
        "\u5728\u8fd9\u4e2a\u7248\u672c\u4e2d\uff0c\u4f60\u907f\u514d\u4e86\u4f7f\u7528\u5927\u91cf\u96be\u4ee5\u7406\u89e3\u7684\u786c\u7f16\u7801\u4e0b\u6807\u3002\u8fd9\u4f7f\u5f97\u4f60\u7684\u4ee3\u7801\u66f4\u52a0\u6e05\u6670\u53ef\u8bfb\u3002"
      ]
    },
    {
      "cell_type": "markdown",
      "metadata": {},
      "source": [
        "### \u8ba8\u8bba\n"
      ]
    },
    {
      "cell_type": "markdown",
      "metadata": {},
      "source": [
        "\u4e00\u822c\u6765\u8bb2\uff0c\u4ee3\u7801\u4e2d\u5982\u679c\u51fa\u73b0\u5927\u91cf\u7684\u786c\u7f16\u7801\u4e0b\u6807\u4f1a\u4f7f\u5f97\u4ee3\u7801\u7684\u53ef\u8bfb\u6027\u548c\u53ef\u7ef4\u62a4\u6027\u5927\u5927\u964d\u4f4e\u3002\n\u6bd4\u5982\uff0c\u5982\u679c\u4f60\u56de\u8fc7\u6765\u770b\u770b\u4e00\u5e74\u524d\u4f60\u5199\u7684\u4ee3\u7801\uff0c\u4f60\u4f1a\u6478\u7740\u8111\u888b\u60f3\u90a3\u65f6\u5019\u81ea\u5df1\u5230\u5e95\u60f3\u5e72\u561b\u554a\u3002\n\u8fd9\u662f\u4e00\u4e2a\u5f88\u7b80\u5355\u7684\u89e3\u51b3\u65b9\u6848\uff0c\u5b83\u8ba9\u4f60\u66f4\u52a0\u6e05\u6670\u7684\u8868\u8fbe\u4ee3\u7801\u7684\u76ee\u7684\u3002"
      ]
    },
    {
      "cell_type": "markdown",
      "metadata": {},
      "source": [
        "\u5185\u7f6e\u7684 slice() \u51fd\u6570\u521b\u5efa\u4e86\u4e00\u4e2a\u5207\u7247\u5bf9\u8c61\u3002\u6240\u6709\u4f7f\u7528\u5207\u7247\u7684\u5730\u65b9\u90fd\u53ef\u4ee5\u4f7f\u7528\u5207\u7247\u5bf9\u8c61\u3002\u6bd4\u5982\uff1a"
      ]
    },
    {
      "cell_type": "code",
      "execution_count": null,
      "metadata": {},
      "outputs": [],
      "source": [
        "items = [0, 1, 2, 3, 4, 5, 6]\na = slice(2, 4)\nitems[2:4]"
      ]
    },
    {
      "cell_type": "code",
      "execution_count": null,
      "metadata": {},
      "outputs": [],
      "source": [
        "items[a]"
      ]
    },
    {
      "cell_type": "code",
      "execution_count": null,
      "metadata": {},
      "outputs": [],
      "source": [
        "items[a] = [10,11]\nitems"
      ]
    },
    {
      "cell_type": "code",
      "execution_count": null,
      "metadata": {},
      "outputs": [],
      "source": [
        "del items[a]\nitems"
      ]
    },
    {
      "cell_type": "markdown",
      "metadata": {},
      "source": [
        "\u5982\u679c\u4f60\u6709\u4e00\u4e2a\u5207\u7247\u5bf9\u8c61a\uff0c\u4f60\u53ef\u4ee5\u5206\u522b\u8c03\u7528\u5b83\u7684 a.start , a.stop , a.step \u5c5e\u6027\u6765\u83b7\u53d6\u66f4\u591a\u7684\u4fe1\u606f\u3002\u6bd4\u5982\uff1a"
      ]
    },
    {
      "cell_type": "code",
      "execution_count": null,
      "metadata": {},
      "outputs": [],
      "source": [
        "a = slice(5, 50, 2)\na.start"
      ]
    },
    {
      "cell_type": "code",
      "execution_count": null,
      "metadata": {},
      "outputs": [],
      "source": [
        "a.stop"
      ]
    },
    {
      "cell_type": "code",
      "execution_count": null,
      "metadata": {},
      "outputs": [],
      "source": [
        "a.step"
      ]
    },
    {
      "cell_type": "markdown",
      "metadata": {},
      "source": [
        "\u53e6\u5916\uff0c\u4f60\u8fd8\u53ef\u4ee5\u901a\u8fc7\u8c03\u7528\u5207\u7247\u7684 indices(size) \u65b9\u6cd5\u5c06\u5b83\u6620\u5c04\u5230\u4e00\u4e2a\u5df2\u77e5\u5927\u5c0f\u7684\u5e8f\u5217\u4e0a\u3002\n\u8fd9\u4e2a\u65b9\u6cd5\u8fd4\u56de\u4e00\u4e2a\u4e09\u5143\u7ec4 (start, stop, step) \uff0c\u6240\u6709\u7684\u503c\u90fd\u4f1a\u88ab\u7f29\u5c0f\uff0c\u76f4\u5230\u9002\u5408\u8fd9\u4e2a\u5df2\u77e5\u5e8f\u5217\u7684\u8fb9\u754c\u4e3a\u6b62\u3002\n\u8fd9\u6837\uff0c\u4f7f\u7528\u7684\u65f6\u5c31\u4e0d\u4f1a\u51fa\u73b0 IndexError \u5f02\u5e38\u3002\u6bd4\u5982\uff1a"
      ]
    },
    {
      "cell_type": "code",
      "execution_count": null,
      "metadata": {},
      "outputs": [],
      "source": [
        "s = 'HelloWorld'\na.indices(len(s))"
      ]
    },
    {
      "cell_type": "code",
      "execution_count": null,
      "metadata": {},
      "outputs": [],
      "source": [
        "for i in range(*a.indices(len(s))):\n    print(s[i])"
      ]
    },
    {
      "cell_type": "markdown",
      "metadata": {},
      "source": [
        "## 1.12 \u5e8f\u5217\u4e2d\u51fa\u73b0\u6b21\u6570\u6700\u591a\u7684\u5143\u7d20\n"
      ]
    },
    {
      "cell_type": "markdown",
      "metadata": {},
      "source": [
        "### \u95ee\u9898\n"
      ]
    },
    {
      "cell_type": "markdown",
      "metadata": {},
      "source": [
        "\u600e\u6837\u627e\u51fa\u4e00\u4e2a\u5e8f\u5217\u4e2d\u51fa\u73b0\u6b21\u6570\u6700\u591a\u7684\u5143\u7d20\u5462\uff1f"
      ]
    },
    {
      "cell_type": "markdown",
      "metadata": {},
      "source": [
        "### \u89e3\u51b3\u65b9\u6848\n"
      ]
    },
    {
      "cell_type": "markdown",
      "metadata": {},
      "source": [
        "collections.Counter \u7c7b\u5c31\u662f\u4e13\u95e8\u4e3a\u8fd9\u7c7b\u95ee\u9898\u800c\u8bbe\u8ba1\u7684\uff0c\n\u5b83\u751a\u81f3\u6709\u4e00\u4e2a\u6709\u7528\u7684 most_common() \u65b9\u6cd5\u76f4\u63a5\u7ed9\u4e86\u4f60\u7b54\u6848\u3002"
      ]
    },
    {
      "cell_type": "markdown",
      "metadata": {},
      "source": [
        "\u4e3a\u4e86\u6f14\u793a\uff0c\u5148\u5047\u8bbe\u4f60\u6709\u4e00\u4e2a\u5355\u8bcd\u5217\u8868\u5e76\u4e14\u60f3\u627e\u51fa\u54ea\u4e2a\u5355\u8bcd\u51fa\u73b0\u9891\u7387\u6700\u9ad8\u3002\u4f60\u53ef\u4ee5\u8fd9\u6837\u505a\uff1a"
      ]
    },
    {
      "cell_type": "code",
      "execution_count": null,
      "metadata": {},
      "outputs": [],
      "source": [
        "w\no\nr\nd\ns\n \n=\n \n[\n\n\n \n \n \n \n'\nl\no\no\nk\n'\n,\n \n'\ni\nn\nt\no\n'\n,\n \n'\nm\ny\n'\n,\n \n'\ne\ny\ne\ns\n'\n,\n \n'\nl\no\no\nk\n'\n,\n \n'\ni\nn\nt\no\n'\n,\n \n'\nm\ny\n'\n,\n \n'\ne\ny\ne\ns\n'\n,\n\n\n \n \n \n \n'\nt\nh\ne\n'\n,\n \n'\ne\ny\ne\ns\n'\n,\n \n'\nt\nh\ne\n'\n,\n \n'\ne\ny\ne\ns\n'\n,\n \n'\nt\nh\ne\n'\n,\n \n'\ne\ny\ne\ns\n'\n,\n \n'\nn\no\nt\n'\n,\n \n'\na\nr\no\nu\nn\nd\n'\n,\n \n'\nt\nh\ne\n'\n,\n\n\n \n \n \n \n'\ne\ny\ne\ns\n'\n,\n \n\"\nd\no\nn\n'\nt\n\"\n,\n \n'\nl\no\no\nk\n'\n,\n \n'\na\nr\no\nu\nn\nd\n'\n,\n \n'\nt\nh\ne\n'\n,\n \n'\ne\ny\ne\ns\n'\n,\n \n'\nl\no\no\nk\n'\n,\n \n'\ni\nn\nt\no\n'\n,\n\n\n \n \n \n \n'\nm\ny\n'\n,\n \n'\ne\ny\ne\ns\n'\n,\n \n\"\ny\no\nu\n'\nr\ne\n\"\n,\n \n'\nu\nn\nd\ne\nr\n'\n\n\n]\n\n\nf\nr\no\nm\n \nc\no\nl\nl\ne\nc\nt\ni\no\nn\ns\n \ni\nm\np\no\nr\nt\n \nC\no\nu\nn\nt\ne\nr\n\n\nw\no\nr\nd\n_\nc\no\nu\nn\nt\ns\n \n=\n \nC\no\nu\nn\nt\ne\nr\n(\nw\no\nr\nd\ns\n)\n\n\n#\n \n\u51fa\n\u73b0\n\u9891\n\u7387\n\u6700\n\u9ad8\n\u7684\n3\n\u4e2a\n\u5355\n\u8bcd\n\n\nt\no\np\n_\nt\nh\nr\ne\ne\n \n=\n \nw\no\nr\nd\n_\nc\no\nu\nn\nt\ns\n.\nm\no\ns\nt\n_\nc\no\nm\nm\no\nn\n(\n3\n)\n\n\np\nr\ni\nn\nt\n(\nt\no\np\n_\nt\nh\nr\ne\ne\n)\n\n\n#\n \nO\nu\nt\np\nu\nt\ns\n \n[\n(\n'\ne\ny\ne\ns\n'\n,\n \n8\n)\n,\n \n(\n'\nt\nh\ne\n'\n,\n \n5\n)\n,\n \n(\n'\nl\no\no\nk\n'\n,\n \n4\n)\n]\n\n"
      ]
    },
    {
      "cell_type": "markdown",
      "metadata": {},
      "source": [
        "### \u8ba8\u8bba\n"
      ]
    },
    {
      "cell_type": "markdown",
      "metadata": {},
      "source": [
        "\u4f5c\u4e3a\u8f93\u5165\uff0c Counter \u5bf9\u8c61\u53ef\u4ee5\u63a5\u53d7\u4efb\u610f\u7684\u7531\u53ef\u54c8\u5e0c\uff08hashable\uff09\u5143\u7d20\u6784\u6210\u7684\u5e8f\u5217\u5bf9\u8c61\u3002\n\u5728\u5e95\u5c42\u5b9e\u73b0\u4e0a\uff0c\u4e00\u4e2a Counter \u5bf9\u8c61\u5c31\u662f\u4e00\u4e2a\u5b57\u5178\uff0c\u5c06\u5143\u7d20\u6620\u5c04\u5230\u5b83\u51fa\u73b0\u7684\u6b21\u6570\u4e0a\u3002\u6bd4\u5982\uff1a"
      ]
    },
    {
      "cell_type": "code",
      "execution_count": null,
      "metadata": {},
      "outputs": [],
      "source": [
        "word_counts['not']"
      ]
    },
    {
      "cell_type": "code",
      "execution_count": null,
      "metadata": {},
      "outputs": [],
      "source": [
        "word_counts['eyes']"
      ]
    },
    {
      "cell_type": "markdown",
      "metadata": {},
      "source": [
        "\u5982\u679c\u4f60\u60f3\u624b\u52a8\u589e\u52a0\u8ba1\u6570\uff0c\u53ef\u4ee5\u7b80\u5355\u7684\u7528\u52a0\u6cd5\uff1a"
      ]
    },
    {
      "cell_type": "code",
      "execution_count": null,
      "metadata": {},
      "outputs": [],
      "source": [
        "morewords = ['why','are','you','not','looking','in','my','eyes']\nfor word in morewords:\n    word_counts[word] += 1\nword_counts['eyes']"
      ]
    },
    {
      "cell_type": "markdown",
      "metadata": {},
      "source": [
        "\u6216\u8005\u4f60\u53ef\u4ee5\u4f7f\u7528 update() \u65b9\u6cd5\uff1a"
      ]
    },
    {
      "cell_type": "code",
      "execution_count": null,
      "metadata": {},
      "outputs": [],
      "source": [
        "word_counts.update(morewords)"
      ]
    },
    {
      "cell_type": "markdown",
      "metadata": {},
      "source": [
        "Counter \u5b9e\u4f8b\u4e00\u4e2a\u9c9c\u4e3a\u4eba\u77e5\u7684\u7279\u6027\u662f\u5b83\u4eec\u53ef\u4ee5\u5f88\u5bb9\u6613\u7684\u8ddf\u6570\u5b66\u8fd0\u7b97\u64cd\u4f5c\u76f8\u7ed3\u5408\u3002\u6bd4\u5982\uff1a"
      ]
    },
    {
      "cell_type": "code",
      "execution_count": null,
      "metadata": {},
      "outputs": [],
      "source": [
        "a = Counter(words)\nb = Counter(morewords)\na"
      ]
    },
    {
      "cell_type": "code",
      "execution_count": null,
      "metadata": {},
      "outputs": [],
      "source": [
        "b"
      ]
    },
    {
      "cell_type": "code",
      "execution_count": null,
      "metadata": {},
      "outputs": [],
      "source": [
        "# Combine counts\nc = a + b\nc"
      ]
    },
    {
      "cell_type": "code",
      "execution_count": null,
      "metadata": {},
      "outputs": [],
      "source": [
        "# Subtract counts\nd = a - b\nd"
      ]
    },
    {
      "cell_type": "markdown",
      "metadata": {},
      "source": [
        "\u6beb\u65e0\u7591\u95ee\uff0c Counter \u5bf9\u8c61\u5728\u51e0\u4e4e\u6240\u6709\u9700\u8981\u5236\u8868\u6216\u8005\u8ba1\u6570\u6570\u636e\u7684\u573a\u5408\u662f\u975e\u5e38\u6709\u7528\u7684\u5de5\u5177\u3002\n\u5728\u89e3\u51b3\u8fd9\u7c7b\u95ee\u9898\u7684\u65f6\u5019\u4f60\u5e94\u8be5\u4f18\u5148\u9009\u62e9\u5b83\uff0c\u800c\u4e0d\u662f\u624b\u52a8\u7684\u5229\u7528\u5b57\u5178\u53bb\u5b9e\u73b0\u3002"
      ]
    },
    {
      "cell_type": "markdown",
      "metadata": {},
      "source": [
        "## 1.13 \u901a\u8fc7\u67d0\u4e2a\u5173\u952e\u5b57\u6392\u5e8f\u4e00\u4e2a\u5b57\u5178\u5217\u8868\n"
      ]
    },
    {
      "cell_type": "markdown",
      "metadata": {},
      "source": [
        "### \u95ee\u9898\n"
      ]
    },
    {
      "cell_type": "markdown",
      "metadata": {},
      "source": [
        "\u4f60\u6709\u4e00\u4e2a\u5b57\u5178\u5217\u8868\uff0c\u4f60\u60f3\u6839\u636e\u67d0\u4e2a\u6216\u67d0\u51e0\u4e2a\u5b57\u5178\u5b57\u6bb5\u6765\u6392\u5e8f\u8fd9\u4e2a\u5217\u8868\u3002"
      ]
    },
    {
      "cell_type": "markdown",
      "metadata": {},
      "source": [
        "### \u89e3\u51b3\u65b9\u6848\n"
      ]
    },
    {
      "cell_type": "markdown",
      "metadata": {},
      "source": [
        "\u901a\u8fc7\u4f7f\u7528 operator \u6a21\u5757\u7684 itemgetter \u51fd\u6570\uff0c\u53ef\u4ee5\u975e\u5e38\u5bb9\u6613\u7684\u6392\u5e8f\u8fd9\u6837\u7684\u6570\u636e\u7ed3\u6784\u3002\n\u5047\u8bbe\u4f60\u4ece\u6570\u636e\u5e93\u4e2d\u68c0\u7d22\u51fa\u6765\u7f51\u7ad9\u4f1a\u5458\u4fe1\u606f\u5217\u8868\uff0c\u5e76\u4e14\u4ee5\u4e0b\u5217\u7684\u6570\u636e\u7ed3\u6784\u8fd4\u56de\uff1a"
      ]
    },
    {
      "cell_type": "code",
      "execution_count": null,
      "metadata": {},
      "outputs": [],
      "source": [
        "r\no\nw\ns\n \n=\n \n[\n\n\n \n \n \n \n{\n'\nf\nn\na\nm\ne\n'\n:\n \n'\nB\nr\ni\na\nn\n'\n,\n \n'\nl\nn\na\nm\ne\n'\n:\n \n'\nJ\no\nn\ne\ns\n'\n,\n \n'\nu\ni\nd\n'\n:\n \n1\n0\n0\n3\n}\n,\n\n\n \n \n \n \n{\n'\nf\nn\na\nm\ne\n'\n:\n \n'\nD\na\nv\ni\nd\n'\n,\n \n'\nl\nn\na\nm\ne\n'\n:\n \n'\nB\ne\na\nz\nl\ne\ny\n'\n,\n \n'\nu\ni\nd\n'\n:\n \n1\n0\n0\n2\n}\n,\n\n\n \n \n \n \n{\n'\nf\nn\na\nm\ne\n'\n:\n \n'\nJ\no\nh\nn\n'\n,\n \n'\nl\nn\na\nm\ne\n'\n:\n \n'\nC\nl\ne\ne\ns\ne\n'\n,\n \n'\nu\ni\nd\n'\n:\n \n1\n0\n0\n1\n}\n,\n\n\n \n \n \n \n{\n'\nf\nn\na\nm\ne\n'\n:\n \n'\nB\ni\ng\n'\n,\n \n'\nl\nn\na\nm\ne\n'\n:\n \n'\nJ\no\nn\ne\ns\n'\n,\n \n'\nu\ni\nd\n'\n:\n \n1\n0\n0\n4\n}\n\n\n]\n\n"
      ]
    },
    {
      "cell_type": "markdown",
      "metadata": {},
      "source": [
        "\u6839\u636e\u4efb\u610f\u7684\u5b57\u5178\u5b57\u6bb5\u6765\u6392\u5e8f\u8f93\u5165\u7ed3\u679c\u884c\u662f\u5f88\u5bb9\u6613\u5b9e\u73b0\u7684\uff0c\u4ee3\u7801\u793a\u4f8b\uff1a"
      ]
    },
    {
      "cell_type": "code",
      "execution_count": null,
      "metadata": {},
      "outputs": [],
      "source": [
        "f\nr\no\nm\n \no\np\ne\nr\na\nt\no\nr\n \ni\nm\np\no\nr\nt\n \ni\nt\ne\nm\ng\ne\nt\nt\ne\nr\n\n\nr\no\nw\ns\n_\nb\ny\n_\nf\nn\na\nm\ne\n \n=\n \ns\no\nr\nt\ne\nd\n(\nr\no\nw\ns\n,\n \nk\ne\ny\n=\ni\nt\ne\nm\ng\ne\nt\nt\ne\nr\n(\n'\nf\nn\na\nm\ne\n'\n)\n)\n\n\nr\no\nw\ns\n_\nb\ny\n_\nu\ni\nd\n \n=\n \ns\no\nr\nt\ne\nd\n(\nr\no\nw\ns\n,\n \nk\ne\ny\n=\ni\nt\ne\nm\ng\ne\nt\nt\ne\nr\n(\n'\nu\ni\nd\n'\n)\n)\n\n\np\nr\ni\nn\nt\n(\nr\no\nw\ns\n_\nb\ny\n_\nf\nn\na\nm\ne\n)\n\n\np\nr\ni\nn\nt\n(\nr\no\nw\ns\n_\nb\ny\n_\nu\ni\nd\n)\n\n"
      ]
    },
    {
      "cell_type": "markdown",
      "metadata": {},
      "source": [
        "\u4ee3\u7801\u7684\u8f93\u51fa\u5982\u4e0b\uff1a"
      ]
    },
    {
      "cell_type": "code",
      "execution_count": null,
      "metadata": {},
      "outputs": [],
      "source": [
        "[\n{\n'\nf\nn\na\nm\ne\n'\n:\n \n'\nB\ni\ng\n'\n,\n \n'\nu\ni\nd\n'\n:\n \n1\n0\n0\n4\n,\n \n'\nl\nn\na\nm\ne\n'\n:\n \n'\nJ\no\nn\ne\ns\n'\n}\n,\n\n\n{\n'\nf\nn\na\nm\ne\n'\n:\n \n'\nB\nr\ni\na\nn\n'\n,\n \n'\nu\ni\nd\n'\n:\n \n1\n0\n0\n3\n,\n \n'\nl\nn\na\nm\ne\n'\n:\n \n'\nJ\no\nn\ne\ns\n'\n}\n,\n\n\n{\n'\nf\nn\na\nm\ne\n'\n:\n \n'\nD\na\nv\ni\nd\n'\n,\n \n'\nu\ni\nd\n'\n:\n \n1\n0\n0\n2\n,\n \n'\nl\nn\na\nm\ne\n'\n:\n \n'\nB\ne\na\nz\nl\ne\ny\n'\n}\n,\n\n\n{\n'\nf\nn\na\nm\ne\n'\n:\n \n'\nJ\no\nh\nn\n'\n,\n \n'\nu\ni\nd\n'\n:\n \n1\n0\n0\n1\n,\n \n'\nl\nn\na\nm\ne\n'\n:\n \n'\nC\nl\ne\ne\ns\ne\n'\n}\n]\n\n\n[\n{\n'\nf\nn\na\nm\ne\n'\n:\n \n'\nJ\no\nh\nn\n'\n,\n \n'\nu\ni\nd\n'\n:\n \n1\n0\n0\n1\n,\n \n'\nl\nn\na\nm\ne\n'\n:\n \n'\nC\nl\ne\ne\ns\ne\n'\n}\n,\n\n\n{\n'\nf\nn\na\nm\ne\n'\n:\n \n'\nD\na\nv\ni\nd\n'\n,\n \n'\nu\ni\nd\n'\n:\n \n1\n0\n0\n2\n,\n \n'\nl\nn\na\nm\ne\n'\n:\n \n'\nB\ne\na\nz\nl\ne\ny\n'\n}\n,\n\n\n{\n'\nf\nn\na\nm\ne\n'\n:\n \n'\nB\nr\ni\na\nn\n'\n,\n \n'\nu\ni\nd\n'\n:\n \n1\n0\n0\n3\n,\n \n'\nl\nn\na\nm\ne\n'\n:\n \n'\nJ\no\nn\ne\ns\n'\n}\n,\n\n\n{\n'\nf\nn\na\nm\ne\n'\n:\n \n'\nB\ni\ng\n'\n,\n \n'\nu\ni\nd\n'\n:\n \n1\n0\n0\n4\n,\n \n'\nl\nn\na\nm\ne\n'\n:\n \n'\nJ\no\nn\ne\ns\n'\n}\n]\n\n"
      ]
    },
    {
      "cell_type": "markdown",
      "metadata": {},
      "source": [
        "itemgetter() \u51fd\u6570\u4e5f\u652f\u6301\u591a\u4e2a keys\uff0c\u6bd4\u5982\u4e0b\u9762\u7684\u4ee3\u7801"
      ]
    },
    {
      "cell_type": "code",
      "execution_count": null,
      "metadata": {},
      "outputs": [],
      "source": [
        "r\no\nw\ns\n_\nb\ny\n_\nl\nf\nn\na\nm\ne\n \n=\n \ns\no\nr\nt\ne\nd\n(\nr\no\nw\ns\n,\n \nk\ne\ny\n=\ni\nt\ne\nm\ng\ne\nt\nt\ne\nr\n(\n'\nl\nn\na\nm\ne\n'\n,\n'\nf\nn\na\nm\ne\n'\n)\n)\n\n\np\nr\ni\nn\nt\n(\nr\no\nw\ns\n_\nb\ny\n_\nl\nf\nn\na\nm\ne\n)\n\n"
      ]
    },
    {
      "cell_type": "markdown",
      "metadata": {},
      "source": [
        "\u4f1a\u4ea7\u751f\u5982\u4e0b\u7684\u8f93\u51fa\uff1a"
      ]
    },
    {
      "cell_type": "code",
      "execution_count": null,
      "metadata": {},
      "outputs": [],
      "source": [
        "[\n{\n'\nf\nn\na\nm\ne\n'\n:\n \n'\nD\na\nv\ni\nd\n'\n,\n \n'\nu\ni\nd\n'\n:\n \n1\n0\n0\n2\n,\n \n'\nl\nn\na\nm\ne\n'\n:\n \n'\nB\ne\na\nz\nl\ne\ny\n'\n}\n,\n\n\n{\n'\nf\nn\na\nm\ne\n'\n:\n \n'\nJ\no\nh\nn\n'\n,\n \n'\nu\ni\nd\n'\n:\n \n1\n0\n0\n1\n,\n \n'\nl\nn\na\nm\ne\n'\n:\n \n'\nC\nl\ne\ne\ns\ne\n'\n}\n,\n\n\n{\n'\nf\nn\na\nm\ne\n'\n:\n \n'\nB\ni\ng\n'\n,\n \n'\nu\ni\nd\n'\n:\n \n1\n0\n0\n4\n,\n \n'\nl\nn\na\nm\ne\n'\n:\n \n'\nJ\no\nn\ne\ns\n'\n}\n,\n\n\n{\n'\nf\nn\na\nm\ne\n'\n:\n \n'\nB\nr\ni\na\nn\n'\n,\n \n'\nu\ni\nd\n'\n:\n \n1\n0\n0\n3\n,\n \n'\nl\nn\na\nm\ne\n'\n:\n \n'\nJ\no\nn\ne\ns\n'\n}\n]\n\n"
      ]
    },
    {
      "cell_type": "markdown",
      "metadata": {},
      "source": [
        "### \u8ba8\u8bba\n"
      ]
    },
    {
      "cell_type": "markdown",
      "metadata": {},
      "source": [
        "\u5728\u4e0a\u9762\u4f8b\u5b50\u4e2d\uff0c rows \u88ab\u4f20\u9012\u7ed9\u63a5\u53d7\u4e00\u4e2a\u5173\u952e\u5b57\u53c2\u6570\u7684 sorted() \u5185\u7f6e\u51fd\u6570\u3002\n\u8fd9\u4e2a\u53c2\u6570\u662f callable \u7c7b\u578b\uff0c\u5e76\u4e14\u4ece rows \u4e2d\u63a5\u53d7\u4e00\u4e2a\u5355\u4e00\u5143\u7d20\uff0c\u7136\u540e\u8fd4\u56de\u88ab\u7528\u6765\u6392\u5e8f\u7684\u503c\u3002\nitemgetter() \u51fd\u6570\u5c31\u662f\u8d1f\u8d23\u521b\u5efa\u8fd9\u4e2a callable \u5bf9\u8c61\u7684\u3002"
      ]
    },
    {
      "cell_type": "markdown",
      "metadata": {},
      "source": [
        "operator.itemgetter() \u51fd\u6570\u6709\u4e00\u4e2a\u88ab rows \u4e2d\u7684\u8bb0\u5f55\u7528\u6765\u67e5\u627e\u503c\u7684\u7d22\u5f15\u53c2\u6570\u3002\u53ef\u4ee5\u662f\u4e00\u4e2a\u5b57\u5178\u952e\u540d\u79f0\uff0c\n\u4e00\u4e2a\u6574\u5f62\u503c\u6216\u8005\u4efb\u4f55\u80fd\u591f\u4f20\u5165\u4e00\u4e2a\u5bf9\u8c61\u7684 __getitem__() \u65b9\u6cd5\u7684\u503c\u3002\n\u5982\u679c\u4f60\u4f20\u5165\u591a\u4e2a\u7d22\u5f15\u53c2\u6570\u7ed9 itemgetter() \uff0c\u5b83\u751f\u6210\u7684 callable \u5bf9\u8c61\u4f1a\u8fd4\u56de\u4e00\u4e2a\u5305\u542b\u6240\u6709\u5143\u7d20\u503c\u7684\u5143\u7ec4\uff0c\n\u5e76\u4e14 sorted() \u51fd\u6570\u4f1a\u6839\u636e\u8fd9\u4e2a\u5143\u7ec4\u4e2d\u5143\u7d20\u987a\u5e8f\u53bb\u6392\u5e8f\u3002\n\u4f46\u4f60\u60f3\u8981\u540c\u65f6\u5728\u51e0\u4e2a\u5b57\u6bb5\u4e0a\u9762\u8fdb\u884c\u6392\u5e8f\uff08\u6bd4\u5982\u901a\u8fc7\u59d3\u548c\u540d\u6765\u6392\u5e8f\uff0c\u4e5f\u5c31\u662f\u4f8b\u5b50\u4e2d\u7684\u90a3\u6837\uff09\u7684\u65f6\u5019\u8fd9\u79cd\u65b9\u6cd5\u662f\u5f88\u6709\u7528\u7684\u3002"
      ]
    },
    {
      "cell_type": "markdown",
      "metadata": {},
      "source": [
        "itemgetter() \u6709\u65f6\u5019\u4e5f\u53ef\u4ee5\u7528 lambda \u8868\u8fbe\u5f0f\u4ee3\u66ff\uff0c\u6bd4\u5982\uff1a"
      ]
    },
    {
      "cell_type": "code",
      "execution_count": null,
      "metadata": {},
      "outputs": [],
      "source": [
        "r\no\nw\ns\n_\nb\ny\n_\nf\nn\na\nm\ne\n \n=\n \ns\no\nr\nt\ne\nd\n(\nr\no\nw\ns\n,\n \nk\ne\ny\n=\nl\na\nm\nb\nd\na\n \nr\n:\n \nr\n[\n'\nf\nn\na\nm\ne\n'\n]\n)\n\n\nr\no\nw\ns\n_\nb\ny\n_\nl\nf\nn\na\nm\ne\n \n=\n \ns\no\nr\nt\ne\nd\n(\nr\no\nw\ns\n,\n \nk\ne\ny\n=\nl\na\nm\nb\nd\na\n \nr\n:\n \n(\nr\n[\n'\nl\nn\na\nm\ne\n'\n]\n,\nr\n[\n'\nf\nn\na\nm\ne\n'\n]\n)\n)\n\n"
      ]
    },
    {
      "cell_type": "markdown",
      "metadata": {},
      "source": [
        "\u8fd9\u79cd\u65b9\u6848\u4e5f\u4e0d\u9519\u3002\u4f46\u662f\uff0c\u4f7f\u7528 itemgetter() \u65b9\u5f0f\u4f1a\u8fd0\u884c\u7684\u7a0d\u5fae\u5feb\u70b9\u3002\u56e0\u6b64\uff0c\u5982\u679c\u4f60\u5bf9\u6027\u80fd\u8981\u6c42\u6bd4\u8f83\u9ad8\u7684\u8bdd\u5c31\u4f7f\u7528 itemgetter() \u65b9\u5f0f\u3002"
      ]
    },
    {
      "cell_type": "markdown",
      "metadata": {},
      "source": [
        "\u6700\u540e\uff0c\u4e0d\u8981\u5fd8\u4e86\u8fd9\u8282\u4e2d\u5c55\u793a\u7684\u6280\u672f\u4e5f\u540c\u6837\u9002\u7528\u4e8e min() \u548c max() \u7b49\u51fd\u6570\u3002\u6bd4\u5982\uff1a"
      ]
    },
    {
      "cell_type": "code",
      "execution_count": null,
      "metadata": {},
      "outputs": [],
      "source": [
        "min(rows, key=itemgetter('uid'))"
      ]
    },
    {
      "cell_type": "code",
      "execution_count": null,
      "metadata": {},
      "outputs": [],
      "source": [
        "max(rows, key=itemgetter('uid'))"
      ]
    },
    {
      "cell_type": "markdown",
      "metadata": {},
      "source": [
        "## 1.14 \u6392\u5e8f\u4e0d\u652f\u6301\u539f\u751f\u6bd4\u8f83\u7684\u5bf9\u8c61\n"
      ]
    },
    {
      "cell_type": "markdown",
      "metadata": {},
      "source": [
        "### \u95ee\u9898\n"
      ]
    },
    {
      "cell_type": "markdown",
      "metadata": {},
      "source": [
        "\u4f60\u60f3\u6392\u5e8f\u7c7b\u578b\u76f8\u540c\u7684\u5bf9\u8c61\uff0c\u4f46\u662f\u4ed6\u4eec\u4e0d\u652f\u6301\u539f\u751f\u7684\u6bd4\u8f83\u64cd\u4f5c\u3002"
      ]
    },
    {
      "cell_type": "markdown",
      "metadata": {},
      "source": [
        "### \u89e3\u51b3\u65b9\u6848\n"
      ]
    },
    {
      "cell_type": "markdown",
      "metadata": {},
      "source": [
        "\u5185\u7f6e\u7684 sorted() \u51fd\u6570\u6709\u4e00\u4e2a\u5173\u952e\u5b57\u53c2\u6570 key \uff0c\u53ef\u4ee5\u4f20\u5165\u4e00\u4e2a callable \u5bf9\u8c61\u7ed9\u5b83\uff0c\n\u8fd9\u4e2a callable \u5bf9\u8c61\u5bf9\u6bcf\u4e2a\u4f20\u5165\u7684\u5bf9\u8c61\u8fd4\u56de\u4e00\u4e2a\u503c\uff0c\u8fd9\u4e2a\u503c\u4f1a\u88ab sorted \u7528\u6765\u6392\u5e8f\u8fd9\u4e9b\u5bf9\u8c61\u3002\n\u6bd4\u5982\uff0c\u5982\u679c\u4f60\u5728\u5e94\u7528\u7a0b\u5e8f\u91cc\u9762\u6709\u4e00\u4e2a User \u5b9e\u4f8b\u5e8f\u5217\uff0c\u5e76\u4e14\u4f60\u5e0c\u671b\u901a\u8fc7\u4ed6\u4eec\u7684 user_id \u5c5e\u6027\u8fdb\u884c\u6392\u5e8f\uff0c\n\u4f60\u53ef\u4ee5\u63d0\u4f9b\u4e00\u4e2a\u4ee5 User \u5b9e\u4f8b\u4f5c\u4e3a\u8f93\u5165\u5e76\u8f93\u51fa\u5bf9\u5e94 user_id \u503c\u7684 callable \u5bf9\u8c61\u3002\u6bd4\u5982\uff1a"
      ]
    },
    {
      "cell_type": "code",
      "execution_count": null,
      "metadata": {},
      "outputs": [],
      "source": [
        "c\nl\na\ns\ns\n \nU\ns\ne\nr\n:\n\n\n \n \n \n \nd\ne\nf\n \n_\n_\ni\nn\ni\nt\n_\n_\n(\ns\ne\nl\nf\n,\n \nu\ns\ne\nr\n_\ni\nd\n)\n:\n\n\n \n \n \n \n \n \n \n \ns\ne\nl\nf\n.\nu\ns\ne\nr\n_\ni\nd\n \n=\n \nu\ns\ne\nr\n_\ni\nd\n\n\n\n\n \n \n \n \nd\ne\nf\n \n_\n_\nr\ne\np\nr\n_\n_\n(\ns\ne\nl\nf\n)\n:\n\n\n \n \n \n \n \n \n \n \nr\ne\nt\nu\nr\nn\n \n'\nU\ns\ne\nr\n(\n{\n}\n)\n'\n.\nf\no\nr\nm\na\nt\n(\ns\ne\nl\nf\n.\nu\ns\ne\nr\n_\ni\nd\n)\n\n\n\n\n\n\nd\ne\nf\n \ns\no\nr\nt\n_\nn\no\nt\nc\no\nm\np\na\nr\ne\n(\n)\n:\n\n\n \n \n \n \nu\ns\ne\nr\ns\n \n=\n \n[\nU\ns\ne\nr\n(\n2\n3\n)\n,\n \nU\ns\ne\nr\n(\n3\n)\n,\n \nU\ns\ne\nr\n(\n9\n9\n)\n]\n\n\n \n \n \n \np\nr\ni\nn\nt\n(\nu\ns\ne\nr\ns\n)\n\n\n \n \n \n \np\nr\ni\nn\nt\n(\ns\no\nr\nt\ne\nd\n(\nu\ns\ne\nr\ns\n,\n \nk\ne\ny\n=\nl\na\nm\nb\nd\na\n \nu\n:\n \nu\n.\nu\ns\ne\nr\n_\ni\nd\n)\n)\n\n"
      ]
    },
    {
      "cell_type": "markdown",
      "metadata": {},
      "source": [
        "\u53e6\u5916\u4e00\u79cd\u65b9\u5f0f\u662f\u4f7f\u7528 operator.attrgetter() \u6765\u4ee3\u66ff lambda \u51fd\u6570\uff1a"
      ]
    },
    {
      "cell_type": "code",
      "execution_count": null,
      "metadata": {},
      "outputs": [],
      "source": [
        "from operator import attrgetter\nsorted(users, key=attrgetter('user_id'))"
      ]
    },
    {
      "cell_type": "markdown",
      "metadata": {},
      "source": [
        "### \u8ba8\u8bba\n"
      ]
    },
    {
      "cell_type": "markdown",
      "metadata": {},
      "source": [
        "\u9009\u62e9\u4f7f\u7528 lambda \u51fd\u6570\u6216\u8005\u662f attrgetter() \u53ef\u80fd\u53d6\u51b3\u4e8e\u4e2a\u4eba\u559c\u597d\u3002\n\u4f46\u662f\uff0c attrgetter() \u51fd\u6570\u901a\u5e38\u4f1a\u8fd0\u884c\u7684\u5feb\u70b9\uff0c\u5e76\u4e14\u8fd8\u80fd\u540c\u65f6\u5141\u8bb8\u591a\u4e2a\u5b57\u6bb5\u8fdb\u884c\u6bd4\u8f83\u3002\n\u8fd9\u4e2a\u8ddf operator.itemgetter() \u51fd\u6570\u4f5c\u7528\u4e8e\u5b57\u5178\u7c7b\u578b\u5f88\u7c7b\u4f3c\uff08\u53c2\u80031.13\u5c0f\u8282\uff09\u3002\n\u4f8b\u5982\uff0c\u5982\u679c User \u5b9e\u4f8b\u8fd8\u6709\u4e00\u4e2a first_name \u548c last_name \u5c5e\u6027\uff0c\u90a3\u4e48\u53ef\u4ee5\u5411\u4e0b\u9762\u8fd9\u6837\u6392\u5e8f\uff1a"
      ]
    },
    {
      "cell_type": "code",
      "execution_count": null,
      "metadata": {},
      "outputs": [],
      "source": [
        "b\ny\n_\nn\na\nm\ne\n \n=\n \ns\no\nr\nt\ne\nd\n(\nu\ns\ne\nr\ns\n,\n \nk\ne\ny\n=\na\nt\nt\nr\ng\ne\nt\nt\ne\nr\n(\n'\nl\na\ns\nt\n_\nn\na\nm\ne\n'\n,\n \n'\nf\ni\nr\ns\nt\n_\nn\na\nm\ne\n'\n)\n)\n\n"
      ]
    },
    {
      "cell_type": "markdown",
      "metadata": {},
      "source": [
        "\u540c\u6837\u9700\u8981\u6ce8\u610f\u7684\u662f\uff0c\u8fd9\u4e00\u5c0f\u8282\u7528\u5230\u7684\u6280\u672f\u540c\u6837\u9002\u7528\u4e8e\u50cf min() \u548c max() \u4e4b\u7c7b\u7684\u51fd\u6570\u3002\u6bd4\u5982\uff1a"
      ]
    },
    {
      "cell_type": "code",
      "execution_count": null,
      "metadata": {},
      "outputs": [],
      "source": [
        "min(users, key=attrgetter('user_id'))"
      ]
    },
    {
      "cell_type": "code",
      "execution_count": null,
      "metadata": {},
      "outputs": [],
      "source": [
        "max(users, key=attrgetter('user_id'))"
      ]
    },
    {
      "cell_type": "markdown",
      "metadata": {},
      "source": [
        "## 1.15 \u901a\u8fc7\u67d0\u4e2a\u5b57\u6bb5\u5c06\u8bb0\u5f55\u5206\u7ec4\n"
      ]
    },
    {
      "cell_type": "markdown",
      "metadata": {},
      "source": [
        "### \u95ee\u9898\n"
      ]
    },
    {
      "cell_type": "markdown",
      "metadata": {},
      "source": [
        "\u4f60\u6709\u4e00\u4e2a\u5b57\u5178\u6216\u8005\u5b9e\u4f8b\u7684\u5e8f\u5217\uff0c\u7136\u540e\u4f60\u60f3\u6839\u636e\u67d0\u4e2a\u7279\u5b9a\u7684\u5b57\u6bb5\u6bd4\u5982 date \u6765\u5206\u7ec4\u8fed\u4ee3\u8bbf\u95ee\u3002"
      ]
    },
    {
      "cell_type": "markdown",
      "metadata": {},
      "source": [
        "### \u89e3\u51b3\u65b9\u6848\n"
      ]
    },
    {
      "cell_type": "markdown",
      "metadata": {},
      "source": [
        "itertools.groupby() \u51fd\u6570\u5bf9\u4e8e\u8fd9\u6837\u7684\u6570\u636e\u5206\u7ec4\u64cd\u4f5c\u975e\u5e38\u5b9e\u7528\u3002\n\u4e3a\u4e86\u6f14\u793a\uff0c\u5047\u8bbe\u4f60\u5df2\u7ecf\u6709\u4e86\u4e0b\u5217\u7684\u5b57\u5178\u5217\u8868\uff1a"
      ]
    },
    {
      "cell_type": "code",
      "execution_count": null,
      "metadata": {},
      "outputs": [],
      "source": [
        "r\no\nw\ns\n \n=\n \n[\n\n\n \n \n \n \n{\n'\na\nd\nd\nr\ne\ns\ns\n'\n:\n \n'\n5\n4\n1\n2\n \nN\n \nC\nL\nA\nR\nK\n'\n,\n \n'\nd\na\nt\ne\n'\n:\n \n'\n0\n7\n/\n0\n1\n/\n2\n0\n1\n2\n'\n}\n,\n\n\n \n \n \n \n{\n'\na\nd\nd\nr\ne\ns\ns\n'\n:\n \n'\n5\n1\n4\n8\n \nN\n \nC\nL\nA\nR\nK\n'\n,\n \n'\nd\na\nt\ne\n'\n:\n \n'\n0\n7\n/\n0\n4\n/\n2\n0\n1\n2\n'\n}\n,\n\n\n \n \n \n \n{\n'\na\nd\nd\nr\ne\ns\ns\n'\n:\n \n'\n5\n8\n0\n0\n \nE\n \n5\n8\nT\nH\n'\n,\n \n'\nd\na\nt\ne\n'\n:\n \n'\n0\n7\n/\n0\n2\n/\n2\n0\n1\n2\n'\n}\n,\n\n\n \n \n \n \n{\n'\na\nd\nd\nr\ne\ns\ns\n'\n:\n \n'\n2\n1\n2\n2\n \nN\n \nC\nL\nA\nR\nK\n'\n,\n \n'\nd\na\nt\ne\n'\n:\n \n'\n0\n7\n/\n0\n3\n/\n2\n0\n1\n2\n'\n}\n,\n\n\n \n \n \n \n{\n'\na\nd\nd\nr\ne\ns\ns\n'\n:\n \n'\n5\n6\n4\n5\n \nN\n \nR\nA\nV\nE\nN\nS\nW\nO\nO\nD\n'\n,\n \n'\nd\na\nt\ne\n'\n:\n \n'\n0\n7\n/\n0\n2\n/\n2\n0\n1\n2\n'\n}\n,\n\n\n \n \n \n \n{\n'\na\nd\nd\nr\ne\ns\ns\n'\n:\n \n'\n1\n0\n6\n0\n \nW\n \nA\nD\nD\nI\nS\nO\nN\n'\n,\n \n'\nd\na\nt\ne\n'\n:\n \n'\n0\n7\n/\n0\n2\n/\n2\n0\n1\n2\n'\n}\n,\n\n\n \n \n \n \n{\n'\na\nd\nd\nr\ne\ns\ns\n'\n:\n \n'\n4\n8\n0\n1\n \nN\n \nB\nR\nO\nA\nD\nW\nA\nY\n'\n,\n \n'\nd\na\nt\ne\n'\n:\n \n'\n0\n7\n/\n0\n1\n/\n2\n0\n1\n2\n'\n}\n,\n\n\n \n \n \n \n{\n'\na\nd\nd\nr\ne\ns\ns\n'\n:\n \n'\n1\n0\n3\n9\n \nW\n \nG\nR\nA\nN\nV\nI\nL\nL\nE\n'\n,\n \n'\nd\na\nt\ne\n'\n:\n \n'\n0\n7\n/\n0\n4\n/\n2\n0\n1\n2\n'\n}\n,\n\n\n]\n\n"
      ]
    },
    {
      "cell_type": "markdown",
      "metadata": {},
      "source": [
        "\u73b0\u5728\u5047\u8bbe\u4f60\u60f3\u5728\u6309 date \u5206\u7ec4\u540e\u7684\u6570\u636e\u5757\u4e0a\u8fdb\u884c\u8fed\u4ee3\u3002\u4e3a\u4e86\u8fd9\u6837\u505a\uff0c\u4f60\u9996\u5148\u9700\u8981\u6309\u7167\u6307\u5b9a\u7684\u5b57\u6bb5(\u8fd9\u91cc\u5c31\u662f date )\u6392\u5e8f\uff0c\n\u7136\u540e\u8c03\u7528 itertools.groupby() \u51fd\u6570\uff1a"
      ]
    },
    {
      "cell_type": "code",
      "execution_count": null,
      "metadata": {},
      "outputs": [],
      "source": [
        "f\nr\no\nm\n \no\np\ne\nr\na\nt\no\nr\n \ni\nm\np\no\nr\nt\n \ni\nt\ne\nm\ng\ne\nt\nt\ne\nr\n\n\nf\nr\no\nm\n \ni\nt\ne\nr\nt\no\no\nl\ns\n \ni\nm\np\no\nr\nt\n \ng\nr\no\nu\np\nb\ny\n\n\n\n\n#\n \nS\no\nr\nt\n \nb\ny\n \nt\nh\ne\n \nd\ne\ns\ni\nr\ne\nd\n \nf\ni\ne\nl\nd\n \nf\ni\nr\ns\nt\n\n\nr\no\nw\ns\n.\ns\no\nr\nt\n(\nk\ne\ny\n=\ni\nt\ne\nm\ng\ne\nt\nt\ne\nr\n(\n'\nd\na\nt\ne\n'\n)\n)\n\n\n#\n \nI\nt\ne\nr\na\nt\ne\n \ni\nn\n \ng\nr\no\nu\np\ns\n\n\nf\no\nr\n \nd\na\nt\ne\n,\n \ni\nt\ne\nm\ns\n \ni\nn\n \ng\nr\no\nu\np\nb\ny\n(\nr\no\nw\ns\n,\n \nk\ne\ny\n=\ni\nt\ne\nm\ng\ne\nt\nt\ne\nr\n(\n'\nd\na\nt\ne\n'\n)\n)\n:\n\n\n \n \n \n \np\nr\ni\nn\nt\n(\nd\na\nt\ne\n)\n\n\n \n \n \n \nf\no\nr\n \ni\n \ni\nn\n \ni\nt\ne\nm\ns\n:\n\n\n \n \n \n \n \n \n \n \np\nr\ni\nn\nt\n(\n'\n \n'\n,\n \ni\n)\n\n"
      ]
    },
    {
      "cell_type": "markdown",
      "metadata": {},
      "source": [
        "\u8fd0\u884c\u7ed3\u679c\uff1a"
      ]
    },
    {
      "cell_type": "code",
      "execution_count": null,
      "metadata": {},
      "outputs": [],
      "source": [
        "0\n7\n/\n0\n1\n/\n2\n0\n1\n2\n\n\n \n \n{\n'\nd\na\nt\ne\n'\n:\n \n'\n0\n7\n/\n0\n1\n/\n2\n0\n1\n2\n'\n,\n \n'\na\nd\nd\nr\ne\ns\ns\n'\n:\n \n'\n5\n4\n1\n2\n \nN\n \nC\nL\nA\nR\nK\n'\n}\n\n\n \n \n{\n'\nd\na\nt\ne\n'\n:\n \n'\n0\n7\n/\n0\n1\n/\n2\n0\n1\n2\n'\n,\n \n'\na\nd\nd\nr\ne\ns\ns\n'\n:\n \n'\n4\n8\n0\n1\n \nN\n \nB\nR\nO\nA\nD\nW\nA\nY\n'\n}\n\n\n0\n7\n/\n0\n2\n/\n2\n0\n1\n2\n\n\n \n \n{\n'\nd\na\nt\ne\n'\n:\n \n'\n0\n7\n/\n0\n2\n/\n2\n0\n1\n2\n'\n,\n \n'\na\nd\nd\nr\ne\ns\ns\n'\n:\n \n'\n5\n8\n0\n0\n \nE\n \n5\n8\nT\nH\n'\n}\n\n\n \n \n{\n'\nd\na\nt\ne\n'\n:\n \n'\n0\n7\n/\n0\n2\n/\n2\n0\n1\n2\n'\n,\n \n'\na\nd\nd\nr\ne\ns\ns\n'\n:\n \n'\n5\n6\n4\n5\n \nN\n \nR\nA\nV\nE\nN\nS\nW\nO\nO\nD\n'\n}\n\n\n \n \n{\n'\nd\na\nt\ne\n'\n:\n \n'\n0\n7\n/\n0\n2\n/\n2\n0\n1\n2\n'\n,\n \n'\na\nd\nd\nr\ne\ns\ns\n'\n:\n \n'\n1\n0\n6\n0\n \nW\n \nA\nD\nD\nI\nS\nO\nN\n'\n}\n\n\n0\n7\n/\n0\n3\n/\n2\n0\n1\n2\n\n\n \n \n{\n'\nd\na\nt\ne\n'\n:\n \n'\n0\n7\n/\n0\n3\n/\n2\n0\n1\n2\n'\n,\n \n'\na\nd\nd\nr\ne\ns\ns\n'\n:\n \n'\n2\n1\n2\n2\n \nN\n \nC\nL\nA\nR\nK\n'\n}\n\n\n0\n7\n/\n0\n4\n/\n2\n0\n1\n2\n\n\n \n \n{\n'\nd\na\nt\ne\n'\n:\n \n'\n0\n7\n/\n0\n4\n/\n2\n0\n1\n2\n'\n,\n \n'\na\nd\nd\nr\ne\ns\ns\n'\n:\n \n'\n5\n1\n4\n8\n \nN\n \nC\nL\nA\nR\nK\n'\n}\n\n\n \n \n{\n'\nd\na\nt\ne\n'\n:\n \n'\n0\n7\n/\n0\n4\n/\n2\n0\n1\n2\n'\n,\n \n'\na\nd\nd\nr\ne\ns\ns\n'\n:\n \n'\n1\n0\n3\n9\n \nW\n \nG\nR\nA\nN\nV\nI\nL\nL\nE\n'\n}\n\n"
      ]
    },
    {
      "cell_type": "markdown",
      "metadata": {},
      "source": [
        "### \u8ba8\u8bba\n"
      ]
    },
    {
      "cell_type": "markdown",
      "metadata": {},
      "source": [
        "groupby() \u51fd\u6570\u626b\u63cf\u6574\u4e2a\u5e8f\u5217\u5e76\u4e14\u67e5\u627e\u8fde\u7eed\u76f8\u540c\u503c\uff08\u6216\u8005\u6839\u636e\u6307\u5b9a key \u51fd\u6570\u8fd4\u56de\u503c\u76f8\u540c\uff09\u7684\u5143\u7d20\u5e8f\u5217\u3002\n\u5728\u6bcf\u6b21\u8fed\u4ee3\u7684\u65f6\u5019\uff0c\u5b83\u4f1a\u8fd4\u56de\u4e00\u4e2a\u503c\u548c\u4e00\u4e2a\u8fed\u4ee3\u5668\u5bf9\u8c61\uff0c\n\u8fd9\u4e2a\u8fed\u4ee3\u5668\u5bf9\u8c61\u53ef\u4ee5\u751f\u6210\u5143\u7d20\u503c\u5168\u90e8\u7b49\u4e8e\u4e0a\u9762\u90a3\u4e2a\u503c\u7684\u7ec4\u4e2d\u6240\u6709\u5bf9\u8c61\u3002"
      ]
    },
    {
      "cell_type": "markdown",
      "metadata": {},
      "source": [
        "\u4e00\u4e2a\u975e\u5e38\u91cd\u8981\u7684\u51c6\u5907\u6b65\u9aa4\u662f\u8981\u6839\u636e\u6307\u5b9a\u7684\u5b57\u6bb5\u5c06\u6570\u636e\u6392\u5e8f\u3002\n\u56e0\u4e3a groupby() \u4ec5\u4ec5\u68c0\u67e5\u8fde\u7eed\u7684\u5143\u7d20\uff0c\u5982\u679c\u4e8b\u5148\u5e76\u6ca1\u6709\u6392\u5e8f\u5b8c\u6210\u7684\u8bdd\uff0c\u5206\u7ec4\u51fd\u6570\u5c06\u5f97\u4e0d\u5230\u60f3\u8981\u7684\u7ed3\u679c\u3002"
      ]
    },
    {
      "cell_type": "markdown",
      "metadata": {},
      "source": [
        "\u5982\u679c\u4f60\u4ec5\u4ec5\u53ea\u662f\u60f3\u6839\u636e date \u5b57\u6bb5\u5c06\u6570\u636e\u5206\u7ec4\u5230\u4e00\u4e2a\u5927\u7684\u6570\u636e\u7ed3\u6784\u4e2d\u53bb\uff0c\u5e76\u4e14\u5141\u8bb8\u968f\u673a\u8bbf\u95ee\uff0c\n\u90a3\u4e48\u4f60\u6700\u597d\u4f7f\u7528 defaultdict() \u6765\u6784\u5efa\u4e00\u4e2a\u591a\u503c\u5b57\u5178\uff0c\u5173\u4e8e\u591a\u503c\u5b57\u5178\u5df2\u7ecf\u5728 1.6 \u5c0f\u8282\u6709\u8fc7\u8be6\u7ec6\u7684\u4ecb\u7ecd\u3002\u6bd4\u5982\uff1a"
      ]
    },
    {
      "cell_type": "code",
      "execution_count": null,
      "metadata": {},
      "outputs": [],
      "source": [
        "f\nr\no\nm\n \nc\no\nl\nl\ne\nc\nt\ni\no\nn\ns\n \ni\nm\np\no\nr\nt\n \nd\ne\nf\na\nu\nl\nt\nd\ni\nc\nt\n\n\nr\no\nw\ns\n_\nb\ny\n_\nd\na\nt\ne\n \n=\n \nd\ne\nf\na\nu\nl\nt\nd\ni\nc\nt\n(\nl\ni\ns\nt\n)\n\n\nf\no\nr\n \nr\no\nw\n \ni\nn\n \nr\no\nw\ns\n:\n\n\n \n \n \n \nr\no\nw\ns\n_\nb\ny\n_\nd\na\nt\ne\n[\nr\no\nw\n[\n'\nd\na\nt\ne\n'\n]\n]\n.\na\np\np\ne\nn\nd\n(\nr\no\nw\n)\n\n"
      ]
    },
    {
      "cell_type": "markdown",
      "metadata": {},
      "source": [
        "\u8fd9\u6837\u7684\u8bdd\u4f60\u53ef\u4ee5\u5f88\u8f7b\u677e\u7684\u5c31\u80fd\u5bf9\u6bcf\u4e2a\u6307\u5b9a\u65e5\u671f\u8bbf\u95ee\u5bf9\u5e94\u7684\u8bb0\u5f55\uff1a"
      ]
    },
    {
      "cell_type": "code",
      "execution_count": null,
      "metadata": {},
      "outputs": [],
      "source": [
        "for r in rows_by_date['07/01/2012']:\nprint(r)"
      ]
    },
    {
      "cell_type": "markdown",
      "metadata": {},
      "source": [
        "\u5728\u4e0a\u9762\u8fd9\u4e2a\u4f8b\u5b50\u4e2d\uff0c\u6211\u4eec\u6ca1\u6709\u5fc5\u8981\u5148\u5c06\u8bb0\u5f55\u6392\u5e8f\u3002\u56e0\u6b64\uff0c\u5982\u679c\u5bf9\u5185\u5b58\u5360\u7528\u4e0d\u662f\u5f88\u5173\u5fc3\uff0c\n\u8fd9\u79cd\u65b9\u5f0f\u4f1a\u6bd4\u5148\u6392\u5e8f\u7136\u540e\u518d\u901a\u8fc7 groupby() \u51fd\u6570\u8fed\u4ee3\u7684\u65b9\u5f0f\u8fd0\u884c\u5f97\u5feb\u4e00\u4e9b\u3002"
      ]
    },
    {
      "cell_type": "markdown",
      "metadata": {},
      "source": [
        "## 1.16 \u8fc7\u6ee4\u5e8f\u5217\u5143\u7d20\n"
      ]
    },
    {
      "cell_type": "markdown",
      "metadata": {},
      "source": [
        "### \u95ee\u9898\n"
      ]
    },
    {
      "cell_type": "markdown",
      "metadata": {},
      "source": [
        "\u4f60\u6709\u4e00\u4e2a\u6570\u636e\u5e8f\u5217\uff0c\u60f3\u5229\u7528\u4e00\u4e9b\u89c4\u5219\u4ece\u4e2d\u63d0\u53d6\u51fa\u9700\u8981\u7684\u503c\u6216\u8005\u662f\u7f29\u77ed\u5e8f\u5217"
      ]
    },
    {
      "cell_type": "markdown",
      "metadata": {},
      "source": [
        "### \u89e3\u51b3\u65b9\u6848\n"
      ]
    },
    {
      "cell_type": "markdown",
      "metadata": {},
      "source": [
        "\u6700\u7b80\u5355\u7684\u8fc7\u6ee4\u5e8f\u5217\u5143\u7d20\u7684\u65b9\u6cd5\u5c31\u662f\u4f7f\u7528\u5217\u8868\u63a8\u5bfc\u3002\u6bd4\u5982\uff1a"
      ]
    },
    {
      "cell_type": "code",
      "execution_count": null,
      "metadata": {},
      "outputs": [],
      "source": [
        "mylist = [1, 4, -5, 10, -7, 2, 3, -1]\n[n for n in mylist if n > 0]"
      ]
    },
    {
      "cell_type": "code",
      "execution_count": null,
      "metadata": {},
      "outputs": [],
      "source": [
        "[n for n in mylist if n < 0]"
      ]
    },
    {
      "cell_type": "markdown",
      "metadata": {},
      "source": [
        "\u4f7f\u7528\u5217\u8868\u63a8\u5bfc\u7684\u4e00\u4e2a\u6f5c\u5728\u7f3a\u9677\u5c31\u662f\u5982\u679c\u8f93\u5165\u975e\u5e38\u5927\u7684\u65f6\u5019\u4f1a\u4ea7\u751f\u4e00\u4e2a\u975e\u5e38\u5927\u7684\u7ed3\u679c\u96c6\uff0c\u5360\u7528\u5927\u91cf\u5185\u5b58\u3002\n\u5982\u679c\u4f60\u5bf9\u5185\u5b58\u6bd4\u8f83\u654f\u611f\uff0c\u90a3\u4e48\u4f60\u53ef\u4ee5\u4f7f\u7528\u751f\u6210\u5668\u8868\u8fbe\u5f0f\u8fed\u4ee3\u4ea7\u751f\u8fc7\u6ee4\u7684\u5143\u7d20\u3002\u6bd4\u5982\uff1a"
      ]
    },
    {
      "cell_type": "code",
      "execution_count": null,
      "metadata": {},
      "outputs": [],
      "source": [
        "pos = (n for n in mylist if n > 0)\npos"
      ]
    },
    {
      "cell_type": "code",
      "execution_count": null,
      "metadata": {},
      "outputs": [],
      "source": [
        "for x in pos:\nprint(x)"
      ]
    },
    {
      "cell_type": "markdown",
      "metadata": {},
      "source": [
        "\u6709\u65f6\u5019\uff0c\u8fc7\u6ee4\u89c4\u5219\u6bd4\u8f83\u590d\u6742\uff0c\u4e0d\u80fd\u7b80\u5355\u7684\u5728\u5217\u8868\u63a8\u5bfc\u6216\u8005\u751f\u6210\u5668\u8868\u8fbe\u5f0f\u4e2d\u8868\u8fbe\u51fa\u6765\u3002\n\u6bd4\u5982\uff0c\u5047\u8bbe\u8fc7\u6ee4\u7684\u65f6\u5019\u9700\u8981\u5904\u7406\u4e00\u4e9b\u5f02\u5e38\u6216\u8005\u5176\u4ed6\u590d\u6742\u60c5\u51b5\u3002\u8fd9\u65f6\u5019\u4f60\u53ef\u4ee5\u5c06\u8fc7\u6ee4\u4ee3\u7801\u653e\u5230\u4e00\u4e2a\u51fd\u6570\u4e2d\uff0c\n\u7136\u540e\u4f7f\u7528\u5185\u5efa\u7684 filter() \u51fd\u6570\u3002\u793a\u4f8b\u5982\u4e0b\uff1a"
      ]
    },
    {
      "cell_type": "code",
      "execution_count": null,
      "metadata": {},
      "outputs": [],
      "source": [
        "v\na\nl\nu\ne\ns\n \n=\n \n[\n'\n1\n'\n,\n \n'\n2\n'\n,\n \n'\n-\n3\n'\n,\n \n'\n-\n'\n,\n \n'\n4\n'\n,\n \n'\nN\n/\nA\n'\n,\n \n'\n5\n'\n]\n\n\nd\ne\nf\n \ni\ns\n_\ni\nn\nt\n(\nv\na\nl\n)\n:\n\n\n \n \n \n \nt\nr\ny\n:\n\n\n \n \n \n \n \n \n \n \nx\n \n=\n \ni\nn\nt\n(\nv\na\nl\n)\n\n\n \n \n \n \n \n \n \n \nr\ne\nt\nu\nr\nn\n \nT\nr\nu\ne\n\n\n \n \n \n \ne\nx\nc\ne\np\nt\n \nV\na\nl\nu\ne\nE\nr\nr\no\nr\n:\n\n\n \n \n \n \n \n \n \n \nr\ne\nt\nu\nr\nn\n \nF\na\nl\ns\ne\n\n\ni\nv\na\nl\ns\n \n=\n \nl\ni\ns\nt\n(\nf\ni\nl\nt\ne\nr\n(\ni\ns\n_\ni\nn\nt\n,\n \nv\na\nl\nu\ne\ns\n)\n)\n\n\np\nr\ni\nn\nt\n(\ni\nv\na\nl\ns\n)\n\n\n#\n \nO\nu\nt\np\nu\nt\ns\n \n[\n'\n1\n'\n,\n \n'\n2\n'\n,\n \n'\n-\n3\n'\n,\n \n'\n4\n'\n,\n \n'\n5\n'\n]\n\n"
      ]
    },
    {
      "cell_type": "markdown",
      "metadata": {},
      "source": [
        "filter() \u51fd\u6570\u521b\u5efa\u4e86\u4e00\u4e2a\u8fed\u4ee3\u5668\uff0c\u56e0\u6b64\u5982\u679c\u4f60\u60f3\u5f97\u5230\u4e00\u4e2a\u5217\u8868\u7684\u8bdd\uff0c\u5c31\u5f97\u50cf\u793a\u4f8b\u90a3\u6837\u4f7f\u7528 list() \u53bb\u8f6c\u6362\u3002"
      ]
    },
    {
      "cell_type": "markdown",
      "metadata": {},
      "source": [
        "### \u8ba8\u8bba\n"
      ]
    },
    {
      "cell_type": "markdown",
      "metadata": {},
      "source": [
        "\u5217\u8868\u63a8\u5bfc\u548c\u751f\u6210\u5668\u8868\u8fbe\u5f0f\u901a\u5e38\u60c5\u51b5\u4e0b\u662f\u8fc7\u6ee4\u6570\u636e\u6700\u7b80\u5355\u7684\u65b9\u5f0f\u3002\n\u5176\u5b9e\u5b83\u4eec\u8fd8\u80fd\u5728\u8fc7\u6ee4\u7684\u65f6\u5019\u8f6c\u6362\u6570\u636e\u3002\u6bd4\u5982\uff1a"
      ]
    },
    {
      "cell_type": "code",
      "execution_count": null,
      "metadata": {},
      "outputs": [],
      "source": [
        "mylist = [1, 4, -5, 10, -7, 2, 3, -1]\nimport math\n[math.sqrt(n) for n in mylist if n > 0]"
      ]
    },
    {
      "cell_type": "markdown",
      "metadata": {},
      "source": [
        "\u8fc7\u6ee4\u64cd\u4f5c\u7684\u4e00\u4e2a\u53d8\u79cd\u5c31\u662f\u5c06\u4e0d\u7b26\u5408\u6761\u4ef6\u7684\u503c\u7528\u65b0\u7684\u503c\u4ee3\u66ff\uff0c\u800c\u4e0d\u662f\u4e22\u5f03\u5b83\u4eec\u3002\n\u6bd4\u5982\uff0c\u5728\u4e00\u5217\u6570\u636e\u4e2d\u4f60\u53ef\u80fd\u4e0d\u4ec5\u60f3\u627e\u5230\u6b63\u6570\uff0c\u800c\u4e14\u8fd8\u60f3\u5c06\u4e0d\u662f\u6b63\u6570\u7684\u6570\u66ff\u6362\u6210\u6307\u5b9a\u7684\u6570\u3002\n\u901a\u8fc7\u5c06\u8fc7\u6ee4\u6761\u4ef6\u653e\u5230\u6761\u4ef6\u8868\u8fbe\u5f0f\u4e2d\u53bb\uff0c\u53ef\u4ee5\u5f88\u5bb9\u6613\u7684\u89e3\u51b3\u8fd9\u4e2a\u95ee\u9898\uff0c\u5c31\u50cf\u8fd9\u6837\uff1a"
      ]
    },
    {
      "cell_type": "code",
      "execution_count": null,
      "metadata": {},
      "outputs": [],
      "source": [
        "clip_neg = [n if n > 0 else 0 for n in mylist]\nclip_neg"
      ]
    },
    {
      "cell_type": "code",
      "execution_count": null,
      "metadata": {},
      "outputs": [],
      "source": [
        "clip_pos = [n if n < 0 else 0 for n in mylist]\nclip_pos"
      ]
    },
    {
      "cell_type": "markdown",
      "metadata": {},
      "source": [
        "\u53e6\u5916\u4e00\u4e2a\u503c\u5f97\u5173\u6ce8\u7684\u8fc7\u6ee4\u5de5\u5177\u5c31\u662f itertools.compress() \uff0c\n\u5b83\u4ee5\u4e00\u4e2a iterable \u5bf9\u8c61\u548c\u4e00\u4e2a\u76f8\u5bf9\u5e94\u7684 Boolean \u9009\u62e9\u5668\u5e8f\u5217\u4f5c\u4e3a\u8f93\u5165\u53c2\u6570\u3002\n\u7136\u540e\u8f93\u51fa iterable \u5bf9\u8c61\u4e2d\u5bf9\u5e94\u9009\u62e9\u5668\u4e3a True \u7684\u5143\u7d20\u3002\n\u5f53\u4f60\u9700\u8981\u7528\u53e6\u5916\u4e00\u4e2a\u76f8\u5173\u8054\u7684\u5e8f\u5217\u6765\u8fc7\u6ee4\u67d0\u4e2a\u5e8f\u5217\u7684\u65f6\u5019\uff0c\u8fd9\u4e2a\u51fd\u6570\u662f\u975e\u5e38\u6709\u7528\u7684\u3002\n\u6bd4\u5982\uff0c\u5047\u5982\u73b0\u5728\u4f60\u6709\u4e0b\u9762\u4e24\u5217\u6570\u636e\uff1a"
      ]
    },
    {
      "cell_type": "code",
      "execution_count": null,
      "metadata": {},
      "outputs": [],
      "source": [
        "a\nd\nd\nr\ne\ns\ns\ne\ns\n \n=\n \n[\n\n\n \n \n \n \n'\n5\n4\n1\n2\n \nN\n \nC\nL\nA\nR\nK\n'\n,\n\n\n \n \n \n \n'\n5\n1\n4\n8\n \nN\n \nC\nL\nA\nR\nK\n'\n,\n\n\n \n \n \n \n'\n5\n8\n0\n0\n \nE\n \n5\n8\nT\nH\n'\n,\n\n\n \n \n \n \n'\n2\n1\n2\n2\n \nN\n \nC\nL\nA\nR\nK\n'\n,\n\n\n \n \n \n \n'\n5\n6\n4\n5\n \nN\n \nR\nA\nV\nE\nN\nS\nW\nO\nO\nD\n'\n,\n\n\n \n \n \n \n'\n1\n0\n6\n0\n \nW\n \nA\nD\nD\nI\nS\nO\nN\n'\n,\n\n\n \n \n \n \n'\n4\n8\n0\n1\n \nN\n \nB\nR\nO\nA\nD\nW\nA\nY\n'\n,\n\n\n \n \n \n \n'\n1\n0\n3\n9\n \nW\n \nG\nR\nA\nN\nV\nI\nL\nL\nE\n'\n,\n\n\n]\n\n\nc\no\nu\nn\nt\ns\n \n=\n \n[\n \n0\n,\n \n3\n,\n \n1\n0\n,\n \n4\n,\n \n1\n,\n \n7\n,\n \n6\n,\n \n1\n]\n\n"
      ]
    },
    {
      "cell_type": "markdown",
      "metadata": {},
      "source": [
        "\u73b0\u5728\u4f60\u60f3\u5c06\u90a3\u4e9b\u5bf9\u5e94 count \u503c\u5927\u4e8e5\u7684\u5730\u5740\u5168\u90e8\u8f93\u51fa\uff0c\u90a3\u4e48\u4f60\u53ef\u4ee5\u8fd9\u6837\u505a\uff1a"
      ]
    },
    {
      "cell_type": "code",
      "execution_count": null,
      "metadata": {},
      "outputs": [],
      "source": [
        "from itertools import compress\nmore5 = [n > 5 for n in counts]\nmore5"
      ]
    },
    {
      "cell_type": "code",
      "execution_count": null,
      "metadata": {},
      "outputs": [],
      "source": [
        "list(compress(addresses, more5))"
      ]
    },
    {
      "cell_type": "markdown",
      "metadata": {},
      "source": [
        "\u8fd9\u91cc\u7684\u5173\u952e\u70b9\u5728\u4e8e\u5148\u521b\u5efa\u4e00\u4e2a Boolean \u5e8f\u5217\uff0c\u6307\u793a\u54ea\u4e9b\u5143\u7d20\u7b26\u5408\u6761\u4ef6\u3002\n\u7136\u540e compress() \u51fd\u6570\u6839\u636e\u8fd9\u4e2a\u5e8f\u5217\u53bb\u9009\u62e9\u8f93\u51fa\u5bf9\u5e94\u4f4d\u7f6e\u4e3a True \u7684\u5143\u7d20\u3002"
      ]
    },
    {
      "cell_type": "markdown",
      "metadata": {},
      "source": [
        "\u548c filter() \u51fd\u6570\u7c7b\u4f3c\uff0c compress() \u4e5f\u662f\u8fd4\u56de\u7684\u4e00\u4e2a\u8fed\u4ee3\u5668\u3002\u56e0\u6b64\uff0c\u5982\u679c\u4f60\u9700\u8981\u5f97\u5230\u4e00\u4e2a\u5217\u8868\uff0c\n\u90a3\u4e48\u4f60\u9700\u8981\u4f7f\u7528 list() \u6765\u5c06\u7ed3\u679c\u8f6c\u6362\u4e3a\u5217\u8868\u7c7b\u578b\u3002"
      ]
    },
    {
      "cell_type": "markdown",
      "metadata": {},
      "source": [
        "## 1.17 \u4ece\u5b57\u5178\u4e2d\u63d0\u53d6\u5b50\u96c6\n"
      ]
    },
    {
      "cell_type": "markdown",
      "metadata": {},
      "source": [
        "### \u95ee\u9898\n"
      ]
    },
    {
      "cell_type": "markdown",
      "metadata": {},
      "source": [
        "\u4f60\u60f3\u6784\u9020\u4e00\u4e2a\u5b57\u5178\uff0c\u5b83\u662f\u53e6\u5916\u4e00\u4e2a\u5b57\u5178\u7684\u5b50\u96c6\u3002"
      ]
    },
    {
      "cell_type": "markdown",
      "metadata": {},
      "source": [
        "### \u89e3\u51b3\u65b9\u6848\n"
      ]
    },
    {
      "cell_type": "markdown",
      "metadata": {},
      "source": [
        "\u6700\u7b80\u5355\u7684\u65b9\u5f0f\u662f\u4f7f\u7528\u5b57\u5178\u63a8\u5bfc\u3002\u6bd4\u5982\uff1a"
      ]
    },
    {
      "cell_type": "code",
      "execution_count": null,
      "metadata": {},
      "outputs": [],
      "source": [
        "p\nr\ni\nc\ne\ns\n \n=\n \n{\n\n\n \n \n \n \n'\nA\nC\nM\nE\n'\n:\n \n4\n5\n.\n2\n3\n,\n\n\n \n \n \n \n'\nA\nA\nP\nL\n'\n:\n \n6\n1\n2\n.\n7\n8\n,\n\n\n \n \n \n \n'\nI\nB\nM\n'\n:\n \n2\n0\n5\n.\n5\n5\n,\n\n\n \n \n \n \n'\nH\nP\nQ\n'\n:\n \n3\n7\n.\n2\n0\n,\n\n\n \n \n \n \n'\nF\nB\n'\n:\n \n1\n0\n.\n7\n5\n\n\n}\n\n\n#\n \nM\na\nk\ne\n \na\n \nd\ni\nc\nt\ni\no\nn\na\nr\ny\n \no\nf\n \na\nl\nl\n \np\nr\ni\nc\ne\ns\n \no\nv\ne\nr\n \n2\n0\n0\n\n\np\n1\n \n=\n \n{\nk\ne\ny\n:\n \nv\na\nl\nu\ne\n \nf\no\nr\n \nk\ne\ny\n,\n \nv\na\nl\nu\ne\n \ni\nn\n \np\nr\ni\nc\ne\ns\n.\ni\nt\ne\nm\ns\n(\n)\n \ni\nf\n \nv\na\nl\nu\ne\n \n>\n \n2\n0\n0\n}\n\n\n#\n \nM\na\nk\ne\n \na\n \nd\ni\nc\nt\ni\no\nn\na\nr\ny\n \no\nf\n \nt\ne\nc\nh\n \ns\nt\no\nc\nk\ns\n\n\nt\ne\nc\nh\n_\nn\na\nm\ne\ns\n \n=\n \n{\n'\nA\nA\nP\nL\n'\n,\n \n'\nI\nB\nM\n'\n,\n \n'\nH\nP\nQ\n'\n,\n \n'\nM\nS\nF\nT\n'\n}\n\n\np\n2\n \n=\n \n{\nk\ne\ny\n:\n \nv\na\nl\nu\ne\n \nf\no\nr\n \nk\ne\ny\n,\n \nv\na\nl\nu\ne\n \ni\nn\n \np\nr\ni\nc\ne\ns\n.\ni\nt\ne\nm\ns\n(\n)\n \ni\nf\n \nk\ne\ny\n \ni\nn\n \nt\ne\nc\nh\n_\nn\na\nm\ne\ns\n}\n\n"
      ]
    },
    {
      "cell_type": "markdown",
      "metadata": {},
      "source": [
        "### \u8ba8\u8bba\n"
      ]
    },
    {
      "cell_type": "markdown",
      "metadata": {},
      "source": [
        "\u5927\u591a\u6570\u60c5\u51b5\u4e0b\u5b57\u5178\u63a8\u5bfc\u80fd\u505a\u5230\u7684\uff0c\u901a\u8fc7\u521b\u5efa\u4e00\u4e2a\u5143\u7ec4\u5e8f\u5217\u7136\u540e\u628a\u5b83\u4f20\u7ed9 dict() \u51fd\u6570\u4e5f\u80fd\u5b9e\u73b0\u3002\u6bd4\u5982\uff1a"
      ]
    },
    {
      "cell_type": "code",
      "execution_count": null,
      "metadata": {},
      "outputs": [],
      "source": [
        "p\n1\n \n=\n \nd\ni\nc\nt\n(\n(\nk\ne\ny\n,\n \nv\na\nl\nu\ne\n)\n \nf\no\nr\n \nk\ne\ny\n,\n \nv\na\nl\nu\ne\n \ni\nn\n \np\nr\ni\nc\ne\ns\n.\ni\nt\ne\nm\ns\n(\n)\n \ni\nf\n \nv\na\nl\nu\ne\n \n>\n \n2\n0\n0\n)\n\n"
      ]
    },
    {
      "cell_type": "markdown",
      "metadata": {},
      "source": [
        "\u4f46\u662f\uff0c\u5b57\u5178\u63a8\u5bfc\u65b9\u5f0f\u8868\u610f\u66f4\u6e05\u6670\uff0c\u5e76\u4e14\u5b9e\u9645\u4e0a\u4e5f\u4f1a\u8fd0\u884c\u7684\u66f4\u5feb\u4e9b\n\uff08\u5728\u8fd9\u4e2a\u4f8b\u5b50\u4e2d\uff0c\u5b9e\u9645\u6d4b\u8bd5\u51e0\u4e4e\u6bd4 dict() \u51fd\u6570\u65b9\u5f0f\u5feb\u6574\u6574\u4e00\u500d\uff09\u3002"
      ]
    },
    {
      "cell_type": "markdown",
      "metadata": {},
      "source": [
        "\u6709\u65f6\u5019\u5b8c\u6210\u540c\u4e00\u4ef6\u4e8b\u4f1a\u6709\u591a\u79cd\u65b9\u5f0f\u3002\u6bd4\u5982\uff0c\u7b2c\u4e8c\u4e2a\u4f8b\u5b50\u7a0b\u5e8f\u4e5f\u53ef\u4ee5\u50cf\u8fd9\u6837\u91cd\u5199\uff1a"
      ]
    },
    {
      "cell_type": "code",
      "execution_count": null,
      "metadata": {},
      "outputs": [],
      "source": [
        "#\n \nM\na\nk\ne\n \na\n \nd\ni\nc\nt\ni\no\nn\na\nr\ny\n \no\nf\n \nt\ne\nc\nh\n \ns\nt\no\nc\nk\ns\n\n\nt\ne\nc\nh\n_\nn\na\nm\ne\ns\n \n=\n \n{\n \n'\nA\nA\nP\nL\n'\n,\n \n'\nI\nB\nM\n'\n,\n \n'\nH\nP\nQ\n'\n,\n \n'\nM\nS\nF\nT\n'\n \n}\n\n\np\n2\n \n=\n \n{\n \nk\ne\ny\n:\np\nr\ni\nc\ne\ns\n[\nk\ne\ny\n]\n \nf\no\nr\n \nk\ne\ny\n \ni\nn\n \np\nr\ni\nc\ne\ns\n.\nk\ne\ny\ns\n(\n)\n \n&\n \nt\ne\nc\nh\n_\nn\na\nm\ne\ns\n \n}\n\n"
      ]
    },
    {
      "cell_type": "markdown",
      "metadata": {},
      "source": [
        "\u4f46\u662f\uff0c\u8fd0\u884c\u65f6\u95f4\u6d4b\u8bd5\u7ed3\u679c\u663e\u793a\u8fd9\u79cd\u65b9\u6848\u5927\u6982\u6bd4\u7b2c\u4e00\u79cd\u65b9\u6848\u6162 1.6 \u500d\u3002\n\u5982\u679c\u5bf9\u7a0b\u5e8f\u8fd0\u884c\u6027\u80fd\u8981\u6c42\u6bd4\u8f83\u9ad8\u7684\u8bdd\uff0c\u9700\u8981\u82b1\u70b9\u65f6\u95f4\u53bb\u505a\u8ba1\u65f6\u6d4b\u8bd5\u3002\n\u5173\u4e8e\u66f4\u591a\u8ba1\u65f6\u548c\u6027\u80fd\u6d4b\u8bd5\uff0c\u53ef\u4ee5\u53c2\u8003 14.13 \u5c0f\u8282\u3002"
      ]
    },
    {
      "cell_type": "markdown",
      "metadata": {},
      "source": [
        "## 1.18 \u6620\u5c04\u540d\u79f0\u5230\u5e8f\u5217\u5143\u7d20\n"
      ]
    },
    {
      "cell_type": "markdown",
      "metadata": {},
      "source": [
        "### \u95ee\u9898\n"
      ]
    },
    {
      "cell_type": "markdown",
      "metadata": {},
      "source": [
        "\u4f60\u6709\u4e00\u6bb5\u901a\u8fc7\u4e0b\u6807\u8bbf\u95ee\u5217\u8868\u6216\u8005\u5143\u7ec4\u4e2d\u5143\u7d20\u7684\u4ee3\u7801\uff0c\u4f46\u662f\u8fd9\u6837\u6709\u65f6\u5019\u4f1a\u4f7f\u5f97\u4f60\u7684\u4ee3\u7801\u96be\u4ee5\u9605\u8bfb\uff0c\n\u4e8e\u662f\u4f60\u60f3\u901a\u8fc7\u540d\u79f0\u6765\u8bbf\u95ee\u5143\u7d20\u3002"
      ]
    },
    {
      "cell_type": "markdown",
      "metadata": {},
      "source": [
        "### \u89e3\u51b3\u65b9\u6848\n"
      ]
    },
    {
      "cell_type": "markdown",
      "metadata": {},
      "source": [
        "collections.namedtuple() \u51fd\u6570\u901a\u8fc7\u4f7f\u7528\u4e00\u4e2a\u666e\u901a\u7684\u5143\u7ec4\u5bf9\u8c61\u6765\u5e2e\u4f60\u89e3\u51b3\u8fd9\u4e2a\u95ee\u9898\u3002\n\u8fd9\u4e2a\u51fd\u6570\u5b9e\u9645\u4e0a\u662f\u4e00\u4e2a\u8fd4\u56de Python \u4e2d\u6807\u51c6\u5143\u7ec4\u7c7b\u578b\u5b50\u7c7b\u7684\u4e00\u4e2a\u5de5\u5382\u65b9\u6cd5\u3002\n\u4f60\u9700\u8981\u4f20\u9012\u4e00\u4e2a\u7c7b\u578b\u540d\u548c\u4f60\u9700\u8981\u7684\u5b57\u6bb5\u7ed9\u5b83\uff0c\u7136\u540e\u5b83\u5c31\u4f1a\u8fd4\u56de\u4e00\u4e2a\u7c7b\uff0c\u4f60\u53ef\u4ee5\u521d\u59cb\u5316\u8fd9\u4e2a\u7c7b\uff0c\u4e3a\u4f60\u5b9a\u4e49\u7684\u5b57\u6bb5\u4f20\u9012\u503c\u7b49\u3002\n\u4ee3\u7801\u793a\u4f8b\uff1a"
      ]
    },
    {
      "cell_type": "code",
      "execution_count": null,
      "metadata": {},
      "outputs": [],
      "source": [
        "from collections import namedtuple\nSubscriber = namedtuple('Subscriber', ['addr', 'joined'])\nsub = Subscriber('jonesy@example.com', '2012-10-19')\nsub"
      ]
    },
    {
      "cell_type": "code",
      "execution_count": null,
      "metadata": {},
      "outputs": [],
      "source": [
        "sub.addr"
      ]
    },
    {
      "cell_type": "code",
      "execution_count": null,
      "metadata": {},
      "outputs": [],
      "source": [
        "sub.joined"
      ]
    },
    {
      "cell_type": "markdown",
      "metadata": {},
      "source": [
        "\u5c3d\u7ba1 namedtuple \u7684\u5b9e\u4f8b\u770b\u8d77\u6765\u50cf\u4e00\u4e2a\u666e\u901a\u7684\u7c7b\u5b9e\u4f8b\uff0c\u4f46\u662f\u5b83\u8ddf\u5143\u7ec4\u7c7b\u578b\u662f\u53ef\u4ea4\u6362\u7684\uff0c\u652f\u6301\u6240\u6709\u7684\u666e\u901a\u5143\u7ec4\u64cd\u4f5c\uff0c\u6bd4\u5982\u7d22\u5f15\u548c\u89e3\u538b\u3002\n\u6bd4\u5982\uff1a"
      ]
    },
    {
      "cell_type": "code",
      "execution_count": null,
      "metadata": {},
      "outputs": [],
      "source": [
        "len(sub)"
      ]
    },
    {
      "cell_type": "code",
      "execution_count": null,
      "metadata": {},
      "outputs": [],
      "source": [
        "addr, joined = sub\naddr"
      ]
    },
    {
      "cell_type": "code",
      "execution_count": null,
      "metadata": {},
      "outputs": [],
      "source": [
        "joined"
      ]
    },
    {
      "cell_type": "markdown",
      "metadata": {},
      "source": [
        "\u547d\u540d\u5143\u7ec4\u7684\u4e00\u4e2a\u4e3b\u8981\u7528\u9014\u662f\u5c06\u4f60\u7684\u4ee3\u7801\u4ece\u4e0b\u6807\u64cd\u4f5c\u4e2d\u89e3\u8131\u51fa\u6765\u3002\n\u56e0\u6b64\uff0c\u5982\u679c\u4f60\u4ece\u6570\u636e\u5e93\u8c03\u7528\u4e2d\u8fd4\u56de\u4e86\u4e00\u4e2a\u5f88\u5927\u7684\u5143\u7ec4\u5217\u8868\uff0c\u901a\u8fc7\u4e0b\u6807\u53bb\u64cd\u4f5c\u5176\u4e2d\u7684\u5143\u7d20\uff0c\n\u5f53\u4f60\u5728\u8868\u4e2d\u6dfb\u52a0\u4e86\u65b0\u7684\u5217\u7684\u65f6\u5019\u4f60\u7684\u4ee3\u7801\u53ef\u80fd\u5c31\u4f1a\u51fa\u9519\u4e86\u3002\u4f46\u662f\u5982\u679c\u4f60\u4f7f\u7528\u4e86\u547d\u540d\u5143\u7ec4\uff0c\u90a3\u4e48\u5c31\u4e0d\u4f1a\u6709\u8fd9\u6837\u7684\u987e\u8651\u3002"
      ]
    },
    {
      "cell_type": "markdown",
      "metadata": {},
      "source": [
        "\u4e3a\u4e86\u8bf4\u660e\u6e05\u695a\uff0c\u4e0b\u9762\u662f\u4f7f\u7528\u666e\u901a\u5143\u7ec4\u7684\u4ee3\u7801\uff1a"
      ]
    },
    {
      "cell_type": "code",
      "execution_count": null,
      "metadata": {},
      "outputs": [],
      "source": [
        "d\ne\nf\n \nc\no\nm\np\nu\nt\ne\n_\nc\no\ns\nt\n(\nr\ne\nc\no\nr\nd\ns\n)\n:\n\n\n \n \n \n \nt\no\nt\na\nl\n \n=\n \n0\n.\n0\n\n\n \n \n \n \nf\no\nr\n \nr\ne\nc\n \ni\nn\n \nr\ne\nc\no\nr\nd\ns\n:\n\n\n \n \n \n \n \n \n \n \nt\no\nt\na\nl\n \n+\n=\n \nr\ne\nc\n[\n1\n]\n \n*\n \nr\ne\nc\n[\n2\n]\n\n\n \n \n \n \nr\ne\nt\nu\nr\nn\n \nt\no\nt\na\nl\n\n"
      ]
    },
    {
      "cell_type": "markdown",
      "metadata": {},
      "source": [
        "\u4e0b\u6807\u64cd\u4f5c\u901a\u5e38\u4f1a\u8ba9\u4ee3\u7801\u8868\u610f\u4e0d\u6e05\u6670\uff0c\u5e76\u4e14\u975e\u5e38\u4f9d\u8d56\u8bb0\u5f55\u7684\u7ed3\u6784\u3002\n\u4e0b\u9762\u662f\u4f7f\u7528\u547d\u540d\u5143\u7ec4\u7684\u7248\u672c\uff1a"
      ]
    },
    {
      "cell_type": "code",
      "execution_count": null,
      "metadata": {},
      "outputs": [],
      "source": [
        "f\nr\no\nm\n \nc\no\nl\nl\ne\nc\nt\ni\no\nn\ns\n \ni\nm\np\no\nr\nt\n \nn\na\nm\ne\nd\nt\nu\np\nl\ne\n\n\n\n\nS\nt\no\nc\nk\n \n=\n \nn\na\nm\ne\nd\nt\nu\np\nl\ne\n(\n'\nS\nt\no\nc\nk\n'\n,\n \n[\n'\nn\na\nm\ne\n'\n,\n \n'\ns\nh\na\nr\ne\ns\n'\n,\n \n'\np\nr\ni\nc\ne\n'\n]\n)\n\n\nd\ne\nf\n \nc\no\nm\np\nu\nt\ne\n_\nc\no\ns\nt\n(\nr\ne\nc\no\nr\nd\ns\n)\n:\n\n\n \n \n \n \nt\no\nt\na\nl\n \n=\n \n0\n.\n0\n\n\n \n \n \n \nf\no\nr\n \nr\ne\nc\n \ni\nn\n \nr\ne\nc\no\nr\nd\ns\n:\n\n\n \n \n \n \n \n \n \n \ns\n \n=\n \nS\nt\no\nc\nk\n(\n*\nr\ne\nc\n)\n\n\n \n \n \n \n \n \n \n \nt\no\nt\na\nl\n \n+\n=\n \ns\n.\ns\nh\na\nr\ne\ns\n \n*\n \ns\n.\np\nr\ni\nc\ne\n\n\n \n \n \n \nr\ne\nt\nu\nr\nn\n \nt\no\nt\na\nl\n\n"
      ]
    },
    {
      "cell_type": "markdown",
      "metadata": {},
      "source": [
        "### \u8ba8\u8bba\n"
      ]
    },
    {
      "cell_type": "markdown",
      "metadata": {},
      "source": [
        "\u547d\u540d\u5143\u7ec4\u53e6\u4e00\u4e2a\u7528\u9014\u5c31\u662f\u4f5c\u4e3a\u5b57\u5178\u7684\u66ff\u4ee3\uff0c\u56e0\u4e3a\u5b57\u5178\u5b58\u50a8\u9700\u8981\u66f4\u591a\u7684\u5185\u5b58\u7a7a\u95f4\u3002\n\u5982\u679c\u4f60\u9700\u8981\u6784\u5efa\u4e00\u4e2a\u975e\u5e38\u5927\u7684\u5305\u542b\u5b57\u5178\u7684\u6570\u636e\u7ed3\u6784\uff0c\u90a3\u4e48\u4f7f\u7528\u547d\u540d\u5143\u7ec4\u4f1a\u66f4\u52a0\u9ad8\u6548\u3002\n\u4f46\u662f\u9700\u8981\u6ce8\u610f\u7684\u662f\uff0c\u4e0d\u50cf\u5b57\u5178\u90a3\u6837\uff0c\u4e00\u4e2a\u547d\u540d\u5143\u7ec4\u662f\u4e0d\u53ef\u66f4\u6539\u7684\u3002\u6bd4\u5982\uff1a"
      ]
    },
    {
      "cell_type": "code",
      "execution_count": null,
      "metadata": {},
      "outputs": [],
      "source": [
        "s = Stock('ACME', 100, 123.45)\ns"
      ]
    },
    {
      "cell_type": "code",
      "execution_count": null,
      "metadata": {},
      "outputs": [],
      "source": [
        "s.shares = 75"
      ]
    },
    {
      "cell_type": "markdown",
      "metadata": {},
      "source": [
        "\u5982\u679c\u4f60\u771f\u7684\u9700\u8981\u6539\u53d8\u5c5e\u6027\u7684\u503c\uff0c\u90a3\u4e48\u53ef\u4ee5\u4f7f\u7528\u547d\u540d\u5143\u7ec4\u5b9e\u4f8b\u7684 _replace() \u65b9\u6cd5\uff0c\n\u5b83\u4f1a\u521b\u5efa\u4e00\u4e2a\u5168\u65b0\u7684\u547d\u540d\u5143\u7ec4\u5e76\u5c06\u5bf9\u5e94\u7684\u5b57\u6bb5\u7528\u65b0\u7684\u503c\u53d6\u4ee3\u3002\u6bd4\u5982\uff1a"
      ]
    },
    {
      "cell_type": "code",
      "execution_count": null,
      "metadata": {},
      "outputs": [],
      "source": [
        "s = s._replace(shares=75)\ns"
      ]
    },
    {
      "cell_type": "markdown",
      "metadata": {},
      "source": [
        "_replace() \u65b9\u6cd5\u8fd8\u6709\u4e00\u4e2a\u5f88\u6709\u7528\u7684\u7279\u6027\u5c31\u662f\u5f53\u4f60\u7684\u547d\u540d\u5143\u7ec4\u62e5\u6709\u53ef\u9009\u6216\u8005\u7f3a\u5931\u5b57\u6bb5\u65f6\u5019\uff0c\n\u5b83\u662f\u4e00\u4e2a\u975e\u5e38\u65b9\u4fbf\u7684\u586b\u5145\u6570\u636e\u7684\u65b9\u6cd5\u3002\n\u4f60\u53ef\u4ee5\u5148\u521b\u5efa\u4e00\u4e2a\u5305\u542b\u7f3a\u7701\u503c\u7684\u539f\u578b\u5143\u7ec4\uff0c\u7136\u540e\u4f7f\u7528 _replace() \u65b9\u6cd5\u521b\u5efa\u65b0\u7684\u503c\u88ab\u66f4\u65b0\u8fc7\u7684\u5b9e\u4f8b\u3002\u6bd4\u5982\uff1a"
      ]
    },
    {
      "cell_type": "code",
      "execution_count": null,
      "metadata": {},
      "outputs": [],
      "source": [
        "f\nr\no\nm\n \nc\no\nl\nl\ne\nc\nt\ni\no\nn\ns\n \ni\nm\np\no\nr\nt\n \nn\na\nm\ne\nd\nt\nu\np\nl\ne\n\n\n\n\nS\nt\no\nc\nk\n \n=\n \nn\na\nm\ne\nd\nt\nu\np\nl\ne\n(\n'\nS\nt\no\nc\nk\n'\n,\n \n[\n'\nn\na\nm\ne\n'\n,\n \n'\ns\nh\na\nr\ne\ns\n'\n,\n \n'\np\nr\ni\nc\ne\n'\n,\n \n'\nd\na\nt\ne\n'\n,\n \n'\nt\ni\nm\ne\n'\n]\n)\n\n\n\n\n#\n \nC\nr\ne\na\nt\ne\n \na\n \np\nr\no\nt\no\nt\ny\np\ne\n \ni\nn\ns\nt\na\nn\nc\ne\n\n\ns\nt\no\nc\nk\n_\np\nr\no\nt\no\nt\ny\np\ne\n \n=\n \nS\nt\no\nc\nk\n(\n'\n'\n,\n \n0\n,\n \n0\n.\n0\n,\n \nN\no\nn\ne\n,\n \nN\no\nn\ne\n)\n\n\n\n\n#\n \nF\nu\nn\nc\nt\ni\no\nn\n \nt\no\n \nc\no\nn\nv\ne\nr\nt\n \na\n \nd\ni\nc\nt\ni\no\nn\na\nr\ny\n \nt\no\n \na\n \nS\nt\no\nc\nk\n\n\nd\ne\nf\n \nd\ni\nc\nt\n_\nt\no\n_\ns\nt\no\nc\nk\n(\ns\n)\n:\n\n\n \n \n \n \nr\ne\nt\nu\nr\nn\n \ns\nt\no\nc\nk\n_\np\nr\no\nt\no\nt\ny\np\ne\n.\n_\nr\ne\np\nl\na\nc\ne\n(\n*\n*\ns\n)\n\n"
      ]
    },
    {
      "cell_type": "markdown",
      "metadata": {},
      "source": [
        "\u4e0b\u9762\u662f\u5b83\u7684\u4f7f\u7528\u65b9\u6cd5\uff1a"
      ]
    },
    {
      "cell_type": "code",
      "execution_count": null,
      "metadata": {},
      "outputs": [],
      "source": [
        "a = {'name': 'ACME', 'shares': 100, 'price': 123.45}\ndict_to_stock(a)"
      ]
    },
    {
      "cell_type": "code",
      "execution_count": null,
      "metadata": {},
      "outputs": [],
      "source": [
        "b = {'name': 'ACME', 'shares': 100, 'price': 123.45, 'date': '12/17/2012'}\ndict_to_stock(b)"
      ]
    },
    {
      "cell_type": "markdown",
      "metadata": {},
      "source": [
        "\u6700\u540e\u8981\u8bf4\u7684\u662f\uff0c\u5982\u679c\u4f60\u7684\u76ee\u6807\u662f\u5b9a\u4e49\u4e00\u4e2a\u9700\u8981\u66f4\u65b0\u5f88\u591a\u5b9e\u4f8b\u5c5e\u6027\u7684\u9ad8\u6548\u6570\u636e\u7ed3\u6784\uff0c\u90a3\u4e48\u547d\u540d\u5143\u7ec4\u5e76\u4e0d\u662f\u4f60\u7684\u6700\u4f73\u9009\u62e9\u3002\n\u8fd9\u65f6\u5019\u4f60\u5e94\u8be5\u8003\u8651\u5b9a\u4e49\u4e00\u4e2a\u5305\u542b __slots__ \u65b9\u6cd5\u7684\u7c7b\uff08\u53c2\u80038.4\u5c0f\u8282\uff09\u3002"
      ]
    },
    {
      "cell_type": "markdown",
      "metadata": {},
      "source": [
        "## 1.19 \u8f6c\u6362\u5e76\u540c\u65f6\u8ba1\u7b97\u6570\u636e\n"
      ]
    },
    {
      "cell_type": "markdown",
      "metadata": {},
      "source": [
        "### \u95ee\u9898\n"
      ]
    },
    {
      "cell_type": "markdown",
      "metadata": {},
      "source": [
        "\u4f60\u9700\u8981\u5728\u6570\u636e\u5e8f\u5217\u4e0a\u6267\u884c\u805a\u96c6\u51fd\u6570\uff08\u6bd4\u5982 sum() , min() , max() \uff09\uff0c\n\u4f46\u662f\u9996\u5148\u4f60\u9700\u8981\u5148\u8f6c\u6362\u6216\u8005\u8fc7\u6ee4\u6570\u636e"
      ]
    },
    {
      "cell_type": "markdown",
      "metadata": {},
      "source": [
        "### \u89e3\u51b3\u65b9\u6848\n"
      ]
    },
    {
      "cell_type": "markdown",
      "metadata": {},
      "source": [
        "\u4e00\u4e2a\u975e\u5e38\u4f18\u96c5\u7684\u65b9\u5f0f\u53bb\u7ed3\u5408\u6570\u636e\u8ba1\u7b97\u4e0e\u8f6c\u6362\u5c31\u662f\u4f7f\u7528\u4e00\u4e2a\u751f\u6210\u5668\u8868\u8fbe\u5f0f\u53c2\u6570\u3002\n\u6bd4\u5982\uff0c\u5982\u679c\u4f60\u60f3\u8ba1\u7b97\u5e73\u65b9\u548c\uff0c\u53ef\u4ee5\u50cf\u4e0b\u9762\u8fd9\u6837\u505a\uff1a"
      ]
    },
    {
      "cell_type": "code",
      "execution_count": null,
      "metadata": {},
      "outputs": [],
      "source": [
        "n\nu\nm\ns\n \n=\n \n[\n1\n,\n \n2\n,\n \n3\n,\n \n4\n,\n \n5\n]\n\n\ns\n \n=\n \ns\nu\nm\n(\nx\n \n*\n \nx\n \nf\no\nr\n \nx\n \ni\nn\n \nn\nu\nm\ns\n)\n\n"
      ]
    },
    {
      "cell_type": "markdown",
      "metadata": {},
      "source": [
        "\u4e0b\u9762\u662f\u66f4\u591a\u7684\u4f8b\u5b50\uff1a"
      ]
    },
    {
      "cell_type": "code",
      "execution_count": null,
      "metadata": {},
      "outputs": [],
      "source": [
        "#\n \nD\ne\nt\ne\nr\nm\ni\nn\ne\n \ni\nf\n \na\nn\ny\n \n.\np\ny\n \nf\ni\nl\ne\ns\n \ne\nx\ni\ns\nt\n \ni\nn\n \na\n \nd\ni\nr\ne\nc\nt\no\nr\ny\n\n\ni\nm\np\no\nr\nt\n \no\ns\n\n\nf\ni\nl\ne\ns\n \n=\n \no\ns\n.\nl\ni\ns\nt\nd\ni\nr\n(\n'\nd\ni\nr\nn\na\nm\ne\n'\n)\n\n\ni\nf\n \na\nn\ny\n(\nn\na\nm\ne\n.\ne\nn\nd\ns\nw\ni\nt\nh\n(\n'\n.\np\ny\n'\n)\n \nf\no\nr\n \nn\na\nm\ne\n \ni\nn\n \nf\ni\nl\ne\ns\n)\n:\n\n\n \n \n \n \np\nr\ni\nn\nt\n(\n'\nT\nh\ne\nr\ne\n \nb\ne\n \np\ny\nt\nh\no\nn\n!\n'\n)\n\n\ne\nl\ns\ne\n:\n\n\n \n \n \n \np\nr\ni\nn\nt\n(\n'\nS\no\nr\nr\ny\n,\n \nn\no\n \np\ny\nt\nh\no\nn\n.\n'\n)\n\n\n#\n \nO\nu\nt\np\nu\nt\n \na\n \nt\nu\np\nl\ne\n \na\ns\n \nC\nS\nV\n\n\ns\n \n=\n \n(\n'\nA\nC\nM\nE\n'\n,\n \n5\n0\n,\n \n1\n2\n3\n.\n4\n5\n)\n\n\np\nr\ni\nn\nt\n(\n'\n,\n'\n.\nj\no\ni\nn\n(\ns\nt\nr\n(\nx\n)\n \nf\no\nr\n \nx\n \ni\nn\n \ns\n)\n)\n\n\n#\n \nD\na\nt\na\n \nr\ne\nd\nu\nc\nt\ni\no\nn\n \na\nc\nr\no\ns\ns\n \nf\ni\ne\nl\nd\ns\n \no\nf\n \na\n \nd\na\nt\na\n \ns\nt\nr\nu\nc\nt\nu\nr\ne\n\n\np\no\nr\nt\nf\no\nl\ni\no\n \n=\n \n[\n\n\n \n \n \n \n{\n'\nn\na\nm\ne\n'\n:\n'\nG\nO\nO\nG\n'\n,\n \n'\ns\nh\na\nr\ne\ns\n'\n:\n \n5\n0\n}\n,\n\n\n \n \n \n \n{\n'\nn\na\nm\ne\n'\n:\n'\nY\nH\nO\nO\n'\n,\n \n'\ns\nh\na\nr\ne\ns\n'\n:\n \n7\n5\n}\n,\n\n\n \n \n \n \n{\n'\nn\na\nm\ne\n'\n:\n'\nA\nO\nL\n'\n,\n \n'\ns\nh\na\nr\ne\ns\n'\n:\n \n2\n0\n}\n,\n\n\n \n \n \n \n{\n'\nn\na\nm\ne\n'\n:\n'\nS\nC\nO\nX\n'\n,\n \n'\ns\nh\na\nr\ne\ns\n'\n:\n \n6\n5\n}\n\n\n]\n\n\nm\ni\nn\n_\ns\nh\na\nr\ne\ns\n \n=\n \nm\ni\nn\n(\ns\n[\n'\ns\nh\na\nr\ne\ns\n'\n]\n \nf\no\nr\n \ns\n \ni\nn\n \np\no\nr\nt\nf\no\nl\ni\no\n)\n\n"
      ]
    },
    {
      "cell_type": "markdown",
      "metadata": {},
      "source": [
        "### \u8ba8\u8bba\n"
      ]
    },
    {
      "cell_type": "markdown",
      "metadata": {},
      "source": [
        "\u4e0a\u9762\u7684\u793a\u4f8b\u5411\u4f60\u6f14\u793a\u4e86\u5f53\u751f\u6210\u5668\u8868\u8fbe\u5f0f\u4f5c\u4e3a\u4e00\u4e2a\u5355\u72ec\u53c2\u6570\u4f20\u9012\u7ed9\u51fd\u6570\u65f6\u5019\u7684\u5de7\u5999\u8bed\u6cd5\uff08\u4f60\u5e76\u4e0d\u9700\u8981\u591a\u52a0\u4e00\u4e2a\u62ec\u53f7\uff09\u3002\n\u6bd4\u5982\uff0c\u4e0b\u9762\u8fd9\u4e9b\u8bed\u53e5\u662f\u7b49\u6548\u7684\uff1a"
      ]
    },
    {
      "cell_type": "code",
      "execution_count": null,
      "metadata": {},
      "outputs": [],
      "source": [
        "s\n \n=\n \ns\nu\nm\n(\n(\nx\n \n*\n \nx\n \nf\no\nr\n \nx\n \ni\nn\n \nn\nu\nm\ns\n)\n)\n \n#\n \n\u663e\n\u5f0f\n\u7684\n\u4f20\n\u9012\n\u4e00\n\u4e2a\n\u751f\n\u6210\n\u5668\n\u8868\n\u8fbe\n\u5f0f\n\u5bf9\n\u8c61\n\n\ns\n \n=\n \ns\nu\nm\n(\nx\n \n*\n \nx\n \nf\no\nr\n \nx\n \ni\nn\n \nn\nu\nm\ns\n)\n \n#\n \n\u66f4\n\u52a0\n\u4f18\n\u96c5\n\u7684\n\u5b9e\n\u73b0\n\u65b9\n\u5f0f\n\uff0c\n\u7701\n\u7565\n\u4e86\n\u62ec\n\u53f7\n\n"
      ]
    },
    {
      "cell_type": "markdown",
      "metadata": {},
      "source": [
        "\u4f7f\u7528\u4e00\u4e2a\u751f\u6210\u5668\u8868\u8fbe\u5f0f\u4f5c\u4e3a\u53c2\u6570\u4f1a\u6bd4\u5148\u521b\u5efa\u4e00\u4e2a\u4e34\u65f6\u5217\u8868\u66f4\u52a0\u9ad8\u6548\u548c\u4f18\u96c5\u3002\n\u6bd4\u5982\uff0c\u5982\u679c\u4f60\u4e0d\u4f7f\u7528\u751f\u6210\u5668\u8868\u8fbe\u5f0f\u7684\u8bdd\uff0c\u4f60\u53ef\u80fd\u4f1a\u8003\u8651\u4f7f\u7528\u4e0b\u9762\u7684\u5b9e\u73b0\u65b9\u5f0f\uff1a"
      ]
    },
    {
      "cell_type": "code",
      "execution_count": null,
      "metadata": {},
      "outputs": [],
      "source": [
        "n\nu\nm\ns\n \n=\n \n[\n1\n,\n \n2\n,\n \n3\n,\n \n4\n,\n \n5\n]\n\n\ns\n \n=\n \ns\nu\nm\n(\n[\nx\n \n*\n \nx\n \nf\no\nr\n \nx\n \ni\nn\n \nn\nu\nm\ns\n]\n)\n\n"
      ]
    },
    {
      "cell_type": "markdown",
      "metadata": {},
      "source": [
        "\u8fd9\u79cd\u65b9\u5f0f\u540c\u6837\u53ef\u4ee5\u8fbe\u5230\u60f3\u8981\u7684\u6548\u679c\uff0c\u4f46\u662f\u5b83\u4f1a\u591a\u4e00\u4e2a\u6b65\u9aa4\uff0c\u5148\u521b\u5efa\u4e00\u4e2a\u989d\u5916\u7684\u5217\u8868\u3002\n\u5bf9\u4e8e\u5c0f\u578b\u5217\u8868\u53ef\u80fd\u6ca1\u4ec0\u4e48\u5173\u7cfb\uff0c\u4f46\u662f\u5982\u679c\u5143\u7d20\u6570\u91cf\u975e\u5e38\u5927\u7684\u65f6\u5019\uff0c\n\u5b83\u4f1a\u521b\u5efa\u4e00\u4e2a\u5de8\u5927\u7684\u4ec5\u4ec5\u88ab\u4f7f\u7528\u4e00\u6b21\u5c31\u88ab\u4e22\u5f03\u7684\u4e34\u65f6\u6570\u636e\u7ed3\u6784\u3002\u800c\u751f\u6210\u5668\u65b9\u6848\u4f1a\u4ee5\u8fed\u4ee3\u7684\u65b9\u5f0f\u8f6c\u6362\u6570\u636e\uff0c\u56e0\u6b64\u66f4\u7701\u5185\u5b58\u3002"
      ]
    },
    {
      "cell_type": "markdown",
      "metadata": {},
      "source": [
        "\u5728\u4f7f\u7528\u4e00\u4e9b\u805a\u96c6\u51fd\u6570\u6bd4\u5982 min() \u548c max() \u7684\u65f6\u5019\u4f60\u53ef\u80fd\u66f4\u52a0\u503e\u5411\u4e8e\u4f7f\u7528\u751f\u6210\u5668\u7248\u672c\uff0c\n\u5b83\u4eec\u63a5\u53d7\u7684\u4e00\u4e2a key \u5173\u952e\u5b57\u53c2\u6570\u6216\u8bb8\u5bf9\u4f60\u5f88\u6709\u5e2e\u52a9\u3002\n\u6bd4\u5982\uff0c\u5728\u4e0a\u9762\u7684\u8bc1\u5238\u4f8b\u5b50\u4e2d\uff0c\u4f60\u53ef\u80fd\u4f1a\u8003\u8651\u4e0b\u9762\u7684\u5b9e\u73b0\u7248\u672c\uff1a"
      ]
    },
    {
      "cell_type": "code",
      "execution_count": null,
      "metadata": {},
      "outputs": [],
      "source": [
        "#\n \nO\nr\ni\ng\ni\nn\na\nl\n:\n \nR\ne\nt\nu\nr\nn\ns\n \n2\n0\n\n\nm\ni\nn\n_\ns\nh\na\nr\ne\ns\n \n=\n \nm\ni\nn\n(\ns\n[\n'\ns\nh\na\nr\ne\ns\n'\n]\n \nf\no\nr\n \ns\n \ni\nn\n \np\no\nr\nt\nf\no\nl\ni\no\n)\n\n\n#\n \nA\nl\nt\ne\nr\nn\na\nt\ni\nv\ne\n:\n \nR\ne\nt\nu\nr\nn\ns\n \n{\n'\nn\na\nm\ne\n'\n:\n \n'\nA\nO\nL\n'\n,\n \n'\ns\nh\na\nr\ne\ns\n'\n:\n \n2\n0\n}\n\n\nm\ni\nn\n_\ns\nh\na\nr\ne\ns\n \n=\n \nm\ni\nn\n(\np\no\nr\nt\nf\no\nl\ni\no\n,\n \nk\ne\ny\n=\nl\na\nm\nb\nd\na\n \ns\n:\n \ns\n[\n'\ns\nh\na\nr\ne\ns\n'\n]\n)\n\n"
      ]
    },
    {
      "cell_type": "markdown",
      "metadata": {},
      "source": [
        "## 1.20 \u5408\u5e76\u591a\u4e2a\u5b57\u5178\u6216\u6620\u5c04\n"
      ]
    },
    {
      "cell_type": "markdown",
      "metadata": {},
      "source": [
        "### \u95ee\u9898\n"
      ]
    },
    {
      "cell_type": "markdown",
      "metadata": {},
      "source": [
        "\u73b0\u5728\u6709\u591a\u4e2a\u5b57\u5178\u6216\u8005\u6620\u5c04\uff0c\u4f60\u60f3\u5c06\u5b83\u4eec\u4ece\u903b\u8f91\u4e0a\u5408\u5e76\u4e3a\u4e00\u4e2a\u5355\u4e00\u7684\u6620\u5c04\u540e\u6267\u884c\u67d0\u4e9b\u64cd\u4f5c\uff0c\n\u6bd4\u5982\u67e5\u627e\u503c\u6216\u8005\u68c0\u67e5\u67d0\u4e9b\u952e\u662f\u5426\u5b58\u5728\u3002"
      ]
    },
    {
      "cell_type": "markdown",
      "metadata": {},
      "source": [
        "### \u89e3\u51b3\u65b9\u6848\n"
      ]
    },
    {
      "cell_type": "markdown",
      "metadata": {},
      "source": [
        "\u5047\u5982\u4f60\u6709\u5982\u4e0b\u4e24\u4e2a\u5b57\u5178:"
      ]
    },
    {
      "cell_type": "code",
      "execution_count": null,
      "metadata": {},
      "outputs": [],
      "source": [
        "a\n \n=\n \n{\n'\nx\n'\n:\n \n1\n,\n \n'\nz\n'\n:\n \n3\n \n}\n\n\nb\n \n=\n \n{\n'\ny\n'\n:\n \n2\n,\n \n'\nz\n'\n:\n \n4\n \n}\n\n"
      ]
    },
    {
      "cell_type": "markdown",
      "metadata": {},
      "source": [
        "\u73b0\u5728\u5047\u8bbe\u4f60\u5fc5\u987b\u5728\u4e24\u4e2a\u5b57\u5178\u4e2d\u6267\u884c\u67e5\u627e\u64cd\u4f5c\uff08\u6bd4\u5982\u5148\u4ece a \u4e2d\u627e\uff0c\u5982\u679c\u627e\u4e0d\u5230\u518d\u5728 b \u4e2d\u627e\uff09\u3002\n\u4e00\u4e2a\u975e\u5e38\u7b80\u5355\u7684\u89e3\u51b3\u65b9\u6848\u5c31\u662f\u4f7f\u7528 collections \u6a21\u5757\u4e2d\u7684 ChainMap \u7c7b\u3002\u6bd4\u5982\uff1a"
      ]
    },
    {
      "cell_type": "code",
      "execution_count": null,
      "metadata": {},
      "outputs": [],
      "source": [
        "f\nr\no\nm\n \nc\no\nl\nl\ne\nc\nt\ni\no\nn\ns\n \ni\nm\np\no\nr\nt\n \nC\nh\na\ni\nn\nM\na\np\n\n\nc\n \n=\n \nC\nh\na\ni\nn\nM\na\np\n(\na\n,\nb\n)\n\n\np\nr\ni\nn\nt\n(\nc\n[\n'\nx\n'\n]\n)\n \n#\n \nO\nu\nt\np\nu\nt\ns\n \n1\n \n(\nf\nr\no\nm\n \na\n)\n\n\np\nr\ni\nn\nt\n(\nc\n[\n'\ny\n'\n]\n)\n \n#\n \nO\nu\nt\np\nu\nt\ns\n \n2\n \n(\nf\nr\no\nm\n \nb\n)\n\n\np\nr\ni\nn\nt\n(\nc\n[\n'\nz\n'\n]\n)\n \n#\n \nO\nu\nt\np\nu\nt\ns\n \n3\n \n(\nf\nr\no\nm\n \na\n)\n\n"
      ]
    },
    {
      "cell_type": "markdown",
      "metadata": {},
      "source": [
        "### \u8ba8\u8bba\n"
      ]
    },
    {
      "cell_type": "markdown",
      "metadata": {},
      "source": [
        "\u4e00\u4e2a ChainMap \u63a5\u53d7\u591a\u4e2a\u5b57\u5178\u5e76\u5c06\u5b83\u4eec\u5728\u903b\u8f91\u4e0a\u53d8\u4e3a\u4e00\u4e2a\u5b57\u5178\u3002\n\u7136\u540e\uff0c\u8fd9\u4e9b\u5b57\u5178\u5e76\u4e0d\u662f\u771f\u7684\u5408\u5e76\u5728\u4e00\u8d77\u4e86\uff0c ChainMap \u7c7b\u53ea\u662f\u5728\u5185\u90e8\u521b\u5efa\u4e86\u4e00\u4e2a\u5bb9\u7eb3\u8fd9\u4e9b\u5b57\u5178\u7684\u5217\u8868\n\u5e76\u91cd\u65b0\u5b9a\u4e49\u4e86\u4e00\u4e9b\u5e38\u89c1\u7684\u5b57\u5178\u64cd\u4f5c\u6765\u904d\u5386\u8fd9\u4e2a\u5217\u8868\u3002\u5927\u90e8\u5206\u5b57\u5178\u64cd\u4f5c\u90fd\u662f\u53ef\u4ee5\u6b63\u5e38\u4f7f\u7528\u7684\uff0c\u6bd4\u5982\uff1a"
      ]
    },
    {
      "cell_type": "code",
      "execution_count": null,
      "metadata": {},
      "outputs": [],
      "source": [
        "len(c)"
      ]
    },
    {
      "cell_type": "code",
      "execution_count": null,
      "metadata": {},
      "outputs": [],
      "source": [
        "list(c.keys())"
      ]
    },
    {
      "cell_type": "code",
      "execution_count": null,
      "metadata": {},
      "outputs": [],
      "source": [
        "list(c.values())"
      ]
    },
    {
      "cell_type": "markdown",
      "metadata": {},
      "source": [
        "\u5982\u679c\u51fa\u73b0\u91cd\u590d\u952e\uff0c\u90a3\u4e48\u7b2c\u4e00\u6b21\u51fa\u73b0\u7684\u6620\u5c04\u503c\u4f1a\u88ab\u8fd4\u56de\u3002\n\u56e0\u6b64\uff0c\u4f8b\u5b50\u7a0b\u5e8f\u4e2d\u7684 c['z'] \u603b\u662f\u4f1a\u8fd4\u56de\u5b57\u5178 a \u4e2d\u5bf9\u5e94\u7684\u503c\uff0c\u800c\u4e0d\u662f b \u4e2d\u5bf9\u5e94\u7684\u503c\u3002"
      ]
    },
    {
      "cell_type": "markdown",
      "metadata": {},
      "source": [
        "\u5bf9\u4e8e\u5b57\u5178\u7684\u66f4\u65b0\u6216\u5220\u9664\u64cd\u4f5c\u603b\u662f\u5f71\u54cd\u7684\u662f\u5217\u8868\u4e2d\u7b2c\u4e00\u4e2a\u5b57\u5178\u3002\u6bd4\u5982\uff1a"
      ]
    },
    {
      "cell_type": "code",
      "execution_count": null,
      "metadata": {},
      "outputs": [],
      "source": [
        "c['z'] = 10\nc['w'] = 40\ndel c['x']\na"
      ]
    },
    {
      "cell_type": "code",
      "execution_count": null,
      "metadata": {},
      "outputs": [],
      "source": [
        "del c['y']"
      ]
    },
    {
      "cell_type": "markdown",
      "metadata": {},
      "source": [
        "ChainMap \u5bf9\u4e8e\u7f16\u7a0b\u8bed\u8a00\u4e2d\u7684\u4f5c\u7528\u8303\u56f4\u53d8\u91cf\uff08\u6bd4\u5982 globals , locals \u7b49\uff09\u662f\u975e\u5e38\u6709\u7528\u7684\u3002\n\u4e8b\u5b9e\u4e0a\uff0c\u6709\u4e00\u4e9b\u65b9\u6cd5\u53ef\u4ee5\u4f7f\u5b83\u53d8\u5f97\u7b80\u5355\uff1a"
      ]
    },
    {
      "cell_type": "code",
      "execution_count": null,
      "metadata": {},
      "outputs": [],
      "source": [
        "values = ChainMap()\nvalues['x'] = 1\n# Add a new mapping\nvalues = values.new_child()\nvalues['x'] = 2\n# Add a new mapping\nvalues = values.new_child()\nvalues['x'] = 3\nvalues"
      ]
    },
    {
      "cell_type": "code",
      "execution_count": null,
      "metadata": {},
      "outputs": [],
      "source": [
        "values['x']"
      ]
    },
    {
      "cell_type": "code",
      "execution_count": null,
      "metadata": {},
      "outputs": [],
      "source": [
        "# Discard last mapping\nvalues = values.parents\nvalues['x']"
      ]
    },
    {
      "cell_type": "code",
      "execution_count": null,
      "metadata": {},
      "outputs": [],
      "source": [
        "# Discard last mapping\nvalues = values.parents\nvalues['x']"
      ]
    },
    {
      "cell_type": "code",
      "execution_count": null,
      "metadata": {},
      "outputs": [],
      "source": [
        "values"
      ]
    },
    {
      "cell_type": "markdown",
      "metadata": {},
      "source": [
        "\u4f5c\u4e3a ChainMap \u7684\u66ff\u4ee3\uff0c\u4f60\u53ef\u80fd\u4f1a\u8003\u8651\u4f7f\u7528 update() \u65b9\u6cd5\u5c06\u4e24\u4e2a\u5b57\u5178\u5408\u5e76\u3002\u6bd4\u5982\uff1a"
      ]
    },
    {
      "cell_type": "code",
      "execution_count": null,
      "metadata": {},
      "outputs": [],
      "source": [
        "a = {'x': 1, 'z': 3 }\nb = {'y': 2, 'z': 4 }\nmerged = dict(b)\nmerged.update(a)\nmerged['x']"
      ]
    },
    {
      "cell_type": "code",
      "execution_count": null,
      "metadata": {},
      "outputs": [],
      "source": [
        "merged['y']"
      ]
    },
    {
      "cell_type": "code",
      "execution_count": null,
      "metadata": {},
      "outputs": [],
      "source": [
        "merged['z']"
      ]
    },
    {
      "cell_type": "markdown",
      "metadata": {},
      "source": [
        "\u8fd9\u6837\u4e5f\u80fd\u884c\u5f97\u901a\uff0c\u4f46\u662f\u5b83\u9700\u8981\u4f60\u521b\u5efa\u4e00\u4e2a\u5b8c\u5168\u4e0d\u540c\u7684\u5b57\u5178\u5bf9\u8c61\uff08\u6216\u8005\u662f\u7834\u574f\u73b0\u6709\u5b57\u5178\u7ed3\u6784\uff09\u3002\n\u540c\u65f6\uff0c\u5982\u679c\u539f\u5b57\u5178\u505a\u4e86\u66f4\u65b0\uff0c\u8fd9\u79cd\u6539\u53d8\u4e0d\u4f1a\u53cd\u5e94\u5230\u65b0\u7684\u5408\u5e76\u5b57\u5178\u4e2d\u53bb\u3002\u6bd4\u5982\uff1a"
      ]
    },
    {
      "cell_type": "code",
      "execution_count": null,
      "metadata": {},
      "outputs": [],
      "source": [
        "a['x'] = 13\nmerged['x']"
      ]
    },
    {
      "cell_type": "markdown",
      "metadata": {},
      "source": [
        "ChainMap \u4f7f\u7528\u539f\u6765\u7684\u5b57\u5178\uff0c\u5b83\u81ea\u5df1\u4e0d\u521b\u5efa\u65b0\u7684\u5b57\u5178\u3002\u6240\u4ee5\u5b83\u5e76\u4e0d\u4f1a\u4ea7\u751f\u4e0a\u9762\u6240\u8bf4\u7684\u7ed3\u679c\uff0c\u6bd4\u5982\uff1a"
      ]
    },
    {
      "cell_type": "code",
      "execution_count": null,
      "metadata": {},
      "outputs": [],
      "source": [
        "a = {'x': 1, 'z': 3 }\nb = {'y': 2, 'z': 4 }\nmerged = ChainMap(a, b)\nmerged['x']"
      ]
    },
    {
      "cell_type": "code",
      "execution_count": null,
      "metadata": {},
      "outputs": [],
      "source": [
        "a['x'] = 42\nmerged['x'] # Notice change to merged dicts"
      ]
    }
  ],
  "metadata": {
    "kernelspec": {
      "display_name": "Python 3",
      "language": "python",
      "name": "python3"
    },
    "language_info": {
      "codemirror_mode": {
        "name": "ipython",
        "version": 3
      },
      "file_extension": ".py",
      "mimetype": "text/x-python",
      "name": "python",
      "nbconvert_exporter": "python",
      "pygments_lexer": "ipython3",
      "version": "3.7.1"
    },
    "toc": {
      "base_numbering": 1,
      "nav_menu": {},
      "number_sections": true,
      "sideBar": true,
      "skip_h1_title": true,
      "title_cell": "Table of Contents",
      "title_sidebar": "Contents",
      "toc_cell": false,
      "toc_position": {},
      "toc_section_display": true,
      "toc_window_display": true
    }
  },
  "nbformat": 4,
  "nbformat_minor": 2
}