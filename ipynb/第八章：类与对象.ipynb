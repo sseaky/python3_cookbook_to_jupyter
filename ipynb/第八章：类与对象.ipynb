{
  "cells": [
    {
      "cell_type": "markdown",
      "metadata": {},
      "source": [
        "# \u7b2c\u516b\u7ae0\uff1a\u7c7b\u4e0e\u5bf9\u8c61\n \u672c\u7ae0\u4e3b\u8981\u5173\u6ce8\u70b9\u7684\u662f\u548c\u7c7b\u5b9a\u4e49\u6709\u5173\u7684\u5e38\u89c1\u7f16\u7a0b\u6a21\u578b\u3002\u5305\u62ec\u8ba9\u5bf9\u8c61\u652f\u6301\u5e38\u89c1\u7684Python\u7279\u6027\u3001\u7279\u6b8a\u65b9\u6cd5\u7684\u4f7f\u7528\u3001\n\u7c7b\u5c01\u88c5\u6280\u672f\u3001\u7ee7\u627f\u3001\u5185\u5b58\u7ba1\u7406\u4ee5\u53ca\u6709\u7528\u7684\u8bbe\u8ba1\u6a21\u5f0f\u3002"
      ]
    },
    {
      "cell_type": "markdown",
      "metadata": {},
      "source": [
        "## 8.1 \u6539\u53d8\u5bf9\u8c61\u7684\u5b57\u7b26\u4e32\u663e\u793a\n"
      ]
    },
    {
      "cell_type": "markdown",
      "metadata": {},
      "source": [
        "### \u95ee\u9898\n"
      ]
    },
    {
      "cell_type": "markdown",
      "metadata": {},
      "source": [
        "\u4f60\u60f3\u6539\u53d8\u5bf9\u8c61\u5b9e\u4f8b\u7684\u6253\u5370\u6216\u663e\u793a\u8f93\u51fa\uff0c\u8ba9\u5b83\u4eec\u66f4\u5177\u53ef\u8bfb\u6027\u3002"
      ]
    },
    {
      "cell_type": "markdown",
      "metadata": {},
      "source": [
        "### \u89e3\u51b3\u65b9\u6848\n"
      ]
    },
    {
      "cell_type": "markdown",
      "metadata": {},
      "source": [
        "\u8981\u6539\u53d8\u4e00\u4e2a\u5b9e\u4f8b\u7684\u5b57\u7b26\u4e32\u8868\u793a\uff0c\u53ef\u91cd\u65b0\u5b9a\u4e49\u5b83\u7684 __str__() \u548c __repr__() \u65b9\u6cd5\u3002\u4f8b\u5982\uff1a"
      ]
    },
    {
      "cell_type": "code",
      "execution_count": null,
      "metadata": {},
      "outputs": [],
      "source": [
        "c\nl\na\ns\ns\n \nP\na\ni\nr\n:\n\n\n \n \n \n \nd\ne\nf\n \n_\n_\ni\nn\ni\nt\n_\n_\n(\ns\ne\nl\nf\n,\n \nx\n,\n \ny\n)\n:\n\n\n \n \n \n \n \n \n \n \ns\ne\nl\nf\n.\nx\n \n=\n \nx\n\n\n \n \n \n \n \n \n \n \ns\ne\nl\nf\n.\ny\n \n=\n \ny\n\n\n\n\n \n \n \n \nd\ne\nf\n \n_\n_\nr\ne\np\nr\n_\n_\n(\ns\ne\nl\nf\n)\n:\n\n\n \n \n \n \n \n \n \n \nr\ne\nt\nu\nr\nn\n \n'\nP\na\ni\nr\n(\n{\n0\n.\nx\n!\nr\n}\n,\n \n{\n0\n.\ny\n!\nr\n}\n)\n'\n.\nf\no\nr\nm\na\nt\n(\ns\ne\nl\nf\n)\n\n\n\n\n \n \n \n \nd\ne\nf\n \n_\n_\ns\nt\nr\n_\n_\n(\ns\ne\nl\nf\n)\n:\n\n\n \n \n \n \n \n \n \n \nr\ne\nt\nu\nr\nn\n \n'\n(\n{\n0\n.\nx\n!\ns\n}\n,\n \n{\n0\n.\ny\n!\ns\n}\n)\n'\n.\nf\no\nr\nm\na\nt\n(\ns\ne\nl\nf\n)\n\n"
      ]
    },
    {
      "cell_type": "markdown",
      "metadata": {},
      "source": [
        "__repr__() \u65b9\u6cd5\u8fd4\u56de\u4e00\u4e2a\u5b9e\u4f8b\u7684\u4ee3\u7801\u8868\u793a\u5f62\u5f0f\uff0c\u901a\u5e38\u7528\u6765\u91cd\u65b0\u6784\u9020\u8fd9\u4e2a\u5b9e\u4f8b\u3002\n\u5185\u7f6e\u7684 repr() \u51fd\u6570\u8fd4\u56de\u8fd9\u4e2a\u5b57\u7b26\u4e32\uff0c\u8ddf\u6211\u4eec\u4f7f\u7528\u4ea4\u4e92\u5f0f\u89e3\u91ca\u5668\u663e\u793a\u7684\u503c\u662f\u4e00\u6837\u7684\u3002\n__str__() \u65b9\u6cd5\u5c06\u5b9e\u4f8b\u8f6c\u6362\u4e3a\u4e00\u4e2a\u5b57\u7b26\u4e32\uff0c\u4f7f\u7528 str() \u6216 print() \u51fd\u6570\u4f1a\u8f93\u51fa\u8fd9\u4e2a\u5b57\u7b26\u4e32\u3002\u6bd4\u5982\uff1a"
      ]
    },
    {
      "cell_type": "code",
      "execution_count": null,
      "metadata": {},
      "outputs": [],
      "source": [
        "p = Pair(3, 4)\np"
      ]
    },
    {
      "cell_type": "code",
      "execution_count": null,
      "metadata": {},
      "outputs": [],
      "source": [
        "print(p)"
      ]
    },
    {
      "cell_type": "markdown",
      "metadata": {},
      "source": [
        "\u6211\u4eec\u5728\u8fd9\u91cc\u8fd8\u6f14\u793a\u4e86\u5728\u683c\u5f0f\u5316\u7684\u65f6\u5019\u600e\u6837\u4f7f\u7528\u4e0d\u540c\u7684\u5b57\u7b26\u4e32\u8868\u73b0\u5f62\u5f0f\u3002\n\u7279\u522b\u6765\u8bb2\uff0c!r \u683c\u5f0f\u5316\u4ee3\u7801\u6307\u660e\u8f93\u51fa\u4f7f\u7528 __repr__() \u6765\u4ee3\u66ff\u9ed8\u8ba4\u7684 __str__() \u3002\n\u4f60\u53ef\u4ee5\u7528\u524d\u9762\u7684\u7c7b\u6765\u8bd5\u7740\u6d4b\u8bd5\u4e0b\uff1a"
      ]
    },
    {
      "cell_type": "code",
      "execution_count": null,
      "metadata": {},
      "outputs": [],
      "source": [
        "p = Pair(3, 4)\nprint('p is {0!r}'.format(p))"
      ]
    },
    {
      "cell_type": "code",
      "execution_count": null,
      "metadata": {},
      "outputs": [],
      "source": [
        "print('p is {0}'.format(p))"
      ]
    },
    {
      "cell_type": "markdown",
      "metadata": {},
      "source": [
        "### \u8ba8\u8bba\n"
      ]
    },
    {
      "cell_type": "markdown",
      "metadata": {},
      "source": [
        "\u81ea\u5b9a\u4e49 __repr__() \u548c __str__() \u901a\u5e38\u662f\u5f88\u597d\u7684\u4e60\u60ef\uff0c\u56e0\u4e3a\u5b83\u80fd\u7b80\u5316\u8c03\u8bd5\u548c\u5b9e\u4f8b\u8f93\u51fa\u3002\n\u4f8b\u5982\uff0c\u5982\u679c\u4ec5\u4ec5\u53ea\u662f\u6253\u5370\u8f93\u51fa\u6216\u65e5\u5fd7\u8f93\u51fa\u67d0\u4e2a\u5b9e\u4f8b\uff0c\u90a3\u4e48\u7a0b\u5e8f\u5458\u4f1a\u770b\u5230\u5b9e\u4f8b\u66f4\u52a0\u8be6\u7ec6\u4e0e\u6709\u7528\u7684\u4fe1\u606f\u3002"
      ]
    },
    {
      "cell_type": "markdown",
      "metadata": {},
      "source": [
        "__repr__() \u751f\u6210\u7684\u6587\u672c\u5b57\u7b26\u4e32\u6807\u51c6\u505a\u6cd5\u662f\u9700\u8981\u8ba9 eval(repr(x)) == x \u4e3a\u771f\u3002\n\u5982\u679c\u5b9e\u5728\u4e0d\u80fd\u8fd9\u6837\u5b50\u505a\uff0c\u5e94\u8be5\u521b\u5efa\u4e00\u4e2a\u6709\u7528\u7684\u6587\u672c\u8868\u793a\uff0c\u5e76\u4f7f\u7528 < \u548c > \u62ec\u8d77\u6765\u3002\u6bd4\u5982\uff1a"
      ]
    },
    {
      "cell_type": "code",
      "execution_count": null,
      "metadata": {},
      "outputs": [],
      "source": [
        "f = open('file.dat')\nf"
      ]
    },
    {
      "cell_type": "markdown",
      "metadata": {},
      "source": [
        "\u5982\u679c __str__() \u6ca1\u6709\u88ab\u5b9a\u4e49\uff0c\u90a3\u4e48\u5c31\u4f1a\u4f7f\u7528 __repr__() \u6765\u4ee3\u66ff\u8f93\u51fa\u3002"
      ]
    },
    {
      "cell_type": "markdown",
      "metadata": {},
      "source": [
        "\u4e0a\u9762\u7684 format() \u65b9\u6cd5\u7684\u4f7f\u7528\u770b\u4e0a\u53bb\u5f88\u6709\u8da3\uff0c\u683c\u5f0f\u5316\u4ee3\u7801 {0.x} \u5bf9\u5e94\u7684\u662f\u7b2c1\u4e2a\u53c2\u6570\u7684x\u5c5e\u6027\u3002\n\u56e0\u6b64\uff0c\u5728\u4e0b\u9762\u7684\u51fd\u6570\u4e2d\uff0c0\u5b9e\u9645\u4e0a\u6307\u7684\u5c31\u662f self \u672c\u8eab\uff1a"
      ]
    },
    {
      "cell_type": "code",
      "execution_count": null,
      "metadata": {},
      "outputs": [],
      "source": [
        "d\ne\nf\n \n_\n_\nr\ne\np\nr\n_\n_\n(\ns\ne\nl\nf\n)\n:\n\n\n \n \n \n \nr\ne\nt\nu\nr\nn\n \n'\nP\na\ni\nr\n(\n{\n0\n.\nx\n!\nr\n}\n,\n \n{\n0\n.\ny\n!\nr\n}\n)\n'\n.\nf\no\nr\nm\na\nt\n(\ns\ne\nl\nf\n)\n\n"
      ]
    },
    {
      "cell_type": "markdown",
      "metadata": {},
      "source": [
        "\u4f5c\u4e3a\u8fd9\u79cd\u5b9e\u73b0\u7684\u4e00\u4e2a\u66ff\u4ee3\uff0c\u4f60\u4e5f\u53ef\u4ee5\u4f7f\u7528 % \u64cd\u4f5c\u7b26\uff0c\u5c31\u50cf\u4e0b\u9762\u8fd9\u6837\uff1a"
      ]
    },
    {
      "cell_type": "code",
      "execution_count": null,
      "metadata": {},
      "outputs": [],
      "source": [
        "d\ne\nf\n \n_\n_\nr\ne\np\nr\n_\n_\n(\ns\ne\nl\nf\n)\n:\n\n\n \n \n \n \nr\ne\nt\nu\nr\nn\n \n'\nP\na\ni\nr\n(\n%\nr\n,\n \n%\nr\n)\n'\n \n%\n \n(\ns\ne\nl\nf\n.\nx\n,\n \ns\ne\nl\nf\n.\ny\n)\n\n"
      ]
    },
    {
      "cell_type": "markdown",
      "metadata": {},
      "source": [
        "## 8.2 \u81ea\u5b9a\u4e49\u5b57\u7b26\u4e32\u7684\u683c\u5f0f\u5316\n"
      ]
    },
    {
      "cell_type": "markdown",
      "metadata": {},
      "source": [
        "### \u95ee\u9898\n"
      ]
    },
    {
      "cell_type": "markdown",
      "metadata": {},
      "source": [
        "\u4f60\u60f3\u901a\u8fc7 format() \u51fd\u6570\u548c\u5b57\u7b26\u4e32\u65b9\u6cd5\u4f7f\u5f97\u4e00\u4e2a\u5bf9\u8c61\u80fd\u652f\u6301\u81ea\u5b9a\u4e49\u7684\u683c\u5f0f\u5316\u3002"
      ]
    },
    {
      "cell_type": "markdown",
      "metadata": {},
      "source": [
        "### \u89e3\u51b3\u65b9\u6848\n"
      ]
    },
    {
      "cell_type": "markdown",
      "metadata": {},
      "source": [
        "\u4e3a\u4e86\u81ea\u5b9a\u4e49\u5b57\u7b26\u4e32\u7684\u683c\u5f0f\u5316\uff0c\u6211\u4eec\u9700\u8981\u5728\u7c7b\u4e0a\u9762\u5b9a\u4e49 __format__() \u65b9\u6cd5\u3002\u4f8b\u5982\uff1a"
      ]
    },
    {
      "cell_type": "code",
      "execution_count": null,
      "metadata": {},
      "outputs": [],
      "source": [
        "_\nf\no\nr\nm\na\nt\ns\n \n=\n \n{\n\n\n \n \n \n \n'\ny\nm\nd\n'\n \n:\n \n'\n{\nd\n.\ny\ne\na\nr\n}\n-\n{\nd\n.\nm\no\nn\nt\nh\n}\n-\n{\nd\n.\nd\na\ny\n}\n'\n,\n\n\n \n \n \n \n'\nm\nd\ny\n'\n \n:\n \n'\n{\nd\n.\nm\no\nn\nt\nh\n}\n/\n{\nd\n.\nd\na\ny\n}\n/\n{\nd\n.\ny\ne\na\nr\n}\n'\n,\n\n\n \n \n \n \n'\nd\nm\ny\n'\n \n:\n \n'\n{\nd\n.\nd\na\ny\n}\n/\n{\nd\n.\nm\no\nn\nt\nh\n}\n/\n{\nd\n.\ny\ne\na\nr\n}\n'\n\n\n \n \n \n \n}\n\n\n\n\nc\nl\na\ns\ns\n \nD\na\nt\ne\n:\n\n\n \n \n \n \nd\ne\nf\n \n_\n_\ni\nn\ni\nt\n_\n_\n(\ns\ne\nl\nf\n,\n \ny\ne\na\nr\n,\n \nm\no\nn\nt\nh\n,\n \nd\na\ny\n)\n:\n\n\n \n \n \n \n \n \n \n \ns\ne\nl\nf\n.\ny\ne\na\nr\n \n=\n \ny\ne\na\nr\n\n\n \n \n \n \n \n \n \n \ns\ne\nl\nf\n.\nm\no\nn\nt\nh\n \n=\n \nm\no\nn\nt\nh\n\n\n \n \n \n \n \n \n \n \ns\ne\nl\nf\n.\nd\na\ny\n \n=\n \nd\na\ny\n\n\n\n\n \n \n \n \nd\ne\nf\n \n_\n_\nf\no\nr\nm\na\nt\n_\n_\n(\ns\ne\nl\nf\n,\n \nc\no\nd\ne\n)\n:\n\n\n \n \n \n \n \n \n \n \ni\nf\n \nc\no\nd\ne\n \n=\n=\n \n'\n'\n:\n\n\n \n \n \n \n \n \n \n \n \n \n \n \nc\no\nd\ne\n \n=\n \n'\ny\nm\nd\n'\n\n\n \n \n \n \n \n \n \n \nf\nm\nt\n \n=\n \n_\nf\no\nr\nm\na\nt\ns\n[\nc\no\nd\ne\n]\n\n\n \n \n \n \n \n \n \n \nr\ne\nt\nu\nr\nn\n \nf\nm\nt\n.\nf\no\nr\nm\na\nt\n(\nd\n=\ns\ne\nl\nf\n)\n\n"
      ]
    },
    {
      "cell_type": "markdown",
      "metadata": {},
      "source": [
        "\u73b0\u5728 Date \u7c7b\u7684\u5b9e\u4f8b\u53ef\u4ee5\u652f\u6301\u683c\u5f0f\u5316\u64cd\u4f5c\u4e86\uff0c\u5982\u540c\u4e0b\u9762\u8fd9\u6837\uff1a"
      ]
    },
    {
      "cell_type": "code",
      "execution_count": null,
      "metadata": {},
      "outputs": [],
      "source": [
        "d = Date(2012, 12, 21)\nformat(d)"
      ]
    },
    {
      "cell_type": "code",
      "execution_count": null,
      "metadata": {},
      "outputs": [],
      "source": [
        "format(d, 'mdy')"
      ]
    },
    {
      "cell_type": "code",
      "execution_count": null,
      "metadata": {},
      "outputs": [],
      "source": [
        "'The date is {:ymd}'.format(d)"
      ]
    },
    {
      "cell_type": "code",
      "execution_count": null,
      "metadata": {},
      "outputs": [],
      "source": [
        "'The date is {:mdy}'.format(d)"
      ]
    },
    {
      "cell_type": "markdown",
      "metadata": {},
      "source": [
        "### \u8ba8\u8bba\n"
      ]
    },
    {
      "cell_type": "markdown",
      "metadata": {},
      "source": [
        "__format__() \u65b9\u6cd5\u7ed9Python\u7684\u5b57\u7b26\u4e32\u683c\u5f0f\u5316\u529f\u80fd\u63d0\u4f9b\u4e86\u4e00\u4e2a\u94a9\u5b50\u3002\n\u8fd9\u91cc\u9700\u8981\u7740\u91cd\u5f3a\u8c03\u7684\u662f\u683c\u5f0f\u5316\u4ee3\u7801\u7684\u89e3\u6790\u5de5\u4f5c\u5b8c\u5168\u7531\u7c7b\u81ea\u5df1\u51b3\u5b9a\u3002\u56e0\u6b64\uff0c\u683c\u5f0f\u5316\u4ee3\u7801\u53ef\u4ee5\u662f\u4efb\u4f55\u503c\u3002\n\u4f8b\u5982\uff0c\u53c2\u8003\u4e0b\u9762\u6765\u81ea datetime \u6a21\u5757\u4e2d\u7684\u4ee3\u7801\uff1a"
      ]
    },
    {
      "cell_type": "code",
      "execution_count": null,
      "metadata": {},
      "outputs": [],
      "source": [
        "from datetime import date\nd = date(2012, 12, 21)\nformat(d)"
      ]
    },
    {
      "cell_type": "code",
      "execution_count": null,
      "metadata": {},
      "outputs": [],
      "source": [
        "format(d,'%A, %B %d, %Y')"
      ]
    },
    {
      "cell_type": "code",
      "execution_count": null,
      "metadata": {},
      "outputs": [],
      "source": [
        "'The end is {:%d %b %Y}. Goodbye'.format(d)"
      ]
    },
    {
      "cell_type": "markdown",
      "metadata": {},
      "source": [
        "\u5bf9\u4e8e\u5185\u7f6e\u7c7b\u578b\u7684\u683c\u5f0f\u5316\u6709\u4e00\u4e9b\u6807\u51c6\u7684\u7ea6\u5b9a\u3002\n\u53ef\u4ee5\u53c2\u8003 string\u6a21\u5757\u6587\u6863 \u8bf4\u660e\u3002"
      ]
    },
    {
      "cell_type": "markdown",
      "metadata": {},
      "source": [
        "## 8.3 \u8ba9\u5bf9\u8c61\u652f\u6301\u4e0a\u4e0b\u6587\u7ba1\u7406\u534f\u8bae\n"
      ]
    },
    {
      "cell_type": "markdown",
      "metadata": {},
      "source": [
        "### \u95ee\u9898\n"
      ]
    },
    {
      "cell_type": "markdown",
      "metadata": {},
      "source": [
        "\u4f60\u60f3\u8ba9\u4f60\u7684\u5bf9\u8c61\u652f\u6301\u4e0a\u4e0b\u6587\u7ba1\u7406\u534f\u8bae(with\u8bed\u53e5)\u3002"
      ]
    },
    {
      "cell_type": "markdown",
      "metadata": {},
      "source": [
        "### \u89e3\u51b3\u65b9\u6848\n"
      ]
    },
    {
      "cell_type": "markdown",
      "metadata": {},
      "source": [
        "\u4e3a\u4e86\u8ba9\u4e00\u4e2a\u5bf9\u8c61\u517c\u5bb9 with \u8bed\u53e5\uff0c\u4f60\u9700\u8981\u5b9e\u73b0 __enter__() \u548c __exit__() \u65b9\u6cd5\u3002\n\u4f8b\u5982\uff0c\u8003\u8651\u5982\u4e0b\u7684\u4e00\u4e2a\u7c7b\uff0c\u5b83\u80fd\u4e3a\u6211\u4eec\u521b\u5efa\u4e00\u4e2a\u7f51\u7edc\u8fde\u63a5\uff1a"
      ]
    },
    {
      "cell_type": "code",
      "execution_count": null,
      "metadata": {},
      "outputs": [],
      "source": [
        "f\nr\no\nm\n \ns\no\nc\nk\ne\nt\n \ni\nm\np\no\nr\nt\n \ns\no\nc\nk\ne\nt\n,\n \nA\nF\n_\nI\nN\nE\nT\n,\n \nS\nO\nC\nK\n_\nS\nT\nR\nE\nA\nM\n\n\n\n\nc\nl\na\ns\ns\n \nL\na\nz\ny\nC\no\nn\nn\ne\nc\nt\ni\no\nn\n:\n\n\n \n \n \n \nd\ne\nf\n \n_\n_\ni\nn\ni\nt\n_\n_\n(\ns\ne\nl\nf\n,\n \na\nd\nd\nr\ne\ns\ns\n,\n \nf\na\nm\ni\nl\ny\n=\nA\nF\n_\nI\nN\nE\nT\n,\n \nt\ny\np\ne\n=\nS\nO\nC\nK\n_\nS\nT\nR\nE\nA\nM\n)\n:\n\n\n \n \n \n \n \n \n \n \ns\ne\nl\nf\n.\na\nd\nd\nr\ne\ns\ns\n \n=\n \na\nd\nd\nr\ne\ns\ns\n\n\n \n \n \n \n \n \n \n \ns\ne\nl\nf\n.\nf\na\nm\ni\nl\ny\n \n=\n \nf\na\nm\ni\nl\ny\n\n\n \n \n \n \n \n \n \n \ns\ne\nl\nf\n.\nt\ny\np\ne\n \n=\n \nt\ny\np\ne\n\n\n \n \n \n \n \n \n \n \ns\ne\nl\nf\n.\ns\no\nc\nk\n \n=\n \nN\no\nn\ne\n\n\n\n\n \n \n \n \nd\ne\nf\n \n_\n_\ne\nn\nt\ne\nr\n_\n_\n(\ns\ne\nl\nf\n)\n:\n\n\n \n \n \n \n \n \n \n \ni\nf\n \ns\ne\nl\nf\n.\ns\no\nc\nk\n \ni\ns\n \nn\no\nt\n \nN\no\nn\ne\n:\n\n\n \n \n \n \n \n \n \n \n \n \n \n \nr\na\ni\ns\ne\n \nR\nu\nn\nt\ni\nm\ne\nE\nr\nr\no\nr\n(\n'\nA\nl\nr\ne\na\nd\ny\n \nc\no\nn\nn\ne\nc\nt\ne\nd\n'\n)\n\n\n \n \n \n \n \n \n \n \ns\ne\nl\nf\n.\ns\no\nc\nk\n \n=\n \ns\no\nc\nk\ne\nt\n(\ns\ne\nl\nf\n.\nf\na\nm\ni\nl\ny\n,\n \ns\ne\nl\nf\n.\nt\ny\np\ne\n)\n\n\n \n \n \n \n \n \n \n \ns\ne\nl\nf\n.\ns\no\nc\nk\n.\nc\no\nn\nn\ne\nc\nt\n(\ns\ne\nl\nf\n.\na\nd\nd\nr\ne\ns\ns\n)\n\n\n \n \n \n \n \n \n \n \nr\ne\nt\nu\nr\nn\n \ns\ne\nl\nf\n.\ns\no\nc\nk\n\n\n\n\n \n \n \n \nd\ne\nf\n \n_\n_\ne\nx\ni\nt\n_\n_\n(\ns\ne\nl\nf\n,\n \ne\nx\nc\n_\nt\ny\n,\n \ne\nx\nc\n_\nv\na\nl\n,\n \nt\nb\n)\n:\n\n\n \n \n \n \n \n \n \n \ns\ne\nl\nf\n.\ns\no\nc\nk\n.\nc\nl\no\ns\ne\n(\n)\n\n\n \n \n \n \n \n \n \n \ns\ne\nl\nf\n.\ns\no\nc\nk\n \n=\n \nN\no\nn\ne\n\n"
      ]
    },
    {
      "cell_type": "markdown",
      "metadata": {},
      "source": [
        "\u8fd9\u4e2a\u7c7b\u7684\u5173\u952e\u7279\u70b9\u5728\u4e8e\u5b83\u8868\u793a\u4e86\u4e00\u4e2a\u7f51\u7edc\u8fde\u63a5\uff0c\u4f46\u662f\u521d\u59cb\u5316\u7684\u65f6\u5019\u5e76\u4e0d\u4f1a\u505a\u4efb\u4f55\u4e8b\u60c5(\u6bd4\u5982\u5b83\u5e76\u6ca1\u6709\u5efa\u7acb\u4e00\u4e2a\u8fde\u63a5)\u3002\n\u8fde\u63a5\u7684\u5efa\u7acb\u548c\u5173\u95ed\u662f\u4f7f\u7528 with \u8bed\u53e5\u81ea\u52a8\u5b8c\u6210\u7684\uff0c\u4f8b\u5982\uff1a"
      ]
    },
    {
      "cell_type": "code",
      "execution_count": null,
      "metadata": {},
      "outputs": [],
      "source": [
        "f\nr\no\nm\n \nf\nu\nn\nc\nt\no\no\nl\ns\n \ni\nm\np\no\nr\nt\n \np\na\nr\nt\ni\na\nl\n\n\n\n\nc\no\nn\nn\n \n=\n \nL\na\nz\ny\nC\no\nn\nn\ne\nc\nt\ni\no\nn\n(\n(\n'\nw\nw\nw\n.\np\ny\nt\nh\no\nn\n.\no\nr\ng\n'\n,\n \n8\n0\n)\n)\n\n\n#\n \nC\no\nn\nn\ne\nc\nt\ni\no\nn\n \nc\nl\no\ns\ne\nd\n\n\nw\ni\nt\nh\n \nc\no\nn\nn\n \na\ns\n \ns\n:\n\n\n \n \n \n \n#\n \nc\no\nn\nn\n.\n_\n_\ne\nn\nt\ne\nr\n_\n_\n(\n)\n \ne\nx\ne\nc\nu\nt\ne\ns\n:\n \nc\no\nn\nn\ne\nc\nt\ni\no\nn\n \no\np\ne\nn\n\n\n \n \n \n \ns\n.\ns\ne\nn\nd\n(\nb\n'\nG\nE\nT\n \n/\ni\nn\nd\ne\nx\n.\nh\nt\nm\nl\n \nH\nT\nT\nP\n/\n1\n.\n0\n\\\nr\n\\\nn\n'\n)\n\n\n \n \n \n \ns\n.\ns\ne\nn\nd\n(\nb\n'\nH\no\ns\nt\n:\n \nw\nw\nw\n.\np\ny\nt\nh\no\nn\n.\no\nr\ng\n\\\nr\n\\\nn\n'\n)\n\n\n \n \n \n \ns\n.\ns\ne\nn\nd\n(\nb\n'\n\\\nr\n\\\nn\n'\n)\n\n\n \n \n \n \nr\ne\ns\np\n \n=\n \nb\n'\n'\n.\nj\no\ni\nn\n(\ni\nt\ne\nr\n(\np\na\nr\nt\ni\na\nl\n(\ns\n.\nr\ne\nc\nv\n,\n \n8\n1\n9\n2\n)\n,\n \nb\n'\n'\n)\n)\n\n\n \n \n \n \n#\n \nc\no\nn\nn\n.\n_\n_\ne\nx\ni\nt\n_\n_\n(\n)\n \ne\nx\ne\nc\nu\nt\ne\ns\n:\n \nc\no\nn\nn\ne\nc\nt\ni\no\nn\n \nc\nl\no\ns\ne\nd\n\n"
      ]
    },
    {
      "cell_type": "markdown",
      "metadata": {},
      "source": [
        "### \u8ba8\u8bba\n"
      ]
    },
    {
      "cell_type": "markdown",
      "metadata": {},
      "source": [
        "\u7f16\u5199\u4e0a\u4e0b\u6587\u7ba1\u7406\u5668\u7684\u4e3b\u8981\u539f\u7406\u662f\u4f60\u7684\u4ee3\u7801\u4f1a\u653e\u5230 with \u8bed\u53e5\u5757\u4e2d\u6267\u884c\u3002\n\u5f53\u51fa\u73b0 with \u8bed\u53e5\u7684\u65f6\u5019\uff0c\u5bf9\u8c61\u7684 __enter__() \u65b9\u6cd5\u88ab\u89e6\u53d1\uff0c\n\u5b83\u8fd4\u56de\u7684\u503c(\u5982\u679c\u6709\u7684\u8bdd)\u4f1a\u88ab\u8d4b\u503c\u7ed9 as \u58f0\u660e\u7684\u53d8\u91cf\u3002\u7136\u540e\uff0cwith \u8bed\u53e5\u5757\u91cc\u9762\u7684\u4ee3\u7801\u5f00\u59cb\u6267\u884c\u3002\n\u6700\u540e\uff0c__exit__() \u65b9\u6cd5\u88ab\u89e6\u53d1\u8fdb\u884c\u6e05\u7406\u5de5\u4f5c\u3002"
      ]
    },
    {
      "cell_type": "markdown",
      "metadata": {},
      "source": [
        "\u4e0d\u7ba1 with \u4ee3\u7801\u5757\u4e2d\u53d1\u751f\u4ec0\u4e48\uff0c\u4e0a\u9762\u7684\u63a7\u5236\u6d41\u90fd\u4f1a\u6267\u884c\u5b8c\uff0c\u5c31\u7b97\u4ee3\u7801\u5757\u4e2d\u53d1\u751f\u4e86\u5f02\u5e38\u4e5f\u662f\u4e00\u6837\u7684\u3002\n\u4e8b\u5b9e\u4e0a\uff0c__exit__() \u65b9\u6cd5\u7684\u7b2c\u4e09\u4e2a\u53c2\u6570\u5305\u542b\u4e86\u5f02\u5e38\u7c7b\u578b\u3001\u5f02\u5e38\u503c\u548c\u8ffd\u6eaf\u4fe1\u606f(\u5982\u679c\u6709\u7684\u8bdd)\u3002\n__exit__() \u65b9\u6cd5\u80fd\u81ea\u5df1\u51b3\u5b9a\u600e\u6837\u5229\u7528\u8fd9\u4e2a\u5f02\u5e38\u4fe1\u606f\uff0c\u6216\u8005\u5ffd\u7565\u5b83\u5e76\u8fd4\u56de\u4e00\u4e2aNone\u503c\u3002\n\u5982\u679c __exit__() \u8fd4\u56de True \uff0c\u90a3\u4e48\u5f02\u5e38\u4f1a\u88ab\u6e05\u7a7a\uff0c\u5c31\u597d\u50cf\u4ec0\u4e48\u90fd\u6ca1\u53d1\u751f\u4e00\u6837\uff0c\nwith \u8bed\u53e5\u540e\u9762\u7684\u7a0b\u5e8f\u7ee7\u7eed\u5728\u6b63\u5e38\u6267\u884c\u3002"
      ]
    },
    {
      "cell_type": "markdown",
      "metadata": {},
      "source": [
        "\u8fd8\u6709\u4e00\u4e2a\u7ec6\u8282\u95ee\u9898\u5c31\u662f LazyConnection \u7c7b\u662f\u5426\u5141\u8bb8\u591a\u4e2a with \u8bed\u53e5\u6765\u5d4c\u5957\u4f7f\u7528\u8fde\u63a5\u3002\n\u5f88\u663e\u7136\uff0c\u4e0a\u9762\u7684\u5b9a\u4e49\u4e2d\u4e00\u6b21\u53ea\u80fd\u5141\u8bb8\u4e00\u4e2asocket\u8fde\u63a5\uff0c\u5982\u679c\u6b63\u5728\u4f7f\u7528\u4e00\u4e2asocket\u7684\u65f6\u5019\u53c8\u91cd\u590d\u4f7f\u7528 with \u8bed\u53e5\uff0c\n\u5c31\u4f1a\u4ea7\u751f\u4e00\u4e2a\u5f02\u5e38\u4e86\u3002\u4e0d\u8fc7\u4f60\u53ef\u4ee5\u50cf\u4e0b\u9762\u8fd9\u6837\u4fee\u6539\u4e0b\u4e0a\u9762\u7684\u5b9e\u73b0\u6765\u89e3\u51b3\u8fd9\u4e2a\u95ee\u9898\uff1a"
      ]
    },
    {
      "cell_type": "code",
      "execution_count": null,
      "metadata": {},
      "outputs": [],
      "source": [
        "f\nr\no\nm\n \ns\no\nc\nk\ne\nt\n \ni\nm\np\no\nr\nt\n \ns\no\nc\nk\ne\nt\n,\n \nA\nF\n_\nI\nN\nE\nT\n,\n \nS\nO\nC\nK\n_\nS\nT\nR\nE\nA\nM\n\n\n\n\nc\nl\na\ns\ns\n \nL\na\nz\ny\nC\no\nn\nn\ne\nc\nt\ni\no\nn\n:\n\n\n \n \n \n \nd\ne\nf\n \n_\n_\ni\nn\ni\nt\n_\n_\n(\ns\ne\nl\nf\n,\n \na\nd\nd\nr\ne\ns\ns\n,\n \nf\na\nm\ni\nl\ny\n=\nA\nF\n_\nI\nN\nE\nT\n,\n \nt\ny\np\ne\n=\nS\nO\nC\nK\n_\nS\nT\nR\nE\nA\nM\n)\n:\n\n\n \n \n \n \n \n \n \n \ns\ne\nl\nf\n.\na\nd\nd\nr\ne\ns\ns\n \n=\n \na\nd\nd\nr\ne\ns\ns\n\n\n \n \n \n \n \n \n \n \ns\ne\nl\nf\n.\nf\na\nm\ni\nl\ny\n \n=\n \nf\na\nm\ni\nl\ny\n\n\n \n \n \n \n \n \n \n \ns\ne\nl\nf\n.\nt\ny\np\ne\n \n=\n \nt\ny\np\ne\n\n\n \n \n \n \n \n \n \n \ns\ne\nl\nf\n.\nc\no\nn\nn\ne\nc\nt\ni\no\nn\ns\n \n=\n \n[\n]\n\n\n\n\n \n \n \n \nd\ne\nf\n \n_\n_\ne\nn\nt\ne\nr\n_\n_\n(\ns\ne\nl\nf\n)\n:\n\n\n \n \n \n \n \n \n \n \ns\no\nc\nk\n \n=\n \ns\no\nc\nk\ne\nt\n(\ns\ne\nl\nf\n.\nf\na\nm\ni\nl\ny\n,\n \ns\ne\nl\nf\n.\nt\ny\np\ne\n)\n\n\n \n \n \n \n \n \n \n \ns\no\nc\nk\n.\nc\no\nn\nn\ne\nc\nt\n(\ns\ne\nl\nf\n.\na\nd\nd\nr\ne\ns\ns\n)\n\n\n \n \n \n \n \n \n \n \ns\ne\nl\nf\n.\nc\no\nn\nn\ne\nc\nt\ni\no\nn\ns\n.\na\np\np\ne\nn\nd\n(\ns\no\nc\nk\n)\n\n\n \n \n \n \n \n \n \n \nr\ne\nt\nu\nr\nn\n \ns\no\nc\nk\n\n\n\n\n \n \n \n \nd\ne\nf\n \n_\n_\ne\nx\ni\nt\n_\n_\n(\ns\ne\nl\nf\n,\n \ne\nx\nc\n_\nt\ny\n,\n \ne\nx\nc\n_\nv\na\nl\n,\n \nt\nb\n)\n:\n\n\n \n \n \n \n \n \n \n \ns\ne\nl\nf\n.\nc\no\nn\nn\ne\nc\nt\ni\no\nn\ns\n.\np\no\np\n(\n)\n.\nc\nl\no\ns\ne\n(\n)\n\n\n\n\n#\n \nE\nx\na\nm\np\nl\ne\n \nu\ns\ne\n\n\nf\nr\no\nm\n \nf\nu\nn\nc\nt\no\no\nl\ns\n \ni\nm\np\no\nr\nt\n \np\na\nr\nt\ni\na\nl\n\n\n\n\nc\no\nn\nn\n \n=\n \nL\na\nz\ny\nC\no\nn\nn\ne\nc\nt\ni\no\nn\n(\n(\n'\nw\nw\nw\n.\np\ny\nt\nh\no\nn\n.\no\nr\ng\n'\n,\n \n8\n0\n)\n)\n\n\nw\ni\nt\nh\n \nc\no\nn\nn\n \na\ns\n \ns\n1\n:\n\n\n \n \n \n \np\na\ns\ns\n\n\n \n \n \n \nw\ni\nt\nh\n \nc\no\nn\nn\n \na\ns\n \ns\n2\n:\n\n\n \n \n \n \n \n \n \n \np\na\ns\ns\n\n\n \n \n \n \n \n \n \n \n#\n \ns\n1\n \na\nn\nd\n \ns\n2\n \na\nr\ne\n \ni\nn\nd\ne\np\ne\nn\nd\ne\nn\nt\n \ns\no\nc\nk\ne\nt\ns\n\n"
      ]
    },
    {
      "cell_type": "markdown",
      "metadata": {},
      "source": [
        "\u5728\u7b2c\u4e8c\u4e2a\u7248\u672c\u4e2d\uff0cLazyConnection \u7c7b\u53ef\u4ee5\u88ab\u770b\u505a\u662f\u67d0\u4e2a\u8fde\u63a5\u5de5\u5382\u3002\u5728\u5185\u90e8\uff0c\u4e00\u4e2a\u5217\u8868\u88ab\u7528\u6765\u6784\u9020\u4e00\u4e2a\u6808\u3002\n\u6bcf\u6b21 __enter__() \u65b9\u6cd5\u6267\u884c\u7684\u65f6\u5019\uff0c\u5b83\u590d\u5236\u521b\u5efa\u4e00\u4e2a\u65b0\u7684\u8fde\u63a5\u5e76\u5c06\u5176\u52a0\u5165\u5230\u6808\u91cc\u9762\u3002\n__exit__() \u65b9\u6cd5\u7b80\u5355\u7684\u4ece\u6808\u4e2d\u5f39\u51fa\u6700\u540e\u4e00\u4e2a\u8fde\u63a5\u5e76\u5173\u95ed\u5b83\u3002\n\u8fd9\u91cc\u7a0d\u5fae\u6709\u70b9\u96be\u7406\u89e3\uff0c\u4e0d\u8fc7\u5b83\u80fd\u5141\u8bb8\u5d4c\u5957\u4f7f\u7528 with \u8bed\u53e5\u521b\u5efa\u591a\u4e2a\u8fde\u63a5\uff0c\u5c31\u5982\u4e0a\u9762\u6f14\u793a\u7684\u90a3\u6837\u3002"
      ]
    },
    {
      "cell_type": "markdown",
      "metadata": {},
      "source": [
        "\u5728\u9700\u8981\u7ba1\u7406\u4e00\u4e9b\u8d44\u6e90\u6bd4\u5982\u6587\u4ef6\u3001\u7f51\u7edc\u8fde\u63a5\u548c\u9501\u7684\u7f16\u7a0b\u73af\u5883\u4e2d\uff0c\u4f7f\u7528\u4e0a\u4e0b\u6587\u7ba1\u7406\u5668\u662f\u5f88\u666e\u904d\u7684\u3002\n\u8fd9\u4e9b\u8d44\u6e90\u7684\u4e00\u4e2a\u4e3b\u8981\u7279\u5f81\u662f\u5b83\u4eec\u5fc5\u987b\u88ab\u624b\u52a8\u7684\u5173\u95ed\u6216\u91ca\u653e\u6765\u786e\u4fdd\u7a0b\u5e8f\u7684\u6b63\u786e\u8fd0\u884c\u3002\n\u4f8b\u5982\uff0c\u5982\u679c\u4f60\u8bf7\u6c42\u4e86\u4e00\u4e2a\u9501\uff0c\u90a3\u4e48\u4f60\u5fc5\u987b\u786e\u4fdd\u4e4b\u540e\u91ca\u653e\u4e86\u5b83\uff0c\u5426\u5219\u5c31\u53ef\u80fd\u4ea7\u751f\u6b7b\u9501\u3002\n\u901a\u8fc7\u5b9e\u73b0 __enter__() \u548c __exit__() \u65b9\u6cd5\u5e76\u4f7f\u7528 with \u8bed\u53e5\u53ef\u4ee5\u5f88\u5bb9\u6613\u7684\u907f\u514d\u8fd9\u4e9b\u95ee\u9898\uff0c\n\u56e0\u4e3a __exit__() \u65b9\u6cd5\u53ef\u4ee5\u8ba9\u4f60\u65e0\u9700\u62c5\u5fc3\u8fd9\u4e9b\u4e86\u3002"
      ]
    },
    {
      "cell_type": "markdown",
      "metadata": {},
      "source": [
        "\u5728 contextmanager \u6a21\u5757\u4e2d\u6709\u4e00\u4e2a\u6807\u51c6\u7684\u4e0a\u4e0b\u6587\u7ba1\u7406\u65b9\u6848\u6a21\u677f\uff0c\u53ef\u53c2\u80039.22\u5c0f\u8282\u3002\n\u540c\u65f6\u572812.6\u5c0f\u8282\u4e2d\u8fd8\u6709\u4e00\u4e2a\u5bf9\u672c\u8282\u793a\u4f8b\u7a0b\u5e8f\u7684\u7ebf\u7a0b\u5b89\u5168\u7684\u4fee\u6539\u7248\u3002"
      ]
    },
    {
      "cell_type": "markdown",
      "metadata": {},
      "source": [
        "## 8.4 \u521b\u5efa\u5927\u91cf\u5bf9\u8c61\u65f6\u8282\u7701\u5185\u5b58\u65b9\u6cd5\n"
      ]
    },
    {
      "cell_type": "markdown",
      "metadata": {},
      "source": [
        "### \u95ee\u9898\n"
      ]
    },
    {
      "cell_type": "markdown",
      "metadata": {},
      "source": [
        "\u4f60\u7684\u7a0b\u5e8f\u8981\u521b\u5efa\u5927\u91cf(\u53ef\u80fd\u4e0a\u767e\u4e07)\u7684\u5bf9\u8c61\uff0c\u5bfc\u81f4\u5360\u7528\u5f88\u5927\u7684\u5185\u5b58\u3002"
      ]
    },
    {
      "cell_type": "markdown",
      "metadata": {},
      "source": [
        "### \u89e3\u51b3\u65b9\u6848\n"
      ]
    },
    {
      "cell_type": "markdown",
      "metadata": {},
      "source": [
        "\u5bf9\u4e8e\u4e3b\u8981\u662f\u7528\u6765\u5f53\u6210\u7b80\u5355\u7684\u6570\u636e\u7ed3\u6784\u7684\u7c7b\u800c\u8a00\uff0c\u4f60\u53ef\u4ee5\u901a\u8fc7\u7ed9\u7c7b\u6dfb\u52a0 __slots__ \u5c5e\u6027\u6765\u6781\u5927\u7684\u51cf\u5c11\u5b9e\u4f8b\u6240\u5360\u7684\u5185\u5b58\u3002\u6bd4\u5982\uff1a"
      ]
    },
    {
      "cell_type": "code",
      "execution_count": null,
      "metadata": {},
      "outputs": [],
      "source": [
        "c\nl\na\ns\ns\n \nD\na\nt\ne\n:\n\n\n \n \n \n \n_\n_\ns\nl\no\nt\ns\n_\n_\n \n=\n \n[\n'\ny\ne\na\nr\n'\n,\n \n'\nm\no\nn\nt\nh\n'\n,\n \n'\nd\na\ny\n'\n]\n\n\n \n \n \n \nd\ne\nf\n \n_\n_\ni\nn\ni\nt\n_\n_\n(\ns\ne\nl\nf\n,\n \ny\ne\na\nr\n,\n \nm\no\nn\nt\nh\n,\n \nd\na\ny\n)\n:\n\n\n \n \n \n \n \n \n \n \ns\ne\nl\nf\n.\ny\ne\na\nr\n \n=\n \ny\ne\na\nr\n\n\n \n \n \n \n \n \n \n \ns\ne\nl\nf\n.\nm\no\nn\nt\nh\n \n=\n \nm\no\nn\nt\nh\n\n\n \n \n \n \n \n \n \n \ns\ne\nl\nf\n.\nd\na\ny\n \n=\n \nd\na\ny\n\n"
      ]
    },
    {
      "cell_type": "markdown",
      "metadata": {},
      "source": [
        "\u5f53\u4f60\u5b9a\u4e49 __slots__ \u540e\uff0cPython\u5c31\u4f1a\u4e3a\u5b9e\u4f8b\u4f7f\u7528\u4e00\u79cd\u66f4\u52a0\u7d27\u51d1\u7684\u5185\u90e8\u8868\u793a\u3002\n\u5b9e\u4f8b\u901a\u8fc7\u4e00\u4e2a\u5f88\u5c0f\u7684\u56fa\u5b9a\u5927\u5c0f\u7684\u6570\u7ec4\u6765\u6784\u5efa\uff0c\u800c\u4e0d\u662f\u4e3a\u6bcf\u4e2a\u5b9e\u4f8b\u5b9a\u4e49\u4e00\u4e2a\u5b57\u5178\uff0c\u8fd9\u8ddf\u5143\u7ec4\u6216\u5217\u8868\u5f88\u7c7b\u4f3c\u3002\n\u5728 __slots__ \u4e2d\u5217\u51fa\u7684\u5c5e\u6027\u540d\u5728\u5185\u90e8\u88ab\u6620\u5c04\u5230\u8fd9\u4e2a\u6570\u7ec4\u7684\u6307\u5b9a\u5c0f\u6807\u4e0a\u3002\n\u4f7f\u7528slots\u4e00\u4e2a\u4e0d\u597d\u7684\u5730\u65b9\u5c31\u662f\u6211\u4eec\u4e0d\u80fd\u518d\u7ed9\u5b9e\u4f8b\u6dfb\u52a0\u65b0\u7684\u5c5e\u6027\u4e86\uff0c\u53ea\u80fd\u4f7f\u7528\u5728 __slots__ \u4e2d\u5b9a\u4e49\u7684\u90a3\u4e9b\u5c5e\u6027\u540d\u3002"
      ]
    },
    {
      "cell_type": "markdown",
      "metadata": {},
      "source": [
        "### \u8ba8\u8bba\n"
      ]
    },
    {
      "cell_type": "markdown",
      "metadata": {},
      "source": [
        "\u4f7f\u7528slots\u540e\u8282\u7701\u7684\u5185\u5b58\u4f1a\u8ddf\u5b58\u50a8\u5c5e\u6027\u7684\u6570\u91cf\u548c\u7c7b\u578b\u6709\u5173\u3002\n\u4e0d\u8fc7\uff0c\u4e00\u822c\u6765\u8bb2\uff0c\u4f7f\u7528\u5230\u7684\u5185\u5b58\u603b\u91cf\u548c\u5c06\u6570\u636e\u5b58\u50a8\u5728\u4e00\u4e2a\u5143\u7ec4\u4e2d\u5dee\u4e0d\u591a\u3002\n\u4e3a\u4e86\u7ed9\u4f60\u4e00\u4e2a\u76f4\u89c2\u8ba4\u8bc6\uff0c\u5047\u8bbe\u4f60\u4e0d\u4f7f\u7528slots\u76f4\u63a5\u5b58\u50a8\u4e00\u4e2aDate\u5b9e\u4f8b\uff0c\n\u572864\u4f4d\u7684Python\u4e0a\u9762\u8981\u5360\u7528428\u5b57\u8282\uff0c\u800c\u5982\u679c\u4f7f\u7528\u4e86slots\uff0c\u5185\u5b58\u5360\u7528\u4e0b\u964d\u5230156\u5b57\u8282\u3002\n\u5982\u679c\u7a0b\u5e8f\u4e2d\u9700\u8981\u540c\u65f6\u521b\u5efa\u5927\u91cf\u7684\u65e5\u671f\u5b9e\u4f8b\uff0c\u90a3\u4e48\u8fd9\u4e2a\u5c31\u80fd\u6781\u5927\u7684\u51cf\u5c0f\u5185\u5b58\u4f7f\u7528\u91cf\u4e86\u3002"
      ]
    },
    {
      "cell_type": "markdown",
      "metadata": {},
      "source": [
        "\u5c3d\u7ba1slots\u770b\u4e0a\u53bb\u662f\u4e00\u4e2a\u5f88\u6709\u7528\u7684\u7279\u6027\uff0c\u5f88\u591a\u65f6\u5019\u4f60\u8fd8\u662f\u5f97\u51cf\u5c11\u5bf9\u5b83\u7684\u4f7f\u7528\u51b2\u52a8\u3002\nPython\u7684\u5f88\u591a\u7279\u6027\u90fd\u4f9d\u8d56\u4e8e\u666e\u901a\u7684\u57fa\u4e8e\u5b57\u5178\u7684\u5b9e\u73b0\u3002\n\u53e6\u5916\uff0c\u5b9a\u4e49\u4e86slots\u540e\u7684\u7c7b\u4e0d\u518d\u652f\u6301\u4e00\u4e9b\u666e\u901a\u7c7b\u7279\u6027\u4e86\uff0c\u6bd4\u5982\u591a\u7ee7\u627f\u3002\n\u5927\u591a\u6570\u60c5\u51b5\u4e0b\uff0c\u4f60\u5e94\u8be5\u53ea\u5728\u90a3\u4e9b\u7ecf\u5e38\u88ab\u4f7f\u7528\u5230\u7684\u7528\u4f5c\u6570\u636e\u7ed3\u6784\u7684\u7c7b\u4e0a\u5b9a\u4e49slots\n(\u6bd4\u5982\u5728\u7a0b\u5e8f\u4e2d\u9700\u8981\u521b\u5efa\u67d0\u4e2a\u7c7b\u7684\u51e0\u767e\u4e07\u4e2a\u5b9e\u4f8b\u5bf9\u8c61)\u3002"
      ]
    },
    {
      "cell_type": "markdown",
      "metadata": {},
      "source": [
        "\u5173\u4e8e __slots__ \u7684\u4e00\u4e2a\u5e38\u89c1\u8bef\u533a\u662f\u5b83\u53ef\u4ee5\u4f5c\u4e3a\u4e00\u4e2a\u5c01\u88c5\u5de5\u5177\u6765\u9632\u6b62\u7528\u6237\u7ed9\u5b9e\u4f8b\u589e\u52a0\u65b0\u7684\u5c5e\u6027\u3002\n\u5c3d\u7ba1\u4f7f\u7528slots\u53ef\u4ee5\u8fbe\u5230\u8fd9\u6837\u7684\u76ee\u7684\uff0c\u4f46\u662f\u8fd9\u4e2a\u5e76\u4e0d\u662f\u5b83\u7684\u521d\u8877\u3002\n__slots__ \u66f4\u591a\u7684\u662f\u7528\u6765\u4f5c\u4e3a\u4e00\u4e2a\u5185\u5b58\u4f18\u5316\u5de5\u5177\u3002"
      ]
    },
    {
      "cell_type": "markdown",
      "metadata": {},
      "source": [
        "## 8.5 \u5728\u7c7b\u4e2d\u5c01\u88c5\u5c5e\u6027\u540d\n"
      ]
    },
    {
      "cell_type": "markdown",
      "metadata": {},
      "source": [
        "### \u95ee\u9898\n"
      ]
    },
    {
      "cell_type": "markdown",
      "metadata": {},
      "source": [
        "\u4f60\u60f3\u5c01\u88c5\u7c7b\u7684\u5b9e\u4f8b\u4e0a\u9762\u7684\u201c\u79c1\u6709\u201d\u6570\u636e\uff0c\u4f46\u662fPython\u8bed\u8a00\u5e76\u6ca1\u6709\u8bbf\u95ee\u63a7\u5236\u3002"
      ]
    },
    {
      "cell_type": "markdown",
      "metadata": {},
      "source": [
        "### \u89e3\u51b3\u65b9\u6848\n"
      ]
    },
    {
      "cell_type": "markdown",
      "metadata": {},
      "source": [
        "Python\u7a0b\u5e8f\u5458\u4e0d\u53bb\u4f9d\u8d56\u8bed\u8a00\u7279\u6027\u53bb\u5c01\u88c5\u6570\u636e\uff0c\u800c\u662f\u901a\u8fc7\u9075\u5faa\u4e00\u5b9a\u7684\u5c5e\u6027\u548c\u65b9\u6cd5\u547d\u540d\u89c4\u7ea6\u6765\u8fbe\u5230\u8fd9\u4e2a\u6548\u679c\u3002\n\u7b2c\u4e00\u4e2a\u7ea6\u5b9a\u662f\u4efb\u4f55\u4ee5\u5355\u4e0b\u5212\u7ebf_\u5f00\u5934\u7684\u540d\u5b57\u90fd\u5e94\u8be5\u662f\u5185\u90e8\u5b9e\u73b0\u3002\u6bd4\u5982\uff1a"
      ]
    },
    {
      "cell_type": "code",
      "execution_count": null,
      "metadata": {},
      "outputs": [],
      "source": [
        "c\nl\na\ns\ns\n \nA\n:\n\n\n \n \n \n \nd\ne\nf\n \n_\n_\ni\nn\ni\nt\n_\n_\n(\ns\ne\nl\nf\n)\n:\n\n\n \n \n \n \n \n \n \n \ns\ne\nl\nf\n.\n_\ni\nn\nt\ne\nr\nn\na\nl\n \n=\n \n0\n \n#\n \nA\nn\n \ni\nn\nt\ne\nr\nn\na\nl\n \na\nt\nt\nr\ni\nb\nu\nt\ne\n\n\n \n \n \n \n \n \n \n \ns\ne\nl\nf\n.\np\nu\nb\nl\ni\nc\n \n=\n \n1\n \n#\n \nA\n \np\nu\nb\nl\ni\nc\n \na\nt\nt\nr\ni\nb\nu\nt\ne\n\n\n\n\n \n \n \n \nd\ne\nf\n \np\nu\nb\nl\ni\nc\n_\nm\ne\nt\nh\no\nd\n(\ns\ne\nl\nf\n)\n:\n\n\n \n \n \n \n \n \n \n \n'\n'\n'\n\n\n \n \n \n \n \n \n \n \nA\n \np\nu\nb\nl\ni\nc\n \nm\ne\nt\nh\no\nd\n\n\n \n \n \n \n \n \n \n \n'\n'\n'\n\n\n \n \n \n \n \n \n \n \np\na\ns\ns\n\n\n\n\n \n \n \n \nd\ne\nf\n \n_\ni\nn\nt\ne\nr\nn\na\nl\n_\nm\ne\nt\nh\no\nd\n(\ns\ne\nl\nf\n)\n:\n\n\n \n \n \n \n \n \n \n \np\na\ns\ns\n\n"
      ]
    },
    {
      "cell_type": "markdown",
      "metadata": {},
      "source": [
        "Python\u5e76\u4e0d\u4f1a\u771f\u7684\u963b\u6b62\u522b\u4eba\u8bbf\u95ee\u5185\u90e8\u540d\u79f0\u3002\u4f46\u662f\u5982\u679c\u4f60\u8fd9\u4e48\u505a\u80af\u5b9a\u662f\u4e0d\u597d\u7684\uff0c\u53ef\u80fd\u4f1a\u5bfc\u81f4\u8106\u5f31\u7684\u4ee3\u7801\u3002\n\u540c\u65f6\u8fd8\u8981\u6ce8\u610f\u5230\uff0c\u4f7f\u7528\u4e0b\u5212\u7ebf\u5f00\u5934\u7684\u7ea6\u5b9a\u540c\u6837\u9002\u7528\u4e8e\u6a21\u5757\u540d\u548c\u6a21\u5757\u7ea7\u522b\u51fd\u6570\u3002\n\u4f8b\u5982\uff0c\u5982\u679c\u4f60\u770b\u5230\u67d0\u4e2a\u6a21\u5757\u540d\u4ee5\u5355\u4e0b\u5212\u7ebf\u5f00\u5934(\u6bd4\u5982_socket)\uff0c\u90a3\u5b83\u5c31\u662f\u5185\u90e8\u5b9e\u73b0\u3002\n\u7c7b\u4f3c\u7684\uff0c\u6a21\u5757\u7ea7\u522b\u51fd\u6570\u6bd4\u5982 sys._getframe() \u5728\u4f7f\u7528\u7684\u65f6\u5019\u5c31\u5f97\u52a0\u500d\u5c0f\u5fc3\u4e86\u3002"
      ]
    },
    {
      "cell_type": "markdown",
      "metadata": {},
      "source": [
        "\u4f60\u8fd8\u53ef\u80fd\u4f1a\u9047\u5230\u5728\u7c7b\u5b9a\u4e49\u4e2d\u4f7f\u7528\u4e24\u4e2a\u4e0b\u5212\u7ebf(__)\u5f00\u5934\u7684\u547d\u540d\u3002\u6bd4\u5982\uff1a"
      ]
    },
    {
      "cell_type": "code",
      "execution_count": null,
      "metadata": {},
      "outputs": [],
      "source": [
        "c\nl\na\ns\ns\n \nB\n:\n\n\n \n \n \n \nd\ne\nf\n \n_\n_\ni\nn\ni\nt\n_\n_\n(\ns\ne\nl\nf\n)\n:\n\n\n \n \n \n \n \n \n \n \ns\ne\nl\nf\n.\n_\n_\np\nr\ni\nv\na\nt\ne\n \n=\n \n0\n\n\n\n\n \n \n \n \nd\ne\nf\n \n_\n_\np\nr\ni\nv\na\nt\ne\n_\nm\ne\nt\nh\no\nd\n(\ns\ne\nl\nf\n)\n:\n\n\n \n \n \n \n \n \n \n \np\na\ns\ns\n\n\n\n\n \n \n \n \nd\ne\nf\n \np\nu\nb\nl\ni\nc\n_\nm\ne\nt\nh\no\nd\n(\ns\ne\nl\nf\n)\n:\n\n\n \n \n \n \n \n \n \n \np\na\ns\ns\n\n\n \n \n \n \n \n \n \n \ns\ne\nl\nf\n.\n_\n_\np\nr\ni\nv\na\nt\ne\n_\nm\ne\nt\nh\no\nd\n(\n)\n\n"
      ]
    },
    {
      "cell_type": "markdown",
      "metadata": {},
      "source": [
        "\u4f7f\u7528\u53cc\u4e0b\u5212\u7ebf\u5f00\u59cb\u4f1a\u5bfc\u81f4\u8bbf\u95ee\u540d\u79f0\u53d8\u6210\u5176\u4ed6\u5f62\u5f0f\u3002\n\u6bd4\u5982\uff0c\u5728\u524d\u9762\u7684\u7c7bB\u4e2d\uff0c\u79c1\u6709\u5c5e\u6027\u4f1a\u88ab\u5206\u522b\u91cd\u547d\u540d\u4e3a _B__private \u548c _B__private_method \u3002\n\u8fd9\u65f6\u5019\u4f60\u53ef\u80fd\u4f1a\u95ee\u8fd9\u6837\u91cd\u547d\u540d\u7684\u76ee\u7684\u662f\u4ec0\u4e48\uff0c\u7b54\u6848\u5c31\u662f\u7ee7\u627f\u2014\u2014\u8fd9\u79cd\u5c5e\u6027\u901a\u8fc7\u7ee7\u627f\u662f\u65e0\u6cd5\u88ab\u8986\u76d6\u7684\u3002\u6bd4\u5982\uff1a"
      ]
    },
    {
      "cell_type": "code",
      "execution_count": null,
      "metadata": {},
      "outputs": [],
      "source": [
        "c\nl\na\ns\ns\n \nC\n(\nB\n)\n:\n\n\n \n \n \n \nd\ne\nf\n \n_\n_\ni\nn\ni\nt\n_\n_\n(\ns\ne\nl\nf\n)\n:\n\n\n \n \n \n \n \n \n \n \ns\nu\np\ne\nr\n(\n)\n.\n_\n_\ni\nn\ni\nt\n_\n_\n(\n)\n\n\n \n \n \n \n \n \n \n \ns\ne\nl\nf\n.\n_\n_\np\nr\ni\nv\na\nt\ne\n \n=\n \n1\n \n#\n \nD\no\ne\ns\n \nn\no\nt\n \no\nv\ne\nr\nr\ni\nd\ne\n \nB\n.\n_\n_\np\nr\ni\nv\na\nt\ne\n\n\n\n\n \n \n \n \n#\n \nD\no\ne\ns\n \nn\no\nt\n \no\nv\ne\nr\nr\ni\nd\ne\n \nB\n.\n_\n_\np\nr\ni\nv\na\nt\ne\n_\nm\ne\nt\nh\no\nd\n(\n)\n\n\n \n \n \n \nd\ne\nf\n \n_\n_\np\nr\ni\nv\na\nt\ne\n_\nm\ne\nt\nh\no\nd\n(\ns\ne\nl\nf\n)\n:\n\n\n \n \n \n \n \n \n \n \np\na\ns\ns\n\n"
      ]
    },
    {
      "cell_type": "markdown",
      "metadata": {},
      "source": [
        "\u8fd9\u91cc\uff0c\u79c1\u6709\u540d\u79f0 __private \u548c __private_method\n\u88ab\u91cd\u547d\u540d\u4e3a _C__private \u548c _C__private_method \uff0c\u8fd9\u4e2a\u8ddf\u7236\u7c7bB\u4e2d\u7684\u540d\u79f0\u662f\u5b8c\u5168\u4e0d\u540c\u7684\u3002"
      ]
    },
    {
      "cell_type": "markdown",
      "metadata": {},
      "source": [
        "### \u8ba8\u8bba\n"
      ]
    },
    {
      "cell_type": "markdown",
      "metadata": {},
      "source": [
        "\u4e0a\u9762\u63d0\u5230\u6709\u4e24\u79cd\u4e0d\u540c\u7684\u7f16\u7801\u7ea6\u5b9a(\u5355\u4e0b\u5212\u7ebf\u548c\u53cc\u4e0b\u5212\u7ebf)\u6765\u547d\u540d\u79c1\u6709\u5c5e\u6027\uff0c\u90a3\u4e48\u95ee\u9898\u5c31\u6765\u4e86\uff1a\u5230\u5e95\u54ea\u79cd\u65b9\u5f0f\u597d\u5462\uff1f\n\u5927\u591a\u6570\u800c\u8a00\uff0c\u4f60\u5e94\u8be5\u8ba9\u4f60\u7684\u975e\u516c\u5171\u540d\u79f0\u4ee5\u5355\u4e0b\u5212\u7ebf\u5f00\u5934\u3002\u4f46\u662f\uff0c\u5982\u679c\u4f60\u6e05\u695a\u4f60\u7684\u4ee3\u7801\u4f1a\u6d89\u53ca\u5230\u5b50\u7c7b\uff0c\n\u5e76\u4e14\u6709\u4e9b\u5185\u90e8\u5c5e\u6027\u5e94\u8be5\u5728\u5b50\u7c7b\u4e2d\u9690\u85cf\u8d77\u6765\uff0c\u90a3\u4e48\u624d\u8003\u8651\u4f7f\u7528\u53cc\u4e0b\u5212\u7ebf\u65b9\u6848\u3002"
      ]
    },
    {
      "cell_type": "markdown",
      "metadata": {},
      "source": [
        "\u8fd8\u6709\u4e00\u70b9\u8981\u6ce8\u610f\u7684\u662f\uff0c\u6709\u65f6\u5019\u4f60\u5b9a\u4e49\u7684\u4e00\u4e2a\u53d8\u91cf\u548c\u67d0\u4e2a\u4fdd\u7559\u5173\u952e\u5b57\u51b2\u7a81\uff0c\u8fd9\u65f6\u5019\u53ef\u4ee5\u4f7f\u7528\u5355\u4e0b\u5212\u7ebf\u4f5c\u4e3a\u540e\u7f00\uff0c\u4f8b\u5982\uff1a"
      ]
    },
    {
      "cell_type": "code",
      "execution_count": null,
      "metadata": {},
      "outputs": [],
      "source": [
        "l\na\nm\nb\nd\na\n_\n \n=\n \n2\n.\n0\n \n#\n \nT\nr\na\ni\nl\ni\nn\ng\n \n_\n \nt\no\n \na\nv\no\ni\nd\n \nc\nl\na\ns\nh\n \nw\ni\nt\nh\n \nl\na\nm\nb\nd\na\n \nk\ne\ny\nw\no\nr\nd\n\n"
      ]
    },
    {
      "cell_type": "markdown",
      "metadata": {},
      "source": [
        "\u8fd9\u91cc\u6211\u4eec\u5e76\u4e0d\u4f7f\u7528\u5355\u4e0b\u5212\u7ebf\u524d\u7f00\u7684\u539f\u56e0\u662f\u5b83\u907f\u514d\u8bef\u89e3\u5b83\u7684\u4f7f\u7528\u521d\u8877\n(\u5982\u4f7f\u7528\u5355\u4e0b\u5212\u7ebf\u524d\u7f00\u7684\u76ee\u7684\u662f\u4e3a\u4e86\u9632\u6b62\u547d\u540d\u51b2\u7a81\u800c\u4e0d\u662f\u6307\u660e\u8fd9\u4e2a\u5c5e\u6027\u662f\u79c1\u6709\u7684)\u3002\n\u901a\u8fc7\u4f7f\u7528\u5355\u4e0b\u5212\u7ebf\u540e\u7f00\u53ef\u4ee5\u89e3\u51b3\u8fd9\u4e2a\u95ee\u9898\u3002"
      ]
    },
    {
      "cell_type": "markdown",
      "metadata": {},
      "source": [
        "## 8.6 \u521b\u5efa\u53ef\u7ba1\u7406\u7684\u5c5e\u6027\n"
      ]
    },
    {
      "cell_type": "markdown",
      "metadata": {},
      "source": [
        "### \u95ee\u9898\n"
      ]
    },
    {
      "cell_type": "markdown",
      "metadata": {},
      "source": [
        "\u4f60\u60f3\u7ed9\u67d0\u4e2a\u5b9e\u4f8battribute\u589e\u52a0\u9664\u8bbf\u95ee\u4e0e\u4fee\u6539\u4e4b\u5916\u7684\u5176\u4ed6\u5904\u7406\u903b\u8f91\uff0c\u6bd4\u5982\u7c7b\u578b\u68c0\u67e5\u6216\u5408\u6cd5\u6027\u9a8c\u8bc1\u3002"
      ]
    },
    {
      "cell_type": "markdown",
      "metadata": {},
      "source": [
        "### \u89e3\u51b3\u65b9\u6848\n"
      ]
    },
    {
      "cell_type": "markdown",
      "metadata": {},
      "source": [
        "\u81ea\u5b9a\u4e49\u67d0\u4e2a\u5c5e\u6027\u7684\u4e00\u79cd\u7b80\u5355\u65b9\u6cd5\u662f\u5c06\u5b83\u5b9a\u4e49\u4e3a\u4e00\u4e2aproperty\u3002\n\u4f8b\u5982\uff0c\u4e0b\u9762\u7684\u4ee3\u7801\u5b9a\u4e49\u4e86\u4e00\u4e2aproperty\uff0c\u589e\u52a0\u5bf9\u4e00\u4e2a\u5c5e\u6027\u7b80\u5355\u7684\u7c7b\u578b\u68c0\u67e5\uff1a"
      ]
    },
    {
      "cell_type": "code",
      "execution_count": null,
      "metadata": {},
      "outputs": [],
      "source": [
        "c\nl\na\ns\ns\n \nP\ne\nr\ns\no\nn\n:\n\n\n \n \n \n \nd\ne\nf\n \n_\n_\ni\nn\ni\nt\n_\n_\n(\ns\ne\nl\nf\n,\n \nf\ni\nr\ns\nt\n_\nn\na\nm\ne\n)\n:\n\n\n \n \n \n \n \n \n \n \ns\ne\nl\nf\n.\nf\ni\nr\ns\nt\n_\nn\na\nm\ne\n \n=\n \nf\ni\nr\ns\nt\n_\nn\na\nm\ne\n\n\n\n\n \n \n \n \n#\n \nG\ne\nt\nt\ne\nr\n \nf\nu\nn\nc\nt\ni\no\nn\n\n\n \n \n \n \n@\np\nr\no\np\ne\nr\nt\ny\n\n\n \n \n \n \nd\ne\nf\n \nf\ni\nr\ns\nt\n_\nn\na\nm\ne\n(\ns\ne\nl\nf\n)\n:\n\n\n \n \n \n \n \n \n \n \nr\ne\nt\nu\nr\nn\n \ns\ne\nl\nf\n.\n_\nf\ni\nr\ns\nt\n_\nn\na\nm\ne\n\n\n\n\n \n \n \n \n#\n \nS\ne\nt\nt\ne\nr\n \nf\nu\nn\nc\nt\ni\no\nn\n\n\n \n \n \n \n@\nf\ni\nr\ns\nt\n_\nn\na\nm\ne\n.\ns\ne\nt\nt\ne\nr\n\n\n \n \n \n \nd\ne\nf\n \nf\ni\nr\ns\nt\n_\nn\na\nm\ne\n(\ns\ne\nl\nf\n,\n \nv\na\nl\nu\ne\n)\n:\n\n\n \n \n \n \n \n \n \n \ni\nf\n \nn\no\nt\n \ni\ns\ni\nn\ns\nt\na\nn\nc\ne\n(\nv\na\nl\nu\ne\n,\n \ns\nt\nr\n)\n:\n\n\n \n \n \n \n \n \n \n \n \n \n \n \nr\na\ni\ns\ne\n \nT\ny\np\ne\nE\nr\nr\no\nr\n(\n'\nE\nx\np\ne\nc\nt\ne\nd\n \na\n \ns\nt\nr\ni\nn\ng\n'\n)\n\n\n \n \n \n \n \n \n \n \ns\ne\nl\nf\n.\n_\nf\ni\nr\ns\nt\n_\nn\na\nm\ne\n \n=\n \nv\na\nl\nu\ne\n\n\n\n\n \n \n \n \n#\n \nD\ne\nl\ne\nt\ne\nr\n \nf\nu\nn\nc\nt\ni\no\nn\n \n(\no\np\nt\ni\no\nn\na\nl\n)\n\n\n \n \n \n \n@\nf\ni\nr\ns\nt\n_\nn\na\nm\ne\n.\nd\ne\nl\ne\nt\ne\nr\n\n\n \n \n \n \nd\ne\nf\n \nf\ni\nr\ns\nt\n_\nn\na\nm\ne\n(\ns\ne\nl\nf\n)\n:\n\n\n \n \n \n \n \n \n \n \nr\na\ni\ns\ne\n \nA\nt\nt\nr\ni\nb\nu\nt\ne\nE\nr\nr\no\nr\n(\n\"\nC\na\nn\n'\nt\n \nd\ne\nl\ne\nt\ne\n \na\nt\nt\nr\ni\nb\nu\nt\ne\n\"\n)\n\n"
      ]
    },
    {
      "cell_type": "markdown",
      "metadata": {},
      "source": [
        "\u4e0a\u8ff0\u4ee3\u7801\u4e2d\u6709\u4e09\u4e2a\u76f8\u5173\u8054\u7684\u65b9\u6cd5\uff0c\u8fd9\u4e09\u4e2a\u65b9\u6cd5\u7684\u540d\u5b57\u90fd\u5fc5\u987b\u4e00\u6837\u3002\n\u7b2c\u4e00\u4e2a\u65b9\u6cd5\u662f\u4e00\u4e2a getter \u51fd\u6570\uff0c\u5b83\u4f7f\u5f97 first_name \u6210\u4e3a\u4e00\u4e2a\u5c5e\u6027\u3002\n\u5176\u4ed6\u4e24\u4e2a\u65b9\u6cd5\u7ed9 first_name \u5c5e\u6027\u6dfb\u52a0\u4e86 setter \u548c deleter \u51fd\u6570\u3002\n\u9700\u8981\u5f3a\u8c03\u7684\u662f\u53ea\u6709\u5728 first_name \u5c5e\u6027\u88ab\u521b\u5efa\u540e\uff0c\n\u540e\u9762\u7684\u4e24\u4e2a\u88c5\u9970\u5668 @first_name.setter \u548c @first_name.deleter \u624d\u80fd\u88ab\u5b9a\u4e49\u3002"
      ]
    },
    {
      "cell_type": "markdown",
      "metadata": {},
      "source": [
        "property\u7684\u4e00\u4e2a\u5173\u952e\u7279\u5f81\u662f\u5b83\u770b\u4e0a\u53bb\u8ddf\u666e\u901a\u7684attribute\u6ca1\u4ec0\u4e48\u4e24\u6837\uff0c\n\u4f46\u662f\u8bbf\u95ee\u5b83\u7684\u65f6\u5019\u4f1a\u81ea\u52a8\u89e6\u53d1 getter \u3001setter \u548c deleter \u65b9\u6cd5\u3002\u4f8b\u5982\uff1a"
      ]
    },
    {
      "cell_type": "code",
      "execution_count": null,
      "metadata": {},
      "outputs": [],
      "source": [
        "a = Person('Guido')\na.first_name # Calls the getter"
      ]
    },
    {
      "cell_type": "code",
      "execution_count": null,
      "metadata": {},
      "outputs": [],
      "source": [
        "a.first_name = 42 # Calls the setter"
      ]
    },
    {
      "cell_type": "code",
      "execution_count": null,
      "metadata": {},
      "outputs": [],
      "source": [
        "del a.first_name"
      ]
    },
    {
      "cell_type": "markdown",
      "metadata": {},
      "source": [
        "\u5728\u5b9e\u73b0\u4e00\u4e2aproperty\u7684\u65f6\u5019\uff0c\u5e95\u5c42\u6570\u636e(\u5982\u679c\u6709\u7684\u8bdd)\u4ecd\u7136\u9700\u8981\u5b58\u50a8\u5728\u67d0\u4e2a\u5730\u65b9\u3002\n\u56e0\u6b64\uff0c\u5728get\u548cset\u65b9\u6cd5\u4e2d\uff0c\u4f60\u4f1a\u770b\u5230\u5bf9 _first_name \u5c5e\u6027\u7684\u64cd\u4f5c\uff0c\u8fd9\u4e5f\u662f\u5b9e\u9645\u6570\u636e\u4fdd\u5b58\u7684\u5730\u65b9\u3002\n\u53e6\u5916\uff0c\u4f60\u53ef\u80fd\u8fd8\u4f1a\u95ee\u4e3a\u4ec0\u4e48 __init__() \u65b9\u6cd5\u4e2d\u8bbe\u7f6e\u4e86 self.first_name \u800c\u4e0d\u662f self._first_name \u3002\n\u5728\u8fd9\u4e2a\u4f8b\u5b50\u4e2d\uff0c\u6211\u4eec\u521b\u5efa\u4e00\u4e2aproperty\u7684\u76ee\u7684\u5c31\u662f\u5728\u8bbe\u7f6eattribute\u7684\u65f6\u5019\u8fdb\u884c\u68c0\u67e5\u3002\n\u56e0\u6b64\uff0c\u4f60\u53ef\u80fd\u60f3\u5728\u521d\u59cb\u5316\u7684\u65f6\u5019\u4e5f\u8fdb\u884c\u8fd9\u79cd\u7c7b\u578b\u68c0\u67e5\u3002\u901a\u8fc7\u8bbe\u7f6e self.first_name \uff0c\u81ea\u52a8\u8c03\u7528 setter \u65b9\u6cd5\uff0c\n\u8fd9\u4e2a\u65b9\u6cd5\u91cc\u9762\u4f1a\u8fdb\u884c\u53c2\u6570\u7684\u68c0\u67e5\uff0c\u5426\u5219\u5c31\u662f\u76f4\u63a5\u8bbf\u95ee self._first_name \u4e86\u3002"
      ]
    },
    {
      "cell_type": "markdown",
      "metadata": {},
      "source": [
        "\u8fd8\u80fd\u5728\u5df2\u5b58\u5728\u7684get\u548cset\u65b9\u6cd5\u57fa\u7840\u4e0a\u5b9a\u4e49property\u3002\u4f8b\u5982\uff1a"
      ]
    },
    {
      "cell_type": "code",
      "execution_count": null,
      "metadata": {},
      "outputs": [],
      "source": [
        "c\nl\na\ns\ns\n \nP\ne\nr\ns\no\nn\n:\n\n\n \n \n \n \nd\ne\nf\n \n_\n_\ni\nn\ni\nt\n_\n_\n(\ns\ne\nl\nf\n,\n \nf\ni\nr\ns\nt\n_\nn\na\nm\ne\n)\n:\n\n\n \n \n \n \n \n \n \n \ns\ne\nl\nf\n.\ns\ne\nt\n_\nf\ni\nr\ns\nt\n_\nn\na\nm\ne\n(\nf\ni\nr\ns\nt\n_\nn\na\nm\ne\n)\n\n\n\n\n \n \n \n \n#\n \nG\ne\nt\nt\ne\nr\n \nf\nu\nn\nc\nt\ni\no\nn\n\n\n \n \n \n \nd\ne\nf\n \ng\ne\nt\n_\nf\ni\nr\ns\nt\n_\nn\na\nm\ne\n(\ns\ne\nl\nf\n)\n:\n\n\n \n \n \n \n \n \n \n \nr\ne\nt\nu\nr\nn\n \ns\ne\nl\nf\n.\n_\nf\ni\nr\ns\nt\n_\nn\na\nm\ne\n\n\n\n\n \n \n \n \n#\n \nS\ne\nt\nt\ne\nr\n \nf\nu\nn\nc\nt\ni\no\nn\n\n\n \n \n \n \nd\ne\nf\n \ns\ne\nt\n_\nf\ni\nr\ns\nt\n_\nn\na\nm\ne\n(\ns\ne\nl\nf\n,\n \nv\na\nl\nu\ne\n)\n:\n\n\n \n \n \n \n \n \n \n \ni\nf\n \nn\no\nt\n \ni\ns\ni\nn\ns\nt\na\nn\nc\ne\n(\nv\na\nl\nu\ne\n,\n \ns\nt\nr\n)\n:\n\n\n \n \n \n \n \n \n \n \n \n \n \n \nr\na\ni\ns\ne\n \nT\ny\np\ne\nE\nr\nr\no\nr\n(\n'\nE\nx\np\ne\nc\nt\ne\nd\n \na\n \ns\nt\nr\ni\nn\ng\n'\n)\n\n\n \n \n \n \n \n \n \n \ns\ne\nl\nf\n.\n_\nf\ni\nr\ns\nt\n_\nn\na\nm\ne\n \n=\n \nv\na\nl\nu\ne\n\n\n\n\n \n \n \n \n#\n \nD\ne\nl\ne\nt\ne\nr\n \nf\nu\nn\nc\nt\ni\no\nn\n \n(\no\np\nt\ni\no\nn\na\nl\n)\n\n\n \n \n \n \nd\ne\nf\n \nd\ne\nl\n_\nf\ni\nr\ns\nt\n_\nn\na\nm\ne\n(\ns\ne\nl\nf\n)\n:\n\n\n \n \n \n \n \n \n \n \nr\na\ni\ns\ne\n \nA\nt\nt\nr\ni\nb\nu\nt\ne\nE\nr\nr\no\nr\n(\n\"\nC\na\nn\n'\nt\n \nd\ne\nl\ne\nt\ne\n \na\nt\nt\nr\ni\nb\nu\nt\ne\n\"\n)\n\n\n\n\n \n \n \n \n#\n \nM\na\nk\ne\n \na\n \np\nr\no\np\ne\nr\nt\ny\n \nf\nr\no\nm\n \ne\nx\ni\ns\nt\ni\nn\ng\n \ng\ne\nt\n/\ns\ne\nt\n \nm\ne\nt\nh\no\nd\ns\n\n\n \n \n \n \nn\na\nm\ne\n \n=\n \np\nr\no\np\ne\nr\nt\ny\n(\ng\ne\nt\n_\nf\ni\nr\ns\nt\n_\nn\na\nm\ne\n,\n \ns\ne\nt\n_\nf\ni\nr\ns\nt\n_\nn\na\nm\ne\n,\n \nd\ne\nl\n_\nf\ni\nr\ns\nt\n_\nn\na\nm\ne\n)\n\n"
      ]
    },
    {
      "cell_type": "markdown",
      "metadata": {},
      "source": [
        "### \u8ba8\u8bba\n"
      ]
    },
    {
      "cell_type": "markdown",
      "metadata": {},
      "source": [
        "\u4e00\u4e2aproperty\u5c5e\u6027\u5176\u5b9e\u5c31\u662f\u4e00\u7cfb\u5217\u76f8\u5173\u7ed1\u5b9a\u65b9\u6cd5\u7684\u96c6\u5408\u3002\u5982\u679c\u4f60\u53bb\u67e5\u770b\u62e5\u6709property\u7684\u7c7b\uff0c\n\u5c31\u4f1a\u53d1\u73b0property\u672c\u8eab\u7684fget\u3001fset\u548cfdel\u5c5e\u6027\u5c31\u662f\u7c7b\u91cc\u9762\u7684\u666e\u901a\u65b9\u6cd5\u3002\u6bd4\u5982\uff1a"
      ]
    },
    {
      "cell_type": "code",
      "execution_count": null,
      "metadata": {},
      "outputs": [],
      "source": [
        "Person.first_name.fget"
      ]
    },
    {
      "cell_type": "code",
      "execution_count": null,
      "metadata": {},
      "outputs": [],
      "source": [
        "Person.first_name.fset"
      ]
    },
    {
      "cell_type": "code",
      "execution_count": null,
      "metadata": {},
      "outputs": [],
      "source": [
        "Person.first_name.fdel"
      ]
    },
    {
      "cell_type": "markdown",
      "metadata": {},
      "source": [
        "\u901a\u5e38\u6765\u8bb2\uff0c\u4f60\u4e0d\u4f1a\u76f4\u63a5\u53d6\u8c03\u7528fget\u6216\u8005fset\uff0c\u5b83\u4eec\u4f1a\u5728\u8bbf\u95eeproperty\u7684\u65f6\u5019\u81ea\u52a8\u88ab\u89e6\u53d1\u3002"
      ]
    },
    {
      "cell_type": "markdown",
      "metadata": {},
      "source": [
        "\u53ea\u6709\u5f53\u4f60\u786e\u5b9e\u9700\u8981\u5bf9attribute\u6267\u884c\u5176\u4ed6\u989d\u5916\u7684\u64cd\u4f5c\u7684\u65f6\u5019\u624d\u5e94\u8be5\u4f7f\u7528\u5230property\u3002\n\u6709\u65f6\u5019\u4e00\u4e9b\u4ece\u5176\u4ed6\u7f16\u7a0b\u8bed\u8a00(\u6bd4\u5982Java)\u8fc7\u6765\u7684\u7a0b\u5e8f\u5458\u603b\u8ba4\u4e3a\u6240\u6709\u8bbf\u95ee\u90fd\u5e94\u8be5\u901a\u8fc7getter\u548csetter\uff0c\n\u6240\u4ee5\u4ed6\u4eec\u8ba4\u4e3a\u4ee3\u7801\u5e94\u8be5\u50cf\u4e0b\u9762\u8fd9\u6837\u5199\uff1a"
      ]
    },
    {
      "cell_type": "code",
      "execution_count": null,
      "metadata": {},
      "outputs": [],
      "source": [
        "c\nl\na\ns\ns\n \nP\ne\nr\ns\no\nn\n:\n\n\n \n \n \n \nd\ne\nf\n \n_\n_\ni\nn\ni\nt\n_\n_\n(\ns\ne\nl\nf\n,\n \nf\ni\nr\ns\nt\n_\nn\na\nm\ne\n)\n:\n\n\n \n \n \n \n \n \n \n \ns\ne\nl\nf\n.\nf\ni\nr\ns\nt\n_\nn\na\nm\ne\n \n=\n \nf\ni\nr\ns\nt\n_\nn\na\nm\ne\n\n\n\n\n \n \n \n \n@\np\nr\no\np\ne\nr\nt\ny\n\n\n \n \n \n \nd\ne\nf\n \nf\ni\nr\ns\nt\n_\nn\na\nm\ne\n(\ns\ne\nl\nf\n)\n:\n\n\n \n \n \n \n \n \n \n \nr\ne\nt\nu\nr\nn\n \ns\ne\nl\nf\n.\n_\nf\ni\nr\ns\nt\n_\nn\na\nm\ne\n\n\n\n\n \n \n \n \n@\nf\ni\nr\ns\nt\n_\nn\na\nm\ne\n.\ns\ne\nt\nt\ne\nr\n\n\n \n \n \n \nd\ne\nf\n \nf\ni\nr\ns\nt\n_\nn\na\nm\ne\n(\ns\ne\nl\nf\n,\n \nv\na\nl\nu\ne\n)\n:\n\n\n \n \n \n \n \n \n \n \ns\ne\nl\nf\n.\n_\nf\ni\nr\ns\nt\n_\nn\na\nm\ne\n \n=\n \nv\na\nl\nu\ne\n\n"
      ]
    },
    {
      "cell_type": "markdown",
      "metadata": {},
      "source": [
        "\u4e0d\u8981\u5199\u8fd9\u79cd\u6ca1\u6709\u505a\u4efb\u4f55\u5176\u4ed6\u989d\u5916\u64cd\u4f5c\u7684property\u3002\n\u9996\u5148\uff0c\u5b83\u4f1a\u8ba9\u4f60\u7684\u4ee3\u7801\u53d8\u5f97\u5f88\u81c3\u80bf\uff0c\u5e76\u4e14\u8fd8\u4f1a\u8ff7\u60d1\u9605\u8bfb\u8005\u3002\n\u5176\u6b21\uff0c\u5b83\u8fd8\u4f1a\u8ba9\u4f60\u7684\u7a0b\u5e8f\u8fd0\u884c\u8d77\u6765\u53d8\u6162\u5f88\u591a\u3002\n\u6700\u540e\uff0c\u8fd9\u6837\u7684\u8bbe\u8ba1\u5e76\u6ca1\u6709\u5e26\u6765\u4efb\u4f55\u7684\u597d\u5904\u3002\n\u7279\u522b\u662f\u5f53\u4f60\u4ee5\u540e\u60f3\u7ed9\u666e\u901aattribute\u8bbf\u95ee\u6dfb\u52a0\u989d\u5916\u7684\u5904\u7406\u903b\u8f91\u7684\u65f6\u5019\uff0c\n\u4f60\u53ef\u4ee5\u5c06\u5b83\u53d8\u6210\u4e00\u4e2aproperty\u800c\u65e0\u9700\u6539\u53d8\u539f\u6765\u7684\u4ee3\u7801\u3002\n\u56e0\u4e3a\u8bbf\u95eeattribute\u7684\u4ee3\u7801\u8fd8\u662f\u4fdd\u6301\u539f\u6837\u3002"
      ]
    },
    {
      "cell_type": "markdown",
      "metadata": {},
      "source": [
        "Properties\u8fd8\u662f\u4e00\u79cd\u5b9a\u4e49\u52a8\u6001\u8ba1\u7b97attribute\u7684\u65b9\u6cd5\u3002\n\u8fd9\u79cd\u7c7b\u578b\u7684attributes\u5e76\u4e0d\u4f1a\u88ab\u5b9e\u9645\u7684\u5b58\u50a8\uff0c\u800c\u662f\u5728\u9700\u8981\u7684\u65f6\u5019\u8ba1\u7b97\u51fa\u6765\u3002\u6bd4\u5982\uff1a"
      ]
    },
    {
      "cell_type": "code",
      "execution_count": null,
      "metadata": {},
      "outputs": [],
      "source": [
        "i\nm\np\no\nr\nt\n \nm\na\nt\nh\n\n\nc\nl\na\ns\ns\n \nC\ni\nr\nc\nl\ne\n:\n\n\n \n \n \n \nd\ne\nf\n \n_\n_\ni\nn\ni\nt\n_\n_\n(\ns\ne\nl\nf\n,\n \nr\na\nd\ni\nu\ns\n)\n:\n\n\n \n \n \n \n \n \n \n \ns\ne\nl\nf\n.\nr\na\nd\ni\nu\ns\n \n=\n \nr\na\nd\ni\nu\ns\n\n\n\n\n \n \n \n \n@\np\nr\no\np\ne\nr\nt\ny\n\n\n \n \n \n \nd\ne\nf\n \na\nr\ne\na\n(\ns\ne\nl\nf\n)\n:\n\n\n \n \n \n \n \n \n \n \nr\ne\nt\nu\nr\nn\n \nm\na\nt\nh\n.\np\ni\n \n*\n \ns\ne\nl\nf\n.\nr\na\nd\ni\nu\ns\n \n*\n*\n \n2\n\n\n\n\n \n \n \n \n@\np\nr\no\np\ne\nr\nt\ny\n\n\n \n \n \n \nd\ne\nf\n \nd\ni\na\nm\ne\nt\ne\nr\n(\ns\ne\nl\nf\n)\n:\n\n\n \n \n \n \n \n \n \n \nr\ne\nt\nu\nr\nn\n \ns\ne\nl\nf\n.\nr\na\nd\ni\nu\ns\n \n*\n \n2\n\n\n\n\n \n \n \n \n@\np\nr\no\np\ne\nr\nt\ny\n\n\n \n \n \n \nd\ne\nf\n \np\ne\nr\ni\nm\ne\nt\ne\nr\n(\ns\ne\nl\nf\n)\n:\n\n\n \n \n \n \n \n \n \n \nr\ne\nt\nu\nr\nn\n \n2\n \n*\n \nm\na\nt\nh\n.\np\ni\n \n*\n \ns\ne\nl\nf\n.\nr\na\nd\ni\nu\ns\n\n"
      ]
    },
    {
      "cell_type": "markdown",
      "metadata": {},
      "source": [
        "\u5728\u8fd9\u91cc\uff0c\u6211\u4eec\u901a\u8fc7\u4f7f\u7528properties\uff0c\u5c06\u6240\u6709\u7684\u8bbf\u95ee\u63a5\u53e3\u5f62\u5f0f\u7edf\u4e00\u8d77\u6765\uff0c\n\u5bf9\u534a\u5f84\u3001\u76f4\u5f84\u3001\u5468\u957f\u548c\u9762\u79ef\u7684\u8bbf\u95ee\u90fd\u662f\u901a\u8fc7\u5c5e\u6027\u8bbf\u95ee\uff0c\u5c31\u8ddf\u8bbf\u95ee\u7b80\u5355\u7684attribute\u662f\u4e00\u6837\u7684\u3002\n\u5982\u679c\u4e0d\u8fd9\u6837\u505a\u7684\u8bdd\uff0c\u90a3\u4e48\u5c31\u8981\u5728\u4ee3\u7801\u4e2d\u6df7\u5408\u4f7f\u7528\u7b80\u5355\u5c5e\u6027\u8bbf\u95ee\u548c\u65b9\u6cd5\u8c03\u7528\u3002\n\u4e0b\u9762\u662f\u4f7f\u7528\u7684\u5b9e\u4f8b\uff1a"
      ]
    },
    {
      "cell_type": "code",
      "execution_count": null,
      "metadata": {},
      "outputs": [],
      "source": [
        "c = Circle(4.0)\nc.radius"
      ]
    },
    {
      "cell_type": "code",
      "execution_count": null,
      "metadata": {},
      "outputs": [],
      "source": [
        "c.area  # Notice lack of ()"
      ]
    },
    {
      "cell_type": "code",
      "execution_count": null,
      "metadata": {},
      "outputs": [],
      "source": [
        "c.perimeter  # Notice lack of ()"
      ]
    },
    {
      "cell_type": "markdown",
      "metadata": {},
      "source": [
        "\u5c3d\u7ba1properties\u53ef\u4ee5\u5b9e\u73b0\u4f18\u96c5\u7684\u7f16\u7a0b\u63a5\u53e3\uff0c\u4f46\u6709\u4e9b\u65f6\u5019\u4f60\u8fd8\u662f\u4f1a\u60f3\u76f4\u63a5\u4f7f\u7528getter\u548csetter\u51fd\u6570\u3002\u4f8b\u5982\uff1a"
      ]
    },
    {
      "cell_type": "code",
      "execution_count": null,
      "metadata": {},
      "outputs": [],
      "source": [
        "p = Person('Guido')\np.get_first_name()"
      ]
    },
    {
      "cell_type": "code",
      "execution_count": null,
      "metadata": {},
      "outputs": [],
      "source": [
        "p.set_first_name('Larry')"
      ]
    },
    {
      "cell_type": "markdown",
      "metadata": {},
      "source": [
        "\u8fd9\u79cd\u60c5\u51b5\u7684\u51fa\u73b0\u901a\u5e38\u662f\u56e0\u4e3aPython\u4ee3\u7801\u88ab\u96c6\u6210\u5230\u4e00\u4e2a\u5927\u578b\u57fa\u7840\u5e73\u53f0\u67b6\u6784\u6216\u7a0b\u5e8f\u4e2d\u3002\n\u4f8b\u5982\uff0c\u6709\u53ef\u80fd\u662f\u4e00\u4e2aPython\u7c7b\u51c6\u5907\u52a0\u5165\u5230\u4e00\u4e2a\u57fa\u4e8e\u8fdc\u7a0b\u8fc7\u7a0b\u8c03\u7528\u7684\u5927\u578b\u5206\u5e03\u5f0f\u7cfb\u7edf\u4e2d\u3002\n\u8fd9\u79cd\u60c5\u51b5\u4e0b\uff0c\u76f4\u63a5\u4f7f\u7528get/set\u65b9\u6cd5(\u666e\u901a\u65b9\u6cd5\u8c03\u7528)\u800c\u4e0d\u662fproperty\u6216\u8bb8\u4f1a\u66f4\u5bb9\u6613\u517c\u5bb9\u3002"
      ]
    },
    {
      "cell_type": "markdown",
      "metadata": {},
      "source": [
        "\u6700\u540e\u4e00\u70b9\uff0c\u4e0d\u8981\u50cf\u4e0b\u9762\u8fd9\u6837\u5199\u6709\u5927\u91cf\u91cd\u590d\u4ee3\u7801\u7684property\u5b9a\u4e49\uff1a"
      ]
    },
    {
      "cell_type": "code",
      "execution_count": null,
      "metadata": {},
      "outputs": [],
      "source": [
        "c\nl\na\ns\ns\n \nP\ne\nr\ns\no\nn\n:\n\n\n \n \n \n \nd\ne\nf\n \n_\n_\ni\nn\ni\nt\n_\n_\n(\ns\ne\nl\nf\n,\n \nf\ni\nr\ns\nt\n_\nn\na\nm\ne\n,\n \nl\na\ns\nt\n_\nn\na\nm\ne\n)\n:\n\n\n \n \n \n \n \n \n \n \ns\ne\nl\nf\n.\nf\ni\nr\ns\nt\n_\nn\na\nm\ne\n \n=\n \nf\ni\nr\ns\nt\n_\nn\na\nm\ne\n\n\n \n \n \n \n \n \n \n \ns\ne\nl\nf\n.\nl\na\ns\nt\n_\nn\na\nm\ne\n \n=\n \nl\na\ns\nt\n_\nn\na\nm\ne\n\n\n\n\n \n \n \n \n@\np\nr\no\np\ne\nr\nt\ny\n\n\n \n \n \n \nd\ne\nf\n \nf\ni\nr\ns\nt\n_\nn\na\nm\ne\n(\ns\ne\nl\nf\n)\n:\n\n\n \n \n \n \n \n \n \n \nr\ne\nt\nu\nr\nn\n \ns\ne\nl\nf\n.\n_\nf\ni\nr\ns\nt\n_\nn\na\nm\ne\n\n\n\n\n \n \n \n \n@\nf\ni\nr\ns\nt\n_\nn\na\nm\ne\n.\ns\ne\nt\nt\ne\nr\n\n\n \n \n \n \nd\ne\nf\n \nf\ni\nr\ns\nt\n_\nn\na\nm\ne\n(\ns\ne\nl\nf\n,\n \nv\na\nl\nu\ne\n)\n:\n\n\n \n \n \n \n \n \n \n \ni\nf\n \nn\no\nt\n \ni\ns\ni\nn\ns\nt\na\nn\nc\ne\n(\nv\na\nl\nu\ne\n,\n \ns\nt\nr\n)\n:\n\n\n \n \n \n \n \n \n \n \n \n \n \n \nr\na\ni\ns\ne\n \nT\ny\np\ne\nE\nr\nr\no\nr\n(\n'\nE\nx\np\ne\nc\nt\ne\nd\n \na\n \ns\nt\nr\ni\nn\ng\n'\n)\n\n\n \n \n \n \n \n \n \n \ns\ne\nl\nf\n.\n_\nf\ni\nr\ns\nt\n_\nn\na\nm\ne\n \n=\n \nv\na\nl\nu\ne\n\n\n\n\n \n \n \n \n#\n \nR\ne\np\ne\na\nt\ne\nd\n \np\nr\no\np\ne\nr\nt\ny\n \nc\no\nd\ne\n,\n \nb\nu\nt\n \nf\no\nr\n \na\n \nd\ni\nf\nf\ne\nr\ne\nn\nt\n \nn\na\nm\ne\n \n(\nb\na\nd\n!\n)\n\n\n \n \n \n \n@\np\nr\no\np\ne\nr\nt\ny\n\n\n \n \n \n \nd\ne\nf\n \nl\na\ns\nt\n_\nn\na\nm\ne\n(\ns\ne\nl\nf\n)\n:\n\n\n \n \n \n \n \n \n \n \nr\ne\nt\nu\nr\nn\n \ns\ne\nl\nf\n.\n_\nl\na\ns\nt\n_\nn\na\nm\ne\n\n\n\n\n \n \n \n \n@\nl\na\ns\nt\n_\nn\na\nm\ne\n.\ns\ne\nt\nt\ne\nr\n\n\n \n \n \n \nd\ne\nf\n \nl\na\ns\nt\n_\nn\na\nm\ne\n(\ns\ne\nl\nf\n,\n \nv\na\nl\nu\ne\n)\n:\n\n\n \n \n \n \n \n \n \n \ni\nf\n \nn\no\nt\n \ni\ns\ni\nn\ns\nt\na\nn\nc\ne\n(\nv\na\nl\nu\ne\n,\n \ns\nt\nr\n)\n:\n\n\n \n \n \n \n \n \n \n \n \n \n \n \nr\na\ni\ns\ne\n \nT\ny\np\ne\nE\nr\nr\no\nr\n(\n'\nE\nx\np\ne\nc\nt\ne\nd\n \na\n \ns\nt\nr\ni\nn\ng\n'\n)\n\n\n \n \n \n \n \n \n \n \ns\ne\nl\nf\n.\n_\nl\na\ns\nt\n_\nn\na\nm\ne\n \n=\n \nv\na\nl\nu\ne\n\n"
      ]
    },
    {
      "cell_type": "markdown",
      "metadata": {},
      "source": [
        "\u91cd\u590d\u4ee3\u7801\u4f1a\u5bfc\u81f4\u81c3\u80bf\u3001\u6613\u51fa\u9519\u548c\u4e11\u964b\u7684\u7a0b\u5e8f\u3002\u597d\u6d88\u606f\u662f\uff0c\u901a\u8fc7\u4f7f\u7528\u88c5\u9970\u5668\u6216\u95ed\u5305\uff0c\u6709\u5f88\u591a\u79cd\u66f4\u597d\u7684\u65b9\u6cd5\u6765\u5b8c\u6210\u540c\u6837\u7684\u4e8b\u60c5\u3002\n\u53ef\u4ee5\u53c2\u80038.9\u548c9.21\u5c0f\u8282\u7684\u5185\u5bb9\u3002"
      ]
    },
    {
      "cell_type": "markdown",
      "metadata": {},
      "source": [
        "## 8.7 \u8c03\u7528\u7236\u7c7b\u65b9\u6cd5\n"
      ]
    },
    {
      "cell_type": "markdown",
      "metadata": {},
      "source": [
        "### \u95ee\u9898\n"
      ]
    },
    {
      "cell_type": "markdown",
      "metadata": {},
      "source": [
        "\u4f60\u60f3\u5728\u5b50\u7c7b\u4e2d\u8c03\u7528\u7236\u7c7b\u7684\u67d0\u4e2a\u5df2\u7ecf\u88ab\u8986\u76d6\u7684\u65b9\u6cd5\u3002"
      ]
    },
    {
      "cell_type": "markdown",
      "metadata": {},
      "source": [
        "### \u89e3\u51b3\u65b9\u6848\n"
      ]
    },
    {
      "cell_type": "markdown",
      "metadata": {},
      "source": [
        "\u4e3a\u4e86\u8c03\u7528\u7236\u7c7b(\u8d85\u7c7b)\u7684\u4e00\u4e2a\u65b9\u6cd5\uff0c\u53ef\u4ee5\u4f7f\u7528 super() \u51fd\u6570\uff0c\u6bd4\u5982\uff1a"
      ]
    },
    {
      "cell_type": "code",
      "execution_count": null,
      "metadata": {},
      "outputs": [],
      "source": [
        "c\nl\na\ns\ns\n \nA\n:\n\n\n \n \n \n \nd\ne\nf\n \ns\np\na\nm\n(\ns\ne\nl\nf\n)\n:\n\n\n \n \n \n \n \n \n \n \np\nr\ni\nn\nt\n(\n'\nA\n.\ns\np\na\nm\n'\n)\n\n\n\n\nc\nl\na\ns\ns\n \nB\n(\nA\n)\n:\n\n\n \n \n \n \nd\ne\nf\n \ns\np\na\nm\n(\ns\ne\nl\nf\n)\n:\n\n\n \n \n \n \n \n \n \n \np\nr\ni\nn\nt\n(\n'\nB\n.\ns\np\na\nm\n'\n)\n\n\n \n \n \n \n \n \n \n \ns\nu\np\ne\nr\n(\n)\n.\ns\np\na\nm\n(\n)\n \n \n#\n \nC\na\nl\nl\n \np\na\nr\ne\nn\nt\n \ns\np\na\nm\n(\n)\n\n"
      ]
    },
    {
      "cell_type": "markdown",
      "metadata": {},
      "source": [
        "super() \u51fd\u6570\u7684\u4e00\u4e2a\u5e38\u89c1\u7528\u6cd5\u662f\u5728 __init__() \u65b9\u6cd5\u4e2d\u786e\u4fdd\u7236\u7c7b\u88ab\u6b63\u786e\u7684\u521d\u59cb\u5316\u4e86\uff1a"
      ]
    },
    {
      "cell_type": "code",
      "execution_count": null,
      "metadata": {},
      "outputs": [],
      "source": [
        "c\nl\na\ns\ns\n \nA\n:\n\n\n \n \n \n \nd\ne\nf\n \n_\n_\ni\nn\ni\nt\n_\n_\n(\ns\ne\nl\nf\n)\n:\n\n\n \n \n \n \n \n \n \n \ns\ne\nl\nf\n.\nx\n \n=\n \n0\n\n\n\n\nc\nl\na\ns\ns\n \nB\n(\nA\n)\n:\n\n\n \n \n \n \nd\ne\nf\n \n_\n_\ni\nn\ni\nt\n_\n_\n(\ns\ne\nl\nf\n)\n:\n\n\n \n \n \n \n \n \n \n \ns\nu\np\ne\nr\n(\n)\n.\n_\n_\ni\nn\ni\nt\n_\n_\n(\n)\n\n\n \n \n \n \n \n \n \n \ns\ne\nl\nf\n.\ny\n \n=\n \n1\n\n"
      ]
    },
    {
      "cell_type": "markdown",
      "metadata": {},
      "source": [
        "super() \u7684\u53e6\u5916\u4e00\u4e2a\u5e38\u89c1\u7528\u6cd5\u51fa\u73b0\u5728\u8986\u76d6Python\u7279\u6b8a\u65b9\u6cd5\u7684\u4ee3\u7801\u4e2d\uff0c\u6bd4\u5982\uff1a"
      ]
    },
    {
      "cell_type": "code",
      "execution_count": null,
      "metadata": {},
      "outputs": [],
      "source": [
        "c\nl\na\ns\ns\n \nP\nr\no\nx\ny\n:\n\n\n \n \n \n \nd\ne\nf\n \n_\n_\ni\nn\ni\nt\n_\n_\n(\ns\ne\nl\nf\n,\n \no\nb\nj\n)\n:\n\n\n \n \n \n \n \n \n \n \ns\ne\nl\nf\n.\n_\no\nb\nj\n \n=\n \no\nb\nj\n\n\n\n\n \n \n \n \n#\n \nD\ne\nl\ne\ng\na\nt\ne\n \na\nt\nt\nr\ni\nb\nu\nt\ne\n \nl\no\no\nk\nu\np\n \nt\no\n \ni\nn\nt\ne\nr\nn\na\nl\n \no\nb\nj\n\n\n \n \n \n \nd\ne\nf\n \n_\n_\ng\ne\nt\na\nt\nt\nr\n_\n_\n(\ns\ne\nl\nf\n,\n \nn\na\nm\ne\n)\n:\n\n\n \n \n \n \n \n \n \n \nr\ne\nt\nu\nr\nn\n \ng\ne\nt\na\nt\nt\nr\n(\ns\ne\nl\nf\n.\n_\no\nb\nj\n,\n \nn\na\nm\ne\n)\n\n\n\n\n \n \n \n \n#\n \nD\ne\nl\ne\ng\na\nt\ne\n \na\nt\nt\nr\ni\nb\nu\nt\ne\n \na\ns\ns\ni\ng\nn\nm\ne\nn\nt\n\n\n \n \n \n \nd\ne\nf\n \n_\n_\ns\ne\nt\na\nt\nt\nr\n_\n_\n(\ns\ne\nl\nf\n,\n \nn\na\nm\ne\n,\n \nv\na\nl\nu\ne\n)\n:\n\n\n \n \n \n \n \n \n \n \ni\nf\n \nn\na\nm\ne\n.\ns\nt\na\nr\nt\ns\nw\ni\nt\nh\n(\n'\n_\n'\n)\n:\n\n\n \n \n \n \n \n \n \n \n \n \n \n \ns\nu\np\ne\nr\n(\n)\n.\n_\n_\ns\ne\nt\na\nt\nt\nr\n_\n_\n(\nn\na\nm\ne\n,\n \nv\na\nl\nu\ne\n)\n \n#\n \nC\na\nl\nl\n \no\nr\ni\ng\ni\nn\na\nl\n \n_\n_\ns\ne\nt\na\nt\nt\nr\n_\n_\n\n\n \n \n \n \n \n \n \n \ne\nl\ns\ne\n:\n\n\n \n \n \n \n \n \n \n \n \n \n \n \ns\ne\nt\na\nt\nt\nr\n(\ns\ne\nl\nf\n.\n_\no\nb\nj\n,\n \nn\na\nm\ne\n,\n \nv\na\nl\nu\ne\n)\n\n"
      ]
    },
    {
      "cell_type": "markdown",
      "metadata": {},
      "source": [
        "\u5728\u4e0a\u9762\u4ee3\u7801\u4e2d\uff0c__setattr__() \u7684\u5b9e\u73b0\u5305\u542b\u4e00\u4e2a\u540d\u5b57\u68c0\u67e5\u3002\n\u5982\u679c\u67d0\u4e2a\u5c5e\u6027\u540d\u4ee5\u4e0b\u5212\u7ebf(_)\u5f00\u5934\uff0c\u5c31\u901a\u8fc7 super() \u8c03\u7528\u539f\u59cb\u7684 __setattr__() \uff0c\n\u5426\u5219\u7684\u8bdd\u5c31\u59d4\u6d3e\u7ed9\u5185\u90e8\u7684\u4ee3\u7406\u5bf9\u8c61 self._obj \u53bb\u5904\u7406\u3002\n\u8fd9\u770b\u4e0a\u53bb\u6709\u70b9\u610f\u601d\uff0c\u56e0\u4e3a\u5c31\u7b97\u6ca1\u6709\u663e\u5f0f\u7684\u6307\u660e\u67d0\u4e2a\u7c7b\u7684\u7236\u7c7b\uff0c super() \u4ecd\u7136\u53ef\u4ee5\u6709\u6548\u7684\u5de5\u4f5c\u3002"
      ]
    },
    {
      "cell_type": "markdown",
      "metadata": {},
      "source": [
        "### \u8ba8\u8bba\n"
      ]
    },
    {
      "cell_type": "markdown",
      "metadata": {},
      "source": [
        "\u5b9e\u9645\u4e0a\uff0c\u5927\u5bb6\u5bf9\u4e8e\u5728Python\u4e2d\u5982\u4f55\u6b63\u786e\u4f7f\u7528 super() \u51fd\u6570\u666e\u904d\u77e5\u4e4b\u751a\u5c11\u3002\n\u4f60\u6709\u65f6\u5019\u4f1a\u770b\u5230\u50cf\u4e0b\u9762\u8fd9\u6837\u76f4\u63a5\u8c03\u7528\u7236\u7c7b\u7684\u4e00\u4e2a\u65b9\u6cd5\uff1a"
      ]
    },
    {
      "cell_type": "code",
      "execution_count": null,
      "metadata": {},
      "outputs": [],
      "source": [
        "c\nl\na\ns\ns\n \nB\na\ns\ne\n:\n\n\n \n \n \n \nd\ne\nf\n \n_\n_\ni\nn\ni\nt\n_\n_\n(\ns\ne\nl\nf\n)\n:\n\n\n \n \n \n \n \n \n \n \np\nr\ni\nn\nt\n(\n'\nB\na\ns\ne\n.\n_\n_\ni\nn\ni\nt\n_\n_\n'\n)\n\n\n\n\nc\nl\na\ns\ns\n \nA\n(\nB\na\ns\ne\n)\n:\n\n\n \n \n \n \nd\ne\nf\n \n_\n_\ni\nn\ni\nt\n_\n_\n(\ns\ne\nl\nf\n)\n:\n\n\n \n \n \n \n \n \n \n \nB\na\ns\ne\n.\n_\n_\ni\nn\ni\nt\n_\n_\n(\ns\ne\nl\nf\n)\n\n\n \n \n \n \n \n \n \n \np\nr\ni\nn\nt\n(\n'\nA\n.\n_\n_\ni\nn\ni\nt\n_\n_\n'\n)\n\n"
      ]
    },
    {
      "cell_type": "markdown",
      "metadata": {},
      "source": [
        "\u5c3d\u7ba1\u5bf9\u4e8e\u5927\u90e8\u5206\u4ee3\u7801\u800c\u8a00\u8fd9\u4e48\u505a\u6ca1\u4ec0\u4e48\u95ee\u9898\uff0c\u4f46\u662f\u5728\u66f4\u590d\u6742\u7684\u6d89\u53ca\u5230\u591a\u7ee7\u627f\u7684\u4ee3\u7801\u4e2d\u5c31\u6709\u53ef\u80fd\u5bfc\u81f4\u5f88\u5947\u602a\u7684\u95ee\u9898\u53d1\u751f\u3002\n\u6bd4\u5982\uff0c\u8003\u8651\u5982\u4e0b\u7684\u60c5\u51b5\uff1a"
      ]
    },
    {
      "cell_type": "code",
      "execution_count": null,
      "metadata": {},
      "outputs": [],
      "source": [
        "c\nl\na\ns\ns\n \nB\na\ns\ne\n:\n\n\n \n \n \n \nd\ne\nf\n \n_\n_\ni\nn\ni\nt\n_\n_\n(\ns\ne\nl\nf\n)\n:\n\n\n \n \n \n \n \n \n \n \np\nr\ni\nn\nt\n(\n'\nB\na\ns\ne\n.\n_\n_\ni\nn\ni\nt\n_\n_\n'\n)\n\n\n\n\nc\nl\na\ns\ns\n \nA\n(\nB\na\ns\ne\n)\n:\n\n\n \n \n \n \nd\ne\nf\n \n_\n_\ni\nn\ni\nt\n_\n_\n(\ns\ne\nl\nf\n)\n:\n\n\n \n \n \n \n \n \n \n \nB\na\ns\ne\n.\n_\n_\ni\nn\ni\nt\n_\n_\n(\ns\ne\nl\nf\n)\n\n\n \n \n \n \n \n \n \n \np\nr\ni\nn\nt\n(\n'\nA\n.\n_\n_\ni\nn\ni\nt\n_\n_\n'\n)\n\n\n\n\nc\nl\na\ns\ns\n \nB\n(\nB\na\ns\ne\n)\n:\n\n\n \n \n \n \nd\ne\nf\n \n_\n_\ni\nn\ni\nt\n_\n_\n(\ns\ne\nl\nf\n)\n:\n\n\n \n \n \n \n \n \n \n \nB\na\ns\ne\n.\n_\n_\ni\nn\ni\nt\n_\n_\n(\ns\ne\nl\nf\n)\n\n\n \n \n \n \n \n \n \n \np\nr\ni\nn\nt\n(\n'\nB\n.\n_\n_\ni\nn\ni\nt\n_\n_\n'\n)\n\n\n\n\nc\nl\na\ns\ns\n \nC\n(\nA\n,\nB\n)\n:\n\n\n \n \n \n \nd\ne\nf\n \n_\n_\ni\nn\ni\nt\n_\n_\n(\ns\ne\nl\nf\n)\n:\n\n\n \n \n \n \n \n \n \n \nA\n.\n_\n_\ni\nn\ni\nt\n_\n_\n(\ns\ne\nl\nf\n)\n\n\n \n \n \n \n \n \n \n \nB\n.\n_\n_\ni\nn\ni\nt\n_\n_\n(\ns\ne\nl\nf\n)\n\n\n \n \n \n \n \n \n \n \np\nr\ni\nn\nt\n(\n'\nC\n.\n_\n_\ni\nn\ni\nt\n_\n_\n'\n)\n\n"
      ]
    },
    {
      "cell_type": "markdown",
      "metadata": {},
      "source": [
        "\u5982\u679c\u4f60\u8fd0\u884c\u8fd9\u6bb5\u4ee3\u7801\u5c31\u4f1a\u53d1\u73b0 Base.__init__() \u88ab\u8c03\u7528\u4e24\u6b21\uff0c\u5982\u4e0b\u6240\u793a\uff1a"
      ]
    },
    {
      "cell_type": "code",
      "execution_count": null,
      "metadata": {},
      "outputs": [],
      "source": [
        "c = C()"
      ]
    },
    {
      "cell_type": "markdown",
      "metadata": {},
      "source": [
        "\u53ef\u80fd\u4e24\u6b21\u8c03\u7528 Base.__init__() \u6ca1\u4ec0\u4e48\u574f\u5904\uff0c\u4f46\u6709\u65f6\u5019\u5374\u4e0d\u662f\u3002\n\u53e6\u4e00\u65b9\u9762\uff0c\u5047\u8bbe\u4f60\u5728\u4ee3\u7801\u4e2d\u6362\u6210\u4f7f\u7528 super() \uff0c\u7ed3\u679c\u5c31\u5f88\u5b8c\u7f8e\u4e86\uff1a"
      ]
    },
    {
      "cell_type": "code",
      "execution_count": null,
      "metadata": {},
      "outputs": [],
      "source": [
        "c\nl\na\ns\ns\n \nB\na\ns\ne\n:\n\n\n \n \n \n \nd\ne\nf\n \n_\n_\ni\nn\ni\nt\n_\n_\n(\ns\ne\nl\nf\n)\n:\n\n\n \n \n \n \n \n \n \n \np\nr\ni\nn\nt\n(\n'\nB\na\ns\ne\n.\n_\n_\ni\nn\ni\nt\n_\n_\n'\n)\n\n\n\n\nc\nl\na\ns\ns\n \nA\n(\nB\na\ns\ne\n)\n:\n\n\n \n \n \n \nd\ne\nf\n \n_\n_\ni\nn\ni\nt\n_\n_\n(\ns\ne\nl\nf\n)\n:\n\n\n \n \n \n \n \n \n \n \ns\nu\np\ne\nr\n(\n)\n.\n_\n_\ni\nn\ni\nt\n_\n_\n(\n)\n\n\n \n \n \n \n \n \n \n \np\nr\ni\nn\nt\n(\n'\nA\n.\n_\n_\ni\nn\ni\nt\n_\n_\n'\n)\n\n\n\n\nc\nl\na\ns\ns\n \nB\n(\nB\na\ns\ne\n)\n:\n\n\n \n \n \n \nd\ne\nf\n \n_\n_\ni\nn\ni\nt\n_\n_\n(\ns\ne\nl\nf\n)\n:\n\n\n \n \n \n \n \n \n \n \ns\nu\np\ne\nr\n(\n)\n.\n_\n_\ni\nn\ni\nt\n_\n_\n(\n)\n\n\n \n \n \n \n \n \n \n \np\nr\ni\nn\nt\n(\n'\nB\n.\n_\n_\ni\nn\ni\nt\n_\n_\n'\n)\n\n\n\n\nc\nl\na\ns\ns\n \nC\n(\nA\n,\nB\n)\n:\n\n\n \n \n \n \nd\ne\nf\n \n_\n_\ni\nn\ni\nt\n_\n_\n(\ns\ne\nl\nf\n)\n:\n\n\n \n \n \n \n \n \n \n \ns\nu\np\ne\nr\n(\n)\n.\n_\n_\ni\nn\ni\nt\n_\n_\n(\n)\n \n \n#\n \nO\nn\nl\ny\n \no\nn\ne\n \nc\na\nl\nl\n \nt\no\n \ns\nu\np\ne\nr\n(\n)\n \nh\ne\nr\ne\n\n\n \n \n \n \n \n \n \n \np\nr\ni\nn\nt\n(\n'\nC\n.\n_\n_\ni\nn\ni\nt\n_\n_\n'\n)\n\n"
      ]
    },
    {
      "cell_type": "markdown",
      "metadata": {},
      "source": [
        "\u8fd0\u884c\u8fd9\u4e2a\u65b0\u7248\u672c\u540e\uff0c\u4f60\u4f1a\u53d1\u73b0\u6bcf\u4e2a __init__() \u65b9\u6cd5\u53ea\u4f1a\u88ab\u8c03\u7528\u4e00\u6b21\u4e86\uff1a"
      ]
    },
    {
      "cell_type": "code",
      "execution_count": null,
      "metadata": {},
      "outputs": [],
      "source": [
        "c = C()"
      ]
    },
    {
      "cell_type": "markdown",
      "metadata": {},
      "source": [
        "\u4e3a\u4e86\u5f04\u6e05\u5b83\u7684\u539f\u7406\uff0c\u6211\u4eec\u9700\u8981\u82b1\u70b9\u65f6\u95f4\u89e3\u91ca\u4e0bPython\u662f\u5982\u4f55\u5b9e\u73b0\u7ee7\u627f\u7684\u3002\n\u5bf9\u4e8e\u4f60\u5b9a\u4e49\u7684\u6bcf\u4e00\u4e2a\u7c7b\uff0cPython\u4f1a\u8ba1\u7b97\u51fa\u4e00\u4e2a\u6240\u8c13\u7684\u65b9\u6cd5\u89e3\u6790\u987a\u5e8f(MRO)\u5217\u8868\u3002\n\u8fd9\u4e2aMRO\u5217\u8868\u5c31\u662f\u4e00\u4e2a\u7b80\u5355\u7684\u6240\u6709\u57fa\u7c7b\u7684\u7ebf\u6027\u987a\u5e8f\u8868\u3002\u4f8b\u5982\uff1a"
      ]
    },
    {
      "cell_type": "code",
      "execution_count": null,
      "metadata": {},
      "outputs": [],
      "source": [
        "C.__mro__"
      ]
    },
    {
      "cell_type": "markdown",
      "metadata": {},
      "source": [
        "\u4e3a\u4e86\u5b9e\u73b0\u7ee7\u627f\uff0cPython\u4f1a\u5728MRO\u5217\u8868\u4e0a\u4ece\u5de6\u5230\u53f3\u5f00\u59cb\u67e5\u627e\u57fa\u7c7b\uff0c\u76f4\u5230\u627e\u5230\u7b2c\u4e00\u4e2a\u5339\u914d\u8fd9\u4e2a\u5c5e\u6027\u7684\u7c7b\u4e3a\u6b62\u3002"
      ]
    },
    {
      "cell_type": "markdown",
      "metadata": {},
      "source": [
        "\u800c\u8fd9\u4e2aMRO\u5217\u8868\u7684\u6784\u9020\u662f\u901a\u8fc7\u4e00\u4e2aC3\u7ebf\u6027\u5316\u7b97\u6cd5\u6765\u5b9e\u73b0\u7684\u3002\n\u6211\u4eec\u4e0d\u53bb\u6df1\u7a76\u8fd9\u4e2a\u7b97\u6cd5\u7684\u6570\u5b66\u539f\u7406\uff0c\u5b83\u5b9e\u9645\u4e0a\u5c31\u662f\u5408\u5e76\u6240\u6709\u7236\u7c7b\u7684MRO\u5217\u8868\u5e76\u9075\u5faa\u5982\u4e0b\u4e09\u6761\u51c6\u5219\uff1a"
      ]
    },
    {
      "cell_type": "markdown",
      "metadata": {},
      "source": [
        "\u8001\u5b9e\u8bf4\uff0c\u4f60\u6240\u8981\u77e5\u9053\u7684\u5c31\u662fMRO\u5217\u8868\u4e2d\u7684\u7c7b\u987a\u5e8f\u4f1a\u8ba9\u4f60\u5b9a\u4e49\u7684\u4efb\u610f\u7c7b\u5c42\u7ea7\u5173\u7cfb\u53d8\u5f97\u6709\u610f\u4e49\u3002"
      ]
    },
    {
      "cell_type": "markdown",
      "metadata": {},
      "source": [
        "\u5f53\u4f60\u4f7f\u7528 super() \u51fd\u6570\u65f6\uff0cPython\u4f1a\u5728MRO\u5217\u8868\u4e0a\u7ee7\u7eed\u641c\u7d22\u4e0b\u4e00\u4e2a\u7c7b\u3002\n\u53ea\u8981\u6bcf\u4e2a\u91cd\u5b9a\u4e49\u7684\u65b9\u6cd5\u7edf\u4e00\u4f7f\u7528 super() \u5e76\u53ea\u8c03\u7528\u5b83\u4e00\u6b21\uff0c\n\u90a3\u4e48\u63a7\u5236\u6d41\u6700\u7ec8\u4f1a\u904d\u5386\u5b8c\u6574\u4e2aMRO\u5217\u8868\uff0c\u6bcf\u4e2a\u65b9\u6cd5\u4e5f\u53ea\u4f1a\u88ab\u8c03\u7528\u4e00\u6b21\u3002\n\u8fd9\u4e5f\u662f\u4e3a\u4ec0\u4e48\u5728\u7b2c\u4e8c\u4e2a\u4f8b\u5b50\u4e2d\u4f60\u4e0d\u4f1a\u8c03\u7528\u4e24\u6b21 Base.__init__() \u7684\u539f\u56e0\u3002"
      ]
    },
    {
      "cell_type": "markdown",
      "metadata": {},
      "source": [
        "super() \u6709\u4e2a\u4ee4\u4eba\u5403\u60ca\u7684\u5730\u65b9\u662f\u5b83\u5e76\u4e0d\u4e00\u5b9a\u53bb\u67e5\u627e\u67d0\u4e2a\u7c7b\u5728MRO\u4e2d\u4e0b\u4e00\u4e2a\u76f4\u63a5\u7236\u7c7b\uff0c\n\u4f60\u751a\u81f3\u53ef\u4ee5\u5728\u4e00\u4e2a\u6ca1\u6709\u76f4\u63a5\u7236\u7c7b\u7684\u7c7b\u4e2d\u4f7f\u7528\u5b83\u3002\u4f8b\u5982\uff0c\u8003\u8651\u5982\u4e0b\u8fd9\u4e2a\u7c7b\uff1a"
      ]
    },
    {
      "cell_type": "code",
      "execution_count": null,
      "metadata": {},
      "outputs": [],
      "source": [
        "c\nl\na\ns\ns\n \nA\n:\n\n\n \n \n \n \nd\ne\nf\n \ns\np\na\nm\n(\ns\ne\nl\nf\n)\n:\n\n\n \n \n \n \n \n \n \n \np\nr\ni\nn\nt\n(\n'\nA\n.\ns\np\na\nm\n'\n)\n\n\n \n \n \n \n \n \n \n \ns\nu\np\ne\nr\n(\n)\n.\ns\np\na\nm\n(\n)\n\n"
      ]
    },
    {
      "cell_type": "markdown",
      "metadata": {},
      "source": [
        "\u5982\u679c\u4f60\u8bd5\u7740\u76f4\u63a5\u4f7f\u7528\u8fd9\u4e2a\u7c7b\u5c31\u4f1a\u51fa\u9519\uff1a"
      ]
    },
    {
      "cell_type": "code",
      "execution_count": null,
      "metadata": {},
      "outputs": [],
      "source": [
        "a = A()\na.spam()"
      ]
    },
    {
      "cell_type": "markdown",
      "metadata": {},
      "source": [
        "\u4f46\u662f\uff0c\u5982\u679c\u4f60\u4f7f\u7528\u591a\u7ee7\u627f\u7684\u8bdd\u770b\u770b\u4f1a\u53d1\u751f\u4ec0\u4e48\uff1a"
      ]
    },
    {
      "cell_type": "code",
      "execution_count": null,
      "metadata": {},
      "outputs": [],
      "source": [
        "class B:\n    def spam(self):\n        print('B.spam')\nclass C(A,B):\n    pass\nc = C()\nc.spam()"
      ]
    },
    {
      "cell_type": "markdown",
      "metadata": {},
      "source": [
        "\u4f60\u53ef\u4ee5\u770b\u5230\u5728\u7c7bA\u4e2d\u4f7f\u7528 super().spam() \u5b9e\u9645\u4e0a\u8c03\u7528\u7684\u662f\u8ddf\u7c7bA\u6beb\u65e0\u5173\u7cfb\u7684\u7c7bB\u4e2d\u7684 spam() \u65b9\u6cd5\u3002\n\u8fd9\u4e2a\u7528\u7c7bC\u7684MRO\u5217\u8868\u5c31\u53ef\u4ee5\u5b8c\u5168\u89e3\u91ca\u6e05\u695a\u4e86\uff1a"
      ]
    },
    {
      "cell_type": "code",
      "execution_count": null,
      "metadata": {},
      "outputs": [],
      "source": [
        "C.__mro__"
      ]
    },
    {
      "cell_type": "markdown",
      "metadata": {},
      "source": [
        "\u5728\u5b9a\u4e49\u6df7\u5165\u7c7b\u7684\u65f6\u5019\u8fd9\u6837\u4f7f\u7528 super() \u662f\u5f88\u666e\u904d\u7684\u3002\u53ef\u4ee5\u53c2\u80038.13\u548c8.18\u5c0f\u8282\u3002"
      ]
    },
    {
      "cell_type": "markdown",
      "metadata": {},
      "source": [
        "\u7136\u800c\uff0c\u7531\u4e8e super() \u53ef\u80fd\u4f1a\u8c03\u7528\u4e0d\u662f\u4f60\u60f3\u8981\u7684\u65b9\u6cd5\uff0c\u4f60\u5e94\u8be5\u9075\u5faa\u4e00\u4e9b\u901a\u7528\u539f\u5219\u3002\n\u9996\u5148\uff0c\u786e\u4fdd\u5728\u7ee7\u627f\u4f53\u7cfb\u4e2d\u6240\u6709\u76f8\u540c\u540d\u5b57\u7684\u65b9\u6cd5\u62e5\u6709\u53ef\u517c\u5bb9\u7684\u53c2\u6570\u7b7e\u540d(\u6bd4\u5982\u76f8\u540c\u7684\u53c2\u6570\u4e2a\u6570\u548c\u53c2\u6570\u540d\u79f0)\u3002\n\u8fd9\u6837\u53ef\u4ee5\u786e\u4fdd super() \u8c03\u7528\u4e00\u4e2a\u975e\u76f4\u63a5\u7236\u7c7b\u65b9\u6cd5\u65f6\u4e0d\u4f1a\u51fa\u9519\u3002\n\u5176\u6b21\uff0c\u6700\u597d\u786e\u4fdd\u6700\u9876\u5c42\u7684\u7c7b\u63d0\u4f9b\u4e86\u8fd9\u4e2a\u65b9\u6cd5\u7684\u5b9e\u73b0\uff0c\u8fd9\u6837\u7684\u8bdd\u5728MRO\u4e0a\u9762\u7684\u67e5\u627e\u94fe\u80af\u5b9a\u53ef\u4ee5\u627e\u5230\u67d0\u4e2a\u786e\u5b9a\u7684\u65b9\u6cd5\u3002"
      ]
    },
    {
      "cell_type": "markdown",
      "metadata": {},
      "source": [
        "\u5728Python\u793e\u533a\u4e2d\u5bf9\u4e8e super() \u7684\u4f7f\u7528\u6709\u65f6\u5019\u4f1a\u5f15\u6765\u4e00\u4e9b\u4e89\u8bae\u3002\n\u5c3d\u7ba1\u5982\u6b64\uff0c\u5982\u679c\u4e00\u5207\u987a\u5229\u7684\u8bdd\uff0c\u4f60\u5e94\u8be5\u5728\u4f60\u6700\u65b0\u4ee3\u7801\u4e2d\u4f7f\u7528\u5b83\u3002\nRaymond Hettinger\u4e3a\u6b64\u5199\u4e86\u4e00\u7bc7\u975e\u5e38\u597d\u7684\u6587\u7ae0\n\u201cPython\u2019s super() Considered Super!\u201d \uff0c\n\u901a\u8fc7\u5927\u91cf\u7684\u4f8b\u5b50\u5411\u6211\u4eec\u89e3\u91ca\u4e86\u4e3a\u4ec0\u4e48 super() \u662f\u6781\u597d\u7684\u3002"
      ]
    },
    {
      "cell_type": "markdown",
      "metadata": {},
      "source": [
        "## 8.8 \u5b50\u7c7b\u4e2d\u6269\u5c55property\n"
      ]
    },
    {
      "cell_type": "markdown",
      "metadata": {},
      "source": [
        "### \u95ee\u9898\n"
      ]
    },
    {
      "cell_type": "markdown",
      "metadata": {},
      "source": [
        "\u5728\u5b50\u7c7b\u4e2d\uff0c\u4f60\u60f3\u8981\u6269\u5c55\u5b9a\u4e49\u5728\u7236\u7c7b\u4e2d\u7684property\u7684\u529f\u80fd\u3002"
      ]
    },
    {
      "cell_type": "markdown",
      "metadata": {},
      "source": [
        "### \u89e3\u51b3\u65b9\u6848\n"
      ]
    },
    {
      "cell_type": "markdown",
      "metadata": {},
      "source": [
        "\u8003\u8651\u5982\u4e0b\u7684\u4ee3\u7801\uff0c\u5b83\u5b9a\u4e49\u4e86\u4e00\u4e2aproperty\uff1a"
      ]
    },
    {
      "cell_type": "code",
      "execution_count": null,
      "metadata": {},
      "outputs": [],
      "source": [
        "c\nl\na\ns\ns\n \nP\ne\nr\ns\no\nn\n:\n\n\n \n \n \n \nd\ne\nf\n \n_\n_\ni\nn\ni\nt\n_\n_\n(\ns\ne\nl\nf\n,\n \nn\na\nm\ne\n)\n:\n\n\n \n \n \n \n \n \n \n \ns\ne\nl\nf\n.\nn\na\nm\ne\n \n=\n \nn\na\nm\ne\n\n\n\n\n \n \n \n \n#\n \nG\ne\nt\nt\ne\nr\n \nf\nu\nn\nc\nt\ni\no\nn\n\n\n \n \n \n \n@\np\nr\no\np\ne\nr\nt\ny\n\n\n \n \n \n \nd\ne\nf\n \nn\na\nm\ne\n(\ns\ne\nl\nf\n)\n:\n\n\n \n \n \n \n \n \n \n \nr\ne\nt\nu\nr\nn\n \ns\ne\nl\nf\n.\n_\nn\na\nm\ne\n\n\n\n\n \n \n \n \n#\n \nS\ne\nt\nt\ne\nr\n \nf\nu\nn\nc\nt\ni\no\nn\n\n\n \n \n \n \n@\nn\na\nm\ne\n.\ns\ne\nt\nt\ne\nr\n\n\n \n \n \n \nd\ne\nf\n \nn\na\nm\ne\n(\ns\ne\nl\nf\n,\n \nv\na\nl\nu\ne\n)\n:\n\n\n \n \n \n \n \n \n \n \ni\nf\n \nn\no\nt\n \ni\ns\ni\nn\ns\nt\na\nn\nc\ne\n(\nv\na\nl\nu\ne\n,\n \ns\nt\nr\n)\n:\n\n\n \n \n \n \n \n \n \n \n \n \n \n \nr\na\ni\ns\ne\n \nT\ny\np\ne\nE\nr\nr\no\nr\n(\n'\nE\nx\np\ne\nc\nt\ne\nd\n \na\n \ns\nt\nr\ni\nn\ng\n'\n)\n\n\n \n \n \n \n \n \n \n \ns\ne\nl\nf\n.\n_\nn\na\nm\ne\n \n=\n \nv\na\nl\nu\ne\n\n\n\n\n \n \n \n \n#\n \nD\ne\nl\ne\nt\ne\nr\n \nf\nu\nn\nc\nt\ni\no\nn\n\n\n \n \n \n \n@\nn\na\nm\ne\n.\nd\ne\nl\ne\nt\ne\nr\n\n\n \n \n \n \nd\ne\nf\n \nn\na\nm\ne\n(\ns\ne\nl\nf\n)\n:\n\n\n \n \n \n \n \n \n \n \nr\na\ni\ns\ne\n \nA\nt\nt\nr\ni\nb\nu\nt\ne\nE\nr\nr\no\nr\n(\n\"\nC\na\nn\n'\nt\n \nd\ne\nl\ne\nt\ne\n \na\nt\nt\nr\ni\nb\nu\nt\ne\n\"\n)\n\n"
      ]
    },
    {
      "cell_type": "markdown",
      "metadata": {},
      "source": [
        "\u4e0b\u9762\u662f\u4e00\u4e2a\u793a\u4f8b\u7c7b\uff0c\u5b83\u7ee7\u627f\u81eaPerson\u5e76\u6269\u5c55\u4e86 name \u5c5e\u6027\u7684\u529f\u80fd\uff1a"
      ]
    },
    {
      "cell_type": "code",
      "execution_count": null,
      "metadata": {},
      "outputs": [],
      "source": [
        "c\nl\na\ns\ns\n \nS\nu\nb\nP\ne\nr\ns\no\nn\n(\nP\ne\nr\ns\no\nn\n)\n:\n\n\n \n \n \n \n@\np\nr\no\np\ne\nr\nt\ny\n\n\n \n \n \n \nd\ne\nf\n \nn\na\nm\ne\n(\ns\ne\nl\nf\n)\n:\n\n\n \n \n \n \n \n \n \n \np\nr\ni\nn\nt\n(\n'\nG\ne\nt\nt\ni\nn\ng\n \nn\na\nm\ne\n'\n)\n\n\n \n \n \n \n \n \n \n \nr\ne\nt\nu\nr\nn\n \ns\nu\np\ne\nr\n(\n)\n.\nn\na\nm\ne\n\n\n\n\n \n \n \n \n@\nn\na\nm\ne\n.\ns\ne\nt\nt\ne\nr\n\n\n \n \n \n \nd\ne\nf\n \nn\na\nm\ne\n(\ns\ne\nl\nf\n,\n \nv\na\nl\nu\ne\n)\n:\n\n\n \n \n \n \n \n \n \n \np\nr\ni\nn\nt\n(\n'\nS\ne\nt\nt\ni\nn\ng\n \nn\na\nm\ne\n \nt\no\n'\n,\n \nv\na\nl\nu\ne\n)\n\n\n \n \n \n \n \n \n \n \ns\nu\np\ne\nr\n(\nS\nu\nb\nP\ne\nr\ns\no\nn\n,\n \nS\nu\nb\nP\ne\nr\ns\no\nn\n)\n.\nn\na\nm\ne\n.\n_\n_\ns\ne\nt\n_\n_\n(\ns\ne\nl\nf\n,\n \nv\na\nl\nu\ne\n)\n\n\n\n\n \n \n \n \n@\nn\na\nm\ne\n.\nd\ne\nl\ne\nt\ne\nr\n\n\n \n \n \n \nd\ne\nf\n \nn\na\nm\ne\n(\ns\ne\nl\nf\n)\n:\n\n\n \n \n \n \n \n \n \n \np\nr\ni\nn\nt\n(\n'\nD\ne\nl\ne\nt\ni\nn\ng\n \nn\na\nm\ne\n'\n)\n\n\n \n \n \n \n \n \n \n \ns\nu\np\ne\nr\n(\nS\nu\nb\nP\ne\nr\ns\no\nn\n,\n \nS\nu\nb\nP\ne\nr\ns\no\nn\n)\n.\nn\na\nm\ne\n.\n_\n_\nd\ne\nl\ne\nt\ne\n_\n_\n(\ns\ne\nl\nf\n)\n\n"
      ]
    },
    {
      "cell_type": "markdown",
      "metadata": {},
      "source": [
        "\u63a5\u4e0b\u6765\u4f7f\u7528\u8fd9\u4e2a\u65b0\u7c7b\uff1a"
      ]
    },
    {
      "cell_type": "code",
      "execution_count": null,
      "metadata": {},
      "outputs": [],
      "source": [
        "s = SubPerson('Guido')"
      ]
    },
    {
      "cell_type": "code",
      "execution_count": null,
      "metadata": {},
      "outputs": [],
      "source": [
        "s.name"
      ]
    },
    {
      "cell_type": "code",
      "execution_count": null,
      "metadata": {},
      "outputs": [],
      "source": [
        "s.name = 'Larry'"
      ]
    },
    {
      "cell_type": "code",
      "execution_count": null,
      "metadata": {},
      "outputs": [],
      "source": [
        "s.name = 42"
      ]
    },
    {
      "cell_type": "markdown",
      "metadata": {},
      "source": [
        "\u5982\u679c\u4f60\u4ec5\u4ec5\u53ea\u60f3\u6269\u5c55property\u7684\u67d0\u4e00\u4e2a\u65b9\u6cd5\uff0c\u90a3\u4e48\u53ef\u4ee5\u50cf\u4e0b\u9762\u8fd9\u6837\u5199\uff1a"
      ]
    },
    {
      "cell_type": "code",
      "execution_count": null,
      "metadata": {},
      "outputs": [],
      "source": [
        "c\nl\na\ns\ns\n \nS\nu\nb\nP\ne\nr\ns\no\nn\n(\nP\ne\nr\ns\no\nn\n)\n:\n\n\n \n \n \n \n@\nP\ne\nr\ns\no\nn\n.\nn\na\nm\ne\n.\ng\ne\nt\nt\ne\nr\n\n\n \n \n \n \nd\ne\nf\n \nn\na\nm\ne\n(\ns\ne\nl\nf\n)\n:\n\n\n \n \n \n \n \n \n \n \np\nr\ni\nn\nt\n(\n'\nG\ne\nt\nt\ni\nn\ng\n \nn\na\nm\ne\n'\n)\n\n\n \n \n \n \n \n \n \n \nr\ne\nt\nu\nr\nn\n \ns\nu\np\ne\nr\n(\n)\n.\nn\na\nm\ne\n\n"
      ]
    },
    {
      "cell_type": "markdown",
      "metadata": {},
      "source": [
        "\u6216\u8005\uff0c\u4f60\u53ea\u60f3\u4fee\u6539setter\u65b9\u6cd5\uff0c\u5c31\u8fd9\u4e48\u5199\uff1a"
      ]
    },
    {
      "cell_type": "code",
      "execution_count": null,
      "metadata": {},
      "outputs": [],
      "source": [
        "c\nl\na\ns\ns\n \nS\nu\nb\nP\ne\nr\ns\no\nn\n(\nP\ne\nr\ns\no\nn\n)\n:\n\n\n \n \n \n \n@\nP\ne\nr\ns\no\nn\n.\nn\na\nm\ne\n.\ns\ne\nt\nt\ne\nr\n\n\n \n \n \n \nd\ne\nf\n \nn\na\nm\ne\n(\ns\ne\nl\nf\n,\n \nv\na\nl\nu\ne\n)\n:\n\n\n \n \n \n \n \n \n \n \np\nr\ni\nn\nt\n(\n'\nS\ne\nt\nt\ni\nn\ng\n \nn\na\nm\ne\n \nt\no\n'\n,\n \nv\na\nl\nu\ne\n)\n\n\n \n \n \n \n \n \n \n \ns\nu\np\ne\nr\n(\nS\nu\nb\nP\ne\nr\ns\no\nn\n,\n \nS\nu\nb\nP\ne\nr\ns\no\nn\n)\n.\nn\na\nm\ne\n.\n_\n_\ns\ne\nt\n_\n_\n(\ns\ne\nl\nf\n,\n \nv\na\nl\nu\ne\n)\n\n"
      ]
    },
    {
      "cell_type": "markdown",
      "metadata": {},
      "source": [
        "### \u8ba8\u8bba\n"
      ]
    },
    {
      "cell_type": "markdown",
      "metadata": {},
      "source": [
        "\u5728\u5b50\u7c7b\u4e2d\u6269\u5c55\u4e00\u4e2aproperty\u53ef\u80fd\u4f1a\u5f15\u8d77\u5f88\u591a\u4e0d\u6613\u5bdf\u89c9\u7684\u95ee\u9898\uff0c\n\u56e0\u4e3a\u4e00\u4e2aproperty\u5176\u5b9e\u662f getter\u3001setter \u548c deleter \u65b9\u6cd5\u7684\u96c6\u5408\uff0c\u800c\u4e0d\u662f\u5355\u4e2a\u65b9\u6cd5\u3002\n\u56e0\u6b64\uff0c\u5f53\u4f60\u6269\u5c55\u4e00\u4e2aproperty\u7684\u65f6\u5019\uff0c\u4f60\u9700\u8981\u5148\u786e\u5b9a\u4f60\u662f\u5426\u8981\u91cd\u65b0\u5b9a\u4e49\u6240\u6709\u7684\u65b9\u6cd5\u8fd8\u662f\u8bf4\u53ea\u4fee\u6539\u5176\u4e2d\u67d0\u4e00\u4e2a\u3002"
      ]
    },
    {
      "cell_type": "markdown",
      "metadata": {},
      "source": [
        "\u5728\u7b2c\u4e00\u4e2a\u4f8b\u5b50\u4e2d\uff0c\u6240\u6709\u7684property\u65b9\u6cd5\u90fd\u88ab\u91cd\u65b0\u5b9a\u4e49\u3002\n\u5728\u6bcf\u4e00\u4e2a\u65b9\u6cd5\u4e2d\uff0c\u4f7f\u7528\u4e86 super() \u6765\u8c03\u7528\u7236\u7c7b\u7684\u5b9e\u73b0\u3002\n\u5728 setter \u51fd\u6570\u4e2d\u4f7f\u7528 super(SubPerson, SubPerson).name.__set__(self, value) \u7684\u8bed\u53e5\u662f\u6ca1\u6709\u9519\u7684\u3002\n\u4e3a\u4e86\u59d4\u6258\u7ed9\u4e4b\u524d\u5b9a\u4e49\u7684setter\u65b9\u6cd5\uff0c\u9700\u8981\u5c06\u63a7\u5236\u6743\u4f20\u9012\u7ed9\u4e4b\u524d\u5b9a\u4e49\u7684name\u5c5e\u6027\u7684 __set__() \u65b9\u6cd5\u3002\n\u4e0d\u8fc7\uff0c\u83b7\u53d6\u8fd9\u4e2a\u65b9\u6cd5\u7684\u552f\u4e00\u9014\u5f84\u662f\u4f7f\u7528\u7c7b\u53d8\u91cf\u800c\u4e0d\u662f\u5b9e\u4f8b\u53d8\u91cf\u6765\u8bbf\u95ee\u5b83\u3002\n\u8fd9\u4e5f\u662f\u4e3a\u4ec0\u4e48\u6211\u4eec\u8981\u4f7f\u7528 super(SubPerson, SubPerson) \u7684\u539f\u56e0\u3002"
      ]
    },
    {
      "cell_type": "markdown",
      "metadata": {},
      "source": [
        "\u5982\u679c\u4f60\u53ea\u60f3\u91cd\u5b9a\u4e49\u5176\u4e2d\u4e00\u4e2a\u65b9\u6cd5\uff0c\u90a3\u53ea\u4f7f\u7528 @property \u672c\u8eab\u662f\u4e0d\u591f\u7684\u3002\u6bd4\u5982\uff0c\u4e0b\u9762\u7684\u4ee3\u7801\u5c31\u65e0\u6cd5\u5de5\u4f5c\uff1a"
      ]
    },
    {
      "cell_type": "code",
      "execution_count": null,
      "metadata": {},
      "outputs": [],
      "source": [
        "c\nl\na\ns\ns\n \nS\nu\nb\nP\ne\nr\ns\no\nn\n(\nP\ne\nr\ns\no\nn\n)\n:\n\n\n \n \n \n \n@\np\nr\no\np\ne\nr\nt\ny\n \n \n#\n \nD\no\ne\ns\nn\n'\nt\n \nw\no\nr\nk\n\n\n \n \n \n \nd\ne\nf\n \nn\na\nm\ne\n(\ns\ne\nl\nf\n)\n:\n\n\n \n \n \n \n \n \n \n \np\nr\ni\nn\nt\n(\n'\nG\ne\nt\nt\ni\nn\ng\n \nn\na\nm\ne\n'\n)\n\n\n \n \n \n \n \n \n \n \nr\ne\nt\nu\nr\nn\n \ns\nu\np\ne\nr\n(\n)\n.\nn\na\nm\ne\n\n"
      ]
    },
    {
      "cell_type": "markdown",
      "metadata": {},
      "source": [
        "\u5982\u679c\u4f60\u8bd5\u7740\u8fd0\u884c\u4f1a\u53d1\u73b0setter\u51fd\u6570\u6574\u4e2a\u6d88\u5931\u4e86\uff1a"
      ]
    },
    {
      "cell_type": "code",
      "execution_count": null,
      "metadata": {},
      "outputs": [],
      "source": [
        "s = SubPerson('Guido')"
      ]
    },
    {
      "cell_type": "markdown",
      "metadata": {},
      "source": [
        "\u4f60\u5e94\u8be5\u50cf\u4e4b\u524d\u8bf4\u8fc7\u7684\u90a3\u6837\u4fee\u6539\u4ee3\u7801\uff1a"
      ]
    },
    {
      "cell_type": "code",
      "execution_count": null,
      "metadata": {},
      "outputs": [],
      "source": [
        "c\nl\na\ns\ns\n \nS\nu\nb\nP\ne\nr\ns\no\nn\n(\nP\ne\nr\ns\no\nn\n)\n:\n\n\n \n \n \n \n@\nP\ne\nr\ns\no\nn\n.\nn\na\nm\ne\n.\ng\ne\nt\nt\ne\nr\n\n\n \n \n \n \nd\ne\nf\n \nn\na\nm\ne\n(\ns\ne\nl\nf\n)\n:\n\n\n \n \n \n \n \n \n \n \np\nr\ni\nn\nt\n(\n'\nG\ne\nt\nt\ni\nn\ng\n \nn\na\nm\ne\n'\n)\n\n\n \n \n \n \n \n \n \n \nr\ne\nt\nu\nr\nn\n \ns\nu\np\ne\nr\n(\n)\n.\nn\na\nm\ne\n\n"
      ]
    },
    {
      "cell_type": "markdown",
      "metadata": {},
      "source": [
        "\u8fd9\u4e48\u5199\u540e\uff0cproperty\u4e4b\u524d\u5df2\u7ecf\u5b9a\u4e49\u8fc7\u7684\u65b9\u6cd5\u4f1a\u88ab\u590d\u5236\u8fc7\u6765\uff0c\u800cgetter\u51fd\u6570\u88ab\u66ff\u6362\u3002\u7136\u540e\u5b83\u5c31\u80fd\u6309\u7167\u671f\u671b\u7684\u5de5\u4f5c\u4e86\uff1a"
      ]
    },
    {
      "cell_type": "code",
      "execution_count": null,
      "metadata": {},
      "outputs": [],
      "source": [
        "s = SubPerson('Guido')\ns.name"
      ]
    },
    {
      "cell_type": "code",
      "execution_count": null,
      "metadata": {},
      "outputs": [],
      "source": [
        "s.name = 'Larry'\ns.name"
      ]
    },
    {
      "cell_type": "code",
      "execution_count": null,
      "metadata": {},
      "outputs": [],
      "source": [
        "s.name = 42"
      ]
    },
    {
      "cell_type": "markdown",
      "metadata": {},
      "source": [
        "\u5728\u8fd9\u4e2a\u7279\u522b\u7684\u89e3\u51b3\u65b9\u6848\u4e2d\uff0c\u6211\u4eec\u6ca1\u529e\u6cd5\u4f7f\u7528\u66f4\u52a0\u901a\u7528\u7684\u65b9\u5f0f\u53bb\u66ff\u6362\u786c\u7f16\u7801\u7684 Person \u7c7b\u540d\u3002\n\u5982\u679c\u4f60\u4e0d\u77e5\u9053\u5230\u5e95\u662f\u54ea\u4e2a\u57fa\u7c7b\u5b9a\u4e49\u4e86property\uff0c\n\u90a3\u4f60\u53ea\u80fd\u901a\u8fc7\u91cd\u65b0\u5b9a\u4e49\u6240\u6709property\u5e76\u4f7f\u7528 super() \u6765\u5c06\u63a7\u5236\u6743\u4f20\u9012\u7ed9\u524d\u9762\u7684\u5b9e\u73b0\u3002"
      ]
    },
    {
      "cell_type": "markdown",
      "metadata": {},
      "source": [
        "\u503c\u5f97\u6ce8\u610f\u7684\u662f\u4e0a\u9762\u6f14\u793a\u7684\u7b2c\u4e00\u79cd\u6280\u672f\u8fd8\u53ef\u4ee5\u88ab\u7528\u6765\u6269\u5c55\u4e00\u4e2a\u63cf\u8ff0\u5668(\u57288.9\u5c0f\u8282\u6211\u4eec\u6709\u4e13\u95e8\u7684\u4ecb\u7ecd)\u3002\u6bd4\u5982\uff1a"
      ]
    },
    {
      "cell_type": "code",
      "execution_count": null,
      "metadata": {},
      "outputs": [],
      "source": [
        "#\n \nA\n \nd\ne\ns\nc\nr\ni\np\nt\no\nr\n\n\nc\nl\na\ns\ns\n \nS\nt\nr\ni\nn\ng\n:\n\n\n \n \n \n \nd\ne\nf\n \n_\n_\ni\nn\ni\nt\n_\n_\n(\ns\ne\nl\nf\n,\n \nn\na\nm\ne\n)\n:\n\n\n \n \n \n \n \n \n \n \ns\ne\nl\nf\n.\nn\na\nm\ne\n \n=\n \nn\na\nm\ne\n\n\n\n\n \n \n \n \nd\ne\nf\n \n_\n_\ng\ne\nt\n_\n_\n(\ns\ne\nl\nf\n,\n \ni\nn\ns\nt\na\nn\nc\ne\n,\n \nc\nl\ns\n)\n:\n\n\n \n \n \n \n \n \n \n \ni\nf\n \ni\nn\ns\nt\na\nn\nc\ne\n \ni\ns\n \nN\no\nn\ne\n:\n\n\n \n \n \n \n \n \n \n \n \n \n \n \nr\ne\nt\nu\nr\nn\n \ns\ne\nl\nf\n\n\n \n \n \n \n \n \n \n \nr\ne\nt\nu\nr\nn\n \ni\nn\ns\nt\na\nn\nc\ne\n.\n_\n_\nd\ni\nc\nt\n_\n_\n[\ns\ne\nl\nf\n.\nn\na\nm\ne\n]\n\n\n\n\n \n \n \n \nd\ne\nf\n \n_\n_\ns\ne\nt\n_\n_\n(\ns\ne\nl\nf\n,\n \ni\nn\ns\nt\na\nn\nc\ne\n,\n \nv\na\nl\nu\ne\n)\n:\n\n\n \n \n \n \n \n \n \n \ni\nf\n \nn\no\nt\n \ni\ns\ni\nn\ns\nt\na\nn\nc\ne\n(\nv\na\nl\nu\ne\n,\n \ns\nt\nr\n)\n:\n\n\n \n \n \n \n \n \n \n \n \n \n \n \nr\na\ni\ns\ne\n \nT\ny\np\ne\nE\nr\nr\no\nr\n(\n'\nE\nx\np\ne\nc\nt\ne\nd\n \na\n \ns\nt\nr\ni\nn\ng\n'\n)\n\n\n \n \n \n \n \n \n \n \ni\nn\ns\nt\na\nn\nc\ne\n.\n_\n_\nd\ni\nc\nt\n_\n_\n[\ns\ne\nl\nf\n.\nn\na\nm\ne\n]\n \n=\n \nv\na\nl\nu\ne\n\n\n\n\n#\n \nA\n \nc\nl\na\ns\ns\n \nw\ni\nt\nh\n \na\n \nd\ne\ns\nc\nr\ni\np\nt\no\nr\n\n\nc\nl\na\ns\ns\n \nP\ne\nr\ns\no\nn\n:\n\n\n \n \n \n \nn\na\nm\ne\n \n=\n \nS\nt\nr\ni\nn\ng\n(\n'\nn\na\nm\ne\n'\n)\n\n\n\n\n \n \n \n \nd\ne\nf\n \n_\n_\ni\nn\ni\nt\n_\n_\n(\ns\ne\nl\nf\n,\n \nn\na\nm\ne\n)\n:\n\n\n \n \n \n \n \n \n \n \ns\ne\nl\nf\n.\nn\na\nm\ne\n \n=\n \nn\na\nm\ne\n\n\n\n\n#\n \nE\nx\nt\ne\nn\nd\ni\nn\ng\n \na\n \nd\ne\ns\nc\nr\ni\np\nt\no\nr\n \nw\ni\nt\nh\n \na\n \np\nr\no\np\ne\nr\nt\ny\n\n\nc\nl\na\ns\ns\n \nS\nu\nb\nP\ne\nr\ns\no\nn\n(\nP\ne\nr\ns\no\nn\n)\n:\n\n\n \n \n \n \n@\np\nr\no\np\ne\nr\nt\ny\n\n\n \n \n \n \nd\ne\nf\n \nn\na\nm\ne\n(\ns\ne\nl\nf\n)\n:\n\n\n \n \n \n \n \n \n \n \np\nr\ni\nn\nt\n(\n'\nG\ne\nt\nt\ni\nn\ng\n \nn\na\nm\ne\n'\n)\n\n\n \n \n \n \n \n \n \n \nr\ne\nt\nu\nr\nn\n \ns\nu\np\ne\nr\n(\n)\n.\nn\na\nm\ne\n\n\n\n\n \n \n \n \n@\nn\na\nm\ne\n.\ns\ne\nt\nt\ne\nr\n\n\n \n \n \n \nd\ne\nf\n \nn\na\nm\ne\n(\ns\ne\nl\nf\n,\n \nv\na\nl\nu\ne\n)\n:\n\n\n \n \n \n \n \n \n \n \np\nr\ni\nn\nt\n(\n'\nS\ne\nt\nt\ni\nn\ng\n \nn\na\nm\ne\n \nt\no\n'\n,\n \nv\na\nl\nu\ne\n)\n\n\n \n \n \n \n \n \n \n \ns\nu\np\ne\nr\n(\nS\nu\nb\nP\ne\nr\ns\no\nn\n,\n \nS\nu\nb\nP\ne\nr\ns\no\nn\n)\n.\nn\na\nm\ne\n.\n_\n_\ns\ne\nt\n_\n_\n(\ns\ne\nl\nf\n,\n \nv\na\nl\nu\ne\n)\n\n\n\n\n \n \n \n \n@\nn\na\nm\ne\n.\nd\ne\nl\ne\nt\ne\nr\n\n\n \n \n \n \nd\ne\nf\n \nn\na\nm\ne\n(\ns\ne\nl\nf\n)\n:\n\n\n \n \n \n \n \n \n \n \np\nr\ni\nn\nt\n(\n'\nD\ne\nl\ne\nt\ni\nn\ng\n \nn\na\nm\ne\n'\n)\n\n\n \n \n \n \n \n \n \n \ns\nu\np\ne\nr\n(\nS\nu\nb\nP\ne\nr\ns\no\nn\n,\n \nS\nu\nb\nP\ne\nr\ns\no\nn\n)\n.\nn\na\nm\ne\n.\n_\n_\nd\ne\nl\ne\nt\ne\n_\n_\n(\ns\ne\nl\nf\n)\n\n"
      ]
    },
    {
      "cell_type": "markdown",
      "metadata": {},
      "source": [
        "\u6700\u540e\u503c\u5f97\u6ce8\u610f\u7684\u662f\uff0c\u8bfb\u5230\u8fd9\u91cc\u65f6\uff0c\u4f60\u5e94\u8be5\u4f1a\u53d1\u73b0\u5b50\u7c7b\u5316 setter \u548c deleter \u65b9\u6cd5\u5176\u5b9e\u662f\u5f88\u7b80\u5355\u7684\u3002\n\u8fd9\u91cc\u6f14\u793a\u7684\u89e3\u51b3\u65b9\u6848\u540c\u6837\u9002\u7528\uff0c\u4f46\u662f\u5728 Python\u7684issue\u9875\u9762\n\u62a5\u544a\u7684\u4e00\u4e2abug\uff0c\u6216\u8bb8\u4f1a\u4f7f\u5f97\u5c06\u6765\u7684Python\u7248\u672c\u4e2d\u51fa\u73b0\u4e00\u4e2a\u66f4\u52a0\u7b80\u6d01\u7684\u65b9\u6cd5\u3002"
      ]
    },
    {
      "cell_type": "markdown",
      "metadata": {},
      "source": [
        "## 8.9 \u521b\u5efa\u65b0\u7684\u7c7b\u6216\u5b9e\u4f8b\u5c5e\u6027\n"
      ]
    },
    {
      "cell_type": "markdown",
      "metadata": {},
      "source": [
        "### \u95ee\u9898\n"
      ]
    },
    {
      "cell_type": "markdown",
      "metadata": {},
      "source": [
        "\u4f60\u60f3\u521b\u5efa\u4e00\u4e2a\u65b0\u7684\u62e5\u6709\u4e00\u4e9b\u989d\u5916\u529f\u80fd\u7684\u5b9e\u4f8b\u5c5e\u6027\u7c7b\u578b\uff0c\u6bd4\u5982\u7c7b\u578b\u68c0\u67e5\u3002"
      ]
    },
    {
      "cell_type": "markdown",
      "metadata": {},
      "source": [
        "### \u89e3\u51b3\u65b9\u6848\n"
      ]
    },
    {
      "cell_type": "markdown",
      "metadata": {},
      "source": [
        "\u5982\u679c\u4f60\u60f3\u521b\u5efa\u4e00\u4e2a\u5168\u65b0\u7684\u5b9e\u4f8b\u5c5e\u6027\uff0c\u53ef\u4ee5\u901a\u8fc7\u4e00\u4e2a\u63cf\u8ff0\u5668\u7c7b\u7684\u5f62\u5f0f\u6765\u5b9a\u4e49\u5b83\u7684\u529f\u80fd\u3002\u4e0b\u9762\u662f\u4e00\u4e2a\u4f8b\u5b50\uff1a"
      ]
    },
    {
      "cell_type": "code",
      "execution_count": null,
      "metadata": {},
      "outputs": [],
      "source": [
        "#\n \nD\ne\ns\nc\nr\ni\np\nt\no\nr\n \na\nt\nt\nr\ni\nb\nu\nt\ne\n \nf\no\nr\n \na\nn\n \ni\nn\nt\ne\ng\ne\nr\n \nt\ny\np\ne\n-\nc\nh\ne\nc\nk\ne\nd\n \na\nt\nt\nr\ni\nb\nu\nt\ne\n\n\nc\nl\na\ns\ns\n \nI\nn\nt\ne\ng\ne\nr\n:\n\n\n \n \n \n \nd\ne\nf\n \n_\n_\ni\nn\ni\nt\n_\n_\n(\ns\ne\nl\nf\n,\n \nn\na\nm\ne\n)\n:\n\n\n \n \n \n \n \n \n \n \ns\ne\nl\nf\n.\nn\na\nm\ne\n \n=\n \nn\na\nm\ne\n\n\n\n\n \n \n \n \nd\ne\nf\n \n_\n_\ng\ne\nt\n_\n_\n(\ns\ne\nl\nf\n,\n \ni\nn\ns\nt\na\nn\nc\ne\n,\n \nc\nl\ns\n)\n:\n\n\n \n \n \n \n \n \n \n \ni\nf\n \ni\nn\ns\nt\na\nn\nc\ne\n \ni\ns\n \nN\no\nn\ne\n:\n\n\n \n \n \n \n \n \n \n \n \n \n \n \nr\ne\nt\nu\nr\nn\n \ns\ne\nl\nf\n\n\n \n \n \n \n \n \n \n \ne\nl\ns\ne\n:\n\n\n \n \n \n \n \n \n \n \n \n \n \n \nr\ne\nt\nu\nr\nn\n \ni\nn\ns\nt\na\nn\nc\ne\n.\n_\n_\nd\ni\nc\nt\n_\n_\n[\ns\ne\nl\nf\n.\nn\na\nm\ne\n]\n\n\n\n\n \n \n \n \nd\ne\nf\n \n_\n_\ns\ne\nt\n_\n_\n(\ns\ne\nl\nf\n,\n \ni\nn\ns\nt\na\nn\nc\ne\n,\n \nv\na\nl\nu\ne\n)\n:\n\n\n \n \n \n \n \n \n \n \ni\nf\n \nn\no\nt\n \ni\ns\ni\nn\ns\nt\na\nn\nc\ne\n(\nv\na\nl\nu\ne\n,\n \ni\nn\nt\n)\n:\n\n\n \n \n \n \n \n \n \n \n \n \n \n \nr\na\ni\ns\ne\n \nT\ny\np\ne\nE\nr\nr\no\nr\n(\n'\nE\nx\np\ne\nc\nt\ne\nd\n \na\nn\n \ni\nn\nt\n'\n)\n\n\n \n \n \n \n \n \n \n \ni\nn\ns\nt\na\nn\nc\ne\n.\n_\n_\nd\ni\nc\nt\n_\n_\n[\ns\ne\nl\nf\n.\nn\na\nm\ne\n]\n \n=\n \nv\na\nl\nu\ne\n\n\n\n\n \n \n \n \nd\ne\nf\n \n_\n_\nd\ne\nl\ne\nt\ne\n_\n_\n(\ns\ne\nl\nf\n,\n \ni\nn\ns\nt\na\nn\nc\ne\n)\n:\n\n\n \n \n \n \n \n \n \n \nd\ne\nl\n \ni\nn\ns\nt\na\nn\nc\ne\n.\n_\n_\nd\ni\nc\nt\n_\n_\n[\ns\ne\nl\nf\n.\nn\na\nm\ne\n]\n\n"
      ]
    },
    {
      "cell_type": "markdown",
      "metadata": {},
      "source": [
        "\u4e00\u4e2a\u63cf\u8ff0\u5668\u5c31\u662f\u4e00\u4e2a\u5b9e\u73b0\u4e86\u4e09\u4e2a\u6838\u5fc3\u7684\u5c5e\u6027\u8bbf\u95ee\u64cd\u4f5c(get, set, delete)\u7684\u7c7b\uff0c\n\u5206\u522b\u4e3a __get__() \u3001__set__() \u548c __delete__() \u8fd9\u4e09\u4e2a\u7279\u6b8a\u7684\u65b9\u6cd5\u3002\n\u8fd9\u4e9b\u65b9\u6cd5\u63a5\u53d7\u4e00\u4e2a\u5b9e\u4f8b\u4f5c\u4e3a\u8f93\u5165\uff0c\u4e4b\u540e\u76f8\u5e94\u7684\u64cd\u4f5c\u5b9e\u4f8b\u5e95\u5c42\u7684\u5b57\u5178\u3002"
      ]
    },
    {
      "cell_type": "markdown",
      "metadata": {},
      "source": [
        "\u4e3a\u4e86\u4f7f\u7528\u4e00\u4e2a\u63cf\u8ff0\u5668\uff0c\u9700\u5c06\u8fd9\u4e2a\u63cf\u8ff0\u5668\u7684\u5b9e\u4f8b\u4f5c\u4e3a\u7c7b\u5c5e\u6027\u653e\u5230\u4e00\u4e2a\u7c7b\u7684\u5b9a\u4e49\u4e2d\u3002\u4f8b\u5982\uff1a"
      ]
    },
    {
      "cell_type": "code",
      "execution_count": null,
      "metadata": {},
      "outputs": [],
      "source": [
        "c\nl\na\ns\ns\n \nP\no\ni\nn\nt\n:\n\n\n \n \n \n \nx\n \n=\n \nI\nn\nt\ne\ng\ne\nr\n(\n'\nx\n'\n)\n\n\n \n \n \n \ny\n \n=\n \nI\nn\nt\ne\ng\ne\nr\n(\n'\ny\n'\n)\n\n\n\n\n \n \n \n \nd\ne\nf\n \n_\n_\ni\nn\ni\nt\n_\n_\n(\ns\ne\nl\nf\n,\n \nx\n,\n \ny\n)\n:\n\n\n \n \n \n \n \n \n \n \ns\ne\nl\nf\n.\nx\n \n=\n \nx\n\n\n \n \n \n \n \n \n \n \ns\ne\nl\nf\n.\ny\n \n=\n \ny\n\n"
      ]
    },
    {
      "cell_type": "markdown",
      "metadata": {},
      "source": [
        "\u5f53\u4f60\u8fd9\u6837\u505a\u540e\uff0c\u6240\u6709\u5bf9\u63cf\u8ff0\u5668\u5c5e\u6027(\u6bd4\u5982x\u6216y)\u7684\u8bbf\u95ee\u4f1a\u88ab\n__get__() \u3001__set__() \u548c __delete__() \u65b9\u6cd5\u6355\u83b7\u5230\u3002\u4f8b\u5982\uff1a"
      ]
    },
    {
      "cell_type": "code",
      "execution_count": null,
      "metadata": {},
      "outputs": [],
      "source": [
        "p = Point(2, 3)\np.x # Calls Point.x.__get__(p,Point)"
      ]
    },
    {
      "cell_type": "code",
      "execution_count": null,
      "metadata": {},
      "outputs": [],
      "source": [
        "p.y = 5 # Calls Point.y.__set__(p, 5)\np.x = 2.3 # Calls Point.x.__set__(p, 2.3)"
      ]
    },
    {
      "cell_type": "markdown",
      "metadata": {},
      "source": [
        "\u4f5c\u4e3a\u8f93\u5165\uff0c\u63cf\u8ff0\u5668\u7684\u6bcf\u4e00\u4e2a\u65b9\u6cd5\u4f1a\u63a5\u53d7\u4e00\u4e2a\u64cd\u4f5c\u5b9e\u4f8b\u3002\n\u4e3a\u4e86\u5b9e\u73b0\u8bf7\u6c42\u64cd\u4f5c\uff0c\u4f1a\u76f8\u5e94\u7684\u64cd\u4f5c\u5b9e\u4f8b\u5e95\u5c42\u7684\u5b57\u5178(__dict__\u5c5e\u6027)\u3002\n\u63cf\u8ff0\u5668\u7684 self.name \u5c5e\u6027\u5b58\u50a8\u4e86\u5728\u5b9e\u4f8b\u5b57\u5178\u4e2d\u88ab\u5b9e\u9645\u4f7f\u7528\u5230\u7684key\u3002"
      ]
    },
    {
      "cell_type": "markdown",
      "metadata": {},
      "source": [
        "### \u8ba8\u8bba\n"
      ]
    },
    {
      "cell_type": "markdown",
      "metadata": {},
      "source": [
        "\u63cf\u8ff0\u5668\u53ef\u5b9e\u73b0\u5927\u90e8\u5206Python\u7c7b\u7279\u6027\u4e2d\u7684\u5e95\u5c42\u9b54\u6cd5\uff0c\n\u5305\u62ec @classmethod \u3001@staticmethod \u3001@property \uff0c\u751a\u81f3\u662f __slots__ \u7279\u6027\u3002"
      ]
    },
    {
      "cell_type": "markdown",
      "metadata": {},
      "source": [
        "\u901a\u8fc7\u5b9a\u4e49\u4e00\u4e2a\u63cf\u8ff0\u5668\uff0c\u4f60\u53ef\u4ee5\u5728\u5e95\u5c42\u6355\u83b7\u6838\u5fc3\u7684\u5b9e\u4f8b\u64cd\u4f5c(get, set, delete)\uff0c\u5e76\u4e14\u53ef\u5b8c\u5168\u81ea\u5b9a\u4e49\u5b83\u4eec\u7684\u884c\u4e3a\u3002\n\u8fd9\u662f\u4e00\u4e2a\u5f3a\u5927\u7684\u5de5\u5177\uff0c\u6709\u4e86\u5b83\u4f60\u53ef\u4ee5\u5b9e\u73b0\u5f88\u591a\u9ad8\u7ea7\u529f\u80fd\uff0c\u5e76\u4e14\u5b83\u4e5f\u662f\u5f88\u591a\u9ad8\u7ea7\u5e93\u548c\u6846\u67b6\u4e2d\u7684\u91cd\u8981\u5de5\u5177\u4e4b\u4e00\u3002"
      ]
    },
    {
      "cell_type": "markdown",
      "metadata": {},
      "source": [
        "\u63cf\u8ff0\u5668\u7684\u4e00\u4e2a\u6bd4\u8f83\u56f0\u60d1\u7684\u5730\u65b9\u662f\u5b83\u53ea\u80fd\u5728\u7c7b\u7ea7\u522b\u88ab\u5b9a\u4e49\uff0c\u800c\u4e0d\u80fd\u4e3a\u6bcf\u4e2a\u5b9e\u4f8b\u5355\u72ec\u5b9a\u4e49\u3002\u56e0\u6b64\uff0c\u4e0b\u9762\u7684\u4ee3\u7801\u662f\u65e0\u6cd5\u5de5\u4f5c\u7684\uff1a"
      ]
    },
    {
      "cell_type": "code",
      "execution_count": null,
      "metadata": {},
      "outputs": [],
      "source": [
        "#\n \nD\no\ne\ns\n \nN\nO\nT\n \nw\no\nr\nk\n\n\nc\nl\na\ns\ns\n \nP\no\ni\nn\nt\n:\n\n\n \n \n \n \nd\ne\nf\n \n_\n_\ni\nn\ni\nt\n_\n_\n(\ns\ne\nl\nf\n,\n \nx\n,\n \ny\n)\n:\n\n\n \n \n \n \n \n \n \n \ns\ne\nl\nf\n.\nx\n \n=\n \nI\nn\nt\ne\ng\ne\nr\n(\n'\nx\n'\n)\n \n#\n \nN\no\n!\n \nM\nu\ns\nt\n \nb\ne\n \na\n \nc\nl\na\ns\ns\n \nv\na\nr\ni\na\nb\nl\ne\n\n\n \n \n \n \n \n \n \n \ns\ne\nl\nf\n.\ny\n \n=\n \nI\nn\nt\ne\ng\ne\nr\n(\n'\ny\n'\n)\n\n\n \n \n \n \n \n \n \n \ns\ne\nl\nf\n.\nx\n \n=\n \nx\n\n\n \n \n \n \n \n \n \n \ns\ne\nl\nf\n.\ny\n \n=\n \ny\n\n"
      ]
    },
    {
      "cell_type": "markdown",
      "metadata": {},
      "source": [
        "\u540c\u65f6\uff0c__get__() \u65b9\u6cd5\u5b9e\u73b0\u8d77\u6765\u6bd4\u770b\u4e0a\u53bb\u8981\u590d\u6742\u5f97\u591a\uff1a"
      ]
    },
    {
      "cell_type": "code",
      "execution_count": null,
      "metadata": {},
      "outputs": [],
      "source": [
        "#\n \nD\ne\ns\nc\nr\ni\np\nt\no\nr\n \na\nt\nt\nr\ni\nb\nu\nt\ne\n \nf\no\nr\n \na\nn\n \ni\nn\nt\ne\ng\ne\nr\n \nt\ny\np\ne\n-\nc\nh\ne\nc\nk\ne\nd\n \na\nt\nt\nr\ni\nb\nu\nt\ne\n\n\nc\nl\na\ns\ns\n \nI\nn\nt\ne\ng\ne\nr\n:\n\n\n\n\n \n \n \n \nd\ne\nf\n \n_\n_\ng\ne\nt\n_\n_\n(\ns\ne\nl\nf\n,\n \ni\nn\ns\nt\na\nn\nc\ne\n,\n \nc\nl\ns\n)\n:\n\n\n \n \n \n \n \n \n \n \ni\nf\n \ni\nn\ns\nt\na\nn\nc\ne\n \ni\ns\n \nN\no\nn\ne\n:\n\n\n \n \n \n \n \n \n \n \n \n \n \n \nr\ne\nt\nu\nr\nn\n \ns\ne\nl\nf\n\n\n \n \n \n \n \n \n \n \ne\nl\ns\ne\n:\n\n\n \n \n \n \n \n \n \n \n \n \n \n \nr\ne\nt\nu\nr\nn\n \ni\nn\ns\nt\na\nn\nc\ne\n.\n_\n_\nd\ni\nc\nt\n_\n_\n[\ns\ne\nl\nf\n.\nn\na\nm\ne\n]\n\n"
      ]
    },
    {
      "cell_type": "markdown",
      "metadata": {},
      "source": [
        "__get__() \u770b\u4e0a\u53bb\u6709\u70b9\u590d\u6742\u7684\u539f\u56e0\u5f52\u7ed3\u4e8e\u5b9e\u4f8b\u53d8\u91cf\u548c\u7c7b\u53d8\u91cf\u7684\u4e0d\u540c\u3002\n\u5982\u679c\u4e00\u4e2a\u63cf\u8ff0\u5668\u88ab\u5f53\u505a\u4e00\u4e2a\u7c7b\u53d8\u91cf\u6765\u8bbf\u95ee\uff0c\u90a3\u4e48 instance \u53c2\u6570\u88ab\u8bbe\u7f6e\u6210 None \u3002\n\u8fd9\u79cd\u60c5\u51b5\u4e0b\uff0c\u6807\u51c6\u505a\u6cd5\u5c31\u662f\u7b80\u5355\u7684\u8fd4\u56de\u8fd9\u4e2a\u63cf\u8ff0\u5668\u672c\u8eab\u5373\u53ef(\u5c3d\u7ba1\u4f60\u8fd8\u53ef\u4ee5\u6dfb\u52a0\u5176\u4ed6\u7684\u81ea\u5b9a\u4e49\u64cd\u4f5c)\u3002\u4f8b\u5982\uff1a"
      ]
    },
    {
      "cell_type": "code",
      "execution_count": null,
      "metadata": {},
      "outputs": [],
      "source": [
        "p = Point(2,3)\np.x # Calls Point.x.__get__(p, Point)"
      ]
    },
    {
      "cell_type": "code",
      "execution_count": null,
      "metadata": {},
      "outputs": [],
      "source": [
        "Point.x # Calls Point.x.__get__(None, Point)"
      ]
    },
    {
      "cell_type": "markdown",
      "metadata": {},
      "source": [
        "\u63cf\u8ff0\u5668\u901a\u5e38\u662f\u90a3\u4e9b\u4f7f\u7528\u5230\u88c5\u9970\u5668\u6216\u5143\u7c7b\u7684\u5927\u578b\u6846\u67b6\u4e2d\u7684\u4e00\u4e2a\u7ec4\u4ef6\u3002\u540c\u65f6\u5b83\u4eec\u7684\u4f7f\u7528\u4e5f\u88ab\u9690\u85cf\u5728\u540e\u9762\u3002\n\u4e3e\u4e2a\u4f8b\u5b50\uff0c\u4e0b\u9762\u662f\u4e00\u4e9b\u66f4\u9ad8\u7ea7\u7684\u57fa\u4e8e\u63cf\u8ff0\u5668\u7684\u4ee3\u7801\uff0c\u5e76\u6d89\u53ca\u5230\u4e00\u4e2a\u7c7b\u88c5\u9970\u5668\uff1a"
      ]
    },
    {
      "cell_type": "code",
      "execution_count": null,
      "metadata": {},
      "outputs": [],
      "source": [
        "#\n \nD\ne\ns\nc\nr\ni\np\nt\no\nr\n \nf\no\nr\n \na\n \nt\ny\np\ne\n-\nc\nh\ne\nc\nk\ne\nd\n \na\nt\nt\nr\ni\nb\nu\nt\ne\n\n\nc\nl\na\ns\ns\n \nT\ny\np\ne\nd\n:\n\n\n \n \n \n \nd\ne\nf\n \n_\n_\ni\nn\ni\nt\n_\n_\n(\ns\ne\nl\nf\n,\n \nn\na\nm\ne\n,\n \ne\nx\np\ne\nc\nt\ne\nd\n_\nt\ny\np\ne\n)\n:\n\n\n \n \n \n \n \n \n \n \ns\ne\nl\nf\n.\nn\na\nm\ne\n \n=\n \nn\na\nm\ne\n\n\n \n \n \n \n \n \n \n \ns\ne\nl\nf\n.\ne\nx\np\ne\nc\nt\ne\nd\n_\nt\ny\np\ne\n \n=\n \ne\nx\np\ne\nc\nt\ne\nd\n_\nt\ny\np\ne\n\n\n \n \n \n \nd\ne\nf\n \n_\n_\ng\ne\nt\n_\n_\n(\ns\ne\nl\nf\n,\n \ni\nn\ns\nt\na\nn\nc\ne\n,\n \nc\nl\ns\n)\n:\n\n\n \n \n \n \n \n \n \n \ni\nf\n \ni\nn\ns\nt\na\nn\nc\ne\n \ni\ns\n \nN\no\nn\ne\n:\n\n\n \n \n \n \n \n \n \n \n \n \n \n \nr\ne\nt\nu\nr\nn\n \ns\ne\nl\nf\n\n\n \n \n \n \n \n \n \n \ne\nl\ns\ne\n:\n\n\n \n \n \n \n \n \n \n \n \n \n \n \nr\ne\nt\nu\nr\nn\n \ni\nn\ns\nt\na\nn\nc\ne\n.\n_\n_\nd\ni\nc\nt\n_\n_\n[\ns\ne\nl\nf\n.\nn\na\nm\ne\n]\n\n\n\n\n \n \n \n \nd\ne\nf\n \n_\n_\ns\ne\nt\n_\n_\n(\ns\ne\nl\nf\n,\n \ni\nn\ns\nt\na\nn\nc\ne\n,\n \nv\na\nl\nu\ne\n)\n:\n\n\n \n \n \n \n \n \n \n \ni\nf\n \nn\no\nt\n \ni\ns\ni\nn\ns\nt\na\nn\nc\ne\n(\nv\na\nl\nu\ne\n,\n \ns\ne\nl\nf\n.\ne\nx\np\ne\nc\nt\ne\nd\n_\nt\ny\np\ne\n)\n:\n\n\n \n \n \n \n \n \n \n \n \n \n \n \nr\na\ni\ns\ne\n \nT\ny\np\ne\nE\nr\nr\no\nr\n(\n'\nE\nx\np\ne\nc\nt\ne\nd\n \n'\n \n+\n \ns\nt\nr\n(\ns\ne\nl\nf\n.\ne\nx\np\ne\nc\nt\ne\nd\n_\nt\ny\np\ne\n)\n)\n\n\n \n \n \n \n \n \n \n \ni\nn\ns\nt\na\nn\nc\ne\n.\n_\n_\nd\ni\nc\nt\n_\n_\n[\ns\ne\nl\nf\n.\nn\na\nm\ne\n]\n \n=\n \nv\na\nl\nu\ne\n\n\n \n \n \n \nd\ne\nf\n \n_\n_\nd\ne\nl\ne\nt\ne\n_\n_\n(\ns\ne\nl\nf\n,\n \ni\nn\ns\nt\na\nn\nc\ne\n)\n:\n\n\n \n \n \n \n \n \n \n \nd\ne\nl\n \ni\nn\ns\nt\na\nn\nc\ne\n.\n_\n_\nd\ni\nc\nt\n_\n_\n[\ns\ne\nl\nf\n.\nn\na\nm\ne\n]\n\n\n\n\n#\n \nC\nl\na\ns\ns\n \nd\ne\nc\no\nr\na\nt\no\nr\n \nt\nh\na\nt\n \na\np\np\nl\ni\ne\ns\n \ni\nt\n \nt\no\n \ns\ne\nl\ne\nc\nt\ne\nd\n \na\nt\nt\nr\ni\nb\nu\nt\ne\ns\n\n\nd\ne\nf\n \nt\ny\np\ne\na\ns\ns\ne\nr\nt\n(\n*\n*\nk\nw\na\nr\ng\ns\n)\n:\n\n\n \n \n \n \nd\ne\nf\n \nd\ne\nc\no\nr\na\nt\ne\n(\nc\nl\ns\n)\n:\n\n\n \n \n \n \n \n \n \n \nf\no\nr\n \nn\na\nm\ne\n,\n \ne\nx\np\ne\nc\nt\ne\nd\n_\nt\ny\np\ne\n \ni\nn\n \nk\nw\na\nr\ng\ns\n.\ni\nt\ne\nm\ns\n(\n)\n:\n\n\n \n \n \n \n \n \n \n \n \n \n \n \n#\n \nA\nt\nt\na\nc\nh\n \na\n \nT\ny\np\ne\nd\n \nd\ne\ns\nc\nr\ni\np\nt\no\nr\n \nt\no\n \nt\nh\ne\n \nc\nl\na\ns\ns\n\n\n \n \n \n \n \n \n \n \n \n \n \n \ns\ne\nt\na\nt\nt\nr\n(\nc\nl\ns\n,\n \nn\na\nm\ne\n,\n \nT\ny\np\ne\nd\n(\nn\na\nm\ne\n,\n \ne\nx\np\ne\nc\nt\ne\nd\n_\nt\ny\np\ne\n)\n)\n\n\n \n \n \n \n \n \n \n \nr\ne\nt\nu\nr\nn\n \nc\nl\ns\n\n\n \n \n \n \nr\ne\nt\nu\nr\nn\n \nd\ne\nc\no\nr\na\nt\ne\n\n\n\n\n#\n \nE\nx\na\nm\np\nl\ne\n \nu\ns\ne\n\n\n@\nt\ny\np\ne\na\ns\ns\ne\nr\nt\n(\nn\na\nm\ne\n=\ns\nt\nr\n,\n \ns\nh\na\nr\ne\ns\n=\ni\nn\nt\n,\n \np\nr\ni\nc\ne\n=\nf\nl\no\na\nt\n)\n\n\nc\nl\na\ns\ns\n \nS\nt\no\nc\nk\n:\n\n\n \n \n \n \nd\ne\nf\n \n_\n_\ni\nn\ni\nt\n_\n_\n(\ns\ne\nl\nf\n,\n \nn\na\nm\ne\n,\n \ns\nh\na\nr\ne\ns\n,\n \np\nr\ni\nc\ne\n)\n:\n\n\n \n \n \n \n \n \n \n \ns\ne\nl\nf\n.\nn\na\nm\ne\n \n=\n \nn\na\nm\ne\n\n\n \n \n \n \n \n \n \n \ns\ne\nl\nf\n.\ns\nh\na\nr\ne\ns\n \n=\n \ns\nh\na\nr\ne\ns\n\n\n \n \n \n \n \n \n \n \ns\ne\nl\nf\n.\np\nr\ni\nc\ne\n \n=\n \np\nr\ni\nc\ne\n\n"
      ]
    },
    {
      "cell_type": "markdown",
      "metadata": {},
      "source": [
        "\u6700\u540e\u8981\u6307\u51fa\u7684\u4e00\u70b9\u662f\uff0c\u5982\u679c\u4f60\u53ea\u662f\u60f3\u7b80\u5355\u7684\u81ea\u5b9a\u4e49\u67d0\u4e2a\u7c7b\u7684\u5355\u4e2a\u5c5e\u6027\u8bbf\u95ee\u7684\u8bdd\u5c31\u4e0d\u7528\u53bb\u5199\u63cf\u8ff0\u5668\u4e86\u3002\n\u8fd9\u79cd\u60c5\u51b5\u4e0b\u4f7f\u75288.6\u5c0f\u8282\u4ecb\u7ecd\u7684property\u6280\u672f\u4f1a\u66f4\u52a0\u5bb9\u6613\u3002\n\u5f53\u7a0b\u5e8f\u4e2d\u6709\u5f88\u591a\u91cd\u590d\u4ee3\u7801\u7684\u65f6\u5019\u63cf\u8ff0\u5668\u5c31\u5f88\u6709\u7528\u4e86\n(\u6bd4\u5982\u4f60\u60f3\u5728\u4f60\u4ee3\u7801\u7684\u5f88\u591a\u5730\u65b9\u4f7f\u7528\u63cf\u8ff0\u5668\u63d0\u4f9b\u7684\u529f\u80fd\u6216\u8005\u5c06\u5b83\u4f5c\u4e3a\u4e00\u4e2a\u51fd\u6570\u5e93\u7279\u6027)\u3002"
      ]
    },
    {
      "cell_type": "markdown",
      "metadata": {},
      "source": [
        "## 8.10 \u4f7f\u7528\u5ef6\u8fdf\u8ba1\u7b97\u5c5e\u6027\n"
      ]
    },
    {
      "cell_type": "markdown",
      "metadata": {},
      "source": [
        "### \u95ee\u9898\n"
      ]
    },
    {
      "cell_type": "markdown",
      "metadata": {},
      "source": [
        "\u4f60\u60f3\u5c06\u4e00\u4e2a\u53ea\u8bfb\u5c5e\u6027\u5b9a\u4e49\u6210\u4e00\u4e2aproperty\uff0c\u5e76\u4e14\u53ea\u5728\u8bbf\u95ee\u7684\u65f6\u5019\u624d\u4f1a\u8ba1\u7b97\u7ed3\u679c\u3002\n\u4f46\u662f\u4e00\u65e6\u88ab\u8bbf\u95ee\u540e\uff0c\u4f60\u5e0c\u671b\u7ed3\u679c\u503c\u88ab\u7f13\u5b58\u8d77\u6765\uff0c\u4e0d\u7528\u6bcf\u6b21\u90fd\u53bb\u8ba1\u7b97\u3002"
      ]
    },
    {
      "cell_type": "markdown",
      "metadata": {},
      "source": [
        "### \u89e3\u51b3\u65b9\u6848\n"
      ]
    },
    {
      "cell_type": "markdown",
      "metadata": {},
      "source": [
        "\u5b9a\u4e49\u4e00\u4e2a\u5ef6\u8fdf\u5c5e\u6027\u7684\u4e00\u79cd\u9ad8\u6548\u65b9\u6cd5\u662f\u901a\u8fc7\u4f7f\u7528\u4e00\u4e2a\u63cf\u8ff0\u5668\u7c7b\uff0c\u5982\u4e0b\u6240\u793a\uff1a"
      ]
    },
    {
      "cell_type": "code",
      "execution_count": null,
      "metadata": {},
      "outputs": [],
      "source": [
        "c\nl\na\ns\ns\n \nl\na\nz\ny\np\nr\no\np\ne\nr\nt\ny\n:\n\n\n \n \n \n \nd\ne\nf\n \n_\n_\ni\nn\ni\nt\n_\n_\n(\ns\ne\nl\nf\n,\n \nf\nu\nn\nc\n)\n:\n\n\n \n \n \n \n \n \n \n \ns\ne\nl\nf\n.\nf\nu\nn\nc\n \n=\n \nf\nu\nn\nc\n\n\n\n\n \n \n \n \nd\ne\nf\n \n_\n_\ng\ne\nt\n_\n_\n(\ns\ne\nl\nf\n,\n \ni\nn\ns\nt\na\nn\nc\ne\n,\n \nc\nl\ns\n)\n:\n\n\n \n \n \n \n \n \n \n \ni\nf\n \ni\nn\ns\nt\na\nn\nc\ne\n \ni\ns\n \nN\no\nn\ne\n:\n\n\n \n \n \n \n \n \n \n \n \n \n \n \nr\ne\nt\nu\nr\nn\n \ns\ne\nl\nf\n\n\n \n \n \n \n \n \n \n \ne\nl\ns\ne\n:\n\n\n \n \n \n \n \n \n \n \n \n \n \n \nv\na\nl\nu\ne\n \n=\n \ns\ne\nl\nf\n.\nf\nu\nn\nc\n(\ni\nn\ns\nt\na\nn\nc\ne\n)\n\n\n \n \n \n \n \n \n \n \n \n \n \n \ns\ne\nt\na\nt\nt\nr\n(\ni\nn\ns\nt\na\nn\nc\ne\n,\n \ns\ne\nl\nf\n.\nf\nu\nn\nc\n.\n_\n_\nn\na\nm\ne\n_\n_\n,\n \nv\na\nl\nu\ne\n)\n\n\n \n \n \n \n \n \n \n \n \n \n \n \nr\ne\nt\nu\nr\nn\n \nv\na\nl\nu\ne\n\n"
      ]
    },
    {
      "cell_type": "markdown",
      "metadata": {},
      "source": [
        "\u4f60\u9700\u8981\u50cf\u4e0b\u9762\u8fd9\u6837\u5728\u4e00\u4e2a\u7c7b\u4e2d\u4f7f\u7528\u5b83\uff1a"
      ]
    },
    {
      "cell_type": "code",
      "execution_count": null,
      "metadata": {},
      "outputs": [],
      "source": [
        "i\nm\np\no\nr\nt\n \nm\na\nt\nh\n\n\n\n\nc\nl\na\ns\ns\n \nC\ni\nr\nc\nl\ne\n:\n\n\n \n \n \n \nd\ne\nf\n \n_\n_\ni\nn\ni\nt\n_\n_\n(\ns\ne\nl\nf\n,\n \nr\na\nd\ni\nu\ns\n)\n:\n\n\n \n \n \n \n \n \n \n \ns\ne\nl\nf\n.\nr\na\nd\ni\nu\ns\n \n=\n \nr\na\nd\ni\nu\ns\n\n\n\n\n \n \n \n \n@\nl\na\nz\ny\np\nr\no\np\ne\nr\nt\ny\n\n\n \n \n \n \nd\ne\nf\n \na\nr\ne\na\n(\ns\ne\nl\nf\n)\n:\n\n\n \n \n \n \n \n \n \n \np\nr\ni\nn\nt\n(\n'\nC\no\nm\np\nu\nt\ni\nn\ng\n \na\nr\ne\na\n'\n)\n\n\n \n \n \n \n \n \n \n \nr\ne\nt\nu\nr\nn\n \nm\na\nt\nh\n.\np\ni\n \n*\n \ns\ne\nl\nf\n.\nr\na\nd\ni\nu\ns\n \n*\n*\n \n2\n\n\n\n\n \n \n \n \n@\nl\na\nz\ny\np\nr\no\np\ne\nr\nt\ny\n\n\n \n \n \n \nd\ne\nf\n \np\ne\nr\ni\nm\ne\nt\ne\nr\n(\ns\ne\nl\nf\n)\n:\n\n\n \n \n \n \n \n \n \n \np\nr\ni\nn\nt\n(\n'\nC\no\nm\np\nu\nt\ni\nn\ng\n \np\ne\nr\ni\nm\ne\nt\ne\nr\n'\n)\n\n\n \n \n \n \n \n \n \n \nr\ne\nt\nu\nr\nn\n \n2\n \n*\n \nm\na\nt\nh\n.\np\ni\n \n*\n \ns\ne\nl\nf\n.\nr\na\nd\ni\nu\ns\n\n"
      ]
    },
    {
      "cell_type": "markdown",
      "metadata": {},
      "source": [
        "\u4e0b\u9762\u5728\u4e00\u4e2a\u4ea4\u4e92\u73af\u5883\u4e2d\u6f14\u793a\u5b83\u7684\u4f7f\u7528\uff1a"
      ]
    },
    {
      "cell_type": "code",
      "execution_count": null,
      "metadata": {},
      "outputs": [],
      "source": [
        "c = Circle(4.0)\nc.radius"
      ]
    },
    {
      "cell_type": "code",
      "execution_count": null,
      "metadata": {},
      "outputs": [],
      "source": [
        "c.area"
      ]
    },
    {
      "cell_type": "code",
      "execution_count": null,
      "metadata": {},
      "outputs": [],
      "source": [
        "c.area"
      ]
    },
    {
      "cell_type": "code",
      "execution_count": null,
      "metadata": {},
      "outputs": [],
      "source": [
        "c.perimeter"
      ]
    },
    {
      "cell_type": "code",
      "execution_count": null,
      "metadata": {},
      "outputs": [],
      "source": [
        "c.perimeter"
      ]
    },
    {
      "cell_type": "markdown",
      "metadata": {},
      "source": [
        "\u4ed4\u7ec6\u89c2\u5bdf\u4f60\u4f1a\u53d1\u73b0\u6d88\u606f Computing area \u548c Computing perimeter \u4ec5\u4ec5\u51fa\u73b0\u4e00\u6b21\u3002"
      ]
    },
    {
      "cell_type": "markdown",
      "metadata": {},
      "source": [
        "### \u8ba8\u8bba\n"
      ]
    },
    {
      "cell_type": "markdown",
      "metadata": {},
      "source": [
        "\u5f88\u591a\u65f6\u5019\uff0c\u6784\u9020\u4e00\u4e2a\u5ef6\u8fdf\u8ba1\u7b97\u5c5e\u6027\u7684\u4e3b\u8981\u76ee\u7684\u662f\u4e3a\u4e86\u63d0\u5347\u6027\u80fd\u3002\n\u4f8b\u5982\uff0c\u4f60\u53ef\u4ee5\u907f\u514d\u8ba1\u7b97\u8fd9\u4e9b\u5c5e\u6027\u503c\uff0c\u9664\u975e\u4f60\u771f\u7684\u9700\u8981\u5b83\u4eec\u3002\n\u8fd9\u91cc\u6f14\u793a\u7684\u65b9\u6848\u5c31\u662f\u7528\u6765\u5b9e\u73b0\u8fd9\u6837\u7684\u6548\u679c\u7684\uff0c\n\u53ea\u4e0d\u8fc7\u5b83\u662f\u901a\u8fc7\u4ee5\u975e\u5e38\u9ad8\u6548\u7684\u65b9\u5f0f\u4f7f\u7528\u63cf\u8ff0\u5668\u7684\u4e00\u4e2a\u7cbe\u5999\u7279\u6027\u6765\u8fbe\u5230\u8fd9\u79cd\u6548\u679c\u7684\u3002"
      ]
    },
    {
      "cell_type": "markdown",
      "metadata": {},
      "source": [
        "\u6b63\u5982\u5728\u5176\u4ed6\u5c0f\u8282(\u59828.9\u5c0f\u8282)\u6240\u8bb2\u7684\u90a3\u6837\uff0c\u5f53\u4e00\u4e2a\u63cf\u8ff0\u5668\u88ab\u653e\u5165\u4e00\u4e2a\u7c7b\u7684\u5b9a\u4e49\u65f6\uff0c\n\u6bcf\u6b21\u8bbf\u95ee\u5c5e\u6027\u65f6\u5b83\u7684 __get__() \u3001__set__() \u548c __delete__() \u65b9\u6cd5\u5c31\u4f1a\u88ab\u89e6\u53d1\u3002\n\u4e0d\u8fc7\uff0c\u5982\u679c\u4e00\u4e2a\u63cf\u8ff0\u5668\u4ec5\u4ec5\u53ea\u5b9a\u4e49\u4e86\u4e00\u4e2a __get__() \u65b9\u6cd5\u7684\u8bdd\uff0c\u5b83\u6bd4\u901a\u5e38\u7684\u5177\u6709\u66f4\u5f31\u7684\u7ed1\u5b9a\u3002\n\u7279\u522b\u5730\uff0c\u53ea\u6709\u5f53\u88ab\u8bbf\u95ee\u5c5e\u6027\u4e0d\u5728\u5b9e\u4f8b\u5e95\u5c42\u7684\u5b57\u5178\u4e2d\u65f6 __get__() \u65b9\u6cd5\u624d\u4f1a\u88ab\u89e6\u53d1\u3002"
      ]
    },
    {
      "cell_type": "markdown",
      "metadata": {},
      "source": [
        "lazyproperty \u7c7b\u5229\u7528\u8fd9\u4e00\u70b9\uff0c\u4f7f\u7528 __get__() \u65b9\u6cd5\u5728\u5b9e\u4f8b\u4e2d\u5b58\u50a8\u8ba1\u7b97\u51fa\u6765\u7684\u503c\uff0c\n\u8fd9\u4e2a\u5b9e\u4f8b\u4f7f\u7528\u76f8\u540c\u7684\u540d\u5b57\u4f5c\u4e3a\u5b83\u7684property\u3002\n\u8fd9\u6837\u4e00\u6765\uff0c\u7ed3\u679c\u503c\u88ab\u5b58\u50a8\u5728\u5b9e\u4f8b\u5b57\u5178\u4e2d\u5e76\u4e14\u4ee5\u540e\u5c31\u4e0d\u9700\u8981\u518d\u53bb\u8ba1\u7b97\u8fd9\u4e2aproperty\u4e86\u3002\n\u4f60\u53ef\u4ee5\u5c1d\u8bd5\u66f4\u6df1\u5165\u7684\u4f8b\u5b50\u6765\u89c2\u5bdf\u7ed3\u679c\uff1a"
      ]
    },
    {
      "cell_type": "code",
      "execution_count": null,
      "metadata": {},
      "outputs": [],
      "source": [
        "c = Circle(4.0)\n# Get instance variables\nvars(c)"
      ]
    },
    {
      "cell_type": "code",
      "execution_count": null,
      "metadata": {},
      "outputs": [],
      "source": [
        "# Compute area and observe variables afterward\nc.area"
      ]
    },
    {
      "cell_type": "code",
      "execution_count": null,
      "metadata": {},
      "outputs": [],
      "source": [
        "vars(c)"
      ]
    },
    {
      "cell_type": "code",
      "execution_count": null,
      "metadata": {},
      "outputs": [],
      "source": [
        "# Notice access doesn't invoke property anymore\nc.area"
      ]
    },
    {
      "cell_type": "code",
      "execution_count": null,
      "metadata": {},
      "outputs": [],
      "source": [
        "# Delete the variable and see property trigger again\ndel c.area\nvars(c)"
      ]
    },
    {
      "cell_type": "code",
      "execution_count": null,
      "metadata": {},
      "outputs": [],
      "source": [
        "c.area"
      ]
    },
    {
      "cell_type": "markdown",
      "metadata": {},
      "source": [
        "\u8fd9\u79cd\u65b9\u6848\u6709\u4e00\u4e2a\u5c0f\u7f3a\u9677\u5c31\u662f\u8ba1\u7b97\u51fa\u7684\u503c\u88ab\u521b\u5efa\u540e\u662f\u53ef\u4ee5\u88ab\u4fee\u6539\u7684\u3002\u4f8b\u5982\uff1a"
      ]
    },
    {
      "cell_type": "code",
      "execution_count": null,
      "metadata": {},
      "outputs": [],
      "source": [
        "c.area"
      ]
    },
    {
      "cell_type": "code",
      "execution_count": null,
      "metadata": {},
      "outputs": [],
      "source": [
        "c.area = 25\nc.area"
      ]
    },
    {
      "cell_type": "markdown",
      "metadata": {},
      "source": [
        "\u5982\u679c\u4f60\u62c5\u5fc3\u8fd9\u4e2a\u95ee\u9898\uff0c\u90a3\u4e48\u53ef\u4ee5\u4f7f\u7528\u4e00\u79cd\u7a0d\u5fae\u6ca1\u90a3\u4e48\u9ad8\u6548\u7684\u5b9e\u73b0\uff0c\u5c31\u50cf\u4e0b\u9762\u8fd9\u6837\uff1a"
      ]
    },
    {
      "cell_type": "code",
      "execution_count": null,
      "metadata": {},
      "outputs": [],
      "source": [
        "d\ne\nf\n \nl\na\nz\ny\np\nr\no\np\ne\nr\nt\ny\n(\nf\nu\nn\nc\n)\n:\n\n\n \n \n \n \nn\na\nm\ne\n \n=\n \n'\n_\nl\na\nz\ny\n_\n'\n \n+\n \nf\nu\nn\nc\n.\n_\n_\nn\na\nm\ne\n_\n_\n\n\n \n \n \n \n@\np\nr\no\np\ne\nr\nt\ny\n\n\n \n \n \n \nd\ne\nf\n \nl\na\nz\ny\n(\ns\ne\nl\nf\n)\n:\n\n\n \n \n \n \n \n \n \n \ni\nf\n \nh\na\ns\na\nt\nt\nr\n(\ns\ne\nl\nf\n,\n \nn\na\nm\ne\n)\n:\n\n\n \n \n \n \n \n \n \n \n \n \n \n \nr\ne\nt\nu\nr\nn\n \ng\ne\nt\na\nt\nt\nr\n(\ns\ne\nl\nf\n,\n \nn\na\nm\ne\n)\n\n\n \n \n \n \n \n \n \n \ne\nl\ns\ne\n:\n\n\n \n \n \n \n \n \n \n \n \n \n \n \nv\na\nl\nu\ne\n \n=\n \nf\nu\nn\nc\n(\ns\ne\nl\nf\n)\n\n\n \n \n \n \n \n \n \n \n \n \n \n \ns\ne\nt\na\nt\nt\nr\n(\ns\ne\nl\nf\n,\n \nn\na\nm\ne\n,\n \nv\na\nl\nu\ne\n)\n\n\n \n \n \n \n \n \n \n \n \n \n \n \nr\ne\nt\nu\nr\nn\n \nv\na\nl\nu\ne\n\n\n \n \n \n \nr\ne\nt\nu\nr\nn\n \nl\na\nz\ny\n\n"
      ]
    },
    {
      "cell_type": "markdown",
      "metadata": {},
      "source": [
        "\u5982\u679c\u4f60\u4f7f\u7528\u8fd9\u4e2a\u7248\u672c\uff0c\u5c31\u4f1a\u53d1\u73b0\u73b0\u5728\u4fee\u6539\u64cd\u4f5c\u5df2\u7ecf\u4e0d\u88ab\u5141\u8bb8\u4e86\uff1a"
      ]
    },
    {
      "cell_type": "code",
      "execution_count": null,
      "metadata": {},
      "outputs": [],
      "source": [
        "c = Circle(4.0)\nc.area"
      ]
    },
    {
      "cell_type": "code",
      "execution_count": null,
      "metadata": {},
      "outputs": [],
      "source": [
        "c.area"
      ]
    },
    {
      "cell_type": "code",
      "execution_count": null,
      "metadata": {},
      "outputs": [],
      "source": [
        "c.area = 25"
      ]
    },
    {
      "cell_type": "markdown",
      "metadata": {},
      "source": [
        "\u7136\u800c\uff0c\u8fd9\u79cd\u65b9\u6848\u6709\u4e00\u4e2a\u7f3a\u70b9\u5c31\u662f\u6240\u6709get\u64cd\u4f5c\u90fd\u5fc5\u987b\u88ab\u5b9a\u5411\u5230\u5c5e\u6027\u7684 getter \u51fd\u6570\u4e0a\u53bb\u3002\n\u8fd9\u4e2a\u8ddf\u4e4b\u524d\u7b80\u5355\u7684\u5728\u5b9e\u4f8b\u5b57\u5178\u4e2d\u67e5\u627e\u503c\u7684\u65b9\u6848\u76f8\u6bd4\u6548\u7387\u8981\u4f4e\u4e00\u70b9\u3002\n\u5982\u679c\u60f3\u83b7\u53d6\u66f4\u591a\u5173\u4e8eproperty\u548c\u53ef\u7ba1\u7406\u5c5e\u6027\u7684\u4fe1\u606f\uff0c\u53ef\u4ee5\u53c2\u80038.6\u5c0f\u8282\u3002\u800c\u63cf\u8ff0\u5668\u7684\u76f8\u5173\u5185\u5bb9\u53ef\u4ee5\u57288.9\u5c0f\u8282\u627e\u5230\u3002"
      ]
    },
    {
      "cell_type": "markdown",
      "metadata": {},
      "source": [
        "## 8.11 \u7b80\u5316\u6570\u636e\u7ed3\u6784\u7684\u521d\u59cb\u5316\n"
      ]
    },
    {
      "cell_type": "markdown",
      "metadata": {},
      "source": [
        "### \u95ee\u9898\n"
      ]
    },
    {
      "cell_type": "markdown",
      "metadata": {},
      "source": [
        "\u4f60\u5199\u4e86\u5f88\u591a\u4ec5\u4ec5\u7528\u4f5c\u6570\u636e\u7ed3\u6784\u7684\u7c7b\uff0c\u4e0d\u60f3\u5199\u592a\u591a\u70e6\u4eba\u7684 __init__() \u51fd\u6570"
      ]
    },
    {
      "cell_type": "markdown",
      "metadata": {},
      "source": [
        "### \u89e3\u51b3\u65b9\u6848\n"
      ]
    },
    {
      "cell_type": "markdown",
      "metadata": {},
      "source": [
        "\u53ef\u4ee5\u5728\u4e00\u4e2a\u57fa\u7c7b\u4e2d\u5199\u4e00\u4e2a\u516c\u7528\u7684 __init__() \u51fd\u6570\uff1a"
      ]
    },
    {
      "cell_type": "code",
      "execution_count": null,
      "metadata": {},
      "outputs": [],
      "source": [
        "i\nm\np\no\nr\nt\n \nm\na\nt\nh\n\n\n\n\nc\nl\na\ns\ns\n \nS\nt\nr\nu\nc\nt\nu\nr\ne\n1\n:\n\n\n \n \n \n \n#\n \nC\nl\na\ns\ns\n \nv\na\nr\ni\na\nb\nl\ne\n \nt\nh\na\nt\n \ns\np\ne\nc\ni\nf\ni\ne\ns\n \ne\nx\np\ne\nc\nt\ne\nd\n \nf\ni\ne\nl\nd\ns\n\n\n \n \n \n \n_\nf\ni\ne\nl\nd\ns\n \n=\n \n[\n]\n\n\n\n\n \n \n \n \nd\ne\nf\n \n_\n_\ni\nn\ni\nt\n_\n_\n(\ns\ne\nl\nf\n,\n \n*\na\nr\ng\ns\n)\n:\n\n\n \n \n \n \n \n \n \n \ni\nf\n \nl\ne\nn\n(\na\nr\ng\ns\n)\n \n!\n=\n \nl\ne\nn\n(\ns\ne\nl\nf\n.\n_\nf\ni\ne\nl\nd\ns\n)\n:\n\n\n \n \n \n \n \n \n \n \n \n \n \n \nr\na\ni\ns\ne\n \nT\ny\np\ne\nE\nr\nr\no\nr\n(\n'\nE\nx\np\ne\nc\nt\ne\nd\n \n{\n}\n \na\nr\ng\nu\nm\ne\nn\nt\ns\n'\n.\nf\no\nr\nm\na\nt\n(\nl\ne\nn\n(\ns\ne\nl\nf\n.\n_\nf\ni\ne\nl\nd\ns\n)\n)\n)\n\n\n \n \n \n \n \n \n \n \n#\n \nS\ne\nt\n \nt\nh\ne\n \na\nr\ng\nu\nm\ne\nn\nt\ns\n\n\n \n \n \n \n \n \n \n \nf\no\nr\n \nn\na\nm\ne\n,\n \nv\na\nl\nu\ne\n \ni\nn\n \nz\ni\np\n(\ns\ne\nl\nf\n.\n_\nf\ni\ne\nl\nd\ns\n,\n \na\nr\ng\ns\n)\n:\n\n\n \n \n \n \n \n \n \n \n \n \n \n \ns\ne\nt\na\nt\nt\nr\n(\ns\ne\nl\nf\n,\n \nn\na\nm\ne\n,\n \nv\na\nl\nu\ne\n)\n\n"
      ]
    },
    {
      "cell_type": "markdown",
      "metadata": {},
      "source": [
        "\u7136\u540e\u4f7f\u4f60\u7684\u7c7b\u7ee7\u627f\u81ea\u8fd9\u4e2a\u57fa\u7c7b:"
      ]
    },
    {
      "cell_type": "code",
      "execution_count": null,
      "metadata": {},
      "outputs": [],
      "source": [
        "#\n \nE\nx\na\nm\np\nl\ne\n \nc\nl\na\ns\ns\n \nd\ne\nf\ni\nn\ni\nt\ni\no\nn\ns\n\n\nc\nl\na\ns\ns\n \nS\nt\no\nc\nk\n(\nS\nt\nr\nu\nc\nt\nu\nr\ne\n1\n)\n:\n\n\n \n \n \n \n_\nf\ni\ne\nl\nd\ns\n \n=\n \n[\n'\nn\na\nm\ne\n'\n,\n \n'\ns\nh\na\nr\ne\ns\n'\n,\n \n'\np\nr\ni\nc\ne\n'\n]\n\n\n\n\nc\nl\na\ns\ns\n \nP\no\ni\nn\nt\n(\nS\nt\nr\nu\nc\nt\nu\nr\ne\n1\n)\n:\n\n\n \n \n \n \n_\nf\ni\ne\nl\nd\ns\n \n=\n \n[\n'\nx\n'\n,\n \n'\ny\n'\n]\n\n\n\n\nc\nl\na\ns\ns\n \nC\ni\nr\nc\nl\ne\n(\nS\nt\nr\nu\nc\nt\nu\nr\ne\n1\n)\n:\n\n\n \n \n \n \n_\nf\ni\ne\nl\nd\ns\n \n=\n \n[\n'\nr\na\nd\ni\nu\ns\n'\n]\n\n\n\n\n \n \n \n \nd\ne\nf\n \na\nr\ne\na\n(\ns\ne\nl\nf\n)\n:\n\n\n \n \n \n \n \n \n \n \nr\ne\nt\nu\nr\nn\n \nm\na\nt\nh\n.\np\ni\n \n*\n \ns\ne\nl\nf\n.\nr\na\nd\ni\nu\ns\n \n*\n*\n \n2\n\n"
      ]
    },
    {
      "cell_type": "markdown",
      "metadata": {},
      "source": [
        "\u4f7f\u7528\u8fd9\u4e9b\u7c7b\u7684\u793a\u4f8b\uff1a"
      ]
    },
    {
      "cell_type": "code",
      "execution_count": null,
      "metadata": {},
      "outputs": [],
      "source": [
        "s = Stock('ACME', 50, 91.1)\np = Point(2, 3)\nc = Circle(4.5)\ns2 = Stock('ACME', 50)"
      ]
    },
    {
      "cell_type": "markdown",
      "metadata": {},
      "source": [
        "\u5982\u679c\u8fd8\u60f3\u652f\u6301\u5173\u952e\u5b57\u53c2\u6570\uff0c\u53ef\u4ee5\u5c06\u5173\u952e\u5b57\u53c2\u6570\u8bbe\u7f6e\u4e3a\u5b9e\u4f8b\u5c5e\u6027\uff1a"
      ]
    },
    {
      "cell_type": "code",
      "execution_count": null,
      "metadata": {},
      "outputs": [],
      "source": [
        "c\nl\na\ns\ns\n \nS\nt\nr\nu\nc\nt\nu\nr\ne\n2\n:\n\n\n \n \n \n \n_\nf\ni\ne\nl\nd\ns\n \n=\n \n[\n]\n\n\n\n\n \n \n \n \nd\ne\nf\n \n_\n_\ni\nn\ni\nt\n_\n_\n(\ns\ne\nl\nf\n,\n \n*\na\nr\ng\ns\n,\n \n*\n*\nk\nw\na\nr\ng\ns\n)\n:\n\n\n \n \n \n \n \n \n \n \ni\nf\n \nl\ne\nn\n(\na\nr\ng\ns\n)\n \n>\n \nl\ne\nn\n(\ns\ne\nl\nf\n.\n_\nf\ni\ne\nl\nd\ns\n)\n:\n\n\n \n \n \n \n \n \n \n \n \n \n \n \nr\na\ni\ns\ne\n \nT\ny\np\ne\nE\nr\nr\no\nr\n(\n'\nE\nx\np\ne\nc\nt\ne\nd\n \n{\n}\n \na\nr\ng\nu\nm\ne\nn\nt\ns\n'\n.\nf\no\nr\nm\na\nt\n(\nl\ne\nn\n(\ns\ne\nl\nf\n.\n_\nf\ni\ne\nl\nd\ns\n)\n)\n)\n\n\n\n\n \n \n \n \n \n \n \n \n#\n \nS\ne\nt\n \na\nl\nl\n \no\nf\n \nt\nh\ne\n \np\no\ns\ni\nt\ni\no\nn\na\nl\n \na\nr\ng\nu\nm\ne\nn\nt\ns\n\n\n \n \n \n \n \n \n \n \nf\no\nr\n \nn\na\nm\ne\n,\n \nv\na\nl\nu\ne\n \ni\nn\n \nz\ni\np\n(\ns\ne\nl\nf\n.\n_\nf\ni\ne\nl\nd\ns\n,\n \na\nr\ng\ns\n)\n:\n\n\n \n \n \n \n \n \n \n \n \n \n \n \ns\ne\nt\na\nt\nt\nr\n(\ns\ne\nl\nf\n,\n \nn\na\nm\ne\n,\n \nv\na\nl\nu\ne\n)\n\n\n\n\n \n \n \n \n \n \n \n \n#\n \nS\ne\nt\n \nt\nh\ne\n \nr\ne\nm\na\ni\nn\ni\nn\ng\n \nk\ne\ny\nw\no\nr\nd\n \na\nr\ng\nu\nm\ne\nn\nt\ns\n\n\n \n \n \n \n \n \n \n \nf\no\nr\n \nn\na\nm\ne\n \ni\nn\n \ns\ne\nl\nf\n.\n_\nf\ni\ne\nl\nd\ns\n[\nl\ne\nn\n(\na\nr\ng\ns\n)\n:\n]\n:\n\n\n \n \n \n \n \n \n \n \n \n \n \n \ns\ne\nt\na\nt\nt\nr\n(\ns\ne\nl\nf\n,\n \nn\na\nm\ne\n,\n \nk\nw\na\nr\ng\ns\n.\np\no\np\n(\nn\na\nm\ne\n)\n)\n\n\n\n\n \n \n \n \n \n \n \n \n#\n \nC\nh\ne\nc\nk\n \nf\no\nr\n \na\nn\ny\n \nr\ne\nm\na\ni\nn\ni\nn\ng\n \nu\nn\nk\nn\no\nw\nn\n \na\nr\ng\nu\nm\ne\nn\nt\ns\n\n\n \n \n \n \n \n \n \n \ni\nf\n \nk\nw\na\nr\ng\ns\n:\n\n\n \n \n \n \n \n \n \n \n \n \n \n \nr\na\ni\ns\ne\n \nT\ny\np\ne\nE\nr\nr\no\nr\n(\n'\nI\nn\nv\na\nl\ni\nd\n \na\nr\ng\nu\nm\ne\nn\nt\n(\ns\n)\n:\n \n{\n}\n'\n.\nf\no\nr\nm\na\nt\n(\n'\n,\n'\n.\nj\no\ni\nn\n(\nk\nw\na\nr\ng\ns\n)\n)\n)\n\n\n#\n \nE\nx\na\nm\np\nl\ne\n \nu\ns\ne\n\n\ni\nf\n \n_\n_\nn\na\nm\ne\n_\n_\n \n=\n=\n \n'\n_\n_\nm\na\ni\nn\n_\n_\n'\n:\n\n\n \n \n \n \nc\nl\na\ns\ns\n \nS\nt\no\nc\nk\n(\nS\nt\nr\nu\nc\nt\nu\nr\ne\n2\n)\n:\n\n\n \n \n \n \n \n \n \n \n_\nf\ni\ne\nl\nd\ns\n \n=\n \n[\n'\nn\na\nm\ne\n'\n,\n \n'\ns\nh\na\nr\ne\ns\n'\n,\n \n'\np\nr\ni\nc\ne\n'\n]\n\n\n\n\n \n \n \n \ns\n1\n \n=\n \nS\nt\no\nc\nk\n(\n'\nA\nC\nM\nE\n'\n,\n \n5\n0\n,\n \n9\n1\n.\n1\n)\n\n\n \n \n \n \ns\n2\n \n=\n \nS\nt\no\nc\nk\n(\n'\nA\nC\nM\nE\n'\n,\n \n5\n0\n,\n \np\nr\ni\nc\ne\n=\n9\n1\n.\n1\n)\n\n\n \n \n \n \ns\n3\n \n=\n \nS\nt\no\nc\nk\n(\n'\nA\nC\nM\nE\n'\n,\n \ns\nh\na\nr\ne\ns\n=\n5\n0\n,\n \np\nr\ni\nc\ne\n=\n9\n1\n.\n1\n)\n\n\n \n \n \n \n#\n \ns\n3\n \n=\n \nS\nt\no\nc\nk\n(\n'\nA\nC\nM\nE\n'\n,\n \ns\nh\na\nr\ne\ns\n=\n5\n0\n,\n \np\nr\ni\nc\ne\n=\n9\n1\n.\n1\n,\n \na\na\n=\n1\n)\n\n"
      ]
    },
    {
      "cell_type": "markdown",
      "metadata": {},
      "source": [
        "\u4f60\u8fd8\u80fd\u5c06\u4e0d\u5728 _fields \u4e2d\u7684\u540d\u79f0\u52a0\u5165\u5230\u5c5e\u6027\u4e2d\u53bb\uff1a"
      ]
    },
    {
      "cell_type": "code",
      "execution_count": null,
      "metadata": {},
      "outputs": [],
      "source": [
        "c\nl\na\ns\ns\n \nS\nt\nr\nu\nc\nt\nu\nr\ne\n3\n:\n\n\n \n \n \n \n#\n \nC\nl\na\ns\ns\n \nv\na\nr\ni\na\nb\nl\ne\n \nt\nh\na\nt\n \ns\np\ne\nc\ni\nf\ni\ne\ns\n \ne\nx\np\ne\nc\nt\ne\nd\n \nf\ni\ne\nl\nd\ns\n\n\n \n \n \n \n_\nf\ni\ne\nl\nd\ns\n \n=\n \n[\n]\n\n\n\n\n \n \n \n \nd\ne\nf\n \n_\n_\ni\nn\ni\nt\n_\n_\n(\ns\ne\nl\nf\n,\n \n*\na\nr\ng\ns\n,\n \n*\n*\nk\nw\na\nr\ng\ns\n)\n:\n\n\n \n \n \n \n \n \n \n \ni\nf\n \nl\ne\nn\n(\na\nr\ng\ns\n)\n \n!\n=\n \nl\ne\nn\n(\ns\ne\nl\nf\n.\n_\nf\ni\ne\nl\nd\ns\n)\n:\n\n\n \n \n \n \n \n \n \n \n \n \n \n \nr\na\ni\ns\ne\n \nT\ny\np\ne\nE\nr\nr\no\nr\n(\n'\nE\nx\np\ne\nc\nt\ne\nd\n \n{\n}\n \na\nr\ng\nu\nm\ne\nn\nt\ns\n'\n.\nf\no\nr\nm\na\nt\n(\nl\ne\nn\n(\ns\ne\nl\nf\n.\n_\nf\ni\ne\nl\nd\ns\n)\n)\n)\n\n\n\n\n \n \n \n \n \n \n \n \n#\n \nS\ne\nt\n \nt\nh\ne\n \na\nr\ng\nu\nm\ne\nn\nt\ns\n\n\n \n \n \n \n \n \n \n \nf\no\nr\n \nn\na\nm\ne\n,\n \nv\na\nl\nu\ne\n \ni\nn\n \nz\ni\np\n(\ns\ne\nl\nf\n.\n_\nf\ni\ne\nl\nd\ns\n,\n \na\nr\ng\ns\n)\n:\n\n\n \n \n \n \n \n \n \n \n \n \n \n \ns\ne\nt\na\nt\nt\nr\n(\ns\ne\nl\nf\n,\n \nn\na\nm\ne\n,\n \nv\na\nl\nu\ne\n)\n\n\n\n\n \n \n \n \n \n \n \n \n#\n \nS\ne\nt\n \nt\nh\ne\n \na\nd\nd\ni\nt\ni\no\nn\na\nl\n \na\nr\ng\nu\nm\ne\nn\nt\ns\n \n(\ni\nf\n \na\nn\ny\n)\n\n\n \n \n \n \n \n \n \n \ne\nx\nt\nr\na\n_\na\nr\ng\ns\n \n=\n \nk\nw\na\nr\ng\ns\n.\nk\ne\ny\ns\n(\n)\n \n-\n \ns\ne\nl\nf\n.\n_\nf\ni\ne\nl\nd\ns\n\n\n \n \n \n \n \n \n \n \nf\no\nr\n \nn\na\nm\ne\n \ni\nn\n \ne\nx\nt\nr\na\n_\na\nr\ng\ns\n:\n\n\n \n \n \n \n \n \n \n \n \n \n \n \ns\ne\nt\na\nt\nt\nr\n(\ns\ne\nl\nf\n,\n \nn\na\nm\ne\n,\n \nk\nw\na\nr\ng\ns\n.\np\no\np\n(\nn\na\nm\ne\n)\n)\n\n\n\n\n \n \n \n \n \n \n \n \ni\nf\n \nk\nw\na\nr\ng\ns\n:\n\n\n \n \n \n \n \n \n \n \n \n \n \n \nr\na\ni\ns\ne\n \nT\ny\np\ne\nE\nr\nr\no\nr\n(\n'\nD\nu\np\nl\ni\nc\na\nt\ne\n \nv\na\nl\nu\ne\ns\n \nf\no\nr\n \n{\n}\n'\n.\nf\no\nr\nm\na\nt\n(\n'\n,\n'\n.\nj\no\ni\nn\n(\nk\nw\na\nr\ng\ns\n)\n)\n)\n\n\n\n\n#\n \nE\nx\na\nm\np\nl\ne\n \nu\ns\ne\n\n\ni\nf\n \n_\n_\nn\na\nm\ne\n_\n_\n \n=\n=\n \n'\n_\n_\nm\na\ni\nn\n_\n_\n'\n:\n\n\n \n \n \n \nc\nl\na\ns\ns\n \nS\nt\no\nc\nk\n(\nS\nt\nr\nu\nc\nt\nu\nr\ne\n3\n)\n:\n\n\n \n \n \n \n \n \n \n \n_\nf\ni\ne\nl\nd\ns\n \n=\n \n[\n'\nn\na\nm\ne\n'\n,\n \n'\ns\nh\na\nr\ne\ns\n'\n,\n \n'\np\nr\ni\nc\ne\n'\n]\n\n\n\n\n \n \n \n \ns\n1\n \n=\n \nS\nt\no\nc\nk\n(\n'\nA\nC\nM\nE\n'\n,\n \n5\n0\n,\n \n9\n1\n.\n1\n)\n\n\n \n \n \n \ns\n2\n \n=\n \nS\nt\no\nc\nk\n(\n'\nA\nC\nM\nE\n'\n,\n \n5\n0\n,\n \n9\n1\n.\n1\n,\n \nd\na\nt\ne\n=\n'\n8\n/\n2\n/\n2\n0\n1\n2\n'\n)\n\n"
      ]
    },
    {
      "cell_type": "markdown",
      "metadata": {},
      "source": [
        "### \u8ba8\u8bba\n"
      ]
    },
    {
      "cell_type": "markdown",
      "metadata": {},
      "source": [
        "\u5f53\u4f60\u9700\u8981\u4f7f\u7528\u5927\u91cf\u5f88\u5c0f\u7684\u6570\u636e\u7ed3\u6784\u7c7b\u7684\u65f6\u5019\uff0c\n\u76f8\u6bd4\u624b\u5de5\u4e00\u4e2a\u4e2a\u5b9a\u4e49 __init__() \u65b9\u6cd5\u800c\u5df2\uff0c\u4f7f\u7528\u8fd9\u79cd\u65b9\u5f0f\u53ef\u4ee5\u5927\u5927\u7b80\u5316\u4ee3\u7801\u3002"
      ]
    },
    {
      "cell_type": "markdown",
      "metadata": {},
      "source": [
        "\u5728\u4e0a\u9762\u7684\u5b9e\u73b0\u4e2d\u6211\u4eec\u4f7f\u7528\u4e86 setattr() \u51fd\u6570\u7c7b\u8bbe\u7f6e\u5c5e\u6027\u503c\uff0c\n\u4f60\u53ef\u80fd\u4e0d\u60f3\u7528\u8fd9\u79cd\u65b9\u5f0f\uff0c\u800c\u662f\u60f3\u76f4\u63a5\u66f4\u65b0\u5b9e\u4f8b\u5b57\u5178\uff0c\u5c31\u50cf\u4e0b\u9762\u8fd9\u6837\uff1a"
      ]
    },
    {
      "cell_type": "code",
      "execution_count": null,
      "metadata": {},
      "outputs": [],
      "source": [
        "c\nl\na\ns\ns\n \nS\nt\nr\nu\nc\nt\nu\nr\ne\n:\n\n\n \n \n \n \n#\n \nC\nl\na\ns\ns\n \nv\na\nr\ni\na\nb\nl\ne\n \nt\nh\na\nt\n \ns\np\ne\nc\ni\nf\ni\ne\ns\n \ne\nx\np\ne\nc\nt\ne\nd\n \nf\ni\ne\nl\nd\ns\n\n\n \n \n \n \n_\nf\ni\ne\nl\nd\ns\n=\n \n[\n]\n\n\n \n \n \n \nd\ne\nf\n \n_\n_\ni\nn\ni\nt\n_\n_\n(\ns\ne\nl\nf\n,\n \n*\na\nr\ng\ns\n)\n:\n\n\n \n \n \n \n \n \n \n \ni\nf\n \nl\ne\nn\n(\na\nr\ng\ns\n)\n \n!\n=\n \nl\ne\nn\n(\ns\ne\nl\nf\n.\n_\nf\ni\ne\nl\nd\ns\n)\n:\n\n\n \n \n \n \n \n \n \n \n \n \n \n \nr\na\ni\ns\ne\n \nT\ny\np\ne\nE\nr\nr\no\nr\n(\n'\nE\nx\np\ne\nc\nt\ne\nd\n \n{\n}\n \na\nr\ng\nu\nm\ne\nn\nt\ns\n'\n.\nf\no\nr\nm\na\nt\n(\nl\ne\nn\n(\ns\ne\nl\nf\n.\n_\nf\ni\ne\nl\nd\ns\n)\n)\n)\n\n\n\n\n \n \n \n \n \n \n \n \n#\n \nS\ne\nt\n \nt\nh\ne\n \na\nr\ng\nu\nm\ne\nn\nt\ns\n \n(\na\nl\nt\ne\nr\nn\na\nt\ne\n)\n\n\n \n \n \n \n \n \n \n \ns\ne\nl\nf\n.\n_\n_\nd\ni\nc\nt\n_\n_\n.\nu\np\nd\na\nt\ne\n(\nz\ni\np\n(\ns\ne\nl\nf\n.\n_\nf\ni\ne\nl\nd\ns\n,\na\nr\ng\ns\n)\n)\n\n"
      ]
    },
    {
      "cell_type": "markdown",
      "metadata": {},
      "source": [
        "\u5c3d\u7ba1\u8fd9\u4e5f\u53ef\u4ee5\u6b63\u5e38\u5de5\u4f5c\uff0c\u4f46\u662f\u5f53\u5b9a\u4e49\u5b50\u7c7b\u7684\u65f6\u5019\u95ee\u9898\u5c31\u6765\u4e86\u3002\n\u5f53\u4e00\u4e2a\u5b50\u7c7b\u5b9a\u4e49\u4e86 __slots__ \u6216\u8005\u901a\u8fc7property(\u6216\u63cf\u8ff0\u5668)\u6765\u5305\u88c5\u67d0\u4e2a\u5c5e\u6027\uff0c\n\u90a3\u4e48\u76f4\u63a5\u8bbf\u95ee\u5b9e\u4f8b\u5b57\u5178\u5c31\u4e0d\u8d77\u4f5c\u7528\u4e86\u3002\u6211\u4eec\u4e0a\u9762\u4f7f\u7528 setattr() \u4f1a\u663e\u5f97\u66f4\u901a\u7528\u4e9b\uff0c\u56e0\u4e3a\u5b83\u4e5f\u9002\u7528\u4e8e\u5b50\u7c7b\u60c5\u51b5\u3002"
      ]
    },
    {
      "cell_type": "markdown",
      "metadata": {},
      "source": [
        "\u8fd9\u79cd\u65b9\u6cd5\u552f\u4e00\u4e0d\u597d\u7684\u5730\u65b9\u5c31\u662f\u5bf9\u67d0\u4e9bIDE\u800c\u8a00\uff0c\u5728\u663e\u793a\u5e2e\u52a9\u51fd\u6570\u65f6\u53ef\u80fd\u4e0d\u592a\u53cb\u597d\u3002\u6bd4\u5982\uff1a"
      ]
    },
    {
      "cell_type": "code",
      "execution_count": null,
      "metadata": {},
      "outputs": [],
      "source": [
        "help(Stock)"
      ]
    },
    {
      "cell_type": "markdown",
      "metadata": {},
      "source": [
        "\u53ef\u4ee5\u53c2\u80039.16\u5c0f\u8282\u6765\u5f3a\u5236\u5728 __init__() \u65b9\u6cd5\u4e2d\u6307\u5b9a\u53c2\u6570\u7684\u7c7b\u578b\u7b7e\u540d\u3002"
      ]
    },
    {
      "cell_type": "markdown",
      "metadata": {},
      "source": [
        "## 8.12 \u5b9a\u4e49\u63a5\u53e3\u6216\u8005\u62bd\u8c61\u57fa\u7c7b\n"
      ]
    },
    {
      "cell_type": "markdown",
      "metadata": {},
      "source": [
        "### \u95ee\u9898\n"
      ]
    },
    {
      "cell_type": "markdown",
      "metadata": {},
      "source": [
        "\u4f60\u60f3\u5b9a\u4e49\u4e00\u4e2a\u63a5\u53e3\u6216\u62bd\u8c61\u7c7b\uff0c\u5e76\u4e14\u901a\u8fc7\u6267\u884c\u7c7b\u578b\u68c0\u67e5\u6765\u786e\u4fdd\u5b50\u7c7b\u5b9e\u73b0\u4e86\u67d0\u4e9b\u7279\u5b9a\u7684\u65b9\u6cd5"
      ]
    },
    {
      "cell_type": "markdown",
      "metadata": {},
      "source": [
        "### \u89e3\u51b3\u65b9\u6848\n"
      ]
    },
    {
      "cell_type": "markdown",
      "metadata": {},
      "source": [
        "\u4f7f\u7528 abc \u6a21\u5757\u53ef\u4ee5\u5f88\u8f7b\u677e\u7684\u5b9a\u4e49\u62bd\u8c61\u57fa\u7c7b\uff1a"
      ]
    },
    {
      "cell_type": "code",
      "execution_count": null,
      "metadata": {},
      "outputs": [],
      "source": [
        "f\nr\no\nm\n \na\nb\nc\n \ni\nm\np\no\nr\nt\n \nA\nB\nC\nM\ne\nt\na\n,\n \na\nb\ns\nt\nr\na\nc\nt\nm\ne\nt\nh\no\nd\n\n\n\n\nc\nl\na\ns\ns\n \nI\nS\nt\nr\ne\na\nm\n(\nm\ne\nt\na\nc\nl\na\ns\ns\n=\nA\nB\nC\nM\ne\nt\na\n)\n:\n\n\n \n \n \n \n@\na\nb\ns\nt\nr\na\nc\nt\nm\ne\nt\nh\no\nd\n\n\n \n \n \n \nd\ne\nf\n \nr\ne\na\nd\n(\ns\ne\nl\nf\n,\n \nm\na\nx\nb\ny\nt\ne\ns\n=\n-\n1\n)\n:\n\n\n \n \n \n \n \n \n \n \np\na\ns\ns\n\n\n\n\n \n \n \n \n@\na\nb\ns\nt\nr\na\nc\nt\nm\ne\nt\nh\no\nd\n\n\n \n \n \n \nd\ne\nf\n \nw\nr\ni\nt\ne\n(\ns\ne\nl\nf\n,\n \nd\na\nt\na\n)\n:\n\n\n \n \n \n \n \n \n \n \np\na\ns\ns\n\n"
      ]
    },
    {
      "cell_type": "markdown",
      "metadata": {},
      "source": [
        "\u62bd\u8c61\u7c7b\u7684\u4e00\u4e2a\u7279\u70b9\u662f\u5b83\u4e0d\u80fd\u76f4\u63a5\u88ab\u5b9e\u4f8b\u5316\uff0c\u6bd4\u5982\u4f60\u60f3\u50cf\u4e0b\u9762\u8fd9\u6837\u505a\u662f\u4e0d\u884c\u7684\uff1a"
      ]
    },
    {
      "cell_type": "code",
      "execution_count": null,
      "metadata": {},
      "outputs": [],
      "source": [
        "a\n \n=\n \nI\nS\nt\nr\ne\na\nm\n(\n)\n \n#\n \nT\ny\np\ne\nE\nr\nr\no\nr\n:\n \nC\na\nn\n'\nt\n \ni\nn\ns\nt\na\nn\nt\ni\na\nt\ne\n \na\nb\ns\nt\nr\na\nc\nt\n \nc\nl\na\ns\ns\n\n\n \n \n \n \n \n \n \n \n \n \n \n \n \n \n \n \n#\n \nI\nS\nt\nr\ne\na\nm\n \nw\ni\nt\nh\n \na\nb\ns\nt\nr\na\nc\nt\n \nm\ne\nt\nh\no\nd\ns\n \nr\ne\na\nd\n,\n \nw\nr\ni\nt\ne\n\n"
      ]
    },
    {
      "cell_type": "markdown",
      "metadata": {},
      "source": [
        "\u62bd\u8c61\u7c7b\u7684\u76ee\u7684\u5c31\u662f\u8ba9\u522b\u7684\u7c7b\u7ee7\u627f\u5b83\u5e76\u5b9e\u73b0\u7279\u5b9a\u7684\u62bd\u8c61\u65b9\u6cd5\uff1a"
      ]
    },
    {
      "cell_type": "code",
      "execution_count": null,
      "metadata": {},
      "outputs": [],
      "source": [
        "c\nl\na\ns\ns\n \nS\no\nc\nk\ne\nt\nS\nt\nr\ne\na\nm\n(\nI\nS\nt\nr\ne\na\nm\n)\n:\n\n\n \n \n \n \nd\ne\nf\n \nr\ne\na\nd\n(\ns\ne\nl\nf\n,\n \nm\na\nx\nb\ny\nt\ne\ns\n=\n-\n1\n)\n:\n\n\n \n \n \n \n \n \n \n \np\na\ns\ns\n\n\n\n\n \n \n \n \nd\ne\nf\n \nw\nr\ni\nt\ne\n(\ns\ne\nl\nf\n,\n \nd\na\nt\na\n)\n:\n\n\n \n \n \n \n \n \n \n \np\na\ns\ns\n\n"
      ]
    },
    {
      "cell_type": "markdown",
      "metadata": {},
      "source": [
        "\u62bd\u8c61\u57fa\u7c7b\u7684\u4e00\u4e2a\u4e3b\u8981\u7528\u9014\u662f\u5728\u4ee3\u7801\u4e2d\u68c0\u67e5\u67d0\u4e9b\u7c7b\u662f\u5426\u4e3a\u7279\u5b9a\u7c7b\u578b\uff0c\u5b9e\u73b0\u4e86\u7279\u5b9a\u63a5\u53e3\uff1a"
      ]
    },
    {
      "cell_type": "code",
      "execution_count": null,
      "metadata": {},
      "outputs": [],
      "source": [
        "d\ne\nf\n \ns\ne\nr\ni\na\nl\ni\nz\ne\n(\no\nb\nj\n,\n \ns\nt\nr\ne\na\nm\n)\n:\n\n\n \n \n \n \ni\nf\n \nn\no\nt\n \ni\ns\ni\nn\ns\nt\na\nn\nc\ne\n(\ns\nt\nr\ne\na\nm\n,\n \nI\nS\nt\nr\ne\na\nm\n)\n:\n\n\n \n \n \n \n \n \n \n \nr\na\ni\ns\ne\n \nT\ny\np\ne\nE\nr\nr\no\nr\n(\n'\nE\nx\np\ne\nc\nt\ne\nd\n \na\nn\n \nI\nS\nt\nr\ne\na\nm\n'\n)\n\n\n \n \n \n \np\na\ns\ns\n\n"
      ]
    },
    {
      "cell_type": "markdown",
      "metadata": {},
      "source": [
        "\u9664\u4e86\u7ee7\u627f\u8fd9\u79cd\u65b9\u5f0f\u5916\uff0c\u8fd8\u53ef\u4ee5\u901a\u8fc7\u6ce8\u518c\u65b9\u5f0f\u6765\u8ba9\u67d0\u4e2a\u7c7b\u5b9e\u73b0\u62bd\u8c61\u57fa\u7c7b\uff1a"
      ]
    },
    {
      "cell_type": "code",
      "execution_count": null,
      "metadata": {},
      "outputs": [],
      "source": [
        "i\nm\np\no\nr\nt\n \ni\no\n\n\n\n\n#\n \nR\ne\ng\ni\ns\nt\ne\nr\n \nt\nh\ne\n \nb\nu\ni\nl\nt\n-\ni\nn\n \nI\n/\nO\n \nc\nl\na\ns\ns\ne\ns\n \na\ns\n \ns\nu\np\np\no\nr\nt\ni\nn\ng\n \no\nu\nr\n \ni\nn\nt\ne\nr\nf\na\nc\ne\n\n\nI\nS\nt\nr\ne\na\nm\n.\nr\ne\ng\ni\ns\nt\ne\nr\n(\ni\no\n.\nI\nO\nB\na\ns\ne\n)\n\n\n\n\n#\n \nO\np\ne\nn\n \na\n \nn\no\nr\nm\na\nl\n \nf\ni\nl\ne\n \na\nn\nd\n \nt\ny\np\ne\n \nc\nh\ne\nc\nk\n\n\nf\n \n=\n \no\np\ne\nn\n(\n'\nf\no\no\n.\nt\nx\nt\n'\n)\n\n\ni\ns\ni\nn\ns\nt\na\nn\nc\ne\n(\nf\n,\n \nI\nS\nt\nr\ne\na\nm\n)\n \n#\n \nR\ne\nt\nu\nr\nn\ns\n \nT\nr\nu\ne\n\n"
      ]
    },
    {
      "cell_type": "markdown",
      "metadata": {},
      "source": [
        "@abstractmethod \u8fd8\u80fd\u6ce8\u89e3\u9759\u6001\u65b9\u6cd5\u3001\u7c7b\u65b9\u6cd5\u548c properties \u3002\n\u4f60\u53ea\u9700\u4fdd\u8bc1\u8fd9\u4e2a\u6ce8\u89e3\u7d27\u9760\u5728\u51fd\u6570\u5b9a\u4e49\u524d\u5373\u53ef\uff1a"
      ]
    },
    {
      "cell_type": "code",
      "execution_count": null,
      "metadata": {},
      "outputs": [],
      "source": [
        "c\nl\na\ns\ns\n \nA\n(\nm\ne\nt\na\nc\nl\na\ns\ns\n=\nA\nB\nC\nM\ne\nt\na\n)\n:\n\n\n \n \n \n \n@\np\nr\no\np\ne\nr\nt\ny\n\n\n \n \n \n \n@\na\nb\ns\nt\nr\na\nc\nt\nm\ne\nt\nh\no\nd\n\n\n \n \n \n \nd\ne\nf\n \nn\na\nm\ne\n(\ns\ne\nl\nf\n)\n:\n\n\n \n \n \n \n \n \n \n \np\na\ns\ns\n\n\n\n\n \n \n \n \n@\nn\na\nm\ne\n.\ns\ne\nt\nt\ne\nr\n\n\n \n \n \n \n@\na\nb\ns\nt\nr\na\nc\nt\nm\ne\nt\nh\no\nd\n\n\n \n \n \n \nd\ne\nf\n \nn\na\nm\ne\n(\ns\ne\nl\nf\n,\n \nv\na\nl\nu\ne\n)\n:\n\n\n \n \n \n \n \n \n \n \np\na\ns\ns\n\n\n\n\n \n \n \n \n@\nc\nl\na\ns\ns\nm\ne\nt\nh\no\nd\n\n\n \n \n \n \n@\na\nb\ns\nt\nr\na\nc\nt\nm\ne\nt\nh\no\nd\n\n\n \n \n \n \nd\ne\nf\n \nm\ne\nt\nh\no\nd\n1\n(\nc\nl\ns\n)\n:\n\n\n \n \n \n \n \n \n \n \np\na\ns\ns\n\n\n\n\n \n \n \n \n@\ns\nt\na\nt\ni\nc\nm\ne\nt\nh\no\nd\n\n\n \n \n \n \n@\na\nb\ns\nt\nr\na\nc\nt\nm\ne\nt\nh\no\nd\n\n\n \n \n \n \nd\ne\nf\n \nm\ne\nt\nh\no\nd\n2\n(\n)\n:\n\n\n \n \n \n \n \n \n \n \np\na\ns\ns\n\n"
      ]
    },
    {
      "cell_type": "markdown",
      "metadata": {},
      "source": [
        "### \u8ba8\u8bba\n"
      ]
    },
    {
      "cell_type": "markdown",
      "metadata": {},
      "source": [
        "\u6807\u51c6\u5e93\u4e2d\u6709\u5f88\u591a\u7528\u5230\u62bd\u8c61\u57fa\u7c7b\u7684\u5730\u65b9\u3002collections \u6a21\u5757\u5b9a\u4e49\u4e86\u5f88\u591a\u8ddf\u5bb9\u5668\u548c\u8fed\u4ee3\u5668(\u5e8f\u5217\u3001\u6620\u5c04\u3001\u96c6\u5408\u7b49)\u6709\u5173\u7684\u62bd\u8c61\u57fa\u7c7b\u3002\nnumbers \u5e93\u5b9a\u4e49\u4e86\u8ddf\u6570\u5b57\u5bf9\u8c61(\u6574\u6570\u3001\u6d6e\u70b9\u6570\u3001\u6709\u7406\u6570\u7b49)\u6709\u5173\u7684\u57fa\u7c7b\u3002io \u5e93\u5b9a\u4e49\u4e86\u5f88\u591a\u8ddfI/O\u64cd\u4f5c\u76f8\u5173\u7684\u57fa\u7c7b\u3002"
      ]
    },
    {
      "cell_type": "markdown",
      "metadata": {},
      "source": [
        "\u4f60\u53ef\u4ee5\u4f7f\u7528\u9884\u5b9a\u4e49\u7684\u62bd\u8c61\u7c7b\u6765\u6267\u884c\u66f4\u901a\u7528\u7684\u7c7b\u578b\u68c0\u67e5\uff0c\u4f8b\u5982\uff1a"
      ]
    },
    {
      "cell_type": "code",
      "execution_count": null,
      "metadata": {},
      "outputs": [],
      "source": [
        "i\nm\np\no\nr\nt\n \nc\no\nl\nl\ne\nc\nt\ni\no\nn\ns\n\n\n\n\n#\n \nC\nh\ne\nc\nk\n \ni\nf\n \nx\n \ni\ns\n \na\n \ns\ne\nq\nu\ne\nn\nc\ne\n\n\ni\nf\n \ni\ns\ni\nn\ns\nt\na\nn\nc\ne\n(\nx\n,\n \nc\no\nl\nl\ne\nc\nt\ni\no\nn\ns\n.\nS\ne\nq\nu\ne\nn\nc\ne\n)\n:\n\n\n.\n.\n.\n\n\n\n\n#\n \nC\nh\ne\nc\nk\n \ni\nf\n \nx\n \ni\ns\n \ni\nt\ne\nr\na\nb\nl\ne\n\n\ni\nf\n \ni\ns\ni\nn\ns\nt\na\nn\nc\ne\n(\nx\n,\n \nc\no\nl\nl\ne\nc\nt\ni\no\nn\ns\n.\nI\nt\ne\nr\na\nb\nl\ne\n)\n:\n\n\n.\n.\n.\n\n\n\n\n#\n \nC\nh\ne\nc\nk\n \ni\nf\n \nx\n \nh\na\ns\n \na\n \ns\ni\nz\ne\n\n\ni\nf\n \ni\ns\ni\nn\ns\nt\na\nn\nc\ne\n(\nx\n,\n \nc\no\nl\nl\ne\nc\nt\ni\no\nn\ns\n.\nS\ni\nz\ne\nd\n)\n:\n\n\n.\n.\n.\n\n\n\n\n#\n \nC\nh\ne\nc\nk\n \ni\nf\n \nx\n \ni\ns\n \na\n \nm\na\np\np\ni\nn\ng\n\n\ni\nf\n \ni\ns\ni\nn\ns\nt\na\nn\nc\ne\n(\nx\n,\n \nc\no\nl\nl\ne\nc\nt\ni\no\nn\ns\n.\nM\na\np\np\ni\nn\ng\n)\n:\n\n"
      ]
    },
    {
      "cell_type": "markdown",
      "metadata": {},
      "source": [
        "\u5c3d\u7ba1ABCs\u53ef\u4ee5\u8ba9\u6211\u4eec\u5f88\u65b9\u4fbf\u7684\u505a\u7c7b\u578b\u68c0\u67e5\uff0c\u4f46\u662f\u6211\u4eec\u5728\u4ee3\u7801\u4e2d\u6700\u597d\u4e0d\u8981\u8fc7\u591a\u7684\u4f7f\u7528\u5b83\u3002\n\u56e0\u4e3aPython\u7684\u672c\u8d28\u662f\u4e00\u95e8\u52a8\u6001\u7f16\u7a0b\u8bed\u8a00\uff0c\u5176\u76ee\u7684\u5c31\u662f\u7ed9\u4f60\u66f4\u591a\u7075\u6d3b\u6027\uff0c\n\u5f3a\u5236\u7c7b\u578b\u68c0\u67e5\u6216\u8ba9\u4f60\u4ee3\u7801\u53d8\u5f97\u66f4\u590d\u6742\uff0c\u8fd9\u6837\u505a\u65e0\u5f02\u4e8e\u820d\u672c\u6c42\u672b\u3002"
      ]
    },
    {
      "cell_type": "markdown",
      "metadata": {},
      "source": [
        "## 8.13 \u5b9e\u73b0\u6570\u636e\u6a21\u578b\u7684\u7c7b\u578b\u7ea6\u675f\n"
      ]
    },
    {
      "cell_type": "markdown",
      "metadata": {},
      "source": [
        "### \u95ee\u9898\n"
      ]
    },
    {
      "cell_type": "markdown",
      "metadata": {},
      "source": [
        "\u4f60\u60f3\u5b9a\u4e49\u67d0\u4e9b\u5728\u5c5e\u6027\u8d4b\u503c\u4e0a\u9762\u6709\u9650\u5236\u7684\u6570\u636e\u7ed3\u6784\u3002"
      ]
    },
    {
      "cell_type": "markdown",
      "metadata": {},
      "source": [
        "### \u89e3\u51b3\u65b9\u6848\n"
      ]
    },
    {
      "cell_type": "markdown",
      "metadata": {},
      "source": [
        "\u5728\u8fd9\u4e2a\u95ee\u9898\u4e2d\uff0c\u4f60\u9700\u8981\u5728\u5bf9\u67d0\u4e9b\u5b9e\u4f8b\u5c5e\u6027\u8d4b\u503c\u65f6\u8fdb\u884c\u68c0\u67e5\u3002\n\u6240\u4ee5\u4f60\u8981\u81ea\u5b9a\u4e49\u5c5e\u6027\u8d4b\u503c\u51fd\u6570\uff0c\u8fd9\u79cd\u60c5\u51b5\u4e0b\u6700\u597d\u4f7f\u7528\u63cf\u8ff0\u5668\u3002"
      ]
    },
    {
      "cell_type": "markdown",
      "metadata": {},
      "source": [
        "\u4e0b\u9762\u7684\u4ee3\u7801\u4f7f\u7528\u63cf\u8ff0\u5668\u5b9e\u73b0\u4e86\u4e00\u4e2a\u7cfb\u7edf\u7c7b\u578b\u548c\u8d4b\u503c\u9a8c\u8bc1\u6846\u67b6\uff1a"
      ]
    },
    {
      "cell_type": "code",
      "execution_count": null,
      "metadata": {},
      "outputs": [],
      "source": [
        "#\n \nB\na\ns\ne\n \nc\nl\na\ns\ns\n.\n \nU\ns\ne\ns\n \na\n \nd\ne\ns\nc\nr\ni\np\nt\no\nr\n \nt\no\n \ns\ne\nt\n \na\n \nv\na\nl\nu\ne\n\n\nc\nl\na\ns\ns\n \nD\ne\ns\nc\nr\ni\np\nt\no\nr\n:\n\n\n \n \n \n \nd\ne\nf\n \n_\n_\ni\nn\ni\nt\n_\n_\n(\ns\ne\nl\nf\n,\n \nn\na\nm\ne\n=\nN\no\nn\ne\n,\n \n*\n*\no\np\nt\ns\n)\n:\n\n\n \n \n \n \n \n \n \n \ns\ne\nl\nf\n.\nn\na\nm\ne\n \n=\n \nn\na\nm\ne\n\n\n \n \n \n \n \n \n \n \nf\no\nr\n \nk\ne\ny\n,\n \nv\na\nl\nu\ne\n \ni\nn\n \no\np\nt\ns\n.\ni\nt\ne\nm\ns\n(\n)\n:\n\n\n \n \n \n \n \n \n \n \n \n \n \n \ns\ne\nt\na\nt\nt\nr\n(\ns\ne\nl\nf\n,\n \nk\ne\ny\n,\n \nv\na\nl\nu\ne\n)\n\n\n\n\n \n \n \n \nd\ne\nf\n \n_\n_\ns\ne\nt\n_\n_\n(\ns\ne\nl\nf\n,\n \ni\nn\ns\nt\na\nn\nc\ne\n,\n \nv\na\nl\nu\ne\n)\n:\n\n\n \n \n \n \n \n \n \n \ni\nn\ns\nt\na\nn\nc\ne\n.\n_\n_\nd\ni\nc\nt\n_\n_\n[\ns\ne\nl\nf\n.\nn\na\nm\ne\n]\n \n=\n \nv\na\nl\nu\ne\n\n\n\n\n\n\n#\n \nD\ne\ns\nc\nr\ni\np\nt\no\nr\n \nf\no\nr\n \ne\nn\nf\no\nr\nc\ni\nn\ng\n \nt\ny\np\ne\ns\n\n\nc\nl\na\ns\ns\n \nT\ny\np\ne\nd\n(\nD\ne\ns\nc\nr\ni\np\nt\no\nr\n)\n:\n\n\n \n \n \n \ne\nx\np\ne\nc\nt\ne\nd\n_\nt\ny\np\ne\n \n=\n \nt\ny\np\ne\n(\nN\no\nn\ne\n)\n\n\n\n\n \n \n \n \nd\ne\nf\n \n_\n_\ns\ne\nt\n_\n_\n(\ns\ne\nl\nf\n,\n \ni\nn\ns\nt\na\nn\nc\ne\n,\n \nv\na\nl\nu\ne\n)\n:\n\n\n \n \n \n \n \n \n \n \ni\nf\n \nn\no\nt\n \ni\ns\ni\nn\ns\nt\na\nn\nc\ne\n(\nv\na\nl\nu\ne\n,\n \ns\ne\nl\nf\n.\ne\nx\np\ne\nc\nt\ne\nd\n_\nt\ny\np\ne\n)\n:\n\n\n \n \n \n \n \n \n \n \n \n \n \n \nr\na\ni\ns\ne\n \nT\ny\np\ne\nE\nr\nr\no\nr\n(\n'\ne\nx\np\ne\nc\nt\ne\nd\n \n'\n \n+\n \ns\nt\nr\n(\ns\ne\nl\nf\n.\ne\nx\np\ne\nc\nt\ne\nd\n_\nt\ny\np\ne\n)\n)\n\n\n \n \n \n \n \n \n \n \ns\nu\np\ne\nr\n(\n)\n.\n_\n_\ns\ne\nt\n_\n_\n(\ni\nn\ns\nt\na\nn\nc\ne\n,\n \nv\na\nl\nu\ne\n)\n\n\n\n\n\n\n#\n \nD\ne\ns\nc\nr\ni\np\nt\no\nr\n \nf\no\nr\n \ne\nn\nf\no\nr\nc\ni\nn\ng\n \nv\na\nl\nu\ne\ns\n\n\nc\nl\na\ns\ns\n \nU\nn\ns\ni\ng\nn\ne\nd\n(\nD\ne\ns\nc\nr\ni\np\nt\no\nr\n)\n:\n\n\n \n \n \n \nd\ne\nf\n \n_\n_\ns\ne\nt\n_\n_\n(\ns\ne\nl\nf\n,\n \ni\nn\ns\nt\na\nn\nc\ne\n,\n \nv\na\nl\nu\ne\n)\n:\n\n\n \n \n \n \n \n \n \n \ni\nf\n \nv\na\nl\nu\ne\n \n<\n \n0\n:\n\n\n \n \n \n \n \n \n \n \n \n \n \n \nr\na\ni\ns\ne\n \nV\na\nl\nu\ne\nE\nr\nr\no\nr\n(\n'\nE\nx\np\ne\nc\nt\ne\nd\n \n>\n=\n \n0\n'\n)\n\n\n \n \n \n \n \n \n \n \ns\nu\np\ne\nr\n(\n)\n.\n_\n_\ns\ne\nt\n_\n_\n(\ni\nn\ns\nt\na\nn\nc\ne\n,\n \nv\na\nl\nu\ne\n)\n\n\n\n\n\n\nc\nl\na\ns\ns\n \nM\na\nx\nS\ni\nz\ne\nd\n(\nD\ne\ns\nc\nr\ni\np\nt\no\nr\n)\n:\n\n\n \n \n \n \nd\ne\nf\n \n_\n_\ni\nn\ni\nt\n_\n_\n(\ns\ne\nl\nf\n,\n \nn\na\nm\ne\n=\nN\no\nn\ne\n,\n \n*\n*\no\np\nt\ns\n)\n:\n\n\n \n \n \n \n \n \n \n \ni\nf\n \n'\ns\ni\nz\ne\n'\n \nn\no\nt\n \ni\nn\n \no\np\nt\ns\n:\n\n\n \n \n \n \n \n \n \n \n \n \n \n \nr\na\ni\ns\ne\n \nT\ny\np\ne\nE\nr\nr\no\nr\n(\n'\nm\ni\ns\ns\ni\nn\ng\n \ns\ni\nz\ne\n \no\np\nt\ni\no\nn\n'\n)\n\n\n \n \n \n \n \n \n \n \ns\nu\np\ne\nr\n(\n)\n.\n_\n_\ni\nn\ni\nt\n_\n_\n(\nn\na\nm\ne\n,\n \n*\n*\no\np\nt\ns\n)\n\n\n\n\n \n \n \n \nd\ne\nf\n \n_\n_\ns\ne\nt\n_\n_\n(\ns\ne\nl\nf\n,\n \ni\nn\ns\nt\na\nn\nc\ne\n,\n \nv\na\nl\nu\ne\n)\n:\n\n\n \n \n \n \n \n \n \n \ni\nf\n \nl\ne\nn\n(\nv\na\nl\nu\ne\n)\n \n>\n=\n \ns\ne\nl\nf\n.\ns\ni\nz\ne\n:\n\n\n \n \n \n \n \n \n \n \n \n \n \n \nr\na\ni\ns\ne\n \nV\na\nl\nu\ne\nE\nr\nr\no\nr\n(\n'\ns\ni\nz\ne\n \nm\nu\ns\nt\n \nb\ne\n \n<\n \n'\n \n+\n \ns\nt\nr\n(\ns\ne\nl\nf\n.\ns\ni\nz\ne\n)\n)\n\n\n \n \n \n \n \n \n \n \ns\nu\np\ne\nr\n(\n)\n.\n_\n_\ns\ne\nt\n_\n_\n(\ni\nn\ns\nt\na\nn\nc\ne\n,\n \nv\na\nl\nu\ne\n)\n\n"
      ]
    },
    {
      "cell_type": "markdown",
      "metadata": {},
      "source": [
        "\u8fd9\u4e9b\u7c7b\u5c31\u662f\u4f60\u8981\u521b\u5efa\u7684\u6570\u636e\u6a21\u578b\u6216\u7c7b\u578b\u7cfb\u7edf\u7684\u57fa\u7840\u6784\u5efa\u6a21\u5757\u3002\n\u4e0b\u9762\u5c31\u662f\u6211\u4eec\u5b9e\u9645\u5b9a\u4e49\u7684\u5404\u79cd\u4e0d\u540c\u7684\u6570\u636e\u7c7b\u578b\uff1a"
      ]
    },
    {
      "cell_type": "code",
      "execution_count": null,
      "metadata": {},
      "outputs": [],
      "source": [
        "c\nl\na\ns\ns\n \nI\nn\nt\ne\ng\ne\nr\n(\nT\ny\np\ne\nd\n)\n:\n\n\n \n \n \n \ne\nx\np\ne\nc\nt\ne\nd\n_\nt\ny\np\ne\n \n=\n \ni\nn\nt\n\n\n\n\nc\nl\na\ns\ns\n \nU\nn\ns\ni\ng\nn\ne\nd\nI\nn\nt\ne\ng\ne\nr\n(\nI\nn\nt\ne\ng\ne\nr\n,\n \nU\nn\ns\ni\ng\nn\ne\nd\n)\n:\n\n\n \n \n \n \np\na\ns\ns\n\n\n\n\nc\nl\na\ns\ns\n \nF\nl\no\na\nt\n(\nT\ny\np\ne\nd\n)\n:\n\n\n \n \n \n \ne\nx\np\ne\nc\nt\ne\nd\n_\nt\ny\np\ne\n \n=\n \nf\nl\no\na\nt\n\n\n\n\nc\nl\na\ns\ns\n \nU\nn\ns\ni\ng\nn\ne\nd\nF\nl\no\na\nt\n(\nF\nl\no\na\nt\n,\n \nU\nn\ns\ni\ng\nn\ne\nd\n)\n:\n\n\n \n \n \n \np\na\ns\ns\n\n\n\n\nc\nl\na\ns\ns\n \nS\nt\nr\ni\nn\ng\n(\nT\ny\np\ne\nd\n)\n:\n\n\n \n \n \n \ne\nx\np\ne\nc\nt\ne\nd\n_\nt\ny\np\ne\n \n=\n \ns\nt\nr\n\n\n\n\nc\nl\na\ns\ns\n \nS\ni\nz\ne\nd\nS\nt\nr\ni\nn\ng\n(\nS\nt\nr\ni\nn\ng\n,\n \nM\na\nx\nS\ni\nz\ne\nd\n)\n:\n\n\n \n \n \n \np\na\ns\ns\n\n"
      ]
    },
    {
      "cell_type": "markdown",
      "metadata": {},
      "source": [
        "\u7136\u540e\u4f7f\u7528\u8fd9\u4e9b\u81ea\u5b9a\u4e49\u6570\u636e\u7c7b\u578b\uff0c\u6211\u4eec\u5b9a\u4e49\u4e00\u4e2a\u7c7b\uff1a"
      ]
    },
    {
      "cell_type": "code",
      "execution_count": null,
      "metadata": {},
      "outputs": [],
      "source": [
        "c\nl\na\ns\ns\n \nS\nt\no\nc\nk\n:\n\n\n \n \n \n \n#\n \nS\np\ne\nc\ni\nf\ny\n \nc\no\nn\ns\nt\nr\na\ni\nn\nt\ns\n\n\n \n \n \n \nn\na\nm\ne\n \n=\n \nS\ni\nz\ne\nd\nS\nt\nr\ni\nn\ng\n(\n'\nn\na\nm\ne\n'\n,\n \ns\ni\nz\ne\n=\n8\n)\n\n\n \n \n \n \ns\nh\na\nr\ne\ns\n \n=\n \nU\nn\ns\ni\ng\nn\ne\nd\nI\nn\nt\ne\ng\ne\nr\n(\n'\ns\nh\na\nr\ne\ns\n'\n)\n\n\n \n \n \n \np\nr\ni\nc\ne\n \n=\n \nU\nn\ns\ni\ng\nn\ne\nd\nF\nl\no\na\nt\n(\n'\np\nr\ni\nc\ne\n'\n)\n\n\n\n\n \n \n \n \nd\ne\nf\n \n_\n_\ni\nn\ni\nt\n_\n_\n(\ns\ne\nl\nf\n,\n \nn\na\nm\ne\n,\n \ns\nh\na\nr\ne\ns\n,\n \np\nr\ni\nc\ne\n)\n:\n\n\n \n \n \n \n \n \n \n \ns\ne\nl\nf\n.\nn\na\nm\ne\n \n=\n \nn\na\nm\ne\n\n\n \n \n \n \n \n \n \n \ns\ne\nl\nf\n.\ns\nh\na\nr\ne\ns\n \n=\n \ns\nh\na\nr\ne\ns\n\n\n \n \n \n \n \n \n \n \ns\ne\nl\nf\n.\np\nr\ni\nc\ne\n \n=\n \np\nr\ni\nc\ne\n\n"
      ]
    },
    {
      "cell_type": "markdown",
      "metadata": {},
      "source": [
        "\u7136\u540e\u6d4b\u8bd5\u8fd9\u4e2a\u7c7b\u7684\u5c5e\u6027\u8d4b\u503c\u7ea6\u675f\uff0c\u53ef\u53d1\u73b0\u5bf9\u67d0\u4e9b\u5c5e\u6027\u7684\u8d4b\u503c\u8fdd\u6cd5\u4e86\u7ea6\u675f\u662f\u4e0d\u5408\u6cd5\u7684\uff1a"
      ]
    },
    {
      "cell_type": "code",
      "execution_count": null,
      "metadata": {},
      "outputs": [],
      "source": [
        "s.name"
      ]
    },
    {
      "cell_type": "code",
      "execution_count": null,
      "metadata": {},
      "outputs": [],
      "source": [
        "s.shares = 75\ns.shares = -10"
      ]
    },
    {
      "cell_type": "code",
      "execution_count": null,
      "metadata": {},
      "outputs": [],
      "source": [
        "s.price = 'a lot'"
      ]
    },
    {
      "cell_type": "code",
      "execution_count": null,
      "metadata": {},
      "outputs": [],
      "source": [
        "s.name = 'ABRACADABRA'"
      ]
    },
    {
      "cell_type": "markdown",
      "metadata": {},
      "source": [
        "\u8fd8\u6709\u4e00\u4e9b\u6280\u672f\u53ef\u4ee5\u7b80\u5316\u4e0a\u9762\u7684\u4ee3\u7801\uff0c\u5176\u4e2d\u4e00\u79cd\u662f\u4f7f\u7528\u7c7b\u88c5\u9970\u5668\uff1a"
      ]
    },
    {
      "cell_type": "code",
      "execution_count": null,
      "metadata": {},
      "outputs": [],
      "source": [
        "#\n \nC\nl\na\ns\ns\n \nd\ne\nc\no\nr\na\nt\no\nr\n \nt\no\n \na\np\np\nl\ny\n \nc\no\nn\ns\nt\nr\na\ni\nn\nt\ns\n\n\nd\ne\nf\n \nc\nh\ne\nc\nk\n_\na\nt\nt\nr\ni\nb\nu\nt\ne\ns\n(\n*\n*\nk\nw\na\nr\ng\ns\n)\n:\n\n\n \n \n \n \nd\ne\nf\n \nd\ne\nc\no\nr\na\nt\ne\n(\nc\nl\ns\n)\n:\n\n\n \n \n \n \n \n \n \n \nf\no\nr\n \nk\ne\ny\n,\n \nv\na\nl\nu\ne\n \ni\nn\n \nk\nw\na\nr\ng\ns\n.\ni\nt\ne\nm\ns\n(\n)\n:\n\n\n \n \n \n \n \n \n \n \n \n \n \n \ni\nf\n \ni\ns\ni\nn\ns\nt\na\nn\nc\ne\n(\nv\na\nl\nu\ne\n,\n \nD\ne\ns\nc\nr\ni\np\nt\no\nr\n)\n:\n\n\n \n \n \n \n \n \n \n \n \n \n \n \n \n \n \n \nv\na\nl\nu\ne\n.\nn\na\nm\ne\n \n=\n \nk\ne\ny\n\n\n \n \n \n \n \n \n \n \n \n \n \n \n \n \n \n \ns\ne\nt\na\nt\nt\nr\n(\nc\nl\ns\n,\n \nk\ne\ny\n,\n \nv\na\nl\nu\ne\n)\n\n\n \n \n \n \n \n \n \n \n \n \n \n \ne\nl\ns\ne\n:\n\n\n \n \n \n \n \n \n \n \n \n \n \n \n \n \n \n \ns\ne\nt\na\nt\nt\nr\n(\nc\nl\ns\n,\n \nk\ne\ny\n,\n \nv\na\nl\nu\ne\n(\nk\ne\ny\n)\n)\n\n\n \n \n \n \n \n \n \n \nr\ne\nt\nu\nr\nn\n \nc\nl\ns\n\n\n\n\n \n \n \n \nr\ne\nt\nu\nr\nn\n \nd\ne\nc\no\nr\na\nt\ne\n\n\n\n\n#\n \nE\nx\na\nm\np\nl\ne\n\n\n@\nc\nh\ne\nc\nk\n_\na\nt\nt\nr\ni\nb\nu\nt\ne\ns\n(\nn\na\nm\ne\n=\nS\ni\nz\ne\nd\nS\nt\nr\ni\nn\ng\n(\ns\ni\nz\ne\n=\n8\n)\n,\n\n\n \n \n \n \n \n \n \n \n \n \n \n \n \n \n \n \n \n \ns\nh\na\nr\ne\ns\n=\nU\nn\ns\ni\ng\nn\ne\nd\nI\nn\nt\ne\ng\ne\nr\n,\n\n\n \n \n \n \n \n \n \n \n \n \n \n \n \n \n \n \n \n \np\nr\ni\nc\ne\n=\nU\nn\ns\ni\ng\nn\ne\nd\nF\nl\no\na\nt\n)\n\n\nc\nl\na\ns\ns\n \nS\nt\no\nc\nk\n:\n\n\n \n \n \n \nd\ne\nf\n \n_\n_\ni\nn\ni\nt\n_\n_\n(\ns\ne\nl\nf\n,\n \nn\na\nm\ne\n,\n \ns\nh\na\nr\ne\ns\n,\n \np\nr\ni\nc\ne\n)\n:\n\n\n \n \n \n \n \n \n \n \ns\ne\nl\nf\n.\nn\na\nm\ne\n \n=\n \nn\na\nm\ne\n\n\n \n \n \n \n \n \n \n \ns\ne\nl\nf\n.\ns\nh\na\nr\ne\ns\n \n=\n \ns\nh\na\nr\ne\ns\n\n\n \n \n \n \n \n \n \n \ns\ne\nl\nf\n.\np\nr\ni\nc\ne\n \n=\n \np\nr\ni\nc\ne\n\n"
      ]
    },
    {
      "cell_type": "markdown",
      "metadata": {},
      "source": [
        "\u53e6\u5916\u4e00\u79cd\u65b9\u5f0f\u662f\u4f7f\u7528\u5143\u7c7b\uff1a"
      ]
    },
    {
      "cell_type": "code",
      "execution_count": null,
      "metadata": {},
      "outputs": [],
      "source": [
        "#\n \nA\n \nm\ne\nt\na\nc\nl\na\ns\ns\n \nt\nh\na\nt\n \na\np\np\nl\ni\ne\ns\n \nc\nh\ne\nc\nk\ni\nn\ng\n\n\nc\nl\na\ns\ns\n \nc\nh\ne\nc\nk\ne\nd\nm\ne\nt\na\n(\nt\ny\np\ne\n)\n:\n\n\n \n \n \n \nd\ne\nf\n \n_\n_\nn\ne\nw\n_\n_\n(\nc\nl\ns\n,\n \nc\nl\ns\nn\na\nm\ne\n,\n \nb\na\ns\ne\ns\n,\n \nm\ne\nt\nh\no\nd\ns\n)\n:\n\n\n \n \n \n \n \n \n \n \n#\n \nA\nt\nt\na\nc\nh\n \na\nt\nt\nr\ni\nb\nu\nt\ne\n \nn\na\nm\ne\ns\n \nt\no\n \nt\nh\ne\n \nd\ne\ns\nc\nr\ni\np\nt\no\nr\ns\n\n\n \n \n \n \n \n \n \n \nf\no\nr\n \nk\ne\ny\n,\n \nv\na\nl\nu\ne\n \ni\nn\n \nm\ne\nt\nh\no\nd\ns\n.\ni\nt\ne\nm\ns\n(\n)\n:\n\n\n \n \n \n \n \n \n \n \n \n \n \n \ni\nf\n \ni\ns\ni\nn\ns\nt\na\nn\nc\ne\n(\nv\na\nl\nu\ne\n,\n \nD\ne\ns\nc\nr\ni\np\nt\no\nr\n)\n:\n\n\n \n \n \n \n \n \n \n \n \n \n \n \n \n \n \n \nv\na\nl\nu\ne\n.\nn\na\nm\ne\n \n=\n \nk\ne\ny\n\n\n \n \n \n \n \n \n \n \nr\ne\nt\nu\nr\nn\n \nt\ny\np\ne\n.\n_\n_\nn\ne\nw\n_\n_\n(\nc\nl\ns\n,\n \nc\nl\ns\nn\na\nm\ne\n,\n \nb\na\ns\ne\ns\n,\n \nm\ne\nt\nh\no\nd\ns\n)\n\n\n\n\n#\n \nE\nx\na\nm\np\nl\ne\n\n\nc\nl\na\ns\ns\n \nS\nt\no\nc\nk\n2\n(\nm\ne\nt\na\nc\nl\na\ns\ns\n=\nc\nh\ne\nc\nk\ne\nd\nm\ne\nt\na\n)\n:\n\n\n \n \n \n \nn\na\nm\ne\n \n=\n \nS\ni\nz\ne\nd\nS\nt\nr\ni\nn\ng\n(\ns\ni\nz\ne\n=\n8\n)\n\n\n \n \n \n \ns\nh\na\nr\ne\ns\n \n=\n \nU\nn\ns\ni\ng\nn\ne\nd\nI\nn\nt\ne\ng\ne\nr\n(\n)\n\n\n \n \n \n \np\nr\ni\nc\ne\n \n=\n \nU\nn\ns\ni\ng\nn\ne\nd\nF\nl\no\na\nt\n(\n)\n\n\n\n\n \n \n \n \nd\ne\nf\n \n_\n_\ni\nn\ni\nt\n_\n_\n(\ns\ne\nl\nf\n,\n \nn\na\nm\ne\n,\n \ns\nh\na\nr\ne\ns\n,\n \np\nr\ni\nc\ne\n)\n:\n\n\n \n \n \n \n \n \n \n \ns\ne\nl\nf\n.\nn\na\nm\ne\n \n=\n \nn\na\nm\ne\n\n\n \n \n \n \n \n \n \n \ns\ne\nl\nf\n.\ns\nh\na\nr\ne\ns\n \n=\n \ns\nh\na\nr\ne\ns\n\n\n \n \n \n \n \n \n \n \ns\ne\nl\nf\n.\np\nr\ni\nc\ne\n \n=\n \np\nr\ni\nc\ne\n\n"
      ]
    },
    {
      "cell_type": "markdown",
      "metadata": {},
      "source": [
        "### \u8ba8\u8bba\n"
      ]
    },
    {
      "cell_type": "markdown",
      "metadata": {},
      "source": [
        "\u672c\u8282\u4f7f\u7528\u4e86\u5f88\u591a\u9ad8\u7ea7\u6280\u672f\uff0c\u5305\u62ec\u63cf\u8ff0\u5668\u3001\u6df7\u5165\u7c7b\u3001super() \u7684\u4f7f\u7528\u3001\u7c7b\u88c5\u9970\u5668\u548c\u5143\u7c7b\u3002\n\u4e0d\u53ef\u80fd\u5728\u8fd9\u91cc\u4e00\u4e00\u8be6\u7ec6\u5c55\u5f00\u6765\u8bb2\uff0c\u4f46\u662f\u53ef\u4ee5\u57288.9\u30018.18\u30019.19\u5c0f\u8282\u627e\u5230\u66f4\u591a\u4f8b\u5b50\u3002\n\u4f46\u662f\uff0c\u6211\u5728\u8fd9\u91cc\u8fd8\u662f\u8981\u63d0\u4e00\u4e0b\u51e0\u4e2a\u9700\u8981\u6ce8\u610f\u7684\u70b9\u3002"
      ]
    },
    {
      "cell_type": "markdown",
      "metadata": {},
      "source": [
        "\u9996\u5148\uff0c\u5728 Descriptor \u57fa\u7c7b\u4e2d\u4f60\u4f1a\u770b\u5230\u6709\u4e2a __set__() \u65b9\u6cd5\uff0c\u5374\u6ca1\u6709\u76f8\u5e94\u7684 __get__() \u65b9\u6cd5\u3002\n\u5982\u679c\u4e00\u4e2a\u63cf\u8ff0\u4ec5\u4ec5\u662f\u4ece\u5e95\u5c42\u5b9e\u4f8b\u5b57\u5178\u4e2d\u83b7\u53d6\u67d0\u4e2a\u5c5e\u6027\u503c\u7684\u8bdd\uff0c\u90a3\u4e48\u6ca1\u5fc5\u8981\u53bb\u5b9a\u4e49 __get__() \u65b9\u6cd5\u3002"
      ]
    },
    {
      "cell_type": "markdown",
      "metadata": {},
      "source": [
        "\u6240\u6709\u63cf\u8ff0\u5668\u7c7b\u90fd\u662f\u57fa\u4e8e\u6df7\u5165\u7c7b\u6765\u5b9e\u73b0\u7684\u3002\u6bd4\u5982 Unsigned \u548c MaxSized \u8981\u8ddf\u5176\u4ed6\u7ee7\u627f\u81ea Typed \u7c7b\u6df7\u5165\u3002\n\u8fd9\u91cc\u5229\u7528\u591a\u7ee7\u627f\u6765\u5b9e\u73b0\u76f8\u5e94\u7684\u529f\u80fd\u3002"
      ]
    },
    {
      "cell_type": "markdown",
      "metadata": {},
      "source": [
        "\u6df7\u5165\u7c7b\u7684\u4e00\u4e2a\u6bd4\u8f83\u96be\u7406\u89e3\u7684\u5730\u65b9\u662f\uff0c\u8c03\u7528 super() \u51fd\u6570\u65f6\uff0c\u4f60\u5e76\u4e0d\u77e5\u9053\u7a76\u7adf\u8981\u8c03\u7528\u54ea\u4e2a\u5177\u4f53\u7c7b\u3002\n\u4f60\u9700\u8981\u8ddf\u5176\u4ed6\u7c7b\u7ed3\u5408\u540e\u624d\u80fd\u6b63\u786e\u7684\u4f7f\u7528\uff0c\u4e5f\u5c31\u662f\u5fc5\u987b\u5408\u4f5c\u624d\u80fd\u4ea7\u751f\u6548\u679c\u3002"
      ]
    },
    {
      "cell_type": "markdown",
      "metadata": {},
      "source": [
        "\u4f7f\u7528\u7c7b\u88c5\u9970\u5668\u548c\u5143\u7c7b\u901a\u5e38\u53ef\u4ee5\u7b80\u5316\u4ee3\u7801\u3002\u4e0a\u9762\u4e24\u4e2a\u4f8b\u5b50\u4e2d\u4f60\u4f1a\u53d1\u73b0\u4f60\u53ea\u9700\u8981\u8f93\u5165\u4e00\u6b21\u5c5e\u6027\u540d\u5373\u53ef\u4e86\u3002"
      ]
    },
    {
      "cell_type": "code",
      "execution_count": null,
      "metadata": {},
      "outputs": [],
      "source": [
        "#\n \nN\no\nr\nm\na\nl\n\n\nc\nl\na\ns\ns\n \nP\no\ni\nn\nt\n:\n\n\n \n \n \n \nx\n \n=\n \nI\nn\nt\ne\ng\ne\nr\n(\n'\nx\n'\n)\n\n\n \n \n \n \ny\n \n=\n \nI\nn\nt\ne\ng\ne\nr\n(\n'\ny\n'\n)\n\n\n\n\n#\n \nM\ne\nt\na\nc\nl\na\ns\ns\n\n\nc\nl\na\ns\ns\n \nP\no\ni\nn\nt\n(\nm\ne\nt\na\nc\nl\na\ns\ns\n=\nc\nh\ne\nc\nk\ne\nd\nm\ne\nt\na\n)\n:\n\n\n \n \n \n \nx\n \n=\n \nI\nn\nt\ne\ng\ne\nr\n(\n)\n\n\n \n \n \n \ny\n \n=\n \nI\nn\nt\ne\ng\ne\nr\n(\n)\n\n"
      ]
    },
    {
      "cell_type": "markdown",
      "metadata": {},
      "source": [
        "\u6240\u6709\u65b9\u6cd5\u4e2d\uff0c\u7c7b\u88c5\u9970\u5668\u65b9\u6848\u5e94\u8be5\u662f\u6700\u7075\u6d3b\u548c\u6700\u9ad8\u660e\u7684\u3002\n\u9996\u5148\uff0c\u5b83\u5e76\u4e0d\u4f9d\u8d56\u4efb\u4f55\u5176\u4ed6\u65b0\u7684\u6280\u672f\uff0c\u6bd4\u5982\u5143\u7c7b\u3002\u5176\u6b21\uff0c\u88c5\u9970\u5668\u53ef\u4ee5\u5f88\u5bb9\u6613\u7684\u6dfb\u52a0\u6216\u5220\u9664\u3002"
      ]
    },
    {
      "cell_type": "markdown",
      "metadata": {},
      "source": [
        "\u6700\u540e\uff0c\u88c5\u9970\u5668\u8fd8\u80fd\u4f5c\u4e3a\u6df7\u5165\u7c7b\u7684\u66ff\u4ee3\u6280\u672f\u6765\u5b9e\u73b0\u540c\u6837\u7684\u6548\u679c;"
      ]
    },
    {
      "cell_type": "code",
      "execution_count": null,
      "metadata": {},
      "outputs": [],
      "source": [
        "#\n \nD\ne\nc\no\nr\na\nt\no\nr\n \nf\no\nr\n \na\np\np\nl\ny\ni\nn\ng\n \nt\ny\np\ne\n \nc\nh\ne\nc\nk\ni\nn\ng\n\n\nd\ne\nf\n \nT\ny\np\ne\nd\n(\ne\nx\np\ne\nc\nt\ne\nd\n_\nt\ny\np\ne\n,\n \nc\nl\ns\n=\nN\no\nn\ne\n)\n:\n\n\n \n \n \n \ni\nf\n \nc\nl\ns\n \ni\ns\n \nN\no\nn\ne\n:\n\n\n \n \n \n \n \n \n \n \nr\ne\nt\nu\nr\nn\n \nl\na\nm\nb\nd\na\n \nc\nl\ns\n:\n \nT\ny\np\ne\nd\n(\ne\nx\np\ne\nc\nt\ne\nd\n_\nt\ny\np\ne\n,\n \nc\nl\ns\n)\n\n\n \n \n \n \ns\nu\np\ne\nr\n_\ns\ne\nt\n \n=\n \nc\nl\ns\n.\n_\n_\ns\ne\nt\n_\n_\n\n\n\n\n \n \n \n \nd\ne\nf\n \n_\n_\ns\ne\nt\n_\n_\n(\ns\ne\nl\nf\n,\n \ni\nn\ns\nt\na\nn\nc\ne\n,\n \nv\na\nl\nu\ne\n)\n:\n\n\n \n \n \n \n \n \n \n \ni\nf\n \nn\no\nt\n \ni\ns\ni\nn\ns\nt\na\nn\nc\ne\n(\nv\na\nl\nu\ne\n,\n \ne\nx\np\ne\nc\nt\ne\nd\n_\nt\ny\np\ne\n)\n:\n\n\n \n \n \n \n \n \n \n \n \n \n \n \nr\na\ni\ns\ne\n \nT\ny\np\ne\nE\nr\nr\no\nr\n(\n'\ne\nx\np\ne\nc\nt\ne\nd\n \n'\n \n+\n \ns\nt\nr\n(\ne\nx\np\ne\nc\nt\ne\nd\n_\nt\ny\np\ne\n)\n)\n\n\n \n \n \n \n \n \n \n \ns\nu\np\ne\nr\n_\ns\ne\nt\n(\ns\ne\nl\nf\n,\n \ni\nn\ns\nt\na\nn\nc\ne\n,\n \nv\na\nl\nu\ne\n)\n\n\n\n\n \n \n \n \nc\nl\ns\n.\n_\n_\ns\ne\nt\n_\n_\n \n=\n \n_\n_\ns\ne\nt\n_\n_\n\n\n \n \n \n \nr\ne\nt\nu\nr\nn\n \nc\nl\ns\n\n\n\n\n\n\n#\n \nD\ne\nc\no\nr\na\nt\no\nr\n \nf\no\nr\n \nu\nn\ns\ni\ng\nn\ne\nd\n \nv\na\nl\nu\ne\ns\n\n\nd\ne\nf\n \nU\nn\ns\ni\ng\nn\ne\nd\n(\nc\nl\ns\n)\n:\n\n\n \n \n \n \ns\nu\np\ne\nr\n_\ns\ne\nt\n \n=\n \nc\nl\ns\n.\n_\n_\ns\ne\nt\n_\n_\n\n\n\n\n \n \n \n \nd\ne\nf\n \n_\n_\ns\ne\nt\n_\n_\n(\ns\ne\nl\nf\n,\n \ni\nn\ns\nt\na\nn\nc\ne\n,\n \nv\na\nl\nu\ne\n)\n:\n\n\n \n \n \n \n \n \n \n \ni\nf\n \nv\na\nl\nu\ne\n \n<\n \n0\n:\n\n\n \n \n \n \n \n \n \n \n \n \n \n \nr\na\ni\ns\ne\n \nV\na\nl\nu\ne\nE\nr\nr\no\nr\n(\n'\nE\nx\np\ne\nc\nt\ne\nd\n \n>\n=\n \n0\n'\n)\n\n\n \n \n \n \n \n \n \n \ns\nu\np\ne\nr\n_\ns\ne\nt\n(\ns\ne\nl\nf\n,\n \ni\nn\ns\nt\na\nn\nc\ne\n,\n \nv\na\nl\nu\ne\n)\n\n\n\n\n \n \n \n \nc\nl\ns\n.\n_\n_\ns\ne\nt\n_\n_\n \n=\n \n_\n_\ns\ne\nt\n_\n_\n\n\n \n \n \n \nr\ne\nt\nu\nr\nn\n \nc\nl\ns\n\n\n\n\n\n\n#\n \nD\ne\nc\no\nr\na\nt\no\nr\n \nf\no\nr\n \na\nl\nl\no\nw\ni\nn\ng\n \ns\ni\nz\ne\nd\n \nv\na\nl\nu\ne\ns\n\n\nd\ne\nf\n \nM\na\nx\nS\ni\nz\ne\nd\n(\nc\nl\ns\n)\n:\n\n\n \n \n \n \ns\nu\np\ne\nr\n_\ni\nn\ni\nt\n \n=\n \nc\nl\ns\n.\n_\n_\ni\nn\ni\nt\n_\n_\n\n\n\n\n \n \n \n \nd\ne\nf\n \n_\n_\ni\nn\ni\nt\n_\n_\n(\ns\ne\nl\nf\n,\n \nn\na\nm\ne\n=\nN\no\nn\ne\n,\n \n*\n*\no\np\nt\ns\n)\n:\n\n\n \n \n \n \n \n \n \n \ni\nf\n \n'\ns\ni\nz\ne\n'\n \nn\no\nt\n \ni\nn\n \no\np\nt\ns\n:\n\n\n \n \n \n \n \n \n \n \n \n \n \n \nr\na\ni\ns\ne\n \nT\ny\np\ne\nE\nr\nr\no\nr\n(\n'\nm\ni\ns\ns\ni\nn\ng\n \ns\ni\nz\ne\n \no\np\nt\ni\no\nn\n'\n)\n\n\n \n \n \n \n \n \n \n \ns\nu\np\ne\nr\n_\ni\nn\ni\nt\n(\ns\ne\nl\nf\n,\n \nn\na\nm\ne\n,\n \n*\n*\no\np\nt\ns\n)\n\n\n\n\n \n \n \n \nc\nl\ns\n.\n_\n_\ni\nn\ni\nt\n_\n_\n \n=\n \n_\n_\ni\nn\ni\nt\n_\n_\n\n\n\n\n \n \n \n \ns\nu\np\ne\nr\n_\ns\ne\nt\n \n=\n \nc\nl\ns\n.\n_\n_\ns\ne\nt\n_\n_\n\n\n\n\n \n \n \n \nd\ne\nf\n \n_\n_\ns\ne\nt\n_\n_\n(\ns\ne\nl\nf\n,\n \ni\nn\ns\nt\na\nn\nc\ne\n,\n \nv\na\nl\nu\ne\n)\n:\n\n\n \n \n \n \n \n \n \n \ni\nf\n \nl\ne\nn\n(\nv\na\nl\nu\ne\n)\n \n>\n=\n \ns\ne\nl\nf\n.\ns\ni\nz\ne\n:\n\n\n \n \n \n \n \n \n \n \n \n \n \n \nr\na\ni\ns\ne\n \nV\na\nl\nu\ne\nE\nr\nr\no\nr\n(\n'\ns\ni\nz\ne\n \nm\nu\ns\nt\n \nb\ne\n \n<\n \n'\n \n+\n \ns\nt\nr\n(\ns\ne\nl\nf\n.\ns\ni\nz\ne\n)\n)\n\n\n \n \n \n \n \n \n \n \ns\nu\np\ne\nr\n_\ns\ne\nt\n(\ns\ne\nl\nf\n,\n \ni\nn\ns\nt\na\nn\nc\ne\n,\n \nv\na\nl\nu\ne\n)\n\n\n\n\n \n \n \n \nc\nl\ns\n.\n_\n_\ns\ne\nt\n_\n_\n \n=\n \n_\n_\ns\ne\nt\n_\n_\n\n\n \n \n \n \nr\ne\nt\nu\nr\nn\n \nc\nl\ns\n\n\n\n\n\n\n#\n \nS\np\ne\nc\ni\na\nl\ni\nz\ne\nd\n \nd\ne\ns\nc\nr\ni\np\nt\no\nr\ns\n\n\n@\nT\ny\np\ne\nd\n(\ni\nn\nt\n)\n\n\nc\nl\na\ns\ns\n \nI\nn\nt\ne\ng\ne\nr\n(\nD\ne\ns\nc\nr\ni\np\nt\no\nr\n)\n:\n\n\n \n \n \n \np\na\ns\ns\n\n\n\n\n\n\n@\nU\nn\ns\ni\ng\nn\ne\nd\n\n\nc\nl\na\ns\ns\n \nU\nn\ns\ni\ng\nn\ne\nd\nI\nn\nt\ne\ng\ne\nr\n(\nI\nn\nt\ne\ng\ne\nr\n)\n:\n\n\n \n \n \n \np\na\ns\ns\n\n\n\n\n\n\n@\nT\ny\np\ne\nd\n(\nf\nl\no\na\nt\n)\n\n\nc\nl\na\ns\ns\n \nF\nl\no\na\nt\n(\nD\ne\ns\nc\nr\ni\np\nt\no\nr\n)\n:\n\n\n \n \n \n \np\na\ns\ns\n\n\n\n\n\n\n@\nU\nn\ns\ni\ng\nn\ne\nd\n\n\nc\nl\na\ns\ns\n \nU\nn\ns\ni\ng\nn\ne\nd\nF\nl\no\na\nt\n(\nF\nl\no\na\nt\n)\n:\n\n\n \n \n \n \np\na\ns\ns\n\n\n\n\n\n\n@\nT\ny\np\ne\nd\n(\ns\nt\nr\n)\n\n\nc\nl\na\ns\ns\n \nS\nt\nr\ni\nn\ng\n(\nD\ne\ns\nc\nr\ni\np\nt\no\nr\n)\n:\n\n\n \n \n \n \np\na\ns\ns\n\n\n\n\n\n\n@\nM\na\nx\nS\ni\nz\ne\nd\n\n\nc\nl\na\ns\ns\n \nS\ni\nz\ne\nd\nS\nt\nr\ni\nn\ng\n(\nS\nt\nr\ni\nn\ng\n)\n:\n\n\n \n \n \n \np\na\ns\ns\n\n"
      ]
    },
    {
      "cell_type": "markdown",
      "metadata": {},
      "source": [
        "\u8fd9\u79cd\u65b9\u5f0f\u5b9a\u4e49\u7684\u7c7b\u8ddf\u4e4b\u524d\u7684\u6548\u679c\u4e00\u6837\uff0c\u800c\u4e14\u6267\u884c\u901f\u5ea6\u4f1a\u66f4\u5feb\u3002\n\u8bbe\u7f6e\u4e00\u4e2a\u7b80\u5355\u7684\u7c7b\u578b\u5c5e\u6027\u7684\u503c\uff0c\u88c5\u9970\u5668\u65b9\u5f0f\u8981\u6bd4\u4e4b\u524d\u7684\u6df7\u5165\u7c7b\u7684\u65b9\u5f0f\u51e0\u4e4e\u5feb100%\u3002\n\u73b0\u5728\u4f60\u5e94\u8be5\u5e86\u5e78\u81ea\u5df1\u8bfb\u5b8c\u4e86\u672c\u8282\u5168\u90e8\u5185\u5bb9\u4e86\u5427\uff1f^_^"
      ]
    },
    {
      "cell_type": "markdown",
      "metadata": {},
      "source": [
        "## 8.14 \u5b9e\u73b0\u81ea\u5b9a\u4e49\u5bb9\u5668\n"
      ]
    },
    {
      "cell_type": "markdown",
      "metadata": {},
      "source": [
        "### \u95ee\u9898\n"
      ]
    },
    {
      "cell_type": "markdown",
      "metadata": {},
      "source": [
        "\u4f60\u60f3\u5b9e\u73b0\u4e00\u4e2a\u81ea\u5b9a\u4e49\u7684\u7c7b\u6765\u6a21\u62df\u5185\u7f6e\u7684\u5bb9\u5668\u7c7b\u529f\u80fd\uff0c\u6bd4\u5982\u5217\u8868\u548c\u5b57\u5178\u3002\u4f46\u662f\u4f60\u4e0d\u786e\u5b9a\u5230\u5e95\u8981\u5b9e\u73b0\u54ea\u4e9b\u65b9\u6cd5\u3002"
      ]
    },
    {
      "cell_type": "markdown",
      "metadata": {},
      "source": [
        "### \u89e3\u51b3\u65b9\u6848\n"
      ]
    },
    {
      "cell_type": "markdown",
      "metadata": {},
      "source": [
        "collections \u5b9a\u4e49\u4e86\u5f88\u591a\u62bd\u8c61\u57fa\u7c7b\uff0c\u5f53\u4f60\u60f3\u81ea\u5b9a\u4e49\u5bb9\u5668\u7c7b\u7684\u65f6\u5019\u5b83\u4eec\u4f1a\u975e\u5e38\u6709\u7528\u3002\n\u6bd4\u5982\u4f60\u60f3\u8ba9\u4f60\u7684\u7c7b\u652f\u6301\u8fed\u4ee3\uff0c\u90a3\u5c31\u8ba9\u4f60\u7684\u7c7b\u7ee7\u627f collections.Iterable \u5373\u53ef\uff1a"
      ]
    },
    {
      "cell_type": "code",
      "execution_count": null,
      "metadata": {},
      "outputs": [],
      "source": [
        "i\nm\np\no\nr\nt\n \nc\no\nl\nl\ne\nc\nt\ni\no\nn\ns\n\n\nc\nl\na\ns\ns\n \nA\n(\nc\no\nl\nl\ne\nc\nt\ni\no\nn\ns\n.\nI\nt\ne\nr\na\nb\nl\ne\n)\n:\n\n\n \n \n \n \np\na\ns\ns\n\n"
      ]
    },
    {
      "cell_type": "markdown",
      "metadata": {},
      "source": [
        "\u4e0d\u8fc7\u4f60\u9700\u8981\u5b9e\u73b0 collections.Iterable \u6240\u6709\u7684\u62bd\u8c61\u65b9\u6cd5\uff0c\u5426\u5219\u4f1a\u62a5\u9519:"
      ]
    },
    {
      "cell_type": "code",
      "execution_count": null,
      "metadata": {},
      "outputs": [],
      "source": [
        "a = A()"
      ]
    },
    {
      "cell_type": "markdown",
      "metadata": {},
      "source": [
        "\u4f60\u53ea\u8981\u5b9e\u73b0 __iter__() \u65b9\u6cd5\u5c31\u4e0d\u4f1a\u62a5\u9519\u4e86(\u53c2\u80034.2\u548c4.7\u5c0f\u8282)\u3002"
      ]
    },
    {
      "cell_type": "markdown",
      "metadata": {},
      "source": [
        "\u4f60\u53ef\u4ee5\u5148\u8bd5\u7740\u53bb\u5b9e\u4f8b\u5316\u4e00\u4e2a\u5bf9\u8c61\uff0c\u5728\u9519\u8bef\u63d0\u793a\u4e2d\u53ef\u4ee5\u627e\u5230\u9700\u8981\u5b9e\u73b0\u54ea\u4e9b\u65b9\u6cd5\uff1a"
      ]
    },
    {
      "cell_type": "code",
      "execution_count": null,
      "metadata": {},
      "outputs": [],
      "source": [
        "import collections\ncollections.Sequence()"
      ]
    },
    {
      "cell_type": "markdown",
      "metadata": {},
      "source": [
        "\u4e0b\u9762\u662f\u4e00\u4e2a\u7b80\u5355\u7684\u793a\u4f8b\uff0c\u7ee7\u627f\u81ea\u4e0a\u9762Sequence\u62bd\u8c61\u7c7b\uff0c\u5e76\u4e14\u5b9e\u73b0\u5143\u7d20\u6309\u7167\u987a\u5e8f\u5b58\u50a8\uff1a"
      ]
    },
    {
      "cell_type": "code",
      "execution_count": null,
      "metadata": {},
      "outputs": [],
      "source": [
        "c\nl\na\ns\ns\n \nS\no\nr\nt\ne\nd\nI\nt\ne\nm\ns\n(\nc\no\nl\nl\ne\nc\nt\ni\no\nn\ns\n.\nS\ne\nq\nu\ne\nn\nc\ne\n)\n:\n\n\n \n \n \n \nd\ne\nf\n \n_\n_\ni\nn\ni\nt\n_\n_\n(\ns\ne\nl\nf\n,\n \ni\nn\ni\nt\ni\na\nl\n=\nN\no\nn\ne\n)\n:\n\n\n \n \n \n \n \n \n \n \ns\ne\nl\nf\n.\n_\ni\nt\ne\nm\ns\n \n=\n \ns\no\nr\nt\ne\nd\n(\ni\nn\ni\nt\ni\na\nl\n)\n \ni\nf\n \ni\nn\ni\nt\ni\na\nl\n \ni\ns\n \nn\no\nt\n \nN\no\nn\ne\n \ne\nl\ns\ne\n \n[\n]\n\n\n\n\n \n \n \n \n#\n \nR\ne\nq\nu\ni\nr\ne\nd\n \ns\ne\nq\nu\ne\nn\nc\ne\n \nm\ne\nt\nh\no\nd\ns\n\n\n \n \n \n \nd\ne\nf\n \n_\n_\ng\ne\nt\ni\nt\ne\nm\n_\n_\n(\ns\ne\nl\nf\n,\n \ni\nn\nd\ne\nx\n)\n:\n\n\n \n \n \n \n \n \n \n \nr\ne\nt\nu\nr\nn\n \ns\ne\nl\nf\n.\n_\ni\nt\ne\nm\ns\n[\ni\nn\nd\ne\nx\n]\n\n\n\n\n \n \n \n \nd\ne\nf\n \n_\n_\nl\ne\nn\n_\n_\n(\ns\ne\nl\nf\n)\n:\n\n\n \n \n \n \n \n \n \n \nr\ne\nt\nu\nr\nn\n \nl\ne\nn\n(\ns\ne\nl\nf\n.\n_\ni\nt\ne\nm\ns\n)\n\n\n\n\n \n \n \n \n#\n \nM\ne\nt\nh\no\nd\n \nf\no\nr\n \na\nd\nd\ni\nn\ng\n \na\nn\n \ni\nt\ne\nm\n \ni\nn\n \nt\nh\ne\n \nr\ni\ng\nh\nt\n \nl\no\nc\na\nt\ni\no\nn\n\n\n \n \n \n \nd\ne\nf\n \na\nd\nd\n(\ns\ne\nl\nf\n,\n \ni\nt\ne\nm\n)\n:\n\n\n \n \n \n \n \n \n \n \nb\ni\ns\ne\nc\nt\n.\ni\nn\ns\no\nr\nt\n(\ns\ne\nl\nf\n.\n_\ni\nt\ne\nm\ns\n,\n \ni\nt\ne\nm\n)\n\n\n\n\n\n\ni\nt\ne\nm\ns\n \n=\n \nS\no\nr\nt\ne\nd\nI\nt\ne\nm\ns\n(\n[\n5\n,\n \n1\n,\n \n3\n]\n)\n\n\np\nr\ni\nn\nt\n(\nl\ni\ns\nt\n(\ni\nt\ne\nm\ns\n)\n)\n\n\np\nr\ni\nn\nt\n(\ni\nt\ne\nm\ns\n[\n0\n]\n,\n \ni\nt\ne\nm\ns\n[\n-\n1\n]\n)\n\n\ni\nt\ne\nm\ns\n.\na\nd\nd\n(\n2\n)\n\n\np\nr\ni\nn\nt\n(\nl\ni\ns\nt\n(\ni\nt\ne\nm\ns\n)\n)\n\n"
      ]
    },
    {
      "cell_type": "markdown",
      "metadata": {},
      "source": [
        "\u53ef\u4ee5\u770b\u5230\uff0cSortedItems\u8ddf\u666e\u901a\u7684\u5e8f\u5217\u6ca1\u4ec0\u4e48\u4e24\u6837\uff0c\u652f\u6301\u6240\u6709\u5e38\u7528\u64cd\u4f5c\uff0c\u5305\u62ec\u7d22\u5f15\u3001\u8fed\u4ee3\u3001\u5305\u542b\u5224\u65ad\uff0c\u751a\u81f3\u662f\u5207\u7247\u64cd\u4f5c\u3002"
      ]
    },
    {
      "cell_type": "markdown",
      "metadata": {},
      "source": [
        "\u8fd9\u91cc\u9762\u4f7f\u7528\u5230\u4e86 bisect \u6a21\u5757\uff0c\u5b83\u662f\u4e00\u4e2a\u5728\u6392\u5e8f\u5217\u8868\u4e2d\u63d2\u5165\u5143\u7d20\u7684\u9ad8\u6548\u65b9\u5f0f\u3002\u53ef\u4ee5\u4fdd\u8bc1\u5143\u7d20\u63d2\u5165\u540e\u8fd8\u4fdd\u6301\u987a\u5e8f\u3002"
      ]
    },
    {
      "cell_type": "markdown",
      "metadata": {},
      "source": [
        "### \u8ba8\u8bba\n"
      ]
    },
    {
      "cell_type": "markdown",
      "metadata": {},
      "source": [
        "\u4f7f\u7528 collections \u4e2d\u7684\u62bd\u8c61\u57fa\u7c7b\u53ef\u4ee5\u786e\u4fdd\u4f60\u81ea\u5b9a\u4e49\u7684\u5bb9\u5668\u5b9e\u73b0\u4e86\u6240\u6709\u5fc5\u8981\u7684\u65b9\u6cd5\u3002\u5e76\u4e14\u8fd8\u80fd\u7b80\u5316\u7c7b\u578b\u68c0\u67e5\u3002\n\u4f60\u7684\u81ea\u5b9a\u4e49\u5bb9\u5668\u4f1a\u6ee1\u8db3\u5927\u90e8\u5206\u7c7b\u578b\u68c0\u67e5\u9700\u8981\uff0c\u5982\u4e0b\u6240\u793a\uff1a"
      ]
    },
    {
      "cell_type": "code",
      "execution_count": null,
      "metadata": {},
      "outputs": [],
      "source": [
        "items = SortedItems()\nimport collections\nisinstance(items, collections.Iterable)"
      ]
    },
    {
      "cell_type": "code",
      "execution_count": null,
      "metadata": {},
      "outputs": [],
      "source": [
        "isinstance(items, collections.Sequence)"
      ]
    },
    {
      "cell_type": "code",
      "execution_count": null,
      "metadata": {},
      "outputs": [],
      "source": [
        "isinstance(items, collections.Container)"
      ]
    },
    {
      "cell_type": "code",
      "execution_count": null,
      "metadata": {},
      "outputs": [],
      "source": [
        "isinstance(items, collections.Sized)"
      ]
    },
    {
      "cell_type": "code",
      "execution_count": null,
      "metadata": {},
      "outputs": [],
      "source": [
        "isinstance(items, collections.Mapping)"
      ]
    },
    {
      "cell_type": "markdown",
      "metadata": {},
      "source": [
        "collections \u4e2d\u5f88\u591a\u62bd\u8c61\u7c7b\u4f1a\u4e3a\u4e00\u4e9b\u5e38\u89c1\u5bb9\u5668\u64cd\u4f5c\u63d0\u4f9b\u9ed8\u8ba4\u7684\u5b9e\u73b0\uff0c\n\u8fd9\u6837\u4e00\u6765\u4f60\u53ea\u9700\u8981\u5b9e\u73b0\u90a3\u4e9b\u4f60\u6700\u611f\u5174\u8da3\u7684\u65b9\u6cd5\u5373\u53ef\u3002\u5047\u8bbe\u4f60\u7684\u7c7b\u7ee7\u627f\u81ea collections.MutableSequence \uff0c\u5982\u4e0b\uff1a"
      ]
    },
    {
      "cell_type": "code",
      "execution_count": null,
      "metadata": {},
      "outputs": [],
      "source": [
        "c\nl\na\ns\ns\n \nI\nt\ne\nm\ns\n(\nc\no\nl\nl\ne\nc\nt\ni\no\nn\ns\n.\nM\nu\nt\na\nb\nl\ne\nS\ne\nq\nu\ne\nn\nc\ne\n)\n:\n\n\n \n \n \n \nd\ne\nf\n \n_\n_\ni\nn\ni\nt\n_\n_\n(\ns\ne\nl\nf\n,\n \ni\nn\ni\nt\ni\na\nl\n=\nN\no\nn\ne\n)\n:\n\n\n \n \n \n \n \n \n \n \ns\ne\nl\nf\n.\n_\ni\nt\ne\nm\ns\n \n=\n \nl\ni\ns\nt\n(\ni\nn\ni\nt\ni\na\nl\n)\n \ni\nf\n \ni\nn\ni\nt\ni\na\nl\n \ni\ns\n \nn\no\nt\n \nN\no\nn\ne\n \ne\nl\ns\ne\n \n[\n]\n\n\n\n\n \n \n \n \n#\n \nR\ne\nq\nu\ni\nr\ne\nd\n \ns\ne\nq\nu\ne\nn\nc\ne\n \nm\ne\nt\nh\no\nd\ns\n\n\n \n \n \n \nd\ne\nf\n \n_\n_\ng\ne\nt\ni\nt\ne\nm\n_\n_\n(\ns\ne\nl\nf\n,\n \ni\nn\nd\ne\nx\n)\n:\n\n\n \n \n \n \n \n \n \n \np\nr\ni\nn\nt\n(\n'\nG\ne\nt\nt\ni\nn\ng\n:\n'\n,\n \ni\nn\nd\ne\nx\n)\n\n\n \n \n \n \n \n \n \n \nr\ne\nt\nu\nr\nn\n \ns\ne\nl\nf\n.\n_\ni\nt\ne\nm\ns\n[\ni\nn\nd\ne\nx\n]\n\n\n\n\n \n \n \n \nd\ne\nf\n \n_\n_\ns\ne\nt\ni\nt\ne\nm\n_\n_\n(\ns\ne\nl\nf\n,\n \ni\nn\nd\ne\nx\n,\n \nv\na\nl\nu\ne\n)\n:\n\n\n \n \n \n \n \n \n \n \np\nr\ni\nn\nt\n(\n'\nS\ne\nt\nt\ni\nn\ng\n:\n'\n,\n \ni\nn\nd\ne\nx\n,\n \nv\na\nl\nu\ne\n)\n\n\n \n \n \n \n \n \n \n \ns\ne\nl\nf\n.\n_\ni\nt\ne\nm\ns\n[\ni\nn\nd\ne\nx\n]\n \n=\n \nv\na\nl\nu\ne\n\n\n\n\n \n \n \n \nd\ne\nf\n \n_\n_\nd\ne\nl\ni\nt\ne\nm\n_\n_\n(\ns\ne\nl\nf\n,\n \ni\nn\nd\ne\nx\n)\n:\n\n\n \n \n \n \n \n \n \n \np\nr\ni\nn\nt\n(\n'\nD\ne\nl\ne\nt\ni\nn\ng\n:\n'\n,\n \ni\nn\nd\ne\nx\n)\n\n\n \n \n \n \n \n \n \n \nd\ne\nl\n \ns\ne\nl\nf\n.\n_\ni\nt\ne\nm\ns\n[\ni\nn\nd\ne\nx\n]\n\n\n\n\n \n \n \n \nd\ne\nf\n \ni\nn\ns\ne\nr\nt\n(\ns\ne\nl\nf\n,\n \ni\nn\nd\ne\nx\n,\n \nv\na\nl\nu\ne\n)\n:\n\n\n \n \n \n \n \n \n \n \np\nr\ni\nn\nt\n(\n'\nI\nn\ns\ne\nr\nt\ni\nn\ng\n:\n'\n,\n \ni\nn\nd\ne\nx\n,\n \nv\na\nl\nu\ne\n)\n\n\n \n \n \n \n \n \n \n \ns\ne\nl\nf\n.\n_\ni\nt\ne\nm\ns\n.\ni\nn\ns\ne\nr\nt\n(\ni\nn\nd\ne\nx\n,\n \nv\na\nl\nu\ne\n)\n\n\n\n\n \n \n \n \nd\ne\nf\n \n_\n_\nl\ne\nn\n_\n_\n(\ns\ne\nl\nf\n)\n:\n\n\n \n \n \n \n \n \n \n \np\nr\ni\nn\nt\n(\n'\nL\ne\nn\n'\n)\n\n\n \n \n \n \n \n \n \n \nr\ne\nt\nu\nr\nn\n \nl\ne\nn\n(\ns\ne\nl\nf\n.\n_\ni\nt\ne\nm\ns\n)\n\n"
      ]
    },
    {
      "cell_type": "markdown",
      "metadata": {},
      "source": [
        "\u5982\u679c\u4f60\u521b\u5efa Items \u7684\u5b9e\u4f8b\uff0c\u4f60\u4f1a\u53d1\u73b0\u5b83\u652f\u6301\u51e0\u4e4e\u6240\u6709\u7684\u6838\u5fc3\u5217\u8868\u65b9\u6cd5(\u5982append()\u3001remove()\u3001count()\u7b49)\u3002\n\u4e0b\u9762\u662f\u4f7f\u7528\u6f14\u793a\uff1a"
      ]
    },
    {
      "cell_type": "code",
      "execution_count": null,
      "metadata": {},
      "outputs": [],
      "source": [
        "a = Items([1, 2, 3])\nlen(a)"
      ]
    },
    {
      "cell_type": "code",
      "execution_count": null,
      "metadata": {},
      "outputs": [],
      "source": [
        "a.append(4)"
      ]
    },
    {
      "cell_type": "code",
      "execution_count": null,
      "metadata": {},
      "outputs": [],
      "source": [
        "a.append(2)"
      ]
    },
    {
      "cell_type": "code",
      "execution_count": null,
      "metadata": {},
      "outputs": [],
      "source": [
        "a.count(2)"
      ]
    },
    {
      "cell_type": "code",
      "execution_count": null,
      "metadata": {},
      "outputs": [],
      "source": [
        "a.remove(3)"
      ]
    },
    {
      "cell_type": "markdown",
      "metadata": {},
      "source": [
        "\u672c\u5c0f\u8282\u53ea\u662f\u5bf9Python\u62bd\u8c61\u7c7b\u529f\u80fd\u7684\u629b\u7816\u5f15\u7389\u3002numbers \u6a21\u5757\u63d0\u4f9b\u4e86\u4e00\u4e2a\u7c7b\u4f3c\u7684\u8ddf\u6574\u6570\u7c7b\u578b\u76f8\u5173\u7684\u62bd\u8c61\u7c7b\u578b\u96c6\u5408\u3002\n\u53ef\u4ee5\u53c2\u80038.12\u5c0f\u8282\u6765\u6784\u9020\u66f4\u591a\u81ea\u5b9a\u4e49\u62bd\u8c61\u57fa\u7c7b\u3002"
      ]
    },
    {
      "cell_type": "markdown",
      "metadata": {},
      "source": [
        "## 8.15 \u5c5e\u6027\u7684\u4ee3\u7406\u8bbf\u95ee\n"
      ]
    },
    {
      "cell_type": "markdown",
      "metadata": {},
      "source": [
        "### \u95ee\u9898\n"
      ]
    },
    {
      "cell_type": "markdown",
      "metadata": {},
      "source": [
        "\u4f60\u60f3\u5c06\u67d0\u4e2a\u5b9e\u4f8b\u7684\u5c5e\u6027\u8bbf\u95ee\u4ee3\u7406\u5230\u5185\u90e8\u53e6\u4e00\u4e2a\u5b9e\u4f8b\u4e2d\u53bb\uff0c\u76ee\u7684\u53ef\u80fd\u662f\u4f5c\u4e3a\u7ee7\u627f\u7684\u4e00\u4e2a\u66ff\u4ee3\u65b9\u6cd5\u6216\u8005\u5b9e\u73b0\u4ee3\u7406\u6a21\u5f0f\u3002"
      ]
    },
    {
      "cell_type": "markdown",
      "metadata": {},
      "source": [
        "### \u89e3\u51b3\u65b9\u6848\n"
      ]
    },
    {
      "cell_type": "markdown",
      "metadata": {},
      "source": [
        "\u7b80\u5355\u6765\u8bf4\uff0c\u4ee3\u7406\u662f\u4e00\u79cd\u7f16\u7a0b\u6a21\u5f0f\uff0c\u5b83\u5c06\u67d0\u4e2a\u64cd\u4f5c\u8f6c\u79fb\u7ed9\u53e6\u5916\u4e00\u4e2a\u5bf9\u8c61\u6765\u5b9e\u73b0\u3002\n\u6700\u7b80\u5355\u7684\u5f62\u5f0f\u53ef\u80fd\u662f\u50cf\u4e0b\u9762\u8fd9\u6837\uff1a"
      ]
    },
    {
      "cell_type": "code",
      "execution_count": null,
      "metadata": {},
      "outputs": [],
      "source": [
        "c\nl\na\ns\ns\n \nA\n:\n\n\n \n \n \n \nd\ne\nf\n \ns\np\na\nm\n(\ns\ne\nl\nf\n,\n \nx\n)\n:\n\n\n \n \n \n \n \n \n \n \np\na\ns\ns\n\n\n\n\n \n \n \n \nd\ne\nf\n \nf\no\no\n(\ns\ne\nl\nf\n)\n:\n\n\n \n \n \n \n \n \n \n \np\na\ns\ns\n\n\n\n\n\n\nc\nl\na\ns\ns\n \nB\n1\n:\n\n\n \n \n \n \n\"\n\"\n\"\n\u7b80\n\u5355\n\u7684\n\u4ee3\n\u7406\n\"\n\"\n\"\n\n\n\n\n \n \n \n \nd\ne\nf\n \n_\n_\ni\nn\ni\nt\n_\n_\n(\ns\ne\nl\nf\n)\n:\n\n\n \n \n \n \n \n \n \n \ns\ne\nl\nf\n.\n_\na\n \n=\n \nA\n(\n)\n\n\n\n\n \n \n \n \nd\ne\nf\n \ns\np\na\nm\n(\ns\ne\nl\nf\n,\n \nx\n)\n:\n\n\n \n \n \n \n \n \n \n \n#\n \nD\ne\nl\ne\ng\na\nt\ne\n \nt\no\n \nt\nh\ne\n \ni\nn\nt\ne\nr\nn\na\nl\n \ns\ne\nl\nf\n.\n_\na\n \ni\nn\ns\nt\na\nn\nc\ne\n\n\n \n \n \n \n \n \n \n \nr\ne\nt\nu\nr\nn\n \ns\ne\nl\nf\n.\n_\na\n.\ns\np\na\nm\n(\nx\n)\n\n\n\n\n \n \n \n \nd\ne\nf\n \nf\no\no\n(\ns\ne\nl\nf\n)\n:\n\n\n \n \n \n \n \n \n \n \n#\n \nD\ne\nl\ne\ng\na\nt\ne\n \nt\no\n \nt\nh\ne\n \ni\nn\nt\ne\nr\nn\na\nl\n \ns\ne\nl\nf\n.\n_\na\n \ni\nn\ns\nt\na\nn\nc\ne\n\n\n \n \n \n \n \n \n \n \nr\ne\nt\nu\nr\nn\n \ns\ne\nl\nf\n.\n_\na\n.\nf\no\no\n(\n)\n\n\n\n\n \n \n \n \nd\ne\nf\n \nb\na\nr\n(\ns\ne\nl\nf\n)\n:\n\n\n \n \n \n \n \n \n \n \np\na\ns\ns\n\n"
      ]
    },
    {
      "cell_type": "markdown",
      "metadata": {},
      "source": [
        "\u5982\u679c\u4ec5\u4ec5\u5c31\u4e24\u4e2a\u65b9\u6cd5\u9700\u8981\u4ee3\u7406\uff0c\u90a3\u4e48\u50cf\u8fd9\u6837\u5199\u5c31\u8db3\u591f\u4e86\u3002\u4f46\u662f\uff0c\u5982\u679c\u6709\u5927\u91cf\u7684\u65b9\u6cd5\u9700\u8981\u4ee3\u7406\uff0c\n\u90a3\u4e48\u4f7f\u7528 __getattr__() \u65b9\u6cd5\u6216\u8bb8\u6216\u66f4\u597d\u4e9b\uff1a"
      ]
    },
    {
      "cell_type": "code",
      "execution_count": null,
      "metadata": {},
      "outputs": [],
      "source": [
        "c\nl\na\ns\ns\n \nB\n2\n:\n\n\n \n \n \n \n\"\n\"\n\"\n\u4f7f\n\u7528\n_\n_\ng\ne\nt\na\nt\nt\nr\n_\n_\n\u7684\n\u4ee3\n\u7406\n\uff0c\n\u4ee3\n\u7406\n\u65b9\n\u6cd5\n\u6bd4\n\u8f83\n\u591a\n\u65f6\n\u5019\n\"\n\"\n\"\n\n\n\n\n \n \n \n \nd\ne\nf\n \n_\n_\ni\nn\ni\nt\n_\n_\n(\ns\ne\nl\nf\n)\n:\n\n\n \n \n \n \n \n \n \n \ns\ne\nl\nf\n.\n_\na\n \n=\n \nA\n(\n)\n\n\n\n\n \n \n \n \nd\ne\nf\n \nb\na\nr\n(\ns\ne\nl\nf\n)\n:\n\n\n \n \n \n \n \n \n \n \np\na\ns\ns\n\n\n\n\n \n \n \n \n#\n \nE\nx\np\no\ns\ne\n \na\nl\nl\n \no\nf\n \nt\nh\ne\n \nm\ne\nt\nh\no\nd\ns\n \nd\ne\nf\ni\nn\ne\nd\n \no\nn\n \nc\nl\na\ns\ns\n \nA\n\n\n \n \n \n \nd\ne\nf\n \n_\n_\ng\ne\nt\na\nt\nt\nr\n_\n_\n(\ns\ne\nl\nf\n,\n \nn\na\nm\ne\n)\n:\n\n\n \n \n \n \n \n \n \n \n\"\n\"\n\"\n\u8fd9\n\u4e2a\n\u65b9\n\u6cd5\n\u5728\n\u8bbf\n\u95ee\n\u7684\na\nt\nt\nr\ni\nb\nu\nt\ne\n\u4e0d\n\u5b58\n\u5728\n\u7684\n\u65f6\n\u5019\n\u88ab\n\u8c03\n\u7528\n\n\n \n \n \n \n \n \n \n \nt\nh\ne\n \n_\n_\ng\ne\nt\na\nt\nt\nr\n_\n_\n(\n)\n \nm\ne\nt\nh\no\nd\n \ni\ns\n \na\nc\nt\nu\na\nl\nl\ny\n \na\n \nf\na\nl\nl\nb\na\nc\nk\n \nm\ne\nt\nh\no\nd\n\n\n \n \n \n \n \n \n \n \nt\nh\na\nt\n \no\nn\nl\ny\n \ng\ne\nt\ns\n \nc\na\nl\nl\ne\nd\n \nw\nh\ne\nn\n \na\nn\n \na\nt\nt\nr\ni\nb\nu\nt\ne\n \ni\ns\n \nn\no\nt\n \nf\no\nu\nn\nd\n\"\n\"\n\"\n\n\n \n \n \n \n \n \n \n \nr\ne\nt\nu\nr\nn\n \ng\ne\nt\na\nt\nt\nr\n(\ns\ne\nl\nf\n.\n_\na\n,\n \nn\na\nm\ne\n)\n\n"
      ]
    },
    {
      "cell_type": "markdown",
      "metadata": {},
      "source": [
        "__getattr__ \u65b9\u6cd5\u662f\u5728\u8bbf\u95eeattribute\u4e0d\u5b58\u5728\u7684\u65f6\u5019\u88ab\u8c03\u7528\uff0c\u4f7f\u7528\u6f14\u793a\uff1a"
      ]
    },
    {
      "cell_type": "code",
      "execution_count": null,
      "metadata": {},
      "outputs": [],
      "source": [
        "b\n \n=\n \nB\n(\n)\n\n\nb\n.\nb\na\nr\n(\n)\n \n#\n \nC\na\nl\nl\ns\n \nB\n.\nb\na\nr\n(\n)\n \n(\ne\nx\ni\ns\nt\ns\n \no\nn\n \nB\n)\n\n\nb\n.\ns\np\na\nm\n(\n4\n2\n)\n \n#\n \nC\na\nl\nl\ns\n \nB\n.\n_\n_\ng\ne\nt\na\nt\nt\nr\n_\n_\n(\n'\ns\np\na\nm\n'\n)\n \na\nn\nd\n \nd\ne\nl\ne\ng\na\nt\ne\ns\n \nt\no\n \nA\n.\ns\np\na\nm\n\n"
      ]
    },
    {
      "cell_type": "markdown",
      "metadata": {},
      "source": [
        "\u53e6\u5916\u4e00\u4e2a\u4ee3\u7406\u4f8b\u5b50\u662f\u5b9e\u73b0\u4ee3\u7406\u6a21\u5f0f\uff0c\u4f8b\u5982\uff1a"
      ]
    },
    {
      "cell_type": "code",
      "execution_count": null,
      "metadata": {},
      "outputs": [],
      "source": [
        "#\n \nA\n \np\nr\no\nx\ny\n \nc\nl\na\ns\ns\n \nt\nh\na\nt\n \nw\nr\na\np\ns\n \na\nr\no\nu\nn\nd\n \na\nn\no\nt\nh\ne\nr\n \no\nb\nj\ne\nc\nt\n,\n \nb\nu\nt\n\n\n#\n \ne\nx\np\no\ns\ne\ns\n \ni\nt\ns\n \np\nu\nb\nl\ni\nc\n \na\nt\nt\nr\ni\nb\nu\nt\ne\ns\n\n\nc\nl\na\ns\ns\n \nP\nr\no\nx\ny\n:\n\n\n \n \n \n \nd\ne\nf\n \n_\n_\ni\nn\ni\nt\n_\n_\n(\ns\ne\nl\nf\n,\n \no\nb\nj\n)\n:\n\n\n \n \n \n \n \n \n \n \ns\ne\nl\nf\n.\n_\no\nb\nj\n \n=\n \no\nb\nj\n\n\n\n\n \n \n \n \n#\n \nD\ne\nl\ne\ng\na\nt\ne\n \na\nt\nt\nr\ni\nb\nu\nt\ne\n \nl\no\no\nk\nu\np\n \nt\no\n \ni\nn\nt\ne\nr\nn\na\nl\n \no\nb\nj\n\n\n \n \n \n \nd\ne\nf\n \n_\n_\ng\ne\nt\na\nt\nt\nr\n_\n_\n(\ns\ne\nl\nf\n,\n \nn\na\nm\ne\n)\n:\n\n\n \n \n \n \n \n \n \n \np\nr\ni\nn\nt\n(\n'\ng\ne\nt\na\nt\nt\nr\n:\n'\n,\n \nn\na\nm\ne\n)\n\n\n \n \n \n \n \n \n \n \nr\ne\nt\nu\nr\nn\n \ng\ne\nt\na\nt\nt\nr\n(\ns\ne\nl\nf\n.\n_\no\nb\nj\n,\n \nn\na\nm\ne\n)\n\n\n\n\n \n \n \n \n#\n \nD\ne\nl\ne\ng\na\nt\ne\n \na\nt\nt\nr\ni\nb\nu\nt\ne\n \na\ns\ns\ni\ng\nn\nm\ne\nn\nt\n\n\n \n \n \n \nd\ne\nf\n \n_\n_\ns\ne\nt\na\nt\nt\nr\n_\n_\n(\ns\ne\nl\nf\n,\n \nn\na\nm\ne\n,\n \nv\na\nl\nu\ne\n)\n:\n\n\n \n \n \n \n \n \n \n \ni\nf\n \nn\na\nm\ne\n.\ns\nt\na\nr\nt\ns\nw\ni\nt\nh\n(\n'\n_\n'\n)\n:\n\n\n \n \n \n \n \n \n \n \n \n \n \n \ns\nu\np\ne\nr\n(\n)\n.\n_\n_\ns\ne\nt\na\nt\nt\nr\n_\n_\n(\nn\na\nm\ne\n,\n \nv\na\nl\nu\ne\n)\n\n\n \n \n \n \n \n \n \n \ne\nl\ns\ne\n:\n\n\n \n \n \n \n \n \n \n \n \n \n \n \np\nr\ni\nn\nt\n(\n'\ns\ne\nt\na\nt\nt\nr\n:\n'\n,\n \nn\na\nm\ne\n,\n \nv\na\nl\nu\ne\n)\n\n\n \n \n \n \n \n \n \n \n \n \n \n \ns\ne\nt\na\nt\nt\nr\n(\ns\ne\nl\nf\n.\n_\no\nb\nj\n,\n \nn\na\nm\ne\n,\n \nv\na\nl\nu\ne\n)\n\n\n\n\n \n \n \n \n#\n \nD\ne\nl\ne\ng\na\nt\ne\n \na\nt\nt\nr\ni\nb\nu\nt\ne\n \nd\ne\nl\ne\nt\ni\no\nn\n\n\n \n \n \n \nd\ne\nf\n \n_\n_\nd\ne\nl\na\nt\nt\nr\n_\n_\n(\ns\ne\nl\nf\n,\n \nn\na\nm\ne\n)\n:\n\n\n \n \n \n \n \n \n \n \ni\nf\n \nn\na\nm\ne\n.\ns\nt\na\nr\nt\ns\nw\ni\nt\nh\n(\n'\n_\n'\n)\n:\n\n\n \n \n \n \n \n \n \n \n \n \n \n \ns\nu\np\ne\nr\n(\n)\n.\n_\n_\nd\ne\nl\na\nt\nt\nr\n_\n_\n(\nn\na\nm\ne\n)\n\n\n \n \n \n \n \n \n \n \ne\nl\ns\ne\n:\n\n\n \n \n \n \n \n \n \n \n \n \n \n \np\nr\ni\nn\nt\n(\n'\nd\ne\nl\na\nt\nt\nr\n:\n'\n,\n \nn\na\nm\ne\n)\n\n\n \n \n \n \n \n \n \n \n \n \n \n \nd\ne\nl\na\nt\nt\nr\n(\ns\ne\nl\nf\n.\n_\no\nb\nj\n,\n \nn\na\nm\ne\n)\n\n"
      ]
    },
    {
      "cell_type": "markdown",
      "metadata": {},
      "source": [
        "\u4f7f\u7528\u8fd9\u4e2a\u4ee3\u7406\u7c7b\u65f6\uff0c\u4f60\u53ea\u9700\u8981\u7528\u5b83\u6765\u5305\u88c5\u4e0b\u5176\u4ed6\u7c7b\u5373\u53ef\uff1a"
      ]
    },
    {
      "cell_type": "code",
      "execution_count": null,
      "metadata": {},
      "outputs": [],
      "source": [
        "c\nl\na\ns\ns\n \nS\np\na\nm\n:\n\n\n \n \n \n \nd\ne\nf\n \n_\n_\ni\nn\ni\nt\n_\n_\n(\ns\ne\nl\nf\n,\n \nx\n)\n:\n\n\n \n \n \n \n \n \n \n \ns\ne\nl\nf\n.\nx\n \n=\n \nx\n\n\n\n\n \n \n \n \nd\ne\nf\n \nb\na\nr\n(\ns\ne\nl\nf\n,\n \ny\n)\n:\n\n\n \n \n \n \n \n \n \n \np\nr\ni\nn\nt\n(\n'\nS\np\na\nm\n.\nb\na\nr\n:\n'\n,\n \ns\ne\nl\nf\n.\nx\n,\n \ny\n)\n\n\n\n\n#\n \nC\nr\ne\na\nt\ne\n \na\nn\n \ni\nn\ns\nt\na\nn\nc\ne\n\n\ns\n \n=\n \nS\np\na\nm\n(\n2\n)\n\n\n#\n \nC\nr\ne\na\nt\ne\n \na\n \np\nr\no\nx\ny\n \na\nr\no\nu\nn\nd\n \ni\nt\n\n\np\n \n=\n \nP\nr\no\nx\ny\n(\ns\n)\n\n\n#\n \nA\nc\nc\ne\ns\ns\n \nt\nh\ne\n \np\nr\no\nx\ny\n\n\np\nr\ni\nn\nt\n(\np\n.\nx\n)\n \n \n#\n \nO\nu\nt\np\nu\nt\ns\n \n2\n\n\np\n.\nb\na\nr\n(\n3\n)\n \n \n#\n \nO\nu\nt\np\nu\nt\ns\n \n\"\nS\np\na\nm\n.\nb\na\nr\n:\n \n2\n \n3\n\"\n\n\np\n.\nx\n \n=\n \n3\n7\n \n \n#\n \nC\nh\na\nn\ng\ne\ns\n \ns\n.\nx\n \nt\no\n \n3\n7\n\n"
      ]
    },
    {
      "cell_type": "markdown",
      "metadata": {},
      "source": [
        "\u901a\u8fc7\u81ea\u5b9a\u4e49\u5c5e\u6027\u8bbf\u95ee\u65b9\u6cd5\uff0c\u4f60\u53ef\u4ee5\u7528\u4e0d\u540c\u65b9\u5f0f\u81ea\u5b9a\u4e49\u4ee3\u7406\u7c7b\u884c\u4e3a(\u6bd4\u5982\u52a0\u5165\u65e5\u5fd7\u529f\u80fd\u3001\u53ea\u8bfb\u8bbf\u95ee\u7b49)\u3002"
      ]
    },
    {
      "cell_type": "markdown",
      "metadata": {},
      "source": [
        "### \u8ba8\u8bba\n"
      ]
    },
    {
      "cell_type": "markdown",
      "metadata": {},
      "source": [
        "\u4ee3\u7406\u7c7b\u6709\u65f6\u5019\u53ef\u4ee5\u4f5c\u4e3a\u7ee7\u627f\u7684\u66ff\u4ee3\u65b9\u6848\u3002\u4f8b\u5982\uff0c\u4e00\u4e2a\u7b80\u5355\u7684\u7ee7\u627f\u5982\u4e0b\uff1a"
      ]
    },
    {
      "cell_type": "code",
      "execution_count": null,
      "metadata": {},
      "outputs": [],
      "source": [
        "c\nl\na\ns\ns\n \nA\n:\n\n\n \n \n \n \nd\ne\nf\n \ns\np\na\nm\n(\ns\ne\nl\nf\n,\n \nx\n)\n:\n\n\n \n \n \n \n \n \n \n \np\nr\ni\nn\nt\n(\n'\nA\n.\ns\np\na\nm\n'\n,\n \nx\n)\n\n\n \n \n \n \nd\ne\nf\n \nf\no\no\n(\ns\ne\nl\nf\n)\n:\n\n\n \n \n \n \n \n \n \n \np\nr\ni\nn\nt\n(\n'\nA\n.\nf\no\no\n'\n)\n\n\n\n\nc\nl\na\ns\ns\n \nB\n(\nA\n)\n:\n\n\n \n \n \n \nd\ne\nf\n \ns\np\na\nm\n(\ns\ne\nl\nf\n,\n \nx\n)\n:\n\n\n \n \n \n \n \n \n \n \np\nr\ni\nn\nt\n(\n'\nB\n.\ns\np\na\nm\n'\n)\n\n\n \n \n \n \n \n \n \n \ns\nu\np\ne\nr\n(\n)\n.\ns\np\na\nm\n(\nx\n)\n\n\n \n \n \n \nd\ne\nf\n \nb\na\nr\n(\ns\ne\nl\nf\n)\n:\n\n\n \n \n \n \n \n \n \n \np\nr\ni\nn\nt\n(\n'\nB\n.\nb\na\nr\n'\n)\n\n"
      ]
    },
    {
      "cell_type": "markdown",
      "metadata": {},
      "source": [
        "\u4f7f\u7528\u4ee3\u7406\u7684\u8bdd\uff0c\u5c31\u662f\u4e0b\u9762\u8fd9\u6837\uff1a"
      ]
    },
    {
      "cell_type": "code",
      "execution_count": null,
      "metadata": {},
      "outputs": [],
      "source": [
        "c\nl\na\ns\ns\n \nA\n:\n\n\n \n \n \n \nd\ne\nf\n \ns\np\na\nm\n(\ns\ne\nl\nf\n,\n \nx\n)\n:\n\n\n \n \n \n \n \n \n \n \np\nr\ni\nn\nt\n(\n'\nA\n.\ns\np\na\nm\n'\n,\n \nx\n)\n\n\n \n \n \n \nd\ne\nf\n \nf\no\no\n(\ns\ne\nl\nf\n)\n:\n\n\n \n \n \n \n \n \n \n \np\nr\ni\nn\nt\n(\n'\nA\n.\nf\no\no\n'\n)\n\n\n\n\nc\nl\na\ns\ns\n \nB\n:\n\n\n \n \n \n \nd\ne\nf\n \n_\n_\ni\nn\ni\nt\n_\n_\n(\ns\ne\nl\nf\n)\n:\n\n\n \n \n \n \n \n \n \n \ns\ne\nl\nf\n.\n_\na\n \n=\n \nA\n(\n)\n\n\n \n \n \n \nd\ne\nf\n \ns\np\na\nm\n(\ns\ne\nl\nf\n,\n \nx\n)\n:\n\n\n \n \n \n \n \n \n \n \np\nr\ni\nn\nt\n(\n'\nB\n.\ns\np\na\nm\n'\n,\n \nx\n)\n\n\n \n \n \n \n \n \n \n \ns\ne\nl\nf\n.\n_\na\n.\ns\np\na\nm\n(\nx\n)\n\n\n \n \n \n \nd\ne\nf\n \nb\na\nr\n(\ns\ne\nl\nf\n)\n:\n\n\n \n \n \n \n \n \n \n \np\nr\ni\nn\nt\n(\n'\nB\n.\nb\na\nr\n'\n)\n\n\n \n \n \n \nd\ne\nf\n \n_\n_\ng\ne\nt\na\nt\nt\nr\n_\n_\n(\ns\ne\nl\nf\n,\n \nn\na\nm\ne\n)\n:\n\n\n \n \n \n \n \n \n \n \nr\ne\nt\nu\nr\nn\n \ng\ne\nt\na\nt\nt\nr\n(\ns\ne\nl\nf\n.\n_\na\n,\n \nn\na\nm\ne\n)\n\n"
      ]
    },
    {
      "cell_type": "markdown",
      "metadata": {},
      "source": [
        "\u5f53\u5b9e\u73b0\u4ee3\u7406\u6a21\u5f0f\u65f6\uff0c\u8fd8\u6709\u4e9b\u7ec6\u8282\u9700\u8981\u6ce8\u610f\u3002\n\u9996\u5148\uff0c__getattr__() \u5b9e\u9645\u662f\u4e00\u4e2a\u540e\u5907\u65b9\u6cd5\uff0c\u53ea\u6709\u5728\u5c5e\u6027\u4e0d\u5b58\u5728\u65f6\u624d\u4f1a\u8c03\u7528\u3002\n\u56e0\u6b64\uff0c\u5982\u679c\u4ee3\u7406\u7c7b\u5b9e\u4f8b\u672c\u8eab\u6709\u8fd9\u4e2a\u5c5e\u6027\u7684\u8bdd\uff0c\u90a3\u4e48\u4e0d\u4f1a\u89e6\u53d1\u8fd9\u4e2a\u65b9\u6cd5\u7684\u3002\n\u53e6\u5916\uff0c__setattr__() \u548c __delattr__() \u9700\u8981\u989d\u5916\u7684\u9b54\u6cd5\u6765\u533a\u5206\u4ee3\u7406\u5b9e\u4f8b\u548c\u88ab\u4ee3\u7406\u5b9e\u4f8b _obj \u7684\u5c5e\u6027\u3002\n\u4e00\u4e2a\u901a\u5e38\u7684\u7ea6\u5b9a\u662f\u53ea\u4ee3\u7406\u90a3\u4e9b\u4e0d\u4ee5\u4e0b\u5212\u7ebf _ \u5f00\u5934\u7684\u5c5e\u6027(\u4ee3\u7406\u7c7b\u53ea\u66b4\u9732\u88ab\u4ee3\u7406\u7c7b\u7684\u516c\u5171\u5c5e\u6027)\u3002"
      ]
    },
    {
      "cell_type": "markdown",
      "metadata": {},
      "source": [
        "\u8fd8\u6709\u4e00\u70b9\u9700\u8981\u6ce8\u610f\u7684\u662f\uff0c__getattr__() \u5bf9\u4e8e\u5927\u90e8\u5206\u4ee5\u53cc\u4e0b\u5212\u7ebf(__)\u5f00\u59cb\u548c\u7ed3\u5c3e\u7684\u5c5e\u6027\u5e76\u4e0d\u9002\u7528\u3002\n\u6bd4\u5982\uff0c\u8003\u8651\u5982\u4e0b\u7684\u7c7b\uff1a"
      ]
    },
    {
      "cell_type": "code",
      "execution_count": null,
      "metadata": {},
      "outputs": [],
      "source": [
        "c\nl\na\ns\ns\n \nL\ni\ns\nt\nL\ni\nk\ne\n:\n\n\n \n \n \n \n\"\n\"\n\"\n_\n_\ng\ne\nt\na\nt\nt\nr\n_\n_\n\u5bf9\n\u4e8e\n\u53cc\n\u4e0b\n\u5212\n\u7ebf\n\u5f00\n\u59cb\n\u548c\n\u7ed3\n\u5c3e\n\u7684\n\u65b9\n\u6cd5\n\u662f\n\u4e0d\n\u80fd\n\u7528\n\u7684\n\uff0c\n\u9700\n\u8981\n\u4e00\n\u4e2a\n\u4e2a\n\u53bb\n\u91cd\n\u5b9a\n\u4e49\n\"\n\"\n\"\n\n\n\n\n \n \n \n \nd\ne\nf\n \n_\n_\ni\nn\ni\nt\n_\n_\n(\ns\ne\nl\nf\n)\n:\n\n\n \n \n \n \n \n \n \n \ns\ne\nl\nf\n.\n_\ni\nt\ne\nm\ns\n \n=\n \n[\n]\n\n\n\n\n \n \n \n \nd\ne\nf\n \n_\n_\ng\ne\nt\na\nt\nt\nr\n_\n_\n(\ns\ne\nl\nf\n,\n \nn\na\nm\ne\n)\n:\n\n\n \n \n \n \n \n \n \n \nr\ne\nt\nu\nr\nn\n \ng\ne\nt\na\nt\nt\nr\n(\ns\ne\nl\nf\n.\n_\ni\nt\ne\nm\ns\n,\n \nn\na\nm\ne\n)\n\n"
      ]
    },
    {
      "cell_type": "markdown",
      "metadata": {},
      "source": [
        "\u5982\u679c\u662f\u521b\u5efa\u4e00\u4e2aListLike\u5bf9\u8c61\uff0c\u4f1a\u53d1\u73b0\u5b83\u652f\u6301\u666e\u901a\u7684\u5217\u8868\u65b9\u6cd5\uff0c\u5982append()\u548cinsert()\uff0c\n\u4f46\u662f\u5374\u4e0d\u652f\u6301len()\u3001\u5143\u7d20\u67e5\u627e\u7b49\u3002\u4f8b\u5982\uff1a"
      ]
    },
    {
      "cell_type": "code",
      "execution_count": null,
      "metadata": {},
      "outputs": [],
      "source": [
        "a = ListLike()\na.append(2)\na.insert(0, 1)\na.sort()\nlen(a)"
      ]
    },
    {
      "cell_type": "code",
      "execution_count": null,
      "metadata": {},
      "outputs": [],
      "source": [
        "a[0]"
      ]
    },
    {
      "cell_type": "markdown",
      "metadata": {},
      "source": [
        "\u4e3a\u4e86\u8ba9\u5b83\u652f\u6301\u8fd9\u4e9b\u65b9\u6cd5\uff0c\u4f60\u5fc5\u987b\u624b\u52a8\u7684\u5b9e\u73b0\u8fd9\u4e9b\u65b9\u6cd5\u4ee3\u7406\uff1a"
      ]
    },
    {
      "cell_type": "code",
      "execution_count": null,
      "metadata": {},
      "outputs": [],
      "source": [
        "c\nl\na\ns\ns\n \nL\ni\ns\nt\nL\ni\nk\ne\n:\n\n\n \n \n \n \n\"\n\"\n\"\n_\n_\ng\ne\nt\na\nt\nt\nr\n_\n_\n\u5bf9\n\u4e8e\n\u53cc\n\u4e0b\n\u5212\n\u7ebf\n\u5f00\n\u59cb\n\u548c\n\u7ed3\n\u5c3e\n\u7684\n\u65b9\n\u6cd5\n\u662f\n\u4e0d\n\u80fd\n\u7528\n\u7684\n\uff0c\n\u9700\n\u8981\n\u4e00\n\u4e2a\n\u4e2a\n\u53bb\n\u91cd\n\u5b9a\n\u4e49\n\"\n\"\n\"\n\n\n\n\n \n \n \n \nd\ne\nf\n \n_\n_\ni\nn\ni\nt\n_\n_\n(\ns\ne\nl\nf\n)\n:\n\n\n \n \n \n \n \n \n \n \ns\ne\nl\nf\n.\n_\ni\nt\ne\nm\ns\n \n=\n \n[\n]\n\n\n\n\n \n \n \n \nd\ne\nf\n \n_\n_\ng\ne\nt\na\nt\nt\nr\n_\n_\n(\ns\ne\nl\nf\n,\n \nn\na\nm\ne\n)\n:\n\n\n \n \n \n \n \n \n \n \nr\ne\nt\nu\nr\nn\n \ng\ne\nt\na\nt\nt\nr\n(\ns\ne\nl\nf\n.\n_\ni\nt\ne\nm\ns\n,\n \nn\na\nm\ne\n)\n\n\n\n\n \n \n \n \n#\n \nA\nd\nd\ne\nd\n \ns\np\ne\nc\ni\na\nl\n \nm\ne\nt\nh\no\nd\ns\n \nt\no\n \ns\nu\np\np\no\nr\nt\n \nc\ne\nr\nt\na\ni\nn\n \nl\ni\ns\nt\n \no\np\ne\nr\na\nt\ni\no\nn\ns\n\n\n \n \n \n \nd\ne\nf\n \n_\n_\nl\ne\nn\n_\n_\n(\ns\ne\nl\nf\n)\n:\n\n\n \n \n \n \n \n \n \n \nr\ne\nt\nu\nr\nn\n \nl\ne\nn\n(\ns\ne\nl\nf\n.\n_\ni\nt\ne\nm\ns\n)\n\n\n\n\n \n \n \n \nd\ne\nf\n \n_\n_\ng\ne\nt\ni\nt\ne\nm\n_\n_\n(\ns\ne\nl\nf\n,\n \ni\nn\nd\ne\nx\n)\n:\n\n\n \n \n \n \n \n \n \n \nr\ne\nt\nu\nr\nn\n \ns\ne\nl\nf\n.\n_\ni\nt\ne\nm\ns\n[\ni\nn\nd\ne\nx\n]\n\n\n\n\n \n \n \n \nd\ne\nf\n \n_\n_\ns\ne\nt\ni\nt\ne\nm\n_\n_\n(\ns\ne\nl\nf\n,\n \ni\nn\nd\ne\nx\n,\n \nv\na\nl\nu\ne\n)\n:\n\n\n \n \n \n \n \n \n \n \ns\ne\nl\nf\n.\n_\ni\nt\ne\nm\ns\n[\ni\nn\nd\ne\nx\n]\n \n=\n \nv\na\nl\nu\ne\n\n\n\n\n \n \n \n \nd\ne\nf\n \n_\n_\nd\ne\nl\ni\nt\ne\nm\n_\n_\n(\ns\ne\nl\nf\n,\n \ni\nn\nd\ne\nx\n)\n:\n\n\n \n \n \n \n \n \n \n \nd\ne\nl\n \ns\ne\nl\nf\n.\n_\ni\nt\ne\nm\ns\n[\ni\nn\nd\ne\nx\n]\n\n"
      ]
    },
    {
      "cell_type": "markdown",
      "metadata": {},
      "source": [
        "11.8\u5c0f\u8282\u8fd8\u6709\u4e00\u4e2a\u5728\u8fdc\u7a0b\u65b9\u6cd5\u8c03\u7528\u73af\u5883\u4e2d\u4f7f\u7528\u4ee3\u7406\u7684\u4f8b\u5b50\u3002"
      ]
    },
    {
      "cell_type": "markdown",
      "metadata": {},
      "source": [
        "## 8.16 \u5728\u7c7b\u4e2d\u5b9a\u4e49\u591a\u4e2a\u6784\u9020\u5668\n"
      ]
    },
    {
      "cell_type": "markdown",
      "metadata": {},
      "source": [
        "### \u95ee\u9898\n"
      ]
    },
    {
      "cell_type": "markdown",
      "metadata": {},
      "source": [
        "\u4f60\u60f3\u5b9e\u73b0\u4e00\u4e2a\u7c7b\uff0c\u9664\u4e86\u4f7f\u7528 __init__() \u65b9\u6cd5\u5916\uff0c\u8fd8\u6709\u5176\u4ed6\u65b9\u5f0f\u53ef\u4ee5\u521d\u59cb\u5316\u5b83\u3002"
      ]
    },
    {
      "cell_type": "markdown",
      "metadata": {},
      "source": [
        "### \u89e3\u51b3\u65b9\u6848\n"
      ]
    },
    {
      "cell_type": "markdown",
      "metadata": {},
      "source": [
        "\u4e3a\u4e86\u5b9e\u73b0\u591a\u4e2a\u6784\u9020\u5668\uff0c\u4f60\u9700\u8981\u4f7f\u7528\u5230\u7c7b\u65b9\u6cd5\u3002\u4f8b\u5982\uff1a"
      ]
    },
    {
      "cell_type": "code",
      "execution_count": null,
      "metadata": {},
      "outputs": [],
      "source": [
        "i\nm\np\no\nr\nt\n \nt\ni\nm\ne\n\n\n\n\nc\nl\na\ns\ns\n \nD\na\nt\ne\n:\n\n\n \n \n \n \n\"\n\"\n\"\n\u65b9\n\u6cd5\n\u4e00\n\uff1a\n\u4f7f\n\u7528\n\u7c7b\n\u65b9\n\u6cd5\n\"\n\"\n\"\n\n\n \n \n \n \n#\n \nP\nr\ni\nm\na\nr\ny\n \nc\no\nn\ns\nt\nr\nu\nc\nt\no\nr\n\n\n \n \n \n \nd\ne\nf\n \n_\n_\ni\nn\ni\nt\n_\n_\n(\ns\ne\nl\nf\n,\n \ny\ne\na\nr\n,\n \nm\no\nn\nt\nh\n,\n \nd\na\ny\n)\n:\n\n\n \n \n \n \n \n \n \n \ns\ne\nl\nf\n.\ny\ne\na\nr\n \n=\n \ny\ne\na\nr\n\n\n \n \n \n \n \n \n \n \ns\ne\nl\nf\n.\nm\no\nn\nt\nh\n \n=\n \nm\no\nn\nt\nh\n\n\n \n \n \n \n \n \n \n \ns\ne\nl\nf\n.\nd\na\ny\n \n=\n \nd\na\ny\n\n\n\n\n \n \n \n \n#\n \nA\nl\nt\ne\nr\nn\na\nt\ne\n \nc\no\nn\ns\nt\nr\nu\nc\nt\no\nr\n\n\n \n \n \n \n@\nc\nl\na\ns\ns\nm\ne\nt\nh\no\nd\n\n\n \n \n \n \nd\ne\nf\n \nt\no\nd\na\ny\n(\nc\nl\ns\n)\n:\n\n\n \n \n \n \n \n \n \n \nt\n \n=\n \nt\ni\nm\ne\n.\nl\no\nc\na\nl\nt\ni\nm\ne\n(\n)\n\n\n \n \n \n \n \n \n \n \nr\ne\nt\nu\nr\nn\n \nc\nl\ns\n(\nt\n.\nt\nm\n_\ny\ne\na\nr\n,\n \nt\n.\nt\nm\n_\nm\no\nn\n,\n \nt\n.\nt\nm\n_\nm\nd\na\ny\n)\n\n"
      ]
    },
    {
      "cell_type": "markdown",
      "metadata": {},
      "source": [
        "\u76f4\u63a5\u8c03\u7528\u7c7b\u65b9\u6cd5\u5373\u53ef\uff0c\u4e0b\u9762\u662f\u4f7f\u7528\u793a\u4f8b\uff1a"
      ]
    },
    {
      "cell_type": "code",
      "execution_count": null,
      "metadata": {},
      "outputs": [],
      "source": [
        "a\n \n=\n \nD\na\nt\ne\n(\n2\n0\n1\n2\n,\n \n1\n2\n,\n \n2\n1\n)\n \n#\n \nP\nr\ni\nm\na\nr\ny\n\n\nb\n \n=\n \nD\na\nt\ne\n.\nt\no\nd\na\ny\n(\n)\n \n#\n \nA\nl\nt\ne\nr\nn\na\nt\ne\n\n"
      ]
    },
    {
      "cell_type": "markdown",
      "metadata": {},
      "source": [
        "### \u8ba8\u8bba\n"
      ]
    },
    {
      "cell_type": "markdown",
      "metadata": {},
      "source": [
        "\u7c7b\u65b9\u6cd5\u7684\u4e00\u4e2a\u4e3b\u8981\u7528\u9014\u5c31\u662f\u5b9a\u4e49\u591a\u4e2a\u6784\u9020\u5668\u3002\u5b83\u63a5\u53d7\u4e00\u4e2a class \u4f5c\u4e3a\u7b2c\u4e00\u4e2a\u53c2\u6570(cls)\u3002\n\u4f60\u5e94\u8be5\u6ce8\u610f\u5230\u4e86\u8fd9\u4e2a\u7c7b\u88ab\u7528\u6765\u521b\u5efa\u5e76\u8fd4\u56de\u6700\u7ec8\u7684\u5b9e\u4f8b\u3002\u5728\u7ee7\u627f\u65f6\u4e5f\u80fd\u5de5\u4f5c\u7684\u5f88\u597d\uff1a"
      ]
    },
    {
      "cell_type": "code",
      "execution_count": null,
      "metadata": {},
      "outputs": [],
      "source": [
        "c\nl\na\ns\ns\n \nN\ne\nw\nD\na\nt\ne\n(\nD\na\nt\ne\n)\n:\n\n\n \n \n \n \np\na\ns\ns\n\n\n\n\nc\n \n=\n \nD\na\nt\ne\n.\nt\no\nd\na\ny\n(\n)\n \n#\n \nC\nr\ne\na\nt\ne\ns\n \na\nn\n \ni\nn\ns\nt\na\nn\nc\ne\n \no\nf\n \nD\na\nt\ne\n \n(\nc\nl\ns\n=\nD\na\nt\ne\n)\n\n\nd\n \n=\n \nN\ne\nw\nD\na\nt\ne\n.\nt\no\nd\na\ny\n(\n)\n \n#\n \nC\nr\ne\na\nt\ne\ns\n \na\nn\n \ni\nn\ns\nt\na\nn\nc\ne\n \no\nf\n \nN\ne\nw\nD\na\nt\ne\n \n(\nc\nl\ns\n=\nN\ne\nw\nD\na\nt\ne\n)\n\n"
      ]
    },
    {
      "cell_type": "markdown",
      "metadata": {},
      "source": [
        "## 8.17 \u521b\u5efa\u4e0d\u8c03\u7528init\u65b9\u6cd5\u7684\u5b9e\u4f8b\n"
      ]
    },
    {
      "cell_type": "markdown",
      "metadata": {},
      "source": [
        "### \u95ee\u9898\n"
      ]
    },
    {
      "cell_type": "markdown",
      "metadata": {},
      "source": [
        "\u4f60\u60f3\u521b\u5efa\u4e00\u4e2a\u5b9e\u4f8b\uff0c\u4f46\u662f\u5e0c\u671b\u7ed5\u8fc7\u6267\u884c __init__() \u65b9\u6cd5\u3002"
      ]
    },
    {
      "cell_type": "markdown",
      "metadata": {},
      "source": [
        "### \u89e3\u51b3\u65b9\u6848\n"
      ]
    },
    {
      "cell_type": "markdown",
      "metadata": {},
      "source": [
        "\u53ef\u4ee5\u901a\u8fc7 __new__() \u65b9\u6cd5\u521b\u5efa\u4e00\u4e2a\u672a\u521d\u59cb\u5316\u7684\u5b9e\u4f8b\u3002\u4f8b\u5982\u8003\u8651\u5982\u4e0b\u8fd9\u4e2a\u7c7b\uff1a"
      ]
    },
    {
      "cell_type": "code",
      "execution_count": null,
      "metadata": {},
      "outputs": [],
      "source": [
        "c\nl\na\ns\ns\n \nD\na\nt\ne\n:\n\n\n \n \n \n \nd\ne\nf\n \n_\n_\ni\nn\ni\nt\n_\n_\n(\ns\ne\nl\nf\n,\n \ny\ne\na\nr\n,\n \nm\no\nn\nt\nh\n,\n \nd\na\ny\n)\n:\n\n\n \n \n \n \n \n \n \n \ns\ne\nl\nf\n.\ny\ne\na\nr\n \n=\n \ny\ne\na\nr\n\n\n \n \n \n \n \n \n \n \ns\ne\nl\nf\n.\nm\no\nn\nt\nh\n \n=\n \nm\no\nn\nt\nh\n\n\n \n \n \n \n \n \n \n \ns\ne\nl\nf\n.\nd\na\ny\n \n=\n \nd\na\ny\n\n"
      ]
    },
    {
      "cell_type": "markdown",
      "metadata": {},
      "source": [
        "\u4e0b\u9762\u6f14\u793a\u5982\u4f55\u4e0d\u8c03\u7528 __init__() \u65b9\u6cd5\u6765\u521b\u5efa\u8fd9\u4e2aDate\u5b9e\u4f8b\uff1a"
      ]
    },
    {
      "cell_type": "code",
      "execution_count": null,
      "metadata": {},
      "outputs": [],
      "source": [
        "d = Date.__new__(Date)\nd"
      ]
    },
    {
      "cell_type": "code",
      "execution_count": null,
      "metadata": {},
      "outputs": [],
      "source": [
        "d.year"
      ]
    },
    {
      "cell_type": "markdown",
      "metadata": {},
      "source": [
        "\u7ed3\u679c\u53ef\u4ee5\u770b\u5230\uff0c\u8fd9\u4e2aDate\u5b9e\u4f8b\u7684\u5c5e\u6027year\u8fd8\u4e0d\u5b58\u5728\uff0c\u6240\u4ee5\u4f60\u9700\u8981\u624b\u52a8\u521d\u59cb\u5316\uff1a"
      ]
    },
    {
      "cell_type": "code",
      "execution_count": null,
      "metadata": {},
      "outputs": [],
      "source": [
        "data = {'year':2012, 'month':8, 'day':29}\nfor key, value in data.items():\n    setattr(d, key, value)\nd.year"
      ]
    },
    {
      "cell_type": "code",
      "execution_count": null,
      "metadata": {},
      "outputs": [],
      "source": [
        "d.month"
      ]
    },
    {
      "cell_type": "markdown",
      "metadata": {},
      "source": [
        "### \u8ba8\u8bba\n"
      ]
    },
    {
      "cell_type": "markdown",
      "metadata": {},
      "source": [
        "\u5f53\u6211\u4eec\u5728\u53cd\u5e8f\u5217\u5bf9\u8c61\u6216\u8005\u5b9e\u73b0\u67d0\u4e2a\u7c7b\u65b9\u6cd5\u6784\u9020\u51fd\u6570\u65f6\u9700\u8981\u7ed5\u8fc7 __init__() \u65b9\u6cd5\u6765\u521b\u5efa\u5bf9\u8c61\u3002\n\u4f8b\u5982\uff0c\u5bf9\u4e8e\u4e0a\u9762\u7684Date\u6765\u8bb2\uff0c\u6709\u65f6\u5019\u4f60\u53ef\u80fd\u4f1a\u50cf\u4e0b\u9762\u8fd9\u6837\u5b9a\u4e49\u4e00\u4e2a\u65b0\u7684\u6784\u9020\u51fd\u6570 today() \uff1a"
      ]
    },
    {
      "cell_type": "code",
      "execution_count": null,
      "metadata": {},
      "outputs": [],
      "source": [
        "f\nr\no\nm\n \nt\ni\nm\ne\n \ni\nm\np\no\nr\nt\n \nl\no\nc\na\nl\nt\ni\nm\ne\n\n\n\n\nc\nl\na\ns\ns\n \nD\na\nt\ne\n:\n\n\n \n \n \n \nd\ne\nf\n \n_\n_\ni\nn\ni\nt\n_\n_\n(\ns\ne\nl\nf\n,\n \ny\ne\na\nr\n,\n \nm\no\nn\nt\nh\n,\n \nd\na\ny\n)\n:\n\n\n \n \n \n \n \n \n \n \ns\ne\nl\nf\n.\ny\ne\na\nr\n \n=\n \ny\ne\na\nr\n\n\n \n \n \n \n \n \n \n \ns\ne\nl\nf\n.\nm\no\nn\nt\nh\n \n=\n \nm\no\nn\nt\nh\n\n\n \n \n \n \n \n \n \n \ns\ne\nl\nf\n.\nd\na\ny\n \n=\n \nd\na\ny\n\n\n\n\n \n \n \n \n@\nc\nl\na\ns\ns\nm\ne\nt\nh\no\nd\n\n\n \n \n \n \nd\ne\nf\n \nt\no\nd\na\ny\n(\nc\nl\ns\n)\n:\n\n\n \n \n \n \n \n \n \n \nd\n \n=\n \nc\nl\ns\n.\n_\n_\nn\ne\nw\n_\n_\n(\nc\nl\ns\n)\n\n\n \n \n \n \n \n \n \n \nt\n \n=\n \nl\no\nc\na\nl\nt\ni\nm\ne\n(\n)\n\n\n \n \n \n \n \n \n \n \nd\n.\ny\ne\na\nr\n \n=\n \nt\n.\nt\nm\n_\ny\ne\na\nr\n\n\n \n \n \n \n \n \n \n \nd\n.\nm\no\nn\nt\nh\n \n=\n \nt\n.\nt\nm\n_\nm\no\nn\n\n\n \n \n \n \n \n \n \n \nd\n.\nd\na\ny\n \n=\n \nt\n.\nt\nm\n_\nm\nd\na\ny\n\n\n \n \n \n \n \n \n \n \nr\ne\nt\nu\nr\nn\n \nd\n\n"
      ]
    },
    {
      "cell_type": "markdown",
      "metadata": {},
      "source": [
        "\u540c\u6837\uff0c\u5728\u4f60\u53cd\u5e8f\u5217\u5316JSON\u6570\u636e\u65f6\u4ea7\u751f\u4e00\u4e2a\u5982\u4e0b\u7684\u5b57\u5178\u5bf9\u8c61\uff1a"
      ]
    },
    {
      "cell_type": "code",
      "execution_count": null,
      "metadata": {},
      "outputs": [],
      "source": [
        "d\na\nt\na\n \n=\n \n{\n \n'\ny\ne\na\nr\n'\n:\n \n2\n0\n1\n2\n,\n \n'\nm\no\nn\nt\nh\n'\n:\n \n8\n,\n \n'\nd\na\ny\n'\n:\n \n2\n9\n \n}\n\n"
      ]
    },
    {
      "cell_type": "markdown",
      "metadata": {},
      "source": [
        "\u5982\u679c\u4f60\u60f3\u5c06\u5b83\u8f6c\u6362\u6210\u4e00\u4e2aDate\u7c7b\u578b\u5b9e\u4f8b\uff0c\u53ef\u4ee5\u4f7f\u7528\u4e0a\u9762\u7684\u6280\u672f\u3002"
      ]
    },
    {
      "cell_type": "markdown",
      "metadata": {},
      "source": [
        "\u5f53\u4f60\u901a\u8fc7\u8fd9\u79cd\u975e\u5e38\u89c4\u65b9\u5f0f\u6765\u521b\u5efa\u5b9e\u4f8b\u7684\u65f6\u5019\uff0c\u6700\u597d\u4e0d\u8981\u76f4\u63a5\u53bb\u8bbf\u95ee\u5e95\u5c42\u5b9e\u4f8b\u5b57\u5178\uff0c\u9664\u975e\u4f60\u771f\u7684\u6e05\u695a\u6240\u6709\u7ec6\u8282\u3002\n\u5426\u5219\u7684\u8bdd\uff0c\u5982\u679c\u8fd9\u4e2a\u7c7b\u4f7f\u7528\u4e86 __slots__ \u3001properties \u3001descriptors \u6216\u5176\u4ed6\u9ad8\u7ea7\u6280\u672f\u7684\u65f6\u5019\u4ee3\u7801\u5c31\u4f1a\u5931\u6548\u3002\n\u800c\u8fd9\u65f6\u5019\u4f7f\u7528 setattr() \u65b9\u6cd5\u4f1a\u8ba9\u4f60\u7684\u4ee3\u7801\u53d8\u5f97\u66f4\u52a0\u901a\u7528\u3002"
      ]
    },
    {
      "cell_type": "markdown",
      "metadata": {},
      "source": [
        "## 8.18 \u5229\u7528Mixins\u6269\u5c55\u7c7b\u529f\u80fd\n"
      ]
    },
    {
      "cell_type": "markdown",
      "metadata": {},
      "source": [
        "### \u95ee\u9898\n"
      ]
    },
    {
      "cell_type": "markdown",
      "metadata": {},
      "source": [
        "\u4f60\u6709\u5f88\u591a\u6709\u7528\u7684\u65b9\u6cd5\uff0c\u60f3\u4f7f\u7528\u5b83\u4eec\u6765\u6269\u5c55\u5176\u4ed6\u7c7b\u7684\u529f\u80fd\u3002\u4f46\u662f\u8fd9\u4e9b\u7c7b\u5e76\u6ca1\u6709\u4efb\u4f55\u7ee7\u627f\u7684\u5173\u7cfb\u3002\n\u56e0\u6b64\u4f60\u4e0d\u80fd\u7b80\u5355\u7684\u5c06\u8fd9\u4e9b\u65b9\u6cd5\u653e\u5165\u4e00\u4e2a\u57fa\u7c7b\uff0c\u7136\u540e\u88ab\u5176\u4ed6\u7c7b\u7ee7\u627f\u3002"
      ]
    },
    {
      "cell_type": "markdown",
      "metadata": {},
      "source": [
        "### \u89e3\u51b3\u65b9\u6848\n"
      ]
    },
    {
      "cell_type": "markdown",
      "metadata": {},
      "source": [
        "\u901a\u5e38\u5f53\u4f60\u60f3\u81ea\u5b9a\u4e49\u7c7b\u7684\u65f6\u5019\u4f1a\u78b0\u4e0a\u8fd9\u4e9b\u95ee\u9898\u3002\u53ef\u80fd\u662f\u67d0\u4e2a\u5e93\u63d0\u4f9b\u4e86\u4e00\u4e9b\u57fa\u7840\u7c7b\uff0c\n\u4f60\u53ef\u4ee5\u5229\u7528\u5b83\u4eec\u6765\u6784\u9020\u4f60\u81ea\u5df1\u7684\u7c7b\u3002"
      ]
    },
    {
      "cell_type": "markdown",
      "metadata": {},
      "source": [
        "\u5047\u8bbe\u4f60\u60f3\u6269\u5c55\u6620\u5c04\u5bf9\u8c61\uff0c\u7ed9\u5b83\u4eec\u6dfb\u52a0\u65e5\u5fd7\u3001\u552f\u4e00\u6027\u8bbe\u7f6e\u3001\u7c7b\u578b\u68c0\u67e5\u7b49\u7b49\u529f\u80fd\u3002\u4e0b\u9762\u662f\u4e00\u4e9b\u6df7\u5165\u7c7b\uff1a"
      ]
    },
    {
      "cell_type": "code",
      "execution_count": null,
      "metadata": {},
      "outputs": [],
      "source": [
        "c\nl\na\ns\ns\n \nL\no\ng\ng\ne\nd\nM\na\np\np\ni\nn\ng\nM\ni\nx\ni\nn\n:\n\n\n \n \n \n \n\"\n\"\n\"\n\n\n \n \n \n \nA\nd\nd\n \nl\no\ng\ng\ni\nn\ng\n \nt\no\n \ng\ne\nt\n/\ns\ne\nt\n/\nd\ne\nl\ne\nt\ne\n \no\np\ne\nr\na\nt\ni\no\nn\ns\n \nf\no\nr\n \nd\ne\nb\nu\ng\ng\ni\nn\ng\n.\n\n\n \n \n \n \n\"\n\"\n\"\n\n\n \n \n \n \n_\n_\ns\nl\no\nt\ns\n_\n_\n \n=\n \n(\n)\n \n \n#\n \n\u6df7\n\u5165\n\u7c7b\n\u90fd\n\u6ca1\n\u6709\n\u5b9e\n\u4f8b\n\u53d8\n\u91cf\n\uff0c\n\u56e0\n\u4e3a\n\u76f4\n\u63a5\n\u5b9e\n\u4f8b\n\u5316\n\u6df7\n\u5165\n\u7c7b\n\u6ca1\n\u6709\n\u4efb\n\u4f55\n\u610f\n\u4e49\n\n\n\n\n \n \n \n \nd\ne\nf\n \n_\n_\ng\ne\nt\ni\nt\ne\nm\n_\n_\n(\ns\ne\nl\nf\n,\n \nk\ne\ny\n)\n:\n\n\n \n \n \n \n \n \n \n \np\nr\ni\nn\nt\n(\n'\nG\ne\nt\nt\ni\nn\ng\n \n'\n \n+\n \ns\nt\nr\n(\nk\ne\ny\n)\n)\n\n\n \n \n \n \n \n \n \n \nr\ne\nt\nu\nr\nn\n \ns\nu\np\ne\nr\n(\n)\n.\n_\n_\ng\ne\nt\ni\nt\ne\nm\n_\n_\n(\nk\ne\ny\n)\n\n\n\n\n \n \n \n \nd\ne\nf\n \n_\n_\ns\ne\nt\ni\nt\ne\nm\n_\n_\n(\ns\ne\nl\nf\n,\n \nk\ne\ny\n,\n \nv\na\nl\nu\ne\n)\n:\n\n\n \n \n \n \n \n \n \n \np\nr\ni\nn\nt\n(\n'\nS\ne\nt\nt\ni\nn\ng\n \n{\n}\n \n=\n \n{\n!\nr\n}\n'\n.\nf\no\nr\nm\na\nt\n(\nk\ne\ny\n,\n \nv\na\nl\nu\ne\n)\n)\n\n\n \n \n \n \n \n \n \n \nr\ne\nt\nu\nr\nn\n \ns\nu\np\ne\nr\n(\n)\n.\n_\n_\ns\ne\nt\ni\nt\ne\nm\n_\n_\n(\nk\ne\ny\n,\n \nv\na\nl\nu\ne\n)\n\n\n\n\n \n \n \n \nd\ne\nf\n \n_\n_\nd\ne\nl\ni\nt\ne\nm\n_\n_\n(\ns\ne\nl\nf\n,\n \nk\ne\ny\n)\n:\n\n\n \n \n \n \n \n \n \n \np\nr\ni\nn\nt\n(\n'\nD\ne\nl\ne\nt\ni\nn\ng\n \n'\n \n+\n \ns\nt\nr\n(\nk\ne\ny\n)\n)\n\n\n \n \n \n \n \n \n \n \nr\ne\nt\nu\nr\nn\n \ns\nu\np\ne\nr\n(\n)\n.\n_\n_\nd\ne\nl\ni\nt\ne\nm\n_\n_\n(\nk\ne\ny\n)\n\n\n\n\n\n\nc\nl\na\ns\ns\n \nS\ne\nt\nO\nn\nc\ne\nM\na\np\np\ni\nn\ng\nM\ni\nx\ni\nn\n:\n\n\n \n \n \n \n'\n'\n'\n\n\n \n \n \n \nO\nn\nl\ny\n \na\nl\nl\no\nw\n \na\n \nk\ne\ny\n \nt\no\n \nb\ne\n \ns\ne\nt\n \no\nn\nc\ne\n.\n\n\n \n \n \n \n'\n'\n'\n\n\n \n \n \n \n_\n_\ns\nl\no\nt\ns\n_\n_\n \n=\n \n(\n)\n\n\n\n\n \n \n \n \nd\ne\nf\n \n_\n_\ns\ne\nt\ni\nt\ne\nm\n_\n_\n(\ns\ne\nl\nf\n,\n \nk\ne\ny\n,\n \nv\na\nl\nu\ne\n)\n:\n\n\n \n \n \n \n \n \n \n \ni\nf\n \nk\ne\ny\n \ni\nn\n \ns\ne\nl\nf\n:\n\n\n \n \n \n \n \n \n \n \n \n \n \n \nr\na\ni\ns\ne\n \nK\ne\ny\nE\nr\nr\no\nr\n(\ns\nt\nr\n(\nk\ne\ny\n)\n \n+\n \n'\n \na\nl\nr\ne\na\nd\ny\n \ns\ne\nt\n'\n)\n\n\n \n \n \n \n \n \n \n \nr\ne\nt\nu\nr\nn\n \ns\nu\np\ne\nr\n(\n)\n.\n_\n_\ns\ne\nt\ni\nt\ne\nm\n_\n_\n(\nk\ne\ny\n,\n \nv\na\nl\nu\ne\n)\n\n\n\n\n\n\nc\nl\na\ns\ns\n \nS\nt\nr\ni\nn\ng\nK\ne\ny\ns\nM\na\np\np\ni\nn\ng\nM\ni\nx\ni\nn\n:\n\n\n \n \n \n \n'\n'\n'\n\n\n \n \n \n \nR\ne\ns\nt\nr\ni\nc\nt\n \nk\ne\ny\ns\n \nt\no\n \ns\nt\nr\ni\nn\ng\ns\n \no\nn\nl\ny\n\n\n \n \n \n \n'\n'\n'\n\n\n \n \n \n \n_\n_\ns\nl\no\nt\ns\n_\n_\n \n=\n \n(\n)\n\n\n\n\n \n \n \n \nd\ne\nf\n \n_\n_\ns\ne\nt\ni\nt\ne\nm\n_\n_\n(\ns\ne\nl\nf\n,\n \nk\ne\ny\n,\n \nv\na\nl\nu\ne\n)\n:\n\n\n \n \n \n \n \n \n \n \ni\nf\n \nn\no\nt\n \ni\ns\ni\nn\ns\nt\na\nn\nc\ne\n(\nk\ne\ny\n,\n \ns\nt\nr\n)\n:\n\n\n \n \n \n \n \n \n \n \n \n \n \n \nr\na\ni\ns\ne\n \nT\ny\np\ne\nE\nr\nr\no\nr\n(\n'\nk\ne\ny\ns\n \nm\nu\ns\nt\n \nb\ne\n \ns\nt\nr\ni\nn\ng\ns\n'\n)\n\n\n \n \n \n \n \n \n \n \nr\ne\nt\nu\nr\nn\n \ns\nu\np\ne\nr\n(\n)\n.\n_\n_\ns\ne\nt\ni\nt\ne\nm\n_\n_\n(\nk\ne\ny\n,\n \nv\na\nl\nu\ne\n)\n\n"
      ]
    },
    {
      "cell_type": "markdown",
      "metadata": {},
      "source": [
        "\u8fd9\u4e9b\u7c7b\u5355\u72ec\u4f7f\u7528\u8d77\u6765\u6ca1\u6709\u4efb\u4f55\u610f\u4e49\uff0c\u4e8b\u5b9e\u4e0a\u5982\u679c\u4f60\u53bb\u5b9e\u4f8b\u5316\u4efb\u4f55\u4e00\u4e2a\u7c7b\uff0c\u9664\u4e86\u4ea7\u751f\u5f02\u5e38\u5916\u6ca1\u4efb\u4f55\u4f5c\u7528\u3002\n\u5b83\u4eec\u662f\u7528\u6765\u901a\u8fc7\u591a\u7ee7\u627f\u6765\u548c\u5176\u4ed6\u6620\u5c04\u5bf9\u8c61\u6df7\u5165\u4f7f\u7528\u7684\u3002\u4f8b\u5982\uff1a"
      ]
    },
    {
      "cell_type": "code",
      "execution_count": null,
      "metadata": {},
      "outputs": [],
      "source": [
        "c\nl\na\ns\ns\n \nL\no\ng\ng\ne\nd\nD\ni\nc\nt\n(\nL\no\ng\ng\ne\nd\nM\na\np\np\ni\nn\ng\nM\ni\nx\ni\nn\n,\n \nd\ni\nc\nt\n)\n:\n\n\n \n \n \n \np\na\ns\ns\n\n\n\n\nd\n \n=\n \nL\no\ng\ng\ne\nd\nD\ni\nc\nt\n(\n)\n\n\nd\n[\n'\nx\n'\n]\n \n=\n \n2\n3\n\n\np\nr\ni\nn\nt\n(\nd\n[\n'\nx\n'\n]\n)\n\n\nd\ne\nl\n \nd\n[\n'\nx\n'\n]\n\n\n\n\nf\nr\no\nm\n \nc\no\nl\nl\ne\nc\nt\ni\no\nn\ns\n \ni\nm\np\no\nr\nt\n \nd\ne\nf\na\nu\nl\nt\nd\ni\nc\nt\n\n\n\n\nc\nl\na\ns\ns\n \nS\ne\nt\nO\nn\nc\ne\nD\ne\nf\na\nu\nl\nt\nD\ni\nc\nt\n(\nS\ne\nt\nO\nn\nc\ne\nM\na\np\np\ni\nn\ng\nM\ni\nx\ni\nn\n,\n \nd\ne\nf\na\nu\nl\nt\nd\ni\nc\nt\n)\n:\n\n\n \n \n \n \np\na\ns\ns\n\n\n\n\n\n\nd\n \n=\n \nS\ne\nt\nO\nn\nc\ne\nD\ne\nf\na\nu\nl\nt\nD\ni\nc\nt\n(\nl\ni\ns\nt\n)\n\n\nd\n[\n'\nx\n'\n]\n.\na\np\np\ne\nn\nd\n(\n2\n)\n\n\nd\n[\n'\nx\n'\n]\n.\na\np\np\ne\nn\nd\n(\n3\n)\n\n\n#\n \nd\n[\n'\nx\n'\n]\n \n=\n \n2\n3\n \n \n#\n \nK\ne\ny\nE\nr\nr\no\nr\n:\n \n'\nx\n \na\nl\nr\ne\na\nd\ny\n \ns\ne\nt\n'\n\n"
      ]
    },
    {
      "cell_type": "markdown",
      "metadata": {},
      "source": [
        "\u8fd9\u4e2a\u4f8b\u5b50\u4e2d\uff0c\u53ef\u4ee5\u770b\u5230\u6df7\u5165\u7c7b\u8ddf\u5176\u4ed6\u5df2\u5b58\u5728\u7684\u7c7b(\u6bd4\u5982dict\u3001defaultdict\u548cOrderedDict)\u7ed3\u5408\u8d77\u6765\u4f7f\u7528\uff0c\u4e00\u4e2a\u63a5\u4e00\u4e2a\u3002\n\u7ed3\u5408\u540e\u5c31\u80fd\u53d1\u6325\u6b63\u5e38\u529f\u6548\u4e86\u3002"
      ]
    },
    {
      "cell_type": "markdown",
      "metadata": {},
      "source": [
        "### \u8ba8\u8bba\n"
      ]
    },
    {
      "cell_type": "markdown",
      "metadata": {},
      "source": [
        "\u6df7\u5165\u7c7b\u5728\u6807\u51c6\u5e93\u4e2d\u5f88\u591a\u5730\u65b9\u90fd\u51fa\u73b0\u8fc7\uff0c\u901a\u5e38\u90fd\u662f\u7528\u6765\u50cf\u4e0a\u9762\u90a3\u6837\u6269\u5c55\u67d0\u4e9b\u7c7b\u7684\u529f\u80fd\u3002\n\u5b83\u4eec\u4e5f\u662f\u591a\u7ee7\u627f\u7684\u4e00\u4e2a\u4e3b\u8981\u7528\u9014\u3002\u6bd4\u5982\uff0c\u5f53\u4f60\u7f16\u5199\u7f51\u7edc\u4ee3\u7801\u65f6\u5019\uff0c\n\u4f60\u4f1a\u7ecf\u5e38\u4f7f\u7528 socketserver \u6a21\u5757\u4e2d\u7684 ThreadingMixIn \u6765\u7ed9\u5176\u4ed6\u7f51\u7edc\u76f8\u5173\u7c7b\u589e\u52a0\u591a\u7ebf\u7a0b\u652f\u6301\u3002\n\u4f8b\u5982\uff0c\u4e0b\u9762\u662f\u4e00\u4e2a\u591a\u7ebf\u7a0b\u7684XML-RPC\u670d\u52a1\uff1a"
      ]
    },
    {
      "cell_type": "code",
      "execution_count": null,
      "metadata": {},
      "outputs": [],
      "source": [
        "f\nr\no\nm\n \nx\nm\nl\nr\np\nc\n.\ns\ne\nr\nv\ne\nr\n \ni\nm\np\no\nr\nt\n \nS\ni\nm\np\nl\ne\nX\nM\nL\nR\nP\nC\nS\ne\nr\nv\ne\nr\n\n\nf\nr\no\nm\n \ns\no\nc\nk\ne\nt\ns\ne\nr\nv\ne\nr\n \ni\nm\np\no\nr\nt\n \nT\nh\nr\ne\na\nd\ni\nn\ng\nM\ni\nx\nI\nn\n\n\nc\nl\na\ns\ns\n \nT\nh\nr\ne\na\nd\ne\nd\nX\nM\nL\nR\nP\nC\nS\ne\nr\nv\ne\nr\n(\nT\nh\nr\ne\na\nd\ni\nn\ng\nM\ni\nx\nI\nn\n,\n \nS\ni\nm\np\nl\ne\nX\nM\nL\nR\nP\nC\nS\ne\nr\nv\ne\nr\n)\n:\n\n\n \n \n \n \np\na\ns\ns\n\n"
      ]
    },
    {
      "cell_type": "markdown",
      "metadata": {},
      "source": [
        "\u540c\u65f6\u5728\u4e00\u4e9b\u5927\u578b\u5e93\u548c\u6846\u67b6\u4e2d\u4e5f\u4f1a\u53d1\u73b0\u6df7\u5165\u7c7b\u7684\u4f7f\u7528\uff0c\u7528\u9014\u540c\u6837\u662f\u589e\u5f3a\u5df2\u5b58\u5728\u7684\u7c7b\u7684\u529f\u80fd\u548c\u4e00\u4e9b\u53ef\u9009\u7279\u5f81\u3002"
      ]
    },
    {
      "cell_type": "markdown",
      "metadata": {},
      "source": [
        "\u5bf9\u4e8e\u6df7\u5165\u7c7b\uff0c\u6709\u51e0\u70b9\u9700\u8981\u8bb0\u4f4f\u3002\u9996\u5148\u662f\uff0c\u6df7\u5165\u7c7b\u4e0d\u80fd\u76f4\u63a5\u88ab\u5b9e\u4f8b\u5316\u4f7f\u7528\u3002\n\u5176\u6b21\uff0c\u6df7\u5165\u7c7b\u6ca1\u6709\u81ea\u5df1\u7684\u72b6\u6001\u4fe1\u606f\uff0c\u4e5f\u5c31\u662f\u8bf4\u5b83\u4eec\u5e76\u6ca1\u6709\u5b9a\u4e49 __init__() \u65b9\u6cd5\uff0c\u5e76\u4e14\u6ca1\u6709\u5b9e\u4f8b\u5c5e\u6027\u3002\n\u8fd9\u4e5f\u662f\u4e3a\u4ec0\u4e48\u6211\u4eec\u5728\u4e0a\u9762\u660e\u786e\u5b9a\u4e49\u4e86 __slots__ = () \u3002"
      ]
    },
    {
      "cell_type": "markdown",
      "metadata": {},
      "source": [
        "\u8fd8\u6709\u4e00\u79cd\u5b9e\u73b0\u6df7\u5165\u7c7b\u7684\u65b9\u5f0f\u5c31\u662f\u4f7f\u7528\u7c7b\u88c5\u9970\u5668\uff0c\u5982\u4e0b\u6240\u793a\uff1a"
      ]
    },
    {
      "cell_type": "code",
      "execution_count": null,
      "metadata": {},
      "outputs": [],
      "source": [
        "d\ne\nf\n \nL\no\ng\ng\ne\nd\nM\na\np\np\ni\nn\ng\n(\nc\nl\ns\n)\n:\n\n\n \n \n \n \n\"\n\"\n\"\n\u7b2c\n\u4e8c\n\u79cd\n\u65b9\n\u5f0f\n\uff1a\n\u4f7f\n\u7528\n\u7c7b\n\u88c5\n\u9970\n\u5668\n\"\n\"\n\"\n\n\n \n \n \n \nc\nl\ns\n_\ng\ne\nt\ni\nt\ne\nm\n \n=\n \nc\nl\ns\n.\n_\n_\ng\ne\nt\ni\nt\ne\nm\n_\n_\n\n\n \n \n \n \nc\nl\ns\n_\ns\ne\nt\ni\nt\ne\nm\n \n=\n \nc\nl\ns\n.\n_\n_\ns\ne\nt\ni\nt\ne\nm\n_\n_\n\n\n \n \n \n \nc\nl\ns\n_\nd\ne\nl\ni\nt\ne\nm\n \n=\n \nc\nl\ns\n.\n_\n_\nd\ne\nl\ni\nt\ne\nm\n_\n_\n\n\n\n\n \n \n \n \nd\ne\nf\n \n_\n_\ng\ne\nt\ni\nt\ne\nm\n_\n_\n(\ns\ne\nl\nf\n,\n \nk\ne\ny\n)\n:\n\n\n \n \n \n \n \n \n \n \np\nr\ni\nn\nt\n(\n'\nG\ne\nt\nt\ni\nn\ng\n \n'\n \n+\n \ns\nt\nr\n(\nk\ne\ny\n)\n)\n\n\n \n \n \n \n \n \n \n \nr\ne\nt\nu\nr\nn\n \nc\nl\ns\n_\ng\ne\nt\ni\nt\ne\nm\n(\ns\ne\nl\nf\n,\n \nk\ne\ny\n)\n\n\n\n\n \n \n \n \nd\ne\nf\n \n_\n_\ns\ne\nt\ni\nt\ne\nm\n_\n_\n(\ns\ne\nl\nf\n,\n \nk\ne\ny\n,\n \nv\na\nl\nu\ne\n)\n:\n\n\n \n \n \n \n \n \n \n \np\nr\ni\nn\nt\n(\n'\nS\ne\nt\nt\ni\nn\ng\n \n{\n}\n \n=\n \n{\n!\nr\n}\n'\n.\nf\no\nr\nm\na\nt\n(\nk\ne\ny\n,\n \nv\na\nl\nu\ne\n)\n)\n\n\n \n \n \n \n \n \n \n \nr\ne\nt\nu\nr\nn\n \nc\nl\ns\n_\ns\ne\nt\ni\nt\ne\nm\n(\ns\ne\nl\nf\n,\n \nk\ne\ny\n,\n \nv\na\nl\nu\ne\n)\n\n\n\n\n \n \n \n \nd\ne\nf\n \n_\n_\nd\ne\nl\ni\nt\ne\nm\n_\n_\n(\ns\ne\nl\nf\n,\n \nk\ne\ny\n)\n:\n\n\n \n \n \n \n \n \n \n \np\nr\ni\nn\nt\n(\n'\nD\ne\nl\ne\nt\ni\nn\ng\n \n'\n \n+\n \ns\nt\nr\n(\nk\ne\ny\n)\n)\n\n\n \n \n \n \n \n \n \n \nr\ne\nt\nu\nr\nn\n \nc\nl\ns\n_\nd\ne\nl\ni\nt\ne\nm\n(\ns\ne\nl\nf\n,\n \nk\ne\ny\n)\n\n\n\n\n \n \n \n \nc\nl\ns\n.\n_\n_\ng\ne\nt\ni\nt\ne\nm\n_\n_\n \n=\n \n_\n_\ng\ne\nt\ni\nt\ne\nm\n_\n_\n\n\n \n \n \n \nc\nl\ns\n.\n_\n_\ns\ne\nt\ni\nt\ne\nm\n_\n_\n \n=\n \n_\n_\ns\ne\nt\ni\nt\ne\nm\n_\n_\n\n\n \n \n \n \nc\nl\ns\n.\n_\n_\nd\ne\nl\ni\nt\ne\nm\n_\n_\n \n=\n \n_\n_\nd\ne\nl\ni\nt\ne\nm\n_\n_\n\n\n \n \n \n \nr\ne\nt\nu\nr\nn\n \nc\nl\ns\n\n\n\n\n\n\n@\nL\no\ng\ng\ne\nd\nM\na\np\np\ni\nn\ng\n\n\nc\nl\na\ns\ns\n \nL\no\ng\ng\ne\nd\nD\ni\nc\nt\n(\nd\ni\nc\nt\n)\n:\n\n\n \n \n \n \np\na\ns\ns\n\n"
      ]
    },
    {
      "cell_type": "markdown",
      "metadata": {},
      "source": [
        "\u8fd9\u4e2a\u6548\u679c\u8ddf\u4e4b\u524d\u7684\u662f\u4e00\u6837\u7684\uff0c\u800c\u4e14\u4e0d\u518d\u9700\u8981\u4f7f\u7528\u591a\u7ee7\u627f\u4e86\u3002\u53c2\u80039.12\u5c0f\u8282\u83b7\u53d6\u66f4\u591a\u7c7b\u88c5\u9970\u5668\u7684\u4fe1\u606f\uff0c\n\u53c2\u80038.13\u5c0f\u8282\u67e5\u770b\u66f4\u591a\u6df7\u5165\u7c7b\u548c\u7c7b\u88c5\u9970\u5668\u7684\u4f8b\u5b50\u3002"
      ]
    },
    {
      "cell_type": "markdown",
      "metadata": {},
      "source": [
        "## 8.19 \u5b9e\u73b0\u72b6\u6001\u5bf9\u8c61\u6216\u8005\u72b6\u6001\u673a\n"
      ]
    },
    {
      "cell_type": "markdown",
      "metadata": {},
      "source": [
        "### \u95ee\u9898\n"
      ]
    },
    {
      "cell_type": "markdown",
      "metadata": {},
      "source": [
        "\u4f60\u60f3\u5b9e\u73b0\u4e00\u4e2a\u72b6\u6001\u673a\u6216\u8005\u662f\u5728\u4e0d\u540c\u72b6\u6001\u4e0b\u6267\u884c\u64cd\u4f5c\u7684\u5bf9\u8c61\uff0c\u4f46\u662f\u53c8\u4e0d\u60f3\u5728\u4ee3\u7801\u4e2d\u51fa\u73b0\u592a\u591a\u7684\u6761\u4ef6\u5224\u65ad\u8bed\u53e5\u3002"
      ]
    },
    {
      "cell_type": "markdown",
      "metadata": {},
      "source": [
        "### \u89e3\u51b3\u65b9\u6848\n"
      ]
    },
    {
      "cell_type": "markdown",
      "metadata": {},
      "source": [
        "\u5728\u5f88\u591a\u7a0b\u5e8f\u4e2d\uff0c\u6709\u4e9b\u5bf9\u8c61\u4f1a\u6839\u636e\u72b6\u6001\u7684\u4e0d\u540c\u6765\u6267\u884c\u4e0d\u540c\u7684\u64cd\u4f5c\u3002\u6bd4\u5982\u8003\u8651\u5982\u4e0b\u7684\u4e00\u4e2a\u8fde\u63a5\u5bf9\u8c61\uff1a"
      ]
    },
    {
      "cell_type": "code",
      "execution_count": null,
      "metadata": {},
      "outputs": [],
      "source": [
        "c\nl\na\ns\ns\n \nC\no\nn\nn\ne\nc\nt\ni\no\nn\n:\n\n\n \n \n \n \n\"\n\"\n\"\n\u666e\n\u901a\n\u65b9\n\u6848\n\uff0c\n\u597d\n\u591a\n\u4e2a\n\u5224\n\u65ad\n\u8bed\n\u53e5\n\uff0c\n\u6548\n\u7387\n\u4f4e\n\u4e0b\n~\n~\n\"\n\"\n\"\n\n\n\n\n \n \n \n \nd\ne\nf\n \n_\n_\ni\nn\ni\nt\n_\n_\n(\ns\ne\nl\nf\n)\n:\n\n\n \n \n \n \n \n \n \n \ns\ne\nl\nf\n.\ns\nt\na\nt\ne\n \n=\n \n'\nC\nL\nO\nS\nE\nD\n'\n\n\n\n\n \n \n \n \nd\ne\nf\n \nr\ne\na\nd\n(\ns\ne\nl\nf\n)\n:\n\n\n \n \n \n \n \n \n \n \ni\nf\n \ns\ne\nl\nf\n.\ns\nt\na\nt\ne\n \n!\n=\n \n'\nO\nP\nE\nN\n'\n:\n\n\n \n \n \n \n \n \n \n \n \n \n \n \nr\na\ni\ns\ne\n \nR\nu\nn\nt\ni\nm\ne\nE\nr\nr\no\nr\n(\n'\nN\no\nt\n \no\np\ne\nn\n'\n)\n\n\n \n \n \n \n \n \n \n \np\nr\ni\nn\nt\n(\n'\nr\ne\na\nd\ni\nn\ng\n'\n)\n\n\n\n\n \n \n \n \nd\ne\nf\n \nw\nr\ni\nt\ne\n(\ns\ne\nl\nf\n,\n \nd\na\nt\na\n)\n:\n\n\n \n \n \n \n \n \n \n \ni\nf\n \ns\ne\nl\nf\n.\ns\nt\na\nt\ne\n \n!\n=\n \n'\nO\nP\nE\nN\n'\n:\n\n\n \n \n \n \n \n \n \n \n \n \n \n \nr\na\ni\ns\ne\n \nR\nu\nn\nt\ni\nm\ne\nE\nr\nr\no\nr\n(\n'\nN\no\nt\n \no\np\ne\nn\n'\n)\n\n\n \n \n \n \n \n \n \n \np\nr\ni\nn\nt\n(\n'\nw\nr\ni\nt\ni\nn\ng\n'\n)\n\n\n\n\n \n \n \n \nd\ne\nf\n \no\np\ne\nn\n(\ns\ne\nl\nf\n)\n:\n\n\n \n \n \n \n \n \n \n \ni\nf\n \ns\ne\nl\nf\n.\ns\nt\na\nt\ne\n \n=\n=\n \n'\nO\nP\nE\nN\n'\n:\n\n\n \n \n \n \n \n \n \n \n \n \n \n \nr\na\ni\ns\ne\n \nR\nu\nn\nt\ni\nm\ne\nE\nr\nr\no\nr\n(\n'\nA\nl\nr\ne\na\nd\ny\n \no\np\ne\nn\n'\n)\n\n\n \n \n \n \n \n \n \n \ns\ne\nl\nf\n.\ns\nt\na\nt\ne\n \n=\n \n'\nO\nP\nE\nN\n'\n\n\n\n\n \n \n \n \nd\ne\nf\n \nc\nl\no\ns\ne\n(\ns\ne\nl\nf\n)\n:\n\n\n \n \n \n \n \n \n \n \ni\nf\n \ns\ne\nl\nf\n.\ns\nt\na\nt\ne\n \n=\n=\n \n'\nC\nL\nO\nS\nE\nD\n'\n:\n\n\n \n \n \n \n \n \n \n \n \n \n \n \nr\na\ni\ns\ne\n \nR\nu\nn\nt\ni\nm\ne\nE\nr\nr\no\nr\n(\n'\nA\nl\nr\ne\na\nd\ny\n \nc\nl\no\ns\ne\nd\n'\n)\n\n\n \n \n \n \n \n \n \n \ns\ne\nl\nf\n.\ns\nt\na\nt\ne\n \n=\n \n'\nC\nL\nO\nS\nE\nD\n'\n\n"
      ]
    },
    {
      "cell_type": "markdown",
      "metadata": {},
      "source": [
        "\u8fd9\u6837\u5199\u6709\u5f88\u591a\u7f3a\u70b9\uff0c\u9996\u5148\u662f\u4ee3\u7801\u592a\u590d\u6742\u4e86\uff0c\u597d\u591a\u7684\u6761\u4ef6\u5224\u65ad\u3002\u5176\u6b21\u662f\u6267\u884c\u6548\u7387\u53d8\u4f4e\uff0c\n\u56e0\u4e3a\u4e00\u4e9b\u5e38\u89c1\u7684\u64cd\u4f5c\u6bd4\u5982read()\u3001write()\u6bcf\u6b21\u6267\u884c\u524d\u90fd\u9700\u8981\u6267\u884c\u68c0\u67e5\u3002"
      ]
    },
    {
      "cell_type": "markdown",
      "metadata": {},
      "source": [
        "\u4e00\u4e2a\u66f4\u597d\u7684\u529e\u6cd5\u662f\u4e3a\u6bcf\u4e2a\u72b6\u6001\u5b9a\u4e49\u4e00\u4e2a\u5bf9\u8c61\uff1a"
      ]
    },
    {
      "cell_type": "code",
      "execution_count": null,
      "metadata": {},
      "outputs": [],
      "source": [
        "c\nl\na\ns\ns\n \nC\no\nn\nn\ne\nc\nt\ni\no\nn\n1\n:\n\n\n \n \n \n \n\"\n\"\n\"\n\u65b0\n\u65b9\n\u6848\n\u2014\n\u2014\n\u5bf9\n\u6bcf\n\u4e2a\n\u72b6\n\u6001\n\u5b9a\n\u4e49\n\u4e00\n\u4e2a\n\u7c7b\n\"\n\"\n\"\n\n\n\n\n \n \n \n \nd\ne\nf\n \n_\n_\ni\nn\ni\nt\n_\n_\n(\ns\ne\nl\nf\n)\n:\n\n\n \n \n \n \n \n \n \n \ns\ne\nl\nf\n.\nn\ne\nw\n_\ns\nt\na\nt\ne\n(\nC\nl\no\ns\ne\nd\nC\no\nn\nn\ne\nc\nt\ni\no\nn\nS\nt\na\nt\ne\n)\n\n\n\n\n \n \n \n \nd\ne\nf\n \nn\ne\nw\n_\ns\nt\na\nt\ne\n(\ns\ne\nl\nf\n,\n \nn\ne\nw\ns\nt\na\nt\ne\n)\n:\n\n\n \n \n \n \n \n \n \n \ns\ne\nl\nf\n.\n_\ns\nt\na\nt\ne\n \n=\n \nn\ne\nw\ns\nt\na\nt\ne\n\n\n \n \n \n \n \n \n \n \n#\n \nD\ne\nl\ne\ng\na\nt\ne\n \nt\no\n \nt\nh\ne\n \ns\nt\na\nt\ne\n \nc\nl\na\ns\ns\n\n\n\n\n \n \n \n \nd\ne\nf\n \nr\ne\na\nd\n(\ns\ne\nl\nf\n)\n:\n\n\n \n \n \n \n \n \n \n \nr\ne\nt\nu\nr\nn\n \ns\ne\nl\nf\n.\n_\ns\nt\na\nt\ne\n.\nr\ne\na\nd\n(\ns\ne\nl\nf\n)\n\n\n\n\n \n \n \n \nd\ne\nf\n \nw\nr\ni\nt\ne\n(\ns\ne\nl\nf\n,\n \nd\na\nt\na\n)\n:\n\n\n \n \n \n \n \n \n \n \nr\ne\nt\nu\nr\nn\n \ns\ne\nl\nf\n.\n_\ns\nt\na\nt\ne\n.\nw\nr\ni\nt\ne\n(\ns\ne\nl\nf\n,\n \nd\na\nt\na\n)\n\n\n\n\n \n \n \n \nd\ne\nf\n \no\np\ne\nn\n(\ns\ne\nl\nf\n)\n:\n\n\n \n \n \n \n \n \n \n \nr\ne\nt\nu\nr\nn\n \ns\ne\nl\nf\n.\n_\ns\nt\na\nt\ne\n.\no\np\ne\nn\n(\ns\ne\nl\nf\n)\n\n\n\n\n \n \n \n \nd\ne\nf\n \nc\nl\no\ns\ne\n(\ns\ne\nl\nf\n)\n:\n\n\n \n \n \n \n \n \n \n \nr\ne\nt\nu\nr\nn\n \ns\ne\nl\nf\n.\n_\ns\nt\na\nt\ne\n.\nc\nl\no\ns\ne\n(\ns\ne\nl\nf\n)\n\n\n\n\n\n\n#\n \nC\no\nn\nn\ne\nc\nt\ni\no\nn\n \ns\nt\na\nt\ne\n \nb\na\ns\ne\n \nc\nl\na\ns\ns\n\n\nc\nl\na\ns\ns\n \nC\no\nn\nn\ne\nc\nt\ni\no\nn\nS\nt\na\nt\ne\n:\n\n\n \n \n \n \n@\ns\nt\na\nt\ni\nc\nm\ne\nt\nh\no\nd\n\n\n \n \n \n \nd\ne\nf\n \nr\ne\na\nd\n(\nc\no\nn\nn\n)\n:\n\n\n \n \n \n \n \n \n \n \nr\na\ni\ns\ne\n \nN\no\nt\nI\nm\np\nl\ne\nm\ne\nn\nt\ne\nd\nE\nr\nr\no\nr\n(\n)\n\n\n\n\n \n \n \n \n@\ns\nt\na\nt\ni\nc\nm\ne\nt\nh\no\nd\n\n\n \n \n \n \nd\ne\nf\n \nw\nr\ni\nt\ne\n(\nc\no\nn\nn\n,\n \nd\na\nt\na\n)\n:\n\n\n \n \n \n \n \n \n \n \nr\na\ni\ns\ne\n \nN\no\nt\nI\nm\np\nl\ne\nm\ne\nn\nt\ne\nd\nE\nr\nr\no\nr\n(\n)\n\n\n\n\n \n \n \n \n@\ns\nt\na\nt\ni\nc\nm\ne\nt\nh\no\nd\n\n\n \n \n \n \nd\ne\nf\n \no\np\ne\nn\n(\nc\no\nn\nn\n)\n:\n\n\n \n \n \n \n \n \n \n \nr\na\ni\ns\ne\n \nN\no\nt\nI\nm\np\nl\ne\nm\ne\nn\nt\ne\nd\nE\nr\nr\no\nr\n(\n)\n\n\n\n\n \n \n \n \n@\ns\nt\na\nt\ni\nc\nm\ne\nt\nh\no\nd\n\n\n \n \n \n \nd\ne\nf\n \nc\nl\no\ns\ne\n(\nc\no\nn\nn\n)\n:\n\n\n \n \n \n \n \n \n \n \nr\na\ni\ns\ne\n \nN\no\nt\nI\nm\np\nl\ne\nm\ne\nn\nt\ne\nd\nE\nr\nr\no\nr\n(\n)\n\n\n\n\n\n\n#\n \nI\nm\np\nl\ne\nm\ne\nn\nt\na\nt\ni\no\nn\n \no\nf\n \nd\ni\nf\nf\ne\nr\ne\nn\nt\n \ns\nt\na\nt\ne\ns\n\n\nc\nl\na\ns\ns\n \nC\nl\no\ns\ne\nd\nC\no\nn\nn\ne\nc\nt\ni\no\nn\nS\nt\na\nt\ne\n(\nC\no\nn\nn\ne\nc\nt\ni\no\nn\nS\nt\na\nt\ne\n)\n:\n\n\n \n \n \n \n@\ns\nt\na\nt\ni\nc\nm\ne\nt\nh\no\nd\n\n\n \n \n \n \nd\ne\nf\n \nr\ne\na\nd\n(\nc\no\nn\nn\n)\n:\n\n\n \n \n \n \n \n \n \n \nr\na\ni\ns\ne\n \nR\nu\nn\nt\ni\nm\ne\nE\nr\nr\no\nr\n(\n'\nN\no\nt\n \no\np\ne\nn\n'\n)\n\n\n\n\n \n \n \n \n@\ns\nt\na\nt\ni\nc\nm\ne\nt\nh\no\nd\n\n\n \n \n \n \nd\ne\nf\n \nw\nr\ni\nt\ne\n(\nc\no\nn\nn\n,\n \nd\na\nt\na\n)\n:\n\n\n \n \n \n \n \n \n \n \nr\na\ni\ns\ne\n \nR\nu\nn\nt\ni\nm\ne\nE\nr\nr\no\nr\n(\n'\nN\no\nt\n \no\np\ne\nn\n'\n)\n\n\n\n\n \n \n \n \n@\ns\nt\na\nt\ni\nc\nm\ne\nt\nh\no\nd\n\n\n \n \n \n \nd\ne\nf\n \no\np\ne\nn\n(\nc\no\nn\nn\n)\n:\n\n\n \n \n \n \n \n \n \n \nc\no\nn\nn\n.\nn\ne\nw\n_\ns\nt\na\nt\ne\n(\nO\np\ne\nn\nC\no\nn\nn\ne\nc\nt\ni\no\nn\nS\nt\na\nt\ne\n)\n\n\n\n\n \n \n \n \n@\ns\nt\na\nt\ni\nc\nm\ne\nt\nh\no\nd\n\n\n \n \n \n \nd\ne\nf\n \nc\nl\no\ns\ne\n(\nc\no\nn\nn\n)\n:\n\n\n \n \n \n \n \n \n \n \nr\na\ni\ns\ne\n \nR\nu\nn\nt\ni\nm\ne\nE\nr\nr\no\nr\n(\n'\nA\nl\nr\ne\na\nd\ny\n \nc\nl\no\ns\ne\nd\n'\n)\n\n\n\n\n\n\nc\nl\na\ns\ns\n \nO\np\ne\nn\nC\no\nn\nn\ne\nc\nt\ni\no\nn\nS\nt\na\nt\ne\n(\nC\no\nn\nn\ne\nc\nt\ni\no\nn\nS\nt\na\nt\ne\n)\n:\n\n\n \n \n \n \n@\ns\nt\na\nt\ni\nc\nm\ne\nt\nh\no\nd\n\n\n \n \n \n \nd\ne\nf\n \nr\ne\na\nd\n(\nc\no\nn\nn\n)\n:\n\n\n \n \n \n \n \n \n \n \np\nr\ni\nn\nt\n(\n'\nr\ne\na\nd\ni\nn\ng\n'\n)\n\n\n\n\n \n \n \n \n@\ns\nt\na\nt\ni\nc\nm\ne\nt\nh\no\nd\n\n\n \n \n \n \nd\ne\nf\n \nw\nr\ni\nt\ne\n(\nc\no\nn\nn\n,\n \nd\na\nt\na\n)\n:\n\n\n \n \n \n \n \n \n \n \np\nr\ni\nn\nt\n(\n'\nw\nr\ni\nt\ni\nn\ng\n'\n)\n\n\n\n\n \n \n \n \n@\ns\nt\na\nt\ni\nc\nm\ne\nt\nh\no\nd\n\n\n \n \n \n \nd\ne\nf\n \no\np\ne\nn\n(\nc\no\nn\nn\n)\n:\n\n\n \n \n \n \n \n \n \n \nr\na\ni\ns\ne\n \nR\nu\nn\nt\ni\nm\ne\nE\nr\nr\no\nr\n(\n'\nA\nl\nr\ne\na\nd\ny\n \no\np\ne\nn\n'\n)\n\n\n\n\n \n \n \n \n@\ns\nt\na\nt\ni\nc\nm\ne\nt\nh\no\nd\n\n\n \n \n \n \nd\ne\nf\n \nc\nl\no\ns\ne\n(\nc\no\nn\nn\n)\n:\n\n\n \n \n \n \n \n \n \n \nc\no\nn\nn\n.\nn\ne\nw\n_\ns\nt\na\nt\ne\n(\nC\nl\no\ns\ne\nd\nC\no\nn\nn\ne\nc\nt\ni\no\nn\nS\nt\na\nt\ne\n)\n\n"
      ]
    },
    {
      "cell_type": "markdown",
      "metadata": {},
      "source": [
        "\u4e0b\u9762\u662f\u4f7f\u7528\u6f14\u793a\uff1a"
      ]
    },
    {
      "cell_type": "code",
      "execution_count": null,
      "metadata": {},
      "outputs": [],
      "source": [
        "c = Connection()\nc._state"
      ]
    },
    {
      "cell_type": "code",
      "execution_count": null,
      "metadata": {},
      "outputs": [],
      "source": [
        "c.read()"
      ]
    },
    {
      "cell_type": "code",
      "execution_count": null,
      "metadata": {},
      "outputs": [],
      "source": [
        "c.open()\nc._state"
      ]
    },
    {
      "cell_type": "code",
      "execution_count": null,
      "metadata": {},
      "outputs": [],
      "source": [
        "c.read()"
      ]
    },
    {
      "cell_type": "code",
      "execution_count": null,
      "metadata": {},
      "outputs": [],
      "source": [
        "c.write('hello')"
      ]
    },
    {
      "cell_type": "code",
      "execution_count": null,
      "metadata": {},
      "outputs": [],
      "source": [
        "c.close()\nc._state"
      ]
    },
    {
      "cell_type": "markdown",
      "metadata": {},
      "source": [
        "### \u8ba8\u8bba\n"
      ]
    },
    {
      "cell_type": "markdown",
      "metadata": {},
      "source": [
        "\u5982\u679c\u4ee3\u7801\u4e2d\u51fa\u73b0\u592a\u591a\u7684\u6761\u4ef6\u5224\u65ad\u8bed\u53e5\u7684\u8bdd\uff0c\u4ee3\u7801\u5c31\u4f1a\u53d8\u5f97\u96be\u4ee5\u7ef4\u62a4\u548c\u9605\u8bfb\u3002\n\u8fd9\u91cc\u7684\u89e3\u51b3\u65b9\u6848\u662f\u5c06\u6bcf\u4e2a\u72b6\u6001\u62bd\u53d6\u51fa\u6765\u5b9a\u4e49\u6210\u4e00\u4e2a\u7c7b\u3002"
      ]
    },
    {
      "cell_type": "markdown",
      "metadata": {},
      "source": [
        "\u8fd9\u91cc\u770b\u4e0a\u53bb\u6709\u70b9\u5947\u602a\uff0c\u6bcf\u4e2a\u72b6\u6001\u5bf9\u8c61\u90fd\u53ea\u6709\u9759\u6001\u65b9\u6cd5\uff0c\u5e76\u6ca1\u6709\u5b58\u50a8\u4efb\u4f55\u7684\u5b9e\u4f8b\u5c5e\u6027\u6570\u636e\u3002\n\u5b9e\u9645\u4e0a\uff0c\u6240\u6709\u72b6\u6001\u4fe1\u606f\u90fd\u53ea\u5b58\u50a8\u5728 Connection \u5b9e\u4f8b\u4e2d\u3002\n\u5728\u57fa\u7c7b\u4e2d\u5b9a\u4e49\u7684 NotImplementedError \u662f\u4e3a\u4e86\u786e\u4fdd\u5b50\u7c7b\u5b9e\u73b0\u4e86\u76f8\u5e94\u7684\u65b9\u6cd5\u3002\n\u8fd9\u91cc\u4f60\u6216\u8bb8\u8fd8\u60f3\u4f7f\u75288.12\u5c0f\u8282\u8bb2\u89e3\u7684\u62bd\u8c61\u57fa\u7c7b\u65b9\u5f0f\u3002"
      ]
    },
    {
      "cell_type": "markdown",
      "metadata": {},
      "source": [
        "\u8bbe\u8ba1\u6a21\u5f0f\u4e2d\u6709\u4e00\u79cd\u6a21\u5f0f\u53eb\u72b6\u6001\u6a21\u5f0f\uff0c\u8fd9\u4e00\u5c0f\u8282\u7b97\u662f\u4e00\u4e2a\u521d\u6b65\u5165\u95e8\uff01"
      ]
    },
    {
      "cell_type": "markdown",
      "metadata": {},
      "source": [
        "## 8.20 \u901a\u8fc7\u5b57\u7b26\u4e32\u8c03\u7528\u5bf9\u8c61\u65b9\u6cd5\n"
      ]
    },
    {
      "cell_type": "markdown",
      "metadata": {},
      "source": [
        "### \u95ee\u9898\n"
      ]
    },
    {
      "cell_type": "markdown",
      "metadata": {},
      "source": [
        "\u4f60\u6709\u4e00\u4e2a\u5b57\u7b26\u4e32\u5f62\u5f0f\u7684\u65b9\u6cd5\u540d\u79f0\uff0c\u60f3\u901a\u8fc7\u5b83\u8c03\u7528\u67d0\u4e2a\u5bf9\u8c61\u7684\u5bf9\u5e94\u65b9\u6cd5\u3002"
      ]
    },
    {
      "cell_type": "markdown",
      "metadata": {},
      "source": [
        "### \u89e3\u51b3\u65b9\u6848\n"
      ]
    },
    {
      "cell_type": "markdown",
      "metadata": {},
      "source": [
        "\u6700\u7b80\u5355\u7684\u60c5\u51b5\uff0c\u53ef\u4ee5\u4f7f\u7528 getattr() \uff1a"
      ]
    },
    {
      "cell_type": "code",
      "execution_count": null,
      "metadata": {},
      "outputs": [],
      "source": [
        "i\nm\np\no\nr\nt\n \nm\na\nt\nh\n\n\n\n\nc\nl\na\ns\ns\n \nP\no\ni\nn\nt\n:\n\n\n \n \n \n \nd\ne\nf\n \n_\n_\ni\nn\ni\nt\n_\n_\n(\ns\ne\nl\nf\n,\n \nx\n,\n \ny\n)\n:\n\n\n \n \n \n \n \n \n \n \ns\ne\nl\nf\n.\nx\n \n=\n \nx\n\n\n \n \n \n \n \n \n \n \ns\ne\nl\nf\n.\ny\n \n=\n \ny\n\n\n\n\n \n \n \n \nd\ne\nf\n \n_\n_\nr\ne\np\nr\n_\n_\n(\ns\ne\nl\nf\n)\n:\n\n\n \n \n \n \n \n \n \n \nr\ne\nt\nu\nr\nn\n \n'\nP\no\ni\nn\nt\n(\n{\n!\nr\n:\n}\n,\n{\n!\nr\n:\n}\n)\n'\n.\nf\no\nr\nm\na\nt\n(\ns\ne\nl\nf\n.\nx\n,\n \ns\ne\nl\nf\n.\ny\n)\n\n\n\n\n \n \n \n \nd\ne\nf\n \nd\ni\ns\nt\na\nn\nc\ne\n(\ns\ne\nl\nf\n,\n \nx\n,\n \ny\n)\n:\n\n\n \n \n \n \n \n \n \n \nr\ne\nt\nu\nr\nn\n \nm\na\nt\nh\n.\nh\ny\np\no\nt\n(\ns\ne\nl\nf\n.\nx\n \n-\n \nx\n,\n \ns\ne\nl\nf\n.\ny\n \n-\n \ny\n)\n\n\n\n\n\n\np\n \n=\n \nP\no\ni\nn\nt\n(\n2\n,\n \n3\n)\n\n\nd\n \n=\n \ng\ne\nt\na\nt\nt\nr\n(\np\n,\n \n'\nd\ni\ns\nt\na\nn\nc\ne\n'\n)\n(\n0\n,\n \n0\n)\n \n \n#\n \nC\na\nl\nl\ns\n \np\n.\nd\ni\ns\nt\na\nn\nc\ne\n(\n0\n,\n \n0\n)\n\n"
      ]
    },
    {
      "cell_type": "markdown",
      "metadata": {},
      "source": [
        "\u53e6\u5916\u4e00\u79cd\u65b9\u6cd5\u662f\u4f7f\u7528 operator.methodcaller() \uff0c\u4f8b\u5982\uff1a"
      ]
    },
    {
      "cell_type": "code",
      "execution_count": null,
      "metadata": {},
      "outputs": [],
      "source": [
        "i\nm\np\no\nr\nt\n \no\np\ne\nr\na\nt\no\nr\n\n\no\np\ne\nr\na\nt\no\nr\n.\nm\ne\nt\nh\no\nd\nc\na\nl\nl\ne\nr\n(\n'\nd\ni\ns\nt\na\nn\nc\ne\n'\n,\n \n0\n,\n \n0\n)\n(\np\n)\n\n"
      ]
    },
    {
      "cell_type": "markdown",
      "metadata": {},
      "source": [
        "\u5f53\u4f60\u9700\u8981\u901a\u8fc7\u76f8\u540c\u7684\u53c2\u6570\u591a\u6b21\u8c03\u7528\u67d0\u4e2a\u65b9\u6cd5\u65f6\uff0c\u4f7f\u7528 operator.methodcaller \u5c31\u5f88\u65b9\u4fbf\u4e86\u3002\n\u6bd4\u5982\u4f60\u9700\u8981\u6392\u5e8f\u4e00\u7cfb\u5217\u7684\u70b9\uff0c\u5c31\u53ef\u4ee5\u8fd9\u6837\u505a\uff1a"
      ]
    },
    {
      "cell_type": "code",
      "execution_count": null,
      "metadata": {},
      "outputs": [],
      "source": [
        "p\no\ni\nn\nt\ns\n \n=\n \n[\n\n\n \n \n \n \nP\no\ni\nn\nt\n(\n1\n,\n \n2\n)\n,\n\n\n \n \n \n \nP\no\ni\nn\nt\n(\n3\n,\n \n0\n)\n,\n\n\n \n \n \n \nP\no\ni\nn\nt\n(\n1\n0\n,\n \n-\n3\n)\n,\n\n\n \n \n \n \nP\no\ni\nn\nt\n(\n-\n5\n,\n \n-\n7\n)\n,\n\n\n \n \n \n \nP\no\ni\nn\nt\n(\n-\n1\n,\n \n8\n)\n,\n\n\n \n \n \n \nP\no\ni\nn\nt\n(\n3\n,\n \n2\n)\n\n\n]\n\n\n#\n \nS\no\nr\nt\n \nb\ny\n \nd\ni\ns\nt\na\nn\nc\ne\n \nf\nr\no\nm\n \no\nr\ni\ng\ni\nn\n \n(\n0\n,\n \n0\n)\n\n\np\no\ni\nn\nt\ns\n.\ns\no\nr\nt\n(\nk\ne\ny\n=\no\np\ne\nr\na\nt\no\nr\n.\nm\ne\nt\nh\no\nd\nc\na\nl\nl\ne\nr\n(\n'\nd\ni\ns\nt\na\nn\nc\ne\n'\n,\n \n0\n,\n \n0\n)\n)\n\n"
      ]
    },
    {
      "cell_type": "markdown",
      "metadata": {},
      "source": [
        "### \u8ba8\u8bba\n"
      ]
    },
    {
      "cell_type": "markdown",
      "metadata": {},
      "source": [
        "\u8c03\u7528\u4e00\u4e2a\u65b9\u6cd5\u5b9e\u9645\u4e0a\u662f\u4e24\u90e8\u72ec\u7acb\u64cd\u4f5c\uff0c\u7b2c\u4e00\u6b65\u662f\u67e5\u627e\u5c5e\u6027\uff0c\u7b2c\u4e8c\u6b65\u662f\u51fd\u6570\u8c03\u7528\u3002\n\u56e0\u6b64\uff0c\u4e3a\u4e86\u8c03\u7528\u67d0\u4e2a\u65b9\u6cd5\uff0c\u4f60\u53ef\u4ee5\u9996\u5148\u901a\u8fc7 getattr() \u6765\u67e5\u627e\u5230\u8fd9\u4e2a\u5c5e\u6027\uff0c\u7136\u540e\u518d\u53bb\u4ee5\u51fd\u6570\u65b9\u5f0f\u8c03\u7528\u5b83\u5373\u53ef\u3002"
      ]
    },
    {
      "cell_type": "markdown",
      "metadata": {},
      "source": [
        "operator.methodcaller() \u521b\u5efa\u4e00\u4e2a\u53ef\u8c03\u7528\u5bf9\u8c61\uff0c\u5e76\u540c\u65f6\u63d0\u4f9b\u6240\u6709\u5fc5\u8981\u53c2\u6570\uff0c\n\u7136\u540e\u8c03\u7528\u7684\u65f6\u5019\u53ea\u9700\u8981\u5c06\u5b9e\u4f8b\u5bf9\u8c61\u4f20\u9012\u7ed9\u5b83\u5373\u53ef\uff0c\u6bd4\u5982\uff1a"
      ]
    },
    {
      "cell_type": "code",
      "execution_count": null,
      "metadata": {},
      "outputs": [],
      "source": [
        "p = Point(3, 4)\nd = operator.methodcaller('distance', 0, 0)\nd(p)"
      ]
    },
    {
      "cell_type": "markdown",
      "metadata": {},
      "source": [
        "\u901a\u8fc7\u65b9\u6cd5\u540d\u79f0\u5b57\u7b26\u4e32\u6765\u8c03\u7528\u65b9\u6cd5\u901a\u5e38\u51fa\u73b0\u5728\u9700\u8981\u6a21\u62df case \u8bed\u53e5\u6216\u5b9e\u73b0\u8bbf\u95ee\u8005\u6a21\u5f0f\u7684\u65f6\u5019\u3002\n\u53c2\u8003\u4e0b\u4e00\u5c0f\u8282\u83b7\u53d6\u66f4\u591a\u9ad8\u7ea7\u4f8b\u5b50\u3002"
      ]
    },
    {
      "cell_type": "markdown",
      "metadata": {},
      "source": [
        "## 8.21 \u5b9e\u73b0\u8bbf\u95ee\u8005\u6a21\u5f0f\n"
      ]
    },
    {
      "cell_type": "markdown",
      "metadata": {},
      "source": [
        "### \u95ee\u9898\n"
      ]
    },
    {
      "cell_type": "markdown",
      "metadata": {},
      "source": [
        "\u4f60\u8981\u5904\u7406\u7531\u5927\u91cf\u4e0d\u540c\u7c7b\u578b\u7684\u5bf9\u8c61\u7ec4\u6210\u7684\u590d\u6742\u6570\u636e\u7ed3\u6784\uff0c\u6bcf\u4e00\u4e2a\u5bf9\u8c61\u90fd\u9700\u8981\u8fdb\u884c\u4e0d\u540c\u7684\u5904\u7406\u3002\n\u6bd4\u5982\uff0c\u904d\u5386\u4e00\u4e2a\u6811\u5f62\u7ed3\u6784\uff0c\u7136\u540e\u6839\u636e\u6bcf\u4e2a\u8282\u70b9\u7684\u76f8\u5e94\u72b6\u6001\u6267\u884c\u4e0d\u540c\u7684\u64cd\u4f5c\u3002"
      ]
    },
    {
      "cell_type": "markdown",
      "metadata": {},
      "source": [
        "### \u89e3\u51b3\u65b9\u6848\n"
      ]
    },
    {
      "cell_type": "markdown",
      "metadata": {},
      "source": [
        "\u8fd9\u91cc\u9047\u5230\u7684\u95ee\u9898\u5728\u7f16\u7a0b\u9886\u57df\u4e2d\u662f\u5f88\u666e\u904d\u7684\uff0c\u6709\u65f6\u5019\u4f1a\u6784\u5efa\u4e00\u4e2a\u7531\u5927\u91cf\u4e0d\u540c\u5bf9\u8c61\u7ec4\u6210\u7684\u6570\u636e\u7ed3\u6784\u3002\n\u5047\u8bbe\u4f60\u8981\u5199\u4e00\u4e2a\u8868\u793a\u6570\u5b66\u8868\u8fbe\u5f0f\u7684\u7a0b\u5e8f\uff0c\u90a3\u4e48\u4f60\u53ef\u80fd\u9700\u8981\u5b9a\u4e49\u5982\u4e0b\u7684\u7c7b\uff1a"
      ]
    },
    {
      "cell_type": "code",
      "execution_count": null,
      "metadata": {},
      "outputs": [],
      "source": [
        "c\nl\na\ns\ns\n \nN\no\nd\ne\n:\n\n\n \n \n \n \np\na\ns\ns\n\n\n\n\nc\nl\na\ns\ns\n \nU\nn\na\nr\ny\nO\np\ne\nr\na\nt\no\nr\n(\nN\no\nd\ne\n)\n:\n\n\n \n \n \n \nd\ne\nf\n \n_\n_\ni\nn\ni\nt\n_\n_\n(\ns\ne\nl\nf\n,\n \no\np\ne\nr\na\nn\nd\n)\n:\n\n\n \n \n \n \n \n \n \n \ns\ne\nl\nf\n.\no\np\ne\nr\na\nn\nd\n \n=\n \no\np\ne\nr\na\nn\nd\n\n\n\n\nc\nl\na\ns\ns\n \nB\ni\nn\na\nr\ny\nO\np\ne\nr\na\nt\no\nr\n(\nN\no\nd\ne\n)\n:\n\n\n \n \n \n \nd\ne\nf\n \n_\n_\ni\nn\ni\nt\n_\n_\n(\ns\ne\nl\nf\n,\n \nl\ne\nf\nt\n,\n \nr\ni\ng\nh\nt\n)\n:\n\n\n \n \n \n \n \n \n \n \ns\ne\nl\nf\n.\nl\ne\nf\nt\n \n=\n \nl\ne\nf\nt\n\n\n \n \n \n \n \n \n \n \ns\ne\nl\nf\n.\nr\ni\ng\nh\nt\n \n=\n \nr\ni\ng\nh\nt\n\n\n\n\nc\nl\na\ns\ns\n \nA\nd\nd\n(\nB\ni\nn\na\nr\ny\nO\np\ne\nr\na\nt\no\nr\n)\n:\n\n\n \n \n \n \np\na\ns\ns\n\n\n\n\nc\nl\na\ns\ns\n \nS\nu\nb\n(\nB\ni\nn\na\nr\ny\nO\np\ne\nr\na\nt\no\nr\n)\n:\n\n\n \n \n \n \np\na\ns\ns\n\n\n\n\nc\nl\na\ns\ns\n \nM\nu\nl\n(\nB\ni\nn\na\nr\ny\nO\np\ne\nr\na\nt\no\nr\n)\n:\n\n\n \n \n \n \np\na\ns\ns\n\n\n\n\nc\nl\na\ns\ns\n \nD\ni\nv\n(\nB\ni\nn\na\nr\ny\nO\np\ne\nr\na\nt\no\nr\n)\n:\n\n\n \n \n \n \np\na\ns\ns\n\n\n\n\nc\nl\na\ns\ns\n \nN\ne\ng\na\nt\ne\n(\nU\nn\na\nr\ny\nO\np\ne\nr\na\nt\no\nr\n)\n:\n\n\n \n \n \n \np\na\ns\ns\n\n\n\n\nc\nl\na\ns\ns\n \nN\nu\nm\nb\ne\nr\n(\nN\no\nd\ne\n)\n:\n\n\n \n \n \n \nd\ne\nf\n \n_\n_\ni\nn\ni\nt\n_\n_\n(\ns\ne\nl\nf\n,\n \nv\na\nl\nu\ne\n)\n:\n\n\n \n \n \n \n \n \n \n \ns\ne\nl\nf\n.\nv\na\nl\nu\ne\n \n=\n \nv\na\nl\nu\ne\n\n"
      ]
    },
    {
      "cell_type": "markdown",
      "metadata": {},
      "source": [
        "\u7136\u540e\u5229\u7528\u8fd9\u4e9b\u7c7b\u6784\u5efa\u5d4c\u5957\u6570\u636e\u7ed3\u6784\uff0c\u5982\u4e0b\u6240\u793a\uff1a"
      ]
    },
    {
      "cell_type": "code",
      "execution_count": null,
      "metadata": {},
      "outputs": [],
      "source": [
        "#\n \nR\ne\np\nr\ne\ns\ne\nn\nt\na\nt\ni\no\nn\n \no\nf\n \n1\n \n+\n \n2\n \n*\n \n(\n3\n \n-\n \n4\n)\n \n/\n \n5\n\n\nt\n1\n \n=\n \nS\nu\nb\n(\nN\nu\nm\nb\ne\nr\n(\n3\n)\n,\n \nN\nu\nm\nb\ne\nr\n(\n4\n)\n)\n\n\nt\n2\n \n=\n \nM\nu\nl\n(\nN\nu\nm\nb\ne\nr\n(\n2\n)\n,\n \nt\n1\n)\n\n\nt\n3\n \n=\n \nD\ni\nv\n(\nt\n2\n,\n \nN\nu\nm\nb\ne\nr\n(\n5\n)\n)\n\n\nt\n4\n \n=\n \nA\nd\nd\n(\nN\nu\nm\nb\ne\nr\n(\n1\n)\n,\n \nt\n3\n)\n\n"
      ]
    },
    {
      "cell_type": "markdown",
      "metadata": {},
      "source": [
        "\u8fd9\u6837\u505a\u7684\u95ee\u9898\u662f\u5bf9\u4e8e\u6bcf\u4e2a\u8868\u8fbe\u5f0f\uff0c\u6bcf\u6b21\u90fd\u8981\u91cd\u65b0\u5b9a\u4e49\u4e00\u904d\uff0c\u6709\u6ca1\u6709\u4e00\u79cd\u66f4\u901a\u7528\u7684\u65b9\u5f0f\u8ba9\u5b83\u652f\u6301\u6240\u6709\u7684\u6570\u5b57\u548c\u64cd\u4f5c\u7b26\u5462\u3002\n\u8fd9\u91cc\u6211\u4eec\u4f7f\u7528\u8bbf\u95ee\u8005\u6a21\u5f0f\u53ef\u4ee5\u8fbe\u5230\u8fd9\u6837\u7684\u76ee\u7684\uff1a"
      ]
    },
    {
      "cell_type": "code",
      "execution_count": null,
      "metadata": {},
      "outputs": [],
      "source": [
        "c\nl\na\ns\ns\n \nN\no\nd\ne\nV\ni\ns\ni\nt\no\nr\n:\n\n\n \n \n \n \nd\ne\nf\n \nv\ni\ns\ni\nt\n(\ns\ne\nl\nf\n,\n \nn\no\nd\ne\n)\n:\n\n\n \n \n \n \n \n \n \n \nm\ne\nt\nh\nn\na\nm\ne\n \n=\n \n'\nv\ni\ns\ni\nt\n_\n'\n \n+\n \nt\ny\np\ne\n(\nn\no\nd\ne\n)\n.\n_\n_\nn\na\nm\ne\n_\n_\n\n\n \n \n \n \n \n \n \n \nm\ne\nt\nh\n \n=\n \ng\ne\nt\na\nt\nt\nr\n(\ns\ne\nl\nf\n,\n \nm\ne\nt\nh\nn\na\nm\ne\n,\n \nN\no\nn\ne\n)\n\n\n \n \n \n \n \n \n \n \ni\nf\n \nm\ne\nt\nh\n \ni\ns\n \nN\no\nn\ne\n:\n\n\n \n \n \n \n \n \n \n \n \n \n \n \nm\ne\nt\nh\n \n=\n \ns\ne\nl\nf\n.\ng\ne\nn\ne\nr\ni\nc\n_\nv\ni\ns\ni\nt\n\n\n \n \n \n \n \n \n \n \nr\ne\nt\nu\nr\nn\n \nm\ne\nt\nh\n(\nn\no\nd\ne\n)\n\n\n\n\n \n \n \n \nd\ne\nf\n \ng\ne\nn\ne\nr\ni\nc\n_\nv\ni\ns\ni\nt\n(\ns\ne\nl\nf\n,\n \nn\no\nd\ne\n)\n:\n\n\n \n \n \n \n \n \n \n \nr\na\ni\ns\ne\n \nR\nu\nn\nt\ni\nm\ne\nE\nr\nr\no\nr\n(\n'\nN\no\n \n{\n}\n \nm\ne\nt\nh\no\nd\n'\n.\nf\no\nr\nm\na\nt\n(\n'\nv\ni\ns\ni\nt\n_\n'\n \n+\n \nt\ny\np\ne\n(\nn\no\nd\ne\n)\n.\n_\n_\nn\na\nm\ne\n_\n_\n)\n)\n\n"
      ]
    },
    {
      "cell_type": "markdown",
      "metadata": {},
      "source": [
        "\u4e3a\u4e86\u4f7f\u7528\u8fd9\u4e2a\u7c7b\uff0c\u53ef\u4ee5\u5b9a\u4e49\u4e00\u4e2a\u7c7b\u7ee7\u627f\u5b83\u5e76\u4e14\u5b9e\u73b0\u5404\u79cd visit_Name() \u65b9\u6cd5\uff0c\u5176\u4e2dName\u662fnode\u7c7b\u578b\u3002\n\u4f8b\u5982\uff0c\u5982\u679c\u4f60\u60f3\u6c42\u8868\u8fbe\u5f0f\u7684\u503c\uff0c\u53ef\u4ee5\u8fd9\u6837\u5199\uff1a"
      ]
    },
    {
      "cell_type": "code",
      "execution_count": null,
      "metadata": {},
      "outputs": [],
      "source": [
        "c\nl\na\ns\ns\n \nE\nv\na\nl\nu\na\nt\no\nr\n(\nN\no\nd\ne\nV\ni\ns\ni\nt\no\nr\n)\n:\n\n\n \n \n \n \nd\ne\nf\n \nv\ni\ns\ni\nt\n_\nN\nu\nm\nb\ne\nr\n(\ns\ne\nl\nf\n,\n \nn\no\nd\ne\n)\n:\n\n\n \n \n \n \n \n \n \n \nr\ne\nt\nu\nr\nn\n \nn\no\nd\ne\n.\nv\na\nl\nu\ne\n\n\n\n\n \n \n \n \nd\ne\nf\n \nv\ni\ns\ni\nt\n_\nA\nd\nd\n(\ns\ne\nl\nf\n,\n \nn\no\nd\ne\n)\n:\n\n\n \n \n \n \n \n \n \n \nr\ne\nt\nu\nr\nn\n \ns\ne\nl\nf\n.\nv\ni\ns\ni\nt\n(\nn\no\nd\ne\n.\nl\ne\nf\nt\n)\n \n+\n \ns\ne\nl\nf\n.\nv\ni\ns\ni\nt\n(\nn\no\nd\ne\n.\nr\ni\ng\nh\nt\n)\n\n\n\n\n \n \n \n \nd\ne\nf\n \nv\ni\ns\ni\nt\n_\nS\nu\nb\n(\ns\ne\nl\nf\n,\n \nn\no\nd\ne\n)\n:\n\n\n \n \n \n \n \n \n \n \nr\ne\nt\nu\nr\nn\n \ns\ne\nl\nf\n.\nv\ni\ns\ni\nt\n(\nn\no\nd\ne\n.\nl\ne\nf\nt\n)\n \n-\n \ns\ne\nl\nf\n.\nv\ni\ns\ni\nt\n(\nn\no\nd\ne\n.\nr\ni\ng\nh\nt\n)\n\n\n\n\n \n \n \n \nd\ne\nf\n \nv\ni\ns\ni\nt\n_\nM\nu\nl\n(\ns\ne\nl\nf\n,\n \nn\no\nd\ne\n)\n:\n\n\n \n \n \n \n \n \n \n \nr\ne\nt\nu\nr\nn\n \ns\ne\nl\nf\n.\nv\ni\ns\ni\nt\n(\nn\no\nd\ne\n.\nl\ne\nf\nt\n)\n \n*\n \ns\ne\nl\nf\n.\nv\ni\ns\ni\nt\n(\nn\no\nd\ne\n.\nr\ni\ng\nh\nt\n)\n\n\n\n\n \n \n \n \nd\ne\nf\n \nv\ni\ns\ni\nt\n_\nD\ni\nv\n(\ns\ne\nl\nf\n,\n \nn\no\nd\ne\n)\n:\n\n\n \n \n \n \n \n \n \n \nr\ne\nt\nu\nr\nn\n \ns\ne\nl\nf\n.\nv\ni\ns\ni\nt\n(\nn\no\nd\ne\n.\nl\ne\nf\nt\n)\n \n/\n \ns\ne\nl\nf\n.\nv\ni\ns\ni\nt\n(\nn\no\nd\ne\n.\nr\ni\ng\nh\nt\n)\n\n\n\n\n \n \n \n \nd\ne\nf\n \nv\ni\ns\ni\nt\n_\nN\ne\ng\na\nt\ne\n(\ns\ne\nl\nf\n,\n \nn\no\nd\ne\n)\n:\n\n\n \n \n \n \n \n \n \n \nr\ne\nt\nu\nr\nn\n \n-\nn\no\nd\ne\n.\no\np\ne\nr\na\nn\nd\n\n"
      ]
    },
    {
      "cell_type": "markdown",
      "metadata": {},
      "source": [
        "\u4f7f\u7528\u793a\u4f8b\uff1a"
      ]
    },
    {
      "cell_type": "code",
      "execution_count": null,
      "metadata": {},
      "outputs": [],
      "source": [
        "e = Evaluator()\ne.visit(t4)"
      ]
    },
    {
      "cell_type": "markdown",
      "metadata": {},
      "source": [
        "\u4f5c\u4e3a\u4e00\u4e2a\u4e0d\u540c\u7684\u4f8b\u5b50\uff0c\u4e0b\u9762\u5b9a\u4e49\u4e00\u4e2a\u7c7b\u5728\u4e00\u4e2a\u6808\u4e0a\u9762\u5c06\u4e00\u4e2a\u8868\u8fbe\u5f0f\u8f6c\u6362\u6210\u591a\u4e2a\u64cd\u4f5c\u5e8f\u5217\uff1a"
      ]
    },
    {
      "cell_type": "code",
      "execution_count": null,
      "metadata": {},
      "outputs": [],
      "source": [
        "c\nl\na\ns\ns\n \nS\nt\na\nc\nk\nC\no\nd\ne\n(\nN\no\nd\ne\nV\ni\ns\ni\nt\no\nr\n)\n:\n\n\n \n \n \n \nd\ne\nf\n \ng\ne\nn\ne\nr\na\nt\ne\n_\nc\no\nd\ne\n(\ns\ne\nl\nf\n,\n \nn\no\nd\ne\n)\n:\n\n\n \n \n \n \n \n \n \n \ns\ne\nl\nf\n.\ni\nn\ns\nt\nr\nu\nc\nt\ni\no\nn\ns\n \n=\n \n[\n]\n\n\n \n \n \n \n \n \n \n \ns\ne\nl\nf\n.\nv\ni\ns\ni\nt\n(\nn\no\nd\ne\n)\n\n\n \n \n \n \n \n \n \n \nr\ne\nt\nu\nr\nn\n \ns\ne\nl\nf\n.\ni\nn\ns\nt\nr\nu\nc\nt\ni\no\nn\ns\n\n\n\n\n \n \n \n \nd\ne\nf\n \nv\ni\ns\ni\nt\n_\nN\nu\nm\nb\ne\nr\n(\ns\ne\nl\nf\n,\n \nn\no\nd\ne\n)\n:\n\n\n \n \n \n \n \n \n \n \ns\ne\nl\nf\n.\ni\nn\ns\nt\nr\nu\nc\nt\ni\no\nn\ns\n.\na\np\np\ne\nn\nd\n(\n(\n'\nP\nU\nS\nH\n'\n,\n \nn\no\nd\ne\n.\nv\na\nl\nu\ne\n)\n)\n\n\n\n\n \n \n \n \nd\ne\nf\n \nb\ni\nn\no\np\n(\ns\ne\nl\nf\n,\n \nn\no\nd\ne\n,\n \ni\nn\ns\nt\nr\nu\nc\nt\ni\no\nn\n)\n:\n\n\n \n \n \n \n \n \n \n \ns\ne\nl\nf\n.\nv\ni\ns\ni\nt\n(\nn\no\nd\ne\n.\nl\ne\nf\nt\n)\n\n\n \n \n \n \n \n \n \n \ns\ne\nl\nf\n.\nv\ni\ns\ni\nt\n(\nn\no\nd\ne\n.\nr\ni\ng\nh\nt\n)\n\n\n \n \n \n \n \n \n \n \ns\ne\nl\nf\n.\ni\nn\ns\nt\nr\nu\nc\nt\ni\no\nn\ns\n.\na\np\np\ne\nn\nd\n(\n(\ni\nn\ns\nt\nr\nu\nc\nt\ni\no\nn\n,\n)\n)\n\n\n\n\n \n \n \n \nd\ne\nf\n \nv\ni\ns\ni\nt\n_\nA\nd\nd\n(\ns\ne\nl\nf\n,\n \nn\no\nd\ne\n)\n:\n\n\n \n \n \n \n \n \n \n \ns\ne\nl\nf\n.\nb\ni\nn\no\np\n(\nn\no\nd\ne\n,\n \n'\nA\nD\nD\n'\n)\n\n\n\n\n \n \n \n \nd\ne\nf\n \nv\ni\ns\ni\nt\n_\nS\nu\nb\n(\ns\ne\nl\nf\n,\n \nn\no\nd\ne\n)\n:\n\n\n \n \n \n \n \n \n \n \ns\ne\nl\nf\n.\nb\ni\nn\no\np\n(\nn\no\nd\ne\n,\n \n'\nS\nU\nB\n'\n)\n\n\n\n\n \n \n \n \nd\ne\nf\n \nv\ni\ns\ni\nt\n_\nM\nu\nl\n(\ns\ne\nl\nf\n,\n \nn\no\nd\ne\n)\n:\n\n\n \n \n \n \n \n \n \n \ns\ne\nl\nf\n.\nb\ni\nn\no\np\n(\nn\no\nd\ne\n,\n \n'\nM\nU\nL\n'\n)\n\n\n\n\n \n \n \n \nd\ne\nf\n \nv\ni\ns\ni\nt\n_\nD\ni\nv\n(\ns\ne\nl\nf\n,\n \nn\no\nd\ne\n)\n:\n\n\n \n \n \n \n \n \n \n \ns\ne\nl\nf\n.\nb\ni\nn\no\np\n(\nn\no\nd\ne\n,\n \n'\nD\nI\nV\n'\n)\n\n\n\n\n \n \n \n \nd\ne\nf\n \nu\nn\na\nr\ny\no\np\n(\ns\ne\nl\nf\n,\n \nn\no\nd\ne\n,\n \ni\nn\ns\nt\nr\nu\nc\nt\ni\no\nn\n)\n:\n\n\n \n \n \n \n \n \n \n \ns\ne\nl\nf\n.\nv\ni\ns\ni\nt\n(\nn\no\nd\ne\n.\no\np\ne\nr\na\nn\nd\n)\n\n\n \n \n \n \n \n \n \n \ns\ne\nl\nf\n.\ni\nn\ns\nt\nr\nu\nc\nt\ni\no\nn\ns\n.\na\np\np\ne\nn\nd\n(\n(\ni\nn\ns\nt\nr\nu\nc\nt\ni\no\nn\n,\n)\n)\n\n\n\n\n \n \n \n \nd\ne\nf\n \nv\ni\ns\ni\nt\n_\nN\ne\ng\na\nt\ne\n(\ns\ne\nl\nf\n,\n \nn\no\nd\ne\n)\n:\n\n\n \n \n \n \n \n \n \n \ns\ne\nl\nf\n.\nu\nn\na\nr\ny\no\np\n(\nn\no\nd\ne\n,\n \n'\nN\nE\nG\n'\n)\n\n"
      ]
    },
    {
      "cell_type": "markdown",
      "metadata": {},
      "source": [
        "\u4f7f\u7528\u793a\u4f8b\uff1a"
      ]
    },
    {
      "cell_type": "code",
      "execution_count": null,
      "metadata": {},
      "outputs": [],
      "source": [
        "s = StackCode()\ns.generate_code(t4)"
      ]
    },
    {
      "cell_type": "markdown",
      "metadata": {},
      "source": [
        "### \u8ba8\u8bba\n"
      ]
    },
    {
      "cell_type": "markdown",
      "metadata": {},
      "source": [
        "\u521a\u5f00\u59cb\u7684\u65f6\u5019\u4f60\u53ef\u80fd\u4f1a\u5199\u5927\u91cf\u7684if/else\u8bed\u53e5\u6765\u5b9e\u73b0\uff0c\n\u8fd9\u91cc\u8bbf\u95ee\u8005\u6a21\u5f0f\u7684\u597d\u5904\u5c31\u662f\u901a\u8fc7 getattr() \u6765\u83b7\u53d6\u76f8\u5e94\u7684\u65b9\u6cd5\uff0c\u5e76\u5229\u7528\u9012\u5f52\u6765\u904d\u5386\u6240\u6709\u7684\u8282\u70b9\uff1a"
      ]
    },
    {
      "cell_type": "code",
      "execution_count": null,
      "metadata": {},
      "outputs": [],
      "source": [
        "d\ne\nf\n \nb\ni\nn\no\np\n(\ns\ne\nl\nf\n,\n \nn\no\nd\ne\n,\n \ni\nn\ns\nt\nr\nu\nc\nt\ni\no\nn\n)\n:\n\n\n \n \n \n \ns\ne\nl\nf\n.\nv\ni\ns\ni\nt\n(\nn\no\nd\ne\n.\nl\ne\nf\nt\n)\n\n\n \n \n \n \ns\ne\nl\nf\n.\nv\ni\ns\ni\nt\n(\nn\no\nd\ne\n.\nr\ni\ng\nh\nt\n)\n\n\n \n \n \n \ns\ne\nl\nf\n.\ni\nn\ns\nt\nr\nu\nc\nt\ni\no\nn\ns\n.\na\np\np\ne\nn\nd\n(\n(\ni\nn\ns\nt\nr\nu\nc\nt\ni\no\nn\n,\n)\n)\n\n"
      ]
    },
    {
      "cell_type": "markdown",
      "metadata": {},
      "source": [
        "\u8fd8\u6709\u4e00\u70b9\u9700\u8981\u6307\u51fa\u7684\u662f\uff0c\u8fd9\u79cd\u6280\u672f\u4e5f\u662f\u5b9e\u73b0\u5176\u4ed6\u8bed\u8a00\u4e2dswitch\u6216case\u8bed\u53e5\u7684\u65b9\u5f0f\u3002\n\u6bd4\u5982\uff0c\u5982\u679c\u4f60\u6b63\u5728\u5199\u4e00\u4e2aHTTP\u6846\u67b6\uff0c\u4f60\u53ef\u80fd\u4f1a\u5199\u8fd9\u6837\u4e00\u4e2a\u8bf7\u6c42\u5206\u53d1\u7684\u63a7\u5236\u5668\uff1a"
      ]
    },
    {
      "cell_type": "code",
      "execution_count": null,
      "metadata": {},
      "outputs": [],
      "source": [
        "c\nl\na\ns\ns\n \nH\nT\nT\nP\nH\na\nn\nd\nl\ne\nr\n:\n\n\n \n \n \n \nd\ne\nf\n \nh\na\nn\nd\nl\ne\n(\ns\ne\nl\nf\n,\n \nr\ne\nq\nu\ne\ns\nt\n)\n:\n\n\n \n \n \n \n \n \n \n \nm\ne\nt\nh\nn\na\nm\ne\n \n=\n \n'\nd\no\n_\n'\n \n+\n \nr\ne\nq\nu\ne\ns\nt\n.\nr\ne\nq\nu\ne\ns\nt\n_\nm\ne\nt\nh\no\nd\n\n\n \n \n \n \n \n \n \n \ng\ne\nt\na\nt\nt\nr\n(\ns\ne\nl\nf\n,\n \nm\ne\nt\nh\nn\na\nm\ne\n)\n(\nr\ne\nq\nu\ne\ns\nt\n)\n\n\n \n \n \n \nd\ne\nf\n \nd\no\n_\nG\nE\nT\n(\ns\ne\nl\nf\n,\n \nr\ne\nq\nu\ne\ns\nt\n)\n:\n\n\n \n \n \n \n \n \n \n \np\na\ns\ns\n\n\n \n \n \n \nd\ne\nf\n \nd\no\n_\nP\nO\nS\nT\n(\ns\ne\nl\nf\n,\n \nr\ne\nq\nu\ne\ns\nt\n)\n:\n\n\n \n \n \n \n \n \n \n \np\na\ns\ns\n\n\n \n \n \n \nd\ne\nf\n \nd\no\n_\nH\nE\nA\nD\n(\ns\ne\nl\nf\n,\n \nr\ne\nq\nu\ne\ns\nt\n)\n:\n\n\n \n \n \n \n \n \n \n \np\na\ns\ns\n\n"
      ]
    },
    {
      "cell_type": "markdown",
      "metadata": {},
      "source": [
        "\u8bbf\u95ee\u8005\u6a21\u5f0f\u4e00\u4e2a\u7f3a\u70b9\u5c31\u662f\u5b83\u4e25\u91cd\u4f9d\u8d56\u9012\u5f52\uff0c\u5982\u679c\u6570\u636e\u7ed3\u6784\u5d4c\u5957\u5c42\u6b21\u592a\u6df1\u53ef\u80fd\u4f1a\u6709\u95ee\u9898\uff0c\n\u6709\u65f6\u5019\u4f1a\u8d85\u8fc7Python\u7684\u9012\u5f52\u6df1\u5ea6\u9650\u5236(\u53c2\u8003 sys.getrecursionlimit() )\u3002"
      ]
    },
    {
      "cell_type": "markdown",
      "metadata": {},
      "source": [
        "\u53ef\u4ee5\u53c2\u71678.22\u5c0f\u8282\uff0c\u5229\u7528\u751f\u6210\u5668\u6216\u8fed\u4ee3\u5668\u6765\u5b9e\u73b0\u975e\u9012\u5f52\u904d\u5386\u7b97\u6cd5\u3002"
      ]
    },
    {
      "cell_type": "markdown",
      "metadata": {},
      "source": [
        "\u5728\u8ddf\u89e3\u6790\u548c\u7f16\u8bd1\u76f8\u5173\u7684\u7f16\u7a0b\u4e2d\u4f7f\u7528\u8bbf\u95ee\u8005\u6a21\u5f0f\u662f\u975e\u5e38\u5e38\u89c1\u7684\u3002\nPython\u672c\u8eab\u7684 ast \u6a21\u5757\u503c\u5f97\u5173\u6ce8\u4e0b\uff0c\u53ef\u4ee5\u53bb\u770b\u770b\u6e90\u7801\u3002\n9.24\u5c0f\u8282\u6f14\u793a\u4e86\u4e00\u4e2a\u5229\u7528 ast \u6a21\u5757\u6765\u5904\u7406Python\u6e90\u4ee3\u7801\u7684\u4f8b\u5b50\u3002"
      ]
    },
    {
      "cell_type": "markdown",
      "metadata": {},
      "source": [
        "## 8.22 \u4e0d\u7528\u9012\u5f52\u5b9e\u73b0\u8bbf\u95ee\u8005\u6a21\u5f0f\n"
      ]
    },
    {
      "cell_type": "markdown",
      "metadata": {},
      "source": [
        "### \u95ee\u9898\n"
      ]
    },
    {
      "cell_type": "markdown",
      "metadata": {},
      "source": [
        "\u4f60\u4f7f\u7528\u8bbf\u95ee\u8005\u6a21\u5f0f\u904d\u5386\u4e00\u4e2a\u5f88\u6df1\u7684\u5d4c\u5957\u6811\u5f62\u6570\u636e\u7ed3\u6784\uff0c\u5e76\u4e14\u56e0\u4e3a\u8d85\u8fc7\u5d4c\u5957\u5c42\u7ea7\u9650\u5236\u800c\u5931\u8d25\u3002\n\u4f60\u60f3\u6d88\u9664\u9012\u5f52\uff0c\u5e76\u540c\u65f6\u4fdd\u6301\u8bbf\u95ee\u8005\u7f16\u7a0b\u6a21\u5f0f\u3002"
      ]
    },
    {
      "cell_type": "markdown",
      "metadata": {},
      "source": [
        "### \u89e3\u51b3\u65b9\u6848\n"
      ]
    },
    {
      "cell_type": "markdown",
      "metadata": {},
      "source": [
        "\u901a\u8fc7\u5de7\u5999\u7684\u4f7f\u7528\u751f\u6210\u5668\u53ef\u4ee5\u5728\u6811\u904d\u5386\u6216\u641c\u7d22\u7b97\u6cd5\u4e2d\u6d88\u9664\u9012\u5f52\u3002\n\u57288.21\u5c0f\u8282\u4e2d\uff0c\u6211\u4eec\u7ed9\u51fa\u4e86\u4e00\u4e2a\u8bbf\u95ee\u8005\u7c7b\u3002\n\u4e0b\u9762\u6211\u4eec\u5229\u7528\u4e00\u4e2a\u6808\u548c\u751f\u6210\u5668\u91cd\u65b0\u5b9e\u73b0\u8fd9\u4e2a\u7c7b\uff1a"
      ]
    },
    {
      "cell_type": "code",
      "execution_count": null,
      "metadata": {},
      "outputs": [],
      "source": [
        "i\nm\np\no\nr\nt\n \nt\ny\np\ne\ns\n\n\n\n\nc\nl\na\ns\ns\n \nN\no\nd\ne\n:\n\n\n \n \n \n \np\na\ns\ns\n\n\n\n\nc\nl\na\ns\ns\n \nN\no\nd\ne\nV\ni\ns\ni\nt\no\nr\n:\n\n\n \n \n \n \nd\ne\nf\n \nv\ni\ns\ni\nt\n(\ns\ne\nl\nf\n,\n \nn\no\nd\ne\n)\n:\n\n\n \n \n \n \n \n \n \n \ns\nt\na\nc\nk\n \n=\n \n[\nn\no\nd\ne\n]\n\n\n \n \n \n \n \n \n \n \nl\na\ns\nt\n_\nr\ne\ns\nu\nl\nt\n \n=\n \nN\no\nn\ne\n\n\n \n \n \n \n \n \n \n \nw\nh\ni\nl\ne\n \ns\nt\na\nc\nk\n:\n\n\n \n \n \n \n \n \n \n \n \n \n \n \nt\nr\ny\n:\n\n\n \n \n \n \n \n \n \n \n \n \n \n \n \n \n \n \nl\na\ns\nt\n \n=\n \ns\nt\na\nc\nk\n[\n-\n1\n]\n\n\n \n \n \n \n \n \n \n \n \n \n \n \n \n \n \n \ni\nf\n \ni\ns\ni\nn\ns\nt\na\nn\nc\ne\n(\nl\na\ns\nt\n,\n \nt\ny\np\ne\ns\n.\nG\ne\nn\ne\nr\na\nt\no\nr\nT\ny\np\ne\n)\n:\n\n\n \n \n \n \n \n \n \n \n \n \n \n \n \n \n \n \n \n \n \n \ns\nt\na\nc\nk\n.\na\np\np\ne\nn\nd\n(\nl\na\ns\nt\n.\ns\ne\nn\nd\n(\nl\na\ns\nt\n_\nr\ne\ns\nu\nl\nt\n)\n)\n\n\n \n \n \n \n \n \n \n \n \n \n \n \n \n \n \n \n \n \n \n \nl\na\ns\nt\n_\nr\ne\ns\nu\nl\nt\n \n=\n \nN\no\nn\ne\n\n\n \n \n \n \n \n \n \n \n \n \n \n \n \n \n \n \ne\nl\ni\nf\n \ni\ns\ni\nn\ns\nt\na\nn\nc\ne\n(\nl\na\ns\nt\n,\n \nN\no\nd\ne\n)\n:\n\n\n \n \n \n \n \n \n \n \n \n \n \n \n \n \n \n \n \n \n \n \ns\nt\na\nc\nk\n.\na\np\np\ne\nn\nd\n(\ns\ne\nl\nf\n.\n_\nv\ni\ns\ni\nt\n(\ns\nt\na\nc\nk\n.\np\no\np\n(\n)\n)\n)\n\n\n \n \n \n \n \n \n \n \n \n \n \n \n \n \n \n \ne\nl\ns\ne\n:\n\n\n \n \n \n \n \n \n \n \n \n \n \n \n \n \n \n \n \n \n \n \nl\na\ns\nt\n_\nr\ne\ns\nu\nl\nt\n \n=\n \ns\nt\na\nc\nk\n.\np\no\np\n(\n)\n\n\n \n \n \n \n \n \n \n \n \n \n \n \ne\nx\nc\ne\np\nt\n \nS\nt\no\np\nI\nt\ne\nr\na\nt\ni\no\nn\n:\n\n\n \n \n \n \n \n \n \n \n \n \n \n \n \n \n \n \ns\nt\na\nc\nk\n.\np\no\np\n(\n)\n\n\n\n\n \n \n \n \n \n \n \n \nr\ne\nt\nu\nr\nn\n \nl\na\ns\nt\n_\nr\ne\ns\nu\nl\nt\n\n\n\n\n \n \n \n \nd\ne\nf\n \n_\nv\ni\ns\ni\nt\n(\ns\ne\nl\nf\n,\n \nn\no\nd\ne\n)\n:\n\n\n \n \n \n \n \n \n \n \nm\ne\nt\nh\nn\na\nm\ne\n \n=\n \n'\nv\ni\ns\ni\nt\n_\n'\n \n+\n \nt\ny\np\ne\n(\nn\no\nd\ne\n)\n.\n_\n_\nn\na\nm\ne\n_\n_\n\n\n \n \n \n \n \n \n \n \nm\ne\nt\nh\n \n=\n \ng\ne\nt\na\nt\nt\nr\n(\ns\ne\nl\nf\n,\n \nm\ne\nt\nh\nn\na\nm\ne\n,\n \nN\no\nn\ne\n)\n\n\n \n \n \n \n \n \n \n \ni\nf\n \nm\ne\nt\nh\n \ni\ns\n \nN\no\nn\ne\n:\n\n\n \n \n \n \n \n \n \n \n \n \n \n \nm\ne\nt\nh\n \n=\n \ns\ne\nl\nf\n.\ng\ne\nn\ne\nr\ni\nc\n_\nv\ni\ns\ni\nt\n\n\n \n \n \n \n \n \n \n \nr\ne\nt\nu\nr\nn\n \nm\ne\nt\nh\n(\nn\no\nd\ne\n)\n\n\n\n\n \n \n \n \nd\ne\nf\n \ng\ne\nn\ne\nr\ni\nc\n_\nv\ni\ns\ni\nt\n(\ns\ne\nl\nf\n,\n \nn\no\nd\ne\n)\n:\n\n\n \n \n \n \n \n \n \n \nr\na\ni\ns\ne\n \nR\nu\nn\nt\ni\nm\ne\nE\nr\nr\no\nr\n(\n'\nN\no\n \n{\n}\n \nm\ne\nt\nh\no\nd\n'\n.\nf\no\nr\nm\na\nt\n(\n'\nv\ni\ns\ni\nt\n_\n'\n \n+\n \nt\ny\np\ne\n(\nn\no\nd\ne\n)\n.\n_\n_\nn\na\nm\ne\n_\n_\n)\n)\n\n"
      ]
    },
    {
      "cell_type": "markdown",
      "metadata": {},
      "source": [
        "\u5982\u679c\u4f60\u4f7f\u7528\u8fd9\u4e2a\u7c7b\uff0c\u4e5f\u80fd\u8fbe\u5230\u76f8\u540c\u7684\u6548\u679c\u3002\u4e8b\u5b9e\u4e0a\u4f60\u5b8c\u5168\u53ef\u4ee5\u5c06\u5b83\u4f5c\u4e3a\u4e0a\u4e00\u8282\u4e2d\u7684\u8bbf\u95ee\u8005\u6a21\u5f0f\u7684\u66ff\u4ee3\u5b9e\u73b0\u3002\n\u8003\u8651\u5982\u4e0b\u4ee3\u7801\uff0c\u904d\u5386\u4e00\u4e2a\u8868\u8fbe\u5f0f\u7684\u6811\uff1a"
      ]
    },
    {
      "cell_type": "code",
      "execution_count": null,
      "metadata": {},
      "outputs": [],
      "source": [
        "c\nl\na\ns\ns\n \nU\nn\na\nr\ny\nO\np\ne\nr\na\nt\no\nr\n(\nN\no\nd\ne\n)\n:\n\n\n \n \n \n \nd\ne\nf\n \n_\n_\ni\nn\ni\nt\n_\n_\n(\ns\ne\nl\nf\n,\n \no\np\ne\nr\na\nn\nd\n)\n:\n\n\n \n \n \n \n \n \n \n \ns\ne\nl\nf\n.\no\np\ne\nr\na\nn\nd\n \n=\n \no\np\ne\nr\na\nn\nd\n\n\n\n\nc\nl\na\ns\ns\n \nB\ni\nn\na\nr\ny\nO\np\ne\nr\na\nt\no\nr\n(\nN\no\nd\ne\n)\n:\n\n\n \n \n \n \nd\ne\nf\n \n_\n_\ni\nn\ni\nt\n_\n_\n(\ns\ne\nl\nf\n,\n \nl\ne\nf\nt\n,\n \nr\ni\ng\nh\nt\n)\n:\n\n\n \n \n \n \n \n \n \n \ns\ne\nl\nf\n.\nl\ne\nf\nt\n \n=\n \nl\ne\nf\nt\n\n\n \n \n \n \n \n \n \n \ns\ne\nl\nf\n.\nr\ni\ng\nh\nt\n \n=\n \nr\ni\ng\nh\nt\n\n\n\n\nc\nl\na\ns\ns\n \nA\nd\nd\n(\nB\ni\nn\na\nr\ny\nO\np\ne\nr\na\nt\no\nr\n)\n:\n\n\n \n \n \n \np\na\ns\ns\n\n\n\n\nc\nl\na\ns\ns\n \nS\nu\nb\n(\nB\ni\nn\na\nr\ny\nO\np\ne\nr\na\nt\no\nr\n)\n:\n\n\n \n \n \n \np\na\ns\ns\n\n\n\n\nc\nl\na\ns\ns\n \nM\nu\nl\n(\nB\ni\nn\na\nr\ny\nO\np\ne\nr\na\nt\no\nr\n)\n:\n\n\n \n \n \n \np\na\ns\ns\n\n\n\n\nc\nl\na\ns\ns\n \nD\ni\nv\n(\nB\ni\nn\na\nr\ny\nO\np\ne\nr\na\nt\no\nr\n)\n:\n\n\n \n \n \n \np\na\ns\ns\n\n\n\n\nc\nl\na\ns\ns\n \nN\ne\ng\na\nt\ne\n(\nU\nn\na\nr\ny\nO\np\ne\nr\na\nt\no\nr\n)\n:\n\n\n \n \n \n \np\na\ns\ns\n\n\n\n\nc\nl\na\ns\ns\n \nN\nu\nm\nb\ne\nr\n(\nN\no\nd\ne\n)\n:\n\n\n \n \n \n \nd\ne\nf\n \n_\n_\ni\nn\ni\nt\n_\n_\n(\ns\ne\nl\nf\n,\n \nv\na\nl\nu\ne\n)\n:\n\n\n \n \n \n \n \n \n \n \ns\ne\nl\nf\n.\nv\na\nl\nu\ne\n \n=\n \nv\na\nl\nu\ne\n\n\n\n\n#\n \nA\n \ns\na\nm\np\nl\ne\n \nv\ni\ns\ni\nt\no\nr\n \nc\nl\na\ns\ns\n \nt\nh\na\nt\n \ne\nv\na\nl\nu\na\nt\ne\ns\n \ne\nx\np\nr\ne\ns\ns\ni\no\nn\ns\n\n\nc\nl\na\ns\ns\n \nE\nv\na\nl\nu\na\nt\no\nr\n(\nN\no\nd\ne\nV\ni\ns\ni\nt\no\nr\n)\n:\n\n\n \n \n \n \nd\ne\nf\n \nv\ni\ns\ni\nt\n_\nN\nu\nm\nb\ne\nr\n(\ns\ne\nl\nf\n,\n \nn\no\nd\ne\n)\n:\n\n\n \n \n \n \n \n \n \n \nr\ne\nt\nu\nr\nn\n \nn\no\nd\ne\n.\nv\na\nl\nu\ne\n\n\n\n\n \n \n \n \nd\ne\nf\n \nv\ni\ns\ni\nt\n_\nA\nd\nd\n(\ns\ne\nl\nf\n,\n \nn\no\nd\ne\n)\n:\n\n\n \n \n \n \n \n \n \n \nr\ne\nt\nu\nr\nn\n \ns\ne\nl\nf\n.\nv\ni\ns\ni\nt\n(\nn\no\nd\ne\n.\nl\ne\nf\nt\n)\n \n+\n \ns\ne\nl\nf\n.\nv\ni\ns\ni\nt\n(\nn\no\nd\ne\n.\nr\ni\ng\nh\nt\n)\n\n\n\n\n \n \n \n \nd\ne\nf\n \nv\ni\ns\ni\nt\n_\nS\nu\nb\n(\ns\ne\nl\nf\n,\n \nn\no\nd\ne\n)\n:\n\n\n \n \n \n \n \n \n \n \nr\ne\nt\nu\nr\nn\n \ns\ne\nl\nf\n.\nv\ni\ns\ni\nt\n(\nn\no\nd\ne\n.\nl\ne\nf\nt\n)\n \n-\n \ns\ne\nl\nf\n.\nv\ni\ns\ni\nt\n(\nn\no\nd\ne\n.\nr\ni\ng\nh\nt\n)\n\n\n\n\n \n \n \n \nd\ne\nf\n \nv\ni\ns\ni\nt\n_\nM\nu\nl\n(\ns\ne\nl\nf\n,\n \nn\no\nd\ne\n)\n:\n\n\n \n \n \n \n \n \n \n \nr\ne\nt\nu\nr\nn\n \ns\ne\nl\nf\n.\nv\ni\ns\ni\nt\n(\nn\no\nd\ne\n.\nl\ne\nf\nt\n)\n \n*\n \ns\ne\nl\nf\n.\nv\ni\ns\ni\nt\n(\nn\no\nd\ne\n.\nr\ni\ng\nh\nt\n)\n\n\n\n\n \n \n \n \nd\ne\nf\n \nv\ni\ns\ni\nt\n_\nD\ni\nv\n(\ns\ne\nl\nf\n,\n \nn\no\nd\ne\n)\n:\n\n\n \n \n \n \n \n \n \n \nr\ne\nt\nu\nr\nn\n \ns\ne\nl\nf\n.\nv\ni\ns\ni\nt\n(\nn\no\nd\ne\n.\nl\ne\nf\nt\n)\n \n/\n \ns\ne\nl\nf\n.\nv\ni\ns\ni\nt\n(\nn\no\nd\ne\n.\nr\ni\ng\nh\nt\n)\n\n\n\n\n \n \n \n \nd\ne\nf\n \nv\ni\ns\ni\nt\n_\nN\ne\ng\na\nt\ne\n(\ns\ne\nl\nf\n,\n \nn\no\nd\ne\n)\n:\n\n\n \n \n \n \n \n \n \n \nr\ne\nt\nu\nr\nn\n \n-\ns\ne\nl\nf\n.\nv\ni\ns\ni\nt\n(\nn\no\nd\ne\n.\no\np\ne\nr\na\nn\nd\n)\n\n\n\n\ni\nf\n \n_\n_\nn\na\nm\ne\n_\n_\n \n=\n=\n \n'\n_\n_\nm\na\ni\nn\n_\n_\n'\n:\n\n\n \n \n \n \n#\n \n1\n \n+\n \n2\n*\n(\n3\n-\n4\n)\n \n/\n \n5\n\n\n \n \n \n \nt\n1\n \n=\n \nS\nu\nb\n(\nN\nu\nm\nb\ne\nr\n(\n3\n)\n,\n \nN\nu\nm\nb\ne\nr\n(\n4\n)\n)\n\n\n \n \n \n \nt\n2\n \n=\n \nM\nu\nl\n(\nN\nu\nm\nb\ne\nr\n(\n2\n)\n,\n \nt\n1\n)\n\n\n \n \n \n \nt\n3\n \n=\n \nD\ni\nv\n(\nt\n2\n,\n \nN\nu\nm\nb\ne\nr\n(\n5\n)\n)\n\n\n \n \n \n \nt\n4\n \n=\n \nA\nd\nd\n(\nN\nu\nm\nb\ne\nr\n(\n1\n)\n,\n \nt\n3\n)\n\n\n \n \n \n \n#\n \nE\nv\na\nl\nu\na\nt\ne\n \ni\nt\n\n\n \n \n \n \ne\n \n=\n \nE\nv\na\nl\nu\na\nt\no\nr\n(\n)\n\n\n \n \n \n \np\nr\ni\nn\nt\n(\ne\n.\nv\ni\ns\ni\nt\n(\nt\n4\n)\n)\n \n \n#\n \nO\nu\nt\np\nu\nt\ns\n \n0\n.\n6\n\n"
      ]
    },
    {
      "cell_type": "markdown",
      "metadata": {},
      "source": [
        "\u5982\u679c\u5d4c\u5957\u5c42\u6b21\u592a\u6df1\u90a3\u4e48\u4e0a\u8ff0\u7684Evaluator\u5c31\u4f1a\u5931\u6548\uff1a"
      ]
    },
    {
      "cell_type": "code",
      "execution_count": null,
      "metadata": {},
      "outputs": [],
      "source": [
        "a = Number(0)\nfor n in range(1, 100000):\na = Add(a, Number(n))\ne = Evaluator()\ne.visit(a)"
      ]
    },
    {
      "cell_type": "markdown",
      "metadata": {},
      "source": [
        "\u73b0\u5728\u6211\u4eec\u7a0d\u5fae\u4fee\u6539\u4e0b\u4e0a\u9762\u7684Evaluator\uff1a"
      ]
    },
    {
      "cell_type": "code",
      "execution_count": null,
      "metadata": {},
      "outputs": [],
      "source": [
        "c\nl\na\ns\ns\n \nE\nv\na\nl\nu\na\nt\no\nr\n(\nN\no\nd\ne\nV\ni\ns\ni\nt\no\nr\n)\n:\n\n\n \n \n \n \nd\ne\nf\n \nv\ni\ns\ni\nt\n_\nN\nu\nm\nb\ne\nr\n(\ns\ne\nl\nf\n,\n \nn\no\nd\ne\n)\n:\n\n\n \n \n \n \n \n \n \n \nr\ne\nt\nu\nr\nn\n \nn\no\nd\ne\n.\nv\na\nl\nu\ne\n\n\n\n\n \n \n \n \nd\ne\nf\n \nv\ni\ns\ni\nt\n_\nA\nd\nd\n(\ns\ne\nl\nf\n,\n \nn\no\nd\ne\n)\n:\n\n\n \n \n \n \n \n \n \n \ny\ni\ne\nl\nd\n \n(\ny\ni\ne\nl\nd\n \nn\no\nd\ne\n.\nl\ne\nf\nt\n)\n \n+\n \n(\ny\ni\ne\nl\nd\n \nn\no\nd\ne\n.\nr\ni\ng\nh\nt\n)\n\n\n\n\n \n \n \n \nd\ne\nf\n \nv\ni\ns\ni\nt\n_\nS\nu\nb\n(\ns\ne\nl\nf\n,\n \nn\no\nd\ne\n)\n:\n\n\n \n \n \n \n \n \n \n \ny\ni\ne\nl\nd\n \n(\ny\ni\ne\nl\nd\n \nn\no\nd\ne\n.\nl\ne\nf\nt\n)\n \n-\n \n(\ny\ni\ne\nl\nd\n \nn\no\nd\ne\n.\nr\ni\ng\nh\nt\n)\n\n\n\n\n \n \n \n \nd\ne\nf\n \nv\ni\ns\ni\nt\n_\nM\nu\nl\n(\ns\ne\nl\nf\n,\n \nn\no\nd\ne\n)\n:\n\n\n \n \n \n \n \n \n \n \ny\ni\ne\nl\nd\n \n(\ny\ni\ne\nl\nd\n \nn\no\nd\ne\n.\nl\ne\nf\nt\n)\n \n*\n \n(\ny\ni\ne\nl\nd\n \nn\no\nd\ne\n.\nr\ni\ng\nh\nt\n)\n\n\n\n\n \n \n \n \nd\ne\nf\n \nv\ni\ns\ni\nt\n_\nD\ni\nv\n(\ns\ne\nl\nf\n,\n \nn\no\nd\ne\n)\n:\n\n\n \n \n \n \n \n \n \n \ny\ni\ne\nl\nd\n \n(\ny\ni\ne\nl\nd\n \nn\no\nd\ne\n.\nl\ne\nf\nt\n)\n \n/\n \n(\ny\ni\ne\nl\nd\n \nn\no\nd\ne\n.\nr\ni\ng\nh\nt\n)\n\n\n\n\n \n \n \n \nd\ne\nf\n \nv\ni\ns\ni\nt\n_\nN\ne\ng\na\nt\ne\n(\ns\ne\nl\nf\n,\n \nn\no\nd\ne\n)\n:\n\n\n \n \n \n \n \n \n \n \ny\ni\ne\nl\nd\n \n-\n \n(\ny\ni\ne\nl\nd\n \nn\no\nd\ne\n.\no\np\ne\nr\na\nn\nd\n)\n\n"
      ]
    },
    {
      "cell_type": "markdown",
      "metadata": {},
      "source": [
        "\u518d\u6b21\u8fd0\u884c\uff0c\u5c31\u4e0d\u4f1a\u62a5\u9519\u4e86\uff1a"
      ]
    },
    {
      "cell_type": "code",
      "execution_count": null,
      "metadata": {},
      "outputs": [],
      "source": [
        "a = Number(0)\nfor n in range(1,100000):\n    a = Add(a, Number(n))\ne = Evaluator()\ne.visit(a)"
      ]
    },
    {
      "cell_type": "markdown",
      "metadata": {},
      "source": [
        "\u5982\u679c\u4f60\u8fd8\u60f3\u6dfb\u52a0\u5176\u4ed6\u81ea\u5b9a\u4e49\u903b\u8f91\u4e5f\u6ca1\u95ee\u9898\uff1a"
      ]
    },
    {
      "cell_type": "code",
      "execution_count": null,
      "metadata": {},
      "outputs": [],
      "source": [
        "c\nl\na\ns\ns\n \nE\nv\na\nl\nu\na\nt\no\nr\n(\nN\no\nd\ne\nV\ni\ns\ni\nt\no\nr\n)\n:\n\n\n \n \n \n \n.\n.\n.\n\n\n \n \n \n \nd\ne\nf\n \nv\ni\ns\ni\nt\n_\nA\nd\nd\n(\ns\ne\nl\nf\n,\n \nn\no\nd\ne\n)\n:\n\n\n \n \n \n \n \n \n \n \np\nr\ni\nn\nt\n(\n'\nA\nd\nd\n:\n'\n,\n \nn\no\nd\ne\n)\n\n\n \n \n \n \n \n \n \n \nl\nh\ns\n \n=\n \ny\ni\ne\nl\nd\n \nn\no\nd\ne\n.\nl\ne\nf\nt\n\n\n \n \n \n \n \n \n \n \np\nr\ni\nn\nt\n(\n'\nl\ne\nf\nt\n=\n'\n,\n \nl\nh\ns\n)\n\n\n \n \n \n \n \n \n \n \nr\nh\ns\n \n=\n \ny\ni\ne\nl\nd\n \nn\no\nd\ne\n.\nr\ni\ng\nh\nt\n\n\n \n \n \n \n \n \n \n \np\nr\ni\nn\nt\n(\n'\nr\ni\ng\nh\nt\n=\n'\n,\n \nr\nh\ns\n)\n\n\n \n \n \n \n \n \n \n \ny\ni\ne\nl\nd\n \nl\nh\ns\n \n+\n \nr\nh\ns\n\n\n \n \n \n \n.\n.\n.\n\n"
      ]
    },
    {
      "cell_type": "markdown",
      "metadata": {},
      "source": [
        "\u4e0b\u9762\u662f\u7b80\u5355\u7684\u6d4b\u8bd5\uff1a"
      ]
    },
    {
      "cell_type": "code",
      "execution_count": null,
      "metadata": {},
      "outputs": [],
      "source": [
        "e = Evaluator()\ne.visit(t4)"
      ]
    },
    {
      "cell_type": "markdown",
      "metadata": {},
      "source": [
        "### \u8ba8\u8bba\n"
      ]
    },
    {
      "cell_type": "markdown",
      "metadata": {},
      "source": [
        "\u8fd9\u4e00\u5c0f\u8282\u6211\u4eec\u6f14\u793a\u4e86\u751f\u6210\u5668\u548c\u534f\u7a0b\u5728\u7a0b\u5e8f\u63a7\u5236\u6d41\u65b9\u9762\u7684\u5f3a\u5927\u529f\u80fd\u3002\n\u907f\u514d\u9012\u5f52\u7684\u4e00\u4e2a\u901a\u5e38\u65b9\u6cd5\u662f\u4f7f\u7528\u4e00\u4e2a\u6808\u6216\u961f\u5217\u7684\u6570\u636e\u7ed3\u6784\u3002\n\u4f8b\u5982\uff0c\u6df1\u5ea6\u4f18\u5148\u7684\u904d\u5386\u7b97\u6cd5\uff0c\u7b2c\u4e00\u6b21\u78b0\u5230\u4e00\u4e2a\u8282\u70b9\u65f6\u5c06\u5176\u538b\u5165\u6808\u4e2d\uff0c\u5904\u7406\u5b8c\u540e\u5f39\u51fa\u6808\u3002visit() \u65b9\u6cd5\u7684\u6838\u5fc3\u601d\u8def\u5c31\u662f\u8fd9\u6837\u3002"
      ]
    },
    {
      "cell_type": "markdown",
      "metadata": {},
      "source": [
        "\u53e6\u5916\u4e00\u4e2a\u9700\u8981\u7406\u89e3\u7684\u5c31\u662f\u751f\u6210\u5668\u4e2dyield\u8bed\u53e5\u3002\u5f53\u78b0\u5230yield\u8bed\u53e5\u65f6\uff0c\u751f\u6210\u5668\u4f1a\u8fd4\u56de\u4e00\u4e2a\u6570\u636e\u5e76\u6682\u65f6\u6302\u8d77\u3002\n\u4e0a\u9762\u7684\u4f8b\u5b50\u4f7f\u7528\u8fd9\u4e2a\u6280\u672f\u6765\u4ee3\u66ff\u4e86\u9012\u5f52\u3002\u4f8b\u5982\uff0c\u4e4b\u524d\u6211\u4eec\u662f\u8fd9\u6837\u5199\u9012\u5f52\uff1a"
      ]
    },
    {
      "cell_type": "code",
      "execution_count": null,
      "metadata": {},
      "outputs": [],
      "source": [
        "v\na\nl\nu\ne\n \n=\n \ns\ne\nl\nf\n.\nv\ni\ns\ni\nt\n(\nn\no\nd\ne\n.\nl\ne\nf\nt\n)\n\n"
      ]
    },
    {
      "cell_type": "markdown",
      "metadata": {},
      "source": [
        "\u73b0\u5728\u6362\u6210yield\u8bed\u53e5\uff1a"
      ]
    },
    {
      "cell_type": "code",
      "execution_count": null,
      "metadata": {},
      "outputs": [],
      "source": [
        "v\na\nl\nu\ne\n \n=\n \ny\ni\ne\nl\nd\n \nn\no\nd\ne\n.\nl\ne\nf\nt\n\n"
      ]
    },
    {
      "cell_type": "markdown",
      "metadata": {},
      "source": [
        "\u5b83\u4f1a\u5c06 node.left \u8fd4\u56de\u7ed9 visit() \u65b9\u6cd5\uff0c\u7136\u540e visit() \u65b9\u6cd5\u8c03\u7528\u90a3\u4e2a\u8282\u70b9\u76f8\u5e94\u7684 visit_Name() \u65b9\u6cd5\u3002\nyield\u6682\u65f6\u5c06\u7a0b\u5e8f\u63a7\u5236\u5668\u8ba9\u51fa\u7ed9\u8c03\u7528\u8005\uff0c\u5f53\u6267\u884c\u5b8c\u540e\uff0c\u7ed3\u679c\u4f1a\u8d4b\u503c\u7ed9value\uff0c"
      ]
    },
    {
      "cell_type": "markdown",
      "metadata": {},
      "source": [
        "\u770b\u5b8c\u8fd9\u4e00\u5c0f\u8282\uff0c\u4f60\u4e5f\u8bb8\u60f3\u53bb\u5bfb\u627e\u5176\u5b83\u6ca1\u6709yield\u8bed\u53e5\u7684\u65b9\u6848\u3002\u4f46\u662f\u8fd9\u4e48\u505a\u6ca1\u6709\u5fc5\u8981\uff0c\u4f60\u5fc5\u987b\u5904\u7406\u5f88\u591a\u68d8\u624b\u7684\u95ee\u9898\u3002\n\u4f8b\u5982\uff0c\u4e3a\u4e86\u6d88\u9664\u9012\u5f52\uff0c\u4f60\u5fc5\u987b\u8981\u7ef4\u62a4\u4e00\u4e2a\u6808\u7ed3\u6784\uff0c\u5982\u679c\u4e0d\u4f7f\u7528\u751f\u6210\u5668\uff0c\u4ee3\u7801\u4f1a\u53d8\u5f97\u5f88\u81c3\u80bf\uff0c\u5230\u5904\u90fd\u662f\u6808\u64cd\u4f5c\u8bed\u53e5\u3001\u56de\u8c03\u51fd\u6570\u7b49\u3002\n\u5b9e\u9645\u4e0a\uff0c\u4f7f\u7528yield\u8bed\u53e5\u53ef\u4ee5\u8ba9\u4f60\u5199\u51fa\u975e\u5e38\u6f02\u4eae\u7684\u4ee3\u7801\uff0c\u5b83\u6d88\u9664\u4e86\u9012\u5f52\u4f46\u662f\u770b\u4e0a\u53bb\u53c8\u5f88\u50cf\u9012\u5f52\u5b9e\u73b0\uff0c\u4ee3\u7801\u5f88\u7b80\u6d01\u3002"
      ]
    },
    {
      "cell_type": "markdown",
      "metadata": {},
      "source": [
        "## 8.23 \u5faa\u73af\u5f15\u7528\u6570\u636e\u7ed3\u6784\u7684\u5185\u5b58\u7ba1\u7406\n"
      ]
    },
    {
      "cell_type": "markdown",
      "metadata": {},
      "source": [
        "### \u95ee\u9898\n"
      ]
    },
    {
      "cell_type": "markdown",
      "metadata": {},
      "source": [
        "\u4f60\u7684\u7a0b\u5e8f\u521b\u5efa\u4e86\u5f88\u591a\u5faa\u73af\u5f15\u7528\u6570\u636e\u7ed3\u6784(\u6bd4\u5982\u6811\u3001\u56fe\u3001\u89c2\u5bdf\u8005\u6a21\u5f0f\u7b49)\uff0c\u4f60\u78b0\u5230\u4e86\u5185\u5b58\u7ba1\u7406\u96be\u9898\u3002"
      ]
    },
    {
      "cell_type": "markdown",
      "metadata": {},
      "source": [
        "### \u89e3\u51b3\u65b9\u6848\n"
      ]
    },
    {
      "cell_type": "markdown",
      "metadata": {},
      "source": [
        "\u4e00\u4e2a\u7b80\u5355\u7684\u5faa\u73af\u5f15\u7528\u6570\u636e\u7ed3\u6784\u4f8b\u5b50\u5c31\u662f\u4e00\u4e2a\u6811\u5f62\u7ed3\u6784\uff0c\u53cc\u4eb2\u8282\u70b9\u6709\u6307\u9488\u6307\u5411\u5b69\u5b50\u8282\u70b9\uff0c\u5b69\u5b50\u8282\u70b9\u53c8\u8fd4\u56de\u6765\u6307\u5411\u53cc\u4eb2\u8282\u70b9\u3002\n\u8fd9\u79cd\u60c5\u51b5\u4e0b\uff0c\u53ef\u4ee5\u8003\u8651\u4f7f\u7528 weakref \u5e93\u4e2d\u7684\u5f31\u5f15\u7528\u3002\u4f8b\u5982\uff1a"
      ]
    },
    {
      "cell_type": "code",
      "execution_count": null,
      "metadata": {},
      "outputs": [],
      "source": [
        "i\nm\np\no\nr\nt\n \nw\ne\na\nk\nr\ne\nf\n\n\n\n\nc\nl\na\ns\ns\n \nN\no\nd\ne\n:\n\n\n \n \n \n \nd\ne\nf\n \n_\n_\ni\nn\ni\nt\n_\n_\n(\ns\ne\nl\nf\n,\n \nv\na\nl\nu\ne\n)\n:\n\n\n \n \n \n \n \n \n \n \ns\ne\nl\nf\n.\nv\na\nl\nu\ne\n \n=\n \nv\na\nl\nu\ne\n\n\n \n \n \n \n \n \n \n \ns\ne\nl\nf\n.\n_\np\na\nr\ne\nn\nt\n \n=\n \nN\no\nn\ne\n\n\n \n \n \n \n \n \n \n \ns\ne\nl\nf\n.\nc\nh\ni\nl\nd\nr\ne\nn\n \n=\n \n[\n]\n\n\n\n\n \n \n \n \nd\ne\nf\n \n_\n_\nr\ne\np\nr\n_\n_\n(\ns\ne\nl\nf\n)\n:\n\n\n \n \n \n \n \n \n \n \nr\ne\nt\nu\nr\nn\n \n'\nN\no\nd\ne\n(\n{\n!\nr\n:\n}\n)\n'\n.\nf\no\nr\nm\na\nt\n(\ns\ne\nl\nf\n.\nv\na\nl\nu\ne\n)\n\n\n\n\n \n \n \n \n#\n \np\nr\no\np\ne\nr\nt\ny\n \nt\nh\na\nt\n \nm\na\nn\na\ng\ne\ns\n \nt\nh\ne\n \np\na\nr\ne\nn\nt\n \na\ns\n \na\n \nw\ne\na\nk\n-\nr\ne\nf\ne\nr\ne\nn\nc\ne\n\n\n \n \n \n \n@\np\nr\no\np\ne\nr\nt\ny\n\n\n \n \n \n \nd\ne\nf\n \np\na\nr\ne\nn\nt\n(\ns\ne\nl\nf\n)\n:\n\n\n \n \n \n \n \n \n \n \nr\ne\nt\nu\nr\nn\n \nN\no\nn\ne\n \ni\nf\n \ns\ne\nl\nf\n.\n_\np\na\nr\ne\nn\nt\n \ni\ns\n \nN\no\nn\ne\n \ne\nl\ns\ne\n \ns\ne\nl\nf\n.\n_\np\na\nr\ne\nn\nt\n(\n)\n\n\n\n\n \n \n \n \n@\np\na\nr\ne\nn\nt\n.\ns\ne\nt\nt\ne\nr\n\n\n \n \n \n \nd\ne\nf\n \np\na\nr\ne\nn\nt\n(\ns\ne\nl\nf\n,\n \nn\no\nd\ne\n)\n:\n\n\n \n \n \n \n \n \n \n \ns\ne\nl\nf\n.\n_\np\na\nr\ne\nn\nt\n \n=\n \nw\ne\na\nk\nr\ne\nf\n.\nr\ne\nf\n(\nn\no\nd\ne\n)\n\n\n\n\n \n \n \n \nd\ne\nf\n \na\nd\nd\n_\nc\nh\ni\nl\nd\n(\ns\ne\nl\nf\n,\n \nc\nh\ni\nl\nd\n)\n:\n\n\n \n \n \n \n \n \n \n \ns\ne\nl\nf\n.\nc\nh\ni\nl\nd\nr\ne\nn\n.\na\np\np\ne\nn\nd\n(\nc\nh\ni\nl\nd\n)\n\n\n \n \n \n \n \n \n \n \nc\nh\ni\nl\nd\n.\np\na\nr\ne\nn\nt\n \n=\n \ns\ne\nl\nf\n\n"
      ]
    },
    {
      "cell_type": "markdown",
      "metadata": {},
      "source": [
        "\u8fd9\u79cd\u662f\u60f3\u65b9\u5f0f\u5141\u8bb8parent\u9759\u9ed8\u7ec8\u6b62\u3002\u4f8b\u5982\uff1a"
      ]
    },
    {
      "cell_type": "code",
      "execution_count": null,
      "metadata": {},
      "outputs": [],
      "source": [
        "root = Node('parent')\nc1 = Node('child')\nroot.add_child(c1)\nprint(c1.parent)"
      ]
    },
    {
      "cell_type": "code",
      "execution_count": null,
      "metadata": {},
      "outputs": [],
      "source": [
        "del root\nprint(c1.parent)"
      ]
    },
    {
      "cell_type": "markdown",
      "metadata": {},
      "source": [
        "### \u8ba8\u8bba\n"
      ]
    },
    {
      "cell_type": "markdown",
      "metadata": {},
      "source": [
        "\u5faa\u73af\u5f15\u7528\u7684\u6570\u636e\u7ed3\u6784\u5728Python\u4e2d\u662f\u4e00\u4e2a\u5f88\u68d8\u624b\u7684\u95ee\u9898\uff0c\u56e0\u4e3a\u6b63\u5e38\u7684\u5783\u573e\u56de\u6536\u673a\u5236\u4e0d\u80fd\u9002\u7528\u4e8e\u8fd9\u79cd\u60c5\u5f62\u3002\n\u4f8b\u5982\u8003\u8651\u5982\u4e0b\u4ee3\u7801\uff1a"
      ]
    },
    {
      "cell_type": "code",
      "execution_count": null,
      "metadata": {},
      "outputs": [],
      "source": [
        "#\n \nC\nl\na\ns\ns\n \nj\nu\ns\nt\n \nt\no\n \ni\nl\nl\nu\ns\nt\nr\na\nt\ne\n \nw\nh\ne\nn\n \nd\ne\nl\ne\nt\ni\no\nn\n \no\nc\nc\nu\nr\ns\n\n\nc\nl\na\ns\ns\n \nD\na\nt\na\n:\n\n\n \n \n \n \nd\ne\nf\n \n_\n_\nd\ne\nl\n_\n_\n(\ns\ne\nl\nf\n)\n:\n\n\n \n \n \n \n \n \n \n \np\nr\ni\nn\nt\n(\n'\nD\na\nt\na\n.\n_\n_\nd\ne\nl\n_\n_\n'\n)\n\n\n\n\n#\n \nN\no\nd\ne\n \nc\nl\na\ns\ns\n \ni\nn\nv\no\nl\nv\ni\nn\ng\n \na\n \nc\ny\nc\nl\ne\n\n\nc\nl\na\ns\ns\n \nN\no\nd\ne\n:\n\n\n \n \n \n \nd\ne\nf\n \n_\n_\ni\nn\ni\nt\n_\n_\n(\ns\ne\nl\nf\n)\n:\n\n\n \n \n \n \n \n \n \n \ns\ne\nl\nf\n.\nd\na\nt\na\n \n=\n \nD\na\nt\na\n(\n)\n\n\n \n \n \n \n \n \n \n \ns\ne\nl\nf\n.\np\na\nr\ne\nn\nt\n \n=\n \nN\no\nn\ne\n\n\n \n \n \n \n \n \n \n \ns\ne\nl\nf\n.\nc\nh\ni\nl\nd\nr\ne\nn\n \n=\n \n[\n]\n\n\n\n\n \n \n \n \nd\ne\nf\n \na\nd\nd\n_\nc\nh\ni\nl\nd\n(\ns\ne\nl\nf\n,\n \nc\nh\ni\nl\nd\n)\n:\n\n\n \n \n \n \n \n \n \n \ns\ne\nl\nf\n.\nc\nh\ni\nl\nd\nr\ne\nn\n.\na\np\np\ne\nn\nd\n(\nc\nh\ni\nl\nd\n)\n\n\n \n \n \n \n \n \n \n \nc\nh\ni\nl\nd\n.\np\na\nr\ne\nn\nt\n \n=\n \ns\ne\nl\nf\n\n"
      ]
    },
    {
      "cell_type": "markdown",
      "metadata": {},
      "source": [
        "\u4e0b\u9762\u6211\u4eec\u4f7f\u7528\u8fd9\u4e2a\u4ee3\u7801\u6765\u505a\u4e00\u4e9b\u5783\u573e\u56de\u6536\u8bd5\u9a8c\uff1a"
      ]
    },
    {
      "cell_type": "code",
      "execution_count": null,
      "metadata": {},
      "outputs": [],
      "source": [
        "a = Data()\ndel a # Immediately deleted"
      ]
    },
    {
      "cell_type": "code",
      "execution_count": null,
      "metadata": {},
      "outputs": [],
      "source": [
        "a = Node()\ndel a # Immediately deleted"
      ]
    },
    {
      "cell_type": "code",
      "execution_count": null,
      "metadata": {},
      "outputs": [],
      "source": [
        "a = Node()\na.add_child(Node())\ndel a # Not deleted (no message)"
      ]
    },
    {
      "cell_type": "markdown",
      "metadata": {},
      "source": [
        "\u53ef\u4ee5\u770b\u5230\uff0c\u6700\u540e\u4e00\u4e2a\u7684\u5220\u9664\u65f6\u6253\u5370\u8bed\u53e5\u6ca1\u6709\u51fa\u73b0\u3002\u539f\u56e0\u662fPython\u7684\u5783\u573e\u56de\u6536\u673a\u5236\u662f\u57fa\u4e8e\u7b80\u5355\u7684\u5f15\u7528\u8ba1\u6570\u3002\n\u5f53\u4e00\u4e2a\u5bf9\u8c61\u7684\u5f15\u7528\u6570\u53d8\u62100\u7684\u65f6\u5019\u624d\u4f1a\u7acb\u5373\u5220\u9664\u6389\u3002\u800c\u5bf9\u4e8e\u5faa\u73af\u5f15\u7528\u8fd9\u4e2a\u6761\u4ef6\u6c38\u8fdc\u4e0d\u4f1a\u6210\u7acb\u3002\n\u56e0\u6b64\uff0c\u5728\u4e0a\u9762\u4f8b\u5b50\u4e2d\u6700\u540e\u90e8\u5206\uff0c\u7236\u8282\u70b9\u548c\u5b69\u5b50\u8282\u70b9\u4e92\u76f8\u62e5\u6709\u5bf9\u65b9\u7684\u5f15\u7528\uff0c\u5bfc\u81f4\u6bcf\u4e2a\u5bf9\u8c61\u7684\u5f15\u7528\u8ba1\u6570\u90fd\u4e0d\u53ef\u80fd\u53d8\u62100\u3002"
      ]
    },
    {
      "cell_type": "markdown",
      "metadata": {},
      "source": [
        "Python\u6709\u53e6\u5916\u7684\u5783\u573e\u56de\u6536\u5668\u6765\u4e13\u95e8\u9488\u5bf9\u5faa\u73af\u5f15\u7528\u7684\uff0c\u4f46\u662f\u4f60\u6c38\u8fdc\u4e0d\u77e5\u9053\u5b83\u4ec0\u4e48\u65f6\u5019\u4f1a\u89e6\u53d1\u3002\n\u53e6\u5916\u4f60\u8fd8\u53ef\u4ee5\u624b\u52a8\u7684\u89e6\u53d1\u5b83\uff0c\u4f46\u662f\u4ee3\u7801\u770b\u4e0a\u53bb\u5f88\u632b\uff1a"
      ]
    },
    {
      "cell_type": "code",
      "execution_count": null,
      "metadata": {},
      "outputs": [],
      "source": [
        "import gc\ngc.collect() # Force collection"
      ]
    },
    {
      "cell_type": "markdown",
      "metadata": {},
      "source": [
        "\u5982\u679c\u5faa\u73af\u5f15\u7528\u7684\u5bf9\u8c61\u81ea\u5df1\u8fd8\u5b9a\u4e49\u4e86\u81ea\u5df1\u7684 __del__() \u65b9\u6cd5\uff0c\u90a3\u4e48\u4f1a\u8ba9\u60c5\u51b5\u53d8\u5f97\u66f4\u7cdf\u7cd5\u3002\n\u5047\u8bbe\u4f60\u50cf\u4e0b\u9762\u8fd9\u6837\u7ed9Node\u5b9a\u4e49\u81ea\u5df1\u7684 __del__() \u65b9\u6cd5\uff1a"
      ]
    },
    {
      "cell_type": "code",
      "execution_count": null,
      "metadata": {},
      "outputs": [],
      "source": [
        "#\n \nN\no\nd\ne\n \nc\nl\na\ns\ns\n \ni\nn\nv\no\nl\nv\ni\nn\ng\n \na\n \nc\ny\nc\nl\ne\n\n\nc\nl\na\ns\ns\n \nN\no\nd\ne\n:\n\n\n \n \n \n \nd\ne\nf\n \n_\n_\ni\nn\ni\nt\n_\n_\n(\ns\ne\nl\nf\n)\n:\n\n\n \n \n \n \n \n \n \n \ns\ne\nl\nf\n.\nd\na\nt\na\n \n=\n \nD\na\nt\na\n(\n)\n\n\n \n \n \n \n \n \n \n \ns\ne\nl\nf\n.\np\na\nr\ne\nn\nt\n \n=\n \nN\no\nn\ne\n\n\n \n \n \n \n \n \n \n \ns\ne\nl\nf\n.\nc\nh\ni\nl\nd\nr\ne\nn\n \n=\n \n[\n]\n\n\n\n\n \n \n \n \nd\ne\nf\n \na\nd\nd\n_\nc\nh\ni\nl\nd\n(\ns\ne\nl\nf\n,\n \nc\nh\ni\nl\nd\n)\n:\n\n\n \n \n \n \n \n \n \n \ns\ne\nl\nf\n.\nc\nh\ni\nl\nd\nr\ne\nn\n.\na\np\np\ne\nn\nd\n(\nc\nh\ni\nl\nd\n)\n\n\n \n \n \n \n \n \n \n \nc\nh\ni\nl\nd\n.\np\na\nr\ne\nn\nt\n \n=\n \ns\ne\nl\nf\n\n\n\n\n \n \n \n \n#\n \nN\nE\nV\nE\nR\n \nD\nE\nF\nI\nN\nE\n \nL\nI\nK\nE\n \nT\nH\nI\nS\n.\n\n\n \n \n \n \n#\n \nO\nn\nl\ny\n \nh\ne\nr\ne\n \nt\no\n \ni\nl\nl\nu\ns\nt\nr\na\nt\ne\n \np\na\nt\nh\no\nl\no\ng\ni\nc\na\nl\n \nb\ne\nh\na\nv\ni\no\nr\n\n\n \n \n \n \nd\ne\nf\n \n_\n_\nd\ne\nl\n_\n_\n(\ns\ne\nl\nf\n)\n:\n\n\n \n \n \n \n \n \n \n \nd\ne\nl\n \ns\ne\nl\nf\n.\nd\na\nt\na\n\n\n \n \n \n \n \n \n \n \nd\ne\nl\n.\np\na\nr\ne\nn\nt\n\n\n \n \n \n \n \n \n \n \nd\ne\nl\n.\nc\nh\ni\nl\nd\nr\ne\nn\n\n"
      ]
    },
    {
      "cell_type": "markdown",
      "metadata": {},
      "source": [
        "\u8fd9\u79cd\u60c5\u51b5\u4e0b\uff0c\u5783\u573e\u56de\u6536\u6c38\u8fdc\u90fd\u4e0d\u4f1a\u53bb\u56de\u6536\u8fd9\u4e2a\u5bf9\u8c61\u7684\uff0c\u8fd8\u4f1a\u5bfc\u81f4\u5185\u5b58\u6cc4\u9732\u3002\n\u5982\u679c\u4f60\u8bd5\u7740\u53bb\u8fd0\u884c\u5b83\u4f1a\u53d1\u73b0\uff0cData.__del__ \u6d88\u606f\u6c38\u8fdc\u4e0d\u4f1a\u51fa\u73b0\u4e86,\u751a\u81f3\u5728\u4f60\u5f3a\u5236\u5185\u5b58\u56de\u6536\u65f6\uff1a"
      ]
    },
    {
      "cell_type": "code",
      "execution_count": null,
      "metadata": {},
      "outputs": [],
      "source": [
        "a = Node()\na.add_child(Node()\ndel a # No message (not collected)\nimport gc\ngc.collect() # No message (not collected)"
      ]
    },
    {
      "cell_type": "markdown",
      "metadata": {},
      "source": [
        "\u5f31\u5f15\u7528\u6d88\u9664\u4e86\u5f15\u7528\u5faa\u73af\u7684\u8fd9\u4e2a\u95ee\u9898\uff0c\u672c\u8d28\u6765\u8bb2\uff0c\u5f31\u5f15\u7528\u5c31\u662f\u4e00\u4e2a\u5bf9\u8c61\u6307\u9488\uff0c\u5b83\u4e0d\u4f1a\u589e\u52a0\u5b83\u7684\u5f15\u7528\u8ba1\u6570\u3002\n\u4f60\u53ef\u4ee5\u901a\u8fc7 weakref \u6765\u521b\u5efa\u5f31\u5f15\u7528\u3002\u4f8b\u5982\uff1a"
      ]
    },
    {
      "cell_type": "code",
      "execution_count": null,
      "metadata": {},
      "outputs": [],
      "source": [
        "import weakref\na = Node()\na_ref = weakref.ref(a)\na_ref"
      ]
    },
    {
      "cell_type": "markdown",
      "metadata": {},
      "source": [
        "\u4e3a\u4e86\u8bbf\u95ee\u5f31\u5f15\u7528\u6240\u5f15\u7528\u7684\u5bf9\u8c61\uff0c\u4f60\u53ef\u4ee5\u50cf\u51fd\u6570\u4e00\u6837\u53bb\u8c03\u7528\u5b83\u5373\u53ef\u3002\u5982\u679c\u90a3\u4e2a\u5bf9\u8c61\u8fd8\u5b58\u5728\u5c31\u4f1a\u8fd4\u56de\u5b83\uff0c\u5426\u5219\u5c31\u8fd4\u56de\u4e00\u4e2aNone\u3002\n\u7531\u4e8e\u539f\u59cb\u5bf9\u8c61\u7684\u5f15\u7528\u8ba1\u6570\u6ca1\u6709\u589e\u52a0\uff0c\u90a3\u4e48\u5c31\u53ef\u4ee5\u53bb\u5220\u9664\u5b83\u4e86\u3002\u4f8b\u5982;"
      ]
    },
    {
      "cell_type": "code",
      "execution_count": null,
      "metadata": {},
      "outputs": [],
      "source": [
        "print(a_ref())"
      ]
    },
    {
      "cell_type": "code",
      "execution_count": null,
      "metadata": {},
      "outputs": [],
      "source": [
        "del a"
      ]
    },
    {
      "cell_type": "code",
      "execution_count": null,
      "metadata": {},
      "outputs": [],
      "source": [
        "print(a_ref())"
      ]
    },
    {
      "cell_type": "markdown",
      "metadata": {},
      "source": [
        "\u901a\u8fc7\u8fd9\u91cc\u6f14\u793a\u7684\u5f31\u5f15\u7528\u6280\u672f\uff0c\u4f60\u4f1a\u53d1\u73b0\u4e0d\u518d\u6709\u5faa\u73af\u5f15\u7528\u95ee\u9898\u4e86\uff0c\u4e00\u65e6\u67d0\u4e2a\u8282\u70b9\u4e0d\u88ab\u4f7f\u7528\u4e86\uff0c\u5783\u573e\u56de\u6536\u5668\u7acb\u5373\u56de\u6536\u5b83\u3002\n\u4f60\u8fd8\u80fd\u53c2\u80038.25\u5c0f\u8282\u5173\u4e8e\u5f31\u5f15\u7528\u7684\u53e6\u5916\u4e00\u4e2a\u4f8b\u5b50\u3002"
      ]
    },
    {
      "cell_type": "markdown",
      "metadata": {},
      "source": [
        "## 8.24 \u8ba9\u7c7b\u652f\u6301\u6bd4\u8f83\u64cd\u4f5c\n"
      ]
    },
    {
      "cell_type": "markdown",
      "metadata": {},
      "source": [
        "### \u95ee\u9898\n"
      ]
    },
    {
      "cell_type": "markdown",
      "metadata": {},
      "source": [
        "\u4f60\u60f3\u8ba9\u67d0\u4e2a\u7c7b\u7684\u5b9e\u4f8b\u652f\u6301\u6807\u51c6\u7684\u6bd4\u8f83\u8fd0\u7b97(\u6bd4\u5982>=,!=,<=,<\u7b49)\uff0c\u4f46\u662f\u53c8\u4e0d\u60f3\u53bb\u5b9e\u73b0\u90a3\u4e00\u5927\u4e22\u7684\u7279\u6b8a\u65b9\u6cd5\u3002"
      ]
    },
    {
      "cell_type": "markdown",
      "metadata": {},
      "source": [
        "### \u89e3\u51b3\u65b9\u6848\n"
      ]
    },
    {
      "cell_type": "markdown",
      "metadata": {},
      "source": [
        "Python\u7c7b\u5bf9\u6bcf\u4e2a\u6bd4\u8f83\u64cd\u4f5c\u90fd\u9700\u8981\u5b9e\u73b0\u4e00\u4e2a\u7279\u6b8a\u65b9\u6cd5\u6765\u652f\u6301\u3002\n\u4f8b\u5982\u4e3a\u4e86\u652f\u6301>=\u64cd\u4f5c\u7b26\uff0c\u4f60\u9700\u8981\u5b9a\u4e49\u4e00\u4e2a __ge__() \u65b9\u6cd5\u3002\n\u5c3d\u7ba1\u5b9a\u4e49\u4e00\u4e2a\u65b9\u6cd5\u6ca1\u4ec0\u4e48\u95ee\u9898\uff0c\u4f46\u5982\u679c\u8981\u4f60\u5b9e\u73b0\u6240\u6709\u53ef\u80fd\u7684\u6bd4\u8f83\u65b9\u6cd5\u90a3\u5c31\u6709\u70b9\u70e6\u4eba\u4e86\u3002"
      ]
    },
    {
      "cell_type": "markdown",
      "metadata": {},
      "source": [
        "\u88c5\u9970\u5668 functools.total_ordering \u5c31\u662f\u7528\u6765\u7b80\u5316\u8fd9\u4e2a\u5904\u7406\u7684\u3002\n\u4f7f\u7528\u5b83\u6765\u88c5\u9970\u4e00\u4e2a\u6765\uff0c\u4f60\u53ea\u9700\u5b9a\u4e49\u4e00\u4e2a __eq__() \u65b9\u6cd5\uff0c\n\u5916\u52a0\u5176\u4ed6\u65b9\u6cd5(__lt__, __le__, __gt__, or __ge__)\u4e2d\u7684\u4e00\u4e2a\u5373\u53ef\u3002\n\u7136\u540e\u88c5\u9970\u5668\u4f1a\u81ea\u52a8\u4e3a\u4f60\u586b\u5145\u5176\u5b83\u6bd4\u8f83\u65b9\u6cd5\u3002"
      ]
    },
    {
      "cell_type": "markdown",
      "metadata": {},
      "source": [
        "\u4f5c\u4e3a\u4f8b\u5b50\uff0c\u6211\u4eec\u6784\u5efa\u4e00\u4e9b\u623f\u5b50\uff0c\u7136\u540e\u7ed9\u5b83\u4eec\u589e\u52a0\u4e00\u4e9b\u623f\u95f4\uff0c\u6700\u540e\u901a\u8fc7\u623f\u5b50\u5927\u5c0f\u6765\u6bd4\u8f83\u5b83\u4eec\uff1a"
      ]
    },
    {
      "cell_type": "code",
      "execution_count": null,
      "metadata": {},
      "outputs": [],
      "source": [
        "f\nr\no\nm\n \nf\nu\nn\nc\nt\no\no\nl\ns\n \ni\nm\np\no\nr\nt\n \nt\no\nt\na\nl\n_\no\nr\nd\ne\nr\ni\nn\ng\n\n\n\n\nc\nl\na\ns\ns\n \nR\no\no\nm\n:\n\n\n \n \n \n \nd\ne\nf\n \n_\n_\ni\nn\ni\nt\n_\n_\n(\ns\ne\nl\nf\n,\n \nn\na\nm\ne\n,\n \nl\ne\nn\ng\nt\nh\n,\n \nw\ni\nd\nt\nh\n)\n:\n\n\n \n \n \n \n \n \n \n \ns\ne\nl\nf\n.\nn\na\nm\ne\n \n=\n \nn\na\nm\ne\n\n\n \n \n \n \n \n \n \n \ns\ne\nl\nf\n.\nl\ne\nn\ng\nt\nh\n \n=\n \nl\ne\nn\ng\nt\nh\n\n\n \n \n \n \n \n \n \n \ns\ne\nl\nf\n.\nw\ni\nd\nt\nh\n \n=\n \nw\ni\nd\nt\nh\n\n\n \n \n \n \n \n \n \n \ns\ne\nl\nf\n.\ns\nq\nu\na\nr\ne\n_\nf\ne\ne\nt\n \n=\n \ns\ne\nl\nf\n.\nl\ne\nn\ng\nt\nh\n \n*\n \ns\ne\nl\nf\n.\nw\ni\nd\nt\nh\n\n\n\n\n@\nt\no\nt\na\nl\n_\no\nr\nd\ne\nr\ni\nn\ng\n\n\nc\nl\na\ns\ns\n \nH\no\nu\ns\ne\n:\n\n\n \n \n \n \nd\ne\nf\n \n_\n_\ni\nn\ni\nt\n_\n_\n(\ns\ne\nl\nf\n,\n \nn\na\nm\ne\n,\n \ns\nt\ny\nl\ne\n)\n:\n\n\n \n \n \n \n \n \n \n \ns\ne\nl\nf\n.\nn\na\nm\ne\n \n=\n \nn\na\nm\ne\n\n\n \n \n \n \n \n \n \n \ns\ne\nl\nf\n.\ns\nt\ny\nl\ne\n \n=\n \ns\nt\ny\nl\ne\n\n\n \n \n \n \n \n \n \n \ns\ne\nl\nf\n.\nr\no\no\nm\ns\n \n=\n \nl\ni\ns\nt\n(\n)\n\n\n\n\n \n \n \n \n@\np\nr\no\np\ne\nr\nt\ny\n\n\n \n \n \n \nd\ne\nf\n \nl\ni\nv\ni\nn\ng\n_\ns\np\na\nc\ne\n_\nf\no\no\nt\na\ng\ne\n(\ns\ne\nl\nf\n)\n:\n\n\n \n \n \n \n \n \n \n \nr\ne\nt\nu\nr\nn\n \ns\nu\nm\n(\nr\n.\ns\nq\nu\na\nr\ne\n_\nf\ne\ne\nt\n \nf\no\nr\n \nr\n \ni\nn\n \ns\ne\nl\nf\n.\nr\no\no\nm\ns\n)\n\n\n\n\n \n \n \n \nd\ne\nf\n \na\nd\nd\n_\nr\no\no\nm\n(\ns\ne\nl\nf\n,\n \nr\no\no\nm\n)\n:\n\n\n \n \n \n \n \n \n \n \ns\ne\nl\nf\n.\nr\no\no\nm\ns\n.\na\np\np\ne\nn\nd\n(\nr\no\no\nm\n)\n\n\n\n\n \n \n \n \nd\ne\nf\n \n_\n_\ns\nt\nr\n_\n_\n(\ns\ne\nl\nf\n)\n:\n\n\n \n \n \n \n \n \n \n \nr\ne\nt\nu\nr\nn\n \n'\n{\n}\n:\n \n{\n}\n \ns\nq\nu\na\nr\ne\n \nf\no\no\nt\n \n{\n}\n'\n.\nf\no\nr\nm\na\nt\n(\ns\ne\nl\nf\n.\nn\na\nm\ne\n,\n\n\n \n \n \n \n \n \n \n \n \n \n \n \n \n \n \n \ns\ne\nl\nf\n.\nl\ni\nv\ni\nn\ng\n_\ns\np\na\nc\ne\n_\nf\no\no\nt\na\ng\ne\n,\n\n\n \n \n \n \n \n \n \n \n \n \n \n \n \n \n \n \ns\ne\nl\nf\n.\ns\nt\ny\nl\ne\n)\n\n\n\n\n \n \n \n \nd\ne\nf\n \n_\n_\ne\nq\n_\n_\n(\ns\ne\nl\nf\n,\n \no\nt\nh\ne\nr\n)\n:\n\n\n \n \n \n \n \n \n \n \nr\ne\nt\nu\nr\nn\n \ns\ne\nl\nf\n.\nl\ni\nv\ni\nn\ng\n_\ns\np\na\nc\ne\n_\nf\no\no\nt\na\ng\ne\n \n=\n=\n \no\nt\nh\ne\nr\n.\nl\ni\nv\ni\nn\ng\n_\ns\np\na\nc\ne\n_\nf\no\no\nt\na\ng\ne\n\n\n\n\n \n \n \n \nd\ne\nf\n \n_\n_\nl\nt\n_\n_\n(\ns\ne\nl\nf\n,\n \no\nt\nh\ne\nr\n)\n:\n\n\n \n \n \n \n \n \n \n \nr\ne\nt\nu\nr\nn\n \ns\ne\nl\nf\n.\nl\ni\nv\ni\nn\ng\n_\ns\np\na\nc\ne\n_\nf\no\no\nt\na\ng\ne\n \n<\n \no\nt\nh\ne\nr\n.\nl\ni\nv\ni\nn\ng\n_\ns\np\na\nc\ne\n_\nf\no\no\nt\na\ng\ne\n\n"
      ]
    },
    {
      "cell_type": "markdown",
      "metadata": {},
      "source": [
        "\u8fd9\u91cc\u6211\u4eec\u53ea\u662f\u7ed9House\u7c7b\u5b9a\u4e49\u4e86\u4e24\u4e2a\u65b9\u6cd5\uff1a__eq__() \u548c __lt__() \uff0c\u5b83\u5c31\u80fd\u652f\u6301\u6240\u6709\u7684\u6bd4\u8f83\u64cd\u4f5c\uff1a"
      ]
    },
    {
      "cell_type": "code",
      "execution_count": null,
      "metadata": {},
      "outputs": [],
      "source": [
        "#\n \nB\nu\ni\nl\nd\n \na\n \nf\ne\nw\n \nh\no\nu\ns\ne\ns\n,\n \na\nn\nd\n \na\nd\nd\n \nr\no\no\nm\ns\n \nt\no\n \nt\nh\ne\nm\n\n\nh\n1\n \n=\n \nH\no\nu\ns\ne\n(\n'\nh\n1\n'\n,\n \n'\nC\na\np\ne\n'\n)\n\n\nh\n1\n.\na\nd\nd\n_\nr\no\no\nm\n(\nR\no\no\nm\n(\n'\nM\na\ns\nt\ne\nr\n \nB\ne\nd\nr\no\no\nm\n'\n,\n \n1\n4\n,\n \n2\n1\n)\n)\n\n\nh\n1\n.\na\nd\nd\n_\nr\no\no\nm\n(\nR\no\no\nm\n(\n'\nL\ni\nv\ni\nn\ng\n \nR\no\no\nm\n'\n,\n \n1\n8\n,\n \n2\n0\n)\n)\n\n\nh\n1\n.\na\nd\nd\n_\nr\no\no\nm\n(\nR\no\no\nm\n(\n'\nK\ni\nt\nc\nh\ne\nn\n'\n,\n \n1\n2\n,\n \n1\n6\n)\n)\n\n\nh\n1\n.\na\nd\nd\n_\nr\no\no\nm\n(\nR\no\no\nm\n(\n'\nO\nf\nf\ni\nc\ne\n'\n,\n \n1\n2\n,\n \n1\n2\n)\n)\n\n\nh\n2\n \n=\n \nH\no\nu\ns\ne\n(\n'\nh\n2\n'\n,\n \n'\nR\na\nn\nc\nh\n'\n)\n\n\nh\n2\n.\na\nd\nd\n_\nr\no\no\nm\n(\nR\no\no\nm\n(\n'\nM\na\ns\nt\ne\nr\n \nB\ne\nd\nr\no\no\nm\n'\n,\n \n1\n4\n,\n \n2\n1\n)\n)\n\n\nh\n2\n.\na\nd\nd\n_\nr\no\no\nm\n(\nR\no\no\nm\n(\n'\nL\ni\nv\ni\nn\ng\n \nR\no\no\nm\n'\n,\n \n1\n8\n,\n \n2\n0\n)\n)\n\n\nh\n2\n.\na\nd\nd\n_\nr\no\no\nm\n(\nR\no\no\nm\n(\n'\nK\ni\nt\nc\nh\ne\nn\n'\n,\n \n1\n2\n,\n \n1\n6\n)\n)\n\n\nh\n3\n \n=\n \nH\no\nu\ns\ne\n(\n'\nh\n3\n'\n,\n \n'\nS\np\nl\ni\nt\n'\n)\n\n\nh\n3\n.\na\nd\nd\n_\nr\no\no\nm\n(\nR\no\no\nm\n(\n'\nM\na\ns\nt\ne\nr\n \nB\ne\nd\nr\no\no\nm\n'\n,\n \n1\n4\n,\n \n2\n1\n)\n)\n\n\nh\n3\n.\na\nd\nd\n_\nr\no\no\nm\n(\nR\no\no\nm\n(\n'\nL\ni\nv\ni\nn\ng\n \nR\no\no\nm\n'\n,\n \n1\n8\n,\n \n2\n0\n)\n)\n\n\nh\n3\n.\na\nd\nd\n_\nr\no\no\nm\n(\nR\no\no\nm\n(\n'\nO\nf\nf\ni\nc\ne\n'\n,\n \n1\n2\n,\n \n1\n6\n)\n)\n\n\nh\n3\n.\na\nd\nd\n_\nr\no\no\nm\n(\nR\no\no\nm\n(\n'\nK\ni\nt\nc\nh\ne\nn\n'\n,\n \n1\n5\n,\n \n1\n7\n)\n)\n\n\nh\no\nu\ns\ne\ns\n \n=\n \n[\nh\n1\n,\n \nh\n2\n,\n \nh\n3\n]\n\n\np\nr\ni\nn\nt\n(\n'\nI\ns\n \nh\n1\n \nb\ni\ng\ng\ne\nr\n \nt\nh\na\nn\n \nh\n2\n?\n'\n,\n \nh\n1\n \n>\n \nh\n2\n)\n \n#\n \np\nr\ni\nn\nt\ns\n \nT\nr\nu\ne\n\n\np\nr\ni\nn\nt\n(\n'\nI\ns\n \nh\n2\n \ns\nm\na\nl\nl\ne\nr\n \nt\nh\na\nn\n \nh\n3\n?\n'\n,\n \nh\n2\n \n<\n \nh\n3\n)\n \n#\n \np\nr\ni\nn\nt\ns\n \nT\nr\nu\ne\n\n\np\nr\ni\nn\nt\n(\n'\nI\ns\n \nh\n2\n \ng\nr\ne\na\nt\ne\nr\n \nt\nh\na\nn\n \no\nr\n \ne\nq\nu\na\nl\n \nt\no\n \nh\n1\n?\n'\n,\n \nh\n2\n \n>\n=\n \nh\n1\n)\n \n#\n \nP\nr\ni\nn\nt\ns\n \nF\na\nl\ns\ne\n\n\np\nr\ni\nn\nt\n(\n'\nW\nh\ni\nc\nh\n \no\nn\ne\n \ni\ns\n \nb\ni\ng\ng\ne\ns\nt\n?\n'\n,\n \nm\na\nx\n(\nh\no\nu\ns\ne\ns\n)\n)\n \n#\n \nP\nr\ni\nn\nt\ns\n \n'\nh\n3\n:\n \n1\n1\n0\n1\n-\ns\nq\nu\na\nr\ne\n-\nf\no\no\nt\n \nS\np\nl\ni\nt\n'\n\n\np\nr\ni\nn\nt\n(\n'\nW\nh\ni\nc\nh\n \ni\ns\n \ns\nm\na\nl\nl\ne\ns\nt\n?\n'\n,\n \nm\ni\nn\n(\nh\no\nu\ns\ne\ns\n)\n)\n \n#\n \nP\nr\ni\nn\nt\ns\n \n'\nh\n2\n:\n \n8\n4\n6\n-\ns\nq\nu\na\nr\ne\n-\nf\no\no\nt\n \nR\na\nn\nc\nh\n'\n\n"
      ]
    },
    {
      "cell_type": "markdown",
      "metadata": {},
      "source": [
        "### \u8ba8\u8bba\n"
      ]
    },
    {
      "cell_type": "markdown",
      "metadata": {},
      "source": [
        "\u5176\u5b9e total_ordering \u88c5\u9970\u5668\u4e5f\u6ca1\u90a3\u4e48\u795e\u79d8\u3002\n\u5b83\u5c31\u662f\u5b9a\u4e49\u4e86\u4e00\u4e2a\u4ece\u6bcf\u4e2a\u6bd4\u8f83\u652f\u6301\u65b9\u6cd5\u5230\u6240\u6709\u9700\u8981\u5b9a\u4e49\u7684\u5176\u4ed6\u65b9\u6cd5\u7684\u4e00\u4e2a\u6620\u5c04\u800c\u5df2\u3002\n\u6bd4\u5982\u4f60\u5b9a\u4e49\u4e86 __le__() \u65b9\u6cd5\uff0c\u90a3\u4e48\u5b83\u5c31\u88ab\u7528\u6765\u6784\u5efa\u6240\u6709\u5176\u4ed6\u7684\u9700\u8981\u5b9a\u4e49\u7684\u90a3\u4e9b\u7279\u6b8a\u65b9\u6cd5\u3002\n\u5b9e\u9645\u4e0a\u5c31\u662f\u5728\u7c7b\u91cc\u9762\u50cf\u4e0b\u9762\u8fd9\u6837\u5b9a\u4e49\u4e86\u4e00\u4e9b\u7279\u6b8a\u65b9\u6cd5\uff1a"
      ]
    },
    {
      "cell_type": "code",
      "execution_count": null,
      "metadata": {},
      "outputs": [],
      "source": [
        "c\nl\na\ns\ns\n \nH\no\nu\ns\ne\n:\n\n\n \n \n \n \nd\ne\nf\n \n_\n_\ne\nq\n_\n_\n(\ns\ne\nl\nf\n,\n \no\nt\nh\ne\nr\n)\n:\n\n\n \n \n \n \n \n \n \n \np\na\ns\ns\n\n\n \n \n \n \nd\ne\nf\n \n_\n_\nl\nt\n_\n_\n(\ns\ne\nl\nf\n,\n \no\nt\nh\ne\nr\n)\n:\n\n\n \n \n \n \n \n \n \n \np\na\ns\ns\n\n\n \n \n \n \n#\n \nM\ne\nt\nh\no\nd\ns\n \nc\nr\ne\na\nt\ne\nd\n \nb\ny\n \n@\nt\no\nt\na\nl\n_\no\nr\nd\ne\nr\ni\nn\ng\n\n\n \n \n \n \n_\n_\nl\ne\n_\n_\n \n=\n \nl\na\nm\nb\nd\na\n \ns\ne\nl\nf\n,\n \no\nt\nh\ne\nr\n:\n \ns\ne\nl\nf\n \n<\n \no\nt\nh\ne\nr\n \no\nr\n \ns\ne\nl\nf\n \n=\n=\n \no\nt\nh\ne\nr\n\n\n \n \n \n \n_\n_\ng\nt\n_\n_\n \n=\n \nl\na\nm\nb\nd\na\n \ns\ne\nl\nf\n,\n \no\nt\nh\ne\nr\n:\n \nn\no\nt\n \n(\ns\ne\nl\nf\n \n<\n \no\nt\nh\ne\nr\n \no\nr\n \ns\ne\nl\nf\n \n=\n=\n \no\nt\nh\ne\nr\n)\n\n\n \n \n \n \n_\n_\ng\ne\n_\n_\n \n=\n \nl\na\nm\nb\nd\na\n \ns\ne\nl\nf\n,\n \no\nt\nh\ne\nr\n:\n \nn\no\nt\n \n(\ns\ne\nl\nf\n \n<\n \no\nt\nh\ne\nr\n)\n\n\n \n \n \n \n_\n_\nn\ne\n_\n_\n \n=\n \nl\na\nm\nb\nd\na\n \ns\ne\nl\nf\n,\n \no\nt\nh\ne\nr\n:\n \nn\no\nt\n \ns\ne\nl\nf\n \n=\n=\n \no\nt\nh\ne\nr\n\n"
      ]
    },
    {
      "cell_type": "markdown",
      "metadata": {},
      "source": [
        "\u5f53\u7136\uff0c\u4f60\u81ea\u5df1\u53bb\u5199\u4e5f\u5f88\u5bb9\u6613\uff0c\u4f46\u662f\u4f7f\u7528 @total_ordering \u53ef\u4ee5\u7b80\u5316\u4ee3\u7801\uff0c\u4f55\u4e50\u800c\u4e0d\u4e3a\u5462\u3002"
      ]
    },
    {
      "cell_type": "markdown",
      "metadata": {},
      "source": [
        "## 8.25 \u521b\u5efa\u7f13\u5b58\u5b9e\u4f8b\n"
      ]
    },
    {
      "cell_type": "markdown",
      "metadata": {},
      "source": [
        "### \u95ee\u9898\n"
      ]
    },
    {
      "cell_type": "markdown",
      "metadata": {},
      "source": [
        "\u5728\u521b\u5efa\u4e00\u4e2a\u7c7b\u7684\u5bf9\u8c61\u65f6\uff0c\u5982\u679c\u4e4b\u524d\u4f7f\u7528\u540c\u6837\u53c2\u6570\u521b\u5efa\u8fc7\u8fd9\u4e2a\u5bf9\u8c61\uff0c \u4f60\u60f3\u8fd4\u56de\u5b83\u7684\u7f13\u5b58\u5f15\u7528\u3002"
      ]
    },
    {
      "cell_type": "markdown",
      "metadata": {},
      "source": [
        "### \u89e3\u51b3\u65b9\u6848\n"
      ]
    },
    {
      "cell_type": "markdown",
      "metadata": {},
      "source": [
        "\u8fd9\u79cd\u901a\u5e38\u662f\u56e0\u4e3a\u4f60\u5e0c\u671b\u76f8\u540c\u53c2\u6570\u521b\u5efa\u7684\u5bf9\u8c61\u65f6\u5355\u4f8b\u7684\u3002\n\u5728\u5f88\u591a\u5e93\u4e2d\u90fd\u6709\u5b9e\u9645\u7684\u4f8b\u5b50\uff0c\u6bd4\u5982 logging \u6a21\u5757\uff0c\u4f7f\u7528\u76f8\u540c\u7684\u540d\u79f0\u521b\u5efa\u7684 logger \u5b9e\u4f8b\u6c38\u8fdc\u53ea\u6709\u4e00\u4e2a\u3002\u4f8b\u5982\uff1a"
      ]
    },
    {
      "cell_type": "code",
      "execution_count": null,
      "metadata": {},
      "outputs": [],
      "source": [
        "import logging\na = logging.getLogger('foo')\nb = logging.getLogger('bar')\na is b"
      ]
    },
    {
      "cell_type": "code",
      "execution_count": null,
      "metadata": {},
      "outputs": [],
      "source": [
        "c = logging.getLogger('foo')\na is c"
      ]
    },
    {
      "cell_type": "markdown",
      "metadata": {},
      "source": [
        "\u4e3a\u4e86\u8fbe\u5230\u8fd9\u6837\u7684\u6548\u679c\uff0c\u4f60\u9700\u8981\u4f7f\u7528\u4e00\u4e2a\u548c\u7c7b\u672c\u8eab\u5206\u5f00\u7684\u5de5\u5382\u51fd\u6570\uff0c\u4f8b\u5982\uff1a"
      ]
    },
    {
      "cell_type": "code",
      "execution_count": null,
      "metadata": {},
      "outputs": [],
      "source": [
        "#\n \nT\nh\ne\n \nc\nl\na\ns\ns\n \ni\nn\n \nq\nu\ne\ns\nt\ni\no\nn\n\n\nc\nl\na\ns\ns\n \nS\np\na\nm\n:\n\n\n \n \n \n \nd\ne\nf\n \n_\n_\ni\nn\ni\nt\n_\n_\n(\ns\ne\nl\nf\n,\n \nn\na\nm\ne\n)\n:\n\n\n \n \n \n \n \n \n \n \ns\ne\nl\nf\n.\nn\na\nm\ne\n \n=\n \nn\na\nm\ne\n\n\n\n\n#\n \nC\na\nc\nh\ni\nn\ng\n \ns\nu\np\np\no\nr\nt\n\n\ni\nm\np\no\nr\nt\n \nw\ne\na\nk\nr\ne\nf\n\n\n_\ns\np\na\nm\n_\nc\na\nc\nh\ne\n \n=\n \nw\ne\na\nk\nr\ne\nf\n.\nW\ne\na\nk\nV\na\nl\nu\ne\nD\ni\nc\nt\ni\no\nn\na\nr\ny\n(\n)\n\n\nd\ne\nf\n \ng\ne\nt\n_\ns\np\na\nm\n(\nn\na\nm\ne\n)\n:\n\n\n \n \n \n \ni\nf\n \nn\na\nm\ne\n \nn\no\nt\n \ni\nn\n \n_\ns\np\na\nm\n_\nc\na\nc\nh\ne\n:\n\n\n \n \n \n \n \n \n \n \ns\n \n=\n \nS\np\na\nm\n(\nn\na\nm\ne\n)\n\n\n \n \n \n \n \n \n \n \n_\ns\np\na\nm\n_\nc\na\nc\nh\ne\n[\nn\na\nm\ne\n]\n \n=\n \ns\n\n\n \n \n \n \ne\nl\ns\ne\n:\n\n\n \n \n \n \n \n \n \n \ns\n \n=\n \n_\ns\np\na\nm\n_\nc\na\nc\nh\ne\n[\nn\na\nm\ne\n]\n\n\n \n \n \n \nr\ne\nt\nu\nr\nn\n \ns\n\n"
      ]
    },
    {
      "cell_type": "markdown",
      "metadata": {},
      "source": [
        "\u7136\u540e\u505a\u4e00\u4e2a\u6d4b\u8bd5\uff0c\u4f60\u4f1a\u53d1\u73b0\u8ddf\u4e4b\u524d\u90a3\u4e2a\u65e5\u5fd7\u5bf9\u8c61\u7684\u521b\u5efa\u884c\u4e3a\u662f\u4e00\u81f4\u7684\uff1a"
      ]
    },
    {
      "cell_type": "code",
      "execution_count": null,
      "metadata": {},
      "outputs": [],
      "source": [
        "a = get_spam('foo')\nb = get_spam('bar')\na is b"
      ]
    },
    {
      "cell_type": "code",
      "execution_count": null,
      "metadata": {},
      "outputs": [],
      "source": [
        "c = get_spam('foo')\na is c"
      ]
    },
    {
      "cell_type": "markdown",
      "metadata": {},
      "source": [
        "### \u8ba8\u8bba\n"
      ]
    },
    {
      "cell_type": "markdown",
      "metadata": {},
      "source": [
        "\u7f16\u5199\u4e00\u4e2a\u5de5\u5382\u51fd\u6570\u6765\u4fee\u6539\u666e\u901a\u7684\u5b9e\u4f8b\u521b\u5efa\u884c\u4e3a\u901a\u5e38\u662f\u4e00\u4e2a\u6bd4\u8f83\u7b80\u5355\u7684\u65b9\u6cd5\u3002\n\u4f46\u662f\u6211\u4eec\u8fd8\u80fd\u5426\u627e\u5230\u66f4\u4f18\u96c5\u7684\u89e3\u51b3\u65b9\u6848\u5462\uff1f"
      ]
    },
    {
      "cell_type": "markdown",
      "metadata": {},
      "source": [
        "\u4f8b\u5982\uff0c\u4f60\u53ef\u80fd\u4f1a\u8003\u8651\u91cd\u65b0\u5b9a\u4e49\u7c7b\u7684 __new__() \u65b9\u6cd5\uff0c\u5c31\u50cf\u4e0b\u9762\u8fd9\u6837\uff1a"
      ]
    },
    {
      "cell_type": "code",
      "execution_count": null,
      "metadata": {},
      "outputs": [],
      "source": [
        "#\n \nN\no\nt\ne\n:\n \nT\nh\ni\ns\n \nc\no\nd\ne\n \nd\no\ne\ns\nn\n'\nt\n \nq\nu\ni\nt\ne\n \nw\no\nr\nk\n\n\ni\nm\np\no\nr\nt\n \nw\ne\na\nk\nr\ne\nf\n\n\n\n\nc\nl\na\ns\ns\n \nS\np\na\nm\n:\n\n\n \n \n \n \n_\ns\np\na\nm\n_\nc\na\nc\nh\ne\n \n=\n \nw\ne\na\nk\nr\ne\nf\n.\nW\ne\na\nk\nV\na\nl\nu\ne\nD\ni\nc\nt\ni\no\nn\na\nr\ny\n(\n)\n\n\n \n \n \n \nd\ne\nf\n \n_\n_\nn\ne\nw\n_\n_\n(\nc\nl\ns\n,\n \nn\na\nm\ne\n)\n:\n\n\n \n \n \n \n \n \n \n \ni\nf\n \nn\na\nm\ne\n \ni\nn\n \nc\nl\ns\n.\n_\ns\np\na\nm\n_\nc\na\nc\nh\ne\n:\n\n\n \n \n \n \n \n \n \n \n \n \n \n \nr\ne\nt\nu\nr\nn\n \nc\nl\ns\n.\n_\ns\np\na\nm\n_\nc\na\nc\nh\ne\n[\nn\na\nm\ne\n]\n\n\n \n \n \n \n \n \n \n \ne\nl\ns\ne\n:\n\n\n \n \n \n \n \n \n \n \n \n \n \n \ns\ne\nl\nf\n \n=\n \ns\nu\np\ne\nr\n(\n)\n.\n_\n_\nn\ne\nw\n_\n_\n(\nc\nl\ns\n)\n\n\n \n \n \n \n \n \n \n \n \n \n \n \nc\nl\ns\n.\n_\ns\np\na\nm\n_\nc\na\nc\nh\ne\n[\nn\na\nm\ne\n]\n \n=\n \ns\ne\nl\nf\n\n\n \n \n \n \n \n \n \n \n \n \n \n \nr\ne\nt\nu\nr\nn\n \ns\ne\nl\nf\n\n\n \n \n \n \nd\ne\nf\n \n_\n_\ni\nn\ni\nt\n_\n_\n(\ns\ne\nl\nf\n,\n \nn\na\nm\ne\n)\n:\n\n\n \n \n \n \n \n \n \n \np\nr\ni\nn\nt\n(\n'\nI\nn\ni\nt\ni\na\nl\ni\nz\ni\nn\ng\n \nS\np\na\nm\n'\n)\n\n\n \n \n \n \n \n \n \n \ns\ne\nl\nf\n.\nn\na\nm\ne\n \n=\n \nn\na\nm\ne\n\n"
      ]
    },
    {
      "cell_type": "markdown",
      "metadata": {},
      "source": [
        "\u521d\u770b\u8d77\u6765\u597d\u50cf\u53ef\u4ee5\u8fbe\u5230\u9884\u671f\u6548\u679c\uff0c\u4f46\u662f\u95ee\u9898\u662f __init__() \u6bcf\u6b21\u90fd\u4f1a\u88ab\u8c03\u7528\uff0c\u4e0d\u7ba1\u8fd9\u4e2a\u5b9e\u4f8b\u662f\u5426\u88ab\u7f13\u5b58\u4e86\u3002\u4f8b\u5982\uff1a"
      ]
    },
    {
      "cell_type": "code",
      "execution_count": null,
      "metadata": {},
      "outputs": [],
      "source": [
        "s = Spam('Dave')"
      ]
    },
    {
      "cell_type": "code",
      "execution_count": null,
      "metadata": {},
      "outputs": [],
      "source": [
        "t = Spam('Dave')"
      ]
    },
    {
      "cell_type": "code",
      "execution_count": null,
      "metadata": {},
      "outputs": [],
      "source": [
        "s is t"
      ]
    },
    {
      "cell_type": "markdown",
      "metadata": {},
      "source": [
        "\u8fd9\u4e2a\u6216\u8bb8\u4e0d\u662f\u4f60\u60f3\u8981\u7684\u6548\u679c\uff0c\u56e0\u6b64\u8fd9\u79cd\u65b9\u6cd5\u5e76\u4e0d\u53ef\u53d6\u3002"
      ]
    },
    {
      "cell_type": "markdown",
      "metadata": {},
      "source": [
        "\u4e0a\u9762\u6211\u4eec\u4f7f\u7528\u5230\u4e86\u5f31\u5f15\u7528\u8ba1\u6570\uff0c\u5bf9\u4e8e\u5783\u573e\u56de\u6536\u6765\u8bb2\u662f\u5f88\u6709\u5e2e\u52a9\u7684\uff0c\u5173\u4e8e\u8fd9\u4e2a\u6211\u4eec\u57288.23\u5c0f\u8282\u5df2\u7ecf\u8bb2\u8fc7\u4e86\u3002\n\u5f53\u6211\u4eec\u4fdd\u6301\u5b9e\u4f8b\u7f13\u5b58\u65f6\uff0c\u4f60\u53ef\u80fd\u53ea\u60f3\u5728\u7a0b\u5e8f\u4e2d\u4f7f\u7528\u5230\u5b83\u4eec\u65f6\u624d\u4fdd\u5b58\u3002\n\u4e00\u4e2a WeakValueDictionary \u5b9e\u4f8b\u53ea\u4f1a\u4fdd\u5b58\u90a3\u4e9b\u5728\u5176\u5b83\u5730\u65b9\u8fd8\u5728\u88ab\u4f7f\u7528\u7684\u5b9e\u4f8b\u3002\n\u5426\u5219\u7684\u8bdd\uff0c\u53ea\u8981\u5b9e\u4f8b\u4e0d\u518d\u88ab\u4f7f\u7528\u4e86\uff0c\u5b83\u5c31\u4ece\u5b57\u5178\u4e2d\u88ab\u79fb\u9664\u4e86\u3002\u89c2\u5bdf\u4e0b\u4e0b\u9762\u7684\u6d4b\u8bd5\u7ed3\u679c\uff1a"
      ]
    },
    {
      "cell_type": "code",
      "execution_count": null,
      "metadata": {},
      "outputs": [],
      "source": [
        "a = get_spam('foo')\nb = get_spam('bar')\nc = get_spam('foo')\nlist(_spam_cache)"
      ]
    },
    {
      "cell_type": "code",
      "execution_count": null,
      "metadata": {},
      "outputs": [],
      "source": [
        "del a\ndel c\nlist(_spam_cache)"
      ]
    },
    {
      "cell_type": "code",
      "execution_count": null,
      "metadata": {},
      "outputs": [],
      "source": [
        "del b\nlist(_spam_cache)"
      ]
    },
    {
      "cell_type": "markdown",
      "metadata": {},
      "source": [
        "\u5bf9\u4e8e\u5927\u90e8\u5206\u7a0b\u5e8f\u800c\u5df2\uff0c\u8fd9\u91cc\u4ee3\u7801\u5df2\u7ecf\u591f\u7528\u4e86\u3002\u4e0d\u8fc7\u8fd8\u662f\u6709\u4e00\u4e9b\u66f4\u9ad8\u7ea7\u7684\u5b9e\u73b0\u503c\u5f97\u4e86\u89e3\u4e0b\u3002"
      ]
    },
    {
      "cell_type": "markdown",
      "metadata": {},
      "source": [
        "\u9996\u5148\u662f\u8fd9\u91cc\u4f7f\u7528\u5230\u4e86\u4e00\u4e2a\u5168\u5c40\u53d8\u91cf\uff0c\u5e76\u4e14\u5de5\u5382\u51fd\u6570\u8ddf\u7c7b\u653e\u5728\u4e00\u5757\u3002\u6211\u4eec\u53ef\u4ee5\u901a\u8fc7\u5c06\u7f13\u5b58\u4ee3\u7801\u653e\u5230\u4e00\u4e2a\u5355\u72ec\u7684\u7f13\u5b58\u7ba1\u7406\u5668\u4e2d\uff1a"
      ]
    },
    {
      "cell_type": "code",
      "execution_count": null,
      "metadata": {},
      "outputs": [],
      "source": [
        "i\nm\np\no\nr\nt\n \nw\ne\na\nk\nr\ne\nf\n\n\n\n\nc\nl\na\ns\ns\n \nC\na\nc\nh\ne\nd\nS\np\na\nm\nM\na\nn\na\ng\ne\nr\n:\n\n\n \n \n \n \nd\ne\nf\n \n_\n_\ni\nn\ni\nt\n_\n_\n(\ns\ne\nl\nf\n)\n:\n\n\n \n \n \n \n \n \n \n \ns\ne\nl\nf\n.\n_\nc\na\nc\nh\ne\n \n=\n \nw\ne\na\nk\nr\ne\nf\n.\nW\ne\na\nk\nV\na\nl\nu\ne\nD\ni\nc\nt\ni\no\nn\na\nr\ny\n(\n)\n\n\n\n\n \n \n \n \nd\ne\nf\n \ng\ne\nt\n_\ns\np\na\nm\n(\ns\ne\nl\nf\n,\n \nn\na\nm\ne\n)\n:\n\n\n \n \n \n \n \n \n \n \ni\nf\n \nn\na\nm\ne\n \nn\no\nt\n \ni\nn\n \ns\ne\nl\nf\n.\n_\nc\na\nc\nh\ne\n:\n\n\n \n \n \n \n \n \n \n \n \n \n \n \ns\n \n=\n \nS\np\na\nm\n(\nn\na\nm\ne\n)\n\n\n \n \n \n \n \n \n \n \n \n \n \n \ns\ne\nl\nf\n.\n_\nc\na\nc\nh\ne\n[\nn\na\nm\ne\n]\n \n=\n \ns\n\n\n \n \n \n \n \n \n \n \ne\nl\ns\ne\n:\n\n\n \n \n \n \n \n \n \n \n \n \n \n \ns\n \n=\n \ns\ne\nl\nf\n.\n_\nc\na\nc\nh\ne\n[\nn\na\nm\ne\n]\n\n\n \n \n \n \n \n \n \n \nr\ne\nt\nu\nr\nn\n \ns\n\n\n\n\n \n \n \n \nd\ne\nf\n \nc\nl\ne\na\nr\n(\ns\ne\nl\nf\n)\n:\n\n\n \n \n \n \n \n \n \n \n \n \n \n \ns\ne\nl\nf\n.\n_\nc\na\nc\nh\ne\n.\nc\nl\ne\na\nr\n(\n)\n\n\n\n\nc\nl\na\ns\ns\n \nS\np\na\nm\n:\n\n\n \n \n \n \nm\na\nn\na\ng\ne\nr\n \n=\n \nC\na\nc\nh\ne\nd\nS\np\na\nm\nM\na\nn\na\ng\ne\nr\n(\n)\n\n\n \n \n \n \nd\ne\nf\n \n_\n_\ni\nn\ni\nt\n_\n_\n(\ns\ne\nl\nf\n,\n \nn\na\nm\ne\n)\n:\n\n\n \n \n \n \n \n \n \n \ns\ne\nl\nf\n.\nn\na\nm\ne\n \n=\n \nn\na\nm\ne\n\n\n\n\n \n \n \n \nd\ne\nf\n \ng\ne\nt\n_\ns\np\na\nm\n(\nn\na\nm\ne\n)\n:\n\n\n \n \n \n \n \n \n \n \nr\ne\nt\nu\nr\nn\n \nS\np\na\nm\n.\nm\na\nn\na\ng\ne\nr\n.\ng\ne\nt\n_\ns\np\na\nm\n(\nn\na\nm\ne\n)\n\n"
      ]
    },
    {
      "cell_type": "markdown",
      "metadata": {},
      "source": [
        "\u8fd9\u6837\u7684\u8bdd\u4ee3\u7801\u66f4\u6e05\u6670\uff0c\u5e76\u4e14\u4e5f\u66f4\u7075\u6d3b\uff0c\u6211\u4eec\u53ef\u4ee5\u589e\u52a0\u66f4\u591a\u7684\u7f13\u5b58\u7ba1\u7406\u673a\u5236\uff0c\u53ea\u9700\u8981\u66ff\u4ee3manager\u5373\u53ef\u3002"
      ]
    },
    {
      "cell_type": "markdown",
      "metadata": {},
      "source": [
        "\u8fd8\u6709\u4e00\u70b9\u5c31\u662f\uff0c\u6211\u4eec\u66b4\u9732\u4e86\u7c7b\u7684\u5b9e\u4f8b\u5316\u7ed9\u7528\u6237\uff0c\u7528\u6237\u5f88\u5bb9\u6613\u53bb\u76f4\u63a5\u5b9e\u4f8b\u5316\u8fd9\u4e2a\u7c7b\uff0c\u800c\u4e0d\u662f\u4f7f\u7528\u5de5\u5382\u65b9\u6cd5\uff0c\u5982\uff1a"
      ]
    },
    {
      "cell_type": "code",
      "execution_count": null,
      "metadata": {},
      "outputs": [],
      "source": [
        "a = Spam('foo')\nb = Spam('foo')\na is b"
      ]
    },
    {
      "cell_type": "markdown",
      "metadata": {},
      "source": [
        "\u6709\u51e0\u79cd\u65b9\u5f0f\u53ef\u4ee5\u9632\u6b62\u7528\u6237\u8fd9\u6837\u505a\uff0c\u7b2c\u4e00\u4e2a\u662f\u5c06\u7c7b\u7684\u540d\u5b57\u4fee\u6539\u4e3a\u4ee5\u4e0b\u5212\u7ebf(_)\u5f00\u5934\uff0c\u63d0\u793a\u7528\u6237\u522b\u76f4\u63a5\u8c03\u7528\u5b83\u3002\n\u7b2c\u4e8c\u79cd\u5c31\u662f\u8ba9\u8fd9\u4e2a\u7c7b\u7684 __init__() \u65b9\u6cd5\u629b\u51fa\u4e00\u4e2a\u5f02\u5e38\uff0c\u8ba9\u5b83\u4e0d\u80fd\u88ab\u521d\u59cb\u5316\uff1a"
      ]
    },
    {
      "cell_type": "code",
      "execution_count": null,
      "metadata": {},
      "outputs": [],
      "source": [
        "c\nl\na\ns\ns\n \nS\np\na\nm\n:\n\n\n \n \n \n \nd\ne\nf\n \n_\n_\ni\nn\ni\nt\n_\n_\n(\ns\ne\nl\nf\n,\n \n*\na\nr\ng\ns\n,\n \n*\n*\nk\nw\na\nr\ng\ns\n)\n:\n\n\n \n \n \n \n \n \n \n \nr\na\ni\ns\ne\n \nR\nu\nn\nt\ni\nm\ne\nE\nr\nr\no\nr\n(\n\"\nC\na\nn\n'\nt\n \ni\nn\ns\nt\na\nn\nt\ni\na\nt\ne\n \nd\ni\nr\ne\nc\nt\nl\ny\n\"\n)\n\n\n\n\n \n \n \n \n#\n \nA\nl\nt\ne\nr\nn\na\nt\ne\n \nc\no\nn\ns\nt\nr\nu\nc\nt\no\nr\n\n\n \n \n \n \n@\nc\nl\na\ns\ns\nm\ne\nt\nh\no\nd\n\n\n \n \n \n \nd\ne\nf\n \n_\nn\ne\nw\n(\nc\nl\ns\n,\n \nn\na\nm\ne\n)\n:\n\n\n \n \n \n \n \n \n \n \ns\ne\nl\nf\n \n=\n \nc\nl\ns\n.\n_\n_\nn\ne\nw\n_\n_\n(\nc\nl\ns\n)\n\n\n \n \n \n \n \n \n \n \ns\ne\nl\nf\n.\nn\na\nm\ne\n \n=\n \nn\na\nm\ne\n\n"
      ]
    },
    {
      "cell_type": "markdown",
      "metadata": {},
      "source": [
        "\u7136\u540e\u4fee\u6539\u7f13\u5b58\u7ba1\u7406\u5668\u4ee3\u7801\uff0c\u4f7f\u7528 Spam._new() \u6765\u521b\u5efa\u5b9e\u4f8b\uff0c\u800c\u4e0d\u662f\u76f4\u63a5\u8c03\u7528 Spam() \u6784\u9020\u51fd\u6570\uff1a"
      ]
    },
    {
      "cell_type": "code",
      "execution_count": null,
      "metadata": {},
      "outputs": [],
      "source": [
        "#\n \n-\n-\n-\n-\n-\n-\n-\n-\n-\n-\n-\n-\n-\n-\n-\n-\n-\n-\n-\n-\n-\n-\n-\n-\n\u6700\n\u540e\n\u7684\n\u4fee\n\u6b63\n\u65b9\n\u6848\n-\n-\n-\n-\n-\n-\n-\n-\n-\n-\n-\n-\n-\n-\n-\n-\n-\n-\n-\n-\n-\n-\n-\n-\n\n\nc\nl\na\ns\ns\n \nC\na\nc\nh\ne\nd\nS\np\na\nm\nM\na\nn\na\ng\ne\nr\n2\n:\n\n\n \n \n \n \nd\ne\nf\n \n_\n_\ni\nn\ni\nt\n_\n_\n(\ns\ne\nl\nf\n)\n:\n\n\n \n \n \n \n \n \n \n \ns\ne\nl\nf\n.\n_\nc\na\nc\nh\ne\n \n=\n \nw\ne\na\nk\nr\ne\nf\n.\nW\ne\na\nk\nV\na\nl\nu\ne\nD\ni\nc\nt\ni\no\nn\na\nr\ny\n(\n)\n\n\n\n\n \n \n \n \nd\ne\nf\n \ng\ne\nt\n_\ns\np\na\nm\n(\ns\ne\nl\nf\n,\n \nn\na\nm\ne\n)\n:\n\n\n \n \n \n \n \n \n \n \ni\nf\n \nn\na\nm\ne\n \nn\no\nt\n \ni\nn\n \ns\ne\nl\nf\n.\n_\nc\na\nc\nh\ne\n:\n\n\n \n \n \n \n \n \n \n \n \n \n \n \nt\ne\nm\np\n \n=\n \nS\np\na\nm\n3\n.\n_\nn\ne\nw\n(\nn\na\nm\ne\n)\n \n \n#\n \nM\no\nd\ni\nf\ni\ne\nd\n \nc\nr\ne\na\nt\ni\no\nn\n\n\n \n \n \n \n \n \n \n \n \n \n \n \ns\ne\nl\nf\n.\n_\nc\na\nc\nh\ne\n[\nn\na\nm\ne\n]\n \n=\n \nt\ne\nm\np\n\n\n \n \n \n \n \n \n \n \ne\nl\ns\ne\n:\n\n\n \n \n \n \n \n \n \n \n \n \n \n \nt\ne\nm\np\n \n=\n \ns\ne\nl\nf\n.\n_\nc\na\nc\nh\ne\n[\nn\na\nm\ne\n]\n\n\n \n \n \n \n \n \n \n \nr\ne\nt\nu\nr\nn\n \nt\ne\nm\np\n\n\n\n\n \n \n \n \nd\ne\nf\n \nc\nl\ne\na\nr\n(\ns\ne\nl\nf\n)\n:\n\n\n \n \n \n \n \n \n \n \n \n \n \n \ns\ne\nl\nf\n.\n_\nc\na\nc\nh\ne\n.\nc\nl\ne\na\nr\n(\n)\n\n\n\n\nc\nl\na\ns\ns\n \nS\np\na\nm\n3\n:\n\n\n \n \n \n \nd\ne\nf\n \n_\n_\ni\nn\ni\nt\n_\n_\n(\ns\ne\nl\nf\n,\n \n*\na\nr\ng\ns\n,\n \n*\n*\nk\nw\na\nr\ng\ns\n)\n:\n\n\n \n \n \n \n \n \n \n \nr\na\ni\ns\ne\n \nR\nu\nn\nt\ni\nm\ne\nE\nr\nr\no\nr\n(\n\"\nC\na\nn\n'\nt\n \ni\nn\ns\nt\na\nn\nt\ni\na\nt\ne\n \nd\ni\nr\ne\nc\nt\nl\ny\n\"\n)\n\n\n\n\n \n \n \n \n#\n \nA\nl\nt\ne\nr\nn\na\nt\ne\n \nc\no\nn\ns\nt\nr\nu\nc\nt\no\nr\n\n\n \n \n \n \n@\nc\nl\na\ns\ns\nm\ne\nt\nh\no\nd\n\n\n \n \n \n \nd\ne\nf\n \n_\nn\ne\nw\n(\nc\nl\ns\n,\n \nn\na\nm\ne\n)\n:\n\n\n \n \n \n \n \n \n \n \ns\ne\nl\nf\n \n=\n \nc\nl\ns\n.\n_\n_\nn\ne\nw\n_\n_\n(\nc\nl\ns\n)\n\n\n \n \n \n \n \n \n \n \ns\ne\nl\nf\n.\nn\na\nm\ne\n \n=\n \nn\na\nm\ne\n\n\n \n \n \n \n \n \n \n \nr\ne\nt\nu\nr\nn\n \ns\ne\nl\nf\n\n"
      ]
    },
    {
      "cell_type": "markdown",
      "metadata": {},
      "source": [
        "\u6700\u540e\u8fd9\u6837\u7684\u65b9\u6848\u5c31\u5df2\u7ecf\u8db3\u591f\u597d\u4e86\u3002\n\u7f13\u5b58\u548c\u5176\u4ed6\u6784\u9020\u6a21\u5f0f\u8fd8\u53ef\u4ee5\u4f7f\u75289.13\u5c0f\u8282\u4e2d\u7684\u5143\u7c7b\u5b9e\u73b0\u7684\u66f4\u4f18\u96c5\u4e00\u70b9(\u4f7f\u7528\u4e86\u66f4\u9ad8\u7ea7\u7684\u6280\u672f)\u3002"
      ]
    }
  ],
  "metadata": {
    "kernelspec": {
      "display_name": "Python 3",
      "language": "python",
      "name": "python3"
    },
    "language_info": {
      "codemirror_mode": {
        "name": "ipython",
        "version": 3
      },
      "file_extension": ".py",
      "mimetype": "text/x-python",
      "name": "python",
      "nbconvert_exporter": "python",
      "pygments_lexer": "ipython3",
      "version": "3.7.1"
    },
    "toc": {
      "base_numbering": 1,
      "nav_menu": {},
      "number_sections": true,
      "sideBar": true,
      "skip_h1_title": true,
      "title_cell": "Table of Contents",
      "title_sidebar": "Contents",
      "toc_cell": false,
      "toc_position": {},
      "toc_section_display": true,
      "toc_window_display": true
    }
  },
  "nbformat": 4,
  "nbformat_minor": 2
}