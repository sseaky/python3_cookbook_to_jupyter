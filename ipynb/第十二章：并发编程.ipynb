{
  "cells": [
    {
      "cell_type": "markdown",
      "metadata": {},
      "source": [
        "# \u7b2c\u5341\u4e8c\u7ae0\uff1a\u5e76\u53d1\u7f16\u7a0b\n \u5bf9\u4e8e\u5e76\u53d1\u7f16\u7a0b, Python\u6709\u591a\u79cd\u957f\u671f\u652f\u6301\u7684\u65b9\u6cd5, \u5305\u62ec\u591a\u7ebf\u7a0b, \u8c03\u7528\u5b50\u8fdb\u7a0b, \u4ee5\u53ca\u5404\u79cd\u5404\u6837\u7684\u5173\u4e8e\u751f\u6210\u5668\u51fd\u6570\u7684\u6280\u5de7.\n\u8fd9\u4e00\u7ae0\u5c06\u4f1a\u7ed9\u51fa\u5e76\u53d1\u7f16\u7a0b\u5404\u79cd\u65b9\u9762\u7684\u6280\u5de7, \u5305\u62ec\u901a\u7528\u7684\u591a\u7ebf\u7a0b\u6280\u672f\u4ee5\u53ca\u5e76\u884c\u8ba1\u7b97\u7684\u5b9e\u73b0\u65b9\u6cd5."
      ]
    },
    {
      "cell_type": "markdown",
      "metadata": {},
      "source": [
        "## 12.1 \u542f\u52a8\u4e0e\u505c\u6b62\u7ebf\u7a0b\n"
      ]
    },
    {
      "cell_type": "markdown",
      "metadata": {},
      "source": [
        "### \u95ee\u9898\n"
      ]
    },
    {
      "cell_type": "markdown",
      "metadata": {},
      "source": [
        "\u4f60\u8981\u4e3a\u9700\u8981\u5e76\u53d1\u6267\u884c\u7684\u4ee3\u7801\u521b\u5efa/\u9500\u6bc1\u7ebf\u7a0b"
      ]
    },
    {
      "cell_type": "markdown",
      "metadata": {},
      "source": [
        "### \u89e3\u51b3\u65b9\u6848\n"
      ]
    },
    {
      "cell_type": "markdown",
      "metadata": {},
      "source": [
        "threading \u5e93\u53ef\u4ee5\u5728\u5355\u72ec\u7684\u7ebf\u7a0b\u4e2d\u6267\u884c\u4efb\u4f55\u7684\u5728 Python \u4e2d\u53ef\u4ee5\u8c03\u7528\u7684\u5bf9\u8c61\u3002\u4f60\u53ef\u4ee5\u521b\u5efa\u4e00\u4e2a Thread \u5bf9\u8c61\u5e76\u5c06\u4f60\u8981\u6267\u884c\u7684\u5bf9\u8c61\u4ee5 target \u53c2\u6570\u7684\u5f62\u5f0f\u63d0\u4f9b\u7ed9\u8be5\u5bf9\u8c61\u3002\n\u4e0b\u9762\u662f\u4e00\u4e2a\u7b80\u5355\u7684\u4f8b\u5b50\uff1a"
      ]
    },
    {
      "cell_type": "code",
      "execution_count": null,
      "metadata": {},
      "outputs": [],
      "source": [
        "#\n \nC\no\nd\ne\n \nt\no\n \ne\nx\ne\nc\nu\nt\ne\n \ni\nn\n \na\nn\n \ni\nn\nd\ne\np\ne\nn\nd\ne\nn\nt\n \nt\nh\nr\ne\na\nd\n\n\ni\nm\np\no\nr\nt\n \nt\ni\nm\ne\n\n\nd\ne\nf\n \nc\no\nu\nn\nt\nd\no\nw\nn\n(\nn\n)\n:\n\n\n \n \n \n \nw\nh\ni\nl\ne\n \nn\n \n>\n \n0\n:\n\n\n \n \n \n \n \n \n \n \np\nr\ni\nn\nt\n(\n'\nT\n-\nm\ni\nn\nu\ns\n'\n,\n \nn\n)\n\n\n \n \n \n \n \n \n \n \nn\n \n-\n=\n \n1\n\n\n \n \n \n \n \n \n \n \nt\ni\nm\ne\n.\ns\nl\ne\ne\np\n(\n5\n)\n\n\n\n\n#\n \nC\nr\ne\na\nt\ne\n \na\nn\nd\n \nl\na\nu\nn\nc\nh\n \na\n \nt\nh\nr\ne\na\nd\n\n\nf\nr\no\nm\n \nt\nh\nr\ne\na\nd\ni\nn\ng\n \ni\nm\np\no\nr\nt\n \nT\nh\nr\ne\na\nd\n\n\nt\n \n=\n \nT\nh\nr\ne\na\nd\n(\nt\na\nr\ng\ne\nt\n=\nc\no\nu\nn\nt\nd\no\nw\nn\n,\n \na\nr\ng\ns\n=\n(\n1\n0\n,\n)\n)\n\n\nt\n.\ns\nt\na\nr\nt\n(\n)\n\n"
      ]
    },
    {
      "cell_type": "markdown",
      "metadata": {},
      "source": [
        "\u5f53\u4f60\u521b\u5efa\u597d\u4e00\u4e2a\u7ebf\u7a0b\u5bf9\u8c61\u540e\uff0c\u8be5\u5bf9\u8c61\u5e76\u4e0d\u4f1a\u7acb\u5373\u6267\u884c\uff0c\u9664\u975e\u4f60\u8c03\u7528\u5b83\u7684 start() \u65b9\u6cd5\uff08\u5f53\u4f60\u8c03\u7528 start() \u65b9\u6cd5\u65f6\uff0c\u5b83\u4f1a\u8c03\u7528\u4f60\u4f20\u9012\u8fdb\u6765\u7684\u51fd\u6570\uff0c\u5e76\u628a\u4f60\u4f20\u9012\u8fdb\u6765\u7684\u53c2\u6570\u4f20\u9012\u7ed9\u8be5\u51fd\u6570\uff09\u3002Python\u4e2d\u7684\u7ebf\u7a0b\u4f1a\u5728\u4e00\u4e2a\u5355\u72ec\u7684\u7cfb\u7edf\u7ea7\u7ebf\u7a0b\u4e2d\u6267\u884c\uff08\u6bd4\u5982\u8bf4\u4e00\u4e2a POSIX \u7ebf\u7a0b\u6216\u8005\u4e00\u4e2a Windows \u7ebf\u7a0b\uff09\uff0c\u8fd9\u4e9b\u7ebf\u7a0b\u5c06\u7531\u64cd\u4f5c\u7cfb\u7edf\u6765\u5168\u6743\u7ba1\u7406\u3002\u7ebf\u7a0b\u4e00\u65e6\u542f\u52a8\uff0c\u5c06\u72ec\u7acb\u6267\u884c\u76f4\u5230\u76ee\u6807\u51fd\u6570\u8fd4\u56de\u3002\u4f60\u53ef\u4ee5\u67e5\u8be2\u4e00\u4e2a\u7ebf\u7a0b\u5bf9\u8c61\u7684\u72b6\u6001\uff0c\u770b\u5b83\u662f\u5426\u8fd8\u5728\u6267\u884c\uff1a"
      ]
    },
    {
      "cell_type": "code",
      "execution_count": null,
      "metadata": {},
      "outputs": [],
      "source": [
        "i\nf\n \nt\n.\ni\ns\n_\na\nl\ni\nv\ne\n(\n)\n:\n\n\n \n \n \n \np\nr\ni\nn\nt\n(\n'\nS\nt\ni\nl\nl\n \nr\nu\nn\nn\ni\nn\ng\n'\n)\n\n\ne\nl\ns\ne\n:\n\n\n \n \n \n \np\nr\ni\nn\nt\n(\n'\nC\no\nm\np\nl\ne\nt\ne\nd\n'\n)\n\n"
      ]
    },
    {
      "cell_type": "markdown",
      "metadata": {},
      "source": [
        "\u4f60\u4e5f\u53ef\u4ee5\u5c06\u4e00\u4e2a\u7ebf\u7a0b\u52a0\u5165\u5230\u5f53\u524d\u7ebf\u7a0b\uff0c\u5e76\u7b49\u5f85\u5b83\u7ec8\u6b62\uff1a"
      ]
    },
    {
      "cell_type": "code",
      "execution_count": null,
      "metadata": {},
      "outputs": [],
      "source": [
        "t\n.\nj\no\ni\nn\n(\n)\n\n"
      ]
    },
    {
      "cell_type": "markdown",
      "metadata": {},
      "source": [
        "Python\u89e3\u91ca\u5668\u76f4\u5230\u6240\u6709\u7ebf\u7a0b\u90fd\u7ec8\u6b62\u524d\u4ecd\u4fdd\u6301\u8fd0\u884c\u3002\u5bf9\u4e8e\u9700\u8981\u957f\u65f6\u95f4\u8fd0\u884c\u7684\u7ebf\u7a0b\u6216\u8005\u9700\u8981\u4e00\u76f4\u8fd0\u884c\u7684\u540e\u53f0\u4efb\u52a1\uff0c\u4f60\u5e94\u5f53\u8003\u8651\u4f7f\u7528\u540e\u53f0\u7ebf\u7a0b\u3002\n\u4f8b\u5982\uff1a"
      ]
    },
    {
      "cell_type": "code",
      "execution_count": null,
      "metadata": {},
      "outputs": [],
      "source": [
        "t\n \n=\n \nT\nh\nr\ne\na\nd\n(\nt\na\nr\ng\ne\nt\n=\nc\no\nu\nn\nt\nd\no\nw\nn\n,\n \na\nr\ng\ns\n=\n(\n1\n0\n,\n)\n,\n \nd\na\ne\nm\no\nn\n=\nT\nr\nu\ne\n)\n\n\nt\n.\ns\nt\na\nr\nt\n(\n)\n\n"
      ]
    },
    {
      "cell_type": "markdown",
      "metadata": {},
      "source": [
        "\u540e\u53f0\u7ebf\u7a0b\u65e0\u6cd5\u7b49\u5f85\uff0c\u4e0d\u8fc7\uff0c\u8fd9\u4e9b\u7ebf\u7a0b\u4f1a\u5728\u4e3b\u7ebf\u7a0b\u7ec8\u6b62\u65f6\u81ea\u52a8\u9500\u6bc1\u3002\n\u9664\u4e86\u5982\u4e0a\u6240\u793a\u7684\u4e24\u4e2a\u64cd\u4f5c\uff0c\u5e76\u6ca1\u6709\u592a\u591a\u53ef\u4ee5\u5bf9\u7ebf\u7a0b\u505a\u7684\u4e8b\u60c5\u3002\u4f60\u65e0\u6cd5\u7ed3\u675f\u4e00\u4e2a\u7ebf\u7a0b\uff0c\u65e0\u6cd5\u7ed9\u5b83\u53d1\u9001\u4fe1\u53f7\uff0c\u65e0\u6cd5\u8c03\u6574\u5b83\u7684\u8c03\u5ea6\uff0c\u4e5f\u65e0\u6cd5\u6267\u884c\u5176\u4ed6\u9ad8\u7ea7\u64cd\u4f5c\u3002\u5982\u679c\u9700\u8981\u8fd9\u4e9b\u7279\u6027\uff0c\u4f60\u9700\u8981\u81ea\u5df1\u6dfb\u52a0\u3002\u6bd4\u5982\u8bf4\uff0c\u5982\u679c\u4f60\u9700\u8981\u7ec8\u6b62\u7ebf\u7a0b\uff0c\u90a3\u4e48\u8fd9\u4e2a\u7ebf\u7a0b\u5fc5\u987b\u901a\u8fc7\u7f16\u7a0b\u5728\u67d0\u4e2a\u7279\u5b9a\u70b9\u8f6e\u8be2\u6765\u9000\u51fa\u3002\u4f60\u53ef\u4ee5\u50cf\u4e0b\u8fb9\u8fd9\u6837\u628a\u7ebf\u7a0b\u653e\u5165\u4e00\u4e2a\u7c7b\u4e2d\uff1a"
      ]
    },
    {
      "cell_type": "code",
      "execution_count": null,
      "metadata": {},
      "outputs": [],
      "source": [
        "c\nl\na\ns\ns\n \nC\no\nu\nn\nt\nd\no\nw\nn\nT\na\ns\nk\n:\n\n\n \n \n \n \nd\ne\nf\n \n_\n_\ni\nn\ni\nt\n_\n_\n(\ns\ne\nl\nf\n)\n:\n\n\n \n \n \n \n \n \n \n \ns\ne\nl\nf\n.\n_\nr\nu\nn\nn\ni\nn\ng\n \n=\n \nT\nr\nu\ne\n\n\n\n\n \n \n \n \nd\ne\nf\n \nt\ne\nr\nm\ni\nn\na\nt\ne\n(\ns\ne\nl\nf\n)\n:\n\n\n \n \n \n \n \n \n \n \ns\ne\nl\nf\n.\n_\nr\nu\nn\nn\ni\nn\ng\n \n=\n \nF\na\nl\ns\ne\n\n\n\n\n \n \n \n \nd\ne\nf\n \nr\nu\nn\n(\ns\ne\nl\nf\n,\n \nn\n)\n:\n\n\n \n \n \n \n \n \n \n \nw\nh\ni\nl\ne\n \ns\ne\nl\nf\n.\n_\nr\nu\nn\nn\ni\nn\ng\n \na\nn\nd\n \nn\n \n>\n \n0\n:\n\n\n \n \n \n \n \n \n \n \n \n \n \n \np\nr\ni\nn\nt\n(\n'\nT\n-\nm\ni\nn\nu\ns\n'\n,\n \nn\n)\n\n\n \n \n \n \n \n \n \n \n \n \n \n \nn\n \n-\n=\n \n1\n\n\n \n \n \n \n \n \n \n \n \n \n \n \nt\ni\nm\ne\n.\ns\nl\ne\ne\np\n(\n5\n)\n\n\n\n\nc\n \n=\n \nC\no\nu\nn\nt\nd\no\nw\nn\nT\na\ns\nk\n(\n)\n\n\nt\n \n=\n \nT\nh\nr\ne\na\nd\n(\nt\na\nr\ng\ne\nt\n=\nc\n.\nr\nu\nn\n,\n \na\nr\ng\ns\n=\n(\n1\n0\n,\n)\n)\n\n\nt\n.\ns\nt\na\nr\nt\n(\n)\n\n\nc\n.\nt\ne\nr\nm\ni\nn\na\nt\ne\n(\n)\n \n#\n \nS\ni\ng\nn\na\nl\n \nt\ne\nr\nm\ni\nn\na\nt\ni\no\nn\n\n\nt\n.\nj\no\ni\nn\n(\n)\n \n \n \n \n \n \n#\n \nW\na\ni\nt\n \nf\no\nr\n \na\nc\nt\nu\na\nl\n \nt\ne\nr\nm\ni\nn\na\nt\ni\no\nn\n \n(\ni\nf\n \nn\ne\ne\nd\ne\nd\n)\n\n"
      ]
    },
    {
      "cell_type": "markdown",
      "metadata": {},
      "source": [
        "\u5982\u679c\u7ebf\u7a0b\u6267\u884c\u4e00\u4e9b\u50cfI/O\u8fd9\u6837\u7684\u963b\u585e\u64cd\u4f5c\uff0c\u90a3\u4e48\u901a\u8fc7\u8f6e\u8be2\u6765\u7ec8\u6b62\u7ebf\u7a0b\u5c06\u4f7f\u5f97\u7ebf\u7a0b\u4e4b\u95f4\u7684\u534f\u8c03\u53d8\u5f97\u975e\u5e38\u68d8\u624b\u3002\u6bd4\u5982\uff0c\u5982\u679c\u4e00\u4e2a\u7ebf\u7a0b\u4e00\u76f4\u963b\u585e\u5728\u4e00\u4e2aI/O\u64cd\u4f5c\u4e0a\uff0c\u5b83\u5c31\u6c38\u8fdc\u65e0\u6cd5\u8fd4\u56de\uff0c\u4e5f\u5c31\u65e0\u6cd5\u68c0\u67e5\u81ea\u5df1\u662f\u5426\u5df2\u7ecf\u88ab\u7ed3\u675f\u4e86\u3002\u8981\u6b63\u786e\u5904\u7406\u8fd9\u4e9b\u95ee\u9898\uff0c\u4f60\u9700\u8981\u5229\u7528\u8d85\u65f6\u5faa\u73af\u6765\u5c0f\u5fc3\u64cd\u4f5c\u7ebf\u7a0b\u3002\n\u4f8b\u5b50\u5982\u4e0b\uff1a"
      ]
    },
    {
      "cell_type": "code",
      "execution_count": null,
      "metadata": {},
      "outputs": [],
      "source": [
        "c\nl\na\ns\ns\n \nI\nO\nT\na\ns\nk\n:\n\n\n \n \n \n \nd\ne\nf\n \nt\ne\nr\nm\ni\nn\na\nt\ne\n(\ns\ne\nl\nf\n)\n:\n\n\n \n \n \n \n \n \n \n \ns\ne\nl\nf\n.\n_\nr\nu\nn\nn\ni\nn\ng\n \n=\n \nF\na\nl\ns\ne\n\n\n\n\n \n \n \n \nd\ne\nf\n \nr\nu\nn\n(\ns\ne\nl\nf\n,\n \ns\no\nc\nk\n)\n:\n\n\n \n \n \n \n \n \n \n \n#\n \ns\no\nc\nk\n \ni\ns\n \na\n \ns\no\nc\nk\ne\nt\n\n\n \n \n \n \n \n \n \n \ns\no\nc\nk\n.\ns\ne\nt\nt\ni\nm\ne\no\nu\nt\n(\n5\n)\n \n \n \n \n \n \n \n \n#\n \nS\ne\nt\n \nt\ni\nm\ne\no\nu\nt\n \np\ne\nr\ni\no\nd\n\n\n \n \n \n \n \n \n \n \nw\nh\ni\nl\ne\n \ns\ne\nl\nf\n.\n_\nr\nu\nn\nn\ni\nn\ng\n:\n\n\n \n \n \n \n \n \n \n \n \n \n \n \n#\n \nP\ne\nr\nf\no\nr\nm\n \na\n \nb\nl\no\nc\nk\ni\nn\ng\n \nI\n/\nO\n \no\np\ne\nr\na\nt\ni\no\nn\n \nw\n/\n \nt\ni\nm\ne\no\nu\nt\n\n\n \n \n \n \n \n \n \n \n \n \n \n \nt\nr\ny\n:\n\n\n \n \n \n \n \n \n \n \n \n \n \n \n \n \n \n \nd\na\nt\na\n \n=\n \ns\no\nc\nk\n.\nr\ne\nc\nv\n(\n8\n1\n9\n2\n)\n\n\n \n \n \n \n \n \n \n \n \n \n \n \n \n \n \n \nb\nr\ne\na\nk\n\n\n \n \n \n \n \n \n \n \n \n \n \n \ne\nx\nc\ne\np\nt\n \ns\no\nc\nk\ne\nt\n.\nt\ni\nm\ne\no\nu\nt\n:\n\n\n \n \n \n \n \n \n \n \n \n \n \n \n \n \n \n \nc\no\nn\nt\ni\nn\nu\ne\n\n\n \n \n \n \n \n \n \n \n \n \n \n \n#\n \nC\no\nn\nt\ni\nn\nu\ne\nd\n \np\nr\no\nc\ne\ns\ns\ni\nn\ng\n\n\n \n \n \n \n \n \n \n \n \n \n \n \n.\n.\n.\n\n\n \n \n \n \n \n \n \n \n#\n \nT\ne\nr\nm\ni\nn\na\nt\ne\nd\n\n\n \n \n \n \n \n \n \n \nr\ne\nt\nu\nr\nn\n\n"
      ]
    },
    {
      "cell_type": "markdown",
      "metadata": {},
      "source": [
        "### \u8ba8\u8bba\n"
      ]
    },
    {
      "cell_type": "markdown",
      "metadata": {},
      "source": [
        "\u7531\u4e8e\u5168\u5c40\u89e3\u91ca\u9501\uff08GIL\uff09\u7684\u539f\u56e0\uff0cPython \u7684\u7ebf\u7a0b\u88ab\u9650\u5236\u5230\u540c\u4e00\u65f6\u523b\u53ea\u5141\u8bb8\u4e00\u4e2a\u7ebf\u7a0b\u6267\u884c\u8fd9\u6837\u4e00\u4e2a\u6267\u884c\u6a21\u578b\u3002\u6240\u4ee5\uff0cPython \u7684\u7ebf\u7a0b\u66f4\u9002\u7528\u4e8e\u5904\u7406I/O\u548c\u5176\u4ed6\u9700\u8981\u5e76\u53d1\u6267\u884c\u7684\u963b\u585e\u64cd\u4f5c\uff08\u6bd4\u5982\u7b49\u5f85I/O\u3001\u7b49\u5f85\u4ece\u6570\u636e\u5e93\u83b7\u53d6\u6570\u636e\u7b49\u7b49\uff09\uff0c\u800c\u4e0d\u662f\u9700\u8981\u591a\u5904\u7406\u5668\u5e76\u884c\u7684\u8ba1\u7b97\u5bc6\u96c6\u578b\u4efb\u52a1\u3002"
      ]
    },
    {
      "cell_type": "markdown",
      "metadata": {},
      "source": [
        "\u6709\u65f6\u4f60\u4f1a\u770b\u5230\u4e0b\u8fb9\u8fd9\u79cd\u901a\u8fc7\u7ee7\u627f Thread \u7c7b\u6765\u5b9e\u73b0\u7684\u7ebf\u7a0b\uff1a"
      ]
    },
    {
      "cell_type": "code",
      "execution_count": null,
      "metadata": {},
      "outputs": [],
      "source": [
        "f\nr\no\nm\n \nt\nh\nr\ne\na\nd\ni\nn\ng\n \ni\nm\np\no\nr\nt\n \nT\nh\nr\ne\na\nd\n\n\n\n\nc\nl\na\ns\ns\n \nC\no\nu\nn\nt\nd\no\nw\nn\nT\nh\nr\ne\na\nd\n(\nT\nh\nr\ne\na\nd\n)\n:\n\n\n \n \n \n \nd\ne\nf\n \n_\n_\ni\nn\ni\nt\n_\n_\n(\ns\ne\nl\nf\n,\n \nn\n)\n:\n\n\n \n \n \n \n \n \n \n \ns\nu\np\ne\nr\n(\n)\n.\n_\n_\ni\nn\ni\nt\n_\n_\n(\n)\n\n\n \n \n \n \n \n \n \n \ns\ne\nl\nf\n.\nn\n \n=\n \nn\n\n\n \n \n \n \nd\ne\nf\n \nr\nu\nn\n(\ns\ne\nl\nf\n)\n:\n\n\n \n \n \n \n \n \n \n \nw\nh\ni\nl\ne\n \ns\ne\nl\nf\n.\nn\n \n>\n \n0\n:\n\n\n\n\n \n \n \n \n \n \n \n \n \n \n \n \np\nr\ni\nn\nt\n(\n'\nT\n-\nm\ni\nn\nu\ns\n'\n,\n \ns\ne\nl\nf\n.\nn\n)\n\n\n \n \n \n \n \n \n \n \n \n \n \n \ns\ne\nl\nf\n.\nn\n \n-\n=\n \n1\n\n\n \n \n \n \n \n \n \n \n \n \n \n \nt\ni\nm\ne\n.\ns\nl\ne\ne\np\n(\n5\n)\n\n\n\n\nc\n \n=\n \nC\no\nu\nn\nt\nd\no\nw\nn\nT\nh\nr\ne\na\nd\n(\n5\n)\n\n\nc\n.\ns\nt\na\nr\nt\n(\n)\n\n"
      ]
    },
    {
      "cell_type": "markdown",
      "metadata": {},
      "source": [
        "\u5c3d\u7ba1\u8fd9\u6837\u4e5f\u53ef\u4ee5\u5de5\u4f5c\uff0c\u4f46\u8fd9\u4f7f\u5f97\u4f60\u7684\u4ee3\u7801\u4f9d\u8d56\u4e8e threading \u5e93\uff0c\u6240\u4ee5\u4f60\u7684\u8fd9\u4e9b\u4ee3\u7801\u53ea\u80fd\u5728\u7ebf\u7a0b\u4e0a\u4e0b\u6587\u4e2d\u4f7f\u7528\u3002\u4e0a\u6587\u6240\u5199\u7684\u90a3\u4e9b\u4ee3\u7801\u3001\u51fd\u6570\u90fd\u662f\u4e0e threading \u5e93\u65e0\u5173\u7684\uff0c\u8fd9\u6837\u5c31\u4f7f\u5f97\u8fd9\u4e9b\u4ee3\u7801\u53ef\u4ee5\u88ab\u7528\u5728\u5176\u4ed6\u7684\u4e0a\u4e0b\u6587\u4e2d\uff0c\u53ef\u80fd\u4e0e\u7ebf\u7a0b\u6709\u5173\uff0c\u4e5f\u53ef\u80fd\u4e0e\u7ebf\u7a0b\u65e0\u5173\u3002\u6bd4\u5982\uff0c\u4f60\u53ef\u4ee5\u901a\u8fc7 multiprocessing \u6a21\u5757\u5728\u4e00\u4e2a\u5355\u72ec\u7684\u8fdb\u7a0b\u4e2d\u6267\u884c\u4f60\u7684\u4ee3\u7801\uff1a"
      ]
    },
    {
      "cell_type": "code",
      "execution_count": null,
      "metadata": {},
      "outputs": [],
      "source": [
        "i\nm\np\no\nr\nt\n \nm\nu\nl\nt\ni\np\nr\no\nc\ne\ns\ns\ni\nn\ng\n\n\nc\n \n=\n \nC\no\nu\nn\nt\nd\no\nw\nn\nT\na\ns\nk\n(\n5\n)\n\n\np\n \n=\n \nm\nu\nl\nt\ni\np\nr\no\nc\ne\ns\ns\ni\nn\ng\n.\nP\nr\no\nc\ne\ns\ns\n(\nt\na\nr\ng\ne\nt\n=\nc\n.\nr\nu\nn\n)\n\n\np\n.\ns\nt\na\nr\nt\n(\n)\n\n"
      ]
    },
    {
      "cell_type": "markdown",
      "metadata": {},
      "source": [
        "\u518d\u6b21\u91cd\u7533\uff0c\u8fd9\u6bb5\u4ee3\u7801\u4ec5\u9002\u7528\u4e8e CountdownTask \u7c7b\u662f\u4ee5\u72ec\u7acb\u4e8e\u5b9e\u9645\u7684\u5e76\u53d1\u624b\u6bb5\uff08\u591a\u7ebf\u7a0b\u3001\u591a\u8fdb\u7a0b\u7b49\u7b49\uff09\u5b9e\u73b0\u7684\u60c5\u51b5\u3002"
      ]
    },
    {
      "cell_type": "markdown",
      "metadata": {},
      "source": [
        "## 12.2 \u5224\u65ad\u7ebf\u7a0b\u662f\u5426\u5df2\u7ecf\u542f\u52a8\n"
      ]
    },
    {
      "cell_type": "markdown",
      "metadata": {},
      "source": [
        "### \u95ee\u9898\n"
      ]
    },
    {
      "cell_type": "markdown",
      "metadata": {},
      "source": [
        "\u4f60\u5df2\u7ecf\u542f\u52a8\u4e86\u4e00\u4e2a\u7ebf\u7a0b\uff0c\u4f46\u662f\u4f60\u60f3\u77e5\u9053\u5b83\u662f\u4e0d\u662f\u771f\u7684\u5df2\u7ecf\u5f00\u59cb\u8fd0\u884c\u4e86\u3002"
      ]
    },
    {
      "cell_type": "markdown",
      "metadata": {},
      "source": [
        "### \u89e3\u51b3\u65b9\u6848\n"
      ]
    },
    {
      "cell_type": "markdown",
      "metadata": {},
      "source": [
        "\u7ebf\u7a0b\u7684\u4e00\u4e2a\u5173\u952e\u7279\u6027\u662f\u6bcf\u4e2a\u7ebf\u7a0b\u90fd\u662f\u72ec\u7acb\u8fd0\u884c\u4e14\u72b6\u6001\u4e0d\u53ef\u9884\u6d4b\u3002\u5982\u679c\u7a0b\u5e8f\u4e2d\u7684\u5176\u4ed6\u7ebf\u7a0b\u9700\u8981\u901a\u8fc7\u5224\u65ad\u67d0\u4e2a\u7ebf\u7a0b\u7684\u72b6\u6001\u6765\u786e\u5b9a\u81ea\u5df1\u4e0b\u4e00\u6b65\u7684\u64cd\u4f5c\uff0c\u8fd9\u65f6\u7ebf\u7a0b\u540c\u6b65\u95ee\u9898\u5c31\u4f1a\u53d8\u5f97\u975e\u5e38\u68d8\u624b\u3002\u4e3a\u4e86\u89e3\u51b3\u8fd9\u4e9b\u95ee\u9898\uff0c\u6211\u4eec\u9700\u8981\u4f7f\u7528 threading \u5e93\u4e2d\u7684 Event \u5bf9\u8c61\u3002\nEvent \u5bf9\u8c61\u5305\u542b\u4e00\u4e2a\u53ef\u7531\u7ebf\u7a0b\u8bbe\u7f6e\u7684\u4fe1\u53f7\u6807\u5fd7\uff0c\u5b83\u5141\u8bb8\u7ebf\u7a0b\u7b49\u5f85\u67d0\u4e9b\u4e8b\u4ef6\u7684\u53d1\u751f\u3002\u5728\u521d\u59cb\u60c5\u51b5\u4e0b\uff0cevent \u5bf9\u8c61\u4e2d\u7684\u4fe1\u53f7\u6807\u5fd7\u88ab\u8bbe\u7f6e\u4e3a\u5047\u3002\u5982\u679c\u6709\u7ebf\u7a0b\u7b49\u5f85\u4e00\u4e2a event \u5bf9\u8c61\uff0c\u800c\u8fd9\u4e2a event \u5bf9\u8c61\u7684\u6807\u5fd7\u4e3a\u5047\uff0c\u90a3\u4e48\u8fd9\u4e2a\u7ebf\u7a0b\u5c06\u4f1a\u88ab\u4e00\u76f4\u963b\u585e\u76f4\u81f3\u8be5\u6807\u5fd7\u4e3a\u771f\u3002\u4e00\u4e2a\u7ebf\u7a0b\u5982\u679c\u5c06\u4e00\u4e2a event \u5bf9\u8c61\u7684\u4fe1\u53f7\u6807\u5fd7\u8bbe\u7f6e\u4e3a\u771f\uff0c\u5b83\u5c06\u5524\u9192\u6240\u6709\u7b49\u5f85\u8fd9\u4e2a event \u5bf9\u8c61\u7684\u7ebf\u7a0b\u3002\u5982\u679c\u4e00\u4e2a\u7ebf\u7a0b\u7b49\u5f85\u4e00\u4e2a\u5df2\u7ecf\u88ab\u8bbe\u7f6e\u4e3a\u771f\u7684 event \u5bf9\u8c61\uff0c\u90a3\u4e48\u5b83\u5c06\u5ffd\u7565\u8fd9\u4e2a\u4e8b\u4ef6\uff0c\u7ee7\u7eed\u6267\u884c\u3002\n\u4e0b\u8fb9\u7684\u4ee3\u7801\u5c55\u793a\u4e86\u5982\u4f55\u4f7f\u7528 Event \u6765\u534f\u8c03\u7ebf\u7a0b\u7684\u542f\u52a8\uff1a"
      ]
    },
    {
      "cell_type": "code",
      "execution_count": null,
      "metadata": {},
      "outputs": [],
      "source": [
        "f\nr\no\nm\n \nt\nh\nr\ne\na\nd\ni\nn\ng\n \ni\nm\np\no\nr\nt\n \nT\nh\nr\ne\na\nd\n,\n \nE\nv\ne\nn\nt\n\n\ni\nm\np\no\nr\nt\n \nt\ni\nm\ne\n\n\n\n\n#\n \nC\no\nd\ne\n \nt\no\n \ne\nx\ne\nc\nu\nt\ne\n \ni\nn\n \na\nn\n \ni\nn\nd\ne\np\ne\nn\nd\ne\nn\nt\n \nt\nh\nr\ne\na\nd\n\n\nd\ne\nf\n \nc\no\nu\nn\nt\nd\no\nw\nn\n(\nn\n,\n \ns\nt\na\nr\nt\ne\nd\n_\ne\nv\nt\n)\n:\n\n\n \n \n \n \np\nr\ni\nn\nt\n(\n'\nc\no\nu\nn\nt\nd\no\nw\nn\n \ns\nt\na\nr\nt\ni\nn\ng\n'\n)\n\n\n \n \n \n \ns\nt\na\nr\nt\ne\nd\n_\ne\nv\nt\n.\ns\ne\nt\n(\n)\n\n\n \n \n \n \nw\nh\ni\nl\ne\n \nn\n \n>\n \n0\n:\n\n\n \n \n \n \n \n \n \n \np\nr\ni\nn\nt\n(\n'\nT\n-\nm\ni\nn\nu\ns\n'\n,\n \nn\n)\n\n\n \n \n \n \n \n \n \n \nn\n \n-\n=\n \n1\n\n\n \n \n \n \n \n \n \n \nt\ni\nm\ne\n.\ns\nl\ne\ne\np\n(\n5\n)\n\n\n\n\n#\n \nC\nr\ne\na\nt\ne\n \nt\nh\ne\n \ne\nv\ne\nn\nt\n \no\nb\nj\ne\nc\nt\n \nt\nh\na\nt\n \nw\ni\nl\nl\n \nb\ne\n \nu\ns\ne\nd\n \nt\no\n \ns\ni\ng\nn\na\nl\n \ns\nt\na\nr\nt\nu\np\n\n\ns\nt\na\nr\nt\ne\nd\n_\ne\nv\nt\n \n=\n \nE\nv\ne\nn\nt\n(\n)\n\n\n\n\n#\n \nL\na\nu\nn\nc\nh\n \nt\nh\ne\n \nt\nh\nr\ne\na\nd\n \na\nn\nd\n \np\na\ns\ns\n \nt\nh\ne\n \ns\nt\na\nr\nt\nu\np\n \ne\nv\ne\nn\nt\n\n\np\nr\ni\nn\nt\n(\n'\nL\na\nu\nn\nc\nh\ni\nn\ng\n \nc\no\nu\nn\nt\nd\no\nw\nn\n'\n)\n\n\nt\n \n=\n \nT\nh\nr\ne\na\nd\n(\nt\na\nr\ng\ne\nt\n=\nc\no\nu\nn\nt\nd\no\nw\nn\n,\n \na\nr\ng\ns\n=\n(\n1\n0\n,\ns\nt\na\nr\nt\ne\nd\n_\ne\nv\nt\n)\n)\n\n\nt\n.\ns\nt\na\nr\nt\n(\n)\n\n\n\n\n#\n \nW\na\ni\nt\n \nf\no\nr\n \nt\nh\ne\n \nt\nh\nr\ne\na\nd\n \nt\no\n \ns\nt\na\nr\nt\n\n\ns\nt\na\nr\nt\ne\nd\n_\ne\nv\nt\n.\nw\na\ni\nt\n(\n)\n\n\np\nr\ni\nn\nt\n(\n'\nc\no\nu\nn\nt\nd\no\nw\nn\n \ni\ns\n \nr\nu\nn\nn\ni\nn\ng\n'\n)\n\n"
      ]
    },
    {
      "cell_type": "markdown",
      "metadata": {},
      "source": [
        "\u5f53\u4f60\u6267\u884c\u8fd9\u6bb5\u4ee3\u7801\uff0c\u201ccountdown is running\u201d \u603b\u662f\u663e\u793a\u5728 \u201ccountdown starting\u201d \u4e4b\u540e\u663e\u793a\u3002\u8fd9\u662f\u7531\u4e8e\u4f7f\u7528 event \u6765\u534f\u8c03\u7ebf\u7a0b\uff0c\u4f7f\u5f97\u4e3b\u7ebf\u7a0b\u8981\u7b49\u5230 countdown() \u51fd\u6570\u8f93\u51fa\u542f\u52a8\u4fe1\u606f\u540e\uff0c\u624d\u80fd\u7ee7\u7eed\u6267\u884c\u3002"
      ]
    },
    {
      "cell_type": "markdown",
      "metadata": {},
      "source": [
        "### \u8ba8\u8bba\n"
      ]
    },
    {
      "cell_type": "markdown",
      "metadata": {},
      "source": [
        "event \u5bf9\u8c61\u6700\u597d\u5355\u6b21\u4f7f\u7528\uff0c\u5c31\u662f\u8bf4\uff0c\u4f60\u521b\u5efa\u4e00\u4e2a event \u5bf9\u8c61\uff0c\u8ba9\u67d0\u4e2a\u7ebf\u7a0b\u7b49\u5f85\u8fd9\u4e2a\u5bf9\u8c61\uff0c\u4e00\u65e6\u8fd9\u4e2a\u5bf9\u8c61\u88ab\u8bbe\u7f6e\u4e3a\u771f\uff0c\u4f60\u5c31\u5e94\u8be5\u4e22\u5f03\u5b83\u3002\u5c3d\u7ba1\u53ef\u4ee5\u901a\u8fc7 clear() \u65b9\u6cd5\u6765\u91cd\u7f6e event \u5bf9\u8c61\uff0c\u4f46\u662f\u5f88\u96be\u786e\u4fdd\u5b89\u5168\u5730\u6e05\u7406 event \u5bf9\u8c61\u5e76\u5bf9\u5b83\u91cd\u65b0\u8d4b\u503c\u3002\u5f88\u53ef\u80fd\u4f1a\u53d1\u751f\u9519\u8fc7\u4e8b\u4ef6\u3001\u6b7b\u9501\u6216\u8005\u5176\u4ed6\u95ee\u9898\uff08\u7279\u522b\u662f\uff0c\u4f60\u65e0\u6cd5\u4fdd\u8bc1\u91cd\u7f6e event \u5bf9\u8c61\u7684\u4ee3\u7801\u4f1a\u5728\u7ebf\u7a0b\u518d\u6b21\u7b49\u5f85\u8fd9\u4e2a event \u5bf9\u8c61\u4e4b\u524d\u6267\u884c\uff09\u3002\u5982\u679c\u4e00\u4e2a\u7ebf\u7a0b\u9700\u8981\u4e0d\u505c\u5730\u91cd\u590d\u4f7f\u7528 event \u5bf9\u8c61\uff0c\u4f60\u6700\u597d\u4f7f\u7528 Condition \u5bf9\u8c61\u6765\u4ee3\u66ff\u3002\u4e0b\u9762\u7684\u4ee3\u7801\u4f7f\u7528 Condition \u5bf9\u8c61\u5b9e\u73b0\u4e86\u4e00\u4e2a\u5468\u671f\u5b9a\u65f6\u5668\uff0c\u6bcf\u5f53\u5b9a\u65f6\u5668\u8d85\u65f6\u7684\u65f6\u5019\uff0c\u5176\u4ed6\u7ebf\u7a0b\u90fd\u53ef\u4ee5\u76d1\u6d4b\u5230\uff1a"
      ]
    },
    {
      "cell_type": "code",
      "execution_count": null,
      "metadata": {},
      "outputs": [],
      "source": [
        "i\nm\np\no\nr\nt\n \nt\nh\nr\ne\na\nd\ni\nn\ng\n\n\ni\nm\np\no\nr\nt\n \nt\ni\nm\ne\n\n\n\n\nc\nl\na\ns\ns\n \nP\ne\nr\ni\no\nd\ni\nc\nT\ni\nm\ne\nr\n:\n\n\n \n \n \n \nd\ne\nf\n \n_\n_\ni\nn\ni\nt\n_\n_\n(\ns\ne\nl\nf\n,\n \ni\nn\nt\ne\nr\nv\na\nl\n)\n:\n\n\n \n \n \n \n \n \n \n \ns\ne\nl\nf\n.\n_\ni\nn\nt\ne\nr\nv\na\nl\n \n=\n \ni\nn\nt\ne\nr\nv\na\nl\n\n\n \n \n \n \n \n \n \n \ns\ne\nl\nf\n.\n_\nf\nl\na\ng\n \n=\n \n0\n\n\n \n \n \n \n \n \n \n \ns\ne\nl\nf\n.\n_\nc\nv\n \n=\n \nt\nh\nr\ne\na\nd\ni\nn\ng\n.\nC\no\nn\nd\ni\nt\ni\no\nn\n(\n)\n\n\n\n\n \n \n \n \nd\ne\nf\n \ns\nt\na\nr\nt\n(\ns\ne\nl\nf\n)\n:\n\n\n \n \n \n \n \n \n \n \nt\n \n=\n \nt\nh\nr\ne\na\nd\ni\nn\ng\n.\nT\nh\nr\ne\na\nd\n(\nt\na\nr\ng\ne\nt\n=\ns\ne\nl\nf\n.\nr\nu\nn\n)\n\n\n \n \n \n \n \n \n \n \nt\n.\nd\na\ne\nm\no\nn\n \n=\n \nT\nr\nu\ne\n\n\n\n\n \n \n \n \n \n \n \n \nt\n.\ns\nt\na\nr\nt\n(\n)\n\n\n\n\n \n \n \n \nd\ne\nf\n \nr\nu\nn\n(\ns\ne\nl\nf\n)\n:\n\n\n \n \n \n \n \n \n \n \n'\n'\n'\n\n\n \n \n \n \n \n \n \n \nR\nu\nn\n \nt\nh\ne\n \nt\ni\nm\ne\nr\n \na\nn\nd\n \nn\no\nt\ni\nf\ny\n \nw\na\ni\nt\ni\nn\ng\n \nt\nh\nr\ne\na\nd\ns\n \na\nf\nt\ne\nr\n \ne\na\nc\nh\n \ni\nn\nt\ne\nr\nv\na\nl\n\n\n \n \n \n \n \n \n \n \n'\n'\n'\n\n\n \n \n \n \n \n \n \n \nw\nh\ni\nl\ne\n \nT\nr\nu\ne\n:\n\n\n \n \n \n \n \n \n \n \n \n \n \n \nt\ni\nm\ne\n.\ns\nl\ne\ne\np\n(\ns\ne\nl\nf\n.\n_\ni\nn\nt\ne\nr\nv\na\nl\n)\n\n\n \n \n \n \n \n \n \n \n \n \n \n \nw\ni\nt\nh\n \ns\ne\nl\nf\n.\n_\nc\nv\n:\n\n\n \n \n \n \n \n \n \n \n \n \n \n \n \n \n \n \n \ns\ne\nl\nf\n.\n_\nf\nl\na\ng\n \n^\n=\n \n1\n\n\n \n \n \n \n \n \n \n \n \n \n \n \n \n \n \n \n \ns\ne\nl\nf\n.\n_\nc\nv\n.\nn\no\nt\ni\nf\ny\n_\na\nl\nl\n(\n)\n\n\n\n\n \n \n \n \nd\ne\nf\n \nw\na\ni\nt\n_\nf\no\nr\n_\nt\ni\nc\nk\n(\ns\ne\nl\nf\n)\n:\n\n\n \n \n \n \n \n \n \n \n'\n'\n'\n\n\n \n \n \n \n \n \n \n \nW\na\ni\nt\n \nf\no\nr\n \nt\nh\ne\n \nn\ne\nx\nt\n \nt\ni\nc\nk\n \no\nf\n \nt\nh\ne\n \nt\ni\nm\ne\nr\n\n\n \n \n \n \n \n \n \n \n'\n'\n'\n\n\n \n \n \n \n \n \n \n \nw\ni\nt\nh\n \ns\ne\nl\nf\n.\n_\nc\nv\n:\n\n\n \n \n \n \n \n \n \n \n \n \n \n \nl\na\ns\nt\n_\nf\nl\na\ng\n \n=\n \ns\ne\nl\nf\n.\n_\nf\nl\na\ng\n\n\n \n \n \n \n \n \n \n \n \n \n \n \nw\nh\ni\nl\ne\n \nl\na\ns\nt\n_\nf\nl\na\ng\n \n=\n=\n \ns\ne\nl\nf\n.\n_\nf\nl\na\ng\n:\n\n\n \n \n \n \n \n \n \n \n \n \n \n \n \n \n \n \ns\ne\nl\nf\n.\n_\nc\nv\n.\nw\na\ni\nt\n(\n)\n\n\n\n\n#\n \nE\nx\na\nm\np\nl\ne\n \nu\ns\ne\n \no\nf\n \nt\nh\ne\n \nt\ni\nm\ne\nr\n\n\np\nt\ni\nm\ne\nr\n \n=\n \nP\ne\nr\ni\no\nd\ni\nc\nT\ni\nm\ne\nr\n(\n5\n)\n\n\np\nt\ni\nm\ne\nr\n.\ns\nt\na\nr\nt\n(\n)\n\n\n\n\n#\n \nT\nw\no\n \nt\nh\nr\ne\na\nd\ns\n \nt\nh\na\nt\n \ns\ny\nn\nc\nh\nr\no\nn\ni\nz\ne\n \no\nn\n \nt\nh\ne\n \nt\ni\nm\ne\nr\n\n\nd\ne\nf\n \nc\no\nu\nn\nt\nd\no\nw\nn\n(\nn\nt\ni\nc\nk\ns\n)\n:\n\n\n \n \n \n \nw\nh\ni\nl\ne\n \nn\nt\ni\nc\nk\ns\n \n>\n \n0\n:\n\n\n \n \n \n \n \n \n \n \np\nt\ni\nm\ne\nr\n.\nw\na\ni\nt\n_\nf\no\nr\n_\nt\ni\nc\nk\n(\n)\n\n\n \n \n \n \n \n \n \n \np\nr\ni\nn\nt\n(\n'\nT\n-\nm\ni\nn\nu\ns\n'\n,\n \nn\nt\ni\nc\nk\ns\n)\n\n\n \n \n \n \n \n \n \n \nn\nt\ni\nc\nk\ns\n \n-\n=\n \n1\n\n\n\n\nd\ne\nf\n \nc\no\nu\nn\nt\nu\np\n(\nl\na\ns\nt\n)\n:\n\n\n \n \n \n \nn\n \n=\n \n0\n\n\n \n \n \n \nw\nh\ni\nl\ne\n \nn\n \n<\n \nl\na\ns\nt\n:\n\n\n \n \n \n \n \n \n \n \np\nt\ni\nm\ne\nr\n.\nw\na\ni\nt\n_\nf\no\nr\n_\nt\ni\nc\nk\n(\n)\n\n\n \n \n \n \n \n \n \n \np\nr\ni\nn\nt\n(\n'\nC\no\nu\nn\nt\ni\nn\ng\n'\n,\n \nn\n)\n\n\n \n \n \n \n \n \n \n \nn\n \n+\n=\n \n1\n\n\n\n\nt\nh\nr\ne\na\nd\ni\nn\ng\n.\nT\nh\nr\ne\na\nd\n(\nt\na\nr\ng\ne\nt\n=\nc\no\nu\nn\nt\nd\no\nw\nn\n,\n \na\nr\ng\ns\n=\n(\n1\n0\n,\n)\n)\n.\ns\nt\na\nr\nt\n(\n)\n\n\nt\nh\nr\ne\na\nd\ni\nn\ng\n.\nT\nh\nr\ne\na\nd\n(\nt\na\nr\ng\ne\nt\n=\nc\no\nu\nn\nt\nu\np\n,\n \na\nr\ng\ns\n=\n(\n5\n,\n)\n)\n.\ns\nt\na\nr\nt\n(\n)\n\n"
      ]
    },
    {
      "cell_type": "markdown",
      "metadata": {},
      "source": [
        "event\u5bf9\u8c61\u7684\u4e00\u4e2a\u91cd\u8981\u7279\u70b9\u662f\u5f53\u5b83\u88ab\u8bbe\u7f6e\u4e3a\u771f\u65f6\u4f1a\u5524\u9192\u6240\u6709\u7b49\u5f85\u5b83\u7684\u7ebf\u7a0b\u3002\u5982\u679c\u4f60\u53ea\u60f3\u5524\u9192\u5355\u4e2a\u7ebf\u7a0b\uff0c\u6700\u597d\u662f\u4f7f\u7528\u4fe1\u53f7\u91cf\u6216\u8005 Condition \u5bf9\u8c61\u6765\u66ff\u4ee3\u3002\u8003\u8651\u4e00\u4e0b\u8fd9\u6bb5\u4f7f\u7528\u4fe1\u53f7\u91cf\u5b9e\u73b0\u7684\u4ee3\u7801\uff1a"
      ]
    },
    {
      "cell_type": "code",
      "execution_count": null,
      "metadata": {},
      "outputs": [],
      "source": [
        "#\n \nW\no\nr\nk\ne\nr\n \nt\nh\nr\ne\na\nd\n\n\nd\ne\nf\n \nw\no\nr\nk\ne\nr\n(\nn\n,\n \ns\ne\nm\na\n)\n:\n\n\n \n \n \n \n#\n \nW\na\ni\nt\n \nt\no\n \nb\ne\n \ns\ni\ng\nn\na\nl\ne\nd\n\n\n \n \n \n \ns\ne\nm\na\n.\na\nc\nq\nu\ni\nr\ne\n(\n)\n\n\n\n\n \n \n \n \n#\n \nD\no\n \ns\no\nm\ne\n \nw\no\nr\nk\n\n\n \n \n \n \np\nr\ni\nn\nt\n(\n'\nW\no\nr\nk\ni\nn\ng\n'\n,\n \nn\n)\n\n\n\n\n#\n \nC\nr\ne\na\nt\ne\n \ns\no\nm\ne\n \nt\nh\nr\ne\na\nd\ns\n\n\ns\ne\nm\na\n \n=\n \nt\nh\nr\ne\na\nd\ni\nn\ng\n.\nS\ne\nm\na\np\nh\no\nr\ne\n(\n0\n)\n\n\nn\nw\no\nr\nk\ne\nr\ns\n \n=\n \n1\n0\n\n\nf\no\nr\n \nn\n \ni\nn\n \nr\na\nn\ng\ne\n(\nn\nw\no\nr\nk\ne\nr\ns\n)\n:\n\n\n \n \n \n \nt\n \n=\n \nt\nh\nr\ne\na\nd\ni\nn\ng\n.\nT\nh\nr\ne\na\nd\n(\nt\na\nr\ng\ne\nt\n=\nw\no\nr\nk\ne\nr\n,\n \na\nr\ng\ns\n=\n(\nn\n,\n \ns\ne\nm\na\n,\n)\n)\n\n\n \n \n \n \nt\n.\ns\nt\na\nr\nt\n(\n)\n\n"
      ]
    },
    {
      "cell_type": "markdown",
      "metadata": {},
      "source": [
        "\u8fd0\u884c\u4e0a\u8fb9\u7684\u4ee3\u7801\u5c06\u4f1a\u542f\u52a8\u4e00\u4e2a\u7ebf\u7a0b\u6c60\uff0c\u4f46\u662f\u5e76\u6ca1\u6709\u4ec0\u4e48\u4e8b\u60c5\u53d1\u751f\u3002\u8fd9\u662f\u56e0\u4e3a\u6240\u6709\u7684\u7ebf\u7a0b\u90fd\u5728\u7b49\u5f85\u83b7\u53d6\u4fe1\u53f7\u91cf\u3002\u6bcf\u6b21\u4fe1\u53f7\u91cf\u88ab\u91ca\u653e\uff0c\u53ea\u6709\u4e00\u4e2a\u7ebf\u7a0b\u4f1a\u88ab\u5524\u9192\u5e76\u6267\u884c\uff0c\u793a\u4f8b\u5982\u4e0b\uff1a"
      ]
    },
    {
      "cell_type": "code",
      "execution_count": null,
      "metadata": {},
      "outputs": [],
      "source": [
        "sema.release()"
      ]
    },
    {
      "cell_type": "code",
      "execution_count": null,
      "metadata": {},
      "outputs": [],
      "source": [
        "sema.release()"
      ]
    },
    {
      "cell_type": "markdown",
      "metadata": {},
      "source": [
        "\u7f16\u5199\u6d89\u53ca\u5230\u5927\u91cf\u7684\u7ebf\u7a0b\u95f4\u540c\u6b65\u95ee\u9898\u7684\u4ee3\u7801\u4f1a\u8ba9\u4f60\u75db\u4e0d\u6b32\u751f\u3002\u6bd4\u8f83\u5408\u9002\u7684\u65b9\u5f0f\u662f\u4f7f\u7528\u961f\u5217\u6765\u8fdb\u884c\u7ebf\u7a0b\u95f4\u901a\u4fe1\u6216\u8005\u6bcf\u4e2a\u628a\u7ebf\u7a0b\u5f53\u4f5c\u4e00\u4e2aActor\uff0c\u5229\u7528Actor\u6a21\u578b\u6765\u63a7\u5236\u5e76\u53d1\u3002\u4e0b\u4e00\u8282\u5c06\u4f1a\u4ecb\u7ecd\u5230\u961f\u5217\uff0c\u800cActor\u6a21\u578b\u5c06\u572812.10\u8282\u4ecb\u7ecd\u3002"
      ]
    },
    {
      "cell_type": "markdown",
      "metadata": {},
      "source": [
        "## 12.3 \u7ebf\u7a0b\u95f4\u901a\u4fe1\n"
      ]
    },
    {
      "cell_type": "markdown",
      "metadata": {},
      "source": [
        "### \u95ee\u9898\n"
      ]
    },
    {
      "cell_type": "markdown",
      "metadata": {},
      "source": [
        "\u4f60\u7684\u7a0b\u5e8f\u4e2d\u6709\u591a\u4e2a\u7ebf\u7a0b\uff0c\u4f60\u9700\u8981\u5728\u8fd9\u4e9b\u7ebf\u7a0b\u4e4b\u95f4\u5b89\u5168\u5730\u4ea4\u6362\u4fe1\u606f\u6216\u6570\u636e"
      ]
    },
    {
      "cell_type": "markdown",
      "metadata": {},
      "source": [
        "### \u89e3\u51b3\u65b9\u6848\n"
      ]
    },
    {
      "cell_type": "markdown",
      "metadata": {},
      "source": [
        "\u4ece\u4e00\u4e2a\u7ebf\u7a0b\u5411\u53e6\u4e00\u4e2a\u7ebf\u7a0b\u53d1\u9001\u6570\u636e\u6700\u5b89\u5168\u7684\u65b9\u5f0f\u53ef\u80fd\u5c31\u662f\u4f7f\u7528 queue \u5e93\u4e2d\u7684\u961f\u5217\u4e86\u3002\u521b\u5efa\u4e00\u4e2a\u88ab\u591a\u4e2a\u7ebf\u7a0b\u5171\u4eab\u7684 Queue \u5bf9\u8c61\uff0c\u8fd9\u4e9b\u7ebf\u7a0b\u901a\u8fc7\u4f7f\u7528 put() \u548c get() \u64cd\u4f5c\u6765\u5411\u961f\u5217\u4e2d\u6dfb\u52a0\u6216\u8005\u5220\u9664\u5143\u7d20\u3002\n\u4f8b\u5982\uff1a"
      ]
    },
    {
      "cell_type": "code",
      "execution_count": null,
      "metadata": {},
      "outputs": [],
      "source": [
        "f\nr\no\nm\n \nq\nu\ne\nu\ne\n \ni\nm\np\no\nr\nt\n \nQ\nu\ne\nu\ne\n\n\nf\nr\no\nm\n \nt\nh\nr\ne\na\nd\ni\nn\ng\n \ni\nm\np\no\nr\nt\n \nT\nh\nr\ne\na\nd\n\n\n\n\n#\n \nA\n \nt\nh\nr\ne\na\nd\n \nt\nh\na\nt\n \np\nr\no\nd\nu\nc\ne\ns\n \nd\na\nt\na\n\n\nd\ne\nf\n \np\nr\no\nd\nu\nc\ne\nr\n(\no\nu\nt\n_\nq\n)\n:\n\n\n \n \n \n \nw\nh\ni\nl\ne\n \nT\nr\nu\ne\n:\n\n\n \n \n \n \n \n \n \n \n#\n \nP\nr\no\nd\nu\nc\ne\n \ns\no\nm\ne\n \nd\na\nt\na\n\n\n \n \n \n \n \n \n \n \n.\n.\n.\n\n\n \n \n \n \n \n \n \n \no\nu\nt\n_\nq\n.\np\nu\nt\n(\nd\na\nt\na\n)\n\n\n\n\n#\n \nA\n \nt\nh\nr\ne\na\nd\n \nt\nh\na\nt\n \nc\no\nn\ns\nu\nm\ne\ns\n \nd\na\nt\na\n\n\nd\ne\nf\n \nc\no\nn\ns\nu\nm\ne\nr\n(\ni\nn\n_\nq\n)\n:\n\n\n \n \n \n \nw\nh\ni\nl\ne\n \nT\nr\nu\ne\n:\n\n\n#\n \nG\ne\nt\n \ns\no\nm\ne\n \nd\na\nt\na\n\n\n \n \n \n \n \n \n \n \nd\na\nt\na\n \n=\n \ni\nn\n_\nq\n.\ng\ne\nt\n(\n)\n\n\n \n \n \n \n \n \n \n \n#\n \nP\nr\no\nc\ne\ns\ns\n \nt\nh\ne\n \nd\na\nt\na\n\n\n \n \n \n \n \n \n \n \n.\n.\n.\n\n\n\n\n#\n \nC\nr\ne\na\nt\ne\n \nt\nh\ne\n \ns\nh\na\nr\ne\nd\n \nq\nu\ne\nu\ne\n \na\nn\nd\n \nl\na\nu\nn\nc\nh\n \nb\no\nt\nh\n \nt\nh\nr\ne\na\nd\ns\n\n\nq\n \n=\n \nQ\nu\ne\nu\ne\n(\n)\n\n\nt\n1\n \n=\n \nT\nh\nr\ne\na\nd\n(\nt\na\nr\ng\ne\nt\n=\nc\no\nn\ns\nu\nm\ne\nr\n,\n \na\nr\ng\ns\n=\n(\nq\n,\n)\n)\n\n\nt\n2\n \n=\n \nT\nh\nr\ne\na\nd\n(\nt\na\nr\ng\ne\nt\n=\np\nr\no\nd\nu\nc\ne\nr\n,\n \na\nr\ng\ns\n=\n(\nq\n,\n)\n)\n\n\nt\n1\n.\ns\nt\na\nr\nt\n(\n)\n\n\nt\n2\n.\ns\nt\na\nr\nt\n(\n)\n\n"
      ]
    },
    {
      "cell_type": "markdown",
      "metadata": {},
      "source": [
        "Queue \u5bf9\u8c61\u5df2\u7ecf\u5305\u542b\u4e86\u5fc5\u8981\u7684\u9501\uff0c\u6240\u4ee5\u4f60\u53ef\u4ee5\u901a\u8fc7\u5b83\u5728\u591a\u4e2a\u7ebf\u7a0b\u95f4\u591a\u5b89\u5168\u5730\u5171\u4eab\u6570\u636e\u3002\n\u5f53\u4f7f\u7528\u961f\u5217\u65f6\uff0c\u534f\u8c03\u751f\u4ea7\u8005\u548c\u6d88\u8d39\u8005\u7684\u5173\u95ed\u95ee\u9898\u53ef\u80fd\u4f1a\u6709\u4e00\u4e9b\u9ebb\u70e6\u3002\u4e00\u4e2a\u901a\u7528\u7684\u89e3\u51b3\u65b9\u6cd5\u662f\u5728\u961f\u5217\u4e2d\u653e\u7f6e\u4e00\u4e2a\u7279\u6b8a\u7684\u503c\uff0c\u5f53\u6d88\u8d39\u8005\u8bfb\u5230\u8fd9\u4e2a\u503c\u7684\u65f6\u5019\uff0c\u7ec8\u6b62\u6267\u884c\u3002\u4f8b\u5982\uff1a"
      ]
    },
    {
      "cell_type": "code",
      "execution_count": null,
      "metadata": {},
      "outputs": [],
      "source": [
        "f\nr\no\nm\n \nq\nu\ne\nu\ne\n \ni\nm\np\no\nr\nt\n \nQ\nu\ne\nu\ne\n\n\nf\nr\no\nm\n \nt\nh\nr\ne\na\nd\ni\nn\ng\n \ni\nm\np\no\nr\nt\n \nT\nh\nr\ne\na\nd\n\n\n\n\n#\n \nO\nb\nj\ne\nc\nt\n \nt\nh\na\nt\n \ns\ni\ng\nn\na\nl\ns\n \ns\nh\nu\nt\nd\no\nw\nn\n\n\n_\ns\ne\nn\nt\ni\nn\ne\nl\n \n=\n \no\nb\nj\ne\nc\nt\n(\n)\n\n\n\n\n#\n \nA\n \nt\nh\nr\ne\na\nd\n \nt\nh\na\nt\n \np\nr\no\nd\nu\nc\ne\ns\n \nd\na\nt\na\n\n\nd\ne\nf\n \np\nr\no\nd\nu\nc\ne\nr\n(\no\nu\nt\n_\nq\n)\n:\n\n\n \n \n \n \nw\nh\ni\nl\ne\n \nr\nu\nn\nn\ni\nn\ng\n:\n\n\n \n \n \n \n \n \n \n \n#\n \nP\nr\no\nd\nu\nc\ne\n \ns\no\nm\ne\n \nd\na\nt\na\n\n\n \n \n \n \n \n \n \n \n.\n.\n.\n\n\n \n \n \n \n \n \n \n \no\nu\nt\n_\nq\n.\np\nu\nt\n(\nd\na\nt\na\n)\n\n\n\n\n \n \n \n \n#\n \nP\nu\nt\n \nt\nh\ne\n \ns\ne\nn\nt\ni\nn\ne\nl\n \no\nn\n \nt\nh\ne\n \nq\nu\ne\nu\ne\n \nt\no\n \ni\nn\nd\ni\nc\na\nt\ne\n \nc\no\nm\np\nl\ne\nt\ni\no\nn\n\n\n \n \n \n \no\nu\nt\n_\nq\n.\np\nu\nt\n(\n_\ns\ne\nn\nt\ni\nn\ne\nl\n)\n\n\n\n\n#\n \nA\n \nt\nh\nr\ne\na\nd\n \nt\nh\na\nt\n \nc\no\nn\ns\nu\nm\ne\ns\n \nd\na\nt\na\n\n\nd\ne\nf\n \nc\no\nn\ns\nu\nm\ne\nr\n(\ni\nn\n_\nq\n)\n:\n\n\n \n \n \n \nw\nh\ni\nl\ne\n \nT\nr\nu\ne\n:\n\n\n \n \n \n \n \n \n \n \n#\n \nG\ne\nt\n \ns\no\nm\ne\n \nd\na\nt\na\n\n\n \n \n \n \n \n \n \n \nd\na\nt\na\n \n=\n \ni\nn\n_\nq\n.\ng\ne\nt\n(\n)\n\n\n\n\n \n \n \n \n \n \n \n \n#\n \nC\nh\ne\nc\nk\n \nf\no\nr\n \nt\ne\nr\nm\ni\nn\na\nt\ni\no\nn\n\n\n \n \n \n \n \n \n \n \ni\nf\n \nd\na\nt\na\n \ni\ns\n \n_\ns\ne\nn\nt\ni\nn\ne\nl\n:\n\n\n \n \n \n \n \n \n \n \n \n \n \n \ni\nn\n_\nq\n.\np\nu\nt\n(\n_\ns\ne\nn\nt\ni\nn\ne\nl\n)\n\n\n \n \n \n \n \n \n \n \n \n \n \n \nb\nr\ne\na\nk\n\n\n\n\n \n \n \n \n \n \n \n \n#\n \nP\nr\no\nc\ne\ns\ns\n \nt\nh\ne\n \nd\na\nt\na\n\n\n \n \n \n \n \n \n \n \n.\n.\n.\n\n"
      ]
    },
    {
      "cell_type": "markdown",
      "metadata": {},
      "source": [
        "\u672c\u4f8b\u4e2d\u6709\u4e00\u4e2a\u7279\u6b8a\u7684\u5730\u65b9\uff1a\u6d88\u8d39\u8005\u5728\u8bfb\u5230\u8fd9\u4e2a\u7279\u6b8a\u503c\u4e4b\u540e\u7acb\u5373\u53c8\u628a\u5b83\u653e\u56de\u5230\u961f\u5217\u4e2d\uff0c\u5c06\u4e4b\u4f20\u9012\u4e0b\u53bb\u3002\u8fd9\u6837\uff0c\u6240\u6709\u76d1\u542c\u8fd9\u4e2a\u961f\u5217\u7684\u6d88\u8d39\u8005\u7ebf\u7a0b\u5c31\u53ef\u4ee5\u5168\u90e8\u5173\u95ed\u4e86\u3002\n\u5c3d\u7ba1\u961f\u5217\u662f\u6700\u5e38\u89c1\u7684\u7ebf\u7a0b\u95f4\u901a\u4fe1\u673a\u5236\uff0c\u4f46\u662f\u4ecd\u7136\u53ef\u4ee5\u81ea\u5df1\u901a\u8fc7\u521b\u5efa\u81ea\u5df1\u7684\u6570\u636e\u7ed3\u6784\u5e76\u6dfb\u52a0\u6240\u9700\u7684\u9501\u548c\u540c\u6b65\u673a\u5236\u6765\u5b9e\u73b0\u7ebf\u7a0b\u95f4\u901a\u4fe1\u3002\u6700\u5e38\u89c1\u7684\u65b9\u6cd5\u662f\u4f7f\u7528 Condition \u53d8\u91cf\u6765\u5305\u88c5\u4f60\u7684\u6570\u636e\u7ed3\u6784\u3002\u4e0b\u8fb9\u8fd9\u4e2a\u4f8b\u5b50\u6f14\u793a\u4e86\u5982\u4f55\u521b\u5efa\u4e00\u4e2a\u7ebf\u7a0b\u5b89\u5168\u7684\u4f18\u5148\u7ea7\u961f\u5217\uff0c\u5982\u540c1.5\u8282\u4e2d\u4ecb\u7ecd\u7684\u90a3\u6837\u3002"
      ]
    },
    {
      "cell_type": "code",
      "execution_count": null,
      "metadata": {},
      "outputs": [],
      "source": [
        "i\nm\np\no\nr\nt\n \nh\ne\na\np\nq\n\n\ni\nm\np\no\nr\nt\n \nt\nh\nr\ne\na\nd\ni\nn\ng\n\n\n\n\nc\nl\na\ns\ns\n \nP\nr\ni\no\nr\ni\nt\ny\nQ\nu\ne\nu\ne\n:\n\n\n \n \n \n \nd\ne\nf\n \n_\n_\ni\nn\ni\nt\n_\n_\n(\ns\ne\nl\nf\n)\n:\n\n\n \n \n \n \n \n \n \n \ns\ne\nl\nf\n.\n_\nq\nu\ne\nu\ne\n \n=\n \n[\n]\n\n\n \n \n \n \n \n \n \n \ns\ne\nl\nf\n.\n_\nc\no\nu\nn\nt\n \n=\n \n0\n\n\n \n \n \n \n \n \n \n \ns\ne\nl\nf\n.\n_\nc\nv\n \n=\n \nt\nh\nr\ne\na\nd\ni\nn\ng\n.\nC\no\nn\nd\ni\nt\ni\no\nn\n(\n)\n\n\n \n \n \n \nd\ne\nf\n \np\nu\nt\n(\ns\ne\nl\nf\n,\n \ni\nt\ne\nm\n,\n \np\nr\ni\no\nr\ni\nt\ny\n)\n:\n\n\n \n \n \n \n \n \n \n \nw\ni\nt\nh\n \ns\ne\nl\nf\n.\n_\nc\nv\n:\n\n\n \n \n \n \n \n \n \n \n \n \n \n \nh\ne\na\np\nq\n.\nh\ne\na\np\np\nu\ns\nh\n(\ns\ne\nl\nf\n.\n_\nq\nu\ne\nu\ne\n,\n \n(\n-\np\nr\ni\no\nr\ni\nt\ny\n,\n \ns\ne\nl\nf\n.\n_\nc\no\nu\nn\nt\n,\n \ni\nt\ne\nm\n)\n)\n\n\n \n \n \n \n \n \n \n \n \n \n \n \ns\ne\nl\nf\n.\n_\nc\no\nu\nn\nt\n \n+\n=\n \n1\n\n\n \n \n \n \n \n \n \n \n \n \n \n \ns\ne\nl\nf\n.\n_\nc\nv\n.\nn\no\nt\ni\nf\ny\n(\n)\n\n\n\n\n \n \n \n \nd\ne\nf\n \ng\ne\nt\n(\ns\ne\nl\nf\n)\n:\n\n\n \n \n \n \n \n \n \n \nw\ni\nt\nh\n \ns\ne\nl\nf\n.\n_\nc\nv\n:\n\n\n \n \n \n \n \n \n \n \n \n \n \n \nw\nh\ni\nl\ne\n \nl\ne\nn\n(\ns\ne\nl\nf\n.\n_\nq\nu\ne\nu\ne\n)\n \n=\n=\n \n0\n:\n\n\n \n \n \n \n \n \n \n \n \n \n \n \n \n \n \n \ns\ne\nl\nf\n.\n_\nc\nv\n.\nw\na\ni\nt\n(\n)\n\n\n \n \n \n \n \n \n \n \n \n \n \n \nr\ne\nt\nu\nr\nn\n \nh\ne\na\np\nq\n.\nh\ne\na\np\np\no\np\n(\ns\ne\nl\nf\n.\n_\nq\nu\ne\nu\ne\n)\n[\n-\n1\n]\n\n"
      ]
    },
    {
      "cell_type": "markdown",
      "metadata": {},
      "source": [
        "\u4f7f\u7528\u961f\u5217\u6765\u8fdb\u884c\u7ebf\u7a0b\u95f4\u901a\u4fe1\u662f\u4e00\u4e2a\u5355\u5411\u3001\u4e0d\u786e\u5b9a\u7684\u8fc7\u7a0b\u3002\u901a\u5e38\u60c5\u51b5\u4e0b\uff0c\u4f60\u6ca1\u6709\u529e\u6cd5\u77e5\u9053\u63a5\u6536\u6570\u636e\u7684\u7ebf\u7a0b\u662f\u4ec0\u4e48\u65f6\u5019\u63a5\u6536\u5230\u7684\u6570\u636e\u5e76\u5f00\u59cb\u5de5\u4f5c\u7684\u3002\u4e0d\u8fc7\u961f\u5217\u5bf9\u8c61\u63d0\u4f9b\u4e00\u4e9b\u57fa\u672c\u5b8c\u6210\u7684\u7279\u6027\uff0c\u6bd4\u5982\u4e0b\u8fb9\u8fd9\u4e2a\u4f8b\u5b50\u4e2d\u7684 task_done() \u548c join() \uff1a"
      ]
    },
    {
      "cell_type": "code",
      "execution_count": null,
      "metadata": {},
      "outputs": [],
      "source": [
        "f\nr\no\nm\n \nq\nu\ne\nu\ne\n \ni\nm\np\no\nr\nt\n \nQ\nu\ne\nu\ne\n\n\nf\nr\no\nm\n \nt\nh\nr\ne\na\nd\ni\nn\ng\n \ni\nm\np\no\nr\nt\n \nT\nh\nr\ne\na\nd\n\n\n\n\n#\n \nA\n \nt\nh\nr\ne\na\nd\n \nt\nh\na\nt\n \np\nr\no\nd\nu\nc\ne\ns\n \nd\na\nt\na\n\n\nd\ne\nf\n \np\nr\no\nd\nu\nc\ne\nr\n(\no\nu\nt\n_\nq\n)\n:\n\n\n \n \n \n \nw\nh\ni\nl\ne\n \nr\nu\nn\nn\ni\nn\ng\n:\n\n\n \n \n \n \n \n \n \n \n#\n \nP\nr\no\nd\nu\nc\ne\n \ns\no\nm\ne\n \nd\na\nt\na\n\n\n \n \n \n \n \n \n \n \n.\n.\n.\n\n\n \n \n \n \n \n \n \n \no\nu\nt\n_\nq\n.\np\nu\nt\n(\nd\na\nt\na\n)\n\n\n\n\n#\n \nA\n \nt\nh\nr\ne\na\nd\n \nt\nh\na\nt\n \nc\no\nn\ns\nu\nm\ne\ns\n \nd\na\nt\na\n\n\nd\ne\nf\n \nc\no\nn\ns\nu\nm\ne\nr\n(\ni\nn\n_\nq\n)\n:\n\n\n \n \n \n \nw\nh\ni\nl\ne\n \nT\nr\nu\ne\n:\n\n\n \n \n \n \n \n \n \n \n#\n \nG\ne\nt\n \ns\no\nm\ne\n \nd\na\nt\na\n\n\n \n \n \n \n \n \n \n \nd\na\nt\na\n \n=\n \ni\nn\n_\nq\n.\ng\ne\nt\n(\n)\n\n\n\n\n \n \n \n \n \n \n \n \n#\n \nP\nr\no\nc\ne\ns\ns\n \nt\nh\ne\n \nd\na\nt\na\n\n\n \n \n \n \n \n \n \n \n.\n.\n.\n\n\n \n \n \n \n \n \n \n \n#\n \nI\nn\nd\ni\nc\na\nt\ne\n \nc\no\nm\np\nl\ne\nt\ni\no\nn\n\n\n \n \n \n \n \n \n \n \ni\nn\n_\nq\n.\nt\na\ns\nk\n_\nd\no\nn\ne\n(\n)\n\n\n\n\n#\n \nC\nr\ne\na\nt\ne\n \nt\nh\ne\n \ns\nh\na\nr\ne\nd\n \nq\nu\ne\nu\ne\n \na\nn\nd\n \nl\na\nu\nn\nc\nh\n \nb\no\nt\nh\n \nt\nh\nr\ne\na\nd\ns\n\n\nq\n \n=\n \nQ\nu\ne\nu\ne\n(\n)\n\n\nt\n1\n \n=\n \nT\nh\nr\ne\na\nd\n(\nt\na\nr\ng\ne\nt\n=\nc\no\nn\ns\nu\nm\ne\nr\n,\n \na\nr\ng\ns\n=\n(\nq\n,\n)\n)\n\n\nt\n2\n \n=\n \nT\nh\nr\ne\na\nd\n(\nt\na\nr\ng\ne\nt\n=\np\nr\no\nd\nu\nc\ne\nr\n,\n \na\nr\ng\ns\n=\n(\nq\n,\n)\n)\n\n\nt\n1\n.\ns\nt\na\nr\nt\n(\n)\n\n\nt\n2\n.\ns\nt\na\nr\nt\n(\n)\n\n\n\n\n#\n \nW\na\ni\nt\n \nf\no\nr\n \na\nl\nl\n \np\nr\no\nd\nu\nc\ne\nd\n \ni\nt\ne\nm\ns\n \nt\no\n \nb\ne\n \nc\no\nn\ns\nu\nm\ne\nd\n\n\nq\n.\nj\no\ni\nn\n(\n)\n\n"
      ]
    },
    {
      "cell_type": "markdown",
      "metadata": {},
      "source": [
        "\u5982\u679c\u4e00\u4e2a\u7ebf\u7a0b\u9700\u8981\u5728\u4e00\u4e2a\u201c\u6d88\u8d39\u8005\u201d\u7ebf\u7a0b\u5904\u7406\u5b8c\u7279\u5b9a\u7684\u6570\u636e\u9879\u65f6\u7acb\u5373\u5f97\u5230\u901a\u77e5\uff0c\u4f60\u53ef\u4ee5\u628a\u8981\u53d1\u9001\u7684\u6570\u636e\u548c\u4e00\u4e2a Event \u653e\u5230\u4e00\u8d77\u4f7f\u7528\uff0c\u8fd9\u6837\u201c\u751f\u4ea7\u8005\u201d\u5c31\u53ef\u4ee5\u901a\u8fc7\u8fd9\u4e2aEvent\u5bf9\u8c61\u6765\u76d1\u6d4b\u5904\u7406\u7684\u8fc7\u7a0b\u4e86\u3002\u793a\u4f8b\u5982\u4e0b\uff1a"
      ]
    },
    {
      "cell_type": "code",
      "execution_count": null,
      "metadata": {},
      "outputs": [],
      "source": [
        "f\nr\no\nm\n \nq\nu\ne\nu\ne\n \ni\nm\np\no\nr\nt\n \nQ\nu\ne\nu\ne\n\n\nf\nr\no\nm\n \nt\nh\nr\ne\na\nd\ni\nn\ng\n \ni\nm\np\no\nr\nt\n \nT\nh\nr\ne\na\nd\n,\n \nE\nv\ne\nn\nt\n\n\n\n\n#\n \nA\n \nt\nh\nr\ne\na\nd\n \nt\nh\na\nt\n \np\nr\no\nd\nu\nc\ne\ns\n \nd\na\nt\na\n\n\nd\ne\nf\n \np\nr\no\nd\nu\nc\ne\nr\n(\no\nu\nt\n_\nq\n)\n:\n\n\n \n \n \n \nw\nh\ni\nl\ne\n \nr\nu\nn\nn\ni\nn\ng\n:\n\n\n \n \n \n \n \n \n \n \n#\n \nP\nr\no\nd\nu\nc\ne\n \ns\no\nm\ne\n \nd\na\nt\na\n\n\n \n \n \n \n \n \n \n \n.\n.\n.\n\n\n \n \n \n \n \n \n \n \n#\n \nM\na\nk\ne\n \na\nn\n \n(\nd\na\nt\na\n,\n \ne\nv\ne\nn\nt\n)\n \np\na\ni\nr\n \na\nn\nd\n \nh\na\nn\nd\n \ni\nt\n \nt\no\n \nt\nh\ne\n \nc\no\nn\ns\nu\nm\ne\nr\n\n\n \n \n \n \n \n \n \n \ne\nv\nt\n \n=\n \nE\nv\ne\nn\nt\n(\n)\n\n\n \n \n \n \n \n \n \n \no\nu\nt\n_\nq\n.\np\nu\nt\n(\n(\nd\na\nt\na\n,\n \ne\nv\nt\n)\n)\n\n\n \n \n \n \n \n \n \n \n.\n.\n.\n\n\n \n \n \n \n \n \n \n \n#\n \nW\na\ni\nt\n \nf\no\nr\n \nt\nh\ne\n \nc\no\nn\ns\nu\nm\ne\nr\n \nt\no\n \np\nr\no\nc\ne\ns\ns\n \nt\nh\ne\n \ni\nt\ne\nm\n\n\n \n \n \n \n \n \n \n \ne\nv\nt\n.\nw\na\ni\nt\n(\n)\n\n\n\n\n#\n \nA\n \nt\nh\nr\ne\na\nd\n \nt\nh\na\nt\n \nc\no\nn\ns\nu\nm\ne\ns\n \nd\na\nt\na\n\n\nd\ne\nf\n \nc\no\nn\ns\nu\nm\ne\nr\n(\ni\nn\n_\nq\n)\n:\n\n\n \n \n \n \nw\nh\ni\nl\ne\n \nT\nr\nu\ne\n:\n\n\n \n \n \n \n \n \n \n \n#\n \nG\ne\nt\n \ns\no\nm\ne\n \nd\na\nt\na\n\n\n \n \n \n \n \n \n \n \nd\na\nt\na\n,\n \ne\nv\nt\n \n=\n \ni\nn\n_\nq\n.\ng\ne\nt\n(\n)\n\n\n \n \n \n \n \n \n \n \n#\n \nP\nr\no\nc\ne\ns\ns\n \nt\nh\ne\n \nd\na\nt\na\n\n\n \n \n \n \n \n \n \n \n.\n.\n.\n\n\n \n \n \n \n \n \n \n \n#\n \nI\nn\nd\ni\nc\na\nt\ne\n \nc\no\nm\np\nl\ne\nt\ni\no\nn\n\n\n \n \n \n \n \n \n \n \ne\nv\nt\n.\ns\ne\nt\n(\n)\n\n"
      ]
    },
    {
      "cell_type": "markdown",
      "metadata": {},
      "source": [
        "### \u8ba8\u8bba\n"
      ]
    },
    {
      "cell_type": "markdown",
      "metadata": {},
      "source": [
        "\u57fa\u4e8e\u7b80\u5355\u961f\u5217\u7f16\u5199\u591a\u7ebf\u7a0b\u7a0b\u5e8f\u5728\u591a\u6570\u60c5\u51b5\u4e0b\u662f\u4e00\u4e2a\u6bd4\u8f83\u660e\u667a\u7684\u9009\u62e9\u3002\u4ece\u7ebf\u7a0b\u5b89\u5168\u961f\u5217\u7684\u5e95\u5c42\u5b9e\u73b0\u6765\u770b\uff0c\u4f60\u65e0\u9700\u5728\u4f60\u7684\u4ee3\u7801\u4e2d\u4f7f\u7528\u9501\u548c\u5176\u4ed6\u5e95\u5c42\u7684\u540c\u6b65\u673a\u5236\uff0c\u8fd9\u4e9b\u53ea\u4f1a\u628a\u4f60\u7684\u7a0b\u5e8f\u5f04\u5f97\u4e71\u4e03\u516b\u7cdf\u3002\u6b64\u5916\uff0c\u4f7f\u7528\u961f\u5217\u8fd9\u79cd\u57fa\u4e8e\u6d88\u606f\u7684\u901a\u4fe1\u673a\u5236\u53ef\u4ee5\u88ab\u6269\u5c55\u5230\u66f4\u5927\u7684\u5e94\u7528\u8303\u7574\uff0c\u6bd4\u5982\uff0c\u4f60\u53ef\u4ee5\u628a\u4f60\u7684\u7a0b\u5e8f\u653e\u5165\u591a\u4e2a\u8fdb\u7a0b\u751a\u81f3\u662f\u5206\u5e03\u5f0f\u7cfb\u7edf\u800c\u65e0\u9700\u6539\u53d8\u5e95\u5c42\u7684\u961f\u5217\u7ed3\u6784\u3002\n\u4f7f\u7528\u7ebf\u7a0b\u961f\u5217\u6709\u4e00\u4e2a\u8981\u6ce8\u610f\u7684\u95ee\u9898\u662f\uff0c\u5411\u961f\u5217\u4e2d\u6dfb\u52a0\u6570\u636e\u9879\u65f6\u5e76\u4e0d\u4f1a\u590d\u5236\u6b64\u6570\u636e\u9879\uff0c\u7ebf\u7a0b\u95f4\u901a\u4fe1\u5b9e\u9645\u4e0a\u662f\u5728\u7ebf\u7a0b\u95f4\u4f20\u9012\u5bf9\u8c61\u5f15\u7528\u3002\u5982\u679c\u4f60\u62c5\u5fc3\u5bf9\u8c61\u7684\u5171\u4eab\u72b6\u6001\uff0c\u90a3\u4f60\u6700\u597d\u53ea\u4f20\u9012\u4e0d\u53ef\u4fee\u6539\u7684\u6570\u636e\u7ed3\u6784\uff08\u5982\uff1a\u6574\u578b\u3001\u5b57\u7b26\u4e32\u6216\u8005\u5143\u7ec4\uff09\u6216\u8005\u4e00\u4e2a\u5bf9\u8c61\u7684\u6df1\u62f7\u8d1d\u3002\u4f8b\u5982\uff1a"
      ]
    },
    {
      "cell_type": "code",
      "execution_count": null,
      "metadata": {},
      "outputs": [],
      "source": [
        "f\nr\no\nm\n \nq\nu\ne\nu\ne\n \ni\nm\np\no\nr\nt\n \nQ\nu\ne\nu\ne\n\n\nf\nr\no\nm\n \nt\nh\nr\ne\na\nd\ni\nn\ng\n \ni\nm\np\no\nr\nt\n \nT\nh\nr\ne\na\nd\n\n\ni\nm\np\no\nr\nt\n \nc\no\np\ny\n\n\n\n\n#\n \nA\n \nt\nh\nr\ne\na\nd\n \nt\nh\na\nt\n \np\nr\no\nd\nu\nc\ne\ns\n \nd\na\nt\na\n\n\nd\ne\nf\n \np\nr\no\nd\nu\nc\ne\nr\n(\no\nu\nt\n_\nq\n)\n:\n\n\n \n \n \n \nw\nh\ni\nl\ne\n \nT\nr\nu\ne\n:\n\n\n \n \n \n \n \n \n \n \n#\n \nP\nr\no\nd\nu\nc\ne\n \ns\no\nm\ne\n \nd\na\nt\na\n\n\n \n \n \n \n \n \n \n \n.\n.\n.\n\n\n \n \n \n \n \n \n \n \no\nu\nt\n_\nq\n.\np\nu\nt\n(\nc\no\np\ny\n.\nd\ne\ne\np\nc\no\np\ny\n(\nd\na\nt\na\n)\n)\n\n\n\n\n#\n \nA\n \nt\nh\nr\ne\na\nd\n \nt\nh\na\nt\n \nc\no\nn\ns\nu\nm\ne\ns\n \nd\na\nt\na\n\n\nd\ne\nf\n \nc\no\nn\ns\nu\nm\ne\nr\n(\ni\nn\n_\nq\n)\n:\n\n\n \n \n \n \nw\nh\ni\nl\ne\n \nT\nr\nu\ne\n:\n\n\n \n \n \n \n \n \n \n \n#\n \nG\ne\nt\n \ns\no\nm\ne\n \nd\na\nt\na\n\n\n \n \n \n \n \n \n \n \nd\na\nt\na\n \n=\n \ni\nn\n_\nq\n.\ng\ne\nt\n(\n)\n\n\n \n \n \n \n \n \n \n \n#\n \nP\nr\no\nc\ne\ns\ns\n \nt\nh\ne\n \nd\na\nt\na\n\n\n \n \n \n \n \n \n \n \n.\n.\n.\n\n"
      ]
    },
    {
      "cell_type": "markdown",
      "metadata": {},
      "source": [
        "Queue \u5bf9\u8c61\u63d0\u4f9b\u4e00\u4e9b\u5728\u5f53\u524d\u4e0a\u4e0b\u6587\u5f88\u6709\u7528\u7684\u9644\u52a0\u7279\u6027\u3002\u6bd4\u5982\u5728\u521b\u5efa Queue \u5bf9\u8c61\u65f6\u63d0\u4f9b\u53ef\u9009\u7684 size \u53c2\u6570\u6765\u9650\u5236\u53ef\u4ee5\u6dfb\u52a0\u5230\u961f\u5217\u4e2d\u7684\u5143\u7d20\u6570\u91cf\u3002\u5bf9\u4e8e\u201c\u751f\u4ea7\u8005\u201d\u4e0e\u201c\u6d88\u8d39\u8005\u201d\u901f\u5ea6\u6709\u5dee\u5f02\u7684\u60c5\u51b5\uff0c\u4e3a\u961f\u5217\u4e2d\u7684\u5143\u7d20\u6570\u91cf\u6dfb\u52a0\u4e0a\u9650\u662f\u6709\u610f\u4e49\u7684\u3002\u6bd4\u5982\uff0c\u4e00\u4e2a\u201c\u751f\u4ea7\u8005\u201d\u4ea7\u751f\u9879\u76ee\u7684\u901f\u5ea6\u6bd4\u201c\u6d88\u8d39\u8005\u201d \u201c\u6d88\u8d39\u201d\u7684\u901f\u5ea6\u5feb\uff0c\u90a3\u4e48\u4f7f\u7528\u56fa\u5b9a\u5927\u5c0f\u7684\u961f\u5217\u5c31\u53ef\u4ee5\u5728\u961f\u5217\u5df2\u6ee1\u7684\u65f6\u5019\u963b\u585e\u961f\u5217\uff0c\u4ee5\u514d\u672a\u9884\u671f\u7684\u8fde\u9501\u6548\u5e94\u6269\u6563\u6574\u4e2a\u7a0b\u5e8f\u9020\u6210\u6b7b\u9501\u6216\u8005\u7a0b\u5e8f\u8fd0\u884c\u5931\u5e38\u3002\u5728\u901a\u4fe1\u7684\u7ebf\u7a0b\u4e4b\u95f4\u8fdb\u884c\u201c\u6d41\u91cf\u63a7\u5236\u201d\u662f\u4e00\u4e2a\u770b\u8d77\u6765\u5bb9\u6613\u5b9e\u73b0\u8d77\u6765\u56f0\u96be\u7684\u95ee\u9898\u3002\u5982\u679c\u4f60\u53d1\u73b0\u81ea\u5df1\u66fe\u7ecf\u8bd5\u56fe\u901a\u8fc7\u6446\u5f04\u961f\u5217\u5927\u5c0f\u6765\u89e3\u51b3\u4e00\u4e2a\u95ee\u9898\uff0c\u8fd9\u4e5f\u8bb8\u5c31\u6807\u5fd7\u7740\u4f60\u7684\u7a0b\u5e8f\u53ef\u80fd\u5b58\u5728\u8106\u5f31\u8bbe\u8ba1\u6216\u8005\u56fa\u6709\u7684\u53ef\u4f38\u7f29\u95ee\u9898\u3002\nget() \u548c put() \u65b9\u6cd5\u90fd\u652f\u6301\u975e\u963b\u585e\u65b9\u5f0f\u548c\u8bbe\u5b9a\u8d85\u65f6\uff0c\u4f8b\u5982\uff1a"
      ]
    },
    {
      "cell_type": "code",
      "execution_count": null,
      "metadata": {},
      "outputs": [],
      "source": [
        "i\nm\np\no\nr\nt\n \nq\nu\ne\nu\ne\n\n\nq\n \n=\n \nq\nu\ne\nu\ne\n.\nQ\nu\ne\nu\ne\n(\n)\n\n\n\n\nt\nr\ny\n:\n\n\n \n \n \n \nd\na\nt\na\n \n=\n \nq\n.\ng\ne\nt\n(\nb\nl\no\nc\nk\n=\nF\na\nl\ns\ne\n)\n\n\ne\nx\nc\ne\np\nt\n \nq\nu\ne\nu\ne\n.\nE\nm\np\nt\ny\n:\n\n\n \n \n \n \n.\n.\n.\n\n\n\n\nt\nr\ny\n:\n\n\n \n \n \n \nq\n.\np\nu\nt\n(\ni\nt\ne\nm\n,\n \nb\nl\no\nc\nk\n=\nF\na\nl\ns\ne\n)\n\n\ne\nx\nc\ne\np\nt\n \nq\nu\ne\nu\ne\n.\nF\nu\nl\nl\n:\n\n\n \n \n \n \n.\n.\n.\n\n\n\n\nt\nr\ny\n:\n\n\n \n \n \n \nd\na\nt\na\n \n=\n \nq\n.\ng\ne\nt\n(\nt\ni\nm\ne\no\nu\nt\n=\n5\n.\n0\n)\n\n\ne\nx\nc\ne\np\nt\n \nq\nu\ne\nu\ne\n.\nE\nm\np\nt\ny\n:\n\n\n \n \n \n \n.\n.\n.\n\n"
      ]
    },
    {
      "cell_type": "markdown",
      "metadata": {},
      "source": [
        "\u8fd9\u4e9b\u64cd\u4f5c\u90fd\u53ef\u4ee5\u7528\u6765\u907f\u514d\u5f53\u6267\u884c\u67d0\u4e9b\u7279\u5b9a\u961f\u5217\u64cd\u4f5c\u65f6\u53d1\u751f\u65e0\u9650\u963b\u585e\u7684\u60c5\u51b5\uff0c\u6bd4\u5982\uff0c\u4e00\u4e2a\u975e\u963b\u585e\u7684 put() \u65b9\u6cd5\u548c\u4e00\u4e2a\u56fa\u5b9a\u5927\u5c0f\u7684\u961f\u5217\u4e00\u8d77\u4f7f\u7528\uff0c\u8fd9\u6837\u5f53\u961f\u5217\u5df2\u6ee1\u65f6\u5c31\u53ef\u4ee5\u6267\u884c\u4e0d\u540c\u7684\u4ee3\u7801\u3002\u6bd4\u5982\u8f93\u51fa\u4e00\u6761\u65e5\u5fd7\u4fe1\u606f\u5e76\u4e22\u5f03\u3002"
      ]
    },
    {
      "cell_type": "code",
      "execution_count": null,
      "metadata": {},
      "outputs": [],
      "source": [
        "d\ne\nf\n \np\nr\no\nd\nu\nc\ne\nr\n(\nq\n)\n:\n\n\n \n \n \n \n.\n.\n.\n\n\n \n \n \n \nt\nr\ny\n:\n\n\n \n \n \n \n \n \n \n \nq\n.\np\nu\nt\n(\ni\nt\ne\nm\n,\n \nb\nl\no\nc\nk\n=\nF\na\nl\ns\ne\n)\n\n\n \n \n \n \ne\nx\nc\ne\np\nt\n \nq\nu\ne\nu\ne\n.\nF\nu\nl\nl\n:\n\n\n \n \n \n \n \n \n \n \nl\no\ng\n.\nw\na\nr\nn\ni\nn\ng\n(\n'\nq\nu\ne\nu\ne\nd\n \ni\nt\ne\nm\n \n%\nr\n \nd\ni\ns\nc\na\nr\nd\ne\nd\n!\n'\n,\n \ni\nt\ne\nm\n)\n\n"
      ]
    },
    {
      "cell_type": "markdown",
      "metadata": {},
      "source": [
        "\u5982\u679c\u4f60\u8bd5\u56fe\u8ba9\u6d88\u8d39\u8005\u7ebf\u7a0b\u5728\u6267\u884c\u50cf q.get() \u8fd9\u6837\u7684\u64cd\u4f5c\u65f6\uff0c\u8d85\u65f6\u81ea\u52a8\u7ec8\u6b62\u4ee5\u4fbf\u68c0\u67e5\u7ec8\u6b62\u6807\u5fd7\uff0c\u4f60\u5e94\u8be5\u4f7f\u7528 q.get() \u7684\u53ef\u9009\u53c2\u6570 timeout \uff0c\u5982\u4e0b\uff1a"
      ]
    },
    {
      "cell_type": "code",
      "execution_count": null,
      "metadata": {},
      "outputs": [],
      "source": [
        "_\nr\nu\nn\nn\ni\nn\ng\n \n=\n \nT\nr\nu\ne\n\n\n\n\nd\ne\nf\n \nc\no\nn\ns\nu\nm\ne\nr\n(\nq\n)\n:\n\n\n \n \n \n \nw\nh\ni\nl\ne\n \n_\nr\nu\nn\nn\ni\nn\ng\n:\n\n\n \n \n \n \n \n \n \n \nt\nr\ny\n:\n\n\n \n \n \n \n \n \n \n \n \n \n \n \ni\nt\ne\nm\n \n=\n \nq\n.\ng\ne\nt\n(\nt\ni\nm\ne\no\nu\nt\n=\n5\n.\n0\n)\n\n\n \n \n \n \n \n \n \n \n \n \n \n \n#\n \nP\nr\no\nc\ne\ns\ns\n \ni\nt\ne\nm\n\n\n \n \n \n \n \n \n \n \n \n \n \n \n.\n.\n.\n\n\n \n \n \n \n \n \n \n \ne\nx\nc\ne\np\nt\n \nq\nu\ne\nu\ne\n.\nE\nm\np\nt\ny\n:\n\n\n \n \n \n \n \n \n \n \n \n \n \n \np\na\ns\ns\n\n"
      ]
    },
    {
      "cell_type": "markdown",
      "metadata": {},
      "source": [
        "\u6700\u540e\uff0c\u6709 q.qsize() \uff0c q.full() \uff0c q.empty() \u7b49\u5b9e\u7528\u65b9\u6cd5\u53ef\u4ee5\u83b7\u53d6\u4e00\u4e2a\u961f\u5217\u7684\u5f53\u524d\u5927\u5c0f\u548c\u72b6\u6001\u3002\u4f46\u8981\u6ce8\u610f\uff0c\u8fd9\u4e9b\u65b9\u6cd5\u90fd\u4e0d\u662f\u7ebf\u7a0b\u5b89\u5168\u7684\u3002\u53ef\u80fd\u4f60\u5bf9\u4e00\u4e2a\u961f\u5217\u4f7f\u7528 empty() \u5224\u65ad\u51fa\u8fd9\u4e2a\u961f\u5217\u4e3a\u7a7a\uff0c\u4f46\u540c\u65f6\u53e6\u5916\u4e00\u4e2a\u7ebf\u7a0b\u53ef\u80fd\u5df2\u7ecf\u5411\u8fd9\u4e2a\u961f\u5217\u4e2d\u63d2\u5165\u4e00\u4e2a\u6570\u636e\u9879\u3002\u6240\u4ee5\uff0c\u4f60\u6700\u597d\u4e0d\u8981\u5728\u4f60\u7684\u4ee3\u7801\u4e2d\u4f7f\u7528\u8fd9\u4e9b\u65b9\u6cd5\u3002"
      ]
    },
    {
      "cell_type": "markdown",
      "metadata": {},
      "source": [
        "## 12.4 \u7ed9\u5173\u952e\u90e8\u5206\u52a0\u9501\n"
      ]
    },
    {
      "cell_type": "markdown",
      "metadata": {},
      "source": [
        "### \u95ee\u9898\n"
      ]
    },
    {
      "cell_type": "markdown",
      "metadata": {},
      "source": [
        "\u4f60\u9700\u8981\u5bf9\u591a\u7ebf\u7a0b\u7a0b\u5e8f\u4e2d\u7684\u4e34\u754c\u533a\u52a0\u9501\u4ee5\u907f\u514d\u7ade\u4e89\u6761\u4ef6\u3002"
      ]
    },
    {
      "cell_type": "markdown",
      "metadata": {},
      "source": [
        "### \u89e3\u51b3\u65b9\u6848\n"
      ]
    },
    {
      "cell_type": "markdown",
      "metadata": {},
      "source": [
        "\u8981\u5728\u591a\u7ebf\u7a0b\u7a0b\u5e8f\u4e2d\u5b89\u5168\u4f7f\u7528\u53ef\u53d8\u5bf9\u8c61\uff0c\u4f60\u9700\u8981\u4f7f\u7528 threading \u5e93\u4e2d\u7684 Lock \u5bf9\u8c61\uff0c\u5c31\u50cf\u4e0b\u8fb9\u8fd9\u4e2a\u4f8b\u5b50\u8fd9\u6837\uff1a"
      ]
    },
    {
      "cell_type": "code",
      "execution_count": null,
      "metadata": {},
      "outputs": [],
      "source": [
        "i\nm\np\no\nr\nt\n \nt\nh\nr\ne\na\nd\ni\nn\ng\n\n\n\n\nc\nl\na\ns\ns\n \nS\nh\na\nr\ne\nd\nC\no\nu\nn\nt\ne\nr\n:\n\n\n \n \n \n \n'\n'\n'\n\n\n \n \n \n \nA\n \nc\no\nu\nn\nt\ne\nr\n \no\nb\nj\ne\nc\nt\n \nt\nh\na\nt\n \nc\na\nn\n \nb\ne\n \ns\nh\na\nr\ne\nd\n \nb\ny\n \nm\nu\nl\nt\ni\np\nl\ne\n \nt\nh\nr\ne\na\nd\ns\n.\n\n\n \n \n \n \n'\n'\n'\n\n\n \n \n \n \nd\ne\nf\n \n_\n_\ni\nn\ni\nt\n_\n_\n(\ns\ne\nl\nf\n,\n \ni\nn\ni\nt\ni\na\nl\n_\nv\na\nl\nu\ne\n \n=\n \n0\n)\n:\n\n\n \n \n \n \n \n \n \n \ns\ne\nl\nf\n.\n_\nv\na\nl\nu\ne\n \n=\n \ni\nn\ni\nt\ni\na\nl\n_\nv\na\nl\nu\ne\n\n\n \n \n \n \n \n \n \n \ns\ne\nl\nf\n.\n_\nv\na\nl\nu\ne\n_\nl\no\nc\nk\n \n=\n \nt\nh\nr\ne\na\nd\ni\nn\ng\n.\nL\no\nc\nk\n(\n)\n\n\n\n\n \n \n \n \nd\ne\nf\n \ni\nn\nc\nr\n(\ns\ne\nl\nf\n,\nd\ne\nl\nt\na\n=\n1\n)\n:\n\n\n \n \n \n \n \n \n \n \n'\n'\n'\n\n\n \n \n \n \n \n \n \n \nI\nn\nc\nr\ne\nm\ne\nn\nt\n \nt\nh\ne\n \nc\no\nu\nn\nt\ne\nr\n \nw\ni\nt\nh\n \nl\no\nc\nk\ni\nn\ng\n\n\n \n \n \n \n \n \n \n \n'\n'\n'\n\n\n \n \n \n \n \n \n \n \nw\ni\nt\nh\n \ns\ne\nl\nf\n.\n_\nv\na\nl\nu\ne\n_\nl\no\nc\nk\n:\n\n\n \n \n \n \n \n \n \n \n \n \n \n \n \ns\ne\nl\nf\n.\n_\nv\na\nl\nu\ne\n \n+\n=\n \nd\ne\nl\nt\na\n\n\n\n\n \n \n \n \nd\ne\nf\n \nd\ne\nc\nr\n(\ns\ne\nl\nf\n,\nd\ne\nl\nt\na\n=\n1\n)\n:\n\n\n \n \n \n \n \n \n \n \n'\n'\n'\n\n\n \n \n \n \n \n \n \n \nD\ne\nc\nr\ne\nm\ne\nn\nt\n \nt\nh\ne\n \nc\no\nu\nn\nt\ne\nr\n \nw\ni\nt\nh\n \nl\no\nc\nk\ni\nn\ng\n\n\n \n \n \n \n \n \n \n \n'\n'\n'\n\n\n \n \n \n \n \n \n \n \nw\ni\nt\nh\n \ns\ne\nl\nf\n.\n_\nv\na\nl\nu\ne\n_\nl\no\nc\nk\n:\n\n\n \n \n \n \n \n \n \n \n \n \n \n \n \ns\ne\nl\nf\n.\n_\nv\na\nl\nu\ne\n \n-\n=\n \nd\ne\nl\nt\na\n\n"
      ]
    },
    {
      "cell_type": "markdown",
      "metadata": {},
      "source": [
        "Lock \u5bf9\u8c61\u548c with \u8bed\u53e5\u5757\u4e00\u8d77\u4f7f\u7528\u53ef\u4ee5\u4fdd\u8bc1\u4e92\u65a5\u6267\u884c\uff0c\u5c31\u662f\u6bcf\u6b21\u53ea\u6709\u4e00\u4e2a\u7ebf\u7a0b\u53ef\u4ee5\u6267\u884c with \u8bed\u53e5\u5305\u542b\u7684\u4ee3\u7801\u5757\u3002with \u8bed\u53e5\u4f1a\u5728\u8fd9\u4e2a\u4ee3\u7801\u5757\u6267\u884c\u524d\u81ea\u52a8\u83b7\u53d6\u9501\uff0c\u5728\u6267\u884c\u7ed3\u675f\u540e\u81ea\u52a8\u91ca\u653e\u9501\u3002"
      ]
    },
    {
      "cell_type": "markdown",
      "metadata": {},
      "source": [
        "### \u8ba8\u8bba\n"
      ]
    },
    {
      "cell_type": "markdown",
      "metadata": {},
      "source": [
        "\u7ebf\u7a0b\u8c03\u5ea6\u672c\u8d28\u4e0a\u662f\u4e0d\u786e\u5b9a\u7684\uff0c\u56e0\u6b64\uff0c\u5728\u591a\u7ebf\u7a0b\u7a0b\u5e8f\u4e2d\u9519\u8bef\u5730\u4f7f\u7528\u9501\u673a\u5236\u53ef\u80fd\u4f1a\u5bfc\u81f4\u968f\u673a\u6570\u636e\u635f\u574f\u6216\u8005\u5176\u4ed6\u7684\u5f02\u5e38\u884c\u4e3a\uff0c\u6211\u4eec\u79f0\u4e4b\u4e3a\u7ade\u4e89\u6761\u4ef6\u3002\u4e3a\u4e86\u907f\u514d\u7ade\u4e89\u6761\u4ef6\uff0c\u6700\u597d\u53ea\u5728\u4e34\u754c\u533a\uff08\u5bf9\u4e34\u754c\u8d44\u6e90\u8fdb\u884c\u64cd\u4f5c\u7684\u90a3\u90e8\u5206\u4ee3\u7801\uff09\u4f7f\u7528\u9501\u3002\n\u5728\u4e00\u4e9b\u201c\u8001\u7684\u201d Python \u4ee3\u7801\u4e2d\uff0c\u663e\u5f0f\u83b7\u53d6\u548c\u91ca\u653e\u9501\u662f\u5f88\u5e38\u89c1\u7684\u3002\u4e0b\u8fb9\u662f\u4e00\u4e2a\u4e0a\u4e00\u4e2a\u4f8b\u5b50\u7684\u53d8\u79cd\uff1a"
      ]
    },
    {
      "cell_type": "code",
      "execution_count": null,
      "metadata": {},
      "outputs": [],
      "source": [
        "i\nm\np\no\nr\nt\n \nt\nh\nr\ne\na\nd\ni\nn\ng\n\n\n\n\nc\nl\na\ns\ns\n \nS\nh\na\nr\ne\nd\nC\no\nu\nn\nt\ne\nr\n:\n\n\n \n \n \n \n'\n'\n'\n\n\n \n \n \n \nA\n \nc\no\nu\nn\nt\ne\nr\n \no\nb\nj\ne\nc\nt\n \nt\nh\na\nt\n \nc\na\nn\n \nb\ne\n \ns\nh\na\nr\ne\nd\n \nb\ny\n \nm\nu\nl\nt\ni\np\nl\ne\n \nt\nh\nr\ne\na\nd\ns\n.\n\n\n \n \n \n \n'\n'\n'\n\n\n \n \n \n \nd\ne\nf\n \n_\n_\ni\nn\ni\nt\n_\n_\n(\ns\ne\nl\nf\n,\n \ni\nn\ni\nt\ni\na\nl\n_\nv\na\nl\nu\ne\n \n=\n \n0\n)\n:\n\n\n \n \n \n \n \n \n \n \ns\ne\nl\nf\n.\n_\nv\na\nl\nu\ne\n \n=\n \ni\nn\ni\nt\ni\na\nl\n_\nv\na\nl\nu\ne\n\n\n \n \n \n \n \n \n \n \ns\ne\nl\nf\n.\n_\nv\na\nl\nu\ne\n_\nl\no\nc\nk\n \n=\n \nt\nh\nr\ne\na\nd\ni\nn\ng\n.\nL\no\nc\nk\n(\n)\n\n\n\n\n \n \n \n \nd\ne\nf\n \ni\nn\nc\nr\n(\ns\ne\nl\nf\n,\nd\ne\nl\nt\na\n=\n1\n)\n:\n\n\n \n \n \n \n \n \n \n \n'\n'\n'\n\n\n \n \n \n \n \n \n \n \nI\nn\nc\nr\ne\nm\ne\nn\nt\n \nt\nh\ne\n \nc\no\nu\nn\nt\ne\nr\n \nw\ni\nt\nh\n \nl\no\nc\nk\ni\nn\ng\n\n\n \n \n \n \n \n \n \n \n'\n'\n'\n\n\n \n \n \n \n \n \n \n \ns\ne\nl\nf\n.\n_\nv\na\nl\nu\ne\n_\nl\no\nc\nk\n.\na\nc\nq\nu\ni\nr\ne\n(\n)\n\n\n \n \n \n \n \n \n \n \ns\ne\nl\nf\n.\n_\nv\na\nl\nu\ne\n \n+\n=\n \nd\ne\nl\nt\na\n\n\n \n \n \n \n \n \n \n \ns\ne\nl\nf\n.\n_\nv\na\nl\nu\ne\n_\nl\no\nc\nk\n.\nr\ne\nl\ne\na\ns\ne\n(\n)\n\n\n\n\n \n \n \n \nd\ne\nf\n \nd\ne\nc\nr\n(\ns\ne\nl\nf\n,\nd\ne\nl\nt\na\n=\n1\n)\n:\n\n\n \n \n \n \n \n \n \n \n'\n'\n'\n\n\n \n \n \n \n \n \n \n \nD\ne\nc\nr\ne\nm\ne\nn\nt\n \nt\nh\ne\n \nc\no\nu\nn\nt\ne\nr\n \nw\ni\nt\nh\n \nl\no\nc\nk\ni\nn\ng\n\n\n \n \n \n \n \n \n \n \n'\n'\n'\n\n\n \n \n \n \n \n \n \n \ns\ne\nl\nf\n.\n_\nv\na\nl\nu\ne\n_\nl\no\nc\nk\n.\na\nc\nq\nu\ni\nr\ne\n(\n)\n\n\n \n \n \n \n \n \n \n \ns\ne\nl\nf\n.\n_\nv\na\nl\nu\ne\n \n-\n=\n \nd\ne\nl\nt\na\n\n\n \n \n \n \n \n \n \n \ns\ne\nl\nf\n.\n_\nv\na\nl\nu\ne\n_\nl\no\nc\nk\n.\nr\ne\nl\ne\na\ns\ne\n(\n)\n\n"
      ]
    },
    {
      "cell_type": "markdown",
      "metadata": {},
      "source": [
        "\u76f8\u6bd4\u4e8e\u8fd9\u79cd\u663e\u5f0f\u8c03\u7528\u7684\u65b9\u6cd5\uff0cwith \u8bed\u53e5\u66f4\u52a0\u4f18\u96c5\uff0c\u4e5f\u66f4\u4e0d\u5bb9\u6613\u51fa\u9519\uff0c\u7279\u522b\u662f\u7a0b\u5e8f\u5458\u53ef\u80fd\u4f1a\u5fd8\u8bb0\u8c03\u7528 release() \u65b9\u6cd5\u6216\u8005\u7a0b\u5e8f\u5728\u83b7\u5f97\u9501\u4e4b\u540e\u4ea7\u751f\u5f02\u5e38\u8fd9\u4e24\u79cd\u60c5\u51b5\uff08\u4f7f\u7528 with \u8bed\u53e5\u53ef\u4ee5\u4fdd\u8bc1\u5728\u8fd9\u4e24\u79cd\u60c5\u51b5\u4e0b\u4ecd\u80fd\u6b63\u786e\u91ca\u653e\u9501\uff09\u3002\n\u4e3a\u4e86\u907f\u514d\u51fa\u73b0\u6b7b\u9501\u7684\u60c5\u51b5\uff0c\u4f7f\u7528\u9501\u673a\u5236\u7684\u7a0b\u5e8f\u5e94\u8be5\u8bbe\u5b9a\u4e3a\u6bcf\u4e2a\u7ebf\u7a0b\u4e00\u6b21\u53ea\u5141\u8bb8\u83b7\u53d6\u4e00\u4e2a\u9501\u3002\u5982\u679c\u4e0d\u80fd\u8fd9\u6837\u505a\u7684\u8bdd\uff0c\u4f60\u5c31\u9700\u8981\u66f4\u9ad8\u7ea7\u7684\u6b7b\u9501\u907f\u514d\u673a\u5236\uff0c\u6211\u4eec\u5c06\u572812.5\u8282\u4ecb\u7ecd\u3002\n\u5728 threading \u5e93\u4e2d\u8fd8\u63d0\u4f9b\u4e86\u5176\u4ed6\u7684\u540c\u6b65\u539f\u8bed\uff0c\u6bd4\u5982 RLock \u548c Semaphore \u5bf9\u8c61\u3002\u4f46\u662f\u6839\u636e\u4ee5\u5f80\u7ecf\u9a8c\uff0c\u8fd9\u4e9b\u539f\u8bed\u662f\u7528\u4e8e\u4e00\u4e9b\u7279\u6b8a\u7684\u60c5\u51b5\uff0c\u5982\u679c\u4f60\u53ea\u662f\u9700\u8981\u7b80\u5355\u5730\u5bf9\u53ef\u53d8\u5bf9\u8c61\u8fdb\u884c\u9501\u5b9a\uff0c\u90a3\u5c31\u4e0d\u5e94\u8be5\u4f7f\u7528\u5b83\u4eec\u3002\u4e00\u4e2a RLock \uff08\u53ef\u91cd\u5165\u9501\uff09\u53ef\u4ee5\u88ab\u540c\u4e00\u4e2a\u7ebf\u7a0b\u591a\u6b21\u83b7\u53d6\uff0c\u4e3b\u8981\u7528\u6765\u5b9e\u73b0\u57fa\u4e8e\u76d1\u6d4b\u5bf9\u8c61\u6a21\u5f0f\u7684\u9501\u5b9a\u548c\u540c\u6b65\u3002\u5728\u4f7f\u7528\u8fd9\u79cd\u9501\u7684\u60c5\u51b5\u4e0b\uff0c\u5f53\u9501\u88ab\u6301\u6709\u65f6\uff0c\u53ea\u6709\u4e00\u4e2a\u7ebf\u7a0b\u53ef\u4ee5\u4f7f\u7528\u5b8c\u6574\u7684\u51fd\u6570\u6216\u8005\u7c7b\u4e2d\u7684\u65b9\u6cd5\u3002\u6bd4\u5982\uff0c\u4f60\u53ef\u4ee5\u5b9e\u73b0\u4e00\u4e2a\u8fd9\u6837\u7684 SharedCounter \u7c7b\uff1a"
      ]
    },
    {
      "cell_type": "code",
      "execution_count": null,
      "metadata": {},
      "outputs": [],
      "source": [
        "i\nm\np\no\nr\nt\n \nt\nh\nr\ne\na\nd\ni\nn\ng\n\n\n\n\nc\nl\na\ns\ns\n \nS\nh\na\nr\ne\nd\nC\no\nu\nn\nt\ne\nr\n:\n\n\n \n \n \n \n'\n'\n'\n\n\n \n \n \n \nA\n \nc\no\nu\nn\nt\ne\nr\n \no\nb\nj\ne\nc\nt\n \nt\nh\na\nt\n \nc\na\nn\n \nb\ne\n \ns\nh\na\nr\ne\nd\n \nb\ny\n \nm\nu\nl\nt\ni\np\nl\ne\n \nt\nh\nr\ne\na\nd\ns\n.\n\n\n \n \n \n \n'\n'\n'\n\n\n \n \n \n \n_\nl\no\nc\nk\n \n=\n \nt\nh\nr\ne\na\nd\ni\nn\ng\n.\nR\nL\no\nc\nk\n(\n)\n\n\n \n \n \n \nd\ne\nf\n \n_\n_\ni\nn\ni\nt\n_\n_\n(\ns\ne\nl\nf\n,\n \ni\nn\ni\nt\ni\na\nl\n_\nv\na\nl\nu\ne\n \n=\n \n0\n)\n:\n\n\n \n \n \n \n \n \n \n \ns\ne\nl\nf\n.\n_\nv\na\nl\nu\ne\n \n=\n \ni\nn\ni\nt\ni\na\nl\n_\nv\na\nl\nu\ne\n\n\n\n\n \n \n \n \nd\ne\nf\n \ni\nn\nc\nr\n(\ns\ne\nl\nf\n,\nd\ne\nl\nt\na\n=\n1\n)\n:\n\n\n \n \n \n \n \n \n \n \n'\n'\n'\n\n\n \n \n \n \n \n \n \n \nI\nn\nc\nr\ne\nm\ne\nn\nt\n \nt\nh\ne\n \nc\no\nu\nn\nt\ne\nr\n \nw\ni\nt\nh\n \nl\no\nc\nk\ni\nn\ng\n\n\n \n \n \n \n \n \n \n \n'\n'\n'\n\n\n \n \n \n \n \n \n \n \nw\ni\nt\nh\n \nS\nh\na\nr\ne\nd\nC\no\nu\nn\nt\ne\nr\n.\n_\nl\no\nc\nk\n:\n\n\n \n \n \n \n \n \n \n \n \n \n \n \ns\ne\nl\nf\n.\n_\nv\na\nl\nu\ne\n \n+\n=\n \nd\ne\nl\nt\na\n\n\n\n\n \n \n \n \nd\ne\nf\n \nd\ne\nc\nr\n(\ns\ne\nl\nf\n,\nd\ne\nl\nt\na\n=\n1\n)\n:\n\n\n \n \n \n \n \n \n \n \n'\n'\n'\n\n\n \n \n \n \n \n \n \n \nD\ne\nc\nr\ne\nm\ne\nn\nt\n \nt\nh\ne\n \nc\no\nu\nn\nt\ne\nr\n \nw\ni\nt\nh\n \nl\no\nc\nk\ni\nn\ng\n\n\n \n \n \n \n \n \n \n \n'\n'\n'\n\n\n \n \n \n \n \n \n \n \nw\ni\nt\nh\n \nS\nh\na\nr\ne\nd\nC\no\nu\nn\nt\ne\nr\n.\n_\nl\no\nc\nk\n:\n\n\n \n \n \n \n \n \n \n \n \n \n \n \n \ns\ne\nl\nf\n.\ni\nn\nc\nr\n(\n-\nd\ne\nl\nt\na\n)\n\n"
      ]
    },
    {
      "cell_type": "markdown",
      "metadata": {},
      "source": [
        "\u5728\u4e0a\u8fb9\u8fd9\u4e2a\u4f8b\u5b50\u4e2d\uff0c\u6ca1\u6709\u5bf9\u6bcf\u4e00\u4e2a\u5b9e\u4f8b\u4e2d\u7684\u53ef\u53d8\u5bf9\u8c61\u52a0\u9501\uff0c\u53d6\u800c\u4ee3\u4e4b\u7684\u662f\u4e00\u4e2a\u88ab\u6240\u6709\u5b9e\u4f8b\u5171\u4eab\u7684\u7c7b\u7ea7\u9501\u3002\u8fd9\u4e2a\u9501\u7528\u6765\u540c\u6b65\u7c7b\u65b9\u6cd5\uff0c\u5177\u4f53\u6765\u8bf4\u5c31\u662f\uff0c\u8fd9\u4e2a\u9501\u53ef\u4ee5\u4fdd\u8bc1\u4e00\u6b21\u53ea\u6709\u4e00\u4e2a\u7ebf\u7a0b\u53ef\u4ee5\u8c03\u7528\u8fd9\u4e2a\u7c7b\u65b9\u6cd5\u3002\u4e0d\u8fc7\uff0c\u4e0e\u4e00\u4e2a\u6807\u51c6\u7684\u9501\u4e0d\u540c\u7684\u662f\uff0c\u5df2\u7ecf\u6301\u6709\u8fd9\u4e2a\u9501\u7684\u65b9\u6cd5\u5728\u8c03\u7528\u540c\u6837\u4f7f\u7528\u8fd9\u4e2a\u9501\u7684\u65b9\u6cd5\u65f6\uff0c\u65e0\u9700\u518d\u6b21\u83b7\u53d6\u9501\u3002\u6bd4\u5982 decr \u65b9\u6cd5\u3002\n\u8fd9\u79cd\u5b9e\u73b0\u65b9\u5f0f\u7684\u4e00\u4e2a\u7279\u70b9\u662f\uff0c\u65e0\u8bba\u8fd9\u4e2a\u7c7b\u6709\u591a\u5c11\u4e2a\u5b9e\u4f8b\u90fd\u53ea\u7528\u4e00\u4e2a\u9501\u3002\u56e0\u6b64\u5728\u9700\u8981\u5927\u91cf\u4f7f\u7528\u8ba1\u6570\u5668\u7684\u60c5\u51b5\u4e0b\u5185\u5b58\u6548\u7387\u66f4\u9ad8\u3002\u4e0d\u8fc7\u8fd9\u6837\u505a\u4e5f\u6709\u7f3a\u70b9\uff0c\u5c31\u662f\u5728\u7a0b\u5e8f\u4e2d\u4f7f\u7528\u5927\u91cf\u7ebf\u7a0b\u5e76\u9891\u7e41\u66f4\u65b0\u8ba1\u6570\u5668\u65f6\u4f1a\u6709\u4e89\u7528\u9501\u7684\u95ee\u9898\u3002\n\u4fe1\u53f7\u91cf\u5bf9\u8c61\u662f\u4e00\u4e2a\u5efa\u7acb\u5728\u5171\u4eab\u8ba1\u6570\u5668\u57fa\u7840\u4e0a\u7684\u540c\u6b65\u539f\u8bed\u3002\u5982\u679c\u8ba1\u6570\u5668\u4e0d\u4e3a0\uff0cwith \u8bed\u53e5\u5c06\u8ba1\u6570\u5668\u51cf1\uff0c\u7ebf\u7a0b\u88ab\u5141\u8bb8\u6267\u884c\u3002with \u8bed\u53e5\u6267\u884c\u7ed3\u675f\u540e\uff0c\u8ba1\u6570\u5668\u52a0\uff11\u3002\u5982\u679c\u8ba1\u6570\u5668\u4e3a0\uff0c\u7ebf\u7a0b\u5c06\u88ab\u963b\u585e\uff0c\u76f4\u5230\u5176\u4ed6\u7ebf\u7a0b\u7ed3\u675f\u5c06\u8ba1\u6570\u5668\u52a01\u3002\u5c3d\u7ba1\u4f60\u53ef\u4ee5\u5728\u7a0b\u5e8f\u4e2d\u50cf\u6807\u51c6\u9501\u4e00\u6837\u4f7f\u7528\u4fe1\u53f7\u91cf\u6765\u505a\u7ebf\u7a0b\u540c\u6b65\uff0c\u4f46\u662f\u8fd9\u79cd\u65b9\u5f0f\u5e76\u4e0d\u88ab\u63a8\u8350\uff0c\u56e0\u4e3a\u4f7f\u7528\u4fe1\u53f7\u91cf\u4e3a\u7a0b\u5e8f\u589e\u52a0\u7684\u590d\u6742\u6027\u4f1a\u5f71\u54cd\u7a0b\u5e8f\u6027\u80fd\u3002\u76f8\u5bf9\u4e8e\u7b80\u5355\u5730\u4f5c\u4e3a\u9501\u4f7f\u7528\uff0c\u4fe1\u53f7\u91cf\u66f4\u9002\u7528\u4e8e\u90a3\u4e9b\u9700\u8981\u5728\u7ebf\u7a0b\u4e4b\u95f4\u5f15\u5165\u4fe1\u53f7\u6216\u8005\u9650\u5236\u7684\u7a0b\u5e8f\u3002\u6bd4\u5982\uff0c\u4f60\u9700\u8981\u9650\u5236\u4e00\u6bb5\u4ee3\u7801\u7684\u5e76\u53d1\u8bbf\u95ee\u91cf\uff0c\u4f60\u5c31\u53ef\u4ee5\u50cf\u4e0b\u9762\u8fd9\u6837\u4f7f\u7528\u4fe1\u53f7\u91cf\u5b8c\u6210\uff1a"
      ]
    },
    {
      "cell_type": "code",
      "execution_count": null,
      "metadata": {},
      "outputs": [],
      "source": [
        "f\nr\no\nm\n \nt\nh\nr\ne\na\nd\ni\nn\ng\n \ni\nm\np\no\nr\nt\n \nS\ne\nm\na\np\nh\no\nr\ne\n\n\ni\nm\np\no\nr\nt\n \nu\nr\nl\nl\ni\nb\n.\nr\ne\nq\nu\ne\ns\nt\n\n\n\n\n#\n \nA\nt\n \nm\no\ns\nt\n,\n \nf\ni\nv\ne\n \nt\nh\nr\ne\na\nd\ns\n \na\nl\nl\no\nw\ne\nd\n \nt\no\n \nr\nu\nn\n \na\nt\n \no\nn\nc\ne\n\n\n_\nf\ne\nt\nc\nh\n_\nu\nr\nl\n_\ns\ne\nm\na\n \n=\n \nS\ne\nm\na\np\nh\no\nr\ne\n(\n5\n)\n\n\n\n\nd\ne\nf\n \nf\ne\nt\nc\nh\n_\nu\nr\nl\n(\nu\nr\nl\n)\n:\n\n\n \n \n \n \nw\ni\nt\nh\n \n_\nf\ne\nt\nc\nh\n_\nu\nr\nl\n_\ns\ne\nm\na\n:\n\n\n \n \n \n \n \n \n \n \nr\ne\nt\nu\nr\nn\n \nu\nr\nl\nl\ni\nb\n.\nr\ne\nq\nu\ne\ns\nt\n.\nu\nr\nl\no\np\ne\nn\n(\nu\nr\nl\n)\n\n"
      ]
    },
    {
      "cell_type": "markdown",
      "metadata": {},
      "source": [
        "\u5982\u679c\u4f60\u5bf9\u7ebf\u7a0b\u540c\u6b65\u539f\u8bed\u7684\u5e95\u5c42\u7406\u8bba\u548c\u5b9e\u73b0\u611f\u5174\u8da3\uff0c\u53ef\u4ee5\u53c2\u8003\u64cd\u4f5c\u7cfb\u7edf\u76f8\u5173\u4e66\u7c4d\uff0c\u7edd\u5927\u591a\u6570\u90fd\u6709\u63d0\u53ca\u3002"
      ]
    },
    {
      "cell_type": "markdown",
      "metadata": {},
      "source": [
        "## 12.5 \u9632\u6b62\u6b7b\u9501\u7684\u52a0\u9501\u673a\u5236\n"
      ]
    },
    {
      "cell_type": "markdown",
      "metadata": {},
      "source": [
        "### \u95ee\u9898\n"
      ]
    },
    {
      "cell_type": "markdown",
      "metadata": {},
      "source": [
        "\u4f60\u6b63\u5728\u5199\u4e00\u4e2a\u591a\u7ebf\u7a0b\u7a0b\u5e8f\uff0c\u5176\u4e2d\u7ebf\u7a0b\u9700\u8981\u4e00\u6b21\u83b7\u53d6\u591a\u4e2a\u9501\uff0c\u6b64\u65f6\u5982\u4f55\u907f\u514d\u6b7b\u9501\u95ee\u9898\u3002"
      ]
    },
    {
      "cell_type": "markdown",
      "metadata": {},
      "source": [
        "### \u89e3\u51b3\u65b9\u6848\n"
      ]
    },
    {
      "cell_type": "markdown",
      "metadata": {},
      "source": [
        "\u5728\u591a\u7ebf\u7a0b\u7a0b\u5e8f\u4e2d\uff0c\u6b7b\u9501\u95ee\u9898\u5f88\u5927\u4e00\u90e8\u5206\u662f\u7531\u4e8e\u7ebf\u7a0b\u540c\u65f6\u83b7\u53d6\u591a\u4e2a\u9501\u9020\u6210\u7684\u3002\u4e3e\u4e2a\u4f8b\u5b50\uff1a\u4e00\u4e2a\u7ebf\u7a0b\u83b7\u53d6\u4e86\u7b2c\u4e00\u4e2a\u9501\uff0c\u7136\u540e\u5728\u83b7\u53d6\u7b2c\u4e8c\u4e2a\u9501\u7684\n\u65f6\u5019\u53d1\u751f\u963b\u585e\uff0c\u90a3\u4e48\u8fd9\u4e2a\u7ebf\u7a0b\u5c31\u53ef\u80fd\u963b\u585e\u5176\u4ed6\u7ebf\u7a0b\u7684\u6267\u884c\uff0c\u4ece\u800c\u5bfc\u81f4\u6574\u4e2a\u7a0b\u5e8f\u5047\u6b7b\u3002\n\u89e3\u51b3\u6b7b\u9501\u95ee\u9898\u7684\u4e00\u79cd\u65b9\u6848\u662f\u4e3a\u7a0b\u5e8f\u4e2d\u7684\u6bcf\u4e00\u4e2a\u9501\u5206\u914d\u4e00\u4e2a\u552f\u4e00\u7684id\uff0c\u7136\u540e\u53ea\u5141\u8bb8\u6309\u7167\u5347\u5e8f\u89c4\u5219\u6765\u4f7f\u7528\u591a\u4e2a\u9501\uff0c\u8fd9\u4e2a\u89c4\u5219\u4f7f\u7528\u4e0a\u4e0b\u6587\u7ba1\u7406\u5668\n\u662f\u975e\u5e38\u5bb9\u6613\u5b9e\u73b0\u7684\uff0c\u793a\u4f8b\u5982\u4e0b\uff1a"
      ]
    },
    {
      "cell_type": "code",
      "execution_count": null,
      "metadata": {},
      "outputs": [],
      "source": [
        "i\nm\np\no\nr\nt\n \nt\nh\nr\ne\na\nd\ni\nn\ng\n\n\nf\nr\no\nm\n \nc\no\nn\nt\ne\nx\nt\nl\ni\nb\n \ni\nm\np\no\nr\nt\n \nc\no\nn\nt\ne\nx\nt\nm\na\nn\na\ng\ne\nr\n\n\n\n\n#\n \nT\nh\nr\ne\na\nd\n-\nl\no\nc\na\nl\n \ns\nt\na\nt\ne\n \nt\no\n \ns\nt\no\nr\ne\nd\n \ni\nn\nf\no\nr\nm\na\nt\ni\no\nn\n \no\nn\n \nl\no\nc\nk\ns\n \na\nl\nr\ne\na\nd\ny\n \na\nc\nq\nu\ni\nr\ne\nd\n\n\n_\nl\no\nc\na\nl\n \n=\n \nt\nh\nr\ne\na\nd\ni\nn\ng\n.\nl\no\nc\na\nl\n(\n)\n\n\n\n\n@\nc\no\nn\nt\ne\nx\nt\nm\na\nn\na\ng\ne\nr\n\n\nd\ne\nf\n \na\nc\nq\nu\ni\nr\ne\n(\n*\nl\no\nc\nk\ns\n)\n:\n\n\n \n \n \n \n#\n \nS\no\nr\nt\n \nl\no\nc\nk\ns\n \nb\ny\n \no\nb\nj\ne\nc\nt\n \ni\nd\ne\nn\nt\ni\nf\ni\ne\nr\n\n\n \n \n \n \nl\no\nc\nk\ns\n \n=\n \ns\no\nr\nt\ne\nd\n(\nl\no\nc\nk\ns\n,\n \nk\ne\ny\n=\nl\na\nm\nb\nd\na\n \nx\n:\n \ni\nd\n(\nx\n)\n)\n\n\n\n\n \n \n \n \n#\n \nM\na\nk\ne\n \ns\nu\nr\ne\n \nl\no\nc\nk\n \no\nr\nd\ne\nr\n \no\nf\n \np\nr\ne\nv\ni\no\nu\ns\nl\ny\n \na\nc\nq\nu\ni\nr\ne\nd\n \nl\no\nc\nk\ns\n \ni\ns\n \nn\no\nt\n \nv\ni\no\nl\na\nt\ne\nd\n\n\n \n \n \n \na\nc\nq\nu\ni\nr\ne\nd\n \n=\n \ng\ne\nt\na\nt\nt\nr\n(\n_\nl\no\nc\na\nl\n,\n'\na\nc\nq\nu\ni\nr\ne\nd\n'\n,\n[\n]\n)\n\n\n \n \n \n \ni\nf\n \na\nc\nq\nu\ni\nr\ne\nd\n \na\nn\nd\n \nm\na\nx\n(\ni\nd\n(\nl\no\nc\nk\n)\n \nf\no\nr\n \nl\no\nc\nk\n \ni\nn\n \na\nc\nq\nu\ni\nr\ne\nd\n)\n \n>\n=\n \ni\nd\n(\nl\no\nc\nk\ns\n[\n0\n]\n)\n:\n\n\n \n \n \n \n \n \n \n \nr\na\ni\ns\ne\n \nR\nu\nn\nt\ni\nm\ne\nE\nr\nr\no\nr\n(\n'\nL\no\nc\nk\n \nO\nr\nd\ne\nr\n \nV\ni\no\nl\na\nt\ni\no\nn\n'\n)\n\n\n\n\n \n \n \n \n#\n \nA\nc\nq\nu\ni\nr\ne\n \na\nl\nl\n \no\nf\n \nt\nh\ne\n \nl\no\nc\nk\ns\n\n\n \n \n \n \na\nc\nq\nu\ni\nr\ne\nd\n.\ne\nx\nt\ne\nn\nd\n(\nl\no\nc\nk\ns\n)\n\n\n \n \n \n \n_\nl\no\nc\na\nl\n.\na\nc\nq\nu\ni\nr\ne\nd\n \n=\n \na\nc\nq\nu\ni\nr\ne\nd\n\n\n\n\n \n \n \n \nt\nr\ny\n:\n\n\n \n \n \n \n \n \n \n \nf\no\nr\n \nl\no\nc\nk\n \ni\nn\n \nl\no\nc\nk\ns\n:\n\n\n \n \n \n \n \n \n \n \n \n \n \n \nl\no\nc\nk\n.\na\nc\nq\nu\ni\nr\ne\n(\n)\n\n\n \n \n \n \n \n \n \n \ny\ni\ne\nl\nd\n\n\n \n \n \n \nf\ni\nn\na\nl\nl\ny\n:\n\n\n \n \n \n \n \n \n \n \n#\n \nR\ne\nl\ne\na\ns\ne\n \nl\no\nc\nk\ns\n \ni\nn\n \nr\ne\nv\ne\nr\ns\ne\n \no\nr\nd\ne\nr\n \no\nf\n \na\nc\nq\nu\ni\ns\ni\nt\ni\no\nn\n\n\n \n \n \n \n \n \n \n \nf\no\nr\n \nl\no\nc\nk\n \ni\nn\n \nr\ne\nv\ne\nr\ns\ne\nd\n(\nl\no\nc\nk\ns\n)\n:\n\n\n \n \n \n \n \n \n \n \n \n \n \n \nl\no\nc\nk\n.\nr\ne\nl\ne\na\ns\ne\n(\n)\n\n\n \n \n \n \n \n \n \n \nd\ne\nl\n \na\nc\nq\nu\ni\nr\ne\nd\n[\n-\nl\ne\nn\n(\nl\no\nc\nk\ns\n)\n:\n]\n\n"
      ]
    },
    {
      "cell_type": "markdown",
      "metadata": {},
      "source": [
        "\u5982\u4f55\u4f7f\u7528\u8fd9\u4e2a\u4e0a\u4e0b\u6587\u7ba1\u7406\u5668\u5462\uff1f\u4f60\u53ef\u4ee5\u6309\u7167\u6b63\u5e38\u9014\u5f84\u521b\u5efa\u4e00\u4e2a\u9501\u5bf9\u8c61\uff0c\u4f46\u4e0d\u8bba\u662f\u5355\u4e2a\u9501\u8fd8\u662f\u591a\u4e2a\u9501\u4e2d\u90fd\u4f7f\u7528 acquire() \u51fd\u6570\u6765\u7533\u8bf7\u9501\uff0c\n\u793a\u4f8b\u5982\u4e0b\uff1a"
      ]
    },
    {
      "cell_type": "code",
      "execution_count": null,
      "metadata": {},
      "outputs": [],
      "source": [
        "i\nm\np\no\nr\nt\n \nt\nh\nr\ne\na\nd\ni\nn\ng\n\n\nx\n_\nl\no\nc\nk\n \n=\n \nt\nh\nr\ne\na\nd\ni\nn\ng\n.\nL\no\nc\nk\n(\n)\n\n\ny\n_\nl\no\nc\nk\n \n=\n \nt\nh\nr\ne\na\nd\ni\nn\ng\n.\nL\no\nc\nk\n(\n)\n\n\n\n\nd\ne\nf\n \nt\nh\nr\ne\na\nd\n_\n1\n(\n)\n:\n\n\n \n \n \n \nw\nh\ni\nl\ne\n \nT\nr\nu\ne\n:\n\n\n \n \n \n \n \n \n \n \nw\ni\nt\nh\n \na\nc\nq\nu\ni\nr\ne\n(\nx\n_\nl\no\nc\nk\n,\n \ny\n_\nl\no\nc\nk\n)\n:\n\n\n \n \n \n \n \n \n \n \n \n \n \n \np\nr\ni\nn\nt\n(\n'\nT\nh\nr\ne\na\nd\n-\n1\n'\n)\n\n\n\n\nd\ne\nf\n \nt\nh\nr\ne\na\nd\n_\n2\n(\n)\n:\n\n\n \n \n \n \nw\nh\ni\nl\ne\n \nT\nr\nu\ne\n:\n\n\n \n \n \n \n \n \n \n \nw\ni\nt\nh\n \na\nc\nq\nu\ni\nr\ne\n(\ny\n_\nl\no\nc\nk\n,\n \nx\n_\nl\no\nc\nk\n)\n:\n\n\n \n \n \n \n \n \n \n \n \n \n \n \np\nr\ni\nn\nt\n(\n'\nT\nh\nr\ne\na\nd\n-\n2\n'\n)\n\n\n\n\nt\n1\n \n=\n \nt\nh\nr\ne\na\nd\ni\nn\ng\n.\nT\nh\nr\ne\na\nd\n(\nt\na\nr\ng\ne\nt\n=\nt\nh\nr\ne\na\nd\n_\n1\n)\n\n\nt\n1\n.\nd\na\ne\nm\no\nn\n \n=\n \nT\nr\nu\ne\n\n\nt\n1\n.\ns\nt\na\nr\nt\n(\n)\n\n\n\n\nt\n2\n \n=\n \nt\nh\nr\ne\na\nd\ni\nn\ng\n.\nT\nh\nr\ne\na\nd\n(\nt\na\nr\ng\ne\nt\n=\nt\nh\nr\ne\na\nd\n_\n2\n)\n\n\nt\n2\n.\nd\na\ne\nm\no\nn\n \n=\n \nT\nr\nu\ne\n\n\nt\n2\n.\ns\nt\na\nr\nt\n(\n)\n\n"
      ]
    },
    {
      "cell_type": "markdown",
      "metadata": {},
      "source": [
        "\u5982\u679c\u4f60\u6267\u884c\u8fd9\u6bb5\u4ee3\u7801\uff0c\u4f60\u4f1a\u53d1\u73b0\u5b83\u5373\u4f7f\u5728\u4e0d\u540c\u7684\u51fd\u6570\u4e2d\u4ee5\u4e0d\u540c\u7684\u987a\u5e8f\u83b7\u53d6\u9501\u4e5f\u6ca1\u6709\u53d1\u751f\u6b7b\u9501\u3002\n\u5176\u5173\u952e\u5728\u4e8e\uff0c\u5728\u7b2c\u4e00\u6bb5\u4ee3\u7801\u4e2d\uff0c\u6211\u4eec\u5bf9\u8fd9\u4e9b\u9501\u8fdb\u884c\u4e86\u6392\u5e8f\u3002\u901a\u8fc7\u6392\u5e8f\uff0c\u4f7f\u5f97\u4e0d\u7ba1\u7528\u6237\u4ee5\u4ec0\u4e48\u6837\u7684\u987a\u5e8f\u6765\u8bf7\u6c42\u9501\uff0c\u8fd9\u4e9b\u9501\u90fd\u4f1a\u6309\u7167\u56fa\u5b9a\u7684\u987a\u5e8f\u88ab\u83b7\u53d6\u3002\n\u5982\u679c\u6709\u591a\u4e2a acquire() \u64cd\u4f5c\u88ab\u5d4c\u5957\u8c03\u7528\uff0c\u53ef\u4ee5\u901a\u8fc7\u7ebf\u7a0b\u672c\u5730\u5b58\u50a8\uff08TLS\uff09\u6765\u68c0\u6d4b\u6f5c\u5728\u7684\u6b7b\u9501\u95ee\u9898\u3002\n\u5047\u8bbe\u4f60\u7684\u4ee3\u7801\u662f\u8fd9\u6837\u5199\u7684\uff1a"
      ]
    },
    {
      "cell_type": "code",
      "execution_count": null,
      "metadata": {},
      "outputs": [],
      "source": [
        "i\nm\np\no\nr\nt\n \nt\nh\nr\ne\na\nd\ni\nn\ng\n\n\nx\n_\nl\no\nc\nk\n \n=\n \nt\nh\nr\ne\na\nd\ni\nn\ng\n.\nL\no\nc\nk\n(\n)\n\n\ny\n_\nl\no\nc\nk\n \n=\n \nt\nh\nr\ne\na\nd\ni\nn\ng\n.\nL\no\nc\nk\n(\n)\n\n\n\n\nd\ne\nf\n \nt\nh\nr\ne\na\nd\n_\n1\n(\n)\n:\n\n\n\n\n \n \n \n \nw\nh\ni\nl\ne\n \nT\nr\nu\ne\n:\n\n\n \n \n \n \n \n \n \n \nw\ni\nt\nh\n \na\nc\nq\nu\ni\nr\ne\n(\nx\n_\nl\no\nc\nk\n)\n:\n\n\n \n \n \n \n \n \n \n \n \n \n \n \nw\ni\nt\nh\n \na\nc\nq\nu\ni\nr\ne\n(\ny\n_\nl\no\nc\nk\n)\n:\n\n\n \n \n \n \n \n \n \n \n \n \n \n \n \n \n \n \np\nr\ni\nn\nt\n(\n'\nT\nh\nr\ne\na\nd\n-\n1\n'\n)\n\n\n\n\nd\ne\nf\n \nt\nh\nr\ne\na\nd\n_\n2\n(\n)\n:\n\n\n \n \n \n \nw\nh\ni\nl\ne\n \nT\nr\nu\ne\n:\n\n\n \n \n \n \n \n \n \n \nw\ni\nt\nh\n \na\nc\nq\nu\ni\nr\ne\n(\ny\n_\nl\no\nc\nk\n)\n:\n\n\n \n \n \n \n \n \n \n \n \n \n \n \nw\ni\nt\nh\n \na\nc\nq\nu\ni\nr\ne\n(\nx\n_\nl\no\nc\nk\n)\n:\n\n\n \n \n \n \n \n \n \n \n \n \n \n \n \n \n \n \np\nr\ni\nn\nt\n(\n'\nT\nh\nr\ne\na\nd\n-\n2\n'\n)\n\n\n\n\nt\n1\n \n=\n \nt\nh\nr\ne\na\nd\ni\nn\ng\n.\nT\nh\nr\ne\na\nd\n(\nt\na\nr\ng\ne\nt\n=\nt\nh\nr\ne\na\nd\n_\n1\n)\n\n\nt\n1\n.\nd\na\ne\nm\no\nn\n \n=\n \nT\nr\nu\ne\n\n\nt\n1\n.\ns\nt\na\nr\nt\n(\n)\n\n\n\n\nt\n2\n \n=\n \nt\nh\nr\ne\na\nd\ni\nn\ng\n.\nT\nh\nr\ne\na\nd\n(\nt\na\nr\ng\ne\nt\n=\nt\nh\nr\ne\na\nd\n_\n2\n)\n\n\nt\n2\n.\nd\na\ne\nm\no\nn\n \n=\n \nT\nr\nu\ne\n\n\nt\n2\n.\ns\nt\na\nr\nt\n(\n)\n\n"
      ]
    },
    {
      "cell_type": "markdown",
      "metadata": {},
      "source": [
        "\u5982\u679c\u4f60\u8fd0\u884c\u8fd9\u4e2a\u7248\u672c\u7684\u4ee3\u7801\uff0c\u5fc5\u5b9a\u4f1a\u6709\u4e00\u4e2a\u7ebf\u7a0b\u53d1\u751f\u5d29\u6e83\uff0c\u5f02\u5e38\u4fe1\u606f\u53ef\u80fd\u50cf\u8fd9\u6837\uff1a"
      ]
    },
    {
      "cell_type": "markdown",
      "metadata": {},
      "source": [
        "\u53d1\u751f\u5d29\u6e83\u7684\u539f\u56e0\u5728\u4e8e\uff0c\u6bcf\u4e2a\u7ebf\u7a0b\u90fd\u8bb0\u5f55\u7740\u81ea\u5df1\u5df2\u7ecf\u83b7\u53d6\u5230\u7684\u9501\u3002 acquire() \u51fd\u6570\u4f1a\u68c0\u67e5\u4e4b\u524d\u5df2\u7ecf\u83b7\u53d6\u7684\u9501\u5217\u8868\uff0c\n\u7531\u4e8e\u9501\u662f\u6309\u7167\u5347\u5e8f\u6392\u5217\u83b7\u53d6\u7684\uff0c\u6240\u4ee5\u51fd\u6570\u4f1a\u8ba4\u4e3a\u4e4b\u524d\u5df2\u83b7\u53d6\u7684\u9501\u7684id\u5fc5\u5b9a\u5c0f\u4e8e\u65b0\u7533\u8bf7\u5230\u7684\u9501\uff0c\u8fd9\u65f6\u5c31\u4f1a\u89e6\u53d1\u5f02\u5e38\u3002"
      ]
    },
    {
      "cell_type": "markdown",
      "metadata": {},
      "source": [
        "### \u8ba8\u8bba\n"
      ]
    },
    {
      "cell_type": "markdown",
      "metadata": {},
      "source": [
        "\u6b7b\u9501\u662f\u6bcf\u4e00\u4e2a\u591a\u7ebf\u7a0b\u7a0b\u5e8f\u90fd\u4f1a\u9762\u4e34\u7684\u4e00\u4e2a\u95ee\u9898\uff08\u5c31\u50cf\u5b83\u662f\u6bcf\u4e00\u672c\u64cd\u4f5c\u7cfb\u7edf\u8bfe\u672c\u7684\u5171\u540c\u8bdd\u9898\u4e00\u6837\uff09\u3002\u6839\u636e\u7ecf\u9a8c\u6765\u8bb2\uff0c\u5c3d\u53ef\u80fd\u4fdd\u8bc1\u6bcf\u4e00\u4e2a\n\u7ebf\u7a0b\u53ea\u80fd\u540c\u65f6\u4fdd\u6301\u4e00\u4e2a\u9501\uff0c\u8fd9\u6837\u7a0b\u5e8f\u5c31\u4e0d\u4f1a\u88ab\u6b7b\u9501\u95ee\u9898\u6240\u56f0\u6270\u3002\u4e00\u65e6\u6709\u7ebf\u7a0b\u540c\u65f6\u7533\u8bf7\u591a\u4e2a\u9501\uff0c\u4e00\u5207\u5c31\u4e0d\u53ef\u9884\u6599\u4e86\u3002"
      ]
    },
    {
      "cell_type": "markdown",
      "metadata": {},
      "source": [
        "\u6b7b\u9501\u7684\u68c0\u6d4b\u4e0e\u6062\u590d\u662f\u4e00\u4e2a\u51e0\u4e4e\u6ca1\u6709\u4f18\u96c5\u7684\u89e3\u51b3\u65b9\u6848\u7684\u6269\u5c55\u8bdd\u9898\u3002\u4e00\u4e2a\u6bd4\u8f83\u5e38\u7528\u7684\u6b7b\u9501\u68c0\u6d4b\u4e0e\u6062\u590d\u7684\u65b9\u6848\u662f\u5f15\u5165\u770b\u95e8\u72d7\u8ba1\u6570\u5668\u3002\u5f53\u7ebf\u7a0b\u6b63\u5e38\n\u8fd0\u884c\u7684\u65f6\u5019\u4f1a\u6bcf\u9694\u4e00\u6bb5\u65f6\u95f4\u91cd\u7f6e\u8ba1\u6570\u5668\uff0c\u5728\u6ca1\u6709\u53d1\u751f\u6b7b\u9501\u7684\u60c5\u51b5\u4e0b\uff0c\u4e00\u5207\u90fd\u6b63\u5e38\u8fdb\u884c\u3002\u4e00\u65e6\u53d1\u751f\u6b7b\u9501\uff0c\u7531\u4e8e\u65e0\u6cd5\u91cd\u7f6e\u8ba1\u6570\u5668\u5bfc\u81f4\u5b9a\u65f6\u5668\n\u8d85\u65f6\uff0c\u8fd9\u65f6\u7a0b\u5e8f\u4f1a\u901a\u8fc7\u91cd\u542f\u81ea\u8eab\u6062\u590d\u5230\u6b63\u5e38\u72b6\u6001\u3002"
      ]
    },
    {
      "cell_type": "markdown",
      "metadata": {},
      "source": [
        "\u907f\u514d\u6b7b\u9501\u662f\u53e6\u5916\u4e00\u79cd\u89e3\u51b3\u6b7b\u9501\u95ee\u9898\u7684\u65b9\u5f0f\uff0c\u5728\u8fdb\u7a0b\u83b7\u53d6\u9501\u7684\u65f6\u5019\u4f1a\u4e25\u683c\u6309\u7167\u5bf9\u8c61id\u5347\u5e8f\u6392\u5217\u83b7\u53d6\uff0c\u7ecf\u8fc7\u6570\u5b66\u8bc1\u660e\uff0c\u8fd9\u6837\u4fdd\u8bc1\u7a0b\u5e8f\u4e0d\u4f1a\u8fdb\u5165\n\u6b7b\u9501\u72b6\u6001\u3002\u8bc1\u660e\u5c31\u7559\u7ed9\u8bfb\u8005\u4f5c\u4e3a\u7ec3\u4e60\u4e86\u3002\u907f\u514d\u6b7b\u9501\u7684\u4e3b\u8981\u601d\u60f3\u662f\uff0c\u5355\u7eaf\u5730\u6309\u7167\u5bf9\u8c61id\u9012\u589e\u7684\u987a\u5e8f\u52a0\u9501\u4e0d\u4f1a\u4ea7\u751f\u5faa\u73af\u4f9d\u8d56\uff0c\u800c\u5faa\u73af\u4f9d\u8d56\u662f\n\u6b7b\u9501\u7684\u4e00\u4e2a\u5fc5\u8981\u6761\u4ef6\uff0c\u4ece\u800c\u907f\u514d\u7a0b\u5e8f\u8fdb\u5165\u6b7b\u9501\u72b6\u6001\u3002"
      ]
    },
    {
      "cell_type": "markdown",
      "metadata": {},
      "source": [
        "\u4e0b\u9762\u4ee5\u4e00\u4e2a\u5173\u4e8e\u7ebf\u7a0b\u6b7b\u9501\u7684\u7ecf\u5178\u95ee\u9898\uff1a\u201c\u54f2\u5b66\u5bb6\u5c31\u9910\u95ee\u9898\u201d\uff0c\u4f5c\u4e3a\u672c\u8282\u6700\u540e\u4e00\u4e2a\u4f8b\u5b50\u3002\u9898\u76ee\u662f\u8fd9\u6837\u7684\uff1a\u4e94\u4f4d\u54f2\u5b66\u5bb6\u56f4\u5750\u5728\u4e00\u5f20\u684c\u5b50\u524d\uff0c\u6bcf\u4e2a\u4eba\n\u9762\u524d\u6709\u4e00\u7897\u996d\u548c\u4e00\u53ea\u7b77\u5b50\u3002\u5728\u8fd9\u91cc\u6bcf\u4e2a\u54f2\u5b66\u5bb6\u53ef\u4ee5\u770b\u505a\u662f\u4e00\u4e2a\u72ec\u7acb\u7684\u7ebf\u7a0b\uff0c\u800c\u6bcf\u53ea\u7b77\u5b50\u53ef\u4ee5\u770b\u505a\u662f\u4e00\u4e2a\u9501\u3002\u6bcf\u4e2a\u54f2\u5b66\u5bb6\u53ef\u4ee5\u5904\u5728\u9759\u5750\u3001\n\u601d\u8003\u3001\u5403\u996d\u4e09\u79cd\u72b6\u6001\u4e2d\u7684\u4e00\u4e2a\u3002\u9700\u8981\u6ce8\u610f\u7684\u662f\uff0c\u6bcf\u4e2a\u54f2\u5b66\u5bb6\u5403\u996d\u662f\u9700\u8981\u4e24\u53ea\u7b77\u5b50\u7684\uff0c\u8fd9\u6837\u95ee\u9898\u5c31\u6765\u4e86\uff1a\u5982\u679c\u6bcf\u4e2a\u54f2\u5b66\u5bb6\u90fd\u62ff\u8d77\u81ea\u5df1\u5de6\u8fb9\u7684\u7b77\u5b50\uff0c\n\u90a3\u4e48\u4ed6\u4eec\u4e94\u4e2a\u90fd\u53ea\u80fd\u62ff\u7740\u4e00\u53ea\u7b77\u5b50\u5750\u5728\u90a3\u513f\uff0c\u76f4\u5230\u997f\u6b7b\u3002\u6b64\u65f6\u4ed6\u4eec\u5c31\u8fdb\u5165\u4e86\u6b7b\u9501\u72b6\u6001\u3002\n\u4e0b\u9762\u662f\u4e00\u4e2a\u7b80\u5355\u7684\u4f7f\u7528\u6b7b\u9501\u907f\u514d\u673a\u5236\u89e3\u51b3\u201c\u54f2\u5b66\u5bb6\u5c31\u9910\u95ee\u9898\u201d\u7684\u5b9e\u73b0\uff1a"
      ]
    },
    {
      "cell_type": "code",
      "execution_count": null,
      "metadata": {},
      "outputs": [],
      "source": [
        "i\nm\np\no\nr\nt\n \nt\nh\nr\ne\na\nd\ni\nn\ng\n\n\n\n\n#\n \nT\nh\ne\n \np\nh\ni\nl\no\ns\no\np\nh\ne\nr\n \nt\nh\nr\ne\na\nd\n\n\nd\ne\nf\n \np\nh\ni\nl\no\ns\no\np\nh\ne\nr\n(\nl\ne\nf\nt\n,\n \nr\ni\ng\nh\nt\n)\n:\n\n\n \n \n \n \nw\nh\ni\nl\ne\n \nT\nr\nu\ne\n:\n\n\n \n \n \n \n \n \n \n \nw\ni\nt\nh\n \na\nc\nq\nu\ni\nr\ne\n(\nl\ne\nf\nt\n,\nr\ni\ng\nh\nt\n)\n:\n\n\n \n \n \n \n \n \n \n \n \n \n \n \n \np\nr\ni\nn\nt\n(\nt\nh\nr\ne\na\nd\ni\nn\ng\n.\nc\nu\nr\nr\ne\nn\nt\nT\nh\nr\ne\na\nd\n(\n)\n,\n \n'\ne\na\nt\ni\nn\ng\n'\n)\n\n\n\n\n#\n \nT\nh\ne\n \nc\nh\no\np\ns\nt\ni\nc\nk\ns\n \n(\nr\ne\np\nr\ne\ns\ne\nn\nt\ne\nd\n \nb\ny\n \nl\no\nc\nk\ns\n)\n\n\nN\nS\nT\nI\nC\nK\nS\n \n=\n \n5\n\n\nc\nh\no\np\ns\nt\ni\nc\nk\ns\n \n=\n \n[\nt\nh\nr\ne\na\nd\ni\nn\ng\n.\nL\no\nc\nk\n(\n)\n \nf\no\nr\n \nn\n \ni\nn\n \nr\na\nn\ng\ne\n(\nN\nS\nT\nI\nC\nK\nS\n)\n]\n\n\n\n\n#\n \nC\nr\ne\na\nt\ne\n \na\nl\nl\n \no\nf\n \nt\nh\ne\n \np\nh\ni\nl\no\ns\no\np\nh\ne\nr\ns\n\n\nf\no\nr\n \nn\n \ni\nn\n \nr\na\nn\ng\ne\n(\nN\nS\nT\nI\nC\nK\nS\n)\n:\n\n\n \n \n \n \nt\n \n=\n \nt\nh\nr\ne\na\nd\ni\nn\ng\n.\nT\nh\nr\ne\na\nd\n(\nt\na\nr\ng\ne\nt\n=\np\nh\ni\nl\no\ns\no\np\nh\ne\nr\n,\n\n\n \n \n \n \n \n \n \n \n \n \n \n \n \n \n \n \n \n \n \n \n \n \n \n \n \na\nr\ng\ns\n=\n(\nc\nh\no\np\ns\nt\ni\nc\nk\ns\n[\nn\n]\n,\nc\nh\no\np\ns\nt\ni\nc\nk\ns\n[\n(\nn\n+\n1\n)\n \n%\n \nN\nS\nT\nI\nC\nK\nS\n]\n)\n)\n\n\n \n \n \n \nt\n.\ns\nt\na\nr\nt\n(\n)\n\n"
      ]
    },
    {
      "cell_type": "markdown",
      "metadata": {},
      "source": [
        "\u6700\u540e\uff0c\u8981\u7279\u522b\u6ce8\u610f\u5230\uff0c\u4e3a\u4e86\u907f\u514d\u6b7b\u9501\uff0c\u6240\u6709\u7684\u52a0\u9501\u64cd\u4f5c\u5fc5\u987b\u4f7f\u7528 acquire() \u51fd\u6570\u3002\u5982\u679c\u4ee3\u7801\u4e2d\u7684\u67d0\u90e8\u5206\u7ed5\u8fc7acquire\n\u51fd\u6570\u76f4\u63a5\u7533\u8bf7\u9501\uff0c\u90a3\u4e48\u6574\u4e2a\u6b7b\u9501\u907f\u514d\u673a\u5236\u5c31\u4e0d\u8d77\u4f5c\u7528\u4e86\u3002"
      ]
    },
    {
      "cell_type": "markdown",
      "metadata": {},
      "source": [
        "## 12.6 \u4fdd\u5b58\u7ebf\u7a0b\u7684\u72b6\u6001\u4fe1\u606f\n"
      ]
    },
    {
      "cell_type": "markdown",
      "metadata": {},
      "source": [
        "### \u95ee\u9898\n"
      ]
    },
    {
      "cell_type": "markdown",
      "metadata": {},
      "source": [
        "\u4f60\u9700\u8981\u4fdd\u5b58\u6b63\u5728\u8fd0\u884c\u7ebf\u7a0b\u7684\u72b6\u6001\uff0c\u8fd9\u4e2a\u72b6\u6001\u5bf9\u4e8e\u5176\u4ed6\u7684\u7ebf\u7a0b\u662f\u4e0d\u53ef\u89c1\u7684\u3002"
      ]
    },
    {
      "cell_type": "markdown",
      "metadata": {},
      "source": [
        "### \u89e3\u51b3\u65b9\u6848\n"
      ]
    },
    {
      "cell_type": "markdown",
      "metadata": {},
      "source": [
        "\u6709\u65f6\u5728\u591a\u7ebf\u7a0b\u7f16\u7a0b\u4e2d\uff0c\u4f60\u9700\u8981\u53ea\u4fdd\u5b58\u5f53\u524d\u8fd0\u884c\u7ebf\u7a0b\u7684\u72b6\u6001\u3002\n\u8981\u8fd9\u4e48\u505a\uff0c\u53ef\u4f7f\u7528 thread.local() \u521b\u5efa\u4e00\u4e2a\u672c\u5730\u7ebf\u7a0b\u5b58\u50a8\u5bf9\u8c61\u3002\n\u5bf9\u8fd9\u4e2a\u5bf9\u8c61\u7684\u5c5e\u6027\u7684\u4fdd\u5b58\u548c\u8bfb\u53d6\u64cd\u4f5c\u90fd\u53ea\u4f1a\u5bf9\u6267\u884c\u7ebf\u7a0b\u53ef\u89c1\uff0c\u800c\u5176\u4ed6\u7ebf\u7a0b\u5e76\u4e0d\u53ef\u89c1\u3002"
      ]
    },
    {
      "cell_type": "markdown",
      "metadata": {},
      "source": [
        "\u4f5c\u4e3a\u4f7f\u7528\u672c\u5730\u5b58\u50a8\u7684\u4e00\u4e2a\u6709\u8da3\u7684\u5b9e\u9645\u4f8b\u5b50\uff0c\n\u8003\u8651\u57288.3\u5c0f\u8282\u5b9a\u4e49\u8fc7\u7684 LazyConnection \u4e0a\u4e0b\u6587\u7ba1\u7406\u5668\u7c7b\u3002\n\u4e0b\u9762\u6211\u4eec\u5bf9\u5b83\u8fdb\u884c\u4e00\u4e9b\u5c0f\u7684\u4fee\u6539\u4f7f\u5f97\u5b83\u53ef\u4ee5\u9002\u7528\u4e8e\u591a\u7ebf\u7a0b\uff1a"
      ]
    },
    {
      "cell_type": "code",
      "execution_count": null,
      "metadata": {},
      "outputs": [],
      "source": [
        "f\nr\no\nm\n \ns\no\nc\nk\ne\nt\n \ni\nm\np\no\nr\nt\n \ns\no\nc\nk\ne\nt\n,\n \nA\nF\n_\nI\nN\nE\nT\n,\n \nS\nO\nC\nK\n_\nS\nT\nR\nE\nA\nM\n\n\ni\nm\np\no\nr\nt\n \nt\nh\nr\ne\na\nd\ni\nn\ng\n\n\n\n\nc\nl\na\ns\ns\n \nL\na\nz\ny\nC\no\nn\nn\ne\nc\nt\ni\no\nn\n:\n\n\n \n \n \n \nd\ne\nf\n \n_\n_\ni\nn\ni\nt\n_\n_\n(\ns\ne\nl\nf\n,\n \na\nd\nd\nr\ne\ns\ns\n,\n \nf\na\nm\ni\nl\ny\n=\nA\nF\n_\nI\nN\nE\nT\n,\n \nt\ny\np\ne\n=\nS\nO\nC\nK\n_\nS\nT\nR\nE\nA\nM\n)\n:\n\n\n \n \n \n \n \n \n \n \ns\ne\nl\nf\n.\na\nd\nd\nr\ne\ns\ns\n \n=\n \na\nd\nd\nr\ne\ns\ns\n\n\n \n \n \n \n \n \n \n \ns\ne\nl\nf\n.\nf\na\nm\ni\nl\ny\n \n=\n \nA\nF\n_\nI\nN\nE\nT\n\n\n \n \n \n \n \n \n \n \ns\ne\nl\nf\n.\nt\ny\np\ne\n \n=\n \nS\nO\nC\nK\n_\nS\nT\nR\nE\nA\nM\n\n\n \n \n \n \n \n \n \n \ns\ne\nl\nf\n.\nl\no\nc\na\nl\n \n=\n \nt\nh\nr\ne\na\nd\ni\nn\ng\n.\nl\no\nc\na\nl\n(\n)\n\n\n\n\n \n \n \n \nd\ne\nf\n \n_\n_\ne\nn\nt\ne\nr\n_\n_\n(\ns\ne\nl\nf\n)\n:\n\n\n \n \n \n \n \n \n \n \ni\nf\n \nh\na\ns\na\nt\nt\nr\n(\ns\ne\nl\nf\n.\nl\no\nc\na\nl\n,\n \n'\ns\no\nc\nk\n'\n)\n:\n\n\n \n \n \n \n \n \n \n \n \n \n \n \nr\na\ni\ns\ne\n \nR\nu\nn\nt\ni\nm\ne\nE\nr\nr\no\nr\n(\n'\nA\nl\nr\ne\na\nd\ny\n \nc\no\nn\nn\ne\nc\nt\ne\nd\n'\n)\n\n\n \n \n \n \n \n \n \n \ns\ne\nl\nf\n.\nl\no\nc\na\nl\n.\ns\no\nc\nk\n \n=\n \ns\no\nc\nk\ne\nt\n(\ns\ne\nl\nf\n.\nf\na\nm\ni\nl\ny\n,\n \ns\ne\nl\nf\n.\nt\ny\np\ne\n)\n\n\n \n \n \n \n \n \n \n \ns\ne\nl\nf\n.\nl\no\nc\na\nl\n.\ns\no\nc\nk\n.\nc\no\nn\nn\ne\nc\nt\n(\ns\ne\nl\nf\n.\na\nd\nd\nr\ne\ns\ns\n)\n\n\n \n \n \n \n \n \n \n \nr\ne\nt\nu\nr\nn\n \ns\ne\nl\nf\n.\nl\no\nc\na\nl\n.\ns\no\nc\nk\n\n\n\n\n \n \n \n \nd\ne\nf\n \n_\n_\ne\nx\ni\nt\n_\n_\n(\ns\ne\nl\nf\n,\n \ne\nx\nc\n_\nt\ny\n,\n \ne\nx\nc\n_\nv\na\nl\n,\n \nt\nb\n)\n:\n\n\n \n \n \n \n \n \n \n \ns\ne\nl\nf\n.\nl\no\nc\na\nl\n.\ns\no\nc\nk\n.\nc\nl\no\ns\ne\n(\n)\n\n\n \n \n \n \n \n \n \n \nd\ne\nl\n \ns\ne\nl\nf\n.\nl\no\nc\na\nl\n.\ns\no\nc\nk\n\n"
      ]
    },
    {
      "cell_type": "markdown",
      "metadata": {},
      "source": [
        "\u4ee3\u7801\u4e2d\uff0c\u81ea\u5df1\u89c2\u5bdf\u5bf9\u4e8e self.local \u5c5e\u6027\u7684\u4f7f\u7528\u3002\n\u5b83\u88ab\u521d\u59cb\u5316\u4e3a\u4e00\u4e2a threading.local() \u5b9e\u4f8b\u3002\n\u5176\u4ed6\u65b9\u6cd5\u64cd\u4f5c\u88ab\u5b58\u50a8\u4e3a self.local.sock \u7684\u5957\u63a5\u5b57\u5bf9\u8c61\u3002\n\u6709\u4e86\u8fd9\u4e9b\u5c31\u53ef\u4ee5\u5728\u591a\u7ebf\u7a0b\u4e2d\u5b89\u5168\u7684\u4f7f\u7528 LazyConnection \u5b9e\u4f8b\u4e86\u3002\u4f8b\u5982\uff1a"
      ]
    },
    {
      "cell_type": "code",
      "execution_count": null,
      "metadata": {},
      "outputs": [],
      "source": [
        "f\nr\no\nm\n \nf\nu\nn\nc\nt\no\no\nl\ns\n \ni\nm\np\no\nr\nt\n \np\na\nr\nt\ni\na\nl\n\n\nd\ne\nf\n \nt\ne\ns\nt\n(\nc\no\nn\nn\n)\n:\n\n\n \n \n \n \nw\ni\nt\nh\n \nc\no\nn\nn\n \na\ns\n \ns\n:\n\n\n \n \n \n \n \n \n \n \ns\n.\ns\ne\nn\nd\n(\nb\n'\nG\nE\nT\n \n/\ni\nn\nd\ne\nx\n.\nh\nt\nm\nl\n \nH\nT\nT\nP\n/\n1\n.\n0\n\\\nr\n\\\nn\n'\n)\n\n\n \n \n \n \n \n \n \n \ns\n.\ns\ne\nn\nd\n(\nb\n'\nH\no\ns\nt\n:\n \nw\nw\nw\n.\np\ny\nt\nh\no\nn\n.\no\nr\ng\n\\\nr\n\\\nn\n'\n)\n\n\n\n\n \n \n \n \n \n \n \n \ns\n.\ns\ne\nn\nd\n(\nb\n'\n\\\nr\n\\\nn\n'\n)\n\n\n \n \n \n \n \n \n \n \nr\ne\ns\np\n \n=\n \nb\n'\n'\n.\nj\no\ni\nn\n(\ni\nt\ne\nr\n(\np\na\nr\nt\ni\na\nl\n(\ns\n.\nr\ne\nc\nv\n,\n \n8\n1\n9\n2\n)\n,\n \nb\n'\n'\n)\n)\n\n\n\n\n \n \n \n \np\nr\ni\nn\nt\n(\n'\nG\no\nt\n \n{\n}\n \nb\ny\nt\ne\ns\n'\n.\nf\no\nr\nm\na\nt\n(\nl\ne\nn\n(\nr\ne\ns\np\n)\n)\n)\n\n\n\n\ni\nf\n \n_\n_\nn\na\nm\ne\n_\n_\n \n=\n=\n \n'\n_\n_\nm\na\ni\nn\n_\n_\n'\n:\n\n\n \n \n \n \nc\no\nn\nn\n \n=\n \nL\na\nz\ny\nC\no\nn\nn\ne\nc\nt\ni\no\nn\n(\n(\n'\nw\nw\nw\n.\np\ny\nt\nh\no\nn\n.\no\nr\ng\n'\n,\n \n8\n0\n)\n)\n\n\n\n\n \n \n \n \nt\n1\n \n=\n \nt\nh\nr\ne\na\nd\ni\nn\ng\n.\nT\nh\nr\ne\na\nd\n(\nt\na\nr\ng\ne\nt\n=\nt\ne\ns\nt\n,\n \na\nr\ng\ns\n=\n(\nc\no\nn\nn\n,\n)\n)\n\n\n \n \n \n \nt\n2\n \n=\n \nt\nh\nr\ne\na\nd\ni\nn\ng\n.\nT\nh\nr\ne\na\nd\n(\nt\na\nr\ng\ne\nt\n=\nt\ne\ns\nt\n,\n \na\nr\ng\ns\n=\n(\nc\no\nn\nn\n,\n)\n)\n\n\n \n \n \n \nt\n1\n.\ns\nt\na\nr\nt\n(\n)\n\n\n \n \n \n \nt\n2\n.\ns\nt\na\nr\nt\n(\n)\n\n\n \n \n \n \nt\n1\n.\nj\no\ni\nn\n(\n)\n\n\n \n \n \n \nt\n2\n.\nj\no\ni\nn\n(\n)\n\n"
      ]
    },
    {
      "cell_type": "markdown",
      "metadata": {},
      "source": [
        "\u5b83\u4e4b\u6240\u4ee5\u884c\u5f97\u901a\u7684\u539f\u56e0\u662f\u6bcf\u4e2a\u7ebf\u7a0b\u4f1a\u521b\u5efa\u4e00\u4e2a\u81ea\u5df1\u4e13\u5c5e\u7684\u5957\u63a5\u5b57\u8fde\u63a5\uff08\u5b58\u50a8\u4e3aself.local.sock\uff09\u3002\n\u56e0\u6b64\uff0c\u5f53\u4e0d\u540c\u7684\u7ebf\u7a0b\u6267\u884c\u5957\u63a5\u5b57\u64cd\u4f5c\u65f6\uff0c\u7531\u4e8e\u64cd\u4f5c\u7684\u662f\u4e0d\u540c\u7684\u5957\u63a5\u5b57\uff0c\u56e0\u6b64\u5b83\u4eec\u4e0d\u4f1a\u76f8\u4e92\u5f71\u54cd\u3002"
      ]
    },
    {
      "cell_type": "markdown",
      "metadata": {},
      "source": [
        "### \u8ba8\u8bba\n"
      ]
    },
    {
      "cell_type": "markdown",
      "metadata": {},
      "source": [
        "\u5728\u5927\u90e8\u5206\u7a0b\u5e8f\u4e2d\u521b\u5efa\u548c\u64cd\u4f5c\u7ebf\u7a0b\u7279\u5b9a\u72b6\u6001\u5e76\u4e0d\u4f1a\u6709\u4ec0\u4e48\u95ee\u9898\u3002\n\u4e0d\u8fc7\uff0c\u5f53\u51fa\u4e86\u95ee\u9898\u7684\u65f6\u5019\uff0c\u901a\u5e38\u662f\u56e0\u4e3a\u67d0\u4e2a\u5bf9\u8c61\u88ab\u591a\u4e2a\u7ebf\u7a0b\u4f7f\u7528\u5230\uff0c\u7528\u6765\u64cd\u4f5c\u4e00\u4e9b\u4e13\u7528\u7684\u7cfb\u7edf\u8d44\u6e90\uff0c\n\u6bd4\u5982\u4e00\u4e2a\u5957\u63a5\u5b57\u6216\u6587\u4ef6\u3002\u4f60\u4e0d\u80fd\u8ba9\u6240\u6709\u7ebf\u7a0b\u5171\u4eab\u4e00\u4e2a\u5355\u72ec\u5bf9\u8c61\uff0c\n\u56e0\u4e3a\u591a\u4e2a\u7ebf\u7a0b\u540c\u65f6\u8bfb\u548c\u5199\u7684\u65f6\u5019\u4f1a\u4ea7\u751f\u6df7\u4e71\u3002\n\u672c\u5730\u7ebf\u7a0b\u5b58\u50a8\u901a\u8fc7\u8ba9\u8fd9\u4e9b\u8d44\u6e90\u53ea\u80fd\u5728\u88ab\u4f7f\u7528\u7684\u7ebf\u7a0b\u4e2d\u53ef\u89c1\u6765\u89e3\u51b3\u8fd9\u4e2a\u95ee\u9898\u3002"
      ]
    },
    {
      "cell_type": "markdown",
      "metadata": {},
      "source": [
        "\u672c\u8282\u4e2d\uff0c\u4f7f\u7528 thread.local() \u53ef\u4ee5\u8ba9 LazyConnection \u7c7b\u652f\u6301\u4e00\u4e2a\u7ebf\u7a0b\u4e00\u4e2a\u8fde\u63a5\uff0c\n\u800c\u4e0d\u662f\u5bf9\u4e8e\u6240\u6709\u7684\u8fdb\u7a0b\u90fd\u53ea\u6709\u4e00\u4e2a\u8fde\u63a5\u3002"
      ]
    },
    {
      "cell_type": "markdown",
      "metadata": {},
      "source": [
        "\u5176\u539f\u7406\u662f\uff0c\u6bcf\u4e2a threading.local() \u5b9e\u4f8b\u4e3a\u6bcf\u4e2a\u7ebf\u7a0b\u7ef4\u62a4\u7740\u4e00\u4e2a\u5355\u72ec\u7684\u5b9e\u4f8b\u5b57\u5178\u3002\n\u6240\u6709\u666e\u901a\u5b9e\u4f8b\u64cd\u4f5c\u6bd4\u5982\u83b7\u53d6\u3001\u4fee\u6539\u548c\u5220\u9664\u503c\u4ec5\u4ec5\u64cd\u4f5c\u8fd9\u4e2a\u5b57\u5178\u3002\n\u6bcf\u4e2a\u7ebf\u7a0b\u4f7f\u7528\u4e00\u4e2a\u72ec\u7acb\u7684\u5b57\u5178\u5c31\u53ef\u4ee5\u4fdd\u8bc1\u6570\u636e\u7684\u9694\u79bb\u4e86\u3002"
      ]
    },
    {
      "cell_type": "markdown",
      "metadata": {},
      "source": [
        "## 12.7 \u521b\u5efa\u4e00\u4e2a\u7ebf\u7a0b\u6c60\n"
      ]
    },
    {
      "cell_type": "markdown",
      "metadata": {},
      "source": [
        "### \u95ee\u9898\n"
      ]
    },
    {
      "cell_type": "markdown",
      "metadata": {},
      "source": [
        "\u4f60\u521b\u5efa\u4e00\u4e2a\u5de5\u4f5c\u8005\u7ebf\u7a0b\u6c60\uff0c\u7528\u6765\u54cd\u5e94\u5ba2\u6237\u7aef\u8bf7\u6c42\u6216\u6267\u884c\u5176\u4ed6\u7684\u5de5\u4f5c\u3002"
      ]
    },
    {
      "cell_type": "markdown",
      "metadata": {},
      "source": [
        "### \u89e3\u51b3\u65b9\u6848\n"
      ]
    },
    {
      "cell_type": "markdown",
      "metadata": {},
      "source": [
        "concurrent.futures \u51fd\u6570\u5e93\u6709\u4e00\u4e2a ThreadPoolExecutor \u7c7b\u53ef\u4ee5\u88ab\u7528\u6765\u5b8c\u6210\u8fd9\u4e2a\u4efb\u52a1\u3002\n\u4e0b\u9762\u662f\u4e00\u4e2a\u7b80\u5355\u7684TCP\u670d\u52a1\u5668\uff0c\u4f7f\u7528\u4e86\u4e00\u4e2a\u7ebf\u7a0b\u6c60\u6765\u54cd\u5e94\u5ba2\u6237\u7aef\uff1a"
      ]
    },
    {
      "cell_type": "code",
      "execution_count": null,
      "metadata": {},
      "outputs": [],
      "source": [
        "f\nr\no\nm\n \ns\no\nc\nk\ne\nt\n \ni\nm\np\no\nr\nt\n \nA\nF\n_\nI\nN\nE\nT\n,\n \nS\nO\nC\nK\n_\nS\nT\nR\nE\nA\nM\n,\n \ns\no\nc\nk\ne\nt\n\n\nf\nr\no\nm\n \nc\no\nn\nc\nu\nr\nr\ne\nn\nt\n.\nf\nu\nt\nu\nr\ne\ns\n \ni\nm\np\no\nr\nt\n \nT\nh\nr\ne\na\nd\nP\no\no\nl\nE\nx\ne\nc\nu\nt\no\nr\n\n\n\n\nd\ne\nf\n \ne\nc\nh\no\n_\nc\nl\ni\ne\nn\nt\n(\ns\no\nc\nk\n,\n \nc\nl\ni\ne\nn\nt\n_\na\nd\nd\nr\n)\n:\n\n\n \n \n \n \n'\n'\n'\n\n\n \n \n \n \nH\na\nn\nd\nl\ne\n \na\n \nc\nl\ni\ne\nn\nt\n \nc\no\nn\nn\ne\nc\nt\ni\no\nn\n\n\n \n \n \n \n'\n'\n'\n\n\n \n \n \n \np\nr\ni\nn\nt\n(\n'\nG\no\nt\n \nc\no\nn\nn\ne\nc\nt\ni\no\nn\n \nf\nr\no\nm\n'\n,\n \nc\nl\ni\ne\nn\nt\n_\na\nd\nd\nr\n)\n\n\n \n \n \n \nw\nh\ni\nl\ne\n \nT\nr\nu\ne\n:\n\n\n \n \n \n \n \n \n \n \nm\ns\ng\n \n=\n \ns\no\nc\nk\n.\nr\ne\nc\nv\n(\n6\n5\n5\n3\n6\n)\n\n\n \n \n \n \n \n \n \n \ni\nf\n \nn\no\nt\n \nm\ns\ng\n:\n\n\n \n \n \n \n \n \n \n \n \n \n \n \nb\nr\ne\na\nk\n\n\n \n \n \n \n \n \n \n \ns\no\nc\nk\n.\ns\ne\nn\nd\na\nl\nl\n(\nm\ns\ng\n)\n\n\n \n \n \n \np\nr\ni\nn\nt\n(\n'\nC\nl\ni\ne\nn\nt\n \nc\nl\no\ns\ne\nd\n \nc\no\nn\nn\ne\nc\nt\ni\no\nn\n'\n)\n\n\n \n \n \n \ns\no\nc\nk\n.\nc\nl\no\ns\ne\n(\n)\n\n\n\n\nd\ne\nf\n \ne\nc\nh\no\n_\ns\ne\nr\nv\ne\nr\n(\na\nd\nd\nr\n)\n:\n\n\n \n \n \n \np\no\no\nl\n \n=\n \nT\nh\nr\ne\na\nd\nP\no\no\nl\nE\nx\ne\nc\nu\nt\no\nr\n(\n1\n2\n8\n)\n\n\n \n \n \n \ns\no\nc\nk\n \n=\n \ns\no\nc\nk\ne\nt\n(\nA\nF\n_\nI\nN\nE\nT\n,\n \nS\nO\nC\nK\n_\nS\nT\nR\nE\nA\nM\n)\n\n\n \n \n \n \ns\no\nc\nk\n.\nb\ni\nn\nd\n(\na\nd\nd\nr\n)\n\n\n \n \n \n \ns\no\nc\nk\n.\nl\ni\ns\nt\ne\nn\n(\n5\n)\n\n\n \n \n \n \nw\nh\ni\nl\ne\n \nT\nr\nu\ne\n:\n\n\n \n \n \n \n \n \n \n \nc\nl\ni\ne\nn\nt\n_\ns\no\nc\nk\n,\n \nc\nl\ni\ne\nn\nt\n_\na\nd\nd\nr\n \n=\n \ns\no\nc\nk\n.\na\nc\nc\ne\np\nt\n(\n)\n\n\n \n \n \n \n \n \n \n \np\no\no\nl\n.\ns\nu\nb\nm\ni\nt\n(\ne\nc\nh\no\n_\nc\nl\ni\ne\nn\nt\n,\n \nc\nl\ni\ne\nn\nt\n_\ns\no\nc\nk\n,\n \nc\nl\ni\ne\nn\nt\n_\na\nd\nd\nr\n)\n\n\n\n\ne\nc\nh\no\n_\ns\ne\nr\nv\ne\nr\n(\n(\n'\n'\n,\n1\n5\n0\n0\n0\n)\n)\n\n"
      ]
    },
    {
      "cell_type": "markdown",
      "metadata": {},
      "source": [
        "\u5982\u679c\u4f60\u60f3\u624b\u52a8\u521b\u5efa\u4f60\u81ea\u5df1\u7684\u7ebf\u7a0b\u6c60\uff0c\n\u901a\u5e38\u53ef\u4ee5\u4f7f\u7528\u4e00\u4e2aQueue\u6765\u8f7b\u677e\u5b9e\u73b0\u3002\u4e0b\u9762\u662f\u4e00\u4e2a\u7a0d\u5fae\u4e0d\u540c\u4f46\u662f\u624b\u52a8\u5b9e\u73b0\u7684\u4f8b\u5b50\uff1a"
      ]
    },
    {
      "cell_type": "code",
      "execution_count": null,
      "metadata": {},
      "outputs": [],
      "source": [
        "f\nr\no\nm\n \ns\no\nc\nk\ne\nt\n \ni\nm\np\no\nr\nt\n \ns\no\nc\nk\ne\nt\n,\n \nA\nF\n_\nI\nN\nE\nT\n,\n \nS\nO\nC\nK\n_\nS\nT\nR\nE\nA\nM\n\n\nf\nr\no\nm\n \nt\nh\nr\ne\na\nd\ni\nn\ng\n \ni\nm\np\no\nr\nt\n \nT\nh\nr\ne\na\nd\n\n\nf\nr\no\nm\n \nq\nu\ne\nu\ne\n \ni\nm\np\no\nr\nt\n \nQ\nu\ne\nu\ne\n\n\n\n\nd\ne\nf\n \ne\nc\nh\no\n_\nc\nl\ni\ne\nn\nt\n(\nq\n)\n:\n\n\n \n \n \n \n'\n'\n'\n\n\n \n \n \n \nH\na\nn\nd\nl\ne\n \na\n \nc\nl\ni\ne\nn\nt\n \nc\no\nn\nn\ne\nc\nt\ni\no\nn\n\n\n \n \n \n \n'\n'\n'\n\n\n \n \n \n \ns\no\nc\nk\n,\n \nc\nl\ni\ne\nn\nt\n_\na\nd\nd\nr\n \n=\n \nq\n.\ng\ne\nt\n(\n)\n\n\n \n \n \n \np\nr\ni\nn\nt\n(\n'\nG\no\nt\n \nc\no\nn\nn\ne\nc\nt\ni\no\nn\n \nf\nr\no\nm\n'\n,\n \nc\nl\ni\ne\nn\nt\n_\na\nd\nd\nr\n)\n\n\n \n \n \n \nw\nh\ni\nl\ne\n \nT\nr\nu\ne\n:\n\n\n \n \n \n \n \n \n \n \nm\ns\ng\n \n=\n \ns\no\nc\nk\n.\nr\ne\nc\nv\n(\n6\n5\n5\n3\n6\n)\n\n\n \n \n \n \n \n \n \n \ni\nf\n \nn\no\nt\n \nm\ns\ng\n:\n\n\n \n \n \n \n \n \n \n \n \n \n \n \nb\nr\ne\na\nk\n\n\n \n \n \n \n \n \n \n \ns\no\nc\nk\n.\ns\ne\nn\nd\na\nl\nl\n(\nm\ns\ng\n)\n\n\n \n \n \n \np\nr\ni\nn\nt\n(\n'\nC\nl\ni\ne\nn\nt\n \nc\nl\no\ns\ne\nd\n \nc\no\nn\nn\ne\nc\nt\ni\no\nn\n'\n)\n\n\n\n\n \n \n \n \ns\no\nc\nk\n.\nc\nl\no\ns\ne\n(\n)\n\n\n\n\nd\ne\nf\n \ne\nc\nh\no\n_\ns\ne\nr\nv\ne\nr\n(\na\nd\nd\nr\n,\n \nn\nw\no\nr\nk\ne\nr\ns\n)\n:\n\n\n \n \n \n \n#\n \nL\na\nu\nn\nc\nh\n \nt\nh\ne\n \nc\nl\ni\ne\nn\nt\n \nw\no\nr\nk\ne\nr\ns\n\n\n \n \n \n \nq\n \n=\n \nQ\nu\ne\nu\ne\n(\n)\n\n\n \n \n \n \nf\no\nr\n \nn\n \ni\nn\n \nr\na\nn\ng\ne\n(\nn\nw\no\nr\nk\ne\nr\ns\n)\n:\n\n\n \n \n \n \n \n \n \n \nt\n \n=\n \nT\nh\nr\ne\na\nd\n(\nt\na\nr\ng\ne\nt\n=\ne\nc\nh\no\n_\nc\nl\ni\ne\nn\nt\n,\n \na\nr\ng\ns\n=\n(\nq\n,\n)\n)\n\n\n \n \n \n \n \n \n \n \nt\n.\nd\na\ne\nm\no\nn\n \n=\n \nT\nr\nu\ne\n\n\n \n \n \n \n \n \n \n \nt\n.\ns\nt\na\nr\nt\n(\n)\n\n\n\n\n \n \n \n \n#\n \nR\nu\nn\n \nt\nh\ne\n \ns\ne\nr\nv\ne\nr\n\n\n \n \n \n \ns\no\nc\nk\n \n=\n \ns\no\nc\nk\ne\nt\n(\nA\nF\n_\nI\nN\nE\nT\n,\n \nS\nO\nC\nK\n_\nS\nT\nR\nE\nA\nM\n)\n\n\n \n \n \n \ns\no\nc\nk\n.\nb\ni\nn\nd\n(\na\nd\nd\nr\n)\n\n\n \n \n \n \ns\no\nc\nk\n.\nl\ni\ns\nt\ne\nn\n(\n5\n)\n\n\n \n \n \n \nw\nh\ni\nl\ne\n \nT\nr\nu\ne\n:\n\n\n \n \n \n \n \n \n \n \nc\nl\ni\ne\nn\nt\n_\ns\no\nc\nk\n,\n \nc\nl\ni\ne\nn\nt\n_\na\nd\nd\nr\n \n=\n \ns\no\nc\nk\n.\na\nc\nc\ne\np\nt\n(\n)\n\n\n \n \n \n \n \n \n \n \nq\n.\np\nu\nt\n(\n(\nc\nl\ni\ne\nn\nt\n_\ns\no\nc\nk\n,\n \nc\nl\ni\ne\nn\nt\n_\na\nd\nd\nr\n)\n)\n\n\n\n\ne\nc\nh\no\n_\ns\ne\nr\nv\ne\nr\n(\n(\n'\n'\n,\n1\n5\n0\n0\n0\n)\n,\n \n1\n2\n8\n)\n\n"
      ]
    },
    {
      "cell_type": "markdown",
      "metadata": {},
      "source": [
        "\u4f7f\u7528 ThreadPoolExecutor \u76f8\u5bf9\u4e8e\u624b\u52a8\u5b9e\u73b0\u7684\u4e00\u4e2a\u597d\u5904\u5728\u4e8e\u5b83\u4f7f\u5f97\n\u4efb\u52a1\u63d0\u4ea4\u8005\u66f4\u65b9\u4fbf\u7684\u4ece\u88ab\u8c03\u7528\u51fd\u6570\u4e2d\u83b7\u53d6\u8fd4\u56de\u503c\u3002\u4f8b\u5982\uff0c\u4f60\u53ef\u80fd\u4f1a\u50cf\u4e0b\u9762\u8fd9\u6837\u5199\uff1a"
      ]
    },
    {
      "cell_type": "code",
      "execution_count": null,
      "metadata": {},
      "outputs": [],
      "source": [
        "f\nr\no\nm\n \nc\no\nn\nc\nu\nr\nr\ne\nn\nt\n.\nf\nu\nt\nu\nr\ne\ns\n \ni\nm\np\no\nr\nt\n \nT\nh\nr\ne\na\nd\nP\no\no\nl\nE\nx\ne\nc\nu\nt\no\nr\n\n\ni\nm\np\no\nr\nt\n \nu\nr\nl\nl\ni\nb\n.\nr\ne\nq\nu\ne\ns\nt\n\n\n\n\nd\ne\nf\n \nf\ne\nt\nc\nh\n_\nu\nr\nl\n(\nu\nr\nl\n)\n:\n\n\n \n \n \n \nu\n \n=\n \nu\nr\nl\nl\ni\nb\n.\nr\ne\nq\nu\ne\ns\nt\n.\nu\nr\nl\no\np\ne\nn\n(\nu\nr\nl\n)\n\n\n \n \n \n \nd\na\nt\na\n \n=\n \nu\n.\nr\ne\na\nd\n(\n)\n\n\n \n \n \n \nr\ne\nt\nu\nr\nn\n \nd\na\nt\na\n\n\n\n\np\no\no\nl\n \n=\n \nT\nh\nr\ne\na\nd\nP\no\no\nl\nE\nx\ne\nc\nu\nt\no\nr\n(\n1\n0\n)\n\n\n#\n \nS\nu\nb\nm\ni\nt\n \nw\no\nr\nk\n \nt\no\n \nt\nh\ne\n \np\no\no\nl\n\n\na\n \n=\n \np\no\no\nl\n.\ns\nu\nb\nm\ni\nt\n(\nf\ne\nt\nc\nh\n_\nu\nr\nl\n,\n \n'\nh\nt\nt\np\n:\n/\n/\nw\nw\nw\n.\np\ny\nt\nh\no\nn\n.\no\nr\ng\n'\n)\n\n\nb\n \n=\n \np\no\no\nl\n.\ns\nu\nb\nm\ni\nt\n(\nf\ne\nt\nc\nh\n_\nu\nr\nl\n,\n \n'\nh\nt\nt\np\n:\n/\n/\nw\nw\nw\n.\np\ny\np\ny\n.\no\nr\ng\n'\n)\n\n\n\n\n#\n \nG\ne\nt\n \nt\nh\ne\n \nr\ne\ns\nu\nl\nt\ns\n \nb\na\nc\nk\n\n\nx\n \n=\n \na\n.\nr\ne\ns\nu\nl\nt\n(\n)\n\n\ny\n \n=\n \nb\n.\nr\ne\ns\nu\nl\nt\n(\n)\n\n"
      ]
    },
    {
      "cell_type": "markdown",
      "metadata": {},
      "source": [
        "\u4f8b\u5b50\u4e2d\u8fd4\u56de\u7684handle\u5bf9\u8c61\u4f1a\u5e2e\u4f60\u5904\u7406\u6240\u6709\u7684\u963b\u585e\u4e0e\u534f\u4f5c\uff0c\u7136\u540e\u4ece\u5de5\u4f5c\u7ebf\u7a0b\u4e2d\u8fd4\u56de\u6570\u636e\u7ed9\u4f60\u3002\n\u7279\u522b\u7684\uff0ca.result() \u64cd\u4f5c\u4f1a\u963b\u585e\u8fdb\u7a0b\u76f4\u5230\u5bf9\u5e94\u7684\u51fd\u6570\u6267\u884c\u5b8c\u6210\u5e76\u8fd4\u56de\u4e00\u4e2a\u7ed3\u679c\u3002"
      ]
    },
    {
      "cell_type": "markdown",
      "metadata": {},
      "source": [
        "### \u8ba8\u8bba\n"
      ]
    },
    {
      "cell_type": "markdown",
      "metadata": {},
      "source": [
        "\u901a\u5e38\u6765\u8bb2\uff0c\u4f60\u5e94\u8be5\u907f\u514d\u7f16\u5199\u7ebf\u7a0b\u6570\u91cf\u53ef\u4ee5\u65e0\u9650\u5236\u589e\u957f\u7684\u7a0b\u5e8f\u3002\u4f8b\u5982\uff0c\u770b\u770b\u4e0b\u9762\u8fd9\u4e2a\u670d\u52a1\u5668\uff1a"
      ]
    },
    {
      "cell_type": "code",
      "execution_count": null,
      "metadata": {},
      "outputs": [],
      "source": [
        "f\nr\no\nm\n \nt\nh\nr\ne\na\nd\ni\nn\ng\n \ni\nm\np\no\nr\nt\n \nT\nh\nr\ne\na\nd\n\n\nf\nr\no\nm\n \ns\no\nc\nk\ne\nt\n \ni\nm\np\no\nr\nt\n \ns\no\nc\nk\ne\nt\n,\n \nA\nF\n_\nI\nN\nE\nT\n,\n \nS\nO\nC\nK\n_\nS\nT\nR\nE\nA\nM\n\n\n\n\nd\ne\nf\n \ne\nc\nh\no\n_\nc\nl\ni\ne\nn\nt\n(\ns\no\nc\nk\n,\n \nc\nl\ni\ne\nn\nt\n_\na\nd\nd\nr\n)\n:\n\n\n \n \n \n \n'\n'\n'\n\n\n \n \n \n \nH\na\nn\nd\nl\ne\n \na\n \nc\nl\ni\ne\nn\nt\n \nc\no\nn\nn\ne\nc\nt\ni\no\nn\n\n\n \n \n \n \n'\n'\n'\n\n\n \n \n \n \np\nr\ni\nn\nt\n(\n'\nG\no\nt\n \nc\no\nn\nn\ne\nc\nt\ni\no\nn\n \nf\nr\no\nm\n'\n,\n \nc\nl\ni\ne\nn\nt\n_\na\nd\nd\nr\n)\n\n\n \n \n \n \nw\nh\ni\nl\ne\n \nT\nr\nu\ne\n:\n\n\n \n \n \n \n \n \n \n \nm\ns\ng\n \n=\n \ns\no\nc\nk\n.\nr\ne\nc\nv\n(\n6\n5\n5\n3\n6\n)\n\n\n \n \n \n \n \n \n \n \ni\nf\n \nn\no\nt\n \nm\ns\ng\n:\n\n\n \n \n \n \n \n \n \n \n \n \n \n \nb\nr\ne\na\nk\n\n\n \n \n \n \n \n \n \n \ns\no\nc\nk\n.\ns\ne\nn\nd\na\nl\nl\n(\nm\ns\ng\n)\n\n\n \n \n \n \np\nr\ni\nn\nt\n(\n'\nC\nl\ni\ne\nn\nt\n \nc\nl\no\ns\ne\nd\n \nc\no\nn\nn\ne\nc\nt\ni\no\nn\n'\n)\n\n\n \n \n \n \ns\no\nc\nk\n.\nc\nl\no\ns\ne\n(\n)\n\n\n\n\nd\ne\nf\n \ne\nc\nh\no\n_\ns\ne\nr\nv\ne\nr\n(\na\nd\nd\nr\n,\n \nn\nw\no\nr\nk\ne\nr\ns\n)\n:\n\n\n \n \n \n \n#\n \nR\nu\nn\n \nt\nh\ne\n \ns\ne\nr\nv\ne\nr\n\n\n \n \n \n \ns\no\nc\nk\n \n=\n \ns\no\nc\nk\ne\nt\n(\nA\nF\n_\nI\nN\nE\nT\n,\n \nS\nO\nC\nK\n_\nS\nT\nR\nE\nA\nM\n)\n\n\n \n \n \n \ns\no\nc\nk\n.\nb\ni\nn\nd\n(\na\nd\nd\nr\n)\n\n\n \n \n \n \ns\no\nc\nk\n.\nl\ni\ns\nt\ne\nn\n(\n5\n)\n\n\n \n \n \n \nw\nh\ni\nl\ne\n \nT\nr\nu\ne\n:\n\n\n \n \n \n \n \n \n \n \nc\nl\ni\ne\nn\nt\n_\ns\no\nc\nk\n,\n \nc\nl\ni\ne\nn\nt\n_\na\nd\nd\nr\n \n=\n \ns\no\nc\nk\n.\na\nc\nc\ne\np\nt\n(\n)\n\n\n \n \n \n \n \n \n \n \nt\n \n=\n \nT\nh\nr\ne\na\nd\n(\nt\na\nr\ng\ne\nt\n=\ne\nc\nh\no\n_\nc\nl\ni\ne\nn\nt\n,\n \na\nr\ng\ns\n=\n(\nc\nl\ni\ne\nn\nt\n_\ns\no\nc\nk\n,\n \nc\nl\ni\ne\nn\nt\n_\na\nd\nd\nr\n)\n)\n\n\n \n \n \n \n \n \n \n \nt\n.\nd\na\ne\nm\no\nn\n \n=\n \nT\nr\nu\ne\n\n\n \n \n \n \n \n \n \n \nt\n.\ns\nt\na\nr\nt\n(\n)\n\n\n\n\ne\nc\nh\no\n_\ns\ne\nr\nv\ne\nr\n(\n(\n'\n'\n,\n1\n5\n0\n0\n0\n)\n)\n\n"
      ]
    },
    {
      "cell_type": "markdown",
      "metadata": {},
      "source": [
        "\u5c3d\u7ba1\u8fd9\u4e2a\u4e5f\u53ef\u4ee5\u5de5\u4f5c\uff0c\n\u4f46\u662f\u5b83\u4e0d\u80fd\u62b5\u5fa1\u6709\u4eba\u8bd5\u56fe\u901a\u8fc7\u521b\u5efa\u5927\u91cf\u7ebf\u7a0b\u8ba9\u4f60\u670d\u52a1\u5668\u8d44\u6e90\u67af\u7aed\u800c\u5d29\u6e83\u7684\u653b\u51fb\u884c\u4e3a\u3002\n\u901a\u8fc7\u4f7f\u7528\u9884\u5148\u521d\u59cb\u5316\u7684\u7ebf\u7a0b\u6c60\uff0c\u4f60\u53ef\u4ee5\u8bbe\u7f6e\u540c\u65f6\u8fd0\u884c\u7ebf\u7a0b\u7684\u4e0a\u9650\u6570\u91cf\u3002"
      ]
    },
    {
      "cell_type": "markdown",
      "metadata": {},
      "source": [
        "\u4f60\u53ef\u80fd\u4f1a\u5173\u5fc3\u521b\u5efa\u5927\u91cf\u7ebf\u7a0b\u4f1a\u6709\u4ec0\u4e48\u540e\u679c\u3002\n\u73b0\u4ee3\u64cd\u4f5c\u7cfb\u7edf\u53ef\u4ee5\u5f88\u8f7b\u677e\u7684\u521b\u5efa\u51e0\u5343\u4e2a\u7ebf\u7a0b\u7684\u7ebf\u7a0b\u6c60\u3002\n\u751a\u81f3\uff0c\u540c\u65f6\u51e0\u5343\u4e2a\u7ebf\u7a0b\u7b49\u5f85\u5de5\u4f5c\u5e76\u4e0d\u4f1a\u5bf9\u5176\u4ed6\u4ee3\u7801\u4ea7\u751f\u6027\u80fd\u5f71\u54cd\u3002\n\u5f53\u7136\u4e86\uff0c\u5982\u679c\u6240\u6709\u7ebf\u7a0b\u540c\u65f6\u88ab\u5524\u9192\u5e76\u7acb\u5373\u5728CPU\u4e0a\u6267\u884c\uff0c\u90a3\u5c31\u4e0d\u540c\u4e86\u2014\u2014\u7279\u522b\u662f\u6709\u4e86\u5168\u5c40\u89e3\u91ca\u5668\u9501GIL\u3002\n\u901a\u5e38\uff0c\u4f60\u5e94\u8be5\u53ea\u5728I/O\u5904\u7406\u76f8\u5173\u4ee3\u7801\u4e2d\u4f7f\u7528\u7ebf\u7a0b\u6c60\u3002"
      ]
    },
    {
      "cell_type": "markdown",
      "metadata": {},
      "source": [
        "\u521b\u5efa\u5927\u7684\u7ebf\u7a0b\u6c60\u7684\u4e00\u4e2a\u53ef\u80fd\u9700\u8981\u5173\u6ce8\u7684\u95ee\u9898\u662f\u5185\u5b58\u7684\u4f7f\u7528\u3002\n\u4f8b\u5982\uff0c\u5982\u679c\u4f60\u5728OS X\u7cfb\u7edf\u4e0a\u9762\u521b\u5efa2000\u4e2a\u7ebf\u7a0b\uff0c\u7cfb\u7edf\u663e\u793aPython\u8fdb\u7a0b\u4f7f\u7528\u4e86\u8d85\u8fc79GB\u7684\u865a\u62df\u5185\u5b58\u3002\n\u4e0d\u8fc7\uff0c\u8fd9\u4e2a\u8ba1\u7b97\u901a\u5e38\u662f\u6709\u8bef\u5dee\u7684\u3002\u5f53\u521b\u5efa\u4e00\u4e2a\u7ebf\u7a0b\u65f6\uff0c\u64cd\u4f5c\u7cfb\u7edf\u4f1a\u9884\u7559\u4e00\u4e2a\u865a\u62df\u5185\u5b58\u533a\u57df\u6765\n\u653e\u7f6e\u7ebf\u7a0b\u7684\u6267\u884c\u6808\uff08\u901a\u5e38\u662f8MB\u5927\u5c0f\uff09\u3002\u4f46\u662f\u8fd9\u4e2a\u5185\u5b58\u53ea\u6709\u4e00\u5c0f\u7247\u6bb5\u88ab\u5b9e\u9645\u6620\u5c04\u5230\u771f\u5b9e\u5185\u5b58\u4e2d\u3002\n\u56e0\u6b64\uff0cPython\u8fdb\u7a0b\u4f7f\u7528\u5230\u7684\u771f\u5b9e\u5185\u5b58\u5176\u5b9e\u5f88\u5c0f\n\uff08\u6bd4\u5982\uff0c\u5bf9\u4e8e2000\u4e2a\u7ebf\u7a0b\u6765\u8bb2\uff0c\u53ea\u4f7f\u7528\u5230\u4e8670MB\u7684\u771f\u5b9e\u5185\u5b58\uff0c\u800c\u4e0d\u662f9GB\uff09\u3002\n\u5982\u679c\u4f60\u62c5\u5fc3\u865a\u62df\u5185\u5b58\u5927\u5c0f\uff0c\u53ef\u4ee5\u4f7f\u7528 threading.stack_size() \u51fd\u6570\u6765\u964d\u4f4e\u5b83\u3002\u4f8b\u5982\uff1a"
      ]
    },
    {
      "cell_type": "code",
      "execution_count": null,
      "metadata": {},
      "outputs": [],
      "source": [
        "i\nm\np\no\nr\nt\n \nt\nh\nr\ne\na\nd\ni\nn\ng\n\n\nt\nh\nr\ne\na\nd\ni\nn\ng\n.\ns\nt\na\nc\nk\n_\ns\ni\nz\ne\n(\n6\n5\n5\n3\n6\n)\n\n"
      ]
    },
    {
      "cell_type": "markdown",
      "metadata": {},
      "source": [
        "\u5982\u679c\u4f60\u52a0\u4e0a\u8fd9\u6761\u8bed\u53e5\u5e76\u518d\u6b21\u8fd0\u884c\u524d\u9762\u7684\u521b\u5efa2000\u4e2a\u7ebf\u7a0b\u8bd5\u9a8c\uff0c\n\u4f60\u4f1a\u53d1\u73b0Python\u8fdb\u7a0b\u53ea\u4f7f\u7528\u5230\u4e86\u5927\u6982210MB\u7684\u865a\u62df\u5185\u5b58\uff0c\u800c\u771f\u5b9e\u5185\u5b58\u4f7f\u7528\u91cf\u6ca1\u6709\u53d8\u3002\n\u6ce8\u610f\u7ebf\u7a0b\u6808\u5927\u5c0f\u5fc5\u987b\u81f3\u5c11\u4e3a32768\u5b57\u8282\uff0c\u901a\u5e38\u662f\u7cfb\u7edf\u5185\u5b58\u9875\u5927\u5c0f\uff084096\u30018192\u7b49\uff09\u7684\u6574\u6570\u500d\u3002"
      ]
    },
    {
      "cell_type": "markdown",
      "metadata": {},
      "source": [
        "## 12.8 \u7b80\u5355\u7684\u5e76\u884c\u7f16\u7a0b\n"
      ]
    },
    {
      "cell_type": "markdown",
      "metadata": {},
      "source": [
        "### \u95ee\u9898\n"
      ]
    },
    {
      "cell_type": "markdown",
      "metadata": {},
      "source": [
        "\u4f60\u6709\u4e2a\u7a0b\u5e8f\u8981\u6267\u884cCPU\u5bc6\u96c6\u578b\u5de5\u4f5c\uff0c\u4f60\u60f3\u8ba9\u4ed6\u5229\u7528\u591a\u6838CPU\u7684\u4f18\u52bf\u6765\u8fd0\u884c\u7684\u5feb\u4e00\u70b9\u3002"
      ]
    },
    {
      "cell_type": "markdown",
      "metadata": {},
      "source": [
        "### \u89e3\u51b3\u65b9\u6848\n"
      ]
    },
    {
      "cell_type": "markdown",
      "metadata": {},
      "source": [
        "concurrent.futures \u5e93\u63d0\u4f9b\u4e86\u4e00\u4e2a ProcessPoolExecutor \u7c7b\uff0c\n\u53ef\u88ab\u7528\u6765\u5728\u4e00\u4e2a\u5355\u72ec\u7684Python\u89e3\u91ca\u5668\u4e2d\u6267\u884c\u8ba1\u7b97\u5bc6\u96c6\u578b\u51fd\u6570\u3002\n\u4e0d\u8fc7\uff0c\u8981\u4f7f\u7528\u5b83\uff0c\u4f60\u9996\u5148\u8981\u6709\u4e00\u4e9b\u8ba1\u7b97\u5bc6\u96c6\u578b\u7684\u4efb\u52a1\u3002\n\u6211\u4eec\u901a\u8fc7\u4e00\u4e2a\u7b80\u5355\u800c\u5b9e\u9645\u7684\u4f8b\u5b50\u6765\u6f14\u793a\u5b83\u3002\u5047\u5b9a\u4f60\u6709\u4e2aApache web\u670d\u52a1\u5668\u65e5\u5fd7\u76ee\u5f55\u7684gzip\u538b\u7f29\u5305\uff1a"
      ]
    },
    {
      "cell_type": "code",
      "execution_count": null,
      "metadata": {},
      "outputs": [],
      "source": [
        "l\no\ng\ns\n/\n\n\n \n \n \n2\n0\n1\n2\n0\n7\n0\n1\n.\nl\no\ng\n.\ng\nz\n\n\n \n \n \n2\n0\n1\n2\n0\n7\n0\n2\n.\nl\no\ng\n.\ng\nz\n\n\n \n \n \n2\n0\n1\n2\n0\n7\n0\n3\n.\nl\no\ng\n.\ng\nz\n\n\n \n \n \n2\n0\n1\n2\n0\n7\n0\n4\n.\nl\no\ng\n.\ng\nz\n\n\n \n \n \n2\n0\n1\n2\n0\n7\n0\n5\n.\nl\no\ng\n.\ng\nz\n\n\n \n \n \n2\n0\n1\n2\n0\n7\n0\n6\n.\nl\no\ng\n.\ng\nz\n\n\n \n \n \n.\n.\n.\n\n"
      ]
    },
    {
      "cell_type": "markdown",
      "metadata": {},
      "source": [
        "\u8fdb\u4e00\u6b65\u5047\u8bbe\u6bcf\u4e2a\u65e5\u5fd7\u6587\u4ef6\u5185\u5bb9\u7c7b\u4f3c\u4e0b\u9762\u8fd9\u6837\uff1a"
      ]
    },
    {
      "cell_type": "code",
      "execution_count": null,
      "metadata": {},
      "outputs": [],
      "source": [
        "1\n2\n4\n.\n1\n1\n5\n.\n6\n.\n1\n2\n \n-\n \n-\n \n[\n1\n0\n/\nJ\nu\nl\n/\n2\n0\n1\n2\n:\n0\n0\n:\n1\n8\n:\n5\n0\n \n-\n0\n5\n0\n0\n]\n \n\"\nG\nE\nT\n \n/\nr\no\nb\no\nt\ns\n.\nt\nx\nt\n \n.\n.\n.\n\"\n \n2\n0\n0\n \n7\n1\n\n\n2\n1\n0\n.\n2\n1\n2\n.\n2\n0\n9\n.\n6\n7\n \n-\n \n-\n \n[\n1\n0\n/\nJ\nu\nl\n/\n2\n0\n1\n2\n:\n0\n0\n:\n1\n8\n:\n5\n1\n \n-\n0\n5\n0\n0\n]\n \n\"\nG\nE\nT\n \n/\np\nl\ny\n/\n \n.\n.\n.\n\"\n \n2\n0\n0\n \n1\n1\n8\n7\n5\n\n\n2\n1\n0\n.\n2\n1\n2\n.\n2\n0\n9\n.\n6\n7\n \n-\n \n-\n \n[\n1\n0\n/\nJ\nu\nl\n/\n2\n0\n1\n2\n:\n0\n0\n:\n1\n8\n:\n5\n1\n \n-\n0\n5\n0\n0\n]\n \n\"\nG\nE\nT\n \n/\nf\na\nv\ni\nc\no\nn\n.\ni\nc\no\n \n.\n.\n.\n\"\n \n4\n0\n4\n \n3\n6\n9\n\n\n6\n1\n.\n1\n3\n5\n.\n2\n1\n6\n.\n1\n0\n5\n \n-\n \n-\n \n[\n1\n0\n/\nJ\nu\nl\n/\n2\n0\n1\n2\n:\n0\n0\n:\n2\n0\n:\n0\n4\n \n-\n0\n5\n0\n0\n]\n \n\"\nG\nE\nT\n \n/\nb\nl\no\ng\n/\na\nt\no\nm\n.\nx\nm\nl\n \n.\n.\n.\n\"\n \n3\n0\n4\n \n-\n\n\n.\n.\n.\n\n"
      ]
    },
    {
      "cell_type": "markdown",
      "metadata": {},
      "source": [
        "\u4e0b\u9762\u662f\u4e00\u4e2a\u811a\u672c\uff0c\u5728\u8fd9\u4e9b\u65e5\u5fd7\u6587\u4ef6\u4e2d\u67e5\u627e\u51fa\u6240\u6709\u8bbf\u95ee\u8fc7robots.txt\u6587\u4ef6\u7684\u4e3b\u673a\uff1a"
      ]
    },
    {
      "cell_type": "code",
      "execution_count": null,
      "metadata": {},
      "outputs": [],
      "source": [
        "#\n \nf\ni\nn\nd\nr\no\nb\no\nt\ns\n.\np\ny\n\n\n\n\ni\nm\np\no\nr\nt\n \ng\nz\ni\np\n\n\ni\nm\np\no\nr\nt\n \ni\no\n\n\ni\nm\np\no\nr\nt\n \ng\nl\no\nb\n\n\n\n\nd\ne\nf\n \nf\ni\nn\nd\n_\nr\no\nb\no\nt\ns\n(\nf\ni\nl\ne\nn\na\nm\ne\n)\n:\n\n\n \n \n \n \n'\n'\n'\n\n\n \n \n \n \nF\ni\nn\nd\n \na\nl\nl\n \no\nf\n \nt\nh\ne\n \nh\no\ns\nt\ns\n \nt\nh\na\nt\n \na\nc\nc\ne\ns\ns\n \nr\no\nb\no\nt\ns\n.\nt\nx\nt\n \ni\nn\n \na\n \ns\ni\nn\ng\nl\ne\n \nl\no\ng\n \nf\ni\nl\ne\n\n\n \n \n \n \n'\n'\n'\n\n\n \n \n \n \nr\no\nb\no\nt\ns\n \n=\n \ns\ne\nt\n(\n)\n\n\n \n \n \n \nw\ni\nt\nh\n \ng\nz\ni\np\n.\no\np\ne\nn\n(\nf\ni\nl\ne\nn\na\nm\ne\n)\n \na\ns\n \nf\n:\n\n\n \n \n \n \n \n \n \n \nf\no\nr\n \nl\ni\nn\ne\n \ni\nn\n \ni\no\n.\nT\ne\nx\nt\nI\nO\nW\nr\na\np\np\ne\nr\n(\nf\n,\ne\nn\nc\no\nd\ni\nn\ng\n=\n'\na\ns\nc\ni\ni\n'\n)\n:\n\n\n \n \n \n \n \n \n \n \n \n \n \n \nf\ni\ne\nl\nd\ns\n \n=\n \nl\ni\nn\ne\n.\ns\np\nl\ni\nt\n(\n)\n\n\n \n \n \n \n \n \n \n \n \n \n \n \ni\nf\n \nf\ni\ne\nl\nd\ns\n[\n6\n]\n \n=\n=\n \n'\n/\nr\no\nb\no\nt\ns\n.\nt\nx\nt\n'\n:\n\n\n \n \n \n \n \n \n \n \n \n \n \n \n \n \n \n \nr\no\nb\no\nt\ns\n.\na\nd\nd\n(\nf\ni\ne\nl\nd\ns\n[\n0\n]\n)\n\n\n \n \n \n \nr\ne\nt\nu\nr\nn\n \nr\no\nb\no\nt\ns\n\n\n\n\nd\ne\nf\n \nf\ni\nn\nd\n_\na\nl\nl\n_\nr\no\nb\no\nt\ns\n(\nl\no\ng\nd\ni\nr\n)\n:\n\n\n \n \n \n \n'\n'\n'\n\n\n \n \n \n \nF\ni\nn\nd\n \na\nl\nl\n \nh\no\ns\nt\ns\n \na\nc\nr\no\ns\ns\n \na\nn\nd\n \ne\nn\nt\ni\nr\ne\n \ns\ne\nq\nu\ne\nn\nc\ne\n \no\nf\n \nf\ni\nl\ne\ns\n\n\n \n \n \n \n'\n'\n'\n\n\n \n \n \n \nf\ni\nl\ne\ns\n \n=\n \ng\nl\no\nb\n.\ng\nl\no\nb\n(\nl\no\ng\nd\ni\nr\n+\n'\n/\n*\n.\nl\no\ng\n.\ng\nz\n'\n)\n\n\n \n \n \n \na\nl\nl\n_\nr\no\nb\no\nt\ns\n \n=\n \ns\ne\nt\n(\n)\n\n\n \n \n \n \nf\no\nr\n \nr\no\nb\no\nt\ns\n \ni\nn\n \nm\na\np\n(\nf\ni\nn\nd\n_\nr\no\nb\no\nt\ns\n,\n \nf\ni\nl\ne\ns\n)\n:\n\n\n \n \n \n \n \n \n \n \na\nl\nl\n_\nr\no\nb\no\nt\ns\n.\nu\np\nd\na\nt\ne\n(\nr\no\nb\no\nt\ns\n)\n\n\n \n \n \n \nr\ne\nt\nu\nr\nn\n \na\nl\nl\n_\nr\no\nb\no\nt\ns\n\n\n\n\ni\nf\n \n_\n_\nn\na\nm\ne\n_\n_\n \n=\n=\n \n'\n_\n_\nm\na\ni\nn\n_\n_\n'\n:\n\n\n \n \n \n \nr\no\nb\no\nt\ns\n \n=\n \nf\ni\nn\nd\n_\na\nl\nl\n_\nr\no\nb\no\nt\ns\n(\n'\nl\no\ng\ns\n'\n)\n\n\n \n \n \n \nf\no\nr\n \ni\np\na\nd\nd\nr\n \ni\nn\n \nr\no\nb\no\nt\ns\n:\n\n\n \n \n \n \n \n \n \n \np\nr\ni\nn\nt\n(\ni\np\na\nd\nd\nr\n)\n\n"
      ]
    },
    {
      "cell_type": "markdown",
      "metadata": {},
      "source": [
        "\u524d\u9762\u7684\u7a0b\u5e8f\u4f7f\u7528\u4e86\u901a\u5e38\u7684map-reduce\u98ce\u683c\u6765\u7f16\u5199\u3002\n\u51fd\u6570 find_robots() \u5728\u4e00\u4e2a\u6587\u4ef6\u540d\u96c6\u5408\u4e0a\u505amap\u64cd\u4f5c\uff0c\u5e76\u5c06\u7ed3\u679c\u6c47\u603b\u4e3a\u4e00\u4e2a\u5355\u72ec\u7684\u7ed3\u679c\uff0c\n\u4e5f\u5c31\u662f find_all_robots() \u51fd\u6570\u4e2d\u7684 all_robots \u96c6\u5408\u3002\n\u73b0\u5728\uff0c\u5047\u8bbe\u4f60\u60f3\u8981\u4fee\u6539\u8fd9\u4e2a\u7a0b\u5e8f\u8ba9\u5b83\u4f7f\u7528\u591a\u6838CPU\u3002\n\u5f88\u7b80\u5355\u2014\u2014\u53ea\u9700\u8981\u5c06map()\u64cd\u4f5c\u66ff\u6362\u4e3a\u4e00\u4e2a concurrent.futures \u5e93\u4e2d\u751f\u6210\u7684\u7c7b\u4f3c\u64cd\u4f5c\u5373\u53ef\u3002\n\u4e0b\u9762\u662f\u4e00\u4e2a\u7b80\u5355\u4fee\u6539\u7248\u672c\uff1a"
      ]
    },
    {
      "cell_type": "code",
      "execution_count": null,
      "metadata": {},
      "outputs": [],
      "source": [
        "#\n \nf\ni\nn\nd\nr\no\nb\no\nt\ns\n.\np\ny\n\n\n\n\ni\nm\np\no\nr\nt\n \ng\nz\ni\np\n\n\ni\nm\np\no\nr\nt\n \ni\no\n\n\ni\nm\np\no\nr\nt\n \ng\nl\no\nb\n\n\nf\nr\no\nm\n \nc\no\nn\nc\nu\nr\nr\ne\nn\nt\n \ni\nm\np\no\nr\nt\n \nf\nu\nt\nu\nr\ne\ns\n\n\n\n\nd\ne\nf\n \nf\ni\nn\nd\n_\nr\no\nb\no\nt\ns\n(\nf\ni\nl\ne\nn\na\nm\ne\n)\n:\n\n\n \n \n \n \n'\n'\n'\n\n\n \n \n \n \nF\ni\nn\nd\n \na\nl\nl\n \no\nf\n \nt\nh\ne\n \nh\no\ns\nt\ns\n \nt\nh\na\nt\n \na\nc\nc\ne\ns\ns\n \nr\no\nb\no\nt\ns\n.\nt\nx\nt\n \ni\nn\n \na\n \ns\ni\nn\ng\nl\ne\n \nl\no\ng\n \nf\ni\nl\ne\n\n\n\n\n \n \n \n \n'\n'\n'\n\n\n \n \n \n \nr\no\nb\no\nt\ns\n \n=\n \ns\ne\nt\n(\n)\n\n\n \n \n \n \nw\ni\nt\nh\n \ng\nz\ni\np\n.\no\np\ne\nn\n(\nf\ni\nl\ne\nn\na\nm\ne\n)\n \na\ns\n \nf\n:\n\n\n \n \n \n \n \n \n \n \nf\no\nr\n \nl\ni\nn\ne\n \ni\nn\n \ni\no\n.\nT\ne\nx\nt\nI\nO\nW\nr\na\np\np\ne\nr\n(\nf\n,\ne\nn\nc\no\nd\ni\nn\ng\n=\n'\na\ns\nc\ni\ni\n'\n)\n:\n\n\n \n \n \n \n \n \n \n \n \n \n \n \nf\ni\ne\nl\nd\ns\n \n=\n \nl\ni\nn\ne\n.\ns\np\nl\ni\nt\n(\n)\n\n\n \n \n \n \n \n \n \n \n \n \n \n \ni\nf\n \nf\ni\ne\nl\nd\ns\n[\n6\n]\n \n=\n=\n \n'\n/\nr\no\nb\no\nt\ns\n.\nt\nx\nt\n'\n:\n\n\n \n \n \n \n \n \n \n \n \n \n \n \n \n \n \n \nr\no\nb\no\nt\ns\n.\na\nd\nd\n(\nf\ni\ne\nl\nd\ns\n[\n0\n]\n)\n\n\n \n \n \n \nr\ne\nt\nu\nr\nn\n \nr\no\nb\no\nt\ns\n\n\n\n\nd\ne\nf\n \nf\ni\nn\nd\n_\na\nl\nl\n_\nr\no\nb\no\nt\ns\n(\nl\no\ng\nd\ni\nr\n)\n:\n\n\n \n \n \n \n'\n'\n'\n\n\n \n \n \n \nF\ni\nn\nd\n \na\nl\nl\n \nh\no\ns\nt\ns\n \na\nc\nr\no\ns\ns\n \na\nn\nd\n \ne\nn\nt\ni\nr\ne\n \ns\ne\nq\nu\ne\nn\nc\ne\n \no\nf\n \nf\ni\nl\ne\ns\n\n\n \n \n \n \n'\n'\n'\n\n\n \n \n \n \nf\ni\nl\ne\ns\n \n=\n \ng\nl\no\nb\n.\ng\nl\no\nb\n(\nl\no\ng\nd\ni\nr\n+\n'\n/\n*\n.\nl\no\ng\n.\ng\nz\n'\n)\n\n\n \n \n \n \na\nl\nl\n_\nr\no\nb\no\nt\ns\n \n=\n \ns\ne\nt\n(\n)\n\n\n \n \n \n \nw\ni\nt\nh\n \nf\nu\nt\nu\nr\ne\ns\n.\nP\nr\no\nc\ne\ns\ns\nP\no\no\nl\nE\nx\ne\nc\nu\nt\no\nr\n(\n)\n \na\ns\n \np\no\no\nl\n:\n\n\n \n \n \n \n \n \n \n \nf\no\nr\n \nr\no\nb\no\nt\ns\n \ni\nn\n \np\no\no\nl\n.\nm\na\np\n(\nf\ni\nn\nd\n_\nr\no\nb\no\nt\ns\n,\n \nf\ni\nl\ne\ns\n)\n:\n\n\n \n \n \n \n \n \n \n \n \n \n \n \na\nl\nl\n_\nr\no\nb\no\nt\ns\n.\nu\np\nd\na\nt\ne\n(\nr\no\nb\no\nt\ns\n)\n\n\n \n \n \n \nr\ne\nt\nu\nr\nn\n \na\nl\nl\n_\nr\no\nb\no\nt\ns\n\n\n\n\ni\nf\n \n_\n_\nn\na\nm\ne\n_\n_\n \n=\n=\n \n'\n_\n_\nm\na\ni\nn\n_\n_\n'\n:\n\n\n \n \n \n \nr\no\nb\no\nt\ns\n \n=\n \nf\ni\nn\nd\n_\na\nl\nl\n_\nr\no\nb\no\nt\ns\n(\n'\nl\no\ng\ns\n'\n)\n\n\n \n \n \n \nf\no\nr\n \ni\np\na\nd\nd\nr\n \ni\nn\n \nr\no\nb\no\nt\ns\n:\n\n\n \n \n \n \n \n \n \n \np\nr\ni\nn\nt\n(\ni\np\na\nd\nd\nr\n)\n\n"
      ]
    },
    {
      "cell_type": "markdown",
      "metadata": {},
      "source": [
        "\u901a\u8fc7\u8fd9\u4e2a\u4fee\u6539\u540e\uff0c\u8fd0\u884c\u8fd9\u4e2a\u811a\u672c\u4ea7\u751f\u540c\u6837\u7684\u7ed3\u679c\uff0c\u4f46\u662f\u5728\u56db\u6838\u673a\u5668\u4e0a\u9762\u6bd4\u4e4b\u524d\u5feb\u4e863.5\u500d\u3002\n\u5b9e\u9645\u7684\u6027\u80fd\u4f18\u5316\u6548\u679c\u6839\u636e\u4f60\u7684\u673a\u5668CPU\u6570\u91cf\u7684\u4e0d\u540c\u800c\u4e0d\u540c\u3002"
      ]
    },
    {
      "cell_type": "markdown",
      "metadata": {},
      "source": [
        "### \u8ba8\u8bba\n"
      ]
    },
    {
      "cell_type": "markdown",
      "metadata": {},
      "source": [
        "ProcessPoolExecutor \u7684\u5178\u578b\u7528\u6cd5\u5982\u4e0b\uff1a"
      ]
    },
    {
      "cell_type": "code",
      "execution_count": null,
      "metadata": {},
      "outputs": [],
      "source": [
        "f\nr\no\nm\n \nc\no\nn\nc\nu\nr\nr\ne\nn\nt\n.\nf\nu\nt\nu\nr\ne\ns\n \ni\nm\np\no\nr\nt\n \nP\nr\no\nc\ne\ns\ns\nP\no\no\nl\nE\nx\ne\nc\nu\nt\no\nr\n\n\n\n\nw\ni\nt\nh\n \nP\nr\no\nc\ne\ns\ns\nP\no\no\nl\nE\nx\ne\nc\nu\nt\no\nr\n(\n)\n \na\ns\n \np\no\no\nl\n:\n\n\n \n \n \n \n.\n.\n.\n\n\n \n \n \n \nd\no\n \nw\no\nr\nk\n \ni\nn\n \np\na\nr\na\nl\nl\ne\nl\n \nu\ns\ni\nn\ng\n \np\no\no\nl\n\n\n \n \n \n \n.\n.\n.\n\n"
      ]
    },
    {
      "cell_type": "markdown",
      "metadata": {},
      "source": [
        "\u5176\u539f\u7406\u662f\uff0c\u4e00\u4e2a ProcessPoolExecutor \u521b\u5efaN\u4e2a\u72ec\u7acb\u7684Python\u89e3\u91ca\u5668\uff0c\nN\u662f\u7cfb\u7edf\u4e0a\u9762\u53ef\u7528CPU\u7684\u4e2a\u6570\u3002\u4f60\u53ef\u4ee5\u901a\u8fc7\u63d0\u4f9b\u53ef\u9009\u53c2\u6570\u7ed9 ProcessPoolExecutor(N) \u6765\u4fee\u6539\n\u5904\u7406\u5668\u6570\u91cf\u3002\u8fd9\u4e2a\u5904\u7406\u6c60\u4f1a\u4e00\u76f4\u8fd0\u884c\u5230with\u5757\u4e2d\u6700\u540e\u4e00\u4e2a\u8bed\u53e5\u6267\u884c\u5b8c\u6210\uff0c\n\u7136\u540e\u5904\u7406\u6c60\u88ab\u5173\u95ed\u3002\u4e0d\u8fc7\uff0c\u7a0b\u5e8f\u4f1a\u4e00\u76f4\u7b49\u5f85\u76f4\u5230\u6240\u6709\u63d0\u4ea4\u7684\u5de5\u4f5c\u88ab\u5904\u7406\u5b8c\u6210\u3002"
      ]
    },
    {
      "cell_type": "markdown",
      "metadata": {},
      "source": [
        "\u88ab\u63d0\u4ea4\u5230\u6c60\u4e2d\u7684\u5de5\u4f5c\u5fc5\u987b\u88ab\u5b9a\u4e49\u4e3a\u4e00\u4e2a\u51fd\u6570\u3002\u6709\u4e24\u79cd\u65b9\u6cd5\u53bb\u63d0\u4ea4\u3002\n\u5982\u679c\u4f60\u60f3\u8ba9\u4e00\u4e2a\u5217\u8868\u63a8\u5bfc\u6216\u4e00\u4e2a map() \u64cd\u4f5c\u5e76\u884c\u6267\u884c\u7684\u8bdd\uff0c\u53ef\u4f7f\u7528 pool.map() :"
      ]
    },
    {
      "cell_type": "code",
      "execution_count": null,
      "metadata": {},
      "outputs": [],
      "source": [
        "#\n \nA\n \nf\nu\nn\nc\nt\ni\no\nn\n \nt\nh\na\nt\n \np\ne\nr\nf\no\nr\nm\ns\n \na\n \nl\no\nt\n \no\nf\n \nw\no\nr\nk\n\n\nd\ne\nf\n \nw\no\nr\nk\n(\nx\n)\n:\n\n\n \n \n \n \n.\n.\n.\n\n\n \n \n \n \nr\ne\nt\nu\nr\nn\n \nr\ne\ns\nu\nl\nt\n\n\n\n\n#\n \nN\no\nn\np\na\nr\na\nl\nl\ne\nl\n \nc\no\nd\ne\n\n\nr\ne\ns\nu\nl\nt\ns\n \n=\n \nm\na\np\n(\nw\no\nr\nk\n,\n \nd\na\nt\na\n)\n\n\n\n\n#\n \nP\na\nr\na\nl\nl\ne\nl\n \ni\nm\np\nl\ne\nm\ne\nn\nt\na\nt\ni\no\nn\n\n\nw\ni\nt\nh\n \nP\nr\no\nc\ne\ns\ns\nP\no\no\nl\nE\nx\ne\nc\nu\nt\no\nr\n(\n)\n \na\ns\n \np\no\no\nl\n:\n\n\n \n \n \n \nr\ne\ns\nu\nl\nt\ns\n \n=\n \np\no\no\nl\n.\nm\na\np\n(\nw\no\nr\nk\n,\n \nd\na\nt\na\n)\n\n"
      ]
    },
    {
      "cell_type": "markdown",
      "metadata": {},
      "source": [
        "\u53e6\u5916\uff0c\u4f60\u53ef\u4ee5\u4f7f\u7528 pool.submit() \u6765\u624b\u52a8\u7684\u63d0\u4ea4\u5355\u4e2a\u4efb\u52a1\uff1a"
      ]
    },
    {
      "cell_type": "code",
      "execution_count": null,
      "metadata": {},
      "outputs": [],
      "source": [
        "#\n \nS\no\nm\ne\n \nf\nu\nn\nc\nt\ni\no\nn\n\n\nd\ne\nf\n \nw\no\nr\nk\n(\nx\n)\n:\n\n\n \n \n \n \n.\n.\n.\n\n\n \n \n \n \nr\ne\nt\nu\nr\nn\n \nr\ne\ns\nu\nl\nt\n\n\n\n\nw\ni\nt\nh\n \nP\nr\no\nc\ne\ns\ns\nP\no\no\nl\nE\nx\ne\nc\nu\nt\no\nr\n(\n)\n \na\ns\n \np\no\no\nl\n:\n\n\n \n \n \n \n.\n.\n.\n\n\n \n \n \n \n#\n \nE\nx\na\nm\np\nl\ne\n \no\nf\n \ns\nu\nb\nm\ni\nt\nt\ni\nn\ng\n \nw\no\nr\nk\n \nt\no\n \nt\nh\ne\n \np\no\no\nl\n\n\n \n \n \n \nf\nu\nt\nu\nr\ne\n_\nr\ne\ns\nu\nl\nt\n \n=\n \np\no\no\nl\n.\ns\nu\nb\nm\ni\nt\n(\nw\no\nr\nk\n,\n \na\nr\ng\n)\n\n\n\n\n \n \n \n \n#\n \nO\nb\nt\na\ni\nn\ni\nn\ng\n \nt\nh\ne\n \nr\ne\ns\nu\nl\nt\n \n(\nb\nl\no\nc\nk\ns\n \nu\nn\nt\ni\nl\n \nd\no\nn\ne\n)\n\n\n \n \n \n \nr\n \n=\n \nf\nu\nt\nu\nr\ne\n_\nr\ne\ns\nu\nl\nt\n.\nr\ne\ns\nu\nl\nt\n(\n)\n\n\n \n \n \n \n.\n.\n.\n\n"
      ]
    },
    {
      "cell_type": "markdown",
      "metadata": {},
      "source": [
        "\u5982\u679c\u4f60\u624b\u52a8\u63d0\u4ea4\u4e00\u4e2a\u4efb\u52a1\uff0c\u7ed3\u679c\u662f\u4e00\u4e2a Future \u5b9e\u4f8b\u3002\n\u8981\u83b7\u53d6\u6700\u7ec8\u7ed3\u679c\uff0c\u4f60\u9700\u8981\u8c03\u7528\u5b83\u7684 result() \u65b9\u6cd5\u3002\n\u5b83\u4f1a\u963b\u585e\u8fdb\u7a0b\u76f4\u5230\u7ed3\u679c\u88ab\u8fd4\u56de\u6765\u3002"
      ]
    },
    {
      "cell_type": "markdown",
      "metadata": {},
      "source": [
        "\u5982\u679c\u4e0d\u60f3\u963b\u585e\uff0c\u4f60\u8fd8\u53ef\u4ee5\u4f7f\u7528\u4e00\u4e2a\u56de\u8c03\u51fd\u6570\uff0c\u4f8b\u5982\uff1a"
      ]
    },
    {
      "cell_type": "code",
      "execution_count": null,
      "metadata": {},
      "outputs": [],
      "source": [
        "d\ne\nf\n \nw\nh\ne\nn\n_\nd\no\nn\ne\n(\nr\n)\n:\n\n\n \n \n \n \np\nr\ni\nn\nt\n(\n'\nG\no\nt\n:\n'\n,\n \nr\n.\nr\ne\ns\nu\nl\nt\n(\n)\n)\n\n\n\n\nw\ni\nt\nh\n \nP\nr\no\nc\ne\ns\ns\nP\no\no\nl\nE\nx\ne\nc\nu\nt\no\nr\n(\n)\n \na\ns\n \np\no\no\nl\n:\n\n\n \n \n \n \n \nf\nu\nt\nu\nr\ne\n_\nr\ne\ns\nu\nl\nt\n \n=\n \np\no\no\nl\n.\ns\nu\nb\nm\ni\nt\n(\nw\no\nr\nk\n,\n \na\nr\ng\n)\n\n\n \n \n \n \n \nf\nu\nt\nu\nr\ne\n_\nr\ne\ns\nu\nl\nt\n.\na\nd\nd\n_\nd\no\nn\ne\n_\nc\na\nl\nl\nb\na\nc\nk\n(\nw\nh\ne\nn\n_\nd\no\nn\ne\n)\n\n"
      ]
    },
    {
      "cell_type": "markdown",
      "metadata": {},
      "source": [
        "\u56de\u8c03\u51fd\u6570\u63a5\u53d7\u4e00\u4e2a Future \u5b9e\u4f8b\uff0c\u88ab\u7528\u6765\u83b7\u53d6\u6700\u7ec8\u7684\u7ed3\u679c\uff08\u6bd4\u5982\u901a\u8fc7\u8c03\u7528\u5b83\u7684result()\u65b9\u6cd5\uff09\u3002\n\u5c3d\u7ba1\u5904\u7406\u6c60\u5f88\u5bb9\u6613\u4f7f\u7528\uff0c\u5728\u8bbe\u8ba1\u5927\u7a0b\u5e8f\u7684\u65f6\u5019\u8fd8\u662f\u6709\u5f88\u591a\u9700\u8981\u6ce8\u610f\u7684\u5730\u65b9\uff0c\u5982\u4e0b\u51e0\u70b9\uff1a"
      ]
    },
    {
      "cell_type": "markdown",
      "metadata": {},
      "source": [
        "\u4e00\u65e6\u542f\u52a8\u4f60\u4e0d\u80fd\u63a7\u5236\u5b50\u8fdb\u7a0b\u7684\u4efb\u4f55\u884c\u4e3a\uff0c\u56e0\u6b64\u6700\u597d\u4fdd\u6301\u7b80\u5355\u548c\u7eaf\u6d01\u2014\u2014\u51fd\u6570\u4e0d\u8981\u53bb\u4fee\u6539\u73af\u5883\u3002"
      ]
    },
    {
      "cell_type": "markdown",
      "metadata": {},
      "source": [
        "\u5b83\u4f1a\u514b\u9686Python\u89e3\u91ca\u5668\uff0c\u5305\u62ecfork\u65f6\u7684\u6240\u6709\u7a0b\u5e8f\u72b6\u6001\u3002\n\u800c\u5728Windows\u4e0a\uff0c\u514b\u9686\u89e3\u91ca\u5668\u65f6\u4e0d\u4f1a\u514b\u9686\u72b6\u6001\u3002\n\u5b9e\u9645\u7684fork\u64cd\u4f5c\u4f1a\u5728\u7b2c\u4e00\u6b21\u8c03\u7528 pool.map() \u6216 pool.submit() \u540e\u53d1\u751f\u3002"
      ]
    },
    {
      "cell_type": "markdown",
      "metadata": {},
      "source": [
        "\u4f60\u5e94\u8be5\u5728\u521b\u5efa\u4efb\u4f55\u7ebf\u7a0b\u4e4b\u524d\u5148\u521b\u5efa\u5e76\u6fc0\u6d3b\u8fdb\u7a0b\u6c60\uff08\u6bd4\u5982\u5728\u7a0b\u5e8f\u542f\u52a8\u7684main\u7ebf\u7a0b\u4e2d\u521b\u5efa\u8fdb\u7a0b\u6c60\uff09\u3002"
      ]
    },
    {
      "cell_type": "markdown",
      "metadata": {},
      "source": [
        "## 12.9 Python\u7684\u5168\u5c40\u9501\u95ee\u9898\n"
      ]
    },
    {
      "cell_type": "markdown",
      "metadata": {},
      "source": [
        "### \u95ee\u9898\n"
      ]
    },
    {
      "cell_type": "markdown",
      "metadata": {},
      "source": [
        "\u4f60\u5df2\u7ecf\u542c\u8bf4\u8fc7\u5168\u5c40\u89e3\u91ca\u5668\u9501GIL\uff0c\u62c5\u5fc3\u5b83\u4f1a\u5f71\u54cd\u5230\u591a\u7ebf\u7a0b\u7a0b\u5e8f\u7684\u6267\u884c\u6027\u80fd\u3002"
      ]
    },
    {
      "cell_type": "markdown",
      "metadata": {},
      "source": [
        "### \u89e3\u51b3\u65b9\u6848\n"
      ]
    },
    {
      "cell_type": "markdown",
      "metadata": {},
      "source": [
        "\u5c3d\u7ba1Python\u5b8c\u5168\u652f\u6301\u591a\u7ebf\u7a0b\u7f16\u7a0b\uff0c\n\u4f46\u662f\u89e3\u91ca\u5668\u7684C\u8bed\u8a00\u5b9e\u73b0\u90e8\u5206\u5728\u5b8c\u5168\u5e76\u884c\u6267\u884c\u65f6\u5e76\u4e0d\u662f\u7ebf\u7a0b\u5b89\u5168\u7684\u3002\n\u5b9e\u9645\u4e0a\uff0c\u89e3\u91ca\u5668\u88ab\u4e00\u4e2a\u5168\u5c40\u89e3\u91ca\u5668\u9501\u4fdd\u62a4\u7740\uff0c\u5b83\u786e\u4fdd\u4efb\u4f55\u65f6\u5019\u90fd\u53ea\u6709\u4e00\u4e2aPython\u7ebf\u7a0b\u6267\u884c\u3002\nGIL\u6700\u5927\u7684\u95ee\u9898\u5c31\u662fPython\u7684\u591a\u7ebf\u7a0b\u7a0b\u5e8f\u5e76\u4e0d\u80fd\u5229\u7528\u591a\u6838CPU\u7684\u4f18\u52bf\n\uff08\u6bd4\u5982\u4e00\u4e2a\u4f7f\u7528\u4e86\u591a\u4e2a\u7ebf\u7a0b\u7684\u8ba1\u7b97\u5bc6\u96c6\u578b\u7a0b\u5e8f\u53ea\u4f1a\u5728\u4e00\u4e2a\u5355CPU\u4e0a\u9762\u8fd0\u884c\uff09\u3002"
      ]
    },
    {
      "cell_type": "markdown",
      "metadata": {},
      "source": [
        "\u5728\u8ba8\u8bba\u666e\u901a\u7684GIL\u4e4b\u524d\uff0c\u6709\u4e00\u70b9\u8981\u5f3a\u8c03\u7684\u662fGIL\u53ea\u4f1a\u5f71\u54cd\u5230\u90a3\u4e9b\u4e25\u91cd\u4f9d\u8d56CPU\u7684\u7a0b\u5e8f\uff08\u6bd4\u5982\u8ba1\u7b97\u578b\u7684\uff09\u3002\n\u5982\u679c\u4f60\u7684\u7a0b\u5e8f\u5927\u90e8\u5206\u53ea\u4f1a\u6d89\u53ca\u5230I/O\uff0c\u6bd4\u5982\u7f51\u7edc\u4ea4\u4e92\uff0c\u90a3\u4e48\u4f7f\u7528\u591a\u7ebf\u7a0b\u5c31\u5f88\u5408\u9002\uff0c\n\u56e0\u4e3a\u5b83\u4eec\u5927\u90e8\u5206\u65f6\u95f4\u90fd\u5728\u7b49\u5f85\u3002\u5b9e\u9645\u4e0a\uff0c\u4f60\u5b8c\u5168\u53ef\u4ee5\u653e\u5fc3\u7684\u521b\u5efa\u51e0\u5343\u4e2aPython\u7ebf\u7a0b\uff0c\n\u73b0\u4ee3\u64cd\u4f5c\u7cfb\u7edf\u8fd0\u884c\u8fd9\u4e48\u591a\u7ebf\u7a0b\u6ca1\u6709\u4efb\u4f55\u538b\u529b\uff0c\u6ca1\u5565\u53ef\u62c5\u5fc3\u7684\u3002"
      ]
    },
    {
      "cell_type": "markdown",
      "metadata": {},
      "source": [
        "\u800c\u5bf9\u4e8e\u4f9d\u8d56CPU\u7684\u7a0b\u5e8f\uff0c\u4f60\u9700\u8981\u5f04\u6e05\u695a\u6267\u884c\u7684\u8ba1\u7b97\u7684\u7279\u70b9\u3002\n\u4f8b\u5982\uff0c\u4f18\u5316\u5e95\u5c42\u7b97\u6cd5\u8981\u6bd4\u4f7f\u7528\u591a\u7ebf\u7a0b\u8fd0\u884c\u5feb\u5f97\u591a\u3002\n\u7c7b\u4f3c\u7684\uff0c\u7531\u4e8ePython\u662f\u89e3\u91ca\u6267\u884c\u7684\uff0c\u5982\u679c\u4f60\u5c06\u90a3\u4e9b\u6027\u80fd\u74f6\u9888\u4ee3\u7801\u79fb\u5230\u4e00\u4e2aC\u8bed\u8a00\u6269\u5c55\u6a21\u5757\u4e2d\uff0c\n\u901f\u5ea6\u4e5f\u4f1a\u63d0\u5347\u7684\u5f88\u5feb\u3002\u5982\u679c\u4f60\u8981\u64cd\u4f5c\u6570\u7ec4\uff0c\u90a3\u4e48\u4f7f\u7528NumPy\u8fd9\u6837\u7684\u6269\u5c55\u4f1a\u975e\u5e38\u7684\u9ad8\u6548\u3002\n\u6700\u540e\uff0c\u4f60\u8fd8\u53ef\u4ee5\u8003\u8651\u4e0b\u5176\u4ed6\u53ef\u9009\u5b9e\u73b0\u65b9\u6848\uff0c\u6bd4\u5982PyPy\uff0c\u5b83\u901a\u8fc7\u4e00\u4e2aJIT\u7f16\u8bd1\u5668\u6765\u4f18\u5316\u6267\u884c\u6548\u7387\n\uff08\u4e0d\u8fc7\u5728\u5199\u8fd9\u672c\u4e66\u7684\u65f6\u5019\u5b83\u8fd8\u4e0d\u80fd\u652f\u6301Python 3\uff09\u3002"
      ]
    },
    {
      "cell_type": "markdown",
      "metadata": {},
      "source": [
        "\u8fd8\u6709\u4e00\u70b9\u8981\u6ce8\u610f\u7684\u662f\uff0c\u7ebf\u7a0b\u4e0d\u662f\u4e13\u95e8\u7528\u6765\u4f18\u5316\u6027\u80fd\u7684\u3002\n\u4e00\u4e2aCPU\u4f9d\u8d56\u578b\u7a0b\u5e8f\u53ef\u80fd\u4f1a\u4f7f\u7528\u7ebf\u7a0b\u6765\u7ba1\u7406\u4e00\u4e2a\u56fe\u5f62\u7528\u6237\u754c\u9762\u3001\u4e00\u4e2a\u7f51\u7edc\u8fde\u63a5\u6216\u5176\u4ed6\u670d\u52a1\u3002\n\u8fd9\u65f6\u5019\uff0cGIL\u4f1a\u4ea7\u751f\u4e00\u4e9b\u95ee\u9898\uff0c\u56e0\u4e3a\u5982\u679c\u4e00\u4e2a\u7ebf\u7a0b\u957f\u671f\u6301\u6709GIL\u7684\u8bdd\u4f1a\u5bfc\u81f4\u5176\u4ed6\u975eCPU\u578b\u7ebf\u7a0b\u4e00\u76f4\u7b49\u5f85\u3002\n\u4e8b\u5b9e\u4e0a\uff0c\u4e00\u4e2a\u5199\u7684\u4e0d\u597d\u7684C\u8bed\u8a00\u6269\u5c55\u4f1a\u5bfc\u81f4\u8fd9\u4e2a\u95ee\u9898\u66f4\u52a0\u4e25\u91cd\uff0c\n\u5c3d\u7ba1\u4ee3\u7801\u7684\u8ba1\u7b97\u90e8\u5206\u4f1a\u6bd4\u4e4b\u524d\u8fd0\u884c\u7684\u66f4\u5feb\u4e9b\u3002"
      ]
    },
    {
      "cell_type": "markdown",
      "metadata": {},
      "source": [
        "\u8bf4\u4e86\u8fd9\u4e48\u591a\uff0c\u73b0\u5728\u60f3\u8bf4\u7684\u662f\u6211\u4eec\u6709\u4e24\u79cd\u7b56\u7565\u6765\u89e3\u51b3GIL\u7684\u7f3a\u70b9\u3002\n\u9996\u5148\uff0c\u5982\u679c\u4f60\u5b8c\u5168\u5de5\u4f5c\u4e8ePython\u73af\u5883\u4e2d\uff0c\u4f60\u53ef\u4ee5\u4f7f\u7528 multiprocessing \u6a21\u5757\u6765\u521b\u5efa\u4e00\u4e2a\u8fdb\u7a0b\u6c60\uff0c\n\u5e76\u50cf\u534f\u540c\u5904\u7406\u5668\u4e00\u6837\u7684\u4f7f\u7528\u5b83\u3002\u4f8b\u5982\uff0c\u5047\u5982\u4f60\u6709\u5982\u4e0b\u7684\u7ebf\u7a0b\u4ee3\u7801\uff1a"
      ]
    },
    {
      "cell_type": "code",
      "execution_count": null,
      "metadata": {},
      "outputs": [],
      "source": [
        "#\n \nP\ne\nr\nf\no\nr\nm\ns\n \na\n \nl\na\nr\ng\ne\n \nc\na\nl\nc\nu\nl\na\nt\ni\no\nn\n \n(\nC\nP\nU\n \nb\no\nu\nn\nd\n)\n\n\nd\ne\nf\n \ns\no\nm\ne\n_\nw\no\nr\nk\n(\na\nr\ng\ns\n)\n:\n\n\n \n \n \n \n.\n.\n.\n\n\n \n \n \n \nr\ne\nt\nu\nr\nn\n \nr\ne\ns\nu\nl\nt\n\n\n\n\n#\n \nA\n \nt\nh\nr\ne\na\nd\n \nt\nh\na\nt\n \nc\na\nl\nl\ns\n \nt\nh\ne\n \na\nb\no\nv\ne\n \nf\nu\nn\nc\nt\ni\no\nn\n\n\nd\ne\nf\n \ns\no\nm\ne\n_\nt\nh\nr\ne\na\nd\n(\n)\n:\n\n\n \n \n \n \nw\nh\ni\nl\ne\n \nT\nr\nu\ne\n:\n\n\n \n \n \n \n \n \n \n \n.\n.\n.\n\n\n \n \n \n \n \n \n \n \nr\n \n=\n \ns\no\nm\ne\n_\nw\no\nr\nk\n(\na\nr\ng\ns\n)\n\n\n \n \n \n \n.\n.\n.\n\n"
      ]
    },
    {
      "cell_type": "markdown",
      "metadata": {},
      "source": [
        "\u4fee\u6539\u4ee3\u7801\uff0c\u4f7f\u7528\u8fdb\u7a0b\u6c60\uff1a"
      ]
    },
    {
      "cell_type": "code",
      "execution_count": null,
      "metadata": {},
      "outputs": [],
      "source": [
        "#\n \nP\nr\no\nc\ne\ns\ns\ni\nn\ng\n \np\no\no\nl\n \n(\ns\ne\ne\n \nb\ne\nl\no\nw\n \nf\no\nr\n \ni\nn\ni\nt\ni\na\nz\na\nt\ni\no\nn\n)\n\n\np\no\no\nl\n \n=\n \nN\no\nn\ne\n\n\n\n\n#\n \nP\ne\nr\nf\no\nr\nm\ns\n \na\n \nl\na\nr\ng\ne\n \nc\na\nl\nc\nu\nl\na\nt\ni\no\nn\n \n(\nC\nP\nU\n \nb\no\nu\nn\nd\n)\n\n\nd\ne\nf\n \ns\no\nm\ne\n_\nw\no\nr\nk\n(\na\nr\ng\ns\n)\n:\n\n\n \n \n \n \n.\n.\n.\n\n\n \n \n \n \nr\ne\nt\nu\nr\nn\n \nr\ne\ns\nu\nl\nt\n\n\n\n\n#\n \nA\n \nt\nh\nr\ne\na\nd\n \nt\nh\na\nt\n \nc\na\nl\nl\ns\n \nt\nh\ne\n \na\nb\no\nv\ne\n \nf\nu\nn\nc\nt\ni\no\nn\n\n\nd\ne\nf\n \ns\no\nm\ne\n_\nt\nh\nr\ne\na\nd\n(\n)\n:\n\n\n \n \n \n \nw\nh\ni\nl\ne\n \nT\nr\nu\ne\n:\n\n\n \n \n \n \n \n \n \n \n.\n.\n.\n\n\n \n \n \n \n \n \n \n \nr\n \n=\n \np\no\no\nl\n.\na\np\np\nl\ny\n(\ns\no\nm\ne\n_\nw\no\nr\nk\n,\n \n(\na\nr\ng\ns\n)\n)\n\n\n \n \n \n \n \n \n \n \n.\n.\n.\n\n\n\n\n#\n \nI\nn\ni\nt\ni\na\nz\ne\n \nt\nh\ne\n \np\no\no\nl\n\n\ni\nf\n \n_\n_\nn\na\nm\ne\n_\n_\n \n=\n=\n \n'\n_\n_\nm\na\ni\nn\n_\n_\n'\n:\n\n\n \n \n \n \ni\nm\np\no\nr\nt\n \nm\nu\nl\nt\ni\np\nr\no\nc\ne\ns\ns\ni\nn\ng\n\n\n \n \n \n \np\no\no\nl\n \n=\n \nm\nu\nl\nt\ni\np\nr\no\nc\ne\ns\ns\ni\nn\ng\n.\nP\no\no\nl\n(\n)\n\n"
      ]
    },
    {
      "cell_type": "markdown",
      "metadata": {},
      "source": [
        "\u8fd9\u4e2a\u901a\u8fc7\u4f7f\u7528\u4e00\u4e2a\u6280\u5de7\u5229\u7528\u8fdb\u7a0b\u6c60\u89e3\u51b3\u4e86GIL\u7684\u95ee\u9898\u3002\n\u5f53\u4e00\u4e2a\u7ebf\u7a0b\u60f3\u8981\u6267\u884cCPU\u5bc6\u96c6\u578b\u5de5\u4f5c\u65f6\uff0c\u4f1a\u5c06\u4efb\u52a1\u53d1\u7ed9\u8fdb\u7a0b\u6c60\u3002\n\u7136\u540e\u8fdb\u7a0b\u6c60\u4f1a\u5728\u53e6\u5916\u4e00\u4e2a\u8fdb\u7a0b\u4e2d\u542f\u52a8\u4e00\u4e2a\u5355\u72ec\u7684Python\u89e3\u91ca\u5668\u6765\u5de5\u4f5c\u3002\n\u5f53\u7ebf\u7a0b\u7b49\u5f85\u7ed3\u679c\u7684\u65f6\u5019\u4f1a\u91ca\u653eGIL\u3002\n\u5e76\u4e14\uff0c\u7531\u4e8e\u8ba1\u7b97\u4efb\u52a1\u5728\u5355\u72ec\u89e3\u91ca\u5668\u4e2d\u6267\u884c\uff0c\u90a3\u4e48\u5c31\u4e0d\u4f1a\u53d7\u9650\u4e8eGIL\u4e86\u3002\n\u5728\u4e00\u4e2a\u591a\u6838\u7cfb\u7edf\u4e0a\u9762\uff0c\u4f60\u4f1a\u53d1\u73b0\u8fd9\u4e2a\u6280\u672f\u53ef\u4ee5\u8ba9\u4f60\u5f88\u597d\u7684\u5229\u7528\u591aCPU\u7684\u4f18\u52bf\u3002"
      ]
    },
    {
      "cell_type": "markdown",
      "metadata": {},
      "source": [
        "\u53e6\u5916\u4e00\u4e2a\u89e3\u51b3GIL\u7684\u7b56\u7565\u662f\u4f7f\u7528C\u6269\u5c55\u7f16\u7a0b\u6280\u672f\u3002\n\u4e3b\u8981\u601d\u60f3\u662f\u5c06\u8ba1\u7b97\u5bc6\u96c6\u578b\u4efb\u52a1\u8f6c\u79fb\u7ed9C\uff0c\u8ddfPython\u72ec\u7acb\uff0c\u5728\u5de5\u4f5c\u7684\u65f6\u5019\u5728C\u4ee3\u7801\u4e2d\u91ca\u653eGIL\u3002\n\u8fd9\u53ef\u4ee5\u901a\u8fc7\u5728C\u4ee3\u7801\u4e2d\u63d2\u5165\u4e0b\u9762\u8fd9\u6837\u7684\u7279\u6b8a\u5b8f\u6765\u5b8c\u6210\uff1a"
      ]
    },
    {
      "cell_type": "code",
      "execution_count": null,
      "metadata": {},
      "outputs": [],
      "source": [
        "#\ni\nn\nc\nl\nu\nd\ne\n \n\"\nP\ny\nt\nh\no\nn\n.\nh\n\"\n\n\n.\n.\n.\n\n\n\n\nP\ny\nO\nb\nj\ne\nc\nt\n \n*\np\ny\nf\nu\nn\nc\n(\nP\ny\nO\nb\nj\ne\nc\nt\n \n*\ns\ne\nl\nf\n,\n \nP\ny\nO\nb\nj\ne\nc\nt\n \n*\na\nr\ng\ns\n)\n \n{\n\n\n \n \n \n.\n.\n.\n\n\n \n \n \nP\ny\n_\nB\nE\nG\nI\nN\n_\nA\nL\nL\nO\nW\n_\nT\nH\nR\nE\nA\nD\nS\n\n\n \n \n \n/\n/\n \nT\nh\nr\ne\na\nd\ne\nd\n \nC\n \nc\no\nd\ne\n\n\n \n \n \n.\n.\n.\n\n\n \n \n \nP\ny\n_\nE\nN\nD\n_\nA\nL\nL\nO\nW\n_\nT\nH\nR\nE\nA\nD\nS\n\n\n \n \n \n.\n.\n.\n\n\n}\n\n"
      ]
    },
    {
      "cell_type": "markdown",
      "metadata": {},
      "source": [
        "\u5982\u679c\u4f60\u4f7f\u7528\u5176\u4ed6\u5de5\u5177\u8bbf\u95eeC\u8bed\u8a00\uff0c\u6bd4\u5982\u5bf9\u4e8eCython\u7684ctypes\u5e93\uff0c\u4f60\u4e0d\u9700\u8981\u505a\u4efb\u4f55\u4e8b\u3002\n\u4f8b\u5982\uff0cctypes\u5728\u8c03\u7528C\u65f6\u4f1a\u81ea\u52a8\u91ca\u653eGIL\u3002"
      ]
    },
    {
      "cell_type": "markdown",
      "metadata": {},
      "source": [
        "### \u8ba8\u8bba\n"
      ]
    },
    {
      "cell_type": "markdown",
      "metadata": {},
      "source": [
        "\u8bb8\u591a\u7a0b\u5e8f\u5458\u5728\u9762\u5bf9\u7ebf\u7a0b\u6027\u80fd\u95ee\u9898\u7684\u65f6\u5019\uff0c\u9a6c\u4e0a\u5c31\u4f1a\u602a\u7f6aGIL\uff0c\u4ec0\u4e48\u90fd\u662f\u5b83\u7684\u95ee\u9898\u3002\n\u5176\u5b9e\u8fd9\u6837\u5b50\u592a\u4e0d\u539a\u9053\u4e5f\u592a\u5929\u771f\u4e86\u70b9\u3002\n\u4f5c\u4e3a\u4e00\u4e2a\u771f\u5b9e\u7684\u4f8b\u5b50\uff0c\u5728\u591a\u7ebf\u7a0b\u7684\u7f51\u7edc\u7f16\u7a0b\u4e2d\u795e\u79d8\u7684 stalls\n\u53ef\u80fd\u662f\u56e0\u4e3a\u5176\u4ed6\u539f\u56e0\u6bd4\u5982\u4e00\u4e2aDNS\u67e5\u627e\u5ef6\u65f6\uff0c\u800c\u8ddfGIL\u6beb\u65e0\u5173\u7cfb\u3002\n\u6700\u540e\u4f60\u771f\u7684\u9700\u8981\u5148\u53bb\u641e\u61c2\u4f60\u7684\u4ee3\u7801\u662f\u5426\u771f\u7684\u88abGIL\u5f71\u54cd\u5230\u3002\n\u540c\u65f6\u8fd8\u8981\u660e\u767dGIL\u5927\u90e8\u5206\u90fd\u5e94\u8be5\u53ea\u5173\u6ce8CPU\u7684\u5904\u7406\u800c\u4e0d\u662fI/O."
      ]
    },
    {
      "cell_type": "markdown",
      "metadata": {},
      "source": [
        "\u5982\u679c\u4f60\u51c6\u5907\u4f7f\u7528\u4e00\u4e2a\u5904\u7406\u5668\u6c60\uff0c\u6ce8\u610f\u7684\u662f\u8fd9\u6837\u505a\u6d89\u53ca\u5230\u6570\u636e\u5e8f\u5217\u5316\u548c\u5728\u4e0d\u540cPython\u89e3\u91ca\u5668\u901a\u4fe1\u3002\n\u88ab\u6267\u884c\u7684\u64cd\u4f5c\u9700\u8981\u653e\u5728\u4e00\u4e2a\u901a\u8fc7def\u8bed\u53e5\u5b9a\u4e49\u7684Python\u51fd\u6570\u4e2d\uff0c\u4e0d\u80fd\u662flambda\u3001\u95ed\u5305\u53ef\u8c03\u7528\u5b9e\u4f8b\u7b49\uff0c\n\u5e76\u4e14\u51fd\u6570\u53c2\u6570\u548c\u8fd4\u56de\u503c\u5fc5\u987b\u8981\u517c\u5bb9pickle\u3002\n\u540c\u6837\uff0c\u8981\u6267\u884c\u7684\u4efb\u52a1\u91cf\u5fc5\u987b\u8db3\u591f\u5927\u4ee5\u5f25\u8865\u989d\u5916\u7684\u901a\u4fe1\u5f00\u9500\u3002"
      ]
    },
    {
      "cell_type": "markdown",
      "metadata": {},
      "source": [
        "\u53e6\u5916\u4e00\u4e2a\u96be\u70b9\u662f\u5f53\u6df7\u5408\u4f7f\u7528\u7ebf\u7a0b\u548c\u8fdb\u7a0b\u6c60\u7684\u65f6\u5019\u4f1a\u8ba9\u4f60\u5f88\u5934\u75bc\u3002\n\u5982\u679c\u4f60\u8981\u540c\u65f6\u4f7f\u7528\u4e24\u8005\uff0c\u6700\u597d\u5728\u7a0b\u5e8f\u542f\u52a8\u65f6\uff0c\u521b\u5efa\u4efb\u4f55\u7ebf\u7a0b\u4e4b\u524d\u5148\u521b\u5efa\u4e00\u4e2a\u5355\u4f8b\u7684\u8fdb\u7a0b\u6c60\u3002\n\u7136\u540e\u7ebf\u7a0b\u4f7f\u7528\u540c\u6837\u7684\u8fdb\u7a0b\u6c60\u6765\u8fdb\u884c\u5b83\u4eec\u7684\u8ba1\u7b97\u5bc6\u96c6\u578b\u5de5\u4f5c\u3002"
      ]
    },
    {
      "cell_type": "markdown",
      "metadata": {},
      "source": [
        "C\u6269\u5c55\u6700\u91cd\u8981\u7684\u7279\u5f81\u662f\u5b83\u4eec\u548cPython\u89e3\u91ca\u5668\u662f\u4fdd\u6301\u72ec\u7acb\u7684\u3002\n\u4e5f\u5c31\u662f\u8bf4\uff0c\u5982\u679c\u4f60\u51c6\u5907\u5c06Python\u4e2d\u7684\u4efb\u52a1\u5206\u914d\u5230C\u4e2d\u53bb\u6267\u884c\uff0c\n\u4f60\u9700\u8981\u786e\u4fddC\u4ee3\u7801\u7684\u64cd\u4f5c\u8ddfPython\u4fdd\u6301\u72ec\u7acb\uff0c\n\u8fd9\u5c31\u610f\u5473\u7740\u4e0d\u8981\u4f7f\u7528Python\u6570\u636e\u7ed3\u6784\u4ee5\u53ca\u4e0d\u8981\u8c03\u7528Python\u7684C API\u3002\n\u53e6\u5916\u4e00\u4e2a\u5c31\u662f\u4f60\u8981\u786e\u4fddC\u6269\u5c55\u6240\u505a\u7684\u5de5\u4f5c\u662f\u8db3\u591f\u7684\uff0c\u503c\u5f97\u4f60\u8fd9\u6837\u505a\u3002\n\u4e5f\u5c31\u662f\u8bf4C\u6269\u5c55\u62c5\u8d1f\u8d77\u4e86\u5927\u91cf\u7684\u8ba1\u7b97\u4efb\u52a1\uff0c\u800c\u4e0d\u662f\u5c11\u6570\u51e0\u4e2a\u8ba1\u7b97\u3002"
      ]
    },
    {
      "cell_type": "markdown",
      "metadata": {},
      "source": [
        "\u8fd9\u4e9b\u89e3\u51b3GIL\u7684\u65b9\u6848\u5e76\u4e0d\u80fd\u9002\u7528\u4e8e\u6240\u6709\u95ee\u9898\u3002\n\u4f8b\u5982\uff0c\u67d0\u4e9b\u7c7b\u578b\u7684\u5e94\u7528\u7a0b\u5e8f\u5982\u679c\u88ab\u5206\u89e3\u4e3a\u591a\u4e2a\u8fdb\u7a0b\u5904\u7406\u7684\u8bdd\u5e76\u4e0d\u80fd\u5f88\u597d\u7684\u5de5\u4f5c\uff0c\n\u4e5f\u4e0d\u80fd\u5c06\u5b83\u7684\u90e8\u5206\u4ee3\u7801\u6539\u6210C\u8bed\u8a00\u6267\u884c\u3002\n\u5bf9\u4e8e\u8fd9\u4e9b\u5e94\u7528\u7a0b\u5e8f\uff0c\u4f60\u5c31\u8981\u81ea\u5df1\u9700\u6c42\u89e3\u51b3\u65b9\u6848\u4e86\n\uff08\u6bd4\u5982\u591a\u8fdb\u7a0b\u8bbf\u95ee\u5171\u4eab\u5185\u5b58\u533a\uff0c\u591a\u89e3\u6790\u5668\u8fd0\u884c\u4e8e\u540c\u4e00\u4e2a\u8fdb\u7a0b\u7b49\uff09\u3002\n\u6216\u8005\uff0c\u4f60\u8fd8\u53ef\u4ee5\u8003\u8651\u4e0b\u5176\u4ed6\u7684\u89e3\u91ca\u5668\u5b9e\u73b0\uff0c\u6bd4\u5982PyPy\u3002"
      ]
    },
    {
      "cell_type": "markdown",
      "metadata": {},
      "source": [
        "\u4e86\u89e3\u66f4\u591a\u5173\u4e8e\u5728C\u6269\u5c55\u4e2d\u91ca\u653eGIL\uff0c\u8bf7\u53c2\u800315.7\u548c15.10\u5c0f\u8282\u3002"
      ]
    },
    {
      "cell_type": "markdown",
      "metadata": {},
      "source": [
        "## 12.10 \u5b9a\u4e49\u4e00\u4e2aActor\u4efb\u52a1\n"
      ]
    },
    {
      "cell_type": "markdown",
      "metadata": {},
      "source": [
        "### \u95ee\u9898\n"
      ]
    },
    {
      "cell_type": "markdown",
      "metadata": {},
      "source": [
        "\u4f60\u60f3\u5b9a\u4e49\u8ddfactor\u6a21\u5f0f\u4e2d\u7c7b\u4f3c\u201cactors\u201d\u89d2\u8272\u7684\u4efb\u52a1"
      ]
    },
    {
      "cell_type": "markdown",
      "metadata": {},
      "source": [
        "### \u89e3\u51b3\u65b9\u6848\n"
      ]
    },
    {
      "cell_type": "markdown",
      "metadata": {},
      "source": [
        "actor\u6a21\u5f0f\u662f\u4e00\u79cd\u6700\u53e4\u8001\u7684\u4e5f\u662f\u6700\u7b80\u5355\u7684\u5e76\u884c\u548c\u5206\u5e03\u5f0f\u8ba1\u7b97\u89e3\u51b3\u65b9\u6848\u3002\n\u4e8b\u5b9e\u4e0a\uff0c\u5b83\u5929\u751f\u7684\u7b80\u5355\u6027\u662f\u5b83\u5982\u6b64\u53d7\u6b22\u8fce\u7684\u91cd\u8981\u539f\u56e0\u4e4b\u4e00\u3002\n\u7b80\u5355\u6765\u8bb2\uff0c\u4e00\u4e2aactor\u5c31\u662f\u4e00\u4e2a\u5e76\u53d1\u6267\u884c\u7684\u4efb\u52a1\uff0c\u53ea\u662f\u7b80\u5355\u7684\u6267\u884c\u53d1\u9001\u7ed9\u5b83\u7684\u6d88\u606f\u4efb\u52a1\u3002\n\u54cd\u5e94\u8fd9\u4e9b\u6d88\u606f\u65f6\uff0c\u5b83\u53ef\u80fd\u8fd8\u4f1a\u7ed9\u5176\u4ed6actor\u53d1\u9001\u66f4\u8fdb\u4e00\u6b65\u7684\u6d88\u606f\u3002\nactor\u4e4b\u95f4\u7684\u901a\u4fe1\u662f\u5355\u5411\u548c\u5f02\u6b65\u7684\u3002\u56e0\u6b64\uff0c\u6d88\u606f\u53d1\u9001\u8005\u4e0d\u77e5\u9053\u6d88\u606f\u662f\u4ec0\u4e48\u65f6\u5019\u88ab\u53d1\u9001\uff0c\n\u4e5f\u4e0d\u4f1a\u63a5\u6536\u5230\u4e00\u4e2a\u6d88\u606f\u5df2\u88ab\u5904\u7406\u7684\u56de\u5e94\u6216\u901a\u77e5\u3002"
      ]
    },
    {
      "cell_type": "markdown",
      "metadata": {},
      "source": [
        "\u7ed3\u5408\u4f7f\u7528\u4e00\u4e2a\u7ebf\u7a0b\u548c\u4e00\u4e2a\u961f\u5217\u53ef\u4ee5\u5f88\u5bb9\u6613\u7684\u5b9a\u4e49actor\uff0c\u4f8b\u5982\uff1a"
      ]
    },
    {
      "cell_type": "code",
      "execution_count": null,
      "metadata": {},
      "outputs": [],
      "source": [
        "f\nr\no\nm\n \nq\nu\ne\nu\ne\n \ni\nm\np\no\nr\nt\n \nQ\nu\ne\nu\ne\n\n\nf\nr\no\nm\n \nt\nh\nr\ne\na\nd\ni\nn\ng\n \ni\nm\np\no\nr\nt\n \nT\nh\nr\ne\na\nd\n,\n \nE\nv\ne\nn\nt\n\n\n\n\n#\n \nS\ne\nn\nt\ni\nn\ne\nl\n \nu\ns\ne\nd\n \nf\no\nr\n \ns\nh\nu\nt\nd\no\nw\nn\n\n\nc\nl\na\ns\ns\n \nA\nc\nt\no\nr\nE\nx\ni\nt\n(\nE\nx\nc\ne\np\nt\ni\no\nn\n)\n:\n\n\n \n \n \n \np\na\ns\ns\n\n\n\n\nc\nl\na\ns\ns\n \nA\nc\nt\no\nr\n:\n\n\n \n \n \n \nd\ne\nf\n \n_\n_\ni\nn\ni\nt\n_\n_\n(\ns\ne\nl\nf\n)\n:\n\n\n \n \n \n \n \n \n \n \ns\ne\nl\nf\n.\n_\nm\na\ni\nl\nb\no\nx\n \n=\n \nQ\nu\ne\nu\ne\n(\n)\n\n\n\n\n \n \n \n \nd\ne\nf\n \ns\ne\nn\nd\n(\ns\ne\nl\nf\n,\n \nm\ns\ng\n)\n:\n\n\n \n \n \n \n \n \n \n \n'\n'\n'\n\n\n \n \n \n \n \n \n \n \nS\ne\nn\nd\n \na\n \nm\ne\ns\ns\na\ng\ne\n \nt\no\n \nt\nh\ne\n \na\nc\nt\no\nr\n\n\n \n \n \n \n \n \n \n \n'\n'\n'\n\n\n \n \n \n \n \n \n \n \ns\ne\nl\nf\n.\n_\nm\na\ni\nl\nb\no\nx\n.\np\nu\nt\n(\nm\ns\ng\n)\n\n\n\n\n \n \n \n \nd\ne\nf\n \nr\ne\nc\nv\n(\ns\ne\nl\nf\n)\n:\n\n\n \n \n \n \n \n \n \n \n'\n'\n'\n\n\n \n \n \n \n \n \n \n \nR\ne\nc\ne\ni\nv\ne\n \na\nn\n \ni\nn\nc\no\nm\ni\nn\ng\n \nm\ne\ns\ns\na\ng\ne\n\n\n \n \n \n \n \n \n \n \n'\n'\n'\n\n\n \n \n \n \n \n \n \n \nm\ns\ng\n \n=\n \ns\ne\nl\nf\n.\n_\nm\na\ni\nl\nb\no\nx\n.\ng\ne\nt\n(\n)\n\n\n \n \n \n \n \n \n \n \ni\nf\n \nm\ns\ng\n \ni\ns\n \nA\nc\nt\no\nr\nE\nx\ni\nt\n:\n\n\n \n \n \n \n \n \n \n \n \n \n \n \nr\na\ni\ns\ne\n \nA\nc\nt\no\nr\nE\nx\ni\nt\n(\n)\n\n\n \n \n \n \n \n \n \n \nr\ne\nt\nu\nr\nn\n \nm\ns\ng\n\n\n\n\n \n \n \n \nd\ne\nf\n \nc\nl\no\ns\ne\n(\ns\ne\nl\nf\n)\n:\n\n\n \n \n \n \n \n \n \n \n'\n'\n'\n\n\n \n \n \n \n \n \n \n \nC\nl\no\ns\ne\n \nt\nh\ne\n \na\nc\nt\no\nr\n,\n \nt\nh\nu\ns\n \ns\nh\nu\nt\nt\ni\nn\ng\n \ni\nt\n \nd\no\nw\nn\n\n\n \n \n \n \n \n \n \n \n'\n'\n'\n\n\n \n \n \n \n \n \n \n \ns\ne\nl\nf\n.\ns\ne\nn\nd\n(\nA\nc\nt\no\nr\nE\nx\ni\nt\n)\n\n\n\n\n \n \n \n \nd\ne\nf\n \ns\nt\na\nr\nt\n(\ns\ne\nl\nf\n)\n:\n\n\n \n \n \n \n \n \n \n \n'\n'\n'\n\n\n \n \n \n \n \n \n \n \nS\nt\na\nr\nt\n \nc\no\nn\nc\nu\nr\nr\ne\nn\nt\n \ne\nx\ne\nc\nu\nt\ni\no\nn\n\n\n \n \n \n \n \n \n \n \n'\n'\n'\n\n\n \n \n \n \n \n \n \n \ns\ne\nl\nf\n.\n_\nt\ne\nr\nm\ni\nn\na\nt\ne\nd\n \n=\n \nE\nv\ne\nn\nt\n(\n)\n\n\n \n \n \n \n \n \n \n \nt\n \n=\n \nT\nh\nr\ne\na\nd\n(\nt\na\nr\ng\ne\nt\n=\ns\ne\nl\nf\n.\n_\nb\no\no\nt\ns\nt\nr\na\np\n)\n\n\n\n\n \n \n \n \n \n \n \n \nt\n.\nd\na\ne\nm\no\nn\n \n=\n \nT\nr\nu\ne\n\n\n \n \n \n \n \n \n \n \nt\n.\ns\nt\na\nr\nt\n(\n)\n\n\n\n\n \n \n \n \nd\ne\nf\n \n_\nb\no\no\nt\ns\nt\nr\na\np\n(\ns\ne\nl\nf\n)\n:\n\n\n \n \n \n \n \n \n \n \nt\nr\ny\n:\n\n\n \n \n \n \n \n \n \n \n \n \n \n \ns\ne\nl\nf\n.\nr\nu\nn\n(\n)\n\n\n \n \n \n \n \n \n \n \ne\nx\nc\ne\np\nt\n \nA\nc\nt\no\nr\nE\nx\ni\nt\n:\n\n\n \n \n \n \n \n \n \n \n \n \n \n \np\na\ns\ns\n\n\n \n \n \n \n \n \n \n \nf\ni\nn\na\nl\nl\ny\n:\n\n\n \n \n \n \n \n \n \n \n \n \n \n \ns\ne\nl\nf\n.\n_\nt\ne\nr\nm\ni\nn\na\nt\ne\nd\n.\ns\ne\nt\n(\n)\n\n\n\n\n \n \n \n \nd\ne\nf\n \nj\no\ni\nn\n(\ns\ne\nl\nf\n)\n:\n\n\n \n \n \n \n \n \n \n \ns\ne\nl\nf\n.\n_\nt\ne\nr\nm\ni\nn\na\nt\ne\nd\n.\nw\na\ni\nt\n(\n)\n\n\n\n\n \n \n \n \nd\ne\nf\n \nr\nu\nn\n(\ns\ne\nl\nf\n)\n:\n\n\n \n \n \n \n \n \n \n \n'\n'\n'\n\n\n \n \n \n \n \n \n \n \nR\nu\nn\n \nm\ne\nt\nh\no\nd\n \nt\no\n \nb\ne\n \ni\nm\np\nl\ne\nm\ne\nn\nt\ne\nd\n \nb\ny\n \nt\nh\ne\n \nu\ns\ne\nr\n\n\n \n \n \n \n \n \n \n \n'\n'\n'\n\n\n \n \n \n \n \n \n \n \nw\nh\ni\nl\ne\n \nT\nr\nu\ne\n:\n\n\n \n \n \n \n \n \n \n \n \n \n \n \nm\ns\ng\n \n=\n \ns\ne\nl\nf\n.\nr\ne\nc\nv\n(\n)\n\n\n\n\n#\n \nS\na\nm\np\nl\ne\n \nA\nc\nt\no\nr\nT\na\ns\nk\n\n\nc\nl\na\ns\ns\n \nP\nr\ni\nn\nt\nA\nc\nt\no\nr\n(\nA\nc\nt\no\nr\n)\n:\n\n\n \n \n \n \nd\ne\nf\n \nr\nu\nn\n(\ns\ne\nl\nf\n)\n:\n\n\n \n \n \n \n \n \n \n \nw\nh\ni\nl\ne\n \nT\nr\nu\ne\n:\n\n\n \n \n \n \n \n \n \n \n \n \n \n \nm\ns\ng\n \n=\n \ns\ne\nl\nf\n.\nr\ne\nc\nv\n(\n)\n\n\n \n \n \n \n \n \n \n \n \n \n \n \np\nr\ni\nn\nt\n(\n'\nG\no\nt\n:\n'\n,\n \nm\ns\ng\n)\n\n\n\n\n#\n \nS\na\nm\np\nl\ne\n \nu\ns\ne\n\n\np\n \n=\n \nP\nr\ni\nn\nt\nA\nc\nt\no\nr\n(\n)\n\n\np\n.\ns\nt\na\nr\nt\n(\n)\n\n\np\n.\ns\ne\nn\nd\n(\n'\nH\ne\nl\nl\no\n'\n)\n\n\np\n.\ns\ne\nn\nd\n(\n'\nW\no\nr\nl\nd\n'\n)\n\n\np\n.\nc\nl\no\ns\ne\n(\n)\n\n\np\n.\nj\no\ni\nn\n(\n)\n\n"
      ]
    },
    {
      "cell_type": "markdown",
      "metadata": {},
      "source": [
        "\u8fd9\u4e2a\u4f8b\u5b50\u4e2d\uff0c\u4f60\u4f7f\u7528actor\u5b9e\u4f8b\u7684 send() \u65b9\u6cd5\u53d1\u9001\u6d88\u606f\u7ed9\u5b83\u4eec\u3002\n\u5176\u673a\u5236\u662f\uff0c\u8fd9\u4e2a\u65b9\u6cd5\u4f1a\u5c06\u6d88\u606f\u653e\u5165\u4e00\u4e2a\u961f\u91cc\u4e2d\uff0c\n\u7136\u540e\u5c06\u5176\u8f6c\u4ea4\u7ed9\u5904\u7406\u88ab\u63a5\u53d7\u6d88\u606f\u7684\u4e00\u4e2a\u5185\u90e8\u7ebf\u7a0b\u3002\nclose() \u65b9\u6cd5\u901a\u8fc7\u5728\u961f\u5217\u4e2d\u653e\u5165\u4e00\u4e2a\u7279\u6b8a\u7684\u54e8\u5175\u503c\uff08ActorExit\uff09\u6765\u5173\u95ed\u8fd9\u4e2aactor\u3002\n\u7528\u6237\u53ef\u4ee5\u901a\u8fc7\u7ee7\u627fActor\u5e76\u5b9a\u4e49\u5b9e\u73b0\u81ea\u5df1\u5904\u7406\u903b\u8f91run()\u65b9\u6cd5\u6765\u5b9a\u4e49\u65b0\u7684actor\u3002\nActorExit \u5f02\u5e38\u7684\u4f7f\u7528\u5c31\u662f\u7528\u6237\u81ea\u5b9a\u4e49\u4ee3\u7801\u53ef\u4ee5\u5728\u9700\u8981\u7684\u65f6\u5019\u6765\u6355\u83b7\u7ec8\u6b62\u8bf7\u6c42\n\uff08\u5f02\u5e38\u88abget()\u65b9\u6cd5\u629b\u51fa\u5e76\u4f20\u64ad\u51fa\u53bb\uff09\u3002"
      ]
    },
    {
      "cell_type": "markdown",
      "metadata": {},
      "source": [
        "\u5982\u679c\u4f60\u653e\u5bbd\u5bf9\u4e8e\u540c\u6b65\u548c\u5f02\u6b65\u6d88\u606f\u53d1\u9001\u7684\u8981\u6c42\uff0c\n\u7c7bactor\u5bf9\u8c61\u8fd8\u53ef\u4ee5\u901a\u8fc7\u751f\u6210\u5668\u6765\u7b80\u5316\u5b9a\u4e49\u3002\u4f8b\u5982\uff1a"
      ]
    },
    {
      "cell_type": "code",
      "execution_count": null,
      "metadata": {},
      "outputs": [],
      "source": [
        "d\ne\nf\n \np\nr\ni\nn\nt\n_\na\nc\nt\no\nr\n(\n)\n:\n\n\n \n \n \n \nw\nh\ni\nl\ne\n \nT\nr\nu\ne\n:\n\n\n\n\n \n \n \n \n \n \n \n \nt\nr\ny\n:\n\n\n \n \n \n \n \n \n \n \n \n \n \n \nm\ns\ng\n \n=\n \ny\ni\ne\nl\nd\n \n \n \n \n \n \n#\n \nG\ne\nt\n \na\n \nm\ne\ns\ns\na\ng\ne\n\n\n \n \n \n \n \n \n \n \n \n \n \n \np\nr\ni\nn\nt\n(\n'\nG\no\nt\n:\n'\n,\n \nm\ns\ng\n)\n\n\n \n \n \n \n \n \n \n \ne\nx\nc\ne\np\nt\n \nG\ne\nn\ne\nr\na\nt\no\nr\nE\nx\ni\nt\n:\n\n\n \n \n \n \n \n \n \n \n \n \n \n \np\nr\ni\nn\nt\n(\n'\nA\nc\nt\no\nr\n \nt\ne\nr\nm\ni\nn\na\nt\ni\nn\ng\n'\n)\n\n\n\n\n#\n \nS\na\nm\np\nl\ne\n \nu\ns\ne\n\n\np\n \n=\n \np\nr\ni\nn\nt\n_\na\nc\nt\no\nr\n(\n)\n\n\nn\ne\nx\nt\n(\np\n)\n \n \n \n \n \n#\n \nA\nd\nv\na\nn\nc\ne\n \nt\no\n \nt\nh\ne\n \ny\ni\ne\nl\nd\n \n(\nr\ne\na\nd\ny\n \nt\no\n \nr\ne\nc\ne\ni\nv\ne\n)\n\n\np\n.\ns\ne\nn\nd\n(\n'\nH\ne\nl\nl\no\n'\n)\n\n\np\n.\ns\ne\nn\nd\n(\n'\nW\no\nr\nl\nd\n'\n)\n\n\np\n.\nc\nl\no\ns\ne\n(\n)\n\n"
      ]
    },
    {
      "cell_type": "markdown",
      "metadata": {},
      "source": [
        "### \u8ba8\u8bba\n"
      ]
    },
    {
      "cell_type": "markdown",
      "metadata": {},
      "source": [
        "actor\u6a21\u5f0f\u7684\u9b45\u529b\u5c31\u5728\u4e8e\u5b83\u7684\u7b80\u5355\u6027\u3002\n\u5b9e\u9645\u4e0a\uff0c\u8fd9\u91cc\u4ec5\u4ec5\u53ea\u6709\u4e00\u4e2a\u6838\u5fc3\u64cd\u4f5c send() .\n\u751a\u81f3\uff0c\u5bf9\u4e8e\u5728\u57fa\u4e8eactor\u7cfb\u7edf\u4e2d\u7684\u201c\u6d88\u606f\u201d\u7684\u6cdb\u5316\u6982\u5ff5\u53ef\u4ee5\u5df2\u591a\u79cd\u65b9\u5f0f\u88ab\u6269\u5c55\u3002\n\u4f8b\u5982\uff0c\u4f60\u53ef\u4ee5\u4ee5\u5143\u7ec4\u5f62\u5f0f\u4f20\u9012\u6807\u7b7e\u6d88\u606f\uff0c\u8ba9actor\u6267\u884c\u4e0d\u540c\u7684\u64cd\u4f5c\uff0c\u5982\u4e0b\uff1a"
      ]
    },
    {
      "cell_type": "code",
      "execution_count": null,
      "metadata": {},
      "outputs": [],
      "source": [
        "c\nl\na\ns\ns\n \nT\na\ng\ng\ne\nd\nA\nc\nt\no\nr\n(\nA\nc\nt\no\nr\n)\n:\n\n\n \n \n \n \nd\ne\nf\n \nr\nu\nn\n(\ns\ne\nl\nf\n)\n:\n\n\n \n \n \n \n \n \n \n \nw\nh\ni\nl\ne\n \nT\nr\nu\ne\n:\n\n\n \n \n \n \n \n \n \n \n \n \n \n \n \nt\na\ng\n,\n \n*\np\na\ny\nl\no\na\nd\n \n=\n \ns\ne\nl\nf\n.\nr\ne\nc\nv\n(\n)\n\n\n \n \n \n \n \n \n \n \n \n \n \n \n \ng\ne\nt\na\nt\nt\nr\n(\ns\ne\nl\nf\n,\n'\nd\no\n_\n'\n+\nt\na\ng\n)\n(\n*\np\na\ny\nl\no\na\nd\n)\n\n\n\n\n \n \n \n \n#\n \nM\ne\nt\nh\no\nd\ns\n \nc\no\nr\nr\ne\np\no\nn\nd\ni\nn\ng\n \nt\no\n \nd\ni\nf\nf\ne\nr\ne\nn\nt\n \nm\ne\ns\ns\na\ng\ne\n \nt\na\ng\ns\n\n\n \n \n \n \nd\ne\nf\n \nd\no\n_\nA\n(\ns\ne\nl\nf\n,\n \nx\n)\n:\n\n\n \n \n \n \n \n \n \n \np\nr\ni\nn\nt\n(\n'\nR\nu\nn\nn\ni\nn\ng\n \nA\n'\n,\n \nx\n)\n\n\n\n\n \n \n \n \nd\ne\nf\n \nd\no\n_\nB\n(\ns\ne\nl\nf\n,\n \nx\n,\n \ny\n)\n:\n\n\n \n \n \n \n \n \n \n \np\nr\ni\nn\nt\n(\n'\nR\nu\nn\nn\ni\nn\ng\n \nB\n'\n,\n \nx\n,\n \ny\n)\n\n\n\n\n#\n \nE\nx\na\nm\np\nl\ne\n\n\na\n \n=\n \nT\na\ng\ng\ne\nd\nA\nc\nt\no\nr\n(\n)\n\n\na\n.\ns\nt\na\nr\nt\n(\n)\n\n\na\n.\ns\ne\nn\nd\n(\n(\n'\nA\n'\n,\n \n1\n)\n)\n \n \n \n \n \n \n#\n \nI\nn\nv\no\nk\ne\ns\n \nd\no\n_\nA\n(\n1\n)\n\n\na\n.\ns\ne\nn\nd\n(\n(\n'\nB\n'\n,\n \n2\n,\n \n3\n)\n)\n \n \n \n#\n \nI\nn\nv\no\nk\ne\ns\n \nd\no\n_\nB\n(\n2\n,\n3\n)\n\n"
      ]
    },
    {
      "cell_type": "markdown",
      "metadata": {},
      "source": [
        "\u4f5c\u4e3a\u53e6\u5916\u4e00\u4e2a\u4f8b\u5b50\uff0c\u4e0b\u9762\u7684actor\u5141\u8bb8\u5728\u4e00\u4e2a\u5de5\u4f5c\u8005\u4e2d\u8fd0\u884c\u4efb\u610f\u7684\u51fd\u6570\uff0c\n\u5e76\u4e14\u901a\u8fc7\u4e00\u4e2a\u7279\u6b8a\u7684Result\u5bf9\u8c61\u8fd4\u56de\u7ed3\u679c\uff1a"
      ]
    },
    {
      "cell_type": "code",
      "execution_count": null,
      "metadata": {},
      "outputs": [],
      "source": [
        "f\nr\no\nm\n \nt\nh\nr\ne\na\nd\ni\nn\ng\n \ni\nm\np\no\nr\nt\n \nE\nv\ne\nn\nt\n\n\nc\nl\na\ns\ns\n \nR\ne\ns\nu\nl\nt\n:\n\n\n \n \n \n \nd\ne\nf\n \n_\n_\ni\nn\ni\nt\n_\n_\n(\ns\ne\nl\nf\n)\n:\n\n\n \n \n \n \n \n \n \n \ns\ne\nl\nf\n.\n_\ne\nv\nt\n \n=\n \nE\nv\ne\nn\nt\n(\n)\n\n\n \n \n \n \n \n \n \n \ns\ne\nl\nf\n.\n_\nr\ne\ns\nu\nl\nt\n \n=\n \nN\no\nn\ne\n\n\n\n\n \n \n \n \nd\ne\nf\n \ns\ne\nt\n_\nr\ne\ns\nu\nl\nt\n(\ns\ne\nl\nf\n,\n \nv\na\nl\nu\ne\n)\n:\n\n\n \n \n \n \n \n \n \n \ns\ne\nl\nf\n.\n_\nr\ne\ns\nu\nl\nt\n \n=\n \nv\na\nl\nu\ne\n\n\n\n\n \n \n \n \n \n \n \n \ns\ne\nl\nf\n.\n_\ne\nv\nt\n.\ns\ne\nt\n(\n)\n\n\n\n\n \n \n \n \nd\ne\nf\n \nr\ne\ns\nu\nl\nt\n(\ns\ne\nl\nf\n)\n:\n\n\n \n \n \n \n \n \n \n \ns\ne\nl\nf\n.\n_\ne\nv\nt\n.\nw\na\ni\nt\n(\n)\n\n\n \n \n \n \n \n \n \n \nr\ne\nt\nu\nr\nn\n \ns\ne\nl\nf\n.\n_\nr\ne\ns\nu\nl\nt\n\n\n\n\nc\nl\na\ns\ns\n \nW\no\nr\nk\ne\nr\n(\nA\nc\nt\no\nr\n)\n:\n\n\n \n \n \n \nd\ne\nf\n \ns\nu\nb\nm\ni\nt\n(\ns\ne\nl\nf\n,\n \nf\nu\nn\nc\n,\n \n*\na\nr\ng\ns\n,\n \n*\n*\nk\nw\na\nr\ng\ns\n)\n:\n\n\n \n \n \n \n \n \n \n \nr\n \n=\n \nR\ne\ns\nu\nl\nt\n(\n)\n\n\n \n \n \n \n \n \n \n \ns\ne\nl\nf\n.\ns\ne\nn\nd\n(\n(\nf\nu\nn\nc\n,\n \na\nr\ng\ns\n,\n \nk\nw\na\nr\ng\ns\n,\n \nr\n)\n)\n\n\n \n \n \n \n \n \n \n \nr\ne\nt\nu\nr\nn\n \nr\n\n\n\n\n \n \n \n \nd\ne\nf\n \nr\nu\nn\n(\ns\ne\nl\nf\n)\n:\n\n\n \n \n \n \n \n \n \n \nw\nh\ni\nl\ne\n \nT\nr\nu\ne\n:\n\n\n \n \n \n \n \n \n \n \n \n \n \n \nf\nu\nn\nc\n,\n \na\nr\ng\ns\n,\n \nk\nw\na\nr\ng\ns\n,\n \nr\n \n=\n \ns\ne\nl\nf\n.\nr\ne\nc\nv\n(\n)\n\n\n \n \n \n \n \n \n \n \n \n \n \n \nr\n.\ns\ne\nt\n_\nr\ne\ns\nu\nl\nt\n(\nf\nu\nn\nc\n(\n*\na\nr\ng\ns\n,\n \n*\n*\nk\nw\na\nr\ng\ns\n)\n)\n\n\n\n\n#\n \nE\nx\na\nm\np\nl\ne\n \nu\ns\ne\n\n\nw\no\nr\nk\ne\nr\n \n=\n \nW\no\nr\nk\ne\nr\n(\n)\n\n\nw\no\nr\nk\ne\nr\n.\ns\nt\na\nr\nt\n(\n)\n\n\nr\n \n=\n \nw\no\nr\nk\ne\nr\n.\ns\nu\nb\nm\ni\nt\n(\np\no\nw\n,\n \n2\n,\n \n3\n)\n\n\np\nr\ni\nn\nt\n(\nr\n.\nr\ne\ns\nu\nl\nt\n(\n)\n)\n\n"
      ]
    },
    {
      "cell_type": "markdown",
      "metadata": {},
      "source": [
        "\u6700\u540e\uff0c\u201c\u53d1\u9001\u201d\u4e00\u4e2a\u4efb\u52a1\u6d88\u606f\u7684\u6982\u5ff5\u53ef\u4ee5\u88ab\u6269\u5c55\u5230\u591a\u8fdb\u7a0b\u751a\u81f3\u662f\u5927\u578b\u5206\u5e03\u5f0f\u7cfb\u7edf\u4e2d\u53bb\u3002\n\u4f8b\u5982\uff0c\u4e00\u4e2a\u7c7bactor\u5bf9\u8c61\u7684 send() \u65b9\u6cd5\u53ef\u4ee5\u88ab\u7f16\u7a0b\u8ba9\u5b83\u80fd\u5728\u4e00\u4e2a\u5957\u63a5\u5b57\u8fde\u63a5\u4e0a\u4f20\u8f93\u6570\u636e\n\u6216\u901a\u8fc7\u67d0\u4e9b\u6d88\u606f\u4e2d\u95f4\u4ef6\uff08\u6bd4\u5982AMQP\u3001ZMQ\u7b49\uff09\u6765\u53d1\u9001\u3002"
      ]
    },
    {
      "cell_type": "markdown",
      "metadata": {},
      "source": [
        "## 12.11 \u5b9e\u73b0\u6d88\u606f\u53d1\u5e03/\u8ba2\u9605\u6a21\u578b\n"
      ]
    },
    {
      "cell_type": "markdown",
      "metadata": {},
      "source": [
        "### \u95ee\u9898\n"
      ]
    },
    {
      "cell_type": "markdown",
      "metadata": {},
      "source": [
        "\u4f60\u6709\u4e00\u4e2a\u57fa\u4e8e\u7ebf\u7a0b\u901a\u4fe1\u7684\u7a0b\u5e8f\uff0c\u60f3\u8ba9\u5b83\u4eec\u5b9e\u73b0\u53d1\u5e03/\u8ba2\u9605\u6a21\u5f0f\u7684\u6d88\u606f\u901a\u4fe1\u3002"
      ]
    },
    {
      "cell_type": "markdown",
      "metadata": {},
      "source": [
        "### \u89e3\u51b3\u65b9\u6848\n"
      ]
    },
    {
      "cell_type": "markdown",
      "metadata": {},
      "source": [
        "\u8981\u5b9e\u73b0\u53d1\u5e03/\u8ba2\u9605\u7684\u6d88\u606f\u901a\u4fe1\u6a21\u5f0f\uff0c\n\u4f60\u901a\u5e38\u8981\u5f15\u5165\u4e00\u4e2a\u5355\u72ec\u7684\u201c\u4ea4\u6362\u673a\u201d\u6216\u201c\u7f51\u5173\u201d\u5bf9\u8c61\u4f5c\u4e3a\u6240\u6709\u6d88\u606f\u7684\u4e2d\u4ecb\u3002\n\u4e5f\u5c31\u662f\u8bf4\uff0c\u4e0d\u76f4\u63a5\u5c06\u6d88\u606f\u4ece\u4e00\u4e2a\u4efb\u52a1\u53d1\u9001\u5230\u53e6\u4e00\u4e2a\uff0c\u800c\u662f\u5c06\u5176\u53d1\u9001\u7ed9\u4ea4\u6362\u673a\uff0c\n\u7136\u540e\u7531\u4ea4\u6362\u673a\u5c06\u5b83\u53d1\u9001\u7ed9\u4e00\u4e2a\u6216\u591a\u4e2a\u88ab\u5173\u8054\u4efb\u52a1\u3002\u4e0b\u9762\u662f\u4e00\u4e2a\u975e\u5e38\u7b80\u5355\u7684\u4ea4\u6362\u673a\u5b9e\u73b0\u4f8b\u5b50\uff1a"
      ]
    },
    {
      "cell_type": "code",
      "execution_count": null,
      "metadata": {},
      "outputs": [],
      "source": [
        "f\nr\no\nm\n \nc\no\nl\nl\ne\nc\nt\ni\no\nn\ns\n \ni\nm\np\no\nr\nt\n \nd\ne\nf\na\nu\nl\nt\nd\ni\nc\nt\n\n\n\n\nc\nl\na\ns\ns\n \nE\nx\nc\nh\na\nn\ng\ne\n:\n\n\n \n \n \n \nd\ne\nf\n \n_\n_\ni\nn\ni\nt\n_\n_\n(\ns\ne\nl\nf\n)\n:\n\n\n \n \n \n \n \n \n \n \ns\ne\nl\nf\n.\n_\ns\nu\nb\ns\nc\nr\ni\nb\ne\nr\ns\n \n=\n \ns\ne\nt\n(\n)\n\n\n\n\n \n \n \n \nd\ne\nf\n \na\nt\nt\na\nc\nh\n(\ns\ne\nl\nf\n,\n \nt\na\ns\nk\n)\n:\n\n\n \n \n \n \n \n \n \n \ns\ne\nl\nf\n.\n_\ns\nu\nb\ns\nc\nr\ni\nb\ne\nr\ns\n.\na\nd\nd\n(\nt\na\ns\nk\n)\n\n\n\n\n \n \n \n \nd\ne\nf\n \nd\ne\nt\na\nc\nh\n(\ns\ne\nl\nf\n,\n \nt\na\ns\nk\n)\n:\n\n\n \n \n \n \n \n \n \n \ns\ne\nl\nf\n.\n_\ns\nu\nb\ns\nc\nr\ni\nb\ne\nr\ns\n.\nr\ne\nm\no\nv\ne\n(\nt\na\ns\nk\n)\n\n\n\n\n \n \n \n \nd\ne\nf\n \ns\ne\nn\nd\n(\ns\ne\nl\nf\n,\n \nm\ns\ng\n)\n:\n\n\n \n \n \n \n \n \n \n \nf\no\nr\n \ns\nu\nb\ns\nc\nr\ni\nb\ne\nr\n \ni\nn\n \ns\ne\nl\nf\n.\n_\ns\nu\nb\ns\nc\nr\ni\nb\ne\nr\ns\n:\n\n\n \n \n \n \n \n \n \n \n \n \n \n \ns\nu\nb\ns\nc\nr\ni\nb\ne\nr\n.\ns\ne\nn\nd\n(\nm\ns\ng\n)\n\n\n\n\n#\n \nD\ni\nc\nt\ni\no\nn\na\nr\ny\n \no\nf\n \na\nl\nl\n \nc\nr\ne\na\nt\ne\nd\n \ne\nx\nc\nh\na\nn\ng\ne\ns\n\n\n_\ne\nx\nc\nh\na\nn\ng\ne\ns\n \n=\n \nd\ne\nf\na\nu\nl\nt\nd\ni\nc\nt\n(\nE\nx\nc\nh\na\nn\ng\ne\n)\n\n\n\n\n#\n \nR\ne\nt\nu\nr\nn\n \nt\nh\ne\n \nE\nx\nc\nh\na\nn\ng\ne\n \ni\nn\ns\nt\na\nn\nc\ne\n \na\ns\ns\no\nc\ni\na\nt\ne\nd\n \nw\ni\nt\nh\n \na\n \ng\ni\nv\ne\nn\n \nn\na\nm\ne\n\n\nd\ne\nf\n \ng\ne\nt\n_\ne\nx\nc\nh\na\nn\ng\ne\n(\nn\na\nm\ne\n)\n:\n\n\n \n \n \n \nr\ne\nt\nu\nr\nn\n \n_\ne\nx\nc\nh\na\nn\ng\ne\ns\n[\nn\na\nm\ne\n]\n\n"
      ]
    },
    {
      "cell_type": "markdown",
      "metadata": {},
      "source": [
        "\u4e00\u4e2a\u4ea4\u6362\u673a\u5c31\u662f\u4e00\u4e2a\u666e\u901a\u5bf9\u8c61\uff0c\u8d1f\u8d23\u7ef4\u62a4\u4e00\u4e2a\u6d3b\u8dc3\u7684\u8ba2\u9605\u8005\u96c6\u5408\uff0c\u5e76\u4e3a\u7ed1\u5b9a\u3001\u89e3\u7ed1\u548c\u53d1\u9001\u6d88\u606f\u63d0\u4f9b\u76f8\u5e94\u7684\u65b9\u6cd5\u3002\n\u6bcf\u4e2a\u4ea4\u6362\u673a\u901a\u8fc7\u4e00\u4e2a\u540d\u79f0\u5b9a\u4f4d\uff0cget_exchange() \u901a\u8fc7\u7ed9\u5b9a\u4e00\u4e2a\u540d\u79f0\u8fd4\u56de\u76f8\u5e94\u7684 Exchange \u5b9e\u4f8b\u3002"
      ]
    },
    {
      "cell_type": "markdown",
      "metadata": {},
      "source": [
        "\u4e0b\u9762\u662f\u4e00\u4e2a\u7b80\u5355\u4f8b\u5b50\uff0c\u6f14\u793a\u4e86\u5982\u4f55\u4f7f\u7528\u4e00\u4e2a\u4ea4\u6362\u673a\uff1a"
      ]
    },
    {
      "cell_type": "code",
      "execution_count": null,
      "metadata": {},
      "outputs": [],
      "source": [
        "#\n \nE\nx\na\nm\np\nl\ne\n \no\nf\n \na\n \nt\na\ns\nk\n.\n \n \nA\nn\ny\n \no\nb\nj\ne\nc\nt\n \nw\ni\nt\nh\n \na\n \ns\ne\nn\nd\n(\n)\n \nm\ne\nt\nh\no\nd\n\n\n\n\nc\nl\na\ns\ns\n \nT\na\ns\nk\n:\n\n\n \n \n \n \n.\n.\n.\n\n\n \n \n \n \nd\ne\nf\n \ns\ne\nn\nd\n(\ns\ne\nl\nf\n,\n \nm\ns\ng\n)\n:\n\n\n \n \n \n \n \n \n \n \n.\n.\n.\n\n\n\n\nt\na\ns\nk\n_\na\n \n=\n \nT\na\ns\nk\n(\n)\n\n\nt\na\ns\nk\n_\nb\n \n=\n \nT\na\ns\nk\n(\n)\n\n\n\n\n#\n \nE\nx\na\nm\np\nl\ne\n \no\nf\n \ng\ne\nt\nt\ni\nn\ng\n \na\nn\n \ne\nx\nc\nh\na\nn\ng\ne\n\n\ne\nx\nc\n \n=\n \ng\ne\nt\n_\ne\nx\nc\nh\na\nn\ng\ne\n(\n'\nn\na\nm\ne\n'\n)\n\n\n\n\n#\n \nE\nx\na\nm\np\nl\ne\ns\n \no\nf\n \ns\nu\nb\ns\nc\nr\ni\nb\ni\nn\ng\n \nt\na\ns\nk\ns\n \nt\no\n \ni\nt\n\n\ne\nx\nc\n.\na\nt\nt\na\nc\nh\n(\nt\na\ns\nk\n_\na\n)\n\n\ne\nx\nc\n.\na\nt\nt\na\nc\nh\n(\nt\na\ns\nk\n_\nb\n)\n\n\n\n\n#\n \nE\nx\na\nm\np\nl\ne\n \no\nf\n \ns\ne\nn\nd\ni\nn\ng\n \nm\ne\ns\ns\na\ng\ne\ns\n\n\ne\nx\nc\n.\ns\ne\nn\nd\n(\n'\nm\ns\ng\n1\n'\n)\n\n\ne\nx\nc\n.\ns\ne\nn\nd\n(\n'\nm\ns\ng\n2\n'\n)\n\n\n\n\n#\n \nE\nx\na\nm\np\nl\ne\n \no\nf\n \nu\nn\ns\nu\nb\ns\nc\nr\ni\nb\ni\nn\ng\n\n\ne\nx\nc\n.\nd\ne\nt\na\nc\nh\n(\nt\na\ns\nk\n_\na\n)\n\n\ne\nx\nc\n.\nd\ne\nt\na\nc\nh\n(\nt\na\ns\nk\n_\nb\n)\n\n"
      ]
    },
    {
      "cell_type": "markdown",
      "metadata": {},
      "source": [
        "\u5c3d\u7ba1\u5bf9\u4e8e\u8fd9\u4e2a\u95ee\u9898\u6709\u5f88\u591a\u7684\u53d8\u79cd\uff0c\u4e0d\u8fc7\u4e07\u53d8\u4e0d\u79bb\u5176\u5b97\u3002\n\u6d88\u606f\u4f1a\u88ab\u53d1\u9001\u7ed9\u4e00\u4e2a\u4ea4\u6362\u673a\uff0c\u7136\u540e\u4ea4\u6362\u673a\u4f1a\u5c06\u5b83\u4eec\u53d1\u9001\u7ed9\u88ab\u7ed1\u5b9a\u7684\u8ba2\u9605\u8005\u3002"
      ]
    },
    {
      "cell_type": "markdown",
      "metadata": {},
      "source": [
        "### \u8ba8\u8bba\n"
      ]
    },
    {
      "cell_type": "markdown",
      "metadata": {},
      "source": [
        "\u901a\u8fc7\u961f\u5217\u53d1\u9001\u6d88\u606f\u7684\u4efb\u52a1\u6216\u7ebf\u7a0b\u7684\u6a21\u5f0f\u5f88\u5bb9\u6613\u88ab\u5b9e\u73b0\u5e76\u4e14\u4e5f\u975e\u5e38\u666e\u904d\u3002\n\u4e0d\u8fc7\uff0c\u4f7f\u7528\u53d1\u5e03/\u8ba2\u9605\u6a21\u5f0f\u7684\u597d\u5904\u66f4\u52a0\u660e\u663e\u3002"
      ]
    },
    {
      "cell_type": "markdown",
      "metadata": {},
      "source": [
        "\u9996\u5148\uff0c\u4f7f\u7528\u4e00\u4e2a\u4ea4\u6362\u673a\u53ef\u4ee5\u7b80\u5316\u5927\u90e8\u5206\u6d89\u53ca\u5230\u7ebf\u7a0b\u901a\u4fe1\u7684\u5de5\u4f5c\u3002\n\u65e0\u9700\u53bb\u5199\u901a\u8fc7\u591a\u8fdb\u7a0b\u6a21\u5757\u6765\u64cd\u4f5c\u591a\u4e2a\u7ebf\u7a0b\uff0c\u4f60\u53ea\u9700\u8981\u4f7f\u7528\u8fd9\u4e2a\u4ea4\u6362\u673a\u6765\u8fde\u63a5\u5b83\u4eec\u3002\n\u67d0\u79cd\u7a0b\u5ea6\u4e0a\uff0c\u8fd9\u4e2a\u5c31\u8ddf\u65e5\u5fd7\u6a21\u5757\u7684\u5de5\u4f5c\u539f\u7406\u7c7b\u4f3c\u3002\n\u5b9e\u9645\u4e0a\uff0c\u5b83\u53ef\u4ee5\u8f7b\u677e\u7684\u89e3\u8026\u7a0b\u5e8f\u4e2d\u591a\u4e2a\u4efb\u52a1\u3002"
      ]
    },
    {
      "cell_type": "markdown",
      "metadata": {},
      "source": [
        "\u5176\u6b21\uff0c\u4ea4\u6362\u673a\u5e7f\u64ad\u6d88\u606f\u7ed9\u591a\u4e2a\u8ba2\u9605\u8005\u7684\u80fd\u529b\u5e26\u6765\u4e86\u4e00\u4e2a\u5168\u65b0\u7684\u901a\u4fe1\u6a21\u5f0f\u3002\n\u4f8b\u5982\uff0c\u4f60\u53ef\u4ee5\u4f7f\u7528\u591a\u4efb\u52a1\u7cfb\u7edf\u3001\u5e7f\u64ad\u6216\u6247\u51fa\u3002\n\u4f60\u8fd8\u53ef\u4ee5\u901a\u8fc7\u4ee5\u666e\u901a\u8ba2\u9605\u8005\u8eab\u4efd\u7ed1\u5b9a\u6765\u6784\u5efa\u8c03\u8bd5\u548c\u8bca\u65ad\u5de5\u5177\u3002\n\u4f8b\u5982\uff0c\u4e0b\u9762\u662f\u4e00\u4e2a\u7b80\u5355\u7684\u8bca\u65ad\u7c7b\uff0c\u53ef\u4ee5\u663e\u793a\u88ab\u53d1\u9001\u7684\u6d88\u606f\uff1a"
      ]
    },
    {
      "cell_type": "code",
      "execution_count": null,
      "metadata": {},
      "outputs": [],
      "source": [
        "c\nl\na\ns\ns\n \nD\ni\ns\np\nl\na\ny\nM\ne\ns\ns\na\ng\ne\ns\n:\n\n\n \n \n \n \nd\ne\nf\n \n_\n_\ni\nn\ni\nt\n_\n_\n(\ns\ne\nl\nf\n)\n:\n\n\n \n \n \n \n \n \n \n \ns\ne\nl\nf\n.\nc\no\nu\nn\nt\n \n=\n \n0\n\n\n \n \n \n \nd\ne\nf\n \ns\ne\nn\nd\n(\ns\ne\nl\nf\n,\n \nm\ns\ng\n)\n:\n\n\n \n \n \n \n \n \n \n \ns\ne\nl\nf\n.\nc\no\nu\nn\nt\n \n+\n=\n \n1\n\n\n \n \n \n \n \n \n \n \np\nr\ni\nn\nt\n(\n'\nm\ns\ng\n[\n{\n}\n]\n:\n \n{\n!\nr\n}\n'\n.\nf\no\nr\nm\na\nt\n(\ns\ne\nl\nf\n.\nc\no\nu\nn\nt\n,\n \nm\ns\ng\n)\n)\n\n\n\n\ne\nx\nc\n \n=\n \ng\ne\nt\n_\ne\nx\nc\nh\na\nn\ng\ne\n(\n'\nn\na\nm\ne\n'\n)\n\n\nd\n \n=\n \nD\ni\ns\np\nl\na\ny\nM\ne\ns\ns\na\ng\ne\ns\n(\n)\n\n\ne\nx\nc\n.\na\nt\nt\na\nc\nh\n(\nd\n)\n\n"
      ]
    },
    {
      "cell_type": "markdown",
      "metadata": {},
      "source": [
        "\u6700\u540e\uff0c\u8be5\u5b9e\u73b0\u7684\u4e00\u4e2a\u91cd\u8981\u7279\u70b9\u662f\u5b83\u80fd\u517c\u5bb9\u591a\u4e2a\u201ctask-like\u201d\u5bf9\u8c61\u3002\n\u4f8b\u5982\uff0c\u6d88\u606f\u63a5\u53d7\u8005\u53ef\u4ee5\u662factor\uff0812.10\u5c0f\u8282\u4ecb\u7ecd\uff09\u3001\u534f\u7a0b\u3001\u7f51\u7edc\u8fde\u63a5\u6216\u4efb\u4f55\u5b9e\u73b0\u4e86\u6b63\u786e\u7684 send() \u65b9\u6cd5\u7684\u4e1c\u897f\u3002"
      ]
    },
    {
      "cell_type": "markdown",
      "metadata": {},
      "source": [
        "\u5173\u4e8e\u4ea4\u6362\u673a\u7684\u4e00\u4e2a\u53ef\u80fd\u95ee\u9898\u662f\u5bf9\u4e8e\u8ba2\u9605\u8005\u7684\u6b63\u786e\u7ed1\u5b9a\u548c\u89e3\u7ed1\u3002\n\u4e3a\u4e86\u6b63\u786e\u7684\u7ba1\u7406\u8d44\u6e90\uff0c\u6bcf\u4e00\u4e2a\u7ed1\u5b9a\u7684\u8ba2\u9605\u8005\u5fc5\u987b\u6700\u7ec8\u8981\u89e3\u7ed1\u3002\n\u5728\u4ee3\u7801\u4e2d\u901a\u5e38\u4f1a\u662f\u50cf\u4e0b\u9762\u8fd9\u6837\u7684\u6a21\u5f0f\uff1a"
      ]
    },
    {
      "cell_type": "code",
      "execution_count": null,
      "metadata": {},
      "outputs": [],
      "source": [
        "e\nx\nc\n \n=\n \ng\ne\nt\n_\ne\nx\nc\nh\na\nn\ng\ne\n(\n'\nn\na\nm\ne\n'\n)\n\n\ne\nx\nc\n.\na\nt\nt\na\nc\nh\n(\ns\no\nm\ne\n_\nt\na\ns\nk\n)\n\n\nt\nr\ny\n:\n\n\n \n \n \n \n.\n.\n.\n\n\nf\ni\nn\na\nl\nl\ny\n:\n\n\n \n \n \n \ne\nx\nc\n.\nd\ne\nt\na\nc\nh\n(\ns\no\nm\ne\n_\nt\na\ns\nk\n)\n\n"
      ]
    },
    {
      "cell_type": "markdown",
      "metadata": {},
      "source": [
        "\u67d0\u79cd\u610f\u4e49\u4e0a\uff0c\u8fd9\u4e2a\u548c\u4f7f\u7528\u6587\u4ef6\u3001\u9501\u548c\u7c7b\u4f3c\u5bf9\u8c61\u5f88\u50cf\u3002\n\u901a\u5e38\u5f88\u5bb9\u6613\u4f1a\u5fd8\u8bb0\u6700\u540e\u7684 detach() \u6b65\u9aa4\u3002\n\u4e3a\u4e86\u7b80\u5316\u8fd9\u4e2a\uff0c\u4f60\u53ef\u4ee5\u8003\u8651\u4f7f\u7528\u4e0a\u4e0b\u6587\u7ba1\u7406\u5668\u534f\u8bae\u3002\n\u4f8b\u5982\uff0c\u5728\u4ea4\u6362\u673a\u5bf9\u8c61\u4e0a\u589e\u52a0\u4e00\u4e2a subscribe() \u65b9\u6cd5\uff0c\u5982\u4e0b\uff1a"
      ]
    },
    {
      "cell_type": "code",
      "execution_count": null,
      "metadata": {},
      "outputs": [],
      "source": [
        "f\nr\no\nm\n \nc\no\nn\nt\ne\nx\nt\nl\ni\nb\n \ni\nm\np\no\nr\nt\n \nc\no\nn\nt\ne\nx\nt\nm\na\nn\na\ng\ne\nr\n\n\nf\nr\no\nm\n \nc\no\nl\nl\ne\nc\nt\ni\no\nn\ns\n \ni\nm\np\no\nr\nt\n \nd\ne\nf\na\nu\nl\nt\nd\ni\nc\nt\n\n\n\n\nc\nl\na\ns\ns\n \nE\nx\nc\nh\na\nn\ng\ne\n:\n\n\n \n \n \n \nd\ne\nf\n \n_\n_\ni\nn\ni\nt\n_\n_\n(\ns\ne\nl\nf\n)\n:\n\n\n \n \n \n \n \n \n \n \ns\ne\nl\nf\n.\n_\ns\nu\nb\ns\nc\nr\ni\nb\ne\nr\ns\n \n=\n \ns\ne\nt\n(\n)\n\n\n\n\n \n \n \n \nd\ne\nf\n \na\nt\nt\na\nc\nh\n(\ns\ne\nl\nf\n,\n \nt\na\ns\nk\n)\n:\n\n\n \n \n \n \n \n \n \n \ns\ne\nl\nf\n.\n_\ns\nu\nb\ns\nc\nr\ni\nb\ne\nr\ns\n.\na\nd\nd\n(\nt\na\ns\nk\n)\n\n\n\n\n \n \n \n \nd\ne\nf\n \nd\ne\nt\na\nc\nh\n(\ns\ne\nl\nf\n,\n \nt\na\ns\nk\n)\n:\n\n\n \n \n \n \n \n \n \n \ns\ne\nl\nf\n.\n_\ns\nu\nb\ns\nc\nr\ni\nb\ne\nr\ns\n.\nr\ne\nm\no\nv\ne\n(\nt\na\ns\nk\n)\n\n\n\n\n \n \n \n \n@\nc\no\nn\nt\ne\nx\nt\nm\na\nn\na\ng\ne\nr\n\n\n \n \n \n \nd\ne\nf\n \ns\nu\nb\ns\nc\nr\ni\nb\ne\n(\ns\ne\nl\nf\n,\n \n*\nt\na\ns\nk\ns\n)\n:\n\n\n \n \n \n \n \n \n \n \nf\no\nr\n \nt\na\ns\nk\n \ni\nn\n \nt\na\ns\nk\ns\n:\n\n\n \n \n \n \n \n \n \n \n \n \n \n \ns\ne\nl\nf\n.\na\nt\nt\na\nc\nh\n(\nt\na\ns\nk\n)\n\n\n \n \n \n \n \n \n \n \nt\nr\ny\n:\n\n\n \n \n \n \n \n \n \n \n \n \n \n \ny\ni\ne\nl\nd\n\n\n \n \n \n \n \n \n \n \nf\ni\nn\na\nl\nl\ny\n:\n\n\n \n \n \n \n \n \n \n \n \n \n \n \nf\no\nr\n \nt\na\ns\nk\n \ni\nn\n \nt\na\ns\nk\ns\n:\n\n\n \n \n \n \n \n \n \n \n \n \n \n \n \n \n \n \ns\ne\nl\nf\n.\nd\ne\nt\na\nc\nh\n(\nt\na\ns\nk\n)\n\n\n\n\n \n \n \n \nd\ne\nf\n \ns\ne\nn\nd\n(\ns\ne\nl\nf\n,\n \nm\ns\ng\n)\n:\n\n\n \n \n \n \n \n \n \n \nf\no\nr\n \ns\nu\nb\ns\nc\nr\ni\nb\ne\nr\n \ni\nn\n \ns\ne\nl\nf\n.\n_\ns\nu\nb\ns\nc\nr\ni\nb\ne\nr\ns\n:\n\n\n \n \n \n \n \n \n \n \n \n \n \n \ns\nu\nb\ns\nc\nr\ni\nb\ne\nr\n.\ns\ne\nn\nd\n(\nm\ns\ng\n)\n\n\n\n\n#\n \nD\ni\nc\nt\ni\no\nn\na\nr\ny\n \no\nf\n \na\nl\nl\n \nc\nr\ne\na\nt\ne\nd\n \ne\nx\nc\nh\na\nn\ng\ne\ns\n\n\n_\ne\nx\nc\nh\na\nn\ng\ne\ns\n \n=\n \nd\ne\nf\na\nu\nl\nt\nd\ni\nc\nt\n(\nE\nx\nc\nh\na\nn\ng\ne\n)\n\n\n\n\n#\n \nR\ne\nt\nu\nr\nn\n \nt\nh\ne\n \nE\nx\nc\nh\na\nn\ng\ne\n \ni\nn\ns\nt\na\nn\nc\ne\n \na\ns\ns\no\nc\ni\na\nt\ne\nd\n \nw\ni\nt\nh\n \na\n \ng\ni\nv\ne\nn\n \nn\na\nm\ne\n\n\nd\ne\nf\n \ng\ne\nt\n_\ne\nx\nc\nh\na\nn\ng\ne\n(\nn\na\nm\ne\n)\n:\n\n\n \n \n \n \nr\ne\nt\nu\nr\nn\n \n_\ne\nx\nc\nh\na\nn\ng\ne\ns\n[\nn\na\nm\ne\n]\n\n\n\n\n#\n \nE\nx\na\nm\np\nl\ne\n \no\nf\n \nu\ns\ni\nn\ng\n \nt\nh\ne\n \ns\nu\nb\ns\nc\nr\ni\nb\ne\n(\n)\n \nm\ne\nt\nh\no\nd\n\n\ne\nx\nc\n \n=\n \ng\ne\nt\n_\ne\nx\nc\nh\na\nn\ng\ne\n(\n'\nn\na\nm\ne\n'\n)\n\n\nw\ni\nt\nh\n \ne\nx\nc\n.\ns\nu\nb\ns\nc\nr\ni\nb\ne\n(\nt\na\ns\nk\n_\na\n,\n \nt\na\ns\nk\n_\nb\n)\n:\n\n\n \n \n \n \n \n.\n.\n.\n\n\n \n \n \n \n \ne\nx\nc\n.\ns\ne\nn\nd\n(\n'\nm\ns\ng\n1\n'\n)\n\n\n \n \n \n \n \ne\nx\nc\n.\ns\ne\nn\nd\n(\n'\nm\ns\ng\n2\n'\n)\n\n\n \n \n \n \n \n.\n.\n.\n\n\n\n\n#\n \nt\na\ns\nk\n_\na\n \na\nn\nd\n \nt\na\ns\nk\n_\nb\n \nd\ne\nt\na\nc\nh\ne\nd\n \nh\ne\nr\ne\n\n"
      ]
    },
    {
      "cell_type": "markdown",
      "metadata": {},
      "source": [
        "\u6700\u540e\u8fd8\u5e94\u8be5\u6ce8\u610f\u7684\u662f\u5173\u4e8e\u4ea4\u6362\u673a\u7684\u601d\u60f3\u6709\u5f88\u591a\u79cd\u7684\u6269\u5c55\u5b9e\u73b0\u3002\n\u4f8b\u5982\uff0c\u4ea4\u6362\u673a\u53ef\u4ee5\u5b9e\u73b0\u4e00\u6574\u4e2a\u6d88\u606f\u901a\u9053\u96c6\u5408\u6216\u63d0\u4f9b\u4ea4\u6362\u673a\u540d\u79f0\u7684\u6a21\u5f0f\u5339\u914d\u89c4\u5219\u3002\n\u4ea4\u6362\u673a\u8fd8\u53ef\u4ee5\u88ab\u6269\u5c55\u5230\u5206\u5e03\u5f0f\u8ba1\u7b97\u7a0b\u5e8f\u4e2d\uff08\u6bd4\u5982\uff0c\u5c06\u6d88\u606f\u8def\u7531\u5230\u4e0d\u540c\u673a\u5668\u4e0a\u9762\u7684\u4efb\u52a1\u4e2d\u53bb\uff09\u3002"
      ]
    },
    {
      "cell_type": "markdown",
      "metadata": {},
      "source": [
        "## 12.12 \u4f7f\u7528\u751f\u6210\u5668\u4ee3\u66ff\u7ebf\u7a0b\n"
      ]
    },
    {
      "cell_type": "markdown",
      "metadata": {},
      "source": [
        "### \u95ee\u9898\n"
      ]
    },
    {
      "cell_type": "markdown",
      "metadata": {},
      "source": [
        "\u4f60\u60f3\u4f7f\u7528\u751f\u6210\u5668\uff08\u534f\u7a0b\uff09\u66ff\u4ee3\u7cfb\u7edf\u7ebf\u7a0b\u6765\u5b9e\u73b0\u5e76\u53d1\u3002\u8fd9\u4e2a\u6709\u65f6\u53c8\u88ab\u79f0\u4e3a\u7528\u6237\u7ea7\u7ebf\u7a0b\u6216\u7eff\u8272\u7ebf\u7a0b\u3002"
      ]
    },
    {
      "cell_type": "markdown",
      "metadata": {},
      "source": [
        "### \u89e3\u51b3\u65b9\u6848\n"
      ]
    },
    {
      "cell_type": "markdown",
      "metadata": {},
      "source": [
        "\u8981\u4f7f\u7528\u751f\u6210\u5668\u5b9e\u73b0\u81ea\u5df1\u7684\u5e76\u53d1\uff0c\u4f60\u9996\u5148\u8981\u5bf9\u751f\u6210\u5668\u51fd\u6570\u548c yield \u8bed\u53e5\u6709\u6df1\u523b\u7406\u89e3\u3002\nyield \u8bed\u53e5\u4f1a\u8ba9\u4e00\u4e2a\u751f\u6210\u5668\u6302\u8d77\u5b83\u7684\u6267\u884c\uff0c\u8fd9\u6837\u5c31\u53ef\u4ee5\u7f16\u5199\u4e00\u4e2a\u8c03\u5ea6\u5668\uff0c\n\u5c06\u751f\u6210\u5668\u5f53\u505a\u67d0\u79cd\u201c\u4efb\u52a1\u201d\u5e76\u4f7f\u7528\u4efb\u52a1\u534f\u4f5c\u5207\u6362\u6765\u66ff\u6362\u5b83\u4eec\u7684\u6267\u884c\u3002\n\u8981\u6f14\u793a\u8fd9\u79cd\u601d\u60f3\uff0c\u8003\u8651\u4e0b\u9762\u4e24\u4e2a\u4f7f\u7528\u7b80\u5355\u7684 yield \u8bed\u53e5\u7684\u751f\u6210\u5668\u51fd\u6570\uff1a"
      ]
    },
    {
      "cell_type": "code",
      "execution_count": null,
      "metadata": {},
      "outputs": [],
      "source": [
        "#\n \nT\nw\no\n \ns\ni\nm\np\nl\ne\n \ng\ne\nn\ne\nr\na\nt\no\nr\n \nf\nu\nn\nc\nt\ni\no\nn\ns\n\n\nd\ne\nf\n \nc\no\nu\nn\nt\nd\no\nw\nn\n(\nn\n)\n:\n\n\n \n \n \n \nw\nh\ni\nl\ne\n \nn\n \n>\n \n0\n:\n\n\n \n \n \n \n \n \n \n \np\nr\ni\nn\nt\n(\n'\nT\n-\nm\ni\nn\nu\ns\n'\n,\n \nn\n)\n\n\n \n \n \n \n \n \n \n \ny\ni\ne\nl\nd\n\n\n \n \n \n \n \n \n \n \nn\n \n-\n=\n \n1\n\n\n \n \n \n \np\nr\ni\nn\nt\n(\n'\nB\nl\na\ns\nt\no\nf\nf\n!\n'\n)\n\n\n\n\nd\ne\nf\n \nc\no\nu\nn\nt\nu\np\n(\nn\n)\n:\n\n\n \n \n \n \nx\n \n=\n \n0\n\n\n \n \n \n \nw\nh\ni\nl\ne\n \nx\n \n<\n \nn\n:\n\n\n \n \n \n \n \n \n \n \np\nr\ni\nn\nt\n(\n'\nC\no\nu\nn\nt\ni\nn\ng\n \nu\np\n'\n,\n \nx\n)\n\n\n \n \n \n \n \n \n \n \ny\ni\ne\nl\nd\n\n\n \n \n \n \n \n \n \n \nx\n \n+\n=\n \n1\n\n"
      ]
    },
    {
      "cell_type": "markdown",
      "metadata": {},
      "source": [
        "\u8fd9\u4e9b\u51fd\u6570\u5728\u5185\u90e8\u4f7f\u7528yield\u8bed\u53e5\uff0c\u4e0b\u9762\u662f\u4e00\u4e2a\u5b9e\u73b0\u4e86\u7b80\u5355\u4efb\u52a1\u8c03\u5ea6\u5668\u7684\u4ee3\u7801\uff1a"
      ]
    },
    {
      "cell_type": "code",
      "execution_count": null,
      "metadata": {},
      "outputs": [],
      "source": [
        "f\nr\no\nm\n \nc\no\nl\nl\ne\nc\nt\ni\no\nn\ns\n \ni\nm\np\no\nr\nt\n \nd\ne\nq\nu\ne\n\n\n\n\nc\nl\na\ns\ns\n \nT\na\ns\nk\nS\nc\nh\ne\nd\nu\nl\ne\nr\n:\n\n\n \n \n \n \nd\ne\nf\n \n_\n_\ni\nn\ni\nt\n_\n_\n(\ns\ne\nl\nf\n)\n:\n\n\n \n \n \n \n \n \n \n \ns\ne\nl\nf\n.\n_\nt\na\ns\nk\n_\nq\nu\ne\nu\ne\n \n=\n \nd\ne\nq\nu\ne\n(\n)\n\n\n\n\n \n \n \n \nd\ne\nf\n \nn\ne\nw\n_\nt\na\ns\nk\n(\ns\ne\nl\nf\n,\n \nt\na\ns\nk\n)\n:\n\n\n \n \n \n \n \n \n \n \n'\n'\n'\n\n\n \n \n \n \n \n \n \n \nA\nd\nm\ni\nt\n \na\n \nn\ne\nw\nl\ny\n \ns\nt\na\nr\nt\ne\nd\n \nt\na\ns\nk\n \nt\no\n \nt\nh\ne\n \ns\nc\nh\ne\nd\nu\nl\ne\nr\n\n\n\n\n \n \n \n \n \n \n \n \n'\n'\n'\n\n\n \n \n \n \n \n \n \n \ns\ne\nl\nf\n.\n_\nt\na\ns\nk\n_\nq\nu\ne\nu\ne\n.\na\np\np\ne\nn\nd\n(\nt\na\ns\nk\n)\n\n\n\n\n \n \n \n \nd\ne\nf\n \nr\nu\nn\n(\ns\ne\nl\nf\n)\n:\n\n\n \n \n \n \n \n \n \n \n'\n'\n'\n\n\n \n \n \n \n \n \n \n \nR\nu\nn\n \nu\nn\nt\ni\nl\n \nt\nh\ne\nr\ne\n \na\nr\ne\n \nn\no\n \nm\no\nr\ne\n \nt\na\ns\nk\ns\n\n\n \n \n \n \n \n \n \n \n'\n'\n'\n\n\n \n \n \n \n \n \n \n \nw\nh\ni\nl\ne\n \ns\ne\nl\nf\n.\n_\nt\na\ns\nk\n_\nq\nu\ne\nu\ne\n:\n\n\n \n \n \n \n \n \n \n \n \n \n \n \nt\na\ns\nk\n \n=\n \ns\ne\nl\nf\n.\n_\nt\na\ns\nk\n_\nq\nu\ne\nu\ne\n.\np\no\np\nl\ne\nf\nt\n(\n)\n\n\n \n \n \n \n \n \n \n \n \n \n \n \nt\nr\ny\n:\n\n\n \n \n \n \n \n \n \n \n \n \n \n \n \n \n \n \n#\n \nR\nu\nn\n \nu\nn\nt\ni\nl\n \nt\nh\ne\n \nn\ne\nx\nt\n \ny\ni\ne\nl\nd\n \ns\nt\na\nt\ne\nm\ne\nn\nt\n\n\n \n \n \n \n \n \n \n \n \n \n \n \n \n \n \n \nn\ne\nx\nt\n(\nt\na\ns\nk\n)\n\n\n \n \n \n \n \n \n \n \n \n \n \n \n \n \n \n \ns\ne\nl\nf\n.\n_\nt\na\ns\nk\n_\nq\nu\ne\nu\ne\n.\na\np\np\ne\nn\nd\n(\nt\na\ns\nk\n)\n\n\n \n \n \n \n \n \n \n \n \n \n \n \ne\nx\nc\ne\np\nt\n \nS\nt\no\np\nI\nt\ne\nr\na\nt\ni\no\nn\n:\n\n\n \n \n \n \n \n \n \n \n \n \n \n \n \n \n \n \n#\n \nG\ne\nn\ne\nr\na\nt\no\nr\n \ni\ns\n \nn\no\n \nl\no\nn\ng\ne\nr\n \ne\nx\ne\nc\nu\nt\ni\nn\ng\n\n\n \n \n \n \n \n \n \n \n \n \n \n \n \n \n \n \np\na\ns\ns\n\n\n\n\n#\n \nE\nx\na\nm\np\nl\ne\n \nu\ns\ne\n\n\ns\nc\nh\ne\nd\n \n=\n \nT\na\ns\nk\nS\nc\nh\ne\nd\nu\nl\ne\nr\n(\n)\n\n\ns\nc\nh\ne\nd\n.\nn\ne\nw\n_\nt\na\ns\nk\n(\nc\no\nu\nn\nt\nd\no\nw\nn\n(\n1\n0\n)\n)\n\n\ns\nc\nh\ne\nd\n.\nn\ne\nw\n_\nt\na\ns\nk\n(\nc\no\nu\nn\nt\nd\no\nw\nn\n(\n5\n)\n)\n\n\ns\nc\nh\ne\nd\n.\nn\ne\nw\n_\nt\na\ns\nk\n(\nc\no\nu\nn\nt\nu\np\n(\n1\n5\n)\n)\n\n\ns\nc\nh\ne\nd\n.\nr\nu\nn\n(\n)\n\n"
      ]
    },
    {
      "cell_type": "markdown",
      "metadata": {},
      "source": [
        "TaskScheduler \u7c7b\u5728\u4e00\u4e2a\u5faa\u73af\u4e2d\u8fd0\u884c\u751f\u6210\u5668\u96c6\u5408\u2014\u2014\u6bcf\u4e2a\u90fd\u8fd0\u884c\u5230\u78b0\u5230yield\u8bed\u53e5\u4e3a\u6b62\u3002\n\u8fd0\u884c\u8fd9\u4e2a\u4f8b\u5b50\uff0c\u8f93\u51fa\u5982\u4e0b\uff1a"
      ]
    },
    {
      "cell_type": "code",
      "execution_count": null,
      "metadata": {},
      "outputs": [],
      "source": [
        "T\n-\nm\ni\nn\nu\ns\n \n1\n0\n\n\nT\n-\nm\ni\nn\nu\ns\n \n5\n\n\nC\no\nu\nn\nt\ni\nn\ng\n \nu\np\n \n0\n\n\nT\n-\nm\ni\nn\nu\ns\n \n9\n\n\nT\n-\nm\ni\nn\nu\ns\n \n4\n\n\nC\no\nu\nn\nt\ni\nn\ng\n \nu\np\n \n1\n\n\nT\n-\nm\ni\nn\nu\ns\n \n8\n\n\nT\n-\nm\ni\nn\nu\ns\n \n3\n\n\nC\no\nu\nn\nt\ni\nn\ng\n \nu\np\n \n2\n\n\nT\n-\nm\ni\nn\nu\ns\n \n7\n\n\nT\n-\nm\ni\nn\nu\ns\n \n2\n\n\n.\n.\n.\n\n"
      ]
    },
    {
      "cell_type": "markdown",
      "metadata": {},
      "source": [
        "\u5230\u6b64\u4e3a\u6b62\uff0c\u6211\u4eec\u5b9e\u9645\u4e0a\u5df2\u7ecf\u5b9e\u73b0\u4e86\u4e00\u4e2a\u201c\u64cd\u4f5c\u7cfb\u7edf\u201d\u7684\u6700\u5c0f\u6838\u5fc3\u90e8\u5206\u3002\n\u751f\u6210\u5668\u51fd\u6570\u5c31\u662f\u8ba4\u4e3a\uff0c\u800cyield\u8bed\u53e5\u662f\u4efb\u52a1\u6302\u8d77\u7684\u4fe1\u53f7\u3002\n\u8c03\u5ea6\u5668\u5faa\u73af\u68c0\u67e5\u4efb\u52a1\u5217\u8868\u76f4\u5230\u6ca1\u6709\u4efb\u52a1\u8981\u6267\u884c\u4e3a\u6b62\u3002"
      ]
    },
    {
      "cell_type": "markdown",
      "metadata": {},
      "source": [
        "\u5b9e\u9645\u4e0a\uff0c\u4f60\u53ef\u80fd\u60f3\u8981\u4f7f\u7528\u751f\u6210\u5668\u6765\u5b9e\u73b0\u7b80\u5355\u7684\u5e76\u53d1\u3002\n\u90a3\u4e48\uff0c\u5728\u5b9e\u73b0actor\u6216\u7f51\u7edc\u670d\u52a1\u5668\u7684\u65f6\u5019\u4f60\u53ef\u4ee5\u4f7f\u7528\u751f\u6210\u5668\u6765\u66ff\u4ee3\u7ebf\u7a0b\u7684\u4f7f\u7528\u3002"
      ]
    },
    {
      "cell_type": "markdown",
      "metadata": {},
      "source": [
        "\u4e0b\u9762\u7684\u4ee3\u7801\u6f14\u793a\u4e86\u4f7f\u7528\u751f\u6210\u5668\u6765\u5b9e\u73b0\u4e00\u4e2a\u4e0d\u4f9d\u8d56\u7ebf\u7a0b\u7684actor\uff1a"
      ]
    },
    {
      "cell_type": "code",
      "execution_count": null,
      "metadata": {},
      "outputs": [],
      "source": [
        "f\nr\no\nm\n \nc\no\nl\nl\ne\nc\nt\ni\no\nn\ns\n \ni\nm\np\no\nr\nt\n \nd\ne\nq\nu\ne\n\n\n\n\nc\nl\na\ns\ns\n \nA\nc\nt\no\nr\nS\nc\nh\ne\nd\nu\nl\ne\nr\n:\n\n\n \n \n \n \nd\ne\nf\n \n_\n_\ni\nn\ni\nt\n_\n_\n(\ns\ne\nl\nf\n)\n:\n\n\n \n \n \n \n \n \n \n \ns\ne\nl\nf\n.\n_\na\nc\nt\no\nr\ns\n \n=\n \n{\n \n}\n \n \n \n \n \n \n \n \n \n \n#\n \nM\na\np\np\ni\nn\ng\n \no\nf\n \nn\na\nm\ne\ns\n \nt\no\n \na\nc\nt\no\nr\ns\n\n\n \n \n \n \n \n \n \n \ns\ne\nl\nf\n.\n_\nm\ns\ng\n_\nq\nu\ne\nu\ne\n \n=\n \nd\ne\nq\nu\ne\n(\n)\n \n \n \n#\n \nM\ne\ns\ns\na\ng\ne\n \nq\nu\ne\nu\ne\n\n\n\n\n \n \n \n \nd\ne\nf\n \nn\ne\nw\n_\na\nc\nt\no\nr\n(\ns\ne\nl\nf\n,\n \nn\na\nm\ne\n,\n \na\nc\nt\no\nr\n)\n:\n\n\n \n \n \n \n \n \n \n \n'\n'\n'\n\n\n \n \n \n \n \n \n \n \nA\nd\nm\ni\nt\n \na\n \nn\ne\nw\nl\ny\n \ns\nt\na\nr\nt\ne\nd\n \na\nc\nt\no\nr\n \nt\no\n \nt\nh\ne\n \ns\nc\nh\ne\nd\nu\nl\ne\nr\n \na\nn\nd\n \ng\ni\nv\ne\n \ni\nt\n \na\n \nn\na\nm\ne\n\n\n \n \n \n \n \n \n \n \n'\n'\n'\n\n\n \n \n \n \n \n \n \n \ns\ne\nl\nf\n.\n_\nm\ns\ng\n_\nq\nu\ne\nu\ne\n.\na\np\np\ne\nn\nd\n(\n(\na\nc\nt\no\nr\n,\nN\no\nn\ne\n)\n)\n\n\n \n \n \n \n \n \n \n \ns\ne\nl\nf\n.\n_\na\nc\nt\no\nr\ns\n[\nn\na\nm\ne\n]\n \n=\n \na\nc\nt\no\nr\n\n\n\n\n \n \n \n \nd\ne\nf\n \ns\ne\nn\nd\n(\ns\ne\nl\nf\n,\n \nn\na\nm\ne\n,\n \nm\ns\ng\n)\n:\n\n\n \n \n \n \n \n \n \n \n'\n'\n'\n\n\n \n \n \n \n \n \n \n \nS\ne\nn\nd\n \na\n \nm\ne\ns\ns\na\ng\ne\n \nt\no\n \na\n \nn\na\nm\ne\nd\n \na\nc\nt\no\nr\n\n\n \n \n \n \n \n \n \n \n'\n'\n'\n\n\n \n \n \n \n \n \n \n \na\nc\nt\no\nr\n \n=\n \ns\ne\nl\nf\n.\n_\na\nc\nt\no\nr\ns\n.\ng\ne\nt\n(\nn\na\nm\ne\n)\n\n\n \n \n \n \n \n \n \n \ni\nf\n \na\nc\nt\no\nr\n:\n\n\n \n \n \n \n \n \n \n \n \n \n \n \ns\ne\nl\nf\n.\n_\nm\ns\ng\n_\nq\nu\ne\nu\ne\n.\na\np\np\ne\nn\nd\n(\n(\na\nc\nt\no\nr\n,\nm\ns\ng\n)\n)\n\n\n\n\n \n \n \n \nd\ne\nf\n \nr\nu\nn\n(\ns\ne\nl\nf\n)\n:\n\n\n \n \n \n \n \n \n \n \n'\n'\n'\n\n\n \n \n \n \n \n \n \n \nR\nu\nn\n \na\ns\n \nl\no\nn\ng\n \na\ns\n \nt\nh\ne\nr\ne\n \na\nr\ne\n \np\ne\nn\nd\ni\nn\ng\n \nm\ne\ns\ns\na\ng\ne\ns\n.\n\n\n \n \n \n \n \n \n \n \n'\n'\n'\n\n\n \n \n \n \n \n \n \n \nw\nh\ni\nl\ne\n \ns\ne\nl\nf\n.\n_\nm\ns\ng\n_\nq\nu\ne\nu\ne\n:\n\n\n \n \n \n \n \n \n \n \n \n \n \n \na\nc\nt\no\nr\n,\n \nm\ns\ng\n \n=\n \ns\ne\nl\nf\n.\n_\nm\ns\ng\n_\nq\nu\ne\nu\ne\n.\np\no\np\nl\ne\nf\nt\n(\n)\n\n\n \n \n \n \n \n \n \n \n \n \n \n \nt\nr\ny\n:\n\n\n \n \n \n \n \n \n \n \n \n \n \n \n \n \n \n \n \na\nc\nt\no\nr\n.\ns\ne\nn\nd\n(\nm\ns\ng\n)\n\n\n \n \n \n \n \n \n \n \n \n \n \n \ne\nx\nc\ne\np\nt\n \nS\nt\no\np\nI\nt\ne\nr\na\nt\ni\no\nn\n:\n\n\n \n \n \n \n \n \n \n \n \n \n \n \n \n \n \n \n \np\na\ns\ns\n\n\n\n\n#\n \nE\nx\na\nm\np\nl\ne\n \nu\ns\ne\n\n\ni\nf\n \n_\n_\nn\na\nm\ne\n_\n_\n \n=\n=\n \n'\n_\n_\nm\na\ni\nn\n_\n_\n'\n:\n\n\n \n \n \n \nd\ne\nf\n \np\nr\ni\nn\nt\ne\nr\n(\n)\n:\n\n\n \n \n \n \n \n \n \n \nw\nh\ni\nl\ne\n \nT\nr\nu\ne\n:\n\n\n \n \n \n \n \n \n \n \n \n \n \n \nm\ns\ng\n \n=\n \ny\ni\ne\nl\nd\n\n\n \n \n \n \n \n \n \n \n \n \n \n \np\nr\ni\nn\nt\n(\n'\nG\no\nt\n:\n'\n,\n \nm\ns\ng\n)\n\n\n\n\n \n \n \n \nd\ne\nf\n \nc\no\nu\nn\nt\ne\nr\n(\ns\nc\nh\ne\nd\n)\n:\n\n\n \n \n \n \n \n \n \n \nw\nh\ni\nl\ne\n \nT\nr\nu\ne\n:\n\n\n \n \n \n \n \n \n \n \n \n \n \n \n#\n \nR\ne\nc\ne\ni\nv\ne\n \nt\nh\ne\n \nc\nu\nr\nr\ne\nn\nt\n \nc\no\nu\nn\nt\n\n\n \n \n \n \n \n \n \n \n \n \n \n \nn\n \n=\n \ny\ni\ne\nl\nd\n\n\n \n \n \n \n \n \n \n \n \n \n \n \ni\nf\n \nn\n \n=\n=\n \n0\n:\n\n\n \n \n \n \n \n \n \n \n \n \n \n \n \n \n \n \nb\nr\ne\na\nk\n\n\n \n \n \n \n \n \n \n \n \n \n \n \n#\n \nS\ne\nn\nd\n \nt\no\n \nt\nh\ne\n \np\nr\ni\nn\nt\ne\nr\n \nt\na\ns\nk\n\n\n \n \n \n \n \n \n \n \n \n \n \n \ns\nc\nh\ne\nd\n.\ns\ne\nn\nd\n(\n'\np\nr\ni\nn\nt\ne\nr\n'\n,\n \nn\n)\n\n\n \n \n \n \n \n \n \n \n \n \n \n \n#\n \nS\ne\nn\nd\n \nt\nh\ne\n \nn\ne\nx\nt\n \nc\no\nu\nn\nt\n \nt\no\n \nt\nh\ne\n \nc\no\nu\nn\nt\ne\nr\n \nt\na\ns\nk\n \n(\nr\ne\nc\nu\nr\ns\ni\nv\ne\n)\n\n\n\n\n \n \n \n \n \n \n \n \n \n \n \n \ns\nc\nh\ne\nd\n.\ns\ne\nn\nd\n(\n'\nc\no\nu\nn\nt\ne\nr\n'\n,\n \nn\n-\n1\n)\n\n\n\n\n \n \n \n \ns\nc\nh\ne\nd\n \n=\n \nA\nc\nt\no\nr\nS\nc\nh\ne\nd\nu\nl\ne\nr\n(\n)\n\n\n \n \n \n \n#\n \nC\nr\ne\na\nt\ne\n \nt\nh\ne\n \ni\nn\ni\nt\ni\na\nl\n \na\nc\nt\no\nr\ns\n\n\n \n \n \n \ns\nc\nh\ne\nd\n.\nn\ne\nw\n_\na\nc\nt\no\nr\n(\n'\np\nr\ni\nn\nt\ne\nr\n'\n,\n \np\nr\ni\nn\nt\ne\nr\n(\n)\n)\n\n\n \n \n \n \ns\nc\nh\ne\nd\n.\nn\ne\nw\n_\na\nc\nt\no\nr\n(\n'\nc\no\nu\nn\nt\ne\nr\n'\n,\n \nc\no\nu\nn\nt\ne\nr\n(\ns\nc\nh\ne\nd\n)\n)\n\n\n\n\n \n \n \n \n#\n \nS\ne\nn\nd\n \na\nn\n \ni\nn\ni\nt\ni\na\nl\n \nm\ne\ns\ns\na\ng\ne\n \nt\no\n \nt\nh\ne\n \nc\no\nu\nn\nt\ne\nr\n \nt\no\n \ni\nn\ni\nt\ni\na\nt\ne\n\n\n \n \n \n \ns\nc\nh\ne\nd\n.\ns\ne\nn\nd\n(\n'\nc\no\nu\nn\nt\ne\nr\n'\n,\n \n1\n0\n0\n0\n0\n)\n\n\n \n \n \n \ns\nc\nh\ne\nd\n.\nr\nu\nn\n(\n)\n\n"
      ]
    },
    {
      "cell_type": "markdown",
      "metadata": {},
      "source": [
        "\u5b8c\u5168\u5f04\u61c2\u8fd9\u6bb5\u4ee3\u7801\u9700\u8981\u66f4\u6df1\u5165\u7684\u5b66\u4e60\uff0c\u4f46\u662f\u5173\u952e\u70b9\u5728\u4e8e\u6536\u96c6\u6d88\u606f\u7684\u961f\u5217\u3002\n\u672c\u8d28\u4e0a\uff0c\u8c03\u5ea6\u5668\u5728\u6709\u9700\u8981\u53d1\u9001\u7684\u6d88\u606f\u65f6\u4f1a\u4e00\u76f4\u8fd0\u884c\u7740\u3002\n\u8ba1\u6570\u751f\u6210\u5668\u4f1a\u7ed9\u81ea\u5df1\u53d1\u9001\u6d88\u606f\u5e76\u5728\u4e00\u4e2a\u9012\u5f52\u5faa\u73af\u4e2d\u7ed3\u675f\u3002"
      ]
    },
    {
      "cell_type": "markdown",
      "metadata": {},
      "source": [
        "\u4e0b\u9762\u662f\u4e00\u4e2a\u66f4\u52a0\u9ad8\u7ea7\u7684\u4f8b\u5b50\uff0c\u6f14\u793a\u4e86\u4f7f\u7528\u751f\u6210\u5668\u6765\u5b9e\u73b0\u4e00\u4e2a\u5e76\u53d1\u7f51\u7edc\u5e94\u7528\u7a0b\u5e8f\uff1a"
      ]
    },
    {
      "cell_type": "code",
      "execution_count": null,
      "metadata": {},
      "outputs": [],
      "source": [
        "f\nr\no\nm\n \nc\no\nl\nl\ne\nc\nt\ni\no\nn\ns\n \ni\nm\np\no\nr\nt\n \nd\ne\nq\nu\ne\n\n\nf\nr\no\nm\n \ns\ne\nl\ne\nc\nt\n \ni\nm\np\no\nr\nt\n \ns\ne\nl\ne\nc\nt\n\n\n\n\n#\n \nT\nh\ni\ns\n \nc\nl\na\ns\ns\n \nr\ne\np\nr\ne\ns\ne\nn\nt\ns\n \na\n \ng\ne\nn\ne\nr\ni\nc\n \ny\ni\ne\nl\nd\n \ne\nv\ne\nn\nt\n \ni\nn\n \nt\nh\ne\n \ns\nc\nh\ne\nd\nu\nl\ne\nr\n\n\nc\nl\na\ns\ns\n \nY\ni\ne\nl\nd\nE\nv\ne\nn\nt\n:\n\n\n \n \n \n \nd\ne\nf\n \nh\na\nn\nd\nl\ne\n_\ny\ni\ne\nl\nd\n(\ns\ne\nl\nf\n,\n \ns\nc\nh\ne\nd\n,\n \nt\na\ns\nk\n)\n:\n\n\n \n \n \n \n \n \n \n \np\na\ns\ns\n\n\n \n \n \n \nd\ne\nf\n \nh\na\nn\nd\nl\ne\n_\nr\ne\ns\nu\nm\ne\n(\ns\ne\nl\nf\n,\n \ns\nc\nh\ne\nd\n,\n \nt\na\ns\nk\n)\n:\n\n\n \n \n \n \n \n \n \n \np\na\ns\ns\n\n\n\n\n#\n \nT\na\ns\nk\n \nS\nc\nh\ne\nd\nu\nl\ne\nr\n\n\nc\nl\na\ns\ns\n \nS\nc\nh\ne\nd\nu\nl\ne\nr\n:\n\n\n \n \n \n \nd\ne\nf\n \n_\n_\ni\nn\ni\nt\n_\n_\n(\ns\ne\nl\nf\n)\n:\n\n\n \n \n \n \n \n \n \n \ns\ne\nl\nf\n.\n_\nn\nu\nm\nt\na\ns\nk\ns\n \n=\n \n0\n \n \n \n \n \n \n \n#\n \nT\no\nt\na\nl\n \nn\nu\nm\n \no\nf\n \nt\na\ns\nk\ns\n\n\n \n \n \n \n \n \n \n \ns\ne\nl\nf\n.\n_\nr\ne\na\nd\ny\n \n=\n \nd\ne\nq\nu\ne\n(\n)\n \n \n \n \n#\n \nT\na\ns\nk\ns\n \nr\ne\na\nd\ny\n \nt\no\n \nr\nu\nn\n\n\n \n \n \n \n \n \n \n \ns\ne\nl\nf\n.\n_\nr\ne\na\nd\n_\nw\na\ni\nt\ni\nn\ng\n \n=\n \n{\n}\n \n \n#\n \nT\na\ns\nk\ns\n \nw\na\ni\nt\ni\nn\ng\n \nt\no\n \nr\ne\na\nd\n\n\n \n \n \n \n \n \n \n \ns\ne\nl\nf\n.\n_\nw\nr\ni\nt\ne\n_\nw\na\ni\nt\ni\nn\ng\n \n=\n \n{\n}\n \n#\n \nT\na\ns\nk\ns\n \nw\na\ni\nt\ni\nn\ng\n \nt\no\n \nw\nr\ni\nt\ne\n\n\n\n\n \n \n \n \n#\n \nP\no\nl\nl\n \nf\no\nr\n \nI\n/\nO\n \ne\nv\ne\nn\nt\ns\n \na\nn\nd\n \nr\ne\ns\nt\na\nr\nt\n \nw\na\ni\nt\ni\nn\ng\n \nt\na\ns\nk\ns\n\n\n \n \n \n \nd\ne\nf\n \n_\ni\no\np\no\nl\nl\n(\ns\ne\nl\nf\n)\n:\n\n\n \n \n \n \n \n \n \n \nr\ns\ne\nt\n,\nw\ns\ne\nt\n,\ne\ns\ne\nt\n \n=\n \ns\ne\nl\ne\nc\nt\n(\ns\ne\nl\nf\n.\n_\nr\ne\na\nd\n_\nw\na\ni\nt\ni\nn\ng\n,\n\n\n \n \n \n \n \n \n \n \n \n \n \n \n \n \n \n \n \n \n \n \n \n \n \n \n \n \n \n \n \n \n \n \ns\ne\nl\nf\n.\n_\nw\nr\ni\nt\ne\n_\nw\na\ni\nt\ni\nn\ng\n,\n[\n]\n)\n\n\n \n \n \n \n \n \n \n \nf\no\nr\n \nr\n \ni\nn\n \nr\ns\ne\nt\n:\n\n\n \n \n \n \n \n \n \n \n \n \n \n \ne\nv\nt\n,\n \nt\na\ns\nk\n \n=\n \ns\ne\nl\nf\n.\n_\nr\ne\na\nd\n_\nw\na\ni\nt\ni\nn\ng\n.\np\no\np\n(\nr\n)\n\n\n \n \n \n \n \n \n \n \n \n \n \n \ne\nv\nt\n.\nh\na\nn\nd\nl\ne\n_\nr\ne\ns\nu\nm\ne\n(\ns\ne\nl\nf\n,\n \nt\na\ns\nk\n)\n\n\n \n \n \n \n \n \n \n \nf\no\nr\n \nw\n \ni\nn\n \nw\ns\ne\nt\n:\n\n\n \n \n \n \n \n \n \n \n \n \n \n \ne\nv\nt\n,\n \nt\na\ns\nk\n \n=\n \ns\ne\nl\nf\n.\n_\nw\nr\ni\nt\ne\n_\nw\na\ni\nt\ni\nn\ng\n.\np\no\np\n(\nw\n)\n\n\n \n \n \n \n \n \n \n \n \n \n \n \ne\nv\nt\n.\nh\na\nn\nd\nl\ne\n_\nr\ne\ns\nu\nm\ne\n(\ns\ne\nl\nf\n,\n \nt\na\ns\nk\n)\n\n\n\n\n \n \n \n \nd\ne\nf\n \nn\ne\nw\n(\ns\ne\nl\nf\n,\nt\na\ns\nk\n)\n:\n\n\n \n \n \n \n \n \n \n \n'\n'\n'\n\n\n \n \n \n \n \n \n \n \nA\nd\nd\n \na\n \nn\ne\nw\nl\ny\n \ns\nt\na\nr\nt\ne\nd\n \nt\na\ns\nk\n \nt\no\n \nt\nh\ne\n \ns\nc\nh\ne\nd\nu\nl\ne\nr\n\n\n \n \n \n \n \n \n \n \n'\n'\n'\n\n\n\n\n \n \n \n \n \n \n \n \ns\ne\nl\nf\n.\n_\nr\ne\na\nd\ny\n.\na\np\np\ne\nn\nd\n(\n(\nt\na\ns\nk\n,\n \nN\no\nn\ne\n)\n)\n\n\n \n \n \n \n \n \n \n \ns\ne\nl\nf\n.\n_\nn\nu\nm\nt\na\ns\nk\ns\n \n+\n=\n \n1\n\n\n\n\n \n \n \n \nd\ne\nf\n \na\nd\nd\n_\nr\ne\na\nd\ny\n(\ns\ne\nl\nf\n,\n \nt\na\ns\nk\n,\n \nm\ns\ng\n=\nN\no\nn\ne\n)\n:\n\n\n \n \n \n \n \n \n \n \n'\n'\n'\n\n\n \n \n \n \n \n \n \n \nA\np\np\ne\nn\nd\n \na\nn\n \na\nl\nr\ne\na\nd\ny\n \ns\nt\na\nr\nt\ne\nd\n \nt\na\ns\nk\n \nt\no\n \nt\nh\ne\n \nr\ne\na\nd\ny\n \nq\nu\ne\nu\ne\n.\n\n\n \n \n \n \n \n \n \n \nm\ns\ng\n \ni\ns\n \nw\nh\na\nt\n \nt\no\n \ns\ne\nn\nd\n \ni\nn\nt\no\n \nt\nh\ne\n \nt\na\ns\nk\n \nw\nh\ne\nn\n \ni\nt\n \nr\ne\ns\nu\nm\ne\ns\n.\n\n\n \n \n \n \n \n \n \n \n'\n'\n'\n\n\n \n \n \n \n \n \n \n \ns\ne\nl\nf\n.\n_\nr\ne\na\nd\ny\n.\na\np\np\ne\nn\nd\n(\n(\nt\na\ns\nk\n,\n \nm\ns\ng\n)\n)\n\n\n\n\n \n \n \n \n#\n \nA\nd\nd\n \na\n \nt\na\ns\nk\n \nt\no\n \nt\nh\ne\n \nr\ne\na\nd\ni\nn\ng\n \ns\ne\nt\n\n\n \n \n \n \nd\ne\nf\n \n_\nr\ne\na\nd\n_\nw\na\ni\nt\n(\ns\ne\nl\nf\n,\n \nf\ni\nl\ne\nn\no\n,\n \ne\nv\nt\n,\n \nt\na\ns\nk\n)\n:\n\n\n \n \n \n \n \n \n \n \ns\ne\nl\nf\n.\n_\nr\ne\na\nd\n_\nw\na\ni\nt\ni\nn\ng\n[\nf\ni\nl\ne\nn\no\n]\n \n=\n \n(\ne\nv\nt\n,\n \nt\na\ns\nk\n)\n\n\n\n\n \n \n \n \n#\n \nA\nd\nd\n \na\n \nt\na\ns\nk\n \nt\no\n \nt\nh\ne\n \nw\nr\ni\nt\ne\n \ns\ne\nt\n\n\n \n \n \n \nd\ne\nf\n \n_\nw\nr\ni\nt\ne\n_\nw\na\ni\nt\n(\ns\ne\nl\nf\n,\n \nf\ni\nl\ne\nn\no\n,\n \ne\nv\nt\n,\n \nt\na\ns\nk\n)\n:\n\n\n \n \n \n \n \n \n \n \ns\ne\nl\nf\n.\n_\nw\nr\ni\nt\ne\n_\nw\na\ni\nt\ni\nn\ng\n[\nf\ni\nl\ne\nn\no\n]\n \n=\n \n(\ne\nv\nt\n,\n \nt\na\ns\nk\n)\n\n\n\n\n \n \n \n \nd\ne\nf\n \nr\nu\nn\n(\ns\ne\nl\nf\n)\n:\n\n\n \n \n \n \n \n \n \n \n'\n'\n'\n\n\n \n \n \n \n \n \n \n \nR\nu\nn\n \nt\nh\ne\n \nt\na\ns\nk\n \ns\nc\nh\ne\nd\nu\nl\ne\nr\n \nu\nn\nt\ni\nl\n \nt\nh\ne\nr\ne\n \na\nr\ne\n \nn\no\n \nt\na\ns\nk\ns\n\n\n \n \n \n \n \n \n \n \n'\n'\n'\n\n\n \n \n \n \n \n \n \n \nw\nh\ni\nl\ne\n \ns\ne\nl\nf\n.\n_\nn\nu\nm\nt\na\ns\nk\ns\n:\n\n\n \n \n \n \n \n \n \n \n \n \n \n \n \ni\nf\n \nn\no\nt\n \ns\ne\nl\nf\n.\n_\nr\ne\na\nd\ny\n:\n\n\n \n \n \n \n \n \n \n \n \n \n \n \n \n \n \n \n \n \ns\ne\nl\nf\n.\n_\ni\no\np\no\nl\nl\n(\n)\n\n\n \n \n \n \n \n \n \n \n \n \n \n \n \nt\na\ns\nk\n,\n \nm\ns\ng\n \n=\n \ns\ne\nl\nf\n.\n_\nr\ne\na\nd\ny\n.\np\no\np\nl\ne\nf\nt\n(\n)\n\n\n \n \n \n \n \n \n \n \n \n \n \n \n \nt\nr\ny\n:\n\n\n \n \n \n \n \n \n \n \n \n \n \n \n \n \n \n \n \n#\n \nR\nu\nn\n \nt\nh\ne\n \nc\no\nr\no\nu\nt\ni\nn\ne\n \nt\no\n \nt\nh\ne\n \nn\ne\nx\nt\n \ny\ni\ne\nl\nd\n\n\n \n \n \n \n \n \n \n \n \n \n \n \n \n \n \n \n \nr\n \n=\n \nt\na\ns\nk\n.\ns\ne\nn\nd\n(\nm\ns\ng\n)\n\n\n \n \n \n \n \n \n \n \n \n \n \n \n \n \n \n \n \ni\nf\n \ni\ns\ni\nn\ns\nt\na\nn\nc\ne\n(\nr\n,\n \nY\ni\ne\nl\nd\nE\nv\ne\nn\nt\n)\n:\n\n\n \n \n \n \n \n \n \n \n \n \n \n \n \n \n \n \n \n \n \n \n \nr\n.\nh\na\nn\nd\nl\ne\n_\ny\ni\ne\nl\nd\n(\ns\ne\nl\nf\n,\n \nt\na\ns\nk\n)\n\n\n \n \n \n \n \n \n \n \n \n \n \n \n \n \n \n \n \ne\nl\ns\ne\n:\n\n\n \n \n \n \n \n \n \n \n \n \n \n \n \n \n \n \n \n \n \n \n \nr\na\ni\ns\ne\n \nR\nu\nn\nt\ni\nm\ne\nE\nr\nr\no\nr\n(\n'\nu\nn\nr\ne\nc\no\ng\nn\ni\nz\ne\nd\n \ny\ni\ne\nl\nd\n \ne\nv\ne\nn\nt\n'\n)\n\n\n \n \n \n \n \n \n \n \n \n \n \n \n \ne\nx\nc\ne\np\nt\n \nS\nt\no\np\nI\nt\ne\nr\na\nt\ni\no\nn\n:\n\n\n \n \n \n \n \n \n \n \n \n \n \n \n \n \n \n \n \ns\ne\nl\nf\n.\n_\nn\nu\nm\nt\na\ns\nk\ns\n \n-\n=\n \n1\n\n\n\n\n#\n \nE\nx\na\nm\np\nl\ne\n \ni\nm\np\nl\ne\nm\ne\nn\nt\na\nt\ni\no\nn\n \no\nf\n \nc\no\nr\no\nu\nt\ni\nn\ne\n-\nb\na\ns\ne\nd\n \ns\no\nc\nk\ne\nt\n \nI\n/\nO\n\n\nc\nl\na\ns\ns\n \nR\ne\na\nd\nS\no\nc\nk\ne\nt\n(\nY\ni\ne\nl\nd\nE\nv\ne\nn\nt\n)\n:\n\n\n \n \n \n \nd\ne\nf\n \n_\n_\ni\nn\ni\nt\n_\n_\n(\ns\ne\nl\nf\n,\n \ns\no\nc\nk\n,\n \nn\nb\ny\nt\ne\ns\n)\n:\n\n\n \n \n \n \n \n \n \n \ns\ne\nl\nf\n.\ns\no\nc\nk\n \n=\n \ns\no\nc\nk\n\n\n \n \n \n \n \n \n \n \ns\ne\nl\nf\n.\nn\nb\ny\nt\ne\ns\n \n=\n \nn\nb\ny\nt\ne\ns\n\n\n \n \n \n \nd\ne\nf\n \nh\na\nn\nd\nl\ne\n_\ny\ni\ne\nl\nd\n(\ns\ne\nl\nf\n,\n \ns\nc\nh\ne\nd\n,\n \nt\na\ns\nk\n)\n:\n\n\n \n \n \n \n \n \n \n \ns\nc\nh\ne\nd\n.\n_\nr\ne\na\nd\n_\nw\na\ni\nt\n(\ns\ne\nl\nf\n.\ns\no\nc\nk\n.\nf\ni\nl\ne\nn\no\n(\n)\n,\n \ns\ne\nl\nf\n,\n \nt\na\ns\nk\n)\n\n\n \n \n \n \nd\ne\nf\n \nh\na\nn\nd\nl\ne\n_\nr\ne\ns\nu\nm\ne\n(\ns\ne\nl\nf\n,\n \ns\nc\nh\ne\nd\n,\n \nt\na\ns\nk\n)\n:\n\n\n \n \n \n \n \n \n \n \nd\na\nt\na\n \n=\n \ns\ne\nl\nf\n.\ns\no\nc\nk\n.\nr\ne\nc\nv\n(\ns\ne\nl\nf\n.\nn\nb\ny\nt\ne\ns\n)\n\n\n \n \n \n \n \n \n \n \ns\nc\nh\ne\nd\n.\na\nd\nd\n_\nr\ne\na\nd\ny\n(\nt\na\ns\nk\n,\n \nd\na\nt\na\n)\n\n\n\n\nc\nl\na\ns\ns\n \nW\nr\ni\nt\ne\nS\no\nc\nk\ne\nt\n(\nY\ni\ne\nl\nd\nE\nv\ne\nn\nt\n)\n:\n\n\n \n \n \n \nd\ne\nf\n \n_\n_\ni\nn\ni\nt\n_\n_\n(\ns\ne\nl\nf\n,\n \ns\no\nc\nk\n,\n \nd\na\nt\na\n)\n:\n\n\n \n \n \n \n \n \n \n \ns\ne\nl\nf\n.\ns\no\nc\nk\n \n=\n \ns\no\nc\nk\n\n\n \n \n \n \n \n \n \n \ns\ne\nl\nf\n.\nd\na\nt\na\n \n=\n \nd\na\nt\na\n\n\n \n \n \n \nd\ne\nf\n \nh\na\nn\nd\nl\ne\n_\ny\ni\ne\nl\nd\n(\ns\ne\nl\nf\n,\n \ns\nc\nh\ne\nd\n,\n \nt\na\ns\nk\n)\n:\n\n\n\n\n \n \n \n \n \n \n \n \ns\nc\nh\ne\nd\n.\n_\nw\nr\ni\nt\ne\n_\nw\na\ni\nt\n(\ns\ne\nl\nf\n.\ns\no\nc\nk\n.\nf\ni\nl\ne\nn\no\n(\n)\n,\n \ns\ne\nl\nf\n,\n \nt\na\ns\nk\n)\n\n\n \n \n \n \nd\ne\nf\n \nh\na\nn\nd\nl\ne\n_\nr\ne\ns\nu\nm\ne\n(\ns\ne\nl\nf\n,\n \ns\nc\nh\ne\nd\n,\n \nt\na\ns\nk\n)\n:\n\n\n \n \n \n \n \n \n \n \nn\ns\ne\nn\nt\n \n=\n \ns\ne\nl\nf\n.\ns\no\nc\nk\n.\ns\ne\nn\nd\n(\ns\ne\nl\nf\n.\nd\na\nt\na\n)\n\n\n \n \n \n \n \n \n \n \ns\nc\nh\ne\nd\n.\na\nd\nd\n_\nr\ne\na\nd\ny\n(\nt\na\ns\nk\n,\n \nn\ns\ne\nn\nt\n)\n\n\n\n\nc\nl\na\ns\ns\n \nA\nc\nc\ne\np\nt\nS\no\nc\nk\ne\nt\n(\nY\ni\ne\nl\nd\nE\nv\ne\nn\nt\n)\n:\n\n\n \n \n \n \nd\ne\nf\n \n_\n_\ni\nn\ni\nt\n_\n_\n(\ns\ne\nl\nf\n,\n \ns\no\nc\nk\n)\n:\n\n\n \n \n \n \n \n \n \n \ns\ne\nl\nf\n.\ns\no\nc\nk\n \n=\n \ns\no\nc\nk\n\n\n \n \n \n \nd\ne\nf\n \nh\na\nn\nd\nl\ne\n_\ny\ni\ne\nl\nd\n(\ns\ne\nl\nf\n,\n \ns\nc\nh\ne\nd\n,\n \nt\na\ns\nk\n)\n:\n\n\n \n \n \n \n \n \n \n \ns\nc\nh\ne\nd\n.\n_\nr\ne\na\nd\n_\nw\na\ni\nt\n(\ns\ne\nl\nf\n.\ns\no\nc\nk\n.\nf\ni\nl\ne\nn\no\n(\n)\n,\n \ns\ne\nl\nf\n,\n \nt\na\ns\nk\n)\n\n\n \n \n \n \nd\ne\nf\n \nh\na\nn\nd\nl\ne\n_\nr\ne\ns\nu\nm\ne\n(\ns\ne\nl\nf\n,\n \ns\nc\nh\ne\nd\n,\n \nt\na\ns\nk\n)\n:\n\n\n \n \n \n \n \n \n \n \nr\n \n=\n \ns\ne\nl\nf\n.\ns\no\nc\nk\n.\na\nc\nc\ne\np\nt\n(\n)\n\n\n \n \n \n \n \n \n \n \ns\nc\nh\ne\nd\n.\na\nd\nd\n_\nr\ne\na\nd\ny\n(\nt\na\ns\nk\n,\n \nr\n)\n\n\n\n\n#\n \nW\nr\na\np\np\ne\nr\n \na\nr\no\nu\nn\nd\n \na\n \ns\no\nc\nk\ne\nt\n \no\nb\nj\ne\nc\nt\n \nf\no\nr\n \nu\ns\ne\n \nw\ni\nt\nh\n \ny\ni\ne\nl\nd\n\n\nc\nl\na\ns\ns\n \nS\no\nc\nk\ne\nt\n(\no\nb\nj\ne\nc\nt\n)\n:\n\n\n \n \n \n \nd\ne\nf\n \n_\n_\ni\nn\ni\nt\n_\n_\n(\ns\ne\nl\nf\n,\n \ns\no\nc\nk\n)\n:\n\n\n \n \n \n \n \n \n \n \ns\ne\nl\nf\n.\n_\ns\no\nc\nk\n \n=\n \ns\no\nc\nk\n\n\n \n \n \n \nd\ne\nf\n \nr\ne\nc\nv\n(\ns\ne\nl\nf\n,\n \nm\na\nx\nb\ny\nt\ne\ns\n)\n:\n\n\n \n \n \n \n \n \n \n \nr\ne\nt\nu\nr\nn\n \nR\ne\na\nd\nS\no\nc\nk\ne\nt\n(\ns\ne\nl\nf\n.\n_\ns\no\nc\nk\n,\n \nm\na\nx\nb\ny\nt\ne\ns\n)\n\n\n \n \n \n \nd\ne\nf\n \ns\ne\nn\nd\n(\ns\ne\nl\nf\n,\n \nd\na\nt\na\n)\n:\n\n\n \n \n \n \n \n \n \n \nr\ne\nt\nu\nr\nn\n \nW\nr\ni\nt\ne\nS\no\nc\nk\ne\nt\n(\ns\ne\nl\nf\n.\n_\ns\no\nc\nk\n,\n \nd\na\nt\na\n)\n\n\n \n \n \n \nd\ne\nf\n \na\nc\nc\ne\np\nt\n(\ns\ne\nl\nf\n)\n:\n\n\n \n \n \n \n \n \n \n \nr\ne\nt\nu\nr\nn\n \nA\nc\nc\ne\np\nt\nS\no\nc\nk\ne\nt\n(\ns\ne\nl\nf\n.\n_\ns\no\nc\nk\n)\n\n\n \n \n \n \nd\ne\nf\n \n_\n_\ng\ne\nt\na\nt\nt\nr\n_\n_\n(\ns\ne\nl\nf\n,\n \nn\na\nm\ne\n)\n:\n\n\n \n \n \n \n \n \n \n \nr\ne\nt\nu\nr\nn\n \ng\ne\nt\na\nt\nt\nr\n(\ns\ne\nl\nf\n.\n_\ns\no\nc\nk\n,\n \nn\na\nm\ne\n)\n\n\n\n\ni\nf\n \n_\n_\nn\na\nm\ne\n_\n_\n \n=\n=\n \n'\n_\n_\nm\na\ni\nn\n_\n_\n'\n:\n\n\n \n \n \n \nf\nr\no\nm\n \ns\no\nc\nk\ne\nt\n \ni\nm\np\no\nr\nt\n \ns\no\nc\nk\ne\nt\n,\n \nA\nF\n_\nI\nN\nE\nT\n,\n \nS\nO\nC\nK\n_\nS\nT\nR\nE\nA\nM\n\n\n \n \n \n \ni\nm\np\no\nr\nt\n \nt\ni\nm\ne\n\n\n\n\n \n \n \n \n#\n \nE\nx\na\nm\np\nl\ne\n \no\nf\n \na\n \nf\nu\nn\nc\nt\ni\no\nn\n \ni\nn\nv\no\nl\nv\ni\nn\ng\n \ng\ne\nn\ne\nr\na\nt\no\nr\ns\n.\n \n \nT\nh\ni\ns\n \ns\nh\no\nu\nl\nd\n\n\n \n \n \n \n#\n \nb\ne\n \nc\na\nl\nl\ne\nd\n \nu\ns\ni\nn\ng\n \nl\ni\nn\ne\n \n=\n \ny\ni\ne\nl\nd\n \nf\nr\no\nm\n \nr\ne\na\nd\nl\ni\nn\ne\n(\ns\no\nc\nk\n)\n\n\n \n \n \n \nd\ne\nf\n \nr\ne\na\nd\nl\ni\nn\ne\n(\ns\no\nc\nk\n)\n:\n\n\n \n \n \n \n \n \n \n \nc\nh\na\nr\ns\n \n=\n \n[\n]\n\n\n \n \n \n \n \n \n \n \nw\nh\ni\nl\ne\n \nT\nr\nu\ne\n:\n\n\n \n \n \n \n \n \n \n \n \n \n \n \nc\n \n=\n \ny\ni\ne\nl\nd\n \ns\no\nc\nk\n.\nr\ne\nc\nv\n(\n1\n)\n\n\n \n \n \n \n \n \n \n \n \n \n \n \ni\nf\n \nn\no\nt\n \nc\n:\n\n\n \n \n \n \n \n \n \n \n \n \n \n \n \n \n \n \nb\nr\ne\na\nk\n\n\n \n \n \n \n \n \n \n \n \n \n \n \nc\nh\na\nr\ns\n.\na\np\np\ne\nn\nd\n(\nc\n)\n\n\n \n \n \n \n \n \n \n \n \n \n \n \ni\nf\n \nc\n \n=\n=\n \nb\n'\n\\\nn\n'\n:\n\n\n \n \n \n \n \n \n \n \n \n \n \n \n \n \n \n \nb\nr\ne\na\nk\n\n\n \n \n \n \n \n \n \n \nr\ne\nt\nu\nr\nn\n \nb\n'\n'\n.\nj\no\ni\nn\n(\nc\nh\na\nr\ns\n)\n\n\n\n\n \n \n \n \n#\n \nE\nc\nh\no\n \ns\ne\nr\nv\ne\nr\n \nu\ns\ni\nn\ng\n \ng\ne\nn\ne\nr\na\nt\no\nr\ns\n\n\n \n \n \n \nc\nl\na\ns\ns\n \nE\nc\nh\no\nS\ne\nr\nv\ne\nr\n:\n\n\n \n \n \n \n \n \n \n \nd\ne\nf\n \n_\n_\ni\nn\ni\nt\n_\n_\n(\ns\ne\nl\nf\n,\na\nd\nd\nr\n,\ns\nc\nh\ne\nd\n)\n:\n\n\n \n \n \n \n \n \n \n \n \n \n \n \ns\ne\nl\nf\n.\ns\nc\nh\ne\nd\n \n=\n \ns\nc\nh\ne\nd\n\n\n \n \n \n \n \n \n \n \n \n \n \n \ns\nc\nh\ne\nd\n.\nn\ne\nw\n(\ns\ne\nl\nf\n.\ns\ne\nr\nv\ne\nr\n_\nl\no\no\np\n(\na\nd\nd\nr\n)\n)\n\n\n\n\n \n \n \n \n \n \n \n \nd\ne\nf\n \ns\ne\nr\nv\ne\nr\n_\nl\no\no\np\n(\ns\ne\nl\nf\n,\na\nd\nd\nr\n)\n:\n\n\n \n \n \n \n \n \n \n \n \n \n \n \ns\n \n=\n \nS\no\nc\nk\ne\nt\n(\ns\no\nc\nk\ne\nt\n(\nA\nF\n_\nI\nN\nE\nT\n,\nS\nO\nC\nK\n_\nS\nT\nR\nE\nA\nM\n)\n)\n\n\n\n\n \n \n \n \n \n \n \n \n \n \n \n \ns\n.\nb\ni\nn\nd\n(\na\nd\nd\nr\n)\n\n\n \n \n \n \n \n \n \n \n \n \n \n \ns\n.\nl\ni\ns\nt\ne\nn\n(\n5\n)\n\n\n \n \n \n \n \n \n \n \n \n \n \n \nw\nh\ni\nl\ne\n \nT\nr\nu\ne\n:\n\n\n \n \n \n \n \n \n \n \n \n \n \n \n \n \n \n \nc\n,\na\n \n=\n \ny\ni\ne\nl\nd\n \ns\n.\na\nc\nc\ne\np\nt\n(\n)\n\n\n \n \n \n \n \n \n \n \n \n \n \n \n \n \n \n \np\nr\ni\nn\nt\n(\n'\nG\no\nt\n \nc\no\nn\nn\ne\nc\nt\ni\no\nn\n \nf\nr\no\nm\n \n'\n,\n \na\n)\n\n\n \n \n \n \n \n \n \n \n \n \n \n \n \n \n \n \ns\ne\nl\nf\n.\ns\nc\nh\ne\nd\n.\nn\ne\nw\n(\ns\ne\nl\nf\n.\nc\nl\ni\ne\nn\nt\n_\nh\na\nn\nd\nl\ne\nr\n(\nS\no\nc\nk\ne\nt\n(\nc\n)\n)\n)\n\n\n\n\n \n \n \n \n \n \n \n \nd\ne\nf\n \nc\nl\ni\ne\nn\nt\n_\nh\na\nn\nd\nl\ne\nr\n(\ns\ne\nl\nf\n,\nc\nl\ni\ne\nn\nt\n)\n:\n\n\n \n \n \n \n \n \n \n \n \n \n \n \nw\nh\ni\nl\ne\n \nT\nr\nu\ne\n:\n\n\n \n \n \n \n \n \n \n \n \n \n \n \n \n \n \n \nl\ni\nn\ne\n \n=\n \ny\ni\ne\nl\nd\n \nf\nr\no\nm\n \nr\ne\na\nd\nl\ni\nn\ne\n(\nc\nl\ni\ne\nn\nt\n)\n\n\n \n \n \n \n \n \n \n \n \n \n \n \n \n \n \n \ni\nf\n \nn\no\nt\n \nl\ni\nn\ne\n:\n\n\n \n \n \n \n \n \n \n \n \n \n \n \n \n \n \n \n \n \n \n \nb\nr\ne\na\nk\n\n\n \n \n \n \n \n \n \n \n \n \n \n \n \n \n \n \nl\ni\nn\ne\n \n=\n \nb\n'\nG\nO\nT\n:\n'\n \n+\n \nl\ni\nn\ne\n\n\n \n \n \n \n \n \n \n \n \n \n \n \n \n \n \n \nw\nh\ni\nl\ne\n \nl\ni\nn\ne\n:\n\n\n \n \n \n \n \n \n \n \n \n \n \n \n \n \n \n \n \n \n \n \nn\ns\ne\nn\nt\n \n=\n \ny\ni\ne\nl\nd\n \nc\nl\ni\ne\nn\nt\n.\ns\ne\nn\nd\n(\nl\ni\nn\ne\n)\n\n\n \n \n \n \n \n \n \n \n \n \n \n \n \n \n \n \n \n \n \n \nl\ni\nn\ne\n \n=\n \nl\ni\nn\ne\n[\nn\ns\ne\nn\nt\n:\n]\n\n\n \n \n \n \n \n \n \n \n \n \n \n \nc\nl\ni\ne\nn\nt\n.\nc\nl\no\ns\ne\n(\n)\n\n\n \n \n \n \n \n \n \n \n \n \n \n \np\nr\ni\nn\nt\n(\n'\nC\nl\ni\ne\nn\nt\n \nc\nl\no\ns\ne\nd\n'\n)\n\n\n\n\n \n \n \n \ns\nc\nh\ne\nd\n \n=\n \nS\nc\nh\ne\nd\nu\nl\ne\nr\n(\n)\n\n\n \n \n \n \nE\nc\nh\no\nS\ne\nr\nv\ne\nr\n(\n(\n'\n'\n,\n1\n6\n0\n0\n0\n)\n,\ns\nc\nh\ne\nd\n)\n\n\n \n \n \n \ns\nc\nh\ne\nd\n.\nr\nu\nn\n(\n)\n\n"
      ]
    },
    {
      "cell_type": "markdown",
      "metadata": {},
      "source": [
        "\u8fd9\u6bb5\u4ee3\u7801\u6709\u70b9\u590d\u6742\u3002\u4e0d\u8fc7\uff0c\u5b83\u5b9e\u73b0\u4e86\u4e00\u4e2a\u5c0f\u578b\u7684\u64cd\u4f5c\u7cfb\u7edf\u3002\n\u6709\u4e00\u4e2a\u5c31\u7eea\u7684\u4efb\u52a1\u961f\u5217\uff0c\u5e76\u4e14\u8fd8\u6709\u56e0I/O\u4f11\u7720\u7684\u4efb\u52a1\u7b49\u5f85\u533a\u57df\u3002\n\u8fd8\u6709\u5f88\u591a\u8c03\u5ea6\u5668\u8d1f\u8d23\u5728\u5c31\u7eea\u961f\u5217\u548cI/O\u7b49\u5f85\u533a\u57df\u4e4b\u95f4\u79fb\u52a8\u4efb\u52a1\u3002"
      ]
    },
    {
      "cell_type": "markdown",
      "metadata": {},
      "source": [
        "### \u8ba8\u8bba\n"
      ]
    },
    {
      "cell_type": "markdown",
      "metadata": {},
      "source": [
        "\u5728\u6784\u5efa\u57fa\u4e8e\u751f\u6210\u5668\u7684\u5e76\u53d1\u6846\u67b6\u65f6\uff0c\u901a\u5e38\u4f1a\u4f7f\u7528\u66f4\u5e38\u89c1\u7684yield\u5f62\u5f0f\uff1a"
      ]
    },
    {
      "cell_type": "code",
      "execution_count": null,
      "metadata": {},
      "outputs": [],
      "source": [
        "d\ne\nf\n \ns\no\nm\ne\n_\ng\ne\nn\ne\nr\na\nt\no\nr\n(\n)\n:\n\n\n \n \n \n \n.\n.\n.\n\n\n \n \n \n \nr\ne\ns\nu\nl\nt\n \n=\n \ny\ni\ne\nl\nd\n \nd\na\nt\na\n\n\n \n \n \n \n.\n.\n.\n\n"
      ]
    },
    {
      "cell_type": "markdown",
      "metadata": {},
      "source": [
        "\u4f7f\u7528\u8fd9\u79cd\u5f62\u5f0f\u7684yield\u8bed\u53e5\u7684\u51fd\u6570\u901a\u5e38\u88ab\u79f0\u4e3a\u201c\u534f\u7a0b\u201d\u3002\n\u901a\u8fc7\u8c03\u5ea6\u5668\uff0cyield\u8bed\u53e5\u5728\u4e00\u4e2a\u5faa\u73af\u4e2d\u88ab\u5904\u7406\uff0c\u5982\u4e0b\uff1a"
      ]
    },
    {
      "cell_type": "code",
      "execution_count": null,
      "metadata": {},
      "outputs": [],
      "source": [
        "f\n \n=\n \ns\no\nm\ne\n_\ng\ne\nn\ne\nr\na\nt\no\nr\n(\n)\n\n\n\n\n#\n \nI\nn\ni\nt\ni\na\nl\n \nr\ne\ns\nu\nl\nt\n.\n \nI\ns\n \nN\no\nn\ne\n \nt\no\n \ns\nt\na\nr\nt\n \ns\ni\nn\nc\ne\n \nn\no\nt\nh\ni\nn\ng\n \nh\na\ns\n \nb\ne\ne\nn\n \nc\no\nm\np\nu\nt\ne\nd\n\n\nr\ne\ns\nu\nl\nt\n \n=\n \nN\no\nn\ne\n\n\nw\nh\ni\nl\ne\n \nT\nr\nu\ne\n:\n\n\n \n \n \n \nt\nr\ny\n:\n\n\n \n \n \n \n \n \n \n \nd\na\nt\na\n \n=\n \nf\n.\ns\ne\nn\nd\n(\nr\ne\ns\nu\nl\nt\n)\n\n\n \n \n \n \n \n \n \n \nr\ne\ns\nu\nl\nt\n \n=\n \n.\n.\n.\n \nd\no\n \ns\no\nm\ne\n \nc\na\nl\nc\nu\nl\na\nt\ni\no\nn\n \n.\n.\n.\n\n\n \n \n \n \ne\nx\nc\ne\np\nt\n \nS\nt\no\np\nI\nt\ne\nr\na\nt\ni\no\nn\n:\n\n\n \n \n \n \n \n \n \n \nb\nr\ne\na\nk\n\n"
      ]
    },
    {
      "cell_type": "markdown",
      "metadata": {},
      "source": [
        "\u8fd9\u91cc\u7684\u903b\u8f91\u7a0d\u5fae\u6709\u70b9\u590d\u6742\u3002\u4e0d\u8fc7\uff0c\u88ab\u4f20\u7ed9 send() \u7684\u503c\u5b9a\u4e49\u4e86\u5728yield\u8bed\u53e5\u9192\u6765\u65f6\u7684\u8fd4\u56de\u503c\u3002\n\u56e0\u6b64\uff0c\u5982\u679c\u4e00\u4e2ayield\u51c6\u5907\u5728\u5bf9\u4e4b\u524dyield\u6570\u636e\u7684\u56de\u5e94\u4e2d\u8fd4\u56de\u7ed3\u679c\u65f6\uff0c\u4f1a\u5728\u4e0b\u4e00\u6b21 send() \u64cd\u4f5c\u8fd4\u56de\u3002\n\u5982\u679c\u4e00\u4e2a\u751f\u6210\u5668\u51fd\u6570\u521a\u5f00\u59cb\u8fd0\u884c\uff0c\u53d1\u9001\u4e00\u4e2aNone\u503c\u4f1a\u8ba9\u5b83\u6392\u5728\u7b2c\u4e00\u4e2ayield\u8bed\u53e5\u524d\u9762\u3002"
      ]
    },
    {
      "cell_type": "markdown",
      "metadata": {},
      "source": [
        "\u9664\u4e86\u53d1\u9001\u503c\u5916\uff0c\u8fd8\u53ef\u4ee5\u5728\u4e00\u4e2a\u751f\u6210\u5668\u4e0a\u9762\u6267\u884c\u4e00\u4e2a close() \u65b9\u6cd5\u3002\n\u5b83\u4f1a\u5bfc\u81f4\u5728\u6267\u884cyield\u8bed\u53e5\u65f6\u629b\u51fa\u4e00\u4e2a GeneratorExit \u5f02\u5e38\uff0c\u4ece\u800c\u7ec8\u6b62\u6267\u884c\u3002\n\u5982\u679c\u8fdb\u4e00\u6b65\u8bbe\u8ba1\uff0c\u4e00\u4e2a\u751f\u6210\u5668\u53ef\u4ee5\u6355\u83b7\u8fd9\u4e2a\u5f02\u5e38\u5e76\u6267\u884c\u6e05\u7406\u64cd\u4f5c\u3002\n\u540c\u6837\u8fd8\u53ef\u4ee5\u4f7f\u7528\u751f\u6210\u5668\u7684 throw() \u65b9\u6cd5\u5728yield\u8bed\u53e5\u6267\u884c\u65f6\u751f\u6210\u4e00\u4e2a\u4efb\u610f\u7684\u6267\u884c\u6307\u4ee4\u3002\n\u4e00\u4e2a\u4efb\u52a1\u8c03\u5ea6\u5668\u53ef\u5229\u7528\u5b83\u6765\u5728\u8fd0\u884c\u7684\u751f\u6210\u5668\u4e2d\u5904\u7406\u9519\u8bef\u3002"
      ]
    },
    {
      "cell_type": "markdown",
      "metadata": {},
      "source": [
        "\u6700\u540e\u4e00\u4e2a\u4f8b\u5b50\u4e2d\u4f7f\u7528\u7684 yield from \u8bed\u53e5\u88ab\u7528\u6765\u5b9e\u73b0\u534f\u7a0b\uff0c\u53ef\u4ee5\u88ab\u5176\u5b83\u751f\u6210\u5668\u4f5c\u4e3a\u5b50\u7a0b\u5e8f\u6216\u8fc7\u7a0b\u6765\u8c03\u7528\u3002\n\u672c\u8d28\u4e0a\u5c31\u662f\u5c06\u63a7\u5236\u6743\u900f\u660e\u7684\u4f20\u8f93\u7ed9\u65b0\u7684\u51fd\u6570\u3002\n\u4e0d\u50cf\u666e\u901a\u7684\u751f\u6210\u5668\uff0c\u4e00\u4e2a\u4f7f\u7528 yield from \u88ab\u8c03\u7528\u7684\u51fd\u6570\u53ef\u4ee5\u8fd4\u56de\u4e00\u4e2a\u4f5c\u4e3a yield from \u8bed\u53e5\u7ed3\u679c\u7684\u503c\u3002\n\u5173\u4e8e yield from \u7684\u66f4\u591a\u4fe1\u606f\u53ef\u4ee5\u5728 PEP 380 \u4e2d\u627e\u5230\u3002"
      ]
    },
    {
      "cell_type": "markdown",
      "metadata": {},
      "source": [
        "\u6700\u540e\uff0c\u5982\u679c\u4f7f\u7528\u751f\u6210\u5668\u7f16\u7a0b\uff0c\u8981\u63d0\u9192\u4f60\u7684\u662f\u5b83\u8fd8\u662f\u6709\u5f88\u591a\u7f3a\u70b9\u7684\u3002\n\u7279\u522b\u662f\uff0c\u4f60\u5f97\u4e0d\u5230\u4efb\u4f55\u7ebf\u7a0b\u53ef\u4ee5\u63d0\u4f9b\u7684\u597d\u5904\u3002\u4f8b\u5982\uff0c\u5982\u679c\u4f60\u6267\u884cCPU\u4f9d\u8d56\u6216I/O\u963b\u585e\u7a0b\u5e8f\uff0c\n\u5b83\u4f1a\u5c06\u6574\u4e2a\u4efb\u52a1\u6302\u8d77\u77e5\u9053\u64cd\u4f5c\u5b8c\u6210\u3002\u4e3a\u4e86\u89e3\u51b3\u8fd9\u4e2a\u95ee\u9898\uff0c\n\u4f60\u53ea\u80fd\u9009\u62e9\u5c06\u64cd\u4f5c\u59d4\u6d3e\u7ed9\u53e6\u5916\u4e00\u4e2a\u53ef\u4ee5\u72ec\u7acb\u8fd0\u884c\u7684\u7ebf\u7a0b\u6216\u8fdb\u7a0b\u3002\n\u53e6\u5916\u4e00\u4e2a\u9650\u5236\u662f\u5927\u90e8\u5206Python\u5e93\u5e76\u4e0d\u80fd\u5f88\u597d\u7684\u517c\u5bb9\u57fa\u4e8e\u751f\u6210\u5668\u7684\u7ebf\u7a0b\u3002\n\u5982\u679c\u4f60\u9009\u62e9\u8fd9\u4e2a\u65b9\u6848\uff0c\u4f60\u4f1a\u53d1\u73b0\u4f60\u9700\u8981\u81ea\u5df1\u6539\u5199\u5f88\u591a\u6807\u51c6\u5e93\u51fd\u6570\u3002\n\u4f5c\u4e3a\u672c\u8282\u63d0\u5230\u7684\u534f\u7a0b\u548c\u76f8\u5173\u6280\u672f\u7684\u4e00\u4e2a\u57fa\u7840\u80cc\u666f\uff0c\u53ef\u4ee5\u67e5\u770b PEP 342\n\u548c \u201c\u534f\u7a0b\u548c\u5e76\u53d1\u7684\u4e00\u95e8\u6709\u8da3\u8bfe\u7a0b\u201d"
      ]
    },
    {
      "cell_type": "markdown",
      "metadata": {},
      "source": [
        "PEP 3156 \u540c\u6837\u6709\u4e00\u4e2a\u5173\u4e8e\u4f7f\u7528\u534f\u7a0b\u7684\u5f02\u6b65I/O\u6a21\u578b\u3002\n\u7279\u522b\u7684\uff0c\u4f60\u4e0d\u53ef\u80fd\u81ea\u5df1\u53bb\u5b9e\u73b0\u4e00\u4e2a\u5e95\u5c42\u7684\u534f\u7a0b\u8c03\u5ea6\u5668\u3002\n\u4e0d\u8fc7\uff0c\u5173\u4e8e\u534f\u7a0b\u7684\u601d\u60f3\u662f\u5f88\u591a\u6d41\u884c\u5e93\u7684\u57fa\u7840\uff0c\n\u5305\u62ec gevent,\ngreenlet,\nStackless Python \u4ee5\u53ca\u5176\u4ed6\u7c7b\u4f3c\u5de5\u7a0b\u3002"
      ]
    },
    {
      "cell_type": "markdown",
      "metadata": {},
      "source": [
        "## 12.13 \u591a\u4e2a\u7ebf\u7a0b\u961f\u5217\u8f6e\u8be2\n"
      ]
    },
    {
      "cell_type": "markdown",
      "metadata": {},
      "source": [
        "### \u95ee\u9898\n"
      ]
    },
    {
      "cell_type": "markdown",
      "metadata": {},
      "source": [
        "\u4f60\u6709\u4e00\u4e2a\u7ebf\u7a0b\u961f\u5217\u96c6\u5408\uff0c\u60f3\u4e3a\u5230\u6765\u7684\u5143\u7d20\u8f6e\u8be2\u5b83\u4eec\uff0c\n\u5c31\u8ddf\u4f60\u4e3a\u4e00\u4e2a\u5ba2\u6237\u7aef\u8bf7\u6c42\u53bb\u8f6e\u8be2\u4e00\u4e2a\u7f51\u7edc\u8fde\u63a5\u96c6\u5408\u7684\u65b9\u5f0f\u4e00\u6837\u3002"
      ]
    },
    {
      "cell_type": "markdown",
      "metadata": {},
      "source": [
        "### \u89e3\u51b3\u65b9\u6848\n"
      ]
    },
    {
      "cell_type": "markdown",
      "metadata": {},
      "source": [
        "\u5bf9\u4e8e\u8f6e\u8be2\u95ee\u9898\u7684\u4e00\u4e2a\u5e38\u89c1\u89e3\u51b3\u65b9\u6848\u4e2d\u6709\u4e2a\u5f88\u5c11\u6709\u4eba\u77e5\u9053\u7684\u6280\u5de7\uff0c\u5305\u542b\u4e86\u4e00\u4e2a\u9690\u85cf\u7684\u56de\u8def\u7f51\u7edc\u8fde\u63a5\u3002\n\u672c\u8d28\u4e0a\u8bb2\u5176\u601d\u60f3\u5c31\u662f\uff1a\u5bf9\u4e8e\u6bcf\u4e2a\u4f60\u60f3\u8981\u8f6e\u8be2\u7684\u961f\u5217\uff0c\u4f60\u521b\u5efa\u4e00\u5bf9\u8fde\u63a5\u7684\u5957\u63a5\u5b57\u3002\n\u7136\u540e\u4f60\u5728\u5176\u4e2d\u4e00\u4e2a\u5957\u63a5\u5b57\u4e0a\u9762\u7f16\u5199\u4ee3\u7801\u6765\u6807\u8bc6\u5b58\u5728\u7684\u6570\u636e\uff0c\n\u53e6\u5916\u4e00\u4e2a\u5957\u63a5\u5b57\u88ab\u4f20\u7ed9 select() \u6216\u7c7b\u4f3c\u7684\u4e00\u4e2a\u8f6e\u8be2\u6570\u636e\u5230\u8fbe\u7684\u51fd\u6570\u3002\u4e0b\u9762\u7684\u4f8b\u5b50\u6f14\u793a\u4e86\u8fd9\u4e2a\u601d\u60f3\uff1a"
      ]
    },
    {
      "cell_type": "code",
      "execution_count": null,
      "metadata": {},
      "outputs": [],
      "source": [
        "i\nm\np\no\nr\nt\n \nq\nu\ne\nu\ne\n\n\ni\nm\np\no\nr\nt\n \ns\no\nc\nk\ne\nt\n\n\ni\nm\np\no\nr\nt\n \no\ns\n\n\n\n\nc\nl\na\ns\ns\n \nP\no\nl\nl\na\nb\nl\ne\nQ\nu\ne\nu\ne\n(\nq\nu\ne\nu\ne\n.\nQ\nu\ne\nu\ne\n)\n:\n\n\n \n \n \n \nd\ne\nf\n \n_\n_\ni\nn\ni\nt\n_\n_\n(\ns\ne\nl\nf\n)\n:\n\n\n \n \n \n \n \n \n \n \ns\nu\np\ne\nr\n(\n)\n.\n_\n_\ni\nn\ni\nt\n_\n_\n(\n)\n\n\n \n \n \n \n \n \n \n \n#\n \nC\nr\ne\na\nt\ne\n \na\n \np\na\ni\nr\n \no\nf\n \nc\no\nn\nn\ne\nc\nt\ne\nd\n \ns\no\nc\nk\ne\nt\ns\n\n\n \n \n \n \n \n \n \n \ni\nf\n \no\ns\n.\nn\na\nm\ne\n \n=\n=\n \n'\np\no\ns\ni\nx\n'\n:\n\n\n \n \n \n \n \n \n \n \n \n \n \n \ns\ne\nl\nf\n.\n_\np\nu\nt\ns\no\nc\nk\ne\nt\n,\n \ns\ne\nl\nf\n.\n_\ng\ne\nt\ns\no\nc\nk\ne\nt\n \n=\n \ns\no\nc\nk\ne\nt\n.\ns\no\nc\nk\ne\nt\np\na\ni\nr\n(\n)\n\n\n \n \n \n \n \n \n \n \ne\nl\ns\ne\n:\n\n\n \n \n \n \n \n \n \n \n \n \n \n \n#\n \nC\no\nm\np\na\nt\ni\nb\ni\nl\ni\nt\ny\n \no\nn\n \nn\no\nn\n-\nP\nO\nS\nI\nX\n \ns\ny\ns\nt\ne\nm\ns\n\n\n \n \n \n \n \n \n \n \n \n \n \n \ns\ne\nr\nv\ne\nr\n \n=\n \ns\no\nc\nk\ne\nt\n.\ns\no\nc\nk\ne\nt\n(\ns\no\nc\nk\ne\nt\n.\nA\nF\n_\nI\nN\nE\nT\n,\n \ns\no\nc\nk\ne\nt\n.\nS\nO\nC\nK\n_\nS\nT\nR\nE\nA\nM\n)\n\n\n \n \n \n \n \n \n \n \n \n \n \n \ns\ne\nr\nv\ne\nr\n.\nb\ni\nn\nd\n(\n(\n'\n1\n2\n7\n.\n0\n.\n0\n.\n1\n'\n,\n \n0\n)\n)\n\n\n \n \n \n \n \n \n \n \n \n \n \n \ns\ne\nr\nv\ne\nr\n.\nl\ni\ns\nt\ne\nn\n(\n1\n)\n\n\n \n \n \n \n \n \n \n \n \n \n \n \ns\ne\nl\nf\n.\n_\np\nu\nt\ns\no\nc\nk\ne\nt\n \n=\n \ns\no\nc\nk\ne\nt\n.\ns\no\nc\nk\ne\nt\n(\ns\no\nc\nk\ne\nt\n.\nA\nF\n_\nI\nN\nE\nT\n,\n \ns\no\nc\nk\ne\nt\n.\nS\nO\nC\nK\n_\nS\nT\nR\nE\nA\nM\n)\n\n\n \n \n \n \n \n \n \n \n \n \n \n \ns\ne\nl\nf\n.\n_\np\nu\nt\ns\no\nc\nk\ne\nt\n.\nc\no\nn\nn\ne\nc\nt\n(\ns\ne\nr\nv\ne\nr\n.\ng\ne\nt\ns\no\nc\nk\nn\na\nm\ne\n(\n)\n)\n\n\n \n \n \n \n \n \n \n \n \n \n \n \ns\ne\nl\nf\n.\n_\ng\ne\nt\ns\no\nc\nk\ne\nt\n,\n \n_\n \n=\n \ns\ne\nr\nv\ne\nr\n.\na\nc\nc\ne\np\nt\n(\n)\n\n\n \n \n \n \n \n \n \n \n \n \n \n \ns\ne\nr\nv\ne\nr\n.\nc\nl\no\ns\ne\n(\n)\n\n\n\n\n \n \n \n \nd\ne\nf\n \nf\ni\nl\ne\nn\no\n(\ns\ne\nl\nf\n)\n:\n\n\n \n \n \n \n \n \n \n \nr\ne\nt\nu\nr\nn\n \ns\ne\nl\nf\n.\n_\ng\ne\nt\ns\no\nc\nk\ne\nt\n.\nf\ni\nl\ne\nn\no\n(\n)\n\n\n\n\n \n \n \n \nd\ne\nf\n \np\nu\nt\n(\ns\ne\nl\nf\n,\n \ni\nt\ne\nm\n)\n:\n\n\n \n \n \n \n \n \n \n \ns\nu\np\ne\nr\n(\n)\n.\np\nu\nt\n(\ni\nt\ne\nm\n)\n\n\n \n \n \n \n \n \n \n \ns\ne\nl\nf\n.\n_\np\nu\nt\ns\no\nc\nk\ne\nt\n.\ns\ne\nn\nd\n(\nb\n'\nx\n'\n)\n\n\n\n\n \n \n \n \nd\ne\nf\n \ng\ne\nt\n(\ns\ne\nl\nf\n)\n:\n\n\n \n \n \n \n \n \n \n \ns\ne\nl\nf\n.\n_\ng\ne\nt\ns\no\nc\nk\ne\nt\n.\nr\ne\nc\nv\n(\n1\n)\n\n\n \n \n \n \n \n \n \n \nr\ne\nt\nu\nr\nn\n \ns\nu\np\ne\nr\n(\n)\n.\ng\ne\nt\n(\n)\n\n"
      ]
    },
    {
      "cell_type": "markdown",
      "metadata": {},
      "source": [
        "\u5728\u8fd9\u4e2a\u4ee3\u7801\u4e2d\uff0c\u4e00\u4e2a\u65b0\u7684 Queue \u5b9e\u4f8b\u7c7b\u578b\u88ab\u5b9a\u4e49\uff0c\u5e95\u5c42\u662f\u4e00\u4e2a\u88ab\u8fde\u63a5\u5957\u63a5\u5b57\u5bf9\u3002\n\u5728Unix\u673a\u5668\u4e0a\u7684 socketpair() \u51fd\u6570\u80fd\u8f7b\u677e\u7684\u521b\u5efa\u8fd9\u6837\u7684\u5957\u63a5\u5b57\u3002\n\u5728Windows\u4e0a\u9762\uff0c\u4f60\u5fc5\u987b\u4f7f\u7528\u7c7b\u4f3c\u4ee3\u7801\u6765\u6a21\u62df\u5b83\u3002\n\u7136\u540e\u5b9a\u4e49\u666e\u901a\u7684 get() \u548c put() \u65b9\u6cd5\u5728\u8fd9\u4e9b\u5957\u63a5\u5b57\u4e0a\u9762\u6765\u6267\u884cI/O\u64cd\u4f5c\u3002\nput() \u65b9\u6cd5\u518d\u5c06\u6570\u636e\u653e\u5165\u961f\u5217\u540e\u4f1a\u5199\u4e00\u4e2a\u5355\u5b57\u8282\u5230\u67d0\u4e2a\u5957\u63a5\u5b57\u4e2d\u53bb\u3002\n\u800c get() \u65b9\u6cd5\u5728\u4ece\u961f\u5217\u4e2d\u79fb\u9664\u4e00\u4e2a\u5143\u7d20\u65f6\u4f1a\u4ece\u53e6\u5916\u4e00\u4e2a\u5957\u63a5\u5b57\u4e2d\u8bfb\u53d6\u5230\u8fd9\u4e2a\u5355\u5b57\u8282\u6570\u636e\u3002"
      ]
    },
    {
      "cell_type": "markdown",
      "metadata": {},
      "source": [
        "fileno() \u65b9\u6cd5\u4f7f\u7528\u4e00\u4e2a\u51fd\u6570\u6bd4\u5982 select() \u6765\u8ba9\u8fd9\u4e2a\u961f\u5217\u53ef\u4ee5\u88ab\u8f6e\u8be2\u3002\n\u5b83\u4ec5\u4ec5\u53ea\u662f\u66b4\u9732\u4e86\u5e95\u5c42\u88ab get() \u51fd\u6570\u4f7f\u7528\u5230\u7684socket\u7684\u6587\u4ef6\u63cf\u8ff0\u7b26\u800c\u5df2\u3002"
      ]
    },
    {
      "cell_type": "markdown",
      "metadata": {},
      "source": [
        "\u4e0b\u9762\u662f\u4e00\u4e2a\u4f8b\u5b50\uff0c\u5b9a\u4e49\u4e86\u4e00\u4e2a\u4e3a\u5230\u6765\u7684\u5143\u7d20\u76d1\u63a7\u591a\u4e2a\u961f\u5217\u7684\u6d88\u8d39\u8005\uff1a"
      ]
    },
    {
      "cell_type": "code",
      "execution_count": null,
      "metadata": {},
      "outputs": [],
      "source": [
        "i\nm\np\no\nr\nt\n \ns\ne\nl\ne\nc\nt\n\n\ni\nm\np\no\nr\nt\n \nt\nh\nr\ne\na\nd\ni\nn\ng\n\n\n\n\nd\ne\nf\n \nc\no\nn\ns\nu\nm\ne\nr\n(\nq\nu\ne\nu\ne\ns\n)\n:\n\n\n \n \n \n \n'\n'\n'\n\n\n \n \n \n \nC\no\nn\ns\nu\nm\ne\nr\n \nt\nh\na\nt\n \nr\ne\na\nd\ns\n \nd\na\nt\na\n \no\nn\n \nm\nu\nl\nt\ni\np\nl\ne\n \nq\nu\ne\nu\ne\ns\n \ns\ni\nm\nu\nl\nt\na\nn\ne\no\nu\ns\nl\ny\n\n\n \n \n \n \n'\n'\n'\n\n\n \n \n \n \nw\nh\ni\nl\ne\n \nT\nr\nu\ne\n:\n\n\n \n \n \n \n \n \n \n \nc\na\nn\n_\nr\ne\na\nd\n,\n \n_\n,\n \n_\n \n=\n \ns\ne\nl\ne\nc\nt\n.\ns\ne\nl\ne\nc\nt\n(\nq\nu\ne\nu\ne\ns\n,\n[\n]\n,\n[\n]\n)\n\n\n \n \n \n \n \n \n \n \nf\no\nr\n \nr\n \ni\nn\n \nc\na\nn\n_\nr\ne\na\nd\n:\n\n\n \n \n \n \n \n \n \n \n \n \n \n \ni\nt\ne\nm\n \n=\n \nr\n.\ng\ne\nt\n(\n)\n\n\n \n \n \n \n \n \n \n \n \n \n \n \np\nr\ni\nn\nt\n(\n'\nG\no\nt\n:\n'\n,\n \ni\nt\ne\nm\n)\n\n\n\n\nq\n1\n \n=\n \nP\no\nl\nl\na\nb\nl\ne\nQ\nu\ne\nu\ne\n(\n)\n\n\nq\n2\n \n=\n \nP\no\nl\nl\na\nb\nl\ne\nQ\nu\ne\nu\ne\n(\n)\n\n\nq\n3\n \n=\n \nP\no\nl\nl\na\nb\nl\ne\nQ\nu\ne\nu\ne\n(\n)\n\n\nt\n \n=\n \nt\nh\nr\ne\na\nd\ni\nn\ng\n.\nT\nh\nr\ne\na\nd\n(\nt\na\nr\ng\ne\nt\n=\nc\no\nn\ns\nu\nm\ne\nr\n,\n \na\nr\ng\ns\n=\n(\n[\nq\n1\n,\nq\n2\n,\nq\n3\n]\n,\n)\n)\n\n\nt\n.\nd\na\ne\nm\no\nn\n \n=\n \nT\nr\nu\ne\n\n\nt\n.\ns\nt\na\nr\nt\n(\n)\n\n\n\n\n#\n \nF\ne\ne\nd\n \nd\na\nt\na\n \nt\no\n \nt\nh\ne\n \nq\nu\ne\nu\ne\ns\n\n\nq\n1\n.\np\nu\nt\n(\n1\n)\n\n\nq\n2\n.\np\nu\nt\n(\n1\n0\n)\n\n\nq\n3\n.\np\nu\nt\n(\n'\nh\ne\nl\nl\no\n'\n)\n\n\nq\n2\n.\np\nu\nt\n(\n1\n5\n)\n\n\n.\n.\n.\n\n"
      ]
    },
    {
      "cell_type": "markdown",
      "metadata": {},
      "source": [
        "\u5982\u679c\u4f60\u8bd5\u7740\u8fd0\u884c\u5b83\uff0c\u4f60\u4f1a\u53d1\u73b0\u8fd9\u4e2a\u6d88\u8d39\u8005\u4f1a\u63a5\u53d7\u5230\u6240\u6709\u7684\u88ab\u653e\u5165\u7684\u5143\u7d20\uff0c\u4e0d\u7ba1\u5143\u7d20\u88ab\u653e\u8fdb\u4e86\u54ea\u4e2a\u961f\u5217\u4e2d\u3002"
      ]
    },
    {
      "cell_type": "markdown",
      "metadata": {},
      "source": [
        "### \u8ba8\u8bba\n"
      ]
    },
    {
      "cell_type": "markdown",
      "metadata": {},
      "source": [
        "\u5bf9\u4e8e\u8f6e\u8be2\u975e\u7c7b\u6587\u4ef6\u5bf9\u8c61\uff0c\u6bd4\u5982\u961f\u5217\u901a\u5e38\u90fd\u662f\u6bd4\u8f83\u68d8\u624b\u7684\u95ee\u9898\u3002\n\u4f8b\u5982\uff0c\u5982\u679c\u4f60\u4e0d\u4f7f\u7528\u4e0a\u9762\u7684\u5957\u63a5\u5b57\u6280\u672f\uff0c\n\u4f60\u552f\u4e00\u7684\u9009\u62e9\u5c31\u662f\u7f16\u5199\u4ee3\u7801\u6765\u5faa\u73af\u904d\u5386\u8fd9\u4e9b\u961f\u5217\u5e76\u4f7f\u7528\u4e00\u4e2a\u5b9a\u65f6\u5668\u3002\u50cf\u4e0b\u9762\u8fd9\u6837\uff1a"
      ]
    },
    {
      "cell_type": "code",
      "execution_count": null,
      "metadata": {},
      "outputs": [],
      "source": [
        "i\nm\np\no\nr\nt\n \nt\ni\nm\ne\n\n\nd\ne\nf\n \nc\no\nn\ns\nu\nm\ne\nr\n(\nq\nu\ne\nu\ne\ns\n)\n:\n\n\n \n \n \n \nw\nh\ni\nl\ne\n \nT\nr\nu\ne\n:\n\n\n \n \n \n \n \n \n \n \nf\no\nr\n \nq\n \ni\nn\n \nq\nu\ne\nu\ne\ns\n:\n\n\n \n \n \n \n \n \n \n \n \n \n \n \ni\nf\n \nn\no\nt\n \nq\n.\ne\nm\np\nt\ny\n(\n)\n:\n\n\n \n \n \n \n \n \n \n \n \n \n \n \n \n \n \n \ni\nt\ne\nm\n \n=\n \nq\n.\ng\ne\nt\n(\n)\n\n\n \n \n \n \n \n \n \n \n \n \n \n \n \n \n \n \np\nr\ni\nn\nt\n(\n'\nG\no\nt\n:\n'\n,\n \ni\nt\ne\nm\n)\n\n\n\n\n \n \n \n \n \n \n \n \n#\n \nS\nl\ne\ne\np\n \nb\nr\ni\ne\nf\nl\ny\n \nt\no\n \na\nv\no\ni\nd\n \n1\n0\n0\n%\n \nC\nP\nU\n\n\n \n \n \n \n \n \n \n \nt\ni\nm\ne\n.\ns\nl\ne\ne\np\n(\n0\n.\n0\n1\n)\n\n"
      ]
    },
    {
      "cell_type": "markdown",
      "metadata": {},
      "source": [
        "\u8fd9\u6837\u505a\u5176\u5b9e\u4e0d\u5408\u7406\uff0c\u8fd8\u4f1a\u5f15\u5165\u5176\u4ed6\u7684\u6027\u80fd\u95ee\u9898\u3002\n\u4f8b\u5982\uff0c\u5982\u679c\u65b0\u7684\u6570\u636e\u88ab\u52a0\u5165\u5230\u4e00\u4e2a\u961f\u5217\u4e2d\uff0c\u81f3\u5c11\u8981\u82b110\u6beb\u79d2\u624d\u80fd\u88ab\u53d1\u73b0\u3002\n\u5982\u679c\u4f60\u4e4b\u524d\u7684\u8f6e\u8be2\u8fd8\u8981\u53bb\u8f6e\u8be2\u5176\u4ed6\u5bf9\u8c61\uff0c\u6bd4\u5982\u7f51\u7edc\u5957\u63a5\u5b57\u90a3\u8fd8\u4f1a\u6709\u66f4\u591a\u95ee\u9898\u3002\n\u4f8b\u5982\uff0c\u5982\u679c\u4f60\u60f3\u540c\u65f6\u8f6e\u8be2\u5957\u63a5\u5b57\u548c\u961f\u5217\uff0c\u4f60\u53ef\u80fd\u8981\u50cf\u4e0b\u9762\u8fd9\u6837\u4f7f\u7528\uff1a"
      ]
    },
    {
      "cell_type": "code",
      "execution_count": null,
      "metadata": {},
      "outputs": [],
      "source": [
        "i\nm\np\no\nr\nt\n \ns\ne\nl\ne\nc\nt\n\n\n\n\nd\ne\nf\n \ne\nv\ne\nn\nt\n_\nl\no\no\np\n(\ns\no\nc\nk\ne\nt\ns\n,\n \nq\nu\ne\nu\ne\ns\n)\n:\n\n\n \n \n \n \nw\nh\ni\nl\ne\n \nT\nr\nu\ne\n:\n\n\n \n \n \n \n \n \n \n \n#\n \np\no\nl\nl\ni\nn\ng\n \nw\ni\nt\nh\n \na\n \nt\ni\nm\ne\no\nu\nt\n\n\n \n \n \n \n \n \n \n \nc\na\nn\n_\nr\ne\na\nd\n,\n \n_\n,\n \n_\n \n=\n \ns\ne\nl\ne\nc\nt\n.\ns\ne\nl\ne\nc\nt\n(\ns\no\nc\nk\ne\nt\ns\n,\n \n[\n]\n,\n \n[\n]\n,\n \n0\n.\n0\n1\n)\n\n\n \n \n \n \n \n \n \n \nf\no\nr\n \nr\n \ni\nn\n \nc\na\nn\n_\nr\ne\na\nd\n:\n\n\n \n \n \n \n \n \n \n \n \n \n \n \nh\na\nn\nd\nl\ne\n_\nr\ne\na\nd\n(\nr\n)\n\n\n \n \n \n \n \n \n \n \nf\no\nr\n \nq\n \ni\nn\n \nq\nu\ne\nu\ne\ns\n:\n\n\n \n \n \n \n \n \n \n \n \n \n \n \ni\nf\n \nn\no\nt\n \nq\n.\ne\nm\np\nt\ny\n(\n)\n:\n\n\n \n \n \n \n \n \n \n \n \n \n \n \n \n \n \n \ni\nt\ne\nm\n \n=\n \nq\n.\ng\ne\nt\n(\n)\n\n\n \n \n \n \n \n \n \n \n \n \n \n \n \n \n \n \np\nr\ni\nn\nt\n(\n'\nG\no\nt\n:\n'\n,\n \ni\nt\ne\nm\n)\n\n"
      ]
    },
    {
      "cell_type": "markdown",
      "metadata": {},
      "source": [
        "\u8fd9\u4e2a\u65b9\u6848\u901a\u8fc7\u5c06\u961f\u5217\u548c\u5957\u63a5\u5b57\u7b49\u540c\u5bf9\u5f85\u6765\u89e3\u51b3\u4e86\u5927\u90e8\u5206\u7684\u95ee\u9898\u3002\n\u4e00\u4e2a\u5355\u72ec\u7684 select() \u8c03\u7528\u53ef\u88ab\u540c\u65f6\u7528\u6765\u8f6e\u8be2\u3002\n\u4f7f\u7528\u8d85\u65f6\u6216\u5176\u4ed6\u57fa\u4e8e\u65f6\u95f4\u7684\u673a\u5236\u6765\u6267\u884c\u5468\u671f\u6027\u68c0\u67e5\u5e76\u6ca1\u6709\u5fc5\u8981\u3002\n\u751a\u81f3\uff0c\u5982\u679c\u6570\u636e\u88ab\u52a0\u5165\u5230\u4e00\u4e2a\u961f\u5217\uff0c\u6d88\u8d39\u8005\u51e0\u4e4e\u53ef\u4ee5\u5b9e\u65f6\u7684\u88ab\u901a\u77e5\u3002\n\u5c3d\u7ba1\u4f1a\u6709\u4e00\u70b9\u70b9\u5e95\u5c42\u7684I/O\u635f\u8017\uff0c\u4f7f\u7528\u5b83\u901a\u5e38\u4f1a\u83b7\u5f97\u66f4\u597d\u7684\u54cd\u5e94\u65f6\u95f4\u5e76\u7b80\u5316\u7f16\u7a0b\u3002"
      ]
    },
    {
      "cell_type": "markdown",
      "metadata": {},
      "source": [
        "## 12.14 \u5728Unix\u7cfb\u7edf\u4e0a\u9762\u542f\u52a8\u5b88\u62a4\u8fdb\u7a0b\n"
      ]
    },
    {
      "cell_type": "markdown",
      "metadata": {},
      "source": [
        "### \u95ee\u9898\n"
      ]
    },
    {
      "cell_type": "markdown",
      "metadata": {},
      "source": [
        "\u4f60\u60f3\u7f16\u5199\u4e00\u4e2a\u4f5c\u4e3a\u4e00\u4e2a\u5728Unix\u6216\u7c7bUnix\u7cfb\u7edf\u4e0a\u9762\u8fd0\u884c\u7684\u5b88\u62a4\u8fdb\u7a0b\u8fd0\u884c\u7684\u7a0b\u5e8f\u3002"
      ]
    },
    {
      "cell_type": "markdown",
      "metadata": {},
      "source": [
        "### \u89e3\u51b3\u65b9\u6848\n"
      ]
    },
    {
      "cell_type": "markdown",
      "metadata": {},
      "source": [
        "\u521b\u5efa\u4e00\u4e2a\u6b63\u786e\u7684\u5b88\u62a4\u8fdb\u7a0b\u9700\u8981\u4e00\u4e2a\u7cbe\u786e\u7684\u7cfb\u7edf\u8c03\u7528\u5e8f\u5217\u4ee5\u53ca\u5bf9\u4e8e\u7ec6\u8282\u7684\u63a7\u5236\u3002\n\u4e0b\u9762\u7684\u4ee3\u7801\u5c55\u793a\u4e86\u600e\u6837\u5b9a\u4e49\u4e00\u4e2a\u5b88\u62a4\u8fdb\u7a0b\uff0c\u53ef\u4ee5\u542f\u52a8\u540e\u5f88\u5bb9\u6613\u7684\u505c\u6b62\u5b83\u3002"
      ]
    },
    {
      "cell_type": "code",
      "execution_count": null,
      "metadata": {},
      "outputs": [],
      "source": [
        "#\n!\n/\nu\ns\nr\n/\nb\ni\nn\n/\ne\nn\nv\n \np\ny\nt\nh\no\nn\n3\n\n\n#\n \nd\na\ne\nm\no\nn\n.\np\ny\n\n\n\n\ni\nm\np\no\nr\nt\n \no\ns\n\n\ni\nm\np\no\nr\nt\n \ns\ny\ns\n\n\n\n\ni\nm\np\no\nr\nt\n \na\nt\ne\nx\ni\nt\n\n\ni\nm\np\no\nr\nt\n \ns\ni\ng\nn\na\nl\n\n\n\n\nd\ne\nf\n \nd\na\ne\nm\no\nn\ni\nz\ne\n(\np\ni\nd\nf\ni\nl\ne\n,\n \n*\n,\n \ns\nt\nd\ni\nn\n=\n'\n/\nd\ne\nv\n/\nn\nu\nl\nl\n'\n,\n\n\n \n \n \n \n \n \n \n \n \n \n \n \n \n \n \n \n \n \n \n \n \n \n \n \n \n \ns\nt\nd\no\nu\nt\n=\n'\n/\nd\ne\nv\n/\nn\nu\nl\nl\n'\n,\n\n\n \n \n \n \n \n \n \n \n \n \n \n \n \n \n \n \n \n \n \n \n \n \n \n \n \n \ns\nt\nd\ne\nr\nr\n=\n'\n/\nd\ne\nv\n/\nn\nu\nl\nl\n'\n)\n:\n\n\n\n\n \n \n \n \ni\nf\n \no\ns\n.\np\na\nt\nh\n.\ne\nx\ni\ns\nt\ns\n(\np\ni\nd\nf\ni\nl\ne\n)\n:\n\n\n \n \n \n \n \n \n \n \nr\na\ni\ns\ne\n \nR\nu\nn\nt\ni\nm\ne\nE\nr\nr\no\nr\n(\n'\nA\nl\nr\ne\na\nd\ny\n \nr\nu\nn\nn\ni\nn\ng\n'\n)\n\n\n\n\n \n \n \n \n#\n \nF\ni\nr\ns\nt\n \nf\no\nr\nk\n \n(\nd\ne\nt\na\nc\nh\ne\ns\n \nf\nr\no\nm\n \np\na\nr\ne\nn\nt\n)\n\n\n \n \n \n \nt\nr\ny\n:\n\n\n \n \n \n \n \n \n \n \ni\nf\n \no\ns\n.\nf\no\nr\nk\n(\n)\n \n>\n \n0\n:\n\n\n \n \n \n \n \n \n \n \n \n \n \n \nr\na\ni\ns\ne\n \nS\ny\ns\nt\ne\nm\nE\nx\ni\nt\n(\n0\n)\n \n \n \n#\n \nP\na\nr\ne\nn\nt\n \ne\nx\ni\nt\n\n\n \n \n \n \ne\nx\nc\ne\np\nt\n \nO\nS\nE\nr\nr\no\nr\n \na\ns\n \ne\n:\n\n\n \n \n \n \n \n \n \n \nr\na\ni\ns\ne\n \nR\nu\nn\nt\ni\nm\ne\nE\nr\nr\no\nr\n(\n'\nf\no\nr\nk\n \n#\n1\n \nf\na\ni\nl\ne\nd\n.\n'\n)\n\n\n\n\n \n \n \n \no\ns\n.\nc\nh\nd\ni\nr\n(\n'\n/\n'\n)\n\n\n \n \n \n \no\ns\n.\nu\nm\na\ns\nk\n(\n0\n)\n\n\n \n \n \n \no\ns\n.\ns\ne\nt\ns\ni\nd\n(\n)\n\n\n \n \n \n \n#\n \nS\ne\nc\no\nn\nd\n \nf\no\nr\nk\n \n(\nr\ne\nl\ni\nn\nq\nu\ni\ns\nh\n \ns\ne\ns\ns\ni\no\nn\n \nl\ne\na\nd\ne\nr\ns\nh\ni\np\n)\n\n\n \n \n \n \nt\nr\ny\n:\n\n\n \n \n \n \n \n \n \n \ni\nf\n \no\ns\n.\nf\no\nr\nk\n(\n)\n \n>\n \n0\n:\n\n\n \n \n \n \n \n \n \n \n \n \n \n \nr\na\ni\ns\ne\n \nS\ny\ns\nt\ne\nm\nE\nx\ni\nt\n(\n0\n)\n\n\n \n \n \n \ne\nx\nc\ne\np\nt\n \nO\nS\nE\nr\nr\no\nr\n \na\ns\n \ne\n:\n\n\n \n \n \n \n \n \n \n \nr\na\ni\ns\ne\n \nR\nu\nn\nt\ni\nm\ne\nE\nr\nr\no\nr\n(\n'\nf\no\nr\nk\n \n#\n2\n \nf\na\ni\nl\ne\nd\n.\n'\n)\n\n\n\n\n \n \n \n \n#\n \nF\nl\nu\ns\nh\n \nI\n/\nO\n \nb\nu\nf\nf\ne\nr\ns\n\n\n \n \n \n \ns\ny\ns\n.\ns\nt\nd\no\nu\nt\n.\nf\nl\nu\ns\nh\n(\n)\n\n\n \n \n \n \ns\ny\ns\n.\ns\nt\nd\ne\nr\nr\n.\nf\nl\nu\ns\nh\n(\n)\n\n\n\n\n \n \n \n \n#\n \nR\ne\np\nl\na\nc\ne\n \nf\ni\nl\ne\n \nd\ne\ns\nc\nr\ni\np\nt\no\nr\ns\n \nf\no\nr\n \ns\nt\nd\ni\nn\n,\n \ns\nt\nd\no\nu\nt\n,\n \na\nn\nd\n \ns\nt\nd\ne\nr\nr\n\n\n \n \n \n \nw\ni\nt\nh\n \no\np\ne\nn\n(\ns\nt\nd\ni\nn\n,\n \n'\nr\nb\n'\n,\n \n0\n)\n \na\ns\n \nf\n:\n\n\n \n \n \n \n \n \n \n \no\ns\n.\nd\nu\np\n2\n(\nf\n.\nf\ni\nl\ne\nn\no\n(\n)\n,\n \ns\ny\ns\n.\ns\nt\nd\ni\nn\n.\nf\ni\nl\ne\nn\no\n(\n)\n)\n\n\n \n \n \n \nw\ni\nt\nh\n \no\np\ne\nn\n(\ns\nt\nd\no\nu\nt\n,\n \n'\na\nb\n'\n,\n \n0\n)\n \na\ns\n \nf\n:\n\n\n \n \n \n \n \n \n \n \no\ns\n.\nd\nu\np\n2\n(\nf\n.\nf\ni\nl\ne\nn\no\n(\n)\n,\n \ns\ny\ns\n.\ns\nt\nd\no\nu\nt\n.\nf\ni\nl\ne\nn\no\n(\n)\n)\n\n\n \n \n \n \nw\ni\nt\nh\n \no\np\ne\nn\n(\ns\nt\nd\ne\nr\nr\n,\n \n'\na\nb\n'\n,\n \n0\n)\n \na\ns\n \nf\n:\n\n\n \n \n \n \n \n \n \n \no\ns\n.\nd\nu\np\n2\n(\nf\n.\nf\ni\nl\ne\nn\no\n(\n)\n,\n \ns\ny\ns\n.\ns\nt\nd\ne\nr\nr\n.\nf\ni\nl\ne\nn\no\n(\n)\n)\n\n\n\n\n \n \n \n \n#\n \nW\nr\ni\nt\ne\n \nt\nh\ne\n \nP\nI\nD\n \nf\ni\nl\ne\n\n\n \n \n \n \nw\ni\nt\nh\n \no\np\ne\nn\n(\np\ni\nd\nf\ni\nl\ne\n,\n'\nw\n'\n)\n \na\ns\n \nf\n:\n\n\n \n \n \n \n \n \n \n \np\nr\ni\nn\nt\n(\no\ns\n.\ng\ne\nt\np\ni\nd\n(\n)\n,\nf\ni\nl\ne\n=\nf\n)\n\n\n\n\n \n \n \n \n#\n \nA\nr\nr\na\nn\ng\ne\n \nt\no\n \nh\na\nv\ne\n \nt\nh\ne\n \nP\nI\nD\n \nf\ni\nl\ne\n \nr\ne\nm\no\nv\ne\nd\n \no\nn\n \ne\nx\ni\nt\n/\ns\ni\ng\nn\na\nl\n\n\n \n \n \n \na\nt\ne\nx\ni\nt\n.\nr\ne\ng\ni\ns\nt\ne\nr\n(\nl\na\nm\nb\nd\na\n:\n \no\ns\n.\nr\ne\nm\no\nv\ne\n(\np\ni\nd\nf\ni\nl\ne\n)\n)\n\n\n\n\n \n \n \n \n#\n \nS\ni\ng\nn\na\nl\n \nh\na\nn\nd\nl\ne\nr\n \nf\no\nr\n \nt\ne\nr\nm\ni\nn\na\nt\ni\no\nn\n \n(\nr\ne\nq\nu\ni\nr\ne\nd\n)\n\n\n \n \n \n \nd\ne\nf\n \ns\ni\ng\nt\ne\nr\nm\n_\nh\na\nn\nd\nl\ne\nr\n(\ns\ni\ng\nn\no\n,\n \nf\nr\na\nm\ne\n)\n:\n\n\n \n \n \n \n \n \n \n \nr\na\ni\ns\ne\n \nS\ny\ns\nt\ne\nm\nE\nx\ni\nt\n(\n1\n)\n\n\n\n\n \n \n \n \ns\ni\ng\nn\na\nl\n.\ns\ni\ng\nn\na\nl\n(\ns\ni\ng\nn\na\nl\n.\nS\nI\nG\nT\nE\nR\nM\n,\n \ns\ni\ng\nt\ne\nr\nm\n_\nh\na\nn\nd\nl\ne\nr\n)\n\n\n\n\nd\ne\nf\n \nm\na\ni\nn\n(\n)\n:\n\n\n \n \n \n \ni\nm\np\no\nr\nt\n \nt\ni\nm\ne\n\n\n \n \n \n \ns\ny\ns\n.\ns\nt\nd\no\nu\nt\n.\nw\nr\ni\nt\ne\n(\n'\nD\na\ne\nm\no\nn\n \ns\nt\na\nr\nt\ne\nd\n \nw\ni\nt\nh\n \np\ni\nd\n \n{\n}\n\\\nn\n'\n.\nf\no\nr\nm\na\nt\n(\no\ns\n.\ng\ne\nt\np\ni\nd\n(\n)\n)\n)\n\n\n \n \n \n \nw\nh\ni\nl\ne\n \nT\nr\nu\ne\n:\n\n\n \n \n \n \n \n \n \n \ns\ny\ns\n.\ns\nt\nd\no\nu\nt\n.\nw\nr\ni\nt\ne\n(\n'\nD\na\ne\nm\no\nn\n \nA\nl\ni\nv\ne\n!\n \n{\n}\n\\\nn\n'\n.\nf\no\nr\nm\na\nt\n(\nt\ni\nm\ne\n.\nc\nt\ni\nm\ne\n(\n)\n)\n)\n\n\n \n \n \n \n \n \n \n \nt\ni\nm\ne\n.\ns\nl\ne\ne\np\n(\n1\n0\n)\n\n\n\n\ni\nf\n \n_\n_\nn\na\nm\ne\n_\n_\n \n=\n=\n \n'\n_\n_\nm\na\ni\nn\n_\n_\n'\n:\n\n\n \n \n \n \nP\nI\nD\nF\nI\nL\nE\n \n=\n \n'\n/\nt\nm\np\n/\nd\na\ne\nm\no\nn\n.\np\ni\nd\n'\n\n\n\n\n \n \n \n \ni\nf\n \nl\ne\nn\n(\ns\ny\ns\n.\na\nr\ng\nv\n)\n \n!\n=\n \n2\n:\n\n\n \n \n \n \n \n \n \n \np\nr\ni\nn\nt\n(\n'\nU\ns\na\ng\ne\n:\n \n{\n}\n \n[\ns\nt\na\nr\nt\n|\ns\nt\no\np\n]\n'\n.\nf\no\nr\nm\na\nt\n(\ns\ny\ns\n.\na\nr\ng\nv\n[\n0\n]\n)\n,\n \nf\ni\nl\ne\n=\ns\ny\ns\n.\ns\nt\nd\ne\nr\nr\n)\n\n\n \n \n \n \n \n \n \n \nr\na\ni\ns\ne\n \nS\ny\ns\nt\ne\nm\nE\nx\ni\nt\n(\n1\n)\n\n\n\n\n \n \n \n \ni\nf\n \ns\ny\ns\n.\na\nr\ng\nv\n[\n1\n]\n \n=\n=\n \n'\ns\nt\na\nr\nt\n'\n:\n\n\n \n \n \n \n \n \n \n \nt\nr\ny\n:\n\n\n \n \n \n \n \n \n \n \n \n \n \n \nd\na\ne\nm\no\nn\ni\nz\ne\n(\nP\nI\nD\nF\nI\nL\nE\n,\n\n\n \n \n \n \n \n \n \n \n \n \n \n \n \n \n \n \n \n \n \n \n \n \ns\nt\nd\no\nu\nt\n=\n'\n/\nt\nm\np\n/\nd\na\ne\nm\no\nn\n.\nl\no\ng\n'\n,\n\n\n \n \n \n \n \n \n \n \n \n \n \n \n \n \n \n \n \n \n \n \n \n \ns\nt\nd\ne\nr\nr\n=\n'\n/\nt\nm\np\n/\nd\na\nm\ne\no\nn\n.\nl\no\ng\n'\n)\n\n\n \n \n \n \n \n \n \n \ne\nx\nc\ne\np\nt\n \nR\nu\nn\nt\ni\nm\ne\nE\nr\nr\no\nr\n \na\ns\n \ne\n:\n\n\n \n \n \n \n \n \n \n \n \n \n \n \np\nr\ni\nn\nt\n(\ne\n,\n \nf\ni\nl\ne\n=\ns\ny\ns\n.\ns\nt\nd\ne\nr\nr\n)\n\n\n \n \n \n \n \n \n \n \n \n \n \n \nr\na\ni\ns\ne\n \nS\ny\ns\nt\ne\nm\nE\nx\ni\nt\n(\n1\n)\n\n\n\n\n \n \n \n \n \n \n \n \nm\na\ni\nn\n(\n)\n\n\n\n\n \n \n \n \ne\nl\ni\nf\n \ns\ny\ns\n.\na\nr\ng\nv\n[\n1\n]\n \n=\n=\n \n'\ns\nt\no\np\n'\n:\n\n\n \n \n \n \n \n \n \n \ni\nf\n \no\ns\n.\np\na\nt\nh\n.\ne\nx\ni\ns\nt\ns\n(\nP\nI\nD\nF\nI\nL\nE\n)\n:\n\n\n \n \n \n \n \n \n \n \n \n \n \n \nw\ni\nt\nh\n \no\np\ne\nn\n(\nP\nI\nD\nF\nI\nL\nE\n)\n \na\ns\n \nf\n:\n\n\n \n \n \n \n \n \n \n \n \n \n \n \n \n \n \n \no\ns\n.\nk\ni\nl\nl\n(\ni\nn\nt\n(\nf\n.\nr\ne\na\nd\n(\n)\n)\n,\n \ns\ni\ng\nn\na\nl\n.\nS\nI\nG\nT\nE\nR\nM\n)\n\n\n \n \n \n \n \n \n \n \ne\nl\ns\ne\n:\n\n\n \n \n \n \n \n \n \n \n \n \n \n \np\nr\ni\nn\nt\n(\n'\nN\no\nt\n \nr\nu\nn\nn\ni\nn\ng\n'\n,\n \nf\ni\nl\ne\n=\ns\ny\ns\n.\ns\nt\nd\ne\nr\nr\n)\n\n\n \n \n \n \n \n \n \n \n \n \n \n \nr\na\ni\ns\ne\n \nS\ny\ns\nt\ne\nm\nE\nx\ni\nt\n(\n1\n)\n\n\n\n\n \n \n \n \ne\nl\ns\ne\n:\n\n\n \n \n \n \n \n \n \n \np\nr\ni\nn\nt\n(\n'\nU\nn\nk\nn\no\nw\nn\n \nc\no\nm\nm\na\nn\nd\n \n{\n!\nr\n}\n'\n.\nf\no\nr\nm\na\nt\n(\ns\ny\ns\n.\na\nr\ng\nv\n[\n1\n]\n)\n,\n \nf\ni\nl\ne\n=\ns\ny\ns\n.\ns\nt\nd\ne\nr\nr\n)\n\n\n \n \n \n \n \n \n \n \nr\na\ni\ns\ne\n \nS\ny\ns\nt\ne\nm\nE\nx\ni\nt\n(\n1\n)\n\n"
      ]
    },
    {
      "cell_type": "markdown",
      "metadata": {},
      "source": [
        "\u8981\u542f\u52a8\u8fd9\u4e2a\u5b88\u62a4\u8fdb\u7a0b\uff0c\u7528\u6237\u9700\u8981\u4f7f\u7528\u5982\u4e0b\u7684\u547d\u4ee4\uff1a"
      ]
    },
    {
      "cell_type": "code",
      "execution_count": null,
      "metadata": {},
      "outputs": [],
      "source": [
        "b\na\ns\nh\n \n%\n \nd\na\ne\nm\no\nn\n.\np\ny\n \ns\nt\na\nr\nt\n\n\nb\na\ns\nh\n \n%\n \nc\na\nt\n \n/\nt\nm\np\n/\nd\na\ne\nm\no\nn\n.\np\ni\nd\n\n\n2\n8\n8\n2\n\n\nb\na\ns\nh\n \n%\n \nt\na\ni\nl\n \n-\nf\n \n/\nt\nm\np\n/\nd\na\ne\nm\no\nn\n.\nl\no\ng\n\n\nD\na\ne\nm\no\nn\n \ns\nt\na\nr\nt\ne\nd\n \nw\ni\nt\nh\n \np\ni\nd\n \n2\n8\n8\n2\n\n\nD\na\ne\nm\no\nn\n \nA\nl\ni\nv\ne\n!\n \nF\nr\ni\n \nO\nc\nt\n \n1\n2\n \n1\n3\n:\n4\n5\n:\n3\n7\n \n2\n0\n1\n2\n\n\nD\na\ne\nm\no\nn\n \nA\nl\ni\nv\ne\n!\n \nF\nr\ni\n \nO\nc\nt\n \n1\n2\n \n1\n3\n:\n4\n5\n:\n4\n7\n \n2\n0\n1\n2\n\n\n.\n.\n.\n\n"
      ]
    },
    {
      "cell_type": "markdown",
      "metadata": {},
      "source": [
        "\u5b88\u62a4\u8fdb\u7a0b\u53ef\u4ee5\u5b8c\u5168\u5728\u540e\u53f0\u8fd0\u884c\uff0c\u56e0\u6b64\u8fd9\u4e2a\u547d\u4ee4\u4f1a\u7acb\u5373\u8fd4\u56de\u3002\n\u4e0d\u8fc7\uff0c\u4f60\u53ef\u4ee5\u50cf\u4e0a\u9762\u90a3\u6837\u67e5\u770b\u4e0e\u5b83\u76f8\u5173\u7684pid\u6587\u4ef6\u548c\u65e5\u5fd7\u3002\u8981\u505c\u6b62\u8fd9\u4e2a\u5b88\u62a4\u8fdb\u7a0b\uff0c\u4f7f\u7528\uff1a"
      ]
    },
    {
      "cell_type": "code",
      "execution_count": null,
      "metadata": {},
      "outputs": [],
      "source": [
        "b\na\ns\nh\n \n%\n \nd\na\ne\nm\no\nn\n.\np\ny\n \ns\nt\no\np\n\n\nb\na\ns\nh\n \n%\n\n"
      ]
    },
    {
      "cell_type": "markdown",
      "metadata": {},
      "source": [
        "### \u8ba8\u8bba\n"
      ]
    },
    {
      "cell_type": "markdown",
      "metadata": {},
      "source": [
        "\u672c\u8282\u5b9a\u4e49\u4e86\u4e00\u4e2a\u51fd\u6570 daemonize() \uff0c\u5728\u7a0b\u5e8f\u542f\u52a8\u65f6\u88ab\u8c03\u7528\u4f7f\u5f97\u7a0b\u5e8f\u4ee5\u4e00\u4e2a\u5b88\u62a4\u8fdb\u7a0b\u6765\u8fd0\u884c\u3002\ndaemonize() \u51fd\u6570\u53ea\u63a5\u53d7\u5173\u952e\u5b57\u53c2\u6570\uff0c\u8fd9\u6837\u7684\u8bdd\u53ef\u9009\u53c2\u6570\u5728\u88ab\u4f7f\u7528\u65f6\u5c31\u66f4\u6e05\u6670\u4e86\u3002\n\u5b83\u4f1a\u5f3a\u5236\u7528\u6237\u50cf\u4e0b\u9762\u8fd9\u6837\u4f7f\u7528\u5b83\uff1a"
      ]
    },
    {
      "cell_type": "code",
      "execution_count": null,
      "metadata": {},
      "outputs": [],
      "source": [
        "d\na\ne\nm\no\nn\ni\nz\ne\n(\n'\nd\na\ne\nm\no\nn\n.\np\ni\nd\n'\n,\n\n\n \n \n \n \n \n \n \n \n \n \ns\nt\nd\ni\nn\n=\n'\n/\nd\ne\nv\n/\nn\nu\nl\nl\n,\n\n\n \n \n \n \n \n \n \n \n \n \ns\nt\nd\no\nu\nt\n=\n'\n/\nt\nm\np\n/\nd\na\ne\nm\no\nn\n.\nl\no\ng\n'\n,\n\n\n \n \n \n \n \n \n \n \n \n \ns\nt\nd\ne\nr\nr\n=\n'\n/\nt\nm\np\n/\nd\na\ne\nm\no\nn\n.\nl\no\ng\n'\n)\n\n"
      ]
    },
    {
      "cell_type": "markdown",
      "metadata": {},
      "source": [
        "\u800c\u4e0d\u662f\u50cf\u4e0b\u9762\u8fd9\u6837\u542b\u7cca\u4e0d\u6e05\u7684\u8c03\u7528\uff1a"
      ]
    },
    {
      "cell_type": "code",
      "execution_count": null,
      "metadata": {},
      "outputs": [],
      "source": [
        "#\n \nI\nl\nl\ne\ng\na\nl\n.\n \nM\nu\ns\nt\n \nu\ns\ne\n \nk\ne\ny\nw\no\nr\nd\n \na\nr\ng\nu\nm\ne\nn\nt\ns\n\n\nd\na\ne\nm\no\nn\ni\nz\ne\n(\n'\nd\na\ne\nm\no\nn\n.\np\ni\nd\n'\n,\n\n\n \n \n \n \n \n \n \n \n \n \n'\n/\nd\ne\nv\n/\nn\nu\nl\nl\n'\n,\n \n'\n/\nt\nm\np\n/\nd\na\ne\nm\no\nn\n.\nl\no\ng\n'\n,\n'\n/\nt\nm\np\n/\nd\na\ne\nm\no\nn\n.\nl\no\ng\n'\n)\n\n"
      ]
    },
    {
      "cell_type": "markdown",
      "metadata": {},
      "source": [
        "\u521b\u5efa\u4e00\u4e2a\u5b88\u62a4\u8fdb\u7a0b\u7684\u6b65\u9aa4\u770b\u4e0a\u53bb\u4e0d\u662f\u5f88\u6613\u61c2\uff0c\u4f46\u662f\u5927\u4f53\u601d\u60f3\u662f\u8fd9\u6837\u7684\uff0c\n\u9996\u5148\uff0c\u4e00\u4e2a\u5b88\u62a4\u8fdb\u7a0b\u5fc5\u987b\u8981\u4ece\u7236\u8fdb\u7a0b\u4e2d\u8131\u79bb\u3002\n\u8fd9\u662f\u7531 os.fork() \u64cd\u4f5c\u6765\u5b8c\u6210\u7684\uff0c\u5e76\u7acb\u5373\u88ab\u7236\u8fdb\u7a0b\u7ec8\u6b62\u3002"
      ]
    },
    {
      "cell_type": "markdown",
      "metadata": {},
      "source": [
        "\u5728\u5b50\u8fdb\u7a0b\u53d8\u6210\u5b64\u513f\u540e\uff0c\u8c03\u7528 os.setsid() \u521b\u5efa\u4e86\u4e00\u4e2a\u5168\u65b0\u7684\u8fdb\u7a0b\u4f1a\u8bdd\uff0c\u5e76\u8bbe\u7f6e\u5b50\u8fdb\u7a0b\u4e3a\u9996\u9886\u3002\n\u5b83\u4f1a\u8bbe\u7f6e\u8fd9\u4e2a\u5b50\u8fdb\u7a0b\u4e3a\u65b0\u7684\u8fdb\u7a0b\u7ec4\u7684\u9996\u9886\uff0c\u5e76\u786e\u4fdd\u4e0d\u4f1a\u518d\u6709\u63a7\u5236\u7ec8\u7aef\u3002\n\u5982\u679c\u8fd9\u4e9b\u542c\u4e0a\u53bb\u592a\u9b54\u5e7b\uff0c\u56e0\u4e3a\u5b83\u9700\u8981\u5c06\u5b88\u62a4\u8fdb\u7a0b\u540c\u7ec8\u7aef\u5206\u79bb\u5f00\u5e76\u786e\u4fdd\u4fe1\u53f7\u673a\u5236\u5bf9\u5b83\u4e0d\u8d77\u4f5c\u7528\u3002\n\u8c03\u7528 os.chdir() \u548c os.umask(0) \u6539\u53d8\u4e86\u5f53\u524d\u5de5\u4f5c\u76ee\u5f55\u5e76\u91cd\u7f6e\u6587\u4ef6\u6743\u9650\u63a9\u7801\u3002\n\u4fee\u6539\u76ee\u5f55\u901a\u5e38\u662f\u4e2a\u597d\u4e3b\u610f\uff0c\u56e0\u4e3a\u8fd9\u6837\u53ef\u4ee5\u4f7f\u5f97\u5b83\u4e0d\u518d\u5de5\u4f5c\u5728\u88ab\u542f\u52a8\u65f6\u7684\u76ee\u5f55\u3002"
      ]
    },
    {
      "cell_type": "markdown",
      "metadata": {},
      "source": [
        "\u53e6\u5916\u4e00\u4e2a\u8c03\u7528 os.fork() \u5728\u8fd9\u91cc\u66f4\u52a0\u795e\u79d8\u70b9\u3002\n\u8fd9\u4e00\u6b65\u4f7f\u5f97\u5b88\u62a4\u8fdb\u7a0b\u5931\u53bb\u4e86\u83b7\u53d6\u65b0\u7684\u63a7\u5236\u7ec8\u7aef\u7684\u80fd\u529b\u5e76\u4e14\u8ba9\u5b83\u66f4\u52a0\u72ec\u7acb\n\uff08\u672c\u8d28\u4e0a\uff0c\u8be5daemon\u653e\u5f03\u4e86\u5b83\u7684\u4f1a\u8bdd\u9996\u9886\u4f4e\u4f4d\uff0c\u56e0\u6b64\u518d\u4e5f\u6ca1\u6709\u6743\u9650\u53bb\u6253\u5f00\u63a7\u5236\u7ec8\u7aef\u4e86\uff09\u3002\n\u5c3d\u7ba1\u4f60\u53ef\u4ee5\u5ffd\u7565\u8fd9\u4e00\u6b65\uff0c\u4f46\u662f\u6700\u597d\u4e0d\u8981\u8fd9\u4e48\u505a\u3002"
      ]
    },
    {
      "cell_type": "markdown",
      "metadata": {},
      "source": [
        "\u4e00\u65e6\u5b88\u62a4\u8fdb\u7a0b\u88ab\u6b63\u786e\u7684\u5206\u79bb\uff0c\u5b83\u4f1a\u91cd\u65b0\u521d\u59cb\u5316\u6807\u51c6I/O\u6d41\u6307\u5411\u7528\u6237\u6307\u5b9a\u7684\u6587\u4ef6\u3002\n\u8fd9\u4e00\u90e8\u5206\u6709\u70b9\u96be\u61c2\u3002\u8ddf\u6807\u51c6I/O\u6d41\u76f8\u5173\u7684\u6587\u4ef6\u5bf9\u8c61\u7684\u5f15\u7528\u5728\u89e3\u91ca\u5668\u4e2d\u591a\u4e2a\u5730\u65b9\u88ab\u627e\u5230\n\uff08sys.stdout, sys.__stdout__\u7b49\uff09\u3002\n\u4ec5\u4ec5\u7b80\u5355\u7684\u5173\u95ed sys.stdout \u5e76\u91cd\u65b0\u6307\u5b9a\u5b83\u662f\u884c\u4e0d\u901a\u7684\uff0c\n\u56e0\u4e3a\u6ca1\u529e\u6cd5\u77e5\u9053\u5b83\u662f\u5426\u5168\u90e8\u90fd\u662f\u7528\u7684\u662f sys.stdout \u3002\n\u8fd9\u91cc\uff0c\u6211\u4eec\u6253\u5f00\u4e86\u4e00\u4e2a\u5355\u72ec\u7684\u6587\u4ef6\u5bf9\u8c61\uff0c\u5e76\u8c03\u7528 os.dup2() \uff0c\n\u7528\u5b83\u6765\u4ee3\u66ff\u88ab sys.stdout \u4f7f\u7528\u7684\u6587\u4ef6\u63cf\u8ff0\u7b26\u3002\n\u8fd9\u6837\uff0csys.stdout \u4f7f\u7528\u7684\u539f\u59cb\u6587\u4ef6\u4f1a\u88ab\u5173\u95ed\u5e76\u7531\u65b0\u7684\u6765\u66ff\u6362\u3002\n\u8fd8\u8981\u5f3a\u8c03\u7684\u662f\u4efb\u4f55\u7528\u4e8e\u6587\u4ef6\u7f16\u7801\u6216\u6587\u672c\u5904\u7406\u7684\u6807\u51c6I/O\u6d41\u8fd8\u4f1a\u4fdd\u7559\u539f\u72b6\u3002"
      ]
    },
    {
      "cell_type": "markdown",
      "metadata": {},
      "source": [
        "\u5b88\u62a4\u8fdb\u7a0b\u7684\u4e00\u4e2a\u901a\u5e38\u5b9e\u8df5\u662f\u5728\u4e00\u4e2a\u6587\u4ef6\u4e2d\u5199\u5165\u8fdb\u7a0bID\uff0c\u53ef\u4ee5\u88ab\u5176\u4ed6\u7a0b\u5e8f\u540e\u9762\u4f7f\u7528\u5230\u3002\ndaemonize() \u51fd\u6570\u7684\u6700\u540e\u90e8\u5206\u5199\u4e86\u8fd9\u4e2a\u6587\u4ef6\uff0c\u4f46\u662f\u5728\u7a0b\u5e8f\u7ec8\u6b62\u65f6\u5220\u9664\u4e86\u5b83\u3002\natexit.register() \u51fd\u6570\u6ce8\u518c\u4e86\u4e00\u4e2a\u51fd\u6570\u5728Python\u89e3\u91ca\u5668\u7ec8\u6b62\u65f6\u6267\u884c\u3002\n\u4e00\u4e2a\u5bf9\u4e8eSIGTERM\u7684\u4fe1\u53f7\u5904\u7406\u5668\u7684\u5b9a\u4e49\u540c\u6837\u9700\u8981\u88ab\u4f18\u96c5\u7684\u5173\u95ed\u3002\n\u4fe1\u53f7\u5904\u7406\u5668\u7b80\u5355\u7684\u629b\u51fa\u4e86 SystemExit() \u5f02\u5e38\u3002\n\u6216\u8bb8\u8fd9\u4e00\u6b65\u770b\u4e0a\u53bb\u6ca1\u5fc5\u8981\uff0c\u4f46\u662f\u6ca1\u6709\u5b83\uff0c\n\u7ec8\u6b62\u4fe1\u53f7\u4f1a\u4f7f\u5f97\u4e0d\u6267\u884c atexit.register() \u6ce8\u518c\u7684\u6e05\u7406\u64cd\u4f5c\u7684\u65f6\u5019\u5c31\u6740\u6389\u4e86\u89e3\u91ca\u5668\u3002\n\u4e00\u4e2a\u6740\u6389\u8fdb\u7a0b\u7684\u4f8b\u5b50\u4ee3\u7801\u53ef\u4ee5\u5728\u7a0b\u5e8f\u6700\u540e\u7684 stop \u547d\u4ee4\u7684\u64cd\u4f5c\u4e2d\u770b\u5230\u3002"
      ]
    },
    {
      "cell_type": "markdown",
      "metadata": {},
      "source": [
        "\u66f4\u591a\u5173\u4e8e\u7f16\u5199\u5b88\u62a4\u8fdb\u7a0b\u7684\u4fe1\u606f\u53ef\u4ee5\u67e5\u770b\u300aUNIX \u73af\u5883\u9ad8\u7ea7\u7f16\u7a0b\u300b, \u7b2c\u4e8c\u7248\nby W. Richard Stevens and Stephen A. Rago (Addison-Wesley, 2005)\u3002\n\u5c3d\u7ba1\u5b83\u662f\u5173\u6ce8\u4e0eC\u8bed\u8a00\u7f16\u7a0b\uff0c\u4f46\u662f\u6240\u6709\u7684\u5185\u5bb9\u90fd\u9002\u7528\u4e8ePython\uff0c\n\u56e0\u4e3a\u6240\u6709\u9700\u8981\u7684POSIX\u51fd\u6570\u90fd\u53ef\u4ee5\u5728\u6807\u51c6\u5e93\u4e2d\u627e\u5230\u3002"
      ]
    }
  ],
  "metadata": {
    "kernelspec": {
      "display_name": "Python 3",
      "language": "python",
      "name": "python3"
    },
    "language_info": {
      "codemirror_mode": {
        "name": "ipython",
        "version": 3
      },
      "file_extension": ".py",
      "mimetype": "text/x-python",
      "name": "python",
      "nbconvert_exporter": "python",
      "pygments_lexer": "ipython3",
      "version": "3.7.1"
    },
    "toc": {
      "base_numbering": 1,
      "nav_menu": {},
      "number_sections": true,
      "sideBar": true,
      "skip_h1_title": true,
      "title_cell": "Table of Contents",
      "title_sidebar": "Contents",
      "toc_cell": false,
      "toc_position": {},
      "toc_section_display": true,
      "toc_window_display": true
    }
  },
  "nbformat": 4,
  "nbformat_minor": 2
}